{
  "cells": [
    {
      "cell_type": "markdown",
      "metadata": {
        "id": "view-in-github",
        "colab_type": "text"
      },
      "source": [
        "<a href=\"https://colab.research.google.com/github/Ryzhikov114/Portfolio/blob/main/scoring_bank_debt.ipynb\" target=\"_parent\"><img src=\"https://colab.research.google.com/assets/colab-badge.svg\" alt=\"Open In Colab\"/></a>"
      ]
    },
    {
      "cell_type": "markdown",
      "id": "dc4b66f8",
      "metadata": {
        "id": "dc4b66f8"
      },
      "source": [
        "# Исследование надёжности заёмщиков"
      ]
    },
    {
      "cell_type": "markdown",
      "source": [
        "## Описание проекта:\n",
        "Заказчик — кредитный отдел банка. Нужно разобраться, какие факторы влияют на факт погашения кредита в срок. Входные данные от банка — статистика о платёжеспособности клиентов."
      ],
      "metadata": {
        "id": "QRzyrjXzlNVN"
      },
      "id": "QRzyrjXzlNVN"
    },
    {
      "cell_type": "markdown",
      "source": [
        "https://drive.google.com/file/d/1q8kXFmg8klXBNjXTYjuifJqouG0Ny4q4/view?usp=sharing"
      ],
      "metadata": {
        "id": "KQP6OwfVp9w0"
      },
      "id": "KQP6OwfVp9w0"
    },
    {
      "cell_type": "code",
      "source": [
        "!gdown 1q8kXFmg8klXBNjXTYjuifJqouG0Ny4q4"
      ],
      "metadata": {
        "colab": {
          "base_uri": "https://localhost:8080/"
        },
        "id": "WW1YsLZKqCDo",
        "outputId": "9b43304f-9a52-49bb-ca82-d4178173ab42"
      },
      "execution_count": 150,
      "outputs": [
        {
          "output_type": "stream",
          "name": "stdout",
          "text": [
            "Downloading...\n",
            "From: https://drive.google.com/uc?id=1q8kXFmg8klXBNjXTYjuifJqouG0Ny4q4\n",
            "To: /content/data.csv\n",
            "\r  0% 0.00/3.32M [00:00<?, ?B/s]\r100% 3.32M/3.32M [00:00<00:00, 171MB/s]\n"
          ]
        }
      ],
      "id": "WW1YsLZKqCDo"
    },
    {
      "cell_type": "markdown",
      "source": [
        "- children — количество детей в семье\n",
        "- days_employed — общий трудовой стаж в днях\n",
        "- dob_years — возраст клиента в годах\n",
        "- education — уровень образования клиента\n",
        "- education_id — идентификатор уровня образования\n",
        "- family_status — семейное положение\n",
        "- family_status_id — идентификатор семейного положения\n",
        "- gender — пол клиента\n",
        "- income_type — тип занятости\n",
        "- debt — имел ли задолженность по возврату кредитов\n",
        "- total_income — ежемесячный доход\n",
        "- purpose — цель получения кредита\n",
        "\n"
      ],
      "metadata": {
        "id": "HbCBHQgV50Sx"
      },
      "id": "HbCBHQgV50Sx"
    },
    {
      "cell_type": "code",
      "execution_count": 151,
      "id": "effd3050",
      "metadata": {
        "id": "effd3050"
      },
      "outputs": [],
      "source": [
        "import pandas as pd\n",
        "import numpy as np"
      ]
    },
    {
      "cell_type": "code",
      "execution_count": 152,
      "id": "985a88a8",
      "metadata": {
        "id": "985a88a8"
      },
      "outputs": [],
      "source": [
        "df = pd.read_csv('/content/data.csv')"
      ]
    },
    {
      "cell_type": "code",
      "execution_count": 205,
      "id": "a0317cfd",
      "metadata": {
        "colab": {
          "base_uri": "https://localhost:8080/",
          "height": 357
        },
        "id": "a0317cfd",
        "outputId": "06d54c2c-63c9-4ee3-d425-01ae1bb09a22"
      },
      "outputs": [
        {
          "output_type": "execute_result",
          "data": {
            "text/plain": [
              "   children  days_employed  dob_years education  education_id  \\\n",
              "0         1   -8437.673028         42    высшее             0   \n",
              "1         1   -4024.803754         36   среднее             1   \n",
              "2         0   -5623.422610         33   среднее             1   \n",
              "3         3   -4124.747207         32   среднее             1   \n",
              "4         0  340266.072047         53   среднее             1   \n",
              "\n",
              "      family_status  family_status_id gender income_type  debt  total_income  \\\n",
              "0   женат / замужем                 0      f   сотрудник     0        253875   \n",
              "1   женат / замужем                 0      f   сотрудник     0        112080   \n",
              "2   женат / замужем                 0      m   сотрудник     0        145885   \n",
              "3   женат / замужем                 0      m   сотрудник     0        267628   \n",
              "4  гражданский брак                 1      f   пенсионер     0        158616   \n",
              "\n",
              "                      purpose children_category education_category  \\\n",
              "0               покупка жилья     have_children         university   \n",
              "1     приобретение автомобиля     have_children             school   \n",
              "2               покупка жилья       no_children             school   \n",
              "3  дополнительное образование     have_children             school   \n",
              "4             сыграть свадьбу       no_children             school   \n",
              "\n",
              "  family_status_category income_type_category  \n",
              "0             in_wedding             have_job  \n",
              "1             in_wedding             have_job  \n",
              "2             in_wedding             have_job  \n",
              "3             in_wedding             have_job  \n",
              "4             in_wedding           unemployed  "
            ],
            "text/html": [
              "\n",
              "  <div id=\"df-f6c82d35-15da-4190-91b4-327dfb912f00\">\n",
              "    <div class=\"colab-df-container\">\n",
              "      <div>\n",
              "<style scoped>\n",
              "    .dataframe tbody tr th:only-of-type {\n",
              "        vertical-align: middle;\n",
              "    }\n",
              "\n",
              "    .dataframe tbody tr th {\n",
              "        vertical-align: top;\n",
              "    }\n",
              "\n",
              "    .dataframe thead th {\n",
              "        text-align: right;\n",
              "    }\n",
              "</style>\n",
              "<table border=\"1\" class=\"dataframe\">\n",
              "  <thead>\n",
              "    <tr style=\"text-align: right;\">\n",
              "      <th></th>\n",
              "      <th>children</th>\n",
              "      <th>days_employed</th>\n",
              "      <th>dob_years</th>\n",
              "      <th>education</th>\n",
              "      <th>education_id</th>\n",
              "      <th>family_status</th>\n",
              "      <th>family_status_id</th>\n",
              "      <th>gender</th>\n",
              "      <th>income_type</th>\n",
              "      <th>debt</th>\n",
              "      <th>total_income</th>\n",
              "      <th>purpose</th>\n",
              "      <th>children_category</th>\n",
              "      <th>education_category</th>\n",
              "      <th>family_status_category</th>\n",
              "      <th>income_type_category</th>\n",
              "    </tr>\n",
              "  </thead>\n",
              "  <tbody>\n",
              "    <tr>\n",
              "      <th>0</th>\n",
              "      <td>1</td>\n",
              "      <td>-8437.673028</td>\n",
              "      <td>42</td>\n",
              "      <td>высшее</td>\n",
              "      <td>0</td>\n",
              "      <td>женат / замужем</td>\n",
              "      <td>0</td>\n",
              "      <td>f</td>\n",
              "      <td>сотрудник</td>\n",
              "      <td>0</td>\n",
              "      <td>253875</td>\n",
              "      <td>покупка жилья</td>\n",
              "      <td>have_children</td>\n",
              "      <td>university</td>\n",
              "      <td>in_wedding</td>\n",
              "      <td>have_job</td>\n",
              "    </tr>\n",
              "    <tr>\n",
              "      <th>1</th>\n",
              "      <td>1</td>\n",
              "      <td>-4024.803754</td>\n",
              "      <td>36</td>\n",
              "      <td>среднее</td>\n",
              "      <td>1</td>\n",
              "      <td>женат / замужем</td>\n",
              "      <td>0</td>\n",
              "      <td>f</td>\n",
              "      <td>сотрудник</td>\n",
              "      <td>0</td>\n",
              "      <td>112080</td>\n",
              "      <td>приобретение автомобиля</td>\n",
              "      <td>have_children</td>\n",
              "      <td>school</td>\n",
              "      <td>in_wedding</td>\n",
              "      <td>have_job</td>\n",
              "    </tr>\n",
              "    <tr>\n",
              "      <th>2</th>\n",
              "      <td>0</td>\n",
              "      <td>-5623.422610</td>\n",
              "      <td>33</td>\n",
              "      <td>среднее</td>\n",
              "      <td>1</td>\n",
              "      <td>женат / замужем</td>\n",
              "      <td>0</td>\n",
              "      <td>m</td>\n",
              "      <td>сотрудник</td>\n",
              "      <td>0</td>\n",
              "      <td>145885</td>\n",
              "      <td>покупка жилья</td>\n",
              "      <td>no_children</td>\n",
              "      <td>school</td>\n",
              "      <td>in_wedding</td>\n",
              "      <td>have_job</td>\n",
              "    </tr>\n",
              "    <tr>\n",
              "      <th>3</th>\n",
              "      <td>3</td>\n",
              "      <td>-4124.747207</td>\n",
              "      <td>32</td>\n",
              "      <td>среднее</td>\n",
              "      <td>1</td>\n",
              "      <td>женат / замужем</td>\n",
              "      <td>0</td>\n",
              "      <td>m</td>\n",
              "      <td>сотрудник</td>\n",
              "      <td>0</td>\n",
              "      <td>267628</td>\n",
              "      <td>дополнительное образование</td>\n",
              "      <td>have_children</td>\n",
              "      <td>school</td>\n",
              "      <td>in_wedding</td>\n",
              "      <td>have_job</td>\n",
              "    </tr>\n",
              "    <tr>\n",
              "      <th>4</th>\n",
              "      <td>0</td>\n",
              "      <td>340266.072047</td>\n",
              "      <td>53</td>\n",
              "      <td>среднее</td>\n",
              "      <td>1</td>\n",
              "      <td>гражданский брак</td>\n",
              "      <td>1</td>\n",
              "      <td>f</td>\n",
              "      <td>пенсионер</td>\n",
              "      <td>0</td>\n",
              "      <td>158616</td>\n",
              "      <td>сыграть свадьбу</td>\n",
              "      <td>no_children</td>\n",
              "      <td>school</td>\n",
              "      <td>in_wedding</td>\n",
              "      <td>unemployed</td>\n",
              "    </tr>\n",
              "  </tbody>\n",
              "</table>\n",
              "</div>\n",
              "      <button class=\"colab-df-convert\" onclick=\"convertToInteractive('df-f6c82d35-15da-4190-91b4-327dfb912f00')\"\n",
              "              title=\"Convert this dataframe to an interactive table.\"\n",
              "              style=\"display:none;\">\n",
              "        \n",
              "  <svg xmlns=\"http://www.w3.org/2000/svg\" height=\"24px\"viewBox=\"0 0 24 24\"\n",
              "       width=\"24px\">\n",
              "    <path d=\"M0 0h24v24H0V0z\" fill=\"none\"/>\n",
              "    <path d=\"M18.56 5.44l.94 2.06.94-2.06 2.06-.94-2.06-.94-.94-2.06-.94 2.06-2.06.94zm-11 1L8.5 8.5l.94-2.06 2.06-.94-2.06-.94L8.5 2.5l-.94 2.06-2.06.94zm10 10l.94 2.06.94-2.06 2.06-.94-2.06-.94-.94-2.06-.94 2.06-2.06.94z\"/><path d=\"M17.41 7.96l-1.37-1.37c-.4-.4-.92-.59-1.43-.59-.52 0-1.04.2-1.43.59L10.3 9.45l-7.72 7.72c-.78.78-.78 2.05 0 2.83L4 21.41c.39.39.9.59 1.41.59.51 0 1.02-.2 1.41-.59l7.78-7.78 2.81-2.81c.8-.78.8-2.07 0-2.86zM5.41 20L4 18.59l7.72-7.72 1.47 1.35L5.41 20z\"/>\n",
              "  </svg>\n",
              "      </button>\n",
              "      \n",
              "  <style>\n",
              "    .colab-df-container {\n",
              "      display:flex;\n",
              "      flex-wrap:wrap;\n",
              "      gap: 12px;\n",
              "    }\n",
              "\n",
              "    .colab-df-convert {\n",
              "      background-color: #E8F0FE;\n",
              "      border: none;\n",
              "      border-radius: 50%;\n",
              "      cursor: pointer;\n",
              "      display: none;\n",
              "      fill: #1967D2;\n",
              "      height: 32px;\n",
              "      padding: 0 0 0 0;\n",
              "      width: 32px;\n",
              "    }\n",
              "\n",
              "    .colab-df-convert:hover {\n",
              "      background-color: #E2EBFA;\n",
              "      box-shadow: 0px 1px 2px rgba(60, 64, 67, 0.3), 0px 1px 3px 1px rgba(60, 64, 67, 0.15);\n",
              "      fill: #174EA6;\n",
              "    }\n",
              "\n",
              "    [theme=dark] .colab-df-convert {\n",
              "      background-color: #3B4455;\n",
              "      fill: #D2E3FC;\n",
              "    }\n",
              "\n",
              "    [theme=dark] .colab-df-convert:hover {\n",
              "      background-color: #434B5C;\n",
              "      box-shadow: 0px 1px 3px 1px rgba(0, 0, 0, 0.15);\n",
              "      filter: drop-shadow(0px 1px 2px rgba(0, 0, 0, 0.3));\n",
              "      fill: #FFFFFF;\n",
              "    }\n",
              "  </style>\n",
              "\n",
              "      <script>\n",
              "        const buttonEl =\n",
              "          document.querySelector('#df-f6c82d35-15da-4190-91b4-327dfb912f00 button.colab-df-convert');\n",
              "        buttonEl.style.display =\n",
              "          google.colab.kernel.accessAllowed ? 'block' : 'none';\n",
              "\n",
              "        async function convertToInteractive(key) {\n",
              "          const element = document.querySelector('#df-f6c82d35-15da-4190-91b4-327dfb912f00');\n",
              "          const dataTable =\n",
              "            await google.colab.kernel.invokeFunction('convertToInteractive',\n",
              "                                                     [key], {});\n",
              "          if (!dataTable) return;\n",
              "\n",
              "          const docLinkHtml = 'Like what you see? Visit the ' +\n",
              "            '<a target=\"_blank\" href=https://colab.research.google.com/notebooks/data_table.ipynb>data table notebook</a>'\n",
              "            + ' to learn more about interactive tables.';\n",
              "          element.innerHTML = '';\n",
              "          dataTable['output_type'] = 'display_data';\n",
              "          await google.colab.output.renderOutput(dataTable, element);\n",
              "          const docLink = document.createElement('div');\n",
              "          docLink.innerHTML = docLinkHtml;\n",
              "          element.appendChild(docLink);\n",
              "        }\n",
              "      </script>\n",
              "    </div>\n",
              "  </div>\n",
              "  "
            ]
          },
          "metadata": {},
          "execution_count": 205
        }
      ],
      "source": [
        "df.head(5)"
      ]
    },
    {
      "cell_type": "code",
      "execution_count": 154,
      "id": "25346e40",
      "metadata": {
        "colab": {
          "base_uri": "https://localhost:8080/"
        },
        "id": "25346e40",
        "outputId": "15fa92a7-5b6e-467a-f8bc-f378e8f64578"
      },
      "outputs": [
        {
          "output_type": "stream",
          "name": "stdout",
          "text": [
            "<class 'pandas.core.frame.DataFrame'>\n",
            "RangeIndex: 21525 entries, 0 to 21524\n",
            "Data columns (total 12 columns):\n",
            " #   Column            Non-Null Count  Dtype  \n",
            "---  ------            --------------  -----  \n",
            " 0   children          21525 non-null  int64  \n",
            " 1   days_employed     19351 non-null  float64\n",
            " 2   dob_years         21525 non-null  int64  \n",
            " 3   education         21525 non-null  object \n",
            " 4   education_id      21525 non-null  int64  \n",
            " 5   family_status     21525 non-null  object \n",
            " 6   family_status_id  21525 non-null  int64  \n",
            " 7   gender            21525 non-null  object \n",
            " 8   income_type       21525 non-null  object \n",
            " 9   debt              21525 non-null  int64  \n",
            " 10  total_income      19351 non-null  float64\n",
            " 11  purpose           21525 non-null  object \n",
            "dtypes: float64(2), int64(5), object(5)\n",
            "memory usage: 2.0+ MB\n"
          ]
        }
      ],
      "source": [
        "df.info()"
      ]
    },
    {
      "cell_type": "code",
      "source": [
        "df.isna().sum()"
      ],
      "metadata": {
        "colab": {
          "base_uri": "https://localhost:8080/"
        },
        "id": "ESBPAPie60jw",
        "outputId": "e2858384-9166-43c5-c621-cc8105e0cf44"
      },
      "id": "ESBPAPie60jw",
      "execution_count": 155,
      "outputs": [
        {
          "output_type": "execute_result",
          "data": {
            "text/plain": [
              "children               0\n",
              "days_employed       2174\n",
              "dob_years              0\n",
              "education              0\n",
              "education_id           0\n",
              "family_status          0\n",
              "family_status_id       0\n",
              "gender                 0\n",
              "income_type            0\n",
              "debt                   0\n",
              "total_income        2174\n",
              "purpose                0\n",
              "dtype: int64"
            ]
          },
          "metadata": {},
          "execution_count": 155
        }
      ]
    },
    {
      "cell_type": "code",
      "source": [
        "df = df.apply(lambda x: x.str.lower() if x.dtype=='object' else x)"
      ],
      "metadata": {
        "id": "oql50IeEEU_F"
      },
      "id": "oql50IeEEU_F",
      "execution_count": 156,
      "outputs": []
    },
    {
      "cell_type": "markdown",
      "source": [
        "Для создания скоринга нам нужны булевы данные из нашей таблицы это могут быть следущие столбцы:\n",
        "- children есть дети - 1, нет детей - 0 \n",
        "- education - есть высшее - 1, нет высшего - 0 \n",
        "- family_status - в браке - 1, не в браке - 0\n",
        "- income_type - работает - 1, не работает - 0"
      ],
      "metadata": {
        "id": "tN7kljAO81Hq"
      },
      "id": "tN7kljAO81Hq"
    },
    {
      "cell_type": "code",
      "source": [
        "def children_group(x):\n",
        "  if x == 0:\n",
        "    return 'no_children'\n",
        "  else:\n",
        "    return 'have_children'"
      ],
      "metadata": {
        "id": "t19f2KJWDPvB"
      },
      "id": "t19f2KJWDPvB",
      "execution_count": 184,
      "outputs": []
    },
    {
      "cell_type": "code",
      "source": [
        "df['children_category'] = df['children'].apply(children_group)"
      ],
      "metadata": {
        "id": "qFPnGnRIDlgM"
      },
      "id": "qFPnGnRIDlgM",
      "execution_count": 185,
      "outputs": []
    },
    {
      "cell_type": "code",
      "source": [
        "df.groupby('children_category')['debt'].agg(['count', 'mean'])"
      ],
      "metadata": {
        "colab": {
          "base_uri": "https://localhost:8080/",
          "height": 143
        },
        "id": "otxP8r4hLnRI",
        "outputId": "bf0b2d1c-61a6-4bfa-a6a8-1fd2d4404ee7"
      },
      "id": "otxP8r4hLnRI",
      "execution_count": 193,
      "outputs": [
        {
          "output_type": "execute_result",
          "data": {
            "text/plain": [
              "                   count      mean\n",
              "children_category                 \n",
              "have_children       7376  0.091920\n",
              "no_children        14149  0.075129"
            ],
            "text/html": [
              "\n",
              "  <div id=\"df-8ebe7bc7-bdbd-4bbe-a6d9-845f70b68748\">\n",
              "    <div class=\"colab-df-container\">\n",
              "      <div>\n",
              "<style scoped>\n",
              "    .dataframe tbody tr th:only-of-type {\n",
              "        vertical-align: middle;\n",
              "    }\n",
              "\n",
              "    .dataframe tbody tr th {\n",
              "        vertical-align: top;\n",
              "    }\n",
              "\n",
              "    .dataframe thead th {\n",
              "        text-align: right;\n",
              "    }\n",
              "</style>\n",
              "<table border=\"1\" class=\"dataframe\">\n",
              "  <thead>\n",
              "    <tr style=\"text-align: right;\">\n",
              "      <th></th>\n",
              "      <th>count</th>\n",
              "      <th>mean</th>\n",
              "    </tr>\n",
              "    <tr>\n",
              "      <th>children_category</th>\n",
              "      <th></th>\n",
              "      <th></th>\n",
              "    </tr>\n",
              "  </thead>\n",
              "  <tbody>\n",
              "    <tr>\n",
              "      <th>have_children</th>\n",
              "      <td>7376</td>\n",
              "      <td>0.091920</td>\n",
              "    </tr>\n",
              "    <tr>\n",
              "      <th>no_children</th>\n",
              "      <td>14149</td>\n",
              "      <td>0.075129</td>\n",
              "    </tr>\n",
              "  </tbody>\n",
              "</table>\n",
              "</div>\n",
              "      <button class=\"colab-df-convert\" onclick=\"convertToInteractive('df-8ebe7bc7-bdbd-4bbe-a6d9-845f70b68748')\"\n",
              "              title=\"Convert this dataframe to an interactive table.\"\n",
              "              style=\"display:none;\">\n",
              "        \n",
              "  <svg xmlns=\"http://www.w3.org/2000/svg\" height=\"24px\"viewBox=\"0 0 24 24\"\n",
              "       width=\"24px\">\n",
              "    <path d=\"M0 0h24v24H0V0z\" fill=\"none\"/>\n",
              "    <path d=\"M18.56 5.44l.94 2.06.94-2.06 2.06-.94-2.06-.94-.94-2.06-.94 2.06-2.06.94zm-11 1L8.5 8.5l.94-2.06 2.06-.94-2.06-.94L8.5 2.5l-.94 2.06-2.06.94zm10 10l.94 2.06.94-2.06 2.06-.94-2.06-.94-.94-2.06-.94 2.06-2.06.94z\"/><path d=\"M17.41 7.96l-1.37-1.37c-.4-.4-.92-.59-1.43-.59-.52 0-1.04.2-1.43.59L10.3 9.45l-7.72 7.72c-.78.78-.78 2.05 0 2.83L4 21.41c.39.39.9.59 1.41.59.51 0 1.02-.2 1.41-.59l7.78-7.78 2.81-2.81c.8-.78.8-2.07 0-2.86zM5.41 20L4 18.59l7.72-7.72 1.47 1.35L5.41 20z\"/>\n",
              "  </svg>\n",
              "      </button>\n",
              "      \n",
              "  <style>\n",
              "    .colab-df-container {\n",
              "      display:flex;\n",
              "      flex-wrap:wrap;\n",
              "      gap: 12px;\n",
              "    }\n",
              "\n",
              "    .colab-df-convert {\n",
              "      background-color: #E8F0FE;\n",
              "      border: none;\n",
              "      border-radius: 50%;\n",
              "      cursor: pointer;\n",
              "      display: none;\n",
              "      fill: #1967D2;\n",
              "      height: 32px;\n",
              "      padding: 0 0 0 0;\n",
              "      width: 32px;\n",
              "    }\n",
              "\n",
              "    .colab-df-convert:hover {\n",
              "      background-color: #E2EBFA;\n",
              "      box-shadow: 0px 1px 2px rgba(60, 64, 67, 0.3), 0px 1px 3px 1px rgba(60, 64, 67, 0.15);\n",
              "      fill: #174EA6;\n",
              "    }\n",
              "\n",
              "    [theme=dark] .colab-df-convert {\n",
              "      background-color: #3B4455;\n",
              "      fill: #D2E3FC;\n",
              "    }\n",
              "\n",
              "    [theme=dark] .colab-df-convert:hover {\n",
              "      background-color: #434B5C;\n",
              "      box-shadow: 0px 1px 3px 1px rgba(0, 0, 0, 0.15);\n",
              "      filter: drop-shadow(0px 1px 2px rgba(0, 0, 0, 0.3));\n",
              "      fill: #FFFFFF;\n",
              "    }\n",
              "  </style>\n",
              "\n",
              "      <script>\n",
              "        const buttonEl =\n",
              "          document.querySelector('#df-8ebe7bc7-bdbd-4bbe-a6d9-845f70b68748 button.colab-df-convert');\n",
              "        buttonEl.style.display =\n",
              "          google.colab.kernel.accessAllowed ? 'block' : 'none';\n",
              "\n",
              "        async function convertToInteractive(key) {\n",
              "          const element = document.querySelector('#df-8ebe7bc7-bdbd-4bbe-a6d9-845f70b68748');\n",
              "          const dataTable =\n",
              "            await google.colab.kernel.invokeFunction('convertToInteractive',\n",
              "                                                     [key], {});\n",
              "          if (!dataTable) return;\n",
              "\n",
              "          const docLinkHtml = 'Like what you see? Visit the ' +\n",
              "            '<a target=\"_blank\" href=https://colab.research.google.com/notebooks/data_table.ipynb>data table notebook</a>'\n",
              "            + ' to learn more about interactive tables.';\n",
              "          element.innerHTML = '';\n",
              "          dataTable['output_type'] = 'display_data';\n",
              "          await google.colab.output.renderOutput(dataTable, element);\n",
              "          const docLink = document.createElement('div');\n",
              "          docLink.innerHTML = docLinkHtml;\n",
              "          element.appendChild(docLink);\n",
              "        }\n",
              "      </script>\n",
              "    </div>\n",
              "  </div>\n",
              "  "
            ]
          },
          "metadata": {},
          "execution_count": 193
        }
      ]
    },
    {
      "cell_type": "markdown",
      "source": [
        "Клиенты у которых нет детей, возвращают кредит хуже"
      ],
      "metadata": {
        "id": "esFZ40dMN8PI"
      },
      "id": "esFZ40dMN8PI"
    },
    {
      "cell_type": "code",
      "source": [
        "df['education'].unique()"
      ],
      "metadata": {
        "colab": {
          "base_uri": "https://localhost:8080/"
        },
        "id": "Kv3b4W0p385b",
        "outputId": "db8a1c59-4d0e-4ad9-975f-76e9b1a13112"
      },
      "id": "Kv3b4W0p385b",
      "execution_count": 159,
      "outputs": [
        {
          "output_type": "execute_result",
          "data": {
            "text/plain": [
              "array(['высшее', 'среднее', 'неоконченное высшее', 'начальное',\n",
              "       'ученая степень'], dtype=object)"
            ]
          },
          "metadata": {},
          "execution_count": 159
        }
      ]
    },
    {
      "cell_type": "code",
      "source": [
        "def education_group(x):\n",
        "  if x == 'высшее' or x == 'ученая степень':\n",
        "    return 'university'\n",
        "  else:\n",
        "    return 'school'"
      ],
      "metadata": {
        "id": "N8INt8xh5Sfp"
      },
      "id": "N8INt8xh5Sfp",
      "execution_count": 187,
      "outputs": []
    },
    {
      "cell_type": "code",
      "source": [
        "df['education_category'] = df['education'].apply(education_group)"
      ],
      "metadata": {
        "id": "7ugVSZe2Ghpf"
      },
      "id": "7ugVSZe2Ghpf",
      "execution_count": 188,
      "outputs": []
    },
    {
      "cell_type": "code",
      "source": [
        "df.groupby('education_category')['debt'].agg(['count', 'mean'])"
      ],
      "metadata": {
        "colab": {
          "base_uri": "https://localhost:8080/",
          "height": 143
        },
        "id": "tRK08VmvMD8n",
        "outputId": "cdde13e1-12a6-49e5-e14c-6268cd8ef6d4"
      },
      "id": "tRK08VmvMD8n",
      "execution_count": 189,
      "outputs": [
        {
          "output_type": "execute_result",
          "data": {
            "text/plain": [
              "                    count      mean\n",
              "education_category                 \n",
              "school              16259  0.089981\n",
              "university           5266  0.052791"
            ],
            "text/html": [
              "\n",
              "  <div id=\"df-c2ee7e7f-34b4-469f-ad60-99f8fa93c898\">\n",
              "    <div class=\"colab-df-container\">\n",
              "      <div>\n",
              "<style scoped>\n",
              "    .dataframe tbody tr th:only-of-type {\n",
              "        vertical-align: middle;\n",
              "    }\n",
              "\n",
              "    .dataframe tbody tr th {\n",
              "        vertical-align: top;\n",
              "    }\n",
              "\n",
              "    .dataframe thead th {\n",
              "        text-align: right;\n",
              "    }\n",
              "</style>\n",
              "<table border=\"1\" class=\"dataframe\">\n",
              "  <thead>\n",
              "    <tr style=\"text-align: right;\">\n",
              "      <th></th>\n",
              "      <th>count</th>\n",
              "      <th>mean</th>\n",
              "    </tr>\n",
              "    <tr>\n",
              "      <th>education_category</th>\n",
              "      <th></th>\n",
              "      <th></th>\n",
              "    </tr>\n",
              "  </thead>\n",
              "  <tbody>\n",
              "    <tr>\n",
              "      <th>school</th>\n",
              "      <td>16259</td>\n",
              "      <td>0.089981</td>\n",
              "    </tr>\n",
              "    <tr>\n",
              "      <th>university</th>\n",
              "      <td>5266</td>\n",
              "      <td>0.052791</td>\n",
              "    </tr>\n",
              "  </tbody>\n",
              "</table>\n",
              "</div>\n",
              "      <button class=\"colab-df-convert\" onclick=\"convertToInteractive('df-c2ee7e7f-34b4-469f-ad60-99f8fa93c898')\"\n",
              "              title=\"Convert this dataframe to an interactive table.\"\n",
              "              style=\"display:none;\">\n",
              "        \n",
              "  <svg xmlns=\"http://www.w3.org/2000/svg\" height=\"24px\"viewBox=\"0 0 24 24\"\n",
              "       width=\"24px\">\n",
              "    <path d=\"M0 0h24v24H0V0z\" fill=\"none\"/>\n",
              "    <path d=\"M18.56 5.44l.94 2.06.94-2.06 2.06-.94-2.06-.94-.94-2.06-.94 2.06-2.06.94zm-11 1L8.5 8.5l.94-2.06 2.06-.94-2.06-.94L8.5 2.5l-.94 2.06-2.06.94zm10 10l.94 2.06.94-2.06 2.06-.94-2.06-.94-.94-2.06-.94 2.06-2.06.94z\"/><path d=\"M17.41 7.96l-1.37-1.37c-.4-.4-.92-.59-1.43-.59-.52 0-1.04.2-1.43.59L10.3 9.45l-7.72 7.72c-.78.78-.78 2.05 0 2.83L4 21.41c.39.39.9.59 1.41.59.51 0 1.02-.2 1.41-.59l7.78-7.78 2.81-2.81c.8-.78.8-2.07 0-2.86zM5.41 20L4 18.59l7.72-7.72 1.47 1.35L5.41 20z\"/>\n",
              "  </svg>\n",
              "      </button>\n",
              "      \n",
              "  <style>\n",
              "    .colab-df-container {\n",
              "      display:flex;\n",
              "      flex-wrap:wrap;\n",
              "      gap: 12px;\n",
              "    }\n",
              "\n",
              "    .colab-df-convert {\n",
              "      background-color: #E8F0FE;\n",
              "      border: none;\n",
              "      border-radius: 50%;\n",
              "      cursor: pointer;\n",
              "      display: none;\n",
              "      fill: #1967D2;\n",
              "      height: 32px;\n",
              "      padding: 0 0 0 0;\n",
              "      width: 32px;\n",
              "    }\n",
              "\n",
              "    .colab-df-convert:hover {\n",
              "      background-color: #E2EBFA;\n",
              "      box-shadow: 0px 1px 2px rgba(60, 64, 67, 0.3), 0px 1px 3px 1px rgba(60, 64, 67, 0.15);\n",
              "      fill: #174EA6;\n",
              "    }\n",
              "\n",
              "    [theme=dark] .colab-df-convert {\n",
              "      background-color: #3B4455;\n",
              "      fill: #D2E3FC;\n",
              "    }\n",
              "\n",
              "    [theme=dark] .colab-df-convert:hover {\n",
              "      background-color: #434B5C;\n",
              "      box-shadow: 0px 1px 3px 1px rgba(0, 0, 0, 0.15);\n",
              "      filter: drop-shadow(0px 1px 2px rgba(0, 0, 0, 0.3));\n",
              "      fill: #FFFFFF;\n",
              "    }\n",
              "  </style>\n",
              "\n",
              "      <script>\n",
              "        const buttonEl =\n",
              "          document.querySelector('#df-c2ee7e7f-34b4-469f-ad60-99f8fa93c898 button.colab-df-convert');\n",
              "        buttonEl.style.display =\n",
              "          google.colab.kernel.accessAllowed ? 'block' : 'none';\n",
              "\n",
              "        async function convertToInteractive(key) {\n",
              "          const element = document.querySelector('#df-c2ee7e7f-34b4-469f-ad60-99f8fa93c898');\n",
              "          const dataTable =\n",
              "            await google.colab.kernel.invokeFunction('convertToInteractive',\n",
              "                                                     [key], {});\n",
              "          if (!dataTable) return;\n",
              "\n",
              "          const docLinkHtml = 'Like what you see? Visit the ' +\n",
              "            '<a target=\"_blank\" href=https://colab.research.google.com/notebooks/data_table.ipynb>data table notebook</a>'\n",
              "            + ' to learn more about interactive tables.';\n",
              "          element.innerHTML = '';\n",
              "          dataTable['output_type'] = 'display_data';\n",
              "          await google.colab.output.renderOutput(dataTable, element);\n",
              "          const docLink = document.createElement('div');\n",
              "          docLink.innerHTML = docLinkHtml;\n",
              "          element.appendChild(docLink);\n",
              "        }\n",
              "      </script>\n",
              "    </div>\n",
              "  </div>\n",
              "  "
            ]
          },
          "metadata": {},
          "execution_count": 189
        }
      ]
    },
    {
      "cell_type": "markdown",
      "source": [
        "Клиенты у кого есть высшее образование возвращают кредит хуже"
      ],
      "metadata": {
        "id": "G3fU00PzPB5c"
      },
      "id": "G3fU00PzPB5c"
    },
    {
      "cell_type": "code",
      "source": [
        "df['family_status'].unique()"
      ],
      "metadata": {
        "colab": {
          "base_uri": "https://localhost:8080/"
        },
        "id": "4GWtML-JGk5l",
        "outputId": "521f1acb-a31b-4724-f995-fcad3d3b1eec"
      },
      "id": "4GWtML-JGk5l",
      "execution_count": 162,
      "outputs": [
        {
          "output_type": "execute_result",
          "data": {
            "text/plain": [
              "array(['женат / замужем', 'гражданский брак', 'вдовец / вдова',\n",
              "       'в разводе', 'не женат / не замужем'], dtype=object)"
            ]
          },
          "metadata": {},
          "execution_count": 162
        }
      ]
    },
    {
      "cell_type": "code",
      "source": [
        "def family_group(x):\n",
        "  if x == 'женат / замужем' or x == 'гражданский брак':\n",
        "    return 'in_wedding'\n",
        "  else:\n",
        "    return 'no_wedding'"
      ],
      "metadata": {
        "id": "hg6bszruGxGd"
      },
      "id": "hg6bszruGxGd",
      "execution_count": 194,
      "outputs": []
    },
    {
      "cell_type": "code",
      "source": [
        "df['family_status_category'] = df['family_status'].apply(family_group)"
      ],
      "metadata": {
        "id": "BfLYtS0fG8MH"
      },
      "id": "BfLYtS0fG8MH",
      "execution_count": 195,
      "outputs": []
    },
    {
      "cell_type": "code",
      "source": [
        "df.groupby('family_status_category')['debt'].agg(['count', 'mean'])"
      ],
      "metadata": {
        "colab": {
          "base_uri": "https://localhost:8080/",
          "height": 143
        },
        "id": "2PCh_aFhNKZa",
        "outputId": "d121af11-0e69-4290-8a28-0792fda310dc"
      },
      "id": "2PCh_aFhNKZa",
      "execution_count": 196,
      "outputs": [
        {
          "output_type": "execute_result",
          "data": {
            "text/plain": [
              "                        count      mean\n",
              "family_status_category                 \n",
              "in_wedding              16557  0.079664\n",
              "no_wedding               4968  0.084944"
            ],
            "text/html": [
              "\n",
              "  <div id=\"df-421b439c-5290-478b-81f7-ed1a9229cbeb\">\n",
              "    <div class=\"colab-df-container\">\n",
              "      <div>\n",
              "<style scoped>\n",
              "    .dataframe tbody tr th:only-of-type {\n",
              "        vertical-align: middle;\n",
              "    }\n",
              "\n",
              "    .dataframe tbody tr th {\n",
              "        vertical-align: top;\n",
              "    }\n",
              "\n",
              "    .dataframe thead th {\n",
              "        text-align: right;\n",
              "    }\n",
              "</style>\n",
              "<table border=\"1\" class=\"dataframe\">\n",
              "  <thead>\n",
              "    <tr style=\"text-align: right;\">\n",
              "      <th></th>\n",
              "      <th>count</th>\n",
              "      <th>mean</th>\n",
              "    </tr>\n",
              "    <tr>\n",
              "      <th>family_status_category</th>\n",
              "      <th></th>\n",
              "      <th></th>\n",
              "    </tr>\n",
              "  </thead>\n",
              "  <tbody>\n",
              "    <tr>\n",
              "      <th>in_wedding</th>\n",
              "      <td>16557</td>\n",
              "      <td>0.079664</td>\n",
              "    </tr>\n",
              "    <tr>\n",
              "      <th>no_wedding</th>\n",
              "      <td>4968</td>\n",
              "      <td>0.084944</td>\n",
              "    </tr>\n",
              "  </tbody>\n",
              "</table>\n",
              "</div>\n",
              "      <button class=\"colab-df-convert\" onclick=\"convertToInteractive('df-421b439c-5290-478b-81f7-ed1a9229cbeb')\"\n",
              "              title=\"Convert this dataframe to an interactive table.\"\n",
              "              style=\"display:none;\">\n",
              "        \n",
              "  <svg xmlns=\"http://www.w3.org/2000/svg\" height=\"24px\"viewBox=\"0 0 24 24\"\n",
              "       width=\"24px\">\n",
              "    <path d=\"M0 0h24v24H0V0z\" fill=\"none\"/>\n",
              "    <path d=\"M18.56 5.44l.94 2.06.94-2.06 2.06-.94-2.06-.94-.94-2.06-.94 2.06-2.06.94zm-11 1L8.5 8.5l.94-2.06 2.06-.94-2.06-.94L8.5 2.5l-.94 2.06-2.06.94zm10 10l.94 2.06.94-2.06 2.06-.94-2.06-.94-.94-2.06-.94 2.06-2.06.94z\"/><path d=\"M17.41 7.96l-1.37-1.37c-.4-.4-.92-.59-1.43-.59-.52 0-1.04.2-1.43.59L10.3 9.45l-7.72 7.72c-.78.78-.78 2.05 0 2.83L4 21.41c.39.39.9.59 1.41.59.51 0 1.02-.2 1.41-.59l7.78-7.78 2.81-2.81c.8-.78.8-2.07 0-2.86zM5.41 20L4 18.59l7.72-7.72 1.47 1.35L5.41 20z\"/>\n",
              "  </svg>\n",
              "      </button>\n",
              "      \n",
              "  <style>\n",
              "    .colab-df-container {\n",
              "      display:flex;\n",
              "      flex-wrap:wrap;\n",
              "      gap: 12px;\n",
              "    }\n",
              "\n",
              "    .colab-df-convert {\n",
              "      background-color: #E8F0FE;\n",
              "      border: none;\n",
              "      border-radius: 50%;\n",
              "      cursor: pointer;\n",
              "      display: none;\n",
              "      fill: #1967D2;\n",
              "      height: 32px;\n",
              "      padding: 0 0 0 0;\n",
              "      width: 32px;\n",
              "    }\n",
              "\n",
              "    .colab-df-convert:hover {\n",
              "      background-color: #E2EBFA;\n",
              "      box-shadow: 0px 1px 2px rgba(60, 64, 67, 0.3), 0px 1px 3px 1px rgba(60, 64, 67, 0.15);\n",
              "      fill: #174EA6;\n",
              "    }\n",
              "\n",
              "    [theme=dark] .colab-df-convert {\n",
              "      background-color: #3B4455;\n",
              "      fill: #D2E3FC;\n",
              "    }\n",
              "\n",
              "    [theme=dark] .colab-df-convert:hover {\n",
              "      background-color: #434B5C;\n",
              "      box-shadow: 0px 1px 3px 1px rgba(0, 0, 0, 0.15);\n",
              "      filter: drop-shadow(0px 1px 2px rgba(0, 0, 0, 0.3));\n",
              "      fill: #FFFFFF;\n",
              "    }\n",
              "  </style>\n",
              "\n",
              "      <script>\n",
              "        const buttonEl =\n",
              "          document.querySelector('#df-421b439c-5290-478b-81f7-ed1a9229cbeb button.colab-df-convert');\n",
              "        buttonEl.style.display =\n",
              "          google.colab.kernel.accessAllowed ? 'block' : 'none';\n",
              "\n",
              "        async function convertToInteractive(key) {\n",
              "          const element = document.querySelector('#df-421b439c-5290-478b-81f7-ed1a9229cbeb');\n",
              "          const dataTable =\n",
              "            await google.colab.kernel.invokeFunction('convertToInteractive',\n",
              "                                                     [key], {});\n",
              "          if (!dataTable) return;\n",
              "\n",
              "          const docLinkHtml = 'Like what you see? Visit the ' +\n",
              "            '<a target=\"_blank\" href=https://colab.research.google.com/notebooks/data_table.ipynb>data table notebook</a>'\n",
              "            + ' to learn more about interactive tables.';\n",
              "          element.innerHTML = '';\n",
              "          dataTable['output_type'] = 'display_data';\n",
              "          await google.colab.output.renderOutput(dataTable, element);\n",
              "          const docLink = document.createElement('div');\n",
              "          docLink.innerHTML = docLinkHtml;\n",
              "          element.appendChild(docLink);\n",
              "        }\n",
              "      </script>\n",
              "    </div>\n",
              "  </div>\n",
              "  "
            ]
          },
          "metadata": {},
          "execution_count": 196
        }
      ]
    },
    {
      "cell_type": "markdown",
      "source": [
        "Клиенты кторые состоят в браке вызвращают кредит хуже"
      ],
      "metadata": {
        "id": "4AJB62r-POzR"
      },
      "id": "4AJB62r-POzR"
    },
    {
      "cell_type": "code",
      "source": [
        "df['income_type'].unique()"
      ],
      "metadata": {
        "colab": {
          "base_uri": "https://localhost:8080/"
        },
        "id": "jiKQ2FN8HDaI",
        "outputId": "8e02eae3-453e-4940-8108-2e4715f86343"
      },
      "id": "jiKQ2FN8HDaI",
      "execution_count": 165,
      "outputs": [
        {
          "output_type": "execute_result",
          "data": {
            "text/plain": [
              "array(['сотрудник', 'пенсионер', 'компаньон', 'госслужащий',\n",
              "       'безработный', 'предприниматель', 'студент', 'в декрете'],\n",
              "      dtype=object)"
            ]
          },
          "metadata": {},
          "execution_count": 165
        }
      ]
    },
    {
      "cell_type": "code",
      "source": [
        "def income_group(x):\n",
        "  if x == 'сотрудник' or x == 'компаньон' or x == 'госслужащий' or x == 'предприниматель':\n",
        "    return 'have_job'\n",
        "  else:\n",
        "    return 'unemployed'"
      ],
      "metadata": {
        "id": "_O-AC2k8HGRT"
      },
      "id": "_O-AC2k8HGRT",
      "execution_count": 197,
      "outputs": []
    },
    {
      "cell_type": "code",
      "source": [
        "df['income_type_category'] = df['income_type'].apply(income_group)"
      ],
      "metadata": {
        "id": "HzG4ijnWHWVm"
      },
      "id": "HzG4ijnWHWVm",
      "execution_count": 198,
      "outputs": []
    },
    {
      "cell_type": "code",
      "source": [
        "df.groupby('income_type_category')['debt'].agg(['count', 'mean'])"
      ],
      "metadata": {
        "colab": {
          "base_uri": "https://localhost:8080/",
          "height": 143
        },
        "id": "gdnqBWN-NY-H",
        "outputId": "bc7868ee-0dbf-49f2-b219-4eda9a7ad52f"
      },
      "id": "gdnqBWN-NY-H",
      "execution_count": 199,
      "outputs": [
        {
          "output_type": "execute_result",
          "data": {
            "text/plain": [
              "                      count      mean\n",
              "income_type_category                 \n",
              "have_job              17665  0.086216\n",
              "unemployed             3860  0.056477"
            ],
            "text/html": [
              "\n",
              "  <div id=\"df-b10b101c-7a58-48cd-99c5-5f300780b793\">\n",
              "    <div class=\"colab-df-container\">\n",
              "      <div>\n",
              "<style scoped>\n",
              "    .dataframe tbody tr th:only-of-type {\n",
              "        vertical-align: middle;\n",
              "    }\n",
              "\n",
              "    .dataframe tbody tr th {\n",
              "        vertical-align: top;\n",
              "    }\n",
              "\n",
              "    .dataframe thead th {\n",
              "        text-align: right;\n",
              "    }\n",
              "</style>\n",
              "<table border=\"1\" class=\"dataframe\">\n",
              "  <thead>\n",
              "    <tr style=\"text-align: right;\">\n",
              "      <th></th>\n",
              "      <th>count</th>\n",
              "      <th>mean</th>\n",
              "    </tr>\n",
              "    <tr>\n",
              "      <th>income_type_category</th>\n",
              "      <th></th>\n",
              "      <th></th>\n",
              "    </tr>\n",
              "  </thead>\n",
              "  <tbody>\n",
              "    <tr>\n",
              "      <th>have_job</th>\n",
              "      <td>17665</td>\n",
              "      <td>0.086216</td>\n",
              "    </tr>\n",
              "    <tr>\n",
              "      <th>unemployed</th>\n",
              "      <td>3860</td>\n",
              "      <td>0.056477</td>\n",
              "    </tr>\n",
              "  </tbody>\n",
              "</table>\n",
              "</div>\n",
              "      <button class=\"colab-df-convert\" onclick=\"convertToInteractive('df-b10b101c-7a58-48cd-99c5-5f300780b793')\"\n",
              "              title=\"Convert this dataframe to an interactive table.\"\n",
              "              style=\"display:none;\">\n",
              "        \n",
              "  <svg xmlns=\"http://www.w3.org/2000/svg\" height=\"24px\"viewBox=\"0 0 24 24\"\n",
              "       width=\"24px\">\n",
              "    <path d=\"M0 0h24v24H0V0z\" fill=\"none\"/>\n",
              "    <path d=\"M18.56 5.44l.94 2.06.94-2.06 2.06-.94-2.06-.94-.94-2.06-.94 2.06-2.06.94zm-11 1L8.5 8.5l.94-2.06 2.06-.94-2.06-.94L8.5 2.5l-.94 2.06-2.06.94zm10 10l.94 2.06.94-2.06 2.06-.94-2.06-.94-.94-2.06-.94 2.06-2.06.94z\"/><path d=\"M17.41 7.96l-1.37-1.37c-.4-.4-.92-.59-1.43-.59-.52 0-1.04.2-1.43.59L10.3 9.45l-7.72 7.72c-.78.78-.78 2.05 0 2.83L4 21.41c.39.39.9.59 1.41.59.51 0 1.02-.2 1.41-.59l7.78-7.78 2.81-2.81c.8-.78.8-2.07 0-2.86zM5.41 20L4 18.59l7.72-7.72 1.47 1.35L5.41 20z\"/>\n",
              "  </svg>\n",
              "      </button>\n",
              "      \n",
              "  <style>\n",
              "    .colab-df-container {\n",
              "      display:flex;\n",
              "      flex-wrap:wrap;\n",
              "      gap: 12px;\n",
              "    }\n",
              "\n",
              "    .colab-df-convert {\n",
              "      background-color: #E8F0FE;\n",
              "      border: none;\n",
              "      border-radius: 50%;\n",
              "      cursor: pointer;\n",
              "      display: none;\n",
              "      fill: #1967D2;\n",
              "      height: 32px;\n",
              "      padding: 0 0 0 0;\n",
              "      width: 32px;\n",
              "    }\n",
              "\n",
              "    .colab-df-convert:hover {\n",
              "      background-color: #E2EBFA;\n",
              "      box-shadow: 0px 1px 2px rgba(60, 64, 67, 0.3), 0px 1px 3px 1px rgba(60, 64, 67, 0.15);\n",
              "      fill: #174EA6;\n",
              "    }\n",
              "\n",
              "    [theme=dark] .colab-df-convert {\n",
              "      background-color: #3B4455;\n",
              "      fill: #D2E3FC;\n",
              "    }\n",
              "\n",
              "    [theme=dark] .colab-df-convert:hover {\n",
              "      background-color: #434B5C;\n",
              "      box-shadow: 0px 1px 3px 1px rgba(0, 0, 0, 0.15);\n",
              "      filter: drop-shadow(0px 1px 2px rgba(0, 0, 0, 0.3));\n",
              "      fill: #FFFFFF;\n",
              "    }\n",
              "  </style>\n",
              "\n",
              "      <script>\n",
              "        const buttonEl =\n",
              "          document.querySelector('#df-b10b101c-7a58-48cd-99c5-5f300780b793 button.colab-df-convert');\n",
              "        buttonEl.style.display =\n",
              "          google.colab.kernel.accessAllowed ? 'block' : 'none';\n",
              "\n",
              "        async function convertToInteractive(key) {\n",
              "          const element = document.querySelector('#df-b10b101c-7a58-48cd-99c5-5f300780b793');\n",
              "          const dataTable =\n",
              "            await google.colab.kernel.invokeFunction('convertToInteractive',\n",
              "                                                     [key], {});\n",
              "          if (!dataTable) return;\n",
              "\n",
              "          const docLinkHtml = 'Like what you see? Visit the ' +\n",
              "            '<a target=\"_blank\" href=https://colab.research.google.com/notebooks/data_table.ipynb>data table notebook</a>'\n",
              "            + ' to learn more about interactive tables.';\n",
              "          element.innerHTML = '';\n",
              "          dataTable['output_type'] = 'display_data';\n",
              "          await google.colab.output.renderOutput(dataTable, element);\n",
              "          const docLink = document.createElement('div');\n",
              "          docLink.innerHTML = docLinkHtml;\n",
              "          element.appendChild(docLink);\n",
              "        }\n",
              "      </script>\n",
              "    </div>\n",
              "  </div>\n",
              "  "
            ]
          },
          "metadata": {},
          "execution_count": 199
        }
      ]
    },
    {
      "cell_type": "markdown",
      "source": [
        "Безработные клиенты возвращают кредит хуже"
      ],
      "metadata": {
        "id": "0PzsTACTPavZ"
      },
      "id": "0PzsTACTPavZ"
    },
    {
      "cell_type": "code",
      "source": [
        "df['total_income'] = df['total_income'].fillna(df['total_income'].median()).astype(int)"
      ],
      "metadata": {
        "id": "UTEX4zKlIdtg"
      },
      "id": "UTEX4zKlIdtg",
      "execution_count": 168,
      "outputs": []
    },
    {
      "cell_type": "code",
      "source": [
        "df.groupby(pd.cut(df['total_income'], [0,70000,90000,100000,120000,150000,200000, np.inf]))['debt'].agg(['count', 'mean'])"
      ],
      "metadata": {
        "colab": {
          "base_uri": "https://localhost:8080/",
          "height": 300
        },
        "id": "grqpWXnUHyQb",
        "outputId": "e9e05bf4-9031-4157-c6a4-a3483a2dd865"
      },
      "id": "grqpWXnUHyQb",
      "execution_count": 204,
      "outputs": [
        {
          "output_type": "execute_result",
          "data": {
            "text/plain": [
              "                      count      mean\n",
              "total_income                         \n",
              "(0.0, 70000.0]         1474  0.068521\n",
              "(70000.0, 90000.0]     1874  0.085912\n",
              "(90000.0, 100000.0]    1115  0.082511\n",
              "(100000.0, 120000.0]   2382  0.082704\n",
              "(120000.0, 150000.0]   5496  0.084425\n",
              "(150000.0, 200000.0]   4118  0.089364\n",
              "(200000.0, inf]        5066  0.070667"
            ],
            "text/html": [
              "\n",
              "  <div id=\"df-53a3c07b-e741-4d69-a9f1-6fb8a13124f0\">\n",
              "    <div class=\"colab-df-container\">\n",
              "      <div>\n",
              "<style scoped>\n",
              "    .dataframe tbody tr th:only-of-type {\n",
              "        vertical-align: middle;\n",
              "    }\n",
              "\n",
              "    .dataframe tbody tr th {\n",
              "        vertical-align: top;\n",
              "    }\n",
              "\n",
              "    .dataframe thead th {\n",
              "        text-align: right;\n",
              "    }\n",
              "</style>\n",
              "<table border=\"1\" class=\"dataframe\">\n",
              "  <thead>\n",
              "    <tr style=\"text-align: right;\">\n",
              "      <th></th>\n",
              "      <th>count</th>\n",
              "      <th>mean</th>\n",
              "    </tr>\n",
              "    <tr>\n",
              "      <th>total_income</th>\n",
              "      <th></th>\n",
              "      <th></th>\n",
              "    </tr>\n",
              "  </thead>\n",
              "  <tbody>\n",
              "    <tr>\n",
              "      <th>(0.0, 70000.0]</th>\n",
              "      <td>1474</td>\n",
              "      <td>0.068521</td>\n",
              "    </tr>\n",
              "    <tr>\n",
              "      <th>(70000.0, 90000.0]</th>\n",
              "      <td>1874</td>\n",
              "      <td>0.085912</td>\n",
              "    </tr>\n",
              "    <tr>\n",
              "      <th>(90000.0, 100000.0]</th>\n",
              "      <td>1115</td>\n",
              "      <td>0.082511</td>\n",
              "    </tr>\n",
              "    <tr>\n",
              "      <th>(100000.0, 120000.0]</th>\n",
              "      <td>2382</td>\n",
              "      <td>0.082704</td>\n",
              "    </tr>\n",
              "    <tr>\n",
              "      <th>(120000.0, 150000.0]</th>\n",
              "      <td>5496</td>\n",
              "      <td>0.084425</td>\n",
              "    </tr>\n",
              "    <tr>\n",
              "      <th>(150000.0, 200000.0]</th>\n",
              "      <td>4118</td>\n",
              "      <td>0.089364</td>\n",
              "    </tr>\n",
              "    <tr>\n",
              "      <th>(200000.0, inf]</th>\n",
              "      <td>5066</td>\n",
              "      <td>0.070667</td>\n",
              "    </tr>\n",
              "  </tbody>\n",
              "</table>\n",
              "</div>\n",
              "      <button class=\"colab-df-convert\" onclick=\"convertToInteractive('df-53a3c07b-e741-4d69-a9f1-6fb8a13124f0')\"\n",
              "              title=\"Convert this dataframe to an interactive table.\"\n",
              "              style=\"display:none;\">\n",
              "        \n",
              "  <svg xmlns=\"http://www.w3.org/2000/svg\" height=\"24px\"viewBox=\"0 0 24 24\"\n",
              "       width=\"24px\">\n",
              "    <path d=\"M0 0h24v24H0V0z\" fill=\"none\"/>\n",
              "    <path d=\"M18.56 5.44l.94 2.06.94-2.06 2.06-.94-2.06-.94-.94-2.06-.94 2.06-2.06.94zm-11 1L8.5 8.5l.94-2.06 2.06-.94-2.06-.94L8.5 2.5l-.94 2.06-2.06.94zm10 10l.94 2.06.94-2.06 2.06-.94-2.06-.94-.94-2.06-.94 2.06-2.06.94z\"/><path d=\"M17.41 7.96l-1.37-1.37c-.4-.4-.92-.59-1.43-.59-.52 0-1.04.2-1.43.59L10.3 9.45l-7.72 7.72c-.78.78-.78 2.05 0 2.83L4 21.41c.39.39.9.59 1.41.59.51 0 1.02-.2 1.41-.59l7.78-7.78 2.81-2.81c.8-.78.8-2.07 0-2.86zM5.41 20L4 18.59l7.72-7.72 1.47 1.35L5.41 20z\"/>\n",
              "  </svg>\n",
              "      </button>\n",
              "      \n",
              "  <style>\n",
              "    .colab-df-container {\n",
              "      display:flex;\n",
              "      flex-wrap:wrap;\n",
              "      gap: 12px;\n",
              "    }\n",
              "\n",
              "    .colab-df-convert {\n",
              "      background-color: #E8F0FE;\n",
              "      border: none;\n",
              "      border-radius: 50%;\n",
              "      cursor: pointer;\n",
              "      display: none;\n",
              "      fill: #1967D2;\n",
              "      height: 32px;\n",
              "      padding: 0 0 0 0;\n",
              "      width: 32px;\n",
              "    }\n",
              "\n",
              "    .colab-df-convert:hover {\n",
              "      background-color: #E2EBFA;\n",
              "      box-shadow: 0px 1px 2px rgba(60, 64, 67, 0.3), 0px 1px 3px 1px rgba(60, 64, 67, 0.15);\n",
              "      fill: #174EA6;\n",
              "    }\n",
              "\n",
              "    [theme=dark] .colab-df-convert {\n",
              "      background-color: #3B4455;\n",
              "      fill: #D2E3FC;\n",
              "    }\n",
              "\n",
              "    [theme=dark] .colab-df-convert:hover {\n",
              "      background-color: #434B5C;\n",
              "      box-shadow: 0px 1px 3px 1px rgba(0, 0, 0, 0.15);\n",
              "      filter: drop-shadow(0px 1px 2px rgba(0, 0, 0, 0.3));\n",
              "      fill: #FFFFFF;\n",
              "    }\n",
              "  </style>\n",
              "\n",
              "      <script>\n",
              "        const buttonEl =\n",
              "          document.querySelector('#df-53a3c07b-e741-4d69-a9f1-6fb8a13124f0 button.colab-df-convert');\n",
              "        buttonEl.style.display =\n",
              "          google.colab.kernel.accessAllowed ? 'block' : 'none';\n",
              "\n",
              "        async function convertToInteractive(key) {\n",
              "          const element = document.querySelector('#df-53a3c07b-e741-4d69-a9f1-6fb8a13124f0');\n",
              "          const dataTable =\n",
              "            await google.colab.kernel.invokeFunction('convertToInteractive',\n",
              "                                                     [key], {});\n",
              "          if (!dataTable) return;\n",
              "\n",
              "          const docLinkHtml = 'Like what you see? Visit the ' +\n",
              "            '<a target=\"_blank\" href=https://colab.research.google.com/notebooks/data_table.ipynb>data table notebook</a>'\n",
              "            + ' to learn more about interactive tables.';\n",
              "          element.innerHTML = '';\n",
              "          dataTable['output_type'] = 'display_data';\n",
              "          await google.colab.output.renderOutput(dataTable, element);\n",
              "          const docLink = document.createElement('div');\n",
              "          docLink.innerHTML = docLinkHtml;\n",
              "          element.appendChild(docLink);\n",
              "        }\n",
              "      </script>\n",
              "    </div>\n",
              "  </div>\n",
              "  "
            ]
          },
          "metadata": {},
          "execution_count": 204
        }
      ]
    },
    {
      "cell_type": "markdown",
      "source": [
        "Хуже других клиенты с уровнем дохода до 70000"
      ],
      "metadata": {
        "id": "P7AE0efFPwNh"
      },
      "id": "P7AE0efFPwNh"
    },
    {
      "cell_type": "markdown",
      "source": [
        "## Общий вывод:\n",
        "Клиенты у которых есть дети, не имеют высшего образования, которые не состоят в барке, у которых есть работа и доход превышает 70 000 - лучше других возвращают кредит."
      ],
      "metadata": {
        "id": "-rckKX9hQG4h"
      },
      "id": "-rckKX9hQG4h"
    }
  ],
  "metadata": {
    "ExecuteTimeLog": [
      {
        "duration": 567,
        "start_time": "2022-04-22T08:47:34.246Z"
      },
      {
        "duration": 1336,
        "start_time": "2022-04-22T08:47:34.816Z"
      },
      {
        "duration": 84,
        "start_time": "2022-04-22T08:47:36.155Z"
      },
      {
        "duration": 22,
        "start_time": "2022-04-22T08:47:36.242Z"
      },
      {
        "duration": 54,
        "start_time": "2022-04-22T08:47:36.266Z"
      },
      {
        "duration": 15,
        "start_time": "2022-04-22T08:47:36.323Z"
      },
      {
        "duration": 11,
        "start_time": "2022-04-22T08:47:36.340Z"
      },
      {
        "duration": 30,
        "start_time": "2022-04-22T08:47:36.353Z"
      },
      {
        "duration": 27,
        "start_time": "2022-04-22T08:47:36.385Z"
      },
      {
        "duration": 5,
        "start_time": "2022-04-22T08:47:36.418Z"
      },
      {
        "duration": 13,
        "start_time": "2022-04-22T08:47:36.426Z"
      },
      {
        "duration": 10,
        "start_time": "2022-04-22T08:47:36.441Z"
      },
      {
        "duration": 40,
        "start_time": "2022-04-22T08:47:36.454Z"
      },
      {
        "duration": 15,
        "start_time": "2022-04-22T08:47:36.497Z"
      },
      {
        "duration": 17,
        "start_time": "2022-04-22T08:47:36.514Z"
      },
      {
        "duration": 5,
        "start_time": "2022-04-22T08:47:36.533Z"
      },
      {
        "duration": 5,
        "start_time": "2022-04-22T08:47:36.540Z"
      },
      {
        "duration": 49,
        "start_time": "2022-04-22T08:47:36.547Z"
      },
      {
        "duration": 6,
        "start_time": "2022-04-22T08:47:36.601Z"
      },
      {
        "duration": 12,
        "start_time": "2022-04-22T08:47:36.609Z"
      },
      {
        "duration": 14,
        "start_time": "2022-04-22T08:47:36.623Z"
      },
      {
        "duration": 10,
        "start_time": "2022-04-22T08:47:36.639Z"
      },
      {
        "duration": 37,
        "start_time": "2022-04-22T08:47:36.651Z"
      },
      {
        "duration": 23,
        "start_time": "2022-04-22T08:47:36.690Z"
      },
      {
        "duration": 12,
        "start_time": "2022-04-22T08:47:36.715Z"
      },
      {
        "duration": 8,
        "start_time": "2022-04-22T08:47:36.730Z"
      },
      {
        "duration": 7,
        "start_time": "2022-04-22T08:47:36.740Z"
      },
      {
        "duration": 7,
        "start_time": "2022-04-22T08:47:36.783Z"
      },
      {
        "duration": 15,
        "start_time": "2022-04-22T08:47:36.799Z"
      },
      {
        "duration": 83,
        "start_time": "2022-04-22T08:47:36.817Z"
      },
      {
        "duration": 4,
        "start_time": "2022-04-22T08:47:36.903Z"
      },
      {
        "duration": 15,
        "start_time": "2022-04-22T08:47:36.909Z"
      },
      {
        "duration": 10,
        "start_time": "2022-04-22T08:47:36.926Z"
      },
      {
        "duration": 10,
        "start_time": "2022-04-22T08:47:36.938Z"
      },
      {
        "duration": 36,
        "start_time": "2022-04-22T08:47:36.950Z"
      },
      {
        "duration": 12,
        "start_time": "2022-04-22T08:47:36.988Z"
      },
      {
        "duration": 18,
        "start_time": "2022-04-22T08:47:37.002Z"
      },
      {
        "duration": 12,
        "start_time": "2022-04-22T08:47:37.022Z"
      },
      {
        "duration": 8,
        "start_time": "2022-04-22T08:47:37.036Z"
      },
      {
        "duration": 55,
        "start_time": "2022-04-22T08:47:37.046Z"
      },
      {
        "duration": 12,
        "start_time": "2022-04-22T08:47:37.103Z"
      },
      {
        "duration": 12,
        "start_time": "2022-04-22T08:47:37.117Z"
      },
      {
        "duration": 11,
        "start_time": "2022-04-22T08:47:37.131Z"
      },
      {
        "duration": 11,
        "start_time": "2022-04-22T08:47:37.144Z"
      },
      {
        "duration": 6,
        "start_time": "2022-04-22T08:47:37.191Z"
      },
      {
        "duration": 14,
        "start_time": "2022-04-22T08:47:37.200Z"
      },
      {
        "duration": 13,
        "start_time": "2022-04-22T08:47:37.216Z"
      },
      {
        "duration": 11,
        "start_time": "2022-04-22T08:47:37.231Z"
      },
      {
        "duration": 49,
        "start_time": "2022-04-22T08:47:37.244Z"
      },
      {
        "duration": 14,
        "start_time": "2022-04-22T08:47:37.295Z"
      },
      {
        "duration": 42,
        "start_time": "2022-04-22T08:47:37.311Z"
      },
      {
        "duration": 47,
        "start_time": "2022-04-22T08:47:37.355Z"
      },
      {
        "duration": 7,
        "start_time": "2022-04-22T08:47:37.404Z"
      },
      {
        "duration": 12,
        "start_time": "2022-04-22T08:47:37.413Z"
      },
      {
        "duration": 8,
        "start_time": "2022-04-22T08:47:37.428Z"
      },
      {
        "duration": 49,
        "start_time": "2022-04-22T08:47:37.438Z"
      },
      {
        "duration": 8,
        "start_time": "2022-04-22T08:47:37.502Z"
      },
      {
        "duration": 9,
        "start_time": "2022-04-22T08:47:37.513Z"
      },
      {
        "duration": 15,
        "start_time": "2022-04-22T08:47:37.524Z"
      },
      {
        "duration": 14,
        "start_time": "2022-04-22T08:47:37.541Z"
      },
      {
        "duration": 36,
        "start_time": "2022-04-22T08:47:37.557Z"
      },
      {
        "duration": 5,
        "start_time": "2022-04-22T08:47:37.602Z"
      },
      {
        "duration": 12,
        "start_time": "2022-04-22T08:47:37.609Z"
      },
      {
        "duration": 9,
        "start_time": "2022-04-22T08:47:37.623Z"
      },
      {
        "duration": 7,
        "start_time": "2022-04-22T08:47:37.634Z"
      },
      {
        "duration": 212,
        "start_time": "2022-04-22T08:47:37.643Z"
      },
      {
        "duration": 6,
        "start_time": "2022-04-22T08:47:37.857Z"
      },
      {
        "duration": 32,
        "start_time": "2022-04-22T08:47:37.865Z"
      },
      {
        "duration": 6,
        "start_time": "2022-04-22T08:47:37.899Z"
      },
      {
        "duration": 8,
        "start_time": "2022-04-22T08:47:37.907Z"
      },
      {
        "duration": 220,
        "start_time": "2022-04-22T08:47:37.917Z"
      },
      {
        "duration": 12,
        "start_time": "2022-04-22T08:47:38.139Z"
      },
      {
        "duration": 5,
        "start_time": "2022-04-22T08:47:38.153Z"
      },
      {
        "duration": 28,
        "start_time": "2022-04-22T08:47:38.161Z"
      },
      {
        "duration": 194,
        "start_time": "2022-04-22T08:47:38.191Z"
      },
      {
        "duration": 15,
        "start_time": "2022-04-22T08:47:38.387Z"
      },
      {
        "duration": 12,
        "start_time": "2022-04-22T08:47:38.405Z"
      },
      {
        "duration": 11,
        "start_time": "2022-04-22T08:47:38.420Z"
      },
      {
        "duration": 217,
        "start_time": "2022-04-22T08:47:38.433Z"
      },
      {
        "duration": 30,
        "start_time": "2022-04-22T08:49:26.245Z"
      },
      {
        "duration": 10,
        "start_time": "2022-04-22T08:49:57.809Z"
      },
      {
        "duration": 18,
        "start_time": "2022-04-22T08:50:08.576Z"
      },
      {
        "duration": 10,
        "start_time": "2022-04-22T08:50:19.813Z"
      },
      {
        "duration": 14,
        "start_time": "2022-04-22T08:51:22.295Z"
      },
      {
        "duration": 16,
        "start_time": "2022-04-22T08:54:22.024Z"
      },
      {
        "duration": 18,
        "start_time": "2022-04-22T08:54:29.692Z"
      },
      {
        "duration": 10,
        "start_time": "2022-04-22T08:54:43.362Z"
      },
      {
        "duration": 10,
        "start_time": "2022-04-22T08:54:44.570Z"
      },
      {
        "duration": 15,
        "start_time": "2022-04-22T08:54:45.727Z"
      },
      {
        "duration": 33,
        "start_time": "2022-04-22T08:56:37.176Z"
      },
      {
        "duration": 18,
        "start_time": "2022-04-22T08:56:44.600Z"
      },
      {
        "duration": 18,
        "start_time": "2022-04-22T08:56:51.095Z"
      },
      {
        "duration": 26,
        "start_time": "2022-04-22T08:56:55.895Z"
      },
      {
        "duration": 13,
        "start_time": "2022-04-22T08:57:38.505Z"
      },
      {
        "duration": 14,
        "start_time": "2022-04-22T08:58:34.806Z"
      },
      {
        "duration": 12,
        "start_time": "2022-04-22T09:05:59.096Z"
      },
      {
        "duration": 7,
        "start_time": "2022-04-22T09:41:08.976Z"
      },
      {
        "duration": 173,
        "start_time": "2022-04-22T09:42:23.034Z"
      },
      {
        "duration": 26,
        "start_time": "2022-04-22T09:42:44.540Z"
      },
      {
        "duration": 5,
        "start_time": "2022-04-22T09:43:12.522Z"
      },
      {
        "duration": 35,
        "start_time": "2022-04-22T09:43:16.282Z"
      },
      {
        "duration": 133,
        "start_time": "2022-04-22T09:49:56.895Z"
      },
      {
        "duration": 5,
        "start_time": "2022-04-22T09:50:05.296Z"
      },
      {
        "duration": 20,
        "start_time": "2022-04-22T09:51:30.919Z"
      },
      {
        "duration": 4,
        "start_time": "2022-04-22T09:51:52.208Z"
      },
      {
        "duration": 23,
        "start_time": "2022-04-22T09:51:55.775Z"
      },
      {
        "duration": 5,
        "start_time": "2022-04-22T09:52:02.799Z"
      },
      {
        "duration": 28,
        "start_time": "2022-04-22T09:52:04.460Z"
      },
      {
        "duration": 4,
        "start_time": "2022-04-22T09:52:37.064Z"
      },
      {
        "duration": 25,
        "start_time": "2022-04-22T09:52:38.102Z"
      },
      {
        "duration": 6,
        "start_time": "2022-04-22T09:53:26.039Z"
      },
      {
        "duration": 28,
        "start_time": "2022-04-22T09:53:27.230Z"
      },
      {
        "duration": 4,
        "start_time": "2022-04-22T09:54:06.434Z"
      },
      {
        "duration": 24,
        "start_time": "2022-04-22T09:54:07.085Z"
      },
      {
        "duration": 146,
        "start_time": "2022-04-22T09:59:02.775Z"
      },
      {
        "duration": 141,
        "start_time": "2022-04-22T09:59:07.595Z"
      },
      {
        "duration": 153,
        "start_time": "2022-04-22T09:59:13.690Z"
      },
      {
        "duration": 129,
        "start_time": "2022-04-22T09:59:20.708Z"
      },
      {
        "duration": 140,
        "start_time": "2022-04-22T09:59:45.621Z"
      },
      {
        "duration": 12,
        "start_time": "2022-04-22T10:00:35.426Z"
      },
      {
        "duration": 6,
        "start_time": "2022-04-22T10:03:16.550Z"
      },
      {
        "duration": 8082,
        "start_time": "2022-04-22T10:03:32.445Z"
      },
      {
        "duration": 24402,
        "start_time": "2022-04-22T10:04:15.151Z"
      },
      {
        "duration": 565,
        "start_time": "2022-04-22T10:04:39.909Z"
      },
      {
        "duration": 129,
        "start_time": "2022-04-22T10:05:35.378Z"
      },
      {
        "duration": 154,
        "start_time": "2022-04-22T10:05:39.537Z"
      },
      {
        "duration": 147,
        "start_time": "2022-04-22T10:05:53.678Z"
      },
      {
        "duration": 141,
        "start_time": "2022-04-22T10:06:02.179Z"
      },
      {
        "duration": 19,
        "start_time": "2022-04-22T10:31:02.142Z"
      },
      {
        "duration": 10,
        "start_time": "2022-04-22T10:31:17.225Z"
      },
      {
        "duration": 12,
        "start_time": "2022-04-22T10:31:30.387Z"
      },
      {
        "duration": 20,
        "start_time": "2022-04-22T10:32:09.428Z"
      },
      {
        "duration": 34,
        "start_time": "2022-04-22T10:32:38.895Z"
      },
      {
        "duration": 43,
        "start_time": "2022-04-24T09:58:13.733Z"
      },
      {
        "duration": 6,
        "start_time": "2022-04-24T09:58:15.925Z"
      },
      {
        "duration": 6,
        "start_time": "2022-04-24T09:58:16.519Z"
      },
      {
        "duration": 423,
        "start_time": "2022-04-24T09:58:26.265Z"
      },
      {
        "duration": 838,
        "start_time": "2022-04-24T09:58:26.690Z"
      },
      {
        "duration": 59,
        "start_time": "2022-04-24T09:58:27.529Z"
      },
      {
        "duration": 15,
        "start_time": "2022-04-24T09:58:27.590Z"
      },
      {
        "duration": 22,
        "start_time": "2022-04-24T09:58:27.606Z"
      },
      {
        "duration": 8,
        "start_time": "2022-04-24T09:58:27.630Z"
      },
      {
        "duration": 6,
        "start_time": "2022-04-24T09:58:27.639Z"
      },
      {
        "duration": 6,
        "start_time": "2022-04-24T09:58:27.647Z"
      },
      {
        "duration": 12,
        "start_time": "2022-04-24T09:58:27.654Z"
      },
      {
        "duration": 6,
        "start_time": "2022-04-24T09:58:27.669Z"
      },
      {
        "duration": 26,
        "start_time": "2022-04-24T09:58:27.676Z"
      },
      {
        "duration": 4,
        "start_time": "2022-04-24T09:58:27.703Z"
      },
      {
        "duration": 7,
        "start_time": "2022-04-24T09:58:27.708Z"
      },
      {
        "duration": 4,
        "start_time": "2022-04-24T09:58:27.716Z"
      },
      {
        "duration": 11,
        "start_time": "2022-04-24T09:58:27.722Z"
      },
      {
        "duration": 4,
        "start_time": "2022-04-24T09:58:27.734Z"
      },
      {
        "duration": 4,
        "start_time": "2022-04-24T09:58:27.740Z"
      },
      {
        "duration": 6,
        "start_time": "2022-04-24T09:58:27.745Z"
      },
      {
        "duration": 7,
        "start_time": "2022-04-24T09:58:27.752Z"
      },
      {
        "duration": 3,
        "start_time": "2022-04-24T09:58:27.760Z"
      },
      {
        "duration": 3,
        "start_time": "2022-04-24T09:58:27.800Z"
      },
      {
        "duration": 6,
        "start_time": "2022-04-24T09:58:27.805Z"
      },
      {
        "duration": 10,
        "start_time": "2022-04-24T09:58:27.813Z"
      },
      {
        "duration": 7,
        "start_time": "2022-04-24T09:58:27.824Z"
      },
      {
        "duration": 2,
        "start_time": "2022-04-24T09:58:27.833Z"
      },
      {
        "duration": 4,
        "start_time": "2022-04-24T09:58:27.837Z"
      },
      {
        "duration": 10,
        "start_time": "2022-04-24T09:58:27.842Z"
      },
      {
        "duration": 4,
        "start_time": "2022-04-24T09:58:27.856Z"
      },
      {
        "duration": 64,
        "start_time": "2022-04-24T09:58:27.861Z"
      },
      {
        "duration": 3,
        "start_time": "2022-04-24T09:58:27.927Z"
      },
      {
        "duration": 8,
        "start_time": "2022-04-24T09:58:27.931Z"
      },
      {
        "duration": 4,
        "start_time": "2022-04-24T09:58:27.941Z"
      },
      {
        "duration": 6,
        "start_time": "2022-04-24T09:58:27.947Z"
      },
      {
        "duration": 5,
        "start_time": "2022-04-24T09:58:27.954Z"
      },
      {
        "duration": 4,
        "start_time": "2022-04-24T09:58:27.961Z"
      },
      {
        "duration": 35,
        "start_time": "2022-04-24T09:58:27.967Z"
      },
      {
        "duration": 3,
        "start_time": "2022-04-24T09:58:28.004Z"
      },
      {
        "duration": 5,
        "start_time": "2022-04-24T09:58:28.008Z"
      },
      {
        "duration": 11,
        "start_time": "2022-04-24T09:58:28.014Z"
      },
      {
        "duration": 8,
        "start_time": "2022-04-24T09:58:28.026Z"
      },
      {
        "duration": 9,
        "start_time": "2022-04-24T09:58:28.035Z"
      },
      {
        "duration": 6,
        "start_time": "2022-04-24T09:58:28.045Z"
      },
      {
        "duration": 7,
        "start_time": "2022-04-24T09:58:28.053Z"
      },
      {
        "duration": 6,
        "start_time": "2022-04-24T09:58:28.061Z"
      },
      {
        "duration": 33,
        "start_time": "2022-04-24T09:58:28.069Z"
      },
      {
        "duration": 4,
        "start_time": "2022-04-24T09:58:28.104Z"
      },
      {
        "duration": 9,
        "start_time": "2022-04-24T09:58:28.109Z"
      },
      {
        "duration": 15,
        "start_time": "2022-04-24T09:58:28.119Z"
      },
      {
        "duration": 6,
        "start_time": "2022-04-24T09:58:28.135Z"
      },
      {
        "duration": 29,
        "start_time": "2022-04-24T09:58:28.142Z"
      },
      {
        "duration": 31,
        "start_time": "2022-04-24T09:58:28.172Z"
      },
      {
        "duration": 5,
        "start_time": "2022-04-24T09:58:28.204Z"
      },
      {
        "duration": 7,
        "start_time": "2022-04-24T09:58:28.211Z"
      },
      {
        "duration": 9,
        "start_time": "2022-04-24T09:58:28.219Z"
      },
      {
        "duration": 7,
        "start_time": "2022-04-24T09:58:28.229Z"
      },
      {
        "duration": 4,
        "start_time": "2022-04-24T09:58:28.237Z"
      },
      {
        "duration": 14,
        "start_time": "2022-04-24T09:58:28.242Z"
      },
      {
        "duration": 6,
        "start_time": "2022-04-24T09:58:28.257Z"
      },
      {
        "duration": 4,
        "start_time": "2022-04-24T09:58:28.265Z"
      },
      {
        "duration": 34,
        "start_time": "2022-04-24T09:58:28.271Z"
      },
      {
        "duration": 7,
        "start_time": "2022-04-24T09:58:28.306Z"
      },
      {
        "duration": 10,
        "start_time": "2022-04-24T09:58:28.314Z"
      },
      {
        "duration": 4,
        "start_time": "2022-04-24T09:58:28.326Z"
      },
      {
        "duration": 12,
        "start_time": "2022-04-24T09:58:28.332Z"
      },
      {
        "duration": 146,
        "start_time": "2022-04-24T09:58:28.346Z"
      },
      {
        "duration": 20,
        "start_time": "2022-04-24T09:58:28.494Z"
      },
      {
        "duration": 15,
        "start_time": "2022-04-24T09:58:28.516Z"
      },
      {
        "duration": 27,
        "start_time": "2022-04-24T09:58:28.533Z"
      },
      {
        "duration": 125,
        "start_time": "2022-04-24T09:58:28.562Z"
      },
      {
        "duration": 23,
        "start_time": "2022-04-24T09:58:28.689Z"
      },
      {
        "duration": 102,
        "start_time": "2022-04-24T09:58:28.714Z"
      },
      {
        "duration": 15,
        "start_time": "2022-04-24T09:58:28.818Z"
      },
      {
        "duration": 111,
        "start_time": "2022-04-24T09:58:28.835Z"
      }
    ],
    "kernelspec": {
      "display_name": "Python 3 (ipykernel)",
      "language": "python",
      "name": "python3"
    },
    "language_info": {
      "codemirror_mode": {
        "name": "ipython",
        "version": 3
      },
      "file_extension": ".py",
      "mimetype": "text/x-python",
      "name": "python",
      "nbconvert_exporter": "python",
      "pygments_lexer": "ipython3",
      "version": "3.9.7"
    },
    "toc": {
      "base_numbering": 1,
      "nav_menu": {},
      "number_sections": true,
      "sideBar": true,
      "skip_h1_title": true,
      "title_cell": "Table of Contents",
      "title_sidebar": "Contents",
      "toc_cell": false,
      "toc_position": {
        "height": "calc(100% - 180px)",
        "left": "10px",
        "top": "150px",
        "width": "303.825px"
      },
      "toc_section_display": true,
      "toc_window_display": true
    },
    "colab": {
      "name": "scoring_bank_debt.ipynb",
      "provenance": [],
      "toc_visible": true,
      "collapsed_sections": [],
      "include_colab_link": true
    }
  },
  "nbformat": 4,
  "nbformat_minor": 5
}