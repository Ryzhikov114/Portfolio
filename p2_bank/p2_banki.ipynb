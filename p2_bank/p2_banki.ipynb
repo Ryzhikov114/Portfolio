{
 "cells": [
  {
   "cell_type": "markdown",
   "id": "dc4b66f8",
   "metadata": {},
   "source": [
    "# Исследование надёжности заёмщиков"
   ]
  },
  {
   "cell_type": "markdown",
   "id": "661a72f8",
   "metadata": {},
   "source": [
    "Цель исследования высянить:\n",
    "\n",
    "    1. Есть ли зависимость между количеством детей и возвратом кредита в срок?\n",
    "    2. Есть ли зависимость между семейным положением и возвратом кредита в срок?\n",
    "    3. Есть ли зависимость между уровнем дохода и возвратом кредита в срок?\n",
    "    4. Как разные цели кредита влияют на его возврат в срок?"
   ]
  },
  {
   "cell_type": "markdown",
   "id": "d2387e1b",
   "metadata": {},
   "source": [
    "### Шаг 1. Обзор данных"
   ]
  },
  {
   "cell_type": "code",
   "execution_count": 75,
   "id": "effd3050",
   "metadata": {
    "ExecuteTime": {
     "end_time": "2022-08-27T10:44:01.775944Z",
     "start_time": "2022-08-27T10:44:01.760940Z"
    }
   },
   "outputs": [],
   "source": [
    "import pandas as pd\n",
    "import seaborn"
   ]
  },
  {
   "cell_type": "code",
   "execution_count": 76,
   "id": "985a88a8",
   "metadata": {
    "ExecuteTime": {
     "end_time": "2022-08-27T10:44:02.008443Z",
     "start_time": "2022-08-27T10:44:01.916459Z"
    },
    "scrolled": false
   },
   "outputs": [],
   "source": [
    "data = pd.read_csv('/anaconda_files/ya/p2_banki/data.csv')\n",
    "# присваиваю файлу переменную data и открываю таблицу"
   ]
  },
  {
   "cell_type": "code",
   "execution_count": 77,
   "id": "25346e40",
   "metadata": {
    "ExecuteTime": {
     "end_time": "2022-08-27T10:44:03.019916Z",
     "start_time": "2022-08-27T10:44:02.982936Z"
    }
   },
   "outputs": [
    {
     "name": "stdout",
     "output_type": "stream",
     "text": [
      "<class 'pandas.core.frame.DataFrame'>\n",
      "RangeIndex: 21525 entries, 0 to 21524\n",
      "Data columns (total 12 columns):\n",
      " #   Column            Non-Null Count  Dtype  \n",
      "---  ------            --------------  -----  \n",
      " 0   children          21525 non-null  int64  \n",
      " 1   days_employed     19351 non-null  float64\n",
      " 2   dob_years         21525 non-null  int64  \n",
      " 3   education         21525 non-null  object \n",
      " 4   education_id      21525 non-null  int64  \n",
      " 5   family_status     21525 non-null  object \n",
      " 6   family_status_id  21525 non-null  int64  \n",
      " 7   gender            21525 non-null  object \n",
      " 8   income_type       21525 non-null  object \n",
      " 9   debt              21525 non-null  int64  \n",
      " 10  total_income      19351 non-null  float64\n",
      " 11  purpose           21525 non-null  object \n",
      "dtypes: float64(2), int64(5), object(5)\n",
      "memory usage: 2.0+ MB\n"
     ]
    }
   ],
   "source": [
    "data.info()\n",
    "# метод info() для общей информации"
   ]
  },
  {
   "cell_type": "code",
   "execution_count": 78,
   "id": "a0317cfd",
   "metadata": {
    "ExecuteTime": {
     "end_time": "2022-08-27T10:44:03.711475Z",
     "start_time": "2022-08-27T10:44:03.686490Z"
    }
   },
   "outputs": [
    {
     "data": {
      "text/html": [
       "<div>\n",
       "<style scoped>\n",
       "    .dataframe tbody tr th:only-of-type {\n",
       "        vertical-align: middle;\n",
       "    }\n",
       "\n",
       "    .dataframe tbody tr th {\n",
       "        vertical-align: top;\n",
       "    }\n",
       "\n",
       "    .dataframe thead th {\n",
       "        text-align: right;\n",
       "    }\n",
       "</style>\n",
       "<table border=\"1\" class=\"dataframe\">\n",
       "  <thead>\n",
       "    <tr style=\"text-align: right;\">\n",
       "      <th></th>\n",
       "      <th>children</th>\n",
       "      <th>days_employed</th>\n",
       "      <th>dob_years</th>\n",
       "      <th>education</th>\n",
       "      <th>education_id</th>\n",
       "      <th>family_status</th>\n",
       "      <th>family_status_id</th>\n",
       "      <th>gender</th>\n",
       "      <th>income_type</th>\n",
       "      <th>debt</th>\n",
       "      <th>total_income</th>\n",
       "      <th>purpose</th>\n",
       "    </tr>\n",
       "  </thead>\n",
       "  <tbody>\n",
       "    <tr>\n",
       "      <th>0</th>\n",
       "      <td>1</td>\n",
       "      <td>-8437.673028</td>\n",
       "      <td>42</td>\n",
       "      <td>высшее</td>\n",
       "      <td>0</td>\n",
       "      <td>женат / замужем</td>\n",
       "      <td>0</td>\n",
       "      <td>F</td>\n",
       "      <td>сотрудник</td>\n",
       "      <td>0</td>\n",
       "      <td>253875.639453</td>\n",
       "      <td>покупка жилья</td>\n",
       "    </tr>\n",
       "    <tr>\n",
       "      <th>1</th>\n",
       "      <td>1</td>\n",
       "      <td>-4024.803754</td>\n",
       "      <td>36</td>\n",
       "      <td>среднее</td>\n",
       "      <td>1</td>\n",
       "      <td>женат / замужем</td>\n",
       "      <td>0</td>\n",
       "      <td>F</td>\n",
       "      <td>сотрудник</td>\n",
       "      <td>0</td>\n",
       "      <td>112080.014102</td>\n",
       "      <td>приобретение автомобиля</td>\n",
       "    </tr>\n",
       "    <tr>\n",
       "      <th>2</th>\n",
       "      <td>0</td>\n",
       "      <td>-5623.422610</td>\n",
       "      <td>33</td>\n",
       "      <td>Среднее</td>\n",
       "      <td>1</td>\n",
       "      <td>женат / замужем</td>\n",
       "      <td>0</td>\n",
       "      <td>M</td>\n",
       "      <td>сотрудник</td>\n",
       "      <td>0</td>\n",
       "      <td>145885.952297</td>\n",
       "      <td>покупка жилья</td>\n",
       "    </tr>\n",
       "    <tr>\n",
       "      <th>3</th>\n",
       "      <td>3</td>\n",
       "      <td>-4124.747207</td>\n",
       "      <td>32</td>\n",
       "      <td>среднее</td>\n",
       "      <td>1</td>\n",
       "      <td>женат / замужем</td>\n",
       "      <td>0</td>\n",
       "      <td>M</td>\n",
       "      <td>сотрудник</td>\n",
       "      <td>0</td>\n",
       "      <td>267628.550329</td>\n",
       "      <td>дополнительное образование</td>\n",
       "    </tr>\n",
       "    <tr>\n",
       "      <th>4</th>\n",
       "      <td>0</td>\n",
       "      <td>340266.072047</td>\n",
       "      <td>53</td>\n",
       "      <td>среднее</td>\n",
       "      <td>1</td>\n",
       "      <td>гражданский брак</td>\n",
       "      <td>1</td>\n",
       "      <td>F</td>\n",
       "      <td>пенсионер</td>\n",
       "      <td>0</td>\n",
       "      <td>158616.077870</td>\n",
       "      <td>сыграть свадьбу</td>\n",
       "    </tr>\n",
       "    <tr>\n",
       "      <th>5</th>\n",
       "      <td>0</td>\n",
       "      <td>-926.185831</td>\n",
       "      <td>27</td>\n",
       "      <td>высшее</td>\n",
       "      <td>0</td>\n",
       "      <td>гражданский брак</td>\n",
       "      <td>1</td>\n",
       "      <td>M</td>\n",
       "      <td>компаньон</td>\n",
       "      <td>0</td>\n",
       "      <td>255763.565419</td>\n",
       "      <td>покупка жилья</td>\n",
       "    </tr>\n",
       "    <tr>\n",
       "      <th>6</th>\n",
       "      <td>0</td>\n",
       "      <td>-2879.202052</td>\n",
       "      <td>43</td>\n",
       "      <td>высшее</td>\n",
       "      <td>0</td>\n",
       "      <td>женат / замужем</td>\n",
       "      <td>0</td>\n",
       "      <td>F</td>\n",
       "      <td>компаньон</td>\n",
       "      <td>0</td>\n",
       "      <td>240525.971920</td>\n",
       "      <td>операции с жильем</td>\n",
       "    </tr>\n",
       "    <tr>\n",
       "      <th>7</th>\n",
       "      <td>0</td>\n",
       "      <td>-152.779569</td>\n",
       "      <td>50</td>\n",
       "      <td>СРЕДНЕЕ</td>\n",
       "      <td>1</td>\n",
       "      <td>женат / замужем</td>\n",
       "      <td>0</td>\n",
       "      <td>M</td>\n",
       "      <td>сотрудник</td>\n",
       "      <td>0</td>\n",
       "      <td>135823.934197</td>\n",
       "      <td>образование</td>\n",
       "    </tr>\n",
       "    <tr>\n",
       "      <th>8</th>\n",
       "      <td>2</td>\n",
       "      <td>-6929.865299</td>\n",
       "      <td>35</td>\n",
       "      <td>ВЫСШЕЕ</td>\n",
       "      <td>0</td>\n",
       "      <td>гражданский брак</td>\n",
       "      <td>1</td>\n",
       "      <td>F</td>\n",
       "      <td>сотрудник</td>\n",
       "      <td>0</td>\n",
       "      <td>95856.832424</td>\n",
       "      <td>на проведение свадьбы</td>\n",
       "    </tr>\n",
       "    <tr>\n",
       "      <th>9</th>\n",
       "      <td>0</td>\n",
       "      <td>-2188.756445</td>\n",
       "      <td>41</td>\n",
       "      <td>среднее</td>\n",
       "      <td>1</td>\n",
       "      <td>женат / замужем</td>\n",
       "      <td>0</td>\n",
       "      <td>M</td>\n",
       "      <td>сотрудник</td>\n",
       "      <td>0</td>\n",
       "      <td>144425.938277</td>\n",
       "      <td>покупка жилья для семьи</td>\n",
       "    </tr>\n",
       "  </tbody>\n",
       "</table>\n",
       "</div>"
      ],
      "text/plain": [
       "   children  days_employed  dob_years education  education_id  \\\n",
       "0         1   -8437.673028         42    высшее             0   \n",
       "1         1   -4024.803754         36   среднее             1   \n",
       "2         0   -5623.422610         33   Среднее             1   \n",
       "3         3   -4124.747207         32   среднее             1   \n",
       "4         0  340266.072047         53   среднее             1   \n",
       "5         0    -926.185831         27    высшее             0   \n",
       "6         0   -2879.202052         43    высшее             0   \n",
       "7         0    -152.779569         50   СРЕДНЕЕ             1   \n",
       "8         2   -6929.865299         35    ВЫСШЕЕ             0   \n",
       "9         0   -2188.756445         41   среднее             1   \n",
       "\n",
       "      family_status  family_status_id gender income_type  debt   total_income  \\\n",
       "0   женат / замужем                 0      F   сотрудник     0  253875.639453   \n",
       "1   женат / замужем                 0      F   сотрудник     0  112080.014102   \n",
       "2   женат / замужем                 0      M   сотрудник     0  145885.952297   \n",
       "3   женат / замужем                 0      M   сотрудник     0  267628.550329   \n",
       "4  гражданский брак                 1      F   пенсионер     0  158616.077870   \n",
       "5  гражданский брак                 1      M   компаньон     0  255763.565419   \n",
       "6   женат / замужем                 0      F   компаньон     0  240525.971920   \n",
       "7   женат / замужем                 0      M   сотрудник     0  135823.934197   \n",
       "8  гражданский брак                 1      F   сотрудник     0   95856.832424   \n",
       "9   женат / замужем                 0      M   сотрудник     0  144425.938277   \n",
       "\n",
       "                      purpose  \n",
       "0               покупка жилья  \n",
       "1     приобретение автомобиля  \n",
       "2               покупка жилья  \n",
       "3  дополнительное образование  \n",
       "4             сыграть свадьбу  \n",
       "5               покупка жилья  \n",
       "6           операции с жильем  \n",
       "7                 образование  \n",
       "8       на проведение свадьбы  \n",
       "9     покупка жилья для семьи  "
      ]
     },
     "execution_count": 78,
     "metadata": {},
     "output_type": "execute_result"
    }
   ],
   "source": [
    "data.head(10)\n",
    "# вывожу первые 10 срок для понимания с какими данными буду работать"
   ]
  },
  {
   "cell_type": "markdown",
   "id": "c8a05b4d",
   "metadata": {},
   "source": [
    "В полученых показателях видно:\n",
    "\n",
    "    - в таблице 12 колонок и 21525 строк\n",
    "    - типы соотсветсвую значениям в колонках где должны быть целые - int, где текст - object, там где дробные - float\n",
    "    - названия колонок без ошибок, с маленькой буквы, змеиный регистр\n",
    "    - разный регистр в значениях столбцов\n",
    "    - минусовые значения возможно, там где их не должно быть"
   ]
  },
  {
   "cell_type": "markdown",
   "id": "2159dff2",
   "metadata": {},
   "source": [
    "## Шаг 2 Предобработка данных"
   ]
  },
  {
   "cell_type": "markdown",
   "id": "42b5f9e4",
   "metadata": {},
   "source": [
    "### Шаг 2.1 Заполнение пропусков"
   ]
  },
  {
   "cell_type": "code",
   "execution_count": 79,
   "id": "6dc666b5",
   "metadata": {
    "ExecuteTime": {
     "end_time": "2022-08-27T10:44:05.261378Z",
     "start_time": "2022-08-27T10:44:05.239392Z"
    }
   },
   "outputs": [
    {
     "name": "stdout",
     "output_type": "stream",
     "text": [
      "children               0\n",
      "days_employed       2174\n",
      "dob_years              0\n",
      "education              0\n",
      "education_id           0\n",
      "family_status          0\n",
      "family_status_id       0\n",
      "gender                 0\n",
      "income_type            0\n",
      "debt                   0\n",
      "total_income        2174\n",
      "purpose                0\n",
      "dtype: int64\n"
     ]
    }
   ],
   "source": [
    "print(data.isna().sum())\n",
    "# ищу в каких столбцах есть пропуски"
   ]
  },
  {
   "cell_type": "markdown",
   "id": "d076a3be",
   "metadata": {},
   "source": [
    "Анализ выявил что в стоблцах days_employed и total_income есть пропуски. \n",
    "\n",
    "    days_employed — общий трудовой стаж в днях\n",
    "    total_income — ежемесячный доход"
   ]
  },
  {
   "cell_type": "code",
   "execution_count": 80,
   "id": "a2b93725",
   "metadata": {
    "ExecuteTime": {
     "end_time": "2022-08-27T10:44:05.562224Z",
     "start_time": "2022-08-27T10:44:05.549214Z"
    }
   },
   "outputs": [],
   "source": [
    "missing_values = data['total_income'].isna().sum(\n",
    ") / data['total_income'].value_counts().sum()\n",
    "# процент пропущенных значний в столбце days_employed равен total_income"
   ]
  },
  {
   "cell_type": "code",
   "execution_count": 81,
   "id": "3023600b",
   "metadata": {
    "ExecuteTime": {
     "end_time": "2022-08-27T10:44:05.718115Z",
     "start_time": "2022-08-27T10:44:05.704124Z"
    }
   },
   "outputs": [
    {
     "name": "stdout",
     "output_type": "stream",
     "text": [
      "Доля пропущенных значений в столбцах 'total_income', 'days_employed' - 11.23%\n"
     ]
    }
   ],
   "source": [
    "print(\n",
    "    f'Доля пропущенных значений в столбцах \\'total_income\\', \\'days_employed\\' - {missing_values:.2%}')\n",
    "# вывожу процент пропущенных значений"
   ]
  },
  {
   "cell_type": "markdown",
   "id": "f76208a8",
   "metadata": {},
   "source": [
    "Возможные причины появления пропусков в данных:\n",
    "    \n",
    "    - отсутсвие официальной работы у заемщиков\n",
    "    - отсутсвие официальных доходов\n",
    "    - человеческий фактор\n",
    "    - повреждение/сбой в данных"
   ]
  },
  {
   "cell_type": "code",
   "execution_count": 82,
   "id": "4869a96d",
   "metadata": {
    "ExecuteTime": {
     "end_time": "2022-08-27T10:44:06.029336Z",
     "start_time": "2022-08-27T10:44:06.006332Z"
    }
   },
   "outputs": [
    {
     "name": "stdout",
     "output_type": "stream",
     "text": [
      "median 145017.93753253992\n",
      "mean 167422.3022081719\n",
      "min 20667.26379327158\n",
      "max 2265604.028722744\n",
      "NA 2174\n"
     ]
    }
   ],
   "source": [
    "print('median', data['total_income'].median())\n",
    "print('mean', data['total_income'].mean())\n",
    "print('min', data['total_income'].min())\n",
    "print('max', data['total_income'].max())\n",
    "print('NA', data['total_income'].isna().sum())\n",
    "# проверим на аномальные значения уровня зарплат (например на отрицательное число)"
   ]
  },
  {
   "cell_type": "code",
   "execution_count": 83,
   "id": "3921c052",
   "metadata": {
    "ExecuteTime": {
     "end_time": "2022-08-27T10:44:06.169518Z",
     "start_time": "2022-08-27T10:44:06.162524Z"
    }
   },
   "outputs": [],
   "source": [
    "total_income_median = data['total_income'].median()\n",
    "# посчитали медиану"
   ]
  },
  {
   "cell_type": "code",
   "execution_count": 84,
   "id": "0836489c",
   "metadata": {
    "ExecuteTime": {
     "end_time": "2022-08-27T10:44:06.340531Z",
     "start_time": "2022-08-27T10:44:06.321546Z"
    }
   },
   "outputs": [],
   "source": [
    "data['total_income'] = data['total_income'].fillna(total_income_median)\n",
    "# добавили значение медианы в столбец таблицы вместо пропусков"
   ]
  },
  {
   "cell_type": "code",
   "execution_count": 85,
   "id": "b4b1d415",
   "metadata": {
    "ExecuteTime": {
     "end_time": "2022-08-27T10:44:06.686955Z",
     "start_time": "2022-08-27T10:44:06.671964Z"
    }
   },
   "outputs": [
    {
     "name": "stdout",
     "output_type": "stream",
     "text": [
      "0\n"
     ]
    }
   ],
   "source": [
    "print(data['total_income'].isna().sum())\n",
    "# проверили столбец на пропуски"
   ]
  },
  {
   "cell_type": "markdown",
   "id": "a15f8e27",
   "metadata": {},
   "source": [
    "### Шаг 2.2 Проверка данных на аномалии и исправления"
   ]
  },
  {
   "cell_type": "code",
   "execution_count": 86,
   "id": "e56eb220",
   "metadata": {
    "ExecuteTime": {
     "end_time": "2022-08-27T10:44:07.209907Z",
     "start_time": "2022-08-27T10:44:07.193899Z"
    }
   },
   "outputs": [
    {
     "name": "stdout",
     "output_type": "stream",
     "text": [
      "min -1\n",
      "max 20\n",
      "NA 0\n"
     ]
    }
   ],
   "source": [
    "print('min', data['children'].min())\n",
    "print('max', data['children'].max())\n",
    "print('NA', data['children'].isna().sum())\n",
    "# проверим значения столбца с колличеством детей"
   ]
  },
  {
   "cell_type": "code",
   "execution_count": 87,
   "id": "a326680f",
   "metadata": {
    "ExecuteTime": {
     "end_time": "2022-08-27T10:44:07.383294Z",
     "start_time": "2022-08-27T10:44:07.366285Z"
    }
   },
   "outputs": [
    {
     "name": "stdout",
     "output_type": "stream",
     "text": [
      " 0     14149\n",
      " 1      4818\n",
      " 2      2055\n",
      " 3       330\n",
      " 20       76\n",
      "-1        47\n",
      " 4        41\n",
      " 5         9\n",
      "Name: children, dtype: int64\n"
     ]
    }
   ],
   "source": [
    "print(data['children'].value_counts())\n",
    "# нужно посмотреть значения из за странного количества детей"
   ]
  },
  {
   "cell_type": "code",
   "execution_count": 88,
   "id": "3d3386c9",
   "metadata": {
    "ExecuteTime": {
     "end_time": "2022-08-27T10:44:07.555215Z",
     "start_time": "2022-08-27T10:44:07.544223Z"
    }
   },
   "outputs": [],
   "source": [
    "data = data.drop(data[data['children'] == 20].index)\n",
    "# удалим строки где детей больше чем обычно"
   ]
  },
  {
   "cell_type": "code",
   "execution_count": 89,
   "id": "8b34e7dc",
   "metadata": {
    "ExecuteTime": {
     "end_time": "2022-08-27T10:44:07.725849Z",
     "start_time": "2022-08-27T10:44:07.714856Z"
    }
   },
   "outputs": [],
   "source": [
    "data = data.reset_index(drop=True)\n",
    "# сбросим индекс"
   ]
  },
  {
   "cell_type": "code",
   "execution_count": 90,
   "id": "3850a240",
   "metadata": {
    "ExecuteTime": {
     "end_time": "2022-08-27T10:44:07.881393Z",
     "start_time": "2022-08-27T10:44:07.875395Z"
    }
   },
   "outputs": [],
   "source": [
    "data['children'] = data['children'].abs()\n",
    "# применим функцию abs()"
   ]
  },
  {
   "cell_type": "code",
   "execution_count": 91,
   "id": "453b4915",
   "metadata": {
    "ExecuteTime": {
     "end_time": "2022-08-27T10:44:08.052152Z",
     "start_time": "2022-08-27T10:44:08.039155Z"
    }
   },
   "outputs": [
    {
     "name": "stdout",
     "output_type": "stream",
     "text": [
      "min 0\n"
     ]
    }
   ],
   "source": [
    "print('min', data['children'].min())\n",
    "# проверим значения"
   ]
  },
  {
   "cell_type": "code",
   "execution_count": 92,
   "id": "c031a3f2",
   "metadata": {
    "ExecuteTime": {
     "end_time": "2022-08-27T10:44:08.239456Z",
     "start_time": "2022-08-27T10:44:08.213454Z"
    }
   },
   "outputs": [
    {
     "name": "stdout",
     "output_type": "stream",
     "text": [
      "median -1204.1647137573468\n",
      "mean 63141.23352703742\n",
      "min -18388.949900568383\n",
      "max 401755.40047533\n",
      "NA 2165\n"
     ]
    }
   ],
   "source": [
    "print('median', data['days_employed'].median())\n",
    "print('mean', data['days_employed'].mean())\n",
    "print('min', data['days_employed'].min())\n",
    "print('max', data['days_employed'].max())\n",
    "print('NA', data['days_employed'].isna().sum())\n",
    "# посмотрим на значения в столбце колличество отработанных дней"
   ]
  },
  {
   "cell_type": "code",
   "execution_count": 93,
   "id": "f9810d4a",
   "metadata": {
    "ExecuteTime": {
     "end_time": "2022-08-27T10:44:08.379794Z",
     "start_time": "2022-08-27T10:44:08.367804Z"
    }
   },
   "outputs": [],
   "source": [
    "data['days_employed'] = data['days_employed'].abs()\n",
    "# применим функцию abs() на столбце days_employed"
   ]
  },
  {
   "cell_type": "code",
   "execution_count": 94,
   "id": "ce8ce06a",
   "metadata": {
    "ExecuteTime": {
     "end_time": "2022-08-27T10:44:08.554825Z",
     "start_time": "2022-08-27T10:44:08.542834Z"
    }
   },
   "outputs": [
    {
     "name": "stdout",
     "output_type": "stream",
     "text": [
      "min 24.14163324048118\n"
     ]
    }
   ],
   "source": [
    "print('min', data['days_employed'].min())\n",
    "# проверим работает ли функция"
   ]
  },
  {
   "cell_type": "code",
   "execution_count": 95,
   "id": "fa957455",
   "metadata": {
    "ExecuteTime": {
     "end_time": "2022-08-27T10:44:08.696368Z",
     "start_time": "2022-08-27T10:44:08.687371Z"
    }
   },
   "outputs": [],
   "source": [
    "def days_employed_correct(row):\n",
    "    \"\"\"\n",
    "    берет данные из столбца, делит его на 365\n",
    "    затирает значение чей стаж более 57 лет, при этом пустые значения не трогает\n",
    "    \"\"\"\n",
    "    if 0 < row / 365 <= 57:\n",
    "        return row\n",
    "    if row / 365 > 57:\n",
    "        return 365 * 57"
   ]
  },
  {
   "cell_type": "code",
   "execution_count": 96,
   "id": "50de648b",
   "metadata": {
    "ExecuteTime": {
     "end_time": "2022-08-27T10:44:08.885729Z",
     "start_time": "2022-08-27T10:44:08.860743Z"
    }
   },
   "outputs": [],
   "source": [
    "data['days_employed'] = data['days_employed'].apply(days_employed_correct)\n",
    "# применим функцию days_employed_correct"
   ]
  },
  {
   "cell_type": "code",
   "execution_count": 97,
   "id": "339e4717",
   "metadata": {
    "ExecuteTime": {
     "end_time": "2022-08-27T10:44:09.040876Z",
     "start_time": "2022-08-27T10:44:09.027881Z"
    }
   },
   "outputs": [
    {
     "name": "stdout",
     "output_type": "stream",
     "text": [
      "median 2196.507938101055\n",
      "mean 5643.325349318134\n",
      "min 24.14163324048118\n",
      "max 20805.0\n",
      "NA 2165\n"
     ]
    }
   ],
   "source": [
    "print('median', data['days_employed'].median())\n",
    "print('mean', data['days_employed'].mean())\n",
    "print('min', data['days_employed'].min())\n",
    "print('max', data['days_employed'].max())\n",
    "print('NA', data['days_employed'].isna().sum())\n",
    "# проверим столбец days_employed на пропуски а также посомтрим значения которые есть в столбце"
   ]
  },
  {
   "cell_type": "code",
   "execution_count": 98,
   "id": "d7e0d3a4",
   "metadata": {
    "ExecuteTime": {
     "end_time": "2022-08-27T10:44:09.200519Z",
     "start_time": "2022-08-27T10:44:09.193525Z"
    }
   },
   "outputs": [],
   "source": [
    "days_employed_median = data['days_employed'].median()\n",
    "# находим медиану для столбца days_employed"
   ]
  },
  {
   "cell_type": "code",
   "execution_count": 99,
   "id": "47308203",
   "metadata": {
    "ExecuteTime": {
     "end_time": "2022-08-27T10:44:09.358966Z",
     "start_time": "2022-08-27T10:44:09.340976Z"
    }
   },
   "outputs": [],
   "source": [
    "data['days_employed'] = data['days_employed'].fillna(days_employed_median)\n",
    "# добавляем значения медианы вместо пропусков"
   ]
  },
  {
   "cell_type": "code",
   "execution_count": 27,
   "id": "eb84e1fb",
   "metadata": {
    "ExecuteTime": {
     "end_time": "2022-08-27T10:42:58.863767Z",
     "start_time": "2022-08-27T10:42:58.856770Z"
    }
   },
   "outputs": [
    {
     "name": "stdout",
     "output_type": "stream",
     "text": [
      "0\n"
     ]
    }
   ],
   "source": [
    "print(data['days_employed'].isna().sum())\n",
    "# проверим на наличие пустых значений"
   ]
  },
  {
   "cell_type": "code",
   "execution_count": 28,
   "id": "700a047d",
   "metadata": {
    "ExecuteTime": {
     "end_time": "2022-08-27T10:42:58.879755Z",
     "start_time": "2022-08-27T10:42:58.866763Z"
    }
   },
   "outputs": [
    {
     "name": "stdout",
     "output_type": "stream",
     "text": [
      "min 0\n",
      "max 75\n",
      "NA 0\n"
     ]
    }
   ],
   "source": [
    "print('min', data['dob_years'].min())\n",
    "print('max', data['dob_years'].max())\n",
    "print('NA', data['dob_years'].isna().sum())\n",
    "# проверим значения столбца с возрастом клиента"
   ]
  },
  {
   "cell_type": "code",
   "execution_count": 29,
   "id": "1dfc369c",
   "metadata": {
    "ExecuteTime": {
     "end_time": "2022-08-27T10:42:58.973702Z",
     "start_time": "2022-08-27T10:42:58.882754Z"
    }
   },
   "outputs": [],
   "source": [
    "to_young = data[data['dob_years'] < 18].value_counts(\n",
    ").sum() / data[data['dob_years'] > 18].value_counts().sum()\n",
    "# найдем процент несовершенно летних от общего числа"
   ]
  },
  {
   "cell_type": "code",
   "execution_count": 30,
   "id": "15882e11",
   "metadata": {
    "ExecuteTime": {
     "end_time": "2022-08-27T10:42:58.989695Z",
     "start_time": "2022-08-27T10:42:58.976700Z"
    }
   },
   "outputs": [
    {
     "name": "stdout",
     "output_type": "stream",
     "text": [
      "Процент значений несовершенно летних: 0.47%\n"
     ]
    }
   ],
   "source": [
    "print(f'Процент значений несовершенно летних: {to_young:.2%}')\n",
    "# выведем значение на экран"
   ]
  },
  {
   "cell_type": "code",
   "execution_count": 31,
   "id": "ced6361b",
   "metadata": {
    "ExecuteTime": {
     "end_time": "2022-08-27T10:42:59.020676Z",
     "start_time": "2022-08-27T10:42:58.996694Z"
    }
   },
   "outputs": [],
   "source": [
    "data = data.drop(data[data['dob_years'] < 18].index)\n",
    "# минимальный возраст для получения кредита составляет 18 лет, таких данных меньше 1% - удаляем"
   ]
  },
  {
   "cell_type": "code",
   "execution_count": 32,
   "id": "64762d0c",
   "metadata": {
    "ExecuteTime": {
     "end_time": "2022-08-27T10:42:59.035666Z",
     "start_time": "2022-08-27T10:42:59.024673Z"
    }
   },
   "outputs": [],
   "source": [
    "data = data.reset_index(drop=True)\n",
    "# сбросим индекс"
   ]
  },
  {
   "cell_type": "code",
   "execution_count": 33,
   "id": "30858f19",
   "metadata": {
    "ExecuteTime": {
     "end_time": "2022-08-27T10:42:59.051658Z",
     "start_time": "2022-08-27T10:42:59.039664Z"
    }
   },
   "outputs": [
    {
     "name": "stdout",
     "output_type": "stream",
     "text": [
      "min 0\n",
      "max 4\n",
      "NA 0\n"
     ]
    }
   ],
   "source": [
    "print('min', data['education_id'].min())\n",
    "print('max', data['education_id'].max())\n",
    "print('NA', data['education_id'].isna().sum())\n",
    "# проверим значения столбца с идентификатором уровня образования"
   ]
  },
  {
   "cell_type": "code",
   "execution_count": 34,
   "id": "9b88ceef",
   "metadata": {
    "ExecuteTime": {
     "end_time": "2022-08-27T10:42:59.067648Z",
     "start_time": "2022-08-27T10:42:59.054655Z"
    }
   },
   "outputs": [
    {
     "name": "stdout",
     "output_type": "stream",
     "text": [
      "min 0\n",
      "max 4\n",
      "NA 0\n"
     ]
    }
   ],
   "source": [
    "print('min', data['family_status_id'].min())\n",
    "print('max', data['family_status_id'].max())\n",
    "print('NA', data['family_status_id'].isna().sum())\n",
    "# проверим значения столбца с идентификатором семейного положения"
   ]
  },
  {
   "cell_type": "code",
   "execution_count": 35,
   "id": "fe9f0f4e",
   "metadata": {
    "ExecuteTime": {
     "end_time": "2022-08-27T10:42:59.083637Z",
     "start_time": "2022-08-27T10:42:59.070646Z"
    }
   },
   "outputs": [
    {
     "name": "stdout",
     "output_type": "stream",
     "text": [
      "min 0\n",
      "max 1\n",
      "NA 0\n"
     ]
    }
   ],
   "source": [
    "print('min', data['debt'].min())\n",
    "print('max', data['debt'].max())\n",
    "print('NA', data['debt'].isna().sum())\n",
    "# проверим значения столбца с задолженностью"
   ]
  },
  {
   "cell_type": "code",
   "execution_count": 36,
   "id": "c9d400a6",
   "metadata": {
    "ExecuteTime": {
     "end_time": "2022-08-27T10:42:59.099629Z",
     "start_time": "2022-08-27T10:42:59.085637Z"
    }
   },
   "outputs": [
    {
     "name": "stdout",
     "output_type": "stream",
     "text": [
      "min 20667.26379327158\n",
      "max 2265604.028722744\n",
      "NA 0\n"
     ]
    }
   ],
   "source": [
    "print('min', data['total_income'].min())\n",
    "print('max', data['total_income'].max())\n",
    "print('NA', data['total_income'].isna().sum())\n",
    "# проверим значения столбца с ежемесячным доходом"
   ]
  },
  {
   "cell_type": "markdown",
   "id": "789ab1c4",
   "metadata": {},
   "source": [
    "Возможные причины отрицательных значений:\n",
    "\n",
    "    - данные скопировались с тире, и машина считала их за минус\n",
    "    - человеческий фактор"
   ]
  },
  {
   "cell_type": "markdown",
   "id": "7495326d",
   "metadata": {},
   "source": [
    "### Шаг 2.3. Изменение типов данных."
   ]
  },
  {
   "cell_type": "code",
   "execution_count": 37,
   "id": "22a2d75f",
   "metadata": {
    "ExecuteTime": {
     "end_time": "2022-08-27T10:42:59.115620Z",
     "start_time": "2022-08-27T10:42:59.101627Z"
    }
   },
   "outputs": [],
   "source": [
    "data['total_income'] = data['total_income'].astype(int)\n",
    "# поменяем тип данных в столбце total_income на вещественный int"
   ]
  },
  {
   "cell_type": "code",
   "execution_count": 38,
   "id": "c7c0a410",
   "metadata": {
    "ExecuteTime": {
     "end_time": "2022-08-27T10:42:59.131610Z",
     "start_time": "2022-08-27T10:42:59.117619Z"
    }
   },
   "outputs": [],
   "source": [
    "data['days_employed'] = data['days_employed'].astype(int)\n",
    "# поменяем тип данных в столбце days_employed на вещественный int"
   ]
  },
  {
   "cell_type": "markdown",
   "id": "64101379",
   "metadata": {},
   "source": [
    "### Шаг 2.4. Удаление дубликатов."
   ]
  },
  {
   "cell_type": "code",
   "execution_count": 39,
   "id": "68b7f7a6",
   "metadata": {
    "ExecuteTime": {
     "end_time": "2022-08-27T10:42:59.163593Z",
     "start_time": "2022-08-27T10:42:59.133609Z"
    }
   },
   "outputs": [],
   "source": [
    "data['education'] = data['education'].str.lower()\n",
    "# приведем весь столбец к одному регистру"
   ]
  },
  {
   "cell_type": "code",
   "execution_count": 40,
   "id": "ce563d42",
   "metadata": {
    "ExecuteTime": {
     "end_time": "2022-08-27T10:42:59.179582Z",
     "start_time": "2022-08-27T10:42:59.165591Z"
    }
   },
   "outputs": [
    {
     "name": "stdout",
     "output_type": "stream",
     "text": [
      "среднее                15110\n",
      "высшее                  5211\n",
      "неоконченное высшее      740\n",
      "начальное                282\n",
      "ученая степень             6\n",
      "Name: education, dtype: int64\n"
     ]
    }
   ],
   "source": [
    "print(data['education'].value_counts())\n",
    "# найдем все неявные дубликаты"
   ]
  },
  {
   "cell_type": "code",
   "execution_count": 41,
   "id": "bedfa732",
   "metadata": {
    "ExecuteTime": {
     "end_time": "2022-08-27T10:42:59.195574Z",
     "start_time": "2022-08-27T10:42:59.181582Z"
    }
   },
   "outputs": [
    {
     "name": "stdout",
     "output_type": "stream",
     "text": [
      "сотрудник          11022\n",
      "компаньон           5043\n",
      "пенсионер           3827\n",
      "госслужащий         1451\n",
      "безработный            2\n",
      "предприниматель        2\n",
      "студент                1\n",
      "в декрете              1\n",
      "Name: income_type, dtype: int64\n"
     ]
    }
   ],
   "source": [
    "print(data['income_type'].value_counts())\n",
    "# найдем все неявные дубликаты"
   ]
  },
  {
   "cell_type": "code",
   "execution_count": 42,
   "id": "7b31f8cb",
   "metadata": {
    "ExecuteTime": {
     "end_time": "2022-08-27T10:42:59.227555Z",
     "start_time": "2022-08-27T10:42:59.201571Z"
    }
   },
   "outputs": [
    {
     "name": "stdout",
     "output_type": "stream",
     "text": [
      "['F' 'M' 'XNA']\n"
     ]
    }
   ],
   "source": [
    "print(data['gender'].unique())\n",
    "# найдем все неявные дубликаты"
   ]
  },
  {
   "cell_type": "code",
   "execution_count": 43,
   "id": "26ab4024",
   "metadata": {
    "ExecuteTime": {
     "end_time": "2022-08-27T10:42:59.243547Z",
     "start_time": "2022-08-27T10:42:59.229554Z"
    }
   },
   "outputs": [
    {
     "name": "stdout",
     "output_type": "stream",
     "text": [
      "Int64Index([10621], dtype='int64')\n"
     ]
    }
   ],
   "source": [
    "print(data[data['gender'] == 'XNA'].index)\n",
    "# ищу номер строки XNA"
   ]
  },
  {
   "cell_type": "code",
   "execution_count": 44,
   "id": "b57fb34f",
   "metadata": {
    "ExecuteTime": {
     "end_time": "2022-08-27T10:42:59.259537Z",
     "start_time": "2022-08-27T10:42:59.246544Z"
    }
   },
   "outputs": [
    {
     "name": "stdout",
     "output_type": "stream",
     "text": [
      "children                          2\n",
      "days_employed                    88\n",
      "dob_years                        31\n",
      "education                   среднее\n",
      "education_id                      1\n",
      "family_status       женат / замужем\n",
      "family_status_id                  0\n",
      "gender                            M\n",
      "income_type               сотрудник\n",
      "debt                              0\n",
      "total_income                 229730\n",
      "purpose                  автомобиль\n",
      "Name: 10701, dtype: object\n"
     ]
    }
   ],
   "source": [
    "print(data.loc[10701])\n",
    "# посмотрим какие данные содержит"
   ]
  },
  {
   "cell_type": "code",
   "execution_count": 45,
   "id": "14683925",
   "metadata": {
    "ExecuteTime": {
     "end_time": "2022-08-27T10:42:59.275528Z",
     "start_time": "2022-08-27T10:42:59.261537Z"
    }
   },
   "outputs": [],
   "source": [
    "data = data.drop(data[data['gender'] == 'XNA'].index)\n",
    "# удалим одну строку которая может портить данные, строка одна из 20 тысяч, поэтому на выводы это не повлияет"
   ]
  },
  {
   "cell_type": "code",
   "execution_count": 46,
   "id": "97237a7c",
   "metadata": {
    "ExecuteTime": {
     "end_time": "2022-08-27T10:42:59.290520Z",
     "start_time": "2022-08-27T10:42:59.278527Z"
    }
   },
   "outputs": [
    {
     "name": "stdout",
     "output_type": "stream",
     "text": [
      "['F' 'M']\n"
     ]
    }
   ],
   "source": [
    "print(data['gender'].unique())\n",
    "# проверим на удалние"
   ]
  },
  {
   "cell_type": "code",
   "execution_count": 47,
   "id": "d48b8cfb",
   "metadata": {
    "ExecuteTime": {
     "end_time": "2022-08-27T10:42:59.320501Z",
     "start_time": "2022-08-27T10:42:59.292517Z"
    }
   },
   "outputs": [
    {
     "name": "stdout",
     "output_type": "stream",
     "text": [
      "женат / замужем          12283\n",
      "гражданский брак          4143\n",
      "Не женат / не замужем     2788\n",
      "в разводе                 1183\n",
      "вдовец / вдова             951\n",
      "Name: family_status, dtype: int64\n"
     ]
    }
   ],
   "source": [
    "print(data['family_status'].value_counts())\n",
    "# дублей нет, но есть слово с большой буквы"
   ]
  },
  {
   "cell_type": "code",
   "execution_count": 48,
   "id": "3e2519ec",
   "metadata": {
    "ExecuteTime": {
     "end_time": "2022-08-27T10:42:59.351483Z",
     "start_time": "2022-08-27T10:42:59.322500Z"
    }
   },
   "outputs": [],
   "source": [
    "data['family_status'] = data['family_status'].str.lower()\n",
    "# все к единому регистру"
   ]
  },
  {
   "cell_type": "code",
   "execution_count": 49,
   "id": "8e105a13",
   "metadata": {
    "ExecuteTime": {
     "end_time": "2022-08-27T10:42:59.367476Z",
     "start_time": "2022-08-27T10:42:59.353483Z"
    }
   },
   "outputs": [
    {
     "name": "stdout",
     "output_type": "stream",
     "text": [
      "свадьба                                   791\n",
      "на проведение свадьбы                     769\n",
      "сыграть свадьбу                           765\n",
      "операции с недвижимостью                  672\n",
      "покупка коммерческой недвижимости         658\n",
      "покупка жилья для сдачи                   650\n",
      "операции с коммерческой недвижимостью     645\n",
      "операции с жильем                         643\n",
      "покупка жилья для семьи                   639\n",
      "покупка жилья                             638\n",
      "жилье                                     637\n",
      "недвижимость                              629\n",
      "операции со своей недвижимостью           629\n",
      "строительство собственной недвижимости    627\n",
      "строительство жилой недвижимости          622\n",
      "строительство недвижимости                620\n",
      "покупка своего жилья                      619\n",
      "покупка недвижимости                      618\n",
      "ремонт жилью                              608\n",
      "покупка жилой недвижимости                602\n",
      "на покупку своего автомобиля              502\n",
      "заняться высшим образованием              493\n",
      "автомобиль                                490\n",
      "сделка с подержанным автомобилем          483\n",
      "автомобили                                475\n",
      "свой автомобиль                           474\n",
      "на покупку подержанного автомобиля        473\n",
      "на покупку автомобиля                     467\n",
      "приобретение автомобиля                   460\n",
      "дополнительное образование                457\n",
      "сделка с автомобилем                      454\n",
      "высшее образование                        445\n",
      "получение дополнительного образования     444\n",
      "образование                               442\n",
      "получение образования                     441\n",
      "профильное образование                    433\n",
      "получение высшего образования             423\n",
      "заняться образованием                     411\n",
      "Name: purpose, dtype: int64\n"
     ]
    }
   ],
   "source": [
    "print(data['purpose'].value_counts())\n",
    "# найдем неявные дубликаты"
   ]
  },
  {
   "cell_type": "code",
   "execution_count": 50,
   "id": "756654ee",
   "metadata": {
    "ExecuteTime": {
     "end_time": "2022-08-27T10:42:59.415449Z",
     "start_time": "2022-08-27T10:42:59.370475Z"
    }
   },
   "outputs": [],
   "source": [
    "data = data.drop_duplicates().reset_index(drop=True)\n",
    "# удалим из таблицы явные дубликаты со сбросом индекса"
   ]
  },
  {
   "cell_type": "code",
   "execution_count": 51,
   "id": "879c0b6e",
   "metadata": {
    "ExecuteTime": {
     "end_time": "2022-08-27T10:42:59.463420Z",
     "start_time": "2022-08-27T10:42:59.418445Z"
    }
   },
   "outputs": [
    {
     "name": "stdout",
     "output_type": "stream",
     "text": [
      "0\n"
     ]
    }
   ],
   "source": [
    "print(data.duplicated().sum())\n",
    "# проверим на дубликаты"
   ]
  },
  {
   "cell_type": "markdown",
   "id": "fe34f114",
   "metadata": {},
   "source": [
    "### Шаг 2.5. Формирование дополнительных датафреймов словарей, декомпозиция исходного датафрейма."
   ]
  },
  {
   "cell_type": "code",
   "execution_count": 52,
   "id": "6709e0e3",
   "metadata": {
    "ExecuteTime": {
     "end_time": "2022-08-27T10:42:59.479410Z",
     "start_time": "2022-08-27T10:42:59.465420Z"
    }
   },
   "outputs": [],
   "source": [
    "education_dict = data[['education_id', 'education']]\n",
    "family_dict = data[['family_status_id', 'family_status']]\n",
    "# создаем два новых дата фрейма"
   ]
  },
  {
   "cell_type": "code",
   "execution_count": 53,
   "id": "4cb1f44b",
   "metadata": {
    "ExecuteTime": {
     "end_time": "2022-08-27T10:42:59.495401Z",
     "start_time": "2022-08-27T10:42:59.482409Z"
    }
   },
   "outputs": [],
   "source": [
    "data = data.drop(columns=['education', 'family_status'], axis=1)\n",
    "# удаляем столбцы из исходной таблицы"
   ]
  },
  {
   "cell_type": "code",
   "execution_count": 54,
   "id": "ae6590d8",
   "metadata": {
    "ExecuteTime": {
     "end_time": "2022-08-27T10:42:59.511392Z",
     "start_time": "2022-08-27T10:42:59.497400Z"
    }
   },
   "outputs": [],
   "source": [
    "education_dict = education_dict.drop_duplicates().reset_index(drop=True)\n",
    "# удаляем дубликаты в словаре"
   ]
  },
  {
   "cell_type": "code",
   "execution_count": 55,
   "id": "1fb951a8",
   "metadata": {
    "ExecuteTime": {
     "end_time": "2022-08-27T10:42:59.527383Z",
     "start_time": "2022-08-27T10:42:59.514390Z"
    }
   },
   "outputs": [],
   "source": [
    "family_dict = family_dict.drop_duplicates().reset_index(drop=True)\n",
    "# удаляем дубликаты в словаре"
   ]
  },
  {
   "cell_type": "markdown",
   "id": "50b556b2",
   "metadata": {},
   "source": [
    "### Шаг 2.6. Категоризация дохода."
   ]
  },
  {
   "cell_type": "code",
   "execution_count": 56,
   "id": "ea242df1",
   "metadata": {
    "ExecuteTime": {
     "end_time": "2022-08-27T10:42:59.543373Z",
     "start_time": "2022-08-27T10:42:59.530382Z"
    }
   },
   "outputs": [],
   "source": [
    "def total_income_category_function(row):\n",
    "    \"\"\"\n",
    "    присваивает категории A, B, C, D, E в зависимости от уровня дохода \n",
    "\n",
    "    \"\"\"\n",
    "    if row <= 30000:\n",
    "        return 'E'\n",
    "    if 30001 <= row <= 50000:\n",
    "        return 'D'\n",
    "    if 50001 <= row <= 200000:\n",
    "        return 'C'\n",
    "    if 200001 <= row <= 1000000:\n",
    "        return 'B'\n",
    "    if row > 1000001:\n",
    "        return 'A'\n",
    "    else:\n",
    "        return 'no category'"
   ]
  },
  {
   "cell_type": "code",
   "execution_count": 57,
   "id": "dae9d623",
   "metadata": {
    "ExecuteTime": {
     "end_time": "2022-08-27T10:42:59.574357Z",
     "start_time": "2022-08-27T10:42:59.546373Z"
    }
   },
   "outputs": [],
   "source": [
    "data['total_income_category'] = data['total_income'].apply(\n",
    "    total_income_category_function)\n",
    "# добавим колонку категорий в таблицу data применив функцию total_income_category_function"
   ]
  },
  {
   "cell_type": "code",
   "execution_count": 58,
   "id": "6c7edf28",
   "metadata": {
    "ExecuteTime": {
     "end_time": "2022-08-27T10:42:59.589348Z",
     "start_time": "2022-08-27T10:42:59.579354Z"
    }
   },
   "outputs": [
    {
     "name": "stdout",
     "output_type": "stream",
     "text": [
      "C    15888\n",
      "B     4994\n",
      "D      348\n",
      "A       25\n",
      "E       22\n",
      "Name: total_income_category, dtype: int64\n"
     ]
    }
   ],
   "source": [
    "print(data['total_income_category'].value_counts())\n",
    "# проверим сработала ли функция total_income_category_function"
   ]
  },
  {
   "cell_type": "markdown",
   "id": "bc744dc2",
   "metadata": {},
   "source": [
    "### Шаг 2.7. Категоризация целей кредита."
   ]
  },
  {
   "cell_type": "code",
   "execution_count": 59,
   "id": "cde8b06e",
   "metadata": {
    "ExecuteTime": {
     "end_time": "2022-08-27T10:42:59.605337Z",
     "start_time": "2022-08-27T10:42:59.594346Z"
    }
   },
   "outputs": [],
   "source": [
    "def purpose_category_function(row):\n",
    "    \"\"\"\n",
    "    ищет часть слова и если оно есть, подставляет заданое значение\n",
    "    \"\"\"\n",
    "    if 'авто' in row:\n",
    "        return 'операции с автомобилем'\n",
    "    if 'жил' in row or 'виж' in row:\n",
    "        return 'операции с недвижимостью'\n",
    "    if 'свад' in row:\n",
    "        return 'проведение свадьбы'\n",
    "    if 'обра' in row:\n",
    "        return 'получение образования'\n",
    "    else:\n",
    "        return 'no category'\n",
    "# функция для сортировки по категориям"
   ]
  },
  {
   "cell_type": "code",
   "execution_count": 60,
   "id": "47dbda5b",
   "metadata": {
    "ExecuteTime": {
     "end_time": "2022-08-27T10:42:59.635320Z",
     "start_time": "2022-08-27T10:42:59.608337Z"
    }
   },
   "outputs": [],
   "source": [
    "data['purpose_category'] = data['purpose'].apply(purpose_category_function)\n",
    "# добавим колонку категорий в таблицу data применив функцию purpose_category_function"
   ]
  },
  {
   "cell_type": "code",
   "execution_count": 61,
   "id": "95141696",
   "metadata": {
    "ExecuteTime": {
     "end_time": "2022-08-27T10:42:59.651311Z",
     "start_time": "2022-08-27T10:42:59.638319Z"
    }
   },
   "outputs": [
    {
     "name": "stdout",
     "output_type": "stream",
     "text": [
      "операции с недвижимостью    10727\n",
      "операции с автомобилем       4269\n",
      "получение образования        3980\n",
      "проведение свадьбы           2301\n",
      "Name: purpose_category, dtype: int64\n"
     ]
    }
   ],
   "source": [
    "print(data['purpose_category'].value_counts())\n",
    "# проверим сколько категорий мы получили"
   ]
  },
  {
   "cell_type": "markdown",
   "id": "0bd4c7cc",
   "metadata": {},
   "source": [
    "## 3 Ответы на вопросы."
   ]
  },
  {
   "cell_type": "markdown",
   "id": "8263f414",
   "metadata": {},
   "source": [
    "### 3.1 Вопрос 1\n",
    "\n",
    "Есть ли зависимость между количеством детей и возвратом кредита в срок?"
   ]
  },
  {
   "cell_type": "code",
   "execution_count": 62,
   "id": "3b89d3f2",
   "metadata": {
    "ExecuteTime": {
     "end_time": "2022-08-27T10:42:59.683294Z",
     "start_time": "2022-08-27T10:42:59.654310Z"
    }
   },
   "outputs": [],
   "source": [
    "data = data.drop(data[data['children'] == 5].index)\n",
    "# удалим статистически не значимые данные где детей 5,\n",
    "# иначе таблички получаются не красивыми, а выводы не отражают реальности"
   ]
  },
  {
   "cell_type": "code",
   "execution_count": 63,
   "id": "044ad676",
   "metadata": {
    "ExecuteTime": {
     "end_time": "2022-08-27T10:42:59.699284Z",
     "start_time": "2022-08-27T10:42:59.686291Z"
    }
   },
   "outputs": [],
   "source": [
    "data = data.reset_index(drop=True)\n",
    "# сбросим индекс"
   ]
  },
  {
   "cell_type": "code",
   "execution_count": 64,
   "id": "24a198a8",
   "metadata": {
    "ExecuteTime": {
     "end_time": "2022-08-27T10:42:59.731266Z",
     "start_time": "2022-08-27T10:42:59.702282Z"
    }
   },
   "outputs": [],
   "source": [
    "children_pivot = 100 - (data.pivot_table(index='children',\n",
    "                        values='debt') * 100).sort_values(by='children')\n",
    "children_pivot.columns = ['return_percent']\n",
    "# посчитаем с помощью сводной таблицы процент возврата в зависимости от колличества детей"
   ]
  },
  {
   "cell_type": "code",
   "execution_count": 65,
   "id": "a0522a73",
   "metadata": {
    "ExecuteTime": {
     "end_time": "2022-08-27T10:43:00.140031Z",
     "start_time": "2022-08-27T10:42:59.735265Z"
    }
   },
   "outputs": [
    {
     "data": {
      "text/plain": [
       "<AxesSubplot:xlabel='children'>"
      ]
     },
     "execution_count": 65,
     "metadata": {},
     "output_type": "execute_result"
    },
    {
     "data": {
      "image/png": "[encoded data removed]",
      "text/plain": [
       "<Figure size 432x288 with 1 Axes>"
      ]
     },
     "metadata": {
      "needs_background": "light"
     },
     "output_type": "display_data"
    }
   ],
   "source": [
    "children_pivot.plot(xlim=(-1, 5), ylim=(90, 93), style='o-', grid=True)\n",
    "# выведем диаграмму зависимсоти задолженности к колличеству детей"
   ]
  },
  {
   "cell_type": "markdown",
   "id": "2e0bddce",
   "metadata": {},
   "source": [
    "#### Ответ на вопрос 1:\n",
    "\"Есть ли зависимость между количеством детей и возвратом кредита в срок?\"\n",
    "\n",
    "Да, такая зависимость есть: \n",
    "    \n",
    "    - Семьи где 0 детей, чаще всех возвращают кредит в срок - 92.45%. \n",
    "    - Семьи где 4 детей, хуже всех возвращают кредит в срок - 90.24%."
   ]
  },
  {
   "cell_type": "markdown",
   "id": "70aadf18",
   "metadata": {},
   "source": [
    "### 3.2 Вопрос 2\n",
    "\n",
    "Есть ли зависимость между семейным положением и возвратом кредита в срок?"
   ]
  },
  {
   "cell_type": "code",
   "execution_count": 66,
   "id": "cb6af3de",
   "metadata": {
    "ExecuteTime": {
     "end_time": "2022-08-27T10:43:00.187005Z",
     "start_time": "2022-08-27T10:43:00.143028Z"
    },
    "code_folding": []
   },
   "outputs": [
    {
     "data": {
      "text/html": [
       "<div>\n",
       "<style scoped>\n",
       "    .dataframe tbody tr th:only-of-type {\n",
       "        vertical-align: middle;\n",
       "    }\n",
       "\n",
       "    .dataframe tbody tr th {\n",
       "        vertical-align: top;\n",
       "    }\n",
       "\n",
       "    .dataframe thead th {\n",
       "        text-align: right;\n",
       "    }\n",
       "</style>\n",
       "<table border=\"1\" class=\"dataframe\">\n",
       "  <thead>\n",
       "    <tr style=\"text-align: right;\">\n",
       "      <th></th>\n",
       "      <th>family_status_id</th>\n",
       "      <th>debt</th>\n",
       "      <th>percent</th>\n",
       "      <th>family_status</th>\n",
       "    </tr>\n",
       "  </thead>\n",
       "  <tbody>\n",
       "    <tr>\n",
       "      <th>2</th>\n",
       "      <td>2</td>\n",
       "      <td>0.065263</td>\n",
       "      <td>93.473684</td>\n",
       "      <td>вдовец / вдова</td>\n",
       "    </tr>\n",
       "    <tr>\n",
       "      <th>3</th>\n",
       "      <td>3</td>\n",
       "      <td>0.071006</td>\n",
       "      <td>92.899408</td>\n",
       "      <td>в разводе</td>\n",
       "    </tr>\n",
       "    <tr>\n",
       "      <th>0</th>\n",
       "      <td>0</td>\n",
       "      <td>0.075521</td>\n",
       "      <td>92.447895</td>\n",
       "      <td>женат / замужем</td>\n",
       "    </tr>\n",
       "    <tr>\n",
       "      <th>1</th>\n",
       "      <td>1</td>\n",
       "      <td>0.093074</td>\n",
       "      <td>90.692588</td>\n",
       "      <td>гражданский брак</td>\n",
       "    </tr>\n",
       "    <tr>\n",
       "      <th>4</th>\n",
       "      <td>4</td>\n",
       "      <td>0.097666</td>\n",
       "      <td>90.233393</td>\n",
       "      <td>не женат / не замужем</td>\n",
       "    </tr>\n",
       "  </tbody>\n",
       "</table>\n",
       "</div>"
      ],
      "text/plain": [
       "   family_status_id      debt    percent          family_status\n",
       "2                 2  0.065263  93.473684         вдовец / вдова\n",
       "3                 3  0.071006  92.899408              в разводе\n",
       "0                 0  0.075521  92.447895        женат / замужем\n",
       "1                 1  0.093074  90.692588       гражданский брак\n",
       "4                 4  0.097666  90.233393  не женат / не замужем"
      ]
     },
     "execution_count": 66,
     "metadata": {},
     "output_type": "execute_result"
    }
   ],
   "source": [
    "family_status_pivot = data.pivot_table(\n",
    "    index='family_status_id', values=['debt'])\n",
    "family_status_pivot['percent'] = 100 - family_status_pivot * 100\n",
    "family_status_pivot = (\n",
    "    family_status_pivot.merge(family_dict, on='family_status_id').sort_values(\n",
    "        by='percent', ascending=False)\n",
    ")\n",
    "family_status_pivot\n",
    "# построим сводную таблицу, соеденим со словарем family_dict и\n",
    "# посчитаем процент возварта в зависимости от семейного положения."
   ]
  },
  {
   "cell_type": "code",
   "execution_count": 67,
   "id": "cf7c3ce7",
   "metadata": {
    "ExecuteTime": {
     "end_time": "2022-08-27T10:43:00.234976Z",
     "start_time": "2022-08-27T10:43:00.190002Z"
    }
   },
   "outputs": [],
   "source": [
    "common_info = data.merge(family_dict, on='family_status_id')\n",
    "common_info = common_info.merge(education_dict, on='education_id')"
   ]
  },
  {
   "cell_type": "code",
   "execution_count": 68,
   "id": "32e87286",
   "metadata": {
    "ExecuteTime": {
     "end_time": "2022-08-27T10:43:00.374895Z",
     "start_time": "2022-08-27T10:43:00.237974Z"
    }
   },
   "outputs": [
    {
     "data": {
      "text/html": [
       "<div>\n",
       "<style scoped>\n",
       "    .dataframe tbody tr th:only-of-type {\n",
       "        vertical-align: middle;\n",
       "    }\n",
       "\n",
       "    .dataframe tbody tr th {\n",
       "        vertical-align: top;\n",
       "    }\n",
       "\n",
       "    .dataframe thead th {\n",
       "        text-align: right;\n",
       "    }\n",
       "</style>\n",
       "<table border=\"1\" class=\"dataframe\">\n",
       "  <thead>\n",
       "    <tr style=\"text-align: right;\">\n",
       "      <th></th>\n",
       "      <th>Всего кредитополучателей</th>\n",
       "      <th>Всего должников</th>\n",
       "      <th>Доля должников</th>\n",
       "    </tr>\n",
       "    <tr>\n",
       "      <th>family_status</th>\n",
       "      <th></th>\n",
       "      <th></th>\n",
       "      <th></th>\n",
       "    </tr>\n",
       "  </thead>\n",
       "  <tbody>\n",
       "    <tr>\n",
       "      <th>в разводе</th>\n",
       "      <td>1183</td>\n",
       "      <td>84</td>\n",
       "      <td>0.071006</td>\n",
       "    </tr>\n",
       "    <tr>\n",
       "      <th>вдовец / вдова</th>\n",
       "      <td>950</td>\n",
       "      <td>62</td>\n",
       "      <td>0.065263</td>\n",
       "    </tr>\n",
       "    <tr>\n",
       "      <th>гражданский брак</th>\n",
       "      <td>4115</td>\n",
       "      <td>383</td>\n",
       "      <td>0.093074</td>\n",
       "    </tr>\n",
       "    <tr>\n",
       "      <th>женат / замужем</th>\n",
       "      <td>12235</td>\n",
       "      <td>924</td>\n",
       "      <td>0.075521</td>\n",
       "    </tr>\n",
       "    <tr>\n",
       "      <th>не женат / не замужем</th>\n",
       "      <td>2785</td>\n",
       "      <td>272</td>\n",
       "      <td>0.097666</td>\n",
       "    </tr>\n",
       "  </tbody>\n",
       "</table>\n",
       "</div>"
      ],
      "text/plain": [
       "                       Всего кредитополучателей  Всего должников  \\\n",
       "family_status                                                      \n",
       "в разводе                                  1183               84   \n",
       "вдовец / вдова                              950               62   \n",
       "гражданский брак                           4115              383   \n",
       "женат / замужем                           12235              924   \n",
       "не женат / не замужем                      2785              272   \n",
       "\n",
       "                       Доля должников  \n",
       "family_status                          \n",
       "в разводе                    0.071006  \n",
       "вдовец / вдова               0.065263  \n",
       "гражданский брак             0.093074  \n",
       "женат / замужем              0.075521  \n",
       "не женат / не замужем        0.097666  "
      ]
     },
     "metadata": {},
     "output_type": "display_data"
    }
   ],
   "source": [
    "data_fa = common_info.pivot_table(\n",
    "    index='family_status', values='debt', aggfunc=['count', 'sum', 'mean'])\n",
    "data_fa.columns = ['Всего кредитополучателей',\n",
    "                   'Всего должников', 'Доля должников']\n",
    "display(data_fa)"
   ]
  },
  {
   "cell_type": "code",
   "execution_count": 69,
   "id": "305a5527",
   "metadata": {
    "ExecuteTime": {
     "end_time": "2022-08-27T10:43:00.625751Z",
     "start_time": "2022-08-27T10:43:00.377893Z"
    }
   },
   "outputs": [
    {
     "data": {
      "text/plain": [
       "<AxesSubplot:xlabel='percent', ylabel='family_status'>"
      ]
     },
     "execution_count": 69,
     "metadata": {},
     "output_type": "execute_result"
    },
    {
     "data": {
      "image/png": "[encoded data removed]",
      "text/plain": [
       "<Figure size 432x288 with 1 Axes>"
      ]
     },
     "metadata": {
      "needs_background": "light"
     },
     "output_type": "display_data"
    }
   ],
   "source": [
    "seaborn.barplot(x=family_status_pivot['percent'],\n",
    "                y=family_status_pivot['family_status'])\n",
    "# выведем диаграмму"
   ]
  },
  {
   "cell_type": "markdown",
   "id": "02e06980",
   "metadata": {},
   "source": [
    "#### Ответ на вопрос 2:\n",
    "\"Есть ли зависимость между семейным положением и возвратом кредита в срок?\"\n",
    "\n",
    "Да, такая зависимость есть:\n",
    "\n",
    "    - Больше всех возвращают, те кто потерял супруга - 93.47%\n",
    "    - Меньше всех возвращают клиенты не женатые или не замужние - 90.23%\n",
    "    \n",
    "В целом разница между группами по типу семейного пложения, в пределах 1% - 2%"
   ]
  },
  {
   "cell_type": "markdown",
   "id": "b9e50497",
   "metadata": {},
   "source": [
    "### 3.3 Вопрос 3\n",
    "\n",
    "Есть ли зависимость между уровнем дохода и возвратом кредита в срок?"
   ]
  },
  {
   "cell_type": "code",
   "execution_count": 70,
   "id": "415d7bbd",
   "metadata": {
    "ExecuteTime": {
     "end_time": "2022-08-27T10:43:00.672725Z",
     "start_time": "2022-08-27T10:43:00.627749Z"
    }
   },
   "outputs": [
    {
     "data": {
      "text/html": [
       "<div>\n",
       "<style scoped>\n",
       "    .dataframe tbody tr th:only-of-type {\n",
       "        vertical-align: middle;\n",
       "    }\n",
       "\n",
       "    .dataframe tbody tr th {\n",
       "        vertical-align: top;\n",
       "    }\n",
       "\n",
       "    .dataframe thead th {\n",
       "        text-align: right;\n",
       "    }\n",
       "</style>\n",
       "<table border=\"1\" class=\"dataframe\">\n",
       "  <thead>\n",
       "    <tr style=\"text-align: right;\">\n",
       "      <th></th>\n",
       "      <th>total_income_category</th>\n",
       "      <th>debt</th>\n",
       "    </tr>\n",
       "  </thead>\n",
       "  <tbody>\n",
       "    <tr>\n",
       "      <th>3</th>\n",
       "      <td>D</td>\n",
       "      <td>93.948127</td>\n",
       "    </tr>\n",
       "    <tr>\n",
       "      <th>1</th>\n",
       "      <td>B</td>\n",
       "      <td>92.925852</td>\n",
       "    </tr>\n",
       "    <tr>\n",
       "      <th>0</th>\n",
       "      <td>A</td>\n",
       "      <td>92.000000</td>\n",
       "    </tr>\n",
       "    <tr>\n",
       "      <th>2</th>\n",
       "      <td>C</td>\n",
       "      <td>91.519768</td>\n",
       "    </tr>\n",
       "    <tr>\n",
       "      <th>4</th>\n",
       "      <td>E</td>\n",
       "      <td>90.909091</td>\n",
       "    </tr>\n",
       "  </tbody>\n",
       "</table>\n",
       "</div>"
      ],
      "text/plain": [
       "  total_income_category       debt\n",
       "3                     D  93.948127\n",
       "1                     B  92.925852\n",
       "0                     A  92.000000\n",
       "2                     C  91.519768\n",
       "4                     E  90.909091"
      ]
     },
     "execution_count": 70,
     "metadata": {},
     "output_type": "execute_result"
    }
   ],
   "source": [
    "income_category_percent = (\n",
    "    (100 - data.pivot_table(index='total_income_category', values='debt') * 100)\n",
    "    .reset_index()\n",
    "    .sort_values(by='debt', ascending=False)\n",
    ")\n",
    "income_category_percent\n",
    "# делаем сводную таблицу, считаем процент возврата по категориям дохода, сортируем по убыванию,\n",
    "# сбрасываем индекс чтобы получить столбец категорий и обратиться к нему в диагремме"
   ]
  },
  {
   "cell_type": "code",
   "execution_count": 71,
   "id": "91ba280f",
   "metadata": {
    "ExecuteTime": {
     "end_time": "2022-08-27T10:43:00.907591Z",
     "start_time": "2022-08-27T10:43:00.675722Z"
    }
   },
   "outputs": [
    {
     "data": {
      "text/plain": [
       "<AxesSubplot:xlabel='debt', ylabel='total_income_category'>"
      ]
     },
     "execution_count": 71,
     "metadata": {},
     "output_type": "execute_result"
    },
    {
     "data": {
      "image/png": "[encoded data removed]",
      "text/plain": [
       "<Figure size 432x288 with 1 Axes>"
      ]
     },
     "metadata": {
      "needs_background": "light"
     },
     "output_type": "display_data"
    }
   ],
   "source": [
    "seaborn.barplot(x=income_category_percent['debt'],\n",
    "                y=income_category_percent['total_income_category'])\n",
    "# сделаем диграмму процент возврата кредита в срок в зависимости от дохода"
   ]
  },
  {
   "cell_type": "markdown",
   "id": "269a9d97",
   "metadata": {},
   "source": [
    "#### Ответ на вопрос 3:\n",
    "\"Есть ли зависимость между уровнем дохода и возвратом кредита в срок?\"\n",
    "\n",
    "Да, такая зависимость есть:\n",
    "\n",
    "    - Больше всех возвращают клиенты чей доход от 50 000 до 200 000 из категории 'D' - 93.95%\n",
    "    - Меньше всех возвращают клиенты чей доход 30 000 и менее из категории 'Е' - 90.90%"
   ]
  },
  {
   "cell_type": "markdown",
   "id": "e430077a",
   "metadata": {},
   "source": [
    "### 3.4 Вопрос 4\n",
    "\n",
    "Как разные цели кредита влияют на его возврат в срок?"
   ]
  },
  {
   "cell_type": "code",
   "execution_count": 72,
   "id": "c081db33",
   "metadata": {
    "ExecuteTime": {
     "end_time": "2022-08-27T10:43:00.938570Z",
     "start_time": "2022-08-27T10:43:00.910587Z"
    }
   },
   "outputs": [
    {
     "data": {
      "text/html": [
       "<div>\n",
       "<style scoped>\n",
       "    .dataframe tbody tr th:only-of-type {\n",
       "        vertical-align: middle;\n",
       "    }\n",
       "\n",
       "    .dataframe tbody tr th {\n",
       "        vertical-align: top;\n",
       "    }\n",
       "\n",
       "    .dataframe thead th {\n",
       "        text-align: right;\n",
       "    }\n",
       "</style>\n",
       "<table border=\"1\" class=\"dataframe\">\n",
       "  <thead>\n",
       "    <tr style=\"text-align: right;\">\n",
       "      <th></th>\n",
       "      <th>purpose_category</th>\n",
       "      <th>debt</th>\n",
       "    </tr>\n",
       "  </thead>\n",
       "  <tbody>\n",
       "    <tr>\n",
       "      <th>1</th>\n",
       "      <td>операции с недвижимостью</td>\n",
       "      <td>92.753218</td>\n",
       "    </tr>\n",
       "    <tr>\n",
       "      <th>3</th>\n",
       "      <td>проведение свадьбы</td>\n",
       "      <td>92.130435</td>\n",
       "    </tr>\n",
       "    <tr>\n",
       "      <th>2</th>\n",
       "      <td>получение образования</td>\n",
       "      <td>90.726313</td>\n",
       "    </tr>\n",
       "    <tr>\n",
       "      <th>0</th>\n",
       "      <td>операции с автомобилем</td>\n",
       "      <td>90.672604</td>\n",
       "    </tr>\n",
       "  </tbody>\n",
       "</table>\n",
       "</div>"
      ],
      "text/plain": [
       "           purpose_category       debt\n",
       "1  операции с недвижимостью  92.753218\n",
       "3        проведение свадьбы  92.130435\n",
       "2     получение образования  90.726313\n",
       "0    операции с автомобилем  90.672604"
      ]
     },
     "execution_count": 72,
     "metadata": {},
     "output_type": "execute_result"
    }
   ],
   "source": [
    "purpose_category_percent = (\n",
    "    (100 - data.pivot_table(index='purpose_category', values='debt') * 100)\n",
    "    .reset_index()\n",
    "    .sort_values(by='debt', ascending=False)\n",
    ")\n",
    "purpose_category_percent\n",
    "# найдем процент возврата в зависимости от целей кредита"
   ]
  },
  {
   "cell_type": "code",
   "execution_count": 73,
   "id": "4006ca7e",
   "metadata": {
    "ExecuteTime": {
     "end_time": "2022-08-27T10:43:01.142453Z",
     "start_time": "2022-08-27T10:43:00.942570Z"
    }
   },
   "outputs": [
    {
     "data": {
      "text/plain": [
       "<AxesSubplot:xlabel='debt', ylabel='purpose_category'>"
      ]
     },
     "execution_count": 73,
     "metadata": {},
     "output_type": "execute_result"
    },
    {
     "data": {
      "image/png": "[encoded data removed]",
      "text/plain": [
       "<Figure size 432x288 with 1 Axes>"
      ]
     },
     "metadata": {
      "needs_background": "light"
     },
     "output_type": "display_data"
    }
   ],
   "source": [
    "seaborn.barplot(\n",
    "    x=purpose_category_percent['debt'], y=purpose_category_percent['purpose_category'])\n",
    "# выведем диаграмму возврата в срок по целям кредита"
   ]
  },
  {
   "cell_type": "markdown",
   "id": "c33b138f",
   "metadata": {},
   "source": [
    "#### Ответ на вопрос 4:\n",
    "\"Как разные цели кредита влияют на его возврат в срок?\"\n",
    "\n",
    "    - Больше всех возвращают клиенты, которые берут кредит на операции с недвижимостью - 92.75%\n",
    "    - Меньше всех возвращают клиенты, которые берут кредит на операции с автомобилем - 90.67%"
   ]
  },
  {
   "cell_type": "markdown",
   "id": "96800000",
   "metadata": {},
   "source": [
    "## Общий вывод:"
   ]
  },
  {
   "cell_type": "markdown",
   "id": "9d36fb0c",
   "metadata": {},
   "source": [
    "Портрет клиента, который чаще других вернет кредит в срок: клиент у которого нет детей, не замужем(не женат), имеет доход от 50 000 до 200 000 ежемесячно и целью кредит является операции с недвижимостью - такой клиент вернет кредит без задолженностей в 92,94% случаев.\n",
    "\n",
    "Портрет клиента, который меньше других вернет кредит в срок: клиент у которого 4 детей, в гражданском браке, доход менее 30 000 ежемесячно, а цель кредита оперции с автомобилем - такой клиент вернет кредит без задолженностей в 90,73% слуаев."
   ]
  }
 ],
 "metadata": {
  "ExecuteTimeLog": [
   {
    "duration": 567,
    "start_time": "2022-04-22T08:47:34.246Z"
   },
   {
    "duration": 1336,
    "start_time": "2022-04-22T08:47:34.816Z"
   },
   {
    "duration": 84,
    "start_time": "2022-04-22T08:47:36.155Z"
   },
   {
    "duration": 22,
    "start_time": "2022-04-22T08:47:36.242Z"
   },
   {
    "duration": 54,
    "start_time": "2022-04-22T08:47:36.266Z"
   },
   {
    "duration": 15,
    "start_time": "2022-04-22T08:47:36.323Z"
   },
   {
    "duration": 11,
    "start_time": "2022-04-22T08:47:36.340Z"
   },
   {
    "duration": 30,
    "start_time": "2022-04-22T08:47:36.353Z"
   },
   {
    "duration": 27,
    "start_time": "2022-04-22T08:47:36.385Z"
   },
   {
    "duration": 5,
    "start_time": "2022-04-22T08:47:36.418Z"
   },
   {
    "duration": 13,
    "start_time": "2022-04-22T08:47:36.426Z"
   },
   {
    "duration": 10,
    "start_time": "2022-04-22T08:47:36.441Z"
   },
   {
    "duration": 40,
    "start_time": "2022-04-22T08:47:36.454Z"
   },
   {
    "duration": 15,
    "start_time": "2022-04-22T08:47:36.497Z"
   },
   {
    "duration": 17,
    "start_time": "2022-04-22T08:47:36.514Z"
   },
   {
    "duration": 5,
    "start_time": "2022-04-22T08:47:36.533Z"
   },
   {
    "duration": 5,
    "start_time": "2022-04-22T08:47:36.540Z"
   },
   {
    "duration": 49,
    "start_time": "2022-04-22T08:47:36.547Z"
   },
   {
    "duration": 6,
    "start_time": "2022-04-22T08:47:36.601Z"
   },
   {
    "duration": 12,
    "start_time": "2022-04-22T08:47:36.609Z"
   },
   {
    "duration": 14,
    "start_time": "2022-04-22T08:47:36.623Z"
   },
   {
    "duration": 10,
    "start_time": "2022-04-22T08:47:36.639Z"
   },
   {
    "duration": 37,
    "start_time": "2022-04-22T08:47:36.651Z"
   },
   {
    "duration": 23,
    "start_time": "2022-04-22T08:47:36.690Z"
   },
   {
    "duration": 12,
    "start_time": "2022-04-22T08:47:36.715Z"
   },
   {
    "duration": 8,
    "start_time": "2022-04-22T08:47:36.730Z"
   },
   {
    "duration": 7,
    "start_time": "2022-04-22T08:47:36.740Z"
   },
   {
    "duration": 7,
    "start_time": "2022-04-22T08:47:36.783Z"
   },
   {
    "duration": 15,
    "start_time": "2022-04-22T08:47:36.799Z"
   },
   {
    "duration": 83,
    "start_time": "2022-04-22T08:47:36.817Z"
   },
   {
    "duration": 4,
    "start_time": "2022-04-22T08:47:36.903Z"
   },
   {
    "duration": 15,
    "start_time": "2022-04-22T08:47:36.909Z"
   },
   {
    "duration": 10,
    "start_time": "2022-04-22T08:47:36.926Z"
   },
   {
    "duration": 10,
    "start_time": "2022-04-22T08:47:36.938Z"
   },
   {
    "duration": 36,
    "start_time": "2022-04-22T08:47:36.950Z"
   },
   {
    "duration": 12,
    "start_time": "2022-04-22T08:47:36.988Z"
   },
   {
    "duration": 18,
    "start_time": "2022-04-22T08:47:37.002Z"
   },
   {
    "duration": 12,
    "start_time": "2022-04-22T08:47:37.022Z"
   },
   {
    "duration": 8,
    "start_time": "2022-04-22T08:47:37.036Z"
   },
   {
    "duration": 55,
    "start_time": "2022-04-22T08:47:37.046Z"
   },
   {
    "duration": 12,
    "start_time": "2022-04-22T08:47:37.103Z"
   },
   {
    "duration": 12,
    "start_time": "2022-04-22T08:47:37.117Z"
   },
   {
    "duration": 11,
    "start_time": "2022-04-22T08:47:37.131Z"
   },
   {
    "duration": 11,
    "start_time": "2022-04-22T08:47:37.144Z"
   },
   {
    "duration": 6,
    "start_time": "2022-04-22T08:47:37.191Z"
   },
   {
    "duration": 14,
    "start_time": "2022-04-22T08:47:37.200Z"
   },
   {
    "duration": 13,
    "start_time": "2022-04-22T08:47:37.216Z"
   },
   {
    "duration": 11,
    "start_time": "2022-04-22T08:47:37.231Z"
   },
   {
    "duration": 49,
    "start_time": "2022-04-22T08:47:37.244Z"
   },
   {
    "duration": 14,
    "start_time": "2022-04-22T08:47:37.295Z"
   },
   {
    "duration": 42,
    "start_time": "2022-04-22T08:47:37.311Z"
   },
   {
    "duration": 47,
    "start_time": "2022-04-22T08:47:37.355Z"
   },
   {
    "duration": 7,
    "start_time": "2022-04-22T08:47:37.404Z"
   },
   {
    "duration": 12,
    "start_time": "2022-04-22T08:47:37.413Z"
   },
   {
    "duration": 8,
    "start_time": "2022-04-22T08:47:37.428Z"
   },
   {
    "duration": 49,
    "start_time": "2022-04-22T08:47:37.438Z"
   },
   {
    "duration": 8,
    "start_time": "2022-04-22T08:47:37.502Z"
   },
   {
    "duration": 9,
    "start_time": "2022-04-22T08:47:37.513Z"
   },
   {
    "duration": 15,
    "start_time": "2022-04-22T08:47:37.524Z"
   },
   {
    "duration": 14,
    "start_time": "2022-04-22T08:47:37.541Z"
   },
   {
    "duration": 36,
    "start_time": "2022-04-22T08:47:37.557Z"
   },
   {
    "duration": 5,
    "start_time": "2022-04-22T08:47:37.602Z"
   },
   {
    "duration": 12,
    "start_time": "2022-04-22T08:47:37.609Z"
   },
   {
    "duration": 9,
    "start_time": "2022-04-22T08:47:37.623Z"
   },
   {
    "duration": 7,
    "start_time": "2022-04-22T08:47:37.634Z"
   },
   {
    "duration": 212,
    "start_time": "2022-04-22T08:47:37.643Z"
   },
   {
    "duration": 6,
    "start_time": "2022-04-22T08:47:37.857Z"
   },
   {
    "duration": 32,
    "start_time": "2022-04-22T08:47:37.865Z"
   },
   {
    "duration": 6,
    "start_time": "2022-04-22T08:47:37.899Z"
   },
   {
    "duration": 8,
    "start_time": "2022-04-22T08:47:37.907Z"
   },
   {
    "duration": 220,
    "start_time": "2022-04-22T08:47:37.917Z"
   },
   {
    "duration": 12,
    "start_time": "2022-04-22T08:47:38.139Z"
   },
   {
    "duration": 5,
    "start_time": "2022-04-22T08:47:38.153Z"
   },
   {
    "duration": 28,
    "start_time": "2022-04-22T08:47:38.161Z"
   },
   {
    "duration": 194,
    "start_time": "2022-04-22T08:47:38.191Z"
   },
   {
    "duration": 15,
    "start_time": "2022-04-22T08:47:38.387Z"
   },
   {
    "duration": 12,
    "start_time": "2022-04-22T08:47:38.405Z"
   },
   {
    "duration": 11,
    "start_time": "2022-04-22T08:47:38.420Z"
   },
   {
    "duration": 217,
    "start_time": "2022-04-22T08:47:38.433Z"
   },
   {
    "duration": 30,
    "start_time": "2022-04-22T08:49:26.245Z"
   },
   {
    "duration": 10,
    "start_time": "2022-04-22T08:49:57.809Z"
   },
   {
    "duration": 18,
    "start_time": "2022-04-22T08:50:08.576Z"
   },
   {
    "duration": 10,
    "start_time": "2022-04-22T08:50:19.813Z"
   },
   {
    "duration": 14,
    "start_time": "2022-04-22T08:51:22.295Z"
   },
   {
    "duration": 16,
    "start_time": "2022-04-22T08:54:22.024Z"
   },
   {
    "duration": 18,
    "start_time": "2022-04-22T08:54:29.692Z"
   },
   {
    "duration": 10,
    "start_time": "2022-04-22T08:54:43.362Z"
   },
   {
    "duration": 10,
    "start_time": "2022-04-22T08:54:44.570Z"
   },
   {
    "duration": 15,
    "start_time": "2022-04-22T08:54:45.727Z"
   },
   {
    "duration": 33,
    "start_time": "2022-04-22T08:56:37.176Z"
   },
   {
    "duration": 18,
    "start_time": "2022-04-22T08:56:44.600Z"
   },
   {
    "duration": 18,
    "start_time": "2022-04-22T08:56:51.095Z"
   },
   {
    "duration": 26,
    "start_time": "2022-04-22T08:56:55.895Z"
   },
   {
    "duration": 13,
    "start_time": "2022-04-22T08:57:38.505Z"
   },
   {
    "duration": 14,
    "start_time": "2022-04-22T08:58:34.806Z"
   },
   {
    "duration": 12,
    "start_time": "2022-04-22T09:05:59.096Z"
   },
   {
    "duration": 7,
    "start_time": "2022-04-22T09:41:08.976Z"
   },
   {
    "duration": 173,
    "start_time": "2022-04-22T09:42:23.034Z"
   },
   {
    "duration": 26,
    "start_time": "2022-04-22T09:42:44.540Z"
   },
   {
    "duration": 5,
    "start_time": "2022-04-22T09:43:12.522Z"
   },
   {
    "duration": 35,
    "start_time": "2022-04-22T09:43:16.282Z"
   },
   {
    "duration": 133,
    "start_time": "2022-04-22T09:49:56.895Z"
   },
   {
    "duration": 5,
    "start_time": "2022-04-22T09:50:05.296Z"
   },
   {
    "duration": 20,
    "start_time": "2022-04-22T09:51:30.919Z"
   },
   {
    "duration": 4,
    "start_time": "2022-04-22T09:51:52.208Z"
   },
   {
    "duration": 23,
    "start_time": "2022-04-22T09:51:55.775Z"
   },
   {
    "duration": 5,
    "start_time": "2022-04-22T09:52:02.799Z"
   },
   {
    "duration": 28,
    "start_time": "2022-04-22T09:52:04.460Z"
   },
   {
    "duration": 4,
    "start_time": "2022-04-22T09:52:37.064Z"
   },
   {
    "duration": 25,
    "start_time": "2022-04-22T09:52:38.102Z"
   },
   {
    "duration": 6,
    "start_time": "2022-04-22T09:53:26.039Z"
   },
   {
    "duration": 28,
    "start_time": "2022-04-22T09:53:27.230Z"
   },
   {
    "duration": 4,
    "start_time": "2022-04-22T09:54:06.434Z"
   },
   {
    "duration": 24,
    "start_time": "2022-04-22T09:54:07.085Z"
   },
   {
    "duration": 146,
    "start_time": "2022-04-22T09:59:02.775Z"
   },
   {
    "duration": 141,
    "start_time": "2022-04-22T09:59:07.595Z"
   },
   {
    "duration": 153,
    "start_time": "2022-04-22T09:59:13.690Z"
   },
   {
    "duration": 129,
    "start_time": "2022-04-22T09:59:20.708Z"
   },
   {
    "duration": 140,
    "start_time": "2022-04-22T09:59:45.621Z"
   },
   {
    "duration": 12,
    "start_time": "2022-04-22T10:00:35.426Z"
   },
   {
    "duration": 6,
    "start_time": "2022-04-22T10:03:16.550Z"
   },
   {
    "duration": 8082,
    "start_time": "2022-04-22T10:03:32.445Z"
   },
   {
    "duration": 24402,
    "start_time": "2022-04-22T10:04:15.151Z"
   },
   {
    "duration": 565,
    "start_time": "2022-04-22T10:04:39.909Z"
   },
   {
    "duration": 129,
    "start_time": "2022-04-22T10:05:35.378Z"
   },
   {
    "duration": 154,
    "start_time": "2022-04-22T10:05:39.537Z"
   },
   {
    "duration": 147,
    "start_time": "2022-04-22T10:05:53.678Z"
   },
   {
    "duration": 141,
    "start_time": "2022-04-22T10:06:02.179Z"
   },
   {
    "duration": 19,
    "start_time": "2022-04-22T10:31:02.142Z"
   },
   {
    "duration": 10,
    "start_time": "2022-04-22T10:31:17.225Z"
   },
   {
    "duration": 12,
    "start_time": "2022-04-22T10:31:30.387Z"
   },
   {
    "duration": 20,
    "start_time": "2022-04-22T10:32:09.428Z"
   },
   {
    "duration": 34,
    "start_time": "2022-04-22T10:32:38.895Z"
   },
   {
    "duration": 43,
    "start_time": "2022-04-24T09:58:13.733Z"
   },
   {
    "duration": 6,
    "start_time": "2022-04-24T09:58:15.925Z"
   },
   {
    "duration": 6,
    "start_time": "2022-04-24T09:58:16.519Z"
   },
   {
    "duration": 423,
    "start_time": "2022-04-24T09:58:26.265Z"
   },
   {
    "duration": 838,
    "start_time": "2022-04-24T09:58:26.690Z"
   },
   {
    "duration": 59,
    "start_time": "2022-04-24T09:58:27.529Z"
   },
   {
    "duration": 15,
    "start_time": "2022-04-24T09:58:27.590Z"
   },
   {
    "duration": 22,
    "start_time": "2022-04-24T09:58:27.606Z"
   },
   {
    "duration": 8,
    "start_time": "2022-04-24T09:58:27.630Z"
   },
   {
    "duration": 6,
    "start_time": "2022-04-24T09:58:27.639Z"
   },
   {
    "duration": 6,
    "start_time": "2022-04-24T09:58:27.647Z"
   },
   {
    "duration": 12,
    "start_time": "2022-04-24T09:58:27.654Z"
   },
   {
    "duration": 6,
    "start_time": "2022-04-24T09:58:27.669Z"
   },
   {
    "duration": 26,
    "start_time": "2022-04-24T09:58:27.676Z"
   },
   {
    "duration": 4,
    "start_time": "2022-04-24T09:58:27.703Z"
   },
   {
    "duration": 7,
    "start_time": "2022-04-24T09:58:27.708Z"
   },
   {
    "duration": 4,
    "start_time": "2022-04-24T09:58:27.716Z"
   },
   {
    "duration": 11,
    "start_time": "2022-04-24T09:58:27.722Z"
   },
   {
    "duration": 4,
    "start_time": "2022-04-24T09:58:27.734Z"
   },
   {
    "duration": 4,
    "start_time": "2022-04-24T09:58:27.740Z"
   },
   {
    "duration": 6,
    "start_time": "2022-04-24T09:58:27.745Z"
   },
   {
    "duration": 7,
    "start_time": "2022-04-24T09:58:27.752Z"
   },
   {
    "duration": 3,
    "start_time": "2022-04-24T09:58:27.760Z"
   },
   {
    "duration": 3,
    "start_time": "2022-04-24T09:58:27.800Z"
   },
   {
    "duration": 6,
    "start_time": "2022-04-24T09:58:27.805Z"
   },
   {
    "duration": 10,
    "start_time": "2022-04-24T09:58:27.813Z"
   },
   {
    "duration": 7,
    "start_time": "2022-04-24T09:58:27.824Z"
   },
   {
    "duration": 2,
    "start_time": "2022-04-24T09:58:27.833Z"
   },
   {
    "duration": 4,
    "start_time": "2022-04-24T09:58:27.837Z"
   },
   {
    "duration": 10,
    "start_time": "2022-04-24T09:58:27.842Z"
   },
   {
    "duration": 4,
    "start_time": "2022-04-24T09:58:27.856Z"
   },
   {
    "duration": 64,
    "start_time": "2022-04-24T09:58:27.861Z"
   },
   {
    "duration": 3,
    "start_time": "2022-04-24T09:58:27.927Z"
   },
   {
    "duration": 8,
    "start_time": "2022-04-24T09:58:27.931Z"
   },
   {
    "duration": 4,
    "start_time": "2022-04-24T09:58:27.941Z"
   },
   {
    "duration": 6,
    "start_time": "2022-04-24T09:58:27.947Z"
   },
   {
    "duration": 5,
    "start_time": "2022-04-24T09:58:27.954Z"
   },
   {
    "duration": 4,
    "start_time": "2022-04-24T09:58:27.961Z"
   },
   {
    "duration": 35,
    "start_time": "2022-04-24T09:58:27.967Z"
   },
   {
    "duration": 3,
    "start_time": "2022-04-24T09:58:28.004Z"
   },
   {
    "duration": 5,
    "start_time": "2022-04-24T09:58:28.008Z"
   },
   {
    "duration": 11,
    "start_time": "2022-04-24T09:58:28.014Z"
   },
   {
    "duration": 8,
    "start_time": "2022-04-24T09:58:28.026Z"
   },
   {
    "duration": 9,
    "start_time": "2022-04-24T09:58:28.035Z"
   },
   {
    "duration": 6,
    "start_time": "2022-04-24T09:58:28.045Z"
   },
   {
    "duration": 7,
    "start_time": "2022-04-24T09:58:28.053Z"
   },
   {
    "duration": 6,
    "start_time": "2022-04-24T09:58:28.061Z"
   },
   {
    "duration": 33,
    "start_time": "2022-04-24T09:58:28.069Z"
   },
   {
    "duration": 4,
    "start_time": "2022-04-24T09:58:28.104Z"
   },
   {
    "duration": 9,
    "start_time": "2022-04-24T09:58:28.109Z"
   },
   {
    "duration": 15,
    "start_time": "2022-04-24T09:58:28.119Z"
   },
   {
    "duration": 6,
    "start_time": "2022-04-24T09:58:28.135Z"
   },
   {
    "duration": 29,
    "start_time": "2022-04-24T09:58:28.142Z"
   },
   {
    "duration": 31,
    "start_time": "2022-04-24T09:58:28.172Z"
   },
   {
    "duration": 5,
    "start_time": "2022-04-24T09:58:28.204Z"
   },
   {
    "duration": 7,
    "start_time": "2022-04-24T09:58:28.211Z"
   },
   {
    "duration": 9,
    "start_time": "2022-04-24T09:58:28.219Z"
   },
   {
    "duration": 7,
    "start_time": "2022-04-24T09:58:28.229Z"
   },
   {
    "duration": 4,
    "start_time": "2022-04-24T09:58:28.237Z"
   },
   {
    "duration": 14,
    "start_time": "2022-04-24T09:58:28.242Z"
   },
   {
    "duration": 6,
    "start_time": "2022-04-24T09:58:28.257Z"
   },
   {
    "duration": 4,
    "start_time": "2022-04-24T09:58:28.265Z"
   },
   {
    "duration": 34,
    "start_time": "2022-04-24T09:58:28.271Z"
   },
   {
    "duration": 7,
    "start_time": "2022-04-24T09:58:28.306Z"
   },
   {
    "duration": 10,
    "start_time": "2022-04-24T09:58:28.314Z"
   },
   {
    "duration": 4,
    "start_time": "2022-04-24T09:58:28.326Z"
   },
   {
    "duration": 12,
    "start_time": "2022-04-24T09:58:28.332Z"
   },
   {
    "duration": 146,
    "start_time": "2022-04-24T09:58:28.346Z"
   },
   {
    "duration": 20,
    "start_time": "2022-04-24T09:58:28.494Z"
   },
   {
    "duration": 15,
    "start_time": "2022-04-24T09:58:28.516Z"
   },
   {
    "duration": 27,
    "start_time": "2022-04-24T09:58:28.533Z"
   },
   {
    "duration": 125,
    "start_time": "2022-04-24T09:58:28.562Z"
   },
   {
    "duration": 23,
    "start_time": "2022-04-24T09:58:28.689Z"
   },
   {
    "duration": 102,
    "start_time": "2022-04-24T09:58:28.714Z"
   },
   {
    "duration": 15,
    "start_time": "2022-04-24T09:58:28.818Z"
   },
   {
    "duration": 111,
    "start_time": "2022-04-24T09:58:28.835Z"
   }
  ],
  "kernelspec": {
   "display_name": "Python 3 (ipykernel)",
   "language": "python",
   "name": "python3"
  },
  "language_info": {
   "codemirror_mode": {
    "name": "ipython",
    "version": 3
   },
   "file_extension": ".py",
   "mimetype": "text/x-python",
   "name": "python",
   "nbconvert_exporter": "python",
   "pygments_lexer": "ipython3",
   "version": "3.9.7"
  },
  "toc": {
   "base_numbering": 1,
   "nav_menu": {},
   "number_sections": true,
   "sideBar": true,
   "skip_h1_title": true,
   "title_cell": "Table of Contents",
   "title_sidebar": "Contents",
   "toc_cell": false,
   "toc_position": {
    "height": "calc(100% - 180px)",
    "left": "10px",
    "top": "150px",
    "width": "307.2px"
   },
   "toc_section_display": true,
   "toc_window_display": true
  }
 },
 "nbformat": 4,
 "nbformat_minor": 5
}
