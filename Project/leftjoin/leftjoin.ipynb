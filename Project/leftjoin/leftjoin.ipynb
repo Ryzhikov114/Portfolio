{
  "nbformat": 4,
  "nbformat_minor": 0,
  "metadata": {
    "colab": {
      "provenance": [],
      "toc_visible": true
    },
    "kernelspec": {
      "name": "python3",
      "display_name": "Python 3"
    },
    "language_info": {
      "name": "python"
    },
    "gpuClass": "standard"
  },
  "cells": [
    {
      "cell_type": "markdown",
      "source": [
        "# 🙋‍♂️ Вступление\n",
        "\n",
        "- Здравствуйте, добрый день!!! Тестовое задание компании **LeftJoin**.\n",
        "\n",
        "- Требуется создать таблицы, и на их основе сделать SQL запросы. \n",
        "\n",
        "- В работе использованы библиотеки рandas, numpy, sqlite3. Созданы таблицы с помощью SQL запросов. Сделана функция для отображения SQL запросов. При выполнения задания использованы оконные функции, табличные выражения, вложенные запросы."
      ],
      "metadata": {
        "id": "WEQbAmzdWctb"
      }
    },
    {
      "cell_type": "markdown",
      "source": [
        "# 📚 1. Импорт"
      ],
      "metadata": {
        "id": "LO3gBBk2U4Gk"
      }
    },
    {
      "cell_type": "code",
      "execution_count": null,
      "metadata": {
        "id": "Gac9PDRVLE7n",
        "colab": {
          "base_uri": "https://localhost:8080/"
        },
        "outputId": "daa10bc1-563f-4557-8a66-ce5d19dbe55f"
      },
      "outputs": [
        {
          "output_type": "stream",
          "name": "stdout",
          "text": [
            "Looking in indexes: https://pypi.org/simple, https://us-python.pkg.dev/colab-wheels/public/simple/\n",
            "Requirement already satisfied: SQLAlchemy in /usr/local/lib/python3.8/dist-packages (1.4.46)\n",
            "Requirement already satisfied: greenlet!=0.4.17 in /usr/local/lib/python3.8/dist-packages (from SQLAlchemy) (2.0.2)\n",
            "Get:1 https://cloud.r-project.org/bin/linux/ubuntu focal-cran40/ InRelease [3,622 B]\n",
            "Ign:2 https://developer.download.nvidia.com/compute/machine-learning/repos/ubuntu2004/x86_64  InRelease\n",
            "Hit:3 https://developer.download.nvidia.com/compute/cuda/repos/ubuntu2004/x86_64  InRelease\n",
            "Hit:4 https://developer.download.nvidia.com/compute/machine-learning/repos/ubuntu2004/x86_64  Release\n",
            "Get:5 http://ppa.launchpad.net/c2d4u.team/c2d4u4.0+/ubuntu focal InRelease [18.1 kB]\n",
            "Get:6 http://security.ubuntu.com/ubuntu focal-security InRelease [114 kB]\n",
            "Hit:7 http://archive.ubuntu.com/ubuntu focal InRelease\n",
            "Get:8 http://archive.ubuntu.com/ubuntu focal-updates InRelease [114 kB]\n",
            "Hit:9 http://ppa.launchpad.net/cran/libgit2/ubuntu focal InRelease\n",
            "Get:10 http://ppa.launchpad.net/deadsnakes/ppa/ubuntu focal InRelease [18.1 kB]\n",
            "Get:11 http://archive.ubuntu.com/ubuntu focal-backports InRelease [108 kB]\n",
            "Hit:12 http://ppa.launchpad.net/graphics-drivers/ppa/ubuntu focal InRelease\n",
            "Get:13 http://ppa.launchpad.net/sergey-dryabzhinsky/packages/ubuntu focal InRelease [17.5 kB]\n",
            "Hit:15 http://ppa.launchpad.net/ubuntugis/ppa/ubuntu focal InRelease\n",
            "Get:16 http://ppa.launchpad.net/c2d4u.team/c2d4u4.0+/ubuntu focal/main Sources [2,386 kB]\n",
            "Get:17 http://security.ubuntu.com/ubuntu focal-security/main amd64 Packages [2,479 kB]\n",
            "Get:18 http://archive.ubuntu.com/ubuntu focal-updates/restricted amd64 Packages [2,062 kB]\n",
            "Get:19 http://ppa.launchpad.net/c2d4u.team/c2d4u4.0+/ubuntu focal/main amd64 Packages [1,131 kB]\n",
            "Get:20 http://archive.ubuntu.com/ubuntu focal-updates/main amd64 Packages [2,965 kB]\n",
            "Get:21 http://ppa.launchpad.net/deadsnakes/ppa/ubuntu focal/main amd64 Packages [29.5 kB]\n",
            "Get:22 http://archive.ubuntu.com/ubuntu focal-updates/universe amd64 Packages [1,295 kB]\n",
            "Get:23 http://ppa.launchpad.net/sergey-dryabzhinsky/packages/ubuntu focal/main amd64 Packages [22.1 kB]\n",
            "Get:24 http://security.ubuntu.com/ubuntu focal-security/universe amd64 Packages [994 kB]\n",
            "Fetched 13.8 MB in 11s (1,262 kB/s)\n",
            "Reading package lists... Done\n",
            "Hit:1 https://cloud.r-project.org/bin/linux/ubuntu focal-cran40/ InRelease\n",
            "Ign:2 https://developer.download.nvidia.com/compute/machine-learning/repos/ubuntu2004/x86_64  InRelease\n",
            "Hit:3 https://developer.download.nvidia.com/compute/cuda/repos/ubuntu2004/x86_64  InRelease\n",
            "Hit:4 https://developer.download.nvidia.com/compute/machine-learning/repos/ubuntu2004/x86_64  Release\n",
            "Hit:5 http://security.ubuntu.com/ubuntu focal-security InRelease\n",
            "Hit:6 http://ppa.launchpad.net/c2d4u.team/c2d4u4.0+/ubuntu focal InRelease\n",
            "Hit:7 http://archive.ubuntu.com/ubuntu focal InRelease\n",
            "Hit:8 http://archive.ubuntu.com/ubuntu focal-updates InRelease\n",
            "Hit:9 http://ppa.launchpad.net/cran/libgit2/ubuntu focal InRelease\n",
            "Hit:10 http://archive.ubuntu.com/ubuntu focal-backports InRelease\n",
            "Hit:11 http://ppa.launchpad.net/deadsnakes/ppa/ubuntu focal InRelease\n",
            "Hit:13 http://ppa.launchpad.net/graphics-drivers/ppa/ubuntu focal InRelease\n",
            "Hit:14 http://ppa.launchpad.net/sergey-dryabzhinsky/packages/ubuntu focal InRelease\n",
            "Hit:15 http://ppa.launchpad.net/ubuntugis/ppa/ubuntu focal InRelease\n",
            "Reading package lists... Done\n",
            "Building dependency tree       \n",
            "Reading state information... Done\n",
            "48 packages can be upgraded. Run 'apt list --upgradable' to see them.\n",
            "Reading package lists... Done\n",
            "Building dependency tree       \n",
            "Reading state information... Done\n",
            "The following package was automatically installed and is no longer required:\n",
            "  libnvidia-common-510\n",
            "Use 'apt autoremove' to remove it.\n",
            "The following additional packages will be installed:\n",
            "  libsqlite3-0 libsqlite3-dev\n",
            "Suggested packages:\n",
            "  libsqlite3-0-plugins sqlite3-doc\n",
            "The following NEW packages will be installed:\n",
            "  sqlite3\n",
            "The following packages will be upgraded:\n",
            "  libsqlite3-0 libsqlite3-dev\n",
            "2 upgraded, 1 newly installed, 0 to remove and 46 not upgraded.\n",
            "Need to get 1,291 kB of archives.\n",
            "After this operation, 338 kB of additional disk space will be used.\n",
            "Get:1 http://ppa.launchpad.net/sergey-dryabzhinsky/packages/ubuntu focal/main amd64 libsqlite3-dev amd64 3.40.1-2sergeyd10.7~20.04.1 [676 kB]\n",
            "Get:2 http://ppa.launchpad.net/sergey-dryabzhinsky/packages/ubuntu focal/main amd64 libsqlite3-0 amd64 3.40.1-2sergeyd10.7~20.04.1 [509 kB]\n",
            "Get:3 http://ppa.launchpad.net/sergey-dryabzhinsky/packages/ubuntu focal/main amd64 sqlite3 amd64 3.40.1-2sergeyd10.7~20.04.1 [105 kB]\n",
            "Fetched 1,291 kB in 3s (471 kB/s)\n",
            "(Reading database ... 128097 files and directories currently installed.)\n",
            "Preparing to unpack .../libsqlite3-dev_3.40.1-2sergeyd10.7~20.04.1_amd64.deb ...\n",
            "Unpacking libsqlite3-dev:amd64 (3.40.1-2sergeyd10.7~20.04.1) over (3.31.1-4ubuntu0.5) ...\n",
            "Preparing to unpack .../libsqlite3-0_3.40.1-2sergeyd10.7~20.04.1_amd64.deb ...\n",
            "Unpacking libsqlite3-0:amd64 (3.40.1-2sergeyd10.7~20.04.1) over (3.31.1-4ubuntu0.5) ...\n",
            "Selecting previously unselected package sqlite3.\n",
            "Preparing to unpack .../sqlite3_3.40.1-2sergeyd10.7~20.04.1_amd64.deb ...\n",
            "Unpacking sqlite3 (3.40.1-2sergeyd10.7~20.04.1) ...\n",
            "Setting up libsqlite3-0:amd64 (3.40.1-2sergeyd10.7~20.04.1) ...\n",
            "Setting up libsqlite3-dev:amd64 (3.40.1-2sergeyd10.7~20.04.1) ...\n",
            "Setting up sqlite3 (3.40.1-2sergeyd10.7~20.04.1) ...\n",
            "Processing triggers for man-db (2.9.1-1) ...\n",
            "Processing triggers for libc-bin (2.31-0ubuntu9.9) ...\n"
          ]
        }
      ],
      "source": [
        "!pip install SQLAlchemy\n",
        "!add-apt-repository -y ppa:sergey-dryabzhinsky/packages\n",
        "!apt update\n",
        "!apt install sqlite3"
      ]
    },
    {
      "cell_type": "code",
      "source": [
        "!gdown 1BSHIKQ7rFw5BpTq5nw1UZfjPK_7Mpnbi -O /usr/lib/python3.7/lib-dynload/\n",
        "# MENU: Runtime > Restart runtime\n",
        "# Нужно перезапустить среду, после установки\n",
        "import sqlite3\n",
        "sqlite3.sqlite_version"
      ],
      "metadata": {
        "colab": {
          "base_uri": "https://localhost:8080/",
          "height": 105
        },
        "id": "0Yctz0lELIHh",
        "outputId": "4a03c2c6-38fe-4a45-9321-d941fffb2206"
      },
      "execution_count": null,
      "outputs": [
        {
          "output_type": "stream",
          "name": "stdout",
          "text": [
            "Downloading...\n",
            "From: https://drive.google.com/uc?id=1BSHIKQ7rFw5BpTq5nw1UZfjPK_7Mpnbi\n",
            "To: /usr/lib/python3.7/lib-dynload/_sqlite3.cpython-37m-x86_64-linux-gnu.so\n",
            "\r  0% 0.00/6.50M [00:00<?, ?B/s]\r100% 6.50M/6.50M [00:00<00:00, 70.6MB/s]\n"
          ]
        },
        {
          "output_type": "execute_result",
          "data": {
            "text/plain": [
              "'3.31.1'"
            ],
            "application/vnd.google.colaboratory.intrinsic+json": {
              "type": "string"
            }
          },
          "metadata": {},
          "execution_count": 2
        }
      ]
    },
    {
      "cell_type": "code",
      "source": [
        "import pandas as pd\n",
        "import numpy as np"
      ],
      "metadata": {
        "id": "v0FFNsuMLymL"
      },
      "execution_count": null,
      "outputs": []
    },
    {
      "cell_type": "code",
      "source": [
        "con = sqlite3.connect('test.db')"
      ],
      "metadata": {
        "id": "WIvrX_JZLVD3"
      },
      "execution_count": null,
      "outputs": []
    },
    {
      "cell_type": "code",
      "source": [
        "def select(sql):\n",
        "  return pd.read_sql(sql,con)"
      ],
      "metadata": {
        "id": "_94RbckuLLMu"
      },
      "execution_count": null,
      "outputs": []
    },
    {
      "cell_type": "markdown",
      "source": [
        "# Задание 1\n",
        "\n",
        "Имеется таблица city_population с населением городов: city (наименование города), population (численность населения).\n",
        "Необходимо написать запрос, который выводит город с минимальным населением."
      ],
      "metadata": {
        "id": "nwKZP4ZNU8dy"
      }
    },
    {
      "cell_type": "code",
      "source": [
        "# CREATING THE TABLE city_population\n",
        "\n",
        "con.execute('''\n",
        "CREATE TABLE IF NOT EXISTS city_population(\n",
        "    city_id INTEGER PRIMARY KEY AUTOINCREMENT,\n",
        "    city VARCHAR(80),\n",
        "    population int DEFAULT NULL);\n",
        "    ''')\n",
        "\n",
        "con.commit()\n",
        "\n",
        "print(\"Table created successfully\");\n"
      ],
      "metadata": {
        "colab": {
          "base_uri": "https://localhost:8080/"
        },
        "id": "na-7eyAuMHve",
        "outputId": "63cba678-a502-471a-97da-d41e07e64176"
      },
      "execution_count": null,
      "outputs": [
        {
          "output_type": "stream",
          "name": "stdout",
          "text": [
            "Table created successfully\n"
          ]
        }
      ]
    },
    {
      "cell_type": "code",
      "source": [
        "# INSERTING VALUES city_population\n",
        "\n",
        "con.execute(\"INSERT or REPLACE INTO city_population (city, population) VALUES('Moskva', 80000000);\")\n",
        "con.execute(\"INSERT or REPLACE INTO city_population (city, population) VALUES('Vologda', 50000);\")\n",
        "con.execute(\"INSERT or REPLACE INTO city_population (city, population) VALUES('Lobnya', 4000);\")\n",
        "con.execute(\"INSERT or REPLACE INTO city_population (city, population) VALUES('Samara', 4000);\")\n",
        "con.execute(\"INSERT or REPLACE INTO city_population (city, population) VALUES('Izhevsk', 1555555);\")\n",
        "con.execute(\"INSERT or REPLACE INTO city_population (city, population) VALUES('Amerika', 489512);\")\n",
        "\n",
        "con.commit()\n",
        "\n",
        "print(\"Table insert successfully\");"
      ],
      "metadata": {
        "colab": {
          "base_uri": "https://localhost:8080/"
        },
        "id": "Xt__TwlyDxcp",
        "outputId": "8086f883-197f-459e-e8ac-314e831e2a9b"
      },
      "execution_count": null,
      "outputs": [
        {
          "output_type": "stream",
          "name": "stdout",
          "text": [
            "Table insert successfully\n"
          ]
        }
      ]
    },
    {
      "cell_type": "code",
      "source": [
        "sql = '''\n",
        "SELECT city\n",
        "FROM city_population\n",
        "GROUP BY 1\n",
        "HAVING MIN(population) = (SELECT MIN(population) FROM city_population)\n",
        "'''"
      ],
      "metadata": {
        "id": "dIV3K1a4EZyU"
      },
      "execution_count": null,
      "outputs": []
    },
    {
      "cell_type": "code",
      "source": [
        "select(sql)"
      ],
      "metadata": {
        "colab": {
          "base_uri": "https://localhost:8080/",
          "height": 112
        },
        "id": "ohSgEdkTEfmz",
        "outputId": "f2eb83b5-d927-4ccd-f223-472bde7f4218"
      },
      "execution_count": null,
      "outputs": [
        {
          "output_type": "execute_result",
          "data": {
            "text/plain": [
              "     city\n",
              "0  Lobnya\n",
              "1  Samara"
            ],
            "text/html": [
              "\n",
              "  <div id=\"df-8d524ff4-d167-49b7-b4a4-1d225697479d\">\n",
              "    <div class=\"colab-df-container\">\n",
              "      <div>\n",
              "<style scoped>\n",
              "    .dataframe tbody tr th:only-of-type {\n",
              "        vertical-align: middle;\n",
              "    }\n",
              "\n",
              "    .dataframe tbody tr th {\n",
              "        vertical-align: top;\n",
              "    }\n",
              "\n",
              "    .dataframe thead th {\n",
              "        text-align: right;\n",
              "    }\n",
              "</style>\n",
              "<table border=\"1\" class=\"dataframe\">\n",
              "  <thead>\n",
              "    <tr style=\"text-align: right;\">\n",
              "      <th></th>\n",
              "      <th>city</th>\n",
              "    </tr>\n",
              "  </thead>\n",
              "  <tbody>\n",
              "    <tr>\n",
              "      <th>0</th>\n",
              "      <td>Lobnya</td>\n",
              "    </tr>\n",
              "    <tr>\n",
              "      <th>1</th>\n",
              "      <td>Samara</td>\n",
              "    </tr>\n",
              "  </tbody>\n",
              "</table>\n",
              "</div>\n",
              "      <button class=\"colab-df-convert\" onclick=\"convertToInteractive('df-8d524ff4-d167-49b7-b4a4-1d225697479d')\"\n",
              "              title=\"Convert this dataframe to an interactive table.\"\n",
              "              style=\"display:none;\">\n",
              "        \n",
              "  <svg xmlns=\"http://www.w3.org/2000/svg\" height=\"24px\"viewBox=\"0 0 24 24\"\n",
              "       width=\"24px\">\n",
              "    <path d=\"M0 0h24v24H0V0z\" fill=\"none\"/>\n",
              "    <path d=\"M18.56 5.44l.94 2.06.94-2.06 2.06-.94-2.06-.94-.94-2.06-.94 2.06-2.06.94zm-11 1L8.5 8.5l.94-2.06 2.06-.94-2.06-.94L8.5 2.5l-.94 2.06-2.06.94zm10 10l.94 2.06.94-2.06 2.06-.94-2.06-.94-.94-2.06-.94 2.06-2.06.94z\"/><path d=\"M17.41 7.96l-1.37-1.37c-.4-.4-.92-.59-1.43-.59-.52 0-1.04.2-1.43.59L10.3 9.45l-7.72 7.72c-.78.78-.78 2.05 0 2.83L4 21.41c.39.39.9.59 1.41.59.51 0 1.02-.2 1.41-.59l7.78-7.78 2.81-2.81c.8-.78.8-2.07 0-2.86zM5.41 20L4 18.59l7.72-7.72 1.47 1.35L5.41 20z\"/>\n",
              "  </svg>\n",
              "      </button>\n",
              "      \n",
              "  <style>\n",
              "    .colab-df-container {\n",
              "      display:flex;\n",
              "      flex-wrap:wrap;\n",
              "      gap: 12px;\n",
              "    }\n",
              "\n",
              "    .colab-df-convert {\n",
              "      background-color: #E8F0FE;\n",
              "      border: none;\n",
              "      border-radius: 50%;\n",
              "      cursor: pointer;\n",
              "      display: none;\n",
              "      fill: #1967D2;\n",
              "      height: 32px;\n",
              "      padding: 0 0 0 0;\n",
              "      width: 32px;\n",
              "    }\n",
              "\n",
              "    .colab-df-convert:hover {\n",
              "      background-color: #E2EBFA;\n",
              "      box-shadow: 0px 1px 2px rgba(60, 64, 67, 0.3), 0px 1px 3px 1px rgba(60, 64, 67, 0.15);\n",
              "      fill: #174EA6;\n",
              "    }\n",
              "\n",
              "    [theme=dark] .colab-df-convert {\n",
              "      background-color: #3B4455;\n",
              "      fill: #D2E3FC;\n",
              "    }\n",
              "\n",
              "    [theme=dark] .colab-df-convert:hover {\n",
              "      background-color: #434B5C;\n",
              "      box-shadow: 0px 1px 3px 1px rgba(0, 0, 0, 0.15);\n",
              "      filter: drop-shadow(0px 1px 2px rgba(0, 0, 0, 0.3));\n",
              "      fill: #FFFFFF;\n",
              "    }\n",
              "  </style>\n",
              "\n",
              "      <script>\n",
              "        const buttonEl =\n",
              "          document.querySelector('#df-8d524ff4-d167-49b7-b4a4-1d225697479d button.colab-df-convert');\n",
              "        buttonEl.style.display =\n",
              "          google.colab.kernel.accessAllowed ? 'block' : 'none';\n",
              "\n",
              "        async function convertToInteractive(key) {\n",
              "          const element = document.querySelector('#df-8d524ff4-d167-49b7-b4a4-1d225697479d');\n",
              "          const dataTable =\n",
              "            await google.colab.kernel.invokeFunction('convertToInteractive',\n",
              "                                                     [key], {});\n",
              "          if (!dataTable) return;\n",
              "\n",
              "          const docLinkHtml = 'Like what you see? Visit the ' +\n",
              "            '<a target=\"_blank\" href=https://colab.research.google.com/notebooks/data_table.ipynb>data table notebook</a>'\n",
              "            + ' to learn more about interactive tables.';\n",
              "          element.innerHTML = '';\n",
              "          dataTable['output_type'] = 'display_data';\n",
              "          await google.colab.output.renderOutput(dataTable, element);\n",
              "          const docLink = document.createElement('div');\n",
              "          docLink.innerHTML = docLinkHtml;\n",
              "          element.appendChild(docLink);\n",
              "        }\n",
              "      </script>\n",
              "    </div>\n",
              "  </div>\n",
              "  "
            ]
          },
          "metadata": {},
          "execution_count": 9
        }
      ]
    },
    {
      "cell_type": "markdown",
      "source": [
        "# Задание 2\n",
        "\n",
        "Создать таблицу и вывести значения, развернуть таблицу по горизонтали"
      ],
      "metadata": {
        "id": "2RXiqUkTFXEL"
      }
    },
    {
      "cell_type": "code",
      "source": [
        "# CREATING THE TABLE А\n",
        "\n",
        "con.execute('''\n",
        "CREATE TABLE IF NOT EXISTS A(\n",
        "    ID int,\n",
        "    Name VARCHAR(1),\n",
        "    Val int);\n",
        "    ''')\n",
        "\n",
        "con.commit()\n",
        "\n",
        "print(\"Table created successfully\");"
      ],
      "metadata": {
        "colab": {
          "base_uri": "https://localhost:8080/"
        },
        "id": "tkQbKKZjEgnp",
        "outputId": "2a290715-b10d-4bc1-b63c-e7f295ad9fed"
      },
      "execution_count": null,
      "outputs": [
        {
          "output_type": "stream",
          "name": "stdout",
          "text": [
            "Table created successfully\n"
          ]
        }
      ]
    },
    {
      "cell_type": "code",
      "source": [
        "# INSERTING VALUES city_population\n",
        "\n",
        "con.execute(\"INSERT or REPLACE INTO A (ID, Name, Val) VALUES(1, 'A', 10);\")\n",
        "con.execute(\"INSERT or REPLACE INTO A (ID, Name, Val) VALUES(1, 'B', 9);\")\n",
        "con.execute(\"INSERT or REPLACE INTO A (ID, Name, Val) VALUES(2, 'B', 8);\")\n",
        "con.execute(\"INSERT or REPLACE INTO A (ID, Name, Val) VALUES(2, 'C', 7);\")\n",
        "con.execute(\"INSERT or REPLACE INTO A (ID, Name, Val) VALUES(3, 'A', 6);\")\n",
        "con.execute(\"INSERT or REPLACE INTO A (ID, Name, Val) VALUES(3, 'C', 5);\")\n",
        "\n",
        "con.commit()\n",
        "\n",
        "print(\"Table insert successfully\");"
      ],
      "metadata": {
        "colab": {
          "base_uri": "https://localhost:8080/"
        },
        "id": "t-88WWxNF7iQ",
        "outputId": "a5c75040-5349-4f60-a96b-afdf84c2385e"
      },
      "execution_count": null,
      "outputs": [
        {
          "output_type": "stream",
          "name": "stdout",
          "text": [
            "Table insert successfully\n"
          ]
        }
      ]
    },
    {
      "cell_type": "code",
      "source": [
        "sql = '''\n",
        "SELECT *\n",
        "FROM A\n",
        "'''"
      ],
      "metadata": {
        "id": "7zpeved5Gjff"
      },
      "execution_count": null,
      "outputs": []
    },
    {
      "cell_type": "code",
      "source": [
        "select(sql)"
      ],
      "metadata": {
        "colab": {
          "base_uri": "https://localhost:8080/",
          "height": 237
        },
        "id": "_2XrBMx7GmT0",
        "outputId": "41326dbd-5169-4b48-bde3-759908bb42b4"
      },
      "execution_count": null,
      "outputs": [
        {
          "output_type": "execute_result",
          "data": {
            "text/plain": [
              "   ID Name  Val\n",
              "0   1    A   10\n",
              "1   1    B    9\n",
              "2   2    B    8\n",
              "3   2    C    7\n",
              "4   3    A    6\n",
              "5   3    C    5"
            ],
            "text/html": [
              "\n",
              "  <div id=\"df-28824742-2445-4502-ba02-025777dc2094\">\n",
              "    <div class=\"colab-df-container\">\n",
              "      <div>\n",
              "<style scoped>\n",
              "    .dataframe tbody tr th:only-of-type {\n",
              "        vertical-align: middle;\n",
              "    }\n",
              "\n",
              "    .dataframe tbody tr th {\n",
              "        vertical-align: top;\n",
              "    }\n",
              "\n",
              "    .dataframe thead th {\n",
              "        text-align: right;\n",
              "    }\n",
              "</style>\n",
              "<table border=\"1\" class=\"dataframe\">\n",
              "  <thead>\n",
              "    <tr style=\"text-align: right;\">\n",
              "      <th></th>\n",
              "      <th>ID</th>\n",
              "      <th>Name</th>\n",
              "      <th>Val</th>\n",
              "    </tr>\n",
              "  </thead>\n",
              "  <tbody>\n",
              "    <tr>\n",
              "      <th>0</th>\n",
              "      <td>1</td>\n",
              "      <td>A</td>\n",
              "      <td>10</td>\n",
              "    </tr>\n",
              "    <tr>\n",
              "      <th>1</th>\n",
              "      <td>1</td>\n",
              "      <td>B</td>\n",
              "      <td>9</td>\n",
              "    </tr>\n",
              "    <tr>\n",
              "      <th>2</th>\n",
              "      <td>2</td>\n",
              "      <td>B</td>\n",
              "      <td>8</td>\n",
              "    </tr>\n",
              "    <tr>\n",
              "      <th>3</th>\n",
              "      <td>2</td>\n",
              "      <td>C</td>\n",
              "      <td>7</td>\n",
              "    </tr>\n",
              "    <tr>\n",
              "      <th>4</th>\n",
              "      <td>3</td>\n",
              "      <td>A</td>\n",
              "      <td>6</td>\n",
              "    </tr>\n",
              "    <tr>\n",
              "      <th>5</th>\n",
              "      <td>3</td>\n",
              "      <td>C</td>\n",
              "      <td>5</td>\n",
              "    </tr>\n",
              "  </tbody>\n",
              "</table>\n",
              "</div>\n",
              "      <button class=\"colab-df-convert\" onclick=\"convertToInteractive('df-28824742-2445-4502-ba02-025777dc2094')\"\n",
              "              title=\"Convert this dataframe to an interactive table.\"\n",
              "              style=\"display:none;\">\n",
              "        \n",
              "  <svg xmlns=\"http://www.w3.org/2000/svg\" height=\"24px\"viewBox=\"0 0 24 24\"\n",
              "       width=\"24px\">\n",
              "    <path d=\"M0 0h24v24H0V0z\" fill=\"none\"/>\n",
              "    <path d=\"M18.56 5.44l.94 2.06.94-2.06 2.06-.94-2.06-.94-.94-2.06-.94 2.06-2.06.94zm-11 1L8.5 8.5l.94-2.06 2.06-.94-2.06-.94L8.5 2.5l-.94 2.06-2.06.94zm10 10l.94 2.06.94-2.06 2.06-.94-2.06-.94-.94-2.06-.94 2.06-2.06.94z\"/><path d=\"M17.41 7.96l-1.37-1.37c-.4-.4-.92-.59-1.43-.59-.52 0-1.04.2-1.43.59L10.3 9.45l-7.72 7.72c-.78.78-.78 2.05 0 2.83L4 21.41c.39.39.9.59 1.41.59.51 0 1.02-.2 1.41-.59l7.78-7.78 2.81-2.81c.8-.78.8-2.07 0-2.86zM5.41 20L4 18.59l7.72-7.72 1.47 1.35L5.41 20z\"/>\n",
              "  </svg>\n",
              "      </button>\n",
              "      \n",
              "  <style>\n",
              "    .colab-df-container {\n",
              "      display:flex;\n",
              "      flex-wrap:wrap;\n",
              "      gap: 12px;\n",
              "    }\n",
              "\n",
              "    .colab-df-convert {\n",
              "      background-color: #E8F0FE;\n",
              "      border: none;\n",
              "      border-radius: 50%;\n",
              "      cursor: pointer;\n",
              "      display: none;\n",
              "      fill: #1967D2;\n",
              "      height: 32px;\n",
              "      padding: 0 0 0 0;\n",
              "      width: 32px;\n",
              "    }\n",
              "\n",
              "    .colab-df-convert:hover {\n",
              "      background-color: #E2EBFA;\n",
              "      box-shadow: 0px 1px 2px rgba(60, 64, 67, 0.3), 0px 1px 3px 1px rgba(60, 64, 67, 0.15);\n",
              "      fill: #174EA6;\n",
              "    }\n",
              "\n",
              "    [theme=dark] .colab-df-convert {\n",
              "      background-color: #3B4455;\n",
              "      fill: #D2E3FC;\n",
              "    }\n",
              "\n",
              "    [theme=dark] .colab-df-convert:hover {\n",
              "      background-color: #434B5C;\n",
              "      box-shadow: 0px 1px 3px 1px rgba(0, 0, 0, 0.15);\n",
              "      filter: drop-shadow(0px 1px 2px rgba(0, 0, 0, 0.3));\n",
              "      fill: #FFFFFF;\n",
              "    }\n",
              "  </style>\n",
              "\n",
              "      <script>\n",
              "        const buttonEl =\n",
              "          document.querySelector('#df-28824742-2445-4502-ba02-025777dc2094 button.colab-df-convert');\n",
              "        buttonEl.style.display =\n",
              "          google.colab.kernel.accessAllowed ? 'block' : 'none';\n",
              "\n",
              "        async function convertToInteractive(key) {\n",
              "          const element = document.querySelector('#df-28824742-2445-4502-ba02-025777dc2094');\n",
              "          const dataTable =\n",
              "            await google.colab.kernel.invokeFunction('convertToInteractive',\n",
              "                                                     [key], {});\n",
              "          if (!dataTable) return;\n",
              "\n",
              "          const docLinkHtml = 'Like what you see? Visit the ' +\n",
              "            '<a target=\"_blank\" href=https://colab.research.google.com/notebooks/data_table.ipynb>data table notebook</a>'\n",
              "            + ' to learn more about interactive tables.';\n",
              "          element.innerHTML = '';\n",
              "          dataTable['output_type'] = 'display_data';\n",
              "          await google.colab.output.renderOutput(dataTable, element);\n",
              "          const docLink = document.createElement('div');\n",
              "          docLink.innerHTML = docLinkHtml;\n",
              "          element.appendChild(docLink);\n",
              "        }\n",
              "      </script>\n",
              "    </div>\n",
              "  </div>\n",
              "  "
            ]
          },
          "metadata": {},
          "execution_count": 13
        }
      ]
    },
    {
      "cell_type": "code",
      "source": [
        "sql = '''\n",
        "SELECT ID,\n",
        "  IFNULL(SUM(CASE WHEN Name = \"A\" THEN Val END), \"\") AS A,\n",
        "  IFNULL(SUM(CASE WHEN Name = \"B\" THEN Val END), \"\") AS B,\n",
        "  IFNULL(SUM(CASE WHEN Name = \"C\" THEN Val END), \"\") AS C\n",
        "FROM A \n",
        "GROUP BY 1\n",
        "'''"
      ],
      "metadata": {
        "id": "j92ynFIDGnUH"
      },
      "execution_count": null,
      "outputs": []
    },
    {
      "cell_type": "code",
      "source": [
        "select(sql)"
      ],
      "metadata": {
        "colab": {
          "base_uri": "https://localhost:8080/",
          "height": 143
        },
        "id": "5MUZXBecJfp_",
        "outputId": "10f4b7d5-c450-4cb0-e801-77dd85a8e30e"
      },
      "execution_count": null,
      "outputs": [
        {
          "output_type": "execute_result",
          "data": {
            "text/plain": [
              "   ID   A  B  C\n",
              "0   1  10  9   \n",
              "1   2      8  7\n",
              "2   3   6     5"
            ],
            "text/html": [
              "\n",
              "  <div id=\"df-ce712af4-ea29-4ff0-9b73-d537b52a704b\">\n",
              "    <div class=\"colab-df-container\">\n",
              "      <div>\n",
              "<style scoped>\n",
              "    .dataframe tbody tr th:only-of-type {\n",
              "        vertical-align: middle;\n",
              "    }\n",
              "\n",
              "    .dataframe tbody tr th {\n",
              "        vertical-align: top;\n",
              "    }\n",
              "\n",
              "    .dataframe thead th {\n",
              "        text-align: right;\n",
              "    }\n",
              "</style>\n",
              "<table border=\"1\" class=\"dataframe\">\n",
              "  <thead>\n",
              "    <tr style=\"text-align: right;\">\n",
              "      <th></th>\n",
              "      <th>ID</th>\n",
              "      <th>A</th>\n",
              "      <th>B</th>\n",
              "      <th>C</th>\n",
              "    </tr>\n",
              "  </thead>\n",
              "  <tbody>\n",
              "    <tr>\n",
              "      <th>0</th>\n",
              "      <td>1</td>\n",
              "      <td>10</td>\n",
              "      <td>9</td>\n",
              "      <td></td>\n",
              "    </tr>\n",
              "    <tr>\n",
              "      <th>1</th>\n",
              "      <td>2</td>\n",
              "      <td></td>\n",
              "      <td>8</td>\n",
              "      <td>7</td>\n",
              "    </tr>\n",
              "    <tr>\n",
              "      <th>2</th>\n",
              "      <td>3</td>\n",
              "      <td>6</td>\n",
              "      <td></td>\n",
              "      <td>5</td>\n",
              "    </tr>\n",
              "  </tbody>\n",
              "</table>\n",
              "</div>\n",
              "      <button class=\"colab-df-convert\" onclick=\"convertToInteractive('df-ce712af4-ea29-4ff0-9b73-d537b52a704b')\"\n",
              "              title=\"Convert this dataframe to an interactive table.\"\n",
              "              style=\"display:none;\">\n",
              "        \n",
              "  <svg xmlns=\"http://www.w3.org/2000/svg\" height=\"24px\"viewBox=\"0 0 24 24\"\n",
              "       width=\"24px\">\n",
              "    <path d=\"M0 0h24v24H0V0z\" fill=\"none\"/>\n",
              "    <path d=\"M18.56 5.44l.94 2.06.94-2.06 2.06-.94-2.06-.94-.94-2.06-.94 2.06-2.06.94zm-11 1L8.5 8.5l.94-2.06 2.06-.94-2.06-.94L8.5 2.5l-.94 2.06-2.06.94zm10 10l.94 2.06.94-2.06 2.06-.94-2.06-.94-.94-2.06-.94 2.06-2.06.94z\"/><path d=\"M17.41 7.96l-1.37-1.37c-.4-.4-.92-.59-1.43-.59-.52 0-1.04.2-1.43.59L10.3 9.45l-7.72 7.72c-.78.78-.78 2.05 0 2.83L4 21.41c.39.39.9.59 1.41.59.51 0 1.02-.2 1.41-.59l7.78-7.78 2.81-2.81c.8-.78.8-2.07 0-2.86zM5.41 20L4 18.59l7.72-7.72 1.47 1.35L5.41 20z\"/>\n",
              "  </svg>\n",
              "      </button>\n",
              "      \n",
              "  <style>\n",
              "    .colab-df-container {\n",
              "      display:flex;\n",
              "      flex-wrap:wrap;\n",
              "      gap: 12px;\n",
              "    }\n",
              "\n",
              "    .colab-df-convert {\n",
              "      background-color: #E8F0FE;\n",
              "      border: none;\n",
              "      border-radius: 50%;\n",
              "      cursor: pointer;\n",
              "      display: none;\n",
              "      fill: #1967D2;\n",
              "      height: 32px;\n",
              "      padding: 0 0 0 0;\n",
              "      width: 32px;\n",
              "    }\n",
              "\n",
              "    .colab-df-convert:hover {\n",
              "      background-color: #E2EBFA;\n",
              "      box-shadow: 0px 1px 2px rgba(60, 64, 67, 0.3), 0px 1px 3px 1px rgba(60, 64, 67, 0.15);\n",
              "      fill: #174EA6;\n",
              "    }\n",
              "\n",
              "    [theme=dark] .colab-df-convert {\n",
              "      background-color: #3B4455;\n",
              "      fill: #D2E3FC;\n",
              "    }\n",
              "\n",
              "    [theme=dark] .colab-df-convert:hover {\n",
              "      background-color: #434B5C;\n",
              "      box-shadow: 0px 1px 3px 1px rgba(0, 0, 0, 0.15);\n",
              "      filter: drop-shadow(0px 1px 2px rgba(0, 0, 0, 0.3));\n",
              "      fill: #FFFFFF;\n",
              "    }\n",
              "  </style>\n",
              "\n",
              "      <script>\n",
              "        const buttonEl =\n",
              "          document.querySelector('#df-ce712af4-ea29-4ff0-9b73-d537b52a704b button.colab-df-convert');\n",
              "        buttonEl.style.display =\n",
              "          google.colab.kernel.accessAllowed ? 'block' : 'none';\n",
              "\n",
              "        async function convertToInteractive(key) {\n",
              "          const element = document.querySelector('#df-ce712af4-ea29-4ff0-9b73-d537b52a704b');\n",
              "          const dataTable =\n",
              "            await google.colab.kernel.invokeFunction('convertToInteractive',\n",
              "                                                     [key], {});\n",
              "          if (!dataTable) return;\n",
              "\n",
              "          const docLinkHtml = 'Like what you see? Visit the ' +\n",
              "            '<a target=\"_blank\" href=https://colab.research.google.com/notebooks/data_table.ipynb>data table notebook</a>'\n",
              "            + ' to learn more about interactive tables.';\n",
              "          element.innerHTML = '';\n",
              "          dataTable['output_type'] = 'display_data';\n",
              "          await google.colab.output.renderOutput(dataTable, element);\n",
              "          const docLink = document.createElement('div');\n",
              "          docLink.innerHTML = docLinkHtml;\n",
              "          element.appendChild(docLink);\n",
              "        }\n",
              "      </script>\n",
              "    </div>\n",
              "  </div>\n",
              "  "
            ]
          },
          "metadata": {},
          "execution_count": 15
        }
      ]
    },
    {
      "cell_type": "markdown",
      "source": [
        "# Задание 3\n",
        "\n",
        "Есть таблица пользователей user (user_id — id пользователя, installed_at — дата установки) и таблица активности client_session (user_id, created_at — таймстемп активности).\n",
        "Необходимо написать SQL-запрос который считает Retention 1, 3, 7 дня по пользователям с группировкой установок по месяцам (с января 2022-го года)."
      ],
      "metadata": {
        "id": "IV5Pg5yTOjXg"
      }
    },
    {
      "cell_type": "code",
      "source": [
        "!gdown 1kR2IMd58kaI98-gcHl1VF9Vjicypt9Tf\n",
        "!gdown 1P7NC6wraU6U9KOQPfeqLSDyUHHSNQUjC\n",
        "!gdown 19Rng1BDNyecAU-OwmEJdv6y_YyfnRGQD"
      ],
      "metadata": {
        "colab": {
          "base_uri": "https://localhost:8080/"
        },
        "id": "ZtdAZJeBPWZ2",
        "outputId": "3708029e-5000-4b2f-a590-81744bb5ca6c"
      },
      "execution_count": null,
      "outputs": [
        {
          "output_type": "stream",
          "name": "stdout",
          "text": [
            "Downloading...\n",
            "From: https://drive.google.com/uc?id=1kR2IMd58kaI98-gcHl1VF9Vjicypt9Tf\n",
            "To: /content/costs_info_short.csv\n",
            "100% 59.6k/59.6k [00:00<00:00, 50.8MB/s]\n",
            "Downloading...\n",
            "From: https://drive.google.com/uc?id=1P7NC6wraU6U9KOQPfeqLSDyUHHSNQUjC\n",
            "To: /content/orders_info_short.csv\n",
            "100% 1.57M/1.57M [00:00<00:00, 118MB/s]\n",
            "Downloading...\n",
            "From: https://drive.google.com/uc?id=19Rng1BDNyecAU-OwmEJdv6y_YyfnRGQD\n",
            "To: /content/visits_info_short.csv\n",
            "100% 25.0M/25.0M [00:00<00:00, 62.3MB/s]\n"
          ]
        }
      ]
    },
    {
      "cell_type": "code",
      "source": [
        "cost = pd.read_csv('/content/costs_info_short.csv')\n",
        "orders = pd.read_csv('/content/orders_info_short.csv')\n",
        "visits = pd.read_csv('/content/visits_info_short.csv')"
      ],
      "metadata": {
        "id": "RnR-NVfWJgjh"
      },
      "execution_count": null,
      "outputs": []
    },
    {
      "cell_type": "code",
      "source": [
        "orders['Event Dt'] = pd.to_datetime(orders['Event Dt'], format='%Y-%m-%d')\n",
        "orders['dt_orders'] = orders['Event Dt'].dt.date"
      ],
      "metadata": {
        "id": "x3tk38RxQDEO"
      },
      "execution_count": null,
      "outputs": []
    },
    {
      "cell_type": "code",
      "source": [
        "o = orders[['User Id', 'dt_orders']]"
      ],
      "metadata": {
        "id": "TfpwrwF1Pl98"
      },
      "execution_count": null,
      "outputs": []
    },
    {
      "cell_type": "code",
      "source": [
        "o = o.rename(columns={'User Id': 'user_id', 'dt_orders': 'installed_at'})"
      ],
      "metadata": {
        "id": "Ps2-ShpfQ6Uo"
      },
      "execution_count": null,
      "outputs": []
    },
    {
      "cell_type": "code",
      "source": [
        "visits['Session Start'] = pd.to_datetime(visits['Session Start'], format='%Y-%m-%d')\n",
        "visits['dt_visits'] = visits['Session Start'].dt.date"
      ],
      "metadata": {
        "id": "MHHxHi_oQXw0"
      },
      "execution_count": null,
      "outputs": []
    },
    {
      "cell_type": "code",
      "source": [
        "v = visits[['User Id', 'dt_visits']]"
      ],
      "metadata": {
        "id": "0T5vP6zZQyms"
      },
      "execution_count": null,
      "outputs": []
    },
    {
      "cell_type": "code",
      "source": [
        "v = v.rename(columns={'User Id': 'user_id', 'dt_visits': 'created_at'})"
      ],
      "metadata": {
        "id": "bfAid_rtRR1a"
      },
      "execution_count": null,
      "outputs": []
    },
    {
      "cell_type": "code",
      "source": [
        "o.to_sql('user', con, index=False, if_exists='replace')"
      ],
      "metadata": {
        "id": "LvHP38GKRhdN"
      },
      "execution_count": null,
      "outputs": []
    },
    {
      "cell_type": "code",
      "source": [
        "v.to_sql('client_session', con, index=False,if_exists='replace')"
      ],
      "metadata": {
        "id": "fG51-DC0SKH8"
      },
      "execution_count": null,
      "outputs": []
    },
    {
      "cell_type": "code",
      "source": [
        "sql='''\n",
        "WITH profile \n",
        "AS(\n",
        "  SELECT user_id,\n",
        "    installed_at,\n",
        "    COUNT(*) OVER (PARTITION BY installed_at) AS cohort_users_cnt\n",
        "  FROM user\n",
        "),\n",
        "session\n",
        "AS(\n",
        "  SELECT user_id,\n",
        "    created_at\n",
        "  FROM client_session\n",
        "  GROUP BY 1,2\n",
        ")\n",
        "SELECT p.installed_at AS cohort_dt,\n",
        "       created_at,\n",
        "       julianday(created_at) - julianday(p.installed_at) AS date_diff,\n",
        "       COUNT(p.user_id) AS users_cnt,\n",
        "       cohort_users_cnt,\n",
        "       ROUND(COUNT(p.user_id) * 100.0 / cohort_users_cnt, 2) AS retention_rate\n",
        "FROM profile p\n",
        "JOIN session s ON p.user_id = s.user_id\n",
        "WHERE cohort_dt >= '2019-01-01' AND date_diff IN (1,3,7)\n",
        "GROUP BY 1,2,5\n",
        "ORDER BY 1,2\n",
        "'''"
      ],
      "metadata": {
        "id": "3EfxfAiSUUPa"
      },
      "execution_count": null,
      "outputs": []
    },
    {
      "cell_type": "code",
      "source": [
        "select(sql)"
      ],
      "metadata": {
        "colab": {
          "base_uri": "https://localhost:8080/",
          "height": 423
        },
        "id": "T88bLrsUUUTD",
        "outputId": "db61c5da-3fd3-4ba6-a452-d4b75b2df192"
      },
      "execution_count": null,
      "outputs": [
        {
          "output_type": "execute_result",
          "data": {
            "text/plain": [
              "      cohort_dt  created_at  date_diff  users_cnt  cohort_users_cnt  \\\n",
              "0    2019-05-01  2019-05-02        1.0          8                25   \n",
              "1    2019-05-01  2019-05-04        3.0          6                25   \n",
              "2    2019-05-01  2019-05-08        7.0          5                25   \n",
              "3    2019-05-02  2019-05-03        1.0         14                29   \n",
              "4    2019-05-02  2019-05-05        3.0         12                29   \n",
              "..          ...         ...        ...        ...               ...   \n",
              "536  2019-10-27  2019-10-30        3.0         46               340   \n",
              "537  2019-10-28  2019-10-29        1.0         49               287   \n",
              "538  2019-10-28  2019-10-31        3.0         43               287   \n",
              "539  2019-10-29  2019-10-30        1.0         42               315   \n",
              "540  2019-10-30  2019-10-31        1.0         38               238   \n",
              "\n",
              "     retention_rate  \n",
              "0             32.00  \n",
              "1             24.00  \n",
              "2             20.00  \n",
              "3             48.28  \n",
              "4             41.38  \n",
              "..              ...  \n",
              "536           13.53  \n",
              "537           17.07  \n",
              "538           14.98  \n",
              "539           13.33  \n",
              "540           15.97  \n",
              "\n",
              "[541 rows x 6 columns]"
            ],
            "text/html": [
              "\n",
              "  <div id=\"df-b483a57c-94bc-493c-b8a8-465e776c59ef\">\n",
              "    <div class=\"colab-df-container\">\n",
              "      <div>\n",
              "<style scoped>\n",
              "    .dataframe tbody tr th:only-of-type {\n",
              "        vertical-align: middle;\n",
              "    }\n",
              "\n",
              "    .dataframe tbody tr th {\n",
              "        vertical-align: top;\n",
              "    }\n",
              "\n",
              "    .dataframe thead th {\n",
              "        text-align: right;\n",
              "    }\n",
              "</style>\n",
              "<table border=\"1\" class=\"dataframe\">\n",
              "  <thead>\n",
              "    <tr style=\"text-align: right;\">\n",
              "      <th></th>\n",
              "      <th>cohort_dt</th>\n",
              "      <th>created_at</th>\n",
              "      <th>date_diff</th>\n",
              "      <th>users_cnt</th>\n",
              "      <th>cohort_users_cnt</th>\n",
              "      <th>retention_rate</th>\n",
              "    </tr>\n",
              "  </thead>\n",
              "  <tbody>\n",
              "    <tr>\n",
              "      <th>0</th>\n",
              "      <td>2019-05-01</td>\n",
              "      <td>2019-05-02</td>\n",
              "      <td>1.0</td>\n",
              "      <td>8</td>\n",
              "      <td>25</td>\n",
              "      <td>32.00</td>\n",
              "    </tr>\n",
              "    <tr>\n",
              "      <th>1</th>\n",
              "      <td>2019-05-01</td>\n",
              "      <td>2019-05-04</td>\n",
              "      <td>3.0</td>\n",
              "      <td>6</td>\n",
              "      <td>25</td>\n",
              "      <td>24.00</td>\n",
              "    </tr>\n",
              "    <tr>\n",
              "      <th>2</th>\n",
              "      <td>2019-05-01</td>\n",
              "      <td>2019-05-08</td>\n",
              "      <td>7.0</td>\n",
              "      <td>5</td>\n",
              "      <td>25</td>\n",
              "      <td>20.00</td>\n",
              "    </tr>\n",
              "    <tr>\n",
              "      <th>3</th>\n",
              "      <td>2019-05-02</td>\n",
              "      <td>2019-05-03</td>\n",
              "      <td>1.0</td>\n",
              "      <td>14</td>\n",
              "      <td>29</td>\n",
              "      <td>48.28</td>\n",
              "    </tr>\n",
              "    <tr>\n",
              "      <th>4</th>\n",
              "      <td>2019-05-02</td>\n",
              "      <td>2019-05-05</td>\n",
              "      <td>3.0</td>\n",
              "      <td>12</td>\n",
              "      <td>29</td>\n",
              "      <td>41.38</td>\n",
              "    </tr>\n",
              "    <tr>\n",
              "      <th>...</th>\n",
              "      <td>...</td>\n",
              "      <td>...</td>\n",
              "      <td>...</td>\n",
              "      <td>...</td>\n",
              "      <td>...</td>\n",
              "      <td>...</td>\n",
              "    </tr>\n",
              "    <tr>\n",
              "      <th>536</th>\n",
              "      <td>2019-10-27</td>\n",
              "      <td>2019-10-30</td>\n",
              "      <td>3.0</td>\n",
              "      <td>46</td>\n",
              "      <td>340</td>\n",
              "      <td>13.53</td>\n",
              "    </tr>\n",
              "    <tr>\n",
              "      <th>537</th>\n",
              "      <td>2019-10-28</td>\n",
              "      <td>2019-10-29</td>\n",
              "      <td>1.0</td>\n",
              "      <td>49</td>\n",
              "      <td>287</td>\n",
              "      <td>17.07</td>\n",
              "    </tr>\n",
              "    <tr>\n",
              "      <th>538</th>\n",
              "      <td>2019-10-28</td>\n",
              "      <td>2019-10-31</td>\n",
              "      <td>3.0</td>\n",
              "      <td>43</td>\n",
              "      <td>287</td>\n",
              "      <td>14.98</td>\n",
              "    </tr>\n",
              "    <tr>\n",
              "      <th>539</th>\n",
              "      <td>2019-10-29</td>\n",
              "      <td>2019-10-30</td>\n",
              "      <td>1.0</td>\n",
              "      <td>42</td>\n",
              "      <td>315</td>\n",
              "      <td>13.33</td>\n",
              "    </tr>\n",
              "    <tr>\n",
              "      <th>540</th>\n",
              "      <td>2019-10-30</td>\n",
              "      <td>2019-10-31</td>\n",
              "      <td>1.0</td>\n",
              "      <td>38</td>\n",
              "      <td>238</td>\n",
              "      <td>15.97</td>\n",
              "    </tr>\n",
              "  </tbody>\n",
              "</table>\n",
              "<p>541 rows × 6 columns</p>\n",
              "</div>\n",
              "      <button class=\"colab-df-convert\" onclick=\"convertToInteractive('df-b483a57c-94bc-493c-b8a8-465e776c59ef')\"\n",
              "              title=\"Convert this dataframe to an interactive table.\"\n",
              "              style=\"display:none;\">\n",
              "        \n",
              "  <svg xmlns=\"http://www.w3.org/2000/svg\" height=\"24px\"viewBox=\"0 0 24 24\"\n",
              "       width=\"24px\">\n",
              "    <path d=\"M0 0h24v24H0V0z\" fill=\"none\"/>\n",
              "    <path d=\"M18.56 5.44l.94 2.06.94-2.06 2.06-.94-2.06-.94-.94-2.06-.94 2.06-2.06.94zm-11 1L8.5 8.5l.94-2.06 2.06-.94-2.06-.94L8.5 2.5l-.94 2.06-2.06.94zm10 10l.94 2.06.94-2.06 2.06-.94-2.06-.94-.94-2.06-.94 2.06-2.06.94z\"/><path d=\"M17.41 7.96l-1.37-1.37c-.4-.4-.92-.59-1.43-.59-.52 0-1.04.2-1.43.59L10.3 9.45l-7.72 7.72c-.78.78-.78 2.05 0 2.83L4 21.41c.39.39.9.59 1.41.59.51 0 1.02-.2 1.41-.59l7.78-7.78 2.81-2.81c.8-.78.8-2.07 0-2.86zM5.41 20L4 18.59l7.72-7.72 1.47 1.35L5.41 20z\"/>\n",
              "  </svg>\n",
              "      </button>\n",
              "      \n",
              "  <style>\n",
              "    .colab-df-container {\n",
              "      display:flex;\n",
              "      flex-wrap:wrap;\n",
              "      gap: 12px;\n",
              "    }\n",
              "\n",
              "    .colab-df-convert {\n",
              "      background-color: #E8F0FE;\n",
              "      border: none;\n",
              "      border-radius: 50%;\n",
              "      cursor: pointer;\n",
              "      display: none;\n",
              "      fill: #1967D2;\n",
              "      height: 32px;\n",
              "      padding: 0 0 0 0;\n",
              "      width: 32px;\n",
              "    }\n",
              "\n",
              "    .colab-df-convert:hover {\n",
              "      background-color: #E2EBFA;\n",
              "      box-shadow: 0px 1px 2px rgba(60, 64, 67, 0.3), 0px 1px 3px 1px rgba(60, 64, 67, 0.15);\n",
              "      fill: #174EA6;\n",
              "    }\n",
              "\n",
              "    [theme=dark] .colab-df-convert {\n",
              "      background-color: #3B4455;\n",
              "      fill: #D2E3FC;\n",
              "    }\n",
              "\n",
              "    [theme=dark] .colab-df-convert:hover {\n",
              "      background-color: #434B5C;\n",
              "      box-shadow: 0px 1px 3px 1px rgba(0, 0, 0, 0.15);\n",
              "      filter: drop-shadow(0px 1px 2px rgba(0, 0, 0, 0.3));\n",
              "      fill: #FFFFFF;\n",
              "    }\n",
              "  </style>\n",
              "\n",
              "      <script>\n",
              "        const buttonEl =\n",
              "          document.querySelector('#df-b483a57c-94bc-493c-b8a8-465e776c59ef button.colab-df-convert');\n",
              "        buttonEl.style.display =\n",
              "          google.colab.kernel.accessAllowed ? 'block' : 'none';\n",
              "\n",
              "        async function convertToInteractive(key) {\n",
              "          const element = document.querySelector('#df-b483a57c-94bc-493c-b8a8-465e776c59ef');\n",
              "          const dataTable =\n",
              "            await google.colab.kernel.invokeFunction('convertToInteractive',\n",
              "                                                     [key], {});\n",
              "          if (!dataTable) return;\n",
              "\n",
              "          const docLinkHtml = 'Like what you see? Visit the ' +\n",
              "            '<a target=\"_blank\" href=https://colab.research.google.com/notebooks/data_table.ipynb>data table notebook</a>'\n",
              "            + ' to learn more about interactive tables.';\n",
              "          element.innerHTML = '';\n",
              "          dataTable['output_type'] = 'display_data';\n",
              "          await google.colab.output.renderOutput(dataTable, element);\n",
              "          const docLink = document.createElement('div');\n",
              "          docLink.innerHTML = docLinkHtml;\n",
              "          element.appendChild(docLink);\n",
              "        }\n",
              "      </script>\n",
              "    </div>\n",
              "  </div>\n",
              "  "
            ]
          },
          "metadata": {},
          "execution_count": 27
        }
      ]
    },
    {
      "cell_type": "markdown",
      "source": [
        "# Задание 4\n",
        "\n",
        "- Из данных нужно исключить проекты ранее 2000 года и проекты, для которых имеются пропуски данных в любой из колонок. Используя dash (plotly), постройте дашборд по этому макету:"
      ],
      "metadata": {
        "id": "uCjKvBEJYruw"
      }
    },
    {
      "cell_type": "markdown",
      "source": [
        "https://drive.google.com/file/d/14EyFlNAVGrPfZw8PUe9PBNsey0zm8MgB/view?usp=share_link"
      ],
      "metadata": {
        "id": "lY6HZjbYZbLP"
      }
    },
    {
      "cell_type": "code",
      "source": [
        "!gdown 14EyFlNAVGrPfZw8PUe9PBNsey0zm8MgB"
      ],
      "metadata": {
        "colab": {
          "base_uri": "https://localhost:8080/"
        },
        "id": "vqfXtw2bYiay",
        "outputId": "d109bf28-bc3c-4765-8521-4f5a69b48079"
      },
      "execution_count": null,
      "outputs": [
        {
          "output_type": "stream",
          "name": "stdout",
          "text": [
            "Downloading...\n",
            "From: https://drive.google.com/uc?id=14EyFlNAVGrPfZw8PUe9PBNsey0zm8MgB\n",
            "To: /content/games.csv\n",
            "\r  0% 0.00/835k [00:00<?, ?B/s]\r100% 835k/835k [00:00<00:00, 30.8MB/s]\n"
          ]
        }
      ]
    },
    {
      "cell_type": "code",
      "source": [
        "df = pd.read_csv('/content/games.csv')"
      ],
      "metadata": {
        "id": "0uFG6p9YZegZ"
      },
      "execution_count": null,
      "outputs": []
    },
    {
      "cell_type": "code",
      "source": [
        "df"
      ],
      "metadata": {
        "colab": {
          "base_uri": "https://localhost:8080/",
          "height": 423
        },
        "id": "eADr80FjZlJF",
        "outputId": "36266dfa-57b4-4e66-8240-c365f0338b0d"
      },
      "execution_count": null,
      "outputs": [
        {
          "output_type": "execute_result",
          "data": {
            "text/plain": [
              "                                Name Platform  Year_of_Release         Genre  \\\n",
              "0                         Wii Sports      Wii           2006.0        Sports   \n",
              "1                  Super Mario Bros.      NES           1985.0      Platform   \n",
              "2                     Mario Kart Wii      Wii           2008.0        Racing   \n",
              "3                  Wii Sports Resort      Wii           2009.0        Sports   \n",
              "4           Pokemon Red/Pokemon Blue       GB           1996.0  Role-Playing   \n",
              "...                              ...      ...              ...           ...   \n",
              "16714  Samurai Warriors: Sanada Maru      PS3           2016.0        Action   \n",
              "16715               LMA Manager 2007     X360           2006.0        Sports   \n",
              "16716        Haitaka no Psychedelica      PSV           2016.0     Adventure   \n",
              "16717               Spirits & Spells      GBA           2003.0      Platform   \n",
              "16718            Winning Post 8 2016      PSV           2016.0    Simulation   \n",
              "\n",
              "       Critic_Score User_Score Rating  \n",
              "0              76.0          8      E  \n",
              "1               NaN        NaN    NaN  \n",
              "2              82.0        8.3      E  \n",
              "3              80.0          8      E  \n",
              "4               NaN        NaN    NaN  \n",
              "...             ...        ...    ...  \n",
              "16714           NaN        NaN    NaN  \n",
              "16715           NaN        NaN    NaN  \n",
              "16716           NaN        NaN    NaN  \n",
              "16717           NaN        NaN    NaN  \n",
              "16718           NaN        NaN    NaN  \n",
              "\n",
              "[16719 rows x 7 columns]"
            ],
            "text/html": [
              "\n",
              "  <div id=\"df-672a9aeb-fdad-4ead-8c3b-c4a2b255abca\">\n",
              "    <div class=\"colab-df-container\">\n",
              "      <div>\n",
              "<style scoped>\n",
              "    .dataframe tbody tr th:only-of-type {\n",
              "        vertical-align: middle;\n",
              "    }\n",
              "\n",
              "    .dataframe tbody tr th {\n",
              "        vertical-align: top;\n",
              "    }\n",
              "\n",
              "    .dataframe thead th {\n",
              "        text-align: right;\n",
              "    }\n",
              "</style>\n",
              "<table border=\"1\" class=\"dataframe\">\n",
              "  <thead>\n",
              "    <tr style=\"text-align: right;\">\n",
              "      <th></th>\n",
              "      <th>Name</th>\n",
              "      <th>Platform</th>\n",
              "      <th>Year_of_Release</th>\n",
              "      <th>Genre</th>\n",
              "      <th>Critic_Score</th>\n",
              "      <th>User_Score</th>\n",
              "      <th>Rating</th>\n",
              "    </tr>\n",
              "  </thead>\n",
              "  <tbody>\n",
              "    <tr>\n",
              "      <th>0</th>\n",
              "      <td>Wii Sports</td>\n",
              "      <td>Wii</td>\n",
              "      <td>2006.0</td>\n",
              "      <td>Sports</td>\n",
              "      <td>76.0</td>\n",
              "      <td>8</td>\n",
              "      <td>E</td>\n",
              "    </tr>\n",
              "    <tr>\n",
              "      <th>1</th>\n",
              "      <td>Super Mario Bros.</td>\n",
              "      <td>NES</td>\n",
              "      <td>1985.0</td>\n",
              "      <td>Platform</td>\n",
              "      <td>NaN</td>\n",
              "      <td>NaN</td>\n",
              "      <td>NaN</td>\n",
              "    </tr>\n",
              "    <tr>\n",
              "      <th>2</th>\n",
              "      <td>Mario Kart Wii</td>\n",
              "      <td>Wii</td>\n",
              "      <td>2008.0</td>\n",
              "      <td>Racing</td>\n",
              "      <td>82.0</td>\n",
              "      <td>8.3</td>\n",
              "      <td>E</td>\n",
              "    </tr>\n",
              "    <tr>\n",
              "      <th>3</th>\n",
              "      <td>Wii Sports Resort</td>\n",
              "      <td>Wii</td>\n",
              "      <td>2009.0</td>\n",
              "      <td>Sports</td>\n",
              "      <td>80.0</td>\n",
              "      <td>8</td>\n",
              "      <td>E</td>\n",
              "    </tr>\n",
              "    <tr>\n",
              "      <th>4</th>\n",
              "      <td>Pokemon Red/Pokemon Blue</td>\n",
              "      <td>GB</td>\n",
              "      <td>1996.0</td>\n",
              "      <td>Role-Playing</td>\n",
              "      <td>NaN</td>\n",
              "      <td>NaN</td>\n",
              "      <td>NaN</td>\n",
              "    </tr>\n",
              "    <tr>\n",
              "      <th>...</th>\n",
              "      <td>...</td>\n",
              "      <td>...</td>\n",
              "      <td>...</td>\n",
              "      <td>...</td>\n",
              "      <td>...</td>\n",
              "      <td>...</td>\n",
              "      <td>...</td>\n",
              "    </tr>\n",
              "    <tr>\n",
              "      <th>16714</th>\n",
              "      <td>Samurai Warriors: Sanada Maru</td>\n",
              "      <td>PS3</td>\n",
              "      <td>2016.0</td>\n",
              "      <td>Action</td>\n",
              "      <td>NaN</td>\n",
              "      <td>NaN</td>\n",
              "      <td>NaN</td>\n",
              "    </tr>\n",
              "    <tr>\n",
              "      <th>16715</th>\n",
              "      <td>LMA Manager 2007</td>\n",
              "      <td>X360</td>\n",
              "      <td>2006.0</td>\n",
              "      <td>Sports</td>\n",
              "      <td>NaN</td>\n",
              "      <td>NaN</td>\n",
              "      <td>NaN</td>\n",
              "    </tr>\n",
              "    <tr>\n",
              "      <th>16716</th>\n",
              "      <td>Haitaka no Psychedelica</td>\n",
              "      <td>PSV</td>\n",
              "      <td>2016.0</td>\n",
              "      <td>Adventure</td>\n",
              "      <td>NaN</td>\n",
              "      <td>NaN</td>\n",
              "      <td>NaN</td>\n",
              "    </tr>\n",
              "    <tr>\n",
              "      <th>16717</th>\n",
              "      <td>Spirits &amp; Spells</td>\n",
              "      <td>GBA</td>\n",
              "      <td>2003.0</td>\n",
              "      <td>Platform</td>\n",
              "      <td>NaN</td>\n",
              "      <td>NaN</td>\n",
              "      <td>NaN</td>\n",
              "    </tr>\n",
              "    <tr>\n",
              "      <th>16718</th>\n",
              "      <td>Winning Post 8 2016</td>\n",
              "      <td>PSV</td>\n",
              "      <td>2016.0</td>\n",
              "      <td>Simulation</td>\n",
              "      <td>NaN</td>\n",
              "      <td>NaN</td>\n",
              "      <td>NaN</td>\n",
              "    </tr>\n",
              "  </tbody>\n",
              "</table>\n",
              "<p>16719 rows × 7 columns</p>\n",
              "</div>\n",
              "      <button class=\"colab-df-convert\" onclick=\"convertToInteractive('df-672a9aeb-fdad-4ead-8c3b-c4a2b255abca')\"\n",
              "              title=\"Convert this dataframe to an interactive table.\"\n",
              "              style=\"display:none;\">\n",
              "        \n",
              "  <svg xmlns=\"http://www.w3.org/2000/svg\" height=\"24px\"viewBox=\"0 0 24 24\"\n",
              "       width=\"24px\">\n",
              "    <path d=\"M0 0h24v24H0V0z\" fill=\"none\"/>\n",
              "    <path d=\"M18.56 5.44l.94 2.06.94-2.06 2.06-.94-2.06-.94-.94-2.06-.94 2.06-2.06.94zm-11 1L8.5 8.5l.94-2.06 2.06-.94-2.06-.94L8.5 2.5l-.94 2.06-2.06.94zm10 10l.94 2.06.94-2.06 2.06-.94-2.06-.94-.94-2.06-.94 2.06-2.06.94z\"/><path d=\"M17.41 7.96l-1.37-1.37c-.4-.4-.92-.59-1.43-.59-.52 0-1.04.2-1.43.59L10.3 9.45l-7.72 7.72c-.78.78-.78 2.05 0 2.83L4 21.41c.39.39.9.59 1.41.59.51 0 1.02-.2 1.41-.59l7.78-7.78 2.81-2.81c.8-.78.8-2.07 0-2.86zM5.41 20L4 18.59l7.72-7.72 1.47 1.35L5.41 20z\"/>\n",
              "  </svg>\n",
              "      </button>\n",
              "      \n",
              "  <style>\n",
              "    .colab-df-container {\n",
              "      display:flex;\n",
              "      flex-wrap:wrap;\n",
              "      gap: 12px;\n",
              "    }\n",
              "\n",
              "    .colab-df-convert {\n",
              "      background-color: #E8F0FE;\n",
              "      border: none;\n",
              "      border-radius: 50%;\n",
              "      cursor: pointer;\n",
              "      display: none;\n",
              "      fill: #1967D2;\n",
              "      height: 32px;\n",
              "      padding: 0 0 0 0;\n",
              "      width: 32px;\n",
              "    }\n",
              "\n",
              "    .colab-df-convert:hover {\n",
              "      background-color: #E2EBFA;\n",
              "      box-shadow: 0px 1px 2px rgba(60, 64, 67, 0.3), 0px 1px 3px 1px rgba(60, 64, 67, 0.15);\n",
              "      fill: #174EA6;\n",
              "    }\n",
              "\n",
              "    [theme=dark] .colab-df-convert {\n",
              "      background-color: #3B4455;\n",
              "      fill: #D2E3FC;\n",
              "    }\n",
              "\n",
              "    [theme=dark] .colab-df-convert:hover {\n",
              "      background-color: #434B5C;\n",
              "      box-shadow: 0px 1px 3px 1px rgba(0, 0, 0, 0.15);\n",
              "      filter: drop-shadow(0px 1px 2px rgba(0, 0, 0, 0.3));\n",
              "      fill: #FFFFFF;\n",
              "    }\n",
              "  </style>\n",
              "\n",
              "      <script>\n",
              "        const buttonEl =\n",
              "          document.querySelector('#df-672a9aeb-fdad-4ead-8c3b-c4a2b255abca button.colab-df-convert');\n",
              "        buttonEl.style.display =\n",
              "          google.colab.kernel.accessAllowed ? 'block' : 'none';\n",
              "\n",
              "        async function convertToInteractive(key) {\n",
              "          const element = document.querySelector('#df-672a9aeb-fdad-4ead-8c3b-c4a2b255abca');\n",
              "          const dataTable =\n",
              "            await google.colab.kernel.invokeFunction('convertToInteractive',\n",
              "                                                     [key], {});\n",
              "          if (!dataTable) return;\n",
              "\n",
              "          const docLinkHtml = 'Like what you see? Visit the ' +\n",
              "            '<a target=\"_blank\" href=https://colab.research.google.com/notebooks/data_table.ipynb>data table notebook</a>'\n",
              "            + ' to learn more about interactive tables.';\n",
              "          element.innerHTML = '';\n",
              "          dataTable['output_type'] = 'display_data';\n",
              "          await google.colab.output.renderOutput(dataTable, element);\n",
              "          const docLink = document.createElement('div');\n",
              "          docLink.innerHTML = docLinkHtml;\n",
              "          element.appendChild(docLink);\n",
              "        }\n",
              "      </script>\n",
              "    </div>\n",
              "  </div>\n",
              "  "
            ]
          },
          "metadata": {},
          "execution_count": 30
        }
      ]
    },
    {
      "cell_type": "code",
      "source": [
        "df.info()"
      ],
      "metadata": {
        "colab": {
          "base_uri": "https://localhost:8080/"
        },
        "id": "WP5w5-bsZlf1",
        "outputId": "43eea515-754f-4fe1-9e63-25067fdf3488"
      },
      "execution_count": null,
      "outputs": [
        {
          "output_type": "stream",
          "name": "stdout",
          "text": [
            "<class 'pandas.core.frame.DataFrame'>\n",
            "RangeIndex: 16719 entries, 0 to 16718\n",
            "Data columns (total 7 columns):\n",
            " #   Column           Non-Null Count  Dtype  \n",
            "---  ------           --------------  -----  \n",
            " 0   Name             16717 non-null  object \n",
            " 1   Platform         16719 non-null  object \n",
            " 2   Year_of_Release  16450 non-null  float64\n",
            " 3   Genre            16717 non-null  object \n",
            " 4   Critic_Score     8137 non-null   float64\n",
            " 5   User_Score       10015 non-null  object \n",
            " 6   Rating           9950 non-null   object \n",
            "dtypes: float64(2), object(5)\n",
            "memory usage: 914.4+ KB\n"
          ]
        }
      ]
    },
    {
      "cell_type": "markdown",
      "source": [
        "- Name - название проекта;\n",
        "- Platform - платформа;\n",
        "- Year_of_Release - год выпуска;\n",
        "- Genre - жанр игры;\n",
        "- Critic_Score - оценка критиков;\n",
        "- User_Score - оценка игроков;\n",
        "- Rating - возрастной рейтинг."
      ],
      "metadata": {
        "id": "CEOvSX1TZpfg"
      }
    },
    {
      "cell_type": "code",
      "source": [
        "df.columns = df.columns.str.lower()"
      ],
      "metadata": {
        "id": "Ol0PjAJLbqV5"
      },
      "execution_count": null,
      "outputs": []
    },
    {
      "cell_type": "code",
      "source": [
        "df = df.dropna()"
      ],
      "metadata": {
        "id": "3Ms3Bihvb50L"
      },
      "execution_count": null,
      "outputs": []
    },
    {
      "cell_type": "code",
      "source": [
        "df = df.query('year_of_release >= 2000')"
      ],
      "metadata": {
        "id": "RMqj6al6cBL3"
      },
      "execution_count": null,
      "outputs": []
    },
    {
      "cell_type": "code",
      "source": [
        "df['year_of_release'] = pd.to_datetime(df['year_of_release'], format='%Y')"
      ],
      "metadata": {
        "id": "BVnDT_s0bf9P"
      },
      "execution_count": null,
      "outputs": []
    },
    {
      "cell_type": "code",
      "source": [
        "df.head()"
      ],
      "metadata": {
        "colab": {
          "base_uri": "https://localhost:8080/",
          "height": 206
        },
        "id": "rPdCP4XwcTf9",
        "outputId": "acd9b0bc-6f82-4f83-c965-d05b4cb57111"
      },
      "execution_count": null,
      "outputs": [
        {
          "output_type": "execute_result",
          "data": {
            "text/plain": [
              "                    name platform year_of_release     genre  critic_score  \\\n",
              "0             Wii Sports      Wii      2006-01-01    Sports          76.0   \n",
              "2         Mario Kart Wii      Wii      2008-01-01    Racing          82.0   \n",
              "3      Wii Sports Resort      Wii      2009-01-01    Sports          80.0   \n",
              "6  New Super Mario Bros.       DS      2006-01-01  Platform          89.0   \n",
              "7               Wii Play      Wii      2006-01-01      Misc          58.0   \n",
              "\n",
              "  user_score rating  \n",
              "0          8      E  \n",
              "2        8.3      E  \n",
              "3          8      E  \n",
              "6        8.5      E  \n",
              "7        6.6      E  "
            ],
            "text/html": [
              "\n",
              "  <div id=\"df-3d8d944b-c004-47dd-8b6b-0a26fc6429c8\">\n",
              "    <div class=\"colab-df-container\">\n",
              "      <div>\n",
              "<style scoped>\n",
              "    .dataframe tbody tr th:only-of-type {\n",
              "        vertical-align: middle;\n",
              "    }\n",
              "\n",
              "    .dataframe tbody tr th {\n",
              "        vertical-align: top;\n",
              "    }\n",
              "\n",
              "    .dataframe thead th {\n",
              "        text-align: right;\n",
              "    }\n",
              "</style>\n",
              "<table border=\"1\" class=\"dataframe\">\n",
              "  <thead>\n",
              "    <tr style=\"text-align: right;\">\n",
              "      <th></th>\n",
              "      <th>name</th>\n",
              "      <th>platform</th>\n",
              "      <th>year_of_release</th>\n",
              "      <th>genre</th>\n",
              "      <th>critic_score</th>\n",
              "      <th>user_score</th>\n",
              "      <th>rating</th>\n",
              "    </tr>\n",
              "  </thead>\n",
              "  <tbody>\n",
              "    <tr>\n",
              "      <th>0</th>\n",
              "      <td>Wii Sports</td>\n",
              "      <td>Wii</td>\n",
              "      <td>2006-01-01</td>\n",
              "      <td>Sports</td>\n",
              "      <td>76.0</td>\n",
              "      <td>8</td>\n",
              "      <td>E</td>\n",
              "    </tr>\n",
              "    <tr>\n",
              "      <th>2</th>\n",
              "      <td>Mario Kart Wii</td>\n",
              "      <td>Wii</td>\n",
              "      <td>2008-01-01</td>\n",
              "      <td>Racing</td>\n",
              "      <td>82.0</td>\n",
              "      <td>8.3</td>\n",
              "      <td>E</td>\n",
              "    </tr>\n",
              "    <tr>\n",
              "      <th>3</th>\n",
              "      <td>Wii Sports Resort</td>\n",
              "      <td>Wii</td>\n",
              "      <td>2009-01-01</td>\n",
              "      <td>Sports</td>\n",
              "      <td>80.0</td>\n",
              "      <td>8</td>\n",
              "      <td>E</td>\n",
              "    </tr>\n",
              "    <tr>\n",
              "      <th>6</th>\n",
              "      <td>New Super Mario Bros.</td>\n",
              "      <td>DS</td>\n",
              "      <td>2006-01-01</td>\n",
              "      <td>Platform</td>\n",
              "      <td>89.0</td>\n",
              "      <td>8.5</td>\n",
              "      <td>E</td>\n",
              "    </tr>\n",
              "    <tr>\n",
              "      <th>7</th>\n",
              "      <td>Wii Play</td>\n",
              "      <td>Wii</td>\n",
              "      <td>2006-01-01</td>\n",
              "      <td>Misc</td>\n",
              "      <td>58.0</td>\n",
              "      <td>6.6</td>\n",
              "      <td>E</td>\n",
              "    </tr>\n",
              "  </tbody>\n",
              "</table>\n",
              "</div>\n",
              "      <button class=\"colab-df-convert\" onclick=\"convertToInteractive('df-3d8d944b-c004-47dd-8b6b-0a26fc6429c8')\"\n",
              "              title=\"Convert this dataframe to an interactive table.\"\n",
              "              style=\"display:none;\">\n",
              "        \n",
              "  <svg xmlns=\"http://www.w3.org/2000/svg\" height=\"24px\"viewBox=\"0 0 24 24\"\n",
              "       width=\"24px\">\n",
              "    <path d=\"M0 0h24v24H0V0z\" fill=\"none\"/>\n",
              "    <path d=\"M18.56 5.44l.94 2.06.94-2.06 2.06-.94-2.06-.94-.94-2.06-.94 2.06-2.06.94zm-11 1L8.5 8.5l.94-2.06 2.06-.94-2.06-.94L8.5 2.5l-.94 2.06-2.06.94zm10 10l.94 2.06.94-2.06 2.06-.94-2.06-.94-.94-2.06-.94 2.06-2.06.94z\"/><path d=\"M17.41 7.96l-1.37-1.37c-.4-.4-.92-.59-1.43-.59-.52 0-1.04.2-1.43.59L10.3 9.45l-7.72 7.72c-.78.78-.78 2.05 0 2.83L4 21.41c.39.39.9.59 1.41.59.51 0 1.02-.2 1.41-.59l7.78-7.78 2.81-2.81c.8-.78.8-2.07 0-2.86zM5.41 20L4 18.59l7.72-7.72 1.47 1.35L5.41 20z\"/>\n",
              "  </svg>\n",
              "      </button>\n",
              "      \n",
              "  <style>\n",
              "    .colab-df-container {\n",
              "      display:flex;\n",
              "      flex-wrap:wrap;\n",
              "      gap: 12px;\n",
              "    }\n",
              "\n",
              "    .colab-df-convert {\n",
              "      background-color: #E8F0FE;\n",
              "      border: none;\n",
              "      border-radius: 50%;\n",
              "      cursor: pointer;\n",
              "      display: none;\n",
              "      fill: #1967D2;\n",
              "      height: 32px;\n",
              "      padding: 0 0 0 0;\n",
              "      width: 32px;\n",
              "    }\n",
              "\n",
              "    .colab-df-convert:hover {\n",
              "      background-color: #E2EBFA;\n",
              "      box-shadow: 0px 1px 2px rgba(60, 64, 67, 0.3), 0px 1px 3px 1px rgba(60, 64, 67, 0.15);\n",
              "      fill: #174EA6;\n",
              "    }\n",
              "\n",
              "    [theme=dark] .colab-df-convert {\n",
              "      background-color: #3B4455;\n",
              "      fill: #D2E3FC;\n",
              "    }\n",
              "\n",
              "    [theme=dark] .colab-df-convert:hover {\n",
              "      background-color: #434B5C;\n",
              "      box-shadow: 0px 1px 3px 1px rgba(0, 0, 0, 0.15);\n",
              "      filter: drop-shadow(0px 1px 2px rgba(0, 0, 0, 0.3));\n",
              "      fill: #FFFFFF;\n",
              "    }\n",
              "  </style>\n",
              "\n",
              "      <script>\n",
              "        const buttonEl =\n",
              "          document.querySelector('#df-3d8d944b-c004-47dd-8b6b-0a26fc6429c8 button.colab-df-convert');\n",
              "        buttonEl.style.display =\n",
              "          google.colab.kernel.accessAllowed ? 'block' : 'none';\n",
              "\n",
              "        async function convertToInteractive(key) {\n",
              "          const element = document.querySelector('#df-3d8d944b-c004-47dd-8b6b-0a26fc6429c8');\n",
              "          const dataTable =\n",
              "            await google.colab.kernel.invokeFunction('convertToInteractive',\n",
              "                                                     [key], {});\n",
              "          if (!dataTable) return;\n",
              "\n",
              "          const docLinkHtml = 'Like what you see? Visit the ' +\n",
              "            '<a target=\"_blank\" href=https://colab.research.google.com/notebooks/data_table.ipynb>data table notebook</a>'\n",
              "            + ' to learn more about interactive tables.';\n",
              "          element.innerHTML = '';\n",
              "          dataTable['output_type'] = 'display_data';\n",
              "          await google.colab.output.renderOutput(dataTable, element);\n",
              "          const docLink = document.createElement('div');\n",
              "          docLink.innerHTML = docLinkHtml;\n",
              "          element.appendChild(docLink);\n",
              "        }\n",
              "      </script>\n",
              "    </div>\n",
              "  </div>\n",
              "  "
            ]
          },
          "metadata": {},
          "execution_count": 36
        }
      ]
    },
    {
      "cell_type": "code",
      "source": [
        "import plotly.graph_objects as go\n",
        "import plotly.express as px\n",
        "import numpy"
      ],
      "metadata": {
        "id": "7MpD1lfPYZz9"
      },
      "execution_count": null,
      "outputs": []
    },
    {
      "cell_type": "code",
      "source": [
        "df.head()"
      ],
      "metadata": {
        "colab": {
          "base_uri": "https://localhost:8080/",
          "height": 206
        },
        "id": "9JLoAGHiapo_",
        "outputId": "59162d78-2d79-46ae-c656-562cc83149e0"
      },
      "execution_count": null,
      "outputs": [
        {
          "output_type": "execute_result",
          "data": {
            "text/plain": [
              "                    name platform year_of_release     genre  critic_score  \\\n",
              "0             Wii Sports      Wii      2006-01-01    Sports          76.0   \n",
              "2         Mario Kart Wii      Wii      2008-01-01    Racing          82.0   \n",
              "3      Wii Sports Resort      Wii      2009-01-01    Sports          80.0   \n",
              "6  New Super Mario Bros.       DS      2006-01-01  Platform          89.0   \n",
              "7               Wii Play      Wii      2006-01-01      Misc          58.0   \n",
              "\n",
              "  user_score rating  \n",
              "0          8      E  \n",
              "2        8.3      E  \n",
              "3          8      E  \n",
              "6        8.5      E  \n",
              "7        6.6      E  "
            ],
            "text/html": [
              "\n",
              "  <div id=\"df-2776b41f-f604-47ba-ad82-2c1d1a476e5b\">\n",
              "    <div class=\"colab-df-container\">\n",
              "      <div>\n",
              "<style scoped>\n",
              "    .dataframe tbody tr th:only-of-type {\n",
              "        vertical-align: middle;\n",
              "    }\n",
              "\n",
              "    .dataframe tbody tr th {\n",
              "        vertical-align: top;\n",
              "    }\n",
              "\n",
              "    .dataframe thead th {\n",
              "        text-align: right;\n",
              "    }\n",
              "</style>\n",
              "<table border=\"1\" class=\"dataframe\">\n",
              "  <thead>\n",
              "    <tr style=\"text-align: right;\">\n",
              "      <th></th>\n",
              "      <th>name</th>\n",
              "      <th>platform</th>\n",
              "      <th>year_of_release</th>\n",
              "      <th>genre</th>\n",
              "      <th>critic_score</th>\n",
              "      <th>user_score</th>\n",
              "      <th>rating</th>\n",
              "    </tr>\n",
              "  </thead>\n",
              "  <tbody>\n",
              "    <tr>\n",
              "      <th>0</th>\n",
              "      <td>Wii Sports</td>\n",
              "      <td>Wii</td>\n",
              "      <td>2006-01-01</td>\n",
              "      <td>Sports</td>\n",
              "      <td>76.0</td>\n",
              "      <td>8</td>\n",
              "      <td>E</td>\n",
              "    </tr>\n",
              "    <tr>\n",
              "      <th>2</th>\n",
              "      <td>Mario Kart Wii</td>\n",
              "      <td>Wii</td>\n",
              "      <td>2008-01-01</td>\n",
              "      <td>Racing</td>\n",
              "      <td>82.0</td>\n",
              "      <td>8.3</td>\n",
              "      <td>E</td>\n",
              "    </tr>\n",
              "    <tr>\n",
              "      <th>3</th>\n",
              "      <td>Wii Sports Resort</td>\n",
              "      <td>Wii</td>\n",
              "      <td>2009-01-01</td>\n",
              "      <td>Sports</td>\n",
              "      <td>80.0</td>\n",
              "      <td>8</td>\n",
              "      <td>E</td>\n",
              "    </tr>\n",
              "    <tr>\n",
              "      <th>6</th>\n",
              "      <td>New Super Mario Bros.</td>\n",
              "      <td>DS</td>\n",
              "      <td>2006-01-01</td>\n",
              "      <td>Platform</td>\n",
              "      <td>89.0</td>\n",
              "      <td>8.5</td>\n",
              "      <td>E</td>\n",
              "    </tr>\n",
              "    <tr>\n",
              "      <th>7</th>\n",
              "      <td>Wii Play</td>\n",
              "      <td>Wii</td>\n",
              "      <td>2006-01-01</td>\n",
              "      <td>Misc</td>\n",
              "      <td>58.0</td>\n",
              "      <td>6.6</td>\n",
              "      <td>E</td>\n",
              "    </tr>\n",
              "  </tbody>\n",
              "</table>\n",
              "</div>\n",
              "      <button class=\"colab-df-convert\" onclick=\"convertToInteractive('df-2776b41f-f604-47ba-ad82-2c1d1a476e5b')\"\n",
              "              title=\"Convert this dataframe to an interactive table.\"\n",
              "              style=\"display:none;\">\n",
              "        \n",
              "  <svg xmlns=\"http://www.w3.org/2000/svg\" height=\"24px\"viewBox=\"0 0 24 24\"\n",
              "       width=\"24px\">\n",
              "    <path d=\"M0 0h24v24H0V0z\" fill=\"none\"/>\n",
              "    <path d=\"M18.56 5.44l.94 2.06.94-2.06 2.06-.94-2.06-.94-.94-2.06-.94 2.06-2.06.94zm-11 1L8.5 8.5l.94-2.06 2.06-.94-2.06-.94L8.5 2.5l-.94 2.06-2.06.94zm10 10l.94 2.06.94-2.06 2.06-.94-2.06-.94-.94-2.06-.94 2.06-2.06.94z\"/><path d=\"M17.41 7.96l-1.37-1.37c-.4-.4-.92-.59-1.43-.59-.52 0-1.04.2-1.43.59L10.3 9.45l-7.72 7.72c-.78.78-.78 2.05 0 2.83L4 21.41c.39.39.9.59 1.41.59.51 0 1.02-.2 1.41-.59l7.78-7.78 2.81-2.81c.8-.78.8-2.07 0-2.86zM5.41 20L4 18.59l7.72-7.72 1.47 1.35L5.41 20z\"/>\n",
              "  </svg>\n",
              "      </button>\n",
              "      \n",
              "  <style>\n",
              "    .colab-df-container {\n",
              "      display:flex;\n",
              "      flex-wrap:wrap;\n",
              "      gap: 12px;\n",
              "    }\n",
              "\n",
              "    .colab-df-convert {\n",
              "      background-color: #E8F0FE;\n",
              "      border: none;\n",
              "      border-radius: 50%;\n",
              "      cursor: pointer;\n",
              "      display: none;\n",
              "      fill: #1967D2;\n",
              "      height: 32px;\n",
              "      padding: 0 0 0 0;\n",
              "      width: 32px;\n",
              "    }\n",
              "\n",
              "    .colab-df-convert:hover {\n",
              "      background-color: #E2EBFA;\n",
              "      box-shadow: 0px 1px 2px rgba(60, 64, 67, 0.3), 0px 1px 3px 1px rgba(60, 64, 67, 0.15);\n",
              "      fill: #174EA6;\n",
              "    }\n",
              "\n",
              "    [theme=dark] .colab-df-convert {\n",
              "      background-color: #3B4455;\n",
              "      fill: #D2E3FC;\n",
              "    }\n",
              "\n",
              "    [theme=dark] .colab-df-convert:hover {\n",
              "      background-color: #434B5C;\n",
              "      box-shadow: 0px 1px 3px 1px rgba(0, 0, 0, 0.15);\n",
              "      filter: drop-shadow(0px 1px 2px rgba(0, 0, 0, 0.3));\n",
              "      fill: #FFFFFF;\n",
              "    }\n",
              "  </style>\n",
              "\n",
              "      <script>\n",
              "        const buttonEl =\n",
              "          document.querySelector('#df-2776b41f-f604-47ba-ad82-2c1d1a476e5b button.colab-df-convert');\n",
              "        buttonEl.style.display =\n",
              "          google.colab.kernel.accessAllowed ? 'block' : 'none';\n",
              "\n",
              "        async function convertToInteractive(key) {\n",
              "          const element = document.querySelector('#df-2776b41f-f604-47ba-ad82-2c1d1a476e5b');\n",
              "          const dataTable =\n",
              "            await google.colab.kernel.invokeFunction('convertToInteractive',\n",
              "                                                     [key], {});\n",
              "          if (!dataTable) return;\n",
              "\n",
              "          const docLinkHtml = 'Like what you see? Visit the ' +\n",
              "            '<a target=\"_blank\" href=https://colab.research.google.com/notebooks/data_table.ipynb>data table notebook</a>'\n",
              "            + ' to learn more about interactive tables.';\n",
              "          element.innerHTML = '';\n",
              "          dataTable['output_type'] = 'display_data';\n",
              "          await google.colab.output.renderOutput(dataTable, element);\n",
              "          const docLink = document.createElement('div');\n",
              "          docLink.innerHTML = docLinkHtml;\n",
              "          element.appendChild(docLink);\n",
              "        }\n",
              "      </script>\n",
              "    </div>\n",
              "  </div>\n",
              "  "
            ]
          },
          "metadata": {},
          "execution_count": 38
        }
      ]
    },
    {
      "cell_type": "code",
      "source": [
        "t = df.groupby(['year_of_release', 'platform', 'genre'])['name'].agg(['nunique']).reset_index()\n",
        "t.head()"
      ],
      "metadata": {
        "colab": {
          "base_uri": "https://localhost:8080/",
          "height": 206
        },
        "id": "GVef1T5sa9z6",
        "outputId": "4f6e9fe9-82cd-4c94-9a76-3a6753601e7d"
      },
      "execution_count": null,
      "outputs": [
        {
          "output_type": "execute_result",
          "data": {
            "text/plain": [
              "  year_of_release platform         genre  nunique\n",
              "0      2000-01-01       DC      Fighting        1\n",
              "1      2000-01-01       DC        Racing        1\n",
              "2      2000-01-01       DC  Role-Playing        3\n",
              "3      2000-01-01       DC       Shooter        1\n",
              "4      2000-01-01       DC        Sports        1"
            ],
            "text/html": [
              "\n",
              "  <div id=\"df-8a9e92ec-b6ff-44ef-9144-2a8413507cfa\">\n",
              "    <div class=\"colab-df-container\">\n",
              "      <div>\n",
              "<style scoped>\n",
              "    .dataframe tbody tr th:only-of-type {\n",
              "        vertical-align: middle;\n",
              "    }\n",
              "\n",
              "    .dataframe tbody tr th {\n",
              "        vertical-align: top;\n",
              "    }\n",
              "\n",
              "    .dataframe thead th {\n",
              "        text-align: right;\n",
              "    }\n",
              "</style>\n",
              "<table border=\"1\" class=\"dataframe\">\n",
              "  <thead>\n",
              "    <tr style=\"text-align: right;\">\n",
              "      <th></th>\n",
              "      <th>year_of_release</th>\n",
              "      <th>platform</th>\n",
              "      <th>genre</th>\n",
              "      <th>nunique</th>\n",
              "    </tr>\n",
              "  </thead>\n",
              "  <tbody>\n",
              "    <tr>\n",
              "      <th>0</th>\n",
              "      <td>2000-01-01</td>\n",
              "      <td>DC</td>\n",
              "      <td>Fighting</td>\n",
              "      <td>1</td>\n",
              "    </tr>\n",
              "    <tr>\n",
              "      <th>1</th>\n",
              "      <td>2000-01-01</td>\n",
              "      <td>DC</td>\n",
              "      <td>Racing</td>\n",
              "      <td>1</td>\n",
              "    </tr>\n",
              "    <tr>\n",
              "      <th>2</th>\n",
              "      <td>2000-01-01</td>\n",
              "      <td>DC</td>\n",
              "      <td>Role-Playing</td>\n",
              "      <td>3</td>\n",
              "    </tr>\n",
              "    <tr>\n",
              "      <th>3</th>\n",
              "      <td>2000-01-01</td>\n",
              "      <td>DC</td>\n",
              "      <td>Shooter</td>\n",
              "      <td>1</td>\n",
              "    </tr>\n",
              "    <tr>\n",
              "      <th>4</th>\n",
              "      <td>2000-01-01</td>\n",
              "      <td>DC</td>\n",
              "      <td>Sports</td>\n",
              "      <td>1</td>\n",
              "    </tr>\n",
              "  </tbody>\n",
              "</table>\n",
              "</div>\n",
              "      <button class=\"colab-df-convert\" onclick=\"convertToInteractive('df-8a9e92ec-b6ff-44ef-9144-2a8413507cfa')\"\n",
              "              title=\"Convert this dataframe to an interactive table.\"\n",
              "              style=\"display:none;\">\n",
              "        \n",
              "  <svg xmlns=\"http://www.w3.org/2000/svg\" height=\"24px\"viewBox=\"0 0 24 24\"\n",
              "       width=\"24px\">\n",
              "    <path d=\"M0 0h24v24H0V0z\" fill=\"none\"/>\n",
              "    <path d=\"M18.56 5.44l.94 2.06.94-2.06 2.06-.94-2.06-.94-.94-2.06-.94 2.06-2.06.94zm-11 1L8.5 8.5l.94-2.06 2.06-.94-2.06-.94L8.5 2.5l-.94 2.06-2.06.94zm10 10l.94 2.06.94-2.06 2.06-.94-2.06-.94-.94-2.06-.94 2.06-2.06.94z\"/><path d=\"M17.41 7.96l-1.37-1.37c-.4-.4-.92-.59-1.43-.59-.52 0-1.04.2-1.43.59L10.3 9.45l-7.72 7.72c-.78.78-.78 2.05 0 2.83L4 21.41c.39.39.9.59 1.41.59.51 0 1.02-.2 1.41-.59l7.78-7.78 2.81-2.81c.8-.78.8-2.07 0-2.86zM5.41 20L4 18.59l7.72-7.72 1.47 1.35L5.41 20z\"/>\n",
              "  </svg>\n",
              "      </button>\n",
              "      \n",
              "  <style>\n",
              "    .colab-df-container {\n",
              "      display:flex;\n",
              "      flex-wrap:wrap;\n",
              "      gap: 12px;\n",
              "    }\n",
              "\n",
              "    .colab-df-convert {\n",
              "      background-color: #E8F0FE;\n",
              "      border: none;\n",
              "      border-radius: 50%;\n",
              "      cursor: pointer;\n",
              "      display: none;\n",
              "      fill: #1967D2;\n",
              "      height: 32px;\n",
              "      padding: 0 0 0 0;\n",
              "      width: 32px;\n",
              "    }\n",
              "\n",
              "    .colab-df-convert:hover {\n",
              "      background-color: #E2EBFA;\n",
              "      box-shadow: 0px 1px 2px rgba(60, 64, 67, 0.3), 0px 1px 3px 1px rgba(60, 64, 67, 0.15);\n",
              "      fill: #174EA6;\n",
              "    }\n",
              "\n",
              "    [theme=dark] .colab-df-convert {\n",
              "      background-color: #3B4455;\n",
              "      fill: #D2E3FC;\n",
              "    }\n",
              "\n",
              "    [theme=dark] .colab-df-convert:hover {\n",
              "      background-color: #434B5C;\n",
              "      box-shadow: 0px 1px 3px 1px rgba(0, 0, 0, 0.15);\n",
              "      filter: drop-shadow(0px 1px 2px rgba(0, 0, 0, 0.3));\n",
              "      fill: #FFFFFF;\n",
              "    }\n",
              "  </style>\n",
              "\n",
              "      <script>\n",
              "        const buttonEl =\n",
              "          document.querySelector('#df-8a9e92ec-b6ff-44ef-9144-2a8413507cfa button.colab-df-convert');\n",
              "        buttonEl.style.display =\n",
              "          google.colab.kernel.accessAllowed ? 'block' : 'none';\n",
              "\n",
              "        async function convertToInteractive(key) {\n",
              "          const element = document.querySelector('#df-8a9e92ec-b6ff-44ef-9144-2a8413507cfa');\n",
              "          const dataTable =\n",
              "            await google.colab.kernel.invokeFunction('convertToInteractive',\n",
              "                                                     [key], {});\n",
              "          if (!dataTable) return;\n",
              "\n",
              "          const docLinkHtml = 'Like what you see? Visit the ' +\n",
              "            '<a target=\"_blank\" href=https://colab.research.google.com/notebooks/data_table.ipynb>data table notebook</a>'\n",
              "            + ' to learn more about interactive tables.';\n",
              "          element.innerHTML = '';\n",
              "          dataTable['output_type'] = 'display_data';\n",
              "          await google.colab.output.renderOutput(dataTable, element);\n",
              "          const docLink = document.createElement('div');\n",
              "          docLink.innerHTML = docLinkHtml;\n",
              "          element.appendChild(docLink);\n",
              "        }\n",
              "      </script>\n",
              "    </div>\n",
              "  </div>\n",
              "  "
            ]
          },
          "metadata": {},
          "execution_count": 39
        }
      ]
    },
    {
      "cell_type": "code",
      "source": [
        "fig = px.area(t, x=\"year_of_release\", y=\"nunique\", color=\"genre\", line_group=\"platform\")\n",
        "fig.show()"
      ],
      "metadata": {
        "colab": {
          "base_uri": "https://localhost:8080/",
          "height": 542
        },
        "id": "5XCH_S2XZ4iD",
        "outputId": "d9670911-63db-4d8f-a36d-5ec162527b30"
      },
      "execution_count": null,
      "outputs": [
        {
          "output_type": "display_data",
          "data": {
            "text/html": [
              "<html>\n",
              "<head><meta charset=\"utf-8\" /></head>\n",
              "<body>\n",
              "    <div>            <script src=\"https://cdnjs.cloudflare.com/ajax/libs/mathjax/2.7.5/MathJax.js?config=TeX-AMS-MML_SVG\"></script><script type=\"text/javascript\">if (window.MathJax) {MathJax.Hub.Config({SVG: {font: \"STIX-Web\"}});}</script>                <script type=\"text/javascript\">window.PlotlyConfig = {MathJaxConfig: 'local'};</script>\n",
              "        <script src=\"https://cdn.plot.ly/plotly-2.8.3.min.js\"></script>                <div id=\"b6841cb4-c571-40c9-9f28-ad6592cc325d\" class=\"plotly-graph-div\" style=\"height:525px; width:100%;\"></div>            <script type=\"text/javascript\">                                    window.PLOTLYENV=window.PLOTLYENV || {};                                    if (document.getElementById(\"b6841cb4-c571-40c9-9f28-ad6592cc325d\")) {                    Plotly.newPlot(                        \"b6841cb4-c571-40c9-9f28-ad6592cc325d\",                        [{\"hovertemplate\":\"genre=Fighting<br>platform=DC<br>year_of_release=%{x}<br>nunique=%{y}<extra></extra>\",\"legendgroup\":\"Fighting\",\"line\":{\"color\":\"#636efa\"},\"marker\":{\"symbol\":\"circle\"},\"mode\":\"lines\",\"name\":\"Fighting\",\"orientation\":\"v\",\"showlegend\":true,\"stackgroup\":\"1\",\"x\":[\"2000-01-01T00:00:00\"],\"xaxis\":\"x\",\"y\":[1],\"yaxis\":\"y\",\"type\":\"scatter\"},{\"hovertemplate\":\"genre=Fighting<br>platform=PC<br>year_of_release=%{x}<br>nunique=%{y}<extra></extra>\",\"legendgroup\":\"Fighting\",\"line\":{\"color\":\"#636efa\"},\"marker\":{\"symbol\":\"circle\"},\"mode\":\"lines\",\"name\":\"Fighting\",\"orientation\":\"v\",\"showlegend\":false,\"stackgroup\":\"1\",\"x\":[\"2012-01-01T00:00:00\",\"2015-01-01T00:00:00\",\"2016-01-01T00:00:00\"],\"xaxis\":\"x\",\"y\":[1,1,1],\"yaxis\":\"y\",\"type\":\"scatter\"},{\"hovertemplate\":\"genre=Fighting<br>platform=PS<br>year_of_release=%{x}<br>nunique=%{y}<extra></extra>\",\"legendgroup\":\"Fighting\",\"line\":{\"color\":\"#636efa\"},\"marker\":{\"symbol\":\"circle\"},\"mode\":\"lines\",\"name\":\"Fighting\",\"orientation\":\"v\",\"showlegend\":false,\"stackgroup\":\"1\",\"x\":[\"2000-01-01T00:00:00\",\"2001-01-01T00:00:00\",\"2002-01-01T00:00:00\"],\"xaxis\":\"x\",\"y\":[5,2,1],\"yaxis\":\"y\",\"type\":\"scatter\"},{\"hovertemplate\":\"genre=Fighting<br>platform=PS2<br>year_of_release=%{x}<br>nunique=%{y}<extra></extra>\",\"legendgroup\":\"Fighting\",\"line\":{\"color\":\"#636efa\"},\"marker\":{\"symbol\":\"circle\"},\"mode\":\"lines\",\"name\":\"Fighting\",\"orientation\":\"v\",\"showlegend\":false,\"stackgroup\":\"1\",\"x\":[\"2000-01-01T00:00:00\",\"2001-01-01T00:00:00\",\"2002-01-01T00:00:00\",\"2003-01-01T00:00:00\",\"2004-01-01T00:00:00\",\"2005-01-01T00:00:00\",\"2006-01-01T00:00:00\",\"2007-01-01T00:00:00\",\"2008-01-01T00:00:00\"],\"xaxis\":\"x\",\"y\":[5,4,12,12,17,10,10,6,2],\"yaxis\":\"y\",\"type\":\"scatter\"},{\"hovertemplate\":\"genre=Fighting<br>platform=XB<br>year_of_release=%{x}<br>nunique=%{y}<extra></extra>\",\"legendgroup\":\"Fighting\",\"line\":{\"color\":\"#636efa\"},\"marker\":{\"symbol\":\"circle\"},\"mode\":\"lines\",\"name\":\"Fighting\",\"orientation\":\"v\",\"showlegend\":false,\"stackgroup\":\"1\",\"x\":[\"2001-01-01T00:00:00\",\"2002-01-01T00:00:00\",\"2003-01-01T00:00:00\",\"2004-01-01T00:00:00\",\"2005-01-01T00:00:00\",\"2006-01-01T00:00:00\"],\"xaxis\":\"x\",\"y\":[1,8,9,10,8,3],\"yaxis\":\"y\",\"type\":\"scatter\"},{\"hovertemplate\":\"genre=Fighting<br>platform=GBA<br>year_of_release=%{x}<br>nunique=%{y}<extra></extra>\",\"legendgroup\":\"Fighting\",\"line\":{\"color\":\"#636efa\"},\"marker\":{\"symbol\":\"circle\"},\"mode\":\"lines\",\"name\":\"Fighting\",\"orientation\":\"v\",\"showlegend\":false,\"stackgroup\":\"1\",\"x\":[\"2001-01-01T00:00:00\",\"2002-01-01T00:00:00\",\"2003-01-01T00:00:00\",\"2004-01-01T00:00:00\"],\"xaxis\":\"x\",\"y\":[3,8,3,2],\"yaxis\":\"y\",\"type\":\"scatter\"},{\"hovertemplate\":\"genre=Fighting<br>platform=GC<br>year_of_release=%{x}<br>nunique=%{y}<extra></extra>\",\"legendgroup\":\"Fighting\",\"line\":{\"color\":\"#636efa\"},\"marker\":{\"symbol\":\"circle\"},\"mode\":\"lines\",\"name\":\"Fighting\",\"orientation\":\"v\",\"showlegend\":false,\"stackgroup\":\"1\",\"x\":[\"2001-01-01T00:00:00\",\"2002-01-01T00:00:00\",\"2003-01-01T00:00:00\",\"2004-01-01T00:00:00\",\"2005-01-01T00:00:00\"],\"xaxis\":\"x\",\"y\":[1,11,6,3,6],\"yaxis\":\"y\",\"type\":\"scatter\"},{\"hovertemplate\":\"genre=Fighting<br>platform=DS<br>year_of_release=%{x}<br>nunique=%{y}<extra></extra>\",\"legendgroup\":\"Fighting\",\"line\":{\"color\":\"#636efa\"},\"marker\":{\"symbol\":\"circle\"},\"mode\":\"lines\",\"name\":\"Fighting\",\"orientation\":\"v\",\"showlegend\":false,\"stackgroup\":\"1\",\"x\":[\"2005-01-01T00:00:00\",\"2006-01-01T00:00:00\",\"2007-01-01T00:00:00\",\"2008-01-01T00:00:00\",\"2009-01-01T00:00:00\"],\"xaxis\":\"x\",\"y\":[2,4,5,2,2],\"yaxis\":\"y\",\"type\":\"scatter\"},{\"hovertemplate\":\"genre=Fighting<br>platform=PSP<br>year_of_release=%{x}<br>nunique=%{y}<extra></extra>\",\"legendgroup\":\"Fighting\",\"line\":{\"color\":\"#636efa\"},\"marker\":{\"symbol\":\"circle\"},\"mode\":\"lines\",\"name\":\"Fighting\",\"orientation\":\"v\",\"showlegend\":false,\"stackgroup\":\"1\",\"x\":[\"2004-01-01T00:00:00\",\"2005-01-01T00:00:00\",\"2006-01-01T00:00:00\",\"2007-01-01T00:00:00\",\"2008-01-01T00:00:00\",\"2009-01-01T00:00:00\",\"2010-01-01T00:00:00\",\"2011-01-01T00:00:00\"],\"xaxis\":\"x\",\"y\":[1,3,8,2,4,6,4,4],\"yaxis\":\"y\",\"type\":\"scatter\"},{\"hovertemplate\":\"genre=Fighting<br>platform=X360<br>year_of_release=%{x}<br>nunique=%{y}<extra></extra>\",\"legendgroup\":\"Fighting\",\"line\":{\"color\":\"#636efa\"},\"marker\":{\"symbol\":\"circle\"},\"mode\":\"lines\",\"name\":\"Fighting\",\"orientation\":\"v\",\"showlegend\":false,\"stackgroup\":\"1\",\"x\":[\"2005-01-01T00:00:00\",\"2006-01-01T00:00:00\",\"2007-01-01T00:00:00\",\"2008-01-01T00:00:00\",\"2009-01-01T00:00:00\",\"2010-01-01T00:00:00\",\"2011-01-01T00:00:00\",\"2012-01-01T00:00:00\",\"2013-01-01T00:00:00\",\"2014-01-01T00:00:00\"],\"xaxis\":\"x\",\"y\":[1,5,2,6,10,8,10,9,2,3],\"yaxis\":\"y\",\"type\":\"scatter\"},{\"hovertemplate\":\"genre=Fighting<br>platform=PS3<br>year_of_release=%{x}<br>nunique=%{y}<extra></extra>\",\"legendgroup\":\"Fighting\",\"line\":{\"color\":\"#636efa\"},\"marker\":{\"symbol\":\"circle\"},\"mode\":\"lines\",\"name\":\"Fighting\",\"orientation\":\"v\",\"showlegend\":false,\"stackgroup\":\"1\",\"x\":[\"2006-01-01T00:00:00\",\"2007-01-01T00:00:00\",\"2008-01-01T00:00:00\",\"2009-01-01T00:00:00\",\"2010-01-01T00:00:00\",\"2011-01-01T00:00:00\",\"2012-01-01T00:00:00\",\"2013-01-01T00:00:00\",\"2014-01-01T00:00:00\"],\"xaxis\":\"x\",\"y\":[1,2,6,9,8,12,8,5,5],\"yaxis\":\"y\",\"type\":\"scatter\"},{\"hovertemplate\":\"genre=Fighting<br>platform=Wii<br>year_of_release=%{x}<br>nunique=%{y}<extra></extra>\",\"legendgroup\":\"Fighting\",\"line\":{\"color\":\"#636efa\"},\"marker\":{\"symbol\":\"circle\"},\"mode\":\"lines\",\"name\":\"Fighting\",\"orientation\":\"v\",\"showlegend\":false,\"stackgroup\":\"1\",\"x\":[\"2006-01-01T00:00:00\",\"2007-01-01T00:00:00\",\"2008-01-01T00:00:00\",\"2009-01-01T00:00:00\",\"2010-01-01T00:00:00\",\"2011-01-01T00:00:00\"],\"xaxis\":\"x\",\"y\":[2,9,7,5,3,2],\"yaxis\":\"y\",\"type\":\"scatter\"},{\"hovertemplate\":\"genre=Fighting<br>platform=3DS<br>year_of_release=%{x}<br>nunique=%{y}<extra></extra>\",\"legendgroup\":\"Fighting\",\"line\":{\"color\":\"#636efa\"},\"marker\":{\"symbol\":\"circle\"},\"mode\":\"lines\",\"name\":\"Fighting\",\"orientation\":\"v\",\"showlegend\":false,\"stackgroup\":\"1\",\"x\":[\"2011-01-01T00:00:00\",\"2012-01-01T00:00:00\",\"2015-01-01T00:00:00\"],\"xaxis\":\"x\",\"y\":[5,1,1],\"yaxis\":\"y\",\"type\":\"scatter\"},{\"hovertemplate\":\"genre=Fighting<br>platform=PSV<br>year_of_release=%{x}<br>nunique=%{y}<extra></extra>\",\"legendgroup\":\"Fighting\",\"line\":{\"color\":\"#636efa\"},\"marker\":{\"symbol\":\"circle\"},\"mode\":\"lines\",\"name\":\"Fighting\",\"orientation\":\"v\",\"showlegend\":false,\"stackgroup\":\"1\",\"x\":[\"2011-01-01T00:00:00\",\"2012-01-01T00:00:00\",\"2014-01-01T00:00:00\",\"2016-01-01T00:00:00\"],\"xaxis\":\"x\",\"y\":[2,3,3,1],\"yaxis\":\"y\",\"type\":\"scatter\"},{\"hovertemplate\":\"genre=Fighting<br>platform=WiiU<br>year_of_release=%{x}<br>nunique=%{y}<extra></extra>\",\"legendgroup\":\"Fighting\",\"line\":{\"color\":\"#636efa\"},\"marker\":{\"symbol\":\"circle\"},\"mode\":\"lines\",\"name\":\"Fighting\",\"orientation\":\"v\",\"showlegend\":false,\"stackgroup\":\"1\",\"x\":[\"2013-01-01T00:00:00\",\"2016-01-01T00:00:00\"],\"xaxis\":\"x\",\"y\":[2,1],\"yaxis\":\"y\",\"type\":\"scatter\"},{\"hovertemplate\":\"genre=Fighting<br>platform=PS4<br>year_of_release=%{x}<br>nunique=%{y}<extra></extra>\",\"legendgroup\":\"Fighting\",\"line\":{\"color\":\"#636efa\"},\"marker\":{\"symbol\":\"circle\"},\"mode\":\"lines\",\"name\":\"Fighting\",\"orientation\":\"v\",\"showlegend\":false,\"stackgroup\":\"1\",\"x\":[\"2015-01-01T00:00:00\",\"2016-01-01T00:00:00\"],\"xaxis\":\"x\",\"y\":[6,5],\"yaxis\":\"y\",\"type\":\"scatter\"},{\"hovertemplate\":\"genre=Fighting<br>platform=XOne<br>year_of_release=%{x}<br>nunique=%{y}<extra></extra>\",\"legendgroup\":\"Fighting\",\"line\":{\"color\":\"#636efa\"},\"marker\":{\"symbol\":\"circle\"},\"mode\":\"lines\",\"name\":\"Fighting\",\"orientation\":\"v\",\"showlegend\":false,\"stackgroup\":\"1\",\"x\":[\"2013-01-01T00:00:00\",\"2015-01-01T00:00:00\",\"2016-01-01T00:00:00\"],\"xaxis\":\"x\",\"y\":[1,2,2],\"yaxis\":\"y\",\"type\":\"scatter\"},{\"hovertemplate\":\"genre=Racing<br>platform=DC<br>year_of_release=%{x}<br>nunique=%{y}<extra></extra>\",\"legendgroup\":\"Racing\",\"line\":{\"color\":\"#EF553B\"},\"marker\":{\"symbol\":\"circle\"},\"mode\":\"lines\",\"name\":\"Racing\",\"orientation\":\"v\",\"showlegend\":true,\"stackgroup\":\"1\",\"x\":[\"2000-01-01T00:00:00\",\"2001-01-01T00:00:00\"],\"xaxis\":\"x\",\"y\":[1,1],\"yaxis\":\"y\",\"type\":\"scatter\"},{\"hovertemplate\":\"genre=Racing<br>platform=PC<br>year_of_release=%{x}<br>nunique=%{y}<extra></extra>\",\"legendgroup\":\"Racing\",\"line\":{\"color\":\"#EF553B\"},\"marker\":{\"symbol\":\"circle\"},\"mode\":\"lines\",\"name\":\"Racing\",\"orientation\":\"v\",\"showlegend\":false,\"stackgroup\":\"1\",\"x\":[\"2003-01-01T00:00:00\",\"2004-01-01T00:00:00\",\"2005-01-01T00:00:00\",\"2006-01-01T00:00:00\",\"2007-01-01T00:00:00\",\"2008-01-01T00:00:00\",\"2009-01-01T00:00:00\",\"2010-01-01T00:00:00\",\"2011-01-01T00:00:00\",\"2012-01-01T00:00:00\",\"2013-01-01T00:00:00\",\"2014-01-01T00:00:00\",\"2015-01-01T00:00:00\",\"2016-01-01T00:00:00\"],\"xaxis\":\"x\",\"y\":[1,2,2,2,5,3,5,4,3,4,2,4,3,3],\"yaxis\":\"y\",\"type\":\"scatter\"},{\"hovertemplate\":\"genre=Racing<br>platform=PS<br>year_of_release=%{x}<br>nunique=%{y}<extra></extra>\",\"legendgroup\":\"Racing\",\"line\":{\"color\":\"#EF553B\"},\"marker\":{\"symbol\":\"circle\"},\"mode\":\"lines\",\"name\":\"Racing\",\"orientation\":\"v\",\"showlegend\":false,\"stackgroup\":\"1\",\"x\":[\"2000-01-01T00:00:00\",\"2001-01-01T00:00:00\"],\"xaxis\":\"x\",\"y\":[11,8],\"yaxis\":\"y\",\"type\":\"scatter\"},{\"hovertemplate\":\"genre=Racing<br>platform=PS2<br>year_of_release=%{x}<br>nunique=%{y}<extra></extra>\",\"legendgroup\":\"Racing\",\"line\":{\"color\":\"#EF553B\"},\"marker\":{\"symbol\":\"circle\"},\"mode\":\"lines\",\"name\":\"Racing\",\"orientation\":\"v\",\"showlegend\":false,\"stackgroup\":\"1\",\"x\":[\"2000-01-01T00:00:00\",\"2001-01-01T00:00:00\",\"2002-01-01T00:00:00\",\"2003-01-01T00:00:00\",\"2004-01-01T00:00:00\",\"2005-01-01T00:00:00\",\"2006-01-01T00:00:00\",\"2007-01-01T00:00:00\",\"2008-01-01T00:00:00\",\"2009-01-01T00:00:00\"],\"xaxis\":\"x\",\"y\":[10,30,35,25,19,15,15,8,3,1],\"yaxis\":\"y\",\"type\":\"scatter\"},{\"hovertemplate\":\"genre=Racing<br>platform=XB<br>year_of_release=%{x}<br>nunique=%{y}<extra></extra>\",\"legendgroup\":\"Racing\",\"line\":{\"color\":\"#EF553B\"},\"marker\":{\"symbol\":\"circle\"},\"mode\":\"lines\",\"name\":\"Racing\",\"orientation\":\"v\",\"showlegend\":false,\"stackgroup\":\"1\",\"x\":[\"2001-01-01T00:00:00\",\"2002-01-01T00:00:00\",\"2003-01-01T00:00:00\",\"2004-01-01T00:00:00\",\"2005-01-01T00:00:00\",\"2006-01-01T00:00:00\"],\"xaxis\":\"x\",\"y\":[11,22,30,19,15,10],\"yaxis\":\"y\",\"type\":\"scatter\"},{\"hovertemplate\":\"genre=Racing<br>platform=GBA<br>year_of_release=%{x}<br>nunique=%{y}<extra></extra>\",\"legendgroup\":\"Racing\",\"line\":{\"color\":\"#EF553B\"},\"marker\":{\"symbol\":\"circle\"},\"mode\":\"lines\",\"name\":\"Racing\",\"orientation\":\"v\",\"showlegend\":false,\"stackgroup\":\"1\",\"x\":[\"2001-01-01T00:00:00\",\"2002-01-01T00:00:00\",\"2003-01-01T00:00:00\",\"2004-01-01T00:00:00\",\"2005-01-01T00:00:00\",\"2006-01-01T00:00:00\"],\"xaxis\":\"x\",\"y\":[8,12,13,6,2,1],\"yaxis\":\"y\",\"type\":\"scatter\"},{\"hovertemplate\":\"genre=Racing<br>platform=GC<br>year_of_release=%{x}<br>nunique=%{y}<extra></extra>\",\"legendgroup\":\"Racing\",\"line\":{\"color\":\"#EF553B\"},\"marker\":{\"symbol\":\"circle\"},\"mode\":\"lines\",\"name\":\"Racing\",\"orientation\":\"v\",\"showlegend\":false,\"stackgroup\":\"1\",\"x\":[\"2001-01-01T00:00:00\",\"2002-01-01T00:00:00\",\"2003-01-01T00:00:00\",\"2005-01-01T00:00:00\",\"2006-01-01T00:00:00\"],\"xaxis\":\"x\",\"y\":[4,17,18,3,4],\"yaxis\":\"y\",\"type\":\"scatter\"},{\"hovertemplate\":\"genre=Racing<br>platform=DS<br>year_of_release=%{x}<br>nunique=%{y}<extra></extra>\",\"legendgroup\":\"Racing\",\"line\":{\"color\":\"#EF553B\"},\"marker\":{\"symbol\":\"circle\"},\"mode\":\"lines\",\"name\":\"Racing\",\"orientation\":\"v\",\"showlegend\":false,\"stackgroup\":\"1\",\"x\":[\"2004-01-01T00:00:00\",\"2005-01-01T00:00:00\",\"2006-01-01T00:00:00\",\"2007-01-01T00:00:00\",\"2008-01-01T00:00:00\",\"2009-01-01T00:00:00\",\"2010-01-01T00:00:00\"],\"xaxis\":\"x\",\"y\":[3,6,2,6,5,5,1],\"yaxis\":\"y\",\"type\":\"scatter\"},{\"hovertemplate\":\"genre=Racing<br>platform=PSP<br>year_of_release=%{x}<br>nunique=%{y}<extra></extra>\",\"legendgroup\":\"Racing\",\"line\":{\"color\":\"#EF553B\"},\"marker\":{\"symbol\":\"circle\"},\"mode\":\"lines\",\"name\":\"Racing\",\"orientation\":\"v\",\"showlegend\":false,\"stackgroup\":\"1\",\"x\":[\"2004-01-01T00:00:00\",\"2005-01-01T00:00:00\",\"2006-01-01T00:00:00\",\"2007-01-01T00:00:00\",\"2008-01-01T00:00:00\",\"2009-01-01T00:00:00\",\"2010-01-01T00:00:00\"],\"xaxis\":\"x\",\"y\":[1,11,15,10,5,4,2],\"yaxis\":\"y\",\"type\":\"scatter\"},{\"hovertemplate\":\"genre=Racing<br>platform=X360<br>year_of_release=%{x}<br>nunique=%{y}<extra></extra>\",\"legendgroup\":\"Racing\",\"line\":{\"color\":\"#EF553B\"},\"marker\":{\"symbol\":\"circle\"},\"mode\":\"lines\",\"name\":\"Racing\",\"orientation\":\"v\",\"showlegend\":false,\"stackgroup\":\"1\",\"x\":[\"2005-01-01T00:00:00\",\"2006-01-01T00:00:00\",\"2007-01-01T00:00:00\",\"2008-01-01T00:00:00\",\"2009-01-01T00:00:00\",\"2010-01-01T00:00:00\",\"2011-01-01T00:00:00\",\"2012-01-01T00:00:00\",\"2013-01-01T00:00:00\",\"2014-01-01T00:00:00\"],\"xaxis\":\"x\",\"y\":[2,6,13,9,7,12,8,7,4,4],\"yaxis\":\"y\",\"type\":\"scatter\"},{\"hovertemplate\":\"genre=Racing<br>platform=PS3<br>year_of_release=%{x}<br>nunique=%{y}<extra></extra>\",\"legendgroup\":\"Racing\",\"line\":{\"color\":\"#EF553B\"},\"marker\":{\"symbol\":\"circle\"},\"mode\":\"lines\",\"name\":\"Racing\",\"orientation\":\"v\",\"showlegend\":false,\"stackgroup\":\"1\",\"x\":[\"2006-01-01T00:00:00\",\"2007-01-01T00:00:00\",\"2008-01-01T00:00:00\",\"2009-01-01T00:00:00\",\"2010-01-01T00:00:00\",\"2011-01-01T00:00:00\",\"2012-01-01T00:00:00\",\"2013-01-01T00:00:00\",\"2014-01-01T00:00:00\"],\"xaxis\":\"x\",\"y\":[4,9,11,7,9,9,6,5,4],\"yaxis\":\"y\",\"type\":\"scatter\"},{\"hovertemplate\":\"genre=Racing<br>platform=Wii<br>year_of_release=%{x}<br>nunique=%{y}<extra></extra>\",\"legendgroup\":\"Racing\",\"line\":{\"color\":\"#EF553B\"},\"marker\":{\"symbol\":\"circle\"},\"mode\":\"lines\",\"name\":\"Racing\",\"orientation\":\"v\",\"showlegend\":false,\"stackgroup\":\"1\",\"x\":[\"2006-01-01T00:00:00\",\"2007-01-01T00:00:00\",\"2008-01-01T00:00:00\",\"2009-01-01T00:00:00\",\"2010-01-01T00:00:00\",\"2011-01-01T00:00:00\"],\"xaxis\":\"x\",\"y\":[5,5,10,10,2,2],\"yaxis\":\"y\",\"type\":\"scatter\"},{\"hovertemplate\":\"genre=Racing<br>platform=3DS<br>year_of_release=%{x}<br>nunique=%{y}<extra></extra>\",\"legendgroup\":\"Racing\",\"line\":{\"color\":\"#EF553B\"},\"marker\":{\"symbol\":\"circle\"},\"mode\":\"lines\",\"name\":\"Racing\",\"orientation\":\"v\",\"showlegend\":false,\"stackgroup\":\"1\",\"x\":[\"2011-01-01T00:00:00\"],\"xaxis\":\"x\",\"y\":[5],\"yaxis\":\"y\",\"type\":\"scatter\"},{\"hovertemplate\":\"genre=Racing<br>platform=PSV<br>year_of_release=%{x}<br>nunique=%{y}<extra></extra>\",\"legendgroup\":\"Racing\",\"line\":{\"color\":\"#EF553B\"},\"marker\":{\"symbol\":\"circle\"},\"mode\":\"lines\",\"name\":\"Racing\",\"orientation\":\"v\",\"showlegend\":false,\"stackgroup\":\"1\",\"x\":[\"2011-01-01T00:00:00\",\"2012-01-01T00:00:00\"],\"xaxis\":\"x\",\"y\":[2,3],\"yaxis\":\"y\",\"type\":\"scatter\"},{\"hovertemplate\":\"genre=Racing<br>platform=WiiU<br>year_of_release=%{x}<br>nunique=%{y}<extra></extra>\",\"legendgroup\":\"Racing\",\"line\":{\"color\":\"#EF553B\"},\"marker\":{\"symbol\":\"circle\"},\"mode\":\"lines\",\"name\":\"Racing\",\"orientation\":\"v\",\"showlegend\":false,\"stackgroup\":\"1\",\"x\":[\"2014-01-01T00:00:00\"],\"xaxis\":\"x\",\"y\":[1],\"yaxis\":\"y\",\"type\":\"scatter\"},{\"hovertemplate\":\"genre=Racing<br>platform=PS4<br>year_of_release=%{x}<br>nunique=%{y}<extra></extra>\",\"legendgroup\":\"Racing\",\"line\":{\"color\":\"#EF553B\"},\"marker\":{\"symbol\":\"circle\"},\"mode\":\"lines\",\"name\":\"Racing\",\"orientation\":\"v\",\"showlegend\":false,\"stackgroup\":\"1\",\"x\":[\"2013-01-01T00:00:00\",\"2014-01-01T00:00:00\",\"2015-01-01T00:00:00\",\"2016-01-01T00:00:00\"],\"xaxis\":\"x\",\"y\":[1,4,3,7],\"yaxis\":\"y\",\"type\":\"scatter\"},{\"hovertemplate\":\"genre=Racing<br>platform=XOne<br>year_of_release=%{x}<br>nunique=%{y}<extra></extra>\",\"legendgroup\":\"Racing\",\"line\":{\"color\":\"#EF553B\"},\"marker\":{\"symbol\":\"circle\"},\"mode\":\"lines\",\"name\":\"Racing\",\"orientation\":\"v\",\"showlegend\":false,\"stackgroup\":\"1\",\"x\":[\"2013-01-01T00:00:00\",\"2014-01-01T00:00:00\",\"2015-01-01T00:00:00\",\"2016-01-01T00:00:00\"],\"xaxis\":\"x\",\"y\":[2,3,4,5],\"yaxis\":\"y\",\"type\":\"scatter\"},{\"hovertemplate\":\"genre=Role-Playing<br>platform=DC<br>year_of_release=%{x}<br>nunique=%{y}<extra></extra>\",\"legendgroup\":\"Role-Playing\",\"line\":{\"color\":\"#00cc96\"},\"marker\":{\"symbol\":\"circle\"},\"mode\":\"lines\",\"name\":\"Role-Playing\",\"orientation\":\"v\",\"showlegend\":true,\"stackgroup\":\"1\",\"x\":[\"2000-01-01T00:00:00\",\"2001-01-01T00:00:00\"],\"xaxis\":\"x\",\"y\":[3,1],\"yaxis\":\"y\",\"type\":\"scatter\"},{\"hovertemplate\":\"genre=Role-Playing<br>platform=PC<br>year_of_release=%{x}<br>nunique=%{y}<extra></extra>\",\"legendgroup\":\"Role-Playing\",\"line\":{\"color\":\"#00cc96\"},\"marker\":{\"symbol\":\"circle\"},\"mode\":\"lines\",\"name\":\"Role-Playing\",\"orientation\":\"v\",\"showlegend\":false,\"stackgroup\":\"1\",\"x\":[\"2000-01-01T00:00:00\",\"2001-01-01T00:00:00\",\"2002-01-01T00:00:00\",\"2003-01-01T00:00:00\",\"2004-01-01T00:00:00\",\"2005-01-01T00:00:00\",\"2006-01-01T00:00:00\",\"2007-01-01T00:00:00\",\"2008-01-01T00:00:00\",\"2009-01-01T00:00:00\",\"2010-01-01T00:00:00\",\"2011-01-01T00:00:00\",\"2012-01-01T00:00:00\",\"2014-01-01T00:00:00\",\"2015-01-01T00:00:00\",\"2016-01-01T00:00:00\"],\"xaxis\":\"x\",\"y\":[2,1,2,2,1,3,7,5,8,7,8,11,7,10,3,4],\"yaxis\":\"y\",\"type\":\"scatter\"},{\"hovertemplate\":\"genre=Role-Playing<br>platform=PS<br>year_of_release=%{x}<br>nunique=%{y}<extra></extra>\",\"legendgroup\":\"Role-Playing\",\"line\":{\"color\":\"#00cc96\"},\"marker\":{\"symbol\":\"circle\"},\"mode\":\"lines\",\"name\":\"Role-Playing\",\"orientation\":\"v\",\"showlegend\":false,\"stackgroup\":\"1\",\"x\":[\"2000-01-01T00:00:00\",\"2001-01-01T00:00:00\"],\"xaxis\":\"x\",\"y\":[6,3],\"yaxis\":\"y\",\"type\":\"scatter\"},{\"hovertemplate\":\"genre=Role-Playing<br>platform=PS2<br>year_of_release=%{x}<br>nunique=%{y}<extra></extra>\",\"legendgroup\":\"Role-Playing\",\"line\":{\"color\":\"#00cc96\"},\"marker\":{\"symbol\":\"circle\"},\"mode\":\"lines\",\"name\":\"Role-Playing\",\"orientation\":\"v\",\"showlegend\":false,\"stackgroup\":\"1\",\"x\":[\"2000-01-01T00:00:00\",\"2001-01-01T00:00:00\",\"2002-01-01T00:00:00\",\"2003-01-01T00:00:00\",\"2004-01-01T00:00:00\",\"2005-01-01T00:00:00\",\"2006-01-01T00:00:00\",\"2007-01-01T00:00:00\",\"2008-01-01T00:00:00\"],\"xaxis\":\"x\",\"y\":[6,12,16,11,23,26,14,6,5],\"yaxis\":\"y\",\"type\":\"scatter\"},{\"hovertemplate\":\"genre=Role-Playing<br>platform=XB<br>year_of_release=%{x}<br>nunique=%{y}<extra></extra>\",\"legendgroup\":\"Role-Playing\",\"line\":{\"color\":\"#00cc96\"},\"marker\":{\"symbol\":\"circle\"},\"mode\":\"lines\",\"name\":\"Role-Playing\",\"orientation\":\"v\",\"showlegend\":false,\"stackgroup\":\"1\",\"x\":[\"2002-01-01T00:00:00\",\"2003-01-01T00:00:00\",\"2004-01-01T00:00:00\",\"2005-01-01T00:00:00\"],\"xaxis\":\"x\",\"y\":[3,3,7,4],\"yaxis\":\"y\",\"type\":\"scatter\"},{\"hovertemplate\":\"genre=Role-Playing<br>platform=GBA<br>year_of_release=%{x}<br>nunique=%{y}<extra></extra>\",\"legendgroup\":\"Role-Playing\",\"line\":{\"color\":\"#00cc96\"},\"marker\":{\"symbol\":\"circle\"},\"mode\":\"lines\",\"name\":\"Role-Playing\",\"orientation\":\"v\",\"showlegend\":false,\"stackgroup\":\"1\",\"x\":[\"2001-01-01T00:00:00\",\"2002-01-01T00:00:00\",\"2003-01-01T00:00:00\",\"2004-01-01T00:00:00\",\"2005-01-01T00:00:00\",\"2006-01-01T00:00:00\"],\"xaxis\":\"x\",\"y\":[8,8,8,8,2,2],\"yaxis\":\"y\",\"type\":\"scatter\"},{\"hovertemplate\":\"genre=Role-Playing<br>platform=GC<br>year_of_release=%{x}<br>nunique=%{y}<extra></extra>\",\"legendgroup\":\"Role-Playing\",\"line\":{\"color\":\"#00cc96\"},\"marker\":{\"symbol\":\"circle\"},\"mode\":\"lines\",\"name\":\"Role-Playing\",\"orientation\":\"v\",\"showlegend\":false,\"stackgroup\":\"1\",\"x\":[\"2002-01-01T00:00:00\",\"2003-01-01T00:00:00\",\"2004-01-01T00:00:00\",\"2005-01-01T00:00:00\",\"2006-01-01T00:00:00\"],\"xaxis\":\"x\",\"y\":[4,9,6,3,1],\"yaxis\":\"y\",\"type\":\"scatter\"},{\"hovertemplate\":\"genre=Role-Playing<br>platform=DS<br>year_of_release=%{x}<br>nunique=%{y}<extra></extra>\",\"legendgroup\":\"Role-Playing\",\"line\":{\"color\":\"#00cc96\"},\"marker\":{\"symbol\":\"circle\"},\"mode\":\"lines\",\"name\":\"Role-Playing\",\"orientation\":\"v\",\"showlegend\":false,\"stackgroup\":\"1\",\"x\":[\"2005-01-01T00:00:00\",\"2006-01-01T00:00:00\",\"2007-01-01T00:00:00\",\"2008-01-01T00:00:00\",\"2009-01-01T00:00:00\",\"2010-01-01T00:00:00\",\"2011-01-01T00:00:00\",\"2012-01-01T00:00:00\"],\"xaxis\":\"x\",\"y\":[3,12,16,35,17,12,1,1],\"yaxis\":\"y\",\"type\":\"scatter\"},{\"hovertemplate\":\"genre=Role-Playing<br>platform=PSP<br>year_of_release=%{x}<br>nunique=%{y}<extra></extra>\",\"legendgroup\":\"Role-Playing\",\"line\":{\"color\":\"#00cc96\"},\"marker\":{\"symbol\":\"circle\"},\"mode\":\"lines\",\"name\":\"Role-Playing\",\"orientation\":\"v\",\"showlegend\":false,\"stackgroup\":\"1\",\"x\":[\"2004-01-01T00:00:00\",\"2005-01-01T00:00:00\",\"2006-01-01T00:00:00\",\"2007-01-01T00:00:00\",\"2008-01-01T00:00:00\",\"2009-01-01T00:00:00\",\"2010-01-01T00:00:00\",\"2011-01-01T00:00:00\",\"2013-01-01T00:00:00\"],\"xaxis\":\"x\",\"y\":[1,8,17,11,9,10,10,3,1],\"yaxis\":\"y\",\"type\":\"scatter\"},{\"hovertemplate\":\"genre=Role-Playing<br>platform=X360<br>year_of_release=%{x}<br>nunique=%{y}<extra></extra>\",\"legendgroup\":\"Role-Playing\",\"line\":{\"color\":\"#00cc96\"},\"marker\":{\"symbol\":\"circle\"},\"mode\":\"lines\",\"name\":\"Role-Playing\",\"orientation\":\"v\",\"showlegend\":false,\"stackgroup\":\"1\",\"x\":[\"2006-01-01T00:00:00\",\"2007-01-01T00:00:00\",\"2008-01-01T00:00:00\",\"2009-01-01T00:00:00\",\"2010-01-01T00:00:00\",\"2011-01-01T00:00:00\",\"2012-01-01T00:00:00\",\"2013-01-01T00:00:00\",\"2014-01-01T00:00:00\"],\"xaxis\":\"x\",\"y\":[8,8,8,7,10,5,6,2,4],\"yaxis\":\"y\",\"type\":\"scatter\"},{\"hovertemplate\":\"genre=Role-Playing<br>platform=PS3<br>year_of_release=%{x}<br>nunique=%{y}<extra></extra>\",\"legendgroup\":\"Role-Playing\",\"line\":{\"color\":\"#00cc96\"},\"marker\":{\"symbol\":\"circle\"},\"mode\":\"lines\",\"name\":\"Role-Playing\",\"orientation\":\"v\",\"showlegend\":false,\"stackgroup\":\"1\",\"x\":[\"2006-01-01T00:00:00\",\"2007-01-01T00:00:00\",\"2008-01-01T00:00:00\",\"2009-01-01T00:00:00\",\"2010-01-01T00:00:00\",\"2011-01-01T00:00:00\",\"2012-01-01T00:00:00\",\"2013-01-01T00:00:00\",\"2014-01-01T00:00:00\"],\"xaxis\":\"x\",\"y\":[2,4,6,7,14,11,11,13,10],\"yaxis\":\"y\",\"type\":\"scatter\"},{\"hovertemplate\":\"genre=Role-Playing<br>platform=Wii<br>year_of_release=%{x}<br>nunique=%{y}<extra></extra>\",\"legendgroup\":\"Role-Playing\",\"line\":{\"color\":\"#00cc96\"},\"marker\":{\"symbol\":\"circle\"},\"mode\":\"lines\",\"name\":\"Role-Playing\",\"orientation\":\"v\",\"showlegend\":false,\"stackgroup\":\"1\",\"x\":[\"2006-01-01T00:00:00\",\"2007-01-01T00:00:00\",\"2008-01-01T00:00:00\",\"2009-01-01T00:00:00\",\"2010-01-01T00:00:00\",\"2011-01-01T00:00:00\"],\"xaxis\":\"x\",\"y\":[2,4,6,9,2,2],\"yaxis\":\"y\",\"type\":\"scatter\"},{\"hovertemplate\":\"genre=Role-Playing<br>platform=3DS<br>year_of_release=%{x}<br>nunique=%{y}<extra></extra>\",\"legendgroup\":\"Role-Playing\",\"line\":{\"color\":\"#00cc96\"},\"marker\":{\"symbol\":\"circle\"},\"mode\":\"lines\",\"name\":\"Role-Playing\",\"orientation\":\"v\",\"showlegend\":false,\"stackgroup\":\"1\",\"x\":[\"2011-01-01T00:00:00\",\"2012-01-01T00:00:00\",\"2013-01-01T00:00:00\",\"2014-01-01T00:00:00\",\"2015-01-01T00:00:00\",\"2016-01-01T00:00:00\"],\"xaxis\":\"x\",\"y\":[3,7,4,5,6,1],\"yaxis\":\"y\",\"type\":\"scatter\"},{\"hovertemplate\":\"genre=Role-Playing<br>platform=PSV<br>year_of_release=%{x}<br>nunique=%{y}<extra></extra>\",\"legendgroup\":\"Role-Playing\",\"line\":{\"color\":\"#00cc96\"},\"marker\":{\"symbol\":\"circle\"},\"mode\":\"lines\",\"name\":\"Role-Playing\",\"orientation\":\"v\",\"showlegend\":false,\"stackgroup\":\"1\",\"x\":[\"2012-01-01T00:00:00\",\"2013-01-01T00:00:00\",\"2014-01-01T00:00:00\",\"2015-01-01T00:00:00\",\"2016-01-01T00:00:00\"],\"xaxis\":\"x\",\"y\":[2,10,10,5,4],\"yaxis\":\"y\",\"type\":\"scatter\"},{\"hovertemplate\":\"genre=Role-Playing<br>platform=WiiU<br>year_of_release=%{x}<br>nunique=%{y}<extra></extra>\",\"legendgroup\":\"Role-Playing\",\"line\":{\"color\":\"#00cc96\"},\"marker\":{\"symbol\":\"circle\"},\"mode\":\"lines\",\"name\":\"Role-Playing\",\"orientation\":\"v\",\"showlegend\":false,\"stackgroup\":\"1\",\"x\":[\"2015-01-01T00:00:00\",\"2016-01-01T00:00:00\"],\"xaxis\":\"x\",\"y\":[1,1],\"yaxis\":\"y\",\"type\":\"scatter\"},{\"hovertemplate\":\"genre=Role-Playing<br>platform=PS4<br>year_of_release=%{x}<br>nunique=%{y}<extra></extra>\",\"legendgroup\":\"Role-Playing\",\"line\":{\"color\":\"#00cc96\"},\"marker\":{\"symbol\":\"circle\"},\"mode\":\"lines\",\"name\":\"Role-Playing\",\"orientation\":\"v\",\"showlegend\":false,\"stackgroup\":\"1\",\"x\":[\"2014-01-01T00:00:00\",\"2015-01-01T00:00:00\",\"2016-01-01T00:00:00\"],\"xaxis\":\"x\",\"y\":[6,9,8],\"yaxis\":\"y\",\"type\":\"scatter\"},{\"hovertemplate\":\"genre=Role-Playing<br>platform=XOne<br>year_of_release=%{x}<br>nunique=%{y}<extra></extra>\",\"legendgroup\":\"Role-Playing\",\"line\":{\"color\":\"#00cc96\"},\"marker\":{\"symbol\":\"circle\"},\"mode\":\"lines\",\"name\":\"Role-Playing\",\"orientation\":\"v\",\"showlegend\":false,\"stackgroup\":\"1\",\"x\":[\"2014-01-01T00:00:00\",\"2015-01-01T00:00:00\",\"2016-01-01T00:00:00\"],\"xaxis\":\"x\",\"y\":[2,4,2],\"yaxis\":\"y\",\"type\":\"scatter\"},{\"hovertemplate\":\"genre=Shooter<br>platform=DC<br>year_of_release=%{x}<br>nunique=%{y}<extra></extra>\",\"legendgroup\":\"Shooter\",\"line\":{\"color\":\"#ab63fa\"},\"marker\":{\"symbol\":\"circle\"},\"mode\":\"lines\",\"name\":\"Shooter\",\"orientation\":\"v\",\"showlegend\":true,\"stackgroup\":\"1\",\"x\":[\"2000-01-01T00:00:00\"],\"xaxis\":\"x\",\"y\":[1],\"yaxis\":\"y\",\"type\":\"scatter\"},{\"hovertemplate\":\"genre=Shooter<br>platform=PC<br>year_of_release=%{x}<br>nunique=%{y}<extra></extra>\",\"legendgroup\":\"Shooter\",\"line\":{\"color\":\"#ab63fa\"},\"marker\":{\"symbol\":\"circle\"},\"mode\":\"lines\",\"name\":\"Shooter\",\"orientation\":\"v\",\"showlegend\":false,\"stackgroup\":\"1\",\"x\":[\"2001-01-01T00:00:00\",\"2002-01-01T00:00:00\",\"2003-01-01T00:00:00\",\"2004-01-01T00:00:00\",\"2005-01-01T00:00:00\",\"2006-01-01T00:00:00\",\"2007-01-01T00:00:00\",\"2008-01-01T00:00:00\",\"2009-01-01T00:00:00\",\"2010-01-01T00:00:00\",\"2011-01-01T00:00:00\",\"2012-01-01T00:00:00\",\"2013-01-01T00:00:00\",\"2014-01-01T00:00:00\",\"2015-01-01T00:00:00\",\"2016-01-01T00:00:00\"],\"xaxis\":\"x\",\"y\":[1,2,4,8,9,2,13,10,13,9,19,9,10,7,3,8],\"yaxis\":\"y\",\"type\":\"scatter\"},{\"hovertemplate\":\"genre=Shooter<br>platform=PS<br>year_of_release=%{x}<br>nunique=%{y}<extra></extra>\",\"legendgroup\":\"Shooter\",\"line\":{\"color\":\"#ab63fa\"},\"marker\":{\"symbol\":\"circle\"},\"mode\":\"lines\",\"name\":\"Shooter\",\"orientation\":\"v\",\"showlegend\":false,\"stackgroup\":\"1\",\"x\":[\"2000-01-01T00:00:00\",\"2001-01-01T00:00:00\"],\"xaxis\":\"x\",\"y\":[5,4],\"yaxis\":\"y\",\"type\":\"scatter\"},{\"hovertemplate\":\"genre=Shooter<br>platform=PS2<br>year_of_release=%{x}<br>nunique=%{y}<extra></extra>\",\"legendgroup\":\"Shooter\",\"line\":{\"color\":\"#ab63fa\"},\"marker\":{\"symbol\":\"circle\"},\"mode\":\"lines\",\"name\":\"Shooter\",\"orientation\":\"v\",\"showlegend\":false,\"stackgroup\":\"1\",\"x\":[\"2000-01-01T00:00:00\",\"2001-01-01T00:00:00\",\"2002-01-01T00:00:00\",\"2003-01-01T00:00:00\",\"2004-01-01T00:00:00\",\"2005-01-01T00:00:00\",\"2006-01-01T00:00:00\",\"2007-01-01T00:00:00\",\"2008-01-01T00:00:00\"],\"xaxis\":\"x\",\"y\":[6,19,24,20,29,22,13,3,1],\"yaxis\":\"y\",\"type\":\"scatter\"},{\"hovertemplate\":\"genre=Shooter<br>platform=XB<br>year_of_release=%{x}<br>nunique=%{y}<extra></extra>\",\"legendgroup\":\"Shooter\",\"line\":{\"color\":\"#ab63fa\"},\"marker\":{\"symbol\":\"circle\"},\"mode\":\"lines\",\"name\":\"Shooter\",\"orientation\":\"v\",\"showlegend\":false,\"stackgroup\":\"1\",\"x\":[\"2001-01-01T00:00:00\",\"2002-01-01T00:00:00\",\"2003-01-01T00:00:00\",\"2004-01-01T00:00:00\",\"2005-01-01T00:00:00\",\"2006-01-01T00:00:00\"],\"xaxis\":\"x\",\"y\":[4,18,26,26,34,9],\"yaxis\":\"y\",\"type\":\"scatter\"},{\"hovertemplate\":\"genre=Shooter<br>platform=GBA<br>year_of_release=%{x}<br>nunique=%{y}<extra></extra>\",\"legendgroup\":\"Shooter\",\"line\":{\"color\":\"#ab63fa\"},\"marker\":{\"symbol\":\"circle\"},\"mode\":\"lines\",\"name\":\"Shooter\",\"orientation\":\"v\",\"showlegend\":false,\"stackgroup\":\"1\",\"x\":[\"2001-01-01T00:00:00\",\"2002-01-01T00:00:00\",\"2003-01-01T00:00:00\",\"2004-01-01T00:00:00\",\"2005-01-01T00:00:00\"],\"xaxis\":\"x\",\"y\":[3,13,6,5,1],\"yaxis\":\"y\",\"type\":\"scatter\"},{\"hovertemplate\":\"genre=Shooter<br>platform=GC<br>year_of_release=%{x}<br>nunique=%{y}<extra></extra>\",\"legendgroup\":\"Shooter\",\"line\":{\"color\":\"#ab63fa\"},\"marker\":{\"symbol\":\"circle\"},\"mode\":\"lines\",\"name\":\"Shooter\",\"orientation\":\"v\",\"showlegend\":false,\"stackgroup\":\"1\",\"x\":[\"2002-01-01T00:00:00\",\"2003-01-01T00:00:00\",\"2004-01-01T00:00:00\",\"2005-01-01T00:00:00\",\"2006-01-01T00:00:00\"],\"xaxis\":\"x\",\"y\":[13,11,10,7,1],\"yaxis\":\"y\",\"type\":\"scatter\"},{\"hovertemplate\":\"genre=Shooter<br>platform=DS<br>year_of_release=%{x}<br>nunique=%{y}<extra></extra>\",\"legendgroup\":\"Shooter\",\"line\":{\"color\":\"#ab63fa\"},\"marker\":{\"symbol\":\"circle\"},\"mode\":\"lines\",\"name\":\"Shooter\",\"orientation\":\"v\",\"showlegend\":false,\"stackgroup\":\"1\",\"x\":[\"2005-01-01T00:00:00\",\"2006-01-01T00:00:00\",\"2007-01-01T00:00:00\",\"2008-01-01T00:00:00\",\"2009-01-01T00:00:00\",\"2010-01-01T00:00:00\"],\"xaxis\":\"x\",\"y\":[4,5,8,8,4,3],\"yaxis\":\"y\",\"type\":\"scatter\"},{\"hovertemplate\":\"genre=Shooter<br>platform=PSP<br>year_of_release=%{x}<br>nunique=%{y}<extra></extra>\",\"legendgroup\":\"Shooter\",\"line\":{\"color\":\"#ab63fa\"},\"marker\":{\"symbol\":\"circle\"},\"mode\":\"lines\",\"name\":\"Shooter\",\"orientation\":\"v\",\"showlegend\":false,\"stackgroup\":\"1\",\"x\":[\"2005-01-01T00:00:00\",\"2006-01-01T00:00:00\",\"2007-01-01T00:00:00\",\"2008-01-01T00:00:00\",\"2009-01-01T00:00:00\",\"2010-01-01T00:00:00\"],\"xaxis\":\"x\",\"y\":[5,11,10,1,3,3],\"yaxis\":\"y\",\"type\":\"scatter\"},{\"hovertemplate\":\"genre=Shooter<br>platform=X360<br>year_of_release=%{x}<br>nunique=%{y}<extra></extra>\",\"legendgroup\":\"Shooter\",\"line\":{\"color\":\"#ab63fa\"},\"marker\":{\"symbol\":\"circle\"},\"mode\":\"lines\",\"name\":\"Shooter\",\"orientation\":\"v\",\"showlegend\":false,\"stackgroup\":\"1\",\"x\":[\"2005-01-01T00:00:00\",\"2006-01-01T00:00:00\",\"2007-01-01T00:00:00\",\"2008-01-01T00:00:00\",\"2009-01-01T00:00:00\",\"2010-01-01T00:00:00\",\"2011-01-01T00:00:00\",\"2012-01-01T00:00:00\",\"2013-01-01T00:00:00\",\"2014-01-01T00:00:00\"],\"xaxis\":\"x\",\"y\":[3,13,19,20,24,18,24,14,14,4],\"yaxis\":\"y\",\"type\":\"scatter\"},{\"hovertemplate\":\"genre=Shooter<br>platform=PS3<br>year_of_release=%{x}<br>nunique=%{y}<extra></extra>\",\"legendgroup\":\"Shooter\",\"line\":{\"color\":\"#ab63fa\"},\"marker\":{\"symbol\":\"circle\"},\"mode\":\"lines\",\"name\":\"Shooter\",\"orientation\":\"v\",\"showlegend\":false,\"stackgroup\":\"1\",\"x\":[\"2006-01-01T00:00:00\",\"2007-01-01T00:00:00\",\"2008-01-01T00:00:00\",\"2009-01-01T00:00:00\",\"2010-01-01T00:00:00\",\"2011-01-01T00:00:00\",\"2012-01-01T00:00:00\",\"2013-01-01T00:00:00\",\"2014-01-01T00:00:00\"],\"xaxis\":\"x\",\"y\":[2,14,21,17,16,26,13,13,2],\"yaxis\":\"y\",\"type\":\"scatter\"},{\"hovertemplate\":\"genre=Shooter<br>platform=Wii<br>year_of_release=%{x}<br>nunique=%{y}<extra></extra>\",\"legendgroup\":\"Shooter\",\"line\":{\"color\":\"#ab63fa\"},\"marker\":{\"symbol\":\"circle\"},\"mode\":\"lines\",\"name\":\"Shooter\",\"orientation\":\"v\",\"showlegend\":false,\"stackgroup\":\"1\",\"x\":[\"2006-01-01T00:00:00\",\"2007-01-01T00:00:00\",\"2008-01-01T00:00:00\",\"2009-01-01T00:00:00\",\"2010-01-01T00:00:00\",\"2011-01-01T00:00:00\"],\"xaxis\":\"x\",\"y\":[3,8,7,7,5,2],\"yaxis\":\"y\",\"type\":\"scatter\"},{\"hovertemplate\":\"genre=Shooter<br>platform=3DS<br>year_of_release=%{x}<br>nunique=%{y}<extra></extra>\",\"legendgroup\":\"Shooter\",\"line\":{\"color\":\"#ab63fa\"},\"marker\":{\"symbol\":\"circle\"},\"mode\":\"lines\",\"name\":\"Shooter\",\"orientation\":\"v\",\"showlegend\":false,\"stackgroup\":\"1\",\"x\":[\"2011-01-01T00:00:00\"],\"xaxis\":\"x\",\"y\":[2],\"yaxis\":\"y\",\"type\":\"scatter\"},{\"hovertemplate\":\"genre=Shooter<br>platform=PSV<br>year_of_release=%{x}<br>nunique=%{y}<extra></extra>\",\"legendgroup\":\"Shooter\",\"line\":{\"color\":\"#ab63fa\"},\"marker\":{\"symbol\":\"circle\"},\"mode\":\"lines\",\"name\":\"Shooter\",\"orientation\":\"v\",\"showlegend\":false,\"stackgroup\":\"1\",\"x\":[\"2011-01-01T00:00:00\",\"2012-01-01T00:00:00\",\"2013-01-01T00:00:00\",\"2014-01-01T00:00:00\"],\"xaxis\":\"x\",\"y\":[1,2,1,1],\"yaxis\":\"y\",\"type\":\"scatter\"},{\"hovertemplate\":\"genre=Shooter<br>platform=WiiU<br>year_of_release=%{x}<br>nunique=%{y}<extra></extra>\",\"legendgroup\":\"Shooter\",\"line\":{\"color\":\"#ab63fa\"},\"marker\":{\"symbol\":\"circle\"},\"mode\":\"lines\",\"name\":\"Shooter\",\"orientation\":\"v\",\"showlegend\":false,\"stackgroup\":\"1\",\"x\":[\"2012-01-01T00:00:00\",\"2013-01-01T00:00:00\",\"2015-01-01T00:00:00\",\"2016-01-01T00:00:00\"],\"xaxis\":\"x\",\"y\":[1,2,1,1],\"yaxis\":\"y\",\"type\":\"scatter\"},{\"hovertemplate\":\"genre=Shooter<br>platform=PS4<br>year_of_release=%{x}<br>nunique=%{y}<extra></extra>\",\"legendgroup\":\"Shooter\",\"line\":{\"color\":\"#ab63fa\"},\"marker\":{\"symbol\":\"circle\"},\"mode\":\"lines\",\"name\":\"Shooter\",\"orientation\":\"v\",\"showlegend\":false,\"stackgroup\":\"1\",\"x\":[\"2013-01-01T00:00:00\",\"2014-01-01T00:00:00\",\"2015-01-01T00:00:00\",\"2016-01-01T00:00:00\"],\"xaxis\":\"x\",\"y\":[3,7,7,17],\"yaxis\":\"y\",\"type\":\"scatter\"},{\"hovertemplate\":\"genre=Shooter<br>platform=XOne<br>year_of_release=%{x}<br>nunique=%{y}<extra></extra>\",\"legendgroup\":\"Shooter\",\"line\":{\"color\":\"#ab63fa\"},\"marker\":{\"symbol\":\"circle\"},\"mode\":\"lines\",\"name\":\"Shooter\",\"orientation\":\"v\",\"showlegend\":false,\"stackgroup\":\"1\",\"x\":[\"2013-01-01T00:00:00\",\"2014-01-01T00:00:00\",\"2015-01-01T00:00:00\",\"2016-01-01T00:00:00\"],\"xaxis\":\"x\",\"y\":[2,10,7,12],\"yaxis\":\"y\",\"type\":\"scatter\"},{\"hovertemplate\":\"genre=Sports<br>platform=DC<br>year_of_release=%{x}<br>nunique=%{y}<extra></extra>\",\"legendgroup\":\"Sports\",\"line\":{\"color\":\"#FFA15A\"},\"marker\":{\"symbol\":\"circle\"},\"mode\":\"lines\",\"name\":\"Sports\",\"orientation\":\"v\",\"showlegend\":true,\"stackgroup\":\"1\",\"x\":[\"2000-01-01T00:00:00\"],\"xaxis\":\"x\",\"y\":[1],\"yaxis\":\"y\",\"type\":\"scatter\"},{\"hovertemplate\":\"genre=Sports<br>platform=PC<br>year_of_release=%{x}<br>nunique=%{y}<extra></extra>\",\"legendgroup\":\"Sports\",\"line\":{\"color\":\"#FFA15A\"},\"marker\":{\"symbol\":\"circle\"},\"mode\":\"lines\",\"name\":\"Sports\",\"orientation\":\"v\",\"showlegend\":false,\"stackgroup\":\"1\",\"x\":[\"2004-01-01T00:00:00\",\"2007-01-01T00:00:00\",\"2008-01-01T00:00:00\",\"2009-01-01T00:00:00\",\"2010-01-01T00:00:00\",\"2011-01-01T00:00:00\",\"2012-01-01T00:00:00\",\"2013-01-01T00:00:00\",\"2014-01-01T00:00:00\",\"2015-01-01T00:00:00\",\"2016-01-01T00:00:00\"],\"xaxis\":\"x\",\"y\":[1,2,2,4,3,5,2,2,1,2,4],\"yaxis\":\"y\",\"type\":\"scatter\"},{\"hovertemplate\":\"genre=Sports<br>platform=PS<br>year_of_release=%{x}<br>nunique=%{y}<extra></extra>\",\"legendgroup\":\"Sports\",\"line\":{\"color\":\"#FFA15A\"},\"marker\":{\"symbol\":\"circle\"},\"mode\":\"lines\",\"name\":\"Sports\",\"orientation\":\"v\",\"showlegend\":false,\"stackgroup\":\"1\",\"x\":[\"2000-01-01T00:00:00\",\"2001-01-01T00:00:00\"],\"xaxis\":\"x\",\"y\":[17,9],\"yaxis\":\"y\",\"type\":\"scatter\"},{\"hovertemplate\":\"genre=Sports<br>platform=PS2<br>year_of_release=%{x}<br>nunique=%{y}<extra></extra>\",\"legendgroup\":\"Sports\",\"line\":{\"color\":\"#FFA15A\"},\"marker\":{\"symbol\":\"circle\"},\"mode\":\"lines\",\"name\":\"Sports\",\"orientation\":\"v\",\"showlegend\":false,\"stackgroup\":\"1\",\"x\":[\"2000-01-01T00:00:00\",\"2001-01-01T00:00:00\",\"2002-01-01T00:00:00\",\"2003-01-01T00:00:00\",\"2004-01-01T00:00:00\",\"2005-01-01T00:00:00\",\"2006-01-01T00:00:00\",\"2007-01-01T00:00:00\",\"2008-01-01T00:00:00\",\"2009-01-01T00:00:00\"],\"xaxis\":\"x\",\"y\":[12,35,51,33,33,23,22,18,6,1],\"yaxis\":\"y\",\"type\":\"scatter\"},{\"hovertemplate\":\"genre=Sports<br>platform=XB<br>year_of_release=%{x}<br>nunique=%{y}<extra></extra>\",\"legendgroup\":\"Sports\",\"line\":{\"color\":\"#FFA15A\"},\"marker\":{\"symbol\":\"circle\"},\"mode\":\"lines\",\"name\":\"Sports\",\"orientation\":\"v\",\"showlegend\":false,\"stackgroup\":\"1\",\"x\":[\"2000-01-01T00:00:00\",\"2001-01-01T00:00:00\",\"2002-01-01T00:00:00\",\"2003-01-01T00:00:00\",\"2004-01-01T00:00:00\",\"2005-01-01T00:00:00\",\"2006-01-01T00:00:00\",\"2007-01-01T00:00:00\"],\"xaxis\":\"x\",\"y\":[1,8,40,35,26,20,17,2],\"yaxis\":\"y\",\"type\":\"scatter\"},{\"hovertemplate\":\"genre=Sports<br>platform=GBA<br>year_of_release=%{x}<br>nunique=%{y}<extra></extra>\",\"legendgroup\":\"Sports\",\"line\":{\"color\":\"#FFA15A\"},\"marker\":{\"symbol\":\"circle\"},\"mode\":\"lines\",\"name\":\"Sports\",\"orientation\":\"v\",\"showlegend\":false,\"stackgroup\":\"1\",\"x\":[\"2001-01-01T00:00:00\",\"2002-01-01T00:00:00\",\"2003-01-01T00:00:00\",\"2004-01-01T00:00:00\",\"2005-01-01T00:00:00\",\"2006-01-01T00:00:00\"],\"xaxis\":\"x\",\"y\":[10,20,8,7,3,2],\"yaxis\":\"y\",\"type\":\"scatter\"},{\"hovertemplate\":\"genre=Sports<br>platform=GC<br>year_of_release=%{x}<br>nunique=%{y}<extra></extra>\",\"legendgroup\":\"Sports\",\"line\":{\"color\":\"#FFA15A\"},\"marker\":{\"symbol\":\"circle\"},\"mode\":\"lines\",\"name\":\"Sports\",\"orientation\":\"v\",\"showlegend\":false,\"stackgroup\":\"1\",\"x\":[\"2001-01-01T00:00:00\",\"2002-01-01T00:00:00\",\"2003-01-01T00:00:00\",\"2004-01-01T00:00:00\",\"2005-01-01T00:00:00\",\"2006-01-01T00:00:00\",\"2007-01-01T00:00:00\"],\"xaxis\":\"x\",\"y\":[8,39,16,11,11,4,1],\"yaxis\":\"y\",\"type\":\"scatter\"},{\"hovertemplate\":\"genre=Sports<br>platform=DS<br>year_of_release=%{x}<br>nunique=%{y}<extra></extra>\",\"legendgroup\":\"Sports\",\"line\":{\"color\":\"#FFA15A\"},\"marker\":{\"symbol\":\"circle\"},\"mode\":\"lines\",\"name\":\"Sports\",\"orientation\":\"v\",\"showlegend\":false,\"stackgroup\":\"1\",\"x\":[\"2004-01-01T00:00:00\",\"2005-01-01T00:00:00\",\"2006-01-01T00:00:00\",\"2007-01-01T00:00:00\",\"2008-01-01T00:00:00\",\"2009-01-01T00:00:00\",\"2010-01-01T00:00:00\"],\"xaxis\":\"x\",\"y\":[2,5,7,7,15,3,1],\"yaxis\":\"y\",\"type\":\"scatter\"},{\"hovertemplate\":\"genre=Sports<br>platform=PSP<br>year_of_release=%{x}<br>nunique=%{y}<extra></extra>\",\"legendgroup\":\"Sports\",\"line\":{\"color\":\"#FFA15A\"},\"marker\":{\"symbol\":\"circle\"},\"mode\":\"lines\",\"name\":\"Sports\",\"orientation\":\"v\",\"showlegend\":false,\"stackgroup\":\"1\",\"x\":[\"2004-01-01T00:00:00\",\"2005-01-01T00:00:00\",\"2006-01-01T00:00:00\",\"2007-01-01T00:00:00\",\"2008-01-01T00:00:00\",\"2009-01-01T00:00:00\",\"2010-01-01T00:00:00\",\"2011-01-01T00:00:00\"],\"xaxis\":\"x\",\"y\":[1,18,14,13,7,9,6,1],\"yaxis\":\"y\",\"type\":\"scatter\"},{\"hovertemplate\":\"genre=Sports<br>platform=X360<br>year_of_release=%{x}<br>nunique=%{y}<extra></extra>\",\"legendgroup\":\"Sports\",\"line\":{\"color\":\"#FFA15A\"},\"marker\":{\"symbol\":\"circle\"},\"mode\":\"lines\",\"name\":\"Sports\",\"orientation\":\"v\",\"showlegend\":false,\"stackgroup\":\"1\",\"x\":[\"2005-01-01T00:00:00\",\"2006-01-01T00:00:00\",\"2007-01-01T00:00:00\",\"2008-01-01T00:00:00\",\"2009-01-01T00:00:00\",\"2010-01-01T00:00:00\",\"2011-01-01T00:00:00\",\"2012-01-01T00:00:00\",\"2013-01-01T00:00:00\",\"2014-01-01T00:00:00\"],\"xaxis\":\"x\",\"y\":[6,20,23,22,20,25,17,10,7,2],\"yaxis\":\"y\",\"type\":\"scatter\"},{\"hovertemplate\":\"genre=Sports<br>platform=PS3<br>year_of_release=%{x}<br>nunique=%{y}<extra></extra>\",\"legendgroup\":\"Sports\",\"line\":{\"color\":\"#FFA15A\"},\"marker\":{\"symbol\":\"circle\"},\"mode\":\"lines\",\"name\":\"Sports\",\"orientation\":\"v\",\"showlegend\":false,\"stackgroup\":\"1\",\"x\":[\"2006-01-01T00:00:00\",\"2007-01-01T00:00:00\",\"2008-01-01T00:00:00\",\"2009-01-01T00:00:00\",\"2010-01-01T00:00:00\",\"2011-01-01T00:00:00\",\"2012-01-01T00:00:00\",\"2013-01-01T00:00:00\",\"2014-01-01T00:00:00\"],\"xaxis\":\"x\",\"y\":[6,22,20,17,24,12,10,9,4],\"yaxis\":\"y\",\"type\":\"scatter\"},{\"hovertemplate\":\"genre=Sports<br>platform=Wii<br>year_of_release=%{x}<br>nunique=%{y}<extra></extra>\",\"legendgroup\":\"Sports\",\"line\":{\"color\":\"#FFA15A\"},\"marker\":{\"symbol\":\"circle\"},\"mode\":\"lines\",\"name\":\"Sports\",\"orientation\":\"v\",\"showlegend\":false,\"stackgroup\":\"1\",\"x\":[\"2006-01-01T00:00:00\",\"2007-01-01T00:00:00\",\"2008-01-01T00:00:00\",\"2009-01-01T00:00:00\",\"2010-01-01T00:00:00\",\"2011-01-01T00:00:00\"],\"xaxis\":\"x\",\"y\":[3,19,27,23,14,5],\"yaxis\":\"y\",\"type\":\"scatter\"},{\"hovertemplate\":\"genre=Sports<br>platform=3DS<br>year_of_release=%{x}<br>nunique=%{y}<extra></extra>\",\"legendgroup\":\"Sports\",\"line\":{\"color\":\"#FFA15A\"},\"marker\":{\"symbol\":\"circle\"},\"mode\":\"lines\",\"name\":\"Sports\",\"orientation\":\"v\",\"showlegend\":false,\"stackgroup\":\"1\",\"x\":[\"2011-01-01T00:00:00\",\"2012-01-01T00:00:00\",\"2014-01-01T00:00:00\"],\"xaxis\":\"x\",\"y\":[5,1,1],\"yaxis\":\"y\",\"type\":\"scatter\"},{\"hovertemplate\":\"genre=Sports<br>platform=PSV<br>year_of_release=%{x}<br>nunique=%{y}<extra></extra>\",\"legendgroup\":\"Sports\",\"line\":{\"color\":\"#FFA15A\"},\"marker\":{\"symbol\":\"circle\"},\"mode\":\"lines\",\"name\":\"Sports\",\"orientation\":\"v\",\"showlegend\":false,\"stackgroup\":\"1\",\"x\":[\"2011-01-01T00:00:00\",\"2012-01-01T00:00:00\",\"2013-01-01T00:00:00\",\"2014-01-01T00:00:00\"],\"xaxis\":\"x\",\"y\":[1,3,1,1],\"yaxis\":\"y\",\"type\":\"scatter\"},{\"hovertemplate\":\"genre=Sports<br>platform=WiiU<br>year_of_release=%{x}<br>nunique=%{y}<extra></extra>\",\"legendgroup\":\"Sports\",\"line\":{\"color\":\"#FFA15A\"},\"marker\":{\"symbol\":\"circle\"},\"mode\":\"lines\",\"name\":\"Sports\",\"orientation\":\"v\",\"showlegend\":false,\"stackgroup\":\"1\",\"x\":[\"2012-01-01T00:00:00\",\"2013-01-01T00:00:00\",\"2014-01-01T00:00:00\",\"2015-01-01T00:00:00\"],\"xaxis\":\"x\",\"y\":[3,1,1,1],\"yaxis\":\"y\",\"type\":\"scatter\"},{\"hovertemplate\":\"genre=Sports<br>platform=PS4<br>year_of_release=%{x}<br>nunique=%{y}<extra></extra>\",\"legendgroup\":\"Sports\",\"line\":{\"color\":\"#FFA15A\"},\"marker\":{\"symbol\":\"circle\"},\"mode\":\"lines\",\"name\":\"Sports\",\"orientation\":\"v\",\"showlegend\":false,\"stackgroup\":\"1\",\"x\":[\"2013-01-01T00:00:00\",\"2014-01-01T00:00:00\",\"2015-01-01T00:00:00\",\"2016-01-01T00:00:00\"],\"xaxis\":\"x\",\"y\":[4,11,13,11],\"yaxis\":\"y\",\"type\":\"scatter\"},{\"hovertemplate\":\"genre=Sports<br>platform=XOne<br>year_of_release=%{x}<br>nunique=%{y}<extra></extra>\",\"legendgroup\":\"Sports\",\"line\":{\"color\":\"#FFA15A\"},\"marker\":{\"symbol\":\"circle\"},\"mode\":\"lines\",\"name\":\"Sports\",\"orientation\":\"v\",\"showlegend\":false,\"stackgroup\":\"1\",\"x\":[\"2013-01-01T00:00:00\",\"2014-01-01T00:00:00\",\"2015-01-01T00:00:00\",\"2016-01-01T00:00:00\"],\"xaxis\":\"x\",\"y\":[4,10,9,8],\"yaxis\":\"y\",\"type\":\"scatter\"},{\"hovertemplate\":\"genre=Misc<br>platform=PC<br>year_of_release=%{x}<br>nunique=%{y}<extra></extra>\",\"legendgroup\":\"Misc\",\"line\":{\"color\":\"#19d3f3\"},\"marker\":{\"symbol\":\"circle\"},\"mode\":\"lines\",\"name\":\"Misc\",\"orientation\":\"v\",\"showlegend\":true,\"stackgroup\":\"1\",\"x\":[\"2000-01-01T00:00:00\",\"2006-01-01T00:00:00\",\"2007-01-01T00:00:00\"],\"xaxis\":\"x\",\"y\":[1,1,1],\"yaxis\":\"y\",\"type\":\"scatter\"},{\"hovertemplate\":\"genre=Misc<br>platform=PS<br>year_of_release=%{x}<br>nunique=%{y}<extra></extra>\",\"legendgroup\":\"Misc\",\"line\":{\"color\":\"#19d3f3\"},\"marker\":{\"symbol\":\"circle\"},\"mode\":\"lines\",\"name\":\"Misc\",\"orientation\":\"v\",\"showlegend\":false,\"stackgroup\":\"1\",\"x\":[\"2000-01-01T00:00:00\",\"2001-01-01T00:00:00\"],\"xaxis\":\"x\",\"y\":[2,1],\"yaxis\":\"y\",\"type\":\"scatter\"},{\"hovertemplate\":\"genre=Misc<br>platform=PS2<br>year_of_release=%{x}<br>nunique=%{y}<extra></extra>\",\"legendgroup\":\"Misc\",\"line\":{\"color\":\"#19d3f3\"},\"marker\":{\"symbol\":\"circle\"},\"mode\":\"lines\",\"name\":\"Misc\",\"orientation\":\"v\",\"showlegend\":false,\"stackgroup\":\"1\",\"x\":[\"2001-01-01T00:00:00\",\"2002-01-01T00:00:00\",\"2003-01-01T00:00:00\",\"2004-01-01T00:00:00\",\"2005-01-01T00:00:00\",\"2006-01-01T00:00:00\",\"2007-01-01T00:00:00\",\"2008-01-01T00:00:00\",\"2009-01-01T00:00:00\"],\"xaxis\":\"x\",\"y\":[6,6,14,13,17,6,7,5,4],\"yaxis\":\"y\",\"type\":\"scatter\"},{\"hovertemplate\":\"genre=Misc<br>platform=XB<br>year_of_release=%{x}<br>nunique=%{y}<extra></extra>\",\"legendgroup\":\"Misc\",\"line\":{\"color\":\"#19d3f3\"},\"marker\":{\"symbol\":\"circle\"},\"mode\":\"lines\",\"name\":\"Misc\",\"orientation\":\"v\",\"showlegend\":false,\"stackgroup\":\"1\",\"x\":[\"2001-01-01T00:00:00\",\"2002-01-01T00:00:00\",\"2003-01-01T00:00:00\",\"2004-01-01T00:00:00\",\"2005-01-01T00:00:00\",\"2006-01-01T00:00:00\"],\"xaxis\":\"x\",\"y\":[1,3,3,10,12,1],\"yaxis\":\"y\",\"type\":\"scatter\"},{\"hovertemplate\":\"genre=Misc<br>platform=GBA<br>year_of_release=%{x}<br>nunique=%{y}<extra></extra>\",\"legendgroup\":\"Misc\",\"line\":{\"color\":\"#19d3f3\"},\"marker\":{\"symbol\":\"circle\"},\"mode\":\"lines\",\"name\":\"Misc\",\"orientation\":\"v\",\"showlegend\":false,\"stackgroup\":\"1\",\"x\":[\"2001-01-01T00:00:00\",\"2002-01-01T00:00:00\",\"2003-01-01T00:00:00\",\"2004-01-01T00:00:00\",\"2005-01-01T00:00:00\"],\"xaxis\":\"x\",\"y\":[2,10,6,5,3],\"yaxis\":\"y\",\"type\":\"scatter\"},{\"hovertemplate\":\"genre=Misc<br>platform=GC<br>year_of_release=%{x}<br>nunique=%{y}<extra></extra>\",\"legendgroup\":\"Misc\",\"line\":{\"color\":\"#19d3f3\"},\"marker\":{\"symbol\":\"circle\"},\"mode\":\"lines\",\"name\":\"Misc\",\"orientation\":\"v\",\"showlegend\":false,\"stackgroup\":\"1\",\"x\":[\"2001-01-01T00:00:00\",\"2002-01-01T00:00:00\",\"2003-01-01T00:00:00\",\"2004-01-01T00:00:00\",\"2005-01-01T00:00:00\",\"2006-01-01T00:00:00\"],\"xaxis\":\"x\",\"y\":[1,6,4,4,6,2],\"yaxis\":\"y\",\"type\":\"scatter\"},{\"hovertemplate\":\"genre=Misc<br>platform=DS<br>year_of_release=%{x}<br>nunique=%{y}<extra></extra>\",\"legendgroup\":\"Misc\",\"line\":{\"color\":\"#19d3f3\"},\"marker\":{\"symbol\":\"circle\"},\"mode\":\"lines\",\"name\":\"Misc\",\"orientation\":\"v\",\"showlegend\":false,\"stackgroup\":\"1\",\"x\":[\"2004-01-01T00:00:00\",\"2005-01-01T00:00:00\",\"2006-01-01T00:00:00\",\"2007-01-01T00:00:00\",\"2008-01-01T00:00:00\",\"2009-01-01T00:00:00\",\"2010-01-01T00:00:00\",\"2011-01-01T00:00:00\"],\"xaxis\":\"x\",\"y\":[1,7,6,15,17,9,4,1],\"yaxis\":\"y\",\"type\":\"scatter\"},{\"hovertemplate\":\"genre=Misc<br>platform=PSP<br>year_of_release=%{x}<br>nunique=%{y}<extra></extra>\",\"legendgroup\":\"Misc\",\"line\":{\"color\":\"#19d3f3\"},\"marker\":{\"symbol\":\"circle\"},\"mode\":\"lines\",\"name\":\"Misc\",\"orientation\":\"v\",\"showlegend\":false,\"stackgroup\":\"1\",\"x\":[\"2004-01-01T00:00:00\",\"2005-01-01T00:00:00\",\"2006-01-01T00:00:00\",\"2007-01-01T00:00:00\",\"2008-01-01T00:00:00\",\"2009-01-01T00:00:00\",\"2010-01-01T00:00:00\",\"2011-01-01T00:00:00\"],\"xaxis\":\"x\",\"y\":[1,5,9,5,4,3,1,1],\"yaxis\":\"y\",\"type\":\"scatter\"},{\"hovertemplate\":\"genre=Misc<br>platform=X360<br>year_of_release=%{x}<br>nunique=%{y}<extra></extra>\",\"legendgroup\":\"Misc\",\"line\":{\"color\":\"#19d3f3\"},\"marker\":{\"symbol\":\"circle\"},\"mode\":\"lines\",\"name\":\"Misc\",\"orientation\":\"v\",\"showlegend\":false,\"stackgroup\":\"1\",\"x\":[\"2007-01-01T00:00:00\",\"2008-01-01T00:00:00\",\"2009-01-01T00:00:00\",\"2010-01-01T00:00:00\",\"2011-01-01T00:00:00\",\"2012-01-01T00:00:00\",\"2013-01-01T00:00:00\"],\"xaxis\":\"x\",\"y\":[7,13,16,15,14,4,1],\"yaxis\":\"y\",\"type\":\"scatter\"},{\"hovertemplate\":\"genre=Misc<br>platform=PS3<br>year_of_release=%{x}<br>nunique=%{y}<extra></extra>\",\"legendgroup\":\"Misc\",\"line\":{\"color\":\"#19d3f3\"},\"marker\":{\"symbol\":\"circle\"},\"mode\":\"lines\",\"name\":\"Misc\",\"orientation\":\"v\",\"showlegend\":false,\"stackgroup\":\"1\",\"x\":[\"2007-01-01T00:00:00\",\"2008-01-01T00:00:00\",\"2009-01-01T00:00:00\",\"2010-01-01T00:00:00\",\"2011-01-01T00:00:00\",\"2012-01-01T00:00:00\",\"2013-01-01T00:00:00\",\"2014-01-01T00:00:00\"],\"xaxis\":\"x\",\"y\":[4,9,12,10,9,1,2,1],\"yaxis\":\"y\",\"type\":\"scatter\"},{\"hovertemplate\":\"genre=Misc<br>platform=Wii<br>year_of_release=%{x}<br>nunique=%{y}<extra></extra>\",\"legendgroup\":\"Misc\",\"line\":{\"color\":\"#19d3f3\"},\"marker\":{\"symbol\":\"circle\"},\"mode\":\"lines\",\"name\":\"Misc\",\"orientation\":\"v\",\"showlegend\":false,\"stackgroup\":\"1\",\"x\":[\"2006-01-01T00:00:00\",\"2007-01-01T00:00:00\",\"2008-01-01T00:00:00\",\"2009-01-01T00:00:00\",\"2010-01-01T00:00:00\",\"2011-01-01T00:00:00\",\"2012-01-01T00:00:00\"],\"xaxis\":\"x\",\"y\":[3,18,16,20,15,8,2],\"yaxis\":\"y\",\"type\":\"scatter\"},{\"hovertemplate\":\"genre=Misc<br>platform=3DS<br>year_of_release=%{x}<br>nunique=%{y}<extra></extra>\",\"legendgroup\":\"Misc\",\"line\":{\"color\":\"#19d3f3\"},\"marker\":{\"symbol\":\"circle\"},\"mode\":\"lines\",\"name\":\"Misc\",\"orientation\":\"v\",\"showlegend\":false,\"stackgroup\":\"1\",\"x\":[\"2011-01-01T00:00:00\",\"2012-01-01T00:00:00\",\"2013-01-01T00:00:00\",\"2014-01-01T00:00:00\",\"2015-01-01T00:00:00\",\"2016-01-01T00:00:00\"],\"xaxis\":\"x\",\"y\":[4,1,1,2,1,1],\"yaxis\":\"y\",\"type\":\"scatter\"},{\"hovertemplate\":\"genre=Misc<br>platform=PSV<br>year_of_release=%{x}<br>nunique=%{y}<extra></extra>\",\"legendgroup\":\"Misc\",\"line\":{\"color\":\"#19d3f3\"},\"marker\":{\"symbol\":\"circle\"},\"mode\":\"lines\",\"name\":\"Misc\",\"orientation\":\"v\",\"showlegend\":false,\"stackgroup\":\"1\",\"x\":[\"2011-01-01T00:00:00\",\"2012-01-01T00:00:00\",\"2013-01-01T00:00:00\",\"2014-01-01T00:00:00\",\"2015-01-01T00:00:00\",\"2016-01-01T00:00:00\"],\"xaxis\":\"x\",\"y\":[1,2,1,2,1,1],\"yaxis\":\"y\",\"type\":\"scatter\"},{\"hovertemplate\":\"genre=Misc<br>platform=WiiU<br>year_of_release=%{x}<br>nunique=%{y}<extra></extra>\",\"legendgroup\":\"Misc\",\"line\":{\"color\":\"#19d3f3\"},\"marker\":{\"symbol\":\"circle\"},\"mode\":\"lines\",\"name\":\"Misc\",\"orientation\":\"v\",\"showlegend\":false,\"stackgroup\":\"1\",\"x\":[\"2012-01-01T00:00:00\",\"2013-01-01T00:00:00\",\"2014-01-01T00:00:00\",\"2015-01-01T00:00:00\"],\"xaxis\":\"x\",\"y\":[4,2,1,5],\"yaxis\":\"y\",\"type\":\"scatter\"},{\"hovertemplate\":\"genre=Misc<br>platform=PS4<br>year_of_release=%{x}<br>nunique=%{y}<extra></extra>\",\"legendgroup\":\"Misc\",\"line\":{\"color\":\"#19d3f3\"},\"marker\":{\"symbol\":\"circle\"},\"mode\":\"lines\",\"name\":\"Misc\",\"orientation\":\"v\",\"showlegend\":false,\"stackgroup\":\"1\",\"x\":[\"2013-01-01T00:00:00\",\"2014-01-01T00:00:00\",\"2015-01-01T00:00:00\",\"2016-01-01T00:00:00\"],\"xaxis\":\"x\",\"y\":[1,1,3,3],\"yaxis\":\"y\",\"type\":\"scatter\"},{\"hovertemplate\":\"genre=Misc<br>platform=XOne<br>year_of_release=%{x}<br>nunique=%{y}<extra></extra>\",\"legendgroup\":\"Misc\",\"line\":{\"color\":\"#19d3f3\"},\"marker\":{\"symbol\":\"circle\"},\"mode\":\"lines\",\"name\":\"Misc\",\"orientation\":\"v\",\"showlegend\":false,\"stackgroup\":\"1\",\"x\":[\"2013-01-01T00:00:00\",\"2014-01-01T00:00:00\",\"2015-01-01T00:00:00\",\"2016-01-01T00:00:00\"],\"xaxis\":\"x\",\"y\":[2,5,4,1],\"yaxis\":\"y\",\"type\":\"scatter\"},{\"hovertemplate\":\"genre=Simulation<br>platform=PC<br>year_of_release=%{x}<br>nunique=%{y}<extra></extra>\",\"legendgroup\":\"Simulation\",\"line\":{\"color\":\"#FF6692\"},\"marker\":{\"symbol\":\"circle\"},\"mode\":\"lines\",\"name\":\"Simulation\",\"orientation\":\"v\",\"showlegend\":true,\"stackgroup\":\"1\",\"x\":[\"2000-01-01T00:00:00\",\"2001-01-01T00:00:00\",\"2002-01-01T00:00:00\",\"2003-01-01T00:00:00\",\"2004-01-01T00:00:00\",\"2005-01-01T00:00:00\",\"2006-01-01T00:00:00\",\"2007-01-01T00:00:00\",\"2008-01-01T00:00:00\",\"2009-01-01T00:00:00\",\"2010-01-01T00:00:00\",\"2011-01-01T00:00:00\",\"2012-01-01T00:00:00\",\"2013-01-01T00:00:00\",\"2014-01-01T00:00:00\",\"2015-01-01T00:00:00\",\"2016-01-01T00:00:00\"],\"xaxis\":\"x\",\"y\":[1,4,4,8,1,6,8,8,4,4,7,8,2,2,2,3,4],\"yaxis\":\"y\",\"type\":\"scatter\"},{\"hovertemplate\":\"genre=Simulation<br>platform=PS<br>year_of_release=%{x}<br>nunique=%{y}<extra></extra>\",\"legendgroup\":\"Simulation\",\"line\":{\"color\":\"#FF6692\"},\"marker\":{\"symbol\":\"circle\"},\"mode\":\"lines\",\"name\":\"Simulation\",\"orientation\":\"v\",\"showlegend\":false,\"stackgroup\":\"1\",\"x\":[\"2000-01-01T00:00:00\"],\"xaxis\":\"x\",\"y\":[2],\"yaxis\":\"y\",\"type\":\"scatter\"},{\"hovertemplate\":\"genre=Simulation<br>platform=PS2<br>year_of_release=%{x}<br>nunique=%{y}<extra></extra>\",\"legendgroup\":\"Simulation\",\"line\":{\"color\":\"#FF6692\"},\"marker\":{\"symbol\":\"circle\"},\"mode\":\"lines\",\"name\":\"Simulation\",\"orientation\":\"v\",\"showlegend\":false,\"stackgroup\":\"1\",\"x\":[\"2000-01-01T00:00:00\",\"2001-01-01T00:00:00\",\"2002-01-01T00:00:00\",\"2003-01-01T00:00:00\",\"2004-01-01T00:00:00\",\"2005-01-01T00:00:00\",\"2006-01-01T00:00:00\",\"2007-01-01T00:00:00\",\"2008-01-01T00:00:00\"],\"xaxis\":\"x\",\"y\":[4,10,5,10,8,6,6,2,2],\"yaxis\":\"y\",\"type\":\"scatter\"},{\"hovertemplate\":\"genre=Simulation<br>platform=XB<br>year_of_release=%{x}<br>nunique=%{y}<extra></extra>\",\"legendgroup\":\"Simulation\",\"line\":{\"color\":\"#FF6692\"},\"marker\":{\"symbol\":\"circle\"},\"mode\":\"lines\",\"name\":\"Simulation\",\"orientation\":\"v\",\"showlegend\":false,\"stackgroup\":\"1\",\"x\":[\"2001-01-01T00:00:00\",\"2002-01-01T00:00:00\",\"2003-01-01T00:00:00\",\"2004-01-01T00:00:00\",\"2005-01-01T00:00:00\",\"2006-01-01T00:00:00\"],\"xaxis\":\"x\",\"y\":[1,4,6,7,4,1],\"yaxis\":\"y\",\"type\":\"scatter\"},{\"hovertemplate\":\"genre=Simulation<br>platform=GBA<br>year_of_release=%{x}<br>nunique=%{y}<extra></extra>\",\"legendgroup\":\"Simulation\",\"line\":{\"color\":\"#FF6692\"},\"marker\":{\"symbol\":\"circle\"},\"mode\":\"lines\",\"name\":\"Simulation\",\"orientation\":\"v\",\"showlegend\":false,\"stackgroup\":\"1\",\"x\":[\"2001-01-01T00:00:00\",\"2002-01-01T00:00:00\",\"2003-01-01T00:00:00\",\"2004-01-01T00:00:00\",\"2005-01-01T00:00:00\"],\"xaxis\":\"x\",\"y\":[1,2,4,1,1],\"yaxis\":\"y\",\"type\":\"scatter\"},{\"hovertemplate\":\"genre=Simulation<br>platform=GC<br>year_of_release=%{x}<br>nunique=%{y}<extra></extra>\",\"legendgroup\":\"Simulation\",\"line\":{\"color\":\"#FF6692\"},\"marker\":{\"symbol\":\"circle\"},\"mode\":\"lines\",\"name\":\"Simulation\",\"orientation\":\"v\",\"showlegend\":false,\"stackgroup\":\"1\",\"x\":[\"2001-01-01T00:00:00\",\"2002-01-01T00:00:00\",\"2003-01-01T00:00:00\",\"2004-01-01T00:00:00\",\"2005-01-01T00:00:00\",\"2006-01-01T00:00:00\"],\"xaxis\":\"x\",\"y\":[2,1,3,1,2,1],\"yaxis\":\"y\",\"type\":\"scatter\"},{\"hovertemplate\":\"genre=Simulation<br>platform=DS<br>year_of_release=%{x}<br>nunique=%{y}<extra></extra>\",\"legendgroup\":\"Simulation\",\"line\":{\"color\":\"#FF6692\"},\"marker\":{\"symbol\":\"circle\"},\"mode\":\"lines\",\"name\":\"Simulation\",\"orientation\":\"v\",\"showlegend\":false,\"stackgroup\":\"1\",\"x\":[\"2005-01-01T00:00:00\",\"2006-01-01T00:00:00\",\"2007-01-01T00:00:00\",\"2008-01-01T00:00:00\",\"2009-01-01T00:00:00\",\"2010-01-01T00:00:00\",\"2011-01-01T00:00:00\"],\"xaxis\":\"x\",\"y\":[5,6,21,12,6,3,1],\"yaxis\":\"y\",\"type\":\"scatter\"},{\"hovertemplate\":\"genre=Simulation<br>platform=PSP<br>year_of_release=%{x}<br>nunique=%{y}<extra></extra>\",\"legendgroup\":\"Simulation\",\"line\":{\"color\":\"#FF6692\"},\"marker\":{\"symbol\":\"circle\"},\"mode\":\"lines\",\"name\":\"Simulation\",\"orientation\":\"v\",\"showlegend\":false,\"stackgroup\":\"1\",\"x\":[\"2005-01-01T00:00:00\",\"2006-01-01T00:00:00\",\"2007-01-01T00:00:00\",\"2009-01-01T00:00:00\",\"2010-01-01T00:00:00\"],\"xaxis\":\"x\",\"y\":[1,3,2,3,2],\"yaxis\":\"y\",\"type\":\"scatter\"},{\"hovertemplate\":\"genre=Simulation<br>platform=X360<br>year_of_release=%{x}<br>nunique=%{y}<extra></extra>\",\"legendgroup\":\"Simulation\",\"line\":{\"color\":\"#FF6692\"},\"marker\":{\"symbol\":\"circle\"},\"mode\":\"lines\",\"name\":\"Simulation\",\"orientation\":\"v\",\"showlegend\":false,\"stackgroup\":\"1\",\"x\":[\"2006-01-01T00:00:00\",\"2007-01-01T00:00:00\",\"2008-01-01T00:00:00\",\"2009-01-01T00:00:00\",\"2010-01-01T00:00:00\",\"2011-01-01T00:00:00\",\"2012-01-01T00:00:00\",\"2013-01-01T00:00:00\",\"2014-01-01T00:00:00\"],\"xaxis\":\"x\",\"y\":[4,5,3,2,5,4,4,1,1],\"yaxis\":\"y\",\"type\":\"scatter\"},{\"hovertemplate\":\"genre=Simulation<br>platform=PS3<br>year_of_release=%{x}<br>nunique=%{y}<extra></extra>\",\"legendgroup\":\"Simulation\",\"line\":{\"color\":\"#FF6692\"},\"marker\":{\"symbol\":\"circle\"},\"mode\":\"lines\",\"name\":\"Simulation\",\"orientation\":\"v\",\"showlegend\":false,\"stackgroup\":\"1\",\"x\":[\"2006-01-01T00:00:00\",\"2007-01-01T00:00:00\",\"2008-01-01T00:00:00\",\"2009-01-01T00:00:00\",\"2010-01-01T00:00:00\",\"2011-01-01T00:00:00\",\"2012-01-01T00:00:00\",\"2013-01-01T00:00:00\"],\"xaxis\":\"x\",\"y\":[3,2,1,3,3,3,3,2],\"yaxis\":\"y\",\"type\":\"scatter\"},{\"hovertemplate\":\"genre=Simulation<br>platform=Wii<br>year_of_release=%{x}<br>nunique=%{y}<extra></extra>\",\"legendgroup\":\"Simulation\",\"line\":{\"color\":\"#FF6692\"},\"marker\":{\"symbol\":\"circle\"},\"mode\":\"lines\",\"name\":\"Simulation\",\"orientation\":\"v\",\"showlegend\":false,\"stackgroup\":\"1\",\"x\":[\"2006-01-01T00:00:00\",\"2007-01-01T00:00:00\",\"2008-01-01T00:00:00\",\"2009-01-01T00:00:00\"],\"xaxis\":\"x\",\"y\":[2,8,14,9],\"yaxis\":\"y\",\"type\":\"scatter\"},{\"hovertemplate\":\"genre=Simulation<br>platform=3DS<br>year_of_release=%{x}<br>nunique=%{y}<extra></extra>\",\"legendgroup\":\"Simulation\",\"line\":{\"color\":\"#FF6692\"},\"marker\":{\"symbol\":\"circle\"},\"mode\":\"lines\",\"name\":\"Simulation\",\"orientation\":\"v\",\"showlegend\":false,\"stackgroup\":\"1\",\"x\":[\"2011-01-01T00:00:00\",\"2012-01-01T00:00:00\",\"2014-01-01T00:00:00\",\"2015-01-01T00:00:00\"],\"xaxis\":\"x\",\"y\":[4,2,2,2],\"yaxis\":\"y\",\"type\":\"scatter\"},{\"hovertemplate\":\"genre=Simulation<br>platform=WiiU<br>year_of_release=%{x}<br>nunique=%{y}<extra></extra>\",\"legendgroup\":\"Simulation\",\"line\":{\"color\":\"#FF6692\"},\"marker\":{\"symbol\":\"circle\"},\"mode\":\"lines\",\"name\":\"Simulation\",\"orientation\":\"v\",\"showlegend\":false,\"stackgroup\":\"1\",\"x\":[\"2013-01-01T00:00:00\"],\"xaxis\":\"x\",\"y\":[1],\"yaxis\":\"y\",\"type\":\"scatter\"},{\"hovertemplate\":\"genre=Simulation<br>platform=PS4<br>year_of_release=%{x}<br>nunique=%{y}<extra></extra>\",\"legendgroup\":\"Simulation\",\"line\":{\"color\":\"#FF6692\"},\"marker\":{\"symbol\":\"circle\"},\"mode\":\"lines\",\"name\":\"Simulation\",\"orientation\":\"v\",\"showlegend\":false,\"stackgroup\":\"1\",\"x\":[\"2015-01-01T00:00:00\",\"2016-01-01T00:00:00\"],\"xaxis\":\"x\",\"y\":[1,1],\"yaxis\":\"y\",\"type\":\"scatter\"},{\"hovertemplate\":\"genre=Simulation<br>platform=XOne<br>year_of_release=%{x}<br>nunique=%{y}<extra></extra>\",\"legendgroup\":\"Simulation\",\"line\":{\"color\":\"#FF6692\"},\"marker\":{\"symbol\":\"circle\"},\"mode\":\"lines\",\"name\":\"Simulation\",\"orientation\":\"v\",\"showlegend\":false,\"stackgroup\":\"1\",\"x\":[\"2016-01-01T00:00:00\"],\"xaxis\":\"x\",\"y\":[2],\"yaxis\":\"y\",\"type\":\"scatter\"},{\"hovertemplate\":\"genre=Action<br>platform=PC<br>year_of_release=%{x}<br>nunique=%{y}<extra></extra>\",\"legendgroup\":\"Action\",\"line\":{\"color\":\"#B6E880\"},\"marker\":{\"symbol\":\"circle\"},\"mode\":\"lines\",\"name\":\"Action\",\"orientation\":\"v\",\"showlegend\":true,\"stackgroup\":\"1\",\"x\":[\"2001-01-01T00:00:00\",\"2002-01-01T00:00:00\",\"2003-01-01T00:00:00\",\"2004-01-01T00:00:00\",\"2005-01-01T00:00:00\",\"2006-01-01T00:00:00\",\"2007-01-01T00:00:00\",\"2008-01-01T00:00:00\",\"2009-01-01T00:00:00\",\"2010-01-01T00:00:00\",\"2011-01-01T00:00:00\",\"2012-01-01T00:00:00\",\"2013-01-01T00:00:00\",\"2014-01-01T00:00:00\",\"2015-01-01T00:00:00\",\"2016-01-01T00:00:00\"],\"xaxis\":\"x\",\"y\":[1,4,2,1,2,5,4,14,16,15,17,12,10,10,12,6],\"yaxis\":\"y\",\"type\":\"scatter\"},{\"hovertemplate\":\"genre=Action<br>platform=PS<br>year_of_release=%{x}<br>nunique=%{y}<extra></extra>\",\"legendgroup\":\"Action\",\"line\":{\"color\":\"#B6E880\"},\"marker\":{\"symbol\":\"circle\"},\"mode\":\"lines\",\"name\":\"Action\",\"orientation\":\"v\",\"showlegend\":false,\"stackgroup\":\"1\",\"x\":[\"2000-01-01T00:00:00\",\"2001-01-01T00:00:00\"],\"xaxis\":\"x\",\"y\":[13,7],\"yaxis\":\"y\",\"type\":\"scatter\"},{\"hovertemplate\":\"genre=Action<br>platform=PS2<br>year_of_release=%{x}<br>nunique=%{y}<extra></extra>\",\"legendgroup\":\"Action\",\"line\":{\"color\":\"#B6E880\"},\"marker\":{\"symbol\":\"circle\"},\"mode\":\"lines\",\"name\":\"Action\",\"orientation\":\"v\",\"showlegend\":false,\"stackgroup\":\"1\",\"x\":[\"2000-01-01T00:00:00\",\"2001-01-01T00:00:00\",\"2002-01-01T00:00:00\",\"2003-01-01T00:00:00\",\"2004-01-01T00:00:00\",\"2005-01-01T00:00:00\",\"2006-01-01T00:00:00\",\"2007-01-01T00:00:00\",\"2008-01-01T00:00:00\",\"2009-01-01T00:00:00\",\"2010-01-01T00:00:00\"],\"xaxis\":\"x\",\"y\":[4,18,30,38,39,55,27,17,14,6,1],\"yaxis\":\"y\",\"type\":\"scatter\"},{\"hovertemplate\":\"genre=Action<br>platform=XB<br>year_of_release=%{x}<br>nunique=%{y}<extra></extra>\",\"legendgroup\":\"Action\",\"line\":{\"color\":\"#B6E880\"},\"marker\":{\"symbol\":\"circle\"},\"mode\":\"lines\",\"name\":\"Action\",\"orientation\":\"v\",\"showlegend\":false,\"stackgroup\":\"1\",\"x\":[\"2001-01-01T00:00:00\",\"2002-01-01T00:00:00\",\"2003-01-01T00:00:00\",\"2004-01-01T00:00:00\",\"2005-01-01T00:00:00\",\"2006-01-01T00:00:00\",\"2007-01-01T00:00:00\"],\"xaxis\":\"x\",\"y\":[4,25,30,27,41,9,1],\"yaxis\":\"y\",\"type\":\"scatter\"},{\"hovertemplate\":\"genre=Action<br>platform=GBA<br>year_of_release=%{x}<br>nunique=%{y}<extra></extra>\",\"legendgroup\":\"Action\",\"line\":{\"color\":\"#B6E880\"},\"marker\":{\"symbol\":\"circle\"},\"mode\":\"lines\",\"name\":\"Action\",\"orientation\":\"v\",\"showlegend\":false,\"stackgroup\":\"1\",\"x\":[\"2001-01-01T00:00:00\",\"2002-01-01T00:00:00\",\"2003-01-01T00:00:00\",\"2004-01-01T00:00:00\",\"2005-01-01T00:00:00\",\"2006-01-01T00:00:00\",\"2007-01-01T00:00:00\"],\"xaxis\":\"x\",\"y\":[9,32,18,25,11,5,1],\"yaxis\":\"y\",\"type\":\"scatter\"},{\"hovertemplate\":\"genre=Action<br>platform=GC<br>year_of_release=%{x}<br>nunique=%{y}<extra></extra>\",\"legendgroup\":\"Action\",\"line\":{\"color\":\"#B6E880\"},\"marker\":{\"symbol\":\"circle\"},\"mode\":\"lines\",\"name\":\"Action\",\"orientation\":\"v\",\"showlegend\":false,\"stackgroup\":\"1\",\"x\":[\"2001-01-01T00:00:00\",\"2002-01-01T00:00:00\",\"2003-01-01T00:00:00\",\"2004-01-01T00:00:00\",\"2005-01-01T00:00:00\",\"2006-01-01T00:00:00\",\"2007-01-01T00:00:00\"],\"xaxis\":\"x\",\"y\":[1,12,25,16,21,8,2],\"yaxis\":\"y\",\"type\":\"scatter\"},{\"hovertemplate\":\"genre=Action<br>platform=DS<br>year_of_release=%{x}<br>nunique=%{y}<extra></extra>\",\"legendgroup\":\"Action\",\"line\":{\"color\":\"#B6E880\"},\"marker\":{\"symbol\":\"circle\"},\"mode\":\"lines\",\"name\":\"Action\",\"orientation\":\"v\",\"showlegend\":false,\"stackgroup\":\"1\",\"x\":[\"2004-01-01T00:00:00\",\"2005-01-01T00:00:00\",\"2006-01-01T00:00:00\",\"2007-01-01T00:00:00\",\"2008-01-01T00:00:00\",\"2009-01-01T00:00:00\",\"2010-01-01T00:00:00\",\"2011-01-01T00:00:00\"],\"xaxis\":\"x\",\"y\":[1,11,20,26,31,23,14,9],\"yaxis\":\"y\",\"type\":\"scatter\"},{\"hovertemplate\":\"genre=Action<br>platform=PSP<br>year_of_release=%{x}<br>nunique=%{y}<extra></extra>\",\"legendgroup\":\"Action\",\"line\":{\"color\":\"#B6E880\"},\"marker\":{\"symbol\":\"circle\"},\"mode\":\"lines\",\"name\":\"Action\",\"orientation\":\"v\",\"showlegend\":false,\"stackgroup\":\"1\",\"x\":[\"2004-01-01T00:00:00\",\"2005-01-01T00:00:00\",\"2006-01-01T00:00:00\",\"2007-01-01T00:00:00\",\"2008-01-01T00:00:00\",\"2009-01-01T00:00:00\",\"2010-01-01T00:00:00\",\"2011-01-01T00:00:00\"],\"xaxis\":\"x\",\"y\":[1,7,21,25,9,10,11,3],\"yaxis\":\"y\",\"type\":\"scatter\"},{\"hovertemplate\":\"genre=Action<br>platform=X360<br>year_of_release=%{x}<br>nunique=%{y}<extra></extra>\",\"legendgroup\":\"Action\",\"line\":{\"color\":\"#B6E880\"},\"marker\":{\"symbol\":\"circle\"},\"mode\":\"lines\",\"name\":\"Action\",\"orientation\":\"v\",\"showlegend\":false,\"stackgroup\":\"1\",\"x\":[\"2005-01-01T00:00:00\",\"2006-01-01T00:00:00\",\"2007-01-01T00:00:00\",\"2008-01-01T00:00:00\",\"2009-01-01T00:00:00\",\"2010-01-01T00:00:00\",\"2011-01-01T00:00:00\",\"2012-01-01T00:00:00\",\"2013-01-01T00:00:00\",\"2014-01-01T00:00:00\"],\"xaxis\":\"x\",\"y\":[4,16,25,32,36,34,33,33,19,7],\"yaxis\":\"y\",\"type\":\"scatter\"},{\"hovertemplate\":\"genre=Action<br>platform=PS3<br>year_of_release=%{x}<br>nunique=%{y}<extra></extra>\",\"legendgroup\":\"Action\",\"line\":{\"color\":\"#B6E880\"},\"marker\":{\"symbol\":\"circle\"},\"mode\":\"lines\",\"name\":\"Action\",\"orientation\":\"v\",\"showlegend\":false,\"stackgroup\":\"1\",\"x\":[\"2006-01-01T00:00:00\",\"2007-01-01T00:00:00\",\"2008-01-01T00:00:00\",\"2009-01-01T00:00:00\",\"2010-01-01T00:00:00\",\"2011-01-01T00:00:00\",\"2012-01-01T00:00:00\",\"2013-01-01T00:00:00\",\"2014-01-01T00:00:00\"],\"xaxis\":\"x\",\"y\":[1,19,30,36,36,41,36,26,8],\"yaxis\":\"y\",\"type\":\"scatter\"},{\"hovertemplate\":\"genre=Action<br>platform=Wii<br>year_of_release=%{x}<br>nunique=%{y}<extra></extra>\",\"legendgroup\":\"Action\",\"line\":{\"color\":\"#B6E880\"},\"marker\":{\"symbol\":\"circle\"},\"mode\":\"lines\",\"name\":\"Action\",\"orientation\":\"v\",\"showlegend\":false,\"stackgroup\":\"1\",\"x\":[\"2006-01-01T00:00:00\",\"2007-01-01T00:00:00\",\"2008-01-01T00:00:00\",\"2009-01-01T00:00:00\",\"2010-01-01T00:00:00\",\"2011-01-01T00:00:00\",\"2012-01-01T00:00:00\"],\"xaxis\":\"x\",\"y\":[7,29,28,36,22,16,3],\"yaxis\":\"y\",\"type\":\"scatter\"},{\"hovertemplate\":\"genre=Action<br>platform=3DS<br>year_of_release=%{x}<br>nunique=%{y}<extra></extra>\",\"legendgroup\":\"Action\",\"line\":{\"color\":\"#B6E880\"},\"marker\":{\"symbol\":\"circle\"},\"mode\":\"lines\",\"name\":\"Action\",\"orientation\":\"v\",\"showlegend\":false,\"stackgroup\":\"1\",\"x\":[\"2011-01-01T00:00:00\",\"2012-01-01T00:00:00\",\"2013-01-01T00:00:00\",\"2014-01-01T00:00:00\",\"2015-01-01T00:00:00\",\"2016-01-01T00:00:00\"],\"xaxis\":\"x\",\"y\":[17,13,8,8,5,6],\"yaxis\":\"y\",\"type\":\"scatter\"},{\"hovertemplate\":\"genre=Action<br>platform=PSV<br>year_of_release=%{x}<br>nunique=%{y}<extra></extra>\",\"legendgroup\":\"Action\",\"line\":{\"color\":\"#B6E880\"},\"marker\":{\"symbol\":\"circle\"},\"mode\":\"lines\",\"name\":\"Action\",\"orientation\":\"v\",\"showlegend\":false,\"stackgroup\":\"1\",\"x\":[\"2011-01-01T00:00:00\",\"2012-01-01T00:00:00\",\"2013-01-01T00:00:00\",\"2014-01-01T00:00:00\",\"2015-01-01T00:00:00\",\"2016-01-01T00:00:00\"],\"xaxis\":\"x\",\"y\":[3,13,4,10,7,1],\"yaxis\":\"y\",\"type\":\"scatter\"},{\"hovertemplate\":\"genre=Action<br>platform=WiiU<br>year_of_release=%{x}<br>nunique=%{y}<extra></extra>\",\"legendgroup\":\"Action\",\"line\":{\"color\":\"#B6E880\"},\"marker\":{\"symbol\":\"circle\"},\"mode\":\"lines\",\"name\":\"Action\",\"orientation\":\"v\",\"showlegend\":false,\"stackgroup\":\"1\",\"x\":[\"2012-01-01T00:00:00\",\"2013-01-01T00:00:00\",\"2014-01-01T00:00:00\",\"2015-01-01T00:00:00\",\"2016-01-01T00:00:00\"],\"xaxis\":\"x\",\"y\":[11,9,9,6,4],\"yaxis\":\"y\",\"type\":\"scatter\"},{\"hovertemplate\":\"genre=Action<br>platform=PS4<br>year_of_release=%{x}<br>nunique=%{y}<extra></extra>\",\"legendgroup\":\"Action\",\"line\":{\"color\":\"#B6E880\"},\"marker\":{\"symbol\":\"circle\"},\"mode\":\"lines\",\"name\":\"Action\",\"orientation\":\"v\",\"showlegend\":false,\"stackgroup\":\"1\",\"x\":[\"2013-01-01T00:00:00\",\"2014-01-01T00:00:00\",\"2015-01-01T00:00:00\",\"2016-01-01T00:00:00\"],\"xaxis\":\"x\",\"y\":[2,18,31,30],\"yaxis\":\"y\",\"type\":\"scatter\"},{\"hovertemplate\":\"genre=Action<br>platform=XOne<br>year_of_release=%{x}<br>nunique=%{y}<extra></extra>\",\"legendgroup\":\"Action\",\"line\":{\"color\":\"#B6E880\"},\"marker\":{\"symbol\":\"circle\"},\"mode\":\"lines\",\"name\":\"Action\",\"orientation\":\"v\",\"showlegend\":false,\"stackgroup\":\"1\",\"x\":[\"2013-01-01T00:00:00\",\"2014-01-01T00:00:00\",\"2015-01-01T00:00:00\",\"2016-01-01T00:00:00\"],\"xaxis\":\"x\",\"y\":[2,12,14,20],\"yaxis\":\"y\",\"type\":\"scatter\"},{\"hovertemplate\":\"genre=Adventure<br>platform=DC<br>year_of_release=%{x}<br>nunique=%{y}<extra></extra>\",\"legendgroup\":\"Adventure\",\"line\":{\"color\":\"#FF97FF\"},\"marker\":{\"symbol\":\"circle\"},\"mode\":\"lines\",\"name\":\"Adventure\",\"orientation\":\"v\",\"showlegend\":true,\"stackgroup\":\"1\",\"x\":[\"2001-01-01T00:00:00\"],\"xaxis\":\"x\",\"y\":[1],\"yaxis\":\"y\",\"type\":\"scatter\"},{\"hovertemplate\":\"genre=Adventure<br>platform=PC<br>year_of_release=%{x}<br>nunique=%{y}<extra></extra>\",\"legendgroup\":\"Adventure\",\"line\":{\"color\":\"#FF97FF\"},\"marker\":{\"symbol\":\"circle\"},\"mode\":\"lines\",\"name\":\"Adventure\",\"orientation\":\"v\",\"showlegend\":false,\"stackgroup\":\"1\",\"x\":[\"2003-01-01T00:00:00\",\"2004-01-01T00:00:00\",\"2005-01-01T00:00:00\",\"2006-01-01T00:00:00\",\"2008-01-01T00:00:00\",\"2009-01-01T00:00:00\",\"2010-01-01T00:00:00\",\"2011-01-01T00:00:00\",\"2012-01-01T00:00:00\",\"2016-01-01T00:00:00\"],\"xaxis\":\"x\",\"y\":[2,1,1,1,3,7,2,4,1,3],\"yaxis\":\"y\",\"type\":\"scatter\"},{\"hovertemplate\":\"genre=Adventure<br>platform=PS<br>year_of_release=%{x}<br>nunique=%{y}<extra></extra>\",\"legendgroup\":\"Adventure\",\"line\":{\"color\":\"#FF97FF\"},\"marker\":{\"symbol\":\"circle\"},\"mode\":\"lines\",\"name\":\"Adventure\",\"orientation\":\"v\",\"showlegend\":false,\"stackgroup\":\"1\",\"x\":[\"2000-01-01T00:00:00\",\"2001-01-01T00:00:00\"],\"xaxis\":\"x\",\"y\":[4,1],\"yaxis\":\"y\",\"type\":\"scatter\"},{\"hovertemplate\":\"genre=Adventure<br>platform=PS2<br>year_of_release=%{x}<br>nunique=%{y}<extra></extra>\",\"legendgroup\":\"Adventure\",\"line\":{\"color\":\"#FF97FF\"},\"marker\":{\"symbol\":\"circle\"},\"mode\":\"lines\",\"name\":\"Adventure\",\"orientation\":\"v\",\"showlegend\":false,\"stackgroup\":\"1\",\"x\":[\"2001-01-01T00:00:00\",\"2002-01-01T00:00:00\",\"2003-01-01T00:00:00\",\"2004-01-01T00:00:00\",\"2005-01-01T00:00:00\",\"2006-01-01T00:00:00\",\"2008-01-01T00:00:00\"],\"xaxis\":\"x\",\"y\":[4,15,4,9,4,5,2],\"yaxis\":\"y\",\"type\":\"scatter\"},{\"hovertemplate\":\"genre=Adventure<br>platform=XB<br>year_of_release=%{x}<br>nunique=%{y}<extra></extra>\",\"legendgroup\":\"Adventure\",\"line\":{\"color\":\"#FF97FF\"},\"marker\":{\"symbol\":\"circle\"},\"mode\":\"lines\",\"name\":\"Adventure\",\"orientation\":\"v\",\"showlegend\":false,\"stackgroup\":\"1\",\"x\":[\"2002-01-01T00:00:00\",\"2003-01-01T00:00:00\",\"2004-01-01T00:00:00\",\"2005-01-01T00:00:00\",\"2006-01-01T00:00:00\"],\"xaxis\":\"x\",\"y\":[6,1,6,8,1],\"yaxis\":\"y\",\"type\":\"scatter\"},{\"hovertemplate\":\"genre=Adventure<br>platform=GBA<br>year_of_release=%{x}<br>nunique=%{y}<extra></extra>\",\"legendgroup\":\"Adventure\",\"line\":{\"color\":\"#FF97FF\"},\"marker\":{\"symbol\":\"circle\"},\"mode\":\"lines\",\"name\":\"Adventure\",\"orientation\":\"v\",\"showlegend\":false,\"stackgroup\":\"1\",\"x\":[\"2001-01-01T00:00:00\",\"2002-01-01T00:00:00\",\"2004-01-01T00:00:00\",\"2005-01-01T00:00:00\",\"2006-01-01T00:00:00\"],\"xaxis\":\"x\",\"y\":[2,2,5,2,2],\"yaxis\":\"y\",\"type\":\"scatter\"},{\"hovertemplate\":\"genre=Adventure<br>platform=GC<br>year_of_release=%{x}<br>nunique=%{y}<extra></extra>\",\"legendgroup\":\"Adventure\",\"line\":{\"color\":\"#FF97FF\"},\"marker\":{\"symbol\":\"circle\"},\"mode\":\"lines\",\"name\":\"Adventure\",\"orientation\":\"v\",\"showlegend\":false,\"stackgroup\":\"1\",\"x\":[\"2001-01-01T00:00:00\",\"2002-01-01T00:00:00\",\"2003-01-01T00:00:00\",\"2004-01-01T00:00:00\",\"2005-01-01T00:00:00\",\"2006-01-01T00:00:00\"],\"xaxis\":\"x\",\"y\":[1,6,1,2,2,2],\"yaxis\":\"y\",\"type\":\"scatter\"},{\"hovertemplate\":\"genre=Adventure<br>platform=DS<br>year_of_release=%{x}<br>nunique=%{y}<extra></extra>\",\"legendgroup\":\"Adventure\",\"line\":{\"color\":\"#FF97FF\"},\"marker\":{\"symbol\":\"circle\"},\"mode\":\"lines\",\"name\":\"Adventure\",\"orientation\":\"v\",\"showlegend\":false,\"stackgroup\":\"1\",\"x\":[\"2005-01-01T00:00:00\",\"2006-01-01T00:00:00\",\"2007-01-01T00:00:00\",\"2008-01-01T00:00:00\",\"2009-01-01T00:00:00\",\"2010-01-01T00:00:00\",\"2011-01-01T00:00:00\"],\"xaxis\":\"x\",\"y\":[3,6,10,16,14,8,1],\"yaxis\":\"y\",\"type\":\"scatter\"},{\"hovertemplate\":\"genre=Adventure<br>platform=PSP<br>year_of_release=%{x}<br>nunique=%{y}<extra></extra>\",\"legendgroup\":\"Adventure\",\"line\":{\"color\":\"#FF97FF\"},\"marker\":{\"symbol\":\"circle\"},\"mode\":\"lines\",\"name\":\"Adventure\",\"orientation\":\"v\",\"showlegend\":false,\"stackgroup\":\"1\",\"x\":[\"2005-01-01T00:00:00\",\"2006-01-01T00:00:00\",\"2008-01-01T00:00:00\",\"2009-01-01T00:00:00\",\"2010-01-01T00:00:00\",\"2011-01-01T00:00:00\"],\"xaxis\":\"x\",\"y\":[2,6,1,2,1,1],\"yaxis\":\"y\",\"type\":\"scatter\"},{\"hovertemplate\":\"genre=Adventure<br>platform=X360<br>year_of_release=%{x}<br>nunique=%{y}<extra></extra>\",\"legendgroup\":\"Adventure\",\"line\":{\"color\":\"#FF97FF\"},\"marker\":{\"symbol\":\"circle\"},\"mode\":\"lines\",\"name\":\"Adventure\",\"orientation\":\"v\",\"showlegend\":false,\"stackgroup\":\"1\",\"x\":[\"2007-01-01T00:00:00\",\"2008-01-01T00:00:00\",\"2009-01-01T00:00:00\",\"2010-01-01T00:00:00\",\"2011-01-01T00:00:00\",\"2012-01-01T00:00:00\",\"2014-01-01T00:00:00\"],\"xaxis\":\"x\",\"y\":[1,2,3,2,4,2,1],\"yaxis\":\"y\",\"type\":\"scatter\"},{\"hovertemplate\":\"genre=Adventure<br>platform=PS3<br>year_of_release=%{x}<br>nunique=%{y}<extra></extra>\",\"legendgroup\":\"Adventure\",\"line\":{\"color\":\"#FF97FF\"},\"marker\":{\"symbol\":\"circle\"},\"mode\":\"lines\",\"name\":\"Adventure\",\"orientation\":\"v\",\"showlegend\":false,\"stackgroup\":\"1\",\"x\":[\"2007-01-01T00:00:00\",\"2008-01-01T00:00:00\",\"2009-01-01T00:00:00\",\"2010-01-01T00:00:00\",\"2011-01-01T00:00:00\",\"2012-01-01T00:00:00\",\"2013-01-01T00:00:00\",\"2014-01-01T00:00:00\",\"2015-01-01T00:00:00\"],\"xaxis\":\"x\",\"y\":[1,3,1,3,4,3,2,1,1],\"yaxis\":\"y\",\"type\":\"scatter\"},{\"hovertemplate\":\"genre=Adventure<br>platform=Wii<br>year_of_release=%{x}<br>nunique=%{y}<extra></extra>\",\"legendgroup\":\"Adventure\",\"line\":{\"color\":\"#FF97FF\"},\"marker\":{\"symbol\":\"circle\"},\"mode\":\"lines\",\"name\":\"Adventure\",\"orientation\":\"v\",\"showlegend\":false,\"stackgroup\":\"1\",\"x\":[\"2006-01-01T00:00:00\",\"2007-01-01T00:00:00\",\"2008-01-01T00:00:00\",\"2009-01-01T00:00:00\",\"2010-01-01T00:00:00\",\"2011-01-01T00:00:00\"],\"xaxis\":\"x\",\"y\":[1,4,9,11,3,2],\"yaxis\":\"y\",\"type\":\"scatter\"},{\"hovertemplate\":\"genre=Adventure<br>platform=3DS<br>year_of_release=%{x}<br>nunique=%{y}<extra></extra>\",\"legendgroup\":\"Adventure\",\"line\":{\"color\":\"#FF97FF\"},\"marker\":{\"symbol\":\"circle\"},\"mode\":\"lines\",\"name\":\"Adventure\",\"orientation\":\"v\",\"showlegend\":false,\"stackgroup\":\"1\",\"x\":[\"2011-01-01T00:00:00\",\"2012-01-01T00:00:00\",\"2013-01-01T00:00:00\",\"2014-01-01T00:00:00\",\"2016-01-01T00:00:00\"],\"xaxis\":\"x\",\"y\":[3,2,2,2,1],\"yaxis\":\"y\",\"type\":\"scatter\"},{\"hovertemplate\":\"genre=Adventure<br>platform=PSV<br>year_of_release=%{x}<br>nunique=%{y}<extra></extra>\",\"legendgroup\":\"Adventure\",\"line\":{\"color\":\"#FF97FF\"},\"marker\":{\"symbol\":\"circle\"},\"mode\":\"lines\",\"name\":\"Adventure\",\"orientation\":\"v\",\"showlegend\":false,\"stackgroup\":\"1\",\"x\":[\"2013-01-01T00:00:00\",\"2014-01-01T00:00:00\",\"2015-01-01T00:00:00\",\"2016-01-01T00:00:00\"],\"xaxis\":\"x\",\"y\":[5,1,1,3],\"yaxis\":\"y\",\"type\":\"scatter\"},{\"hovertemplate\":\"genre=Adventure<br>platform=WiiU<br>year_of_release=%{x}<br>nunique=%{y}<extra></extra>\",\"legendgroup\":\"Adventure\",\"line\":{\"color\":\"#FF97FF\"},\"marker\":{\"symbol\":\"circle\"},\"mode\":\"lines\",\"name\":\"Adventure\",\"orientation\":\"v\",\"showlegend\":false,\"stackgroup\":\"1\",\"x\":[\"2014-01-01T00:00:00\"],\"xaxis\":\"x\",\"y\":[1],\"yaxis\":\"y\",\"type\":\"scatter\"},{\"hovertemplate\":\"genre=Adventure<br>platform=PS4<br>year_of_release=%{x}<br>nunique=%{y}<extra></extra>\",\"legendgroup\":\"Adventure\",\"line\":{\"color\":\"#FF97FF\"},\"marker\":{\"symbol\":\"circle\"},\"mode\":\"lines\",\"name\":\"Adventure\",\"orientation\":\"v\",\"showlegend\":false,\"stackgroup\":\"1\",\"x\":[\"2014-01-01T00:00:00\",\"2015-01-01T00:00:00\",\"2016-01-01T00:00:00\"],\"xaxis\":\"x\",\"y\":[1,4,7],\"yaxis\":\"y\",\"type\":\"scatter\"},{\"hovertemplate\":\"genre=Adventure<br>platform=XOne<br>year_of_release=%{x}<br>nunique=%{y}<extra></extra>\",\"legendgroup\":\"Adventure\",\"line\":{\"color\":\"#FF97FF\"},\"marker\":{\"symbol\":\"circle\"},\"mode\":\"lines\",\"name\":\"Adventure\",\"orientation\":\"v\",\"showlegend\":false,\"stackgroup\":\"1\",\"x\":[\"2015-01-01T00:00:00\",\"2016-01-01T00:00:00\"],\"xaxis\":\"x\",\"y\":[3,1],\"yaxis\":\"y\",\"type\":\"scatter\"},{\"hovertemplate\":\"genre=Platform<br>platform=DC<br>year_of_release=%{x}<br>nunique=%{y}<extra></extra>\",\"legendgroup\":\"Platform\",\"line\":{\"color\":\"#FECB52\"},\"marker\":{\"symbol\":\"circle\"},\"mode\":\"lines\",\"name\":\"Platform\",\"orientation\":\"v\",\"showlegend\":true,\"stackgroup\":\"1\",\"x\":[\"2001-01-01T00:00:00\"],\"xaxis\":\"x\",\"y\":[1],\"yaxis\":\"y\",\"type\":\"scatter\"},{\"hovertemplate\":\"genre=Platform<br>platform=PC<br>year_of_release=%{x}<br>nunique=%{y}<extra></extra>\",\"legendgroup\":\"Platform\",\"line\":{\"color\":\"#FECB52\"},\"marker\":{\"symbol\":\"circle\"},\"mode\":\"lines\",\"name\":\"Platform\",\"orientation\":\"v\",\"showlegend\":false,\"stackgroup\":\"1\",\"x\":[\"2003-01-01T00:00:00\",\"2007-01-01T00:00:00\",\"2008-01-01T00:00:00\",\"2009-01-01T00:00:00\",\"2011-01-01T00:00:00\",\"2012-01-01T00:00:00\",\"2013-01-01T00:00:00\",\"2016-01-01T00:00:00\"],\"xaxis\":\"x\",\"y\":[1,1,1,2,2,1,1,1],\"yaxis\":\"y\",\"type\":\"scatter\"},{\"hovertemplate\":\"genre=Platform<br>platform=PS<br>year_of_release=%{x}<br>nunique=%{y}<extra></extra>\",\"legendgroup\":\"Platform\",\"line\":{\"color\":\"#FECB52\"},\"marker\":{\"symbol\":\"circle\"},\"mode\":\"lines\",\"name\":\"Platform\",\"orientation\":\"v\",\"showlegend\":false,\"stackgroup\":\"1\",\"x\":[\"2000-01-01T00:00:00\",\"2001-01-01T00:00:00\"],\"xaxis\":\"x\",\"y\":[6,4],\"yaxis\":\"y\",\"type\":\"scatter\"},{\"hovertemplate\":\"genre=Platform<br>platform=PS2<br>year_of_release=%{x}<br>nunique=%{y}<extra></extra>\",\"legendgroup\":\"Platform\",\"line\":{\"color\":\"#FECB52\"},\"marker\":{\"symbol\":\"circle\"},\"mode\":\"lines\",\"name\":\"Platform\",\"orientation\":\"v\",\"showlegend\":false,\"stackgroup\":\"1\",\"x\":[\"2000-01-01T00:00:00\",\"2001-01-01T00:00:00\",\"2002-01-01T00:00:00\",\"2003-01-01T00:00:00\",\"2004-01-01T00:00:00\",\"2005-01-01T00:00:00\",\"2006-01-01T00:00:00\",\"2007-01-01T00:00:00\",\"2008-01-01T00:00:00\",\"2009-01-01T00:00:00\"],\"xaxis\":\"x\",\"y\":[2,10,7,14,14,12,6,2,3,2],\"yaxis\":\"y\",\"type\":\"scatter\"},{\"hovertemplate\":\"genre=Platform<br>platform=XB<br>year_of_release=%{x}<br>nunique=%{y}<extra></extra>\",\"legendgroup\":\"Platform\",\"line\":{\"color\":\"#FECB52\"},\"marker\":{\"symbol\":\"circle\"},\"mode\":\"lines\",\"name\":\"Platform\",\"orientation\":\"v\",\"showlegend\":false,\"stackgroup\":\"1\",\"x\":[\"2001-01-01T00:00:00\",\"2002-01-01T00:00:00\",\"2003-01-01T00:00:00\",\"2004-01-01T00:00:00\",\"2005-01-01T00:00:00\",\"2006-01-01T00:00:00\"],\"xaxis\":\"x\",\"y\":[2,5,9,10,11,2],\"yaxis\":\"y\",\"type\":\"scatter\"},{\"hovertemplate\":\"genre=Platform<br>platform=GBA<br>year_of_release=%{x}<br>nunique=%{y}<extra></extra>\",\"legendgroup\":\"Platform\",\"line\":{\"color\":\"#FECB52\"},\"marker\":{\"symbol\":\"circle\"},\"mode\":\"lines\",\"name\":\"Platform\",\"orientation\":\"v\",\"showlegend\":false,\"stackgroup\":\"1\",\"x\":[\"2001-01-01T00:00:00\",\"2002-01-01T00:00:00\",\"2003-01-01T00:00:00\",\"2004-01-01T00:00:00\",\"2005-01-01T00:00:00\",\"2006-01-01T00:00:00\"],\"xaxis\":\"x\",\"y\":[13,17,22,13,11,2],\"yaxis\":\"y\",\"type\":\"scatter\"},{\"hovertemplate\":\"genre=Platform<br>platform=GC<br>year_of_release=%{x}<br>nunique=%{y}<extra></extra>\",\"legendgroup\":\"Platform\",\"line\":{\"color\":\"#FECB52\"},\"marker\":{\"symbol\":\"circle\"},\"mode\":\"lines\",\"name\":\"Platform\",\"orientation\":\"v\",\"showlegend\":false,\"stackgroup\":\"1\",\"x\":[\"2001-01-01T00:00:00\",\"2002-01-01T00:00:00\",\"2003-01-01T00:00:00\",\"2004-01-01T00:00:00\",\"2005-01-01T00:00:00\",\"2006-01-01T00:00:00\"],\"xaxis\":\"x\",\"y\":[2,14,15,10,10,8],\"yaxis\":\"y\",\"type\":\"scatter\"},{\"hovertemplate\":\"genre=Platform<br>platform=DS<br>year_of_release=%{x}<br>nunique=%{y}<extra></extra>\",\"legendgroup\":\"Platform\",\"line\":{\"color\":\"#FECB52\"},\"marker\":{\"symbol\":\"circle\"},\"mode\":\"lines\",\"name\":\"Platform\",\"orientation\":\"v\",\"showlegend\":false,\"stackgroup\":\"1\",\"x\":[\"2005-01-01T00:00:00\",\"2006-01-01T00:00:00\",\"2007-01-01T00:00:00\",\"2008-01-01T00:00:00\",\"2009-01-01T00:00:00\",\"2010-01-01T00:00:00\",\"2011-01-01T00:00:00\"],\"xaxis\":\"x\",\"y\":[11,11,13,10,1,4,3],\"yaxis\":\"y\",\"type\":\"scatter\"},{\"hovertemplate\":\"genre=Platform<br>platform=PSP<br>year_of_release=%{x}<br>nunique=%{y}<extra></extra>\",\"legendgroup\":\"Platform\",\"line\":{\"color\":\"#FECB52\"},\"marker\":{\"symbol\":\"circle\"},\"mode\":\"lines\",\"name\":\"Platform\",\"orientation\":\"v\",\"showlegend\":false,\"stackgroup\":\"1\",\"x\":[\"2005-01-01T00:00:00\",\"2006-01-01T00:00:00\",\"2007-01-01T00:00:00\",\"2008-01-01T00:00:00\",\"2009-01-01T00:00:00\"],\"xaxis\":\"x\",\"y\":[7,7,3,4,3],\"yaxis\":\"y\",\"type\":\"scatter\"},{\"hovertemplate\":\"genre=Platform<br>platform=X360<br>year_of_release=%{x}<br>nunique=%{y}<extra></extra>\",\"legendgroup\":\"Platform\",\"line\":{\"color\":\"#FECB52\"},\"marker\":{\"symbol\":\"circle\"},\"mode\":\"lines\",\"name\":\"Platform\",\"orientation\":\"v\",\"showlegend\":false,\"stackgroup\":\"1\",\"x\":[\"2006-01-01T00:00:00\",\"2007-01-01T00:00:00\",\"2008-01-01T00:00:00\",\"2009-01-01T00:00:00\",\"2010-01-01T00:00:00\",\"2011-01-01T00:00:00\",\"2013-01-01T00:00:00\"],\"xaxis\":\"x\",\"y\":[2,1,7,3,2,3,3],\"yaxis\":\"y\",\"type\":\"scatter\"},{\"hovertemplate\":\"genre=Platform<br>platform=PS3<br>year_of_release=%{x}<br>nunique=%{y}<extra></extra>\",\"legendgroup\":\"Platform\",\"line\":{\"color\":\"#FECB52\"},\"marker\":{\"symbol\":\"circle\"},\"mode\":\"lines\",\"name\":\"Platform\",\"orientation\":\"v\",\"showlegend\":false,\"stackgroup\":\"1\",\"x\":[\"2006-01-01T00:00:00\",\"2007-01-01T00:00:00\",\"2008-01-01T00:00:00\",\"2009-01-01T00:00:00\",\"2010-01-01T00:00:00\",\"2011-01-01T00:00:00\",\"2013-01-01T00:00:00\"],\"xaxis\":\"x\",\"y\":[1,1,5,3,2,5,5],\"yaxis\":\"y\",\"type\":\"scatter\"},{\"hovertemplate\":\"genre=Platform<br>platform=Wii<br>year_of_release=%{x}<br>nunique=%{y}<extra></extra>\",\"legendgroup\":\"Platform\",\"line\":{\"color\":\"#FECB52\"},\"marker\":{\"symbol\":\"circle\"},\"mode\":\"lines\",\"name\":\"Platform\",\"orientation\":\"v\",\"showlegend\":false,\"stackgroup\":\"1\",\"x\":[\"2006-01-01T00:00:00\",\"2007-01-01T00:00:00\",\"2008-01-01T00:00:00\",\"2009-01-01T00:00:00\",\"2010-01-01T00:00:00\",\"2011-01-01T00:00:00\"],\"xaxis\":\"x\",\"y\":[4,9,9,7,7,3],\"yaxis\":\"y\",\"type\":\"scatter\"},{\"hovertemplate\":\"genre=Platform<br>platform=3DS<br>year_of_release=%{x}<br>nunique=%{y}<extra></extra>\",\"legendgroup\":\"Platform\",\"line\":{\"color\":\"#FECB52\"},\"marker\":{\"symbol\":\"circle\"},\"mode\":\"lines\",\"name\":\"Platform\",\"orientation\":\"v\",\"showlegend\":false,\"stackgroup\":\"1\",\"x\":[\"2011-01-01T00:00:00\",\"2012-01-01T00:00:00\",\"2013-01-01T00:00:00\",\"2014-01-01T00:00:00\",\"2015-01-01T00:00:00\",\"2016-01-01T00:00:00\"],\"xaxis\":\"x\",\"y\":[6,4,3,2,2,1],\"yaxis\":\"y\",\"type\":\"scatter\"},{\"hovertemplate\":\"genre=Platform<br>platform=PSV<br>year_of_release=%{x}<br>nunique=%{y}<extra></extra>\",\"legendgroup\":\"Platform\",\"line\":{\"color\":\"#FECB52\"},\"marker\":{\"symbol\":\"circle\"},\"mode\":\"lines\",\"name\":\"Platform\",\"orientation\":\"v\",\"showlegend\":false,\"stackgroup\":\"1\",\"x\":[\"2011-01-01T00:00:00\",\"2012-01-01T00:00:00\",\"2013-01-01T00:00:00\",\"2014-01-01T00:00:00\"],\"xaxis\":\"x\",\"y\":[1,2,1,2],\"yaxis\":\"y\",\"type\":\"scatter\"},{\"hovertemplate\":\"genre=Platform<br>platform=WiiU<br>year_of_release=%{x}<br>nunique=%{y}<extra></extra>\",\"legendgroup\":\"Platform\",\"line\":{\"color\":\"#FECB52\"},\"marker\":{\"symbol\":\"circle\"},\"mode\":\"lines\",\"name\":\"Platform\",\"orientation\":\"v\",\"showlegend\":false,\"stackgroup\":\"1\",\"x\":[\"2012-01-01T00:00:00\",\"2013-01-01T00:00:00\",\"2014-01-01T00:00:00\",\"2015-01-01T00:00:00\",\"2016-01-01T00:00:00\"],\"xaxis\":\"x\",\"y\":[1,8,1,4,2],\"yaxis\":\"y\",\"type\":\"scatter\"},{\"hovertemplate\":\"genre=Platform<br>platform=PS4<br>year_of_release=%{x}<br>nunique=%{y}<extra></extra>\",\"legendgroup\":\"Platform\",\"line\":{\"color\":\"#FECB52\"},\"marker\":{\"symbol\":\"circle\"},\"mode\":\"lines\",\"name\":\"Platform\",\"orientation\":\"v\",\"showlegend\":false,\"stackgroup\":\"1\",\"x\":[\"2013-01-01T00:00:00\",\"2014-01-01T00:00:00\",\"2015-01-01T00:00:00\",\"2016-01-01T00:00:00\"],\"xaxis\":\"x\",\"y\":[3,2,2,4],\"yaxis\":\"y\",\"type\":\"scatter\"},{\"hovertemplate\":\"genre=Platform<br>platform=XOne<br>year_of_release=%{x}<br>nunique=%{y}<extra></extra>\",\"legendgroup\":\"Platform\",\"line\":{\"color\":\"#FECB52\"},\"marker\":{\"symbol\":\"circle\"},\"mode\":\"lines\",\"name\":\"Platform\",\"orientation\":\"v\",\"showlegend\":false,\"stackgroup\":\"1\",\"x\":[\"2014-01-01T00:00:00\",\"2016-01-01T00:00:00\"],\"xaxis\":\"x\",\"y\":[1,3],\"yaxis\":\"y\",\"type\":\"scatter\"},{\"hovertemplate\":\"genre=Strategy<br>platform=PC<br>year_of_release=%{x}<br>nunique=%{y}<extra></extra>\",\"legendgroup\":\"Strategy\",\"line\":{\"color\":\"#636efa\"},\"marker\":{\"symbol\":\"circle\"},\"mode\":\"lines\",\"name\":\"Strategy\",\"orientation\":\"v\",\"showlegend\":true,\"stackgroup\":\"1\",\"x\":[\"2001-01-01T00:00:00\",\"2002-01-01T00:00:00\",\"2003-01-01T00:00:00\",\"2004-01-01T00:00:00\",\"2005-01-01T00:00:00\",\"2006-01-01T00:00:00\",\"2007-01-01T00:00:00\",\"2008-01-01T00:00:00\",\"2009-01-01T00:00:00\",\"2010-01-01T00:00:00\",\"2011-01-01T00:00:00\",\"2012-01-01T00:00:00\",\"2013-01-01T00:00:00\",\"2014-01-01T00:00:00\",\"2015-01-01T00:00:00\",\"2016-01-01T00:00:00\"],\"xaxis\":\"x\",\"y\":[4,5,7,8,5,12,12,5,17,10,15,2,3,1,4,3],\"yaxis\":\"y\",\"type\":\"scatter\"},{\"hovertemplate\":\"genre=Strategy<br>platform=PS<br>year_of_release=%{x}<br>nunique=%{y}<extra></extra>\",\"legendgroup\":\"Strategy\",\"line\":{\"color\":\"#636efa\"},\"marker\":{\"symbol\":\"circle\"},\"mode\":\"lines\",\"name\":\"Strategy\",\"orientation\":\"v\",\"showlegend\":false,\"stackgroup\":\"1\",\"x\":[\"2000-01-01T00:00:00\"],\"xaxis\":\"x\",\"y\":[2],\"yaxis\":\"y\",\"type\":\"scatter\"},{\"hovertemplate\":\"genre=Strategy<br>platform=PS2<br>year_of_release=%{x}<br>nunique=%{y}<extra></extra>\",\"legendgroup\":\"Strategy\",\"line\":{\"color\":\"#636efa\"},\"marker\":{\"symbol\":\"circle\"},\"mode\":\"lines\",\"name\":\"Strategy\",\"orientation\":\"v\",\"showlegend\":false,\"stackgroup\":\"1\",\"x\":[\"2000-01-01T00:00:00\",\"2001-01-01T00:00:00\",\"2002-01-01T00:00:00\",\"2003-01-01T00:00:00\",\"2004-01-01T00:00:00\",\"2005-01-01T00:00:00\",\"2006-01-01T00:00:00\",\"2007-01-01T00:00:00\"],\"xaxis\":\"x\",\"y\":[4,2,7,9,7,3,5,3],\"yaxis\":\"y\",\"type\":\"scatter\"},{\"hovertemplate\":\"genre=Strategy<br>platform=XB<br>year_of_release=%{x}<br>nunique=%{y}<extra></extra>\",\"legendgroup\":\"Strategy\",\"line\":{\"color\":\"#636efa\"},\"marker\":{\"symbol\":\"circle\"},\"mode\":\"lines\",\"name\":\"Strategy\",\"orientation\":\"v\",\"showlegend\":false,\"stackgroup\":\"1\",\"x\":[\"2002-01-01T00:00:00\",\"2003-01-01T00:00:00\",\"2004-01-01T00:00:00\",\"2005-01-01T00:00:00\",\"2006-01-01T00:00:00\"],\"xaxis\":\"x\",\"y\":[1,7,5,3,1],\"yaxis\":\"y\",\"type\":\"scatter\"},{\"hovertemplate\":\"genre=Strategy<br>platform=GBA<br>year_of_release=%{x}<br>nunique=%{y}<extra></extra>\",\"legendgroup\":\"Strategy\",\"line\":{\"color\":\"#636efa\"},\"marker\":{\"symbol\":\"circle\"},\"mode\":\"lines\",\"name\":\"Strategy\",\"orientation\":\"v\",\"showlegend\":false,\"stackgroup\":\"1\",\"x\":[\"2001-01-01T00:00:00\",\"2002-01-01T00:00:00\",\"2003-01-01T00:00:00\",\"2004-01-01T00:00:00\",\"2005-01-01T00:00:00\"],\"xaxis\":\"x\",\"y\":[1,2,3,1,1],\"yaxis\":\"y\",\"type\":\"scatter\"},{\"hovertemplate\":\"genre=Strategy<br>platform=GC<br>year_of_release=%{x}<br>nunique=%{y}<extra></extra>\",\"legendgroup\":\"Strategy\",\"line\":{\"color\":\"#636efa\"},\"marker\":{\"symbol\":\"circle\"},\"mode\":\"lines\",\"name\":\"Strategy\",\"orientation\":\"v\",\"showlegend\":false,\"stackgroup\":\"1\",\"x\":[\"2001-01-01T00:00:00\",\"2003-01-01T00:00:00\",\"2004-01-01T00:00:00\",\"2005-01-01T00:00:00\"],\"xaxis\":\"x\",\"y\":[1,3,3,1],\"yaxis\":\"y\",\"type\":\"scatter\"},{\"hovertemplate\":\"genre=Strategy<br>platform=DS<br>year_of_release=%{x}<br>nunique=%{y}<extra></extra>\",\"legendgroup\":\"Strategy\",\"line\":{\"color\":\"#636efa\"},\"marker\":{\"symbol\":\"circle\"},\"mode\":\"lines\",\"name\":\"Strategy\",\"orientation\":\"v\",\"showlegend\":false,\"stackgroup\":\"1\",\"x\":[\"2005-01-01T00:00:00\",\"2006-01-01T00:00:00\",\"2007-01-01T00:00:00\",\"2008-01-01T00:00:00\",\"2009-01-01T00:00:00\",\"2011-01-01T00:00:00\"],\"xaxis\":\"x\",\"y\":[4,6,8,9,3,2],\"yaxis\":\"y\",\"type\":\"scatter\"},{\"hovertemplate\":\"genre=Strategy<br>platform=PSP<br>year_of_release=%{x}<br>nunique=%{y}<extra></extra>\",\"legendgroup\":\"Strategy\",\"line\":{\"color\":\"#636efa\"},\"marker\":{\"symbol\":\"circle\"},\"mode\":\"lines\",\"name\":\"Strategy\",\"orientation\":\"v\",\"showlegend\":false,\"stackgroup\":\"1\",\"x\":[\"2006-01-01T00:00:00\",\"2007-01-01T00:00:00\",\"2008-01-01T00:00:00\",\"2009-01-01T00:00:00\",\"2010-01-01T00:00:00\"],\"xaxis\":\"x\",\"y\":[5,4,1,2,2],\"yaxis\":\"y\",\"type\":\"scatter\"},{\"hovertemplate\":\"genre=Strategy<br>platform=X360<br>year_of_release=%{x}<br>nunique=%{y}<extra></extra>\",\"legendgroup\":\"Strategy\",\"line\":{\"color\":\"#636efa\"},\"marker\":{\"symbol\":\"circle\"},\"mode\":\"lines\",\"name\":\"Strategy\",\"orientation\":\"v\",\"showlegend\":false,\"stackgroup\":\"1\",\"x\":[\"2006-01-01T00:00:00\",\"2007-01-01T00:00:00\",\"2008-01-01T00:00:00\",\"2009-01-01T00:00:00\",\"2010-01-01T00:00:00\",\"2012-01-01T00:00:00\",\"2013-01-01T00:00:00\"],\"xaxis\":\"x\",\"y\":[1,5,4,4,3,1,1],\"yaxis\":\"y\",\"type\":\"scatter\"},{\"hovertemplate\":\"genre=Strategy<br>platform=PS3<br>year_of_release=%{x}<br>nunique=%{y}<extra></extra>\",\"legendgroup\":\"Strategy\",\"line\":{\"color\":\"#636efa\"},\"marker\":{\"symbol\":\"circle\"},\"mode\":\"lines\",\"name\":\"Strategy\",\"orientation\":\"v\",\"showlegend\":false,\"stackgroup\":\"1\",\"x\":[\"2008-01-01T00:00:00\",\"2009-01-01T00:00:00\",\"2010-01-01T00:00:00\",\"2011-01-01T00:00:00\",\"2012-01-01T00:00:00\",\"2013-01-01T00:00:00\"],\"xaxis\":\"x\",\"y\":[2,2,1,1,1,1],\"yaxis\":\"y\",\"type\":\"scatter\"},{\"hovertemplate\":\"genre=Strategy<br>platform=Wii<br>year_of_release=%{x}<br>nunique=%{y}<extra></extra>\",\"legendgroup\":\"Strategy\",\"line\":{\"color\":\"#636efa\"},\"marker\":{\"symbol\":\"circle\"},\"mode\":\"lines\",\"name\":\"Strategy\",\"orientation\":\"v\",\"showlegend\":false,\"stackgroup\":\"1\",\"x\":[\"2007-01-01T00:00:00\",\"2008-01-01T00:00:00\",\"2009-01-01T00:00:00\",\"2010-01-01T00:00:00\"],\"xaxis\":\"x\",\"y\":[4,1,2,1],\"yaxis\":\"y\",\"type\":\"scatter\"},{\"hovertemplate\":\"genre=Strategy<br>platform=3DS<br>year_of_release=%{x}<br>nunique=%{y}<extra></extra>\",\"legendgroup\":\"Strategy\",\"line\":{\"color\":\"#636efa\"},\"marker\":{\"symbol\":\"circle\"},\"mode\":\"lines\",\"name\":\"Strategy\",\"orientation\":\"v\",\"showlegend\":false,\"stackgroup\":\"1\",\"x\":[\"2011-01-01T00:00:00\",\"2015-01-01T00:00:00\"],\"xaxis\":\"x\",\"y\":[2,1],\"yaxis\":\"y\",\"type\":\"scatter\"},{\"hovertemplate\":\"genre=Strategy<br>platform=WiiU<br>year_of_release=%{x}<br>nunique=%{y}<extra></extra>\",\"legendgroup\":\"Strategy\",\"line\":{\"color\":\"#636efa\"},\"marker\":{\"symbol\":\"circle\"},\"mode\":\"lines\",\"name\":\"Strategy\",\"orientation\":\"v\",\"showlegend\":false,\"stackgroup\":\"1\",\"x\":[\"2013-01-01T00:00:00\"],\"xaxis\":\"x\",\"y\":[1],\"yaxis\":\"y\",\"type\":\"scatter\"},{\"hovertemplate\":\"genre=Strategy<br>platform=PS4<br>year_of_release=%{x}<br>nunique=%{y}<extra></extra>\",\"legendgroup\":\"Strategy\",\"line\":{\"color\":\"#636efa\"},\"marker\":{\"symbol\":\"circle\"},\"mode\":\"lines\",\"name\":\"Strategy\",\"orientation\":\"v\",\"showlegend\":false,\"stackgroup\":\"1\",\"x\":[\"2013-01-01T00:00:00\",\"2014-01-01T00:00:00\",\"2015-01-01T00:00:00\",\"2016-01-01T00:00:00\"],\"xaxis\":\"x\",\"y\":[1,1,1,1],\"yaxis\":\"y\",\"type\":\"scatter\"},{\"hovertemplate\":\"genre=Strategy<br>platform=XOne<br>year_of_release=%{x}<br>nunique=%{y}<extra></extra>\",\"legendgroup\":\"Strategy\",\"line\":{\"color\":\"#636efa\"},\"marker\":{\"symbol\":\"circle\"},\"mode\":\"lines\",\"name\":\"Strategy\",\"orientation\":\"v\",\"showlegend\":false,\"stackgroup\":\"1\",\"x\":[\"2013-01-01T00:00:00\",\"2016-01-01T00:00:00\"],\"xaxis\":\"x\",\"y\":[1,1],\"yaxis\":\"y\",\"type\":\"scatter\"},{\"hovertemplate\":\"genre=Puzzle<br>platform=PC<br>year_of_release=%{x}<br>nunique=%{y}<extra></extra>\",\"legendgroup\":\"Puzzle\",\"line\":{\"color\":\"#EF553B\"},\"marker\":{\"symbol\":\"circle\"},\"mode\":\"lines\",\"name\":\"Puzzle\",\"orientation\":\"v\",\"showlegend\":true,\"stackgroup\":\"1\",\"x\":[\"2008-01-01T00:00:00\",\"2010-01-01T00:00:00\"],\"xaxis\":\"x\",\"y\":[3,1],\"yaxis\":\"y\",\"type\":\"scatter\"},{\"hovertemplate\":\"genre=Puzzle<br>platform=PS2<br>year_of_release=%{x}<br>nunique=%{y}<extra></extra>\",\"legendgroup\":\"Puzzle\",\"line\":{\"color\":\"#EF553B\"},\"marker\":{\"symbol\":\"circle\"},\"mode\":\"lines\",\"name\":\"Puzzle\",\"orientation\":\"v\",\"showlegend\":false,\"stackgroup\":\"1\",\"x\":[\"2000-01-01T00:00:00\",\"2002-01-01T00:00:00\",\"2004-01-01T00:00:00\",\"2005-01-01T00:00:00\",\"2006-01-01T00:00:00\",\"2007-01-01T00:00:00\",\"2008-01-01T00:00:00\"],\"xaxis\":\"x\",\"y\":[3,3,1,1,1,1,1],\"yaxis\":\"y\",\"type\":\"scatter\"},{\"hovertemplate\":\"genre=Puzzle<br>platform=XB<br>year_of_release=%{x}<br>nunique=%{y}<extra></extra>\",\"legendgroup\":\"Puzzle\",\"line\":{\"color\":\"#EF553B\"},\"marker\":{\"symbol\":\"circle\"},\"mode\":\"lines\",\"name\":\"Puzzle\",\"orientation\":\"v\",\"showlegend\":false,\"stackgroup\":\"1\",\"x\":[\"2002-01-01T00:00:00\",\"2003-01-01T00:00:00\",\"2004-01-01T00:00:00\"],\"xaxis\":\"x\",\"y\":[3,1,1],\"yaxis\":\"y\",\"type\":\"scatter\"},{\"hovertemplate\":\"genre=Puzzle<br>platform=GBA<br>year_of_release=%{x}<br>nunique=%{y}<extra></extra>\",\"legendgroup\":\"Puzzle\",\"line\":{\"color\":\"#EF553B\"},\"marker\":{\"symbol\":\"circle\"},\"mode\":\"lines\",\"name\":\"Puzzle\",\"orientation\":\"v\",\"showlegend\":false,\"stackgroup\":\"1\",\"x\":[\"2001-01-01T00:00:00\",\"2002-01-01T00:00:00\",\"2003-01-01T00:00:00\",\"2004-01-01T00:00:00\",\"2005-01-01T00:00:00\"],\"xaxis\":\"x\",\"y\":[7,5,1,4,2],\"yaxis\":\"y\",\"type\":\"scatter\"},{\"hovertemplate\":\"genre=Puzzle<br>platform=GC<br>year_of_release=%{x}<br>nunique=%{y}<extra></extra>\",\"legendgroup\":\"Puzzle\",\"line\":{\"color\":\"#EF553B\"},\"marker\":{\"symbol\":\"circle\"},\"mode\":\"lines\",\"name\":\"Puzzle\",\"orientation\":\"v\",\"showlegend\":false,\"stackgroup\":\"1\",\"x\":[\"2001-01-01T00:00:00\",\"2002-01-01T00:00:00\",\"2003-01-01T00:00:00\",\"2004-01-01T00:00:00\"],\"xaxis\":\"x\",\"y\":[1,6,2,1],\"yaxis\":\"y\",\"type\":\"scatter\"},{\"hovertemplate\":\"genre=Puzzle<br>platform=DS<br>year_of_release=%{x}<br>nunique=%{y}<extra></extra>\",\"legendgroup\":\"Puzzle\",\"line\":{\"color\":\"#EF553B\"},\"marker\":{\"symbol\":\"circle\"},\"mode\":\"lines\",\"name\":\"Puzzle\",\"orientation\":\"v\",\"showlegend\":false,\"stackgroup\":\"1\",\"x\":[\"2004-01-01T00:00:00\",\"2005-01-01T00:00:00\",\"2006-01-01T00:00:00\",\"2007-01-01T00:00:00\",\"2008-01-01T00:00:00\",\"2009-01-01T00:00:00\",\"2010-01-01T00:00:00\",\"2011-01-01T00:00:00\"],\"xaxis\":\"x\",\"y\":[4,11,10,26,21,20,6,1],\"yaxis\":\"y\",\"type\":\"scatter\"},{\"hovertemplate\":\"genre=Puzzle<br>platform=PSP<br>year_of_release=%{x}<br>nunique=%{y}<extra></extra>\",\"legendgroup\":\"Puzzle\",\"line\":{\"color\":\"#EF553B\"},\"marker\":{\"symbol\":\"circle\"},\"mode\":\"lines\",\"name\":\"Puzzle\",\"orientation\":\"v\",\"showlegend\":false,\"stackgroup\":\"1\",\"x\":[\"2004-01-01T00:00:00\",\"2005-01-01T00:00:00\",\"2006-01-01T00:00:00\",\"2007-01-01T00:00:00\",\"2008-01-01T00:00:00\",\"2010-01-01T00:00:00\"],\"xaxis\":\"x\",\"y\":[1,4,9,7,3,1],\"yaxis\":\"y\",\"type\":\"scatter\"},{\"hovertemplate\":\"genre=Puzzle<br>platform=X360<br>year_of_release=%{x}<br>nunique=%{y}<extra></extra>\",\"legendgroup\":\"Puzzle\",\"line\":{\"color\":\"#EF553B\"},\"marker\":{\"symbol\":\"circle\"},\"mode\":\"lines\",\"name\":\"Puzzle\",\"orientation\":\"v\",\"showlegend\":false,\"stackgroup\":\"1\",\"x\":[\"2006-01-01T00:00:00\",\"2007-01-01T00:00:00\"],\"xaxis\":\"x\",\"y\":[1,2],\"yaxis\":\"y\",\"type\":\"scatter\"},{\"hovertemplate\":\"genre=Puzzle<br>platform=PS3<br>year_of_release=%{x}<br>nunique=%{y}<extra></extra>\",\"legendgroup\":\"Puzzle\",\"line\":{\"color\":\"#EF553B\"},\"marker\":{\"symbol\":\"circle\"},\"mode\":\"lines\",\"name\":\"Puzzle\",\"orientation\":\"v\",\"showlegend\":false,\"stackgroup\":\"1\",\"x\":[\"2009-01-01T00:00:00\"],\"xaxis\":\"x\",\"y\":[1],\"yaxis\":\"y\",\"type\":\"scatter\"},{\"hovertemplate\":\"genre=Puzzle<br>platform=Wii<br>year_of_release=%{x}<br>nunique=%{y}<extra></extra>\",\"legendgroup\":\"Puzzle\",\"line\":{\"color\":\"#EF553B\"},\"marker\":{\"symbol\":\"circle\"},\"mode\":\"lines\",\"name\":\"Puzzle\",\"orientation\":\"v\",\"showlegend\":false,\"stackgroup\":\"1\",\"x\":[\"2006-01-01T00:00:00\",\"2007-01-01T00:00:00\",\"2008-01-01T00:00:00\",\"2009-01-01T00:00:00\",\"2010-01-01T00:00:00\"],\"xaxis\":\"x\",\"y\":[2,2,8,7,3],\"yaxis\":\"y\",\"type\":\"scatter\"},{\"hovertemplate\":\"genre=Puzzle<br>platform=3DS<br>year_of_release=%{x}<br>nunique=%{y}<extra></extra>\",\"legendgroup\":\"Puzzle\",\"line\":{\"color\":\"#EF553B\"},\"marker\":{\"symbol\":\"circle\"},\"mode\":\"lines\",\"name\":\"Puzzle\",\"orientation\":\"v\",\"showlegend\":false,\"stackgroup\":\"1\",\"x\":[\"2011-01-01T00:00:00\",\"2012-01-01T00:00:00\",\"2013-01-01T00:00:00\",\"2015-01-01T00:00:00\"],\"xaxis\":\"x\",\"y\":[5,2,2,1],\"yaxis\":\"y\",\"type\":\"scatter\"},{\"hovertemplate\":\"genre=Puzzle<br>platform=PSV<br>year_of_release=%{x}<br>nunique=%{y}<extra></extra>\",\"legendgroup\":\"Puzzle\",\"line\":{\"color\":\"#EF553B\"},\"marker\":{\"symbol\":\"circle\"},\"mode\":\"lines\",\"name\":\"Puzzle\",\"orientation\":\"v\",\"showlegend\":false,\"stackgroup\":\"1\",\"x\":[\"2011-01-01T00:00:00\"],\"xaxis\":\"x\",\"y\":[1],\"yaxis\":\"y\",\"type\":\"scatter\"},{\"hovertemplate\":\"genre=Puzzle<br>platform=WiiU<br>year_of_release=%{x}<br>nunique=%{y}<extra></extra>\",\"legendgroup\":\"Puzzle\",\"line\":{\"color\":\"#EF553B\"},\"marker\":{\"symbol\":\"circle\"},\"mode\":\"lines\",\"name\":\"Puzzle\",\"orientation\":\"v\",\"showlegend\":false,\"stackgroup\":\"1\",\"x\":[\"2013-01-01T00:00:00\",\"2014-01-01T00:00:00\",\"2015-01-01T00:00:00\"],\"xaxis\":\"x\",\"y\":[1,1,1],\"yaxis\":\"y\",\"type\":\"scatter\"},{\"hovertemplate\":\"genre=Puzzle<br>platform=PS4<br>year_of_release=%{x}<br>nunique=%{y}<extra></extra>\",\"legendgroup\":\"Puzzle\",\"line\":{\"color\":\"#EF553B\"},\"marker\":{\"symbol\":\"circle\"},\"mode\":\"lines\",\"name\":\"Puzzle\",\"orientation\":\"v\",\"showlegend\":false,\"stackgroup\":\"1\",\"x\":[\"2015-01-01T00:00:00\"],\"xaxis\":\"x\",\"y\":[1],\"yaxis\":\"y\",\"type\":\"scatter\"}],                        {\"template\":{\"data\":{\"bar\":[{\"error_x\":{\"color\":\"#2a3f5f\"},\"error_y\":{\"color\":\"#2a3f5f\"},\"marker\":{\"line\":{\"color\":\"#E5ECF6\",\"width\":0.5},\"pattern\":{\"fillmode\":\"overlay\",\"size\":10,\"solidity\":0.2}},\"type\":\"bar\"}],\"barpolar\":[{\"marker\":{\"line\":{\"color\":\"#E5ECF6\",\"width\":0.5},\"pattern\":{\"fillmode\":\"overlay\",\"size\":10,\"solidity\":0.2}},\"type\":\"barpolar\"}],\"carpet\":[{\"aaxis\":{\"endlinecolor\":\"#2a3f5f\",\"gridcolor\":\"white\",\"linecolor\":\"white\",\"minorgridcolor\":\"white\",\"startlinecolor\":\"#2a3f5f\"},\"baxis\":{\"endlinecolor\":\"#2a3f5f\",\"gridcolor\":\"white\",\"linecolor\":\"white\",\"minorgridcolor\":\"white\",\"startlinecolor\":\"#2a3f5f\"},\"type\":\"carpet\"}],\"choropleth\":[{\"colorbar\":{\"outlinewidth\":0,\"ticks\":\"\"},\"type\":\"choropleth\"}],\"contour\":[{\"colorbar\":{\"outlinewidth\":0,\"ticks\":\"\"},\"colorscale\":[[0.0,\"#0d0887\"],[0.1111111111111111,\"#46039f\"],[0.2222222222222222,\"#7201a8\"],[0.3333333333333333,\"#9c179e\"],[0.4444444444444444,\"#bd3786\"],[0.5555555555555556,\"#d8576b\"],[0.6666666666666666,\"#ed7953\"],[0.7777777777777778,\"#fb9f3a\"],[0.8888888888888888,\"#fdca26\"],[1.0,\"#f0f921\"]],\"type\":\"contour\"}],\"contourcarpet\":[{\"colorbar\":{\"outlinewidth\":0,\"ticks\":\"\"},\"type\":\"contourcarpet\"}],\"heatmap\":[{\"colorbar\":{\"outlinewidth\":0,\"ticks\":\"\"},\"colorscale\":[[0.0,\"#0d0887\"],[0.1111111111111111,\"#46039f\"],[0.2222222222222222,\"#7201a8\"],[0.3333333333333333,\"#9c179e\"],[0.4444444444444444,\"#bd3786\"],[0.5555555555555556,\"#d8576b\"],[0.6666666666666666,\"#ed7953\"],[0.7777777777777778,\"#fb9f3a\"],[0.8888888888888888,\"#fdca26\"],[1.0,\"#f0f921\"]],\"type\":\"heatmap\"}],\"heatmapgl\":[{\"colorbar\":{\"outlinewidth\":0,\"ticks\":\"\"},\"colorscale\":[[0.0,\"#0d0887\"],[0.1111111111111111,\"#46039f\"],[0.2222222222222222,\"#7201a8\"],[0.3333333333333333,\"#9c179e\"],[0.4444444444444444,\"#bd3786\"],[0.5555555555555556,\"#d8576b\"],[0.6666666666666666,\"#ed7953\"],[0.7777777777777778,\"#fb9f3a\"],[0.8888888888888888,\"#fdca26\"],[1.0,\"#f0f921\"]],\"type\":\"heatmapgl\"}],\"histogram\":[{\"marker\":{\"pattern\":{\"fillmode\":\"overlay\",\"size\":10,\"solidity\":0.2}},\"type\":\"histogram\"}],\"histogram2d\":[{\"colorbar\":{\"outlinewidth\":0,\"ticks\":\"\"},\"colorscale\":[[0.0,\"#0d0887\"],[0.1111111111111111,\"#46039f\"],[0.2222222222222222,\"#7201a8\"],[0.3333333333333333,\"#9c179e\"],[0.4444444444444444,\"#bd3786\"],[0.5555555555555556,\"#d8576b\"],[0.6666666666666666,\"#ed7953\"],[0.7777777777777778,\"#fb9f3a\"],[0.8888888888888888,\"#fdca26\"],[1.0,\"#f0f921\"]],\"type\":\"histogram2d\"}],\"histogram2dcontour\":[{\"colorbar\":{\"outlinewidth\":0,\"ticks\":\"\"},\"colorscale\":[[0.0,\"#0d0887\"],[0.1111111111111111,\"#46039f\"],[0.2222222222222222,\"#7201a8\"],[0.3333333333333333,\"#9c179e\"],[0.4444444444444444,\"#bd3786\"],[0.5555555555555556,\"#d8576b\"],[0.6666666666666666,\"#ed7953\"],[0.7777777777777778,\"#fb9f3a\"],[0.8888888888888888,\"#fdca26\"],[1.0,\"#f0f921\"]],\"type\":\"histogram2dcontour\"}],\"mesh3d\":[{\"colorbar\":{\"outlinewidth\":0,\"ticks\":\"\"},\"type\":\"mesh3d\"}],\"parcoords\":[{\"line\":{\"colorbar\":{\"outlinewidth\":0,\"ticks\":\"\"}},\"type\":\"parcoords\"}],\"pie\":[{\"automargin\":true,\"type\":\"pie\"}],\"scatter\":[{\"marker\":{\"colorbar\":{\"outlinewidth\":0,\"ticks\":\"\"}},\"type\":\"scatter\"}],\"scatter3d\":[{\"line\":{\"colorbar\":{\"outlinewidth\":0,\"ticks\":\"\"}},\"marker\":{\"colorbar\":{\"outlinewidth\":0,\"ticks\":\"\"}},\"type\":\"scatter3d\"}],\"scattercarpet\":[{\"marker\":{\"colorbar\":{\"outlinewidth\":0,\"ticks\":\"\"}},\"type\":\"scattercarpet\"}],\"scattergeo\":[{\"marker\":{\"colorbar\":{\"outlinewidth\":0,\"ticks\":\"\"}},\"type\":\"scattergeo\"}],\"scattergl\":[{\"marker\":{\"colorbar\":{\"outlinewidth\":0,\"ticks\":\"\"}},\"type\":\"scattergl\"}],\"scattermapbox\":[{\"marker\":{\"colorbar\":{\"outlinewidth\":0,\"ticks\":\"\"}},\"type\":\"scattermapbox\"}],\"scatterpolar\":[{\"marker\":{\"colorbar\":{\"outlinewidth\":0,\"ticks\":\"\"}},\"type\":\"scatterpolar\"}],\"scatterpolargl\":[{\"marker\":{\"colorbar\":{\"outlinewidth\":0,\"ticks\":\"\"}},\"type\":\"scatterpolargl\"}],\"scatterternary\":[{\"marker\":{\"colorbar\":{\"outlinewidth\":0,\"ticks\":\"\"}},\"type\":\"scatterternary\"}],\"surface\":[{\"colorbar\":{\"outlinewidth\":0,\"ticks\":\"\"},\"colorscale\":[[0.0,\"#0d0887\"],[0.1111111111111111,\"#46039f\"],[0.2222222222222222,\"#7201a8\"],[0.3333333333333333,\"#9c179e\"],[0.4444444444444444,\"#bd3786\"],[0.5555555555555556,\"#d8576b\"],[0.6666666666666666,\"#ed7953\"],[0.7777777777777778,\"#fb9f3a\"],[0.8888888888888888,\"#fdca26\"],[1.0,\"#f0f921\"]],\"type\":\"surface\"}],\"table\":[{\"cells\":{\"fill\":{\"color\":\"#EBF0F8\"},\"line\":{\"color\":\"white\"}},\"header\":{\"fill\":{\"color\":\"#C8D4E3\"},\"line\":{\"color\":\"white\"}},\"type\":\"table\"}]},\"layout\":{\"annotationdefaults\":{\"arrowcolor\":\"#2a3f5f\",\"arrowhead\":0,\"arrowwidth\":1},\"autotypenumbers\":\"strict\",\"coloraxis\":{\"colorbar\":{\"outlinewidth\":0,\"ticks\":\"\"}},\"colorscale\":{\"diverging\":[[0,\"#8e0152\"],[0.1,\"#c51b7d\"],[0.2,\"#de77ae\"],[0.3,\"#f1b6da\"],[0.4,\"#fde0ef\"],[0.5,\"#f7f7f7\"],[0.6,\"#e6f5d0\"],[0.7,\"#b8e186\"],[0.8,\"#7fbc41\"],[0.9,\"#4d9221\"],[1,\"#276419\"]],\"sequential\":[[0.0,\"#0d0887\"],[0.1111111111111111,\"#46039f\"],[0.2222222222222222,\"#7201a8\"],[0.3333333333333333,\"#9c179e\"],[0.4444444444444444,\"#bd3786\"],[0.5555555555555556,\"#d8576b\"],[0.6666666666666666,\"#ed7953\"],[0.7777777777777778,\"#fb9f3a\"],[0.8888888888888888,\"#fdca26\"],[1.0,\"#f0f921\"]],\"sequentialminus\":[[0.0,\"#0d0887\"],[0.1111111111111111,\"#46039f\"],[0.2222222222222222,\"#7201a8\"],[0.3333333333333333,\"#9c179e\"],[0.4444444444444444,\"#bd3786\"],[0.5555555555555556,\"#d8576b\"],[0.6666666666666666,\"#ed7953\"],[0.7777777777777778,\"#fb9f3a\"],[0.8888888888888888,\"#fdca26\"],[1.0,\"#f0f921\"]]},\"colorway\":[\"#636efa\",\"#EF553B\",\"#00cc96\",\"#ab63fa\",\"#FFA15A\",\"#19d3f3\",\"#FF6692\",\"#B6E880\",\"#FF97FF\",\"#FECB52\"],\"font\":{\"color\":\"#2a3f5f\"},\"geo\":{\"bgcolor\":\"white\",\"lakecolor\":\"white\",\"landcolor\":\"#E5ECF6\",\"showlakes\":true,\"showland\":true,\"subunitcolor\":\"white\"},\"hoverlabel\":{\"align\":\"left\"},\"hovermode\":\"closest\",\"mapbox\":{\"style\":\"light\"},\"paper_bgcolor\":\"white\",\"plot_bgcolor\":\"#E5ECF6\",\"polar\":{\"angularaxis\":{\"gridcolor\":\"white\",\"linecolor\":\"white\",\"ticks\":\"\"},\"bgcolor\":\"#E5ECF6\",\"radialaxis\":{\"gridcolor\":\"white\",\"linecolor\":\"white\",\"ticks\":\"\"}},\"scene\":{\"xaxis\":{\"backgroundcolor\":\"#E5ECF6\",\"gridcolor\":\"white\",\"gridwidth\":2,\"linecolor\":\"white\",\"showbackground\":true,\"ticks\":\"\",\"zerolinecolor\":\"white\"},\"yaxis\":{\"backgroundcolor\":\"#E5ECF6\",\"gridcolor\":\"white\",\"gridwidth\":2,\"linecolor\":\"white\",\"showbackground\":true,\"ticks\":\"\",\"zerolinecolor\":\"white\"},\"zaxis\":{\"backgroundcolor\":\"#E5ECF6\",\"gridcolor\":\"white\",\"gridwidth\":2,\"linecolor\":\"white\",\"showbackground\":true,\"ticks\":\"\",\"zerolinecolor\":\"white\"}},\"shapedefaults\":{\"line\":{\"color\":\"#2a3f5f\"}},\"ternary\":{\"aaxis\":{\"gridcolor\":\"white\",\"linecolor\":\"white\",\"ticks\":\"\"},\"baxis\":{\"gridcolor\":\"white\",\"linecolor\":\"white\",\"ticks\":\"\"},\"bgcolor\":\"#E5ECF6\",\"caxis\":{\"gridcolor\":\"white\",\"linecolor\":\"white\",\"ticks\":\"\"}},\"title\":{\"x\":0.05},\"xaxis\":{\"automargin\":true,\"gridcolor\":\"white\",\"linecolor\":\"white\",\"ticks\":\"\",\"title\":{\"standoff\":15},\"zerolinecolor\":\"white\",\"zerolinewidth\":2},\"yaxis\":{\"automargin\":true,\"gridcolor\":\"white\",\"linecolor\":\"white\",\"ticks\":\"\",\"title\":{\"standoff\":15},\"zerolinecolor\":\"white\",\"zerolinewidth\":2}}},\"xaxis\":{\"anchor\":\"y\",\"domain\":[0.0,1.0],\"title\":{\"text\":\"year_of_release\"}},\"yaxis\":{\"anchor\":\"x\",\"domain\":[0.0,1.0],\"title\":{\"text\":\"nunique\"}},\"legend\":{\"title\":{\"text\":\"genre\"},\"tracegroupgap\":0},\"margin\":{\"t\":60}},                        {\"responsive\": true}                    ).then(function(){\n",
              "                            \n",
              "var gd = document.getElementById('b6841cb4-c571-40c9-9f28-ad6592cc325d');\n",
              "var x = new MutationObserver(function (mutations, observer) {{\n",
              "        var display = window.getComputedStyle(gd).display;\n",
              "        if (!display || display === 'none') {{\n",
              "            console.log([gd, 'removed!']);\n",
              "            Plotly.purge(gd);\n",
              "            observer.disconnect();\n",
              "        }}\n",
              "}});\n",
              "\n",
              "// Listen for the removal of the full notebook cells\n",
              "var notebookContainer = gd.closest('#notebook-container');\n",
              "if (notebookContainer) {{\n",
              "    x.observe(notebookContainer, {childList: true});\n",
              "}}\n",
              "\n",
              "// Listen for the clearing of the current output cell\n",
              "var outputEl = gd.closest('.output');\n",
              "if (outputEl) {{\n",
              "    x.observe(outputEl, {childList: true});\n",
              "}}\n",
              "\n",
              "                        })                };                            </script>        </div>\n",
              "</body>\n",
              "</html>"
            ]
          },
          "metadata": {}
        }
      ]
    },
    {
      "cell_type": "code",
      "source": [
        "fig = px.area(t, x=\"year_of_release\", y=\"nunique\", color=\"platform\", line_group=\"genre\")\n",
        "fig.show()"
      ],
      "metadata": {
        "colab": {
          "base_uri": "https://localhost:8080/",
          "height": 542
        },
        "id": "-ftA90wyaqbL",
        "outputId": "aeddcdac-ae36-474e-c380-73bfd42094a6"
      },
      "execution_count": null,
      "outputs": [
        {
          "output_type": "display_data",
          "data": {
            "text/html": [
              "<html>\n",
              "<head><meta charset=\"utf-8\" /></head>\n",
              "<body>\n",
              "    <div>            <script src=\"https://cdnjs.cloudflare.com/ajax/libs/mathjax/2.7.5/MathJax.js?config=TeX-AMS-MML_SVG\"></script><script type=\"text/javascript\">if (window.MathJax) {MathJax.Hub.Config({SVG: {font: \"STIX-Web\"}});}</script>                <script type=\"text/javascript\">window.PlotlyConfig = {MathJaxConfig: 'local'};</script>\n",
              "        <script src=\"https://cdn.plot.ly/plotly-2.8.3.min.js\"></script>                <div id=\"01714473-a536-43f9-8147-886020ba2ba2\" class=\"plotly-graph-div\" style=\"height:525px; width:100%;\"></div>            <script type=\"text/javascript\">                                    window.PLOTLYENV=window.PLOTLYENV || {};                                    if (document.getElementById(\"01714473-a536-43f9-8147-886020ba2ba2\")) {                    Plotly.newPlot(                        \"01714473-a536-43f9-8147-886020ba2ba2\",                        [{\"hovertemplate\":\"platform=DC<br>genre=Fighting<br>year_of_release=%{x}<br>nunique=%{y}<extra></extra>\",\"legendgroup\":\"DC\",\"line\":{\"color\":\"#636efa\"},\"marker\":{\"symbol\":\"circle\"},\"mode\":\"lines\",\"name\":\"DC\",\"orientation\":\"v\",\"showlegend\":true,\"stackgroup\":\"1\",\"x\":[\"2000-01-01T00:00:00\"],\"xaxis\":\"x\",\"y\":[1],\"yaxis\":\"y\",\"type\":\"scatter\"},{\"hovertemplate\":\"platform=DC<br>genre=Racing<br>year_of_release=%{x}<br>nunique=%{y}<extra></extra>\",\"legendgroup\":\"DC\",\"line\":{\"color\":\"#636efa\"},\"marker\":{\"symbol\":\"circle\"},\"mode\":\"lines\",\"name\":\"DC\",\"orientation\":\"v\",\"showlegend\":false,\"stackgroup\":\"1\",\"x\":[\"2000-01-01T00:00:00\",\"2001-01-01T00:00:00\"],\"xaxis\":\"x\",\"y\":[1,1],\"yaxis\":\"y\",\"type\":\"scatter\"},{\"hovertemplate\":\"platform=DC<br>genre=Role-Playing<br>year_of_release=%{x}<br>nunique=%{y}<extra></extra>\",\"legendgroup\":\"DC\",\"line\":{\"color\":\"#636efa\"},\"marker\":{\"symbol\":\"circle\"},\"mode\":\"lines\",\"name\":\"DC\",\"orientation\":\"v\",\"showlegend\":false,\"stackgroup\":\"1\",\"x\":[\"2000-01-01T00:00:00\",\"2001-01-01T00:00:00\"],\"xaxis\":\"x\",\"y\":[3,1],\"yaxis\":\"y\",\"type\":\"scatter\"},{\"hovertemplate\":\"platform=DC<br>genre=Shooter<br>year_of_release=%{x}<br>nunique=%{y}<extra></extra>\",\"legendgroup\":\"DC\",\"line\":{\"color\":\"#636efa\"},\"marker\":{\"symbol\":\"circle\"},\"mode\":\"lines\",\"name\":\"DC\",\"orientation\":\"v\",\"showlegend\":false,\"stackgroup\":\"1\",\"x\":[\"2000-01-01T00:00:00\"],\"xaxis\":\"x\",\"y\":[1],\"yaxis\":\"y\",\"type\":\"scatter\"},{\"hovertemplate\":\"platform=DC<br>genre=Sports<br>year_of_release=%{x}<br>nunique=%{y}<extra></extra>\",\"legendgroup\":\"DC\",\"line\":{\"color\":\"#636efa\"},\"marker\":{\"symbol\":\"circle\"},\"mode\":\"lines\",\"name\":\"DC\",\"orientation\":\"v\",\"showlegend\":false,\"stackgroup\":\"1\",\"x\":[\"2000-01-01T00:00:00\"],\"xaxis\":\"x\",\"y\":[1],\"yaxis\":\"y\",\"type\":\"scatter\"},{\"hovertemplate\":\"platform=DC<br>genre=Adventure<br>year_of_release=%{x}<br>nunique=%{y}<extra></extra>\",\"legendgroup\":\"DC\",\"line\":{\"color\":\"#636efa\"},\"marker\":{\"symbol\":\"circle\"},\"mode\":\"lines\",\"name\":\"DC\",\"orientation\":\"v\",\"showlegend\":false,\"stackgroup\":\"1\",\"x\":[\"2001-01-01T00:00:00\"],\"xaxis\":\"x\",\"y\":[1],\"yaxis\":\"y\",\"type\":\"scatter\"},{\"hovertemplate\":\"platform=DC<br>genre=Platform<br>year_of_release=%{x}<br>nunique=%{y}<extra></extra>\",\"legendgroup\":\"DC\",\"line\":{\"color\":\"#636efa\"},\"marker\":{\"symbol\":\"circle\"},\"mode\":\"lines\",\"name\":\"DC\",\"orientation\":\"v\",\"showlegend\":false,\"stackgroup\":\"1\",\"x\":[\"2001-01-01T00:00:00\"],\"xaxis\":\"x\",\"y\":[1],\"yaxis\":\"y\",\"type\":\"scatter\"},{\"hovertemplate\":\"platform=PC<br>genre=Fighting<br>year_of_release=%{x}<br>nunique=%{y}<extra></extra>\",\"legendgroup\":\"PC\",\"line\":{\"color\":\"#EF553B\"},\"marker\":{\"symbol\":\"circle\"},\"mode\":\"lines\",\"name\":\"PC\",\"orientation\":\"v\",\"showlegend\":true,\"stackgroup\":\"1\",\"x\":[\"2012-01-01T00:00:00\",\"2015-01-01T00:00:00\",\"2016-01-01T00:00:00\"],\"xaxis\":\"x\",\"y\":[1,1,1],\"yaxis\":\"y\",\"type\":\"scatter\"},{\"hovertemplate\":\"platform=PC<br>genre=Racing<br>year_of_release=%{x}<br>nunique=%{y}<extra></extra>\",\"legendgroup\":\"PC\",\"line\":{\"color\":\"#EF553B\"},\"marker\":{\"symbol\":\"circle\"},\"mode\":\"lines\",\"name\":\"PC\",\"orientation\":\"v\",\"showlegend\":false,\"stackgroup\":\"1\",\"x\":[\"2003-01-01T00:00:00\",\"2004-01-01T00:00:00\",\"2005-01-01T00:00:00\",\"2006-01-01T00:00:00\",\"2007-01-01T00:00:00\",\"2008-01-01T00:00:00\",\"2009-01-01T00:00:00\",\"2010-01-01T00:00:00\",\"2011-01-01T00:00:00\",\"2012-01-01T00:00:00\",\"2013-01-01T00:00:00\",\"2014-01-01T00:00:00\",\"2015-01-01T00:00:00\",\"2016-01-01T00:00:00\"],\"xaxis\":\"x\",\"y\":[1,2,2,2,5,3,5,4,3,4,2,4,3,3],\"yaxis\":\"y\",\"type\":\"scatter\"},{\"hovertemplate\":\"platform=PC<br>genre=Role-Playing<br>year_of_release=%{x}<br>nunique=%{y}<extra></extra>\",\"legendgroup\":\"PC\",\"line\":{\"color\":\"#EF553B\"},\"marker\":{\"symbol\":\"circle\"},\"mode\":\"lines\",\"name\":\"PC\",\"orientation\":\"v\",\"showlegend\":false,\"stackgroup\":\"1\",\"x\":[\"2000-01-01T00:00:00\",\"2001-01-01T00:00:00\",\"2002-01-01T00:00:00\",\"2003-01-01T00:00:00\",\"2004-01-01T00:00:00\",\"2005-01-01T00:00:00\",\"2006-01-01T00:00:00\",\"2007-01-01T00:00:00\",\"2008-01-01T00:00:00\",\"2009-01-01T00:00:00\",\"2010-01-01T00:00:00\",\"2011-01-01T00:00:00\",\"2012-01-01T00:00:00\",\"2014-01-01T00:00:00\",\"2015-01-01T00:00:00\",\"2016-01-01T00:00:00\"],\"xaxis\":\"x\",\"y\":[2,1,2,2,1,3,7,5,8,7,8,11,7,10,3,4],\"yaxis\":\"y\",\"type\":\"scatter\"},{\"hovertemplate\":\"platform=PC<br>genre=Shooter<br>year_of_release=%{x}<br>nunique=%{y}<extra></extra>\",\"legendgroup\":\"PC\",\"line\":{\"color\":\"#EF553B\"},\"marker\":{\"symbol\":\"circle\"},\"mode\":\"lines\",\"name\":\"PC\",\"orientation\":\"v\",\"showlegend\":false,\"stackgroup\":\"1\",\"x\":[\"2001-01-01T00:00:00\",\"2002-01-01T00:00:00\",\"2003-01-01T00:00:00\",\"2004-01-01T00:00:00\",\"2005-01-01T00:00:00\",\"2006-01-01T00:00:00\",\"2007-01-01T00:00:00\",\"2008-01-01T00:00:00\",\"2009-01-01T00:00:00\",\"2010-01-01T00:00:00\",\"2011-01-01T00:00:00\",\"2012-01-01T00:00:00\",\"2013-01-01T00:00:00\",\"2014-01-01T00:00:00\",\"2015-01-01T00:00:00\",\"2016-01-01T00:00:00\"],\"xaxis\":\"x\",\"y\":[1,2,4,8,9,2,13,10,13,9,19,9,10,7,3,8],\"yaxis\":\"y\",\"type\":\"scatter\"},{\"hovertemplate\":\"platform=PC<br>genre=Sports<br>year_of_release=%{x}<br>nunique=%{y}<extra></extra>\",\"legendgroup\":\"PC\",\"line\":{\"color\":\"#EF553B\"},\"marker\":{\"symbol\":\"circle\"},\"mode\":\"lines\",\"name\":\"PC\",\"orientation\":\"v\",\"showlegend\":false,\"stackgroup\":\"1\",\"x\":[\"2004-01-01T00:00:00\",\"2007-01-01T00:00:00\",\"2008-01-01T00:00:00\",\"2009-01-01T00:00:00\",\"2010-01-01T00:00:00\",\"2011-01-01T00:00:00\",\"2012-01-01T00:00:00\",\"2013-01-01T00:00:00\",\"2014-01-01T00:00:00\",\"2015-01-01T00:00:00\",\"2016-01-01T00:00:00\"],\"xaxis\":\"x\",\"y\":[1,2,2,4,3,5,2,2,1,2,4],\"yaxis\":\"y\",\"type\":\"scatter\"},{\"hovertemplate\":\"platform=PC<br>genre=Misc<br>year_of_release=%{x}<br>nunique=%{y}<extra></extra>\",\"legendgroup\":\"PC\",\"line\":{\"color\":\"#EF553B\"},\"marker\":{\"symbol\":\"circle\"},\"mode\":\"lines\",\"name\":\"PC\",\"orientation\":\"v\",\"showlegend\":false,\"stackgroup\":\"1\",\"x\":[\"2000-01-01T00:00:00\",\"2006-01-01T00:00:00\",\"2007-01-01T00:00:00\"],\"xaxis\":\"x\",\"y\":[1,1,1],\"yaxis\":\"y\",\"type\":\"scatter\"},{\"hovertemplate\":\"platform=PC<br>genre=Simulation<br>year_of_release=%{x}<br>nunique=%{y}<extra></extra>\",\"legendgroup\":\"PC\",\"line\":{\"color\":\"#EF553B\"},\"marker\":{\"symbol\":\"circle\"},\"mode\":\"lines\",\"name\":\"PC\",\"orientation\":\"v\",\"showlegend\":false,\"stackgroup\":\"1\",\"x\":[\"2000-01-01T00:00:00\",\"2001-01-01T00:00:00\",\"2002-01-01T00:00:00\",\"2003-01-01T00:00:00\",\"2004-01-01T00:00:00\",\"2005-01-01T00:00:00\",\"2006-01-01T00:00:00\",\"2007-01-01T00:00:00\",\"2008-01-01T00:00:00\",\"2009-01-01T00:00:00\",\"2010-01-01T00:00:00\",\"2011-01-01T00:00:00\",\"2012-01-01T00:00:00\",\"2013-01-01T00:00:00\",\"2014-01-01T00:00:00\",\"2015-01-01T00:00:00\",\"2016-01-01T00:00:00\"],\"xaxis\":\"x\",\"y\":[1,4,4,8,1,6,8,8,4,4,7,8,2,2,2,3,4],\"yaxis\":\"y\",\"type\":\"scatter\"},{\"hovertemplate\":\"platform=PC<br>genre=Action<br>year_of_release=%{x}<br>nunique=%{y}<extra></extra>\",\"legendgroup\":\"PC\",\"line\":{\"color\":\"#EF553B\"},\"marker\":{\"symbol\":\"circle\"},\"mode\":\"lines\",\"name\":\"PC\",\"orientation\":\"v\",\"showlegend\":false,\"stackgroup\":\"1\",\"x\":[\"2001-01-01T00:00:00\",\"2002-01-01T00:00:00\",\"2003-01-01T00:00:00\",\"2004-01-01T00:00:00\",\"2005-01-01T00:00:00\",\"2006-01-01T00:00:00\",\"2007-01-01T00:00:00\",\"2008-01-01T00:00:00\",\"2009-01-01T00:00:00\",\"2010-01-01T00:00:00\",\"2011-01-01T00:00:00\",\"2012-01-01T00:00:00\",\"2013-01-01T00:00:00\",\"2014-01-01T00:00:00\",\"2015-01-01T00:00:00\",\"2016-01-01T00:00:00\"],\"xaxis\":\"x\",\"y\":[1,4,2,1,2,5,4,14,16,15,17,12,10,10,12,6],\"yaxis\":\"y\",\"type\":\"scatter\"},{\"hovertemplate\":\"platform=PC<br>genre=Adventure<br>year_of_release=%{x}<br>nunique=%{y}<extra></extra>\",\"legendgroup\":\"PC\",\"line\":{\"color\":\"#EF553B\"},\"marker\":{\"symbol\":\"circle\"},\"mode\":\"lines\",\"name\":\"PC\",\"orientation\":\"v\",\"showlegend\":false,\"stackgroup\":\"1\",\"x\":[\"2003-01-01T00:00:00\",\"2004-01-01T00:00:00\",\"2005-01-01T00:00:00\",\"2006-01-01T00:00:00\",\"2008-01-01T00:00:00\",\"2009-01-01T00:00:00\",\"2010-01-01T00:00:00\",\"2011-01-01T00:00:00\",\"2012-01-01T00:00:00\",\"2016-01-01T00:00:00\"],\"xaxis\":\"x\",\"y\":[2,1,1,1,3,7,2,4,1,3],\"yaxis\":\"y\",\"type\":\"scatter\"},{\"hovertemplate\":\"platform=PC<br>genre=Platform<br>year_of_release=%{x}<br>nunique=%{y}<extra></extra>\",\"legendgroup\":\"PC\",\"line\":{\"color\":\"#EF553B\"},\"marker\":{\"symbol\":\"circle\"},\"mode\":\"lines\",\"name\":\"PC\",\"orientation\":\"v\",\"showlegend\":false,\"stackgroup\":\"1\",\"x\":[\"2003-01-01T00:00:00\",\"2007-01-01T00:00:00\",\"2008-01-01T00:00:00\",\"2009-01-01T00:00:00\",\"2011-01-01T00:00:00\",\"2012-01-01T00:00:00\",\"2013-01-01T00:00:00\",\"2016-01-01T00:00:00\"],\"xaxis\":\"x\",\"y\":[1,1,1,2,2,1,1,1],\"yaxis\":\"y\",\"type\":\"scatter\"},{\"hovertemplate\":\"platform=PC<br>genre=Strategy<br>year_of_release=%{x}<br>nunique=%{y}<extra></extra>\",\"legendgroup\":\"PC\",\"line\":{\"color\":\"#EF553B\"},\"marker\":{\"symbol\":\"circle\"},\"mode\":\"lines\",\"name\":\"PC\",\"orientation\":\"v\",\"showlegend\":false,\"stackgroup\":\"1\",\"x\":[\"2001-01-01T00:00:00\",\"2002-01-01T00:00:00\",\"2003-01-01T00:00:00\",\"2004-01-01T00:00:00\",\"2005-01-01T00:00:00\",\"2006-01-01T00:00:00\",\"2007-01-01T00:00:00\",\"2008-01-01T00:00:00\",\"2009-01-01T00:00:00\",\"2010-01-01T00:00:00\",\"2011-01-01T00:00:00\",\"2012-01-01T00:00:00\",\"2013-01-01T00:00:00\",\"2014-01-01T00:00:00\",\"2015-01-01T00:00:00\",\"2016-01-01T00:00:00\"],\"xaxis\":\"x\",\"y\":[4,5,7,8,5,12,12,5,17,10,15,2,3,1,4,3],\"yaxis\":\"y\",\"type\":\"scatter\"},{\"hovertemplate\":\"platform=PC<br>genre=Puzzle<br>year_of_release=%{x}<br>nunique=%{y}<extra></extra>\",\"legendgroup\":\"PC\",\"line\":{\"color\":\"#EF553B\"},\"marker\":{\"symbol\":\"circle\"},\"mode\":\"lines\",\"name\":\"PC\",\"orientation\":\"v\",\"showlegend\":false,\"stackgroup\":\"1\",\"x\":[\"2008-01-01T00:00:00\",\"2010-01-01T00:00:00\"],\"xaxis\":\"x\",\"y\":[3,1],\"yaxis\":\"y\",\"type\":\"scatter\"},{\"hovertemplate\":\"platform=PS<br>genre=Fighting<br>year_of_release=%{x}<br>nunique=%{y}<extra></extra>\",\"legendgroup\":\"PS\",\"line\":{\"color\":\"#00cc96\"},\"marker\":{\"symbol\":\"circle\"},\"mode\":\"lines\",\"name\":\"PS\",\"orientation\":\"v\",\"showlegend\":true,\"stackgroup\":\"1\",\"x\":[\"2000-01-01T00:00:00\",\"2001-01-01T00:00:00\",\"2002-01-01T00:00:00\"],\"xaxis\":\"x\",\"y\":[5,2,1],\"yaxis\":\"y\",\"type\":\"scatter\"},{\"hovertemplate\":\"platform=PS<br>genre=Racing<br>year_of_release=%{x}<br>nunique=%{y}<extra></extra>\",\"legendgroup\":\"PS\",\"line\":{\"color\":\"#00cc96\"},\"marker\":{\"symbol\":\"circle\"},\"mode\":\"lines\",\"name\":\"PS\",\"orientation\":\"v\",\"showlegend\":false,\"stackgroup\":\"1\",\"x\":[\"2000-01-01T00:00:00\",\"2001-01-01T00:00:00\"],\"xaxis\":\"x\",\"y\":[11,8],\"yaxis\":\"y\",\"type\":\"scatter\"},{\"hovertemplate\":\"platform=PS<br>genre=Role-Playing<br>year_of_release=%{x}<br>nunique=%{y}<extra></extra>\",\"legendgroup\":\"PS\",\"line\":{\"color\":\"#00cc96\"},\"marker\":{\"symbol\":\"circle\"},\"mode\":\"lines\",\"name\":\"PS\",\"orientation\":\"v\",\"showlegend\":false,\"stackgroup\":\"1\",\"x\":[\"2000-01-01T00:00:00\",\"2001-01-01T00:00:00\"],\"xaxis\":\"x\",\"y\":[6,3],\"yaxis\":\"y\",\"type\":\"scatter\"},{\"hovertemplate\":\"platform=PS<br>genre=Shooter<br>year_of_release=%{x}<br>nunique=%{y}<extra></extra>\",\"legendgroup\":\"PS\",\"line\":{\"color\":\"#00cc96\"},\"marker\":{\"symbol\":\"circle\"},\"mode\":\"lines\",\"name\":\"PS\",\"orientation\":\"v\",\"showlegend\":false,\"stackgroup\":\"1\",\"x\":[\"2000-01-01T00:00:00\",\"2001-01-01T00:00:00\"],\"xaxis\":\"x\",\"y\":[5,4],\"yaxis\":\"y\",\"type\":\"scatter\"},{\"hovertemplate\":\"platform=PS<br>genre=Sports<br>year_of_release=%{x}<br>nunique=%{y}<extra></extra>\",\"legendgroup\":\"PS\",\"line\":{\"color\":\"#00cc96\"},\"marker\":{\"symbol\":\"circle\"},\"mode\":\"lines\",\"name\":\"PS\",\"orientation\":\"v\",\"showlegend\":false,\"stackgroup\":\"1\",\"x\":[\"2000-01-01T00:00:00\",\"2001-01-01T00:00:00\"],\"xaxis\":\"x\",\"y\":[17,9],\"yaxis\":\"y\",\"type\":\"scatter\"},{\"hovertemplate\":\"platform=PS<br>genre=Misc<br>year_of_release=%{x}<br>nunique=%{y}<extra></extra>\",\"legendgroup\":\"PS\",\"line\":{\"color\":\"#00cc96\"},\"marker\":{\"symbol\":\"circle\"},\"mode\":\"lines\",\"name\":\"PS\",\"orientation\":\"v\",\"showlegend\":false,\"stackgroup\":\"1\",\"x\":[\"2000-01-01T00:00:00\",\"2001-01-01T00:00:00\"],\"xaxis\":\"x\",\"y\":[2,1],\"yaxis\":\"y\",\"type\":\"scatter\"},{\"hovertemplate\":\"platform=PS<br>genre=Simulation<br>year_of_release=%{x}<br>nunique=%{y}<extra></extra>\",\"legendgroup\":\"PS\",\"line\":{\"color\":\"#00cc96\"},\"marker\":{\"symbol\":\"circle\"},\"mode\":\"lines\",\"name\":\"PS\",\"orientation\":\"v\",\"showlegend\":false,\"stackgroup\":\"1\",\"x\":[\"2000-01-01T00:00:00\"],\"xaxis\":\"x\",\"y\":[2],\"yaxis\":\"y\",\"type\":\"scatter\"},{\"hovertemplate\":\"platform=PS<br>genre=Action<br>year_of_release=%{x}<br>nunique=%{y}<extra></extra>\",\"legendgroup\":\"PS\",\"line\":{\"color\":\"#00cc96\"},\"marker\":{\"symbol\":\"circle\"},\"mode\":\"lines\",\"name\":\"PS\",\"orientation\":\"v\",\"showlegend\":false,\"stackgroup\":\"1\",\"x\":[\"2000-01-01T00:00:00\",\"2001-01-01T00:00:00\"],\"xaxis\":\"x\",\"y\":[13,7],\"yaxis\":\"y\",\"type\":\"scatter\"},{\"hovertemplate\":\"platform=PS<br>genre=Adventure<br>year_of_release=%{x}<br>nunique=%{y}<extra></extra>\",\"legendgroup\":\"PS\",\"line\":{\"color\":\"#00cc96\"},\"marker\":{\"symbol\":\"circle\"},\"mode\":\"lines\",\"name\":\"PS\",\"orientation\":\"v\",\"showlegend\":false,\"stackgroup\":\"1\",\"x\":[\"2000-01-01T00:00:00\",\"2001-01-01T00:00:00\"],\"xaxis\":\"x\",\"y\":[4,1],\"yaxis\":\"y\",\"type\":\"scatter\"},{\"hovertemplate\":\"platform=PS<br>genre=Platform<br>year_of_release=%{x}<br>nunique=%{y}<extra></extra>\",\"legendgroup\":\"PS\",\"line\":{\"color\":\"#00cc96\"},\"marker\":{\"symbol\":\"circle\"},\"mode\":\"lines\",\"name\":\"PS\",\"orientation\":\"v\",\"showlegend\":false,\"stackgroup\":\"1\",\"x\":[\"2000-01-01T00:00:00\",\"2001-01-01T00:00:00\"],\"xaxis\":\"x\",\"y\":[6,4],\"yaxis\":\"y\",\"type\":\"scatter\"},{\"hovertemplate\":\"platform=PS<br>genre=Strategy<br>year_of_release=%{x}<br>nunique=%{y}<extra></extra>\",\"legendgroup\":\"PS\",\"line\":{\"color\":\"#00cc96\"},\"marker\":{\"symbol\":\"circle\"},\"mode\":\"lines\",\"name\":\"PS\",\"orientation\":\"v\",\"showlegend\":false,\"stackgroup\":\"1\",\"x\":[\"2000-01-01T00:00:00\"],\"xaxis\":\"x\",\"y\":[2],\"yaxis\":\"y\",\"type\":\"scatter\"},{\"hovertemplate\":\"platform=PS2<br>genre=Fighting<br>year_of_release=%{x}<br>nunique=%{y}<extra></extra>\",\"legendgroup\":\"PS2\",\"line\":{\"color\":\"#ab63fa\"},\"marker\":{\"symbol\":\"circle\"},\"mode\":\"lines\",\"name\":\"PS2\",\"orientation\":\"v\",\"showlegend\":true,\"stackgroup\":\"1\",\"x\":[\"2000-01-01T00:00:00\",\"2001-01-01T00:00:00\",\"2002-01-01T00:00:00\",\"2003-01-01T00:00:00\",\"2004-01-01T00:00:00\",\"2005-01-01T00:00:00\",\"2006-01-01T00:00:00\",\"2007-01-01T00:00:00\",\"2008-01-01T00:00:00\"],\"xaxis\":\"x\",\"y\":[5,4,12,12,17,10,10,6,2],\"yaxis\":\"y\",\"type\":\"scatter\"},{\"hovertemplate\":\"platform=PS2<br>genre=Racing<br>year_of_release=%{x}<br>nunique=%{y}<extra></extra>\",\"legendgroup\":\"PS2\",\"line\":{\"color\":\"#ab63fa\"},\"marker\":{\"symbol\":\"circle\"},\"mode\":\"lines\",\"name\":\"PS2\",\"orientation\":\"v\",\"showlegend\":false,\"stackgroup\":\"1\",\"x\":[\"2000-01-01T00:00:00\",\"2001-01-01T00:00:00\",\"2002-01-01T00:00:00\",\"2003-01-01T00:00:00\",\"2004-01-01T00:00:00\",\"2005-01-01T00:00:00\",\"2006-01-01T00:00:00\",\"2007-01-01T00:00:00\",\"2008-01-01T00:00:00\",\"2009-01-01T00:00:00\"],\"xaxis\":\"x\",\"y\":[10,30,35,25,19,15,15,8,3,1],\"yaxis\":\"y\",\"type\":\"scatter\"},{\"hovertemplate\":\"platform=PS2<br>genre=Role-Playing<br>year_of_release=%{x}<br>nunique=%{y}<extra></extra>\",\"legendgroup\":\"PS2\",\"line\":{\"color\":\"#ab63fa\"},\"marker\":{\"symbol\":\"circle\"},\"mode\":\"lines\",\"name\":\"PS2\",\"orientation\":\"v\",\"showlegend\":false,\"stackgroup\":\"1\",\"x\":[\"2000-01-01T00:00:00\",\"2001-01-01T00:00:00\",\"2002-01-01T00:00:00\",\"2003-01-01T00:00:00\",\"2004-01-01T00:00:00\",\"2005-01-01T00:00:00\",\"2006-01-01T00:00:00\",\"2007-01-01T00:00:00\",\"2008-01-01T00:00:00\"],\"xaxis\":\"x\",\"y\":[6,12,16,11,23,26,14,6,5],\"yaxis\":\"y\",\"type\":\"scatter\"},{\"hovertemplate\":\"platform=PS2<br>genre=Shooter<br>year_of_release=%{x}<br>nunique=%{y}<extra></extra>\",\"legendgroup\":\"PS2\",\"line\":{\"color\":\"#ab63fa\"},\"marker\":{\"symbol\":\"circle\"},\"mode\":\"lines\",\"name\":\"PS2\",\"orientation\":\"v\",\"showlegend\":false,\"stackgroup\":\"1\",\"x\":[\"2000-01-01T00:00:00\",\"2001-01-01T00:00:00\",\"2002-01-01T00:00:00\",\"2003-01-01T00:00:00\",\"2004-01-01T00:00:00\",\"2005-01-01T00:00:00\",\"2006-01-01T00:00:00\",\"2007-01-01T00:00:00\",\"2008-01-01T00:00:00\"],\"xaxis\":\"x\",\"y\":[6,19,24,20,29,22,13,3,1],\"yaxis\":\"y\",\"type\":\"scatter\"},{\"hovertemplate\":\"platform=PS2<br>genre=Sports<br>year_of_release=%{x}<br>nunique=%{y}<extra></extra>\",\"legendgroup\":\"PS2\",\"line\":{\"color\":\"#ab63fa\"},\"marker\":{\"symbol\":\"circle\"},\"mode\":\"lines\",\"name\":\"PS2\",\"orientation\":\"v\",\"showlegend\":false,\"stackgroup\":\"1\",\"x\":[\"2000-01-01T00:00:00\",\"2001-01-01T00:00:00\",\"2002-01-01T00:00:00\",\"2003-01-01T00:00:00\",\"2004-01-01T00:00:00\",\"2005-01-01T00:00:00\",\"2006-01-01T00:00:00\",\"2007-01-01T00:00:00\",\"2008-01-01T00:00:00\",\"2009-01-01T00:00:00\"],\"xaxis\":\"x\",\"y\":[12,35,51,33,33,23,22,18,6,1],\"yaxis\":\"y\",\"type\":\"scatter\"},{\"hovertemplate\":\"platform=PS2<br>genre=Misc<br>year_of_release=%{x}<br>nunique=%{y}<extra></extra>\",\"legendgroup\":\"PS2\",\"line\":{\"color\":\"#ab63fa\"},\"marker\":{\"symbol\":\"circle\"},\"mode\":\"lines\",\"name\":\"PS2\",\"orientation\":\"v\",\"showlegend\":false,\"stackgroup\":\"1\",\"x\":[\"2001-01-01T00:00:00\",\"2002-01-01T00:00:00\",\"2003-01-01T00:00:00\",\"2004-01-01T00:00:00\",\"2005-01-01T00:00:00\",\"2006-01-01T00:00:00\",\"2007-01-01T00:00:00\",\"2008-01-01T00:00:00\",\"2009-01-01T00:00:00\"],\"xaxis\":\"x\",\"y\":[6,6,14,13,17,6,7,5,4],\"yaxis\":\"y\",\"type\":\"scatter\"},{\"hovertemplate\":\"platform=PS2<br>genre=Simulation<br>year_of_release=%{x}<br>nunique=%{y}<extra></extra>\",\"legendgroup\":\"PS2\",\"line\":{\"color\":\"#ab63fa\"},\"marker\":{\"symbol\":\"circle\"},\"mode\":\"lines\",\"name\":\"PS2\",\"orientation\":\"v\",\"showlegend\":false,\"stackgroup\":\"1\",\"x\":[\"2000-01-01T00:00:00\",\"2001-01-01T00:00:00\",\"2002-01-01T00:00:00\",\"2003-01-01T00:00:00\",\"2004-01-01T00:00:00\",\"2005-01-01T00:00:00\",\"2006-01-01T00:00:00\",\"2007-01-01T00:00:00\",\"2008-01-01T00:00:00\"],\"xaxis\":\"x\",\"y\":[4,10,5,10,8,6,6,2,2],\"yaxis\":\"y\",\"type\":\"scatter\"},{\"hovertemplate\":\"platform=PS2<br>genre=Action<br>year_of_release=%{x}<br>nunique=%{y}<extra></extra>\",\"legendgroup\":\"PS2\",\"line\":{\"color\":\"#ab63fa\"},\"marker\":{\"symbol\":\"circle\"},\"mode\":\"lines\",\"name\":\"PS2\",\"orientation\":\"v\",\"showlegend\":false,\"stackgroup\":\"1\",\"x\":[\"2000-01-01T00:00:00\",\"2001-01-01T00:00:00\",\"2002-01-01T00:00:00\",\"2003-01-01T00:00:00\",\"2004-01-01T00:00:00\",\"2005-01-01T00:00:00\",\"2006-01-01T00:00:00\",\"2007-01-01T00:00:00\",\"2008-01-01T00:00:00\",\"2009-01-01T00:00:00\",\"2010-01-01T00:00:00\"],\"xaxis\":\"x\",\"y\":[4,18,30,38,39,55,27,17,14,6,1],\"yaxis\":\"y\",\"type\":\"scatter\"},{\"hovertemplate\":\"platform=PS2<br>genre=Adventure<br>year_of_release=%{x}<br>nunique=%{y}<extra></extra>\",\"legendgroup\":\"PS2\",\"line\":{\"color\":\"#ab63fa\"},\"marker\":{\"symbol\":\"circle\"},\"mode\":\"lines\",\"name\":\"PS2\",\"orientation\":\"v\",\"showlegend\":false,\"stackgroup\":\"1\",\"x\":[\"2001-01-01T00:00:00\",\"2002-01-01T00:00:00\",\"2003-01-01T00:00:00\",\"2004-01-01T00:00:00\",\"2005-01-01T00:00:00\",\"2006-01-01T00:00:00\",\"2008-01-01T00:00:00\"],\"xaxis\":\"x\",\"y\":[4,15,4,9,4,5,2],\"yaxis\":\"y\",\"type\":\"scatter\"},{\"hovertemplate\":\"platform=PS2<br>genre=Platform<br>year_of_release=%{x}<br>nunique=%{y}<extra></extra>\",\"legendgroup\":\"PS2\",\"line\":{\"color\":\"#ab63fa\"},\"marker\":{\"symbol\":\"circle\"},\"mode\":\"lines\",\"name\":\"PS2\",\"orientation\":\"v\",\"showlegend\":false,\"stackgroup\":\"1\",\"x\":[\"2000-01-01T00:00:00\",\"2001-01-01T00:00:00\",\"2002-01-01T00:00:00\",\"2003-01-01T00:00:00\",\"2004-01-01T00:00:00\",\"2005-01-01T00:00:00\",\"2006-01-01T00:00:00\",\"2007-01-01T00:00:00\",\"2008-01-01T00:00:00\",\"2009-01-01T00:00:00\"],\"xaxis\":\"x\",\"y\":[2,10,7,14,14,12,6,2,3,2],\"yaxis\":\"y\",\"type\":\"scatter\"},{\"hovertemplate\":\"platform=PS2<br>genre=Strategy<br>year_of_release=%{x}<br>nunique=%{y}<extra></extra>\",\"legendgroup\":\"PS2\",\"line\":{\"color\":\"#ab63fa\"},\"marker\":{\"symbol\":\"circle\"},\"mode\":\"lines\",\"name\":\"PS2\",\"orientation\":\"v\",\"showlegend\":false,\"stackgroup\":\"1\",\"x\":[\"2000-01-01T00:00:00\",\"2001-01-01T00:00:00\",\"2002-01-01T00:00:00\",\"2003-01-01T00:00:00\",\"2004-01-01T00:00:00\",\"2005-01-01T00:00:00\",\"2006-01-01T00:00:00\",\"2007-01-01T00:00:00\"],\"xaxis\":\"x\",\"y\":[4,2,7,9,7,3,5,3],\"yaxis\":\"y\",\"type\":\"scatter\"},{\"hovertemplate\":\"platform=PS2<br>genre=Puzzle<br>year_of_release=%{x}<br>nunique=%{y}<extra></extra>\",\"legendgroup\":\"PS2\",\"line\":{\"color\":\"#ab63fa\"},\"marker\":{\"symbol\":\"circle\"},\"mode\":\"lines\",\"name\":\"PS2\",\"orientation\":\"v\",\"showlegend\":false,\"stackgroup\":\"1\",\"x\":[\"2000-01-01T00:00:00\",\"2002-01-01T00:00:00\",\"2004-01-01T00:00:00\",\"2005-01-01T00:00:00\",\"2006-01-01T00:00:00\",\"2007-01-01T00:00:00\",\"2008-01-01T00:00:00\"],\"xaxis\":\"x\",\"y\":[3,3,1,1,1,1,1],\"yaxis\":\"y\",\"type\":\"scatter\"},{\"hovertemplate\":\"platform=XB<br>genre=Fighting<br>year_of_release=%{x}<br>nunique=%{y}<extra></extra>\",\"legendgroup\":\"XB\",\"line\":{\"color\":\"#FFA15A\"},\"marker\":{\"symbol\":\"circle\"},\"mode\":\"lines\",\"name\":\"XB\",\"orientation\":\"v\",\"showlegend\":true,\"stackgroup\":\"1\",\"x\":[\"2001-01-01T00:00:00\",\"2002-01-01T00:00:00\",\"2003-01-01T00:00:00\",\"2004-01-01T00:00:00\",\"2005-01-01T00:00:00\",\"2006-01-01T00:00:00\"],\"xaxis\":\"x\",\"y\":[1,8,9,10,8,3],\"yaxis\":\"y\",\"type\":\"scatter\"},{\"hovertemplate\":\"platform=XB<br>genre=Racing<br>year_of_release=%{x}<br>nunique=%{y}<extra></extra>\",\"legendgroup\":\"XB\",\"line\":{\"color\":\"#FFA15A\"},\"marker\":{\"symbol\":\"circle\"},\"mode\":\"lines\",\"name\":\"XB\",\"orientation\":\"v\",\"showlegend\":false,\"stackgroup\":\"1\",\"x\":[\"2001-01-01T00:00:00\",\"2002-01-01T00:00:00\",\"2003-01-01T00:00:00\",\"2004-01-01T00:00:00\",\"2005-01-01T00:00:00\",\"2006-01-01T00:00:00\"],\"xaxis\":\"x\",\"y\":[11,22,30,19,15,10],\"yaxis\":\"y\",\"type\":\"scatter\"},{\"hovertemplate\":\"platform=XB<br>genre=Role-Playing<br>year_of_release=%{x}<br>nunique=%{y}<extra></extra>\",\"legendgroup\":\"XB\",\"line\":{\"color\":\"#FFA15A\"},\"marker\":{\"symbol\":\"circle\"},\"mode\":\"lines\",\"name\":\"XB\",\"orientation\":\"v\",\"showlegend\":false,\"stackgroup\":\"1\",\"x\":[\"2002-01-01T00:00:00\",\"2003-01-01T00:00:00\",\"2004-01-01T00:00:00\",\"2005-01-01T00:00:00\"],\"xaxis\":\"x\",\"y\":[3,3,7,4],\"yaxis\":\"y\",\"type\":\"scatter\"},{\"hovertemplate\":\"platform=XB<br>genre=Shooter<br>year_of_release=%{x}<br>nunique=%{y}<extra></extra>\",\"legendgroup\":\"XB\",\"line\":{\"color\":\"#FFA15A\"},\"marker\":{\"symbol\":\"circle\"},\"mode\":\"lines\",\"name\":\"XB\",\"orientation\":\"v\",\"showlegend\":false,\"stackgroup\":\"1\",\"x\":[\"2001-01-01T00:00:00\",\"2002-01-01T00:00:00\",\"2003-01-01T00:00:00\",\"2004-01-01T00:00:00\",\"2005-01-01T00:00:00\",\"2006-01-01T00:00:00\"],\"xaxis\":\"x\",\"y\":[4,18,26,26,34,9],\"yaxis\":\"y\",\"type\":\"scatter\"},{\"hovertemplate\":\"platform=XB<br>genre=Sports<br>year_of_release=%{x}<br>nunique=%{y}<extra></extra>\",\"legendgroup\":\"XB\",\"line\":{\"color\":\"#FFA15A\"},\"marker\":{\"symbol\":\"circle\"},\"mode\":\"lines\",\"name\":\"XB\",\"orientation\":\"v\",\"showlegend\":false,\"stackgroup\":\"1\",\"x\":[\"2000-01-01T00:00:00\",\"2001-01-01T00:00:00\",\"2002-01-01T00:00:00\",\"2003-01-01T00:00:00\",\"2004-01-01T00:00:00\",\"2005-01-01T00:00:00\",\"2006-01-01T00:00:00\",\"2007-01-01T00:00:00\"],\"xaxis\":\"x\",\"y\":[1,8,40,35,26,20,17,2],\"yaxis\":\"y\",\"type\":\"scatter\"},{\"hovertemplate\":\"platform=XB<br>genre=Misc<br>year_of_release=%{x}<br>nunique=%{y}<extra></extra>\",\"legendgroup\":\"XB\",\"line\":{\"color\":\"#FFA15A\"},\"marker\":{\"symbol\":\"circle\"},\"mode\":\"lines\",\"name\":\"XB\",\"orientation\":\"v\",\"showlegend\":false,\"stackgroup\":\"1\",\"x\":[\"2001-01-01T00:00:00\",\"2002-01-01T00:00:00\",\"2003-01-01T00:00:00\",\"2004-01-01T00:00:00\",\"2005-01-01T00:00:00\",\"2006-01-01T00:00:00\"],\"xaxis\":\"x\",\"y\":[1,3,3,10,12,1],\"yaxis\":\"y\",\"type\":\"scatter\"},{\"hovertemplate\":\"platform=XB<br>genre=Simulation<br>year_of_release=%{x}<br>nunique=%{y}<extra></extra>\",\"legendgroup\":\"XB\",\"line\":{\"color\":\"#FFA15A\"},\"marker\":{\"symbol\":\"circle\"},\"mode\":\"lines\",\"name\":\"XB\",\"orientation\":\"v\",\"showlegend\":false,\"stackgroup\":\"1\",\"x\":[\"2001-01-01T00:00:00\",\"2002-01-01T00:00:00\",\"2003-01-01T00:00:00\",\"2004-01-01T00:00:00\",\"2005-01-01T00:00:00\",\"2006-01-01T00:00:00\"],\"xaxis\":\"x\",\"y\":[1,4,6,7,4,1],\"yaxis\":\"y\",\"type\":\"scatter\"},{\"hovertemplate\":\"platform=XB<br>genre=Action<br>year_of_release=%{x}<br>nunique=%{y}<extra></extra>\",\"legendgroup\":\"XB\",\"line\":{\"color\":\"#FFA15A\"},\"marker\":{\"symbol\":\"circle\"},\"mode\":\"lines\",\"name\":\"XB\",\"orientation\":\"v\",\"showlegend\":false,\"stackgroup\":\"1\",\"x\":[\"2001-01-01T00:00:00\",\"2002-01-01T00:00:00\",\"2003-01-01T00:00:00\",\"2004-01-01T00:00:00\",\"2005-01-01T00:00:00\",\"2006-01-01T00:00:00\",\"2007-01-01T00:00:00\"],\"xaxis\":\"x\",\"y\":[4,25,30,27,41,9,1],\"yaxis\":\"y\",\"type\":\"scatter\"},{\"hovertemplate\":\"platform=XB<br>genre=Adventure<br>year_of_release=%{x}<br>nunique=%{y}<extra></extra>\",\"legendgroup\":\"XB\",\"line\":{\"color\":\"#FFA15A\"},\"marker\":{\"symbol\":\"circle\"},\"mode\":\"lines\",\"name\":\"XB\",\"orientation\":\"v\",\"showlegend\":false,\"stackgroup\":\"1\",\"x\":[\"2002-01-01T00:00:00\",\"2003-01-01T00:00:00\",\"2004-01-01T00:00:00\",\"2005-01-01T00:00:00\",\"2006-01-01T00:00:00\"],\"xaxis\":\"x\",\"y\":[6,1,6,8,1],\"yaxis\":\"y\",\"type\":\"scatter\"},{\"hovertemplate\":\"platform=XB<br>genre=Platform<br>year_of_release=%{x}<br>nunique=%{y}<extra></extra>\",\"legendgroup\":\"XB\",\"line\":{\"color\":\"#FFA15A\"},\"marker\":{\"symbol\":\"circle\"},\"mode\":\"lines\",\"name\":\"XB\",\"orientation\":\"v\",\"showlegend\":false,\"stackgroup\":\"1\",\"x\":[\"2001-01-01T00:00:00\",\"2002-01-01T00:00:00\",\"2003-01-01T00:00:00\",\"2004-01-01T00:00:00\",\"2005-01-01T00:00:00\",\"2006-01-01T00:00:00\"],\"xaxis\":\"x\",\"y\":[2,5,9,10,11,2],\"yaxis\":\"y\",\"type\":\"scatter\"},{\"hovertemplate\":\"platform=XB<br>genre=Strategy<br>year_of_release=%{x}<br>nunique=%{y}<extra></extra>\",\"legendgroup\":\"XB\",\"line\":{\"color\":\"#FFA15A\"},\"marker\":{\"symbol\":\"circle\"},\"mode\":\"lines\",\"name\":\"XB\",\"orientation\":\"v\",\"showlegend\":false,\"stackgroup\":\"1\",\"x\":[\"2002-01-01T00:00:00\",\"2003-01-01T00:00:00\",\"2004-01-01T00:00:00\",\"2005-01-01T00:00:00\",\"2006-01-01T00:00:00\"],\"xaxis\":\"x\",\"y\":[1,7,5,3,1],\"yaxis\":\"y\",\"type\":\"scatter\"},{\"hovertemplate\":\"platform=XB<br>genre=Puzzle<br>year_of_release=%{x}<br>nunique=%{y}<extra></extra>\",\"legendgroup\":\"XB\",\"line\":{\"color\":\"#FFA15A\"},\"marker\":{\"symbol\":\"circle\"},\"mode\":\"lines\",\"name\":\"XB\",\"orientation\":\"v\",\"showlegend\":false,\"stackgroup\":\"1\",\"x\":[\"2002-01-01T00:00:00\",\"2003-01-01T00:00:00\",\"2004-01-01T00:00:00\"],\"xaxis\":\"x\",\"y\":[3,1,1],\"yaxis\":\"y\",\"type\":\"scatter\"},{\"hovertemplate\":\"platform=GBA<br>genre=Fighting<br>year_of_release=%{x}<br>nunique=%{y}<extra></extra>\",\"legendgroup\":\"GBA\",\"line\":{\"color\":\"#19d3f3\"},\"marker\":{\"symbol\":\"circle\"},\"mode\":\"lines\",\"name\":\"GBA\",\"orientation\":\"v\",\"showlegend\":true,\"stackgroup\":\"1\",\"x\":[\"2001-01-01T00:00:00\",\"2002-01-01T00:00:00\",\"2003-01-01T00:00:00\",\"2004-01-01T00:00:00\"],\"xaxis\":\"x\",\"y\":[3,8,3,2],\"yaxis\":\"y\",\"type\":\"scatter\"},{\"hovertemplate\":\"platform=GBA<br>genre=Racing<br>year_of_release=%{x}<br>nunique=%{y}<extra></extra>\",\"legendgroup\":\"GBA\",\"line\":{\"color\":\"#19d3f3\"},\"marker\":{\"symbol\":\"circle\"},\"mode\":\"lines\",\"name\":\"GBA\",\"orientation\":\"v\",\"showlegend\":false,\"stackgroup\":\"1\",\"x\":[\"2001-01-01T00:00:00\",\"2002-01-01T00:00:00\",\"2003-01-01T00:00:00\",\"2004-01-01T00:00:00\",\"2005-01-01T00:00:00\",\"2006-01-01T00:00:00\"],\"xaxis\":\"x\",\"y\":[8,12,13,6,2,1],\"yaxis\":\"y\",\"type\":\"scatter\"},{\"hovertemplate\":\"platform=GBA<br>genre=Role-Playing<br>year_of_release=%{x}<br>nunique=%{y}<extra></extra>\",\"legendgroup\":\"GBA\",\"line\":{\"color\":\"#19d3f3\"},\"marker\":{\"symbol\":\"circle\"},\"mode\":\"lines\",\"name\":\"GBA\",\"orientation\":\"v\",\"showlegend\":false,\"stackgroup\":\"1\",\"x\":[\"2001-01-01T00:00:00\",\"2002-01-01T00:00:00\",\"2003-01-01T00:00:00\",\"2004-01-01T00:00:00\",\"2005-01-01T00:00:00\",\"2006-01-01T00:00:00\"],\"xaxis\":\"x\",\"y\":[8,8,8,8,2,2],\"yaxis\":\"y\",\"type\":\"scatter\"},{\"hovertemplate\":\"platform=GBA<br>genre=Shooter<br>year_of_release=%{x}<br>nunique=%{y}<extra></extra>\",\"legendgroup\":\"GBA\",\"line\":{\"color\":\"#19d3f3\"},\"marker\":{\"symbol\":\"circle\"},\"mode\":\"lines\",\"name\":\"GBA\",\"orientation\":\"v\",\"showlegend\":false,\"stackgroup\":\"1\",\"x\":[\"2001-01-01T00:00:00\",\"2002-01-01T00:00:00\",\"2003-01-01T00:00:00\",\"2004-01-01T00:00:00\",\"2005-01-01T00:00:00\"],\"xaxis\":\"x\",\"y\":[3,13,6,5,1],\"yaxis\":\"y\",\"type\":\"scatter\"},{\"hovertemplate\":\"platform=GBA<br>genre=Sports<br>year_of_release=%{x}<br>nunique=%{y}<extra></extra>\",\"legendgroup\":\"GBA\",\"line\":{\"color\":\"#19d3f3\"},\"marker\":{\"symbol\":\"circle\"},\"mode\":\"lines\",\"name\":\"GBA\",\"orientation\":\"v\",\"showlegend\":false,\"stackgroup\":\"1\",\"x\":[\"2001-01-01T00:00:00\",\"2002-01-01T00:00:00\",\"2003-01-01T00:00:00\",\"2004-01-01T00:00:00\",\"2005-01-01T00:00:00\",\"2006-01-01T00:00:00\"],\"xaxis\":\"x\",\"y\":[10,20,8,7,3,2],\"yaxis\":\"y\",\"type\":\"scatter\"},{\"hovertemplate\":\"platform=GBA<br>genre=Misc<br>year_of_release=%{x}<br>nunique=%{y}<extra></extra>\",\"legendgroup\":\"GBA\",\"line\":{\"color\":\"#19d3f3\"},\"marker\":{\"symbol\":\"circle\"},\"mode\":\"lines\",\"name\":\"GBA\",\"orientation\":\"v\",\"showlegend\":false,\"stackgroup\":\"1\",\"x\":[\"2001-01-01T00:00:00\",\"2002-01-01T00:00:00\",\"2003-01-01T00:00:00\",\"2004-01-01T00:00:00\",\"2005-01-01T00:00:00\"],\"xaxis\":\"x\",\"y\":[2,10,6,5,3],\"yaxis\":\"y\",\"type\":\"scatter\"},{\"hovertemplate\":\"platform=GBA<br>genre=Simulation<br>year_of_release=%{x}<br>nunique=%{y}<extra></extra>\",\"legendgroup\":\"GBA\",\"line\":{\"color\":\"#19d3f3\"},\"marker\":{\"symbol\":\"circle\"},\"mode\":\"lines\",\"name\":\"GBA\",\"orientation\":\"v\",\"showlegend\":false,\"stackgroup\":\"1\",\"x\":[\"2001-01-01T00:00:00\",\"2002-01-01T00:00:00\",\"2003-01-01T00:00:00\",\"2004-01-01T00:00:00\",\"2005-01-01T00:00:00\"],\"xaxis\":\"x\",\"y\":[1,2,4,1,1],\"yaxis\":\"y\",\"type\":\"scatter\"},{\"hovertemplate\":\"platform=GBA<br>genre=Action<br>year_of_release=%{x}<br>nunique=%{y}<extra></extra>\",\"legendgroup\":\"GBA\",\"line\":{\"color\":\"#19d3f3\"},\"marker\":{\"symbol\":\"circle\"},\"mode\":\"lines\",\"name\":\"GBA\",\"orientation\":\"v\",\"showlegend\":false,\"stackgroup\":\"1\",\"x\":[\"2001-01-01T00:00:00\",\"2002-01-01T00:00:00\",\"2003-01-01T00:00:00\",\"2004-01-01T00:00:00\",\"2005-01-01T00:00:00\",\"2006-01-01T00:00:00\",\"2007-01-01T00:00:00\"],\"xaxis\":\"x\",\"y\":[9,32,18,25,11,5,1],\"yaxis\":\"y\",\"type\":\"scatter\"},{\"hovertemplate\":\"platform=GBA<br>genre=Adventure<br>year_of_release=%{x}<br>nunique=%{y}<extra></extra>\",\"legendgroup\":\"GBA\",\"line\":{\"color\":\"#19d3f3\"},\"marker\":{\"symbol\":\"circle\"},\"mode\":\"lines\",\"name\":\"GBA\",\"orientation\":\"v\",\"showlegend\":false,\"stackgroup\":\"1\",\"x\":[\"2001-01-01T00:00:00\",\"2002-01-01T00:00:00\",\"2004-01-01T00:00:00\",\"2005-01-01T00:00:00\",\"2006-01-01T00:00:00\"],\"xaxis\":\"x\",\"y\":[2,2,5,2,2],\"yaxis\":\"y\",\"type\":\"scatter\"},{\"hovertemplate\":\"platform=GBA<br>genre=Platform<br>year_of_release=%{x}<br>nunique=%{y}<extra></extra>\",\"legendgroup\":\"GBA\",\"line\":{\"color\":\"#19d3f3\"},\"marker\":{\"symbol\":\"circle\"},\"mode\":\"lines\",\"name\":\"GBA\",\"orientation\":\"v\",\"showlegend\":false,\"stackgroup\":\"1\",\"x\":[\"2001-01-01T00:00:00\",\"2002-01-01T00:00:00\",\"2003-01-01T00:00:00\",\"2004-01-01T00:00:00\",\"2005-01-01T00:00:00\",\"2006-01-01T00:00:00\"],\"xaxis\":\"x\",\"y\":[13,17,22,13,11,2],\"yaxis\":\"y\",\"type\":\"scatter\"},{\"hovertemplate\":\"platform=GBA<br>genre=Strategy<br>year_of_release=%{x}<br>nunique=%{y}<extra></extra>\",\"legendgroup\":\"GBA\",\"line\":{\"color\":\"#19d3f3\"},\"marker\":{\"symbol\":\"circle\"},\"mode\":\"lines\",\"name\":\"GBA\",\"orientation\":\"v\",\"showlegend\":false,\"stackgroup\":\"1\",\"x\":[\"2001-01-01T00:00:00\",\"2002-01-01T00:00:00\",\"2003-01-01T00:00:00\",\"2004-01-01T00:00:00\",\"2005-01-01T00:00:00\"],\"xaxis\":\"x\",\"y\":[1,2,3,1,1],\"yaxis\":\"y\",\"type\":\"scatter\"},{\"hovertemplate\":\"platform=GBA<br>genre=Puzzle<br>year_of_release=%{x}<br>nunique=%{y}<extra></extra>\",\"legendgroup\":\"GBA\",\"line\":{\"color\":\"#19d3f3\"},\"marker\":{\"symbol\":\"circle\"},\"mode\":\"lines\",\"name\":\"GBA\",\"orientation\":\"v\",\"showlegend\":false,\"stackgroup\":\"1\",\"x\":[\"2001-01-01T00:00:00\",\"2002-01-01T00:00:00\",\"2003-01-01T00:00:00\",\"2004-01-01T00:00:00\",\"2005-01-01T00:00:00\"],\"xaxis\":\"x\",\"y\":[7,5,1,4,2],\"yaxis\":\"y\",\"type\":\"scatter\"},{\"hovertemplate\":\"platform=GC<br>genre=Fighting<br>year_of_release=%{x}<br>nunique=%{y}<extra></extra>\",\"legendgroup\":\"GC\",\"line\":{\"color\":\"#FF6692\"},\"marker\":{\"symbol\":\"circle\"},\"mode\":\"lines\",\"name\":\"GC\",\"orientation\":\"v\",\"showlegend\":true,\"stackgroup\":\"1\",\"x\":[\"2001-01-01T00:00:00\",\"2002-01-01T00:00:00\",\"2003-01-01T00:00:00\",\"2004-01-01T00:00:00\",\"2005-01-01T00:00:00\"],\"xaxis\":\"x\",\"y\":[1,11,6,3,6],\"yaxis\":\"y\",\"type\":\"scatter\"},{\"hovertemplate\":\"platform=GC<br>genre=Racing<br>year_of_release=%{x}<br>nunique=%{y}<extra></extra>\",\"legendgroup\":\"GC\",\"line\":{\"color\":\"#FF6692\"},\"marker\":{\"symbol\":\"circle\"},\"mode\":\"lines\",\"name\":\"GC\",\"orientation\":\"v\",\"showlegend\":false,\"stackgroup\":\"1\",\"x\":[\"2001-01-01T00:00:00\",\"2002-01-01T00:00:00\",\"2003-01-01T00:00:00\",\"2005-01-01T00:00:00\",\"2006-01-01T00:00:00\"],\"xaxis\":\"x\",\"y\":[4,17,18,3,4],\"yaxis\":\"y\",\"type\":\"scatter\"},{\"hovertemplate\":\"platform=GC<br>genre=Role-Playing<br>year_of_release=%{x}<br>nunique=%{y}<extra></extra>\",\"legendgroup\":\"GC\",\"line\":{\"color\":\"#FF6692\"},\"marker\":{\"symbol\":\"circle\"},\"mode\":\"lines\",\"name\":\"GC\",\"orientation\":\"v\",\"showlegend\":false,\"stackgroup\":\"1\",\"x\":[\"2002-01-01T00:00:00\",\"2003-01-01T00:00:00\",\"2004-01-01T00:00:00\",\"2005-01-01T00:00:00\",\"2006-01-01T00:00:00\"],\"xaxis\":\"x\",\"y\":[4,9,6,3,1],\"yaxis\":\"y\",\"type\":\"scatter\"},{\"hovertemplate\":\"platform=GC<br>genre=Shooter<br>year_of_release=%{x}<br>nunique=%{y}<extra></extra>\",\"legendgroup\":\"GC\",\"line\":{\"color\":\"#FF6692\"},\"marker\":{\"symbol\":\"circle\"},\"mode\":\"lines\",\"name\":\"GC\",\"orientation\":\"v\",\"showlegend\":false,\"stackgroup\":\"1\",\"x\":[\"2002-01-01T00:00:00\",\"2003-01-01T00:00:00\",\"2004-01-01T00:00:00\",\"2005-01-01T00:00:00\",\"2006-01-01T00:00:00\"],\"xaxis\":\"x\",\"y\":[13,11,10,7,1],\"yaxis\":\"y\",\"type\":\"scatter\"},{\"hovertemplate\":\"platform=GC<br>genre=Sports<br>year_of_release=%{x}<br>nunique=%{y}<extra></extra>\",\"legendgroup\":\"GC\",\"line\":{\"color\":\"#FF6692\"},\"marker\":{\"symbol\":\"circle\"},\"mode\":\"lines\",\"name\":\"GC\",\"orientation\":\"v\",\"showlegend\":false,\"stackgroup\":\"1\",\"x\":[\"2001-01-01T00:00:00\",\"2002-01-01T00:00:00\",\"2003-01-01T00:00:00\",\"2004-01-01T00:00:00\",\"2005-01-01T00:00:00\",\"2006-01-01T00:00:00\",\"2007-01-01T00:00:00\"],\"xaxis\":\"x\",\"y\":[8,39,16,11,11,4,1],\"yaxis\":\"y\",\"type\":\"scatter\"},{\"hovertemplate\":\"platform=GC<br>genre=Misc<br>year_of_release=%{x}<br>nunique=%{y}<extra></extra>\",\"legendgroup\":\"GC\",\"line\":{\"color\":\"#FF6692\"},\"marker\":{\"symbol\":\"circle\"},\"mode\":\"lines\",\"name\":\"GC\",\"orientation\":\"v\",\"showlegend\":false,\"stackgroup\":\"1\",\"x\":[\"2001-01-01T00:00:00\",\"2002-01-01T00:00:00\",\"2003-01-01T00:00:00\",\"2004-01-01T00:00:00\",\"2005-01-01T00:00:00\",\"2006-01-01T00:00:00\"],\"xaxis\":\"x\",\"y\":[1,6,4,4,6,2],\"yaxis\":\"y\",\"type\":\"scatter\"},{\"hovertemplate\":\"platform=GC<br>genre=Simulation<br>year_of_release=%{x}<br>nunique=%{y}<extra></extra>\",\"legendgroup\":\"GC\",\"line\":{\"color\":\"#FF6692\"},\"marker\":{\"symbol\":\"circle\"},\"mode\":\"lines\",\"name\":\"GC\",\"orientation\":\"v\",\"showlegend\":false,\"stackgroup\":\"1\",\"x\":[\"2001-01-01T00:00:00\",\"2002-01-01T00:00:00\",\"2003-01-01T00:00:00\",\"2004-01-01T00:00:00\",\"2005-01-01T00:00:00\",\"2006-01-01T00:00:00\"],\"xaxis\":\"x\",\"y\":[2,1,3,1,2,1],\"yaxis\":\"y\",\"type\":\"scatter\"},{\"hovertemplate\":\"platform=GC<br>genre=Action<br>year_of_release=%{x}<br>nunique=%{y}<extra></extra>\",\"legendgroup\":\"GC\",\"line\":{\"color\":\"#FF6692\"},\"marker\":{\"symbol\":\"circle\"},\"mode\":\"lines\",\"name\":\"GC\",\"orientation\":\"v\",\"showlegend\":false,\"stackgroup\":\"1\",\"x\":[\"2001-01-01T00:00:00\",\"2002-01-01T00:00:00\",\"2003-01-01T00:00:00\",\"2004-01-01T00:00:00\",\"2005-01-01T00:00:00\",\"2006-01-01T00:00:00\",\"2007-01-01T00:00:00\"],\"xaxis\":\"x\",\"y\":[1,12,25,16,21,8,2],\"yaxis\":\"y\",\"type\":\"scatter\"},{\"hovertemplate\":\"platform=GC<br>genre=Adventure<br>year_of_release=%{x}<br>nunique=%{y}<extra></extra>\",\"legendgroup\":\"GC\",\"line\":{\"color\":\"#FF6692\"},\"marker\":{\"symbol\":\"circle\"},\"mode\":\"lines\",\"name\":\"GC\",\"orientation\":\"v\",\"showlegend\":false,\"stackgroup\":\"1\",\"x\":[\"2001-01-01T00:00:00\",\"2002-01-01T00:00:00\",\"2003-01-01T00:00:00\",\"2004-01-01T00:00:00\",\"2005-01-01T00:00:00\",\"2006-01-01T00:00:00\"],\"xaxis\":\"x\",\"y\":[1,6,1,2,2,2],\"yaxis\":\"y\",\"type\":\"scatter\"},{\"hovertemplate\":\"platform=GC<br>genre=Platform<br>year_of_release=%{x}<br>nunique=%{y}<extra></extra>\",\"legendgroup\":\"GC\",\"line\":{\"color\":\"#FF6692\"},\"marker\":{\"symbol\":\"circle\"},\"mode\":\"lines\",\"name\":\"GC\",\"orientation\":\"v\",\"showlegend\":false,\"stackgroup\":\"1\",\"x\":[\"2001-01-01T00:00:00\",\"2002-01-01T00:00:00\",\"2003-01-01T00:00:00\",\"2004-01-01T00:00:00\",\"2005-01-01T00:00:00\",\"2006-01-01T00:00:00\"],\"xaxis\":\"x\",\"y\":[2,14,15,10,10,8],\"yaxis\":\"y\",\"type\":\"scatter\"},{\"hovertemplate\":\"platform=GC<br>genre=Strategy<br>year_of_release=%{x}<br>nunique=%{y}<extra></extra>\",\"legendgroup\":\"GC\",\"line\":{\"color\":\"#FF6692\"},\"marker\":{\"symbol\":\"circle\"},\"mode\":\"lines\",\"name\":\"GC\",\"orientation\":\"v\",\"showlegend\":false,\"stackgroup\":\"1\",\"x\":[\"2001-01-01T00:00:00\",\"2003-01-01T00:00:00\",\"2004-01-01T00:00:00\",\"2005-01-01T00:00:00\"],\"xaxis\":\"x\",\"y\":[1,3,3,1],\"yaxis\":\"y\",\"type\":\"scatter\"},{\"hovertemplate\":\"platform=GC<br>genre=Puzzle<br>year_of_release=%{x}<br>nunique=%{y}<extra></extra>\",\"legendgroup\":\"GC\",\"line\":{\"color\":\"#FF6692\"},\"marker\":{\"symbol\":\"circle\"},\"mode\":\"lines\",\"name\":\"GC\",\"orientation\":\"v\",\"showlegend\":false,\"stackgroup\":\"1\",\"x\":[\"2001-01-01T00:00:00\",\"2002-01-01T00:00:00\",\"2003-01-01T00:00:00\",\"2004-01-01T00:00:00\"],\"xaxis\":\"x\",\"y\":[1,6,2,1],\"yaxis\":\"y\",\"type\":\"scatter\"},{\"hovertemplate\":\"platform=DS<br>genre=Fighting<br>year_of_release=%{x}<br>nunique=%{y}<extra></extra>\",\"legendgroup\":\"DS\",\"line\":{\"color\":\"#B6E880\"},\"marker\":{\"symbol\":\"circle\"},\"mode\":\"lines\",\"name\":\"DS\",\"orientation\":\"v\",\"showlegend\":true,\"stackgroup\":\"1\",\"x\":[\"2005-01-01T00:00:00\",\"2006-01-01T00:00:00\",\"2007-01-01T00:00:00\",\"2008-01-01T00:00:00\",\"2009-01-01T00:00:00\"],\"xaxis\":\"x\",\"y\":[2,4,5,2,2],\"yaxis\":\"y\",\"type\":\"scatter\"},{\"hovertemplate\":\"platform=DS<br>genre=Racing<br>year_of_release=%{x}<br>nunique=%{y}<extra></extra>\",\"legendgroup\":\"DS\",\"line\":{\"color\":\"#B6E880\"},\"marker\":{\"symbol\":\"circle\"},\"mode\":\"lines\",\"name\":\"DS\",\"orientation\":\"v\",\"showlegend\":false,\"stackgroup\":\"1\",\"x\":[\"2004-01-01T00:00:00\",\"2005-01-01T00:00:00\",\"2006-01-01T00:00:00\",\"2007-01-01T00:00:00\",\"2008-01-01T00:00:00\",\"2009-01-01T00:00:00\",\"2010-01-01T00:00:00\"],\"xaxis\":\"x\",\"y\":[3,6,2,6,5,5,1],\"yaxis\":\"y\",\"type\":\"scatter\"},{\"hovertemplate\":\"platform=DS<br>genre=Role-Playing<br>year_of_release=%{x}<br>nunique=%{y}<extra></extra>\",\"legendgroup\":\"DS\",\"line\":{\"color\":\"#B6E880\"},\"marker\":{\"symbol\":\"circle\"},\"mode\":\"lines\",\"name\":\"DS\",\"orientation\":\"v\",\"showlegend\":false,\"stackgroup\":\"1\",\"x\":[\"2005-01-01T00:00:00\",\"2006-01-01T00:00:00\",\"2007-01-01T00:00:00\",\"2008-01-01T00:00:00\",\"2009-01-01T00:00:00\",\"2010-01-01T00:00:00\",\"2011-01-01T00:00:00\",\"2012-01-01T00:00:00\"],\"xaxis\":\"x\",\"y\":[3,12,16,35,17,12,1,1],\"yaxis\":\"y\",\"type\":\"scatter\"},{\"hovertemplate\":\"platform=DS<br>genre=Shooter<br>year_of_release=%{x}<br>nunique=%{y}<extra></extra>\",\"legendgroup\":\"DS\",\"line\":{\"color\":\"#B6E880\"},\"marker\":{\"symbol\":\"circle\"},\"mode\":\"lines\",\"name\":\"DS\",\"orientation\":\"v\",\"showlegend\":false,\"stackgroup\":\"1\",\"x\":[\"2005-01-01T00:00:00\",\"2006-01-01T00:00:00\",\"2007-01-01T00:00:00\",\"2008-01-01T00:00:00\",\"2009-01-01T00:00:00\",\"2010-01-01T00:00:00\"],\"xaxis\":\"x\",\"y\":[4,5,8,8,4,3],\"yaxis\":\"y\",\"type\":\"scatter\"},{\"hovertemplate\":\"platform=DS<br>genre=Sports<br>year_of_release=%{x}<br>nunique=%{y}<extra></extra>\",\"legendgroup\":\"DS\",\"line\":{\"color\":\"#B6E880\"},\"marker\":{\"symbol\":\"circle\"},\"mode\":\"lines\",\"name\":\"DS\",\"orientation\":\"v\",\"showlegend\":false,\"stackgroup\":\"1\",\"x\":[\"2004-01-01T00:00:00\",\"2005-01-01T00:00:00\",\"2006-01-01T00:00:00\",\"2007-01-01T00:00:00\",\"2008-01-01T00:00:00\",\"2009-01-01T00:00:00\",\"2010-01-01T00:00:00\"],\"xaxis\":\"x\",\"y\":[2,5,7,7,15,3,1],\"yaxis\":\"y\",\"type\":\"scatter\"},{\"hovertemplate\":\"platform=DS<br>genre=Misc<br>year_of_release=%{x}<br>nunique=%{y}<extra></extra>\",\"legendgroup\":\"DS\",\"line\":{\"color\":\"#B6E880\"},\"marker\":{\"symbol\":\"circle\"},\"mode\":\"lines\",\"name\":\"DS\",\"orientation\":\"v\",\"showlegend\":false,\"stackgroup\":\"1\",\"x\":[\"2004-01-01T00:00:00\",\"2005-01-01T00:00:00\",\"2006-01-01T00:00:00\",\"2007-01-01T00:00:00\",\"2008-01-01T00:00:00\",\"2009-01-01T00:00:00\",\"2010-01-01T00:00:00\",\"2011-01-01T00:00:00\"],\"xaxis\":\"x\",\"y\":[1,7,6,15,17,9,4,1],\"yaxis\":\"y\",\"type\":\"scatter\"},{\"hovertemplate\":\"platform=DS<br>genre=Simulation<br>year_of_release=%{x}<br>nunique=%{y}<extra></extra>\",\"legendgroup\":\"DS\",\"line\":{\"color\":\"#B6E880\"},\"marker\":{\"symbol\":\"circle\"},\"mode\":\"lines\",\"name\":\"DS\",\"orientation\":\"v\",\"showlegend\":false,\"stackgroup\":\"1\",\"x\":[\"2005-01-01T00:00:00\",\"2006-01-01T00:00:00\",\"2007-01-01T00:00:00\",\"2008-01-01T00:00:00\",\"2009-01-01T00:00:00\",\"2010-01-01T00:00:00\",\"2011-01-01T00:00:00\"],\"xaxis\":\"x\",\"y\":[5,6,21,12,6,3,1],\"yaxis\":\"y\",\"type\":\"scatter\"},{\"hovertemplate\":\"platform=DS<br>genre=Action<br>year_of_release=%{x}<br>nunique=%{y}<extra></extra>\",\"legendgroup\":\"DS\",\"line\":{\"color\":\"#B6E880\"},\"marker\":{\"symbol\":\"circle\"},\"mode\":\"lines\",\"name\":\"DS\",\"orientation\":\"v\",\"showlegend\":false,\"stackgroup\":\"1\",\"x\":[\"2004-01-01T00:00:00\",\"2005-01-01T00:00:00\",\"2006-01-01T00:00:00\",\"2007-01-01T00:00:00\",\"2008-01-01T00:00:00\",\"2009-01-01T00:00:00\",\"2010-01-01T00:00:00\",\"2011-01-01T00:00:00\"],\"xaxis\":\"x\",\"y\":[1,11,20,26,31,23,14,9],\"yaxis\":\"y\",\"type\":\"scatter\"},{\"hovertemplate\":\"platform=DS<br>genre=Adventure<br>year_of_release=%{x}<br>nunique=%{y}<extra></extra>\",\"legendgroup\":\"DS\",\"line\":{\"color\":\"#B6E880\"},\"marker\":{\"symbol\":\"circle\"},\"mode\":\"lines\",\"name\":\"DS\",\"orientation\":\"v\",\"showlegend\":false,\"stackgroup\":\"1\",\"x\":[\"2005-01-01T00:00:00\",\"2006-01-01T00:00:00\",\"2007-01-01T00:00:00\",\"2008-01-01T00:00:00\",\"2009-01-01T00:00:00\",\"2010-01-01T00:00:00\",\"2011-01-01T00:00:00\"],\"xaxis\":\"x\",\"y\":[3,6,10,16,14,8,1],\"yaxis\":\"y\",\"type\":\"scatter\"},{\"hovertemplate\":\"platform=DS<br>genre=Platform<br>year_of_release=%{x}<br>nunique=%{y}<extra></extra>\",\"legendgroup\":\"DS\",\"line\":{\"color\":\"#B6E880\"},\"marker\":{\"symbol\":\"circle\"},\"mode\":\"lines\",\"name\":\"DS\",\"orientation\":\"v\",\"showlegend\":false,\"stackgroup\":\"1\",\"x\":[\"2005-01-01T00:00:00\",\"2006-01-01T00:00:00\",\"2007-01-01T00:00:00\",\"2008-01-01T00:00:00\",\"2009-01-01T00:00:00\",\"2010-01-01T00:00:00\",\"2011-01-01T00:00:00\"],\"xaxis\":\"x\",\"y\":[11,11,13,10,1,4,3],\"yaxis\":\"y\",\"type\":\"scatter\"},{\"hovertemplate\":\"platform=DS<br>genre=Strategy<br>year_of_release=%{x}<br>nunique=%{y}<extra></extra>\",\"legendgroup\":\"DS\",\"line\":{\"color\":\"#B6E880\"},\"marker\":{\"symbol\":\"circle\"},\"mode\":\"lines\",\"name\":\"DS\",\"orientation\":\"v\",\"showlegend\":false,\"stackgroup\":\"1\",\"x\":[\"2005-01-01T00:00:00\",\"2006-01-01T00:00:00\",\"2007-01-01T00:00:00\",\"2008-01-01T00:00:00\",\"2009-01-01T00:00:00\",\"2011-01-01T00:00:00\"],\"xaxis\":\"x\",\"y\":[4,6,8,9,3,2],\"yaxis\":\"y\",\"type\":\"scatter\"},{\"hovertemplate\":\"platform=DS<br>genre=Puzzle<br>year_of_release=%{x}<br>nunique=%{y}<extra></extra>\",\"legendgroup\":\"DS\",\"line\":{\"color\":\"#B6E880\"},\"marker\":{\"symbol\":\"circle\"},\"mode\":\"lines\",\"name\":\"DS\",\"orientation\":\"v\",\"showlegend\":false,\"stackgroup\":\"1\",\"x\":[\"2004-01-01T00:00:00\",\"2005-01-01T00:00:00\",\"2006-01-01T00:00:00\",\"2007-01-01T00:00:00\",\"2008-01-01T00:00:00\",\"2009-01-01T00:00:00\",\"2010-01-01T00:00:00\",\"2011-01-01T00:00:00\"],\"xaxis\":\"x\",\"y\":[4,11,10,26,21,20,6,1],\"yaxis\":\"y\",\"type\":\"scatter\"},{\"hovertemplate\":\"platform=PSP<br>genre=Fighting<br>year_of_release=%{x}<br>nunique=%{y}<extra></extra>\",\"legendgroup\":\"PSP\",\"line\":{\"color\":\"#FF97FF\"},\"marker\":{\"symbol\":\"circle\"},\"mode\":\"lines\",\"name\":\"PSP\",\"orientation\":\"v\",\"showlegend\":true,\"stackgroup\":\"1\",\"x\":[\"2004-01-01T00:00:00\",\"2005-01-01T00:00:00\",\"2006-01-01T00:00:00\",\"2007-01-01T00:00:00\",\"2008-01-01T00:00:00\",\"2009-01-01T00:00:00\",\"2010-01-01T00:00:00\",\"2011-01-01T00:00:00\"],\"xaxis\":\"x\",\"y\":[1,3,8,2,4,6,4,4],\"yaxis\":\"y\",\"type\":\"scatter\"},{\"hovertemplate\":\"platform=PSP<br>genre=Racing<br>year_of_release=%{x}<br>nunique=%{y}<extra></extra>\",\"legendgroup\":\"PSP\",\"line\":{\"color\":\"#FF97FF\"},\"marker\":{\"symbol\":\"circle\"},\"mode\":\"lines\",\"name\":\"PSP\",\"orientation\":\"v\",\"showlegend\":false,\"stackgroup\":\"1\",\"x\":[\"2004-01-01T00:00:00\",\"2005-01-01T00:00:00\",\"2006-01-01T00:00:00\",\"2007-01-01T00:00:00\",\"2008-01-01T00:00:00\",\"2009-01-01T00:00:00\",\"2010-01-01T00:00:00\"],\"xaxis\":\"x\",\"y\":[1,11,15,10,5,4,2],\"yaxis\":\"y\",\"type\":\"scatter\"},{\"hovertemplate\":\"platform=PSP<br>genre=Role-Playing<br>year_of_release=%{x}<br>nunique=%{y}<extra></extra>\",\"legendgroup\":\"PSP\",\"line\":{\"color\":\"#FF97FF\"},\"marker\":{\"symbol\":\"circle\"},\"mode\":\"lines\",\"name\":\"PSP\",\"orientation\":\"v\",\"showlegend\":false,\"stackgroup\":\"1\",\"x\":[\"2004-01-01T00:00:00\",\"2005-01-01T00:00:00\",\"2006-01-01T00:00:00\",\"2007-01-01T00:00:00\",\"2008-01-01T00:00:00\",\"2009-01-01T00:00:00\",\"2010-01-01T00:00:00\",\"2011-01-01T00:00:00\",\"2013-01-01T00:00:00\"],\"xaxis\":\"x\",\"y\":[1,8,17,11,9,10,10,3,1],\"yaxis\":\"y\",\"type\":\"scatter\"},{\"hovertemplate\":\"platform=PSP<br>genre=Shooter<br>year_of_release=%{x}<br>nunique=%{y}<extra></extra>\",\"legendgroup\":\"PSP\",\"line\":{\"color\":\"#FF97FF\"},\"marker\":{\"symbol\":\"circle\"},\"mode\":\"lines\",\"name\":\"PSP\",\"orientation\":\"v\",\"showlegend\":false,\"stackgroup\":\"1\",\"x\":[\"2005-01-01T00:00:00\",\"2006-01-01T00:00:00\",\"2007-01-01T00:00:00\",\"2008-01-01T00:00:00\",\"2009-01-01T00:00:00\",\"2010-01-01T00:00:00\"],\"xaxis\":\"x\",\"y\":[5,11,10,1,3,3],\"yaxis\":\"y\",\"type\":\"scatter\"},{\"hovertemplate\":\"platform=PSP<br>genre=Sports<br>year_of_release=%{x}<br>nunique=%{y}<extra></extra>\",\"legendgroup\":\"PSP\",\"line\":{\"color\":\"#FF97FF\"},\"marker\":{\"symbol\":\"circle\"},\"mode\":\"lines\",\"name\":\"PSP\",\"orientation\":\"v\",\"showlegend\":false,\"stackgroup\":\"1\",\"x\":[\"2004-01-01T00:00:00\",\"2005-01-01T00:00:00\",\"2006-01-01T00:00:00\",\"2007-01-01T00:00:00\",\"2008-01-01T00:00:00\",\"2009-01-01T00:00:00\",\"2010-01-01T00:00:00\",\"2011-01-01T00:00:00\"],\"xaxis\":\"x\",\"y\":[1,18,14,13,7,9,6,1],\"yaxis\":\"y\",\"type\":\"scatter\"},{\"hovertemplate\":\"platform=PSP<br>genre=Misc<br>year_of_release=%{x}<br>nunique=%{y}<extra></extra>\",\"legendgroup\":\"PSP\",\"line\":{\"color\":\"#FF97FF\"},\"marker\":{\"symbol\":\"circle\"},\"mode\":\"lines\",\"name\":\"PSP\",\"orientation\":\"v\",\"showlegend\":false,\"stackgroup\":\"1\",\"x\":[\"2004-01-01T00:00:00\",\"2005-01-01T00:00:00\",\"2006-01-01T00:00:00\",\"2007-01-01T00:00:00\",\"2008-01-01T00:00:00\",\"2009-01-01T00:00:00\",\"2010-01-01T00:00:00\",\"2011-01-01T00:00:00\"],\"xaxis\":\"x\",\"y\":[1,5,9,5,4,3,1,1],\"yaxis\":\"y\",\"type\":\"scatter\"},{\"hovertemplate\":\"platform=PSP<br>genre=Simulation<br>year_of_release=%{x}<br>nunique=%{y}<extra></extra>\",\"legendgroup\":\"PSP\",\"line\":{\"color\":\"#FF97FF\"},\"marker\":{\"symbol\":\"circle\"},\"mode\":\"lines\",\"name\":\"PSP\",\"orientation\":\"v\",\"showlegend\":false,\"stackgroup\":\"1\",\"x\":[\"2005-01-01T00:00:00\",\"2006-01-01T00:00:00\",\"2007-01-01T00:00:00\",\"2009-01-01T00:00:00\",\"2010-01-01T00:00:00\"],\"xaxis\":\"x\",\"y\":[1,3,2,3,2],\"yaxis\":\"y\",\"type\":\"scatter\"},{\"hovertemplate\":\"platform=PSP<br>genre=Action<br>year_of_release=%{x}<br>nunique=%{y}<extra></extra>\",\"legendgroup\":\"PSP\",\"line\":{\"color\":\"#FF97FF\"},\"marker\":{\"symbol\":\"circle\"},\"mode\":\"lines\",\"name\":\"PSP\",\"orientation\":\"v\",\"showlegend\":false,\"stackgroup\":\"1\",\"x\":[\"2004-01-01T00:00:00\",\"2005-01-01T00:00:00\",\"2006-01-01T00:00:00\",\"2007-01-01T00:00:00\",\"2008-01-01T00:00:00\",\"2009-01-01T00:00:00\",\"2010-01-01T00:00:00\",\"2011-01-01T00:00:00\"],\"xaxis\":\"x\",\"y\":[1,7,21,25,9,10,11,3],\"yaxis\":\"y\",\"type\":\"scatter\"},{\"hovertemplate\":\"platform=PSP<br>genre=Adventure<br>year_of_release=%{x}<br>nunique=%{y}<extra></extra>\",\"legendgroup\":\"PSP\",\"line\":{\"color\":\"#FF97FF\"},\"marker\":{\"symbol\":\"circle\"},\"mode\":\"lines\",\"name\":\"PSP\",\"orientation\":\"v\",\"showlegend\":false,\"stackgroup\":\"1\",\"x\":[\"2005-01-01T00:00:00\",\"2006-01-01T00:00:00\",\"2008-01-01T00:00:00\",\"2009-01-01T00:00:00\",\"2010-01-01T00:00:00\",\"2011-01-01T00:00:00\"],\"xaxis\":\"x\",\"y\":[2,6,1,2,1,1],\"yaxis\":\"y\",\"type\":\"scatter\"},{\"hovertemplate\":\"platform=PSP<br>genre=Platform<br>year_of_release=%{x}<br>nunique=%{y}<extra></extra>\",\"legendgroup\":\"PSP\",\"line\":{\"color\":\"#FF97FF\"},\"marker\":{\"symbol\":\"circle\"},\"mode\":\"lines\",\"name\":\"PSP\",\"orientation\":\"v\",\"showlegend\":false,\"stackgroup\":\"1\",\"x\":[\"2005-01-01T00:00:00\",\"2006-01-01T00:00:00\",\"2007-01-01T00:00:00\",\"2008-01-01T00:00:00\",\"2009-01-01T00:00:00\"],\"xaxis\":\"x\",\"y\":[7,7,3,4,3],\"yaxis\":\"y\",\"type\":\"scatter\"},{\"hovertemplate\":\"platform=PSP<br>genre=Strategy<br>year_of_release=%{x}<br>nunique=%{y}<extra></extra>\",\"legendgroup\":\"PSP\",\"line\":{\"color\":\"#FF97FF\"},\"marker\":{\"symbol\":\"circle\"},\"mode\":\"lines\",\"name\":\"PSP\",\"orientation\":\"v\",\"showlegend\":false,\"stackgroup\":\"1\",\"x\":[\"2006-01-01T00:00:00\",\"2007-01-01T00:00:00\",\"2008-01-01T00:00:00\",\"2009-01-01T00:00:00\",\"2010-01-01T00:00:00\"],\"xaxis\":\"x\",\"y\":[5,4,1,2,2],\"yaxis\":\"y\",\"type\":\"scatter\"},{\"hovertemplate\":\"platform=PSP<br>genre=Puzzle<br>year_of_release=%{x}<br>nunique=%{y}<extra></extra>\",\"legendgroup\":\"PSP\",\"line\":{\"color\":\"#FF97FF\"},\"marker\":{\"symbol\":\"circle\"},\"mode\":\"lines\",\"name\":\"PSP\",\"orientation\":\"v\",\"showlegend\":false,\"stackgroup\":\"1\",\"x\":[\"2004-01-01T00:00:00\",\"2005-01-01T00:00:00\",\"2006-01-01T00:00:00\",\"2007-01-01T00:00:00\",\"2008-01-01T00:00:00\",\"2010-01-01T00:00:00\"],\"xaxis\":\"x\",\"y\":[1,4,9,7,3,1],\"yaxis\":\"y\",\"type\":\"scatter\"},{\"hovertemplate\":\"platform=X360<br>genre=Fighting<br>year_of_release=%{x}<br>nunique=%{y}<extra></extra>\",\"legendgroup\":\"X360\",\"line\":{\"color\":\"#FECB52\"},\"marker\":{\"symbol\":\"circle\"},\"mode\":\"lines\",\"name\":\"X360\",\"orientation\":\"v\",\"showlegend\":true,\"stackgroup\":\"1\",\"x\":[\"2005-01-01T00:00:00\",\"2006-01-01T00:00:00\",\"2007-01-01T00:00:00\",\"2008-01-01T00:00:00\",\"2009-01-01T00:00:00\",\"2010-01-01T00:00:00\",\"2011-01-01T00:00:00\",\"2012-01-01T00:00:00\",\"2013-01-01T00:00:00\",\"2014-01-01T00:00:00\"],\"xaxis\":\"x\",\"y\":[1,5,2,6,10,8,10,9,2,3],\"yaxis\":\"y\",\"type\":\"scatter\"},{\"hovertemplate\":\"platform=X360<br>genre=Racing<br>year_of_release=%{x}<br>nunique=%{y}<extra></extra>\",\"legendgroup\":\"X360\",\"line\":{\"color\":\"#FECB52\"},\"marker\":{\"symbol\":\"circle\"},\"mode\":\"lines\",\"name\":\"X360\",\"orientation\":\"v\",\"showlegend\":false,\"stackgroup\":\"1\",\"x\":[\"2005-01-01T00:00:00\",\"2006-01-01T00:00:00\",\"2007-01-01T00:00:00\",\"2008-01-01T00:00:00\",\"2009-01-01T00:00:00\",\"2010-01-01T00:00:00\",\"2011-01-01T00:00:00\",\"2012-01-01T00:00:00\",\"2013-01-01T00:00:00\",\"2014-01-01T00:00:00\"],\"xaxis\":\"x\",\"y\":[2,6,13,9,7,12,8,7,4,4],\"yaxis\":\"y\",\"type\":\"scatter\"},{\"hovertemplate\":\"platform=X360<br>genre=Role-Playing<br>year_of_release=%{x}<br>nunique=%{y}<extra></extra>\",\"legendgroup\":\"X360\",\"line\":{\"color\":\"#FECB52\"},\"marker\":{\"symbol\":\"circle\"},\"mode\":\"lines\",\"name\":\"X360\",\"orientation\":\"v\",\"showlegend\":false,\"stackgroup\":\"1\",\"x\":[\"2006-01-01T00:00:00\",\"2007-01-01T00:00:00\",\"2008-01-01T00:00:00\",\"2009-01-01T00:00:00\",\"2010-01-01T00:00:00\",\"2011-01-01T00:00:00\",\"2012-01-01T00:00:00\",\"2013-01-01T00:00:00\",\"2014-01-01T00:00:00\"],\"xaxis\":\"x\",\"y\":[8,8,8,7,10,5,6,2,4],\"yaxis\":\"y\",\"type\":\"scatter\"},{\"hovertemplate\":\"platform=X360<br>genre=Shooter<br>year_of_release=%{x}<br>nunique=%{y}<extra></extra>\",\"legendgroup\":\"X360\",\"line\":{\"color\":\"#FECB52\"},\"marker\":{\"symbol\":\"circle\"},\"mode\":\"lines\",\"name\":\"X360\",\"orientation\":\"v\",\"showlegend\":false,\"stackgroup\":\"1\",\"x\":[\"2005-01-01T00:00:00\",\"2006-01-01T00:00:00\",\"2007-01-01T00:00:00\",\"2008-01-01T00:00:00\",\"2009-01-01T00:00:00\",\"2010-01-01T00:00:00\",\"2011-01-01T00:00:00\",\"2012-01-01T00:00:00\",\"2013-01-01T00:00:00\",\"2014-01-01T00:00:00\"],\"xaxis\":\"x\",\"y\":[3,13,19,20,24,18,24,14,14,4],\"yaxis\":\"y\",\"type\":\"scatter\"},{\"hovertemplate\":\"platform=X360<br>genre=Sports<br>year_of_release=%{x}<br>nunique=%{y}<extra></extra>\",\"legendgroup\":\"X360\",\"line\":{\"color\":\"#FECB52\"},\"marker\":{\"symbol\":\"circle\"},\"mode\":\"lines\",\"name\":\"X360\",\"orientation\":\"v\",\"showlegend\":false,\"stackgroup\":\"1\",\"x\":[\"2005-01-01T00:00:00\",\"2006-01-01T00:00:00\",\"2007-01-01T00:00:00\",\"2008-01-01T00:00:00\",\"2009-01-01T00:00:00\",\"2010-01-01T00:00:00\",\"2011-01-01T00:00:00\",\"2012-01-01T00:00:00\",\"2013-01-01T00:00:00\",\"2014-01-01T00:00:00\"],\"xaxis\":\"x\",\"y\":[6,20,23,22,20,25,17,10,7,2],\"yaxis\":\"y\",\"type\":\"scatter\"},{\"hovertemplate\":\"platform=X360<br>genre=Misc<br>year_of_release=%{x}<br>nunique=%{y}<extra></extra>\",\"legendgroup\":\"X360\",\"line\":{\"color\":\"#FECB52\"},\"marker\":{\"symbol\":\"circle\"},\"mode\":\"lines\",\"name\":\"X360\",\"orientation\":\"v\",\"showlegend\":false,\"stackgroup\":\"1\",\"x\":[\"2007-01-01T00:00:00\",\"2008-01-01T00:00:00\",\"2009-01-01T00:00:00\",\"2010-01-01T00:00:00\",\"2011-01-01T00:00:00\",\"2012-01-01T00:00:00\",\"2013-01-01T00:00:00\"],\"xaxis\":\"x\",\"y\":[7,13,16,15,14,4,1],\"yaxis\":\"y\",\"type\":\"scatter\"},{\"hovertemplate\":\"platform=X360<br>genre=Simulation<br>year_of_release=%{x}<br>nunique=%{y}<extra></extra>\",\"legendgroup\":\"X360\",\"line\":{\"color\":\"#FECB52\"},\"marker\":{\"symbol\":\"circle\"},\"mode\":\"lines\",\"name\":\"X360\",\"orientation\":\"v\",\"showlegend\":false,\"stackgroup\":\"1\",\"x\":[\"2006-01-01T00:00:00\",\"2007-01-01T00:00:00\",\"2008-01-01T00:00:00\",\"2009-01-01T00:00:00\",\"2010-01-01T00:00:00\",\"2011-01-01T00:00:00\",\"2012-01-01T00:00:00\",\"2013-01-01T00:00:00\",\"2014-01-01T00:00:00\"],\"xaxis\":\"x\",\"y\":[4,5,3,2,5,4,4,1,1],\"yaxis\":\"y\",\"type\":\"scatter\"},{\"hovertemplate\":\"platform=X360<br>genre=Action<br>year_of_release=%{x}<br>nunique=%{y}<extra></extra>\",\"legendgroup\":\"X360\",\"line\":{\"color\":\"#FECB52\"},\"marker\":{\"symbol\":\"circle\"},\"mode\":\"lines\",\"name\":\"X360\",\"orientation\":\"v\",\"showlegend\":false,\"stackgroup\":\"1\",\"x\":[\"2005-01-01T00:00:00\",\"2006-01-01T00:00:00\",\"2007-01-01T00:00:00\",\"2008-01-01T00:00:00\",\"2009-01-01T00:00:00\",\"2010-01-01T00:00:00\",\"2011-01-01T00:00:00\",\"2012-01-01T00:00:00\",\"2013-01-01T00:00:00\",\"2014-01-01T00:00:00\"],\"xaxis\":\"x\",\"y\":[4,16,25,32,36,34,33,33,19,7],\"yaxis\":\"y\",\"type\":\"scatter\"},{\"hovertemplate\":\"platform=X360<br>genre=Adventure<br>year_of_release=%{x}<br>nunique=%{y}<extra></extra>\",\"legendgroup\":\"X360\",\"line\":{\"color\":\"#FECB52\"},\"marker\":{\"symbol\":\"circle\"},\"mode\":\"lines\",\"name\":\"X360\",\"orientation\":\"v\",\"showlegend\":false,\"stackgroup\":\"1\",\"x\":[\"2007-01-01T00:00:00\",\"2008-01-01T00:00:00\",\"2009-01-01T00:00:00\",\"2010-01-01T00:00:00\",\"2011-01-01T00:00:00\",\"2012-01-01T00:00:00\",\"2014-01-01T00:00:00\"],\"xaxis\":\"x\",\"y\":[1,2,3,2,4,2,1],\"yaxis\":\"y\",\"type\":\"scatter\"},{\"hovertemplate\":\"platform=X360<br>genre=Platform<br>year_of_release=%{x}<br>nunique=%{y}<extra></extra>\",\"legendgroup\":\"X360\",\"line\":{\"color\":\"#FECB52\"},\"marker\":{\"symbol\":\"circle\"},\"mode\":\"lines\",\"name\":\"X360\",\"orientation\":\"v\",\"showlegend\":false,\"stackgroup\":\"1\",\"x\":[\"2006-01-01T00:00:00\",\"2007-01-01T00:00:00\",\"2008-01-01T00:00:00\",\"2009-01-01T00:00:00\",\"2010-01-01T00:00:00\",\"2011-01-01T00:00:00\",\"2013-01-01T00:00:00\"],\"xaxis\":\"x\",\"y\":[2,1,7,3,2,3,3],\"yaxis\":\"y\",\"type\":\"scatter\"},{\"hovertemplate\":\"platform=X360<br>genre=Strategy<br>year_of_release=%{x}<br>nunique=%{y}<extra></extra>\",\"legendgroup\":\"X360\",\"line\":{\"color\":\"#FECB52\"},\"marker\":{\"symbol\":\"circle\"},\"mode\":\"lines\",\"name\":\"X360\",\"orientation\":\"v\",\"showlegend\":false,\"stackgroup\":\"1\",\"x\":[\"2006-01-01T00:00:00\",\"2007-01-01T00:00:00\",\"2008-01-01T00:00:00\",\"2009-01-01T00:00:00\",\"2010-01-01T00:00:00\",\"2012-01-01T00:00:00\",\"2013-01-01T00:00:00\"],\"xaxis\":\"x\",\"y\":[1,5,4,4,3,1,1],\"yaxis\":\"y\",\"type\":\"scatter\"},{\"hovertemplate\":\"platform=X360<br>genre=Puzzle<br>year_of_release=%{x}<br>nunique=%{y}<extra></extra>\",\"legendgroup\":\"X360\",\"line\":{\"color\":\"#FECB52\"},\"marker\":{\"symbol\":\"circle\"},\"mode\":\"lines\",\"name\":\"X360\",\"orientation\":\"v\",\"showlegend\":false,\"stackgroup\":\"1\",\"x\":[\"2006-01-01T00:00:00\",\"2007-01-01T00:00:00\"],\"xaxis\":\"x\",\"y\":[1,2],\"yaxis\":\"y\",\"type\":\"scatter\"},{\"hovertemplate\":\"platform=PS3<br>genre=Fighting<br>year_of_release=%{x}<br>nunique=%{y}<extra></extra>\",\"legendgroup\":\"PS3\",\"line\":{\"color\":\"#636efa\"},\"marker\":{\"symbol\":\"circle\"},\"mode\":\"lines\",\"name\":\"PS3\",\"orientation\":\"v\",\"showlegend\":true,\"stackgroup\":\"1\",\"x\":[\"2006-01-01T00:00:00\",\"2007-01-01T00:00:00\",\"2008-01-01T00:00:00\",\"2009-01-01T00:00:00\",\"2010-01-01T00:00:00\",\"2011-01-01T00:00:00\",\"2012-01-01T00:00:00\",\"2013-01-01T00:00:00\",\"2014-01-01T00:00:00\"],\"xaxis\":\"x\",\"y\":[1,2,6,9,8,12,8,5,5],\"yaxis\":\"y\",\"type\":\"scatter\"},{\"hovertemplate\":\"platform=PS3<br>genre=Racing<br>year_of_release=%{x}<br>nunique=%{y}<extra></extra>\",\"legendgroup\":\"PS3\",\"line\":{\"color\":\"#636efa\"},\"marker\":{\"symbol\":\"circle\"},\"mode\":\"lines\",\"name\":\"PS3\",\"orientation\":\"v\",\"showlegend\":false,\"stackgroup\":\"1\",\"x\":[\"2006-01-01T00:00:00\",\"2007-01-01T00:00:00\",\"2008-01-01T00:00:00\",\"2009-01-01T00:00:00\",\"2010-01-01T00:00:00\",\"2011-01-01T00:00:00\",\"2012-01-01T00:00:00\",\"2013-01-01T00:00:00\",\"2014-01-01T00:00:00\"],\"xaxis\":\"x\",\"y\":[4,9,11,7,9,9,6,5,4],\"yaxis\":\"y\",\"type\":\"scatter\"},{\"hovertemplate\":\"platform=PS3<br>genre=Role-Playing<br>year_of_release=%{x}<br>nunique=%{y}<extra></extra>\",\"legendgroup\":\"PS3\",\"line\":{\"color\":\"#636efa\"},\"marker\":{\"symbol\":\"circle\"},\"mode\":\"lines\",\"name\":\"PS3\",\"orientation\":\"v\",\"showlegend\":false,\"stackgroup\":\"1\",\"x\":[\"2006-01-01T00:00:00\",\"2007-01-01T00:00:00\",\"2008-01-01T00:00:00\",\"2009-01-01T00:00:00\",\"2010-01-01T00:00:00\",\"2011-01-01T00:00:00\",\"2012-01-01T00:00:00\",\"2013-01-01T00:00:00\",\"2014-01-01T00:00:00\"],\"xaxis\":\"x\",\"y\":[2,4,6,7,14,11,11,13,10],\"yaxis\":\"y\",\"type\":\"scatter\"},{\"hovertemplate\":\"platform=PS3<br>genre=Shooter<br>year_of_release=%{x}<br>nunique=%{y}<extra></extra>\",\"legendgroup\":\"PS3\",\"line\":{\"color\":\"#636efa\"},\"marker\":{\"symbol\":\"circle\"},\"mode\":\"lines\",\"name\":\"PS3\",\"orientation\":\"v\",\"showlegend\":false,\"stackgroup\":\"1\",\"x\":[\"2006-01-01T00:00:00\",\"2007-01-01T00:00:00\",\"2008-01-01T00:00:00\",\"2009-01-01T00:00:00\",\"2010-01-01T00:00:00\",\"2011-01-01T00:00:00\",\"2012-01-01T00:00:00\",\"2013-01-01T00:00:00\",\"2014-01-01T00:00:00\"],\"xaxis\":\"x\",\"y\":[2,14,21,17,16,26,13,13,2],\"yaxis\":\"y\",\"type\":\"scatter\"},{\"hovertemplate\":\"platform=PS3<br>genre=Sports<br>year_of_release=%{x}<br>nunique=%{y}<extra></extra>\",\"legendgroup\":\"PS3\",\"line\":{\"color\":\"#636efa\"},\"marker\":{\"symbol\":\"circle\"},\"mode\":\"lines\",\"name\":\"PS3\",\"orientation\":\"v\",\"showlegend\":false,\"stackgroup\":\"1\",\"x\":[\"2006-01-01T00:00:00\",\"2007-01-01T00:00:00\",\"2008-01-01T00:00:00\",\"2009-01-01T00:00:00\",\"2010-01-01T00:00:00\",\"2011-01-01T00:00:00\",\"2012-01-01T00:00:00\",\"2013-01-01T00:00:00\",\"2014-01-01T00:00:00\"],\"xaxis\":\"x\",\"y\":[6,22,20,17,24,12,10,9,4],\"yaxis\":\"y\",\"type\":\"scatter\"},{\"hovertemplate\":\"platform=PS3<br>genre=Misc<br>year_of_release=%{x}<br>nunique=%{y}<extra></extra>\",\"legendgroup\":\"PS3\",\"line\":{\"color\":\"#636efa\"},\"marker\":{\"symbol\":\"circle\"},\"mode\":\"lines\",\"name\":\"PS3\",\"orientation\":\"v\",\"showlegend\":false,\"stackgroup\":\"1\",\"x\":[\"2007-01-01T00:00:00\",\"2008-01-01T00:00:00\",\"2009-01-01T00:00:00\",\"2010-01-01T00:00:00\",\"2011-01-01T00:00:00\",\"2012-01-01T00:00:00\",\"2013-01-01T00:00:00\",\"2014-01-01T00:00:00\"],\"xaxis\":\"x\",\"y\":[4,9,12,10,9,1,2,1],\"yaxis\":\"y\",\"type\":\"scatter\"},{\"hovertemplate\":\"platform=PS3<br>genre=Simulation<br>year_of_release=%{x}<br>nunique=%{y}<extra></extra>\",\"legendgroup\":\"PS3\",\"line\":{\"color\":\"#636efa\"},\"marker\":{\"symbol\":\"circle\"},\"mode\":\"lines\",\"name\":\"PS3\",\"orientation\":\"v\",\"showlegend\":false,\"stackgroup\":\"1\",\"x\":[\"2006-01-01T00:00:00\",\"2007-01-01T00:00:00\",\"2008-01-01T00:00:00\",\"2009-01-01T00:00:00\",\"2010-01-01T00:00:00\",\"2011-01-01T00:00:00\",\"2012-01-01T00:00:00\",\"2013-01-01T00:00:00\"],\"xaxis\":\"x\",\"y\":[3,2,1,3,3,3,3,2],\"yaxis\":\"y\",\"type\":\"scatter\"},{\"hovertemplate\":\"platform=PS3<br>genre=Action<br>year_of_release=%{x}<br>nunique=%{y}<extra></extra>\",\"legendgroup\":\"PS3\",\"line\":{\"color\":\"#636efa\"},\"marker\":{\"symbol\":\"circle\"},\"mode\":\"lines\",\"name\":\"PS3\",\"orientation\":\"v\",\"showlegend\":false,\"stackgroup\":\"1\",\"x\":[\"2006-01-01T00:00:00\",\"2007-01-01T00:00:00\",\"2008-01-01T00:00:00\",\"2009-01-01T00:00:00\",\"2010-01-01T00:00:00\",\"2011-01-01T00:00:00\",\"2012-01-01T00:00:00\",\"2013-01-01T00:00:00\",\"2014-01-01T00:00:00\"],\"xaxis\":\"x\",\"y\":[1,19,30,36,36,41,36,26,8],\"yaxis\":\"y\",\"type\":\"scatter\"},{\"hovertemplate\":\"platform=PS3<br>genre=Adventure<br>year_of_release=%{x}<br>nunique=%{y}<extra></extra>\",\"legendgroup\":\"PS3\",\"line\":{\"color\":\"#636efa\"},\"marker\":{\"symbol\":\"circle\"},\"mode\":\"lines\",\"name\":\"PS3\",\"orientation\":\"v\",\"showlegend\":false,\"stackgroup\":\"1\",\"x\":[\"2007-01-01T00:00:00\",\"2008-01-01T00:00:00\",\"2009-01-01T00:00:00\",\"2010-01-01T00:00:00\",\"2011-01-01T00:00:00\",\"2012-01-01T00:00:00\",\"2013-01-01T00:00:00\",\"2014-01-01T00:00:00\",\"2015-01-01T00:00:00\"],\"xaxis\":\"x\",\"y\":[1,3,1,3,4,3,2,1,1],\"yaxis\":\"y\",\"type\":\"scatter\"},{\"hovertemplate\":\"platform=PS3<br>genre=Platform<br>year_of_release=%{x}<br>nunique=%{y}<extra></extra>\",\"legendgroup\":\"PS3\",\"line\":{\"color\":\"#636efa\"},\"marker\":{\"symbol\":\"circle\"},\"mode\":\"lines\",\"name\":\"PS3\",\"orientation\":\"v\",\"showlegend\":false,\"stackgroup\":\"1\",\"x\":[\"2006-01-01T00:00:00\",\"2007-01-01T00:00:00\",\"2008-01-01T00:00:00\",\"2009-01-01T00:00:00\",\"2010-01-01T00:00:00\",\"2011-01-01T00:00:00\",\"2013-01-01T00:00:00\"],\"xaxis\":\"x\",\"y\":[1,1,5,3,2,5,5],\"yaxis\":\"y\",\"type\":\"scatter\"},{\"hovertemplate\":\"platform=PS3<br>genre=Strategy<br>year_of_release=%{x}<br>nunique=%{y}<extra></extra>\",\"legendgroup\":\"PS3\",\"line\":{\"color\":\"#636efa\"},\"marker\":{\"symbol\":\"circle\"},\"mode\":\"lines\",\"name\":\"PS3\",\"orientation\":\"v\",\"showlegend\":false,\"stackgroup\":\"1\",\"x\":[\"2008-01-01T00:00:00\",\"2009-01-01T00:00:00\",\"2010-01-01T00:00:00\",\"2011-01-01T00:00:00\",\"2012-01-01T00:00:00\",\"2013-01-01T00:00:00\"],\"xaxis\":\"x\",\"y\":[2,2,1,1,1,1],\"yaxis\":\"y\",\"type\":\"scatter\"},{\"hovertemplate\":\"platform=PS3<br>genre=Puzzle<br>year_of_release=%{x}<br>nunique=%{y}<extra></extra>\",\"legendgroup\":\"PS3\",\"line\":{\"color\":\"#636efa\"},\"marker\":{\"symbol\":\"circle\"},\"mode\":\"lines\",\"name\":\"PS3\",\"orientation\":\"v\",\"showlegend\":false,\"stackgroup\":\"1\",\"x\":[\"2009-01-01T00:00:00\"],\"xaxis\":\"x\",\"y\":[1],\"yaxis\":\"y\",\"type\":\"scatter\"},{\"hovertemplate\":\"platform=Wii<br>genre=Fighting<br>year_of_release=%{x}<br>nunique=%{y}<extra></extra>\",\"legendgroup\":\"Wii\",\"line\":{\"color\":\"#EF553B\"},\"marker\":{\"symbol\":\"circle\"},\"mode\":\"lines\",\"name\":\"Wii\",\"orientation\":\"v\",\"showlegend\":true,\"stackgroup\":\"1\",\"x\":[\"2006-01-01T00:00:00\",\"2007-01-01T00:00:00\",\"2008-01-01T00:00:00\",\"2009-01-01T00:00:00\",\"2010-01-01T00:00:00\",\"2011-01-01T00:00:00\"],\"xaxis\":\"x\",\"y\":[2,9,7,5,3,2],\"yaxis\":\"y\",\"type\":\"scatter\"},{\"hovertemplate\":\"platform=Wii<br>genre=Racing<br>year_of_release=%{x}<br>nunique=%{y}<extra></extra>\",\"legendgroup\":\"Wii\",\"line\":{\"color\":\"#EF553B\"},\"marker\":{\"symbol\":\"circle\"},\"mode\":\"lines\",\"name\":\"Wii\",\"orientation\":\"v\",\"showlegend\":false,\"stackgroup\":\"1\",\"x\":[\"2006-01-01T00:00:00\",\"2007-01-01T00:00:00\",\"2008-01-01T00:00:00\",\"2009-01-01T00:00:00\",\"2010-01-01T00:00:00\",\"2011-01-01T00:00:00\"],\"xaxis\":\"x\",\"y\":[5,5,10,10,2,2],\"yaxis\":\"y\",\"type\":\"scatter\"},{\"hovertemplate\":\"platform=Wii<br>genre=Role-Playing<br>year_of_release=%{x}<br>nunique=%{y}<extra></extra>\",\"legendgroup\":\"Wii\",\"line\":{\"color\":\"#EF553B\"},\"marker\":{\"symbol\":\"circle\"},\"mode\":\"lines\",\"name\":\"Wii\",\"orientation\":\"v\",\"showlegend\":false,\"stackgroup\":\"1\",\"x\":[\"2006-01-01T00:00:00\",\"2007-01-01T00:00:00\",\"2008-01-01T00:00:00\",\"2009-01-01T00:00:00\",\"2010-01-01T00:00:00\",\"2011-01-01T00:00:00\"],\"xaxis\":\"x\",\"y\":[2,4,6,9,2,2],\"yaxis\":\"y\",\"type\":\"scatter\"},{\"hovertemplate\":\"platform=Wii<br>genre=Shooter<br>year_of_release=%{x}<br>nunique=%{y}<extra></extra>\",\"legendgroup\":\"Wii\",\"line\":{\"color\":\"#EF553B\"},\"marker\":{\"symbol\":\"circle\"},\"mode\":\"lines\",\"name\":\"Wii\",\"orientation\":\"v\",\"showlegend\":false,\"stackgroup\":\"1\",\"x\":[\"2006-01-01T00:00:00\",\"2007-01-01T00:00:00\",\"2008-01-01T00:00:00\",\"2009-01-01T00:00:00\",\"2010-01-01T00:00:00\",\"2011-01-01T00:00:00\"],\"xaxis\":\"x\",\"y\":[3,8,7,7,5,2],\"yaxis\":\"y\",\"type\":\"scatter\"},{\"hovertemplate\":\"platform=Wii<br>genre=Sports<br>year_of_release=%{x}<br>nunique=%{y}<extra></extra>\",\"legendgroup\":\"Wii\",\"line\":{\"color\":\"#EF553B\"},\"marker\":{\"symbol\":\"circle\"},\"mode\":\"lines\",\"name\":\"Wii\",\"orientation\":\"v\",\"showlegend\":false,\"stackgroup\":\"1\",\"x\":[\"2006-01-01T00:00:00\",\"2007-01-01T00:00:00\",\"2008-01-01T00:00:00\",\"2009-01-01T00:00:00\",\"2010-01-01T00:00:00\",\"2011-01-01T00:00:00\"],\"xaxis\":\"x\",\"y\":[3,19,27,23,14,5],\"yaxis\":\"y\",\"type\":\"scatter\"},{\"hovertemplate\":\"platform=Wii<br>genre=Misc<br>year_of_release=%{x}<br>nunique=%{y}<extra></extra>\",\"legendgroup\":\"Wii\",\"line\":{\"color\":\"#EF553B\"},\"marker\":{\"symbol\":\"circle\"},\"mode\":\"lines\",\"name\":\"Wii\",\"orientation\":\"v\",\"showlegend\":false,\"stackgroup\":\"1\",\"x\":[\"2006-01-01T00:00:00\",\"2007-01-01T00:00:00\",\"2008-01-01T00:00:00\",\"2009-01-01T00:00:00\",\"2010-01-01T00:00:00\",\"2011-01-01T00:00:00\",\"2012-01-01T00:00:00\"],\"xaxis\":\"x\",\"y\":[3,18,16,20,15,8,2],\"yaxis\":\"y\",\"type\":\"scatter\"},{\"hovertemplate\":\"platform=Wii<br>genre=Simulation<br>year_of_release=%{x}<br>nunique=%{y}<extra></extra>\",\"legendgroup\":\"Wii\",\"line\":{\"color\":\"#EF553B\"},\"marker\":{\"symbol\":\"circle\"},\"mode\":\"lines\",\"name\":\"Wii\",\"orientation\":\"v\",\"showlegend\":false,\"stackgroup\":\"1\",\"x\":[\"2006-01-01T00:00:00\",\"2007-01-01T00:00:00\",\"2008-01-01T00:00:00\",\"2009-01-01T00:00:00\"],\"xaxis\":\"x\",\"y\":[2,8,14,9],\"yaxis\":\"y\",\"type\":\"scatter\"},{\"hovertemplate\":\"platform=Wii<br>genre=Action<br>year_of_release=%{x}<br>nunique=%{y}<extra></extra>\",\"legendgroup\":\"Wii\",\"line\":{\"color\":\"#EF553B\"},\"marker\":{\"symbol\":\"circle\"},\"mode\":\"lines\",\"name\":\"Wii\",\"orientation\":\"v\",\"showlegend\":false,\"stackgroup\":\"1\",\"x\":[\"2006-01-01T00:00:00\",\"2007-01-01T00:00:00\",\"2008-01-01T00:00:00\",\"2009-01-01T00:00:00\",\"2010-01-01T00:00:00\",\"2011-01-01T00:00:00\",\"2012-01-01T00:00:00\"],\"xaxis\":\"x\",\"y\":[7,29,28,36,22,16,3],\"yaxis\":\"y\",\"type\":\"scatter\"},{\"hovertemplate\":\"platform=Wii<br>genre=Adventure<br>year_of_release=%{x}<br>nunique=%{y}<extra></extra>\",\"legendgroup\":\"Wii\",\"line\":{\"color\":\"#EF553B\"},\"marker\":{\"symbol\":\"circle\"},\"mode\":\"lines\",\"name\":\"Wii\",\"orientation\":\"v\",\"showlegend\":false,\"stackgroup\":\"1\",\"x\":[\"2006-01-01T00:00:00\",\"2007-01-01T00:00:00\",\"2008-01-01T00:00:00\",\"2009-01-01T00:00:00\",\"2010-01-01T00:00:00\",\"2011-01-01T00:00:00\"],\"xaxis\":\"x\",\"y\":[1,4,9,11,3,2],\"yaxis\":\"y\",\"type\":\"scatter\"},{\"hovertemplate\":\"platform=Wii<br>genre=Platform<br>year_of_release=%{x}<br>nunique=%{y}<extra></extra>\",\"legendgroup\":\"Wii\",\"line\":{\"color\":\"#EF553B\"},\"marker\":{\"symbol\":\"circle\"},\"mode\":\"lines\",\"name\":\"Wii\",\"orientation\":\"v\",\"showlegend\":false,\"stackgroup\":\"1\",\"x\":[\"2006-01-01T00:00:00\",\"2007-01-01T00:00:00\",\"2008-01-01T00:00:00\",\"2009-01-01T00:00:00\",\"2010-01-01T00:00:00\",\"2011-01-01T00:00:00\"],\"xaxis\":\"x\",\"y\":[4,9,9,7,7,3],\"yaxis\":\"y\",\"type\":\"scatter\"},{\"hovertemplate\":\"platform=Wii<br>genre=Strategy<br>year_of_release=%{x}<br>nunique=%{y}<extra></extra>\",\"legendgroup\":\"Wii\",\"line\":{\"color\":\"#EF553B\"},\"marker\":{\"symbol\":\"circle\"},\"mode\":\"lines\",\"name\":\"Wii\",\"orientation\":\"v\",\"showlegend\":false,\"stackgroup\":\"1\",\"x\":[\"2007-01-01T00:00:00\",\"2008-01-01T00:00:00\",\"2009-01-01T00:00:00\",\"2010-01-01T00:00:00\"],\"xaxis\":\"x\",\"y\":[4,1,2,1],\"yaxis\":\"y\",\"type\":\"scatter\"},{\"hovertemplate\":\"platform=Wii<br>genre=Puzzle<br>year_of_release=%{x}<br>nunique=%{y}<extra></extra>\",\"legendgroup\":\"Wii\",\"line\":{\"color\":\"#EF553B\"},\"marker\":{\"symbol\":\"circle\"},\"mode\":\"lines\",\"name\":\"Wii\",\"orientation\":\"v\",\"showlegend\":false,\"stackgroup\":\"1\",\"x\":[\"2006-01-01T00:00:00\",\"2007-01-01T00:00:00\",\"2008-01-01T00:00:00\",\"2009-01-01T00:00:00\",\"2010-01-01T00:00:00\"],\"xaxis\":\"x\",\"y\":[2,2,8,7,3],\"yaxis\":\"y\",\"type\":\"scatter\"},{\"hovertemplate\":\"platform=3DS<br>genre=Fighting<br>year_of_release=%{x}<br>nunique=%{y}<extra></extra>\",\"legendgroup\":\"3DS\",\"line\":{\"color\":\"#00cc96\"},\"marker\":{\"symbol\":\"circle\"},\"mode\":\"lines\",\"name\":\"3DS\",\"orientation\":\"v\",\"showlegend\":true,\"stackgroup\":\"1\",\"x\":[\"2011-01-01T00:00:00\",\"2012-01-01T00:00:00\",\"2015-01-01T00:00:00\"],\"xaxis\":\"x\",\"y\":[5,1,1],\"yaxis\":\"y\",\"type\":\"scatter\"},{\"hovertemplate\":\"platform=3DS<br>genre=Racing<br>year_of_release=%{x}<br>nunique=%{y}<extra></extra>\",\"legendgroup\":\"3DS\",\"line\":{\"color\":\"#00cc96\"},\"marker\":{\"symbol\":\"circle\"},\"mode\":\"lines\",\"name\":\"3DS\",\"orientation\":\"v\",\"showlegend\":false,\"stackgroup\":\"1\",\"x\":[\"2011-01-01T00:00:00\"],\"xaxis\":\"x\",\"y\":[5],\"yaxis\":\"y\",\"type\":\"scatter\"},{\"hovertemplate\":\"platform=3DS<br>genre=Role-Playing<br>year_of_release=%{x}<br>nunique=%{y}<extra></extra>\",\"legendgroup\":\"3DS\",\"line\":{\"color\":\"#00cc96\"},\"marker\":{\"symbol\":\"circle\"},\"mode\":\"lines\",\"name\":\"3DS\",\"orientation\":\"v\",\"showlegend\":false,\"stackgroup\":\"1\",\"x\":[\"2011-01-01T00:00:00\",\"2012-01-01T00:00:00\",\"2013-01-01T00:00:00\",\"2014-01-01T00:00:00\",\"2015-01-01T00:00:00\",\"2016-01-01T00:00:00\"],\"xaxis\":\"x\",\"y\":[3,7,4,5,6,1],\"yaxis\":\"y\",\"type\":\"scatter\"},{\"hovertemplate\":\"platform=3DS<br>genre=Shooter<br>year_of_release=%{x}<br>nunique=%{y}<extra></extra>\",\"legendgroup\":\"3DS\",\"line\":{\"color\":\"#00cc96\"},\"marker\":{\"symbol\":\"circle\"},\"mode\":\"lines\",\"name\":\"3DS\",\"orientation\":\"v\",\"showlegend\":false,\"stackgroup\":\"1\",\"x\":[\"2011-01-01T00:00:00\"],\"xaxis\":\"x\",\"y\":[2],\"yaxis\":\"y\",\"type\":\"scatter\"},{\"hovertemplate\":\"platform=3DS<br>genre=Sports<br>year_of_release=%{x}<br>nunique=%{y}<extra></extra>\",\"legendgroup\":\"3DS\",\"line\":{\"color\":\"#00cc96\"},\"marker\":{\"symbol\":\"circle\"},\"mode\":\"lines\",\"name\":\"3DS\",\"orientation\":\"v\",\"showlegend\":false,\"stackgroup\":\"1\",\"x\":[\"2011-01-01T00:00:00\",\"2012-01-01T00:00:00\",\"2014-01-01T00:00:00\"],\"xaxis\":\"x\",\"y\":[5,1,1],\"yaxis\":\"y\",\"type\":\"scatter\"},{\"hovertemplate\":\"platform=3DS<br>genre=Misc<br>year_of_release=%{x}<br>nunique=%{y}<extra></extra>\",\"legendgroup\":\"3DS\",\"line\":{\"color\":\"#00cc96\"},\"marker\":{\"symbol\":\"circle\"},\"mode\":\"lines\",\"name\":\"3DS\",\"orientation\":\"v\",\"showlegend\":false,\"stackgroup\":\"1\",\"x\":[\"2011-01-01T00:00:00\",\"2012-01-01T00:00:00\",\"2013-01-01T00:00:00\",\"2014-01-01T00:00:00\",\"2015-01-01T00:00:00\",\"2016-01-01T00:00:00\"],\"xaxis\":\"x\",\"y\":[4,1,1,2,1,1],\"yaxis\":\"y\",\"type\":\"scatter\"},{\"hovertemplate\":\"platform=3DS<br>genre=Simulation<br>year_of_release=%{x}<br>nunique=%{y}<extra></extra>\",\"legendgroup\":\"3DS\",\"line\":{\"color\":\"#00cc96\"},\"marker\":{\"symbol\":\"circle\"},\"mode\":\"lines\",\"name\":\"3DS\",\"orientation\":\"v\",\"showlegend\":false,\"stackgroup\":\"1\",\"x\":[\"2011-01-01T00:00:00\",\"2012-01-01T00:00:00\",\"2014-01-01T00:00:00\",\"2015-01-01T00:00:00\"],\"xaxis\":\"x\",\"y\":[4,2,2,2],\"yaxis\":\"y\",\"type\":\"scatter\"},{\"hovertemplate\":\"platform=3DS<br>genre=Action<br>year_of_release=%{x}<br>nunique=%{y}<extra></extra>\",\"legendgroup\":\"3DS\",\"line\":{\"color\":\"#00cc96\"},\"marker\":{\"symbol\":\"circle\"},\"mode\":\"lines\",\"name\":\"3DS\",\"orientation\":\"v\",\"showlegend\":false,\"stackgroup\":\"1\",\"x\":[\"2011-01-01T00:00:00\",\"2012-01-01T00:00:00\",\"2013-01-01T00:00:00\",\"2014-01-01T00:00:00\",\"2015-01-01T00:00:00\",\"2016-01-01T00:00:00\"],\"xaxis\":\"x\",\"y\":[17,13,8,8,5,6],\"yaxis\":\"y\",\"type\":\"scatter\"},{\"hovertemplate\":\"platform=3DS<br>genre=Adventure<br>year_of_release=%{x}<br>nunique=%{y}<extra></extra>\",\"legendgroup\":\"3DS\",\"line\":{\"color\":\"#00cc96\"},\"marker\":{\"symbol\":\"circle\"},\"mode\":\"lines\",\"name\":\"3DS\",\"orientation\":\"v\",\"showlegend\":false,\"stackgroup\":\"1\",\"x\":[\"2011-01-01T00:00:00\",\"2012-01-01T00:00:00\",\"2013-01-01T00:00:00\",\"2014-01-01T00:00:00\",\"2016-01-01T00:00:00\"],\"xaxis\":\"x\",\"y\":[3,2,2,2,1],\"yaxis\":\"y\",\"type\":\"scatter\"},{\"hovertemplate\":\"platform=3DS<br>genre=Platform<br>year_of_release=%{x}<br>nunique=%{y}<extra></extra>\",\"legendgroup\":\"3DS\",\"line\":{\"color\":\"#00cc96\"},\"marker\":{\"symbol\":\"circle\"},\"mode\":\"lines\",\"name\":\"3DS\",\"orientation\":\"v\",\"showlegend\":false,\"stackgroup\":\"1\",\"x\":[\"2011-01-01T00:00:00\",\"2012-01-01T00:00:00\",\"2013-01-01T00:00:00\",\"2014-01-01T00:00:00\",\"2015-01-01T00:00:00\",\"2016-01-01T00:00:00\"],\"xaxis\":\"x\",\"y\":[6,4,3,2,2,1],\"yaxis\":\"y\",\"type\":\"scatter\"},{\"hovertemplate\":\"platform=3DS<br>genre=Strategy<br>year_of_release=%{x}<br>nunique=%{y}<extra></extra>\",\"legendgroup\":\"3DS\",\"line\":{\"color\":\"#00cc96\"},\"marker\":{\"symbol\":\"circle\"},\"mode\":\"lines\",\"name\":\"3DS\",\"orientation\":\"v\",\"showlegend\":false,\"stackgroup\":\"1\",\"x\":[\"2011-01-01T00:00:00\",\"2015-01-01T00:00:00\"],\"xaxis\":\"x\",\"y\":[2,1],\"yaxis\":\"y\",\"type\":\"scatter\"},{\"hovertemplate\":\"platform=3DS<br>genre=Puzzle<br>year_of_release=%{x}<br>nunique=%{y}<extra></extra>\",\"legendgroup\":\"3DS\",\"line\":{\"color\":\"#00cc96\"},\"marker\":{\"symbol\":\"circle\"},\"mode\":\"lines\",\"name\":\"3DS\",\"orientation\":\"v\",\"showlegend\":false,\"stackgroup\":\"1\",\"x\":[\"2011-01-01T00:00:00\",\"2012-01-01T00:00:00\",\"2013-01-01T00:00:00\",\"2015-01-01T00:00:00\"],\"xaxis\":\"x\",\"y\":[5,2,2,1],\"yaxis\":\"y\",\"type\":\"scatter\"},{\"hovertemplate\":\"platform=PSV<br>genre=Fighting<br>year_of_release=%{x}<br>nunique=%{y}<extra></extra>\",\"legendgroup\":\"PSV\",\"line\":{\"color\":\"#ab63fa\"},\"marker\":{\"symbol\":\"circle\"},\"mode\":\"lines\",\"name\":\"PSV\",\"orientation\":\"v\",\"showlegend\":true,\"stackgroup\":\"1\",\"x\":[\"2011-01-01T00:00:00\",\"2012-01-01T00:00:00\",\"2014-01-01T00:00:00\",\"2016-01-01T00:00:00\"],\"xaxis\":\"x\",\"y\":[2,3,3,1],\"yaxis\":\"y\",\"type\":\"scatter\"},{\"hovertemplate\":\"platform=PSV<br>genre=Racing<br>year_of_release=%{x}<br>nunique=%{y}<extra></extra>\",\"legendgroup\":\"PSV\",\"line\":{\"color\":\"#ab63fa\"},\"marker\":{\"symbol\":\"circle\"},\"mode\":\"lines\",\"name\":\"PSV\",\"orientation\":\"v\",\"showlegend\":false,\"stackgroup\":\"1\",\"x\":[\"2011-01-01T00:00:00\",\"2012-01-01T00:00:00\"],\"xaxis\":\"x\",\"y\":[2,3],\"yaxis\":\"y\",\"type\":\"scatter\"},{\"hovertemplate\":\"platform=PSV<br>genre=Role-Playing<br>year_of_release=%{x}<br>nunique=%{y}<extra></extra>\",\"legendgroup\":\"PSV\",\"line\":{\"color\":\"#ab63fa\"},\"marker\":{\"symbol\":\"circle\"},\"mode\":\"lines\",\"name\":\"PSV\",\"orientation\":\"v\",\"showlegend\":false,\"stackgroup\":\"1\",\"x\":[\"2012-01-01T00:00:00\",\"2013-01-01T00:00:00\",\"2014-01-01T00:00:00\",\"2015-01-01T00:00:00\",\"2016-01-01T00:00:00\"],\"xaxis\":\"x\",\"y\":[2,10,10,5,4],\"yaxis\":\"y\",\"type\":\"scatter\"},{\"hovertemplate\":\"platform=PSV<br>genre=Shooter<br>year_of_release=%{x}<br>nunique=%{y}<extra></extra>\",\"legendgroup\":\"PSV\",\"line\":{\"color\":\"#ab63fa\"},\"marker\":{\"symbol\":\"circle\"},\"mode\":\"lines\",\"name\":\"PSV\",\"orientation\":\"v\",\"showlegend\":false,\"stackgroup\":\"1\",\"x\":[\"2011-01-01T00:00:00\",\"2012-01-01T00:00:00\",\"2013-01-01T00:00:00\",\"2014-01-01T00:00:00\"],\"xaxis\":\"x\",\"y\":[1,2,1,1],\"yaxis\":\"y\",\"type\":\"scatter\"},{\"hovertemplate\":\"platform=PSV<br>genre=Sports<br>year_of_release=%{x}<br>nunique=%{y}<extra></extra>\",\"legendgroup\":\"PSV\",\"line\":{\"color\":\"#ab63fa\"},\"marker\":{\"symbol\":\"circle\"},\"mode\":\"lines\",\"name\":\"PSV\",\"orientation\":\"v\",\"showlegend\":false,\"stackgroup\":\"1\",\"x\":[\"2011-01-01T00:00:00\",\"2012-01-01T00:00:00\",\"2013-01-01T00:00:00\",\"2014-01-01T00:00:00\"],\"xaxis\":\"x\",\"y\":[1,3,1,1],\"yaxis\":\"y\",\"type\":\"scatter\"},{\"hovertemplate\":\"platform=PSV<br>genre=Misc<br>year_of_release=%{x}<br>nunique=%{y}<extra></extra>\",\"legendgroup\":\"PSV\",\"line\":{\"color\":\"#ab63fa\"},\"marker\":{\"symbol\":\"circle\"},\"mode\":\"lines\",\"name\":\"PSV\",\"orientation\":\"v\",\"showlegend\":false,\"stackgroup\":\"1\",\"x\":[\"2011-01-01T00:00:00\",\"2012-01-01T00:00:00\",\"2013-01-01T00:00:00\",\"2014-01-01T00:00:00\",\"2015-01-01T00:00:00\",\"2016-01-01T00:00:00\"],\"xaxis\":\"x\",\"y\":[1,2,1,2,1,1],\"yaxis\":\"y\",\"type\":\"scatter\"},{\"hovertemplate\":\"platform=PSV<br>genre=Action<br>year_of_release=%{x}<br>nunique=%{y}<extra></extra>\",\"legendgroup\":\"PSV\",\"line\":{\"color\":\"#ab63fa\"},\"marker\":{\"symbol\":\"circle\"},\"mode\":\"lines\",\"name\":\"PSV\",\"orientation\":\"v\",\"showlegend\":false,\"stackgroup\":\"1\",\"x\":[\"2011-01-01T00:00:00\",\"2012-01-01T00:00:00\",\"2013-01-01T00:00:00\",\"2014-01-01T00:00:00\",\"2015-01-01T00:00:00\",\"2016-01-01T00:00:00\"],\"xaxis\":\"x\",\"y\":[3,13,4,10,7,1],\"yaxis\":\"y\",\"type\":\"scatter\"},{\"hovertemplate\":\"platform=PSV<br>genre=Adventure<br>year_of_release=%{x}<br>nunique=%{y}<extra></extra>\",\"legendgroup\":\"PSV\",\"line\":{\"color\":\"#ab63fa\"},\"marker\":{\"symbol\":\"circle\"},\"mode\":\"lines\",\"name\":\"PSV\",\"orientation\":\"v\",\"showlegend\":false,\"stackgroup\":\"1\",\"x\":[\"2013-01-01T00:00:00\",\"2014-01-01T00:00:00\",\"2015-01-01T00:00:00\",\"2016-01-01T00:00:00\"],\"xaxis\":\"x\",\"y\":[5,1,1,3],\"yaxis\":\"y\",\"type\":\"scatter\"},{\"hovertemplate\":\"platform=PSV<br>genre=Platform<br>year_of_release=%{x}<br>nunique=%{y}<extra></extra>\",\"legendgroup\":\"PSV\",\"line\":{\"color\":\"#ab63fa\"},\"marker\":{\"symbol\":\"circle\"},\"mode\":\"lines\",\"name\":\"PSV\",\"orientation\":\"v\",\"showlegend\":false,\"stackgroup\":\"1\",\"x\":[\"2011-01-01T00:00:00\",\"2012-01-01T00:00:00\",\"2013-01-01T00:00:00\",\"2014-01-01T00:00:00\"],\"xaxis\":\"x\",\"y\":[1,2,1,2],\"yaxis\":\"y\",\"type\":\"scatter\"},{\"hovertemplate\":\"platform=PSV<br>genre=Puzzle<br>year_of_release=%{x}<br>nunique=%{y}<extra></extra>\",\"legendgroup\":\"PSV\",\"line\":{\"color\":\"#ab63fa\"},\"marker\":{\"symbol\":\"circle\"},\"mode\":\"lines\",\"name\":\"PSV\",\"orientation\":\"v\",\"showlegend\":false,\"stackgroup\":\"1\",\"x\":[\"2011-01-01T00:00:00\"],\"xaxis\":\"x\",\"y\":[1],\"yaxis\":\"y\",\"type\":\"scatter\"},{\"hovertemplate\":\"platform=WiiU<br>genre=Fighting<br>year_of_release=%{x}<br>nunique=%{y}<extra></extra>\",\"legendgroup\":\"WiiU\",\"line\":{\"color\":\"#FFA15A\"},\"marker\":{\"symbol\":\"circle\"},\"mode\":\"lines\",\"name\":\"WiiU\",\"orientation\":\"v\",\"showlegend\":true,\"stackgroup\":\"1\",\"x\":[\"2013-01-01T00:00:00\",\"2016-01-01T00:00:00\"],\"xaxis\":\"x\",\"y\":[2,1],\"yaxis\":\"y\",\"type\":\"scatter\"},{\"hovertemplate\":\"platform=WiiU<br>genre=Racing<br>year_of_release=%{x}<br>nunique=%{y}<extra></extra>\",\"legendgroup\":\"WiiU\",\"line\":{\"color\":\"#FFA15A\"},\"marker\":{\"symbol\":\"circle\"},\"mode\":\"lines\",\"name\":\"WiiU\",\"orientation\":\"v\",\"showlegend\":false,\"stackgroup\":\"1\",\"x\":[\"2014-01-01T00:00:00\"],\"xaxis\":\"x\",\"y\":[1],\"yaxis\":\"y\",\"type\":\"scatter\"},{\"hovertemplate\":\"platform=WiiU<br>genre=Role-Playing<br>year_of_release=%{x}<br>nunique=%{y}<extra></extra>\",\"legendgroup\":\"WiiU\",\"line\":{\"color\":\"#FFA15A\"},\"marker\":{\"symbol\":\"circle\"},\"mode\":\"lines\",\"name\":\"WiiU\",\"orientation\":\"v\",\"showlegend\":false,\"stackgroup\":\"1\",\"x\":[\"2015-01-01T00:00:00\",\"2016-01-01T00:00:00\"],\"xaxis\":\"x\",\"y\":[1,1],\"yaxis\":\"y\",\"type\":\"scatter\"},{\"hovertemplate\":\"platform=WiiU<br>genre=Shooter<br>year_of_release=%{x}<br>nunique=%{y}<extra></extra>\",\"legendgroup\":\"WiiU\",\"line\":{\"color\":\"#FFA15A\"},\"marker\":{\"symbol\":\"circle\"},\"mode\":\"lines\",\"name\":\"WiiU\",\"orientation\":\"v\",\"showlegend\":false,\"stackgroup\":\"1\",\"x\":[\"2012-01-01T00:00:00\",\"2013-01-01T00:00:00\",\"2015-01-01T00:00:00\",\"2016-01-01T00:00:00\"],\"xaxis\":\"x\",\"y\":[1,2,1,1],\"yaxis\":\"y\",\"type\":\"scatter\"},{\"hovertemplate\":\"platform=WiiU<br>genre=Sports<br>year_of_release=%{x}<br>nunique=%{y}<extra></extra>\",\"legendgroup\":\"WiiU\",\"line\":{\"color\":\"#FFA15A\"},\"marker\":{\"symbol\":\"circle\"},\"mode\":\"lines\",\"name\":\"WiiU\",\"orientation\":\"v\",\"showlegend\":false,\"stackgroup\":\"1\",\"x\":[\"2012-01-01T00:00:00\",\"2013-01-01T00:00:00\",\"2014-01-01T00:00:00\",\"2015-01-01T00:00:00\"],\"xaxis\":\"x\",\"y\":[3,1,1,1],\"yaxis\":\"y\",\"type\":\"scatter\"},{\"hovertemplate\":\"platform=WiiU<br>genre=Misc<br>year_of_release=%{x}<br>nunique=%{y}<extra></extra>\",\"legendgroup\":\"WiiU\",\"line\":{\"color\":\"#FFA15A\"},\"marker\":{\"symbol\":\"circle\"},\"mode\":\"lines\",\"name\":\"WiiU\",\"orientation\":\"v\",\"showlegend\":false,\"stackgroup\":\"1\",\"x\":[\"2012-01-01T00:00:00\",\"2013-01-01T00:00:00\",\"2014-01-01T00:00:00\",\"2015-01-01T00:00:00\"],\"xaxis\":\"x\",\"y\":[4,2,1,5],\"yaxis\":\"y\",\"type\":\"scatter\"},{\"hovertemplate\":\"platform=WiiU<br>genre=Simulation<br>year_of_release=%{x}<br>nunique=%{y}<extra></extra>\",\"legendgroup\":\"WiiU\",\"line\":{\"color\":\"#FFA15A\"},\"marker\":{\"symbol\":\"circle\"},\"mode\":\"lines\",\"name\":\"WiiU\",\"orientation\":\"v\",\"showlegend\":false,\"stackgroup\":\"1\",\"x\":[\"2013-01-01T00:00:00\"],\"xaxis\":\"x\",\"y\":[1],\"yaxis\":\"y\",\"type\":\"scatter\"},{\"hovertemplate\":\"platform=WiiU<br>genre=Action<br>year_of_release=%{x}<br>nunique=%{y}<extra></extra>\",\"legendgroup\":\"WiiU\",\"line\":{\"color\":\"#FFA15A\"},\"marker\":{\"symbol\":\"circle\"},\"mode\":\"lines\",\"name\":\"WiiU\",\"orientation\":\"v\",\"showlegend\":false,\"stackgroup\":\"1\",\"x\":[\"2012-01-01T00:00:00\",\"2013-01-01T00:00:00\",\"2014-01-01T00:00:00\",\"2015-01-01T00:00:00\",\"2016-01-01T00:00:00\"],\"xaxis\":\"x\",\"y\":[11,9,9,6,4],\"yaxis\":\"y\",\"type\":\"scatter\"},{\"hovertemplate\":\"platform=WiiU<br>genre=Adventure<br>year_of_release=%{x}<br>nunique=%{y}<extra></extra>\",\"legendgroup\":\"WiiU\",\"line\":{\"color\":\"#FFA15A\"},\"marker\":{\"symbol\":\"circle\"},\"mode\":\"lines\",\"name\":\"WiiU\",\"orientation\":\"v\",\"showlegend\":false,\"stackgroup\":\"1\",\"x\":[\"2014-01-01T00:00:00\"],\"xaxis\":\"x\",\"y\":[1],\"yaxis\":\"y\",\"type\":\"scatter\"},{\"hovertemplate\":\"platform=WiiU<br>genre=Platform<br>year_of_release=%{x}<br>nunique=%{y}<extra></extra>\",\"legendgroup\":\"WiiU\",\"line\":{\"color\":\"#FFA15A\"},\"marker\":{\"symbol\":\"circle\"},\"mode\":\"lines\",\"name\":\"WiiU\",\"orientation\":\"v\",\"showlegend\":false,\"stackgroup\":\"1\",\"x\":[\"2012-01-01T00:00:00\",\"2013-01-01T00:00:00\",\"2014-01-01T00:00:00\",\"2015-01-01T00:00:00\",\"2016-01-01T00:00:00\"],\"xaxis\":\"x\",\"y\":[1,8,1,4,2],\"yaxis\":\"y\",\"type\":\"scatter\"},{\"hovertemplate\":\"platform=WiiU<br>genre=Strategy<br>year_of_release=%{x}<br>nunique=%{y}<extra></extra>\",\"legendgroup\":\"WiiU\",\"line\":{\"color\":\"#FFA15A\"},\"marker\":{\"symbol\":\"circle\"},\"mode\":\"lines\",\"name\":\"WiiU\",\"orientation\":\"v\",\"showlegend\":false,\"stackgroup\":\"1\",\"x\":[\"2013-01-01T00:00:00\"],\"xaxis\":\"x\",\"y\":[1],\"yaxis\":\"y\",\"type\":\"scatter\"},{\"hovertemplate\":\"platform=WiiU<br>genre=Puzzle<br>year_of_release=%{x}<br>nunique=%{y}<extra></extra>\",\"legendgroup\":\"WiiU\",\"line\":{\"color\":\"#FFA15A\"},\"marker\":{\"symbol\":\"circle\"},\"mode\":\"lines\",\"name\":\"WiiU\",\"orientation\":\"v\",\"showlegend\":false,\"stackgroup\":\"1\",\"x\":[\"2013-01-01T00:00:00\",\"2014-01-01T00:00:00\",\"2015-01-01T00:00:00\"],\"xaxis\":\"x\",\"y\":[1,1,1],\"yaxis\":\"y\",\"type\":\"scatter\"},{\"hovertemplate\":\"platform=PS4<br>genre=Fighting<br>year_of_release=%{x}<br>nunique=%{y}<extra></extra>\",\"legendgroup\":\"PS4\",\"line\":{\"color\":\"#19d3f3\"},\"marker\":{\"symbol\":\"circle\"},\"mode\":\"lines\",\"name\":\"PS4\",\"orientation\":\"v\",\"showlegend\":true,\"stackgroup\":\"1\",\"x\":[\"2015-01-01T00:00:00\",\"2016-01-01T00:00:00\"],\"xaxis\":\"x\",\"y\":[6,5],\"yaxis\":\"y\",\"type\":\"scatter\"},{\"hovertemplate\":\"platform=PS4<br>genre=Racing<br>year_of_release=%{x}<br>nunique=%{y}<extra></extra>\",\"legendgroup\":\"PS4\",\"line\":{\"color\":\"#19d3f3\"},\"marker\":{\"symbol\":\"circle\"},\"mode\":\"lines\",\"name\":\"PS4\",\"orientation\":\"v\",\"showlegend\":false,\"stackgroup\":\"1\",\"x\":[\"2013-01-01T00:00:00\",\"2014-01-01T00:00:00\",\"2015-01-01T00:00:00\",\"2016-01-01T00:00:00\"],\"xaxis\":\"x\",\"y\":[1,4,3,7],\"yaxis\":\"y\",\"type\":\"scatter\"},{\"hovertemplate\":\"platform=PS4<br>genre=Role-Playing<br>year_of_release=%{x}<br>nunique=%{y}<extra></extra>\",\"legendgroup\":\"PS4\",\"line\":{\"color\":\"#19d3f3\"},\"marker\":{\"symbol\":\"circle\"},\"mode\":\"lines\",\"name\":\"PS4\",\"orientation\":\"v\",\"showlegend\":false,\"stackgroup\":\"1\",\"x\":[\"2014-01-01T00:00:00\",\"2015-01-01T00:00:00\",\"2016-01-01T00:00:00\"],\"xaxis\":\"x\",\"y\":[6,9,8],\"yaxis\":\"y\",\"type\":\"scatter\"},{\"hovertemplate\":\"platform=PS4<br>genre=Shooter<br>year_of_release=%{x}<br>nunique=%{y}<extra></extra>\",\"legendgroup\":\"PS4\",\"line\":{\"color\":\"#19d3f3\"},\"marker\":{\"symbol\":\"circle\"},\"mode\":\"lines\",\"name\":\"PS4\",\"orientation\":\"v\",\"showlegend\":false,\"stackgroup\":\"1\",\"x\":[\"2013-01-01T00:00:00\",\"2014-01-01T00:00:00\",\"2015-01-01T00:00:00\",\"2016-01-01T00:00:00\"],\"xaxis\":\"x\",\"y\":[3,7,7,17],\"yaxis\":\"y\",\"type\":\"scatter\"},{\"hovertemplate\":\"platform=PS4<br>genre=Sports<br>year_of_release=%{x}<br>nunique=%{y}<extra></extra>\",\"legendgroup\":\"PS4\",\"line\":{\"color\":\"#19d3f3\"},\"marker\":{\"symbol\":\"circle\"},\"mode\":\"lines\",\"name\":\"PS4\",\"orientation\":\"v\",\"showlegend\":false,\"stackgroup\":\"1\",\"x\":[\"2013-01-01T00:00:00\",\"2014-01-01T00:00:00\",\"2015-01-01T00:00:00\",\"2016-01-01T00:00:00\"],\"xaxis\":\"x\",\"y\":[4,11,13,11],\"yaxis\":\"y\",\"type\":\"scatter\"},{\"hovertemplate\":\"platform=PS4<br>genre=Misc<br>year_of_release=%{x}<br>nunique=%{y}<extra></extra>\",\"legendgroup\":\"PS4\",\"line\":{\"color\":\"#19d3f3\"},\"marker\":{\"symbol\":\"circle\"},\"mode\":\"lines\",\"name\":\"PS4\",\"orientation\":\"v\",\"showlegend\":false,\"stackgroup\":\"1\",\"x\":[\"2013-01-01T00:00:00\",\"2014-01-01T00:00:00\",\"2015-01-01T00:00:00\",\"2016-01-01T00:00:00\"],\"xaxis\":\"x\",\"y\":[1,1,3,3],\"yaxis\":\"y\",\"type\":\"scatter\"},{\"hovertemplate\":\"platform=PS4<br>genre=Simulation<br>year_of_release=%{x}<br>nunique=%{y}<extra></extra>\",\"legendgroup\":\"PS4\",\"line\":{\"color\":\"#19d3f3\"},\"marker\":{\"symbol\":\"circle\"},\"mode\":\"lines\",\"name\":\"PS4\",\"orientation\":\"v\",\"showlegend\":false,\"stackgroup\":\"1\",\"x\":[\"2015-01-01T00:00:00\",\"2016-01-01T00:00:00\"],\"xaxis\":\"x\",\"y\":[1,1],\"yaxis\":\"y\",\"type\":\"scatter\"},{\"hovertemplate\":\"platform=PS4<br>genre=Action<br>year_of_release=%{x}<br>nunique=%{y}<extra></extra>\",\"legendgroup\":\"PS4\",\"line\":{\"color\":\"#19d3f3\"},\"marker\":{\"symbol\":\"circle\"},\"mode\":\"lines\",\"name\":\"PS4\",\"orientation\":\"v\",\"showlegend\":false,\"stackgroup\":\"1\",\"x\":[\"2013-01-01T00:00:00\",\"2014-01-01T00:00:00\",\"2015-01-01T00:00:00\",\"2016-01-01T00:00:00\"],\"xaxis\":\"x\",\"y\":[2,18,31,30],\"yaxis\":\"y\",\"type\":\"scatter\"},{\"hovertemplate\":\"platform=PS4<br>genre=Adventure<br>year_of_release=%{x}<br>nunique=%{y}<extra></extra>\",\"legendgroup\":\"PS4\",\"line\":{\"color\":\"#19d3f3\"},\"marker\":{\"symbol\":\"circle\"},\"mode\":\"lines\",\"name\":\"PS4\",\"orientation\":\"v\",\"showlegend\":false,\"stackgroup\":\"1\",\"x\":[\"2014-01-01T00:00:00\",\"2015-01-01T00:00:00\",\"2016-01-01T00:00:00\"],\"xaxis\":\"x\",\"y\":[1,4,7],\"yaxis\":\"y\",\"type\":\"scatter\"},{\"hovertemplate\":\"platform=PS4<br>genre=Platform<br>year_of_release=%{x}<br>nunique=%{y}<extra></extra>\",\"legendgroup\":\"PS4\",\"line\":{\"color\":\"#19d3f3\"},\"marker\":{\"symbol\":\"circle\"},\"mode\":\"lines\",\"name\":\"PS4\",\"orientation\":\"v\",\"showlegend\":false,\"stackgroup\":\"1\",\"x\":[\"2013-01-01T00:00:00\",\"2014-01-01T00:00:00\",\"2015-01-01T00:00:00\",\"2016-01-01T00:00:00\"],\"xaxis\":\"x\",\"y\":[3,2,2,4],\"yaxis\":\"y\",\"type\":\"scatter\"},{\"hovertemplate\":\"platform=PS4<br>genre=Strategy<br>year_of_release=%{x}<br>nunique=%{y}<extra></extra>\",\"legendgroup\":\"PS4\",\"line\":{\"color\":\"#19d3f3\"},\"marker\":{\"symbol\":\"circle\"},\"mode\":\"lines\",\"name\":\"PS4\",\"orientation\":\"v\",\"showlegend\":false,\"stackgroup\":\"1\",\"x\":[\"2013-01-01T00:00:00\",\"2014-01-01T00:00:00\",\"2015-01-01T00:00:00\",\"2016-01-01T00:00:00\"],\"xaxis\":\"x\",\"y\":[1,1,1,1],\"yaxis\":\"y\",\"type\":\"scatter\"},{\"hovertemplate\":\"platform=PS4<br>genre=Puzzle<br>year_of_release=%{x}<br>nunique=%{y}<extra></extra>\",\"legendgroup\":\"PS4\",\"line\":{\"color\":\"#19d3f3\"},\"marker\":{\"symbol\":\"circle\"},\"mode\":\"lines\",\"name\":\"PS4\",\"orientation\":\"v\",\"showlegend\":false,\"stackgroup\":\"1\",\"x\":[\"2015-01-01T00:00:00\"],\"xaxis\":\"x\",\"y\":[1],\"yaxis\":\"y\",\"type\":\"scatter\"},{\"hovertemplate\":\"platform=XOne<br>genre=Fighting<br>year_of_release=%{x}<br>nunique=%{y}<extra></extra>\",\"legendgroup\":\"XOne\",\"line\":{\"color\":\"#FF6692\"},\"marker\":{\"symbol\":\"circle\"},\"mode\":\"lines\",\"name\":\"XOne\",\"orientation\":\"v\",\"showlegend\":true,\"stackgroup\":\"1\",\"x\":[\"2013-01-01T00:00:00\",\"2015-01-01T00:00:00\",\"2016-01-01T00:00:00\"],\"xaxis\":\"x\",\"y\":[1,2,2],\"yaxis\":\"y\",\"type\":\"scatter\"},{\"hovertemplate\":\"platform=XOne<br>genre=Racing<br>year_of_release=%{x}<br>nunique=%{y}<extra></extra>\",\"legendgroup\":\"XOne\",\"line\":{\"color\":\"#FF6692\"},\"marker\":{\"symbol\":\"circle\"},\"mode\":\"lines\",\"name\":\"XOne\",\"orientation\":\"v\",\"showlegend\":false,\"stackgroup\":\"1\",\"x\":[\"2013-01-01T00:00:00\",\"2014-01-01T00:00:00\",\"2015-01-01T00:00:00\",\"2016-01-01T00:00:00\"],\"xaxis\":\"x\",\"y\":[2,3,4,5],\"yaxis\":\"y\",\"type\":\"scatter\"},{\"hovertemplate\":\"platform=XOne<br>genre=Role-Playing<br>year_of_release=%{x}<br>nunique=%{y}<extra></extra>\",\"legendgroup\":\"XOne\",\"line\":{\"color\":\"#FF6692\"},\"marker\":{\"symbol\":\"circle\"},\"mode\":\"lines\",\"name\":\"XOne\",\"orientation\":\"v\",\"showlegend\":false,\"stackgroup\":\"1\",\"x\":[\"2014-01-01T00:00:00\",\"2015-01-01T00:00:00\",\"2016-01-01T00:00:00\"],\"xaxis\":\"x\",\"y\":[2,4,2],\"yaxis\":\"y\",\"type\":\"scatter\"},{\"hovertemplate\":\"platform=XOne<br>genre=Shooter<br>year_of_release=%{x}<br>nunique=%{y}<extra></extra>\",\"legendgroup\":\"XOne\",\"line\":{\"color\":\"#FF6692\"},\"marker\":{\"symbol\":\"circle\"},\"mode\":\"lines\",\"name\":\"XOne\",\"orientation\":\"v\",\"showlegend\":false,\"stackgroup\":\"1\",\"x\":[\"2013-01-01T00:00:00\",\"2014-01-01T00:00:00\",\"2015-01-01T00:00:00\",\"2016-01-01T00:00:00\"],\"xaxis\":\"x\",\"y\":[2,10,7,12],\"yaxis\":\"y\",\"type\":\"scatter\"},{\"hovertemplate\":\"platform=XOne<br>genre=Sports<br>year_of_release=%{x}<br>nunique=%{y}<extra></extra>\",\"legendgroup\":\"XOne\",\"line\":{\"color\":\"#FF6692\"},\"marker\":{\"symbol\":\"circle\"},\"mode\":\"lines\",\"name\":\"XOne\",\"orientation\":\"v\",\"showlegend\":false,\"stackgroup\":\"1\",\"x\":[\"2013-01-01T00:00:00\",\"2014-01-01T00:00:00\",\"2015-01-01T00:00:00\",\"2016-01-01T00:00:00\"],\"xaxis\":\"x\",\"y\":[4,10,9,8],\"yaxis\":\"y\",\"type\":\"scatter\"},{\"hovertemplate\":\"platform=XOne<br>genre=Misc<br>year_of_release=%{x}<br>nunique=%{y}<extra></extra>\",\"legendgroup\":\"XOne\",\"line\":{\"color\":\"#FF6692\"},\"marker\":{\"symbol\":\"circle\"},\"mode\":\"lines\",\"name\":\"XOne\",\"orientation\":\"v\",\"showlegend\":false,\"stackgroup\":\"1\",\"x\":[\"2013-01-01T00:00:00\",\"2014-01-01T00:00:00\",\"2015-01-01T00:00:00\",\"2016-01-01T00:00:00\"],\"xaxis\":\"x\",\"y\":[2,5,4,1],\"yaxis\":\"y\",\"type\":\"scatter\"},{\"hovertemplate\":\"platform=XOne<br>genre=Simulation<br>year_of_release=%{x}<br>nunique=%{y}<extra></extra>\",\"legendgroup\":\"XOne\",\"line\":{\"color\":\"#FF6692\"},\"marker\":{\"symbol\":\"circle\"},\"mode\":\"lines\",\"name\":\"XOne\",\"orientation\":\"v\",\"showlegend\":false,\"stackgroup\":\"1\",\"x\":[\"2016-01-01T00:00:00\"],\"xaxis\":\"x\",\"y\":[2],\"yaxis\":\"y\",\"type\":\"scatter\"},{\"hovertemplate\":\"platform=XOne<br>genre=Action<br>year_of_release=%{x}<br>nunique=%{y}<extra></extra>\",\"legendgroup\":\"XOne\",\"line\":{\"color\":\"#FF6692\"},\"marker\":{\"symbol\":\"circle\"},\"mode\":\"lines\",\"name\":\"XOne\",\"orientation\":\"v\",\"showlegend\":false,\"stackgroup\":\"1\",\"x\":[\"2013-01-01T00:00:00\",\"2014-01-01T00:00:00\",\"2015-01-01T00:00:00\",\"2016-01-01T00:00:00\"],\"xaxis\":\"x\",\"y\":[2,12,14,20],\"yaxis\":\"y\",\"type\":\"scatter\"},{\"hovertemplate\":\"platform=XOne<br>genre=Adventure<br>year_of_release=%{x}<br>nunique=%{y}<extra></extra>\",\"legendgroup\":\"XOne\",\"line\":{\"color\":\"#FF6692\"},\"marker\":{\"symbol\":\"circle\"},\"mode\":\"lines\",\"name\":\"XOne\",\"orientation\":\"v\",\"showlegend\":false,\"stackgroup\":\"1\",\"x\":[\"2015-01-01T00:00:00\",\"2016-01-01T00:00:00\"],\"xaxis\":\"x\",\"y\":[3,1],\"yaxis\":\"y\",\"type\":\"scatter\"},{\"hovertemplate\":\"platform=XOne<br>genre=Platform<br>year_of_release=%{x}<br>nunique=%{y}<extra></extra>\",\"legendgroup\":\"XOne\",\"line\":{\"color\":\"#FF6692\"},\"marker\":{\"symbol\":\"circle\"},\"mode\":\"lines\",\"name\":\"XOne\",\"orientation\":\"v\",\"showlegend\":false,\"stackgroup\":\"1\",\"x\":[\"2014-01-01T00:00:00\",\"2016-01-01T00:00:00\"],\"xaxis\":\"x\",\"y\":[1,3],\"yaxis\":\"y\",\"type\":\"scatter\"},{\"hovertemplate\":\"platform=XOne<br>genre=Strategy<br>year_of_release=%{x}<br>nunique=%{y}<extra></extra>\",\"legendgroup\":\"XOne\",\"line\":{\"color\":\"#FF6692\"},\"marker\":{\"symbol\":\"circle\"},\"mode\":\"lines\",\"name\":\"XOne\",\"orientation\":\"v\",\"showlegend\":false,\"stackgroup\":\"1\",\"x\":[\"2013-01-01T00:00:00\",\"2016-01-01T00:00:00\"],\"xaxis\":\"x\",\"y\":[1,1],\"yaxis\":\"y\",\"type\":\"scatter\"}],                        {\"template\":{\"data\":{\"bar\":[{\"error_x\":{\"color\":\"#2a3f5f\"},\"error_y\":{\"color\":\"#2a3f5f\"},\"marker\":{\"line\":{\"color\":\"#E5ECF6\",\"width\":0.5},\"pattern\":{\"fillmode\":\"overlay\",\"size\":10,\"solidity\":0.2}},\"type\":\"bar\"}],\"barpolar\":[{\"marker\":{\"line\":{\"color\":\"#E5ECF6\",\"width\":0.5},\"pattern\":{\"fillmode\":\"overlay\",\"size\":10,\"solidity\":0.2}},\"type\":\"barpolar\"}],\"carpet\":[{\"aaxis\":{\"endlinecolor\":\"#2a3f5f\",\"gridcolor\":\"white\",\"linecolor\":\"white\",\"minorgridcolor\":\"white\",\"startlinecolor\":\"#2a3f5f\"},\"baxis\":{\"endlinecolor\":\"#2a3f5f\",\"gridcolor\":\"white\",\"linecolor\":\"white\",\"minorgridcolor\":\"white\",\"startlinecolor\":\"#2a3f5f\"},\"type\":\"carpet\"}],\"choropleth\":[{\"colorbar\":{\"outlinewidth\":0,\"ticks\":\"\"},\"type\":\"choropleth\"}],\"contour\":[{\"colorbar\":{\"outlinewidth\":0,\"ticks\":\"\"},\"colorscale\":[[0.0,\"#0d0887\"],[0.1111111111111111,\"#46039f\"],[0.2222222222222222,\"#7201a8\"],[0.3333333333333333,\"#9c179e\"],[0.4444444444444444,\"#bd3786\"],[0.5555555555555556,\"#d8576b\"],[0.6666666666666666,\"#ed7953\"],[0.7777777777777778,\"#fb9f3a\"],[0.8888888888888888,\"#fdca26\"],[1.0,\"#f0f921\"]],\"type\":\"contour\"}],\"contourcarpet\":[{\"colorbar\":{\"outlinewidth\":0,\"ticks\":\"\"},\"type\":\"contourcarpet\"}],\"heatmap\":[{\"colorbar\":{\"outlinewidth\":0,\"ticks\":\"\"},\"colorscale\":[[0.0,\"#0d0887\"],[0.1111111111111111,\"#46039f\"],[0.2222222222222222,\"#7201a8\"],[0.3333333333333333,\"#9c179e\"],[0.4444444444444444,\"#bd3786\"],[0.5555555555555556,\"#d8576b\"],[0.6666666666666666,\"#ed7953\"],[0.7777777777777778,\"#fb9f3a\"],[0.8888888888888888,\"#fdca26\"],[1.0,\"#f0f921\"]],\"type\":\"heatmap\"}],\"heatmapgl\":[{\"colorbar\":{\"outlinewidth\":0,\"ticks\":\"\"},\"colorscale\":[[0.0,\"#0d0887\"],[0.1111111111111111,\"#46039f\"],[0.2222222222222222,\"#7201a8\"],[0.3333333333333333,\"#9c179e\"],[0.4444444444444444,\"#bd3786\"],[0.5555555555555556,\"#d8576b\"],[0.6666666666666666,\"#ed7953\"],[0.7777777777777778,\"#fb9f3a\"],[0.8888888888888888,\"#fdca26\"],[1.0,\"#f0f921\"]],\"type\":\"heatmapgl\"}],\"histogram\":[{\"marker\":{\"pattern\":{\"fillmode\":\"overlay\",\"size\":10,\"solidity\":0.2}},\"type\":\"histogram\"}],\"histogram2d\":[{\"colorbar\":{\"outlinewidth\":0,\"ticks\":\"\"},\"colorscale\":[[0.0,\"#0d0887\"],[0.1111111111111111,\"#46039f\"],[0.2222222222222222,\"#7201a8\"],[0.3333333333333333,\"#9c179e\"],[0.4444444444444444,\"#bd3786\"],[0.5555555555555556,\"#d8576b\"],[0.6666666666666666,\"#ed7953\"],[0.7777777777777778,\"#fb9f3a\"],[0.8888888888888888,\"#fdca26\"],[1.0,\"#f0f921\"]],\"type\":\"histogram2d\"}],\"histogram2dcontour\":[{\"colorbar\":{\"outlinewidth\":0,\"ticks\":\"\"},\"colorscale\":[[0.0,\"#0d0887\"],[0.1111111111111111,\"#46039f\"],[0.2222222222222222,\"#7201a8\"],[0.3333333333333333,\"#9c179e\"],[0.4444444444444444,\"#bd3786\"],[0.5555555555555556,\"#d8576b\"],[0.6666666666666666,\"#ed7953\"],[0.7777777777777778,\"#fb9f3a\"],[0.8888888888888888,\"#fdca26\"],[1.0,\"#f0f921\"]],\"type\":\"histogram2dcontour\"}],\"mesh3d\":[{\"colorbar\":{\"outlinewidth\":0,\"ticks\":\"\"},\"type\":\"mesh3d\"}],\"parcoords\":[{\"line\":{\"colorbar\":{\"outlinewidth\":0,\"ticks\":\"\"}},\"type\":\"parcoords\"}],\"pie\":[{\"automargin\":true,\"type\":\"pie\"}],\"scatter\":[{\"marker\":{\"colorbar\":{\"outlinewidth\":0,\"ticks\":\"\"}},\"type\":\"scatter\"}],\"scatter3d\":[{\"line\":{\"colorbar\":{\"outlinewidth\":0,\"ticks\":\"\"}},\"marker\":{\"colorbar\":{\"outlinewidth\":0,\"ticks\":\"\"}},\"type\":\"scatter3d\"}],\"scattercarpet\":[{\"marker\":{\"colorbar\":{\"outlinewidth\":0,\"ticks\":\"\"}},\"type\":\"scattercarpet\"}],\"scattergeo\":[{\"marker\":{\"colorbar\":{\"outlinewidth\":0,\"ticks\":\"\"}},\"type\":\"scattergeo\"}],\"scattergl\":[{\"marker\":{\"colorbar\":{\"outlinewidth\":0,\"ticks\":\"\"}},\"type\":\"scattergl\"}],\"scattermapbox\":[{\"marker\":{\"colorbar\":{\"outlinewidth\":0,\"ticks\":\"\"}},\"type\":\"scattermapbox\"}],\"scatterpolar\":[{\"marker\":{\"colorbar\":{\"outlinewidth\":0,\"ticks\":\"\"}},\"type\":\"scatterpolar\"}],\"scatterpolargl\":[{\"marker\":{\"colorbar\":{\"outlinewidth\":0,\"ticks\":\"\"}},\"type\":\"scatterpolargl\"}],\"scatterternary\":[{\"marker\":{\"colorbar\":{\"outlinewidth\":0,\"ticks\":\"\"}},\"type\":\"scatterternary\"}],\"surface\":[{\"colorbar\":{\"outlinewidth\":0,\"ticks\":\"\"},\"colorscale\":[[0.0,\"#0d0887\"],[0.1111111111111111,\"#46039f\"],[0.2222222222222222,\"#7201a8\"],[0.3333333333333333,\"#9c179e\"],[0.4444444444444444,\"#bd3786\"],[0.5555555555555556,\"#d8576b\"],[0.6666666666666666,\"#ed7953\"],[0.7777777777777778,\"#fb9f3a\"],[0.8888888888888888,\"#fdca26\"],[1.0,\"#f0f921\"]],\"type\":\"surface\"}],\"table\":[{\"cells\":{\"fill\":{\"color\":\"#EBF0F8\"},\"line\":{\"color\":\"white\"}},\"header\":{\"fill\":{\"color\":\"#C8D4E3\"},\"line\":{\"color\":\"white\"}},\"type\":\"table\"}]},\"layout\":{\"annotationdefaults\":{\"arrowcolor\":\"#2a3f5f\",\"arrowhead\":0,\"arrowwidth\":1},\"autotypenumbers\":\"strict\",\"coloraxis\":{\"colorbar\":{\"outlinewidth\":0,\"ticks\":\"\"}},\"colorscale\":{\"diverging\":[[0,\"#8e0152\"],[0.1,\"#c51b7d\"],[0.2,\"#de77ae\"],[0.3,\"#f1b6da\"],[0.4,\"#fde0ef\"],[0.5,\"#f7f7f7\"],[0.6,\"#e6f5d0\"],[0.7,\"#b8e186\"],[0.8,\"#7fbc41\"],[0.9,\"#4d9221\"],[1,\"#276419\"]],\"sequential\":[[0.0,\"#0d0887\"],[0.1111111111111111,\"#46039f\"],[0.2222222222222222,\"#7201a8\"],[0.3333333333333333,\"#9c179e\"],[0.4444444444444444,\"#bd3786\"],[0.5555555555555556,\"#d8576b\"],[0.6666666666666666,\"#ed7953\"],[0.7777777777777778,\"#fb9f3a\"],[0.8888888888888888,\"#fdca26\"],[1.0,\"#f0f921\"]],\"sequentialminus\":[[0.0,\"#0d0887\"],[0.1111111111111111,\"#46039f\"],[0.2222222222222222,\"#7201a8\"],[0.3333333333333333,\"#9c179e\"],[0.4444444444444444,\"#bd3786\"],[0.5555555555555556,\"#d8576b\"],[0.6666666666666666,\"#ed7953\"],[0.7777777777777778,\"#fb9f3a\"],[0.8888888888888888,\"#fdca26\"],[1.0,\"#f0f921\"]]},\"colorway\":[\"#636efa\",\"#EF553B\",\"#00cc96\",\"#ab63fa\",\"#FFA15A\",\"#19d3f3\",\"#FF6692\",\"#B6E880\",\"#FF97FF\",\"#FECB52\"],\"font\":{\"color\":\"#2a3f5f\"},\"geo\":{\"bgcolor\":\"white\",\"lakecolor\":\"white\",\"landcolor\":\"#E5ECF6\",\"showlakes\":true,\"showland\":true,\"subunitcolor\":\"white\"},\"hoverlabel\":{\"align\":\"left\"},\"hovermode\":\"closest\",\"mapbox\":{\"style\":\"light\"},\"paper_bgcolor\":\"white\",\"plot_bgcolor\":\"#E5ECF6\",\"polar\":{\"angularaxis\":{\"gridcolor\":\"white\",\"linecolor\":\"white\",\"ticks\":\"\"},\"bgcolor\":\"#E5ECF6\",\"radialaxis\":{\"gridcolor\":\"white\",\"linecolor\":\"white\",\"ticks\":\"\"}},\"scene\":{\"xaxis\":{\"backgroundcolor\":\"#E5ECF6\",\"gridcolor\":\"white\",\"gridwidth\":2,\"linecolor\":\"white\",\"showbackground\":true,\"ticks\":\"\",\"zerolinecolor\":\"white\"},\"yaxis\":{\"backgroundcolor\":\"#E5ECF6\",\"gridcolor\":\"white\",\"gridwidth\":2,\"linecolor\":\"white\",\"showbackground\":true,\"ticks\":\"\",\"zerolinecolor\":\"white\"},\"zaxis\":{\"backgroundcolor\":\"#E5ECF6\",\"gridcolor\":\"white\",\"gridwidth\":2,\"linecolor\":\"white\",\"showbackground\":true,\"ticks\":\"\",\"zerolinecolor\":\"white\"}},\"shapedefaults\":{\"line\":{\"color\":\"#2a3f5f\"}},\"ternary\":{\"aaxis\":{\"gridcolor\":\"white\",\"linecolor\":\"white\",\"ticks\":\"\"},\"baxis\":{\"gridcolor\":\"white\",\"linecolor\":\"white\",\"ticks\":\"\"},\"bgcolor\":\"#E5ECF6\",\"caxis\":{\"gridcolor\":\"white\",\"linecolor\":\"white\",\"ticks\":\"\"}},\"title\":{\"x\":0.05},\"xaxis\":{\"automargin\":true,\"gridcolor\":\"white\",\"linecolor\":\"white\",\"ticks\":\"\",\"title\":{\"standoff\":15},\"zerolinecolor\":\"white\",\"zerolinewidth\":2},\"yaxis\":{\"automargin\":true,\"gridcolor\":\"white\",\"linecolor\":\"white\",\"ticks\":\"\",\"title\":{\"standoff\":15},\"zerolinecolor\":\"white\",\"zerolinewidth\":2}}},\"xaxis\":{\"anchor\":\"y\",\"domain\":[0.0,1.0],\"title\":{\"text\":\"year_of_release\"}},\"yaxis\":{\"anchor\":\"x\",\"domain\":[0.0,1.0],\"title\":{\"text\":\"nunique\"}},\"legend\":{\"title\":{\"text\":\"platform\"},\"tracegroupgap\":0},\"margin\":{\"t\":60}},                        {\"responsive\": true}                    ).then(function(){\n",
              "                            \n",
              "var gd = document.getElementById('01714473-a536-43f9-8147-886020ba2ba2');\n",
              "var x = new MutationObserver(function (mutations, observer) {{\n",
              "        var display = window.getComputedStyle(gd).display;\n",
              "        if (!display || display === 'none') {{\n",
              "            console.log([gd, 'removed!']);\n",
              "            Plotly.purge(gd);\n",
              "            observer.disconnect();\n",
              "        }}\n",
              "}});\n",
              "\n",
              "// Listen for the removal of the full notebook cells\n",
              "var notebookContainer = gd.closest('#notebook-container');\n",
              "if (notebookContainer) {{\n",
              "    x.observe(notebookContainer, {childList: true});\n",
              "}}\n",
              "\n",
              "// Listen for the clearing of the current output cell\n",
              "var outputEl = gd.closest('.output');\n",
              "if (outputEl) {{\n",
              "    x.observe(outputEl, {childList: true});\n",
              "}}\n",
              "\n",
              "                        })                };                            </script>        </div>\n",
              "</body>\n",
              "</html>"
            ]
          },
          "metadata": {}
        }
      ]
    },
    {
      "cell_type": "code",
      "source": [],
      "metadata": {
        "id": "uvJgmdnbdL7s"
      },
      "execution_count": null,
      "outputs": []
    }
  ]
}