{
 "cells": [
  {
   "cell_type": "markdown",
   "id": "5069bd12",
   "metadata": {},
   "source": [
    "# Проект \"определение перспективного тарифа для телеком-компании\""
   ]
  },
  {
   "cell_type": "markdown",
   "id": "177b1a81",
   "metadata": {},
   "source": [
    "Получены данные компании «Мегалайн» — федерального оператора сотовой связи. Задача сделать предварительный анализ тарифов на небольшой выборке клиентов. Кто они, откуда, каким тарифом пользуются, сколько звонков и сообщений каждый отправил за 2018 год. Нужно проанализировать поведение клиентов и сделать вывод — какой тариф лучше."
   ]
  },
  {
   "cell_type": "markdown",
   "id": "8b138180",
   "metadata": {},
   "source": [
    "# Цели проекта выяснить:\n",
    "\n",
    "1. Какой тариф приносит больше денег? \n",
    "\n",
    "\n",
    "2. Какой тариф лучше? "
   ]
  },
  {
   "cell_type": "markdown",
   "id": "26a4d151",
   "metadata": {},
   "source": [
    "# Описание тарифов "
   ]
  },
  {
   "cell_type": "markdown",
   "id": "728904f9",
   "metadata": {},
   "source": [
    "**Тариф «Смарт»**\n",
    "\n",
    "\n",
    "        Ежемесячная плата: 550 рублей\n",
    "        Включено 500 минут разговора, 50 сообщений и 15 Гб интернет-трафика\n",
    "        Стоимость услуг сверх тарифного пакета:\n",
    "        минута разговора: 3 рубля\n",
    "        сообщение: 3 рубля\n",
    "        1 Гб интернет-трафика: 200 рублей\n",
    "\n",
    "\n",
    "**Тариф «Ультра»**\n",
    "\n",
    "\n",
    "        Ежемесячная плата: 1950 рублей\n",
    "        Включено 3000 минут разговора, 1000 сообщений и 30 Гб интернет-трафика\n",
    "        Стоимость услуг сверх тарифного пакета:\n",
    "        минута разговора: 1 рубль\n",
    "        сообщение: 1 рубль\n",
    "        1 Гб интернет-трафика: 150 рублей"
   ]
  },
  {
   "cell_type": "markdown",
   "id": "f1428e65",
   "metadata": {},
   "source": [
    "# Краткий план выполнения проекта:"
   ]
  },
  {
   "cell_type": "markdown",
   "id": "f8ed1215",
   "metadata": {},
   "source": [
    "**Привести данные к нужным типам, исправить ошибки в таблицах;**\n",
    "\n",
    "**Для каждого пользователя расчитать:**\n",
    "       \n",
    "- количество сделанных звонков и израсходованных минут разговора по месяцам;\n",
    "- количество отправленных сообщений по месяцам;\n",
    "- объем израсходованного интернет-трафика по месяцам;\n",
    "- помесячную выручку с каждого пользователя.\n",
    "\n",
    "**Анализ данных**\n",
    "\n",
    "- сколько минут разговора требуется пользователям каждого тарифа в месяц;\n",
    "- сколько сообщений требуется пользователям каждого тарифа в месяц;\n",
    "- какой объём интернет-трафика требуется пользователям каждого тарифа в месяц; \n",
    "- посчитать среднее количество, дисперсию и стандартное отклонение;\n",
    "- построить гистограммы.\n",
    "\n",
    "**Проверка гипотез:**\n",
    "\n",
    "- средняя выручка пользователей тарифов «Ультра» и «Смарт» различаются;\n",
    "- средняя выручка пользователей из Москвы отличается от выручки пользователей из других регионов.\n",
    "\n",
    "**Общий вывод и рекомендации**"
   ]
  },
  {
   "cell_type": "markdown",
   "id": "7d4a3683",
   "metadata": {},
   "source": [
    "## Изучение данных из файла"
   ]
  },
  {
   "cell_type": "code",
   "execution_count": 1,
   "id": "c24b2757",
   "metadata": {},
   "outputs": [],
   "source": [
    "# импорт библиотек\n",
    "import pandas as pd\n",
    "import numpy as np\n",
    "import seaborn as sns\n",
    "from scipy import stats as st\n",
    "\n",
    "import matplotlib.pyplot as plt\n",
    "plt.style.use('classic')\n",
    "%matplotlib inline"
   ]
  },
  {
   "cell_type": "code",
   "execution_count": 2,
   "id": "37d7e1ab",
   "metadata": {},
   "outputs": [],
   "source": [
    "# открываем файл\n",
    "try:\n",
    "    df1 = pd.read_csv('/jupyter-notebook/Project4/calls.csv')\n",
    "    df2 = pd.read_csv('/jupyter-notebook/Project4/internet.csv')\n",
    "    df3 = pd.read_csv('/jupyter-notebook/Project4/messages.csv')\n",
    "    df4 = pd.read_csv('/jupyter-notebook/Project4/tariffs.csv')\n",
    "    df5 = pd.read_csv('/jupyter-notebook/Project4/users.csv')\n",
    "except:\n",
    "    df1 = pd.read_csv('/datasets/calls.csv')\n",
    "    df2 = pd.read_csv('/datasets/internet.csv')\n",
    "    df3 = pd.read_csv('/datasets/messages.csv')\n",
    "    df4 = pd.read_csv('/datasets/tariffs.csv')\n",
    "    df5 = pd.read_csv('/datasets/users.csv')"
   ]
  },
  {
   "cell_type": "markdown",
   "id": "93a6d2b9",
   "metadata": {},
   "source": [
    "## Предобработка данных"
   ]
  },
  {
   "cell_type": "code",
   "execution_count": 3,
   "id": "0f623426",
   "metadata": {},
   "outputs": [
    {
     "data": {
      "text/html": [
       "<div>\n",
       "<style scoped>\n",
       "    .dataframe tbody tr th:only-of-type {\n",
       "        vertical-align: middle;\n",
       "    }\n",
       "\n",
       "    .dataframe tbody tr th {\n",
       "        vertical-align: top;\n",
       "    }\n",
       "\n",
       "    .dataframe thead th {\n",
       "        text-align: right;\n",
       "    }\n",
       "</style>\n",
       "<table border=\"1\" class=\"dataframe\">\n",
       "  <thead>\n",
       "    <tr style=\"text-align: right;\">\n",
       "      <th></th>\n",
       "      <th>id</th>\n",
       "      <th>call_date</th>\n",
       "      <th>duration</th>\n",
       "      <th>user_id</th>\n",
       "    </tr>\n",
       "  </thead>\n",
       "  <tbody>\n",
       "    <tr>\n",
       "      <th>0</th>\n",
       "      <td>1000_0</td>\n",
       "      <td>2018-07-25</td>\n",
       "      <td>0.00</td>\n",
       "      <td>1000</td>\n",
       "    </tr>\n",
       "    <tr>\n",
       "      <th>1</th>\n",
       "      <td>1000_1</td>\n",
       "      <td>2018-08-17</td>\n",
       "      <td>0.00</td>\n",
       "      <td>1000</td>\n",
       "    </tr>\n",
       "    <tr>\n",
       "      <th>2</th>\n",
       "      <td>1000_2</td>\n",
       "      <td>2018-06-11</td>\n",
       "      <td>2.85</td>\n",
       "      <td>1000</td>\n",
       "    </tr>\n",
       "    <tr>\n",
       "      <th>3</th>\n",
       "      <td>1000_3</td>\n",
       "      <td>2018-09-21</td>\n",
       "      <td>13.80</td>\n",
       "      <td>1000</td>\n",
       "    </tr>\n",
       "    <tr>\n",
       "      <th>4</th>\n",
       "      <td>1000_4</td>\n",
       "      <td>2018-12-15</td>\n",
       "      <td>5.18</td>\n",
       "      <td>1000</td>\n",
       "    </tr>\n",
       "  </tbody>\n",
       "</table>\n",
       "</div>"
      ],
      "text/plain": [
       "       id   call_date  duration  user_id\n",
       "0  1000_0  2018-07-25      0.00     1000\n",
       "1  1000_1  2018-08-17      0.00     1000\n",
       "2  1000_2  2018-06-11      2.85     1000\n",
       "3  1000_3  2018-09-21     13.80     1000\n",
       "4  1000_4  2018-12-15      5.18     1000"
      ]
     },
     "metadata": {},
     "output_type": "display_data"
    },
    {
     "name": "stdout",
     "output_type": "stream",
     "text": [
      "==================================================\n"
     ]
    },
    {
     "data": {
      "text/html": [
       "<div>\n",
       "<style scoped>\n",
       "    .dataframe tbody tr th:only-of-type {\n",
       "        vertical-align: middle;\n",
       "    }\n",
       "\n",
       "    .dataframe tbody tr th {\n",
       "        vertical-align: top;\n",
       "    }\n",
       "\n",
       "    .dataframe thead th {\n",
       "        text-align: right;\n",
       "    }\n",
       "</style>\n",
       "<table border=\"1\" class=\"dataframe\">\n",
       "  <thead>\n",
       "    <tr style=\"text-align: right;\">\n",
       "      <th></th>\n",
       "      <th>id</th>\n",
       "      <th>call_date</th>\n",
       "      <th>duration</th>\n",
       "      <th>user_id</th>\n",
       "    </tr>\n",
       "  </thead>\n",
       "  <tbody>\n",
       "    <tr>\n",
       "      <th>202602</th>\n",
       "      <td>1499_215</td>\n",
       "      <td>2018-12-26</td>\n",
       "      <td>0.76</td>\n",
       "      <td>1499</td>\n",
       "    </tr>\n",
       "    <tr>\n",
       "      <th>202603</th>\n",
       "      <td>1499_216</td>\n",
       "      <td>2018-10-18</td>\n",
       "      <td>18.83</td>\n",
       "      <td>1499</td>\n",
       "    </tr>\n",
       "    <tr>\n",
       "      <th>202604</th>\n",
       "      <td>1499_217</td>\n",
       "      <td>2018-11-10</td>\n",
       "      <td>10.81</td>\n",
       "      <td>1499</td>\n",
       "    </tr>\n",
       "    <tr>\n",
       "      <th>202605</th>\n",
       "      <td>1499_218</td>\n",
       "      <td>2018-10-06</td>\n",
       "      <td>4.27</td>\n",
       "      <td>1499</td>\n",
       "    </tr>\n",
       "    <tr>\n",
       "      <th>202606</th>\n",
       "      <td>1499_219</td>\n",
       "      <td>2018-12-14</td>\n",
       "      <td>19.62</td>\n",
       "      <td>1499</td>\n",
       "    </tr>\n",
       "  </tbody>\n",
       "</table>\n",
       "</div>"
      ],
      "text/plain": [
       "              id   call_date  duration  user_id\n",
       "202602  1499_215  2018-12-26      0.76     1499\n",
       "202603  1499_216  2018-10-18     18.83     1499\n",
       "202604  1499_217  2018-11-10     10.81     1499\n",
       "202605  1499_218  2018-10-06      4.27     1499\n",
       "202606  1499_219  2018-12-14     19.62     1499"
      ]
     },
     "metadata": {},
     "output_type": "display_data"
    },
    {
     "name": "stdout",
     "output_type": "stream",
     "text": [
      "==================================================\n"
     ]
    },
    {
     "data": {
      "text/html": [
       "<div>\n",
       "<style scoped>\n",
       "    .dataframe tbody tr th:only-of-type {\n",
       "        vertical-align: middle;\n",
       "    }\n",
       "\n",
       "    .dataframe tbody tr th {\n",
       "        vertical-align: top;\n",
       "    }\n",
       "\n",
       "    .dataframe thead th {\n",
       "        text-align: right;\n",
       "    }\n",
       "</style>\n",
       "<table border=\"1\" class=\"dataframe\">\n",
       "  <thead>\n",
       "    <tr style=\"text-align: right;\">\n",
       "      <th></th>\n",
       "      <th>id</th>\n",
       "      <th>call_date</th>\n",
       "      <th>duration</th>\n",
       "      <th>user_id</th>\n",
       "    </tr>\n",
       "  </thead>\n",
       "  <tbody>\n",
       "    <tr>\n",
       "      <th>14782</th>\n",
       "      <td>1039_257</td>\n",
       "      <td>2018-12-08</td>\n",
       "      <td>0.00</td>\n",
       "      <td>1039</td>\n",
       "    </tr>\n",
       "    <tr>\n",
       "      <th>139577</th>\n",
       "      <td>1356_561</td>\n",
       "      <td>2018-08-09</td>\n",
       "      <td>4.40</td>\n",
       "      <td>1356</td>\n",
       "    </tr>\n",
       "    <tr>\n",
       "      <th>200398</th>\n",
       "      <td>1494_60</td>\n",
       "      <td>2018-11-05</td>\n",
       "      <td>0.00</td>\n",
       "      <td>1494</td>\n",
       "    </tr>\n",
       "    <tr>\n",
       "      <th>37772</th>\n",
       "      <td>1094_392</td>\n",
       "      <td>2018-10-11</td>\n",
       "      <td>7.05</td>\n",
       "      <td>1094</td>\n",
       "    </tr>\n",
       "    <tr>\n",
       "      <th>44921</th>\n",
       "      <td>1113_337</td>\n",
       "      <td>2018-08-29</td>\n",
       "      <td>10.57</td>\n",
       "      <td>1113</td>\n",
       "    </tr>\n",
       "  </tbody>\n",
       "</table>\n",
       "</div>"
      ],
      "text/plain": [
       "              id   call_date  duration  user_id\n",
       "14782   1039_257  2018-12-08      0.00     1039\n",
       "139577  1356_561  2018-08-09      4.40     1356\n",
       "200398   1494_60  2018-11-05      0.00     1494\n",
       "37772   1094_392  2018-10-11      7.05     1094\n",
       "44921   1113_337  2018-08-29     10.57     1113"
      ]
     },
     "metadata": {},
     "output_type": "display_data"
    },
    {
     "name": "stdout",
     "output_type": "stream",
     "text": [
      "==================================================\n",
      "<class 'pandas.core.frame.DataFrame'>\n",
      "RangeIndex: 202607 entries, 0 to 202606\n",
      "Data columns (total 4 columns):\n",
      " #   Column     Non-Null Count   Dtype  \n",
      "---  ------     --------------   -----  \n",
      " 0   id         202607 non-null  object \n",
      " 1   call_date  202607 non-null  object \n",
      " 2   duration   202607 non-null  float64\n",
      " 3   user_id    202607 non-null  int64  \n",
      "dtypes: float64(1), int64(1), object(2)\n",
      "memory usage: 6.2+ MB\n",
      "None\n"
     ]
    }
   ],
   "source": [
    "# первая таблица звонки\n",
    "display(df1.head(5))\n",
    "print('='*50)\n",
    "display(df1.tail(5))\n",
    "print('='*50)\n",
    "display(df1.sample(5))\n",
    "print('='*50)\n",
    "print(df1.info())"
   ]
  },
  {
   "cell_type": "code",
   "execution_count": 4,
   "id": "cff72f4e",
   "metadata": {},
   "outputs": [],
   "source": [
    "# приведем в нужный тип\n",
    "df1['call_date'] = df1['call_date'].astype('datetime64')\n",
    "df1['user_id'] = df1['user_id'].astype(str)"
   ]
  },
  {
   "cell_type": "code",
   "execution_count": 5,
   "id": "14aa6971",
   "metadata": {},
   "outputs": [],
   "source": [
    "# округлим звонки до целой минуты\n",
    "df1['duration'] = df1['duration'].apply(np.ceil).astype(int)"
   ]
  },
  {
   "cell_type": "code",
   "execution_count": 6,
   "id": "d4446f36",
   "metadata": {},
   "outputs": [
    {
     "data": {
      "text/html": [
       "<div>\n",
       "<style scoped>\n",
       "    .dataframe tbody tr th:only-of-type {\n",
       "        vertical-align: middle;\n",
       "    }\n",
       "\n",
       "    .dataframe tbody tr th {\n",
       "        vertical-align: top;\n",
       "    }\n",
       "\n",
       "    .dataframe thead th {\n",
       "        text-align: right;\n",
       "    }\n",
       "</style>\n",
       "<table border=\"1\" class=\"dataframe\">\n",
       "  <thead>\n",
       "    <tr style=\"text-align: right;\">\n",
       "      <th></th>\n",
       "      <th>Unnamed: 0</th>\n",
       "      <th>id</th>\n",
       "      <th>mb_used</th>\n",
       "      <th>session_date</th>\n",
       "      <th>user_id</th>\n",
       "    </tr>\n",
       "  </thead>\n",
       "  <tbody>\n",
       "    <tr>\n",
       "      <th>0</th>\n",
       "      <td>0</td>\n",
       "      <td>1000_0</td>\n",
       "      <td>112.95</td>\n",
       "      <td>2018-11-25</td>\n",
       "      <td>1000</td>\n",
       "    </tr>\n",
       "    <tr>\n",
       "      <th>1</th>\n",
       "      <td>1</td>\n",
       "      <td>1000_1</td>\n",
       "      <td>1052.81</td>\n",
       "      <td>2018-09-07</td>\n",
       "      <td>1000</td>\n",
       "    </tr>\n",
       "    <tr>\n",
       "      <th>2</th>\n",
       "      <td>2</td>\n",
       "      <td>1000_2</td>\n",
       "      <td>1197.26</td>\n",
       "      <td>2018-06-25</td>\n",
       "      <td>1000</td>\n",
       "    </tr>\n",
       "    <tr>\n",
       "      <th>3</th>\n",
       "      <td>3</td>\n",
       "      <td>1000_3</td>\n",
       "      <td>550.27</td>\n",
       "      <td>2018-08-22</td>\n",
       "      <td>1000</td>\n",
       "    </tr>\n",
       "    <tr>\n",
       "      <th>4</th>\n",
       "      <td>4</td>\n",
       "      <td>1000_4</td>\n",
       "      <td>302.56</td>\n",
       "      <td>2018-09-24</td>\n",
       "      <td>1000</td>\n",
       "    </tr>\n",
       "  </tbody>\n",
       "</table>\n",
       "</div>"
      ],
      "text/plain": [
       "   Unnamed: 0      id  mb_used session_date  user_id\n",
       "0           0  1000_0   112.95   2018-11-25     1000\n",
       "1           1  1000_1  1052.81   2018-09-07     1000\n",
       "2           2  1000_2  1197.26   2018-06-25     1000\n",
       "3           3  1000_3   550.27   2018-08-22     1000\n",
       "4           4  1000_4   302.56   2018-09-24     1000"
      ]
     },
     "metadata": {},
     "output_type": "display_data"
    },
    {
     "name": "stdout",
     "output_type": "stream",
     "text": [
      "==================================================\n"
     ]
    },
    {
     "data": {
      "text/html": [
       "<div>\n",
       "<style scoped>\n",
       "    .dataframe tbody tr th:only-of-type {\n",
       "        vertical-align: middle;\n",
       "    }\n",
       "\n",
       "    .dataframe tbody tr th {\n",
       "        vertical-align: top;\n",
       "    }\n",
       "\n",
       "    .dataframe thead th {\n",
       "        text-align: right;\n",
       "    }\n",
       "</style>\n",
       "<table border=\"1\" class=\"dataframe\">\n",
       "  <thead>\n",
       "    <tr style=\"text-align: right;\">\n",
       "      <th></th>\n",
       "      <th>Unnamed: 0</th>\n",
       "      <th>id</th>\n",
       "      <th>mb_used</th>\n",
       "      <th>session_date</th>\n",
       "      <th>user_id</th>\n",
       "    </tr>\n",
       "  </thead>\n",
       "  <tbody>\n",
       "    <tr>\n",
       "      <th>149391</th>\n",
       "      <td>149391</td>\n",
       "      <td>1499_152</td>\n",
       "      <td>318.90</td>\n",
       "      <td>2018-10-03</td>\n",
       "      <td>1499</td>\n",
       "    </tr>\n",
       "    <tr>\n",
       "      <th>149392</th>\n",
       "      <td>149392</td>\n",
       "      <td>1499_153</td>\n",
       "      <td>490.13</td>\n",
       "      <td>2018-12-14</td>\n",
       "      <td>1499</td>\n",
       "    </tr>\n",
       "    <tr>\n",
       "      <th>149393</th>\n",
       "      <td>149393</td>\n",
       "      <td>1499_154</td>\n",
       "      <td>0.00</td>\n",
       "      <td>2018-10-27</td>\n",
       "      <td>1499</td>\n",
       "    </tr>\n",
       "    <tr>\n",
       "      <th>149394</th>\n",
       "      <td>149394</td>\n",
       "      <td>1499_155</td>\n",
       "      <td>1246.32</td>\n",
       "      <td>2018-11-26</td>\n",
       "      <td>1499</td>\n",
       "    </tr>\n",
       "    <tr>\n",
       "      <th>149395</th>\n",
       "      <td>149395</td>\n",
       "      <td>1499_156</td>\n",
       "      <td>544.37</td>\n",
       "      <td>2018-10-26</td>\n",
       "      <td>1499</td>\n",
       "    </tr>\n",
       "  </tbody>\n",
       "</table>\n",
       "</div>"
      ],
      "text/plain": [
       "        Unnamed: 0        id  mb_used session_date  user_id\n",
       "149391      149391  1499_152   318.90   2018-10-03     1499\n",
       "149392      149392  1499_153   490.13   2018-12-14     1499\n",
       "149393      149393  1499_154     0.00   2018-10-27     1499\n",
       "149394      149394  1499_155  1246.32   2018-11-26     1499\n",
       "149395      149395  1499_156   544.37   2018-10-26     1499"
      ]
     },
     "metadata": {},
     "output_type": "display_data"
    },
    {
     "name": "stdout",
     "output_type": "stream",
     "text": [
      "==================================================\n"
     ]
    },
    {
     "data": {
      "text/html": [
       "<div>\n",
       "<style scoped>\n",
       "    .dataframe tbody tr th:only-of-type {\n",
       "        vertical-align: middle;\n",
       "    }\n",
       "\n",
       "    .dataframe tbody tr th {\n",
       "        vertical-align: top;\n",
       "    }\n",
       "\n",
       "    .dataframe thead th {\n",
       "        text-align: right;\n",
       "    }\n",
       "</style>\n",
       "<table border=\"1\" class=\"dataframe\">\n",
       "  <thead>\n",
       "    <tr style=\"text-align: right;\">\n",
       "      <th></th>\n",
       "      <th>Unnamed: 0</th>\n",
       "      <th>id</th>\n",
       "      <th>mb_used</th>\n",
       "      <th>session_date</th>\n",
       "      <th>user_id</th>\n",
       "    </tr>\n",
       "  </thead>\n",
       "  <tbody>\n",
       "    <tr>\n",
       "      <th>59296</th>\n",
       "      <td>59296</td>\n",
       "      <td>1200_126</td>\n",
       "      <td>577.73</td>\n",
       "      <td>2018-05-01</td>\n",
       "      <td>1200</td>\n",
       "    </tr>\n",
       "    <tr>\n",
       "      <th>6310</th>\n",
       "      <td>6310</td>\n",
       "      <td>1020_47</td>\n",
       "      <td>523.56</td>\n",
       "      <td>2018-11-19</td>\n",
       "      <td>1020</td>\n",
       "    </tr>\n",
       "    <tr>\n",
       "      <th>99143</th>\n",
       "      <td>99143</td>\n",
       "      <td>1332_117</td>\n",
       "      <td>419.09</td>\n",
       "      <td>2018-10-27</td>\n",
       "      <td>1332</td>\n",
       "    </tr>\n",
       "    <tr>\n",
       "      <th>17878</th>\n",
       "      <td>17878</td>\n",
       "      <td>1061_267</td>\n",
       "      <td>9.56</td>\n",
       "      <td>2018-09-24</td>\n",
       "      <td>1061</td>\n",
       "    </tr>\n",
       "    <tr>\n",
       "      <th>37713</th>\n",
       "      <td>37713</td>\n",
       "      <td>1132_86</td>\n",
       "      <td>127.85</td>\n",
       "      <td>2018-09-08</td>\n",
       "      <td>1132</td>\n",
       "    </tr>\n",
       "  </tbody>\n",
       "</table>\n",
       "</div>"
      ],
      "text/plain": [
       "       Unnamed: 0        id  mb_used session_date  user_id\n",
       "59296       59296  1200_126   577.73   2018-05-01     1200\n",
       "6310         6310   1020_47   523.56   2018-11-19     1020\n",
       "99143       99143  1332_117   419.09   2018-10-27     1332\n",
       "17878       17878  1061_267     9.56   2018-09-24     1061\n",
       "37713       37713   1132_86   127.85   2018-09-08     1132"
      ]
     },
     "metadata": {},
     "output_type": "display_data"
    },
    {
     "name": "stdout",
     "output_type": "stream",
     "text": [
      "==================================================\n",
      "<class 'pandas.core.frame.DataFrame'>\n",
      "RangeIndex: 149396 entries, 0 to 149395\n",
      "Data columns (total 5 columns):\n",
      " #   Column        Non-Null Count   Dtype  \n",
      "---  ------        --------------   -----  \n",
      " 0   Unnamed: 0    149396 non-null  int64  \n",
      " 1   id            149396 non-null  object \n",
      " 2   mb_used       149396 non-null  float64\n",
      " 3   session_date  149396 non-null  object \n",
      " 4   user_id       149396 non-null  int64  \n",
      "dtypes: float64(1), int64(2), object(2)\n",
      "memory usage: 5.7+ MB\n",
      "None\n"
     ]
    }
   ],
   "source": [
    "# таблица интернет\n",
    "display(df2.head(5))\n",
    "print('='*50)\n",
    "display(df2.tail(5))\n",
    "print('='*50)\n",
    "display(df2.sample(5))\n",
    "print('='*50)\n",
    "print(df2.info())"
   ]
  },
  {
   "cell_type": "code",
   "execution_count": 7,
   "id": "e0870789",
   "metadata": {},
   "outputs": [],
   "source": [
    "# лишний столбец\n",
    "df2 = df2.drop(columns='Unnamed: 0')"
   ]
  },
  {
   "cell_type": "code",
   "execution_count": 8,
   "id": "bba2812c",
   "metadata": {},
   "outputs": [],
   "source": [
    "# вправильный тип\n",
    "df2['mb_used'] = df2['mb_used'].astype('float32')\n",
    "df2['session_date'] = df2['session_date'].astype('datetime64')\n",
    "df2['user_id'] = df2['user_id'].astype(str)"
   ]
  },
  {
   "cell_type": "code",
   "execution_count": 9,
   "id": "94b2f7e6",
   "metadata": {},
   "outputs": [
    {
     "data": {
      "text/html": [
       "<div>\n",
       "<style scoped>\n",
       "    .dataframe tbody tr th:only-of-type {\n",
       "        vertical-align: middle;\n",
       "    }\n",
       "\n",
       "    .dataframe tbody tr th {\n",
       "        vertical-align: top;\n",
       "    }\n",
       "\n",
       "    .dataframe thead th {\n",
       "        text-align: right;\n",
       "    }\n",
       "</style>\n",
       "<table border=\"1\" class=\"dataframe\">\n",
       "  <thead>\n",
       "    <tr style=\"text-align: right;\">\n",
       "      <th></th>\n",
       "      <th>id</th>\n",
       "      <th>message_date</th>\n",
       "      <th>user_id</th>\n",
       "    </tr>\n",
       "  </thead>\n",
       "  <tbody>\n",
       "    <tr>\n",
       "      <th>0</th>\n",
       "      <td>1000_0</td>\n",
       "      <td>2018-06-27</td>\n",
       "      <td>1000</td>\n",
       "    </tr>\n",
       "    <tr>\n",
       "      <th>1</th>\n",
       "      <td>1000_1</td>\n",
       "      <td>2018-10-08</td>\n",
       "      <td>1000</td>\n",
       "    </tr>\n",
       "    <tr>\n",
       "      <th>2</th>\n",
       "      <td>1000_2</td>\n",
       "      <td>2018-08-04</td>\n",
       "      <td>1000</td>\n",
       "    </tr>\n",
       "    <tr>\n",
       "      <th>3</th>\n",
       "      <td>1000_3</td>\n",
       "      <td>2018-06-16</td>\n",
       "      <td>1000</td>\n",
       "    </tr>\n",
       "    <tr>\n",
       "      <th>4</th>\n",
       "      <td>1000_4</td>\n",
       "      <td>2018-12-05</td>\n",
       "      <td>1000</td>\n",
       "    </tr>\n",
       "  </tbody>\n",
       "</table>\n",
       "</div>"
      ],
      "text/plain": [
       "       id message_date  user_id\n",
       "0  1000_0   2018-06-27     1000\n",
       "1  1000_1   2018-10-08     1000\n",
       "2  1000_2   2018-08-04     1000\n",
       "3  1000_3   2018-06-16     1000\n",
       "4  1000_4   2018-12-05     1000"
      ]
     },
     "metadata": {},
     "output_type": "display_data"
    },
    {
     "name": "stdout",
     "output_type": "stream",
     "text": [
      "==================================================\n"
     ]
    },
    {
     "data": {
      "text/html": [
       "<div>\n",
       "<style scoped>\n",
       "    .dataframe tbody tr th:only-of-type {\n",
       "        vertical-align: middle;\n",
       "    }\n",
       "\n",
       "    .dataframe tbody tr th {\n",
       "        vertical-align: top;\n",
       "    }\n",
       "\n",
       "    .dataframe thead th {\n",
       "        text-align: right;\n",
       "    }\n",
       "</style>\n",
       "<table border=\"1\" class=\"dataframe\">\n",
       "  <thead>\n",
       "    <tr style=\"text-align: right;\">\n",
       "      <th></th>\n",
       "      <th>id</th>\n",
       "      <th>message_date</th>\n",
       "      <th>user_id</th>\n",
       "    </tr>\n",
       "  </thead>\n",
       "  <tbody>\n",
       "    <tr>\n",
       "      <th>123031</th>\n",
       "      <td>1499_179</td>\n",
       "      <td>2018-12-12</td>\n",
       "      <td>1499</td>\n",
       "    </tr>\n",
       "    <tr>\n",
       "      <th>123032</th>\n",
       "      <td>1499_180</td>\n",
       "      <td>2018-09-28</td>\n",
       "      <td>1499</td>\n",
       "    </tr>\n",
       "    <tr>\n",
       "      <th>123033</th>\n",
       "      <td>1499_181</td>\n",
       "      <td>2018-09-27</td>\n",
       "      <td>1499</td>\n",
       "    </tr>\n",
       "    <tr>\n",
       "      <th>123034</th>\n",
       "      <td>1499_182</td>\n",
       "      <td>2018-11-15</td>\n",
       "      <td>1499</td>\n",
       "    </tr>\n",
       "    <tr>\n",
       "      <th>123035</th>\n",
       "      <td>1499_183</td>\n",
       "      <td>2018-11-16</td>\n",
       "      <td>1499</td>\n",
       "    </tr>\n",
       "  </tbody>\n",
       "</table>\n",
       "</div>"
      ],
      "text/plain": [
       "              id message_date  user_id\n",
       "123031  1499_179   2018-12-12     1499\n",
       "123032  1499_180   2018-09-28     1499\n",
       "123033  1499_181   2018-09-27     1499\n",
       "123034  1499_182   2018-11-15     1499\n",
       "123035  1499_183   2018-11-16     1499"
      ]
     },
     "metadata": {},
     "output_type": "display_data"
    },
    {
     "name": "stdout",
     "output_type": "stream",
     "text": [
      "==================================================\n"
     ]
    },
    {
     "data": {
      "text/html": [
       "<div>\n",
       "<style scoped>\n",
       "    .dataframe tbody tr th:only-of-type {\n",
       "        vertical-align: middle;\n",
       "    }\n",
       "\n",
       "    .dataframe tbody tr th {\n",
       "        vertical-align: top;\n",
       "    }\n",
       "\n",
       "    .dataframe thead th {\n",
       "        text-align: right;\n",
       "    }\n",
       "</style>\n",
       "<table border=\"1\" class=\"dataframe\">\n",
       "  <thead>\n",
       "    <tr style=\"text-align: right;\">\n",
       "      <th></th>\n",
       "      <th>id</th>\n",
       "      <th>message_date</th>\n",
       "      <th>user_id</th>\n",
       "    </tr>\n",
       "  </thead>\n",
       "  <tbody>\n",
       "    <tr>\n",
       "      <th>37537</th>\n",
       "      <td>1164_206</td>\n",
       "      <td>2018-07-01</td>\n",
       "      <td>1164</td>\n",
       "    </tr>\n",
       "    <tr>\n",
       "      <th>66447</th>\n",
       "      <td>1284_35</td>\n",
       "      <td>2018-11-30</td>\n",
       "      <td>1284</td>\n",
       "    </tr>\n",
       "    <tr>\n",
       "      <th>49839</th>\n",
       "      <td>1222_43</td>\n",
       "      <td>2018-12-20</td>\n",
       "      <td>1222</td>\n",
       "    </tr>\n",
       "    <tr>\n",
       "      <th>46804</th>\n",
       "      <td>1203_189</td>\n",
       "      <td>2018-06-09</td>\n",
       "      <td>1203</td>\n",
       "    </tr>\n",
       "    <tr>\n",
       "      <th>36733</th>\n",
       "      <td>1158_538</td>\n",
       "      <td>2018-07-06</td>\n",
       "      <td>1158</td>\n",
       "    </tr>\n",
       "  </tbody>\n",
       "</table>\n",
       "</div>"
      ],
      "text/plain": [
       "             id message_date  user_id\n",
       "37537  1164_206   2018-07-01     1164\n",
       "66447   1284_35   2018-11-30     1284\n",
       "49839   1222_43   2018-12-20     1222\n",
       "46804  1203_189   2018-06-09     1203\n",
       "36733  1158_538   2018-07-06     1158"
      ]
     },
     "metadata": {},
     "output_type": "display_data"
    },
    {
     "name": "stdout",
     "output_type": "stream",
     "text": [
      "==================================================\n",
      "<class 'pandas.core.frame.DataFrame'>\n",
      "RangeIndex: 123036 entries, 0 to 123035\n",
      "Data columns (total 3 columns):\n",
      " #   Column        Non-Null Count   Dtype \n",
      "---  ------        --------------   ----- \n",
      " 0   id            123036 non-null  object\n",
      " 1   message_date  123036 non-null  object\n",
      " 2   user_id       123036 non-null  int64 \n",
      "dtypes: int64(1), object(2)\n",
      "memory usage: 2.8+ MB\n",
      "None\n"
     ]
    }
   ],
   "source": [
    "# сообщения\n",
    "display(df3.head(5))\n",
    "print('='*50)\n",
    "display(df3.tail(5))\n",
    "print('='*50)\n",
    "display(df3.sample(5))\n",
    "print('='*50)\n",
    "print(df3.info())"
   ]
  },
  {
   "cell_type": "code",
   "execution_count": 10,
   "id": "fe0c2be3",
   "metadata": {},
   "outputs": [],
   "source": [
    "# в нужный тип\n",
    "df3['message_date'] = df3['message_date'].astype('datetime64')\n",
    "df3['user_id'] = df3['user_id'].astype(str)"
   ]
  },
  {
   "cell_type": "code",
   "execution_count": 11,
   "id": "0ebedc08",
   "metadata": {},
   "outputs": [
    {
     "data": {
      "text/html": [
       "<div>\n",
       "<style scoped>\n",
       "    .dataframe tbody tr th:only-of-type {\n",
       "        vertical-align: middle;\n",
       "    }\n",
       "\n",
       "    .dataframe tbody tr th {\n",
       "        vertical-align: top;\n",
       "    }\n",
       "\n",
       "    .dataframe thead th {\n",
       "        text-align: right;\n",
       "    }\n",
       "</style>\n",
       "<table border=\"1\" class=\"dataframe\">\n",
       "  <thead>\n",
       "    <tr style=\"text-align: right;\">\n",
       "      <th></th>\n",
       "      <th>messages_included</th>\n",
       "      <th>mb_per_month_included</th>\n",
       "      <th>minutes_included</th>\n",
       "      <th>rub_monthly_fee</th>\n",
       "      <th>rub_per_gb</th>\n",
       "      <th>rub_per_message</th>\n",
       "      <th>rub_per_minute</th>\n",
       "      <th>tariff_name</th>\n",
       "    </tr>\n",
       "  </thead>\n",
       "  <tbody>\n",
       "    <tr>\n",
       "      <th>0</th>\n",
       "      <td>50</td>\n",
       "      <td>15360</td>\n",
       "      <td>500</td>\n",
       "      <td>550</td>\n",
       "      <td>200</td>\n",
       "      <td>3</td>\n",
       "      <td>3</td>\n",
       "      <td>smart</td>\n",
       "    </tr>\n",
       "    <tr>\n",
       "      <th>1</th>\n",
       "      <td>1000</td>\n",
       "      <td>30720</td>\n",
       "      <td>3000</td>\n",
       "      <td>1950</td>\n",
       "      <td>150</td>\n",
       "      <td>1</td>\n",
       "      <td>1</td>\n",
       "      <td>ultra</td>\n",
       "    </tr>\n",
       "  </tbody>\n",
       "</table>\n",
       "</div>"
      ],
      "text/plain": [
       "   messages_included  mb_per_month_included  minutes_included  \\\n",
       "0                 50                  15360               500   \n",
       "1               1000                  30720              3000   \n",
       "\n",
       "   rub_monthly_fee  rub_per_gb  rub_per_message  rub_per_minute tariff_name  \n",
       "0              550         200                3               3       smart  \n",
       "1             1950         150                1               1       ultra  "
      ]
     },
     "metadata": {},
     "output_type": "display_data"
    },
    {
     "name": "stdout",
     "output_type": "stream",
     "text": [
      "==================================================\n",
      "<class 'pandas.core.frame.DataFrame'>\n",
      "RangeIndex: 2 entries, 0 to 1\n",
      "Data columns (total 8 columns):\n",
      " #   Column                 Non-Null Count  Dtype \n",
      "---  ------                 --------------  ----- \n",
      " 0   messages_included      2 non-null      int64 \n",
      " 1   mb_per_month_included  2 non-null      int64 \n",
      " 2   minutes_included       2 non-null      int64 \n",
      " 3   rub_monthly_fee        2 non-null      int64 \n",
      " 4   rub_per_gb             2 non-null      int64 \n",
      " 5   rub_per_message        2 non-null      int64 \n",
      " 6   rub_per_minute         2 non-null      int64 \n",
      " 7   tariff_name            2 non-null      object\n",
      "dtypes: int64(7), object(1)\n",
      "memory usage: 256.0+ bytes\n",
      "None\n"
     ]
    }
   ],
   "source": [
    "# тарифы\n",
    "display(df4.head(5))\n",
    "print('='*50)\n",
    "print(df4.info())"
   ]
  },
  {
   "cell_type": "code",
   "execution_count": 12,
   "id": "477ea0a5",
   "metadata": {},
   "outputs": [
    {
     "data": {
      "text/html": [
       "<div>\n",
       "<style scoped>\n",
       "    .dataframe tbody tr th:only-of-type {\n",
       "        vertical-align: middle;\n",
       "    }\n",
       "\n",
       "    .dataframe tbody tr th {\n",
       "        vertical-align: top;\n",
       "    }\n",
       "\n",
       "    .dataframe thead th {\n",
       "        text-align: right;\n",
       "    }\n",
       "</style>\n",
       "<table border=\"1\" class=\"dataframe\">\n",
       "  <thead>\n",
       "    <tr style=\"text-align: right;\">\n",
       "      <th></th>\n",
       "      <th>user_id</th>\n",
       "      <th>age</th>\n",
       "      <th>churn_date</th>\n",
       "      <th>city</th>\n",
       "      <th>first_name</th>\n",
       "      <th>last_name</th>\n",
       "      <th>reg_date</th>\n",
       "      <th>tariff</th>\n",
       "    </tr>\n",
       "  </thead>\n",
       "  <tbody>\n",
       "    <tr>\n",
       "      <th>0</th>\n",
       "      <td>1000</td>\n",
       "      <td>52</td>\n",
       "      <td>NaN</td>\n",
       "      <td>Краснодар</td>\n",
       "      <td>Рафаил</td>\n",
       "      <td>Верещагин</td>\n",
       "      <td>2018-05-25</td>\n",
       "      <td>ultra</td>\n",
       "    </tr>\n",
       "    <tr>\n",
       "      <th>1</th>\n",
       "      <td>1001</td>\n",
       "      <td>41</td>\n",
       "      <td>NaN</td>\n",
       "      <td>Москва</td>\n",
       "      <td>Иван</td>\n",
       "      <td>Ежов</td>\n",
       "      <td>2018-11-01</td>\n",
       "      <td>smart</td>\n",
       "    </tr>\n",
       "    <tr>\n",
       "      <th>2</th>\n",
       "      <td>1002</td>\n",
       "      <td>59</td>\n",
       "      <td>NaN</td>\n",
       "      <td>Стерлитамак</td>\n",
       "      <td>Евгений</td>\n",
       "      <td>Абрамович</td>\n",
       "      <td>2018-06-17</td>\n",
       "      <td>smart</td>\n",
       "    </tr>\n",
       "    <tr>\n",
       "      <th>3</th>\n",
       "      <td>1003</td>\n",
       "      <td>23</td>\n",
       "      <td>NaN</td>\n",
       "      <td>Москва</td>\n",
       "      <td>Белла</td>\n",
       "      <td>Белякова</td>\n",
       "      <td>2018-08-17</td>\n",
       "      <td>ultra</td>\n",
       "    </tr>\n",
       "    <tr>\n",
       "      <th>4</th>\n",
       "      <td>1004</td>\n",
       "      <td>68</td>\n",
       "      <td>NaN</td>\n",
       "      <td>Новокузнецк</td>\n",
       "      <td>Татьяна</td>\n",
       "      <td>Авдеенко</td>\n",
       "      <td>2018-05-14</td>\n",
       "      <td>ultra</td>\n",
       "    </tr>\n",
       "  </tbody>\n",
       "</table>\n",
       "</div>"
      ],
      "text/plain": [
       "   user_id  age churn_date         city first_name  last_name    reg_date  \\\n",
       "0     1000   52        NaN    Краснодар     Рафаил  Верещагин  2018-05-25   \n",
       "1     1001   41        NaN       Москва       Иван       Ежов  2018-11-01   \n",
       "2     1002   59        NaN  Стерлитамак    Евгений  Абрамович  2018-06-17   \n",
       "3     1003   23        NaN       Москва      Белла   Белякова  2018-08-17   \n",
       "4     1004   68        NaN  Новокузнецк    Татьяна   Авдеенко  2018-05-14   \n",
       "\n",
       "  tariff  \n",
       "0  ultra  \n",
       "1  smart  \n",
       "2  smart  \n",
       "3  ultra  \n",
       "4  ultra  "
      ]
     },
     "metadata": {},
     "output_type": "display_data"
    },
    {
     "name": "stdout",
     "output_type": "stream",
     "text": [
      "==================================================\n"
     ]
    },
    {
     "data": {
      "text/html": [
       "<div>\n",
       "<style scoped>\n",
       "    .dataframe tbody tr th:only-of-type {\n",
       "        vertical-align: middle;\n",
       "    }\n",
       "\n",
       "    .dataframe tbody tr th {\n",
       "        vertical-align: top;\n",
       "    }\n",
       "\n",
       "    .dataframe thead th {\n",
       "        text-align: right;\n",
       "    }\n",
       "</style>\n",
       "<table border=\"1\" class=\"dataframe\">\n",
       "  <thead>\n",
       "    <tr style=\"text-align: right;\">\n",
       "      <th></th>\n",
       "      <th>user_id</th>\n",
       "      <th>age</th>\n",
       "      <th>churn_date</th>\n",
       "      <th>city</th>\n",
       "      <th>first_name</th>\n",
       "      <th>last_name</th>\n",
       "      <th>reg_date</th>\n",
       "      <th>tariff</th>\n",
       "    </tr>\n",
       "  </thead>\n",
       "  <tbody>\n",
       "    <tr>\n",
       "      <th>495</th>\n",
       "      <td>1495</td>\n",
       "      <td>65</td>\n",
       "      <td>NaN</td>\n",
       "      <td>Иркутск</td>\n",
       "      <td>Авксентий</td>\n",
       "      <td>Фокин</td>\n",
       "      <td>2018-08-28</td>\n",
       "      <td>ultra</td>\n",
       "    </tr>\n",
       "    <tr>\n",
       "      <th>496</th>\n",
       "      <td>1496</td>\n",
       "      <td>36</td>\n",
       "      <td>NaN</td>\n",
       "      <td>Вологда</td>\n",
       "      <td>Трифон</td>\n",
       "      <td>Блохин</td>\n",
       "      <td>2018-01-27</td>\n",
       "      <td>smart</td>\n",
       "    </tr>\n",
       "    <tr>\n",
       "      <th>497</th>\n",
       "      <td>1497</td>\n",
       "      <td>32</td>\n",
       "      <td>NaN</td>\n",
       "      <td>Челябинск</td>\n",
       "      <td>Каролина</td>\n",
       "      <td>Агеева</td>\n",
       "      <td>2018-10-09</td>\n",
       "      <td>smart</td>\n",
       "    </tr>\n",
       "    <tr>\n",
       "      <th>498</th>\n",
       "      <td>1498</td>\n",
       "      <td>68</td>\n",
       "      <td>2018-10-25</td>\n",
       "      <td>Владикавказ</td>\n",
       "      <td>Всеволод</td>\n",
       "      <td>Акимчин</td>\n",
       "      <td>2018-07-19</td>\n",
       "      <td>smart</td>\n",
       "    </tr>\n",
       "    <tr>\n",
       "      <th>499</th>\n",
       "      <td>1499</td>\n",
       "      <td>35</td>\n",
       "      <td>NaN</td>\n",
       "      <td>Пермь</td>\n",
       "      <td>Гектор</td>\n",
       "      <td>Корнилов</td>\n",
       "      <td>2018-09-27</td>\n",
       "      <td>smart</td>\n",
       "    </tr>\n",
       "  </tbody>\n",
       "</table>\n",
       "</div>"
      ],
      "text/plain": [
       "     user_id  age  churn_date         city first_name last_name    reg_date  \\\n",
       "495     1495   65         NaN      Иркутск  Авксентий     Фокин  2018-08-28   \n",
       "496     1496   36         NaN      Вологда     Трифон    Блохин  2018-01-27   \n",
       "497     1497   32         NaN    Челябинск   Каролина    Агеева  2018-10-09   \n",
       "498     1498   68  2018-10-25  Владикавказ   Всеволод   Акимчин  2018-07-19   \n",
       "499     1499   35         NaN        Пермь     Гектор  Корнилов  2018-09-27   \n",
       "\n",
       "    tariff  \n",
       "495  ultra  \n",
       "496  smart  \n",
       "497  smart  \n",
       "498  smart  \n",
       "499  smart  "
      ]
     },
     "metadata": {},
     "output_type": "display_data"
    },
    {
     "name": "stdout",
     "output_type": "stream",
     "text": [
      "==================================================\n"
     ]
    },
    {
     "data": {
      "text/html": [
       "<div>\n",
       "<style scoped>\n",
       "    .dataframe tbody tr th:only-of-type {\n",
       "        vertical-align: middle;\n",
       "    }\n",
       "\n",
       "    .dataframe tbody tr th {\n",
       "        vertical-align: top;\n",
       "    }\n",
       "\n",
       "    .dataframe thead th {\n",
       "        text-align: right;\n",
       "    }\n",
       "</style>\n",
       "<table border=\"1\" class=\"dataframe\">\n",
       "  <thead>\n",
       "    <tr style=\"text-align: right;\">\n",
       "      <th></th>\n",
       "      <th>user_id</th>\n",
       "      <th>age</th>\n",
       "      <th>churn_date</th>\n",
       "      <th>city</th>\n",
       "      <th>first_name</th>\n",
       "      <th>last_name</th>\n",
       "      <th>reg_date</th>\n",
       "      <th>tariff</th>\n",
       "    </tr>\n",
       "  </thead>\n",
       "  <tbody>\n",
       "    <tr>\n",
       "      <th>297</th>\n",
       "      <td>1297</td>\n",
       "      <td>66</td>\n",
       "      <td>NaN</td>\n",
       "      <td>Иркутск</td>\n",
       "      <td>Радим</td>\n",
       "      <td>Абрамцев</td>\n",
       "      <td>2018-12-04</td>\n",
       "      <td>smart</td>\n",
       "    </tr>\n",
       "    <tr>\n",
       "      <th>187</th>\n",
       "      <td>1187</td>\n",
       "      <td>60</td>\n",
       "      <td>NaN</td>\n",
       "      <td>Рязань</td>\n",
       "      <td>Виталий</td>\n",
       "      <td>Овчинников</td>\n",
       "      <td>2018-08-22</td>\n",
       "      <td>smart</td>\n",
       "    </tr>\n",
       "    <tr>\n",
       "      <th>180</th>\n",
       "      <td>1180</td>\n",
       "      <td>27</td>\n",
       "      <td>NaN</td>\n",
       "      <td>Москва</td>\n",
       "      <td>Лев</td>\n",
       "      <td>Мишин</td>\n",
       "      <td>2018-02-02</td>\n",
       "      <td>ultra</td>\n",
       "    </tr>\n",
       "    <tr>\n",
       "      <th>317</th>\n",
       "      <td>1317</td>\n",
       "      <td>45</td>\n",
       "      <td>NaN</td>\n",
       "      <td>Москва</td>\n",
       "      <td>Всеволод</td>\n",
       "      <td>Зыков</td>\n",
       "      <td>2018-07-09</td>\n",
       "      <td>smart</td>\n",
       "    </tr>\n",
       "    <tr>\n",
       "      <th>385</th>\n",
       "      <td>1385</td>\n",
       "      <td>26</td>\n",
       "      <td>NaN</td>\n",
       "      <td>Москва</td>\n",
       "      <td>Алиса</td>\n",
       "      <td>Дубинина</td>\n",
       "      <td>2018-01-13</td>\n",
       "      <td>ultra</td>\n",
       "    </tr>\n",
       "  </tbody>\n",
       "</table>\n",
       "</div>"
      ],
      "text/plain": [
       "     user_id  age churn_date     city first_name   last_name    reg_date  \\\n",
       "297     1297   66        NaN  Иркутск      Радим    Абрамцев  2018-12-04   \n",
       "187     1187   60        NaN   Рязань    Виталий  Овчинников  2018-08-22   \n",
       "180     1180   27        NaN   Москва        Лев       Мишин  2018-02-02   \n",
       "317     1317   45        NaN   Москва   Всеволод       Зыков  2018-07-09   \n",
       "385     1385   26        NaN   Москва      Алиса    Дубинина  2018-01-13   \n",
       "\n",
       "    tariff  \n",
       "297  smart  \n",
       "187  smart  \n",
       "180  ultra  \n",
       "317  smart  \n",
       "385  ultra  "
      ]
     },
     "metadata": {},
     "output_type": "display_data"
    },
    {
     "name": "stdout",
     "output_type": "stream",
     "text": [
      "==================================================\n",
      "<class 'pandas.core.frame.DataFrame'>\n",
      "RangeIndex: 500 entries, 0 to 499\n",
      "Data columns (total 8 columns):\n",
      " #   Column      Non-Null Count  Dtype \n",
      "---  ------      --------------  ----- \n",
      " 0   user_id     500 non-null    int64 \n",
      " 1   age         500 non-null    int64 \n",
      " 2   churn_date  38 non-null     object\n",
      " 3   city        500 non-null    object\n",
      " 4   first_name  500 non-null    object\n",
      " 5   last_name   500 non-null    object\n",
      " 6   reg_date    500 non-null    object\n",
      " 7   tariff      500 non-null    object\n",
      "dtypes: int64(2), object(6)\n",
      "memory usage: 31.4+ KB\n",
      "None\n"
     ]
    }
   ],
   "source": [
    "# выборка из пользователей\n",
    "display(df5.head(5))\n",
    "print('='*50)\n",
    "display(df5.tail(5))\n",
    "print('='*50)\n",
    "display(df5.sample(5))\n",
    "print('='*50)\n",
    "print(df5.info())"
   ]
  },
  {
   "cell_type": "code",
   "execution_count": 13,
   "id": "42ac594c",
   "metadata": {},
   "outputs": [],
   "source": [
    "# в нужный тип\n",
    "df5['user_id'] = df5['user_id'].astype(str)\n",
    "df5['age'] = df5['age'].astype(int)\n",
    "df5['churn_date'] = df5['churn_date'].astype('datetime64')\n",
    "df5['reg_date'] = df5['reg_date'].astype('datetime64')"
   ]
  },
  {
   "cell_type": "markdown",
   "id": "f2430277",
   "metadata": {},
   "source": [
    "Вывод:\n",
    "\n",
    "- типы данных в таблицах исправлены для корректной работы с ними\n",
    "- дата изменена на формат даты чтомы можно было скомпановать по месяцам\n",
    "- колонка user_id заменена на формат str для коректной рабты с ними, чтобы случайно их не умножить и не сложить. "
   ]
  },
  {
   "cell_type": "markdown",
   "id": "4e7d7235",
   "metadata": {},
   "source": [
    "## Формирование сводных таблиц для последующего анализа"
   ]
  },
  {
   "cell_type": "markdown",
   "id": "d4ceab75",
   "metadata": {},
   "source": [
    "### количество сделанных звонков и израсходованных минут разговора по месяцам"
   ]
  },
  {
   "cell_type": "code",
   "execution_count": 14,
   "id": "47d09bd2",
   "metadata": {},
   "outputs": [],
   "source": [
    "# джойним таблицу звонков и выборку клиентов\n",
    "df_call = df1.merge(df5, how='outer', on='user_id')"
   ]
  },
  {
   "cell_type": "code",
   "execution_count": 15,
   "id": "4e08aaee",
   "metadata": {},
   "outputs": [],
   "source": [
    "# меняем тип\n",
    "df_call['month'] = df_call['call_date']"
   ]
  },
  {
   "cell_type": "code",
   "execution_count": 16,
   "id": "3da43dda",
   "metadata": {},
   "outputs": [],
   "source": [
    "# заполняе пропуски после джойна\n",
    "df_call['month'] = df_call['month'].fillna(df_call['reg_date'])"
   ]
  },
  {
   "cell_type": "code",
   "execution_count": 17,
   "id": "bc82561b",
   "metadata": {},
   "outputs": [],
   "source": [
    "# в нудный формат - месяц\n",
    "df_call['month'] = df_call['month'].astype('datetime64[M]')"
   ]
  },
  {
   "cell_type": "code",
   "execution_count": 18,
   "id": "f399fb71",
   "metadata": {},
   "outputs": [
    {
     "data": {
      "text/html": [
       "<div>\n",
       "<style scoped>\n",
       "    .dataframe tbody tr th:only-of-type {\n",
       "        vertical-align: middle;\n",
       "    }\n",
       "\n",
       "    .dataframe tbody tr th {\n",
       "        vertical-align: top;\n",
       "    }\n",
       "\n",
       "    .dataframe thead th {\n",
       "        text-align: right;\n",
       "    }\n",
       "</style>\n",
       "<table border=\"1\" class=\"dataframe\">\n",
       "  <thead>\n",
       "    <tr style=\"text-align: right;\">\n",
       "      <th></th>\n",
       "      <th>user_id</th>\n",
       "      <th>month</th>\n",
       "      <th>tariff</th>\n",
       "      <th>count</th>\n",
       "      <th>sum</th>\n",
       "    </tr>\n",
       "  </thead>\n",
       "  <tbody>\n",
       "    <tr>\n",
       "      <th>0</th>\n",
       "      <td>1000</td>\n",
       "      <td>2018-05-01</td>\n",
       "      <td>ultra</td>\n",
       "      <td>22</td>\n",
       "      <td>159.0</td>\n",
       "    </tr>\n",
       "    <tr>\n",
       "      <th>1</th>\n",
       "      <td>1000</td>\n",
       "      <td>2018-06-01</td>\n",
       "      <td>ultra</td>\n",
       "      <td>43</td>\n",
       "      <td>172.0</td>\n",
       "    </tr>\n",
       "    <tr>\n",
       "      <th>2</th>\n",
       "      <td>1000</td>\n",
       "      <td>2018-07-01</td>\n",
       "      <td>ultra</td>\n",
       "      <td>47</td>\n",
       "      <td>340.0</td>\n",
       "    </tr>\n",
       "    <tr>\n",
       "      <th>3</th>\n",
       "      <td>1000</td>\n",
       "      <td>2018-08-01</td>\n",
       "      <td>ultra</td>\n",
       "      <td>52</td>\n",
       "      <td>408.0</td>\n",
       "    </tr>\n",
       "    <tr>\n",
       "      <th>4</th>\n",
       "      <td>1000</td>\n",
       "      <td>2018-09-01</td>\n",
       "      <td>ultra</td>\n",
       "      <td>58</td>\n",
       "      <td>466.0</td>\n",
       "    </tr>\n",
       "  </tbody>\n",
       "</table>\n",
       "</div>"
      ],
      "text/plain": [
       "  user_id      month tariff  count    sum\n",
       "0    1000 2018-05-01  ultra     22  159.0\n",
       "1    1000 2018-06-01  ultra     43  172.0\n",
       "2    1000 2018-07-01  ultra     47  340.0\n",
       "3    1000 2018-08-01  ultra     52  408.0\n",
       "4    1000 2018-09-01  ultra     58  466.0"
      ]
     },
     "execution_count": 18,
     "metadata": {},
     "output_type": "execute_result"
    }
   ],
   "source": [
    "# сводная таблица по количество сделанных звонков и израсходованных минут разговора по месяцам\n",
    "df_call_group = df_call.groupby(['user_id', 'month', 'tariff'])[\n",
    "    'duration'].agg(['count', 'sum']).reset_index()\n",
    "df_call_group.head()"
   ]
  },
  {
   "cell_type": "markdown",
   "id": "b8867e4a",
   "metadata": {},
   "source": [
    "### количество отправленных сообщений по месяцам"
   ]
  },
  {
   "cell_type": "code",
   "execution_count": 19,
   "id": "366c8728",
   "metadata": {},
   "outputs": [],
   "source": [
    "# джойним смс с выборкой клиентов\n",
    "df_sms = df3.merge(df5, how='outer', on='user_id')"
   ]
  },
  {
   "cell_type": "code",
   "execution_count": 20,
   "id": "50acac4a",
   "metadata": {},
   "outputs": [],
   "source": [
    "# в нужный формат\n",
    "df_sms['month'] = df_sms['message_date'].astype('datetime64[M]')"
   ]
  },
  {
   "cell_type": "code",
   "execution_count": 21,
   "id": "25ed1bfd",
   "metadata": {},
   "outputs": [
    {
     "data": {
      "text/html": [
       "<div>\n",
       "<style scoped>\n",
       "    .dataframe tbody tr th:only-of-type {\n",
       "        vertical-align: middle;\n",
       "    }\n",
       "\n",
       "    .dataframe tbody tr th {\n",
       "        vertical-align: top;\n",
       "    }\n",
       "\n",
       "    .dataframe thead th {\n",
       "        text-align: right;\n",
       "    }\n",
       "</style>\n",
       "<table border=\"1\" class=\"dataframe\">\n",
       "  <thead>\n",
       "    <tr style=\"text-align: right;\">\n",
       "      <th></th>\n",
       "      <th>user_id</th>\n",
       "      <th>month</th>\n",
       "      <th>tariff</th>\n",
       "      <th>id</th>\n",
       "    </tr>\n",
       "  </thead>\n",
       "  <tbody>\n",
       "    <tr>\n",
       "      <th>0</th>\n",
       "      <td>1000</td>\n",
       "      <td>2018-05-01</td>\n",
       "      <td>ultra</td>\n",
       "      <td>22</td>\n",
       "    </tr>\n",
       "    <tr>\n",
       "      <th>1</th>\n",
       "      <td>1000</td>\n",
       "      <td>2018-06-01</td>\n",
       "      <td>ultra</td>\n",
       "      <td>60</td>\n",
       "    </tr>\n",
       "    <tr>\n",
       "      <th>2</th>\n",
       "      <td>1000</td>\n",
       "      <td>2018-07-01</td>\n",
       "      <td>ultra</td>\n",
       "      <td>75</td>\n",
       "    </tr>\n",
       "    <tr>\n",
       "      <th>3</th>\n",
       "      <td>1000</td>\n",
       "      <td>2018-08-01</td>\n",
       "      <td>ultra</td>\n",
       "      <td>81</td>\n",
       "    </tr>\n",
       "    <tr>\n",
       "      <th>4</th>\n",
       "      <td>1000</td>\n",
       "      <td>2018-09-01</td>\n",
       "      <td>ultra</td>\n",
       "      <td>57</td>\n",
       "    </tr>\n",
       "  </tbody>\n",
       "</table>\n",
       "</div>"
      ],
      "text/plain": [
       "  user_id      month tariff  id\n",
       "0    1000 2018-05-01  ultra  22\n",
       "1    1000 2018-06-01  ultra  60\n",
       "2    1000 2018-07-01  ultra  75\n",
       "3    1000 2018-08-01  ultra  81\n",
       "4    1000 2018-09-01  ultra  57"
      ]
     },
     "execution_count": 21,
     "metadata": {},
     "output_type": "execute_result"
    }
   ],
   "source": [
    "# сводная таблица количество отправленных сообщений по месяцам\n",
    "df_sms_group = df_sms.groupby(['user_id', 'month', 'tariff'])[\n",
    "    'id'].agg('count').reset_index()\n",
    "df_sms_group.head()"
   ]
  },
  {
   "cell_type": "markdown",
   "id": "f417592c",
   "metadata": {},
   "source": [
    "### объем израсходованного интернет-трафика по месяцам"
   ]
  },
  {
   "cell_type": "code",
   "execution_count": 22,
   "id": "490ac889",
   "metadata": {},
   "outputs": [],
   "source": [
    "# джойним интернет и выборку\n",
    "df_internet = df5.merge(df2, how='outer', on='user_id')"
   ]
  },
  {
   "cell_type": "code",
   "execution_count": 23,
   "id": "745877f1",
   "metadata": {},
   "outputs": [],
   "source": [
    "# в нужный формат\n",
    "df_internet['month'] = df_internet['session_date'].astype('datetime64[M]')"
   ]
  },
  {
   "cell_type": "code",
   "execution_count": 24,
   "id": "7cd62d2b",
   "metadata": {},
   "outputs": [
    {
     "data": {
      "text/html": [
       "<div>\n",
       "<style scoped>\n",
       "    .dataframe tbody tr th:only-of-type {\n",
       "        vertical-align: middle;\n",
       "    }\n",
       "\n",
       "    .dataframe tbody tr th {\n",
       "        vertical-align: top;\n",
       "    }\n",
       "\n",
       "    .dataframe thead th {\n",
       "        text-align: right;\n",
       "    }\n",
       "</style>\n",
       "<table border=\"1\" class=\"dataframe\">\n",
       "  <thead>\n",
       "    <tr style=\"text-align: right;\">\n",
       "      <th></th>\n",
       "      <th>user_id</th>\n",
       "      <th>month</th>\n",
       "      <th>tariff</th>\n",
       "      <th>mb_used</th>\n",
       "    </tr>\n",
       "  </thead>\n",
       "  <tbody>\n",
       "    <tr>\n",
       "      <th>0</th>\n",
       "      <td>1000</td>\n",
       "      <td>2018-05-01</td>\n",
       "      <td>ultra</td>\n",
       "      <td>2253.489990</td>\n",
       "    </tr>\n",
       "    <tr>\n",
       "      <th>1</th>\n",
       "      <td>1000</td>\n",
       "      <td>2018-06-01</td>\n",
       "      <td>ultra</td>\n",
       "      <td>23233.769531</td>\n",
       "    </tr>\n",
       "    <tr>\n",
       "      <th>2</th>\n",
       "      <td>1000</td>\n",
       "      <td>2018-07-01</td>\n",
       "      <td>ultra</td>\n",
       "      <td>14003.639648</td>\n",
       "    </tr>\n",
       "    <tr>\n",
       "      <th>3</th>\n",
       "      <td>1000</td>\n",
       "      <td>2018-08-01</td>\n",
       "      <td>ultra</td>\n",
       "      <td>14055.929688</td>\n",
       "    </tr>\n",
       "    <tr>\n",
       "      <th>4</th>\n",
       "      <td>1000</td>\n",
       "      <td>2018-09-01</td>\n",
       "      <td>ultra</td>\n",
       "      <td>14568.910156</td>\n",
       "    </tr>\n",
       "  </tbody>\n",
       "</table>\n",
       "</div>"
      ],
      "text/plain": [
       "  user_id      month tariff       mb_used\n",
       "0    1000 2018-05-01  ultra   2253.489990\n",
       "1    1000 2018-06-01  ultra  23233.769531\n",
       "2    1000 2018-07-01  ultra  14003.639648\n",
       "3    1000 2018-08-01  ultra  14055.929688\n",
       "4    1000 2018-09-01  ultra  14568.910156"
      ]
     },
     "execution_count": 24,
     "metadata": {},
     "output_type": "execute_result"
    }
   ],
   "source": [
    "# сводная таблица объем израсходованного интернет-трафика по месяцам\n",
    "df_internet_group = df_internet.groupby(['user_id', 'month', 'tariff'])[\n",
    "    'mb_used'].sum().reset_index()\n",
    "df_internet_group.head()"
   ]
  },
  {
   "cell_type": "markdown",
   "id": "935e71f9",
   "metadata": {},
   "source": [
    "### помесячная выручка с каждого пользователя, соответствующая тарифному плану"
   ]
  },
  {
   "cell_type": "code",
   "execution_count": 25,
   "id": "ecc7fa34",
   "metadata": {},
   "outputs": [
    {
     "data": {
      "text/html": [
       "<div>\n",
       "<style scoped>\n",
       "    .dataframe tbody tr th:only-of-type {\n",
       "        vertical-align: middle;\n",
       "    }\n",
       "\n",
       "    .dataframe tbody tr th {\n",
       "        vertical-align: top;\n",
       "    }\n",
       "\n",
       "    .dataframe thead th {\n",
       "        text-align: right;\n",
       "    }\n",
       "</style>\n",
       "<table border=\"1\" class=\"dataframe\">\n",
       "  <thead>\n",
       "    <tr style=\"text-align: right;\">\n",
       "      <th></th>\n",
       "      <th>user_id</th>\n",
       "      <th>month</th>\n",
       "      <th>tariff</th>\n",
       "      <th>count</th>\n",
       "      <th>sum</th>\n",
       "      <th>id</th>\n",
       "      <th>mb_used</th>\n",
       "    </tr>\n",
       "  </thead>\n",
       "  <tbody>\n",
       "    <tr>\n",
       "      <th>0</th>\n",
       "      <td>1000</td>\n",
       "      <td>2018-05-01</td>\n",
       "      <td>ultra</td>\n",
       "      <td>22.0</td>\n",
       "      <td>159.0</td>\n",
       "      <td>22.0</td>\n",
       "      <td>2253.489990</td>\n",
       "    </tr>\n",
       "    <tr>\n",
       "      <th>1</th>\n",
       "      <td>1000</td>\n",
       "      <td>2018-06-01</td>\n",
       "      <td>ultra</td>\n",
       "      <td>43.0</td>\n",
       "      <td>172.0</td>\n",
       "      <td>60.0</td>\n",
       "      <td>23233.769531</td>\n",
       "    </tr>\n",
       "    <tr>\n",
       "      <th>2</th>\n",
       "      <td>1000</td>\n",
       "      <td>2018-07-01</td>\n",
       "      <td>ultra</td>\n",
       "      <td>47.0</td>\n",
       "      <td>340.0</td>\n",
       "      <td>75.0</td>\n",
       "      <td>14003.639648</td>\n",
       "    </tr>\n",
       "    <tr>\n",
       "      <th>3</th>\n",
       "      <td>1000</td>\n",
       "      <td>2018-08-01</td>\n",
       "      <td>ultra</td>\n",
       "      <td>52.0</td>\n",
       "      <td>408.0</td>\n",
       "      <td>81.0</td>\n",
       "      <td>14055.929688</td>\n",
       "    </tr>\n",
       "    <tr>\n",
       "      <th>4</th>\n",
       "      <td>1000</td>\n",
       "      <td>2018-09-01</td>\n",
       "      <td>ultra</td>\n",
       "      <td>58.0</td>\n",
       "      <td>466.0</td>\n",
       "      <td>57.0</td>\n",
       "      <td>14568.910156</td>\n",
       "    </tr>\n",
       "    <tr>\n",
       "      <th>...</th>\n",
       "      <td>...</td>\n",
       "      <td>...</td>\n",
       "      <td>...</td>\n",
       "      <td>...</td>\n",
       "      <td>...</td>\n",
       "      <td>...</td>\n",
       "      <td>...</td>\n",
       "    </tr>\n",
       "    <tr>\n",
       "      <th>3211</th>\n",
       "      <td>1489</td>\n",
       "      <td>2018-09-01</td>\n",
       "      <td>smart</td>\n",
       "      <td>NaN</td>\n",
       "      <td>NaN</td>\n",
       "      <td>32.0</td>\n",
       "      <td>17206.300781</td>\n",
       "    </tr>\n",
       "    <tr>\n",
       "      <th>3212</th>\n",
       "      <td>1489</td>\n",
       "      <td>2018-10-01</td>\n",
       "      <td>smart</td>\n",
       "      <td>NaN</td>\n",
       "      <td>NaN</td>\n",
       "      <td>21.0</td>\n",
       "      <td>19559.439453</td>\n",
       "    </tr>\n",
       "    <tr>\n",
       "      <th>3213</th>\n",
       "      <td>1489</td>\n",
       "      <td>2018-11-01</td>\n",
       "      <td>smart</td>\n",
       "      <td>NaN</td>\n",
       "      <td>NaN</td>\n",
       "      <td>20.0</td>\n",
       "      <td>17491.560547</td>\n",
       "    </tr>\n",
       "    <tr>\n",
       "      <th>3214</th>\n",
       "      <td>1489</td>\n",
       "      <td>2018-12-01</td>\n",
       "      <td>smart</td>\n",
       "      <td>NaN</td>\n",
       "      <td>NaN</td>\n",
       "      <td>35.0</td>\n",
       "      <td>17322.509766</td>\n",
       "    </tr>\n",
       "    <tr>\n",
       "      <th>3215</th>\n",
       "      <td>1476</td>\n",
       "      <td>2018-04-01</td>\n",
       "      <td>ultra</td>\n",
       "      <td>NaN</td>\n",
       "      <td>NaN</td>\n",
       "      <td>NaN</td>\n",
       "      <td>530.780029</td>\n",
       "    </tr>\n",
       "  </tbody>\n",
       "</table>\n",
       "<p>3216 rows × 7 columns</p>\n",
       "</div>"
      ],
      "text/plain": [
       "     user_id      month tariff  count    sum    id       mb_used\n",
       "0       1000 2018-05-01  ultra   22.0  159.0  22.0   2253.489990\n",
       "1       1000 2018-06-01  ultra   43.0  172.0  60.0  23233.769531\n",
       "2       1000 2018-07-01  ultra   47.0  340.0  75.0  14003.639648\n",
       "3       1000 2018-08-01  ultra   52.0  408.0  81.0  14055.929688\n",
       "4       1000 2018-09-01  ultra   58.0  466.0  57.0  14568.910156\n",
       "...      ...        ...    ...    ...    ...   ...           ...\n",
       "3211    1489 2018-09-01  smart    NaN    NaN  32.0  17206.300781\n",
       "3212    1489 2018-10-01  smart    NaN    NaN  21.0  19559.439453\n",
       "3213    1489 2018-11-01  smart    NaN    NaN  20.0  17491.560547\n",
       "3214    1489 2018-12-01  smart    NaN    NaN  35.0  17322.509766\n",
       "3215    1476 2018-04-01  ultra    NaN    NaN   NaN    530.780029\n",
       "\n",
       "[3216 rows x 7 columns]"
      ]
     },
     "execution_count": 25,
     "metadata": {},
     "output_type": "execute_result"
    }
   ],
   "source": [
    "# джойним 3 таблицы, звонки, смс, интернет\n",
    "df_revenue = (df_call_group\n",
    "              .merge(df_sms_group, how='outer', on=['user_id', 'month', 'tariff'])\n",
    "              .merge(df_internet_group, how='outer', on=['user_id', 'month', 'tariff'])\n",
    "              )\n",
    "df_revenue"
   ]
  },
  {
   "cell_type": "code",
   "execution_count": 26,
   "id": "ef2b60ec",
   "metadata": {},
   "outputs": [],
   "source": [
    "# переименуем колонки\n",
    "df_revenue.columns = ['user_id', 'month', 'tariff',\n",
    "                      'count_call', 'min', 'sms', 'mb_used']"
   ]
  },
  {
   "cell_type": "code",
   "execution_count": 27,
   "id": "bfe5129b",
   "metadata": {},
   "outputs": [],
   "source": [
    "# в нужный тип\n",
    "df_revenue['count_call'] = df_revenue['count_call'].astype('Int64')\n",
    "df_revenue['min'] = df_revenue['min'].astype('Int64')\n",
    "df_revenue['sms'] = df_revenue['sms'].astype('Int64')"
   ]
  },
  {
   "cell_type": "code",
   "execution_count": 28,
   "id": "328842ff",
   "metadata": {
    "scrolled": true
   },
   "outputs": [
    {
     "data": {
      "text/html": [
       "<div>\n",
       "<style scoped>\n",
       "    .dataframe tbody tr th:only-of-type {\n",
       "        vertical-align: middle;\n",
       "    }\n",
       "\n",
       "    .dataframe tbody tr th {\n",
       "        vertical-align: top;\n",
       "    }\n",
       "\n",
       "    .dataframe thead th {\n",
       "        text-align: right;\n",
       "    }\n",
       "</style>\n",
       "<table border=\"1\" class=\"dataframe\">\n",
       "  <thead>\n",
       "    <tr style=\"text-align: right;\">\n",
       "      <th></th>\n",
       "      <th>user_id</th>\n",
       "      <th>month</th>\n",
       "      <th>tariff</th>\n",
       "      <th>count_call</th>\n",
       "      <th>min</th>\n",
       "      <th>sms</th>\n",
       "      <th>mb_used</th>\n",
       "    </tr>\n",
       "  </thead>\n",
       "  <tbody>\n",
       "    <tr>\n",
       "      <th>0</th>\n",
       "      <td>1001</td>\n",
       "      <td>2018-11-01</td>\n",
       "      <td>smart</td>\n",
       "      <td>59</td>\n",
       "      <td>430</td>\n",
       "      <td>&lt;NA&gt;</td>\n",
       "      <td>18429.339844</td>\n",
       "    </tr>\n",
       "    <tr>\n",
       "      <th>1</th>\n",
       "      <td>1001</td>\n",
       "      <td>2018-12-01</td>\n",
       "      <td>smart</td>\n",
       "      <td>63</td>\n",
       "      <td>414</td>\n",
       "      <td>&lt;NA&gt;</td>\n",
       "      <td>14036.660156</td>\n",
       "    </tr>\n",
       "    <tr>\n",
       "      <th>2</th>\n",
       "      <td>1002</td>\n",
       "      <td>2018-06-01</td>\n",
       "      <td>smart</td>\n",
       "      <td>15</td>\n",
       "      <td>117</td>\n",
       "      <td>4</td>\n",
       "      <td>10856.820312</td>\n",
       "    </tr>\n",
       "    <tr>\n",
       "      <th>3</th>\n",
       "      <td>1002</td>\n",
       "      <td>2018-07-01</td>\n",
       "      <td>smart</td>\n",
       "      <td>26</td>\n",
       "      <td>214</td>\n",
       "      <td>11</td>\n",
       "      <td>17580.099609</td>\n",
       "    </tr>\n",
       "    <tr>\n",
       "      <th>4</th>\n",
       "      <td>1002</td>\n",
       "      <td>2018-08-01</td>\n",
       "      <td>smart</td>\n",
       "      <td>42</td>\n",
       "      <td>289</td>\n",
       "      <td>13</td>\n",
       "      <td>20319.259766</td>\n",
       "    </tr>\n",
       "  </tbody>\n",
       "</table>\n",
       "</div>"
      ],
      "text/plain": [
       "  user_id      month tariff  count_call  min   sms       mb_used\n",
       "0    1001 2018-11-01  smart          59  430  <NA>  18429.339844\n",
       "1    1001 2018-12-01  smart          63  414  <NA>  14036.660156\n",
       "2    1002 2018-06-01  smart          15  117     4  10856.820312\n",
       "3    1002 2018-07-01  smart          26  214    11  17580.099609\n",
       "4    1002 2018-08-01  smart          42  289    13  20319.259766"
      ]
     },
     "execution_count": 28,
     "metadata": {},
     "output_type": "execute_result"
    }
   ],
   "source": [
    "# фильтруем по тарифу\n",
    "smart = df_revenue[df_revenue['tariff'] == 'smart'].reset_index(drop=True)\n",
    "smart.head()"
   ]
  },
  {
   "cell_type": "code",
   "execution_count": 29,
   "id": "2c9b23a0",
   "metadata": {},
   "outputs": [],
   "source": [
    "# запоним пропуски\n",
    "smart = smart.fillna(0)"
   ]
  },
  {
   "cell_type": "code",
   "execution_count": 30,
   "id": "a831f3b1",
   "metadata": {},
   "outputs": [],
   "source": [
    "# считаем стоимость звонков\n",
    "smart['revenue_min'] = smart['min']\n",
    "smart['revenue_min'] = smart['revenue_min'].where(smart['min'] > 500, 0)\n",
    "smart['revenue_min'] = smart['revenue_min'].where(\n",
    "    smart['min'] < 500, (smart['min'] - 500) * 3)"
   ]
  },
  {
   "cell_type": "code",
   "execution_count": 31,
   "id": "da491bba",
   "metadata": {},
   "outputs": [],
   "source": [
    "# считаем стоимость смс\n",
    "smart['revenue_sms'] = smart['sms']\n",
    "smart['revenue_sms'] = smart['revenue_sms'].where(smart['sms'] > 50, 0)\n",
    "smart['revenue_sms'] = smart['revenue_sms'].where(\n",
    "    smart['sms'] < 50, (smart['sms'] - 50) * 3)"
   ]
  },
  {
   "cell_type": "code",
   "execution_count": 32,
   "id": "f35c2571",
   "metadata": {},
   "outputs": [],
   "source": [
    "# считаем стоимость интернета\n",
    "smart['revenue_mb'] = smart['mb_used']\n",
    "smart['revenue_mb'] = smart['revenue_mb'].where(smart['mb_used'] > 15360, 0)\n",
    "smart['revenue_mb'] = smart['revenue_mb'].where(\n",
    "    smart['mb_used'] < 15360, ((smart['mb_used'] - 15360) / 1024).apply(np.ceil) * 200)"
   ]
  },
  {
   "cell_type": "code",
   "execution_count": 33,
   "id": "63cf986f",
   "metadata": {},
   "outputs": [],
   "source": [
    "# выручка для тарифа smart\n",
    "smart['total'] = smart['revenue_min'] + \\\n",
    "    smart['revenue_sms'] + smart['revenue_mb'] + 550"
   ]
  },
  {
   "cell_type": "code",
   "execution_count": 34,
   "id": "28fd7de1",
   "metadata": {},
   "outputs": [
    {
     "data": {
      "text/html": [
       "<div>\n",
       "<style scoped>\n",
       "    .dataframe tbody tr th:only-of-type {\n",
       "        vertical-align: middle;\n",
       "    }\n",
       "\n",
       "    .dataframe tbody tr th {\n",
       "        vertical-align: top;\n",
       "    }\n",
       "\n",
       "    .dataframe thead th {\n",
       "        text-align: right;\n",
       "    }\n",
       "</style>\n",
       "<table border=\"1\" class=\"dataframe\">\n",
       "  <thead>\n",
       "    <tr style=\"text-align: right;\">\n",
       "      <th></th>\n",
       "      <th>user_id</th>\n",
       "      <th>month</th>\n",
       "      <th>total</th>\n",
       "    </tr>\n",
       "  </thead>\n",
       "  <tbody>\n",
       "    <tr>\n",
       "      <th>0</th>\n",
       "      <td>1001</td>\n",
       "      <td>2018-11-01</td>\n",
       "      <td>1150.0</td>\n",
       "    </tr>\n",
       "    <tr>\n",
       "      <th>1</th>\n",
       "      <td>1001</td>\n",
       "      <td>2018-12-01</td>\n",
       "      <td>550.0</td>\n",
       "    </tr>\n",
       "    <tr>\n",
       "      <th>2</th>\n",
       "      <td>1002</td>\n",
       "      <td>2018-06-01</td>\n",
       "      <td>550.0</td>\n",
       "    </tr>\n",
       "    <tr>\n",
       "      <th>3</th>\n",
       "      <td>1002</td>\n",
       "      <td>2018-07-01</td>\n",
       "      <td>1150.0</td>\n",
       "    </tr>\n",
       "    <tr>\n",
       "      <th>4</th>\n",
       "      <td>1002</td>\n",
       "      <td>2018-08-01</td>\n",
       "      <td>1550.0</td>\n",
       "    </tr>\n",
       "  </tbody>\n",
       "</table>\n",
       "</div>"
      ],
      "text/plain": [
       "  user_id      month   total\n",
       "0    1001 2018-11-01  1150.0\n",
       "1    1001 2018-12-01   550.0\n",
       "2    1002 2018-06-01   550.0\n",
       "3    1002 2018-07-01  1150.0\n",
       "4    1002 2018-08-01  1550.0"
      ]
     },
     "execution_count": 34,
     "metadata": {},
     "output_type": "execute_result"
    }
   ],
   "source": [
    "# финальная таблица по тарифу\n",
    "smart[['user_id', 'month', 'total']].head()"
   ]
  },
  {
   "cell_type": "code",
   "execution_count": 35,
   "id": "bb94be8c",
   "metadata": {},
   "outputs": [
    {
     "data": {
      "text/html": [
       "<div>\n",
       "<style scoped>\n",
       "    .dataframe tbody tr th:only-of-type {\n",
       "        vertical-align: middle;\n",
       "    }\n",
       "\n",
       "    .dataframe tbody tr th {\n",
       "        vertical-align: top;\n",
       "    }\n",
       "\n",
       "    .dataframe thead th {\n",
       "        text-align: right;\n",
       "    }\n",
       "</style>\n",
       "<table border=\"1\" class=\"dataframe\">\n",
       "  <thead>\n",
       "    <tr style=\"text-align: right;\">\n",
       "      <th></th>\n",
       "      <th>user_id</th>\n",
       "      <th>month</th>\n",
       "      <th>tariff</th>\n",
       "      <th>count_call</th>\n",
       "      <th>min</th>\n",
       "      <th>sms</th>\n",
       "      <th>mb_used</th>\n",
       "    </tr>\n",
       "  </thead>\n",
       "  <tbody>\n",
       "    <tr>\n",
       "      <th>0</th>\n",
       "      <td>1000</td>\n",
       "      <td>2018-05-01</td>\n",
       "      <td>ultra</td>\n",
       "      <td>22</td>\n",
       "      <td>159</td>\n",
       "      <td>22</td>\n",
       "      <td>2253.489990</td>\n",
       "    </tr>\n",
       "    <tr>\n",
       "      <th>1</th>\n",
       "      <td>1000</td>\n",
       "      <td>2018-06-01</td>\n",
       "      <td>ultra</td>\n",
       "      <td>43</td>\n",
       "      <td>172</td>\n",
       "      <td>60</td>\n",
       "      <td>23233.769531</td>\n",
       "    </tr>\n",
       "    <tr>\n",
       "      <th>2</th>\n",
       "      <td>1000</td>\n",
       "      <td>2018-07-01</td>\n",
       "      <td>ultra</td>\n",
       "      <td>47</td>\n",
       "      <td>340</td>\n",
       "      <td>75</td>\n",
       "      <td>14003.639648</td>\n",
       "    </tr>\n",
       "    <tr>\n",
       "      <th>3</th>\n",
       "      <td>1000</td>\n",
       "      <td>2018-08-01</td>\n",
       "      <td>ultra</td>\n",
       "      <td>52</td>\n",
       "      <td>408</td>\n",
       "      <td>81</td>\n",
       "      <td>14055.929688</td>\n",
       "    </tr>\n",
       "    <tr>\n",
       "      <th>4</th>\n",
       "      <td>1000</td>\n",
       "      <td>2018-09-01</td>\n",
       "      <td>ultra</td>\n",
       "      <td>58</td>\n",
       "      <td>466</td>\n",
       "      <td>57</td>\n",
       "      <td>14568.910156</td>\n",
       "    </tr>\n",
       "  </tbody>\n",
       "</table>\n",
       "</div>"
      ],
      "text/plain": [
       "  user_id      month tariff  count_call  min  sms       mb_used\n",
       "0    1000 2018-05-01  ultra          22  159   22   2253.489990\n",
       "1    1000 2018-06-01  ultra          43  172   60  23233.769531\n",
       "2    1000 2018-07-01  ultra          47  340   75  14003.639648\n",
       "3    1000 2018-08-01  ultra          52  408   81  14055.929688\n",
       "4    1000 2018-09-01  ultra          58  466   57  14568.910156"
      ]
     },
     "execution_count": 35,
     "metadata": {},
     "output_type": "execute_result"
    }
   ],
   "source": [
    "# фильтруем по тарифу\n",
    "ultra = df_revenue.loc[df_revenue['tariff'] == 'ultra'].reset_index(drop=True)\n",
    "ultra.head()"
   ]
  },
  {
   "cell_type": "code",
   "execution_count": 36,
   "id": "80f60177",
   "metadata": {},
   "outputs": [],
   "source": [
    "# заполним пропуски\n",
    "ultra = ultra.fillna(0)"
   ]
  },
  {
   "cell_type": "code",
   "execution_count": 37,
   "id": "f6027e06",
   "metadata": {},
   "outputs": [],
   "source": [
    "# считаем стоимость звонков\n",
    "ultra['revenue_min'] = ultra['min']\n",
    "ultra['revenue_min'] = ultra['revenue_min'].where(ultra['min'] > 3000, 0)\n",
    "ultra['revenue_min'] = ultra['revenue_min'].where(\n",
    "    ultra['min'] < 3000, (ultra['min'] - 3000) * 1)"
   ]
  },
  {
   "cell_type": "code",
   "execution_count": 38,
   "id": "392237da",
   "metadata": {},
   "outputs": [],
   "source": [
    "# считаем стоимость смс\n",
    "ultra['revenue_sms'] = ultra['sms']\n",
    "ultra['revenue_sms'] = ultra['revenue_sms'].where(ultra['sms'] > 1000, 0)\n",
    "ultra['revenue_sms'] = ultra['revenue_sms'].where(\n",
    "    ultra['sms'] < 1000, (ultra['sms'] - 1000) * 1)"
   ]
  },
  {
   "cell_type": "markdown",
   "id": "d0a875d0",
   "metadata": {},
   "source": [
    "<div class=\"alert-info\">\n",
    "*********"
   ]
  },
  {
   "cell_type": "code",
   "execution_count": 39,
   "id": "cbc3372e",
   "metadata": {},
   "outputs": [],
   "source": [
    "# считаем стоимость интернета\n",
    "ultra['revenue_mb'] = ultra['mb_used']\n",
    "ultra['revenue_mb'] = ultra['revenue_mb'].where(ultra['mb_used'] > 30720, 0)\n",
    "ultra['revenue_mb'] = ultra['revenue_mb'].where(\n",
    "    ultra['mb_used'] < 30720, ((ultra['mb_used'] - 30720) / 1024).apply(np.ceil) * 150)"
   ]
  },
  {
   "cell_type": "markdown",
   "id": "9ba031c4",
   "metadata": {},
   "source": [
    "<div class=\"alert-info\">\n",
    "*********"
   ]
  },
  {
   "cell_type": "code",
   "execution_count": 40,
   "id": "4f724002",
   "metadata": {},
   "outputs": [],
   "source": [
    "# считаем выручку тарифа ultra\n",
    "ultra['total'] = ultra['revenue_min'] + \\\n",
    "    ultra['revenue_sms'] + ultra['revenue_mb'] + 1950"
   ]
  },
  {
   "cell_type": "code",
   "execution_count": 41,
   "id": "b205e6ae",
   "metadata": {},
   "outputs": [
    {
     "data": {
      "text/html": [
       "<div>\n",
       "<style scoped>\n",
       "    .dataframe tbody tr th:only-of-type {\n",
       "        vertical-align: middle;\n",
       "    }\n",
       "\n",
       "    .dataframe tbody tr th {\n",
       "        vertical-align: top;\n",
       "    }\n",
       "\n",
       "    .dataframe thead th {\n",
       "        text-align: right;\n",
       "    }\n",
       "</style>\n",
       "<table border=\"1\" class=\"dataframe\">\n",
       "  <thead>\n",
       "    <tr style=\"text-align: right;\">\n",
       "      <th></th>\n",
       "      <th>user_id</th>\n",
       "      <th>month</th>\n",
       "      <th>total</th>\n",
       "    </tr>\n",
       "  </thead>\n",
       "  <tbody>\n",
       "    <tr>\n",
       "      <th>0</th>\n",
       "      <td>1000</td>\n",
       "      <td>2018-05-01</td>\n",
       "      <td>1950.0</td>\n",
       "    </tr>\n",
       "    <tr>\n",
       "      <th>1</th>\n",
       "      <td>1000</td>\n",
       "      <td>2018-06-01</td>\n",
       "      <td>1950.0</td>\n",
       "    </tr>\n",
       "    <tr>\n",
       "      <th>2</th>\n",
       "      <td>1000</td>\n",
       "      <td>2018-07-01</td>\n",
       "      <td>1950.0</td>\n",
       "    </tr>\n",
       "    <tr>\n",
       "      <th>3</th>\n",
       "      <td>1000</td>\n",
       "      <td>2018-08-01</td>\n",
       "      <td>1950.0</td>\n",
       "    </tr>\n",
       "    <tr>\n",
       "      <th>4</th>\n",
       "      <td>1000</td>\n",
       "      <td>2018-09-01</td>\n",
       "      <td>1950.0</td>\n",
       "    </tr>\n",
       "  </tbody>\n",
       "</table>\n",
       "</div>"
      ],
      "text/plain": [
       "  user_id      month   total\n",
       "0    1000 2018-05-01  1950.0\n",
       "1    1000 2018-06-01  1950.0\n",
       "2    1000 2018-07-01  1950.0\n",
       "3    1000 2018-08-01  1950.0\n",
       "4    1000 2018-09-01  1950.0"
      ]
     },
     "execution_count": 41,
     "metadata": {},
     "output_type": "execute_result"
    }
   ],
   "source": [
    "# финальная таблица по тарифу\n",
    "ultra[['user_id', 'month', 'total']].head()"
   ]
  },
  {
   "cell_type": "markdown",
   "id": "e0d5321e",
   "metadata": {},
   "source": [
    "## Анализ данных, гистограммы, выводы"
   ]
  },
  {
   "cell_type": "markdown",
   "id": "a2ee5062",
   "metadata": {},
   "source": [
    "### Сколько минут разговора требуется пользователям каждого тарифа в месяц"
   ]
  },
  {
   "cell_type": "code",
   "execution_count": 42,
   "id": "8a6674b2",
   "metadata": {},
   "outputs": [
    {
     "data": {
      "text/html": [
       "<div>\n",
       "<style scoped>\n",
       "    .dataframe tbody tr th:only-of-type {\n",
       "        vertical-align: middle;\n",
       "    }\n",
       "\n",
       "    .dataframe tbody tr th {\n",
       "        vertical-align: top;\n",
       "    }\n",
       "\n",
       "    .dataframe thead th {\n",
       "        text-align: right;\n",
       "    }\n",
       "</style>\n",
       "<table border=\"1\" class=\"dataframe\">\n",
       "  <thead>\n",
       "    <tr style=\"text-align: right;\">\n",
       "      <th></th>\n",
       "      <th>month</th>\n",
       "      <th>sum</th>\n",
       "      <th>mean</th>\n",
       "      <th>std</th>\n",
       "      <th>var</th>\n",
       "      <th>median</th>\n",
       "    </tr>\n",
       "  </thead>\n",
       "  <tbody>\n",
       "    <tr>\n",
       "      <th>0</th>\n",
       "      <td>2018-01-01</td>\n",
       "      <td>6931</td>\n",
       "      <td>203.852941</td>\n",
       "      <td>154.231454</td>\n",
       "      <td>23787.341355</td>\n",
       "      <td>162.5</td>\n",
       "    </tr>\n",
       "    <tr>\n",
       "      <th>1</th>\n",
       "      <td>2018-02-01</td>\n",
       "      <td>17324</td>\n",
       "      <td>298.689655</td>\n",
       "      <td>190.820041</td>\n",
       "      <td>36412.287961</td>\n",
       "      <td>258.0</td>\n",
       "    </tr>\n",
       "    <tr>\n",
       "      <th>2</th>\n",
       "      <td>2018-03-01</td>\n",
       "      <td>30034</td>\n",
       "      <td>390.051948</td>\n",
       "      <td>191.893604</td>\n",
       "      <td>36823.155161</td>\n",
       "      <td>409.0</td>\n",
       "    </tr>\n",
       "    <tr>\n",
       "      <th>3</th>\n",
       "      <td>2018-04-01</td>\n",
       "      <td>41119</td>\n",
       "      <td>367.133929</td>\n",
       "      <td>186.489161</td>\n",
       "      <td>34778.207127</td>\n",
       "      <td>368.5</td>\n",
       "    </tr>\n",
       "    <tr>\n",
       "      <th>4</th>\n",
       "      <td>2018-05-01</td>\n",
       "      <td>54618</td>\n",
       "      <td>387.361702</td>\n",
       "      <td>186.601343</td>\n",
       "      <td>34820.061094</td>\n",
       "      <td>433.0</td>\n",
       "    </tr>\n",
       "  </tbody>\n",
       "</table>\n",
       "</div>"
      ],
      "text/plain": [
       "       month    sum        mean         std           var  median\n",
       "0 2018-01-01   6931  203.852941  154.231454  23787.341355   162.5\n",
       "1 2018-02-01  17324  298.689655  190.820041  36412.287961   258.0\n",
       "2 2018-03-01  30034  390.051948  191.893604  36823.155161   409.0\n",
       "3 2018-04-01  41119  367.133929  186.489161  34778.207127   368.5\n",
       "4 2018-05-01  54618  387.361702  186.601343  34820.061094   433.0"
      ]
     },
     "execution_count": 42,
     "metadata": {},
     "output_type": "execute_result"
    }
   ],
   "source": [
    "# расчет (среднее, ст. отклонение, дисперсия) для тарифа smart\n",
    "smart_call = smart.groupby('month')['min'].agg(\n",
    "    ['sum', 'mean', 'std', 'var', 'median']).reset_index()\n",
    "smart_call.head()"
   ]
  },
  {
   "cell_type": "code",
   "execution_count": 43,
   "id": "526a8afe",
   "metadata": {},
   "outputs": [
    {
     "data": {
      "image/png": "[encoded data removed]",
      "text/plain": [
       "<Figure size 432x288 with 1 Axes>"
      ]
     },
     "metadata": {
      "needs_background": "light"
     },
     "output_type": "display_data"
    }
   ],
   "source": [
    "# сколько минут в среднем требуется тариф smart\n",
    "smart_call.plot(x='month', y='mean', label=\"Smart\", grid=True, ylim=(0, 700))\n",
    "plt.axhline(y=500, color='r', linestyle='-')\n",
    "plt.show()"
   ]
  },
  {
   "cell_type": "markdown",
   "id": "711075cf",
   "metadata": {},
   "source": [
    "Вывод: \n",
    "- в среднем пользователям тарифа smart требуется около 450 минут (90% от лимита), что не превышает лимит. \n",
    "- рост среднего времени разговора каждый месяц. \n",
    "- можем предположить что в следующем году, пакета бесплатных минут будет не достаточно."
   ]
  },
  {
   "cell_type": "code",
   "execution_count": 44,
   "id": "6663f399",
   "metadata": {},
   "outputs": [
    {
     "data": {
      "text/html": [
       "<div>\n",
       "<style scoped>\n",
       "    .dataframe tbody tr th:only-of-type {\n",
       "        vertical-align: middle;\n",
       "    }\n",
       "\n",
       "    .dataframe tbody tr th {\n",
       "        vertical-align: top;\n",
       "    }\n",
       "\n",
       "    .dataframe thead th {\n",
       "        text-align: right;\n",
       "    }\n",
       "</style>\n",
       "<table border=\"1\" class=\"dataframe\">\n",
       "  <thead>\n",
       "    <tr style=\"text-align: right;\">\n",
       "      <th></th>\n",
       "      <th>month</th>\n",
       "      <th>count</th>\n",
       "      <th>mean</th>\n",
       "      <th>std</th>\n",
       "      <th>var</th>\n",
       "    </tr>\n",
       "  </thead>\n",
       "  <tbody>\n",
       "    <tr>\n",
       "      <th>0</th>\n",
       "      <td>2018-01-01</td>\n",
       "      <td>9</td>\n",
       "      <td>428.111111</td>\n",
       "      <td>269.757968</td>\n",
       "      <td>72769.361111</td>\n",
       "    </tr>\n",
       "    <tr>\n",
       "      <th>1</th>\n",
       "      <td>2018-02-01</td>\n",
       "      <td>24</td>\n",
       "      <td>297.125</td>\n",
       "      <td>296.512528</td>\n",
       "      <td>87919.679348</td>\n",
       "    </tr>\n",
       "    <tr>\n",
       "      <th>2</th>\n",
       "      <td>2018-03-01</td>\n",
       "      <td>37</td>\n",
       "      <td>489.648649</td>\n",
       "      <td>333.743765</td>\n",
       "      <td>111384.900901</td>\n",
       "    </tr>\n",
       "    <tr>\n",
       "      <th>3</th>\n",
       "      <td>2018-04-01</td>\n",
       "      <td>55</td>\n",
       "      <td>458.018182</td>\n",
       "      <td>267.682405</td>\n",
       "      <td>71653.870034</td>\n",
       "    </tr>\n",
       "    <tr>\n",
       "      <th>4</th>\n",
       "      <td>2018-05-01</td>\n",
       "      <td>67</td>\n",
       "      <td>510.328358</td>\n",
       "      <td>289.603511</td>\n",
       "      <td>83870.193578</td>\n",
       "    </tr>\n",
       "  </tbody>\n",
       "</table>\n",
       "</div>"
      ],
      "text/plain": [
       "       month  count        mean         std            var\n",
       "0 2018-01-01      9  428.111111  269.757968   72769.361111\n",
       "1 2018-02-01     24     297.125  296.512528   87919.679348\n",
       "2 2018-03-01     37  489.648649  333.743765  111384.900901\n",
       "3 2018-04-01     55  458.018182  267.682405   71653.870034\n",
       "4 2018-05-01     67  510.328358  289.603511   83870.193578"
      ]
     },
     "execution_count": 44,
     "metadata": {},
     "output_type": "execute_result"
    }
   ],
   "source": [
    "# расчет (среднее, ст. отклонение, дисперсия) для тарифа ultra\n",
    "ultra_call = ultra.groupby('month')['min'].agg(\n",
    "    ['count', 'mean', 'std', 'var']).reset_index()\n",
    "ultra_call.head()"
   ]
  },
  {
   "cell_type": "code",
   "execution_count": 45,
   "id": "10837004",
   "metadata": {},
   "outputs": [
    {
     "data": {
      "image/png": "[encoded data removed]",
      "text/plain": [
       "<Figure size 432x288 with 1 Axes>"
      ]
     },
     "metadata": {
      "needs_background": "light"
     },
     "output_type": "display_data"
    }
   ],
   "source": [
    "# сколько минут в среднем требуется тариф ultra\n",
    "ultra_call.plot(x='month', y='mean', label=\"Ultra\", grid=True, ylim=(0, 3200))\n",
    "plt.axhline(y=3000, color='r', linestyle='-')\n",
    "plt.show()"
   ]
  },
  {
   "cell_type": "markdown",
   "id": "5719fa54",
   "metadata": {},
   "source": [
    "Вывод: \n",
    "- в среднем пользователям тарифа ultra требуется около 550 (19% от лимита) минут.\n",
    "- рост среднего времени разговора каждый месяц. "
   ]
  },
  {
   "cell_type": "code",
   "execution_count": 46,
   "id": "2b2aca38",
   "metadata": {},
   "outputs": [
    {
     "data": {
      "image/png": "[encoded data removed]",
      "text/plain": [
       "<Figure size 720x360 with 1 Axes>"
      ]
     },
     "metadata": {
      "needs_background": "light"
     },
     "output_type": "display_data"
    }
   ],
   "source": [
    "# среднее время разговора между тарифами\n",
    "ax = smart_call.plot(x='month', y='mean', label=\"Smart\",\n",
    "                     title='Средняя длительность звонков в минутах', figsize=(10, 5))\n",
    "ultra_call.plot(x='month', y='mean', label=\"Ultra\", ax=ax, grid=True, ylim=(0))\n",
    "plt.show()"
   ]
  },
  {
   "cell_type": "markdown",
   "id": "dc2cf7dc",
   "metadata": {},
   "source": [
    "Вывод:\n",
    "- пользователи тарифа ultra говорят больше, в среднем на 100 минут\n",
    "- в тарифе smart используется 90% от лимита, тогда как в ultra 19% от лимита"
   ]
  },
  {
   "cell_type": "code",
   "execution_count": 47,
   "id": "91316bca",
   "metadata": {},
   "outputs": [
    {
     "data": {
      "image/png": "[encoded data removed]",
      "text/plain": [
       "<Figure size 1080x648 with 1 Axes>"
      ]
     },
     "metadata": {
      "needs_background": "light"
     },
     "output_type": "display_data"
    },
    {
     "name": "stdout",
     "output_type": "stream",
     "text": [
      "Среднее Smart: 418.0\n",
      "Среднее Ultra: 526.0\n",
      "Дисперсия Smart: 36265.12415310985\n",
      "Дисперсия Ultra: 100950.00623331098\n",
      "Стандартное отклонение Smart 190.4340414765959\n",
      "Стандартное отклонение Ultra 317.7263071155912\n"
     ]
    }
   ],
   "source": [
    "# гистограмма минут разговора каждого тарифа в месяц\n",
    "plt.figure(figsize=(15, 9))\n",
    "smart['min'].hist(bins=30, alpha=.5)\n",
    "ultra['min'].hist(bins=30, alpha=.5)\n",
    "\n",
    "plt.title('Длительность звонков')\n",
    "plt.legend(['Smart', 'Ultra'])\n",
    "plt.xlabel('Длительность звонков, мин')\n",
    "plt.show()\n",
    "\n",
    "print('Среднее Smart:', np.round(smart['min'].mean()))\n",
    "print('Среднее Ultra:', np.round(ultra['min'].mean()))\n",
    "print('Дисперсия Smart:', np.var(smart['min']))\n",
    "print('Дисперсия Ultra:', np.var(ultra['min']))\n",
    "print('Стандартное отклонение Smart', np.std(smart['min']))\n",
    "print('Стандартное отклонение Ultra', np.std(ultra['min']))"
   ]
  },
  {
   "cell_type": "markdown",
   "id": "dec5c37a",
   "metadata": {},
   "source": [
    "Вывод:\n",
    "- на графике видим, что те кто пользуется тарифом ULTRA чаще превышают порог в 1000 минут в месяц.\n",
    "- пользователей тарифа SMART намного больше."
   ]
  },
  {
   "cell_type": "markdown",
   "id": "b5939eb7",
   "metadata": {},
   "source": [
    "### Cколько сообщений требуется пользователям каждого тарифа в месяц"
   ]
  },
  {
   "cell_type": "code",
   "execution_count": 48,
   "id": "4623468f",
   "metadata": {},
   "outputs": [
    {
     "data": {
      "text/html": [
       "<div>\n",
       "<style scoped>\n",
       "    .dataframe tbody tr th:only-of-type {\n",
       "        vertical-align: middle;\n",
       "    }\n",
       "\n",
       "    .dataframe tbody tr th {\n",
       "        vertical-align: top;\n",
       "    }\n",
       "\n",
       "    .dataframe thead th {\n",
       "        text-align: right;\n",
       "    }\n",
       "</style>\n",
       "<table border=\"1\" class=\"dataframe\">\n",
       "  <thead>\n",
       "    <tr style=\"text-align: right;\">\n",
       "      <th></th>\n",
       "      <th>month</th>\n",
       "      <th>count</th>\n",
       "      <th>mean</th>\n",
       "      <th>std</th>\n",
       "      <th>var</th>\n",
       "    </tr>\n",
       "  </thead>\n",
       "  <tbody>\n",
       "    <tr>\n",
       "      <th>0</th>\n",
       "      <td>2018-01-01</td>\n",
       "      <td>34</td>\n",
       "      <td>18.235294</td>\n",
       "      <td>16.197753</td>\n",
       "      <td>262.367201</td>\n",
       "    </tr>\n",
       "    <tr>\n",
       "      <th>1</th>\n",
       "      <td>2018-02-01</td>\n",
       "      <td>58</td>\n",
       "      <td>24.086207</td>\n",
       "      <td>21.750809</td>\n",
       "      <td>473.097701</td>\n",
       "    </tr>\n",
       "    <tr>\n",
       "      <th>2</th>\n",
       "      <td>2018-03-01</td>\n",
       "      <td>77</td>\n",
       "      <td>31.857143</td>\n",
       "      <td>26.804710</td>\n",
       "      <td>718.492481</td>\n",
       "    </tr>\n",
       "    <tr>\n",
       "      <th>3</th>\n",
       "      <td>2018-04-01</td>\n",
       "      <td>112</td>\n",
       "      <td>30.741071</td>\n",
       "      <td>24.538532</td>\n",
       "      <td>602.139559</td>\n",
       "    </tr>\n",
       "    <tr>\n",
       "      <th>4</th>\n",
       "      <td>2018-05-01</td>\n",
       "      <td>141</td>\n",
       "      <td>33.77305</td>\n",
       "      <td>27.036845</td>\n",
       "      <td>730.990983</td>\n",
       "    </tr>\n",
       "  </tbody>\n",
       "</table>\n",
       "</div>"
      ],
      "text/plain": [
       "       month  count       mean        std         var\n",
       "0 2018-01-01     34  18.235294  16.197753  262.367201\n",
       "1 2018-02-01     58  24.086207  21.750809  473.097701\n",
       "2 2018-03-01     77  31.857143  26.804710  718.492481\n",
       "3 2018-04-01    112  30.741071  24.538532  602.139559\n",
       "4 2018-05-01    141   33.77305  27.036845  730.990983"
      ]
     },
     "execution_count": 48,
     "metadata": {},
     "output_type": "execute_result"
    }
   ],
   "source": [
    "# расчет смс (среднее, ст. отклонение, дисперсия) для тарифа smart\n",
    "smart_sms = smart.groupby('month')['sms'].agg(\n",
    "    ['count', 'mean', 'std', 'var']).reset_index()\n",
    "smart_sms.head()"
   ]
  },
  {
   "cell_type": "code",
   "execution_count": 49,
   "id": "70733ab7",
   "metadata": {},
   "outputs": [
    {
     "data": {
      "image/png": "[encoded data removed]",
      "text/plain": [
       "<Figure size 432x288 with 1 Axes>"
      ]
     },
     "metadata": {
      "needs_background": "light"
     },
     "output_type": "display_data"
    }
   ],
   "source": [
    "# сколько смс в среднем требуется тариф smart\n",
    "smart_sms.plot(x='month', y='mean', label=\"Smart\", grid=True, ylim=(0, 70))\n",
    "plt.axhline(y=50, color='r', linestyle='-')\n",
    "plt.show()"
   ]
  },
  {
   "cell_type": "markdown",
   "id": "db3523fa",
   "metadata": {},
   "source": [
    "Вывод:\n",
    "- в среднем используется 30 из 50 смс (70% от лимита)"
   ]
  },
  {
   "cell_type": "code",
   "execution_count": 50,
   "id": "293f372b",
   "metadata": {},
   "outputs": [
    {
     "data": {
      "text/html": [
       "<div>\n",
       "<style scoped>\n",
       "    .dataframe tbody tr th:only-of-type {\n",
       "        vertical-align: middle;\n",
       "    }\n",
       "\n",
       "    .dataframe tbody tr th {\n",
       "        vertical-align: top;\n",
       "    }\n",
       "\n",
       "    .dataframe thead th {\n",
       "        text-align: right;\n",
       "    }\n",
       "</style>\n",
       "<table border=\"1\" class=\"dataframe\">\n",
       "  <thead>\n",
       "    <tr style=\"text-align: right;\">\n",
       "      <th></th>\n",
       "      <th>month</th>\n",
       "      <th>count</th>\n",
       "      <th>mean</th>\n",
       "      <th>std</th>\n",
       "      <th>var</th>\n",
       "    </tr>\n",
       "  </thead>\n",
       "  <tbody>\n",
       "    <tr>\n",
       "      <th>0</th>\n",
       "      <td>2018-01-01</td>\n",
       "      <td>9</td>\n",
       "      <td>33.777778</td>\n",
       "      <td>30.670742</td>\n",
       "      <td>940.694444</td>\n",
       "    </tr>\n",
       "    <tr>\n",
       "      <th>1</th>\n",
       "      <td>2018-02-01</td>\n",
       "      <td>24</td>\n",
       "      <td>21.958333</td>\n",
       "      <td>26.773574</td>\n",
       "      <td>716.824275</td>\n",
       "    </tr>\n",
       "    <tr>\n",
       "      <th>2</th>\n",
       "      <td>2018-03-01</td>\n",
       "      <td>37</td>\n",
       "      <td>32.297297</td>\n",
       "      <td>41.621886</td>\n",
       "      <td>1732.381381</td>\n",
       "    </tr>\n",
       "    <tr>\n",
       "      <th>3</th>\n",
       "      <td>2018-04-01</td>\n",
       "      <td>55</td>\n",
       "      <td>31.563636</td>\n",
       "      <td>37.513831</td>\n",
       "      <td>1407.287542</td>\n",
       "    </tr>\n",
       "    <tr>\n",
       "      <th>4</th>\n",
       "      <td>2018-05-01</td>\n",
       "      <td>67</td>\n",
       "      <td>37.850746</td>\n",
       "      <td>40.306874</td>\n",
       "      <td>1624.644052</td>\n",
       "    </tr>\n",
       "  </tbody>\n",
       "</table>\n",
       "</div>"
      ],
      "text/plain": [
       "       month  count       mean        std          var\n",
       "0 2018-01-01      9  33.777778  30.670742   940.694444\n",
       "1 2018-02-01     24  21.958333  26.773574   716.824275\n",
       "2 2018-03-01     37  32.297297  41.621886  1732.381381\n",
       "3 2018-04-01     55  31.563636  37.513831  1407.287542\n",
       "4 2018-05-01     67  37.850746  40.306874  1624.644052"
      ]
     },
     "execution_count": 50,
     "metadata": {},
     "output_type": "execute_result"
    }
   ],
   "source": [
    "# расчет смс (среднее, ст. отклонение, дисперсия) для тарифа ultra\n",
    "ultra_sms = ultra.groupby('month')['sms'].agg(\n",
    "    ['count', 'mean', 'std', 'var']).reset_index()\n",
    "ultra_sms.head()"
   ]
  },
  {
   "cell_type": "code",
   "execution_count": 51,
   "id": "b2363c6d",
   "metadata": {},
   "outputs": [
    {
     "data": {
      "image/png": "[encoded data removed]",
      "text/plain": [
       "<Figure size 432x288 with 1 Axes>"
      ]
     },
     "metadata": {
      "needs_background": "light"
     },
     "output_type": "display_data"
    }
   ],
   "source": [
    "# сколько смс в среднем требуется тариф ultra\n",
    "ultra_sms.plot(x='month', y='mean', label=\"Ultra\", grid=True, ylim=(0, 1200))\n",
    "plt.axhline(y=1000, color='r', linestyle='-')\n",
    "plt.show()"
   ]
  },
  {
   "cell_type": "markdown",
   "id": "1f404575",
   "metadata": {},
   "source": [
    "Вывод:\n",
    "- в среднем 50 (5% от лимита) из 1000 смс в месяц\n",
    "- колличество смс растет каждый месяц "
   ]
  },
  {
   "cell_type": "code",
   "execution_count": 52,
   "id": "59c557d3",
   "metadata": {},
   "outputs": [
    {
     "data": {
      "image/png": "[encoded data removed]",
      "text/plain": [
       "<Figure size 1080x360 with 1 Axes>"
      ]
     },
     "metadata": {
      "needs_background": "light"
     },
     "output_type": "display_data"
    }
   ],
   "source": [
    "# сравнение тарифов\n",
    "ax = smart_sms.plot(x='month', y='mean', label=\"Smart\",\n",
    "                    title='Среднее количество сообщений', figsize=(15, 5))\n",
    "ultra_sms.plot(x='month', y='mean', label=\"Ultra_mean\",\n",
    "               ax=ax, grid=True, ylim=0)\n",
    "plt.show()"
   ]
  },
  {
   "cell_type": "markdown",
   "id": "2fa31c26",
   "metadata": {},
   "source": [
    "Вывод:\n",
    "- количество смс в тарифе ultra увеличивается каждый месяц\n",
    "- в тарифе smart количество смс практически не меняется"
   ]
  },
  {
   "cell_type": "code",
   "execution_count": 53,
   "id": "7dbaea5c",
   "metadata": {},
   "outputs": [
    {
     "data": {
      "image/png": "[encoded data removed]",
      "text/plain": [
       "<Figure size 1080x648 with 1 Axes>"
      ]
     },
     "metadata": {
      "needs_background": "light"
     },
     "output_type": "display_data"
    },
    {
     "name": "stdout",
     "output_type": "stream",
     "text": [
      "Среднее Smart: 33.0\n",
      "Среднее Ultra: 49.0\n",
      "Дисперсия Smart: 796.5978766916687\n",
      "Дисперсия Ultra: 2283.099557085197\n",
      "Стандартное отклонение Smart 28.224065559229214\n",
      "Стандартное отклонение Ultra 47.78179106192229\n"
     ]
    }
   ],
   "source": [
    "# гистограмма числа смс каждого тарифа в месяц\n",
    "plt.figure(figsize=(15, 9))\n",
    "smart['sms'].hist(bins=30, alpha=.5)\n",
    "ultra['sms'].hist(bins=30, alpha=.5)\n",
    "\n",
    "plt.title('Количество сообщений')\n",
    "plt.legend(['Smart', 'Ultra'])\n",
    "plt.xlabel('Количество сообщений, шт')\n",
    "plt.show()\n",
    "\n",
    "print('Среднее Smart:', np.round(smart['sms'].mean()))\n",
    "print('Среднее Ultra:', np.round(ultra['sms'].mean()))\n",
    "print('Дисперсия Smart:', np.var(smart['sms']))\n",
    "print('Дисперсия Ultra:', np.var(ultra['sms']))\n",
    "print('Стандартное отклонение Smart', np.std(smart['sms']))\n",
    "print('Стандартное отклонение Ultra', np.std(ultra['sms']))"
   ]
  },
  {
   "cell_type": "markdown",
   "id": "0a597ab8",
   "metadata": {},
   "source": [
    "Вывод:\n",
    "- часть пользователей тарифа SMART превышают лимит смс в месяц и отсылают более 50шт\n",
    "- в основном все пользователи трафа SMART отправляют не более 50смс\n",
    "- в тарифе ULTRA смс так же не сильно популярны, в основном не более 50 при лимите в 1000"
   ]
  },
  {
   "cell_type": "markdown",
   "id": "4b6b9931",
   "metadata": {},
   "source": [
    "### Какой объём интернет-трафика требуется пользователям каждого тарифа в месяц"
   ]
  },
  {
   "cell_type": "code",
   "execution_count": 54,
   "id": "b0f422a4",
   "metadata": {},
   "outputs": [
    {
     "data": {
      "text/html": [
       "<div>\n",
       "<style scoped>\n",
       "    .dataframe tbody tr th:only-of-type {\n",
       "        vertical-align: middle;\n",
       "    }\n",
       "\n",
       "    .dataframe tbody tr th {\n",
       "        vertical-align: top;\n",
       "    }\n",
       "\n",
       "    .dataframe thead th {\n",
       "        text-align: right;\n",
       "    }\n",
       "</style>\n",
       "<table border=\"1\" class=\"dataframe\">\n",
       "  <thead>\n",
       "    <tr style=\"text-align: right;\">\n",
       "      <th></th>\n",
       "      <th>month</th>\n",
       "      <th>count</th>\n",
       "      <th>mean</th>\n",
       "      <th>std</th>\n",
       "      <th>var</th>\n",
       "    </tr>\n",
       "  </thead>\n",
       "  <tbody>\n",
       "    <tr>\n",
       "      <th>0</th>\n",
       "      <td>2018-01-01</td>\n",
       "      <td>34</td>\n",
       "      <td>8513.717773</td>\n",
       "      <td>6444.680876</td>\n",
       "      <td>41533912.0</td>\n",
       "    </tr>\n",
       "    <tr>\n",
       "      <th>1</th>\n",
       "      <td>2018-02-01</td>\n",
       "      <td>58</td>\n",
       "      <td>11597.054688</td>\n",
       "      <td>6247.353765</td>\n",
       "      <td>39029428.0</td>\n",
       "    </tr>\n",
       "    <tr>\n",
       "      <th>2</th>\n",
       "      <td>2018-03-01</td>\n",
       "      <td>77</td>\n",
       "      <td>15104.159180</td>\n",
       "      <td>5828.237596</td>\n",
       "      <td>33968352.0</td>\n",
       "    </tr>\n",
       "    <tr>\n",
       "      <th>3</th>\n",
       "      <td>2018-04-01</td>\n",
       "      <td>112</td>\n",
       "      <td>13462.180664</td>\n",
       "      <td>5698.249058</td>\n",
       "      <td>32470042.0</td>\n",
       "    </tr>\n",
       "    <tr>\n",
       "      <th>4</th>\n",
       "      <td>2018-05-01</td>\n",
       "      <td>141</td>\n",
       "      <td>15805.184570</td>\n",
       "      <td>5978.231785</td>\n",
       "      <td>35739256.0</td>\n",
       "    </tr>\n",
       "  </tbody>\n",
       "</table>\n",
       "</div>"
      ],
      "text/plain": [
       "       month  count          mean          std         var\n",
       "0 2018-01-01     34   8513.717773  6444.680876  41533912.0\n",
       "1 2018-02-01     58  11597.054688  6247.353765  39029428.0\n",
       "2 2018-03-01     77  15104.159180  5828.237596  33968352.0\n",
       "3 2018-04-01    112  13462.180664  5698.249058  32470042.0\n",
       "4 2018-05-01    141  15805.184570  5978.231785  35739256.0"
      ]
     },
     "execution_count": 54,
     "metadata": {},
     "output_type": "execute_result"
    }
   ],
   "source": [
    "# расчет интернет трафика (среднее, ст. отклонение, дисперсия) для тарифа smart\n",
    "smart_mb = smart.groupby('month')['mb_used'].agg(\n",
    "    ['count', 'mean', 'std', 'var']).reset_index()\n",
    "smart_mb.head()"
   ]
  },
  {
   "cell_type": "code",
   "execution_count": 55,
   "id": "edc6f5b9",
   "metadata": {},
   "outputs": [
    {
     "data": {
      "image/png": "[encoded data removed]",
      "text/plain": [
       "<Figure size 432x288 with 1 Axes>"
      ]
     },
     "metadata": {
      "needs_background": "light"
     },
     "output_type": "display_data"
    }
   ],
   "source": [
    "# сколько интернет трафика в среднем требуется тариф smart\n",
    "smart_mb.plot(x='month', y='mean', label=\"Smart\", grid=True, ylim=(0, 19000))\n",
    "plt.axhline(y=15360, color='r', linestyle='-')\n",
    "plt.show()"
   ]
  },
  {
   "cell_type": "markdown",
   "id": "a029f1bf",
   "metadata": {},
   "source": [
    "Вывод:\n",
    "- в среднем используется 15064.321 (98%) из 15 360 мегабайт\n",
    "- каждый месяц колличество потребляемого трафика растет\n",
    "- пользователи всегда превышают лимит"
   ]
  },
  {
   "cell_type": "code",
   "execution_count": 56,
   "id": "e733227e",
   "metadata": {},
   "outputs": [
    {
     "data": {
      "text/html": [
       "<div>\n",
       "<style scoped>\n",
       "    .dataframe tbody tr th:only-of-type {\n",
       "        vertical-align: middle;\n",
       "    }\n",
       "\n",
       "    .dataframe tbody tr th {\n",
       "        vertical-align: top;\n",
       "    }\n",
       "\n",
       "    .dataframe thead th {\n",
       "        text-align: right;\n",
       "    }\n",
       "</style>\n",
       "<table border=\"1\" class=\"dataframe\">\n",
       "  <thead>\n",
       "    <tr style=\"text-align: right;\">\n",
       "      <th></th>\n",
       "      <th>month</th>\n",
       "      <th>count</th>\n",
       "      <th>mean</th>\n",
       "      <th>std</th>\n",
       "      <th>var</th>\n",
       "    </tr>\n",
       "  </thead>\n",
       "  <tbody>\n",
       "    <tr>\n",
       "      <th>0</th>\n",
       "      <td>2018-01-01</td>\n",
       "      <td>9</td>\n",
       "      <td>13140.680664</td>\n",
       "      <td>6865.346844</td>\n",
       "      <td>47132988.0</td>\n",
       "    </tr>\n",
       "    <tr>\n",
       "      <th>1</th>\n",
       "      <td>2018-02-01</td>\n",
       "      <td>24</td>\n",
       "      <td>11775.937500</td>\n",
       "      <td>10644.643870</td>\n",
       "      <td>113308440.0</td>\n",
       "    </tr>\n",
       "    <tr>\n",
       "      <th>2</th>\n",
       "      <td>2018-03-01</td>\n",
       "      <td>37</td>\n",
       "      <td>17535.550781</td>\n",
       "      <td>10951.785871</td>\n",
       "      <td>119941616.0</td>\n",
       "    </tr>\n",
       "    <tr>\n",
       "      <th>3</th>\n",
       "      <td>2018-04-01</td>\n",
       "      <td>55</td>\n",
       "      <td>16828.134766</td>\n",
       "      <td>9718.649825</td>\n",
       "      <td>94452152.0</td>\n",
       "    </tr>\n",
       "    <tr>\n",
       "      <th>4</th>\n",
       "      <td>2018-05-01</td>\n",
       "      <td>67</td>\n",
       "      <td>19363.152344</td>\n",
       "      <td>10046.110207</td>\n",
       "      <td>100924328.0</td>\n",
       "    </tr>\n",
       "  </tbody>\n",
       "</table>\n",
       "</div>"
      ],
      "text/plain": [
       "       month  count          mean           std          var\n",
       "0 2018-01-01      9  13140.680664   6865.346844   47132988.0\n",
       "1 2018-02-01     24  11775.937500  10644.643870  113308440.0\n",
       "2 2018-03-01     37  17535.550781  10951.785871  119941616.0\n",
       "3 2018-04-01     55  16828.134766   9718.649825   94452152.0\n",
       "4 2018-05-01     67  19363.152344  10046.110207  100924328.0"
      ]
     },
     "execution_count": 56,
     "metadata": {},
     "output_type": "execute_result"
    }
   ],
   "source": [
    "# расчет интернет трафика (среднее, ст. отклонение, дисперсия) для тарифа ultra\n",
    "ultra_mb = ultra.groupby('month')['mb_used'].agg(\n",
    "    ['count', 'mean', 'std', 'var']).reset_index()\n",
    "ultra_mb.head()"
   ]
  },
  {
   "cell_type": "code",
   "execution_count": 57,
   "id": "5a94aa7f",
   "metadata": {},
   "outputs": [
    {
     "data": {
      "image/png": "[encoded data removed]",
      "text/plain": [
       "<Figure size 432x288 with 1 Axes>"
      ]
     },
     "metadata": {
      "needs_background": "light"
     },
     "output_type": "display_data"
    }
   ],
   "source": [
    "# сколько интернет трафика в среднем требуется тариф smart\n",
    "ultra_mb.plot(x='month', y='mean', label=\"Ultra\", grid=True, ylim=(0, 33000))\n",
    "plt.axhline(y=30720, color='r', linestyle='-')\n",
    "plt.show()"
   ]
  },
  {
   "cell_type": "markdown",
   "id": "5bae153c",
   "metadata": {},
   "source": [
    "Вывод:\n",
    "- в среднем используется 18426.125 (60%) из 30 720 мегабайт\n",
    "- каждый месяц колличество потребляемого трафика растет"
   ]
  },
  {
   "cell_type": "code",
   "execution_count": 58,
   "id": "0676d62e",
   "metadata": {},
   "outputs": [
    {
     "data": {
      "image/png": "[encoded data removed]",
      "text/plain": [
       "<Figure size 1080x360 with 1 Axes>"
      ]
     },
     "metadata": {
      "needs_background": "light"
     },
     "output_type": "display_data"
    }
   ],
   "source": [
    "# сравнение тарифов\n",
    "ax = smart_mb.plot(x='month', y='mean', label=\"Smart\",\n",
    "                   title='Среднee количество интернет трафика', figsize=(15, 5))\n",
    "ultra_mb.plot(x='month', y='mean', label=\"Ultra\", ax=ax, ylim=0, grid=True)\n",
    "plt.show()"
   ]
  },
  {
   "cell_type": "markdown",
   "id": "2a62423e",
   "metadata": {},
   "source": [
    "Вывод:\n",
    "- клиенты тарифа ultra расходуют больше трафика\n",
    "- наблюдается рост трафика в двух тарифах каждый месяц"
   ]
  },
  {
   "cell_type": "code",
   "execution_count": 59,
   "id": "b7bdaf83",
   "metadata": {},
   "outputs": [
    {
     "data": {
      "image/png": "[encoded data removed]",
      "text/plain": [
       "<Figure size 1080x648 with 1 Axes>"
      ]
     },
     "metadata": {
      "needs_background": "light"
     },
     "output_type": "display_data"
    },
    {
     "name": "stdout",
     "output_type": "stream",
     "text": [
      "Среднее Smart: 16201.0\n",
      "Среднее Ultra: 19449.0\n",
      "Дисперсия Smart: 34549344.0\n",
      "Дисперсия Ultra: 101928650.0\n",
      "Стандартное отклонение Smart 5877.869\n",
      "Стандартное отклонение Ultra 10095.972\n"
     ]
    }
   ],
   "source": [
    "# гистограмма использования интернет трафика каждого тарифа в месяц\n",
    "plt.figure(figsize=(15, 9))\n",
    "smart['mb_used'].hist(bins=30, alpha=.5)\n",
    "ultra['mb_used'].hist(bins=30, alpha=.5)\n",
    "\n",
    "plt.title('Использованто интернет трафика')\n",
    "plt.legend(['Smart', 'Ultra'])\n",
    "plt.xlabel('Количество потраченного интернет трафика, мб')\n",
    "plt.show()\n",
    "\n",
    "print('Среднее Smart:', np.round(smart['mb_used'].mean()))\n",
    "print('Среднее Ultra:', np.round(ultra['mb_used'].mean()))\n",
    "print('Дисперсия Smart:', np.var(smart['mb_used']))\n",
    "print('Дисперсия Ultra:', np.var(ultra['mb_used']))\n",
    "print('Стандартное отклонение Smart', np.std(smart['mb_used']))\n",
    "print('Стандартное отклонение Ultra', np.std(ultra['mb_used']))"
   ]
  },
  {
   "cell_type": "markdown",
   "id": "a1440588",
   "metadata": {},
   "source": [
    "## Вывод:\n",
    "- в тарифе SMART большинство пользователей используют интерент в диапазоне 10 - 22гб, при лимите в 15гб\n",
    "- ULTRA распределение более ровное, в основном от 10 до 30гб, лимит 30гб"
   ]
  },
  {
   "cell_type": "markdown",
   "id": "854f4d77",
   "metadata": {},
   "source": [
    "### Общий вывод:"
   ]
  },
  {
   "cell_type": "markdown",
   "id": "e03df7cf",
   "metadata": {},
   "source": [
    "**Звонки:**\n",
    "\n",
    "\n",
    "Пользователям тарифа smart требуется около 450 минут (90% от лимита), рост среднего времени разговора каждый месяц. Можем предположить что в следующем году, пакета бесплатных минут будет не достаточно.\n",
    "\n",
    "Тарифу ultra требуется около 550 (19% от лимита) минут, рост среднего времени разговора каждый месяц.\n",
    "\n",
    "**Сообщения:**\n",
    "\n",
    "\n",
    "smart в среднем отправляется 30 из 50 смс (70% от лимита)\n",
    "\n",
    "ultra в среднем 50 (5% от лимита) из 1000 смс в месяц\n",
    "колличество смс растет каждый месяц\n",
    "\n",
    "**Интернет:**\n",
    "\n",
    "\n",
    "smart в среднем используется 15 064 (98%) из 15 360 мегабайт, каждый месяц колличество потребляемого трафика растет.\n",
    "Пользователи почти всегда превышают лимит\n",
    "\n",
    "ultra в среднем используется 18 426 (60%) из 30 720 мегабайт, каждый месяц колличество потребляемого трафика растет"
   ]
  },
  {
   "cell_type": "markdown",
   "id": "d0f3c919",
   "metadata": {},
   "source": [
    "## Проверка гипотез"
   ]
  },
  {
   "cell_type": "markdown",
   "id": "3dc9941d",
   "metadata": {},
   "source": [
    "### проверить гипотезу: средняя выручка пользователей тарифов «Ультра» и «Смарт» различаются"
   ]
  },
  {
   "cell_type": "markdown",
   "id": "110aa605",
   "metadata": {},
   "source": [
    "**H0:** средняя выручка пользователей тарифов «Ультра» и «Смарт» **равны**\n",
    "\n",
    "\n",
    "**H1:** средняя выручка пользователей тарифов «Ультра» и «Смарт» **различаются** "
   ]
  },
  {
   "cell_type": "code",
   "execution_count": 61,
   "id": "5efe6d6c",
   "metadata": {},
   "outputs": [
    {
     "name": "stdout",
     "output_type": "stream",
     "text": [
      "p-значение: 1.9270113944209404e-250\n",
      "Отвергаем нулевую гипотезу\n"
     ]
    }
   ],
   "source": [
    "# t-test - Гипотеза о равенстве средних двух генеральных совокупностей\n",
    "alpha = .05\n",
    "\n",
    "results = st.ttest_ind(\n",
    "    smart['total'],\n",
    "    ultra['total'], equal_var=False)\n",
    "\n",
    "print('p-значение:', results.pvalue)\n",
    "\n",
    "if results.pvalue < alpha:\n",
    "    print(\"Отвергаем нулевую гипотезу\")\n",
    "else:\n",
    "    print(\"Не получилось отвергнуть нулевую гипотезу\")"
   ]
  },
  {
   "cell_type": "markdown",
   "id": "1bd98ba3",
   "metadata": {},
   "source": [
    "Вывод:\n",
    "- вроятность того что средние выручки двух тарифов равны **<1%**. Следовательно мы отвергаем гипотеу о том, что выручки равны, и **подтверждаем гипотезу о том что средние выручки различаются**."
   ]
  },
  {
   "cell_type": "markdown",
   "id": "54e684b2",
   "metadata": {},
   "source": [
    "### средняя выручка пользователей из Москвы отличается от выручки пользователей из других регионов"
   ]
  },
  {
   "cell_type": "markdown",
   "id": "c3287d9d",
   "metadata": {},
   "source": [
    "**Н0:** средняя выручка пользователей из Москвы **равна** выручке пользователей из других регионов\n",
    "\n",
    "**Н1:** средняя выручка пользователей из Москвы **отличается** от выручки пользователей из других регионов"
   ]
  },
  {
   "cell_type": "code",
   "execution_count": 62,
   "id": "7f34d562",
   "metadata": {},
   "outputs": [],
   "source": [
    "# таблица общая\n",
    "df = (df_revenue\n",
    "      .merge(smart, how='outer', on=['user_id', 'month'])\n",
    "      .merge(ultra, how='outer', on=['user_id', 'month'])\n",
    "      .fillna(0)\n",
    "      )\n",
    "df['total'] = df['total_y'] + df['total_x']"
   ]
  },
  {
   "cell_type": "code",
   "execution_count": 63,
   "id": "4586434c",
   "metadata": {},
   "outputs": [],
   "source": [
    "# отфильтровал по нужным столбцам\n",
    "df = df[['user_id', 'month', 'total']]"
   ]
  },
  {
   "cell_type": "code",
   "execution_count": 64,
   "id": "310bd356",
   "metadata": {},
   "outputs": [],
   "source": [
    "# добавил город\n",
    "df = pd.merge(df, df5[['user_id', 'city']], on='user_id', how='left')"
   ]
  },
  {
   "cell_type": "code",
   "execution_count": 65,
   "id": "bbf11f8f",
   "metadata": {},
   "outputs": [
    {
     "data": {
      "text/html": [
       "<div>\n",
       "<style scoped>\n",
       "    .dataframe tbody tr th:only-of-type {\n",
       "        vertical-align: middle;\n",
       "    }\n",
       "\n",
       "    .dataframe tbody tr th {\n",
       "        vertical-align: top;\n",
       "    }\n",
       "\n",
       "    .dataframe thead th {\n",
       "        text-align: right;\n",
       "    }\n",
       "</style>\n",
       "<table border=\"1\" class=\"dataframe\">\n",
       "  <thead>\n",
       "    <tr style=\"text-align: right;\">\n",
       "      <th></th>\n",
       "      <th>user_id</th>\n",
       "      <th>month</th>\n",
       "      <th>total</th>\n",
       "      <th>city</th>\n",
       "    </tr>\n",
       "  </thead>\n",
       "  <tbody>\n",
       "    <tr>\n",
       "      <th>0</th>\n",
       "      <td>1000</td>\n",
       "      <td>2018-05-01</td>\n",
       "      <td>1950.0</td>\n",
       "      <td>Краснодар</td>\n",
       "    </tr>\n",
       "    <tr>\n",
       "      <th>1</th>\n",
       "      <td>1000</td>\n",
       "      <td>2018-06-01</td>\n",
       "      <td>1950.0</td>\n",
       "      <td>Краснодар</td>\n",
       "    </tr>\n",
       "    <tr>\n",
       "      <th>2</th>\n",
       "      <td>1000</td>\n",
       "      <td>2018-07-01</td>\n",
       "      <td>1950.0</td>\n",
       "      <td>Краснодар</td>\n",
       "    </tr>\n",
       "    <tr>\n",
       "      <th>3</th>\n",
       "      <td>1000</td>\n",
       "      <td>2018-08-01</td>\n",
       "      <td>1950.0</td>\n",
       "      <td>Краснодар</td>\n",
       "    </tr>\n",
       "    <tr>\n",
       "      <th>4</th>\n",
       "      <td>1000</td>\n",
       "      <td>2018-09-01</td>\n",
       "      <td>1950.0</td>\n",
       "      <td>Краснодар</td>\n",
       "    </tr>\n",
       "    <tr>\n",
       "      <th>...</th>\n",
       "      <td>...</td>\n",
       "      <td>...</td>\n",
       "      <td>...</td>\n",
       "      <td>...</td>\n",
       "    </tr>\n",
       "    <tr>\n",
       "      <th>3211</th>\n",
       "      <td>1489</td>\n",
       "      <td>2018-09-01</td>\n",
       "      <td>950.0</td>\n",
       "      <td>Санкт-Петербург</td>\n",
       "    </tr>\n",
       "    <tr>\n",
       "      <th>3212</th>\n",
       "      <td>1489</td>\n",
       "      <td>2018-10-01</td>\n",
       "      <td>1550.0</td>\n",
       "      <td>Санкт-Петербург</td>\n",
       "    </tr>\n",
       "    <tr>\n",
       "      <th>3213</th>\n",
       "      <td>1489</td>\n",
       "      <td>2018-11-01</td>\n",
       "      <td>1150.0</td>\n",
       "      <td>Санкт-Петербург</td>\n",
       "    </tr>\n",
       "    <tr>\n",
       "      <th>3214</th>\n",
       "      <td>1489</td>\n",
       "      <td>2018-12-01</td>\n",
       "      <td>950.0</td>\n",
       "      <td>Санкт-Петербург</td>\n",
       "    </tr>\n",
       "    <tr>\n",
       "      <th>3215</th>\n",
       "      <td>1476</td>\n",
       "      <td>2018-04-01</td>\n",
       "      <td>1950.0</td>\n",
       "      <td>Москва</td>\n",
       "    </tr>\n",
       "  </tbody>\n",
       "</table>\n",
       "<p>3216 rows × 4 columns</p>\n",
       "</div>"
      ],
      "text/plain": [
       "     user_id      month   total             city\n",
       "0       1000 2018-05-01  1950.0        Краснодар\n",
       "1       1000 2018-06-01  1950.0        Краснодар\n",
       "2       1000 2018-07-01  1950.0        Краснодар\n",
       "3       1000 2018-08-01  1950.0        Краснодар\n",
       "4       1000 2018-09-01  1950.0        Краснодар\n",
       "...      ...        ...     ...              ...\n",
       "3211    1489 2018-09-01   950.0  Санкт-Петербург\n",
       "3212    1489 2018-10-01  1550.0  Санкт-Петербург\n",
       "3213    1489 2018-11-01  1150.0  Санкт-Петербург\n",
       "3214    1489 2018-12-01   950.0  Санкт-Петербург\n",
       "3215    1476 2018-04-01  1950.0           Москва\n",
       "\n",
       "[3216 rows x 4 columns]"
      ]
     },
     "execution_count": 65,
     "metadata": {},
     "output_type": "execute_result"
    }
   ],
   "source": [
    "df"
   ]
  },
  {
   "cell_type": "code",
   "execution_count": 66,
   "id": "c7243518",
   "metadata": {},
   "outputs": [
    {
     "name": "stdout",
     "output_type": "stream",
     "text": [
      "p-значение: 0.5216952110000281\n",
      "Не получилось отвергнуть нулевую гипотезу\n"
     ]
    }
   ],
   "source": [
    "# t-test - Гипотеза о равенстве средних двух генеральных совокупностей\n",
    "alpha = .05\n",
    "\n",
    "results = st.ttest_ind(\n",
    "    df[df['city'] == 'Москва']['total'],\n",
    "    df[df['city'] != 'Москва']['total'], equal_var=False)\n",
    "\n",
    "print('p-значение:', results.pvalue)\n",
    "\n",
    "if results.pvalue < alpha:\n",
    "    print(\"Отвергаем нулевую гипотезу\")\n",
    "else:\n",
    "    print(\"Не получилось отвергнуть нулевую гипотезу\")"
   ]
  },
  {
   "cell_type": "markdown",
   "id": "f8d5dbee",
   "metadata": {},
   "source": [
    "Вывод: \n",
    "- **Н0 гипотеза верна**: средняя выручка пользователей из Москвы **равна** выручке пользователей из других регионов, с вероятностью 52%"
   ]
  },
  {
   "cell_type": "code",
   "execution_count": 67,
   "id": "014c9b9c",
   "metadata": {},
   "outputs": [
    {
     "name": "stdout",
     "output_type": "stream",
     "text": [
      "4916951.0\n",
      "4916951.0\n"
     ]
    }
   ],
   "source": [
    "# проверка\n",
    "print(smart['total'].sum() + ultra['total'].sum())\n",
    "print(df['total'].sum())"
   ]
  },
  {
   "cell_type": "markdown",
   "id": "95a737da",
   "metadata": {},
   "source": [
    "## Расчеты для выводов и рекомендаций"
   ]
  },
  {
   "cell_type": "code",
   "execution_count": 68,
   "id": "85961be3",
   "metadata": {},
   "outputs": [
    {
     "name": "stdout",
     "output_type": "stream",
     "text": [
      "SMART 351 пользователей\n",
      "процент от общего числа 70 %\n",
      "\n",
      "ULTRA 149 пользователей\n",
      "процент от общего числа 30 %\n",
      "\n",
      "всего 500 пользователей в выборке\n"
     ]
    }
   ],
   "source": [
    "print('SMART', (df5['tariff'] == 'smart').sum(), 'пользователей')\n",
    "print('процент от общего числа', round(\n",
    "    (df5['tariff'] == 'smart').sum() / 500 * 100), '%')\n",
    "print()\n",
    "\n",
    "print('ULTRA', (df5['tariff'] != 'smart').sum(), 'пользователей')\n",
    "print('процент от общего числа', round(\n",
    "    (df5['tariff'] != 'smart').sum() / 500 * 100), '%')\n",
    "print()\n",
    "\n",
    "print('всего 500 пользователей в выборке')"
   ]
  },
  {
   "cell_type": "code",
   "execution_count": 69,
   "id": "230d912d",
   "metadata": {},
   "outputs": [
    {
     "name": "stdout",
     "output_type": "stream",
     "text": [
      "Тратится минут в среднем за месяц SMART 418\n",
      "в процентах от лимита тарифа 84 %\n",
      "среднее время одного звонка 7.15\n",
      "\n",
      "Тратится минут в среднем за месяц ULTRA 526\n",
      "в процентах от лимита тарифа 18 %\n",
      "среднее время одного звонка 7.18\n"
     ]
    }
   ],
   "source": [
    "print('Тратится минут в среднем за месяц SMART', round(smart['min'].mean()))\n",
    "print('в процентах от лимита тарифа', round(\n",
    "    smart['min'].mean() / 500 * 100), '%')\n",
    "print('среднее время одного звонка',\n",
    "      round(smart['min'].sum() / smart['count_call'].sum(), 2))\n",
    "print()\n",
    "\n",
    "print('Тратится минут в среднем за месяц ULTRA', round(ultra['min'].mean()))\n",
    "print('в процентах от лимита тарифа', round(\n",
    "    ultra['min'].mean() / 3000 * 100), '%')\n",
    "print('среднее время одного звонка',\n",
    "      round(ultra['min'].sum() / ultra['count_call'].sum(), 2))"
   ]
  },
  {
   "cell_type": "code",
   "execution_count": 70,
   "id": "22772236",
   "metadata": {},
   "outputs": [
    {
     "name": "stdout",
     "output_type": "stream",
     "text": [
      "СМС на пользователя в месяц SMART 33\n",
      "потрачено от лимита 67 %\n",
      "\n",
      "СМС на пользователя в месяц ULTRA 49\n",
      "потрачено от лимита 5 %\n"
     ]
    }
   ],
   "source": [
    "print('СМС на пользователя в месяц SMART', round(smart['sms'].mean()))\n",
    "print('потрачено от лимита', round(smart['sms'].mean() / 50 * 100), '%')\n",
    "print()\n",
    "\n",
    "print('СМС на пользователя в месяц ULTRA', round(ultra['sms'].mean()))\n",
    "print('потрачено от лимита', round(ultra['sms'].mean() / 1000 * 100), '%')"
   ]
  },
  {
   "cell_type": "code",
   "execution_count": 71,
   "id": "cbdab83c",
   "metadata": {},
   "outputs": [
    {
     "name": "stdout",
     "output_type": "stream",
     "text": [
      "Тратится мегбайт в месяц SMART 16201.12\n",
      "потрачено от лимита 106 %\n",
      "\n",
      "Количество потраченных мегбайт в месяц ULTRA 19449.06\n",
      "потрачено от лимита 64 %\n"
     ]
    }
   ],
   "source": [
    "print('Тратится мегбайт в месяц SMART', round(smart['mb_used'].mean(), 2))\n",
    "print('потрачено от лимита', round(\n",
    "    smart['mb_used'].mean() / 15360 * 100 + 1), '%')\n",
    "print()\n",
    "\n",
    "print('Количество потраченных мегбайт в месяц ULTRA',\n",
    "      round(ultra['mb_used'].mean(), 2))\n",
    "print('потрачено от лимита', round(\n",
    "    ultra['mb_used'].mean() / 30720 * 100 + 1), '%')"
   ]
  },
  {
   "cell_type": "code",
   "execution_count": 72,
   "id": "c46ac21e",
   "metadata": {},
   "outputs": [
    {
     "name": "stdout",
     "output_type": "stream",
     "text": [
      "Всего денег заработано SMART 2875901.0\n",
      "58.49 %\n",
      "средний чек 1290\n",
      "\n",
      "Всего денег заработано ULTRA 2041050.0\n",
      "41.51 %\n",
      "средний чек 2070\n"
     ]
    }
   ],
   "source": [
    "print('Всего денег заработано SMART', smart['total'].sum())\n",
    "print(round(smart['total'].sum() /\n",
    "      (smart['total'].sum() + ultra['total'].sum()) * 100, 2), '%')\n",
    "print('средний чек', round(smart['total'].mean()))\n",
    "print()\n",
    "\n",
    "print('Всего денег заработано ULTRA', ultra['total'].sum())\n",
    "print(round(ultra['total'].sum() /\n",
    "      (smart['total'].sum() + ultra['total'].sum()) * 100, 2), '%')\n",
    "print('средний чек', round(ultra['total'].mean()))"
   ]
  },
  {
   "cell_type": "markdown",
   "id": "263924cd",
   "metadata": {},
   "source": [
    "## Общий вывод:"
   ]
  },
  {
   "cell_type": "markdown",
   "id": "d8052399",
   "metadata": {},
   "source": [
    "**тариф SMART:**\n",
    "    \n",
    "        - количество пользователей тарифа 70%,        \n",
    "        - тратится минут в среднем за месяц 418 (от лимита 84%),\n",
    "        - среднее время одного звонка 7.15,\n",
    "        - СМС на пользователя в месяц 33 сообщения (от лимита 67%),\n",
    "        - расход мегбайт в месяц 16208.39 (от лимита 107%),\n",
    "        - всего денег заработано 2875351 (от общего 58.51%),\n",
    "        - средний чек 1290\n",
    "\n",
    "\n",
    "**тариф ULTRA:**\n",
    "        \n",
    "        - количество пользователей тарифа 30%,        \n",
    "        - тратится минут в среднем за месяц 527 (от лимита 18%),\n",
    "        - среднее время одного звонка 7.18,\n",
    "        - СМС на пользователя в месяц 49 сообщения (от лимита 5%),\n",
    "        - расход мегбайт в месяц 19468.8 (от лимита 64%),\n",
    "        - всего денег заработано 2039100 (от общего 41.49%),\n",
    "        - средний чек 2070"
   ]
  },
  {
   "cell_type": "markdown",
   "id": "5a966a76",
   "metadata": {},
   "source": [
    "Тариф SMART более массовый - 70% от всех пользователей, можно связать это с ценой тарифа - 550р (ULTRA стоит почти в 4 раза дороже - 1950р). \n",
    "\n",
    "Пользователи практически одинаково говорят по телефону 418 минунт за месяц и 527 минут в тарифе ULTRA, причем в тарифе SMART каждый месяц растет среднее потраченых минут, можно с увереностью говорить что в следующем году всем пользователям не будет хватать лимита в 500 минут. \n",
    "\n",
    "Интернета в тарифе SMART уже не хватает, идет превышение на 2 гб в месяц. В тарифе ULTRA интернета расходуют 64% от лимита. \n",
    "\n",
    "Срдений чек тарифа смарт 1290р, срдений чек тарифа ULTRA 2070р, 70%(тариф SMART) пользователей приносят 59% общей выручки, 30%(тариф ULTRA) приносят 41% от общей выручки."
   ]
  },
  {
   "cell_type": "markdown",
   "id": "b7784c10",
   "metadata": {},
   "source": [
    "## Ответ на вопросы"
   ]
  },
  {
   "cell_type": "markdown",
   "id": "cba264ae",
   "metadata": {},
   "source": [
    "**Какой тариф приносит больше денег?**\n",
    "\n",
    "        - SMART\n",
    "        \n",
    "        \n",
    "**Какой тариф лучше?**\n",
    "\n",
    "        - можно сказать что пользователи тарифа SMART используют лимиты тарифа на 86%, если смотреть по лимиту интернета, то привышают его и переплачивают. Еще можно с увереностью говорить что в следующем году дополнительно будут платить за минуты. Можно сказать тариф для экономных и рациональных людей.\n",
    "        \n",
    "        - пользователи ULTRA используют тариф на 30% от заданых лимитов. С психологической точки зрения им не нужно постоянно следить и проверять остаток лимита, поэтому тариф более комфортный."
   ]
  }
 ],
 "metadata": {
  "ExecuteTimeLog": [
   {
    "duration": 1483,
    "start_time": "2022-05-11T05:55:55.009Z"
   },
   {
    "duration": 479,
    "start_time": "2022-05-11T05:55:56.494Z"
   },
   {
    "duration": 69,
    "start_time": "2022-05-11T05:55:56.974Z"
   },
   {
    "duration": 178,
    "start_time": "2022-05-11T05:55:57.046Z"
   },
   {
    "duration": 12,
    "start_time": "2022-05-11T05:55:57.226Z"
   },
   {
    "duration": 97,
    "start_time": "2022-05-11T05:55:57.240Z"
   },
   {
    "duration": 11,
    "start_time": "2022-05-11T05:55:57.339Z"
   },
   {
    "duration": 152,
    "start_time": "2022-05-11T05:55:57.352Z"
   },
   {
    "duration": 65,
    "start_time": "2022-05-11T05:55:57.507Z"
   },
   {
    "duration": 122,
    "start_time": "2022-05-11T05:55:57.575Z"
   },
   {
    "duration": 17,
    "start_time": "2022-05-11T05:55:57.699Z"
   },
   {
    "duration": 39,
    "start_time": "2022-05-11T05:55:57.734Z"
   },
   {
    "duration": 9,
    "start_time": "2022-05-11T05:55:57.775Z"
   },
   {
    "duration": 137,
    "start_time": "2022-05-11T05:55:57.786Z"
   },
   {
    "duration": 35,
    "start_time": "2022-05-11T05:55:57.925Z"
   },
   {
    "duration": 91,
    "start_time": "2022-05-11T05:55:57.963Z"
   },
   {
    "duration": 51,
    "start_time": "2022-05-11T05:55:58.056Z"
   },
   {
    "duration": 41,
    "start_time": "2022-05-11T05:55:58.109Z"
   },
   {
    "duration": 50,
    "start_time": "2022-05-11T05:55:58.153Z"
   },
   {
    "duration": 99,
    "start_time": "2022-05-11T05:55:58.205Z"
   },
   {
    "duration": 28,
    "start_time": "2022-05-11T05:55:58.306Z"
   },
   {
    "duration": 44,
    "start_time": "2022-05-11T05:55:58.337Z"
   },
   {
    "duration": 31,
    "start_time": "2022-05-11T05:55:58.383Z"
   },
   {
    "duration": 4,
    "start_time": "2022-05-11T05:55:58.433Z"
   },
   {
    "duration": 10,
    "start_time": "2022-05-11T05:55:58.439Z"
   },
   {
    "duration": 16,
    "start_time": "2022-05-11T05:55:58.452Z"
   },
   {
    "duration": 12,
    "start_time": "2022-05-11T05:55:58.470Z"
   },
   {
    "duration": 44,
    "start_time": "2022-05-11T05:55:58.489Z"
   },
   {
    "duration": 11,
    "start_time": "2022-05-11T05:55:58.536Z"
   },
   {
    "duration": 10,
    "start_time": "2022-05-11T05:55:58.549Z"
   },
   {
    "duration": 9,
    "start_time": "2022-05-11T05:55:58.562Z"
   },
   {
    "duration": 24,
    "start_time": "2022-05-11T05:55:58.573Z"
   },
   {
    "duration": 36,
    "start_time": "2022-05-11T05:55:58.599Z"
   },
   {
    "duration": 16,
    "start_time": "2022-05-11T05:55:58.638Z"
   },
   {
    "duration": 15,
    "start_time": "2022-05-11T05:55:58.656Z"
   },
   {
    "duration": 11,
    "start_time": "2022-05-11T05:55:58.673Z"
   },
   {
    "duration": 8,
    "start_time": "2022-05-11T05:55:58.686Z"
   },
   {
    "duration": 10,
    "start_time": "2022-05-11T05:55:58.696Z"
   },
   {
    "duration": 39,
    "start_time": "2022-05-11T05:55:58.707Z"
   },
   {
    "duration": 24,
    "start_time": "2022-05-11T05:55:58.749Z"
   },
   {
    "duration": 432,
    "start_time": "2022-05-11T05:55:58.774Z"
   },
   {
    "duration": 32,
    "start_time": "2022-05-11T05:55:59.208Z"
   },
   {
    "duration": 330,
    "start_time": "2022-05-11T05:55:59.243Z"
   },
   {
    "duration": 238,
    "start_time": "2022-05-11T05:55:59.575Z"
   },
   {
    "duration": 28,
    "start_time": "2022-05-11T05:55:59.816Z"
   },
   {
    "duration": 299,
    "start_time": "2022-05-11T05:55:59.847Z"
   },
   {
    "duration": 22,
    "start_time": "2022-05-11T05:56:00.149Z"
   },
   {
    "duration": 333,
    "start_time": "2022-05-11T05:56:00.173Z"
   },
   {
    "duration": 281,
    "start_time": "2022-05-11T05:56:00.509Z"
   },
   {
    "duration": 22,
    "start_time": "2022-05-11T05:56:00.792Z"
   },
   {
    "duration": 347,
    "start_time": "2022-05-11T05:56:00.816Z"
   },
   {
    "duration": 18,
    "start_time": "2022-05-11T05:56:01.165Z"
   },
   {
    "duration": 335,
    "start_time": "2022-05-11T05:56:01.186Z"
   },
   {
    "duration": 352,
    "start_time": "2022-05-11T05:56:01.523Z"
   },
   {
    "duration": 16,
    "start_time": "2022-05-11T05:56:01.877Z"
   },
   {
    "duration": 37,
    "start_time": "2022-05-11T05:56:01.896Z"
   },
   {
    "duration": 8,
    "start_time": "2022-05-11T05:56:01.935Z"
   },
   {
    "duration": 249,
    "start_time": "2022-05-11T05:56:01.945Z"
   },
   {
    "duration": 108,
    "start_time": "2022-05-11T05:56:02.196Z"
   },
   {
    "duration": 40,
    "start_time": "2022-05-11T05:56:02.306Z"
   },
   {
    "duration": 5,
    "start_time": "2022-05-11T05:56:02.349Z"
   },
   {
    "duration": 20,
    "start_time": "2022-05-11T05:56:02.356Z"
   },
   {
    "duration": 81,
    "start_time": "2022-05-11T05:56:02.378Z"
   },
   {
    "duration": 38,
    "start_time": "2022-05-11T05:56:02.462Z"
   },
   {
    "duration": 6,
    "start_time": "2022-05-11T05:56:02.503Z"
   },
   {
    "duration": 31,
    "start_time": "2022-05-11T05:56:02.511Z"
   },
   {
    "duration": 7,
    "start_time": "2022-05-11T05:56:02.545Z"
   },
   {
    "duration": 279,
    "start_time": "2022-05-11T05:56:02.554Z"
   },
   {
    "duration": 10,
    "start_time": "2022-05-11T05:56:02.835Z"
   },
   {
    "duration": 17,
    "start_time": "2022-05-11T05:56:02.847Z"
   },
   {
    "duration": 10,
    "start_time": "2022-05-11T05:56:02.866Z"
   },
   {
    "duration": 12,
    "start_time": "2022-05-11T05:56:02.878Z"
   },
   {
    "duration": 47,
    "start_time": "2022-05-11T05:56:02.893Z"
   },
   {
    "duration": 12,
    "start_time": "2022-05-11T05:56:02.942Z"
   },
   {
    "duration": 13,
    "start_time": "2022-05-11T05:56:02.956Z"
   },
   {
    "duration": 5,
    "start_time": "2022-05-11T06:14:17.245Z"
   },
   {
    "duration": 1122,
    "start_time": "2022-05-12T06:07:22.859Z"
   },
   {
    "duration": 373,
    "start_time": "2022-05-12T06:07:23.983Z"
   },
   {
    "duration": 46,
    "start_time": "2022-05-12T06:07:24.358Z"
   },
   {
    "duration": 133,
    "start_time": "2022-05-12T06:07:24.406Z"
   },
   {
    "duration": 4,
    "start_time": "2022-05-12T06:07:24.541Z"
   },
   {
    "duration": 56,
    "start_time": "2022-05-12T06:07:24.547Z"
   },
   {
    "duration": 7,
    "start_time": "2022-05-12T06:07:24.605Z"
   },
   {
    "duration": 110,
    "start_time": "2022-05-12T06:07:24.613Z"
   },
   {
    "duration": 32,
    "start_time": "2022-05-12T06:07:24.725Z"
   },
   {
    "duration": 100,
    "start_time": "2022-05-12T06:07:24.760Z"
   },
   {
    "duration": 14,
    "start_time": "2022-05-12T06:07:24.862Z"
   },
   {
    "duration": 39,
    "start_time": "2022-05-12T06:07:24.877Z"
   },
   {
    "duration": 6,
    "start_time": "2022-05-12T06:07:24.918Z"
   },
   {
    "duration": 98,
    "start_time": "2022-05-12T06:07:24.925Z"
   },
   {
    "duration": 19,
    "start_time": "2022-05-12T06:07:25.025Z"
   },
   {
    "duration": 61,
    "start_time": "2022-05-12T06:07:25.046Z"
   },
   {
    "duration": 42,
    "start_time": "2022-05-12T06:07:25.108Z"
   },
   {
    "duration": 13,
    "start_time": "2022-05-12T06:07:25.151Z"
   },
   {
    "duration": 48,
    "start_time": "2022-05-12T06:07:25.166Z"
   },
   {
    "duration": 55,
    "start_time": "2022-05-12T06:07:25.215Z"
   },
   {
    "duration": 29,
    "start_time": "2022-05-12T06:07:25.272Z"
   },
   {
    "duration": 32,
    "start_time": "2022-05-12T06:07:25.303Z"
   },
   {
    "duration": 27,
    "start_time": "2022-05-12T06:07:25.336Z"
   },
   {
    "duration": 3,
    "start_time": "2022-05-12T06:07:25.364Z"
   },
   {
    "duration": 8,
    "start_time": "2022-05-12T06:07:25.368Z"
   },
   {
    "duration": 34,
    "start_time": "2022-05-12T06:07:25.377Z"
   },
   {
    "duration": 11,
    "start_time": "2022-05-12T06:07:25.412Z"
   },
   {
    "duration": 4,
    "start_time": "2022-05-12T06:07:25.427Z"
   },
   {
    "duration": 8,
    "start_time": "2022-05-12T06:07:25.432Z"
   },
   {
    "duration": 12,
    "start_time": "2022-05-12T06:07:25.442Z"
   },
   {
    "duration": 19,
    "start_time": "2022-05-12T06:07:25.455Z"
   },
   {
    "duration": 4,
    "start_time": "2022-05-12T06:07:25.475Z"
   },
   {
    "duration": 21,
    "start_time": "2022-05-12T06:07:25.480Z"
   },
   {
    "duration": 13,
    "start_time": "2022-05-12T06:07:25.503Z"
   },
   {
    "duration": 6,
    "start_time": "2022-05-12T06:07:25.517Z"
   },
   {
    "duration": 9,
    "start_time": "2022-05-12T06:07:25.524Z"
   },
   {
    "duration": 9,
    "start_time": "2022-05-12T06:07:25.534Z"
   },
   {
    "duration": 9,
    "start_time": "2022-05-12T06:07:25.544Z"
   },
   {
    "duration": 6,
    "start_time": "2022-05-12T06:07:25.554Z"
   },
   {
    "duration": 10,
    "start_time": "2022-05-12T06:07:25.562Z"
   },
   {
    "duration": 35,
    "start_time": "2022-05-12T06:07:25.574Z"
   },
   {
    "duration": 251,
    "start_time": "2022-05-12T06:07:25.611Z"
   },
   {
    "duration": 14,
    "start_time": "2022-05-12T06:07:25.863Z"
   },
   {
    "duration": 263,
    "start_time": "2022-05-12T06:07:25.878Z"
   },
   {
    "duration": 180,
    "start_time": "2022-05-12T06:07:26.143Z"
   },
   {
    "duration": 152,
    "start_time": "2022-05-12T06:07:26.325Z"
   },
   {
    "duration": 22,
    "start_time": "2022-05-12T06:07:26.479Z"
   },
   {
    "duration": 249,
    "start_time": "2022-05-12T06:07:26.502Z"
   },
   {
    "duration": 13,
    "start_time": "2022-05-12T06:07:26.753Z"
   },
   {
    "duration": 272,
    "start_time": "2022-05-12T06:07:26.768Z"
   },
   {
    "duration": 204,
    "start_time": "2022-05-12T06:07:27.042Z"
   },
   {
    "duration": 128,
    "start_time": "2022-05-12T06:07:27.247Z"
   },
   {
    "duration": 12,
    "start_time": "2022-05-12T06:07:27.377Z"
   },
   {
    "duration": 334,
    "start_time": "2022-05-12T06:07:27.400Z"
   },
   {
    "duration": 12,
    "start_time": "2022-05-12T06:07:27.735Z"
   },
   {
    "duration": 210,
    "start_time": "2022-05-12T06:07:27.749Z"
   },
   {
    "duration": 199,
    "start_time": "2022-05-12T06:07:27.961Z"
   },
   {
    "duration": 134,
    "start_time": "2022-05-12T06:07:28.161Z"
   },
   {
    "duration": 6,
    "start_time": "2022-05-12T06:07:28.299Z"
   },
   {
    "duration": 73,
    "start_time": "2022-05-12T06:07:28.306Z"
   },
   {
    "duration": 46,
    "start_time": "2022-05-12T06:07:28.380Z"
   },
   {
    "duration": 3,
    "start_time": "2022-05-12T06:07:28.428Z"
   },
   {
    "duration": 50,
    "start_time": "2022-05-12T06:07:28.433Z"
   },
   {
    "duration": 88,
    "start_time": "2022-05-12T06:07:28.485Z"
   },
   {
    "duration": 3,
    "start_time": "2022-05-12T06:07:28.574Z"
   },
   {
    "duration": 24,
    "start_time": "2022-05-12T06:07:28.579Z"
   },
   {
    "duration": 6,
    "start_time": "2022-05-12T06:07:28.605Z"
   },
   {
    "duration": 8,
    "start_time": "2022-05-12T06:07:28.612Z"
   },
   {
    "duration": 41,
    "start_time": "2022-05-12T06:07:28.622Z"
   },
   {
    "duration": 7,
    "start_time": "2022-05-12T06:07:28.664Z"
   },
   {
    "duration": 8,
    "start_time": "2022-05-12T06:07:28.672Z"
   },
   {
    "duration": 5,
    "start_time": "2022-05-12T06:07:28.681Z"
   },
   {
    "duration": 7,
    "start_time": "2022-05-12T06:07:28.687Z"
   },
   {
    "duration": 4,
    "start_time": "2022-05-12T06:14:53.907Z"
   },
   {
    "duration": 4466,
    "start_time": "2022-05-12T06:15:00.548Z"
   },
   {
    "duration": 4,
    "start_time": "2022-05-12T06:15:09.527Z"
   },
   {
    "duration": 1145,
    "start_time": "2022-05-12T06:45:11.856Z"
   },
   {
    "duration": 398,
    "start_time": "2022-05-12T06:45:13.003Z"
   },
   {
    "duration": 50,
    "start_time": "2022-05-12T06:45:13.402Z"
   },
   {
    "duration": 148,
    "start_time": "2022-05-12T06:45:13.455Z"
   },
   {
    "duration": 4,
    "start_time": "2022-05-12T06:45:13.605Z"
   },
   {
    "duration": 41,
    "start_time": "2022-05-12T06:45:13.611Z"
   },
   {
    "duration": 9,
    "start_time": "2022-05-12T06:45:13.653Z"
   },
   {
    "duration": 124,
    "start_time": "2022-05-12T06:45:13.663Z"
   },
   {
    "duration": 40,
    "start_time": "2022-05-12T06:45:13.789Z"
   },
   {
    "duration": 102,
    "start_time": "2022-05-12T06:45:13.832Z"
   },
   {
    "duration": 14,
    "start_time": "2022-05-12T06:45:13.936Z"
   },
   {
    "duration": 48,
    "start_time": "2022-05-12T06:45:13.952Z"
   },
   {
    "duration": 7,
    "start_time": "2022-05-12T06:45:14.001Z"
   },
   {
    "duration": 101,
    "start_time": "2022-05-12T06:45:14.010Z"
   },
   {
    "duration": 21,
    "start_time": "2022-05-12T06:45:14.113Z"
   },
   {
    "duration": 69,
    "start_time": "2022-05-12T06:45:14.135Z"
   },
   {
    "duration": 46,
    "start_time": "2022-05-12T06:45:14.206Z"
   },
   {
    "duration": 15,
    "start_time": "2022-05-12T06:45:14.254Z"
   },
   {
    "duration": 55,
    "start_time": "2022-05-12T06:45:14.270Z"
   },
   {
    "duration": 74,
    "start_time": "2022-05-12T06:45:14.327Z"
   },
   {
    "duration": 17,
    "start_time": "2022-05-12T06:45:14.402Z"
   },
   {
    "duration": 32,
    "start_time": "2022-05-12T06:45:14.420Z"
   },
   {
    "duration": 27,
    "start_time": "2022-05-12T06:45:14.454Z"
   },
   {
    "duration": 19,
    "start_time": "2022-05-12T06:45:14.483Z"
   },
   {
    "duration": 8,
    "start_time": "2022-05-12T06:45:14.503Z"
   },
   {
    "duration": 14,
    "start_time": "2022-05-12T06:45:14.512Z"
   },
   {
    "duration": 13,
    "start_time": "2022-05-12T06:45:14.528Z"
   },
   {
    "duration": 4,
    "start_time": "2022-05-12T06:45:14.545Z"
   },
   {
    "duration": 8,
    "start_time": "2022-05-12T06:45:14.551Z"
   },
   {
    "duration": 9,
    "start_time": "2022-05-12T06:45:14.560Z"
   },
   {
    "duration": 37,
    "start_time": "2022-05-12T06:45:14.570Z"
   },
   {
    "duration": 4,
    "start_time": "2022-05-12T06:45:14.608Z"
   },
   {
    "duration": 9,
    "start_time": "2022-05-12T06:45:14.614Z"
   },
   {
    "duration": 10,
    "start_time": "2022-05-12T06:45:14.625Z"
   },
   {
    "duration": 3,
    "start_time": "2022-05-12T06:45:14.637Z"
   },
   {
    "duration": 8,
    "start_time": "2022-05-12T06:45:14.642Z"
   },
   {
    "duration": 7,
    "start_time": "2022-05-12T06:45:14.651Z"
   },
   {
    "duration": 6,
    "start_time": "2022-05-12T06:45:14.659Z"
   },
   {
    "duration": 36,
    "start_time": "2022-05-12T06:45:14.666Z"
   },
   {
    "duration": 10,
    "start_time": "2022-05-12T06:45:14.703Z"
   },
   {
    "duration": 15,
    "start_time": "2022-05-12T06:45:14.714Z"
   },
   {
    "duration": 286,
    "start_time": "2022-05-12T06:45:14.730Z"
   },
   {
    "duration": 15,
    "start_time": "2022-05-12T06:45:15.017Z"
   },
   {
    "duration": 239,
    "start_time": "2022-05-12T06:45:15.033Z"
   },
   {
    "duration": 192,
    "start_time": "2022-05-12T06:45:15.274Z"
   },
   {
    "duration": 152,
    "start_time": "2022-05-12T06:45:15.467Z"
   },
   {
    "duration": 13,
    "start_time": "2022-05-12T06:45:15.621Z"
   },
   {
    "duration": 243,
    "start_time": "2022-05-12T06:45:15.635Z"
   },
   {
    "duration": 28,
    "start_time": "2022-05-12T06:45:15.879Z"
   },
   {
    "duration": 261,
    "start_time": "2022-05-12T06:45:15.909Z"
   },
   {
    "duration": 196,
    "start_time": "2022-05-12T06:45:16.172Z"
   },
   {
    "duration": 132,
    "start_time": "2022-05-12T06:45:16.370Z"
   },
   {
    "duration": 13,
    "start_time": "2022-05-12T06:45:16.503Z"
   },
   {
    "duration": 341,
    "start_time": "2022-05-12T06:45:16.518Z"
   },
   {
    "duration": 13,
    "start_time": "2022-05-12T06:45:16.861Z"
   },
   {
    "duration": 294,
    "start_time": "2022-05-12T06:45:16.876Z"
   },
   {
    "duration": 195,
    "start_time": "2022-05-12T06:45:17.171Z"
   },
   {
    "duration": 136,
    "start_time": "2022-05-12T06:45:17.368Z"
   },
   {
    "duration": 272,
    "start_time": "2022-05-12T06:45:17.505Z"
   },
   {
    "duration": 0,
    "start_time": "2022-05-12T06:45:17.778Z"
   },
   {
    "duration": 0,
    "start_time": "2022-05-12T06:45:17.780Z"
   },
   {
    "duration": 0,
    "start_time": "2022-05-12T06:45:17.780Z"
   },
   {
    "duration": 0,
    "start_time": "2022-05-12T06:45:17.781Z"
   },
   {
    "duration": 0,
    "start_time": "2022-05-12T06:45:17.782Z"
   },
   {
    "duration": 0,
    "start_time": "2022-05-12T06:45:17.783Z"
   },
   {
    "duration": 0,
    "start_time": "2022-05-12T06:45:17.784Z"
   },
   {
    "duration": 0,
    "start_time": "2022-05-12T06:45:17.800Z"
   },
   {
    "duration": 0,
    "start_time": "2022-05-12T06:45:17.801Z"
   },
   {
    "duration": 0,
    "start_time": "2022-05-12T06:45:17.802Z"
   },
   {
    "duration": 0,
    "start_time": "2022-05-12T06:45:17.802Z"
   },
   {
    "duration": 0,
    "start_time": "2022-05-12T06:45:17.803Z"
   },
   {
    "duration": 0,
    "start_time": "2022-05-12T06:45:17.804Z"
   },
   {
    "duration": 0,
    "start_time": "2022-05-12T06:45:17.805Z"
   },
   {
    "duration": 0,
    "start_time": "2022-05-12T06:45:17.806Z"
   },
   {
    "duration": 10,
    "start_time": "2022-05-12T06:45:50.937Z"
   },
   {
    "duration": 211,
    "start_time": "2022-05-12T06:46:10.021Z"
   },
   {
    "duration": 215,
    "start_time": "2022-05-12T06:47:16.258Z"
   },
   {
    "duration": 208,
    "start_time": "2022-05-12T06:48:42.857Z"
   },
   {
    "duration": 6,
    "start_time": "2022-05-12T06:48:43.067Z"
   },
   {
    "duration": 80,
    "start_time": "2022-05-12T06:48:43.074Z"
   },
   {
    "duration": 121,
    "start_time": "2022-05-12T06:48:43.156Z"
   },
   {
    "duration": 4,
    "start_time": "2022-05-12T06:48:43.278Z"
   },
   {
    "duration": 59,
    "start_time": "2022-05-12T06:48:43.284Z"
   },
   {
    "duration": 79,
    "start_time": "2022-05-12T06:48:43.344Z"
   },
   {
    "duration": 3,
    "start_time": "2022-05-12T06:48:43.424Z"
   },
   {
    "duration": 14,
    "start_time": "2022-05-12T06:48:43.429Z"
   },
   {
    "duration": 6,
    "start_time": "2022-05-12T06:48:43.445Z"
   },
   {
    "duration": 9,
    "start_time": "2022-05-12T06:48:43.452Z"
   },
   {
    "duration": 10,
    "start_time": "2022-05-12T06:48:43.462Z"
   },
   {
    "duration": 29,
    "start_time": "2022-05-12T06:48:43.474Z"
   },
   {
    "duration": 10,
    "start_time": "2022-05-12T06:48:43.504Z"
   },
   {
    "duration": 7,
    "start_time": "2022-05-12T06:48:43.515Z"
   },
   {
    "duration": 15,
    "start_time": "2022-05-12T06:48:43.524Z"
   },
   {
    "duration": 14,
    "start_time": "2022-05-12T06:54:30.867Z"
   },
   {
    "duration": 1543,
    "start_time": "2022-05-13T07:19:16.325Z"
   },
   {
    "duration": 488,
    "start_time": "2022-05-13T07:19:17.871Z"
   },
   {
    "duration": 72,
    "start_time": "2022-05-13T07:19:18.362Z"
   },
   {
    "duration": 229,
    "start_time": "2022-05-13T07:19:18.437Z"
   },
   {
    "duration": 5,
    "start_time": "2022-05-13T07:19:18.668Z"
   },
   {
    "duration": 86,
    "start_time": "2022-05-13T07:19:18.675Z"
   },
   {
    "duration": 13,
    "start_time": "2022-05-13T07:19:18.763Z"
   },
   {
    "duration": 186,
    "start_time": "2022-05-13T07:19:18.779Z"
   },
   {
    "duration": 72,
    "start_time": "2022-05-13T07:19:18.967Z"
   },
   {
    "duration": 142,
    "start_time": "2022-05-13T07:19:19.043Z"
   },
   {
    "duration": 37,
    "start_time": "2022-05-13T07:19:19.187Z"
   },
   {
    "duration": 52,
    "start_time": "2022-05-13T07:19:19.226Z"
   },
   {
    "duration": 10,
    "start_time": "2022-05-13T07:19:19.280Z"
   },
   {
    "duration": 151,
    "start_time": "2022-05-13T07:19:19.324Z"
   },
   {
    "duration": 5,
    "start_time": "2022-05-13T07:19:19.477Z"
   },
   {
    "duration": 39,
    "start_time": "2022-05-13T07:19:19.485Z"
   },
   {
    "duration": 29,
    "start_time": "2022-05-13T07:19:19.527Z"
   },
   {
    "duration": 191,
    "start_time": "2022-05-13T07:19:19.558Z"
   },
   {
    "duration": 84,
    "start_time": "2022-05-13T07:19:19.752Z"
   },
   {
    "duration": 19,
    "start_time": "2022-05-13T07:19:19.838Z"
   },
   {
    "duration": 52,
    "start_time": "2022-05-13T07:19:19.859Z"
   },
   {
    "duration": 112,
    "start_time": "2022-05-13T07:19:19.913Z"
   },
   {
    "duration": 25,
    "start_time": "2022-05-13T07:19:20.027Z"
   },
   {
    "duration": 60,
    "start_time": "2022-05-13T07:19:20.054Z"
   },
   {
    "duration": 47,
    "start_time": "2022-05-13T07:19:20.125Z"
   },
   {
    "duration": 3,
    "start_time": "2022-05-13T07:19:20.174Z"
   },
   {
    "duration": 11,
    "start_time": "2022-05-13T07:19:20.179Z"
   },
   {
    "duration": 27,
    "start_time": "2022-05-13T07:19:20.196Z"
   },
   {
    "duration": 5,
    "start_time": "2022-05-13T07:19:20.226Z"
   },
   {
    "duration": 12,
    "start_time": "2022-05-13T07:19:20.233Z"
   },
   {
    "duration": 10,
    "start_time": "2022-05-13T07:19:20.247Z"
   },
   {
    "duration": 16,
    "start_time": "2022-05-13T07:19:20.259Z"
   },
   {
    "duration": 6,
    "start_time": "2022-05-13T07:19:20.277Z"
   },
   {
    "duration": 49,
    "start_time": "2022-05-13T07:19:20.285Z"
   },
   {
    "duration": 18,
    "start_time": "2022-05-13T07:19:20.336Z"
   },
   {
    "duration": 6,
    "start_time": "2022-05-13T07:19:20.356Z"
   },
   {
    "duration": 65,
    "start_time": "2022-05-13T07:19:20.364Z"
   },
   {
    "duration": 11,
    "start_time": "2022-05-13T07:19:20.431Z"
   },
   {
    "duration": 17,
    "start_time": "2022-05-13T07:19:20.444Z"
   },
   {
    "duration": 6,
    "start_time": "2022-05-13T07:19:20.464Z"
   },
   {
    "duration": 18,
    "start_time": "2022-05-13T07:19:20.472Z"
   },
   {
    "duration": 48,
    "start_time": "2022-05-13T07:19:20.492Z"
   },
   {
    "duration": 585,
    "start_time": "2022-05-13T07:19:20.543Z"
   },
   {
    "duration": 20,
    "start_time": "2022-05-13T07:19:21.130Z"
   },
   {
    "duration": 431,
    "start_time": "2022-05-13T07:19:21.153Z"
   },
   {
    "duration": 321,
    "start_time": "2022-05-13T07:19:21.587Z"
   },
   {
    "duration": 450,
    "start_time": "2022-05-13T07:19:21.910Z"
   },
   {
    "duration": 22,
    "start_time": "2022-05-13T07:19:22.363Z"
   },
   {
    "duration": 391,
    "start_time": "2022-05-13T07:19:22.387Z"
   },
   {
    "duration": 21,
    "start_time": "2022-05-13T07:19:22.780Z"
   },
   {
    "duration": 369,
    "start_time": "2022-05-13T07:19:22.803Z"
   },
   {
    "duration": 350,
    "start_time": "2022-05-13T07:19:23.174Z"
   },
   {
    "duration": 547,
    "start_time": "2022-05-13T07:19:23.526Z"
   },
   {
    "duration": 22,
    "start_time": "2022-05-13T07:19:24.075Z"
   },
   {
    "duration": 359,
    "start_time": "2022-05-13T07:19:24.100Z"
   },
   {
    "duration": 23,
    "start_time": "2022-05-13T07:19:24.462Z"
   },
   {
    "duration": 379,
    "start_time": "2022-05-13T07:19:24.487Z"
   },
   {
    "duration": 343,
    "start_time": "2022-05-13T07:19:24.868Z"
   },
   {
    "duration": 456,
    "start_time": "2022-05-13T07:19:25.213Z"
   },
   {
    "duration": 441,
    "start_time": "2022-05-13T07:19:25.671Z"
   },
   {
    "duration": 17,
    "start_time": "2022-05-13T07:19:26.114Z"
   },
   {
    "duration": 40,
    "start_time": "2022-05-13T07:19:26.133Z"
   },
   {
    "duration": 7,
    "start_time": "2022-05-13T07:19:26.175Z"
   },
   {
    "duration": 17,
    "start_time": "2022-05-13T07:19:26.184Z"
   },
   {
    "duration": 39,
    "start_time": "2022-05-13T07:19:26.203Z"
   },
   {
    "duration": 12,
    "start_time": "2022-05-13T07:19:26.244Z"
   },
   {
    "duration": 6,
    "start_time": "2022-05-13T07:19:26.258Z"
   },
   {
    "duration": 13,
    "start_time": "2022-05-13T07:19:26.266Z"
   },
   {
    "duration": 55,
    "start_time": "2022-05-13T07:19:26.281Z"
   },
   {
    "duration": 10,
    "start_time": "2022-05-13T07:19:26.338Z"
   },
   {
    "duration": 12,
    "start_time": "2022-05-13T07:19:26.350Z"
   },
   {
    "duration": 11,
    "start_time": "2022-05-13T07:19:26.364Z"
   }
  ],
  "kernelspec": {
   "display_name": "Python 3 (ipykernel)",
   "language": "python",
   "name": "python3"
  },
  "language_info": {
   "codemirror_mode": {
    "name": "ipython",
    "version": 3
   },
   "file_extension": ".py",
   "mimetype": "text/x-python",
   "name": "python",
   "nbconvert_exporter": "python",
   "pygments_lexer": "ipython3",
   "version": "3.9.7"
  },
  "toc": {
   "base_numbering": 1,
   "nav_menu": {},
   "number_sections": true,
   "sideBar": true,
   "skip_h1_title": true,
   "title_cell": "Table of Contents",
   "title_sidebar": "Contents",
   "toc_cell": true,
   "toc_position": {
    "height": "calc(100% - 180px)",
    "left": "10px",
    "top": "150px",
    "width": "303.812px"
   },
   "toc_section_display": true,
   "toc_window_display": false
  }
 },
 "nbformat": 4,
 "nbformat_minor": 5
}
