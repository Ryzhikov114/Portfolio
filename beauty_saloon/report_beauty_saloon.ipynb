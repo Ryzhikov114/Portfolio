{
  "nbformat": 4,
  "nbformat_minor": 0,
  "metadata": {
    "colab": {
      "provenance": [],
      "collapsed_sections": []
    },
    "kernelspec": {
      "name": "python3",
      "display_name": "Python 3"
    },
    "language_info": {
      "name": "python"
    }
  },
  "cells": [
    {
      "cell_type": "markdown",
      "source": [
        "# Бриф\n",
        "\n",
        "Необходимо построить сквозную аналитику для салона красоты. У салона есть реклама в онлайне и сайт, через который можно оставить заявку на услугу. \n",
        "\n",
        "# Задача\n",
        "\n",
        "Нужно проследить путь от клика по рекламному объявлению до покупки и, таким образом, оценить эффективность маркетинга. \n",
        "\n",
        "> Клик по рекламе трансформируется в лид (заявку), а лид превращается в клиента, который уже может совершить некоторое количество покупок."
      ],
      "metadata": {
        "id": "GkAuTgKo0STB"
      }
    },
    {
      "cell_type": "markdown",
      "source": [
        "# 📚 1. Импорт"
      ],
      "metadata": {
        "id": "gqgczHquznwT"
      }
    },
    {
      "cell_type": "code",
      "source": [
        "import pandas as pd\n",
        "import numpy as np\n",
        "import matplotlib.pyplot as plt\n",
        "import seaborn as sns\n",
        "import warnings\n",
        "\n",
        "warnings.filterwarnings(\"ignore\")"
      ],
      "metadata": {
        "id": "uBKDVYmqyqq8"
      },
      "execution_count": 1,
      "outputs": []
    },
    {
      "cell_type": "markdown",
      "source": [
        "# 🛒 2. Загрузка файла"
      ],
      "metadata": {
        "id": "pBsO43LtztCO"
      }
    },
    {
      "cell_type": "markdown",
      "source": [
        "https://drive.google.com/file/d/1h87CdXJ9A6gVeKA_HfSHnyDsAoDRxjKM/view?usp=sharing - ads\n",
        "\n",
        "https://drive.google.com/file/d/168k12wl3eVbX7gX2vIVLoPZ76KuwT-VS/view?usp=sharing - purcahse\n",
        "\n",
        "https://drive.google.com/file/d/1jlH-sawHyBgB7CEuSJjfOeubncOg8Ks9/view?usp=sharing - leads"
      ],
      "metadata": {
        "id": "Pd6BmCKax8pd"
      }
    },
    {
      "cell_type": "code",
      "execution_count": 2,
      "metadata": {
        "colab": {
          "base_uri": "https://localhost:8080/"
        },
        "id": "U9D-eRMmx7rx",
        "outputId": "799fe6ea-dac1-4c56-cebd-a5df345def86"
      },
      "outputs": [
        {
          "output_type": "stream",
          "name": "stdout",
          "text": [
            "Downloading...\n",
            "From: https://drive.google.com/uc?id=1h87CdXJ9A6gVeKA_HfSHnyDsAoDRxjKM\n",
            "To: /content/ads.csv\n",
            "100% 612k/612k [00:00<00:00, 120MB/s]\n",
            "Downloading...\n",
            "From: https://drive.google.com/uc?id=168k12wl3eVbX7gX2vIVLoPZ76KuwT-VS\n",
            "To: /content/purchases.csv\n",
            "100% 6.02M/6.02M [00:00<00:00, 207MB/s]\n",
            "Downloading...\n",
            "From: https://drive.google.com/uc?id=1jlH-sawHyBgB7CEuSJjfOeubncOg8Ks9\n",
            "To: /content/leads.csv\n",
            "100% 2.22M/2.22M [00:00<00:00, 132MB/s]\n"
          ]
        }
      ],
      "source": [
        "!gdown 1h87CdXJ9A6gVeKA_HfSHnyDsAoDRxjKM\n",
        "!gdown 168k12wl3eVbX7gX2vIVLoPZ76KuwT-VS\n",
        "!gdown 1jlH-sawHyBgB7CEuSJjfOeubncOg8Ks9"
      ]
    },
    {
      "cell_type": "code",
      "source": [
        "ads = pd.read_csv('/content/ads.csv')"
      ],
      "metadata": {
        "id": "63l35hy_yqtT"
      },
      "execution_count": 3,
      "outputs": []
    },
    {
      "cell_type": "code",
      "source": [
        "ads.head()"
      ],
      "metadata": {
        "colab": {
          "base_uri": "https://localhost:8080/",
          "height": 206
        },
        "id": "xmzC09xbyqx0",
        "outputId": "8d392937-e4f5-41ec-b8bc-7f0d824aff85"
      },
      "execution_count": 4,
      "outputs": [
        {
          "output_type": "execute_result",
          "data": {
            "text/plain": [
              "   created_at   d_ad_account_id d_utm_source d_utm_medium  d_utm_campaign  \\\n",
              "0  2022-08-08  xo-for-client-ya       yandex          cpc        48306435   \n",
              "1  2022-08-08  xo-for-client-ya       yandex          cpc        48306435   \n",
              "2  2022-08-08  xo-for-client-ya       yandex          cpc        48306435   \n",
              "3  2022-08-08  xo-for-client-ya       yandex          cpc        48306435   \n",
              "4  2022-08-08  xo-for-client-ya       yandex          cpc        48306435   \n",
              "\n",
              "   d_utm_content  d_utm_term  m_clicks   m_cost  \n",
              "0     8404700756         NaN       2.0   48.840  \n",
              "1     8813476161         NaN       3.0  100.776  \n",
              "2     8813476162         NaN       1.0   10.140  \n",
              "3     8813476163         NaN       0.0    0.000  \n",
              "4     8813476164         NaN       0.0    0.000  "
            ],
            "text/html": [
              "\n",
              "  <div id=\"df-7bfb5323-74dd-4439-9e4a-0a2b43ebaaa5\">\n",
              "    <div class=\"colab-df-container\">\n",
              "      <div>\n",
              "<style scoped>\n",
              "    .dataframe tbody tr th:only-of-type {\n",
              "        vertical-align: middle;\n",
              "    }\n",
              "\n",
              "    .dataframe tbody tr th {\n",
              "        vertical-align: top;\n",
              "    }\n",
              "\n",
              "    .dataframe thead th {\n",
              "        text-align: right;\n",
              "    }\n",
              "</style>\n",
              "<table border=\"1\" class=\"dataframe\">\n",
              "  <thead>\n",
              "    <tr style=\"text-align: right;\">\n",
              "      <th></th>\n",
              "      <th>created_at</th>\n",
              "      <th>d_ad_account_id</th>\n",
              "      <th>d_utm_source</th>\n",
              "      <th>d_utm_medium</th>\n",
              "      <th>d_utm_campaign</th>\n",
              "      <th>d_utm_content</th>\n",
              "      <th>d_utm_term</th>\n",
              "      <th>m_clicks</th>\n",
              "      <th>m_cost</th>\n",
              "    </tr>\n",
              "  </thead>\n",
              "  <tbody>\n",
              "    <tr>\n",
              "      <th>0</th>\n",
              "      <td>2022-08-08</td>\n",
              "      <td>xo-for-client-ya</td>\n",
              "      <td>yandex</td>\n",
              "      <td>cpc</td>\n",
              "      <td>48306435</td>\n",
              "      <td>8404700756</td>\n",
              "      <td>NaN</td>\n",
              "      <td>2.0</td>\n",
              "      <td>48.840</td>\n",
              "    </tr>\n",
              "    <tr>\n",
              "      <th>1</th>\n",
              "      <td>2022-08-08</td>\n",
              "      <td>xo-for-client-ya</td>\n",
              "      <td>yandex</td>\n",
              "      <td>cpc</td>\n",
              "      <td>48306435</td>\n",
              "      <td>8813476161</td>\n",
              "      <td>NaN</td>\n",
              "      <td>3.0</td>\n",
              "      <td>100.776</td>\n",
              "    </tr>\n",
              "    <tr>\n",
              "      <th>2</th>\n",
              "      <td>2022-08-08</td>\n",
              "      <td>xo-for-client-ya</td>\n",
              "      <td>yandex</td>\n",
              "      <td>cpc</td>\n",
              "      <td>48306435</td>\n",
              "      <td>8813476162</td>\n",
              "      <td>NaN</td>\n",
              "      <td>1.0</td>\n",
              "      <td>10.140</td>\n",
              "    </tr>\n",
              "    <tr>\n",
              "      <th>3</th>\n",
              "      <td>2022-08-08</td>\n",
              "      <td>xo-for-client-ya</td>\n",
              "      <td>yandex</td>\n",
              "      <td>cpc</td>\n",
              "      <td>48306435</td>\n",
              "      <td>8813476163</td>\n",
              "      <td>NaN</td>\n",
              "      <td>0.0</td>\n",
              "      <td>0.000</td>\n",
              "    </tr>\n",
              "    <tr>\n",
              "      <th>4</th>\n",
              "      <td>2022-08-08</td>\n",
              "      <td>xo-for-client-ya</td>\n",
              "      <td>yandex</td>\n",
              "      <td>cpc</td>\n",
              "      <td>48306435</td>\n",
              "      <td>8813476164</td>\n",
              "      <td>NaN</td>\n",
              "      <td>0.0</td>\n",
              "      <td>0.000</td>\n",
              "    </tr>\n",
              "  </tbody>\n",
              "</table>\n",
              "</div>\n",
              "      <button class=\"colab-df-convert\" onclick=\"convertToInteractive('df-7bfb5323-74dd-4439-9e4a-0a2b43ebaaa5')\"\n",
              "              title=\"Convert this dataframe to an interactive table.\"\n",
              "              style=\"display:none;\">\n",
              "        \n",
              "  <svg xmlns=\"http://www.w3.org/2000/svg\" height=\"24px\"viewBox=\"0 0 24 24\"\n",
              "       width=\"24px\">\n",
              "    <path d=\"M0 0h24v24H0V0z\" fill=\"none\"/>\n",
              "    <path d=\"M18.56 5.44l.94 2.06.94-2.06 2.06-.94-2.06-.94-.94-2.06-.94 2.06-2.06.94zm-11 1L8.5 8.5l.94-2.06 2.06-.94-2.06-.94L8.5 2.5l-.94 2.06-2.06.94zm10 10l.94 2.06.94-2.06 2.06-.94-2.06-.94-.94-2.06-.94 2.06-2.06.94z\"/><path d=\"M17.41 7.96l-1.37-1.37c-.4-.4-.92-.59-1.43-.59-.52 0-1.04.2-1.43.59L10.3 9.45l-7.72 7.72c-.78.78-.78 2.05 0 2.83L4 21.41c.39.39.9.59 1.41.59.51 0 1.02-.2 1.41-.59l7.78-7.78 2.81-2.81c.8-.78.8-2.07 0-2.86zM5.41 20L4 18.59l7.72-7.72 1.47 1.35L5.41 20z\"/>\n",
              "  </svg>\n",
              "      </button>\n",
              "      \n",
              "  <style>\n",
              "    .colab-df-container {\n",
              "      display:flex;\n",
              "      flex-wrap:wrap;\n",
              "      gap: 12px;\n",
              "    }\n",
              "\n",
              "    .colab-df-convert {\n",
              "      background-color: #E8F0FE;\n",
              "      border: none;\n",
              "      border-radius: 50%;\n",
              "      cursor: pointer;\n",
              "      display: none;\n",
              "      fill: #1967D2;\n",
              "      height: 32px;\n",
              "      padding: 0 0 0 0;\n",
              "      width: 32px;\n",
              "    }\n",
              "\n",
              "    .colab-df-convert:hover {\n",
              "      background-color: #E2EBFA;\n",
              "      box-shadow: 0px 1px 2px rgba(60, 64, 67, 0.3), 0px 1px 3px 1px rgba(60, 64, 67, 0.15);\n",
              "      fill: #174EA6;\n",
              "    }\n",
              "\n",
              "    [theme=dark] .colab-df-convert {\n",
              "      background-color: #3B4455;\n",
              "      fill: #D2E3FC;\n",
              "    }\n",
              "\n",
              "    [theme=dark] .colab-df-convert:hover {\n",
              "      background-color: #434B5C;\n",
              "      box-shadow: 0px 1px 3px 1px rgba(0, 0, 0, 0.15);\n",
              "      filter: drop-shadow(0px 1px 2px rgba(0, 0, 0, 0.3));\n",
              "      fill: #FFFFFF;\n",
              "    }\n",
              "  </style>\n",
              "\n",
              "      <script>\n",
              "        const buttonEl =\n",
              "          document.querySelector('#df-7bfb5323-74dd-4439-9e4a-0a2b43ebaaa5 button.colab-df-convert');\n",
              "        buttonEl.style.display =\n",
              "          google.colab.kernel.accessAllowed ? 'block' : 'none';\n",
              "\n",
              "        async function convertToInteractive(key) {\n",
              "          const element = document.querySelector('#df-7bfb5323-74dd-4439-9e4a-0a2b43ebaaa5');\n",
              "          const dataTable =\n",
              "            await google.colab.kernel.invokeFunction('convertToInteractive',\n",
              "                                                     [key], {});\n",
              "          if (!dataTable) return;\n",
              "\n",
              "          const docLinkHtml = 'Like what you see? Visit the ' +\n",
              "            '<a target=\"_blank\" href=https://colab.research.google.com/notebooks/data_table.ipynb>data table notebook</a>'\n",
              "            + ' to learn more about interactive tables.';\n",
              "          element.innerHTML = '';\n",
              "          dataTable['output_type'] = 'display_data';\n",
              "          await google.colab.output.renderOutput(dataTable, element);\n",
              "          const docLink = document.createElement('div');\n",
              "          docLink.innerHTML = docLinkHtml;\n",
              "          element.appendChild(docLink);\n",
              "        }\n",
              "      </script>\n",
              "    </div>\n",
              "  </div>\n",
              "  "
            ]
          },
          "metadata": {},
          "execution_count": 4
        }
      ]
    },
    {
      "cell_type": "code",
      "source": [
        "ads.info()"
      ],
      "metadata": {
        "colab": {
          "base_uri": "https://localhost:8080/"
        },
        "id": "Z8qcqE13y9_T",
        "outputId": "b31e2f7a-7d7b-46bc-e2a9-5484b7067d5b"
      },
      "execution_count": 5,
      "outputs": [
        {
          "output_type": "stream",
          "name": "stdout",
          "text": [
            "<class 'pandas.core.frame.DataFrame'>\n",
            "RangeIndex: 8602 entries, 0 to 8601\n",
            "Data columns (total 9 columns):\n",
            " #   Column           Non-Null Count  Dtype  \n",
            "---  ------           --------------  -----  \n",
            " 0   created_at       8602 non-null   object \n",
            " 1   d_ad_account_id  8602 non-null   object \n",
            " 2   d_utm_source     8602 non-null   object \n",
            " 3   d_utm_medium     8602 non-null   object \n",
            " 4   d_utm_campaign   8602 non-null   int64  \n",
            " 5   d_utm_content    8602 non-null   int64  \n",
            " 6   d_utm_term       0 non-null      float64\n",
            " 7   m_clicks         8602 non-null   float64\n",
            " 8   m_cost           8602 non-null   float64\n",
            "dtypes: float64(3), int64(2), object(4)\n",
            "memory usage: 605.0+ KB\n"
          ]
        }
      ]
    },
    {
      "cell_type": "markdown",
      "source": [
        "- 8 столбцов\n",
        "- 8602 строки\n",
        "- пустой столбец d_utm_term\n",
        "- столбец created_at неверный формат "
      ],
      "metadata": {
        "id": "RjNO1R__z5kz"
      }
    },
    {
      "cell_type": "code",
      "source": [
        "leads = pd.read_csv('/content/leads.csv')"
      ],
      "metadata": {
        "id": "6FN-ZKzHy-Bw"
      },
      "execution_count": 6,
      "outputs": []
    },
    {
      "cell_type": "code",
      "source": [
        "leads.head()"
      ],
      "metadata": {
        "colab": {
          "base_uri": "https://localhost:8080/",
          "height": 337
        },
        "id": "LRoEnenzy-Dy",
        "outputId": "7e7e850c-bcb1-408c-cb66-8e2634ce7194"
      },
      "execution_count": 7,
      "outputs": [
        {
          "output_type": "execute_result",
          "data": {
            "text/plain": [
              "  lead_created_at                               lead_id d_lead_utm_source  \\\n",
              "0      2022-10-16  d8c4a9e8-4d4a-11ed-907e-848f69e142cf               NaN   \n",
              "1      2022-10-16  c48f9767-4d4a-11ed-907e-848f69e142cf               NaN   \n",
              "2      2022-10-16  d74ac455-4d49-11ed-907e-848f69e142cf         vkontakte   \n",
              "3      2022-10-16  0f69e77d-4d46-11ed-907e-848f69e142cf               NaN   \n",
              "4      2022-10-16  620ee1eb-4d45-11ed-907e-848f69e142cf             ycard   \n",
              "\n",
              "  d_lead_utm_medium d_lead_utm_campaign d_lead_utm_content d_lead_utm_term  \\\n",
              "0               NaN                 NaN                NaN             NaN   \n",
              "1               NaN                 NaN                NaN             NaN   \n",
              "2            social       kartasetevaya                NaN             NaN   \n",
              "3               NaN                 NaN                NaN             NaN   \n",
              "4            social                 all                NaN             NaN   \n",
              "\n",
              "                              client_id  \n",
              "0  d8c4a9e9-4d4a-11ed-907e-848f69e142cf  \n",
              "1  c48f9768-4d4a-11ed-907e-848f69e142cf  \n",
              "2  f64c97d5-31ff-11ea-abeb-c412f533dba1  \n",
              "3                                   NaN  \n",
              "4                                   NaN  "
            ],
            "text/html": [
              "\n",
              "  <div id=\"df-f9157a4e-50ba-442b-b51c-7a86164e0b01\">\n",
              "    <div class=\"colab-df-container\">\n",
              "      <div>\n",
              "<style scoped>\n",
              "    .dataframe tbody tr th:only-of-type {\n",
              "        vertical-align: middle;\n",
              "    }\n",
              "\n",
              "    .dataframe tbody tr th {\n",
              "        vertical-align: top;\n",
              "    }\n",
              "\n",
              "    .dataframe thead th {\n",
              "        text-align: right;\n",
              "    }\n",
              "</style>\n",
              "<table border=\"1\" class=\"dataframe\">\n",
              "  <thead>\n",
              "    <tr style=\"text-align: right;\">\n",
              "      <th></th>\n",
              "      <th>lead_created_at</th>\n",
              "      <th>lead_id</th>\n",
              "      <th>d_lead_utm_source</th>\n",
              "      <th>d_lead_utm_medium</th>\n",
              "      <th>d_lead_utm_campaign</th>\n",
              "      <th>d_lead_utm_content</th>\n",
              "      <th>d_lead_utm_term</th>\n",
              "      <th>client_id</th>\n",
              "    </tr>\n",
              "  </thead>\n",
              "  <tbody>\n",
              "    <tr>\n",
              "      <th>0</th>\n",
              "      <td>2022-10-16</td>\n",
              "      <td>d8c4a9e8-4d4a-11ed-907e-848f69e142cf</td>\n",
              "      <td>NaN</td>\n",
              "      <td>NaN</td>\n",
              "      <td>NaN</td>\n",
              "      <td>NaN</td>\n",
              "      <td>NaN</td>\n",
              "      <td>d8c4a9e9-4d4a-11ed-907e-848f69e142cf</td>\n",
              "    </tr>\n",
              "    <tr>\n",
              "      <th>1</th>\n",
              "      <td>2022-10-16</td>\n",
              "      <td>c48f9767-4d4a-11ed-907e-848f69e142cf</td>\n",
              "      <td>NaN</td>\n",
              "      <td>NaN</td>\n",
              "      <td>NaN</td>\n",
              "      <td>NaN</td>\n",
              "      <td>NaN</td>\n",
              "      <td>c48f9768-4d4a-11ed-907e-848f69e142cf</td>\n",
              "    </tr>\n",
              "    <tr>\n",
              "      <th>2</th>\n",
              "      <td>2022-10-16</td>\n",
              "      <td>d74ac455-4d49-11ed-907e-848f69e142cf</td>\n",
              "      <td>vkontakte</td>\n",
              "      <td>social</td>\n",
              "      <td>kartasetevaya</td>\n",
              "      <td>NaN</td>\n",
              "      <td>NaN</td>\n",
              "      <td>f64c97d5-31ff-11ea-abeb-c412f533dba1</td>\n",
              "    </tr>\n",
              "    <tr>\n",
              "      <th>3</th>\n",
              "      <td>2022-10-16</td>\n",
              "      <td>0f69e77d-4d46-11ed-907e-848f69e142cf</td>\n",
              "      <td>NaN</td>\n",
              "      <td>NaN</td>\n",
              "      <td>NaN</td>\n",
              "      <td>NaN</td>\n",
              "      <td>NaN</td>\n",
              "      <td>NaN</td>\n",
              "    </tr>\n",
              "    <tr>\n",
              "      <th>4</th>\n",
              "      <td>2022-10-16</td>\n",
              "      <td>620ee1eb-4d45-11ed-907e-848f69e142cf</td>\n",
              "      <td>ycard</td>\n",
              "      <td>social</td>\n",
              "      <td>all</td>\n",
              "      <td>NaN</td>\n",
              "      <td>NaN</td>\n",
              "      <td>NaN</td>\n",
              "    </tr>\n",
              "  </tbody>\n",
              "</table>\n",
              "</div>\n",
              "      <button class=\"colab-df-convert\" onclick=\"convertToInteractive('df-f9157a4e-50ba-442b-b51c-7a86164e0b01')\"\n",
              "              title=\"Convert this dataframe to an interactive table.\"\n",
              "              style=\"display:none;\">\n",
              "        \n",
              "  <svg xmlns=\"http://www.w3.org/2000/svg\" height=\"24px\"viewBox=\"0 0 24 24\"\n",
              "       width=\"24px\">\n",
              "    <path d=\"M0 0h24v24H0V0z\" fill=\"none\"/>\n",
              "    <path d=\"M18.56 5.44l.94 2.06.94-2.06 2.06-.94-2.06-.94-.94-2.06-.94 2.06-2.06.94zm-11 1L8.5 8.5l.94-2.06 2.06-.94-2.06-.94L8.5 2.5l-.94 2.06-2.06.94zm10 10l.94 2.06.94-2.06 2.06-.94-2.06-.94-.94-2.06-.94 2.06-2.06.94z\"/><path d=\"M17.41 7.96l-1.37-1.37c-.4-.4-.92-.59-1.43-.59-.52 0-1.04.2-1.43.59L10.3 9.45l-7.72 7.72c-.78.78-.78 2.05 0 2.83L4 21.41c.39.39.9.59 1.41.59.51 0 1.02-.2 1.41-.59l7.78-7.78 2.81-2.81c.8-.78.8-2.07 0-2.86zM5.41 20L4 18.59l7.72-7.72 1.47 1.35L5.41 20z\"/>\n",
              "  </svg>\n",
              "      </button>\n",
              "      \n",
              "  <style>\n",
              "    .colab-df-container {\n",
              "      display:flex;\n",
              "      flex-wrap:wrap;\n",
              "      gap: 12px;\n",
              "    }\n",
              "\n",
              "    .colab-df-convert {\n",
              "      background-color: #E8F0FE;\n",
              "      border: none;\n",
              "      border-radius: 50%;\n",
              "      cursor: pointer;\n",
              "      display: none;\n",
              "      fill: #1967D2;\n",
              "      height: 32px;\n",
              "      padding: 0 0 0 0;\n",
              "      width: 32px;\n",
              "    }\n",
              "\n",
              "    .colab-df-convert:hover {\n",
              "      background-color: #E2EBFA;\n",
              "      box-shadow: 0px 1px 2px rgba(60, 64, 67, 0.3), 0px 1px 3px 1px rgba(60, 64, 67, 0.15);\n",
              "      fill: #174EA6;\n",
              "    }\n",
              "\n",
              "    [theme=dark] .colab-df-convert {\n",
              "      background-color: #3B4455;\n",
              "      fill: #D2E3FC;\n",
              "    }\n",
              "\n",
              "    [theme=dark] .colab-df-convert:hover {\n",
              "      background-color: #434B5C;\n",
              "      box-shadow: 0px 1px 3px 1px rgba(0, 0, 0, 0.15);\n",
              "      filter: drop-shadow(0px 1px 2px rgba(0, 0, 0, 0.3));\n",
              "      fill: #FFFFFF;\n",
              "    }\n",
              "  </style>\n",
              "\n",
              "      <script>\n",
              "        const buttonEl =\n",
              "          document.querySelector('#df-f9157a4e-50ba-442b-b51c-7a86164e0b01 button.colab-df-convert');\n",
              "        buttonEl.style.display =\n",
              "          google.colab.kernel.accessAllowed ? 'block' : 'none';\n",
              "\n",
              "        async function convertToInteractive(key) {\n",
              "          const element = document.querySelector('#df-f9157a4e-50ba-442b-b51c-7a86164e0b01');\n",
              "          const dataTable =\n",
              "            await google.colab.kernel.invokeFunction('convertToInteractive',\n",
              "                                                     [key], {});\n",
              "          if (!dataTable) return;\n",
              "\n",
              "          const docLinkHtml = 'Like what you see? Visit the ' +\n",
              "            '<a target=\"_blank\" href=https://colab.research.google.com/notebooks/data_table.ipynb>data table notebook</a>'\n",
              "            + ' to learn more about interactive tables.';\n",
              "          element.innerHTML = '';\n",
              "          dataTable['output_type'] = 'display_data';\n",
              "          await google.colab.output.renderOutput(dataTable, element);\n",
              "          const docLink = document.createElement('div');\n",
              "          docLink.innerHTML = docLinkHtml;\n",
              "          element.appendChild(docLink);\n",
              "        }\n",
              "      </script>\n",
              "    </div>\n",
              "  </div>\n",
              "  "
            ]
          },
          "metadata": {},
          "execution_count": 7
        }
      ]
    },
    {
      "cell_type": "code",
      "source": [
        "leads.info()"
      ],
      "metadata": {
        "colab": {
          "base_uri": "https://localhost:8080/"
        },
        "id": "FYIdiyeOy-GE",
        "outputId": "df37d49b-66f4-4eeb-b378-5ed011436fae"
      },
      "execution_count": 8,
      "outputs": [
        {
          "output_type": "stream",
          "name": "stdout",
          "text": [
            "<class 'pandas.core.frame.DataFrame'>\n",
            "RangeIndex: 23540 entries, 0 to 23539\n",
            "Data columns (total 8 columns):\n",
            " #   Column               Non-Null Count  Dtype \n",
            "---  ------               --------------  ----- \n",
            " 0   lead_created_at      23540 non-null  object\n",
            " 1   lead_id              23540 non-null  object\n",
            " 2   d_lead_utm_source    12331 non-null  object\n",
            " 3   d_lead_utm_medium    10100 non-null  object\n",
            " 4   d_lead_utm_campaign  9569 non-null   object\n",
            " 5   d_lead_utm_content   3338 non-null   object\n",
            " 6   d_lead_utm_term      328 non-null    object\n",
            " 7   client_id            18601 non-null  object\n",
            "dtypes: object(8)\n",
            "memory usage: 1.4+ MB\n"
          ]
        }
      ]
    },
    {
      "cell_type": "markdown",
      "source": [
        "- 8 столбцов\n",
        "- 23540 строки\n",
        "- пропуски в d_lead_utm_source d_lead_utm_medium d_lead_utm_campaign d_lead_utm_content d_lead_utm_term client_id\n",
        "- столбец lead_created_at неверный формат "
      ],
      "metadata": {
        "id": "bpfigfak1Enp"
      }
    },
    {
      "cell_type": "code",
      "source": [
        "purch = pd.read_csv('/content/purchases.csv')"
      ],
      "metadata": {
        "id": "-06tGQDvyq0N"
      },
      "execution_count": 9,
      "outputs": []
    },
    {
      "cell_type": "code",
      "source": [
        "purch.head()"
      ],
      "metadata": {
        "colab": {
          "base_uri": "https://localhost:8080/",
          "height": 206
        },
        "id": "pk6SX7pb1EFh",
        "outputId": "7cbb802b-f112-47ce-b766-9ed20bf3714a"
      },
      "execution_count": 10,
      "outputs": [
        {
          "output_type": "execute_result",
          "data": {
            "text/plain": [
              "  purchase_created_at                           purchase_id  \\\n",
              "0          2022-02-21  d3198d39-6d16-40c9-bff7-aa28bd6e2991   \n",
              "1          2022-02-21  48a0ad24-77aa-4064-a971-dd0d6f1f6c50   \n",
              "2          2022-02-21  267ff20f-a56c-480a-b2f7-1f7b1a746f9f   \n",
              "3          2022-02-21  19fba5f0-785d-45bd-903a-34ba529c6404   \n",
              "4          2022-02-21  00ac921d-32e3-4200-9435-a46d5fef4a29   \n",
              "\n",
              "                              client_id  m_purchase_amount  \n",
              "0  7011bdcd-6fd8-11e7-80fc-c412f533dba1             9950.0  \n",
              "1  a2771bb0-6fd6-11e7-80fc-c412f533dba1             8700.0  \n",
              "2  2687f503-6fd7-11e7-80fc-c412f533dba1                0.0  \n",
              "3  01122a97-45bc-11eb-ac23-c412f533dba1             8700.0  \n",
              "4  a55b8c4e-d5a3-11e9-abbe-c412f533dba1              500.0  "
            ],
            "text/html": [
              "\n",
              "  <div id=\"df-77078353-ec0f-423c-85b0-3ff1568965c2\">\n",
              "    <div class=\"colab-df-container\">\n",
              "      <div>\n",
              "<style scoped>\n",
              "    .dataframe tbody tr th:only-of-type {\n",
              "        vertical-align: middle;\n",
              "    }\n",
              "\n",
              "    .dataframe tbody tr th {\n",
              "        vertical-align: top;\n",
              "    }\n",
              "\n",
              "    .dataframe thead th {\n",
              "        text-align: right;\n",
              "    }\n",
              "</style>\n",
              "<table border=\"1\" class=\"dataframe\">\n",
              "  <thead>\n",
              "    <tr style=\"text-align: right;\">\n",
              "      <th></th>\n",
              "      <th>purchase_created_at</th>\n",
              "      <th>purchase_id</th>\n",
              "      <th>client_id</th>\n",
              "      <th>m_purchase_amount</th>\n",
              "    </tr>\n",
              "  </thead>\n",
              "  <tbody>\n",
              "    <tr>\n",
              "      <th>0</th>\n",
              "      <td>2022-02-21</td>\n",
              "      <td>d3198d39-6d16-40c9-bff7-aa28bd6e2991</td>\n",
              "      <td>7011bdcd-6fd8-11e7-80fc-c412f533dba1</td>\n",
              "      <td>9950.0</td>\n",
              "    </tr>\n",
              "    <tr>\n",
              "      <th>1</th>\n",
              "      <td>2022-02-21</td>\n",
              "      <td>48a0ad24-77aa-4064-a971-dd0d6f1f6c50</td>\n",
              "      <td>a2771bb0-6fd6-11e7-80fc-c412f533dba1</td>\n",
              "      <td>8700.0</td>\n",
              "    </tr>\n",
              "    <tr>\n",
              "      <th>2</th>\n",
              "      <td>2022-02-21</td>\n",
              "      <td>267ff20f-a56c-480a-b2f7-1f7b1a746f9f</td>\n",
              "      <td>2687f503-6fd7-11e7-80fc-c412f533dba1</td>\n",
              "      <td>0.0</td>\n",
              "    </tr>\n",
              "    <tr>\n",
              "      <th>3</th>\n",
              "      <td>2022-02-21</td>\n",
              "      <td>19fba5f0-785d-45bd-903a-34ba529c6404</td>\n",
              "      <td>01122a97-45bc-11eb-ac23-c412f533dba1</td>\n",
              "      <td>8700.0</td>\n",
              "    </tr>\n",
              "    <tr>\n",
              "      <th>4</th>\n",
              "      <td>2022-02-21</td>\n",
              "      <td>00ac921d-32e3-4200-9435-a46d5fef4a29</td>\n",
              "      <td>a55b8c4e-d5a3-11e9-abbe-c412f533dba1</td>\n",
              "      <td>500.0</td>\n",
              "    </tr>\n",
              "  </tbody>\n",
              "</table>\n",
              "</div>\n",
              "      <button class=\"colab-df-convert\" onclick=\"convertToInteractive('df-77078353-ec0f-423c-85b0-3ff1568965c2')\"\n",
              "              title=\"Convert this dataframe to an interactive table.\"\n",
              "              style=\"display:none;\">\n",
              "        \n",
              "  <svg xmlns=\"http://www.w3.org/2000/svg\" height=\"24px\"viewBox=\"0 0 24 24\"\n",
              "       width=\"24px\">\n",
              "    <path d=\"M0 0h24v24H0V0z\" fill=\"none\"/>\n",
              "    <path d=\"M18.56 5.44l.94 2.06.94-2.06 2.06-.94-2.06-.94-.94-2.06-.94 2.06-2.06.94zm-11 1L8.5 8.5l.94-2.06 2.06-.94-2.06-.94L8.5 2.5l-.94 2.06-2.06.94zm10 10l.94 2.06.94-2.06 2.06-.94-2.06-.94-.94-2.06-.94 2.06-2.06.94z\"/><path d=\"M17.41 7.96l-1.37-1.37c-.4-.4-.92-.59-1.43-.59-.52 0-1.04.2-1.43.59L10.3 9.45l-7.72 7.72c-.78.78-.78 2.05 0 2.83L4 21.41c.39.39.9.59 1.41.59.51 0 1.02-.2 1.41-.59l7.78-7.78 2.81-2.81c.8-.78.8-2.07 0-2.86zM5.41 20L4 18.59l7.72-7.72 1.47 1.35L5.41 20z\"/>\n",
              "  </svg>\n",
              "      </button>\n",
              "      \n",
              "  <style>\n",
              "    .colab-df-container {\n",
              "      display:flex;\n",
              "      flex-wrap:wrap;\n",
              "      gap: 12px;\n",
              "    }\n",
              "\n",
              "    .colab-df-convert {\n",
              "      background-color: #E8F0FE;\n",
              "      border: none;\n",
              "      border-radius: 50%;\n",
              "      cursor: pointer;\n",
              "      display: none;\n",
              "      fill: #1967D2;\n",
              "      height: 32px;\n",
              "      padding: 0 0 0 0;\n",
              "      width: 32px;\n",
              "    }\n",
              "\n",
              "    .colab-df-convert:hover {\n",
              "      background-color: #E2EBFA;\n",
              "      box-shadow: 0px 1px 2px rgba(60, 64, 67, 0.3), 0px 1px 3px 1px rgba(60, 64, 67, 0.15);\n",
              "      fill: #174EA6;\n",
              "    }\n",
              "\n",
              "    [theme=dark] .colab-df-convert {\n",
              "      background-color: #3B4455;\n",
              "      fill: #D2E3FC;\n",
              "    }\n",
              "\n",
              "    [theme=dark] .colab-df-convert:hover {\n",
              "      background-color: #434B5C;\n",
              "      box-shadow: 0px 1px 3px 1px rgba(0, 0, 0, 0.15);\n",
              "      filter: drop-shadow(0px 1px 2px rgba(0, 0, 0, 0.3));\n",
              "      fill: #FFFFFF;\n",
              "    }\n",
              "  </style>\n",
              "\n",
              "      <script>\n",
              "        const buttonEl =\n",
              "          document.querySelector('#df-77078353-ec0f-423c-85b0-3ff1568965c2 button.colab-df-convert');\n",
              "        buttonEl.style.display =\n",
              "          google.colab.kernel.accessAllowed ? 'block' : 'none';\n",
              "\n",
              "        async function convertToInteractive(key) {\n",
              "          const element = document.querySelector('#df-77078353-ec0f-423c-85b0-3ff1568965c2');\n",
              "          const dataTable =\n",
              "            await google.colab.kernel.invokeFunction('convertToInteractive',\n",
              "                                                     [key], {});\n",
              "          if (!dataTable) return;\n",
              "\n",
              "          const docLinkHtml = 'Like what you see? Visit the ' +\n",
              "            '<a target=\"_blank\" href=https://colab.research.google.com/notebooks/data_table.ipynb>data table notebook</a>'\n",
              "            + ' to learn more about interactive tables.';\n",
              "          element.innerHTML = '';\n",
              "          dataTable['output_type'] = 'display_data';\n",
              "          await google.colab.output.renderOutput(dataTable, element);\n",
              "          const docLink = document.createElement('div');\n",
              "          docLink.innerHTML = docLinkHtml;\n",
              "          element.appendChild(docLink);\n",
              "        }\n",
              "      </script>\n",
              "    </div>\n",
              "  </div>\n",
              "  "
            ]
          },
          "metadata": {},
          "execution_count": 10
        }
      ]
    },
    {
      "cell_type": "code",
      "source": [
        "purch.info()"
      ],
      "metadata": {
        "colab": {
          "base_uri": "https://localhost:8080/"
        },
        "id": "zcNpgwVV05xp",
        "outputId": "5532aefc-c5f6-41b4-ce10-ac0872511a43"
      },
      "execution_count": 11,
      "outputs": [
        {
          "output_type": "stream",
          "name": "stdout",
          "text": [
            "<class 'pandas.core.frame.DataFrame'>\n",
            "RangeIndex: 66180 entries, 0 to 66179\n",
            "Data columns (total 4 columns):\n",
            " #   Column               Non-Null Count  Dtype  \n",
            "---  ------               --------------  -----  \n",
            " 0   purchase_created_at  66180 non-null  object \n",
            " 1   purchase_id          66180 non-null  object \n",
            " 2   client_id            66179 non-null  object \n",
            " 3   m_purchase_amount    66180 non-null  float64\n",
            "dtypes: float64(1), object(3)\n",
            "memory usage: 2.0+ MB\n"
          ]
        }
      ]
    },
    {
      "cell_type": "markdown",
      "source": [
        "- 4 столбцa\n",
        "- 66180 строк\n",
        "- пропуски в client_id\n",
        "- столбец purchase_created_at неверный формат"
      ],
      "metadata": {
        "id": "lTvyC8jY4iY_"
      }
    },
    {
      "cell_type": "markdown",
      "source": [
        "# 💡 3. Описание и предобработка данных"
      ],
      "metadata": {
        "id": "JLFRW4Zn4vsO"
      }
    },
    {
      "cell_type": "code",
      "source": [
        "ads['d_utm_source'].unique()"
      ],
      "metadata": {
        "colab": {
          "base_uri": "https://localhost:8080/"
        },
        "id": "dZYO6lZQ7_Nv",
        "outputId": "cc047028-ac27-435e-90d1-18199c1cb045"
      },
      "execution_count": 12,
      "outputs": [
        {
          "output_type": "execute_result",
          "data": {
            "text/plain": [
              "array(['yandex'], dtype=object)"
            ]
          },
          "metadata": {},
          "execution_count": 12
        }
      ]
    },
    {
      "cell_type": "markdown",
      "source": [
        "- источник рекламы только яндекс, значит в таблице leads будем искать только его"
      ],
      "metadata": {
        "id": "tAg14Scn8ITw"
      }
    },
    {
      "cell_type": "code",
      "source": [
        "ads['d_utm_medium'].unique()"
      ],
      "metadata": {
        "colab": {
          "base_uri": "https://localhost:8080/"
        },
        "id": "A1mtISdt8QtB",
        "outputId": "cdd53e52-ae7a-4dff-d46c-7a3706753352"
      },
      "execution_count": 13,
      "outputs": [
        {
          "output_type": "execute_result",
          "data": {
            "text/plain": [
              "array(['cpc'], dtype=object)"
            ]
          },
          "metadata": {},
          "execution_count": 13
        }
      ]
    },
    {
      "cell_type": "markdown",
      "source": [
        "- cpc, в таблице leads ищем только  cpc"
      ],
      "metadata": {
        "id": "7HNBmF4H8YMC"
      }
    },
    {
      "cell_type": "code",
      "source": [
        "# номера рекламных компаний\n",
        "ads['d_utm_campaign'].unique()"
      ],
      "metadata": {
        "colab": {
          "base_uri": "https://localhost:8080/"
        },
        "id": "Jp2OFk9I8WAZ",
        "outputId": "8bf40046-4739-4612-9dff-094144561aca"
      },
      "execution_count": 14,
      "outputs": [
        {
          "output_type": "execute_result",
          "data": {
            "text/plain": [
              "array([48306435, 48306450, 48306473, 48306487, 48306494, 48306518,\n",
              "       48306461, 48306469, 60279528, 72000794])"
            ]
          },
          "metadata": {},
          "execution_count": 14
        }
      ]
    },
    {
      "cell_type": "code",
      "source": [
        "# по видимому номера рекламных объявлений\n",
        "ads['d_utm_content'].unique()"
      ],
      "metadata": {
        "colab": {
          "base_uri": "https://localhost:8080/"
        },
        "id": "N5YN8G5s8sDS",
        "outputId": "b22049af-9a8e-48e1-fff4-5e1ec247c967"
      },
      "execution_count": 15,
      "outputs": [
        {
          "output_type": "execute_result",
          "data": {
            "text/plain": [
              "array([ 8404700756,  8813476161,  8813476162,  8813476163,  8813476164,\n",
              "        8404701659,  8404701661,  8404701663,  8404701664,  8404701665,\n",
              "        8404704716,  8813432765,  8404707409,  8404707410,  8813469519,\n",
              "        8813469520,  8813469521,  8813469522,  8404707871,  8404707872,\n",
              "        8813466151,  8813466152,  8813466153,  8813466154,  8404708310,\n",
              "        8404708311,  8404708336,  8813477635,  8404700757,  8404704717,\n",
              "        8813432766,  8813477625,  8813477632,  8813477634,  8813477629,\n",
              "        8813477630,  8404708337,  8813477636,  8813477638,  8404708298,\n",
              "        8813477631,  8813432767,  8404708324,  8813477623,  8813477637,\n",
              "        8813432768,  8813477627,  8813477628,  8404708323,  8813477633,\n",
              "        8404708297,  8813477624,  8813477626,  8404702652,  8404702653,\n",
              "        8404702654,  8404702655,  8404702656,  8404702658,  8404702659,\n",
              "        8404702661,  8404702662,  8404702664,  8404702665,  8404702667,\n",
              "        8404702668,  8404702669,  8404702670,  8404702671,  8404702672,\n",
              "        8404702673,  8404702674,  8404702676,  8404702678,  8404702679,\n",
              "        8404702680,  8404702683,  8404702684,  8404702685,  8404702687,\n",
              "        8404702688,  8404702689,  8404702690,  8404704275,  8404704276,\n",
              "        8404704277,  8404704281,  8404704283,  8404704284,  8404704286,\n",
              "        8404704287,  8404704289,  8404704294,  8404704295, 10538265370,\n",
              "       10538265371, 10538265372, 10538265373, 10538265374, 10538265375,\n",
              "       10538265376,  8404702663,  8404702666,  8404702677,  8404702682,\n",
              "        8404702686,  8404704280,  8404704285,  8404704293, 11844860343,\n",
              "       11844860344, 11844860345, 11844860346, 11844860347, 11844860348,\n",
              "        8404704274,  8404704279, 10538265377,  8404702657,  8404704278,\n",
              "        8404704291])"
            ]
          },
          "metadata": {},
          "execution_count": 15
        }
      ]
    },
    {
      "cell_type": "code",
      "source": [
        "# удаляем пустой стобец ads\n",
        "ads = ads.drop('d_utm_term', axis=1)"
      ],
      "metadata": {
        "id": "VTSvjhWwU338"
      },
      "execution_count": 16,
      "outputs": []
    },
    {
      "cell_type": "code",
      "source": [
        "# удаляем аналогичный стобец leads\n",
        "leads = leads.drop('d_lead_utm_term', axis=1)"
      ],
      "metadata": {
        "id": "GKGkVGDLWqQz"
      },
      "execution_count": 17,
      "outputs": []
    },
    {
      "cell_type": "code",
      "source": [
        "# делаем одинаковые названия колонок для двух таблицы\n",
        "leads.columns = ['created_at', 'lead_id', 'utm_source', 'utm_medium',\n",
        "       'utm_campaign', 'utm_content', 'client_id']"
      ],
      "metadata": {
        "id": "YsMtw7RUZ9mC"
      },
      "execution_count": 18,
      "outputs": []
    },
    {
      "cell_type": "code",
      "source": [
        "# делаем одинаковые названия колонок для двух таблицы\n",
        "ads.columns = ['created_at', 'ad_account_id', 'utm_source', 'utm_medium',\n",
        "       'utm_campaign', 'utm_content', 'm_clicks', 'm_cost']"
      ],
      "metadata": {
        "id": "wIaylG9fZ_Ws"
      },
      "execution_count": 19,
      "outputs": []
    },
    {
      "cell_type": "code",
      "source": [
        "ads.info()"
      ],
      "metadata": {
        "colab": {
          "base_uri": "https://localhost:8080/"
        },
        "id": "jfyxalJ81DgZ",
        "outputId": "3f8e4d7f-6229-40d3-b212-2fa354f6ae40"
      },
      "execution_count": 20,
      "outputs": [
        {
          "output_type": "stream",
          "name": "stdout",
          "text": [
            "<class 'pandas.core.frame.DataFrame'>\n",
            "RangeIndex: 8602 entries, 0 to 8601\n",
            "Data columns (total 8 columns):\n",
            " #   Column         Non-Null Count  Dtype  \n",
            "---  ------         --------------  -----  \n",
            " 0   created_at     8602 non-null   object \n",
            " 1   ad_account_id  8602 non-null   object \n",
            " 2   utm_source     8602 non-null   object \n",
            " 3   utm_medium     8602 non-null   object \n",
            " 4   utm_campaign   8602 non-null   int64  \n",
            " 5   utm_content    8602 non-null   int64  \n",
            " 6   m_clicks       8602 non-null   float64\n",
            " 7   m_cost         8602 non-null   float64\n",
            "dtypes: float64(2), int64(2), object(4)\n",
            "memory usage: 537.8+ KB\n"
          ]
        }
      ]
    },
    {
      "cell_type": "code",
      "source": [
        "leads.info()"
      ],
      "metadata": {
        "colab": {
          "base_uri": "https://localhost:8080/"
        },
        "id": "4YlN913hZqz0",
        "outputId": "52b4b23d-3d9a-4319-cb31-55c57099c5b8"
      },
      "execution_count": 21,
      "outputs": [
        {
          "output_type": "stream",
          "name": "stdout",
          "text": [
            "<class 'pandas.core.frame.DataFrame'>\n",
            "RangeIndex: 23540 entries, 0 to 23539\n",
            "Data columns (total 7 columns):\n",
            " #   Column        Non-Null Count  Dtype \n",
            "---  ------        --------------  ----- \n",
            " 0   created_at    23540 non-null  object\n",
            " 1   lead_id       23540 non-null  object\n",
            " 2   utm_source    12331 non-null  object\n",
            " 3   utm_medium    10100 non-null  object\n",
            " 4   utm_campaign  9569 non-null   object\n",
            " 5   utm_content   3338 non-null   object\n",
            " 6   client_id     18601 non-null  object\n",
            "dtypes: object(7)\n",
            "memory usage: 1.3+ MB\n"
          ]
        }
      ]
    },
    {
      "cell_type": "code",
      "source": [
        "ads['utm_campaign'].unique()"
      ],
      "metadata": {
        "colab": {
          "base_uri": "https://localhost:8080/"
        },
        "id": "u5svZihw1jC6",
        "outputId": "d6db4e86-d234-46c8-e3e5-b916247757a8"
      },
      "execution_count": 22,
      "outputs": [
        {
          "output_type": "execute_result",
          "data": {
            "text/plain": [
              "array([48306435, 48306450, 48306473, 48306487, 48306494, 48306518,\n",
              "       48306461, 48306469, 60279528, 72000794])"
            ]
          },
          "metadata": {},
          "execution_count": 22
        }
      ]
    },
    {
      "cell_type": "code",
      "source": [
        "leads['utm_campaign'].unique()"
      ],
      "metadata": {
        "colab": {
          "base_uri": "https://localhost:8080/"
        },
        "id": "9Oof_HEZ1odT",
        "outputId": "af6b4ebb-be8e-4c8c-c29b-0959f6923b8b"
      },
      "execution_count": 23,
      "outputs": [
        {
          "output_type": "execute_result",
          "data": {
            "text/plain": [
              "array([nan, 'kartasetevaya', 'all', 'student', '15', '2', '900', '100',\n",
              "       'fizmega', '1', '50', '78599498', '48306487', '48306435',\n",
              "       '48306494', '1310', '3', '48306473', '48306450', '1rubl', 'akcii',\n",
              "       '48306518', '600', 'bchk', '70', 'massage30', 'skidka_na_pt',\n",
              "       'massage', '590', 'boxdety', '9000', 'outdoor', 'clients_day',\n",
              "       '23849174920830725', 'Поиск II Брендовые запросы',\n",
              "       '23849173065740725', '14', '30', '23849240299850725', '60279528',\n",
              "       '23849255068610725', 'fitboxing', 'fizmefa', '700', 'welcome',\n",
              "       'leto3', 'leto', 'lift', 'fitboxingvk', 'setevaya8', '8655725448',\n",
              "       'fitnessleto', 'fitness25', 'detfitness', '8', 'zav', 'sixplussix',\n",
              "       'deti290', 'denclienta', '6 6', 'inbody', 'detsifitnes', '1-3',\n",
              "       'zapisnatrenirovk', 'trenirovki', '4cluba', '90', '-90', 'freemk',\n",
              "       'letofitness', '3mes', '5500', '55', 'smart', '2022podarok',\n",
              "       'kviz', '31-07', 'klient', '72000794', '290', '27-07-2', '27-07',\n",
              "       'sale90', '20-07', '3m', '200', '20skidka', '23849306285840725',\n",
              "       '12/6', '23849363481940725', '23849346347880725', '12-6',\n",
              "       '23849348000220725', 'fitness200', '6', '3days', '13', 'detfit40',\n",
              "       'samaraonline', '23849378541650725', '3days#prodpopup',\n",
              "       '23849395337180725', '18_08', '490', '17_08', '40skidka', '22/08',\n",
              "       '2308', '22.08', '1109', '2508', '3pt', 'massage#rec426299211',\n",
              "       '6mpodarok', 'ms', '0809', '23849452138530725', 'gag', 'vesna',\n",
              "       '40', 'gostevoi', 'samara_163', '23849534661770725', 'pt',\n",
              "       'samara', 'samara_news', '23849577741820725', '23849577705150725',\n",
              "       '8/12', '23849578961790725', '3 3', '1021465907', 'tvoitai',\n",
              "       '48306469', '23849073969030725', '23849084723010725', '2cardss',\n",
              "       '23849085020030725', 'sportclass', 'boxdety_botanika63',\n",
              "       'geo_2_km', '1809', '09', 'fitness_spa', 'all#rec215018537',\n",
              "       'page13539795', '6799', '23849174878630725', '1022762509', '499',\n",
              "       '0609', '1110', '0509_04', '0509_03', 'setevaya', '0509_01',\n",
              "       'zapis_pt', 'smart#form', 'fizmegaanna', '0509_02', '8/12🔥',\n",
              "       'boxdety_ovrag', 'detfit20', '3leto', '35', 'cpc',\n",
              "       'personalnaytrenirovka', 'razdatka', 'abonement', 'setevaycarta',\n",
              "       'bezlimit4cluba', '%utm_campaign%', '900\\\\', '48306461', '3+3',\n",
              "       '23849166436760725'], dtype=object)"
            ]
          },
          "metadata": {},
          "execution_count": 23
        }
      ]
    },
    {
      "cell_type": "markdown",
      "source": [
        "- в таблице ads utm_campaign и utm_content имеют формат int, в таблице leads формат этих столбцов object. Выделим из таблицы leads только числовые значения. "
      ],
      "metadata": {
        "id": "lx33A7Kp1HGU"
      }
    },
    {
      "cell_type": "code",
      "source": [
        "# осталвяем только числовые данные, меняем тип\n",
        "leads['utm_campaign'] = leads['utm_campaign'].str.extract('(\\d+)').dropna().astype(int)"
      ],
      "metadata": {
        "id": "ycC7VMPiISyu"
      },
      "execution_count": 24,
      "outputs": []
    },
    {
      "cell_type": "code",
      "source": [
        "# осталвяем только числовые данные, меняем тип\n",
        "leads['utm_content'] = leads['utm_content'].str.extract('(\\d+)').dropna().astype(int)"
      ],
      "metadata": {
        "id": "FTVGqNQnJpbg"
      },
      "execution_count": 25,
      "outputs": []
    },
    {
      "cell_type": "markdown",
      "source": [
        "# 📑 4. Создание основной таблицы"
      ],
      "metadata": {
        "id": "XngYeTESHY9z"
      }
    },
    {
      "cell_type": "markdown",
      "source": [
        "- соеденения ads и leads происходит по 5 из 6 столбцам, так как один столбец был полностью пустой.\n",
        "- соеденяем с помощью left чтобы все значения из таблицы ads остались "
      ],
      "metadata": {
        "id": "FGyyLZga2mrG"
      }
    },
    {
      "cell_type": "code",
      "source": [
        "df = (ads.merge(leads, \n",
        "             on=['created_at', 'utm_source', 'utm_medium', 'utm_campaign', 'utm_content'], \n",
        "             how='left')\n",
        "      )"
      ],
      "metadata": {
        "id": "S7hKXaKDZ_Y0"
      },
      "execution_count": 26,
      "outputs": []
    },
    {
      "cell_type": "code",
      "source": [
        "df.head()"
      ],
      "metadata": {
        "colab": {
          "base_uri": "https://localhost:8080/",
          "height": 206
        },
        "id": "nBomkIbOZ2WN",
        "outputId": "12223404-ce66-4d7a-bb61-267c9c523d5f"
      },
      "execution_count": 27,
      "outputs": [
        {
          "output_type": "execute_result",
          "data": {
            "text/plain": [
              "   created_at     ad_account_id utm_source utm_medium  utm_campaign  \\\n",
              "0  2022-08-08  xo-for-client-ya     yandex        cpc      48306435   \n",
              "1  2022-08-08  xo-for-client-ya     yandex        cpc      48306435   \n",
              "2  2022-08-08  xo-for-client-ya     yandex        cpc      48306435   \n",
              "3  2022-08-08  xo-for-client-ya     yandex        cpc      48306435   \n",
              "4  2022-08-08  xo-for-client-ya     yandex        cpc      48306435   \n",
              "\n",
              "   utm_content  m_clicks   m_cost lead_id client_id  \n",
              "0   8404700756       2.0   48.840     NaN       NaN  \n",
              "1   8813476161       3.0  100.776     NaN       NaN  \n",
              "2   8813476162       1.0   10.140     NaN       NaN  \n",
              "3   8813476163       0.0    0.000     NaN       NaN  \n",
              "4   8813476164       0.0    0.000     NaN       NaN  "
            ],
            "text/html": [
              "\n",
              "  <div id=\"df-467b5a50-d666-4f07-823c-61d813018221\">\n",
              "    <div class=\"colab-df-container\">\n",
              "      <div>\n",
              "<style scoped>\n",
              "    .dataframe tbody tr th:only-of-type {\n",
              "        vertical-align: middle;\n",
              "    }\n",
              "\n",
              "    .dataframe tbody tr th {\n",
              "        vertical-align: top;\n",
              "    }\n",
              "\n",
              "    .dataframe thead th {\n",
              "        text-align: right;\n",
              "    }\n",
              "</style>\n",
              "<table border=\"1\" class=\"dataframe\">\n",
              "  <thead>\n",
              "    <tr style=\"text-align: right;\">\n",
              "      <th></th>\n",
              "      <th>created_at</th>\n",
              "      <th>ad_account_id</th>\n",
              "      <th>utm_source</th>\n",
              "      <th>utm_medium</th>\n",
              "      <th>utm_campaign</th>\n",
              "      <th>utm_content</th>\n",
              "      <th>m_clicks</th>\n",
              "      <th>m_cost</th>\n",
              "      <th>lead_id</th>\n",
              "      <th>client_id</th>\n",
              "    </tr>\n",
              "  </thead>\n",
              "  <tbody>\n",
              "    <tr>\n",
              "      <th>0</th>\n",
              "      <td>2022-08-08</td>\n",
              "      <td>xo-for-client-ya</td>\n",
              "      <td>yandex</td>\n",
              "      <td>cpc</td>\n",
              "      <td>48306435</td>\n",
              "      <td>8404700756</td>\n",
              "      <td>2.0</td>\n",
              "      <td>48.840</td>\n",
              "      <td>NaN</td>\n",
              "      <td>NaN</td>\n",
              "    </tr>\n",
              "    <tr>\n",
              "      <th>1</th>\n",
              "      <td>2022-08-08</td>\n",
              "      <td>xo-for-client-ya</td>\n",
              "      <td>yandex</td>\n",
              "      <td>cpc</td>\n",
              "      <td>48306435</td>\n",
              "      <td>8813476161</td>\n",
              "      <td>3.0</td>\n",
              "      <td>100.776</td>\n",
              "      <td>NaN</td>\n",
              "      <td>NaN</td>\n",
              "    </tr>\n",
              "    <tr>\n",
              "      <th>2</th>\n",
              "      <td>2022-08-08</td>\n",
              "      <td>xo-for-client-ya</td>\n",
              "      <td>yandex</td>\n",
              "      <td>cpc</td>\n",
              "      <td>48306435</td>\n",
              "      <td>8813476162</td>\n",
              "      <td>1.0</td>\n",
              "      <td>10.140</td>\n",
              "      <td>NaN</td>\n",
              "      <td>NaN</td>\n",
              "    </tr>\n",
              "    <tr>\n",
              "      <th>3</th>\n",
              "      <td>2022-08-08</td>\n",
              "      <td>xo-for-client-ya</td>\n",
              "      <td>yandex</td>\n",
              "      <td>cpc</td>\n",
              "      <td>48306435</td>\n",
              "      <td>8813476163</td>\n",
              "      <td>0.0</td>\n",
              "      <td>0.000</td>\n",
              "      <td>NaN</td>\n",
              "      <td>NaN</td>\n",
              "    </tr>\n",
              "    <tr>\n",
              "      <th>4</th>\n",
              "      <td>2022-08-08</td>\n",
              "      <td>xo-for-client-ya</td>\n",
              "      <td>yandex</td>\n",
              "      <td>cpc</td>\n",
              "      <td>48306435</td>\n",
              "      <td>8813476164</td>\n",
              "      <td>0.0</td>\n",
              "      <td>0.000</td>\n",
              "      <td>NaN</td>\n",
              "      <td>NaN</td>\n",
              "    </tr>\n",
              "  </tbody>\n",
              "</table>\n",
              "</div>\n",
              "      <button class=\"colab-df-convert\" onclick=\"convertToInteractive('df-467b5a50-d666-4f07-823c-61d813018221')\"\n",
              "              title=\"Convert this dataframe to an interactive table.\"\n",
              "              style=\"display:none;\">\n",
              "        \n",
              "  <svg xmlns=\"http://www.w3.org/2000/svg\" height=\"24px\"viewBox=\"0 0 24 24\"\n",
              "       width=\"24px\">\n",
              "    <path d=\"M0 0h24v24H0V0z\" fill=\"none\"/>\n",
              "    <path d=\"M18.56 5.44l.94 2.06.94-2.06 2.06-.94-2.06-.94-.94-2.06-.94 2.06-2.06.94zm-11 1L8.5 8.5l.94-2.06 2.06-.94-2.06-.94L8.5 2.5l-.94 2.06-2.06.94zm10 10l.94 2.06.94-2.06 2.06-.94-2.06-.94-.94-2.06-.94 2.06-2.06.94z\"/><path d=\"M17.41 7.96l-1.37-1.37c-.4-.4-.92-.59-1.43-.59-.52 0-1.04.2-1.43.59L10.3 9.45l-7.72 7.72c-.78.78-.78 2.05 0 2.83L4 21.41c.39.39.9.59 1.41.59.51 0 1.02-.2 1.41-.59l7.78-7.78 2.81-2.81c.8-.78.8-2.07 0-2.86zM5.41 20L4 18.59l7.72-7.72 1.47 1.35L5.41 20z\"/>\n",
              "  </svg>\n",
              "      </button>\n",
              "      \n",
              "  <style>\n",
              "    .colab-df-container {\n",
              "      display:flex;\n",
              "      flex-wrap:wrap;\n",
              "      gap: 12px;\n",
              "    }\n",
              "\n",
              "    .colab-df-convert {\n",
              "      background-color: #E8F0FE;\n",
              "      border: none;\n",
              "      border-radius: 50%;\n",
              "      cursor: pointer;\n",
              "      display: none;\n",
              "      fill: #1967D2;\n",
              "      height: 32px;\n",
              "      padding: 0 0 0 0;\n",
              "      width: 32px;\n",
              "    }\n",
              "\n",
              "    .colab-df-convert:hover {\n",
              "      background-color: #E2EBFA;\n",
              "      box-shadow: 0px 1px 2px rgba(60, 64, 67, 0.3), 0px 1px 3px 1px rgba(60, 64, 67, 0.15);\n",
              "      fill: #174EA6;\n",
              "    }\n",
              "\n",
              "    [theme=dark] .colab-df-convert {\n",
              "      background-color: #3B4455;\n",
              "      fill: #D2E3FC;\n",
              "    }\n",
              "\n",
              "    [theme=dark] .colab-df-convert:hover {\n",
              "      background-color: #434B5C;\n",
              "      box-shadow: 0px 1px 3px 1px rgba(0, 0, 0, 0.15);\n",
              "      filter: drop-shadow(0px 1px 2px rgba(0, 0, 0, 0.3));\n",
              "      fill: #FFFFFF;\n",
              "    }\n",
              "  </style>\n",
              "\n",
              "      <script>\n",
              "        const buttonEl =\n",
              "          document.querySelector('#df-467b5a50-d666-4f07-823c-61d813018221 button.colab-df-convert');\n",
              "        buttonEl.style.display =\n",
              "          google.colab.kernel.accessAllowed ? 'block' : 'none';\n",
              "\n",
              "        async function convertToInteractive(key) {\n",
              "          const element = document.querySelector('#df-467b5a50-d666-4f07-823c-61d813018221');\n",
              "          const dataTable =\n",
              "            await google.colab.kernel.invokeFunction('convertToInteractive',\n",
              "                                                     [key], {});\n",
              "          if (!dataTable) return;\n",
              "\n",
              "          const docLinkHtml = 'Like what you see? Visit the ' +\n",
              "            '<a target=\"_blank\" href=https://colab.research.google.com/notebooks/data_table.ipynb>data table notebook</a>'\n",
              "            + ' to learn more about interactive tables.';\n",
              "          element.innerHTML = '';\n",
              "          dataTable['output_type'] = 'display_data';\n",
              "          await google.colab.output.renderOutput(dataTable, element);\n",
              "          const docLink = document.createElement('div');\n",
              "          docLink.innerHTML = docLinkHtml;\n",
              "          element.appendChild(docLink);\n",
              "        }\n",
              "      </script>\n",
              "    </div>\n",
              "  </div>\n",
              "  "
            ]
          },
          "metadata": {},
          "execution_count": 27
        }
      ]
    },
    {
      "cell_type": "code",
      "source": [
        "df = df.merge(purch, on='client_id', how='left')"
      ],
      "metadata": {
        "id": "vgHIbZ67Zq4g"
      },
      "execution_count": 28,
      "outputs": []
    },
    {
      "cell_type": "code",
      "source": [
        "df.head()"
      ],
      "metadata": {
        "colab": {
          "base_uri": "https://localhost:8080/",
          "height": 530
        },
        "id": "EYyXFpB5-JpH",
        "outputId": "9ee43d5e-efa8-4f8e-e467-7efccbcdec54"
      },
      "execution_count": 29,
      "outputs": [
        {
          "output_type": "execute_result",
          "data": {
            "text/plain": [
              "   created_at     ad_account_id utm_source utm_medium  utm_campaign  \\\n",
              "0  2022-08-08  xo-for-client-ya     yandex        cpc      48306435   \n",
              "1  2022-08-08  xo-for-client-ya     yandex        cpc      48306435   \n",
              "2  2022-08-08  xo-for-client-ya     yandex        cpc      48306435   \n",
              "3  2022-08-08  xo-for-client-ya     yandex        cpc      48306435   \n",
              "4  2022-08-08  xo-for-client-ya     yandex        cpc      48306435   \n",
              "\n",
              "   utm_content  m_clicks   m_cost lead_id client_id purchase_created_at  \\\n",
              "0   8404700756       2.0   48.840     NaN       NaN          2022-09-09   \n",
              "1   8813476161       3.0  100.776     NaN       NaN          2022-09-09   \n",
              "2   8813476162       1.0   10.140     NaN       NaN          2022-09-09   \n",
              "3   8813476163       0.0    0.000     NaN       NaN          2022-09-09   \n",
              "4   8813476164       0.0    0.000     NaN       NaN          2022-09-09   \n",
              "\n",
              "                            purchase_id  m_purchase_amount  \n",
              "0  df9c9346-322f-4e25-a495-e01e97d0bd0b            24990.0  \n",
              "1  df9c9346-322f-4e25-a495-e01e97d0bd0b            24990.0  \n",
              "2  df9c9346-322f-4e25-a495-e01e97d0bd0b            24990.0  \n",
              "3  df9c9346-322f-4e25-a495-e01e97d0bd0b            24990.0  \n",
              "4  df9c9346-322f-4e25-a495-e01e97d0bd0b            24990.0  "
            ],
            "text/html": [
              "\n",
              "  <div id=\"df-54f7cf90-6e8b-4dc9-bbe1-61718a640ec6\">\n",
              "    <div class=\"colab-df-container\">\n",
              "      <div>\n",
              "<style scoped>\n",
              "    .dataframe tbody tr th:only-of-type {\n",
              "        vertical-align: middle;\n",
              "    }\n",
              "\n",
              "    .dataframe tbody tr th {\n",
              "        vertical-align: top;\n",
              "    }\n",
              "\n",
              "    .dataframe thead th {\n",
              "        text-align: right;\n",
              "    }\n",
              "</style>\n",
              "<table border=\"1\" class=\"dataframe\">\n",
              "  <thead>\n",
              "    <tr style=\"text-align: right;\">\n",
              "      <th></th>\n",
              "      <th>created_at</th>\n",
              "      <th>ad_account_id</th>\n",
              "      <th>utm_source</th>\n",
              "      <th>utm_medium</th>\n",
              "      <th>utm_campaign</th>\n",
              "      <th>utm_content</th>\n",
              "      <th>m_clicks</th>\n",
              "      <th>m_cost</th>\n",
              "      <th>lead_id</th>\n",
              "      <th>client_id</th>\n",
              "      <th>purchase_created_at</th>\n",
              "      <th>purchase_id</th>\n",
              "      <th>m_purchase_amount</th>\n",
              "    </tr>\n",
              "  </thead>\n",
              "  <tbody>\n",
              "    <tr>\n",
              "      <th>0</th>\n",
              "      <td>2022-08-08</td>\n",
              "      <td>xo-for-client-ya</td>\n",
              "      <td>yandex</td>\n",
              "      <td>cpc</td>\n",
              "      <td>48306435</td>\n",
              "      <td>8404700756</td>\n",
              "      <td>2.0</td>\n",
              "      <td>48.840</td>\n",
              "      <td>NaN</td>\n",
              "      <td>NaN</td>\n",
              "      <td>2022-09-09</td>\n",
              "      <td>df9c9346-322f-4e25-a495-e01e97d0bd0b</td>\n",
              "      <td>24990.0</td>\n",
              "    </tr>\n",
              "    <tr>\n",
              "      <th>1</th>\n",
              "      <td>2022-08-08</td>\n",
              "      <td>xo-for-client-ya</td>\n",
              "      <td>yandex</td>\n",
              "      <td>cpc</td>\n",
              "      <td>48306435</td>\n",
              "      <td>8813476161</td>\n",
              "      <td>3.0</td>\n",
              "      <td>100.776</td>\n",
              "      <td>NaN</td>\n",
              "      <td>NaN</td>\n",
              "      <td>2022-09-09</td>\n",
              "      <td>df9c9346-322f-4e25-a495-e01e97d0bd0b</td>\n",
              "      <td>24990.0</td>\n",
              "    </tr>\n",
              "    <tr>\n",
              "      <th>2</th>\n",
              "      <td>2022-08-08</td>\n",
              "      <td>xo-for-client-ya</td>\n",
              "      <td>yandex</td>\n",
              "      <td>cpc</td>\n",
              "      <td>48306435</td>\n",
              "      <td>8813476162</td>\n",
              "      <td>1.0</td>\n",
              "      <td>10.140</td>\n",
              "      <td>NaN</td>\n",
              "      <td>NaN</td>\n",
              "      <td>2022-09-09</td>\n",
              "      <td>df9c9346-322f-4e25-a495-e01e97d0bd0b</td>\n",
              "      <td>24990.0</td>\n",
              "    </tr>\n",
              "    <tr>\n",
              "      <th>3</th>\n",
              "      <td>2022-08-08</td>\n",
              "      <td>xo-for-client-ya</td>\n",
              "      <td>yandex</td>\n",
              "      <td>cpc</td>\n",
              "      <td>48306435</td>\n",
              "      <td>8813476163</td>\n",
              "      <td>0.0</td>\n",
              "      <td>0.000</td>\n",
              "      <td>NaN</td>\n",
              "      <td>NaN</td>\n",
              "      <td>2022-09-09</td>\n",
              "      <td>df9c9346-322f-4e25-a495-e01e97d0bd0b</td>\n",
              "      <td>24990.0</td>\n",
              "    </tr>\n",
              "    <tr>\n",
              "      <th>4</th>\n",
              "      <td>2022-08-08</td>\n",
              "      <td>xo-for-client-ya</td>\n",
              "      <td>yandex</td>\n",
              "      <td>cpc</td>\n",
              "      <td>48306435</td>\n",
              "      <td>8813476164</td>\n",
              "      <td>0.0</td>\n",
              "      <td>0.000</td>\n",
              "      <td>NaN</td>\n",
              "      <td>NaN</td>\n",
              "      <td>2022-09-09</td>\n",
              "      <td>df9c9346-322f-4e25-a495-e01e97d0bd0b</td>\n",
              "      <td>24990.0</td>\n",
              "    </tr>\n",
              "  </tbody>\n",
              "</table>\n",
              "</div>\n",
              "      <button class=\"colab-df-convert\" onclick=\"convertToInteractive('df-54f7cf90-6e8b-4dc9-bbe1-61718a640ec6')\"\n",
              "              title=\"Convert this dataframe to an interactive table.\"\n",
              "              style=\"display:none;\">\n",
              "        \n",
              "  <svg xmlns=\"http://www.w3.org/2000/svg\" height=\"24px\"viewBox=\"0 0 24 24\"\n",
              "       width=\"24px\">\n",
              "    <path d=\"M0 0h24v24H0V0z\" fill=\"none\"/>\n",
              "    <path d=\"M18.56 5.44l.94 2.06.94-2.06 2.06-.94-2.06-.94-.94-2.06-.94 2.06-2.06.94zm-11 1L8.5 8.5l.94-2.06 2.06-.94-2.06-.94L8.5 2.5l-.94 2.06-2.06.94zm10 10l.94 2.06.94-2.06 2.06-.94-2.06-.94-.94-2.06-.94 2.06-2.06.94z\"/><path d=\"M17.41 7.96l-1.37-1.37c-.4-.4-.92-.59-1.43-.59-.52 0-1.04.2-1.43.59L10.3 9.45l-7.72 7.72c-.78.78-.78 2.05 0 2.83L4 21.41c.39.39.9.59 1.41.59.51 0 1.02-.2 1.41-.59l7.78-7.78 2.81-2.81c.8-.78.8-2.07 0-2.86zM5.41 20L4 18.59l7.72-7.72 1.47 1.35L5.41 20z\"/>\n",
              "  </svg>\n",
              "      </button>\n",
              "      \n",
              "  <style>\n",
              "    .colab-df-container {\n",
              "      display:flex;\n",
              "      flex-wrap:wrap;\n",
              "      gap: 12px;\n",
              "    }\n",
              "\n",
              "    .colab-df-convert {\n",
              "      background-color: #E8F0FE;\n",
              "      border: none;\n",
              "      border-radius: 50%;\n",
              "      cursor: pointer;\n",
              "      display: none;\n",
              "      fill: #1967D2;\n",
              "      height: 32px;\n",
              "      padding: 0 0 0 0;\n",
              "      width: 32px;\n",
              "    }\n",
              "\n",
              "    .colab-df-convert:hover {\n",
              "      background-color: #E2EBFA;\n",
              "      box-shadow: 0px 1px 2px rgba(60, 64, 67, 0.3), 0px 1px 3px 1px rgba(60, 64, 67, 0.15);\n",
              "      fill: #174EA6;\n",
              "    }\n",
              "\n",
              "    [theme=dark] .colab-df-convert {\n",
              "      background-color: #3B4455;\n",
              "      fill: #D2E3FC;\n",
              "    }\n",
              "\n",
              "    [theme=dark] .colab-df-convert:hover {\n",
              "      background-color: #434B5C;\n",
              "      box-shadow: 0px 1px 3px 1px rgba(0, 0, 0, 0.15);\n",
              "      filter: drop-shadow(0px 1px 2px rgba(0, 0, 0, 0.3));\n",
              "      fill: #FFFFFF;\n",
              "    }\n",
              "  </style>\n",
              "\n",
              "      <script>\n",
              "        const buttonEl =\n",
              "          document.querySelector('#df-54f7cf90-6e8b-4dc9-bbe1-61718a640ec6 button.colab-df-convert');\n",
              "        buttonEl.style.display =\n",
              "          google.colab.kernel.accessAllowed ? 'block' : 'none';\n",
              "\n",
              "        async function convertToInteractive(key) {\n",
              "          const element = document.querySelector('#df-54f7cf90-6e8b-4dc9-bbe1-61718a640ec6');\n",
              "          const dataTable =\n",
              "            await google.colab.kernel.invokeFunction('convertToInteractive',\n",
              "                                                     [key], {});\n",
              "          if (!dataTable) return;\n",
              "\n",
              "          const docLinkHtml = 'Like what you see? Visit the ' +\n",
              "            '<a target=\"_blank\" href=https://colab.research.google.com/notebooks/data_table.ipynb>data table notebook</a>'\n",
              "            + ' to learn more about interactive tables.';\n",
              "          element.innerHTML = '';\n",
              "          dataTable['output_type'] = 'display_data';\n",
              "          await google.colab.output.renderOutput(dataTable, element);\n",
              "          const docLink = document.createElement('div');\n",
              "          docLink.innerHTML = docLinkHtml;\n",
              "          element.appendChild(docLink);\n",
              "        }\n",
              "      </script>\n",
              "    </div>\n",
              "  </div>\n",
              "  "
            ]
          },
          "metadata": {},
          "execution_count": 29
        }
      ]
    },
    {
      "cell_type": "code",
      "source": [
        "df.info()"
      ],
      "metadata": {
        "colab": {
          "base_uri": "https://localhost:8080/"
        },
        "id": "mdNyz5ZIKlUw",
        "outputId": "5f11dc5d-81bd-454c-c631-ff8099276cc6"
      },
      "execution_count": 30,
      "outputs": [
        {
          "output_type": "stream",
          "name": "stdout",
          "text": [
            "<class 'pandas.core.frame.DataFrame'>\n",
            "Int64Index: 10055 entries, 0 to 10054\n",
            "Data columns (total 13 columns):\n",
            " #   Column               Non-Null Count  Dtype  \n",
            "---  ------               --------------  -----  \n",
            " 0   created_at           10055 non-null  object \n",
            " 1   ad_account_id        10055 non-null  object \n",
            " 2   utm_source           10055 non-null  object \n",
            " 3   utm_medium           10055 non-null  object \n",
            " 4   utm_campaign         10055 non-null  int64  \n",
            " 5   utm_content          10055 non-null  int64  \n",
            " 6   m_clicks             10055 non-null  float64\n",
            " 7   m_cost               10055 non-null  float64\n",
            " 8   lead_id              2531 non-null   object \n",
            " 9   client_id            2162 non-null   object \n",
            " 10  purchase_created_at  9351 non-null   object \n",
            " 11  purchase_id          9351 non-null   object \n",
            " 12  m_purchase_amount    9351 non-null   float64\n",
            "dtypes: float64(3), int64(2), object(8)\n",
            "memory usage: 1.1+ MB\n"
          ]
        }
      ]
    },
    {
      "cell_type": "markdown",
      "source": [
        "- после соеденения видно что клиентов присоеденилось 2162, могу предположить что остальная реклама из ads клиентов не принесла или система не зафиксировала."
      ],
      "metadata": {
        "id": "3vr2IwFj3RrW"
      }
    },
    {
      "cell_type": "markdown",
      "source": [
        "## 4.1 Исправление данных"
      ],
      "metadata": {
        "id": "FEE4sKrVLrdv"
      }
    },
    {
      "cell_type": "code",
      "source": [
        "# дату в правильный формат\n",
        "df['purchase_created_at'] = pd.to_datetime(df['purchase_created_at'], format='%Y-%m-%d')\n",
        "df['created_at'] = pd.to_datetime(df['created_at'], format='%Y-%m-%d')"
      ],
      "metadata": {
        "id": "21vT6CUTrWZb"
      },
      "execution_count": 31,
      "outputs": []
    },
    {
      "cell_type": "markdown",
      "source": [
        "## 4.2 Поиск дубликатов"
      ],
      "metadata": {
        "id": "4Ulw3rC-LDW_"
      }
    },
    {
      "cell_type": "code",
      "source": [
        "# проверка на явные дубликаты\n",
        "df.duplicated().sum()"
      ],
      "metadata": {
        "colab": {
          "base_uri": "https://localhost:8080/"
        },
        "id": "sAEMCw7KLHrA",
        "outputId": "afdc7b3c-8df1-4b2f-c506-8984f03e6e4b"
      },
      "execution_count": 32,
      "outputs": [
        {
          "output_type": "execute_result",
          "data": {
            "text/plain": [
              "0"
            ]
          },
          "metadata": {},
          "execution_count": 32
        }
      ]
    },
    {
      "cell_type": "markdown",
      "source": [
        "- если предположить что на кажого уникального клиента должен быть id уникальной покупки (например когда покупатель приходит в салон красоты и делает стрижку, получает чек с номером, затем возвращается и покупает краску для волом и получается еще один чек с другим номером, одинакового номера чека быть не может)"
      ],
      "metadata": {
        "id": "ry3PTr-a4AhY"
      }
    },
    {
      "cell_type": "code",
      "source": [
        "df.duplicated(subset=['client_id', 'purchase_id']).sum()"
      ],
      "metadata": {
        "colab": {
          "base_uri": "https://localhost:8080/"
        },
        "id": "r4AAp6fEZ2aZ",
        "outputId": "e34ff166-ac9e-41c6-c47d-b9585ad096d8"
      },
      "execution_count": 33,
      "outputs": [
        {
          "output_type": "execute_result",
          "data": {
            "text/plain": [
              "7964"
            ]
          },
          "metadata": {},
          "execution_count": 33
        }
      ]
    },
    {
      "cell_type": "code",
      "source": [
        "df[df.duplicated(subset=['client_id', 'purchase_id'])].head(2)"
      ],
      "metadata": {
        "colab": {
          "base_uri": "https://localhost:8080/",
          "height": 280
        },
        "id": "0W7J8msolrRM",
        "outputId": "6391c1da-baf6-4230-ec3f-f681318ea40b"
      },
      "execution_count": 34,
      "outputs": [
        {
          "output_type": "execute_result",
          "data": {
            "text/plain": [
              "  created_at     ad_account_id utm_source utm_medium  utm_campaign  \\\n",
              "1 2022-08-08  xo-for-client-ya     yandex        cpc      48306435   \n",
              "2 2022-08-08  xo-for-client-ya     yandex        cpc      48306435   \n",
              "\n",
              "   utm_content  m_clicks   m_cost lead_id client_id purchase_created_at  \\\n",
              "1   8813476161       3.0  100.776     NaN       NaN          2022-09-09   \n",
              "2   8813476162       1.0   10.140     NaN       NaN          2022-09-09   \n",
              "\n",
              "                            purchase_id  m_purchase_amount  \n",
              "1  df9c9346-322f-4e25-a495-e01e97d0bd0b            24990.0  \n",
              "2  df9c9346-322f-4e25-a495-e01e97d0bd0b            24990.0  "
            ],
            "text/html": [
              "\n",
              "  <div id=\"df-d2e1fdb8-260f-4c4d-9d1a-9db7d385b846\">\n",
              "    <div class=\"colab-df-container\">\n",
              "      <div>\n",
              "<style scoped>\n",
              "    .dataframe tbody tr th:only-of-type {\n",
              "        vertical-align: middle;\n",
              "    }\n",
              "\n",
              "    .dataframe tbody tr th {\n",
              "        vertical-align: top;\n",
              "    }\n",
              "\n",
              "    .dataframe thead th {\n",
              "        text-align: right;\n",
              "    }\n",
              "</style>\n",
              "<table border=\"1\" class=\"dataframe\">\n",
              "  <thead>\n",
              "    <tr style=\"text-align: right;\">\n",
              "      <th></th>\n",
              "      <th>created_at</th>\n",
              "      <th>ad_account_id</th>\n",
              "      <th>utm_source</th>\n",
              "      <th>utm_medium</th>\n",
              "      <th>utm_campaign</th>\n",
              "      <th>utm_content</th>\n",
              "      <th>m_clicks</th>\n",
              "      <th>m_cost</th>\n",
              "      <th>lead_id</th>\n",
              "      <th>client_id</th>\n",
              "      <th>purchase_created_at</th>\n",
              "      <th>purchase_id</th>\n",
              "      <th>m_purchase_amount</th>\n",
              "    </tr>\n",
              "  </thead>\n",
              "  <tbody>\n",
              "    <tr>\n",
              "      <th>1</th>\n",
              "      <td>2022-08-08</td>\n",
              "      <td>xo-for-client-ya</td>\n",
              "      <td>yandex</td>\n",
              "      <td>cpc</td>\n",
              "      <td>48306435</td>\n",
              "      <td>8813476161</td>\n",
              "      <td>3.0</td>\n",
              "      <td>100.776</td>\n",
              "      <td>NaN</td>\n",
              "      <td>NaN</td>\n",
              "      <td>2022-09-09</td>\n",
              "      <td>df9c9346-322f-4e25-a495-e01e97d0bd0b</td>\n",
              "      <td>24990.0</td>\n",
              "    </tr>\n",
              "    <tr>\n",
              "      <th>2</th>\n",
              "      <td>2022-08-08</td>\n",
              "      <td>xo-for-client-ya</td>\n",
              "      <td>yandex</td>\n",
              "      <td>cpc</td>\n",
              "      <td>48306435</td>\n",
              "      <td>8813476162</td>\n",
              "      <td>1.0</td>\n",
              "      <td>10.140</td>\n",
              "      <td>NaN</td>\n",
              "      <td>NaN</td>\n",
              "      <td>2022-09-09</td>\n",
              "      <td>df9c9346-322f-4e25-a495-e01e97d0bd0b</td>\n",
              "      <td>24990.0</td>\n",
              "    </tr>\n",
              "  </tbody>\n",
              "</table>\n",
              "</div>\n",
              "      <button class=\"colab-df-convert\" onclick=\"convertToInteractive('df-d2e1fdb8-260f-4c4d-9d1a-9db7d385b846')\"\n",
              "              title=\"Convert this dataframe to an interactive table.\"\n",
              "              style=\"display:none;\">\n",
              "        \n",
              "  <svg xmlns=\"http://www.w3.org/2000/svg\" height=\"24px\"viewBox=\"0 0 24 24\"\n",
              "       width=\"24px\">\n",
              "    <path d=\"M0 0h24v24H0V0z\" fill=\"none\"/>\n",
              "    <path d=\"M18.56 5.44l.94 2.06.94-2.06 2.06-.94-2.06-.94-.94-2.06-.94 2.06-2.06.94zm-11 1L8.5 8.5l.94-2.06 2.06-.94-2.06-.94L8.5 2.5l-.94 2.06-2.06.94zm10 10l.94 2.06.94-2.06 2.06-.94-2.06-.94-.94-2.06-.94 2.06-2.06.94z\"/><path d=\"M17.41 7.96l-1.37-1.37c-.4-.4-.92-.59-1.43-.59-.52 0-1.04.2-1.43.59L10.3 9.45l-7.72 7.72c-.78.78-.78 2.05 0 2.83L4 21.41c.39.39.9.59 1.41.59.51 0 1.02-.2 1.41-.59l7.78-7.78 2.81-2.81c.8-.78.8-2.07 0-2.86zM5.41 20L4 18.59l7.72-7.72 1.47 1.35L5.41 20z\"/>\n",
              "  </svg>\n",
              "      </button>\n",
              "      \n",
              "  <style>\n",
              "    .colab-df-container {\n",
              "      display:flex;\n",
              "      flex-wrap:wrap;\n",
              "      gap: 12px;\n",
              "    }\n",
              "\n",
              "    .colab-df-convert {\n",
              "      background-color: #E8F0FE;\n",
              "      border: none;\n",
              "      border-radius: 50%;\n",
              "      cursor: pointer;\n",
              "      display: none;\n",
              "      fill: #1967D2;\n",
              "      height: 32px;\n",
              "      padding: 0 0 0 0;\n",
              "      width: 32px;\n",
              "    }\n",
              "\n",
              "    .colab-df-convert:hover {\n",
              "      background-color: #E2EBFA;\n",
              "      box-shadow: 0px 1px 2px rgba(60, 64, 67, 0.3), 0px 1px 3px 1px rgba(60, 64, 67, 0.15);\n",
              "      fill: #174EA6;\n",
              "    }\n",
              "\n",
              "    [theme=dark] .colab-df-convert {\n",
              "      background-color: #3B4455;\n",
              "      fill: #D2E3FC;\n",
              "    }\n",
              "\n",
              "    [theme=dark] .colab-df-convert:hover {\n",
              "      background-color: #434B5C;\n",
              "      box-shadow: 0px 1px 3px 1px rgba(0, 0, 0, 0.15);\n",
              "      filter: drop-shadow(0px 1px 2px rgba(0, 0, 0, 0.3));\n",
              "      fill: #FFFFFF;\n",
              "    }\n",
              "  </style>\n",
              "\n",
              "      <script>\n",
              "        const buttonEl =\n",
              "          document.querySelector('#df-d2e1fdb8-260f-4c4d-9d1a-9db7d385b846 button.colab-df-convert');\n",
              "        buttonEl.style.display =\n",
              "          google.colab.kernel.accessAllowed ? 'block' : 'none';\n",
              "\n",
              "        async function convertToInteractive(key) {\n",
              "          const element = document.querySelector('#df-d2e1fdb8-260f-4c4d-9d1a-9db7d385b846');\n",
              "          const dataTable =\n",
              "            await google.colab.kernel.invokeFunction('convertToInteractive',\n",
              "                                                     [key], {});\n",
              "          if (!dataTable) return;\n",
              "\n",
              "          const docLinkHtml = 'Like what you see? Visit the ' +\n",
              "            '<a target=\"_blank\" href=https://colab.research.google.com/notebooks/data_table.ipynb>data table notebook</a>'\n",
              "            + ' to learn more about interactive tables.';\n",
              "          element.innerHTML = '';\n",
              "          dataTable['output_type'] = 'display_data';\n",
              "          await google.colab.output.renderOutput(dataTable, element);\n",
              "          const docLink = document.createElement('div');\n",
              "          docLink.innerHTML = docLinkHtml;\n",
              "          element.appendChild(docLink);\n",
              "        }\n",
              "      </script>\n",
              "    </div>\n",
              "  </div>\n",
              "  "
            ]
          },
          "metadata": {},
          "execution_count": 34
        }
      ]
    },
    {
      "cell_type": "code",
      "source": [
        "# удаляем дубликаты где один клиен но одинаковые id покупки\n",
        "df = df.drop_duplicates(subset=['client_id', 'purchase_id'])"
      ],
      "metadata": {
        "id": "Yxo3fx0slkj9"
      },
      "execution_count": 35,
      "outputs": []
    },
    {
      "cell_type": "markdown",
      "source": [
        "- посмотрим есть ли лиды и одинаковые чеки"
      ],
      "metadata": {
        "id": "ExLVRakZAVSv"
      }
    },
    {
      "cell_type": "code",
      "source": [
        "df.duplicated(subset=['lead_id', 'purchase_id']).sum()"
      ],
      "metadata": {
        "colab": {
          "base_uri": "https://localhost:8080/"
        },
        "id": "QdYv083mAHx9",
        "outputId": "ac6196fe-290d-4d33-ef4f-ab44031842c3"
      },
      "execution_count": 36,
      "outputs": [
        {
          "output_type": "execute_result",
          "data": {
            "text/plain": [
              "0"
            ]
          },
          "metadata": {},
          "execution_count": 36
        }
      ]
    },
    {
      "cell_type": "markdown",
      "source": [
        "- так же можно проверить есть ли покупки по одному чеку, где несколько клиентов"
      ],
      "metadata": {
        "id": "jDcqHqSZ5P5S"
      }
    },
    {
      "cell_type": "code",
      "source": [
        "df.groupby('purchase_id')['client_id'].nunique().reset_index().query('client_id > 1')"
      ],
      "metadata": {
        "colab": {
          "base_uri": "https://localhost:8080/",
          "height": 49
        },
        "id": "98KLzIspZ2cP",
        "outputId": "728864d1-476e-4998-907b-50d2701845d5"
      },
      "execution_count": 37,
      "outputs": [
        {
          "output_type": "execute_result",
          "data": {
            "text/plain": [
              "Empty DataFrame\n",
              "Columns: [purchase_id, client_id]\n",
              "Index: []"
            ],
            "text/html": [
              "\n",
              "  <div id=\"df-80b53f97-acc5-4a7a-a0ef-7a785653ff5b\">\n",
              "    <div class=\"colab-df-container\">\n",
              "      <div>\n",
              "<style scoped>\n",
              "    .dataframe tbody tr th:only-of-type {\n",
              "        vertical-align: middle;\n",
              "    }\n",
              "\n",
              "    .dataframe tbody tr th {\n",
              "        vertical-align: top;\n",
              "    }\n",
              "\n",
              "    .dataframe thead th {\n",
              "        text-align: right;\n",
              "    }\n",
              "</style>\n",
              "<table border=\"1\" class=\"dataframe\">\n",
              "  <thead>\n",
              "    <tr style=\"text-align: right;\">\n",
              "      <th></th>\n",
              "      <th>purchase_id</th>\n",
              "      <th>client_id</th>\n",
              "    </tr>\n",
              "  </thead>\n",
              "  <tbody>\n",
              "  </tbody>\n",
              "</table>\n",
              "</div>\n",
              "      <button class=\"colab-df-convert\" onclick=\"convertToInteractive('df-80b53f97-acc5-4a7a-a0ef-7a785653ff5b')\"\n",
              "              title=\"Convert this dataframe to an interactive table.\"\n",
              "              style=\"display:none;\">\n",
              "        \n",
              "  <svg xmlns=\"http://www.w3.org/2000/svg\" height=\"24px\"viewBox=\"0 0 24 24\"\n",
              "       width=\"24px\">\n",
              "    <path d=\"M0 0h24v24H0V0z\" fill=\"none\"/>\n",
              "    <path d=\"M18.56 5.44l.94 2.06.94-2.06 2.06-.94-2.06-.94-.94-2.06-.94 2.06-2.06.94zm-11 1L8.5 8.5l.94-2.06 2.06-.94-2.06-.94L8.5 2.5l-.94 2.06-2.06.94zm10 10l.94 2.06.94-2.06 2.06-.94-2.06-.94-.94-2.06-.94 2.06-2.06.94z\"/><path d=\"M17.41 7.96l-1.37-1.37c-.4-.4-.92-.59-1.43-.59-.52 0-1.04.2-1.43.59L10.3 9.45l-7.72 7.72c-.78.78-.78 2.05 0 2.83L4 21.41c.39.39.9.59 1.41.59.51 0 1.02-.2 1.41-.59l7.78-7.78 2.81-2.81c.8-.78.8-2.07 0-2.86zM5.41 20L4 18.59l7.72-7.72 1.47 1.35L5.41 20z\"/>\n",
              "  </svg>\n",
              "      </button>\n",
              "      \n",
              "  <style>\n",
              "    .colab-df-container {\n",
              "      display:flex;\n",
              "      flex-wrap:wrap;\n",
              "      gap: 12px;\n",
              "    }\n",
              "\n",
              "    .colab-df-convert {\n",
              "      background-color: #E8F0FE;\n",
              "      border: none;\n",
              "      border-radius: 50%;\n",
              "      cursor: pointer;\n",
              "      display: none;\n",
              "      fill: #1967D2;\n",
              "      height: 32px;\n",
              "      padding: 0 0 0 0;\n",
              "      width: 32px;\n",
              "    }\n",
              "\n",
              "    .colab-df-convert:hover {\n",
              "      background-color: #E2EBFA;\n",
              "      box-shadow: 0px 1px 2px rgba(60, 64, 67, 0.3), 0px 1px 3px 1px rgba(60, 64, 67, 0.15);\n",
              "      fill: #174EA6;\n",
              "    }\n",
              "\n",
              "    [theme=dark] .colab-df-convert {\n",
              "      background-color: #3B4455;\n",
              "      fill: #D2E3FC;\n",
              "    }\n",
              "\n",
              "    [theme=dark] .colab-df-convert:hover {\n",
              "      background-color: #434B5C;\n",
              "      box-shadow: 0px 1px 3px 1px rgba(0, 0, 0, 0.15);\n",
              "      filter: drop-shadow(0px 1px 2px rgba(0, 0, 0, 0.3));\n",
              "      fill: #FFFFFF;\n",
              "    }\n",
              "  </style>\n",
              "\n",
              "      <script>\n",
              "        const buttonEl =\n",
              "          document.querySelector('#df-80b53f97-acc5-4a7a-a0ef-7a785653ff5b button.colab-df-convert');\n",
              "        buttonEl.style.display =\n",
              "          google.colab.kernel.accessAllowed ? 'block' : 'none';\n",
              "\n",
              "        async function convertToInteractive(key) {\n",
              "          const element = document.querySelector('#df-80b53f97-acc5-4a7a-a0ef-7a785653ff5b');\n",
              "          const dataTable =\n",
              "            await google.colab.kernel.invokeFunction('convertToInteractive',\n",
              "                                                     [key], {});\n",
              "          if (!dataTable) return;\n",
              "\n",
              "          const docLinkHtml = 'Like what you see? Visit the ' +\n",
              "            '<a target=\"_blank\" href=https://colab.research.google.com/notebooks/data_table.ipynb>data table notebook</a>'\n",
              "            + ' to learn more about interactive tables.';\n",
              "          element.innerHTML = '';\n",
              "          dataTable['output_type'] = 'display_data';\n",
              "          await google.colab.output.renderOutput(dataTable, element);\n",
              "          const docLink = document.createElement('div');\n",
              "          docLink.innerHTML = docLinkHtml;\n",
              "          element.appendChild(docLink);\n",
              "        }\n",
              "      </script>\n",
              "    </div>\n",
              "  </div>\n",
              "  "
            ]
          },
          "metadata": {},
          "execution_count": 37
        }
      ]
    },
    {
      "cell_type": "code",
      "source": [
        "df.head()"
      ],
      "metadata": {
        "colab": {
          "base_uri": "https://localhost:8080/",
          "height": 530
        },
        "id": "B7d9MheR-fJc",
        "outputId": "8e7a06b8-6c1d-4f93-fca4-1dd22de30931"
      },
      "execution_count": 38,
      "outputs": [
        {
          "output_type": "execute_result",
          "data": {
            "text/plain": [
              "  created_at     ad_account_id utm_source utm_medium  utm_campaign  \\\n",
              "0 2022-08-08  xo-for-client-ya     yandex        cpc      48306435   \n",
              "5 2022-08-08  xo-for-client-ya     yandex        cpc      48306450   \n",
              "7 2022-08-08  xo-for-client-ya     yandex        cpc      48306450   \n",
              "8 2022-08-08  xo-for-client-ya     yandex        cpc      48306450   \n",
              "9 2022-08-08  xo-for-client-ya     yandex        cpc      48306450   \n",
              "\n",
              "   utm_content  m_clicks   m_cost                               lead_id  \\\n",
              "0   8404700756       2.0   48.840                                   NaN   \n",
              "5   8404701659      15.0  496.896  136c5ccc-16e9-11ed-9074-848f69e142cf   \n",
              "7   8404701661       5.0  124.704  8c5a5080-16f8-11ed-9074-848f69e142cf   \n",
              "8   8404701661       5.0  124.704  8c5a5080-16f8-11ed-9074-848f69e142cf   \n",
              "9   8404701661       5.0  124.704  8c5a5080-16f8-11ed-9074-848f69e142cf   \n",
              "\n",
              "                              client_id purchase_created_at  \\\n",
              "0                                   NaN          2022-09-09   \n",
              "5  6ba575d8-f458-11ec-9070-848f69e142cf          2022-06-25   \n",
              "7  ddb3e740-a856-11ec-905f-848f69e142cf          2022-03-20   \n",
              "8  ddb3e740-a856-11ec-905f-848f69e142cf          2022-03-30   \n",
              "9  ddb3e740-a856-11ec-905f-848f69e142cf          2022-08-08   \n",
              "\n",
              "                            purchase_id  m_purchase_amount  \n",
              "0  df9c9346-322f-4e25-a495-e01e97d0bd0b            24990.0  \n",
              "5  1c40ccbb-af39-48d6-8931-e217f665b4fc                0.0  \n",
              "7  1337d48f-993c-4d58-884d-45126a0f33e4                0.0  \n",
              "8  327f9ca8-ab45-46cd-ae39-303fce562ab2              285.0  \n",
              "9  8e090ba8-e323-4189-bb3c-d9e1483a7212             6194.0  "
            ],
            "text/html": [
              "\n",
              "  <div id=\"df-4e74c70c-b7c4-4b12-b367-b81d0052b55b\">\n",
              "    <div class=\"colab-df-container\">\n",
              "      <div>\n",
              "<style scoped>\n",
              "    .dataframe tbody tr th:only-of-type {\n",
              "        vertical-align: middle;\n",
              "    }\n",
              "\n",
              "    .dataframe tbody tr th {\n",
              "        vertical-align: top;\n",
              "    }\n",
              "\n",
              "    .dataframe thead th {\n",
              "        text-align: right;\n",
              "    }\n",
              "</style>\n",
              "<table border=\"1\" class=\"dataframe\">\n",
              "  <thead>\n",
              "    <tr style=\"text-align: right;\">\n",
              "      <th></th>\n",
              "      <th>created_at</th>\n",
              "      <th>ad_account_id</th>\n",
              "      <th>utm_source</th>\n",
              "      <th>utm_medium</th>\n",
              "      <th>utm_campaign</th>\n",
              "      <th>utm_content</th>\n",
              "      <th>m_clicks</th>\n",
              "      <th>m_cost</th>\n",
              "      <th>lead_id</th>\n",
              "      <th>client_id</th>\n",
              "      <th>purchase_created_at</th>\n",
              "      <th>purchase_id</th>\n",
              "      <th>m_purchase_amount</th>\n",
              "    </tr>\n",
              "  </thead>\n",
              "  <tbody>\n",
              "    <tr>\n",
              "      <th>0</th>\n",
              "      <td>2022-08-08</td>\n",
              "      <td>xo-for-client-ya</td>\n",
              "      <td>yandex</td>\n",
              "      <td>cpc</td>\n",
              "      <td>48306435</td>\n",
              "      <td>8404700756</td>\n",
              "      <td>2.0</td>\n",
              "      <td>48.840</td>\n",
              "      <td>NaN</td>\n",
              "      <td>NaN</td>\n",
              "      <td>2022-09-09</td>\n",
              "      <td>df9c9346-322f-4e25-a495-e01e97d0bd0b</td>\n",
              "      <td>24990.0</td>\n",
              "    </tr>\n",
              "    <tr>\n",
              "      <th>5</th>\n",
              "      <td>2022-08-08</td>\n",
              "      <td>xo-for-client-ya</td>\n",
              "      <td>yandex</td>\n",
              "      <td>cpc</td>\n",
              "      <td>48306450</td>\n",
              "      <td>8404701659</td>\n",
              "      <td>15.0</td>\n",
              "      <td>496.896</td>\n",
              "      <td>136c5ccc-16e9-11ed-9074-848f69e142cf</td>\n",
              "      <td>6ba575d8-f458-11ec-9070-848f69e142cf</td>\n",
              "      <td>2022-06-25</td>\n",
              "      <td>1c40ccbb-af39-48d6-8931-e217f665b4fc</td>\n",
              "      <td>0.0</td>\n",
              "    </tr>\n",
              "    <tr>\n",
              "      <th>7</th>\n",
              "      <td>2022-08-08</td>\n",
              "      <td>xo-for-client-ya</td>\n",
              "      <td>yandex</td>\n",
              "      <td>cpc</td>\n",
              "      <td>48306450</td>\n",
              "      <td>8404701661</td>\n",
              "      <td>5.0</td>\n",
              "      <td>124.704</td>\n",
              "      <td>8c5a5080-16f8-11ed-9074-848f69e142cf</td>\n",
              "      <td>ddb3e740-a856-11ec-905f-848f69e142cf</td>\n",
              "      <td>2022-03-20</td>\n",
              "      <td>1337d48f-993c-4d58-884d-45126a0f33e4</td>\n",
              "      <td>0.0</td>\n",
              "    </tr>\n",
              "    <tr>\n",
              "      <th>8</th>\n",
              "      <td>2022-08-08</td>\n",
              "      <td>xo-for-client-ya</td>\n",
              "      <td>yandex</td>\n",
              "      <td>cpc</td>\n",
              "      <td>48306450</td>\n",
              "      <td>8404701661</td>\n",
              "      <td>5.0</td>\n",
              "      <td>124.704</td>\n",
              "      <td>8c5a5080-16f8-11ed-9074-848f69e142cf</td>\n",
              "      <td>ddb3e740-a856-11ec-905f-848f69e142cf</td>\n",
              "      <td>2022-03-30</td>\n",
              "      <td>327f9ca8-ab45-46cd-ae39-303fce562ab2</td>\n",
              "      <td>285.0</td>\n",
              "    </tr>\n",
              "    <tr>\n",
              "      <th>9</th>\n",
              "      <td>2022-08-08</td>\n",
              "      <td>xo-for-client-ya</td>\n",
              "      <td>yandex</td>\n",
              "      <td>cpc</td>\n",
              "      <td>48306450</td>\n",
              "      <td>8404701661</td>\n",
              "      <td>5.0</td>\n",
              "      <td>124.704</td>\n",
              "      <td>8c5a5080-16f8-11ed-9074-848f69e142cf</td>\n",
              "      <td>ddb3e740-a856-11ec-905f-848f69e142cf</td>\n",
              "      <td>2022-08-08</td>\n",
              "      <td>8e090ba8-e323-4189-bb3c-d9e1483a7212</td>\n",
              "      <td>6194.0</td>\n",
              "    </tr>\n",
              "  </tbody>\n",
              "</table>\n",
              "</div>\n",
              "      <button class=\"colab-df-convert\" onclick=\"convertToInteractive('df-4e74c70c-b7c4-4b12-b367-b81d0052b55b')\"\n",
              "              title=\"Convert this dataframe to an interactive table.\"\n",
              "              style=\"display:none;\">\n",
              "        \n",
              "  <svg xmlns=\"http://www.w3.org/2000/svg\" height=\"24px\"viewBox=\"0 0 24 24\"\n",
              "       width=\"24px\">\n",
              "    <path d=\"M0 0h24v24H0V0z\" fill=\"none\"/>\n",
              "    <path d=\"M18.56 5.44l.94 2.06.94-2.06 2.06-.94-2.06-.94-.94-2.06-.94 2.06-2.06.94zm-11 1L8.5 8.5l.94-2.06 2.06-.94-2.06-.94L8.5 2.5l-.94 2.06-2.06.94zm10 10l.94 2.06.94-2.06 2.06-.94-2.06-.94-.94-2.06-.94 2.06-2.06.94z\"/><path d=\"M17.41 7.96l-1.37-1.37c-.4-.4-.92-.59-1.43-.59-.52 0-1.04.2-1.43.59L10.3 9.45l-7.72 7.72c-.78.78-.78 2.05 0 2.83L4 21.41c.39.39.9.59 1.41.59.51 0 1.02-.2 1.41-.59l7.78-7.78 2.81-2.81c.8-.78.8-2.07 0-2.86zM5.41 20L4 18.59l7.72-7.72 1.47 1.35L5.41 20z\"/>\n",
              "  </svg>\n",
              "      </button>\n",
              "      \n",
              "  <style>\n",
              "    .colab-df-container {\n",
              "      display:flex;\n",
              "      flex-wrap:wrap;\n",
              "      gap: 12px;\n",
              "    }\n",
              "\n",
              "    .colab-df-convert {\n",
              "      background-color: #E8F0FE;\n",
              "      border: none;\n",
              "      border-radius: 50%;\n",
              "      cursor: pointer;\n",
              "      display: none;\n",
              "      fill: #1967D2;\n",
              "      height: 32px;\n",
              "      padding: 0 0 0 0;\n",
              "      width: 32px;\n",
              "    }\n",
              "\n",
              "    .colab-df-convert:hover {\n",
              "      background-color: #E2EBFA;\n",
              "      box-shadow: 0px 1px 2px rgba(60, 64, 67, 0.3), 0px 1px 3px 1px rgba(60, 64, 67, 0.15);\n",
              "      fill: #174EA6;\n",
              "    }\n",
              "\n",
              "    [theme=dark] .colab-df-convert {\n",
              "      background-color: #3B4455;\n",
              "      fill: #D2E3FC;\n",
              "    }\n",
              "\n",
              "    [theme=dark] .colab-df-convert:hover {\n",
              "      background-color: #434B5C;\n",
              "      box-shadow: 0px 1px 3px 1px rgba(0, 0, 0, 0.15);\n",
              "      filter: drop-shadow(0px 1px 2px rgba(0, 0, 0, 0.3));\n",
              "      fill: #FFFFFF;\n",
              "    }\n",
              "  </style>\n",
              "\n",
              "      <script>\n",
              "        const buttonEl =\n",
              "          document.querySelector('#df-4e74c70c-b7c4-4b12-b367-b81d0052b55b button.colab-df-convert');\n",
              "        buttonEl.style.display =\n",
              "          google.colab.kernel.accessAllowed ? 'block' : 'none';\n",
              "\n",
              "        async function convertToInteractive(key) {\n",
              "          const element = document.querySelector('#df-4e74c70c-b7c4-4b12-b367-b81d0052b55b');\n",
              "          const dataTable =\n",
              "            await google.colab.kernel.invokeFunction('convertToInteractive',\n",
              "                                                     [key], {});\n",
              "          if (!dataTable) return;\n",
              "\n",
              "          const docLinkHtml = 'Like what you see? Visit the ' +\n",
              "            '<a target=\"_blank\" href=https://colab.research.google.com/notebooks/data_table.ipynb>data table notebook</a>'\n",
              "            + ' to learn more about interactive tables.';\n",
              "          element.innerHTML = '';\n",
              "          dataTable['output_type'] = 'display_data';\n",
              "          await google.colab.output.renderOutput(dataTable, element);\n",
              "          const docLink = document.createElement('div');\n",
              "          docLink.innerHTML = docLinkHtml;\n",
              "          element.appendChild(docLink);\n",
              "        }\n",
              "      </script>\n",
              "    </div>\n",
              "  </div>\n",
              "  "
            ]
          },
          "metadata": {},
          "execution_count": 38
        }
      ]
    },
    {
      "cell_type": "code",
      "source": [
        "df.info()"
      ],
      "metadata": {
        "colab": {
          "base_uri": "https://localhost:8080/"
        },
        "id": "pgeVz4kS-ho8",
        "outputId": "f51f9126-2a48-492e-ee3d-d1cbaadf4786"
      },
      "execution_count": 39,
      "outputs": [
        {
          "output_type": "stream",
          "name": "stdout",
          "text": [
            "<class 'pandas.core.frame.DataFrame'>\n",
            "Int64Index: 2091 entries, 0 to 10014\n",
            "Data columns (total 13 columns):\n",
            " #   Column               Non-Null Count  Dtype         \n",
            "---  ------               --------------  -----         \n",
            " 0   created_at           2091 non-null   datetime64[ns]\n",
            " 1   ad_account_id        2091 non-null   object        \n",
            " 2   utm_source           2091 non-null   object        \n",
            " 3   utm_medium           2091 non-null   object        \n",
            " 4   utm_campaign         2091 non-null   int64         \n",
            " 5   utm_content          2091 non-null   int64         \n",
            " 6   m_clicks             2091 non-null   float64       \n",
            " 7   m_cost               2091 non-null   float64       \n",
            " 8   lead_id              2090 non-null   object        \n",
            " 9   client_id            2090 non-null   object        \n",
            " 10  purchase_created_at  1400 non-null   datetime64[ns]\n",
            " 11  purchase_id          1400 non-null   object        \n",
            " 12  m_purchase_amount    1400 non-null   float64       \n",
            "dtypes: datetime64[ns](2), float64(3), int64(2), object(6)\n",
            "memory usage: 228.7+ KB\n"
          ]
        }
      ]
    },
    {
      "cell_type": "markdown",
      "source": [
        "## 4.3 Поиск аномалий"
      ],
      "metadata": {
        "id": "aGfyMtikmqBj"
      }
    },
    {
      "cell_type": "code",
      "source": [
        "df.describe()"
      ],
      "metadata": {
        "colab": {
          "base_uri": "https://localhost:8080/",
          "height": 300
        },
        "id": "UmzGZoymZ2Yg",
        "outputId": "673d1ef3-6031-42d5-ca6b-fed7c99eb151"
      },
      "execution_count": 40,
      "outputs": [
        {
          "output_type": "execute_result",
          "data": {
            "text/plain": [
              "       utm_campaign   utm_content     m_clicks       m_cost  m_purchase_amount\n",
              "count  2.091000e+03  2.091000e+03  2091.000000  2091.000000        1400.000000\n",
              "mean   4.870879e+07  8.556162e+09     9.493544   235.437188        3256.417857\n",
              "std    3.050973e+06  4.641013e+08     6.093241   176.803721        4251.174905\n",
              "min    4.830644e+07  8.404701e+09     0.000000     0.000000           0.000000\n",
              "25%    4.830645e+07  8.404702e+09     4.000000    99.816000          60.000000\n",
              "50%    4.830645e+07  8.404702e+09     9.000000   193.524000         680.000000\n",
              "75%    4.830649e+07  8.404708e+09    14.000000   328.896000        6990.000000\n",
              "max    7.200079e+07  1.184486e+10    30.000000   983.964000       48600.000000"
            ],
            "text/html": [
              "\n",
              "  <div id=\"df-d27ede2f-e8cb-451a-9dd7-dc3a5f3b148c\">\n",
              "    <div class=\"colab-df-container\">\n",
              "      <div>\n",
              "<style scoped>\n",
              "    .dataframe tbody tr th:only-of-type {\n",
              "        vertical-align: middle;\n",
              "    }\n",
              "\n",
              "    .dataframe tbody tr th {\n",
              "        vertical-align: top;\n",
              "    }\n",
              "\n",
              "    .dataframe thead th {\n",
              "        text-align: right;\n",
              "    }\n",
              "</style>\n",
              "<table border=\"1\" class=\"dataframe\">\n",
              "  <thead>\n",
              "    <tr style=\"text-align: right;\">\n",
              "      <th></th>\n",
              "      <th>utm_campaign</th>\n",
              "      <th>utm_content</th>\n",
              "      <th>m_clicks</th>\n",
              "      <th>m_cost</th>\n",
              "      <th>m_purchase_amount</th>\n",
              "    </tr>\n",
              "  </thead>\n",
              "  <tbody>\n",
              "    <tr>\n",
              "      <th>count</th>\n",
              "      <td>2.091000e+03</td>\n",
              "      <td>2.091000e+03</td>\n",
              "      <td>2091.000000</td>\n",
              "      <td>2091.000000</td>\n",
              "      <td>1400.000000</td>\n",
              "    </tr>\n",
              "    <tr>\n",
              "      <th>mean</th>\n",
              "      <td>4.870879e+07</td>\n",
              "      <td>8.556162e+09</td>\n",
              "      <td>9.493544</td>\n",
              "      <td>235.437188</td>\n",
              "      <td>3256.417857</td>\n",
              "    </tr>\n",
              "    <tr>\n",
              "      <th>std</th>\n",
              "      <td>3.050973e+06</td>\n",
              "      <td>4.641013e+08</td>\n",
              "      <td>6.093241</td>\n",
              "      <td>176.803721</td>\n",
              "      <td>4251.174905</td>\n",
              "    </tr>\n",
              "    <tr>\n",
              "      <th>min</th>\n",
              "      <td>4.830644e+07</td>\n",
              "      <td>8.404701e+09</td>\n",
              "      <td>0.000000</td>\n",
              "      <td>0.000000</td>\n",
              "      <td>0.000000</td>\n",
              "    </tr>\n",
              "    <tr>\n",
              "      <th>25%</th>\n",
              "      <td>4.830645e+07</td>\n",
              "      <td>8.404702e+09</td>\n",
              "      <td>4.000000</td>\n",
              "      <td>99.816000</td>\n",
              "      <td>60.000000</td>\n",
              "    </tr>\n",
              "    <tr>\n",
              "      <th>50%</th>\n",
              "      <td>4.830645e+07</td>\n",
              "      <td>8.404702e+09</td>\n",
              "      <td>9.000000</td>\n",
              "      <td>193.524000</td>\n",
              "      <td>680.000000</td>\n",
              "    </tr>\n",
              "    <tr>\n",
              "      <th>75%</th>\n",
              "      <td>4.830649e+07</td>\n",
              "      <td>8.404708e+09</td>\n",
              "      <td>14.000000</td>\n",
              "      <td>328.896000</td>\n",
              "      <td>6990.000000</td>\n",
              "    </tr>\n",
              "    <tr>\n",
              "      <th>max</th>\n",
              "      <td>7.200079e+07</td>\n",
              "      <td>1.184486e+10</td>\n",
              "      <td>30.000000</td>\n",
              "      <td>983.964000</td>\n",
              "      <td>48600.000000</td>\n",
              "    </tr>\n",
              "  </tbody>\n",
              "</table>\n",
              "</div>\n",
              "      <button class=\"colab-df-convert\" onclick=\"convertToInteractive('df-d27ede2f-e8cb-451a-9dd7-dc3a5f3b148c')\"\n",
              "              title=\"Convert this dataframe to an interactive table.\"\n",
              "              style=\"display:none;\">\n",
              "        \n",
              "  <svg xmlns=\"http://www.w3.org/2000/svg\" height=\"24px\"viewBox=\"0 0 24 24\"\n",
              "       width=\"24px\">\n",
              "    <path d=\"M0 0h24v24H0V0z\" fill=\"none\"/>\n",
              "    <path d=\"M18.56 5.44l.94 2.06.94-2.06 2.06-.94-2.06-.94-.94-2.06-.94 2.06-2.06.94zm-11 1L8.5 8.5l.94-2.06 2.06-.94-2.06-.94L8.5 2.5l-.94 2.06-2.06.94zm10 10l.94 2.06.94-2.06 2.06-.94-2.06-.94-.94-2.06-.94 2.06-2.06.94z\"/><path d=\"M17.41 7.96l-1.37-1.37c-.4-.4-.92-.59-1.43-.59-.52 0-1.04.2-1.43.59L10.3 9.45l-7.72 7.72c-.78.78-.78 2.05 0 2.83L4 21.41c.39.39.9.59 1.41.59.51 0 1.02-.2 1.41-.59l7.78-7.78 2.81-2.81c.8-.78.8-2.07 0-2.86zM5.41 20L4 18.59l7.72-7.72 1.47 1.35L5.41 20z\"/>\n",
              "  </svg>\n",
              "      </button>\n",
              "      \n",
              "  <style>\n",
              "    .colab-df-container {\n",
              "      display:flex;\n",
              "      flex-wrap:wrap;\n",
              "      gap: 12px;\n",
              "    }\n",
              "\n",
              "    .colab-df-convert {\n",
              "      background-color: #E8F0FE;\n",
              "      border: none;\n",
              "      border-radius: 50%;\n",
              "      cursor: pointer;\n",
              "      display: none;\n",
              "      fill: #1967D2;\n",
              "      height: 32px;\n",
              "      padding: 0 0 0 0;\n",
              "      width: 32px;\n",
              "    }\n",
              "\n",
              "    .colab-df-convert:hover {\n",
              "      background-color: #E2EBFA;\n",
              "      box-shadow: 0px 1px 2px rgba(60, 64, 67, 0.3), 0px 1px 3px 1px rgba(60, 64, 67, 0.15);\n",
              "      fill: #174EA6;\n",
              "    }\n",
              "\n",
              "    [theme=dark] .colab-df-convert {\n",
              "      background-color: #3B4455;\n",
              "      fill: #D2E3FC;\n",
              "    }\n",
              "\n",
              "    [theme=dark] .colab-df-convert:hover {\n",
              "      background-color: #434B5C;\n",
              "      box-shadow: 0px 1px 3px 1px rgba(0, 0, 0, 0.15);\n",
              "      filter: drop-shadow(0px 1px 2px rgba(0, 0, 0, 0.3));\n",
              "      fill: #FFFFFF;\n",
              "    }\n",
              "  </style>\n",
              "\n",
              "      <script>\n",
              "        const buttonEl =\n",
              "          document.querySelector('#df-d27ede2f-e8cb-451a-9dd7-dc3a5f3b148c button.colab-df-convert');\n",
              "        buttonEl.style.display =\n",
              "          google.colab.kernel.accessAllowed ? 'block' : 'none';\n",
              "\n",
              "        async function convertToInteractive(key) {\n",
              "          const element = document.querySelector('#df-d27ede2f-e8cb-451a-9dd7-dc3a5f3b148c');\n",
              "          const dataTable =\n",
              "            await google.colab.kernel.invokeFunction('convertToInteractive',\n",
              "                                                     [key], {});\n",
              "          if (!dataTable) return;\n",
              "\n",
              "          const docLinkHtml = 'Like what you see? Visit the ' +\n",
              "            '<a target=\"_blank\" href=https://colab.research.google.com/notebooks/data_table.ipynb>data table notebook</a>'\n",
              "            + ' to learn more about interactive tables.';\n",
              "          element.innerHTML = '';\n",
              "          dataTable['output_type'] = 'display_data';\n",
              "          await google.colab.output.renderOutput(dataTable, element);\n",
              "          const docLink = document.createElement('div');\n",
              "          docLink.innerHTML = docLinkHtml;\n",
              "          element.appendChild(docLink);\n",
              "        }\n",
              "      </script>\n",
              "    </div>\n",
              "  </div>\n",
              "  "
            ]
          },
          "metadata": {},
          "execution_count": 40
        }
      ]
    },
    {
      "cell_type": "code",
      "source": [
        "cat_columns = df[['m_clicks', 'm_cost', 'm_purchase_amount']]\n",
        "\n",
        "\n",
        "plt.figure(figsize=(16,5))\n",
        "for i, column in enumerate(sorted(cat_columns)):\n",
        "    plt.subplot(1,3,i+1)\n",
        "    plt.title(column)\n",
        "    sns.histplot(df, x=column, discrete=False, alpha=0.7, bins=10)\n",
        "    plt.legend([column])\n",
        "    plt.xticks(rotation=0,\n",
        "      horizontalalignment='right',\n",
        "      fontweight='light',\n",
        "      fontsize='medium',)\n",
        "plt.show()"
      ],
      "metadata": {
        "colab": {
          "base_uri": "https://localhost:8080/",
          "height": 351
        },
        "id": "JbU7iZ5Vms9g",
        "outputId": "925d4e49-5d04-472b-e79b-32afc7c339b4"
      },
      "execution_count": 41,
      "outputs": [
        {
          "output_type": "display_data",
          "data": {
            "text/plain": [
              "<Figure size 1152x360 with 3 Axes>"
            ],
            "image/png": "[encoded data removed]"
          },
          "metadata": {
            "needs_background": "light"
          }
        }
      ]
    },
    {
      "cell_type": "markdown",
      "source": [
        "- в целом данные выгялдят нормально, нет каких то аномальных или минусовых значений."
      ],
      "metadata": {
        "id": "zdVhG6BZ569n"
      }
    },
    {
      "cell_type": "markdown",
      "source": [
        "# 4.4 Атрибуция лид - покупка"
      ],
      "metadata": {
        "id": "TGW8ZDtrqPsX"
      }
    },
    {
      "cell_type": "markdown",
      "source": [
        "> Каждому лиду “в зачет” идут только те покупки, которые клиент сделал в первые 15 дней после создания заявки. Из-за особенности бизнеса соотношение лидов и продаж - многие ко многим. Существующий клиент может купить услугу повторно через заведение новой заявки, а может создать две заявки подряд и после этого сделать покупку. "
      ],
      "metadata": {
        "id": "haKQc0edqVyd"
      }
    },
    {
      "cell_type": "code",
      "source": [
        "df.info()"
      ],
      "metadata": {
        "colab": {
          "base_uri": "https://localhost:8080/"
        },
        "id": "0cF0DpVyA9fs",
        "outputId": "857b5c98-4d24-4e81-f1d2-d48f85922979"
      },
      "execution_count": 42,
      "outputs": [
        {
          "output_type": "stream",
          "name": "stdout",
          "text": [
            "<class 'pandas.core.frame.DataFrame'>\n",
            "Int64Index: 2091 entries, 0 to 10014\n",
            "Data columns (total 13 columns):\n",
            " #   Column               Non-Null Count  Dtype         \n",
            "---  ------               --------------  -----         \n",
            " 0   created_at           2091 non-null   datetime64[ns]\n",
            " 1   ad_account_id        2091 non-null   object        \n",
            " 2   utm_source           2091 non-null   object        \n",
            " 3   utm_medium           2091 non-null   object        \n",
            " 4   utm_campaign         2091 non-null   int64         \n",
            " 5   utm_content          2091 non-null   int64         \n",
            " 6   m_clicks             2091 non-null   float64       \n",
            " 7   m_cost               2091 non-null   float64       \n",
            " 8   lead_id              2090 non-null   object        \n",
            " 9   client_id            2090 non-null   object        \n",
            " 10  purchase_created_at  1400 non-null   datetime64[ns]\n",
            " 11  purchase_id          1400 non-null   object        \n",
            " 12  m_purchase_amount    1400 non-null   float64       \n",
            "dtypes: datetime64[ns](2), float64(3), int64(2), object(6)\n",
            "memory usage: 228.7+ KB\n"
          ]
        }
      ]
    },
    {
      "cell_type": "code",
      "source": [
        "# считаем разницу дней\n",
        "df['datediff'] = (df['purchase_created_at'] - df['created_at']).dt.days"
      ],
      "metadata": {
        "id": "cCR30tFcq-qZ"
      },
      "execution_count": 43,
      "outputs": []
    },
    {
      "cell_type": "code",
      "source": [
        "# фильтр по условию\n",
        "df = df.query('datediff <= 15')"
      ],
      "metadata": {
        "id": "EKohUXNVthWB"
      },
      "execution_count": 44,
      "outputs": []
    },
    {
      "cell_type": "markdown",
      "source": [
        "- обрати внимание, когда делаем фильтр, все пустые значения исключатся так как мы не можем идентифицировать такие покупки по условию."
      ],
      "metadata": {
        "id": "NR7o7KiHBBhn"
      }
    },
    {
      "cell_type": "code",
      "source": [
        "df.head()"
      ],
      "metadata": {
        "colab": {
          "base_uri": "https://localhost:8080/",
          "height": 530
        },
        "id": "WYWbOrqE_f83",
        "outputId": "cdaa364c-3d36-43b7-a634-27b53d212cf6"
      },
      "execution_count": 45,
      "outputs": [
        {
          "output_type": "execute_result",
          "data": {
            "text/plain": [
              "   created_at     ad_account_id utm_source utm_medium  utm_campaign  \\\n",
              "5  2022-08-08  xo-for-client-ya     yandex        cpc      48306450   \n",
              "7  2022-08-08  xo-for-client-ya     yandex        cpc      48306450   \n",
              "8  2022-08-08  xo-for-client-ya     yandex        cpc      48306450   \n",
              "9  2022-08-08  xo-for-client-ya     yandex        cpc      48306450   \n",
              "13 2022-08-08  xo-for-client-ya     yandex        cpc      48306450   \n",
              "\n",
              "    utm_content  m_clicks   m_cost                               lead_id  \\\n",
              "5    8404701659      15.0  496.896  136c5ccc-16e9-11ed-9074-848f69e142cf   \n",
              "7    8404701661       5.0  124.704  8c5a5080-16f8-11ed-9074-848f69e142cf   \n",
              "8    8404701661       5.0  124.704  8c5a5080-16f8-11ed-9074-848f69e142cf   \n",
              "9    8404701661       5.0  124.704  8c5a5080-16f8-11ed-9074-848f69e142cf   \n",
              "13   8404701665      20.0  385.896  dd50a605-1714-11ed-9074-848f69e142cf   \n",
              "\n",
              "                               client_id purchase_created_at  \\\n",
              "5   6ba575d8-f458-11ec-9070-848f69e142cf          2022-06-25   \n",
              "7   ddb3e740-a856-11ec-905f-848f69e142cf          2022-03-20   \n",
              "8   ddb3e740-a856-11ec-905f-848f69e142cf          2022-03-30   \n",
              "9   ddb3e740-a856-11ec-905f-848f69e142cf          2022-08-08   \n",
              "13  ca65c322-1ac9-11ec-9045-848f69e142c9          2022-04-20   \n",
              "\n",
              "                             purchase_id  m_purchase_amount  datediff  \n",
              "5   1c40ccbb-af39-48d6-8931-e217f665b4fc                0.0     -44.0  \n",
              "7   1337d48f-993c-4d58-884d-45126a0f33e4                0.0    -141.0  \n",
              "8   327f9ca8-ab45-46cd-ae39-303fce562ab2              285.0    -131.0  \n",
              "9   8e090ba8-e323-4189-bb3c-d9e1483a7212             6194.0       0.0  \n",
              "13  0d25f368-820a-4f22-97e8-157b704b98e8              390.0    -110.0  "
            ],
            "text/html": [
              "\n",
              "  <div id=\"df-14fc60f1-b8fc-462a-805a-7cfc802bd1e3\">\n",
              "    <div class=\"colab-df-container\">\n",
              "      <div>\n",
              "<style scoped>\n",
              "    .dataframe tbody tr th:only-of-type {\n",
              "        vertical-align: middle;\n",
              "    }\n",
              "\n",
              "    .dataframe tbody tr th {\n",
              "        vertical-align: top;\n",
              "    }\n",
              "\n",
              "    .dataframe thead th {\n",
              "        text-align: right;\n",
              "    }\n",
              "</style>\n",
              "<table border=\"1\" class=\"dataframe\">\n",
              "  <thead>\n",
              "    <tr style=\"text-align: right;\">\n",
              "      <th></th>\n",
              "      <th>created_at</th>\n",
              "      <th>ad_account_id</th>\n",
              "      <th>utm_source</th>\n",
              "      <th>utm_medium</th>\n",
              "      <th>utm_campaign</th>\n",
              "      <th>utm_content</th>\n",
              "      <th>m_clicks</th>\n",
              "      <th>m_cost</th>\n",
              "      <th>lead_id</th>\n",
              "      <th>client_id</th>\n",
              "      <th>purchase_created_at</th>\n",
              "      <th>purchase_id</th>\n",
              "      <th>m_purchase_amount</th>\n",
              "      <th>datediff</th>\n",
              "    </tr>\n",
              "  </thead>\n",
              "  <tbody>\n",
              "    <tr>\n",
              "      <th>5</th>\n",
              "      <td>2022-08-08</td>\n",
              "      <td>xo-for-client-ya</td>\n",
              "      <td>yandex</td>\n",
              "      <td>cpc</td>\n",
              "      <td>48306450</td>\n",
              "      <td>8404701659</td>\n",
              "      <td>15.0</td>\n",
              "      <td>496.896</td>\n",
              "      <td>136c5ccc-16e9-11ed-9074-848f69e142cf</td>\n",
              "      <td>6ba575d8-f458-11ec-9070-848f69e142cf</td>\n",
              "      <td>2022-06-25</td>\n",
              "      <td>1c40ccbb-af39-48d6-8931-e217f665b4fc</td>\n",
              "      <td>0.0</td>\n",
              "      <td>-44.0</td>\n",
              "    </tr>\n",
              "    <tr>\n",
              "      <th>7</th>\n",
              "      <td>2022-08-08</td>\n",
              "      <td>xo-for-client-ya</td>\n",
              "      <td>yandex</td>\n",
              "      <td>cpc</td>\n",
              "      <td>48306450</td>\n",
              "      <td>8404701661</td>\n",
              "      <td>5.0</td>\n",
              "      <td>124.704</td>\n",
              "      <td>8c5a5080-16f8-11ed-9074-848f69e142cf</td>\n",
              "      <td>ddb3e740-a856-11ec-905f-848f69e142cf</td>\n",
              "      <td>2022-03-20</td>\n",
              "      <td>1337d48f-993c-4d58-884d-45126a0f33e4</td>\n",
              "      <td>0.0</td>\n",
              "      <td>-141.0</td>\n",
              "    </tr>\n",
              "    <tr>\n",
              "      <th>8</th>\n",
              "      <td>2022-08-08</td>\n",
              "      <td>xo-for-client-ya</td>\n",
              "      <td>yandex</td>\n",
              "      <td>cpc</td>\n",
              "      <td>48306450</td>\n",
              "      <td>8404701661</td>\n",
              "      <td>5.0</td>\n",
              "      <td>124.704</td>\n",
              "      <td>8c5a5080-16f8-11ed-9074-848f69e142cf</td>\n",
              "      <td>ddb3e740-a856-11ec-905f-848f69e142cf</td>\n",
              "      <td>2022-03-30</td>\n",
              "      <td>327f9ca8-ab45-46cd-ae39-303fce562ab2</td>\n",
              "      <td>285.0</td>\n",
              "      <td>-131.0</td>\n",
              "    </tr>\n",
              "    <tr>\n",
              "      <th>9</th>\n",
              "      <td>2022-08-08</td>\n",
              "      <td>xo-for-client-ya</td>\n",
              "      <td>yandex</td>\n",
              "      <td>cpc</td>\n",
              "      <td>48306450</td>\n",
              "      <td>8404701661</td>\n",
              "      <td>5.0</td>\n",
              "      <td>124.704</td>\n",
              "      <td>8c5a5080-16f8-11ed-9074-848f69e142cf</td>\n",
              "      <td>ddb3e740-a856-11ec-905f-848f69e142cf</td>\n",
              "      <td>2022-08-08</td>\n",
              "      <td>8e090ba8-e323-4189-bb3c-d9e1483a7212</td>\n",
              "      <td>6194.0</td>\n",
              "      <td>0.0</td>\n",
              "    </tr>\n",
              "    <tr>\n",
              "      <th>13</th>\n",
              "      <td>2022-08-08</td>\n",
              "      <td>xo-for-client-ya</td>\n",
              "      <td>yandex</td>\n",
              "      <td>cpc</td>\n",
              "      <td>48306450</td>\n",
              "      <td>8404701665</td>\n",
              "      <td>20.0</td>\n",
              "      <td>385.896</td>\n",
              "      <td>dd50a605-1714-11ed-9074-848f69e142cf</td>\n",
              "      <td>ca65c322-1ac9-11ec-9045-848f69e142c9</td>\n",
              "      <td>2022-04-20</td>\n",
              "      <td>0d25f368-820a-4f22-97e8-157b704b98e8</td>\n",
              "      <td>390.0</td>\n",
              "      <td>-110.0</td>\n",
              "    </tr>\n",
              "  </tbody>\n",
              "</table>\n",
              "</div>\n",
              "      <button class=\"colab-df-convert\" onclick=\"convertToInteractive('df-14fc60f1-b8fc-462a-805a-7cfc802bd1e3')\"\n",
              "              title=\"Convert this dataframe to an interactive table.\"\n",
              "              style=\"display:none;\">\n",
              "        \n",
              "  <svg xmlns=\"http://www.w3.org/2000/svg\" height=\"24px\"viewBox=\"0 0 24 24\"\n",
              "       width=\"24px\">\n",
              "    <path d=\"M0 0h24v24H0V0z\" fill=\"none\"/>\n",
              "    <path d=\"M18.56 5.44l.94 2.06.94-2.06 2.06-.94-2.06-.94-.94-2.06-.94 2.06-2.06.94zm-11 1L8.5 8.5l.94-2.06 2.06-.94-2.06-.94L8.5 2.5l-.94 2.06-2.06.94zm10 10l.94 2.06.94-2.06 2.06-.94-2.06-.94-.94-2.06-.94 2.06-2.06.94z\"/><path d=\"M17.41 7.96l-1.37-1.37c-.4-.4-.92-.59-1.43-.59-.52 0-1.04.2-1.43.59L10.3 9.45l-7.72 7.72c-.78.78-.78 2.05 0 2.83L4 21.41c.39.39.9.59 1.41.59.51 0 1.02-.2 1.41-.59l7.78-7.78 2.81-2.81c.8-.78.8-2.07 0-2.86zM5.41 20L4 18.59l7.72-7.72 1.47 1.35L5.41 20z\"/>\n",
              "  </svg>\n",
              "      </button>\n",
              "      \n",
              "  <style>\n",
              "    .colab-df-container {\n",
              "      display:flex;\n",
              "      flex-wrap:wrap;\n",
              "      gap: 12px;\n",
              "    }\n",
              "\n",
              "    .colab-df-convert {\n",
              "      background-color: #E8F0FE;\n",
              "      border: none;\n",
              "      border-radius: 50%;\n",
              "      cursor: pointer;\n",
              "      display: none;\n",
              "      fill: #1967D2;\n",
              "      height: 32px;\n",
              "      padding: 0 0 0 0;\n",
              "      width: 32px;\n",
              "    }\n",
              "\n",
              "    .colab-df-convert:hover {\n",
              "      background-color: #E2EBFA;\n",
              "      box-shadow: 0px 1px 2px rgba(60, 64, 67, 0.3), 0px 1px 3px 1px rgba(60, 64, 67, 0.15);\n",
              "      fill: #174EA6;\n",
              "    }\n",
              "\n",
              "    [theme=dark] .colab-df-convert {\n",
              "      background-color: #3B4455;\n",
              "      fill: #D2E3FC;\n",
              "    }\n",
              "\n",
              "    [theme=dark] .colab-df-convert:hover {\n",
              "      background-color: #434B5C;\n",
              "      box-shadow: 0px 1px 3px 1px rgba(0, 0, 0, 0.15);\n",
              "      filter: drop-shadow(0px 1px 2px rgba(0, 0, 0, 0.3));\n",
              "      fill: #FFFFFF;\n",
              "    }\n",
              "  </style>\n",
              "\n",
              "      <script>\n",
              "        const buttonEl =\n",
              "          document.querySelector('#df-14fc60f1-b8fc-462a-805a-7cfc802bd1e3 button.colab-df-convert');\n",
              "        buttonEl.style.display =\n",
              "          google.colab.kernel.accessAllowed ? 'block' : 'none';\n",
              "\n",
              "        async function convertToInteractive(key) {\n",
              "          const element = document.querySelector('#df-14fc60f1-b8fc-462a-805a-7cfc802bd1e3');\n",
              "          const dataTable =\n",
              "            await google.colab.kernel.invokeFunction('convertToInteractive',\n",
              "                                                     [key], {});\n",
              "          if (!dataTable) return;\n",
              "\n",
              "          const docLinkHtml = 'Like what you see? Visit the ' +\n",
              "            '<a target=\"_blank\" href=https://colab.research.google.com/notebooks/data_table.ipynb>data table notebook</a>'\n",
              "            + ' to learn more about interactive tables.';\n",
              "          element.innerHTML = '';\n",
              "          dataTable['output_type'] = 'display_data';\n",
              "          await google.colab.output.renderOutput(dataTable, element);\n",
              "          const docLink = document.createElement('div');\n",
              "          docLink.innerHTML = docLinkHtml;\n",
              "          element.appendChild(docLink);\n",
              "        }\n",
              "      </script>\n",
              "    </div>\n",
              "  </div>\n",
              "  "
            ]
          },
          "metadata": {},
          "execution_count": 45
        }
      ]
    },
    {
      "cell_type": "markdown",
      "source": [
        "- в таблице видим минусовые значения дат, думаю что это старые клиенты которы покупали уже ранее, но потом некорые из них пригли по рекламе. Так или иначе они не удовлетворяют условиям задачи."
      ],
      "metadata": {
        "id": "XBjayPdDBWSA"
      }
    },
    {
      "cell_type": "code",
      "source": [
        "df = df.query('0 <= datediff <= 15')"
      ],
      "metadata": {
        "id": "uiQ9U0e1BoNO"
      },
      "execution_count": 46,
      "outputs": []
    },
    {
      "cell_type": "code",
      "source": [
        "df.info()"
      ],
      "metadata": {
        "colab": {
          "base_uri": "https://localhost:8080/"
        },
        "id": "dHHaqb1rMLfr",
        "outputId": "b12f9127-b9a7-4050-a22a-6280db1a9860"
      },
      "execution_count": 47,
      "outputs": [
        {
          "output_type": "stream",
          "name": "stdout",
          "text": [
            "<class 'pandas.core.frame.DataFrame'>\n",
            "Int64Index: 493 entries, 9 to 10014\n",
            "Data columns (total 14 columns):\n",
            " #   Column               Non-Null Count  Dtype         \n",
            "---  ------               --------------  -----         \n",
            " 0   created_at           493 non-null    datetime64[ns]\n",
            " 1   ad_account_id        493 non-null    object        \n",
            " 2   utm_source           493 non-null    object        \n",
            " 3   utm_medium           493 non-null    object        \n",
            " 4   utm_campaign         493 non-null    int64         \n",
            " 5   utm_content          493 non-null    int64         \n",
            " 6   m_clicks             493 non-null    float64       \n",
            " 7   m_cost               493 non-null    float64       \n",
            " 8   lead_id              493 non-null    object        \n",
            " 9   client_id            493 non-null    object        \n",
            " 10  purchase_created_at  493 non-null    datetime64[ns]\n",
            " 11  purchase_id          493 non-null    object        \n",
            " 12  m_purchase_amount    493 non-null    float64       \n",
            " 13  datediff             493 non-null    float64       \n",
            "dtypes: datetime64[ns](2), float64(4), int64(2), object(6)\n",
            "memory usage: 57.8+ KB\n"
          ]
        }
      ]
    },
    {
      "cell_type": "code",
      "source": [
        "df.describe()"
      ],
      "metadata": {
        "colab": {
          "base_uri": "https://localhost:8080/",
          "height": 300
        },
        "id": "SfcJagCtMPNI",
        "outputId": "28badddc-254e-44bd-b9c1-41f62e15a355"
      },
      "execution_count": 48,
      "outputs": [
        {
          "output_type": "execute_result",
          "data": {
            "text/plain": [
              "       utm_campaign   utm_content    m_clicks      m_cost  m_purchase_amount  \\\n",
              "count  4.930000e+02  4.930000e+02  493.000000  493.000000         493.000000   \n",
              "mean   4.883513e+07  8.551937e+09    9.955375  258.356398        5066.527383   \n",
              "std    3.503147e+06  5.212884e+08    6.238977  198.888413        4289.391110   \n",
              "min    4.830644e+07  8.404701e+09    0.000000    0.000000           0.000000   \n",
              "25%    4.830645e+07  8.404702e+09    4.000000  103.812000         290.000000   \n",
              "50%    4.830645e+07  8.404702e+09   10.000000  210.588000        6320.000000   \n",
              "75%    4.830645e+07  8.404708e+09   15.000000  347.724000        8700.000000   \n",
              "max    7.200079e+07  1.184486e+10   30.000000  983.964000       24990.000000   \n",
              "\n",
              "         datediff  \n",
              "count  493.000000  \n",
              "mean     3.847870  \n",
              "std      3.901113  \n",
              "min      0.000000  \n",
              "25%      1.000000  \n",
              "50%      3.000000  \n",
              "75%      5.000000  \n",
              "max     15.000000  "
            ],
            "text/html": [
              "\n",
              "  <div id=\"df-2d341ed4-e183-48dd-b247-0864bece73c4\">\n",
              "    <div class=\"colab-df-container\">\n",
              "      <div>\n",
              "<style scoped>\n",
              "    .dataframe tbody tr th:only-of-type {\n",
              "        vertical-align: middle;\n",
              "    }\n",
              "\n",
              "    .dataframe tbody tr th {\n",
              "        vertical-align: top;\n",
              "    }\n",
              "\n",
              "    .dataframe thead th {\n",
              "        text-align: right;\n",
              "    }\n",
              "</style>\n",
              "<table border=\"1\" class=\"dataframe\">\n",
              "  <thead>\n",
              "    <tr style=\"text-align: right;\">\n",
              "      <th></th>\n",
              "      <th>utm_campaign</th>\n",
              "      <th>utm_content</th>\n",
              "      <th>m_clicks</th>\n",
              "      <th>m_cost</th>\n",
              "      <th>m_purchase_amount</th>\n",
              "      <th>datediff</th>\n",
              "    </tr>\n",
              "  </thead>\n",
              "  <tbody>\n",
              "    <tr>\n",
              "      <th>count</th>\n",
              "      <td>4.930000e+02</td>\n",
              "      <td>4.930000e+02</td>\n",
              "      <td>493.000000</td>\n",
              "      <td>493.000000</td>\n",
              "      <td>493.000000</td>\n",
              "      <td>493.000000</td>\n",
              "    </tr>\n",
              "    <tr>\n",
              "      <th>mean</th>\n",
              "      <td>4.883513e+07</td>\n",
              "      <td>8.551937e+09</td>\n",
              "      <td>9.955375</td>\n",
              "      <td>258.356398</td>\n",
              "      <td>5066.527383</td>\n",
              "      <td>3.847870</td>\n",
              "    </tr>\n",
              "    <tr>\n",
              "      <th>std</th>\n",
              "      <td>3.503147e+06</td>\n",
              "      <td>5.212884e+08</td>\n",
              "      <td>6.238977</td>\n",
              "      <td>198.888413</td>\n",
              "      <td>4289.391110</td>\n",
              "      <td>3.901113</td>\n",
              "    </tr>\n",
              "    <tr>\n",
              "      <th>min</th>\n",
              "      <td>4.830644e+07</td>\n",
              "      <td>8.404701e+09</td>\n",
              "      <td>0.000000</td>\n",
              "      <td>0.000000</td>\n",
              "      <td>0.000000</td>\n",
              "      <td>0.000000</td>\n",
              "    </tr>\n",
              "    <tr>\n",
              "      <th>25%</th>\n",
              "      <td>4.830645e+07</td>\n",
              "      <td>8.404702e+09</td>\n",
              "      <td>4.000000</td>\n",
              "      <td>103.812000</td>\n",
              "      <td>290.000000</td>\n",
              "      <td>1.000000</td>\n",
              "    </tr>\n",
              "    <tr>\n",
              "      <th>50%</th>\n",
              "      <td>4.830645e+07</td>\n",
              "      <td>8.404702e+09</td>\n",
              "      <td>10.000000</td>\n",
              "      <td>210.588000</td>\n",
              "      <td>6320.000000</td>\n",
              "      <td>3.000000</td>\n",
              "    </tr>\n",
              "    <tr>\n",
              "      <th>75%</th>\n",
              "      <td>4.830645e+07</td>\n",
              "      <td>8.404708e+09</td>\n",
              "      <td>15.000000</td>\n",
              "      <td>347.724000</td>\n",
              "      <td>8700.000000</td>\n",
              "      <td>5.000000</td>\n",
              "    </tr>\n",
              "    <tr>\n",
              "      <th>max</th>\n",
              "      <td>7.200079e+07</td>\n",
              "      <td>1.184486e+10</td>\n",
              "      <td>30.000000</td>\n",
              "      <td>983.964000</td>\n",
              "      <td>24990.000000</td>\n",
              "      <td>15.000000</td>\n",
              "    </tr>\n",
              "  </tbody>\n",
              "</table>\n",
              "</div>\n",
              "      <button class=\"colab-df-convert\" onclick=\"convertToInteractive('df-2d341ed4-e183-48dd-b247-0864bece73c4')\"\n",
              "              title=\"Convert this dataframe to an interactive table.\"\n",
              "              style=\"display:none;\">\n",
              "        \n",
              "  <svg xmlns=\"http://www.w3.org/2000/svg\" height=\"24px\"viewBox=\"0 0 24 24\"\n",
              "       width=\"24px\">\n",
              "    <path d=\"M0 0h24v24H0V0z\" fill=\"none\"/>\n",
              "    <path d=\"M18.56 5.44l.94 2.06.94-2.06 2.06-.94-2.06-.94-.94-2.06-.94 2.06-2.06.94zm-11 1L8.5 8.5l.94-2.06 2.06-.94-2.06-.94L8.5 2.5l-.94 2.06-2.06.94zm10 10l.94 2.06.94-2.06 2.06-.94-2.06-.94-.94-2.06-.94 2.06-2.06.94z\"/><path d=\"M17.41 7.96l-1.37-1.37c-.4-.4-.92-.59-1.43-.59-.52 0-1.04.2-1.43.59L10.3 9.45l-7.72 7.72c-.78.78-.78 2.05 0 2.83L4 21.41c.39.39.9.59 1.41.59.51 0 1.02-.2 1.41-.59l7.78-7.78 2.81-2.81c.8-.78.8-2.07 0-2.86zM5.41 20L4 18.59l7.72-7.72 1.47 1.35L5.41 20z\"/>\n",
              "  </svg>\n",
              "      </button>\n",
              "      \n",
              "  <style>\n",
              "    .colab-df-container {\n",
              "      display:flex;\n",
              "      flex-wrap:wrap;\n",
              "      gap: 12px;\n",
              "    }\n",
              "\n",
              "    .colab-df-convert {\n",
              "      background-color: #E8F0FE;\n",
              "      border: none;\n",
              "      border-radius: 50%;\n",
              "      cursor: pointer;\n",
              "      display: none;\n",
              "      fill: #1967D2;\n",
              "      height: 32px;\n",
              "      padding: 0 0 0 0;\n",
              "      width: 32px;\n",
              "    }\n",
              "\n",
              "    .colab-df-convert:hover {\n",
              "      background-color: #E2EBFA;\n",
              "      box-shadow: 0px 1px 2px rgba(60, 64, 67, 0.3), 0px 1px 3px 1px rgba(60, 64, 67, 0.15);\n",
              "      fill: #174EA6;\n",
              "    }\n",
              "\n",
              "    [theme=dark] .colab-df-convert {\n",
              "      background-color: #3B4455;\n",
              "      fill: #D2E3FC;\n",
              "    }\n",
              "\n",
              "    [theme=dark] .colab-df-convert:hover {\n",
              "      background-color: #434B5C;\n",
              "      box-shadow: 0px 1px 3px 1px rgba(0, 0, 0, 0.15);\n",
              "      filter: drop-shadow(0px 1px 2px rgba(0, 0, 0, 0.3));\n",
              "      fill: #FFFFFF;\n",
              "    }\n",
              "  </style>\n",
              "\n",
              "      <script>\n",
              "        const buttonEl =\n",
              "          document.querySelector('#df-2d341ed4-e183-48dd-b247-0864bece73c4 button.colab-df-convert');\n",
              "        buttonEl.style.display =\n",
              "          google.colab.kernel.accessAllowed ? 'block' : 'none';\n",
              "\n",
              "        async function convertToInteractive(key) {\n",
              "          const element = document.querySelector('#df-2d341ed4-e183-48dd-b247-0864bece73c4');\n",
              "          const dataTable =\n",
              "            await google.colab.kernel.invokeFunction('convertToInteractive',\n",
              "                                                     [key], {});\n",
              "          if (!dataTable) return;\n",
              "\n",
              "          const docLinkHtml = 'Like what you see? Visit the ' +\n",
              "            '<a target=\"_blank\" href=https://colab.research.google.com/notebooks/data_table.ipynb>data table notebook</a>'\n",
              "            + ' to learn more about interactive tables.';\n",
              "          element.innerHTML = '';\n",
              "          dataTable['output_type'] = 'display_data';\n",
              "          await google.colab.output.renderOutput(dataTable, element);\n",
              "          const docLink = document.createElement('div');\n",
              "          docLink.innerHTML = docLinkHtml;\n",
              "          element.appendChild(docLink);\n",
              "        }\n",
              "      </script>\n",
              "    </div>\n",
              "  </div>\n",
              "  "
            ]
          },
          "metadata": {},
          "execution_count": 48
        }
      ]
    },
    {
      "cell_type": "markdown",
      "source": [
        "- в табилце есть 0 значений по выручке, возможно оплата была бонусами или каким то еще способом. Считаю что удалять такие значения не стоит. \n",
        "- есть значения с 0 кликов, возможно это тех сбой, реклама в них равна 0. Стоит ли их удалять? Я не знаю, поэтому оставлю."
      ],
      "metadata": {
        "id": "9FjpH5jTCyNT"
      }
    },
    {
      "cell_type": "code",
      "source": [
        "df.query('m_clicks == 0')"
      ],
      "metadata": {
        "colab": {
          "base_uri": "https://localhost:8080/",
          "height": 530
        },
        "id": "JuufrCMGGUbB",
        "outputId": "b7335671-9fc7-42d9-d1ae-795fa2cef675"
      },
      "execution_count": 49,
      "outputs": [
        {
          "output_type": "execute_result",
          "data": {
            "text/plain": [
              "     created_at     ad_account_id utm_source utm_medium  utm_campaign  \\\n",
              "1203 2022-07-29  xo-for-client-ya     yandex        cpc      48306487   \n",
              "1699 2022-01-24  xo-for-client-ya     yandex        cpc      48306435   \n",
              "1700 2022-01-24  xo-for-client-ya     yandex        cpc      48306435   \n",
              "2479 2022-03-11  xo-for-client-ya     yandex        cpc      48306461   \n",
              "4544 2022-04-07  xo-for-client-ya     yandex        cpc      48306518   \n",
              "\n",
              "      utm_content  m_clicks  m_cost                               lead_id  \\\n",
              "1203   8404707410       0.0     0.0  65dd46f7-0f0c-11ed-9074-848f69e142cf   \n",
              "1699   8404700756       0.0     0.0  dcb7474e-7c8c-11ec-9058-848f69e142c9   \n",
              "1700   8404700756       0.0     0.0  dcb7474e-7c8c-11ec-9058-848f69e142c9   \n",
              "2479   8404702656       0.0     0.0  a5b29608-a102-11ec-905e-848f69e142cf   \n",
              "4544   8813477637       0.0     0.0  dd25cca0-b676-11ec-9062-848f69e142cf   \n",
              "\n",
              "                                 client_id purchase_created_at  \\\n",
              "1203  9dec048c-62a4-11ea-abf3-c412f533dba1          2022-07-31   \n",
              "1699  9a2b8bc2-64bd-11ec-9056-848f69e142cf          2022-01-24   \n",
              "1700  9a2b8bc2-64bd-11ec-9056-848f69e142cf          2022-01-31   \n",
              "2479  5e204ae9-6fd8-11e7-80fc-c412f533dba1          2022-03-14   \n",
              "4544  ad3b5807-bcdd-11e8-ab73-c412f533dba1          2022-04-12   \n",
              "\n",
              "                               purchase_id  m_purchase_amount  datediff  \n",
              "1203  f517ae11-d2fc-441a-86eb-eeaf378c5325             7500.0       2.0  \n",
              "1699  2fe279ff-761b-4019-971d-929bf50f762a             9400.0       0.0  \n",
              "1700  e4751be8-7a53-4846-a48b-1b6afe5c7d2c               50.0       7.0  \n",
              "2479  5b08ee84-9aed-475b-8d63-b03b3ad885a8              290.0       3.0  \n",
              "4544  bd85a83b-c4d5-4694-85bf-034607b62581             7700.0       5.0  "
            ],
            "text/html": [
              "\n",
              "  <div id=\"df-f9fecf81-96ae-4115-b2b0-21e44e37af9c\">\n",
              "    <div class=\"colab-df-container\">\n",
              "      <div>\n",
              "<style scoped>\n",
              "    .dataframe tbody tr th:only-of-type {\n",
              "        vertical-align: middle;\n",
              "    }\n",
              "\n",
              "    .dataframe tbody tr th {\n",
              "        vertical-align: top;\n",
              "    }\n",
              "\n",
              "    .dataframe thead th {\n",
              "        text-align: right;\n",
              "    }\n",
              "</style>\n",
              "<table border=\"1\" class=\"dataframe\">\n",
              "  <thead>\n",
              "    <tr style=\"text-align: right;\">\n",
              "      <th></th>\n",
              "      <th>created_at</th>\n",
              "      <th>ad_account_id</th>\n",
              "      <th>utm_source</th>\n",
              "      <th>utm_medium</th>\n",
              "      <th>utm_campaign</th>\n",
              "      <th>utm_content</th>\n",
              "      <th>m_clicks</th>\n",
              "      <th>m_cost</th>\n",
              "      <th>lead_id</th>\n",
              "      <th>client_id</th>\n",
              "      <th>purchase_created_at</th>\n",
              "      <th>purchase_id</th>\n",
              "      <th>m_purchase_amount</th>\n",
              "      <th>datediff</th>\n",
              "    </tr>\n",
              "  </thead>\n",
              "  <tbody>\n",
              "    <tr>\n",
              "      <th>1203</th>\n",
              "      <td>2022-07-29</td>\n",
              "      <td>xo-for-client-ya</td>\n",
              "      <td>yandex</td>\n",
              "      <td>cpc</td>\n",
              "      <td>48306487</td>\n",
              "      <td>8404707410</td>\n",
              "      <td>0.0</td>\n",
              "      <td>0.0</td>\n",
              "      <td>65dd46f7-0f0c-11ed-9074-848f69e142cf</td>\n",
              "      <td>9dec048c-62a4-11ea-abf3-c412f533dba1</td>\n",
              "      <td>2022-07-31</td>\n",
              "      <td>f517ae11-d2fc-441a-86eb-eeaf378c5325</td>\n",
              "      <td>7500.0</td>\n",
              "      <td>2.0</td>\n",
              "    </tr>\n",
              "    <tr>\n",
              "      <th>1699</th>\n",
              "      <td>2022-01-24</td>\n",
              "      <td>xo-for-client-ya</td>\n",
              "      <td>yandex</td>\n",
              "      <td>cpc</td>\n",
              "      <td>48306435</td>\n",
              "      <td>8404700756</td>\n",
              "      <td>0.0</td>\n",
              "      <td>0.0</td>\n",
              "      <td>dcb7474e-7c8c-11ec-9058-848f69e142c9</td>\n",
              "      <td>9a2b8bc2-64bd-11ec-9056-848f69e142cf</td>\n",
              "      <td>2022-01-24</td>\n",
              "      <td>2fe279ff-761b-4019-971d-929bf50f762a</td>\n",
              "      <td>9400.0</td>\n",
              "      <td>0.0</td>\n",
              "    </tr>\n",
              "    <tr>\n",
              "      <th>1700</th>\n",
              "      <td>2022-01-24</td>\n",
              "      <td>xo-for-client-ya</td>\n",
              "      <td>yandex</td>\n",
              "      <td>cpc</td>\n",
              "      <td>48306435</td>\n",
              "      <td>8404700756</td>\n",
              "      <td>0.0</td>\n",
              "      <td>0.0</td>\n",
              "      <td>dcb7474e-7c8c-11ec-9058-848f69e142c9</td>\n",
              "      <td>9a2b8bc2-64bd-11ec-9056-848f69e142cf</td>\n",
              "      <td>2022-01-31</td>\n",
              "      <td>e4751be8-7a53-4846-a48b-1b6afe5c7d2c</td>\n",
              "      <td>50.0</td>\n",
              "      <td>7.0</td>\n",
              "    </tr>\n",
              "    <tr>\n",
              "      <th>2479</th>\n",
              "      <td>2022-03-11</td>\n",
              "      <td>xo-for-client-ya</td>\n",
              "      <td>yandex</td>\n",
              "      <td>cpc</td>\n",
              "      <td>48306461</td>\n",
              "      <td>8404702656</td>\n",
              "      <td>0.0</td>\n",
              "      <td>0.0</td>\n",
              "      <td>a5b29608-a102-11ec-905e-848f69e142cf</td>\n",
              "      <td>5e204ae9-6fd8-11e7-80fc-c412f533dba1</td>\n",
              "      <td>2022-03-14</td>\n",
              "      <td>5b08ee84-9aed-475b-8d63-b03b3ad885a8</td>\n",
              "      <td>290.0</td>\n",
              "      <td>3.0</td>\n",
              "    </tr>\n",
              "    <tr>\n",
              "      <th>4544</th>\n",
              "      <td>2022-04-07</td>\n",
              "      <td>xo-for-client-ya</td>\n",
              "      <td>yandex</td>\n",
              "      <td>cpc</td>\n",
              "      <td>48306518</td>\n",
              "      <td>8813477637</td>\n",
              "      <td>0.0</td>\n",
              "      <td>0.0</td>\n",
              "      <td>dd25cca0-b676-11ec-9062-848f69e142cf</td>\n",
              "      <td>ad3b5807-bcdd-11e8-ab73-c412f533dba1</td>\n",
              "      <td>2022-04-12</td>\n",
              "      <td>bd85a83b-c4d5-4694-85bf-034607b62581</td>\n",
              "      <td>7700.0</td>\n",
              "      <td>5.0</td>\n",
              "    </tr>\n",
              "  </tbody>\n",
              "</table>\n",
              "</div>\n",
              "      <button class=\"colab-df-convert\" onclick=\"convertToInteractive('df-f9fecf81-96ae-4115-b2b0-21e44e37af9c')\"\n",
              "              title=\"Convert this dataframe to an interactive table.\"\n",
              "              style=\"display:none;\">\n",
              "        \n",
              "  <svg xmlns=\"http://www.w3.org/2000/svg\" height=\"24px\"viewBox=\"0 0 24 24\"\n",
              "       width=\"24px\">\n",
              "    <path d=\"M0 0h24v24H0V0z\" fill=\"none\"/>\n",
              "    <path d=\"M18.56 5.44l.94 2.06.94-2.06 2.06-.94-2.06-.94-.94-2.06-.94 2.06-2.06.94zm-11 1L8.5 8.5l.94-2.06 2.06-.94-2.06-.94L8.5 2.5l-.94 2.06-2.06.94zm10 10l.94 2.06.94-2.06 2.06-.94-2.06-.94-.94-2.06-.94 2.06-2.06.94z\"/><path d=\"M17.41 7.96l-1.37-1.37c-.4-.4-.92-.59-1.43-.59-.52 0-1.04.2-1.43.59L10.3 9.45l-7.72 7.72c-.78.78-.78 2.05 0 2.83L4 21.41c.39.39.9.59 1.41.59.51 0 1.02-.2 1.41-.59l7.78-7.78 2.81-2.81c.8-.78.8-2.07 0-2.86zM5.41 20L4 18.59l7.72-7.72 1.47 1.35L5.41 20z\"/>\n",
              "  </svg>\n",
              "      </button>\n",
              "      \n",
              "  <style>\n",
              "    .colab-df-container {\n",
              "      display:flex;\n",
              "      flex-wrap:wrap;\n",
              "      gap: 12px;\n",
              "    }\n",
              "\n",
              "    .colab-df-convert {\n",
              "      background-color: #E8F0FE;\n",
              "      border: none;\n",
              "      border-radius: 50%;\n",
              "      cursor: pointer;\n",
              "      display: none;\n",
              "      fill: #1967D2;\n",
              "      height: 32px;\n",
              "      padding: 0 0 0 0;\n",
              "      width: 32px;\n",
              "    }\n",
              "\n",
              "    .colab-df-convert:hover {\n",
              "      background-color: #E2EBFA;\n",
              "      box-shadow: 0px 1px 2px rgba(60, 64, 67, 0.3), 0px 1px 3px 1px rgba(60, 64, 67, 0.15);\n",
              "      fill: #174EA6;\n",
              "    }\n",
              "\n",
              "    [theme=dark] .colab-df-convert {\n",
              "      background-color: #3B4455;\n",
              "      fill: #D2E3FC;\n",
              "    }\n",
              "\n",
              "    [theme=dark] .colab-df-convert:hover {\n",
              "      background-color: #434B5C;\n",
              "      box-shadow: 0px 1px 3px 1px rgba(0, 0, 0, 0.15);\n",
              "      filter: drop-shadow(0px 1px 2px rgba(0, 0, 0, 0.3));\n",
              "      fill: #FFFFFF;\n",
              "    }\n",
              "  </style>\n",
              "\n",
              "      <script>\n",
              "        const buttonEl =\n",
              "          document.querySelector('#df-f9fecf81-96ae-4115-b2b0-21e44e37af9c button.colab-df-convert');\n",
              "        buttonEl.style.display =\n",
              "          google.colab.kernel.accessAllowed ? 'block' : 'none';\n",
              "\n",
              "        async function convertToInteractive(key) {\n",
              "          const element = document.querySelector('#df-f9fecf81-96ae-4115-b2b0-21e44e37af9c');\n",
              "          const dataTable =\n",
              "            await google.colab.kernel.invokeFunction('convertToInteractive',\n",
              "                                                     [key], {});\n",
              "          if (!dataTable) return;\n",
              "\n",
              "          const docLinkHtml = 'Like what you see? Visit the ' +\n",
              "            '<a target=\"_blank\" href=https://colab.research.google.com/notebooks/data_table.ipynb>data table notebook</a>'\n",
              "            + ' to learn more about interactive tables.';\n",
              "          element.innerHTML = '';\n",
              "          dataTable['output_type'] = 'display_data';\n",
              "          await google.colab.output.renderOutput(dataTable, element);\n",
              "          const docLink = document.createElement('div');\n",
              "          docLink.innerHTML = docLinkHtml;\n",
              "          element.appendChild(docLink);\n",
              "        }\n",
              "      </script>\n",
              "    </div>\n",
              "  </div>\n",
              "  "
            ]
          },
          "metadata": {},
          "execution_count": 49
        }
      ]
    },
    {
      "cell_type": "markdown",
      "source": [
        "# 🧮 5. Итоговый результат"
      ],
      "metadata": {
        "id": "AUWEIWBIx8r0"
      }
    },
    {
      "cell_type": "code",
      "source": [
        "# расход на рекламу\n",
        "df['adv_spend'] = df['m_cost'] * df['m_clicks']"
      ],
      "metadata": {
        "id": "U0dF01n3Ngat"
      },
      "execution_count": 50,
      "outputs": []
    },
    {
      "cell_type": "code",
      "source": [
        "# cpl\n",
        "df['cpl'] = df['adv_spend'] / df['lead_id'].count()"
      ],
      "metadata": {
        "id": "MwXQsJrTN-A2"
      },
      "execution_count": 51,
      "outputs": []
    },
    {
      "cell_type": "code",
      "source": [
        "# roas\n",
        "df['roas'] = df['m_purchase_amount'] / df['adv_spend']"
      ],
      "metadata": {
        "id": "vF-RJqKGPcEE"
      },
      "execution_count": 52,
      "outputs": []
    },
    {
      "cell_type": "code",
      "source": [
        "# заглушки чтобы посчитать количество для отчета\n",
        "df['cnt_lead'] = 1\n",
        "df['cnt_purchase'] = 1"
      ],
      "metadata": {
        "id": "wZNE8X_PyxS4"
      },
      "execution_count": 53,
      "outputs": []
    },
    {
      "cell_type": "code",
      "source": [
        "# создание таблицы по условиям тех задания\n",
        "report = df[['created_at', 'utm_source', 'utm_medium', 'utm_campaign', 'm_clicks', 'adv_spend', 'cnt_lead', 'cnt_purchase', 'm_purchase_amount', 'cpl', 'roas']]"
      ],
      "metadata": {
        "id": "FQLo3TU_Ng9u"
      },
      "execution_count": 54,
      "outputs": []
    },
    {
      "cell_type": "code",
      "source": [
        "report = report.rename(columns={'created_at': 'Дата', \n",
        "                       'utm_source': 'UTM source',\n",
        "                       'utm_medium': 'UTM medium',\n",
        "                       'utm_campaign': 'UTM campaign',\n",
        "                       'm_clicks': 'Количество кликов',\n",
        "                       'adv_spend': 'Расходы на рекламу',\n",
        "                       'cnt_lead': 'Количество лидов',\n",
        "                       'cnt_purchase': 'Количество покупок',\n",
        "                       'm_purchase_amount': 'Выручка от продаж',\n",
        "                       'cpl': 'CPL',\n",
        "                       'roas': 'ROAS'})"
      ],
      "metadata": {
        "id": "8xc7c-1awN1E"
      },
      "execution_count": 55,
      "outputs": []
    },
    {
      "cell_type": "code",
      "source": [
        "report = report.sort_values(by='Дата')"
      ],
      "metadata": {
        "id": "b_zFhauyzh_X"
      },
      "execution_count": 56,
      "outputs": []
    },
    {
      "cell_type": "code",
      "source": [
        "report.head()"
      ],
      "metadata": {
        "colab": {
          "base_uri": "https://localhost:8080/",
          "height": 354
        },
        "id": "nCBr0-1fXZUl",
        "outputId": "01bcd51d-3898-470e-f741-83d0e12fe23c"
      },
      "execution_count": 57,
      "outputs": [
        {
          "output_type": "execute_result",
          "data": {
            "text/plain": [
              "           Дата UTM source UTM medium  UTM campaign  Количество кликов  \\\n",
              "1401 2022-01-04     yandex        cpc      48306450               10.0   \n",
              "1400 2022-01-04     yandex        cpc      48306450               10.0   \n",
              "1399 2022-01-04     yandex        cpc      48306450               10.0   \n",
              "1415 2022-01-05     yandex        cpc      48306450               11.0   \n",
              "1482 2022-01-06     yandex        cpc      48306450               12.0   \n",
              "\n",
              "      Расходы на рекламу  Количество лидов  Количество покупок  \\\n",
              "1401            2410.080                 1                   1   \n",
              "1400            2410.080                 1                   1   \n",
              "1399            2410.080                 1                   1   \n",
              "1415            2391.180                 1                   1   \n",
              "1482            2711.376                 1                   1   \n",
              "\n",
              "      Выручка от продаж       CPL      ROAS  \n",
              "1401              290.0  4.888600  0.120328  \n",
              "1400             9700.0  4.888600  4.024763  \n",
              "1399                0.0  4.888600  0.000000  \n",
              "1415              290.0  4.850264  0.121279  \n",
              "1482              290.0  5.499748  0.106957  "
            ],
            "text/html": [
              "\n",
              "  <div id=\"df-3309def2-da47-45c2-9a93-67aaf67a9846\">\n",
              "    <div class=\"colab-df-container\">\n",
              "      <div>\n",
              "<style scoped>\n",
              "    .dataframe tbody tr th:only-of-type {\n",
              "        vertical-align: middle;\n",
              "    }\n",
              "\n",
              "    .dataframe tbody tr th {\n",
              "        vertical-align: top;\n",
              "    }\n",
              "\n",
              "    .dataframe thead th {\n",
              "        text-align: right;\n",
              "    }\n",
              "</style>\n",
              "<table border=\"1\" class=\"dataframe\">\n",
              "  <thead>\n",
              "    <tr style=\"text-align: right;\">\n",
              "      <th></th>\n",
              "      <th>Дата</th>\n",
              "      <th>UTM source</th>\n",
              "      <th>UTM medium</th>\n",
              "      <th>UTM campaign</th>\n",
              "      <th>Количество кликов</th>\n",
              "      <th>Расходы на рекламу</th>\n",
              "      <th>Количество лидов</th>\n",
              "      <th>Количество покупок</th>\n",
              "      <th>Выручка от продаж</th>\n",
              "      <th>CPL</th>\n",
              "      <th>ROAS</th>\n",
              "    </tr>\n",
              "  </thead>\n",
              "  <tbody>\n",
              "    <tr>\n",
              "      <th>1401</th>\n",
              "      <td>2022-01-04</td>\n",
              "      <td>yandex</td>\n",
              "      <td>cpc</td>\n",
              "      <td>48306450</td>\n",
              "      <td>10.0</td>\n",
              "      <td>2410.080</td>\n",
              "      <td>1</td>\n",
              "      <td>1</td>\n",
              "      <td>290.0</td>\n",
              "      <td>4.888600</td>\n",
              "      <td>0.120328</td>\n",
              "    </tr>\n",
              "    <tr>\n",
              "      <th>1400</th>\n",
              "      <td>2022-01-04</td>\n",
              "      <td>yandex</td>\n",
              "      <td>cpc</td>\n",
              "      <td>48306450</td>\n",
              "      <td>10.0</td>\n",
              "      <td>2410.080</td>\n",
              "      <td>1</td>\n",
              "      <td>1</td>\n",
              "      <td>9700.0</td>\n",
              "      <td>4.888600</td>\n",
              "      <td>4.024763</td>\n",
              "    </tr>\n",
              "    <tr>\n",
              "      <th>1399</th>\n",
              "      <td>2022-01-04</td>\n",
              "      <td>yandex</td>\n",
              "      <td>cpc</td>\n",
              "      <td>48306450</td>\n",
              "      <td>10.0</td>\n",
              "      <td>2410.080</td>\n",
              "      <td>1</td>\n",
              "      <td>1</td>\n",
              "      <td>0.0</td>\n",
              "      <td>4.888600</td>\n",
              "      <td>0.000000</td>\n",
              "    </tr>\n",
              "    <tr>\n",
              "      <th>1415</th>\n",
              "      <td>2022-01-05</td>\n",
              "      <td>yandex</td>\n",
              "      <td>cpc</td>\n",
              "      <td>48306450</td>\n",
              "      <td>11.0</td>\n",
              "      <td>2391.180</td>\n",
              "      <td>1</td>\n",
              "      <td>1</td>\n",
              "      <td>290.0</td>\n",
              "      <td>4.850264</td>\n",
              "      <td>0.121279</td>\n",
              "    </tr>\n",
              "    <tr>\n",
              "      <th>1482</th>\n",
              "      <td>2022-01-06</td>\n",
              "      <td>yandex</td>\n",
              "      <td>cpc</td>\n",
              "      <td>48306450</td>\n",
              "      <td>12.0</td>\n",
              "      <td>2711.376</td>\n",
              "      <td>1</td>\n",
              "      <td>1</td>\n",
              "      <td>290.0</td>\n",
              "      <td>5.499748</td>\n",
              "      <td>0.106957</td>\n",
              "    </tr>\n",
              "  </tbody>\n",
              "</table>\n",
              "</div>\n",
              "      <button class=\"colab-df-convert\" onclick=\"convertToInteractive('df-3309def2-da47-45c2-9a93-67aaf67a9846')\"\n",
              "              title=\"Convert this dataframe to an interactive table.\"\n",
              "              style=\"display:none;\">\n",
              "        \n",
              "  <svg xmlns=\"http://www.w3.org/2000/svg\" height=\"24px\"viewBox=\"0 0 24 24\"\n",
              "       width=\"24px\">\n",
              "    <path d=\"M0 0h24v24H0V0z\" fill=\"none\"/>\n",
              "    <path d=\"M18.56 5.44l.94 2.06.94-2.06 2.06-.94-2.06-.94-.94-2.06-.94 2.06-2.06.94zm-11 1L8.5 8.5l.94-2.06 2.06-.94-2.06-.94L8.5 2.5l-.94 2.06-2.06.94zm10 10l.94 2.06.94-2.06 2.06-.94-2.06-.94-.94-2.06-.94 2.06-2.06.94z\"/><path d=\"M17.41 7.96l-1.37-1.37c-.4-.4-.92-.59-1.43-.59-.52 0-1.04.2-1.43.59L10.3 9.45l-7.72 7.72c-.78.78-.78 2.05 0 2.83L4 21.41c.39.39.9.59 1.41.59.51 0 1.02-.2 1.41-.59l7.78-7.78 2.81-2.81c.8-.78.8-2.07 0-2.86zM5.41 20L4 18.59l7.72-7.72 1.47 1.35L5.41 20z\"/>\n",
              "  </svg>\n",
              "      </button>\n",
              "      \n",
              "  <style>\n",
              "    .colab-df-container {\n",
              "      display:flex;\n",
              "      flex-wrap:wrap;\n",
              "      gap: 12px;\n",
              "    }\n",
              "\n",
              "    .colab-df-convert {\n",
              "      background-color: #E8F0FE;\n",
              "      border: none;\n",
              "      border-radius: 50%;\n",
              "      cursor: pointer;\n",
              "      display: none;\n",
              "      fill: #1967D2;\n",
              "      height: 32px;\n",
              "      padding: 0 0 0 0;\n",
              "      width: 32px;\n",
              "    }\n",
              "\n",
              "    .colab-df-convert:hover {\n",
              "      background-color: #E2EBFA;\n",
              "      box-shadow: 0px 1px 2px rgba(60, 64, 67, 0.3), 0px 1px 3px 1px rgba(60, 64, 67, 0.15);\n",
              "      fill: #174EA6;\n",
              "    }\n",
              "\n",
              "    [theme=dark] .colab-df-convert {\n",
              "      background-color: #3B4455;\n",
              "      fill: #D2E3FC;\n",
              "    }\n",
              "\n",
              "    [theme=dark] .colab-df-convert:hover {\n",
              "      background-color: #434B5C;\n",
              "      box-shadow: 0px 1px 3px 1px rgba(0, 0, 0, 0.15);\n",
              "      filter: drop-shadow(0px 1px 2px rgba(0, 0, 0, 0.3));\n",
              "      fill: #FFFFFF;\n",
              "    }\n",
              "  </style>\n",
              "\n",
              "      <script>\n",
              "        const buttonEl =\n",
              "          document.querySelector('#df-3309def2-da47-45c2-9a93-67aaf67a9846 button.colab-df-convert');\n",
              "        buttonEl.style.display =\n",
              "          google.colab.kernel.accessAllowed ? 'block' : 'none';\n",
              "\n",
              "        async function convertToInteractive(key) {\n",
              "          const element = document.querySelector('#df-3309def2-da47-45c2-9a93-67aaf67a9846');\n",
              "          const dataTable =\n",
              "            await google.colab.kernel.invokeFunction('convertToInteractive',\n",
              "                                                     [key], {});\n",
              "          if (!dataTable) return;\n",
              "\n",
              "          const docLinkHtml = 'Like what you see? Visit the ' +\n",
              "            '<a target=\"_blank\" href=https://colab.research.google.com/notebooks/data_table.ipynb>data table notebook</a>'\n",
              "            + ' to learn more about interactive tables.';\n",
              "          element.innerHTML = '';\n",
              "          dataTable['output_type'] = 'display_data';\n",
              "          await google.colab.output.renderOutput(dataTable, element);\n",
              "          const docLink = document.createElement('div');\n",
              "          docLink.innerHTML = docLinkHtml;\n",
              "          element.appendChild(docLink);\n",
              "        }\n",
              "      </script>\n",
              "    </div>\n",
              "  </div>\n",
              "  "
            ]
          },
          "metadata": {},
          "execution_count": 57
        }
      ]
    },
    {
      "cell_type": "code",
      "source": [
        "report.to_excel('report.xlsx')"
      ],
      "metadata": {
        "id": "LhnIEZcvuvic"
      },
      "execution_count": 58,
      "outputs": []
    },
    {
      "cell_type": "markdown",
      "source": [
        "🙂 Спасибо за интересное тестовое задание! "
      ],
      "metadata": {
        "id": "rDvhl-j_DW4L"
      }
    }
  ]
}