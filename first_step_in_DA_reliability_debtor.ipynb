{
  "cells": [
    {
      "cell_type": "markdown",
      "metadata": {
        "id": "view-in-github",
        "colab_type": "text"
      },
      "source": [
        "<a href=\"https://colab.research.google.com/github/Ryzhikov114/Portfolio/blob/main/first_step_in_DA_reliability_debtor.ipynb\" target=\"_parent\"><img src=\"https://colab.research.google.com/assets/colab-badge.svg\" alt=\"Open In Colab\"/></a>"
      ]
    },
    {
      "cell_type": "markdown",
      "id": "dc4b66f8",
      "metadata": {
        "id": "dc4b66f8"
      },
      "source": [
        "# Исследование надёжности заёмщиков"
      ]
    },
    {
      "cell_type": "markdown",
      "id": "661a72f8",
      "metadata": {
        "id": "661a72f8"
      },
      "source": [
        "Цель исследования высянить:\n",
        "\n",
        "    1. Есть ли зависимость между количеством детей и возвратом кредита в срок?\n",
        "    2. Есть ли зависимость между семейным положением и возвратом кредита в срок?\n",
        "    3. Есть ли зависимость между уровнем дохода и возвратом кредита в срок?\n",
        "    4. Как разные цели кредита влияют на его возврат в срок?"
      ]
    },
    {
      "cell_type": "markdown",
      "id": "d2387e1b",
      "metadata": {
        "id": "d2387e1b"
      },
      "source": [
        "### Шаг 1. Обзор данных"
      ]
    },
    {
      "cell_type": "markdown",
      "source": [
        "https://drive.google.com/file/d/1q8kXFmg8klXBNjXTYjuifJqouG0Ny4q4/view?usp=sharing"
      ],
      "metadata": {
        "id": "KQP6OwfVp9w0"
      },
      "id": "KQP6OwfVp9w0"
    },
    {
      "cell_type": "code",
      "source": [
        "!gdown 1q8kXFmg8klXBNjXTYjuifJqouG0Ny4q4"
      ],
      "metadata": {
        "colab": {
          "base_uri": "https://localhost:8080/"
        },
        "id": "WW1YsLZKqCDo",
        "outputId": "0e00f1c6-e10b-4b0a-ea90-dfb84dde9e6c"
      },
      "execution_count": 6,
      "outputs": [
        {
          "output_type": "stream",
          "name": "stdout",
          "text": [
            "Downloading...\n",
            "From: https://drive.google.com/uc?id=1q8kXFmg8klXBNjXTYjuifJqouG0Ny4q4\n",
            "To: /content/data.csv\n",
            "\r  0% 0.00/3.32M [00:00<?, ?B/s]\r100% 3.32M/3.32M [00:00<00:00, 195MB/s]\n"
          ]
        }
      ],
      "id": "WW1YsLZKqCDo"
    },
    {
      "cell_type": "code",
      "execution_count": 7,
      "id": "effd3050",
      "metadata": {
        "id": "effd3050"
      },
      "outputs": [],
      "source": [
        "import pandas as pd\n",
        "# импортирую библиотеку pandas"
      ]
    },
    {
      "cell_type": "code",
      "execution_count": 8,
      "id": "cd71a155",
      "metadata": {
        "id": "cd71a155"
      },
      "outputs": [],
      "source": [
        "import seaborn\n",
        "# импортирую библиотеку seaborn"
      ]
    },
    {
      "cell_type": "code",
      "execution_count": 9,
      "id": "985a88a8",
      "metadata": {
        "id": "985a88a8"
      },
      "outputs": [],
      "source": [
        "try:\n",
        "    data = pd.read_csv('/content/data.csv')\n",
        "except:\n",
        "    data = pd.read_csv('/jupyter-notebook/Project2/data.csv')\n",
        "# присваиваю файлу переменную data и открываю таблицу"
      ]
    },
    {
      "cell_type": "code",
      "execution_count": 10,
      "id": "25346e40",
      "metadata": {
        "colab": {
          "base_uri": "https://localhost:8080/"
        },
        "id": "25346e40",
        "outputId": "8e6b2a6c-3576-4815-aa7c-4477413b9bd0"
      },
      "outputs": [
        {
          "output_type": "stream",
          "name": "stdout",
          "text": [
            "<class 'pandas.core.frame.DataFrame'>\n",
            "RangeIndex: 21525 entries, 0 to 21524\n",
            "Data columns (total 12 columns):\n",
            " #   Column            Non-Null Count  Dtype  \n",
            "---  ------            --------------  -----  \n",
            " 0   children          21525 non-null  int64  \n",
            " 1   days_employed     19351 non-null  float64\n",
            " 2   dob_years         21525 non-null  int64  \n",
            " 3   education         21525 non-null  object \n",
            " 4   education_id      21525 non-null  int64  \n",
            " 5   family_status     21525 non-null  object \n",
            " 6   family_status_id  21525 non-null  int64  \n",
            " 7   gender            21525 non-null  object \n",
            " 8   income_type       21525 non-null  object \n",
            " 9   debt              21525 non-null  int64  \n",
            " 10  total_income      19351 non-null  float64\n",
            " 11  purpose           21525 non-null  object \n",
            "dtypes: float64(2), int64(5), object(5)\n",
            "memory usage: 2.0+ MB\n"
          ]
        }
      ],
      "source": [
        "data.info()\n",
        "# метод info() для общей информации"
      ]
    },
    {
      "cell_type": "code",
      "execution_count": 11,
      "id": "a0317cfd",
      "metadata": {
        "colab": {
          "base_uri": "https://localhost:8080/",
          "height": 678
        },
        "id": "a0317cfd",
        "outputId": "bbeda66a-3294-463e-97bb-abfe0698533c"
      },
      "outputs": [
        {
          "output_type": "display_data",
          "data": {
            "text/plain": [
              "       children  days_employed  dob_years education  education_id  \\\n",
              "0             1   -8437.673028         42    высшее             0   \n",
              "1             1   -4024.803754         36   среднее             1   \n",
              "2             0   -5623.422610         33   Среднее             1   \n",
              "3             3   -4124.747207         32   среднее             1   \n",
              "4             0  340266.072047         53   среднее             1   \n",
              "...         ...            ...        ...       ...           ...   \n",
              "21520         1   -4529.316663         43   среднее             1   \n",
              "21521         0  343937.404131         67   среднее             1   \n",
              "21522         1   -2113.346888         38   среднее             1   \n",
              "21523         3   -3112.481705         38   среднее             1   \n",
              "21524         2   -1984.507589         40   среднее             1   \n",
              "\n",
              "          family_status  family_status_id gender income_type  debt  \\\n",
              "0       женат / замужем                 0      F   сотрудник     0   \n",
              "1       женат / замужем                 0      F   сотрудник     0   \n",
              "2       женат / замужем                 0      M   сотрудник     0   \n",
              "3       женат / замужем                 0      M   сотрудник     0   \n",
              "4      гражданский брак                 1      F   пенсионер     0   \n",
              "...                 ...               ...    ...         ...   ...   \n",
              "21520  гражданский брак                 1      F   компаньон     0   \n",
              "21521   женат / замужем                 0      F   пенсионер     0   \n",
              "21522  гражданский брак                 1      M   сотрудник     1   \n",
              "21523   женат / замужем                 0      M   сотрудник     1   \n",
              "21524   женат / замужем                 0      F   сотрудник     0   \n",
              "\n",
              "        total_income                       purpose  \n",
              "0      253875.639453                 покупка жилья  \n",
              "1      112080.014102       приобретение автомобиля  \n",
              "2      145885.952297                 покупка жилья  \n",
              "3      267628.550329    дополнительное образование  \n",
              "4      158616.077870               сыграть свадьбу  \n",
              "...              ...                           ...  \n",
              "21520  224791.862382             операции с жильем  \n",
              "21521  155999.806512          сделка с автомобилем  \n",
              "21522   89672.561153                  недвижимость  \n",
              "21523  244093.050500  на покупку своего автомобиля  \n",
              "21524   82047.418899         на покупку автомобиля  \n",
              "\n",
              "[21525 rows x 12 columns]"
            ],
            "text/html": [
              "\n",
              "  <div id=\"df-6290b7a5-5bf0-4077-a90d-664e731e08b0\">\n",
              "    <div class=\"colab-df-container\">\n",
              "      <div>\n",
              "<style scoped>\n",
              "    .dataframe tbody tr th:only-of-type {\n",
              "        vertical-align: middle;\n",
              "    }\n",
              "\n",
              "    .dataframe tbody tr th {\n",
              "        vertical-align: top;\n",
              "    }\n",
              "\n",
              "    .dataframe thead th {\n",
              "        text-align: right;\n",
              "    }\n",
              "</style>\n",
              "<table border=\"1\" class=\"dataframe\">\n",
              "  <thead>\n",
              "    <tr style=\"text-align: right;\">\n",
              "      <th></th>\n",
              "      <th>children</th>\n",
              "      <th>days_employed</th>\n",
              "      <th>dob_years</th>\n",
              "      <th>education</th>\n",
              "      <th>education_id</th>\n",
              "      <th>family_status</th>\n",
              "      <th>family_status_id</th>\n",
              "      <th>gender</th>\n",
              "      <th>income_type</th>\n",
              "      <th>debt</th>\n",
              "      <th>total_income</th>\n",
              "      <th>purpose</th>\n",
              "    </tr>\n",
              "  </thead>\n",
              "  <tbody>\n",
              "    <tr>\n",
              "      <th>0</th>\n",
              "      <td>1</td>\n",
              "      <td>-8437.673028</td>\n",
              "      <td>42</td>\n",
              "      <td>высшее</td>\n",
              "      <td>0</td>\n",
              "      <td>женат / замужем</td>\n",
              "      <td>0</td>\n",
              "      <td>F</td>\n",
              "      <td>сотрудник</td>\n",
              "      <td>0</td>\n",
              "      <td>253875.639453</td>\n",
              "      <td>покупка жилья</td>\n",
              "    </tr>\n",
              "    <tr>\n",
              "      <th>1</th>\n",
              "      <td>1</td>\n",
              "      <td>-4024.803754</td>\n",
              "      <td>36</td>\n",
              "      <td>среднее</td>\n",
              "      <td>1</td>\n",
              "      <td>женат / замужем</td>\n",
              "      <td>0</td>\n",
              "      <td>F</td>\n",
              "      <td>сотрудник</td>\n",
              "      <td>0</td>\n",
              "      <td>112080.014102</td>\n",
              "      <td>приобретение автомобиля</td>\n",
              "    </tr>\n",
              "    <tr>\n",
              "      <th>2</th>\n",
              "      <td>0</td>\n",
              "      <td>-5623.422610</td>\n",
              "      <td>33</td>\n",
              "      <td>Среднее</td>\n",
              "      <td>1</td>\n",
              "      <td>женат / замужем</td>\n",
              "      <td>0</td>\n",
              "      <td>M</td>\n",
              "      <td>сотрудник</td>\n",
              "      <td>0</td>\n",
              "      <td>145885.952297</td>\n",
              "      <td>покупка жилья</td>\n",
              "    </tr>\n",
              "    <tr>\n",
              "      <th>3</th>\n",
              "      <td>3</td>\n",
              "      <td>-4124.747207</td>\n",
              "      <td>32</td>\n",
              "      <td>среднее</td>\n",
              "      <td>1</td>\n",
              "      <td>женат / замужем</td>\n",
              "      <td>0</td>\n",
              "      <td>M</td>\n",
              "      <td>сотрудник</td>\n",
              "      <td>0</td>\n",
              "      <td>267628.550329</td>\n",
              "      <td>дополнительное образование</td>\n",
              "    </tr>\n",
              "    <tr>\n",
              "      <th>4</th>\n",
              "      <td>0</td>\n",
              "      <td>340266.072047</td>\n",
              "      <td>53</td>\n",
              "      <td>среднее</td>\n",
              "      <td>1</td>\n",
              "      <td>гражданский брак</td>\n",
              "      <td>1</td>\n",
              "      <td>F</td>\n",
              "      <td>пенсионер</td>\n",
              "      <td>0</td>\n",
              "      <td>158616.077870</td>\n",
              "      <td>сыграть свадьбу</td>\n",
              "    </tr>\n",
              "    <tr>\n",
              "      <th>...</th>\n",
              "      <td>...</td>\n",
              "      <td>...</td>\n",
              "      <td>...</td>\n",
              "      <td>...</td>\n",
              "      <td>...</td>\n",
              "      <td>...</td>\n",
              "      <td>...</td>\n",
              "      <td>...</td>\n",
              "      <td>...</td>\n",
              "      <td>...</td>\n",
              "      <td>...</td>\n",
              "      <td>...</td>\n",
              "    </tr>\n",
              "    <tr>\n",
              "      <th>21520</th>\n",
              "      <td>1</td>\n",
              "      <td>-4529.316663</td>\n",
              "      <td>43</td>\n",
              "      <td>среднее</td>\n",
              "      <td>1</td>\n",
              "      <td>гражданский брак</td>\n",
              "      <td>1</td>\n",
              "      <td>F</td>\n",
              "      <td>компаньон</td>\n",
              "      <td>0</td>\n",
              "      <td>224791.862382</td>\n",
              "      <td>операции с жильем</td>\n",
              "    </tr>\n",
              "    <tr>\n",
              "      <th>21521</th>\n",
              "      <td>0</td>\n",
              "      <td>343937.404131</td>\n",
              "      <td>67</td>\n",
              "      <td>среднее</td>\n",
              "      <td>1</td>\n",
              "      <td>женат / замужем</td>\n",
              "      <td>0</td>\n",
              "      <td>F</td>\n",
              "      <td>пенсионер</td>\n",
              "      <td>0</td>\n",
              "      <td>155999.806512</td>\n",
              "      <td>сделка с автомобилем</td>\n",
              "    </tr>\n",
              "    <tr>\n",
              "      <th>21522</th>\n",
              "      <td>1</td>\n",
              "      <td>-2113.346888</td>\n",
              "      <td>38</td>\n",
              "      <td>среднее</td>\n",
              "      <td>1</td>\n",
              "      <td>гражданский брак</td>\n",
              "      <td>1</td>\n",
              "      <td>M</td>\n",
              "      <td>сотрудник</td>\n",
              "      <td>1</td>\n",
              "      <td>89672.561153</td>\n",
              "      <td>недвижимость</td>\n",
              "    </tr>\n",
              "    <tr>\n",
              "      <th>21523</th>\n",
              "      <td>3</td>\n",
              "      <td>-3112.481705</td>\n",
              "      <td>38</td>\n",
              "      <td>среднее</td>\n",
              "      <td>1</td>\n",
              "      <td>женат / замужем</td>\n",
              "      <td>0</td>\n",
              "      <td>M</td>\n",
              "      <td>сотрудник</td>\n",
              "      <td>1</td>\n",
              "      <td>244093.050500</td>\n",
              "      <td>на покупку своего автомобиля</td>\n",
              "    </tr>\n",
              "    <tr>\n",
              "      <th>21524</th>\n",
              "      <td>2</td>\n",
              "      <td>-1984.507589</td>\n",
              "      <td>40</td>\n",
              "      <td>среднее</td>\n",
              "      <td>1</td>\n",
              "      <td>женат / замужем</td>\n",
              "      <td>0</td>\n",
              "      <td>F</td>\n",
              "      <td>сотрудник</td>\n",
              "      <td>0</td>\n",
              "      <td>82047.418899</td>\n",
              "      <td>на покупку автомобиля</td>\n",
              "    </tr>\n",
              "  </tbody>\n",
              "</table>\n",
              "<p>21525 rows × 12 columns</p>\n",
              "</div>\n",
              "      <button class=\"colab-df-convert\" onclick=\"convertToInteractive('df-6290b7a5-5bf0-4077-a90d-664e731e08b0')\"\n",
              "              title=\"Convert this dataframe to an interactive table.\"\n",
              "              style=\"display:none;\">\n",
              "        \n",
              "  <svg xmlns=\"http://www.w3.org/2000/svg\" height=\"24px\"viewBox=\"0 0 24 24\"\n",
              "       width=\"24px\">\n",
              "    <path d=\"M0 0h24v24H0V0z\" fill=\"none\"/>\n",
              "    <path d=\"M18.56 5.44l.94 2.06.94-2.06 2.06-.94-2.06-.94-.94-2.06-.94 2.06-2.06.94zm-11 1L8.5 8.5l.94-2.06 2.06-.94-2.06-.94L8.5 2.5l-.94 2.06-2.06.94zm10 10l.94 2.06.94-2.06 2.06-.94-2.06-.94-.94-2.06-.94 2.06-2.06.94z\"/><path d=\"M17.41 7.96l-1.37-1.37c-.4-.4-.92-.59-1.43-.59-.52 0-1.04.2-1.43.59L10.3 9.45l-7.72 7.72c-.78.78-.78 2.05 0 2.83L4 21.41c.39.39.9.59 1.41.59.51 0 1.02-.2 1.41-.59l7.78-7.78 2.81-2.81c.8-.78.8-2.07 0-2.86zM5.41 20L4 18.59l7.72-7.72 1.47 1.35L5.41 20z\"/>\n",
              "  </svg>\n",
              "      </button>\n",
              "      \n",
              "  <style>\n",
              "    .colab-df-container {\n",
              "      display:flex;\n",
              "      flex-wrap:wrap;\n",
              "      gap: 12px;\n",
              "    }\n",
              "\n",
              "    .colab-df-convert {\n",
              "      background-color: #E8F0FE;\n",
              "      border: none;\n",
              "      border-radius: 50%;\n",
              "      cursor: pointer;\n",
              "      display: none;\n",
              "      fill: #1967D2;\n",
              "      height: 32px;\n",
              "      padding: 0 0 0 0;\n",
              "      width: 32px;\n",
              "    }\n",
              "\n",
              "    .colab-df-convert:hover {\n",
              "      background-color: #E2EBFA;\n",
              "      box-shadow: 0px 1px 2px rgba(60, 64, 67, 0.3), 0px 1px 3px 1px rgba(60, 64, 67, 0.15);\n",
              "      fill: #174EA6;\n",
              "    }\n",
              "\n",
              "    [theme=dark] .colab-df-convert {\n",
              "      background-color: #3B4455;\n",
              "      fill: #D2E3FC;\n",
              "    }\n",
              "\n",
              "    [theme=dark] .colab-df-convert:hover {\n",
              "      background-color: #434B5C;\n",
              "      box-shadow: 0px 1px 3px 1px rgba(0, 0, 0, 0.15);\n",
              "      filter: drop-shadow(0px 1px 2px rgba(0, 0, 0, 0.3));\n",
              "      fill: #FFFFFF;\n",
              "    }\n",
              "  </style>\n",
              "\n",
              "      <script>\n",
              "        const buttonEl =\n",
              "          document.querySelector('#df-6290b7a5-5bf0-4077-a90d-664e731e08b0 button.colab-df-convert');\n",
              "        buttonEl.style.display =\n",
              "          google.colab.kernel.accessAllowed ? 'block' : 'none';\n",
              "\n",
              "        async function convertToInteractive(key) {\n",
              "          const element = document.querySelector('#df-6290b7a5-5bf0-4077-a90d-664e731e08b0');\n",
              "          const dataTable =\n",
              "            await google.colab.kernel.invokeFunction('convertToInteractive',\n",
              "                                                     [key], {});\n",
              "          if (!dataTable) return;\n",
              "\n",
              "          const docLinkHtml = 'Like what you see? Visit the ' +\n",
              "            '<a target=\"_blank\" href=https://colab.research.google.com/notebooks/data_table.ipynb>data table notebook</a>'\n",
              "            + ' to learn more about interactive tables.';\n",
              "          element.innerHTML = '';\n",
              "          dataTable['output_type'] = 'display_data';\n",
              "          await google.colab.output.renderOutput(dataTable, element);\n",
              "          const docLink = document.createElement('div');\n",
              "          docLink.innerHTML = docLinkHtml;\n",
              "          element.appendChild(docLink);\n",
              "        }\n",
              "      </script>\n",
              "    </div>\n",
              "  </div>\n",
              "  "
            ]
          },
          "metadata": {}
        }
      ],
      "source": [
        "display(data)\n",
        "# вывожу первые 10 срок для понимания с какими данными буду работать"
      ]
    },
    {
      "cell_type": "markdown",
      "id": "c8a05b4d",
      "metadata": {
        "id": "c8a05b4d"
      },
      "source": [
        "В полученых показателях видно:\n",
        "\n",
        "    - в таблице 12 колонок и 21525 строк\n",
        "    - типы соотсветсвую значениям в колонках где должны быть целые - int, где текст - object, там где дробные - float\n",
        "    - названия колонок без ошибок, с маленькой буквы, змеиный регистр\n",
        "    - разный регистр в значениях столбцов\n",
        "    - минусовые значения возможно, там где их не должно быть"
      ]
    },
    {
      "cell_type": "markdown",
      "id": "2159dff2",
      "metadata": {
        "id": "2159dff2"
      },
      "source": [
        "## Шаг 2 Предобработка данных"
      ]
    },
    {
      "cell_type": "markdown",
      "id": "42b5f9e4",
      "metadata": {
        "id": "42b5f9e4"
      },
      "source": [
        "### Шаг 2.1 Заполнение пропусков"
      ]
    },
    {
      "cell_type": "code",
      "execution_count": 12,
      "id": "6dc666b5",
      "metadata": {
        "colab": {
          "base_uri": "https://localhost:8080/"
        },
        "id": "6dc666b5",
        "outputId": "6cb15a37-d316-4170-8772-b1c5232bd4bb"
      },
      "outputs": [
        {
          "output_type": "stream",
          "name": "stdout",
          "text": [
            "children               0\n",
            "days_employed       2174\n",
            "dob_years              0\n",
            "education              0\n",
            "education_id           0\n",
            "family_status          0\n",
            "family_status_id       0\n",
            "gender                 0\n",
            "income_type            0\n",
            "debt                   0\n",
            "total_income        2174\n",
            "purpose                0\n",
            "dtype: int64\n"
          ]
        }
      ],
      "source": [
        "print(data.isna().sum())\n",
        "# ищу в каких столбцах есть пропуски"
      ]
    },
    {
      "cell_type": "markdown",
      "id": "d076a3be",
      "metadata": {
        "id": "d076a3be"
      },
      "source": [
        "Анализ выявил что в стоблцах days_employed и total_income есть пропуски. \n",
        "\n",
        "    days_employed — общий трудовой стаж в днях\n",
        "    total_income — ежемесячный доход"
      ]
    },
    {
      "cell_type": "code",
      "execution_count": 13,
      "id": "a2b93725",
      "metadata": {
        "id": "a2b93725"
      },
      "outputs": [],
      "source": [
        "missing_values = data['total_income'].isna().sum() / data['total_income'].value_counts().sum()\n",
        "# процент пропущенных значний в столбце days_employed равен total_income"
      ]
    },
    {
      "cell_type": "code",
      "execution_count": 14,
      "id": "3023600b",
      "metadata": {
        "colab": {
          "base_uri": "https://localhost:8080/"
        },
        "id": "3023600b",
        "outputId": "12ea7559-d416-4d0e-be53-7299a89f3f56"
      },
      "outputs": [
        {
          "output_type": "stream",
          "name": "stdout",
          "text": [
            "Доля пропущенных значений в столбцах 'total_income', 'days_employed' - 11.23%\n"
          ]
        }
      ],
      "source": [
        "print(f'Доля пропущенных значений в столбцах \\'total_income\\', \\'days_employed\\' - {missing_values:.2%}')\n",
        "# вывожу процент пропущенных значений"
      ]
    },
    {
      "cell_type": "markdown",
      "id": "f76208a8",
      "metadata": {
        "id": "f76208a8"
      },
      "source": [
        "Возможные причины появления пропусков в данных:\n",
        "    \n",
        "    - отсутсвие официальной работы у заемщиков\n",
        "    - отсутсвие официальных доходов\n",
        "    - человеческий фактор\n",
        "    - повреждение/сбой в данных"
      ]
    },
    {
      "cell_type": "code",
      "execution_count": 15,
      "id": "4869a96d",
      "metadata": {
        "colab": {
          "base_uri": "https://localhost:8080/"
        },
        "id": "4869a96d",
        "outputId": "2048ef4d-4cd9-49bd-c86a-32b85abd38f1"
      },
      "outputs": [
        {
          "output_type": "stream",
          "name": "stdout",
          "text": [
            "median 145017.93753253992\n",
            "mean 167422.30220817294\n",
            "min 20667.26379327158\n",
            "max 2265604.028722744\n",
            "NA 2174\n"
          ]
        }
      ],
      "source": [
        "print('median', data['total_income'].median())\n",
        "print('mean', data['total_income'].mean())\n",
        "print('min', data['total_income'].min())\n",
        "print('max', data['total_income'].max())\n",
        "print('NA', data['total_income'].isna().sum())\n",
        "# проверим на аномальные значения уровня зарплат (например на отрицательное число)"
      ]
    },
    {
      "cell_type": "code",
      "execution_count": 16,
      "id": "3921c052",
      "metadata": {
        "id": "3921c052"
      },
      "outputs": [],
      "source": [
        "total_income_median = data['total_income'].median()\n",
        "# посчитали медиану"
      ]
    },
    {
      "cell_type": "code",
      "execution_count": 17,
      "id": "0836489c",
      "metadata": {
        "id": "0836489c"
      },
      "outputs": [],
      "source": [
        "data['total_income'] = data['total_income'].fillna(total_income_median)\n",
        "# добавили значение медианы в столбец таблицы вместо пропусков"
      ]
    },
    {
      "cell_type": "code",
      "execution_count": 18,
      "id": "b4b1d415",
      "metadata": {
        "colab": {
          "base_uri": "https://localhost:8080/"
        },
        "id": "b4b1d415",
        "outputId": "5e4e16ac-8d87-4b41-aaa5-0818a4c5e6e1"
      },
      "outputs": [
        {
          "output_type": "stream",
          "name": "stdout",
          "text": [
            "0\n"
          ]
        }
      ],
      "source": [
        "print(data['total_income'].isna().sum())\n",
        "#проверили столбец на пропуски"
      ]
    },
    {
      "cell_type": "markdown",
      "id": "a15f8e27",
      "metadata": {
        "id": "a15f8e27"
      },
      "source": [
        "### Шаг 2.2 Проверка данных на аномалии и исправления"
      ]
    },
    {
      "cell_type": "code",
      "execution_count": 19,
      "id": "e56eb220",
      "metadata": {
        "colab": {
          "base_uri": "https://localhost:8080/"
        },
        "id": "e56eb220",
        "outputId": "04a9c044-e802-414c-f0cd-93f72ddec481"
      },
      "outputs": [
        {
          "output_type": "stream",
          "name": "stdout",
          "text": [
            "min -1\n",
            "max 20\n",
            "NA 0\n"
          ]
        }
      ],
      "source": [
        "print('min', data['children'].min())\n",
        "print('max', data['children'].max())\n",
        "print('NA', data['children'].isna().sum())\n",
        "# проверим значения столбца с колличеством детей "
      ]
    },
    {
      "cell_type": "code",
      "execution_count": 20,
      "id": "a326680f",
      "metadata": {
        "colab": {
          "base_uri": "https://localhost:8080/"
        },
        "id": "a326680f",
        "outputId": "3f8ff859-d09a-4d70-8744-02ba7e0d062c"
      },
      "outputs": [
        {
          "output_type": "stream",
          "name": "stdout",
          "text": [
            " 0     14149\n",
            " 1      4818\n",
            " 2      2055\n",
            " 3       330\n",
            " 20       76\n",
            "-1        47\n",
            " 4        41\n",
            " 5         9\n",
            "Name: children, dtype: int64\n"
          ]
        }
      ],
      "source": [
        "print(data['children'].value_counts())\n",
        "# нужно посмотреть значения из за странного количества детей"
      ]
    },
    {
      "cell_type": "code",
      "execution_count": 21,
      "id": "3d3386c9",
      "metadata": {
        "id": "3d3386c9"
      },
      "outputs": [],
      "source": [
        "data = data.drop(data[data['children'] == 20].index)\n",
        "# удалим строки где детей больше чем обычно"
      ]
    },
    {
      "cell_type": "code",
      "execution_count": 22,
      "id": "8b34e7dc",
      "metadata": {
        "id": "8b34e7dc"
      },
      "outputs": [],
      "source": [
        "data = data.reset_index(drop=True)\n",
        "# сбросим индекс"
      ]
    },
    {
      "cell_type": "code",
      "execution_count": 23,
      "id": "3850a240",
      "metadata": {
        "id": "3850a240"
      },
      "outputs": [],
      "source": [
        "data['children'] = data['children'].abs()\n",
        "# применим функцию abs()"
      ]
    },
    {
      "cell_type": "code",
      "execution_count": 24,
      "id": "453b4915",
      "metadata": {
        "colab": {
          "base_uri": "https://localhost:8080/"
        },
        "id": "453b4915",
        "outputId": "4ba859be-5219-4f3e-843d-b71ca0d08af9"
      },
      "outputs": [
        {
          "output_type": "stream",
          "name": "stdout",
          "text": [
            "min 0\n"
          ]
        }
      ],
      "source": [
        "print('min', data['children'].min())\n",
        "# проверим значения"
      ]
    },
    {
      "cell_type": "code",
      "execution_count": 25,
      "id": "c031a3f2",
      "metadata": {
        "colab": {
          "base_uri": "https://localhost:8080/"
        },
        "id": "c031a3f2",
        "outputId": "036d71ee-f0c3-43dc-f14e-829e5353415e"
      },
      "outputs": [
        {
          "output_type": "stream",
          "name": "stdout",
          "text": [
            "median -1204.1647137573468\n",
            "mean 63141.233527037184\n",
            "min -18388.949900568383\n",
            "max 401755.40047533\n",
            "NA 2165\n"
          ]
        }
      ],
      "source": [
        "print('median', data['days_employed'].median())\n",
        "print('mean', data['days_employed'].mean())\n",
        "print('min', data['days_employed'].min())\n",
        "print('max', data['days_employed'].max())\n",
        "print('NA', data['days_employed'].isna().sum())\n",
        "# посмотрим на значения в столбце колличество отработанных дней"
      ]
    },
    {
      "cell_type": "code",
      "execution_count": 26,
      "id": "f9810d4a",
      "metadata": {
        "id": "f9810d4a"
      },
      "outputs": [],
      "source": [
        "data['days_employed'] = data['days_employed'].abs()\n",
        "# применим функцию abs() на столбце days_employed"
      ]
    },
    {
      "cell_type": "code",
      "execution_count": 27,
      "id": "ce8ce06a",
      "metadata": {
        "colab": {
          "base_uri": "https://localhost:8080/"
        },
        "id": "ce8ce06a",
        "outputId": "b498cfa8-853c-41b0-d8eb-efac205498b3"
      },
      "outputs": [
        {
          "output_type": "stream",
          "name": "stdout",
          "text": [
            "min 24.14163324048118\n"
          ]
        }
      ],
      "source": [
        "print('min', data['days_employed'].min())\n",
        "# проверим работает ли функция"
      ]
    },
    {
      "cell_type": "code",
      "execution_count": 28,
      "id": "fa957455",
      "metadata": {
        "id": "fa957455"
      },
      "outputs": [],
      "source": [
        "def days_employed_correct(row):\n",
        "    \"\"\"\n",
        "    берет данные из столбца, делит его на 365\n",
        "    затирает значение чей стаж более 57 лет, при этом пустые значения не трогает\n",
        "    \"\"\"\n",
        "    if 0 < row / 365 <= 57:\n",
        "        return row\n",
        "    if row / 365 > 57:\n",
        "        return 365 * 57"
      ]
    },
    {
      "cell_type": "code",
      "execution_count": 29,
      "id": "50de648b",
      "metadata": {
        "id": "50de648b"
      },
      "outputs": [],
      "source": [
        "data['days_employed'] = data['days_employed'].apply(days_employed_correct)\n",
        "# применим функцию days_employed_correct"
      ]
    },
    {
      "cell_type": "code",
      "execution_count": 30,
      "id": "339e4717",
      "metadata": {
        "colab": {
          "base_uri": "https://localhost:8080/"
        },
        "id": "339e4717",
        "outputId": "d422dcaa-556a-4bab-f563-2412c384080c"
      },
      "outputs": [
        {
          "output_type": "stream",
          "name": "stdout",
          "text": [
            "median 2196.507938101055\n",
            "mean 5643.325349318145\n",
            "min 24.14163324048118\n",
            "max 20805.0\n",
            "NA 2165\n"
          ]
        }
      ],
      "source": [
        "print('median', data['days_employed'].median())\n",
        "print('mean', data['days_employed'].mean())\n",
        "print('min', data['days_employed'].min())\n",
        "print('max', data['days_employed'].max())\n",
        "print('NA', data['days_employed'].isna().sum())\n",
        "# проверим столбец days_employed на пропуски а также посомтрим значения которые есть в столбце"
      ]
    },
    {
      "cell_type": "code",
      "execution_count": 31,
      "id": "d7e0d3a4",
      "metadata": {
        "id": "d7e0d3a4"
      },
      "outputs": [],
      "source": [
        "days_employed_median = data['days_employed'].median()\n",
        "# находим медиану для столбца days_employed"
      ]
    },
    {
      "cell_type": "code",
      "execution_count": 32,
      "id": "47308203",
      "metadata": {
        "id": "47308203"
      },
      "outputs": [],
      "source": [
        "data['days_employed'] = data['days_employed'].fillna(days_employed_median)\n",
        "# добавляем значения медианы вместо пропусков"
      ]
    },
    {
      "cell_type": "code",
      "execution_count": 33,
      "id": "eb84e1fb",
      "metadata": {
        "colab": {
          "base_uri": "https://localhost:8080/"
        },
        "id": "eb84e1fb",
        "outputId": "5dd51f48-da87-46a4-8ddc-5a3c9a74d6c3"
      },
      "outputs": [
        {
          "output_type": "stream",
          "name": "stdout",
          "text": [
            "0\n"
          ]
        }
      ],
      "source": [
        "print(data['days_employed'].isna().sum())\n",
        "# проверим на наличие пустых значений"
      ]
    },
    {
      "cell_type": "code",
      "execution_count": 34,
      "id": "700a047d",
      "metadata": {
        "colab": {
          "base_uri": "https://localhost:8080/"
        },
        "id": "700a047d",
        "outputId": "4b0f217c-67e8-4346-91e2-278391aed9ab"
      },
      "outputs": [
        {
          "output_type": "stream",
          "name": "stdout",
          "text": [
            "min 0\n",
            "max 75\n",
            "NA 0\n"
          ]
        }
      ],
      "source": [
        "print('min', data['dob_years'].min())\n",
        "print('max', data['dob_years'].max())\n",
        "print('NA', data['dob_years'].isna().sum())\n",
        "# проверим значения столбца с возрастом клиента"
      ]
    },
    {
      "cell_type": "code",
      "execution_count": 35,
      "id": "1dfc369c",
      "metadata": {
        "id": "1dfc369c"
      },
      "outputs": [],
      "source": [
        "to_young = data[data['dob_years'] < 18].value_counts().sum() / data[data['dob_years'] > 18].value_counts().sum()\n",
        "# найдем процент несовершенно летних от общего числа"
      ]
    },
    {
      "cell_type": "code",
      "execution_count": 36,
      "id": "15882e11",
      "metadata": {
        "colab": {
          "base_uri": "https://localhost:8080/"
        },
        "id": "15882e11",
        "outputId": "a1794399-b635-4e93-80d0-bc63f9b68538"
      },
      "outputs": [
        {
          "output_type": "stream",
          "name": "stdout",
          "text": [
            "Процент значений несовершенно летних: 0.47%\n"
          ]
        }
      ],
      "source": [
        "print(f'Процент значений несовершенно летних: {to_young:.2%}')\n",
        "# выведем значение на экран"
      ]
    },
    {
      "cell_type": "code",
      "execution_count": 37,
      "id": "ced6361b",
      "metadata": {
        "id": "ced6361b"
      },
      "outputs": [],
      "source": [
        "data = data.drop(data[data['dob_years'] < 18].index)\n",
        "# минимальный возраст для получения кредита составляет 18 лет, таких данных меньше 1% - удаляем"
      ]
    },
    {
      "cell_type": "code",
      "execution_count": 38,
      "id": "64762d0c",
      "metadata": {
        "id": "64762d0c"
      },
      "outputs": [],
      "source": [
        "data = data.reset_index(drop=True)\n",
        "# сбросим индекс "
      ]
    },
    {
      "cell_type": "code",
      "execution_count": 39,
      "id": "30858f19",
      "metadata": {
        "colab": {
          "base_uri": "https://localhost:8080/"
        },
        "id": "30858f19",
        "outputId": "4472ea4f-7208-455b-cb9b-ee7d546c2aa1"
      },
      "outputs": [
        {
          "output_type": "stream",
          "name": "stdout",
          "text": [
            "min 0\n",
            "max 4\n",
            "NA 0\n"
          ]
        }
      ],
      "source": [
        "print('min', data['education_id'].min())\n",
        "print('max', data['education_id'].max())\n",
        "print('NA', data['education_id'].isna().sum())\n",
        "# проверим значения столбца с идентификатором уровня образования"
      ]
    },
    {
      "cell_type": "code",
      "execution_count": 40,
      "id": "9b88ceef",
      "metadata": {
        "colab": {
          "base_uri": "https://localhost:8080/"
        },
        "id": "9b88ceef",
        "outputId": "22368e52-3930-4b85-b2d4-1dbe14a13183"
      },
      "outputs": [
        {
          "output_type": "stream",
          "name": "stdout",
          "text": [
            "min 0\n",
            "max 4\n",
            "NA 0\n"
          ]
        }
      ],
      "source": [
        "print('min', data['family_status_id'].min())\n",
        "print('max', data['family_status_id'].max())\n",
        "print('NA', data['family_status_id'].isna().sum())\n",
        "# проверим значения столбца с идентификатором семейного положения"
      ]
    },
    {
      "cell_type": "code",
      "execution_count": 41,
      "id": "fe9f0f4e",
      "metadata": {
        "colab": {
          "base_uri": "https://localhost:8080/"
        },
        "id": "fe9f0f4e",
        "outputId": "4184e82f-8897-40ee-dd7c-6709fe455870"
      },
      "outputs": [
        {
          "output_type": "stream",
          "name": "stdout",
          "text": [
            "min 0\n",
            "max 1\n",
            "NA 0\n"
          ]
        }
      ],
      "source": [
        "print('min', data['debt'].min())\n",
        "print('max', data['debt'].max())\n",
        "print('NA', data['debt'].isna().sum())\n",
        "# проверим значения столбца с задолженностью"
      ]
    },
    {
      "cell_type": "code",
      "execution_count": 42,
      "id": "c9d400a6",
      "metadata": {
        "colab": {
          "base_uri": "https://localhost:8080/"
        },
        "id": "c9d400a6",
        "outputId": "d739d850-95a1-45f4-d81b-f4b532fb9743"
      },
      "outputs": [
        {
          "output_type": "stream",
          "name": "stdout",
          "text": [
            "min 20667.26379327158\n",
            "max 2265604.028722744\n",
            "NA 0\n"
          ]
        }
      ],
      "source": [
        "print('min', data['total_income'].min())\n",
        "print('max', data['total_income'].max())\n",
        "print('NA', data['total_income'].isna().sum())\n",
        "# проверим значения столбца с ежемесячным доходом"
      ]
    },
    {
      "cell_type": "markdown",
      "id": "789ab1c4",
      "metadata": {
        "id": "789ab1c4"
      },
      "source": [
        "Возможные причины отрицательных значений:\n",
        "\n",
        "    - данные скопировались с тире, и машина считала их за минус\n",
        "    - человеческий фактор"
      ]
    },
    {
      "cell_type": "markdown",
      "id": "7495326d",
      "metadata": {
        "id": "7495326d"
      },
      "source": [
        "### Шаг 2.3. Изменение типов данных."
      ]
    },
    {
      "cell_type": "code",
      "execution_count": 43,
      "id": "22a2d75f",
      "metadata": {
        "id": "22a2d75f"
      },
      "outputs": [],
      "source": [
        "data['total_income'] = data['total_income'].astype(int)\n",
        "# поменяем тип данных в столбце total_income на вещественный int"
      ]
    },
    {
      "cell_type": "code",
      "execution_count": 44,
      "id": "c7c0a410",
      "metadata": {
        "id": "c7c0a410"
      },
      "outputs": [],
      "source": [
        "data['days_employed'] = data['days_employed'].astype(int)\n",
        "# поменяем тип данных в столбце days_employed на вещественный int"
      ]
    },
    {
      "cell_type": "markdown",
      "id": "64101379",
      "metadata": {
        "id": "64101379"
      },
      "source": [
        "### Шаг 2.4. Удаление дубликатов."
      ]
    },
    {
      "cell_type": "code",
      "execution_count": 45,
      "id": "68b7f7a6",
      "metadata": {
        "id": "68b7f7a6"
      },
      "outputs": [],
      "source": [
        "data['education'] = data['education'].str.lower()\n",
        "# приведем весь столбец к одному регистру"
      ]
    },
    {
      "cell_type": "code",
      "execution_count": 46,
      "id": "ce563d42",
      "metadata": {
        "colab": {
          "base_uri": "https://localhost:8080/"
        },
        "id": "ce563d42",
        "outputId": "ff0e8861-ca9a-4d8d-c3e9-d162d4dc7ee9"
      },
      "outputs": [
        {
          "output_type": "stream",
          "name": "stdout",
          "text": [
            "среднее                15110\n",
            "высшее                  5211\n",
            "неоконченное высшее      740\n",
            "начальное                282\n",
            "ученая степень             6\n",
            "Name: education, dtype: int64\n"
          ]
        }
      ],
      "source": [
        "print(data['education'].value_counts())\n",
        "# найдем все неявные дубликаты"
      ]
    },
    {
      "cell_type": "code",
      "execution_count": 47,
      "id": "bedfa732",
      "metadata": {
        "colab": {
          "base_uri": "https://localhost:8080/"
        },
        "id": "bedfa732",
        "outputId": "39fe61e0-e514-48c5-aa0e-e914cbacc80c"
      },
      "outputs": [
        {
          "output_type": "stream",
          "name": "stdout",
          "text": [
            "сотрудник          11022\n",
            "компаньон           5043\n",
            "пенсионер           3827\n",
            "госслужащий         1451\n",
            "безработный            2\n",
            "предприниматель        2\n",
            "студент                1\n",
            "в декрете              1\n",
            "Name: income_type, dtype: int64\n"
          ]
        }
      ],
      "source": [
        "print(data['income_type'].value_counts())\n",
        "# найдем все неявные дубликаты"
      ]
    },
    {
      "cell_type": "code",
      "execution_count": 48,
      "id": "7b31f8cb",
      "metadata": {
        "colab": {
          "base_uri": "https://localhost:8080/"
        },
        "id": "7b31f8cb",
        "outputId": "e1fc565e-722d-40d1-98a2-1677540b25a0"
      },
      "outputs": [
        {
          "output_type": "stream",
          "name": "stdout",
          "text": [
            "['F' 'M' 'XNA']\n"
          ]
        }
      ],
      "source": [
        "print(data['gender'].unique())\n",
        "# найдем все неявные дубликаты"
      ]
    },
    {
      "cell_type": "code",
      "execution_count": 49,
      "id": "26ab4024",
      "metadata": {
        "colab": {
          "base_uri": "https://localhost:8080/"
        },
        "id": "26ab4024",
        "outputId": "f8f6c2f7-f9e0-4aae-9160-065b3720a7fe"
      },
      "outputs": [
        {
          "output_type": "stream",
          "name": "stdout",
          "text": [
            "Int64Index([10621], dtype='int64')\n"
          ]
        }
      ],
      "source": [
        "print(data[data['gender'] == 'XNA'].index)\n",
        "# ищу номер строки XNA"
      ]
    },
    {
      "cell_type": "code",
      "execution_count": 50,
      "id": "b57fb34f",
      "metadata": {
        "colab": {
          "base_uri": "https://localhost:8080/"
        },
        "id": "b57fb34f",
        "outputId": "54328500-40f8-4c6c-c6f8-81922194c968"
      },
      "outputs": [
        {
          "output_type": "stream",
          "name": "stdout",
          "text": [
            "children                          2\n",
            "days_employed                    88\n",
            "dob_years                        31\n",
            "education                   среднее\n",
            "education_id                      1\n",
            "family_status       женат / замужем\n",
            "family_status_id                  0\n",
            "gender                            M\n",
            "income_type               сотрудник\n",
            "debt                              0\n",
            "total_income                 229730\n",
            "purpose                  автомобиль\n",
            "Name: 10701, dtype: object\n"
          ]
        }
      ],
      "source": [
        "print(data.loc[10701])\n",
        "# посмотрим какие данные содержит"
      ]
    },
    {
      "cell_type": "code",
      "execution_count": 51,
      "id": "14683925",
      "metadata": {
        "id": "14683925"
      },
      "outputs": [],
      "source": [
        "data = data.drop(data[data['gender'] == 'XNA'].index)\n",
        "# удалим одну строку которая может портить данные, строка одна из 20 тысяч, поэтому на выводы это не повлияет"
      ]
    },
    {
      "cell_type": "code",
      "execution_count": 52,
      "id": "97237a7c",
      "metadata": {
        "colab": {
          "base_uri": "https://localhost:8080/"
        },
        "id": "97237a7c",
        "outputId": "f462928a-8fbe-4272-f0e8-c269c53990c5"
      },
      "outputs": [
        {
          "output_type": "stream",
          "name": "stdout",
          "text": [
            "['F' 'M']\n"
          ]
        }
      ],
      "source": [
        "print(data['gender'].unique())\n",
        "# проверим на удалние"
      ]
    },
    {
      "cell_type": "code",
      "execution_count": 53,
      "id": "d48b8cfb",
      "metadata": {
        "colab": {
          "base_uri": "https://localhost:8080/"
        },
        "id": "d48b8cfb",
        "outputId": "6de5657f-841a-4b50-c9b4-5385eafdd5d7"
      },
      "outputs": [
        {
          "output_type": "stream",
          "name": "stdout",
          "text": [
            "женат / замужем          12283\n",
            "гражданский брак          4143\n",
            "Не женат / не замужем     2788\n",
            "в разводе                 1183\n",
            "вдовец / вдова             951\n",
            "Name: family_status, dtype: int64\n"
          ]
        }
      ],
      "source": [
        "print(data['family_status'].value_counts())\n",
        "# дублей нет, но есть слово с большой буквы"
      ]
    },
    {
      "cell_type": "code",
      "execution_count": 54,
      "id": "3e2519ec",
      "metadata": {
        "id": "3e2519ec"
      },
      "outputs": [],
      "source": [
        "data['family_status'] = data['family_status'].str.lower()\n",
        "# все к единому регистру"
      ]
    },
    {
      "cell_type": "code",
      "execution_count": 55,
      "id": "8e105a13",
      "metadata": {
        "colab": {
          "base_uri": "https://localhost:8080/"
        },
        "id": "8e105a13",
        "outputId": "197f6732-4ab0-4faf-e73a-08309ac926e9"
      },
      "outputs": [
        {
          "output_type": "stream",
          "name": "stdout",
          "text": [
            "свадьба                                   791\n",
            "на проведение свадьбы                     769\n",
            "сыграть свадьбу                           765\n",
            "операции с недвижимостью                  672\n",
            "покупка коммерческой недвижимости         658\n",
            "покупка жилья для сдачи                   650\n",
            "операции с коммерческой недвижимостью     645\n",
            "операции с жильем                         643\n",
            "покупка жилья для семьи                   639\n",
            "покупка жилья                             638\n",
            "жилье                                     637\n",
            "недвижимость                              629\n",
            "операции со своей недвижимостью           629\n",
            "строительство собственной недвижимости    627\n",
            "строительство жилой недвижимости          622\n",
            "строительство недвижимости                620\n",
            "покупка своего жилья                      619\n",
            "покупка недвижимости                      618\n",
            "ремонт жилью                              608\n",
            "покупка жилой недвижимости                602\n",
            "на покупку своего автомобиля              502\n",
            "заняться высшим образованием              493\n",
            "автомобиль                                490\n",
            "сделка с подержанным автомобилем          483\n",
            "автомобили                                475\n",
            "свой автомобиль                           474\n",
            "на покупку подержанного автомобиля        473\n",
            "на покупку автомобиля                     467\n",
            "приобретение автомобиля                   460\n",
            "дополнительное образование                457\n",
            "сделка с автомобилем                      454\n",
            "высшее образование                        445\n",
            "получение дополнительного образования     444\n",
            "образование                               442\n",
            "получение образования                     441\n",
            "профильное образование                    433\n",
            "получение высшего образования             423\n",
            "заняться образованием                     411\n",
            "Name: purpose, dtype: int64\n"
          ]
        }
      ],
      "source": [
        "print(data['purpose'].value_counts())\n",
        "# найдем неявные дубликаты"
      ]
    },
    {
      "cell_type": "code",
      "execution_count": 56,
      "id": "756654ee",
      "metadata": {
        "id": "756654ee"
      },
      "outputs": [],
      "source": [
        "data = data.drop_duplicates().reset_index(drop=True)\n",
        "# удалим из таблицы явные дубликаты со сбросом индекса"
      ]
    },
    {
      "cell_type": "code",
      "execution_count": 57,
      "id": "879c0b6e",
      "metadata": {
        "colab": {
          "base_uri": "https://localhost:8080/"
        },
        "id": "879c0b6e",
        "outputId": "abeb8fae-e50c-45c9-a0bd-ecd6cae0d426"
      },
      "outputs": [
        {
          "output_type": "stream",
          "name": "stdout",
          "text": [
            "0\n"
          ]
        }
      ],
      "source": [
        "print(data.duplicated().sum())\n",
        "# проверим на дубликаты"
      ]
    },
    {
      "cell_type": "markdown",
      "id": "fe34f114",
      "metadata": {
        "id": "fe34f114"
      },
      "source": [
        "### Шаг 2.5. Формирование дополнительных датафреймов словарей, декомпозиция исходного датафрейма."
      ]
    },
    {
      "cell_type": "code",
      "execution_count": 58,
      "id": "6709e0e3",
      "metadata": {
        "id": "6709e0e3"
      },
      "outputs": [],
      "source": [
        "education_dict = data[['education_id', 'education']]\n",
        "family_dict = data[['family_status_id', 'family_status']]\n",
        "# создаем два новых дата фрейма"
      ]
    },
    {
      "cell_type": "code",
      "execution_count": 59,
      "id": "22f634df",
      "metadata": {
        "colab": {
          "base_uri": "https://localhost:8080/",
          "height": 424
        },
        "id": "22f634df",
        "outputId": "430de479-5b50-403e-b272-529a158df400"
      },
      "outputs": [
        {
          "output_type": "execute_result",
          "data": {
            "text/plain": [
              "       family_status_id     family_status\n",
              "0                     0   женат / замужем\n",
              "1                     0   женат / замужем\n",
              "2                     0   женат / замужем\n",
              "3                     0   женат / замужем\n",
              "4                     1  гражданский брак\n",
              "...                 ...               ...\n",
              "21272                 1  гражданский брак\n",
              "21273                 0   женат / замужем\n",
              "21274                 1  гражданский брак\n",
              "21275                 0   женат / замужем\n",
              "21276                 0   женат / замужем\n",
              "\n",
              "[21277 rows x 2 columns]"
            ],
            "text/html": [
              "\n",
              "  <div id=\"df-ab67a254-280e-4ce2-9389-931bccb7df2d\">\n",
              "    <div class=\"colab-df-container\">\n",
              "      <div>\n",
              "<style scoped>\n",
              "    .dataframe tbody tr th:only-of-type {\n",
              "        vertical-align: middle;\n",
              "    }\n",
              "\n",
              "    .dataframe tbody tr th {\n",
              "        vertical-align: top;\n",
              "    }\n",
              "\n",
              "    .dataframe thead th {\n",
              "        text-align: right;\n",
              "    }\n",
              "</style>\n",
              "<table border=\"1\" class=\"dataframe\">\n",
              "  <thead>\n",
              "    <tr style=\"text-align: right;\">\n",
              "      <th></th>\n",
              "      <th>family_status_id</th>\n",
              "      <th>family_status</th>\n",
              "    </tr>\n",
              "  </thead>\n",
              "  <tbody>\n",
              "    <tr>\n",
              "      <th>0</th>\n",
              "      <td>0</td>\n",
              "      <td>женат / замужем</td>\n",
              "    </tr>\n",
              "    <tr>\n",
              "      <th>1</th>\n",
              "      <td>0</td>\n",
              "      <td>женат / замужем</td>\n",
              "    </tr>\n",
              "    <tr>\n",
              "      <th>2</th>\n",
              "      <td>0</td>\n",
              "      <td>женат / замужем</td>\n",
              "    </tr>\n",
              "    <tr>\n",
              "      <th>3</th>\n",
              "      <td>0</td>\n",
              "      <td>женат / замужем</td>\n",
              "    </tr>\n",
              "    <tr>\n",
              "      <th>4</th>\n",
              "      <td>1</td>\n",
              "      <td>гражданский брак</td>\n",
              "    </tr>\n",
              "    <tr>\n",
              "      <th>...</th>\n",
              "      <td>...</td>\n",
              "      <td>...</td>\n",
              "    </tr>\n",
              "    <tr>\n",
              "      <th>21272</th>\n",
              "      <td>1</td>\n",
              "      <td>гражданский брак</td>\n",
              "    </tr>\n",
              "    <tr>\n",
              "      <th>21273</th>\n",
              "      <td>0</td>\n",
              "      <td>женат / замужем</td>\n",
              "    </tr>\n",
              "    <tr>\n",
              "      <th>21274</th>\n",
              "      <td>1</td>\n",
              "      <td>гражданский брак</td>\n",
              "    </tr>\n",
              "    <tr>\n",
              "      <th>21275</th>\n",
              "      <td>0</td>\n",
              "      <td>женат / замужем</td>\n",
              "    </tr>\n",
              "    <tr>\n",
              "      <th>21276</th>\n",
              "      <td>0</td>\n",
              "      <td>женат / замужем</td>\n",
              "    </tr>\n",
              "  </tbody>\n",
              "</table>\n",
              "<p>21277 rows × 2 columns</p>\n",
              "</div>\n",
              "      <button class=\"colab-df-convert\" onclick=\"convertToInteractive('df-ab67a254-280e-4ce2-9389-931bccb7df2d')\"\n",
              "              title=\"Convert this dataframe to an interactive table.\"\n",
              "              style=\"display:none;\">\n",
              "        \n",
              "  <svg xmlns=\"http://www.w3.org/2000/svg\" height=\"24px\"viewBox=\"0 0 24 24\"\n",
              "       width=\"24px\">\n",
              "    <path d=\"M0 0h24v24H0V0z\" fill=\"none\"/>\n",
              "    <path d=\"M18.56 5.44l.94 2.06.94-2.06 2.06-.94-2.06-.94-.94-2.06-.94 2.06-2.06.94zm-11 1L8.5 8.5l.94-2.06 2.06-.94-2.06-.94L8.5 2.5l-.94 2.06-2.06.94zm10 10l.94 2.06.94-2.06 2.06-.94-2.06-.94-.94-2.06-.94 2.06-2.06.94z\"/><path d=\"M17.41 7.96l-1.37-1.37c-.4-.4-.92-.59-1.43-.59-.52 0-1.04.2-1.43.59L10.3 9.45l-7.72 7.72c-.78.78-.78 2.05 0 2.83L4 21.41c.39.39.9.59 1.41.59.51 0 1.02-.2 1.41-.59l7.78-7.78 2.81-2.81c.8-.78.8-2.07 0-2.86zM5.41 20L4 18.59l7.72-7.72 1.47 1.35L5.41 20z\"/>\n",
              "  </svg>\n",
              "      </button>\n",
              "      \n",
              "  <style>\n",
              "    .colab-df-container {\n",
              "      display:flex;\n",
              "      flex-wrap:wrap;\n",
              "      gap: 12px;\n",
              "    }\n",
              "\n",
              "    .colab-df-convert {\n",
              "      background-color: #E8F0FE;\n",
              "      border: none;\n",
              "      border-radius: 50%;\n",
              "      cursor: pointer;\n",
              "      display: none;\n",
              "      fill: #1967D2;\n",
              "      height: 32px;\n",
              "      padding: 0 0 0 0;\n",
              "      width: 32px;\n",
              "    }\n",
              "\n",
              "    .colab-df-convert:hover {\n",
              "      background-color: #E2EBFA;\n",
              "      box-shadow: 0px 1px 2px rgba(60, 64, 67, 0.3), 0px 1px 3px 1px rgba(60, 64, 67, 0.15);\n",
              "      fill: #174EA6;\n",
              "    }\n",
              "\n",
              "    [theme=dark] .colab-df-convert {\n",
              "      background-color: #3B4455;\n",
              "      fill: #D2E3FC;\n",
              "    }\n",
              "\n",
              "    [theme=dark] .colab-df-convert:hover {\n",
              "      background-color: #434B5C;\n",
              "      box-shadow: 0px 1px 3px 1px rgba(0, 0, 0, 0.15);\n",
              "      filter: drop-shadow(0px 1px 2px rgba(0, 0, 0, 0.3));\n",
              "      fill: #FFFFFF;\n",
              "    }\n",
              "  </style>\n",
              "\n",
              "      <script>\n",
              "        const buttonEl =\n",
              "          document.querySelector('#df-ab67a254-280e-4ce2-9389-931bccb7df2d button.colab-df-convert');\n",
              "        buttonEl.style.display =\n",
              "          google.colab.kernel.accessAllowed ? 'block' : 'none';\n",
              "\n",
              "        async function convertToInteractive(key) {\n",
              "          const element = document.querySelector('#df-ab67a254-280e-4ce2-9389-931bccb7df2d');\n",
              "          const dataTable =\n",
              "            await google.colab.kernel.invokeFunction('convertToInteractive',\n",
              "                                                     [key], {});\n",
              "          if (!dataTable) return;\n",
              "\n",
              "          const docLinkHtml = 'Like what you see? Visit the ' +\n",
              "            '<a target=\"_blank\" href=https://colab.research.google.com/notebooks/data_table.ipynb>data table notebook</a>'\n",
              "            + ' to learn more about interactive tables.';\n",
              "          element.innerHTML = '';\n",
              "          dataTable['output_type'] = 'display_data';\n",
              "          await google.colab.output.renderOutput(dataTable, element);\n",
              "          const docLink = document.createElement('div');\n",
              "          docLink.innerHTML = docLinkHtml;\n",
              "          element.appendChild(docLink);\n",
              "        }\n",
              "      </script>\n",
              "    </div>\n",
              "  </div>\n",
              "  "
            ]
          },
          "metadata": {},
          "execution_count": 59
        }
      ],
      "source": [
        "family_dict"
      ]
    },
    {
      "cell_type": "code",
      "execution_count": 60,
      "id": "81a87642",
      "metadata": {
        "colab": {
          "base_uri": "https://localhost:8080/",
          "height": 424
        },
        "id": "81a87642",
        "outputId": "1ff2545d-1104-4c9e-82c9-7b83a3df95b9"
      },
      "outputs": [
        {
          "output_type": "execute_result",
          "data": {
            "text/plain": [
              "       education_id education\n",
              "0                 0    высшее\n",
              "1                 1   среднее\n",
              "2                 1   среднее\n",
              "3                 1   среднее\n",
              "4                 1   среднее\n",
              "...             ...       ...\n",
              "21272             1   среднее\n",
              "21273             1   среднее\n",
              "21274             1   среднее\n",
              "21275             1   среднее\n",
              "21276             1   среднее\n",
              "\n",
              "[21277 rows x 2 columns]"
            ],
            "text/html": [
              "\n",
              "  <div id=\"df-c872f76f-406f-4d2d-83a3-5d9f05b1ddf2\">\n",
              "    <div class=\"colab-df-container\">\n",
              "      <div>\n",
              "<style scoped>\n",
              "    .dataframe tbody tr th:only-of-type {\n",
              "        vertical-align: middle;\n",
              "    }\n",
              "\n",
              "    .dataframe tbody tr th {\n",
              "        vertical-align: top;\n",
              "    }\n",
              "\n",
              "    .dataframe thead th {\n",
              "        text-align: right;\n",
              "    }\n",
              "</style>\n",
              "<table border=\"1\" class=\"dataframe\">\n",
              "  <thead>\n",
              "    <tr style=\"text-align: right;\">\n",
              "      <th></th>\n",
              "      <th>education_id</th>\n",
              "      <th>education</th>\n",
              "    </tr>\n",
              "  </thead>\n",
              "  <tbody>\n",
              "    <tr>\n",
              "      <th>0</th>\n",
              "      <td>0</td>\n",
              "      <td>высшее</td>\n",
              "    </tr>\n",
              "    <tr>\n",
              "      <th>1</th>\n",
              "      <td>1</td>\n",
              "      <td>среднее</td>\n",
              "    </tr>\n",
              "    <tr>\n",
              "      <th>2</th>\n",
              "      <td>1</td>\n",
              "      <td>среднее</td>\n",
              "    </tr>\n",
              "    <tr>\n",
              "      <th>3</th>\n",
              "      <td>1</td>\n",
              "      <td>среднее</td>\n",
              "    </tr>\n",
              "    <tr>\n",
              "      <th>4</th>\n",
              "      <td>1</td>\n",
              "      <td>среднее</td>\n",
              "    </tr>\n",
              "    <tr>\n",
              "      <th>...</th>\n",
              "      <td>...</td>\n",
              "      <td>...</td>\n",
              "    </tr>\n",
              "    <tr>\n",
              "      <th>21272</th>\n",
              "      <td>1</td>\n",
              "      <td>среднее</td>\n",
              "    </tr>\n",
              "    <tr>\n",
              "      <th>21273</th>\n",
              "      <td>1</td>\n",
              "      <td>среднее</td>\n",
              "    </tr>\n",
              "    <tr>\n",
              "      <th>21274</th>\n",
              "      <td>1</td>\n",
              "      <td>среднее</td>\n",
              "    </tr>\n",
              "    <tr>\n",
              "      <th>21275</th>\n",
              "      <td>1</td>\n",
              "      <td>среднее</td>\n",
              "    </tr>\n",
              "    <tr>\n",
              "      <th>21276</th>\n",
              "      <td>1</td>\n",
              "      <td>среднее</td>\n",
              "    </tr>\n",
              "  </tbody>\n",
              "</table>\n",
              "<p>21277 rows × 2 columns</p>\n",
              "</div>\n",
              "      <button class=\"colab-df-convert\" onclick=\"convertToInteractive('df-c872f76f-406f-4d2d-83a3-5d9f05b1ddf2')\"\n",
              "              title=\"Convert this dataframe to an interactive table.\"\n",
              "              style=\"display:none;\">\n",
              "        \n",
              "  <svg xmlns=\"http://www.w3.org/2000/svg\" height=\"24px\"viewBox=\"0 0 24 24\"\n",
              "       width=\"24px\">\n",
              "    <path d=\"M0 0h24v24H0V0z\" fill=\"none\"/>\n",
              "    <path d=\"M18.56 5.44l.94 2.06.94-2.06 2.06-.94-2.06-.94-.94-2.06-.94 2.06-2.06.94zm-11 1L8.5 8.5l.94-2.06 2.06-.94-2.06-.94L8.5 2.5l-.94 2.06-2.06.94zm10 10l.94 2.06.94-2.06 2.06-.94-2.06-.94-.94-2.06-.94 2.06-2.06.94z\"/><path d=\"M17.41 7.96l-1.37-1.37c-.4-.4-.92-.59-1.43-.59-.52 0-1.04.2-1.43.59L10.3 9.45l-7.72 7.72c-.78.78-.78 2.05 0 2.83L4 21.41c.39.39.9.59 1.41.59.51 0 1.02-.2 1.41-.59l7.78-7.78 2.81-2.81c.8-.78.8-2.07 0-2.86zM5.41 20L4 18.59l7.72-7.72 1.47 1.35L5.41 20z\"/>\n",
              "  </svg>\n",
              "      </button>\n",
              "      \n",
              "  <style>\n",
              "    .colab-df-container {\n",
              "      display:flex;\n",
              "      flex-wrap:wrap;\n",
              "      gap: 12px;\n",
              "    }\n",
              "\n",
              "    .colab-df-convert {\n",
              "      background-color: #E8F0FE;\n",
              "      border: none;\n",
              "      border-radius: 50%;\n",
              "      cursor: pointer;\n",
              "      display: none;\n",
              "      fill: #1967D2;\n",
              "      height: 32px;\n",
              "      padding: 0 0 0 0;\n",
              "      width: 32px;\n",
              "    }\n",
              "\n",
              "    .colab-df-convert:hover {\n",
              "      background-color: #E2EBFA;\n",
              "      box-shadow: 0px 1px 2px rgba(60, 64, 67, 0.3), 0px 1px 3px 1px rgba(60, 64, 67, 0.15);\n",
              "      fill: #174EA6;\n",
              "    }\n",
              "\n",
              "    [theme=dark] .colab-df-convert {\n",
              "      background-color: #3B4455;\n",
              "      fill: #D2E3FC;\n",
              "    }\n",
              "\n",
              "    [theme=dark] .colab-df-convert:hover {\n",
              "      background-color: #434B5C;\n",
              "      box-shadow: 0px 1px 3px 1px rgba(0, 0, 0, 0.15);\n",
              "      filter: drop-shadow(0px 1px 2px rgba(0, 0, 0, 0.3));\n",
              "      fill: #FFFFFF;\n",
              "    }\n",
              "  </style>\n",
              "\n",
              "      <script>\n",
              "        const buttonEl =\n",
              "          document.querySelector('#df-c872f76f-406f-4d2d-83a3-5d9f05b1ddf2 button.colab-df-convert');\n",
              "        buttonEl.style.display =\n",
              "          google.colab.kernel.accessAllowed ? 'block' : 'none';\n",
              "\n",
              "        async function convertToInteractive(key) {\n",
              "          const element = document.querySelector('#df-c872f76f-406f-4d2d-83a3-5d9f05b1ddf2');\n",
              "          const dataTable =\n",
              "            await google.colab.kernel.invokeFunction('convertToInteractive',\n",
              "                                                     [key], {});\n",
              "          if (!dataTable) return;\n",
              "\n",
              "          const docLinkHtml = 'Like what you see? Visit the ' +\n",
              "            '<a target=\"_blank\" href=https://colab.research.google.com/notebooks/data_table.ipynb>data table notebook</a>'\n",
              "            + ' to learn more about interactive tables.';\n",
              "          element.innerHTML = '';\n",
              "          dataTable['output_type'] = 'display_data';\n",
              "          await google.colab.output.renderOutput(dataTable, element);\n",
              "          const docLink = document.createElement('div');\n",
              "          docLink.innerHTML = docLinkHtml;\n",
              "          element.appendChild(docLink);\n",
              "        }\n",
              "      </script>\n",
              "    </div>\n",
              "  </div>\n",
              "  "
            ]
          },
          "metadata": {},
          "execution_count": 60
        }
      ],
      "source": [
        "education_dict"
      ]
    },
    {
      "cell_type": "code",
      "execution_count": 61,
      "id": "4cb1f44b",
      "metadata": {
        "id": "4cb1f44b"
      },
      "outputs": [],
      "source": [
        "data = data.drop(columns=['education', 'family_status'], axis=1)\n",
        "# удаляем столбцы из исходной таблицы"
      ]
    },
    {
      "cell_type": "code",
      "execution_count": 62,
      "id": "ae6590d8",
      "metadata": {
        "id": "ae6590d8"
      },
      "outputs": [],
      "source": [
        "education_dict = education_dict.drop_duplicates().reset_index(drop=True)\n",
        "# удаляем дубликаты в словаре"
      ]
    },
    {
      "cell_type": "code",
      "execution_count": 63,
      "id": "1fb951a8",
      "metadata": {
        "id": "1fb951a8"
      },
      "outputs": [],
      "source": [
        "family_dict = family_dict.drop_duplicates().reset_index(drop=True)\n",
        "# удаляем дубликаты в словаре"
      ]
    },
    {
      "cell_type": "markdown",
      "id": "50b556b2",
      "metadata": {
        "id": "50b556b2"
      },
      "source": [
        "### Шаг 2.6. Категоризация дохода."
      ]
    },
    {
      "cell_type": "code",
      "execution_count": 64,
      "id": "ea242df1",
      "metadata": {
        "id": "ea242df1"
      },
      "outputs": [],
      "source": [
        "def total_income_category_function(row):\n",
        "    \"\"\"\n",
        "    присваивает категории A, B, C, D, E в зависимости от уровня дохода \n",
        "\n",
        "    \"\"\"\n",
        "    if row <= 30000:\n",
        "        return 'E'\n",
        "    if 30001 <= row <= 50000:\n",
        "        return 'D'\n",
        "    if 50001 <= row <= 200000:\n",
        "        return 'C'\n",
        "    if 200001 <= row <= 1000000:\n",
        "        return 'B'\n",
        "    if row > 1000001:\n",
        "        return 'A'\n",
        "    else:\n",
        "        return 'no category'"
      ]
    },
    {
      "cell_type": "code",
      "execution_count": 65,
      "id": "dae9d623",
      "metadata": {
        "id": "dae9d623"
      },
      "outputs": [],
      "source": [
        "data['total_income_category'] = data['total_income'].apply(total_income_category_function)\n",
        "# добавим колонку категорий в таблицу data применив функцию total_income_category_function"
      ]
    },
    {
      "cell_type": "code",
      "execution_count": 66,
      "id": "6c7edf28",
      "metadata": {
        "colab": {
          "base_uri": "https://localhost:8080/"
        },
        "id": "6c7edf28",
        "outputId": "7d0c5f97-f3a6-4336-84d9-209acfffc887"
      },
      "outputs": [
        {
          "output_type": "stream",
          "name": "stdout",
          "text": [
            "C    15888\n",
            "B     4994\n",
            "D      348\n",
            "A       25\n",
            "E       22\n",
            "Name: total_income_category, dtype: int64\n"
          ]
        }
      ],
      "source": [
        "print(data['total_income_category'].value_counts())\n",
        "# проверим сработала ли функция total_income_category_function"
      ]
    },
    {
      "cell_type": "markdown",
      "id": "bc744dc2",
      "metadata": {
        "id": "bc744dc2"
      },
      "source": [
        "### Шаг 2.7. Категоризация целей кредита."
      ]
    },
    {
      "cell_type": "code",
      "execution_count": 67,
      "id": "cde8b06e",
      "metadata": {
        "id": "cde8b06e"
      },
      "outputs": [],
      "source": [
        "def purpose_category_function(row):\n",
        "    \"\"\"\n",
        "    ищет часть слова и если оно есть, подставляет заданое значение\n",
        "    \"\"\"\n",
        "    if 'авто' in row:\n",
        "        return 'операции с автомобилем'\n",
        "    if 'жил' in row or 'виж' in row:\n",
        "        return 'операции с недвижимостью'\n",
        "    if 'свад' in row:\n",
        "        return 'проведение свадьбы'\n",
        "    if 'обра' in row:\n",
        "        return 'получение образования'  \n",
        "    else:\n",
        "        return 'no category'\n",
        "# функция для сортировки по категориям"
      ]
    },
    {
      "cell_type": "code",
      "execution_count": 68,
      "id": "47dbda5b",
      "metadata": {
        "id": "47dbda5b"
      },
      "outputs": [],
      "source": [
        "data['purpose_category'] = data['purpose'].apply(purpose_category_function)\n",
        "# добавим колонку категорий в таблицу data применив функцию purpose_category_function"
      ]
    },
    {
      "cell_type": "code",
      "execution_count": 69,
      "id": "95141696",
      "metadata": {
        "colab": {
          "base_uri": "https://localhost:8080/"
        },
        "id": "95141696",
        "outputId": "86b81ed4-338e-4d4a-a2d0-baf26aaf06da"
      },
      "outputs": [
        {
          "output_type": "stream",
          "name": "stdout",
          "text": [
            "операции с недвижимостью    10727\n",
            "операции с автомобилем       4269\n",
            "получение образования        3980\n",
            "проведение свадьбы           2301\n",
            "Name: purpose_category, dtype: int64\n"
          ]
        }
      ],
      "source": [
        "print(data['purpose_category'].value_counts())\n",
        "# проверим сколько категорий мы получили "
      ]
    },
    {
      "cell_type": "markdown",
      "id": "0bd4c7cc",
      "metadata": {
        "id": "0bd4c7cc"
      },
      "source": [
        "## 3 Ответы на вопросы."
      ]
    },
    {
      "cell_type": "markdown",
      "id": "8263f414",
      "metadata": {
        "id": "8263f414"
      },
      "source": [
        "### 3.1 Вопрос 1\n",
        "\n",
        "Есть ли зависимость между количеством детей и возвратом кредита в срок?"
      ]
    },
    {
      "cell_type": "code",
      "execution_count": 70,
      "id": "3b89d3f2",
      "metadata": {
        "id": "3b89d3f2"
      },
      "outputs": [],
      "source": [
        "data = data.drop(data[data['children'] == 5].index)\n",
        "# удалим статистически не значимые данные где детей 5, \n",
        "# иначе таблички получаются не красивыми, а выводы не отражают реальности"
      ]
    },
    {
      "cell_type": "code",
      "execution_count": 71,
      "id": "044ad676",
      "metadata": {
        "id": "044ad676"
      },
      "outputs": [],
      "source": [
        "data = data.reset_index(drop=True)\n",
        "# сбросим индекс"
      ]
    },
    {
      "cell_type": "code",
      "execution_count": 72,
      "id": "24a198a8",
      "metadata": {
        "id": "24a198a8"
      },
      "outputs": [],
      "source": [
        "children_pivot = 100 - (data.pivot_table(index='children', values='debt') * 100).sort_values(by='children')\n",
        "children_pivot.columns = ['return_percent']\n",
        "# посчитаем с помощью сводной таблицы процент возврата в зависимости от колличества детей"
      ]
    },
    {
      "cell_type": "code",
      "execution_count": 73,
      "id": "a0522a73",
      "metadata": {
        "colab": {
          "base_uri": "https://localhost:8080/",
          "height": 300
        },
        "id": "a0522a73",
        "outputId": "28e71e14-7b14-40db-8974-e85a5870f6f2"
      },
      "outputs": [
        {
          "output_type": "execute_result",
          "data": {
            "text/plain": [
              "<matplotlib.axes._subplots.AxesSubplot at 0x7eff38dc8050>"
            ]
          },
          "metadata": {},
          "execution_count": 73
        },
        {
          "output_type": "display_data",
          "data": {
            "text/plain": [
              "<Figure size 432x288 with 1 Axes>"
            ],
            "image/png": "[encoded data removed]"
          },
          "metadata": {
            "needs_background": "light"
          }
        }
      ],
      "source": [
        "children_pivot.plot(xlim=(-1, 5), ylim=(90, 93), style='o-', grid=True)\n",
        "# выведем диаграмму зависимсоти задолженности к колличеству детей"
      ]
    },
    {
      "cell_type": "markdown",
      "id": "2e0bddce",
      "metadata": {
        "id": "2e0bddce"
      },
      "source": [
        "#### Ответ на вопрос 1:\n",
        "\"Есть ли зависимость между количеством детей и возвратом кредита в срок?\"\n",
        "\n",
        "Да, такая зависимость есть: \n",
        "    \n",
        "    - Семьи где 0 детей, чаще всех возвращают кредит в срок - 92.45%. \n",
        "    - Семьи где 4 детей, хуже всех возвращают кредит в срок - 90.24%."
      ]
    },
    {
      "cell_type": "markdown",
      "id": "70aadf18",
      "metadata": {
        "id": "70aadf18"
      },
      "source": [
        "### 3.2 Вопрос 2\n",
        "\n",
        "Есть ли зависимость между семейным положением и возвратом кредита в срок?"
      ]
    },
    {
      "cell_type": "code",
      "execution_count": 74,
      "id": "cb6af3de",
      "metadata": {
        "colab": {
          "base_uri": "https://localhost:8080/",
          "height": 206
        },
        "id": "cb6af3de",
        "outputId": "da2c2f89-41f5-4fae-d48d-523f20ff32f3"
      },
      "outputs": [
        {
          "output_type": "execute_result",
          "data": {
            "text/plain": [
              "   family_status_id      debt    percent          family_status\n",
              "2                 2  0.065263  93.473684         вдовец / вдова\n",
              "3                 3  0.071006  92.899408              в разводе\n",
              "0                 0  0.075521  92.447895        женат / замужем\n",
              "1                 1  0.093074  90.692588       гражданский брак\n",
              "4                 4  0.097666  90.233393  не женат / не замужем"
            ],
            "text/html": [
              "\n",
              "  <div id=\"df-d6f8e033-e64a-4bdd-91cb-17428ff6b079\">\n",
              "    <div class=\"colab-df-container\">\n",
              "      <div>\n",
              "<style scoped>\n",
              "    .dataframe tbody tr th:only-of-type {\n",
              "        vertical-align: middle;\n",
              "    }\n",
              "\n",
              "    .dataframe tbody tr th {\n",
              "        vertical-align: top;\n",
              "    }\n",
              "\n",
              "    .dataframe thead th {\n",
              "        text-align: right;\n",
              "    }\n",
              "</style>\n",
              "<table border=\"1\" class=\"dataframe\">\n",
              "  <thead>\n",
              "    <tr style=\"text-align: right;\">\n",
              "      <th></th>\n",
              "      <th>family_status_id</th>\n",
              "      <th>debt</th>\n",
              "      <th>percent</th>\n",
              "      <th>family_status</th>\n",
              "    </tr>\n",
              "  </thead>\n",
              "  <tbody>\n",
              "    <tr>\n",
              "      <th>2</th>\n",
              "      <td>2</td>\n",
              "      <td>0.065263</td>\n",
              "      <td>93.473684</td>\n",
              "      <td>вдовец / вдова</td>\n",
              "    </tr>\n",
              "    <tr>\n",
              "      <th>3</th>\n",
              "      <td>3</td>\n",
              "      <td>0.071006</td>\n",
              "      <td>92.899408</td>\n",
              "      <td>в разводе</td>\n",
              "    </tr>\n",
              "    <tr>\n",
              "      <th>0</th>\n",
              "      <td>0</td>\n",
              "      <td>0.075521</td>\n",
              "      <td>92.447895</td>\n",
              "      <td>женат / замужем</td>\n",
              "    </tr>\n",
              "    <tr>\n",
              "      <th>1</th>\n",
              "      <td>1</td>\n",
              "      <td>0.093074</td>\n",
              "      <td>90.692588</td>\n",
              "      <td>гражданский брак</td>\n",
              "    </tr>\n",
              "    <tr>\n",
              "      <th>4</th>\n",
              "      <td>4</td>\n",
              "      <td>0.097666</td>\n",
              "      <td>90.233393</td>\n",
              "      <td>не женат / не замужем</td>\n",
              "    </tr>\n",
              "  </tbody>\n",
              "</table>\n",
              "</div>\n",
              "      <button class=\"colab-df-convert\" onclick=\"convertToInteractive('df-d6f8e033-e64a-4bdd-91cb-17428ff6b079')\"\n",
              "              title=\"Convert this dataframe to an interactive table.\"\n",
              "              style=\"display:none;\">\n",
              "        \n",
              "  <svg xmlns=\"http://www.w3.org/2000/svg\" height=\"24px\"viewBox=\"0 0 24 24\"\n",
              "       width=\"24px\">\n",
              "    <path d=\"M0 0h24v24H0V0z\" fill=\"none\"/>\n",
              "    <path d=\"M18.56 5.44l.94 2.06.94-2.06 2.06-.94-2.06-.94-.94-2.06-.94 2.06-2.06.94zm-11 1L8.5 8.5l.94-2.06 2.06-.94-2.06-.94L8.5 2.5l-.94 2.06-2.06.94zm10 10l.94 2.06.94-2.06 2.06-.94-2.06-.94-.94-2.06-.94 2.06-2.06.94z\"/><path d=\"M17.41 7.96l-1.37-1.37c-.4-.4-.92-.59-1.43-.59-.52 0-1.04.2-1.43.59L10.3 9.45l-7.72 7.72c-.78.78-.78 2.05 0 2.83L4 21.41c.39.39.9.59 1.41.59.51 0 1.02-.2 1.41-.59l7.78-7.78 2.81-2.81c.8-.78.8-2.07 0-2.86zM5.41 20L4 18.59l7.72-7.72 1.47 1.35L5.41 20z\"/>\n",
              "  </svg>\n",
              "      </button>\n",
              "      \n",
              "  <style>\n",
              "    .colab-df-container {\n",
              "      display:flex;\n",
              "      flex-wrap:wrap;\n",
              "      gap: 12px;\n",
              "    }\n",
              "\n",
              "    .colab-df-convert {\n",
              "      background-color: #E8F0FE;\n",
              "      border: none;\n",
              "      border-radius: 50%;\n",
              "      cursor: pointer;\n",
              "      display: none;\n",
              "      fill: #1967D2;\n",
              "      height: 32px;\n",
              "      padding: 0 0 0 0;\n",
              "      width: 32px;\n",
              "    }\n",
              "\n",
              "    .colab-df-convert:hover {\n",
              "      background-color: #E2EBFA;\n",
              "      box-shadow: 0px 1px 2px rgba(60, 64, 67, 0.3), 0px 1px 3px 1px rgba(60, 64, 67, 0.15);\n",
              "      fill: #174EA6;\n",
              "    }\n",
              "\n",
              "    [theme=dark] .colab-df-convert {\n",
              "      background-color: #3B4455;\n",
              "      fill: #D2E3FC;\n",
              "    }\n",
              "\n",
              "    [theme=dark] .colab-df-convert:hover {\n",
              "      background-color: #434B5C;\n",
              "      box-shadow: 0px 1px 3px 1px rgba(0, 0, 0, 0.15);\n",
              "      filter: drop-shadow(0px 1px 2px rgba(0, 0, 0, 0.3));\n",
              "      fill: #FFFFFF;\n",
              "    }\n",
              "  </style>\n",
              "\n",
              "      <script>\n",
              "        const buttonEl =\n",
              "          document.querySelector('#df-d6f8e033-e64a-4bdd-91cb-17428ff6b079 button.colab-df-convert');\n",
              "        buttonEl.style.display =\n",
              "          google.colab.kernel.accessAllowed ? 'block' : 'none';\n",
              "\n",
              "        async function convertToInteractive(key) {\n",
              "          const element = document.querySelector('#df-d6f8e033-e64a-4bdd-91cb-17428ff6b079');\n",
              "          const dataTable =\n",
              "            await google.colab.kernel.invokeFunction('convertToInteractive',\n",
              "                                                     [key], {});\n",
              "          if (!dataTable) return;\n",
              "\n",
              "          const docLinkHtml = 'Like what you see? Visit the ' +\n",
              "            '<a target=\"_blank\" href=https://colab.research.google.com/notebooks/data_table.ipynb>data table notebook</a>'\n",
              "            + ' to learn more about interactive tables.';\n",
              "          element.innerHTML = '';\n",
              "          dataTable['output_type'] = 'display_data';\n",
              "          await google.colab.output.renderOutput(dataTable, element);\n",
              "          const docLink = document.createElement('div');\n",
              "          docLink.innerHTML = docLinkHtml;\n",
              "          element.appendChild(docLink);\n",
              "        }\n",
              "      </script>\n",
              "    </div>\n",
              "  </div>\n",
              "  "
            ]
          },
          "metadata": {},
          "execution_count": 74
        }
      ],
      "source": [
        "family_status_pivot = data.pivot_table(index='family_status_id', values=['debt'])\n",
        "family_status_pivot['percent'] = 100 - family_status_pivot * 100\n",
        "family_status_pivot =(\n",
        "    family_status_pivot.merge(family_dict, on='family_status_id').sort_values(by='percent', ascending=False)\n",
        ")\n",
        "family_status_pivot\n",
        "# построим сводную таблицу, соеденим со словарем family_dict и \n",
        "# посчитаем процент возварта в зависимости от семейного положения."
      ]
    },
    {
      "cell_type": "code",
      "execution_count": 75,
      "id": "c0519549",
      "metadata": {
        "id": "c0519549"
      },
      "outputs": [],
      "source": [
        "common_info = data.merge(family_dict, on='family_status_id')"
      ]
    },
    {
      "cell_type": "code",
      "execution_count": 76,
      "id": "386ce3a7",
      "metadata": {
        "colab": {
          "base_uri": "https://localhost:8080/",
          "height": 206
        },
        "id": "386ce3a7",
        "outputId": "352c29b8-c179-4c39-e6df-6a5becd76047"
      },
      "outputs": [
        {
          "output_type": "execute_result",
          "data": {
            "text/plain": [
              "   family_status_id          family_status\n",
              "0                 0        женат / замужем\n",
              "1                 1       гражданский брак\n",
              "2                 2         вдовец / вдова\n",
              "3                 3              в разводе\n",
              "4                 4  не женат / не замужем"
            ],
            "text/html": [
              "\n",
              "  <div id=\"df-05cb6ba7-298d-4644-aef3-32cdc0255c70\">\n",
              "    <div class=\"colab-df-container\">\n",
              "      <div>\n",
              "<style scoped>\n",
              "    .dataframe tbody tr th:only-of-type {\n",
              "        vertical-align: middle;\n",
              "    }\n",
              "\n",
              "    .dataframe tbody tr th {\n",
              "        vertical-align: top;\n",
              "    }\n",
              "\n",
              "    .dataframe thead th {\n",
              "        text-align: right;\n",
              "    }\n",
              "</style>\n",
              "<table border=\"1\" class=\"dataframe\">\n",
              "  <thead>\n",
              "    <tr style=\"text-align: right;\">\n",
              "      <th></th>\n",
              "      <th>family_status_id</th>\n",
              "      <th>family_status</th>\n",
              "    </tr>\n",
              "  </thead>\n",
              "  <tbody>\n",
              "    <tr>\n",
              "      <th>0</th>\n",
              "      <td>0</td>\n",
              "      <td>женат / замужем</td>\n",
              "    </tr>\n",
              "    <tr>\n",
              "      <th>1</th>\n",
              "      <td>1</td>\n",
              "      <td>гражданский брак</td>\n",
              "    </tr>\n",
              "    <tr>\n",
              "      <th>2</th>\n",
              "      <td>2</td>\n",
              "      <td>вдовец / вдова</td>\n",
              "    </tr>\n",
              "    <tr>\n",
              "      <th>3</th>\n",
              "      <td>3</td>\n",
              "      <td>в разводе</td>\n",
              "    </tr>\n",
              "    <tr>\n",
              "      <th>4</th>\n",
              "      <td>4</td>\n",
              "      <td>не женат / не замужем</td>\n",
              "    </tr>\n",
              "  </tbody>\n",
              "</table>\n",
              "</div>\n",
              "      <button class=\"colab-df-convert\" onclick=\"convertToInteractive('df-05cb6ba7-298d-4644-aef3-32cdc0255c70')\"\n",
              "              title=\"Convert this dataframe to an interactive table.\"\n",
              "              style=\"display:none;\">\n",
              "        \n",
              "  <svg xmlns=\"http://www.w3.org/2000/svg\" height=\"24px\"viewBox=\"0 0 24 24\"\n",
              "       width=\"24px\">\n",
              "    <path d=\"M0 0h24v24H0V0z\" fill=\"none\"/>\n",
              "    <path d=\"M18.56 5.44l.94 2.06.94-2.06 2.06-.94-2.06-.94-.94-2.06-.94 2.06-2.06.94zm-11 1L8.5 8.5l.94-2.06 2.06-.94-2.06-.94L8.5 2.5l-.94 2.06-2.06.94zm10 10l.94 2.06.94-2.06 2.06-.94-2.06-.94-.94-2.06-.94 2.06-2.06.94z\"/><path d=\"M17.41 7.96l-1.37-1.37c-.4-.4-.92-.59-1.43-.59-.52 0-1.04.2-1.43.59L10.3 9.45l-7.72 7.72c-.78.78-.78 2.05 0 2.83L4 21.41c.39.39.9.59 1.41.59.51 0 1.02-.2 1.41-.59l7.78-7.78 2.81-2.81c.8-.78.8-2.07 0-2.86zM5.41 20L4 18.59l7.72-7.72 1.47 1.35L5.41 20z\"/>\n",
              "  </svg>\n",
              "      </button>\n",
              "      \n",
              "  <style>\n",
              "    .colab-df-container {\n",
              "      display:flex;\n",
              "      flex-wrap:wrap;\n",
              "      gap: 12px;\n",
              "    }\n",
              "\n",
              "    .colab-df-convert {\n",
              "      background-color: #E8F0FE;\n",
              "      border: none;\n",
              "      border-radius: 50%;\n",
              "      cursor: pointer;\n",
              "      display: none;\n",
              "      fill: #1967D2;\n",
              "      height: 32px;\n",
              "      padding: 0 0 0 0;\n",
              "      width: 32px;\n",
              "    }\n",
              "\n",
              "    .colab-df-convert:hover {\n",
              "      background-color: #E2EBFA;\n",
              "      box-shadow: 0px 1px 2px rgba(60, 64, 67, 0.3), 0px 1px 3px 1px rgba(60, 64, 67, 0.15);\n",
              "      fill: #174EA6;\n",
              "    }\n",
              "\n",
              "    [theme=dark] .colab-df-convert {\n",
              "      background-color: #3B4455;\n",
              "      fill: #D2E3FC;\n",
              "    }\n",
              "\n",
              "    [theme=dark] .colab-df-convert:hover {\n",
              "      background-color: #434B5C;\n",
              "      box-shadow: 0px 1px 3px 1px rgba(0, 0, 0, 0.15);\n",
              "      filter: drop-shadow(0px 1px 2px rgba(0, 0, 0, 0.3));\n",
              "      fill: #FFFFFF;\n",
              "    }\n",
              "  </style>\n",
              "\n",
              "      <script>\n",
              "        const buttonEl =\n",
              "          document.querySelector('#df-05cb6ba7-298d-4644-aef3-32cdc0255c70 button.colab-df-convert');\n",
              "        buttonEl.style.display =\n",
              "          google.colab.kernel.accessAllowed ? 'block' : 'none';\n",
              "\n",
              "        async function convertToInteractive(key) {\n",
              "          const element = document.querySelector('#df-05cb6ba7-298d-4644-aef3-32cdc0255c70');\n",
              "          const dataTable =\n",
              "            await google.colab.kernel.invokeFunction('convertToInteractive',\n",
              "                                                     [key], {});\n",
              "          if (!dataTable) return;\n",
              "\n",
              "          const docLinkHtml = 'Like what you see? Visit the ' +\n",
              "            '<a target=\"_blank\" href=https://colab.research.google.com/notebooks/data_table.ipynb>data table notebook</a>'\n",
              "            + ' to learn more about interactive tables.';\n",
              "          element.innerHTML = '';\n",
              "          dataTable['output_type'] = 'display_data';\n",
              "          await google.colab.output.renderOutput(dataTable, element);\n",
              "          const docLink = document.createElement('div');\n",
              "          docLink.innerHTML = docLinkHtml;\n",
              "          element.appendChild(docLink);\n",
              "        }\n",
              "      </script>\n",
              "    </div>\n",
              "  </div>\n",
              "  "
            ]
          },
          "metadata": {},
          "execution_count": 76
        }
      ],
      "source": [
        "family_dict"
      ]
    },
    {
      "cell_type": "code",
      "execution_count": 77,
      "id": "cf7c3ce7",
      "metadata": {
        "id": "cf7c3ce7"
      },
      "outputs": [],
      "source": [
        "common_info = common_info.merge(education_dict, on='education_id')"
      ]
    },
    {
      "cell_type": "code",
      "execution_count": 78,
      "id": "32e87286",
      "metadata": {
        "colab": {
          "base_uri": "https://localhost:8080/",
          "height": 237
        },
        "id": "32e87286",
        "outputId": "5600cb4e-ec6e-47d7-c199-f7b474ceac56"
      },
      "outputs": [
        {
          "output_type": "display_data",
          "data": {
            "text/plain": [
              "                       Всего кредитополучателей  Всего должников  \\\n",
              "family_status                                                      \n",
              "в разводе                                  1183               84   \n",
              "вдовец / вдова                              950               62   \n",
              "гражданский брак                           4115              383   \n",
              "женат / замужем                           12235              924   \n",
              "не женат / не замужем                      2785              272   \n",
              "\n",
              "                       Доля должников  \n",
              "family_status                          \n",
              "в разводе                    0.071006  \n",
              "вдовец / вдова               0.065263  \n",
              "гражданский брак             0.093074  \n",
              "женат / замужем              0.075521  \n",
              "не женат / не замужем        0.097666  "
            ],
            "text/html": [
              "\n",
              "  <div id=\"df-5d777938-51d1-4a25-a51d-bad9e515c040\">\n",
              "    <div class=\"colab-df-container\">\n",
              "      <div>\n",
              "<style scoped>\n",
              "    .dataframe tbody tr th:only-of-type {\n",
              "        vertical-align: middle;\n",
              "    }\n",
              "\n",
              "    .dataframe tbody tr th {\n",
              "        vertical-align: top;\n",
              "    }\n",
              "\n",
              "    .dataframe thead th {\n",
              "        text-align: right;\n",
              "    }\n",
              "</style>\n",
              "<table border=\"1\" class=\"dataframe\">\n",
              "  <thead>\n",
              "    <tr style=\"text-align: right;\">\n",
              "      <th></th>\n",
              "      <th>Всего кредитополучателей</th>\n",
              "      <th>Всего должников</th>\n",
              "      <th>Доля должников</th>\n",
              "    </tr>\n",
              "    <tr>\n",
              "      <th>family_status</th>\n",
              "      <th></th>\n",
              "      <th></th>\n",
              "      <th></th>\n",
              "    </tr>\n",
              "  </thead>\n",
              "  <tbody>\n",
              "    <tr>\n",
              "      <th>в разводе</th>\n",
              "      <td>1183</td>\n",
              "      <td>84</td>\n",
              "      <td>0.071006</td>\n",
              "    </tr>\n",
              "    <tr>\n",
              "      <th>вдовец / вдова</th>\n",
              "      <td>950</td>\n",
              "      <td>62</td>\n",
              "      <td>0.065263</td>\n",
              "    </tr>\n",
              "    <tr>\n",
              "      <th>гражданский брак</th>\n",
              "      <td>4115</td>\n",
              "      <td>383</td>\n",
              "      <td>0.093074</td>\n",
              "    </tr>\n",
              "    <tr>\n",
              "      <th>женат / замужем</th>\n",
              "      <td>12235</td>\n",
              "      <td>924</td>\n",
              "      <td>0.075521</td>\n",
              "    </tr>\n",
              "    <tr>\n",
              "      <th>не женат / не замужем</th>\n",
              "      <td>2785</td>\n",
              "      <td>272</td>\n",
              "      <td>0.097666</td>\n",
              "    </tr>\n",
              "  </tbody>\n",
              "</table>\n",
              "</div>\n",
              "      <button class=\"colab-df-convert\" onclick=\"convertToInteractive('df-5d777938-51d1-4a25-a51d-bad9e515c040')\"\n",
              "              title=\"Convert this dataframe to an interactive table.\"\n",
              "              style=\"display:none;\">\n",
              "        \n",
              "  <svg xmlns=\"http://www.w3.org/2000/svg\" height=\"24px\"viewBox=\"0 0 24 24\"\n",
              "       width=\"24px\">\n",
              "    <path d=\"M0 0h24v24H0V0z\" fill=\"none\"/>\n",
              "    <path d=\"M18.56 5.44l.94 2.06.94-2.06 2.06-.94-2.06-.94-.94-2.06-.94 2.06-2.06.94zm-11 1L8.5 8.5l.94-2.06 2.06-.94-2.06-.94L8.5 2.5l-.94 2.06-2.06.94zm10 10l.94 2.06.94-2.06 2.06-.94-2.06-.94-.94-2.06-.94 2.06-2.06.94z\"/><path d=\"M17.41 7.96l-1.37-1.37c-.4-.4-.92-.59-1.43-.59-.52 0-1.04.2-1.43.59L10.3 9.45l-7.72 7.72c-.78.78-.78 2.05 0 2.83L4 21.41c.39.39.9.59 1.41.59.51 0 1.02-.2 1.41-.59l7.78-7.78 2.81-2.81c.8-.78.8-2.07 0-2.86zM5.41 20L4 18.59l7.72-7.72 1.47 1.35L5.41 20z\"/>\n",
              "  </svg>\n",
              "      </button>\n",
              "      \n",
              "  <style>\n",
              "    .colab-df-container {\n",
              "      display:flex;\n",
              "      flex-wrap:wrap;\n",
              "      gap: 12px;\n",
              "    }\n",
              "\n",
              "    .colab-df-convert {\n",
              "      background-color: #E8F0FE;\n",
              "      border: none;\n",
              "      border-radius: 50%;\n",
              "      cursor: pointer;\n",
              "      display: none;\n",
              "      fill: #1967D2;\n",
              "      height: 32px;\n",
              "      padding: 0 0 0 0;\n",
              "      width: 32px;\n",
              "    }\n",
              "\n",
              "    .colab-df-convert:hover {\n",
              "      background-color: #E2EBFA;\n",
              "      box-shadow: 0px 1px 2px rgba(60, 64, 67, 0.3), 0px 1px 3px 1px rgba(60, 64, 67, 0.15);\n",
              "      fill: #174EA6;\n",
              "    }\n",
              "\n",
              "    [theme=dark] .colab-df-convert {\n",
              "      background-color: #3B4455;\n",
              "      fill: #D2E3FC;\n",
              "    }\n",
              "\n",
              "    [theme=dark] .colab-df-convert:hover {\n",
              "      background-color: #434B5C;\n",
              "      box-shadow: 0px 1px 3px 1px rgba(0, 0, 0, 0.15);\n",
              "      filter: drop-shadow(0px 1px 2px rgba(0, 0, 0, 0.3));\n",
              "      fill: #FFFFFF;\n",
              "    }\n",
              "  </style>\n",
              "\n",
              "      <script>\n",
              "        const buttonEl =\n",
              "          document.querySelector('#df-5d777938-51d1-4a25-a51d-bad9e515c040 button.colab-df-convert');\n",
              "        buttonEl.style.display =\n",
              "          google.colab.kernel.accessAllowed ? 'block' : 'none';\n",
              "\n",
              "        async function convertToInteractive(key) {\n",
              "          const element = document.querySelector('#df-5d777938-51d1-4a25-a51d-bad9e515c040');\n",
              "          const dataTable =\n",
              "            await google.colab.kernel.invokeFunction('convertToInteractive',\n",
              "                                                     [key], {});\n",
              "          if (!dataTable) return;\n",
              "\n",
              "          const docLinkHtml = 'Like what you see? Visit the ' +\n",
              "            '<a target=\"_blank\" href=https://colab.research.google.com/notebooks/data_table.ipynb>data table notebook</a>'\n",
              "            + ' to learn more about interactive tables.';\n",
              "          element.innerHTML = '';\n",
              "          dataTable['output_type'] = 'display_data';\n",
              "          await google.colab.output.renderOutput(dataTable, element);\n",
              "          const docLink = document.createElement('div');\n",
              "          docLink.innerHTML = docLinkHtml;\n",
              "          element.appendChild(docLink);\n",
              "        }\n",
              "      </script>\n",
              "    </div>\n",
              "  </div>\n",
              "  "
            ]
          },
          "metadata": {}
        }
      ],
      "source": [
        "    data_fa = common_info.pivot_table(index='family_status', values='debt', aggfunc=['count', 'sum', 'mean'])\n",
        "    data_fa.columns = ['Всего кредитополучателей', 'Всего должников', 'Доля должников']\n",
        "    display(data_fa)"
      ]
    },
    {
      "cell_type": "markdown",
      "id": "1df9b72a",
      "metadata": {
        "id": "1df9b72a"
      },
      "source": [
        "************"
      ]
    },
    {
      "cell_type": "code",
      "execution_count": 79,
      "id": "305a5527",
      "metadata": {
        "colab": {
          "base_uri": "https://localhost:8080/",
          "height": 296
        },
        "id": "305a5527",
        "outputId": "ed12636d-be15-4033-902d-47bcf4613254"
      },
      "outputs": [
        {
          "output_type": "execute_result",
          "data": {
            "text/plain": [
              "<matplotlib.axes._subplots.AxesSubplot at 0x7eff38c99150>"
            ]
          },
          "metadata": {},
          "execution_count": 79
        },
        {
          "output_type": "display_data",
          "data": {
            "text/plain": [
              "<Figure size 432x288 with 1 Axes>"
            ],
            "image/png": "[encoded data removed]"
          },
          "metadata": {
            "needs_background": "light"
          }
        }
      ],
      "source": [
        "seaborn.barplot(x=family_status_pivot['percent'], y=family_status_pivot['family_status'])\n",
        "# выведем диаграмму"
      ]
    },
    {
      "cell_type": "markdown",
      "id": "02e06980",
      "metadata": {
        "id": "02e06980"
      },
      "source": [
        "#### Ответ на вопрос 2:\n",
        "\"Есть ли зависимость между семейным положением и возвратом кредита в срок?\"\n",
        "\n",
        "Да, такая зависимость есть:\n",
        "\n",
        "    - Больше всех возвращают, те кто потерял супруга - 93.47%\n",
        "    - Меньше всех возвращают клиенты не женатые или не замужние - 90.23%\n",
        "    \n",
        "В целом разница между группами по типу семейного пложения, в пределах 1% - 2%"
      ]
    },
    {
      "cell_type": "markdown",
      "id": "b9e50497",
      "metadata": {
        "id": "b9e50497"
      },
      "source": [
        "### 3.3 Вопрос 3\n",
        "\n",
        "Есть ли зависимость между уровнем дохода и возвратом кредита в срок?"
      ]
    },
    {
      "cell_type": "code",
      "execution_count": 80,
      "id": "415d7bbd",
      "metadata": {
        "colab": {
          "base_uri": "https://localhost:8080/",
          "height": 206
        },
        "id": "415d7bbd",
        "outputId": "409eb669-4430-4532-cc1a-8d642b6766ba"
      },
      "outputs": [
        {
          "output_type": "execute_result",
          "data": {
            "text/plain": [
              "  total_income_category       debt\n",
              "3                     D  93.948127\n",
              "1                     B  92.925852\n",
              "0                     A  92.000000\n",
              "2                     C  91.519768\n",
              "4                     E  90.909091"
            ],
            "text/html": [
              "\n",
              "  <div id=\"df-9195ed0b-955f-469f-b9a3-4e39a20e5c57\">\n",
              "    <div class=\"colab-df-container\">\n",
              "      <div>\n",
              "<style scoped>\n",
              "    .dataframe tbody tr th:only-of-type {\n",
              "        vertical-align: middle;\n",
              "    }\n",
              "\n",
              "    .dataframe tbody tr th {\n",
              "        vertical-align: top;\n",
              "    }\n",
              "\n",
              "    .dataframe thead th {\n",
              "        text-align: right;\n",
              "    }\n",
              "</style>\n",
              "<table border=\"1\" class=\"dataframe\">\n",
              "  <thead>\n",
              "    <tr style=\"text-align: right;\">\n",
              "      <th></th>\n",
              "      <th>total_income_category</th>\n",
              "      <th>debt</th>\n",
              "    </tr>\n",
              "  </thead>\n",
              "  <tbody>\n",
              "    <tr>\n",
              "      <th>3</th>\n",
              "      <td>D</td>\n",
              "      <td>93.948127</td>\n",
              "    </tr>\n",
              "    <tr>\n",
              "      <th>1</th>\n",
              "      <td>B</td>\n",
              "      <td>92.925852</td>\n",
              "    </tr>\n",
              "    <tr>\n",
              "      <th>0</th>\n",
              "      <td>A</td>\n",
              "      <td>92.000000</td>\n",
              "    </tr>\n",
              "    <tr>\n",
              "      <th>2</th>\n",
              "      <td>C</td>\n",
              "      <td>91.519768</td>\n",
              "    </tr>\n",
              "    <tr>\n",
              "      <th>4</th>\n",
              "      <td>E</td>\n",
              "      <td>90.909091</td>\n",
              "    </tr>\n",
              "  </tbody>\n",
              "</table>\n",
              "</div>\n",
              "      <button class=\"colab-df-convert\" onclick=\"convertToInteractive('df-9195ed0b-955f-469f-b9a3-4e39a20e5c57')\"\n",
              "              title=\"Convert this dataframe to an interactive table.\"\n",
              "              style=\"display:none;\">\n",
              "        \n",
              "  <svg xmlns=\"http://www.w3.org/2000/svg\" height=\"24px\"viewBox=\"0 0 24 24\"\n",
              "       width=\"24px\">\n",
              "    <path d=\"M0 0h24v24H0V0z\" fill=\"none\"/>\n",
              "    <path d=\"M18.56 5.44l.94 2.06.94-2.06 2.06-.94-2.06-.94-.94-2.06-.94 2.06-2.06.94zm-11 1L8.5 8.5l.94-2.06 2.06-.94-2.06-.94L8.5 2.5l-.94 2.06-2.06.94zm10 10l.94 2.06.94-2.06 2.06-.94-2.06-.94-.94-2.06-.94 2.06-2.06.94z\"/><path d=\"M17.41 7.96l-1.37-1.37c-.4-.4-.92-.59-1.43-.59-.52 0-1.04.2-1.43.59L10.3 9.45l-7.72 7.72c-.78.78-.78 2.05 0 2.83L4 21.41c.39.39.9.59 1.41.59.51 0 1.02-.2 1.41-.59l7.78-7.78 2.81-2.81c.8-.78.8-2.07 0-2.86zM5.41 20L4 18.59l7.72-7.72 1.47 1.35L5.41 20z\"/>\n",
              "  </svg>\n",
              "      </button>\n",
              "      \n",
              "  <style>\n",
              "    .colab-df-container {\n",
              "      display:flex;\n",
              "      flex-wrap:wrap;\n",
              "      gap: 12px;\n",
              "    }\n",
              "\n",
              "    .colab-df-convert {\n",
              "      background-color: #E8F0FE;\n",
              "      border: none;\n",
              "      border-radius: 50%;\n",
              "      cursor: pointer;\n",
              "      display: none;\n",
              "      fill: #1967D2;\n",
              "      height: 32px;\n",
              "      padding: 0 0 0 0;\n",
              "      width: 32px;\n",
              "    }\n",
              "\n",
              "    .colab-df-convert:hover {\n",
              "      background-color: #E2EBFA;\n",
              "      box-shadow: 0px 1px 2px rgba(60, 64, 67, 0.3), 0px 1px 3px 1px rgba(60, 64, 67, 0.15);\n",
              "      fill: #174EA6;\n",
              "    }\n",
              "\n",
              "    [theme=dark] .colab-df-convert {\n",
              "      background-color: #3B4455;\n",
              "      fill: #D2E3FC;\n",
              "    }\n",
              "\n",
              "    [theme=dark] .colab-df-convert:hover {\n",
              "      background-color: #434B5C;\n",
              "      box-shadow: 0px 1px 3px 1px rgba(0, 0, 0, 0.15);\n",
              "      filter: drop-shadow(0px 1px 2px rgba(0, 0, 0, 0.3));\n",
              "      fill: #FFFFFF;\n",
              "    }\n",
              "  </style>\n",
              "\n",
              "      <script>\n",
              "        const buttonEl =\n",
              "          document.querySelector('#df-9195ed0b-955f-469f-b9a3-4e39a20e5c57 button.colab-df-convert');\n",
              "        buttonEl.style.display =\n",
              "          google.colab.kernel.accessAllowed ? 'block' : 'none';\n",
              "\n",
              "        async function convertToInteractive(key) {\n",
              "          const element = document.querySelector('#df-9195ed0b-955f-469f-b9a3-4e39a20e5c57');\n",
              "          const dataTable =\n",
              "            await google.colab.kernel.invokeFunction('convertToInteractive',\n",
              "                                                     [key], {});\n",
              "          if (!dataTable) return;\n",
              "\n",
              "          const docLinkHtml = 'Like what you see? Visit the ' +\n",
              "            '<a target=\"_blank\" href=https://colab.research.google.com/notebooks/data_table.ipynb>data table notebook</a>'\n",
              "            + ' to learn more about interactive tables.';\n",
              "          element.innerHTML = '';\n",
              "          dataTable['output_type'] = 'display_data';\n",
              "          await google.colab.output.renderOutput(dataTable, element);\n",
              "          const docLink = document.createElement('div');\n",
              "          docLink.innerHTML = docLinkHtml;\n",
              "          element.appendChild(docLink);\n",
              "        }\n",
              "      </script>\n",
              "    </div>\n",
              "  </div>\n",
              "  "
            ]
          },
          "metadata": {},
          "execution_count": 80
        }
      ],
      "source": [
        "income_category_percent =(\n",
        "    (100 - data.pivot_table(index='total_income_category', values='debt') * 100)\n",
        "    .reset_index()\n",
        "    .sort_values(by='debt', ascending=False)\n",
        ")\n",
        "income_category_percent\n",
        "# делаем сводную таблицу, считаем процент возврата по категориям дохода, сортируем по убыванию,\n",
        "# сбрасываем индекс чтобы получить столбец категорий и обратиться к нему в диагремме"
      ]
    },
    {
      "cell_type": "code",
      "execution_count": 81,
      "id": "91ba280f",
      "metadata": {
        "colab": {
          "base_uri": "https://localhost:8080/",
          "height": 296
        },
        "id": "91ba280f",
        "outputId": "ed42727e-82ad-41de-9be1-050a705bc748"
      },
      "outputs": [
        {
          "output_type": "execute_result",
          "data": {
            "text/plain": [
              "<matplotlib.axes._subplots.AxesSubplot at 0x7eff387986d0>"
            ]
          },
          "metadata": {},
          "execution_count": 81
        },
        {
          "output_type": "display_data",
          "data": {
            "text/plain": [
              "<Figure size 432x288 with 1 Axes>"
            ],
            "image/png": "[encoded data removed]"
          },
          "metadata": {
            "needs_background": "light"
          }
        }
      ],
      "source": [
        "seaborn.barplot(x=income_category_percent['debt'], y=income_category_percent['total_income_category'])\n",
        "# сделаем диграмму процент возврата кредита в срок в зависимости от дохода"
      ]
    },
    {
      "cell_type": "markdown",
      "id": "269a9d97",
      "metadata": {
        "id": "269a9d97"
      },
      "source": [
        "#### Ответ на вопрос 3:\n",
        "\"Есть ли зависимость между уровнем дохода и возвратом кредита в срок?\"\n",
        "\n",
        "Да, такая зависимость есть:\n",
        "\n",
        "    - Больше всех возвращают клиенты чей доход от 50 000 до 200 000 из категории 'D' - 93.95%\n",
        "    - Меньше всех возвращают клиенты чей доход 30 000 и менее из категории 'Е' - 90.90%"
      ]
    },
    {
      "cell_type": "markdown",
      "id": "e430077a",
      "metadata": {
        "id": "e430077a"
      },
      "source": [
        "### 3.4 Вопрос 4\n",
        "\n",
        "Как разные цели кредита влияют на его возврат в срок?"
      ]
    },
    {
      "cell_type": "code",
      "execution_count": 82,
      "id": "c081db33",
      "metadata": {
        "colab": {
          "base_uri": "https://localhost:8080/",
          "height": 175
        },
        "id": "c081db33",
        "outputId": "4ab3a8f8-6bb5-4f68-aa0f-dd0d02ae305a"
      },
      "outputs": [
        {
          "output_type": "execute_result",
          "data": {
            "text/plain": [
              "           purpose_category       debt\n",
              "1  операции с недвижимостью  92.753218\n",
              "3        проведение свадьбы  92.130435\n",
              "2     получение образования  90.726313\n",
              "0    операции с автомобилем  90.672604"
            ],
            "text/html": [
              "\n",
              "  <div id=\"df-46ee50de-77b2-4fd8-920a-4861dfcd70ac\">\n",
              "    <div class=\"colab-df-container\">\n",
              "      <div>\n",
              "<style scoped>\n",
              "    .dataframe tbody tr th:only-of-type {\n",
              "        vertical-align: middle;\n",
              "    }\n",
              "\n",
              "    .dataframe tbody tr th {\n",
              "        vertical-align: top;\n",
              "    }\n",
              "\n",
              "    .dataframe thead th {\n",
              "        text-align: right;\n",
              "    }\n",
              "</style>\n",
              "<table border=\"1\" class=\"dataframe\">\n",
              "  <thead>\n",
              "    <tr style=\"text-align: right;\">\n",
              "      <th></th>\n",
              "      <th>purpose_category</th>\n",
              "      <th>debt</th>\n",
              "    </tr>\n",
              "  </thead>\n",
              "  <tbody>\n",
              "    <tr>\n",
              "      <th>1</th>\n",
              "      <td>операции с недвижимостью</td>\n",
              "      <td>92.753218</td>\n",
              "    </tr>\n",
              "    <tr>\n",
              "      <th>3</th>\n",
              "      <td>проведение свадьбы</td>\n",
              "      <td>92.130435</td>\n",
              "    </tr>\n",
              "    <tr>\n",
              "      <th>2</th>\n",
              "      <td>получение образования</td>\n",
              "      <td>90.726313</td>\n",
              "    </tr>\n",
              "    <tr>\n",
              "      <th>0</th>\n",
              "      <td>операции с автомобилем</td>\n",
              "      <td>90.672604</td>\n",
              "    </tr>\n",
              "  </tbody>\n",
              "</table>\n",
              "</div>\n",
              "      <button class=\"colab-df-convert\" onclick=\"convertToInteractive('df-46ee50de-77b2-4fd8-920a-4861dfcd70ac')\"\n",
              "              title=\"Convert this dataframe to an interactive table.\"\n",
              "              style=\"display:none;\">\n",
              "        \n",
              "  <svg xmlns=\"http://www.w3.org/2000/svg\" height=\"24px\"viewBox=\"0 0 24 24\"\n",
              "       width=\"24px\">\n",
              "    <path d=\"M0 0h24v24H0V0z\" fill=\"none\"/>\n",
              "    <path d=\"M18.56 5.44l.94 2.06.94-2.06 2.06-.94-2.06-.94-.94-2.06-.94 2.06-2.06.94zm-11 1L8.5 8.5l.94-2.06 2.06-.94-2.06-.94L8.5 2.5l-.94 2.06-2.06.94zm10 10l.94 2.06.94-2.06 2.06-.94-2.06-.94-.94-2.06-.94 2.06-2.06.94z\"/><path d=\"M17.41 7.96l-1.37-1.37c-.4-.4-.92-.59-1.43-.59-.52 0-1.04.2-1.43.59L10.3 9.45l-7.72 7.72c-.78.78-.78 2.05 0 2.83L4 21.41c.39.39.9.59 1.41.59.51 0 1.02-.2 1.41-.59l7.78-7.78 2.81-2.81c.8-.78.8-2.07 0-2.86zM5.41 20L4 18.59l7.72-7.72 1.47 1.35L5.41 20z\"/>\n",
              "  </svg>\n",
              "      </button>\n",
              "      \n",
              "  <style>\n",
              "    .colab-df-container {\n",
              "      display:flex;\n",
              "      flex-wrap:wrap;\n",
              "      gap: 12px;\n",
              "    }\n",
              "\n",
              "    .colab-df-convert {\n",
              "      background-color: #E8F0FE;\n",
              "      border: none;\n",
              "      border-radius: 50%;\n",
              "      cursor: pointer;\n",
              "      display: none;\n",
              "      fill: #1967D2;\n",
              "      height: 32px;\n",
              "      padding: 0 0 0 0;\n",
              "      width: 32px;\n",
              "    }\n",
              "\n",
              "    .colab-df-convert:hover {\n",
              "      background-color: #E2EBFA;\n",
              "      box-shadow: 0px 1px 2px rgba(60, 64, 67, 0.3), 0px 1px 3px 1px rgba(60, 64, 67, 0.15);\n",
              "      fill: #174EA6;\n",
              "    }\n",
              "\n",
              "    [theme=dark] .colab-df-convert {\n",
              "      background-color: #3B4455;\n",
              "      fill: #D2E3FC;\n",
              "    }\n",
              "\n",
              "    [theme=dark] .colab-df-convert:hover {\n",
              "      background-color: #434B5C;\n",
              "      box-shadow: 0px 1px 3px 1px rgba(0, 0, 0, 0.15);\n",
              "      filter: drop-shadow(0px 1px 2px rgba(0, 0, 0, 0.3));\n",
              "      fill: #FFFFFF;\n",
              "    }\n",
              "  </style>\n",
              "\n",
              "      <script>\n",
              "        const buttonEl =\n",
              "          document.querySelector('#df-46ee50de-77b2-4fd8-920a-4861dfcd70ac button.colab-df-convert');\n",
              "        buttonEl.style.display =\n",
              "          google.colab.kernel.accessAllowed ? 'block' : 'none';\n",
              "\n",
              "        async function convertToInteractive(key) {\n",
              "          const element = document.querySelector('#df-46ee50de-77b2-4fd8-920a-4861dfcd70ac');\n",
              "          const dataTable =\n",
              "            await google.colab.kernel.invokeFunction('convertToInteractive',\n",
              "                                                     [key], {});\n",
              "          if (!dataTable) return;\n",
              "\n",
              "          const docLinkHtml = 'Like what you see? Visit the ' +\n",
              "            '<a target=\"_blank\" href=https://colab.research.google.com/notebooks/data_table.ipynb>data table notebook</a>'\n",
              "            + ' to learn more about interactive tables.';\n",
              "          element.innerHTML = '';\n",
              "          dataTable['output_type'] = 'display_data';\n",
              "          await google.colab.output.renderOutput(dataTable, element);\n",
              "          const docLink = document.createElement('div');\n",
              "          docLink.innerHTML = docLinkHtml;\n",
              "          element.appendChild(docLink);\n",
              "        }\n",
              "      </script>\n",
              "    </div>\n",
              "  </div>\n",
              "  "
            ]
          },
          "metadata": {},
          "execution_count": 82
        }
      ],
      "source": [
        "purpose_category_percent =(\n",
        "    (100 - data.pivot_table(index='purpose_category', values='debt') * 100)\n",
        "    .reset_index()\n",
        "    .sort_values(by='debt', ascending=False)\n",
        ")\n",
        "purpose_category_percent\n",
        "# найдем процент возврата в зависимости от целей кредита"
      ]
    },
    {
      "cell_type": "code",
      "execution_count": 83,
      "id": "4006ca7e",
      "metadata": {
        "colab": {
          "base_uri": "https://localhost:8080/",
          "height": 296
        },
        "id": "4006ca7e",
        "outputId": "3948a255-2134-4080-cda3-6752f5b3f037"
      },
      "outputs": [
        {
          "output_type": "execute_result",
          "data": {
            "text/plain": [
              "<matplotlib.axes._subplots.AxesSubplot at 0x7eff38715cd0>"
            ]
          },
          "metadata": {},
          "execution_count": 83
        },
        {
          "output_type": "display_data",
          "data": {
            "text/plain": [
              "<Figure size 432x288 with 1 Axes>"
            ],
            "image/png": "[encoded data removed]"
          },
          "metadata": {
            "needs_background": "light"
          }
        }
      ],
      "source": [
        "seaborn.barplot(x=purpose_category_percent['debt'], y=purpose_category_percent['purpose_category'])\n",
        "# выведем диаграмму возврата в срок по целям кредита"
      ]
    },
    {
      "cell_type": "markdown",
      "id": "c33b138f",
      "metadata": {
        "id": "c33b138f"
      },
      "source": [
        "#### Ответ на вопрос 4:\n",
        "\"Как разные цели кредита влияют на его возврат в срок?\"\n",
        "\n",
        "    - Больше всех возвращают клиенты, которые берут кредит на операции с недвижимостью - 92.75%\n",
        "    - Меньше всех возвращают клиенты, которые берут кредит на операции с автомобилем - 90.67%"
      ]
    },
    {
      "cell_type": "markdown",
      "id": "96800000",
      "metadata": {
        "id": "96800000"
      },
      "source": [
        "## Общий вывод:"
      ]
    },
    {
      "cell_type": "markdown",
      "id": "9d36fb0c",
      "metadata": {
        "id": "9d36fb0c"
      },
      "source": [
        "Портрет клиента, который чаще других вернет кредит в срок: клиент у которого нет детей, не замужем(не женат), имеет доход от 50 000 до 200 000 ежемесячно и целью кредит является операции с недвижимостью - такой клиент вернет кредит без задолженностей в 92,94% случаев.\n",
        "\n",
        "Портрет клиента, который меньше других вернет кредит в срок: клиент у которого 4 детей, в гражданском браке, доход менее 30 000 ежемесячно, а цель кредита оперции с автомобилем - такой клиент вернет кредит без задолженностей в 90,73% слуаев."
      ]
    }
  ],
  "metadata": {
    "ExecuteTimeLog": [
      {
        "duration": 567,
        "start_time": "2022-04-22T08:47:34.246Z"
      },
      {
        "duration": 1336,
        "start_time": "2022-04-22T08:47:34.816Z"
      },
      {
        "duration": 84,
        "start_time": "2022-04-22T08:47:36.155Z"
      },
      {
        "duration": 22,
        "start_time": "2022-04-22T08:47:36.242Z"
      },
      {
        "duration": 54,
        "start_time": "2022-04-22T08:47:36.266Z"
      },
      {
        "duration": 15,
        "start_time": "2022-04-22T08:47:36.323Z"
      },
      {
        "duration": 11,
        "start_time": "2022-04-22T08:47:36.340Z"
      },
      {
        "duration": 30,
        "start_time": "2022-04-22T08:47:36.353Z"
      },
      {
        "duration": 27,
        "start_time": "2022-04-22T08:47:36.385Z"
      },
      {
        "duration": 5,
        "start_time": "2022-04-22T08:47:36.418Z"
      },
      {
        "duration": 13,
        "start_time": "2022-04-22T08:47:36.426Z"
      },
      {
        "duration": 10,
        "start_time": "2022-04-22T08:47:36.441Z"
      },
      {
        "duration": 40,
        "start_time": "2022-04-22T08:47:36.454Z"
      },
      {
        "duration": 15,
        "start_time": "2022-04-22T08:47:36.497Z"
      },
      {
        "duration": 17,
        "start_time": "2022-04-22T08:47:36.514Z"
      },
      {
        "duration": 5,
        "start_time": "2022-04-22T08:47:36.533Z"
      },
      {
        "duration": 5,
        "start_time": "2022-04-22T08:47:36.540Z"
      },
      {
        "duration": 49,
        "start_time": "2022-04-22T08:47:36.547Z"
      },
      {
        "duration": 6,
        "start_time": "2022-04-22T08:47:36.601Z"
      },
      {
        "duration": 12,
        "start_time": "2022-04-22T08:47:36.609Z"
      },
      {
        "duration": 14,
        "start_time": "2022-04-22T08:47:36.623Z"
      },
      {
        "duration": 10,
        "start_time": "2022-04-22T08:47:36.639Z"
      },
      {
        "duration": 37,
        "start_time": "2022-04-22T08:47:36.651Z"
      },
      {
        "duration": 23,
        "start_time": "2022-04-22T08:47:36.690Z"
      },
      {
        "duration": 12,
        "start_time": "2022-04-22T08:47:36.715Z"
      },
      {
        "duration": 8,
        "start_time": "2022-04-22T08:47:36.730Z"
      },
      {
        "duration": 7,
        "start_time": "2022-04-22T08:47:36.740Z"
      },
      {
        "duration": 7,
        "start_time": "2022-04-22T08:47:36.783Z"
      },
      {
        "duration": 15,
        "start_time": "2022-04-22T08:47:36.799Z"
      },
      {
        "duration": 83,
        "start_time": "2022-04-22T08:47:36.817Z"
      },
      {
        "duration": 4,
        "start_time": "2022-04-22T08:47:36.903Z"
      },
      {
        "duration": 15,
        "start_time": "2022-04-22T08:47:36.909Z"
      },
      {
        "duration": 10,
        "start_time": "2022-04-22T08:47:36.926Z"
      },
      {
        "duration": 10,
        "start_time": "2022-04-22T08:47:36.938Z"
      },
      {
        "duration": 36,
        "start_time": "2022-04-22T08:47:36.950Z"
      },
      {
        "duration": 12,
        "start_time": "2022-04-22T08:47:36.988Z"
      },
      {
        "duration": 18,
        "start_time": "2022-04-22T08:47:37.002Z"
      },
      {
        "duration": 12,
        "start_time": "2022-04-22T08:47:37.022Z"
      },
      {
        "duration": 8,
        "start_time": "2022-04-22T08:47:37.036Z"
      },
      {
        "duration": 55,
        "start_time": "2022-04-22T08:47:37.046Z"
      },
      {
        "duration": 12,
        "start_time": "2022-04-22T08:47:37.103Z"
      },
      {
        "duration": 12,
        "start_time": "2022-04-22T08:47:37.117Z"
      },
      {
        "duration": 11,
        "start_time": "2022-04-22T08:47:37.131Z"
      },
      {
        "duration": 11,
        "start_time": "2022-04-22T08:47:37.144Z"
      },
      {
        "duration": 6,
        "start_time": "2022-04-22T08:47:37.191Z"
      },
      {
        "duration": 14,
        "start_time": "2022-04-22T08:47:37.200Z"
      },
      {
        "duration": 13,
        "start_time": "2022-04-22T08:47:37.216Z"
      },
      {
        "duration": 11,
        "start_time": "2022-04-22T08:47:37.231Z"
      },
      {
        "duration": 49,
        "start_time": "2022-04-22T08:47:37.244Z"
      },
      {
        "duration": 14,
        "start_time": "2022-04-22T08:47:37.295Z"
      },
      {
        "duration": 42,
        "start_time": "2022-04-22T08:47:37.311Z"
      },
      {
        "duration": 47,
        "start_time": "2022-04-22T08:47:37.355Z"
      },
      {
        "duration": 7,
        "start_time": "2022-04-22T08:47:37.404Z"
      },
      {
        "duration": 12,
        "start_time": "2022-04-22T08:47:37.413Z"
      },
      {
        "duration": 8,
        "start_time": "2022-04-22T08:47:37.428Z"
      },
      {
        "duration": 49,
        "start_time": "2022-04-22T08:47:37.438Z"
      },
      {
        "duration": 8,
        "start_time": "2022-04-22T08:47:37.502Z"
      },
      {
        "duration": 9,
        "start_time": "2022-04-22T08:47:37.513Z"
      },
      {
        "duration": 15,
        "start_time": "2022-04-22T08:47:37.524Z"
      },
      {
        "duration": 14,
        "start_time": "2022-04-22T08:47:37.541Z"
      },
      {
        "duration": 36,
        "start_time": "2022-04-22T08:47:37.557Z"
      },
      {
        "duration": 5,
        "start_time": "2022-04-22T08:47:37.602Z"
      },
      {
        "duration": 12,
        "start_time": "2022-04-22T08:47:37.609Z"
      },
      {
        "duration": 9,
        "start_time": "2022-04-22T08:47:37.623Z"
      },
      {
        "duration": 7,
        "start_time": "2022-04-22T08:47:37.634Z"
      },
      {
        "duration": 212,
        "start_time": "2022-04-22T08:47:37.643Z"
      },
      {
        "duration": 6,
        "start_time": "2022-04-22T08:47:37.857Z"
      },
      {
        "duration": 32,
        "start_time": "2022-04-22T08:47:37.865Z"
      },
      {
        "duration": 6,
        "start_time": "2022-04-22T08:47:37.899Z"
      },
      {
        "duration": 8,
        "start_time": "2022-04-22T08:47:37.907Z"
      },
      {
        "duration": 220,
        "start_time": "2022-04-22T08:47:37.917Z"
      },
      {
        "duration": 12,
        "start_time": "2022-04-22T08:47:38.139Z"
      },
      {
        "duration": 5,
        "start_time": "2022-04-22T08:47:38.153Z"
      },
      {
        "duration": 28,
        "start_time": "2022-04-22T08:47:38.161Z"
      },
      {
        "duration": 194,
        "start_time": "2022-04-22T08:47:38.191Z"
      },
      {
        "duration": 15,
        "start_time": "2022-04-22T08:47:38.387Z"
      },
      {
        "duration": 12,
        "start_time": "2022-04-22T08:47:38.405Z"
      },
      {
        "duration": 11,
        "start_time": "2022-04-22T08:47:38.420Z"
      },
      {
        "duration": 217,
        "start_time": "2022-04-22T08:47:38.433Z"
      },
      {
        "duration": 30,
        "start_time": "2022-04-22T08:49:26.245Z"
      },
      {
        "duration": 10,
        "start_time": "2022-04-22T08:49:57.809Z"
      },
      {
        "duration": 18,
        "start_time": "2022-04-22T08:50:08.576Z"
      },
      {
        "duration": 10,
        "start_time": "2022-04-22T08:50:19.813Z"
      },
      {
        "duration": 14,
        "start_time": "2022-04-22T08:51:22.295Z"
      },
      {
        "duration": 16,
        "start_time": "2022-04-22T08:54:22.024Z"
      },
      {
        "duration": 18,
        "start_time": "2022-04-22T08:54:29.692Z"
      },
      {
        "duration": 10,
        "start_time": "2022-04-22T08:54:43.362Z"
      },
      {
        "duration": 10,
        "start_time": "2022-04-22T08:54:44.570Z"
      },
      {
        "duration": 15,
        "start_time": "2022-04-22T08:54:45.727Z"
      },
      {
        "duration": 33,
        "start_time": "2022-04-22T08:56:37.176Z"
      },
      {
        "duration": 18,
        "start_time": "2022-04-22T08:56:44.600Z"
      },
      {
        "duration": 18,
        "start_time": "2022-04-22T08:56:51.095Z"
      },
      {
        "duration": 26,
        "start_time": "2022-04-22T08:56:55.895Z"
      },
      {
        "duration": 13,
        "start_time": "2022-04-22T08:57:38.505Z"
      },
      {
        "duration": 14,
        "start_time": "2022-04-22T08:58:34.806Z"
      },
      {
        "duration": 12,
        "start_time": "2022-04-22T09:05:59.096Z"
      },
      {
        "duration": 7,
        "start_time": "2022-04-22T09:41:08.976Z"
      },
      {
        "duration": 173,
        "start_time": "2022-04-22T09:42:23.034Z"
      },
      {
        "duration": 26,
        "start_time": "2022-04-22T09:42:44.540Z"
      },
      {
        "duration": 5,
        "start_time": "2022-04-22T09:43:12.522Z"
      },
      {
        "duration": 35,
        "start_time": "2022-04-22T09:43:16.282Z"
      },
      {
        "duration": 133,
        "start_time": "2022-04-22T09:49:56.895Z"
      },
      {
        "duration": 5,
        "start_time": "2022-04-22T09:50:05.296Z"
      },
      {
        "duration": 20,
        "start_time": "2022-04-22T09:51:30.919Z"
      },
      {
        "duration": 4,
        "start_time": "2022-04-22T09:51:52.208Z"
      },
      {
        "duration": 23,
        "start_time": "2022-04-22T09:51:55.775Z"
      },
      {
        "duration": 5,
        "start_time": "2022-04-22T09:52:02.799Z"
      },
      {
        "duration": 28,
        "start_time": "2022-04-22T09:52:04.460Z"
      },
      {
        "duration": 4,
        "start_time": "2022-04-22T09:52:37.064Z"
      },
      {
        "duration": 25,
        "start_time": "2022-04-22T09:52:38.102Z"
      },
      {
        "duration": 6,
        "start_time": "2022-04-22T09:53:26.039Z"
      },
      {
        "duration": 28,
        "start_time": "2022-04-22T09:53:27.230Z"
      },
      {
        "duration": 4,
        "start_time": "2022-04-22T09:54:06.434Z"
      },
      {
        "duration": 24,
        "start_time": "2022-04-22T09:54:07.085Z"
      },
      {
        "duration": 146,
        "start_time": "2022-04-22T09:59:02.775Z"
      },
      {
        "duration": 141,
        "start_time": "2022-04-22T09:59:07.595Z"
      },
      {
        "duration": 153,
        "start_time": "2022-04-22T09:59:13.690Z"
      },
      {
        "duration": 129,
        "start_time": "2022-04-22T09:59:20.708Z"
      },
      {
        "duration": 140,
        "start_time": "2022-04-22T09:59:45.621Z"
      },
      {
        "duration": 12,
        "start_time": "2022-04-22T10:00:35.426Z"
      },
      {
        "duration": 6,
        "start_time": "2022-04-22T10:03:16.550Z"
      },
      {
        "duration": 8082,
        "start_time": "2022-04-22T10:03:32.445Z"
      },
      {
        "duration": 24402,
        "start_time": "2022-04-22T10:04:15.151Z"
      },
      {
        "duration": 565,
        "start_time": "2022-04-22T10:04:39.909Z"
      },
      {
        "duration": 129,
        "start_time": "2022-04-22T10:05:35.378Z"
      },
      {
        "duration": 154,
        "start_time": "2022-04-22T10:05:39.537Z"
      },
      {
        "duration": 147,
        "start_time": "2022-04-22T10:05:53.678Z"
      },
      {
        "duration": 141,
        "start_time": "2022-04-22T10:06:02.179Z"
      },
      {
        "duration": 19,
        "start_time": "2022-04-22T10:31:02.142Z"
      },
      {
        "duration": 10,
        "start_time": "2022-04-22T10:31:17.225Z"
      },
      {
        "duration": 12,
        "start_time": "2022-04-22T10:31:30.387Z"
      },
      {
        "duration": 20,
        "start_time": "2022-04-22T10:32:09.428Z"
      },
      {
        "duration": 34,
        "start_time": "2022-04-22T10:32:38.895Z"
      },
      {
        "duration": 43,
        "start_time": "2022-04-24T09:58:13.733Z"
      },
      {
        "duration": 6,
        "start_time": "2022-04-24T09:58:15.925Z"
      },
      {
        "duration": 6,
        "start_time": "2022-04-24T09:58:16.519Z"
      },
      {
        "duration": 423,
        "start_time": "2022-04-24T09:58:26.265Z"
      },
      {
        "duration": 838,
        "start_time": "2022-04-24T09:58:26.690Z"
      },
      {
        "duration": 59,
        "start_time": "2022-04-24T09:58:27.529Z"
      },
      {
        "duration": 15,
        "start_time": "2022-04-24T09:58:27.590Z"
      },
      {
        "duration": 22,
        "start_time": "2022-04-24T09:58:27.606Z"
      },
      {
        "duration": 8,
        "start_time": "2022-04-24T09:58:27.630Z"
      },
      {
        "duration": 6,
        "start_time": "2022-04-24T09:58:27.639Z"
      },
      {
        "duration": 6,
        "start_time": "2022-04-24T09:58:27.647Z"
      },
      {
        "duration": 12,
        "start_time": "2022-04-24T09:58:27.654Z"
      },
      {
        "duration": 6,
        "start_time": "2022-04-24T09:58:27.669Z"
      },
      {
        "duration": 26,
        "start_time": "2022-04-24T09:58:27.676Z"
      },
      {
        "duration": 4,
        "start_time": "2022-04-24T09:58:27.703Z"
      },
      {
        "duration": 7,
        "start_time": "2022-04-24T09:58:27.708Z"
      },
      {
        "duration": 4,
        "start_time": "2022-04-24T09:58:27.716Z"
      },
      {
        "duration": 11,
        "start_time": "2022-04-24T09:58:27.722Z"
      },
      {
        "duration": 4,
        "start_time": "2022-04-24T09:58:27.734Z"
      },
      {
        "duration": 4,
        "start_time": "2022-04-24T09:58:27.740Z"
      },
      {
        "duration": 6,
        "start_time": "2022-04-24T09:58:27.745Z"
      },
      {
        "duration": 7,
        "start_time": "2022-04-24T09:58:27.752Z"
      },
      {
        "duration": 3,
        "start_time": "2022-04-24T09:58:27.760Z"
      },
      {
        "duration": 3,
        "start_time": "2022-04-24T09:58:27.800Z"
      },
      {
        "duration": 6,
        "start_time": "2022-04-24T09:58:27.805Z"
      },
      {
        "duration": 10,
        "start_time": "2022-04-24T09:58:27.813Z"
      },
      {
        "duration": 7,
        "start_time": "2022-04-24T09:58:27.824Z"
      },
      {
        "duration": 2,
        "start_time": "2022-04-24T09:58:27.833Z"
      },
      {
        "duration": 4,
        "start_time": "2022-04-24T09:58:27.837Z"
      },
      {
        "duration": 10,
        "start_time": "2022-04-24T09:58:27.842Z"
      },
      {
        "duration": 4,
        "start_time": "2022-04-24T09:58:27.856Z"
      },
      {
        "duration": 64,
        "start_time": "2022-04-24T09:58:27.861Z"
      },
      {
        "duration": 3,
        "start_time": "2022-04-24T09:58:27.927Z"
      },
      {
        "duration": 8,
        "start_time": "2022-04-24T09:58:27.931Z"
      },
      {
        "duration": 4,
        "start_time": "2022-04-24T09:58:27.941Z"
      },
      {
        "duration": 6,
        "start_time": "2022-04-24T09:58:27.947Z"
      },
      {
        "duration": 5,
        "start_time": "2022-04-24T09:58:27.954Z"
      },
      {
        "duration": 4,
        "start_time": "2022-04-24T09:58:27.961Z"
      },
      {
        "duration": 35,
        "start_time": "2022-04-24T09:58:27.967Z"
      },
      {
        "duration": 3,
        "start_time": "2022-04-24T09:58:28.004Z"
      },
      {
        "duration": 5,
        "start_time": "2022-04-24T09:58:28.008Z"
      },
      {
        "duration": 11,
        "start_time": "2022-04-24T09:58:28.014Z"
      },
      {
        "duration": 8,
        "start_time": "2022-04-24T09:58:28.026Z"
      },
      {
        "duration": 9,
        "start_time": "2022-04-24T09:58:28.035Z"
      },
      {
        "duration": 6,
        "start_time": "2022-04-24T09:58:28.045Z"
      },
      {
        "duration": 7,
        "start_time": "2022-04-24T09:58:28.053Z"
      },
      {
        "duration": 6,
        "start_time": "2022-04-24T09:58:28.061Z"
      },
      {
        "duration": 33,
        "start_time": "2022-04-24T09:58:28.069Z"
      },
      {
        "duration": 4,
        "start_time": "2022-04-24T09:58:28.104Z"
      },
      {
        "duration": 9,
        "start_time": "2022-04-24T09:58:28.109Z"
      },
      {
        "duration": 15,
        "start_time": "2022-04-24T09:58:28.119Z"
      },
      {
        "duration": 6,
        "start_time": "2022-04-24T09:58:28.135Z"
      },
      {
        "duration": 29,
        "start_time": "2022-04-24T09:58:28.142Z"
      },
      {
        "duration": 31,
        "start_time": "2022-04-24T09:58:28.172Z"
      },
      {
        "duration": 5,
        "start_time": "2022-04-24T09:58:28.204Z"
      },
      {
        "duration": 7,
        "start_time": "2022-04-24T09:58:28.211Z"
      },
      {
        "duration": 9,
        "start_time": "2022-04-24T09:58:28.219Z"
      },
      {
        "duration": 7,
        "start_time": "2022-04-24T09:58:28.229Z"
      },
      {
        "duration": 4,
        "start_time": "2022-04-24T09:58:28.237Z"
      },
      {
        "duration": 14,
        "start_time": "2022-04-24T09:58:28.242Z"
      },
      {
        "duration": 6,
        "start_time": "2022-04-24T09:58:28.257Z"
      },
      {
        "duration": 4,
        "start_time": "2022-04-24T09:58:28.265Z"
      },
      {
        "duration": 34,
        "start_time": "2022-04-24T09:58:28.271Z"
      },
      {
        "duration": 7,
        "start_time": "2022-04-24T09:58:28.306Z"
      },
      {
        "duration": 10,
        "start_time": "2022-04-24T09:58:28.314Z"
      },
      {
        "duration": 4,
        "start_time": "2022-04-24T09:58:28.326Z"
      },
      {
        "duration": 12,
        "start_time": "2022-04-24T09:58:28.332Z"
      },
      {
        "duration": 146,
        "start_time": "2022-04-24T09:58:28.346Z"
      },
      {
        "duration": 20,
        "start_time": "2022-04-24T09:58:28.494Z"
      },
      {
        "duration": 15,
        "start_time": "2022-04-24T09:58:28.516Z"
      },
      {
        "duration": 27,
        "start_time": "2022-04-24T09:58:28.533Z"
      },
      {
        "duration": 125,
        "start_time": "2022-04-24T09:58:28.562Z"
      },
      {
        "duration": 23,
        "start_time": "2022-04-24T09:58:28.689Z"
      },
      {
        "duration": 102,
        "start_time": "2022-04-24T09:58:28.714Z"
      },
      {
        "duration": 15,
        "start_time": "2022-04-24T09:58:28.818Z"
      },
      {
        "duration": 111,
        "start_time": "2022-04-24T09:58:28.835Z"
      }
    ],
    "kernelspec": {
      "display_name": "Python 3 (ipykernel)",
      "language": "python",
      "name": "python3"
    },
    "language_info": {
      "codemirror_mode": {
        "name": "ipython",
        "version": 3
      },
      "file_extension": ".py",
      "mimetype": "text/x-python",
      "name": "python",
      "nbconvert_exporter": "python",
      "pygments_lexer": "ipython3",
      "version": "3.9.7"
    },
    "toc": {
      "base_numbering": 1,
      "nav_menu": {},
      "number_sections": true,
      "sideBar": true,
      "skip_h1_title": true,
      "title_cell": "Table of Contents",
      "title_sidebar": "Contents",
      "toc_cell": false,
      "toc_position": {
        "height": "calc(100% - 180px)",
        "left": "10px",
        "top": "150px",
        "width": "303.825px"
      },
      "toc_section_display": true,
      "toc_window_display": true
    },
    "colab": {
      "name": "first_step_in_DA_reliability_debtor.ipynb",
      "provenance": [],
      "toc_visible": true,
      "include_colab_link": true
    }
  },
  "nbformat": 4,
  "nbformat_minor": 5
}