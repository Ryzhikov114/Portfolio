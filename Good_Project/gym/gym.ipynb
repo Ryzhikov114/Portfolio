{
  "cells": [
    {
      "cell_type": "markdown",
      "metadata": {
        "id": "G3BlFflM1mdf"
      },
      "source": [
        "# 🙋‍♂️ Вступление"
      ]
    },
    {
      "cell_type": "markdown",
      "metadata": {
        "id": "SnigRqNy1m5O"
      },
      "source": [
        "Добрый день(вечер, утро, ночь), здравствуйте! Проектная работа из ЯндексПрактики. Первые шаги в машинном обучении. В данной работе построены модели предсказания LogisticRegression и RandomForest. Сделана кластеризация на основе дендрограммы. Использованы библиотеки: pandas, numpy, sklearn, scipy, matplotlib, seaborn."
      ]
    },
    {
      "cell_type": "markdown",
      "metadata": {
        "id": "QxrWbD7_o1QD"
      },
      "source": [
        "**Бриф.**\n",
        "\n",
        "Получены данные фитнес-центров «Культурист-датасаентист» разрабатывает стратегию взаимодействия с клиентами на основе аналитических данных. \n",
        "\n",
        "**Задача** \n",
        "\n",
        "- составить модели предсказания и кластеры\n",
        "- портрет клиента\n",
        "- выяснить какие факторы влияют на отток клиента\n",
        "- дать рекомендации по возможной стратегии уменьшения оттока клиентов"
      ]
    },
    {
      "cell_type": "markdown",
      "metadata": {
        "id": "piwtIH4i1P8_"
      },
      "source": [
        "# 📚 1. Импорт"
      ]
    },
    {
      "cell_type": "code",
      "execution_count": null,
      "metadata": {
        "colab": {
          "base_uri": "https://localhost:8080/",
          "height": 502
        },
        "id": "Vda8NdbS1Mi9",
        "outputId": "19b0fc52-4d4e-46fd-ab13-8a05bae9902f"
      },
      "outputs": [
        {
          "output_type": "stream",
          "name": "stdout",
          "text": [
            "Looking in indexes: https://pypi.org/simple, https://us-python.pkg.dev/colab-wheels/public/simple/\n",
            "Requirement already satisfied: matplotlib in /usr/local/lib/python3.7/dist-packages (3.2.2)\n",
            "Collecting matplotlib\n",
            "  Downloading matplotlib-3.5.3-cp37-cp37m-manylinux_2_5_x86_64.manylinux1_x86_64.whl (11.2 MB)\n",
            "\u001b[K     |████████████████████████████████| 11.2 MB 5.0 MB/s \n",
            "\u001b[?25hRequirement already satisfied: cycler>=0.10 in /usr/local/lib/python3.7/dist-packages (from matplotlib) (0.11.0)\n",
            "Requirement already satisfied: pillow>=6.2.0 in /usr/local/lib/python3.7/dist-packages (from matplotlib) (7.1.2)\n",
            "Requirement already satisfied: kiwisolver>=1.0.1 in /usr/local/lib/python3.7/dist-packages (from matplotlib) (1.4.4)\n",
            "Requirement already satisfied: numpy>=1.17 in /usr/local/lib/python3.7/dist-packages (from matplotlib) (1.21.6)\n",
            "Requirement already satisfied: pyparsing>=2.2.1 in /usr/local/lib/python3.7/dist-packages (from matplotlib) (3.0.9)\n",
            "Collecting fonttools>=4.22.0\n",
            "  Downloading fonttools-4.37.1-py3-none-any.whl (957 kB)\n",
            "\u001b[K     |████████████████████████████████| 957 kB 54.6 MB/s \n",
            "\u001b[?25hRequirement already satisfied: packaging>=20.0 in /usr/local/lib/python3.7/dist-packages (from matplotlib) (21.3)\n",
            "Requirement already satisfied: python-dateutil>=2.7 in /usr/local/lib/python3.7/dist-packages (from matplotlib) (2.8.2)\n",
            "Requirement already satisfied: typing-extensions in /usr/local/lib/python3.7/dist-packages (from kiwisolver>=1.0.1->matplotlib) (4.1.1)\n",
            "Requirement already satisfied: six>=1.5 in /usr/local/lib/python3.7/dist-packages (from python-dateutil>=2.7->matplotlib) (1.15.0)\n",
            "Installing collected packages: fonttools, matplotlib\n",
            "  Attempting uninstall: matplotlib\n",
            "    Found existing installation: matplotlib 3.2.2\n",
            "    Uninstalling matplotlib-3.2.2:\n",
            "      Successfully uninstalled matplotlib-3.2.2\n",
            "Successfully installed fonttools-4.37.1 matplotlib-3.5.3\n"
          ]
        },
        {
          "output_type": "display_data",
          "data": {
            "application/vnd.colab-display-data+json": {
              "pip_warning": {
                "packages": [
                  "matplotlib",
                  "mpl_toolkits"
                ]
              }
            }
          },
          "metadata": {}
        }
      ],
      "source": [
        "# нужен для отображения значений над bar в графике\n",
        "!pip install -U matplotlib"
      ]
    },
    {
      "cell_type": "code",
      "execution_count": null,
      "metadata": {
        "id": "mZdfIHIw1E9t"
      },
      "outputs": [],
      "source": [
        "import pandas as pd\n",
        "import numpy as np\n",
        "import matplotlib.pyplot as plt\n",
        "import seaborn as sns\n",
        "import warnings\n",
        "import itertools\n",
        "\n",
        "from sklearn.ensemble import RandomForestRegressor\n",
        "from sklearn.metrics import mean_absolute_error, mean_squared_error, r2_score\n",
        "from sklearn.model_selection import train_test_split\n",
        "from sklearn.linear_model import LogisticRegression\n",
        "from sklearn.tree import DecisionTreeClassifier\n",
        "from sklearn.ensemble import RandomForestClassifier\n",
        "from sklearn.metrics import accuracy_score, precision_score, recall_score\n",
        "from sklearn.metrics import roc_auc_score\n",
        "from scipy.cluster.hierarchy import dendrogram, linkage \n",
        "from sklearn.preprocessing import StandardScaler\n",
        "from sklearn.cluster import KMeans\n",
        "\n",
        "\n",
        "warnings.filterwarnings(\"ignore\")\n",
        "pd.set_option('display.float_format', lambda x: '%.4f' % x)"
      ]
    },
    {
      "cell_type": "markdown",
      "metadata": {
        "id": "fj03wK6s1Zuf"
      },
      "source": [
        "# 🏋 2. Загрузка файла"
      ]
    },
    {
      "cell_type": "code",
      "execution_count": null,
      "metadata": {
        "id": "73MQfBkM1U44"
      },
      "outputs": [],
      "source": [
        "try:\n",
        "  df = pd.read_csv('/content/gym_churn.csv')\n",
        "except:\n",
        "  df = pd.read_csv('/datasets/gym_churn.csv')"
      ]
    },
    {
      "cell_type": "code",
      "execution_count": null,
      "metadata": {
        "colab": {
          "base_uri": "https://localhost:8080/",
          "height": 270
        },
        "id": "8hpRJDZg1jvS",
        "outputId": "32c822d8-2b94-40fa-93d2-4c2c66e8d40e"
      },
      "outputs": [
        {
          "output_type": "execute_result",
          "data": {
            "text/plain": [
              "   gender  Near_Location  Partner  Promo_friends  Phone  Contract_period  \\\n",
              "0       1              1        1              1      0                6   \n",
              "1       0              1        0              0      1               12   \n",
              "2       0              1        1              0      1                1   \n",
              "3       0              1        1              1      1               12   \n",
              "4       1              1        1              1      1                1   \n",
              "\n",
              "   Group_visits  Age  Avg_additional_charges_total  Month_to_end_contract  \\\n",
              "0             1   29                       14.2275                 5.0000   \n",
              "1             1   31                      113.2029                12.0000   \n",
              "2             0   28                      129.4485                 1.0000   \n",
              "3             1   33                       62.6699                12.0000   \n",
              "4             0   26                      198.3623                 1.0000   \n",
              "\n",
              "   Lifetime  Avg_class_frequency_total  Avg_class_frequency_current_month  \\\n",
              "0         3                     0.0204                             0.0000   \n",
              "1         7                     1.9229                             1.9102   \n",
              "2         2                     1.8591                             1.7365   \n",
              "3         2                     3.2056                             3.3572   \n",
              "4         3                     1.1139                             1.1201   \n",
              "\n",
              "   Churn  \n",
              "0      0  \n",
              "1      0  \n",
              "2      0  \n",
              "3      0  \n",
              "4      0  "
            ],
            "text/html": [
              "\n",
              "  <div id=\"df-8d063ff7-53ec-4888-9a18-9b843a68f5c0\">\n",
              "    <div class=\"colab-df-container\">\n",
              "      <div>\n",
              "<style scoped>\n",
              "    .dataframe tbody tr th:only-of-type {\n",
              "        vertical-align: middle;\n",
              "    }\n",
              "\n",
              "    .dataframe tbody tr th {\n",
              "        vertical-align: top;\n",
              "    }\n",
              "\n",
              "    .dataframe thead th {\n",
              "        text-align: right;\n",
              "    }\n",
              "</style>\n",
              "<table border=\"1\" class=\"dataframe\">\n",
              "  <thead>\n",
              "    <tr style=\"text-align: right;\">\n",
              "      <th></th>\n",
              "      <th>gender</th>\n",
              "      <th>Near_Location</th>\n",
              "      <th>Partner</th>\n",
              "      <th>Promo_friends</th>\n",
              "      <th>Phone</th>\n",
              "      <th>Contract_period</th>\n",
              "      <th>Group_visits</th>\n",
              "      <th>Age</th>\n",
              "      <th>Avg_additional_charges_total</th>\n",
              "      <th>Month_to_end_contract</th>\n",
              "      <th>Lifetime</th>\n",
              "      <th>Avg_class_frequency_total</th>\n",
              "      <th>Avg_class_frequency_current_month</th>\n",
              "      <th>Churn</th>\n",
              "    </tr>\n",
              "  </thead>\n",
              "  <tbody>\n",
              "    <tr>\n",
              "      <th>0</th>\n",
              "      <td>1</td>\n",
              "      <td>1</td>\n",
              "      <td>1</td>\n",
              "      <td>1</td>\n",
              "      <td>0</td>\n",
              "      <td>6</td>\n",
              "      <td>1</td>\n",
              "      <td>29</td>\n",
              "      <td>14.2275</td>\n",
              "      <td>5.0000</td>\n",
              "      <td>3</td>\n",
              "      <td>0.0204</td>\n",
              "      <td>0.0000</td>\n",
              "      <td>0</td>\n",
              "    </tr>\n",
              "    <tr>\n",
              "      <th>1</th>\n",
              "      <td>0</td>\n",
              "      <td>1</td>\n",
              "      <td>0</td>\n",
              "      <td>0</td>\n",
              "      <td>1</td>\n",
              "      <td>12</td>\n",
              "      <td>1</td>\n",
              "      <td>31</td>\n",
              "      <td>113.2029</td>\n",
              "      <td>12.0000</td>\n",
              "      <td>7</td>\n",
              "      <td>1.9229</td>\n",
              "      <td>1.9102</td>\n",
              "      <td>0</td>\n",
              "    </tr>\n",
              "    <tr>\n",
              "      <th>2</th>\n",
              "      <td>0</td>\n",
              "      <td>1</td>\n",
              "      <td>1</td>\n",
              "      <td>0</td>\n",
              "      <td>1</td>\n",
              "      <td>1</td>\n",
              "      <td>0</td>\n",
              "      <td>28</td>\n",
              "      <td>129.4485</td>\n",
              "      <td>1.0000</td>\n",
              "      <td>2</td>\n",
              "      <td>1.8591</td>\n",
              "      <td>1.7365</td>\n",
              "      <td>0</td>\n",
              "    </tr>\n",
              "    <tr>\n",
              "      <th>3</th>\n",
              "      <td>0</td>\n",
              "      <td>1</td>\n",
              "      <td>1</td>\n",
              "      <td>1</td>\n",
              "      <td>1</td>\n",
              "      <td>12</td>\n",
              "      <td>1</td>\n",
              "      <td>33</td>\n",
              "      <td>62.6699</td>\n",
              "      <td>12.0000</td>\n",
              "      <td>2</td>\n",
              "      <td>3.2056</td>\n",
              "      <td>3.3572</td>\n",
              "      <td>0</td>\n",
              "    </tr>\n",
              "    <tr>\n",
              "      <th>4</th>\n",
              "      <td>1</td>\n",
              "      <td>1</td>\n",
              "      <td>1</td>\n",
              "      <td>1</td>\n",
              "      <td>1</td>\n",
              "      <td>1</td>\n",
              "      <td>0</td>\n",
              "      <td>26</td>\n",
              "      <td>198.3623</td>\n",
              "      <td>1.0000</td>\n",
              "      <td>3</td>\n",
              "      <td>1.1139</td>\n",
              "      <td>1.1201</td>\n",
              "      <td>0</td>\n",
              "    </tr>\n",
              "  </tbody>\n",
              "</table>\n",
              "</div>\n",
              "      <button class=\"colab-df-convert\" onclick=\"convertToInteractive('df-8d063ff7-53ec-4888-9a18-9b843a68f5c0')\"\n",
              "              title=\"Convert this dataframe to an interactive table.\"\n",
              "              style=\"display:none;\">\n",
              "        \n",
              "  <svg xmlns=\"http://www.w3.org/2000/svg\" height=\"24px\"viewBox=\"0 0 24 24\"\n",
              "       width=\"24px\">\n",
              "    <path d=\"M0 0h24v24H0V0z\" fill=\"none\"/>\n",
              "    <path d=\"M18.56 5.44l.94 2.06.94-2.06 2.06-.94-2.06-.94-.94-2.06-.94 2.06-2.06.94zm-11 1L8.5 8.5l.94-2.06 2.06-.94-2.06-.94L8.5 2.5l-.94 2.06-2.06.94zm10 10l.94 2.06.94-2.06 2.06-.94-2.06-.94-.94-2.06-.94 2.06-2.06.94z\"/><path d=\"M17.41 7.96l-1.37-1.37c-.4-.4-.92-.59-1.43-.59-.52 0-1.04.2-1.43.59L10.3 9.45l-7.72 7.72c-.78.78-.78 2.05 0 2.83L4 21.41c.39.39.9.59 1.41.59.51 0 1.02-.2 1.41-.59l7.78-7.78 2.81-2.81c.8-.78.8-2.07 0-2.86zM5.41 20L4 18.59l7.72-7.72 1.47 1.35L5.41 20z\"/>\n",
              "  </svg>\n",
              "      </button>\n",
              "      \n",
              "  <style>\n",
              "    .colab-df-container {\n",
              "      display:flex;\n",
              "      flex-wrap:wrap;\n",
              "      gap: 12px;\n",
              "    }\n",
              "\n",
              "    .colab-df-convert {\n",
              "      background-color: #E8F0FE;\n",
              "      border: none;\n",
              "      border-radius: 50%;\n",
              "      cursor: pointer;\n",
              "      display: none;\n",
              "      fill: #1967D2;\n",
              "      height: 32px;\n",
              "      padding: 0 0 0 0;\n",
              "      width: 32px;\n",
              "    }\n",
              "\n",
              "    .colab-df-convert:hover {\n",
              "      background-color: #E2EBFA;\n",
              "      box-shadow: 0px 1px 2px rgba(60, 64, 67, 0.3), 0px 1px 3px 1px rgba(60, 64, 67, 0.15);\n",
              "      fill: #174EA6;\n",
              "    }\n",
              "\n",
              "    [theme=dark] .colab-df-convert {\n",
              "      background-color: #3B4455;\n",
              "      fill: #D2E3FC;\n",
              "    }\n",
              "\n",
              "    [theme=dark] .colab-df-convert:hover {\n",
              "      background-color: #434B5C;\n",
              "      box-shadow: 0px 1px 3px 1px rgba(0, 0, 0, 0.15);\n",
              "      filter: drop-shadow(0px 1px 2px rgba(0, 0, 0, 0.3));\n",
              "      fill: #FFFFFF;\n",
              "    }\n",
              "  </style>\n",
              "\n",
              "      <script>\n",
              "        const buttonEl =\n",
              "          document.querySelector('#df-8d063ff7-53ec-4888-9a18-9b843a68f5c0 button.colab-df-convert');\n",
              "        buttonEl.style.display =\n",
              "          google.colab.kernel.accessAllowed ? 'block' : 'none';\n",
              "\n",
              "        async function convertToInteractive(key) {\n",
              "          const element = document.querySelector('#df-8d063ff7-53ec-4888-9a18-9b843a68f5c0');\n",
              "          const dataTable =\n",
              "            await google.colab.kernel.invokeFunction('convertToInteractive',\n",
              "                                                     [key], {});\n",
              "          if (!dataTable) return;\n",
              "\n",
              "          const docLinkHtml = 'Like what you see? Visit the ' +\n",
              "            '<a target=\"_blank\" href=https://colab.research.google.com/notebooks/data_table.ipynb>data table notebook</a>'\n",
              "            + ' to learn more about interactive tables.';\n",
              "          element.innerHTML = '';\n",
              "          dataTable['output_type'] = 'display_data';\n",
              "          await google.colab.output.renderOutput(dataTable, element);\n",
              "          const docLink = document.createElement('div');\n",
              "          docLink.innerHTML = docLinkHtml;\n",
              "          element.appendChild(docLink);\n",
              "        }\n",
              "      </script>\n",
              "    </div>\n",
              "  </div>\n",
              "  "
            ]
          },
          "metadata": {},
          "execution_count": 5
        }
      ],
      "source": [
        "df.head()"
      ]
    },
    {
      "cell_type": "code",
      "execution_count": null,
      "metadata": {
        "colab": {
          "base_uri": "https://localhost:8080/"
        },
        "id": "9wnNYfoE1pLs",
        "outputId": "e6123fce-81ee-4648-fa70-f0fb3fdedec7"
      },
      "outputs": [
        {
          "output_type": "stream",
          "name": "stdout",
          "text": [
            "<class 'pandas.core.frame.DataFrame'>\n",
            "RangeIndex: 4000 entries, 0 to 3999\n",
            "Data columns (total 14 columns):\n",
            " #   Column                             Non-Null Count  Dtype  \n",
            "---  ------                             --------------  -----  \n",
            " 0   gender                             4000 non-null   int64  \n",
            " 1   Near_Location                      4000 non-null   int64  \n",
            " 2   Partner                            4000 non-null   int64  \n",
            " 3   Promo_friends                      4000 non-null   int64  \n",
            " 4   Phone                              4000 non-null   int64  \n",
            " 5   Contract_period                    4000 non-null   int64  \n",
            " 6   Group_visits                       4000 non-null   int64  \n",
            " 7   Age                                4000 non-null   int64  \n",
            " 8   Avg_additional_charges_total       4000 non-null   float64\n",
            " 9   Month_to_end_contract              4000 non-null   float64\n",
            " 10  Lifetime                           4000 non-null   int64  \n",
            " 11  Avg_class_frequency_total          4000 non-null   float64\n",
            " 12  Avg_class_frequency_current_month  4000 non-null   float64\n",
            " 13  Churn                              4000 non-null   int64  \n",
            "dtypes: float64(4), int64(10)\n",
            "memory usage: 437.6 KB\n"
          ]
        }
      ],
      "source": [
        "df.info()"
      ]
    },
    {
      "cell_type": "markdown",
      "metadata": {
        "id": "Qiqkiwfy31Zg"
      },
      "source": [
        "- 14 колонок\n",
        "- 4000 строк\n",
        "- только числовые значения\n",
        "- пропусков нет"
      ]
    },
    {
      "cell_type": "markdown",
      "metadata": {
        "id": "p1B9H-B92x0a"
      },
      "source": [
        "# 💡 3. Описание данных и предобработка"
      ]
    },
    {
      "cell_type": "markdown",
      "metadata": {
        "id": "ls2QVm0U2y3K"
      },
      "source": [
        "> Данные клиента за предыдущий до проверки факта оттока месяц:\n",
        "\n",
        "- '**gender**' — пол;\n",
        "- '**Near_Location**' — проживание или работа в районе, где находится фитнес-центр;\n",
        "- '**Partner**' — сотрудник компании-партнёра клуба (сотрудничество с компаниями, чьи сотрудники могут получать скидки на абонемент — в таком случае фитнес-центр хранит информацию о работодателе клиента);\n",
        "- **Promo_friends** — факт первоначальной записи в рамках акции «приведи друга» (использовал промо-код от знакомого при оплате первого абонемента);\n",
        "- '**Phone**' — наличие контактного телефона;\n",
        "- '**Age**' — возраст;\n",
        "- '**Lifetime**' — время с момента первого обращения в фитнес-центр (в месяцах)."
      ]
    },
    {
      "cell_type": "markdown",
      "metadata": {
        "id": "KkJiHYoi4McV"
      },
      "source": [
        "> Информация на основе журнала посещений, покупок и информация о текущем статусе абонемента клиента:\n",
        "\n",
        "- '**Contract_period**' — длительность текущего действующего абонемента (месяц, 6 месяцев, год);\n",
        "- '**Month_to_end_contract**' — срок до окончания текущего действующего абонемента (в месяцах);\n",
        "- '**Group_visits**' — факт посещения групповых занятий;\n",
        "- '**Avg_class_frequency_total**' — средняя частота посещений в неделю за все время с начала действия абонемента;\n",
        "- '**Avg_class_frequency_current_month**' — средняя частота посещений в неделю за предыдущий месяц;\n",
        "- '**Avg_additional_charges_total**' — суммарная выручка от других услуг фитнес-центра: кафе, спорттовары, косметический и массажный салон.\n",
        "- '**Churn**' — факт оттока в текущем месяце."
      ]
    },
    {
      "cell_type": "markdown",
      "metadata": {
        "id": "PEVUEyOU4mlc"
      },
      "source": [
        "- В таблице встречаются строчные и заглавные названия колонок, приведем все значнеия в нижний регистр. Заодно уберем пробелы если они есть."
      ]
    },
    {
      "cell_type": "code",
      "execution_count": null,
      "metadata": {
        "id": "7b8ZVqtR4sUD"
      },
      "outputs": [],
      "source": [
        "df.columns = df.columns.str.replace(' ', '').str.lower()"
      ]
    },
    {
      "cell_type": "code",
      "execution_count": null,
      "metadata": {
        "colab": {
          "base_uri": "https://localhost:8080/",
          "height": 270
        },
        "id": "kA703zfs4u_n",
        "outputId": "d8b1aca9-934f-46aa-f4a0-0f1bb6d9d464"
      },
      "outputs": [
        {
          "output_type": "execute_result",
          "data": {
            "text/plain": [
              "   gender  near_location  partner  promo_friends  phone  contract_period  \\\n",
              "0       1              1        1              1      0                6   \n",
              "1       0              1        0              0      1               12   \n",
              "2       0              1        1              0      1                1   \n",
              "3       0              1        1              1      1               12   \n",
              "4       1              1        1              1      1                1   \n",
              "\n",
              "   group_visits  age  avg_additional_charges_total  month_to_end_contract  \\\n",
              "0             1   29                       14.2275                 5.0000   \n",
              "1             1   31                      113.2029                12.0000   \n",
              "2             0   28                      129.4485                 1.0000   \n",
              "3             1   33                       62.6699                12.0000   \n",
              "4             0   26                      198.3623                 1.0000   \n",
              "\n",
              "   lifetime  avg_class_frequency_total  avg_class_frequency_current_month  \\\n",
              "0         3                     0.0204                             0.0000   \n",
              "1         7                     1.9229                             1.9102   \n",
              "2         2                     1.8591                             1.7365   \n",
              "3         2                     3.2056                             3.3572   \n",
              "4         3                     1.1139                             1.1201   \n",
              "\n",
              "   churn  \n",
              "0      0  \n",
              "1      0  \n",
              "2      0  \n",
              "3      0  \n",
              "4      0  "
            ],
            "text/html": [
              "\n",
              "  <div id=\"df-4c3e0f2e-7ba4-4b36-9b9e-337f08905e65\">\n",
              "    <div class=\"colab-df-container\">\n",
              "      <div>\n",
              "<style scoped>\n",
              "    .dataframe tbody tr th:only-of-type {\n",
              "        vertical-align: middle;\n",
              "    }\n",
              "\n",
              "    .dataframe tbody tr th {\n",
              "        vertical-align: top;\n",
              "    }\n",
              "\n",
              "    .dataframe thead th {\n",
              "        text-align: right;\n",
              "    }\n",
              "</style>\n",
              "<table border=\"1\" class=\"dataframe\">\n",
              "  <thead>\n",
              "    <tr style=\"text-align: right;\">\n",
              "      <th></th>\n",
              "      <th>gender</th>\n",
              "      <th>near_location</th>\n",
              "      <th>partner</th>\n",
              "      <th>promo_friends</th>\n",
              "      <th>phone</th>\n",
              "      <th>contract_period</th>\n",
              "      <th>group_visits</th>\n",
              "      <th>age</th>\n",
              "      <th>avg_additional_charges_total</th>\n",
              "      <th>month_to_end_contract</th>\n",
              "      <th>lifetime</th>\n",
              "      <th>avg_class_frequency_total</th>\n",
              "      <th>avg_class_frequency_current_month</th>\n",
              "      <th>churn</th>\n",
              "    </tr>\n",
              "  </thead>\n",
              "  <tbody>\n",
              "    <tr>\n",
              "      <th>0</th>\n",
              "      <td>1</td>\n",
              "      <td>1</td>\n",
              "      <td>1</td>\n",
              "      <td>1</td>\n",
              "      <td>0</td>\n",
              "      <td>6</td>\n",
              "      <td>1</td>\n",
              "      <td>29</td>\n",
              "      <td>14.2275</td>\n",
              "      <td>5.0000</td>\n",
              "      <td>3</td>\n",
              "      <td>0.0204</td>\n",
              "      <td>0.0000</td>\n",
              "      <td>0</td>\n",
              "    </tr>\n",
              "    <tr>\n",
              "      <th>1</th>\n",
              "      <td>0</td>\n",
              "      <td>1</td>\n",
              "      <td>0</td>\n",
              "      <td>0</td>\n",
              "      <td>1</td>\n",
              "      <td>12</td>\n",
              "      <td>1</td>\n",
              "      <td>31</td>\n",
              "      <td>113.2029</td>\n",
              "      <td>12.0000</td>\n",
              "      <td>7</td>\n",
              "      <td>1.9229</td>\n",
              "      <td>1.9102</td>\n",
              "      <td>0</td>\n",
              "    </tr>\n",
              "    <tr>\n",
              "      <th>2</th>\n",
              "      <td>0</td>\n",
              "      <td>1</td>\n",
              "      <td>1</td>\n",
              "      <td>0</td>\n",
              "      <td>1</td>\n",
              "      <td>1</td>\n",
              "      <td>0</td>\n",
              "      <td>28</td>\n",
              "      <td>129.4485</td>\n",
              "      <td>1.0000</td>\n",
              "      <td>2</td>\n",
              "      <td>1.8591</td>\n",
              "      <td>1.7365</td>\n",
              "      <td>0</td>\n",
              "    </tr>\n",
              "    <tr>\n",
              "      <th>3</th>\n",
              "      <td>0</td>\n",
              "      <td>1</td>\n",
              "      <td>1</td>\n",
              "      <td>1</td>\n",
              "      <td>1</td>\n",
              "      <td>12</td>\n",
              "      <td>1</td>\n",
              "      <td>33</td>\n",
              "      <td>62.6699</td>\n",
              "      <td>12.0000</td>\n",
              "      <td>2</td>\n",
              "      <td>3.2056</td>\n",
              "      <td>3.3572</td>\n",
              "      <td>0</td>\n",
              "    </tr>\n",
              "    <tr>\n",
              "      <th>4</th>\n",
              "      <td>1</td>\n",
              "      <td>1</td>\n",
              "      <td>1</td>\n",
              "      <td>1</td>\n",
              "      <td>1</td>\n",
              "      <td>1</td>\n",
              "      <td>0</td>\n",
              "      <td>26</td>\n",
              "      <td>198.3623</td>\n",
              "      <td>1.0000</td>\n",
              "      <td>3</td>\n",
              "      <td>1.1139</td>\n",
              "      <td>1.1201</td>\n",
              "      <td>0</td>\n",
              "    </tr>\n",
              "  </tbody>\n",
              "</table>\n",
              "</div>\n",
              "      <button class=\"colab-df-convert\" onclick=\"convertToInteractive('df-4c3e0f2e-7ba4-4b36-9b9e-337f08905e65')\"\n",
              "              title=\"Convert this dataframe to an interactive table.\"\n",
              "              style=\"display:none;\">\n",
              "        \n",
              "  <svg xmlns=\"http://www.w3.org/2000/svg\" height=\"24px\"viewBox=\"0 0 24 24\"\n",
              "       width=\"24px\">\n",
              "    <path d=\"M0 0h24v24H0V0z\" fill=\"none\"/>\n",
              "    <path d=\"M18.56 5.44l.94 2.06.94-2.06 2.06-.94-2.06-.94-.94-2.06-.94 2.06-2.06.94zm-11 1L8.5 8.5l.94-2.06 2.06-.94-2.06-.94L8.5 2.5l-.94 2.06-2.06.94zm10 10l.94 2.06.94-2.06 2.06-.94-2.06-.94-.94-2.06-.94 2.06-2.06.94z\"/><path d=\"M17.41 7.96l-1.37-1.37c-.4-.4-.92-.59-1.43-.59-.52 0-1.04.2-1.43.59L10.3 9.45l-7.72 7.72c-.78.78-.78 2.05 0 2.83L4 21.41c.39.39.9.59 1.41.59.51 0 1.02-.2 1.41-.59l7.78-7.78 2.81-2.81c.8-.78.8-2.07 0-2.86zM5.41 20L4 18.59l7.72-7.72 1.47 1.35L5.41 20z\"/>\n",
              "  </svg>\n",
              "      </button>\n",
              "      \n",
              "  <style>\n",
              "    .colab-df-container {\n",
              "      display:flex;\n",
              "      flex-wrap:wrap;\n",
              "      gap: 12px;\n",
              "    }\n",
              "\n",
              "    .colab-df-convert {\n",
              "      background-color: #E8F0FE;\n",
              "      border: none;\n",
              "      border-radius: 50%;\n",
              "      cursor: pointer;\n",
              "      display: none;\n",
              "      fill: #1967D2;\n",
              "      height: 32px;\n",
              "      padding: 0 0 0 0;\n",
              "      width: 32px;\n",
              "    }\n",
              "\n",
              "    .colab-df-convert:hover {\n",
              "      background-color: #E2EBFA;\n",
              "      box-shadow: 0px 1px 2px rgba(60, 64, 67, 0.3), 0px 1px 3px 1px rgba(60, 64, 67, 0.15);\n",
              "      fill: #174EA6;\n",
              "    }\n",
              "\n",
              "    [theme=dark] .colab-df-convert {\n",
              "      background-color: #3B4455;\n",
              "      fill: #D2E3FC;\n",
              "    }\n",
              "\n",
              "    [theme=dark] .colab-df-convert:hover {\n",
              "      background-color: #434B5C;\n",
              "      box-shadow: 0px 1px 3px 1px rgba(0, 0, 0, 0.15);\n",
              "      filter: drop-shadow(0px 1px 2px rgba(0, 0, 0, 0.3));\n",
              "      fill: #FFFFFF;\n",
              "    }\n",
              "  </style>\n",
              "\n",
              "      <script>\n",
              "        const buttonEl =\n",
              "          document.querySelector('#df-4c3e0f2e-7ba4-4b36-9b9e-337f08905e65 button.colab-df-convert');\n",
              "        buttonEl.style.display =\n",
              "          google.colab.kernel.accessAllowed ? 'block' : 'none';\n",
              "\n",
              "        async function convertToInteractive(key) {\n",
              "          const element = document.querySelector('#df-4c3e0f2e-7ba4-4b36-9b9e-337f08905e65');\n",
              "          const dataTable =\n",
              "            await google.colab.kernel.invokeFunction('convertToInteractive',\n",
              "                                                     [key], {});\n",
              "          if (!dataTable) return;\n",
              "\n",
              "          const docLinkHtml = 'Like what you see? Visit the ' +\n",
              "            '<a target=\"_blank\" href=https://colab.research.google.com/notebooks/data_table.ipynb>data table notebook</a>'\n",
              "            + ' to learn more about interactive tables.';\n",
              "          element.innerHTML = '';\n",
              "          dataTable['output_type'] = 'display_data';\n",
              "          await google.colab.output.renderOutput(dataTable, element);\n",
              "          const docLink = document.createElement('div');\n",
              "          docLink.innerHTML = docLinkHtml;\n",
              "          element.appendChild(docLink);\n",
              "        }\n",
              "      </script>\n",
              "    </div>\n",
              "  </div>\n",
              "  "
            ]
          },
          "metadata": {},
          "execution_count": 8
        }
      ],
      "source": [
        "df.head()"
      ]
    },
    {
      "cell_type": "markdown",
      "metadata": {
        "id": "VAANA04l4ryd"
      },
      "source": [
        "## 3.1 Проверка на дубликаты"
      ]
    },
    {
      "cell_type": "code",
      "execution_count": null,
      "metadata": {
        "colab": {
          "base_uri": "https://localhost:8080/"
        },
        "id": "OhTEVKT25iPI",
        "outputId": "69bbffb2-217e-4d24-b8d0-31ae70589e0d"
      },
      "outputs": [
        {
          "output_type": "execute_result",
          "data": {
            "text/plain": [
              "0"
            ]
          },
          "metadata": {},
          "execution_count": 9
        }
      ],
      "source": [
        "df.duplicated().sum()"
      ]
    },
    {
      "cell_type": "markdown",
      "metadata": {
        "id": "aZjW49ud5k5l"
      },
      "source": [
        "- Явные дубликаты отсутствуют. В теории было возможно совпадение, что не озночало бы, что данные являются дублем, просто ходит брат близнец."
      ]
    },
    {
      "cell_type": "markdown",
      "metadata": {
        "id": "Ckh7t0Jz6HuO"
      },
      "source": [
        "## 3.2 Поиск аномальных значений"
      ]
    },
    {
      "cell_type": "markdown",
      "metadata": {
        "id": "3SvJKk_-9OZV"
      },
      "source": [
        "- Изучим отдельно булевы и остальные значения."
      ]
    },
    {
      "cell_type": "markdown",
      "metadata": {
        "id": "dx5iWwgL9qmB"
      },
      "source": [
        "### 3.2.1 Описане булевых значений таблицы"
      ]
    },
    {
      "cell_type": "code",
      "execution_count": null,
      "metadata": {
        "id": "DhkZV_8WBk1n"
      },
      "outputs": [],
      "source": [
        "df_bool = df[['gender', 'near_location', 'partner', 'promo_friends', 'phone',\n",
        "    'group_visits', 'churn']]"
      ]
    },
    {
      "cell_type": "code",
      "execution_count": null,
      "metadata": {
        "colab": {
          "base_uri": "https://localhost:8080/",
          "height": 269
        },
        "id": "Doi1TQBd2vpY",
        "outputId": "1033dcc5-5dcf-4291-9fb4-af9e583b36a7"
      },
      "outputs": [
        {
          "output_type": "execute_result",
          "data": {
            "text/plain": [
              "                  count   mean    std    min    25%    50%    75%    max\n",
              "gender        4000.0000 0.5102 0.5000 0.0000 0.0000 1.0000 1.0000 1.0000\n",
              "near_location 4000.0000 0.8452 0.3617 0.0000 1.0000 1.0000 1.0000 1.0000\n",
              "partner       4000.0000 0.4868 0.4999 0.0000 0.0000 0.0000 1.0000 1.0000\n",
              "promo_friends 4000.0000 0.3085 0.4619 0.0000 0.0000 0.0000 1.0000 1.0000\n",
              "phone         4000.0000 0.9035 0.2953 0.0000 1.0000 1.0000 1.0000 1.0000\n",
              "group_visits  4000.0000 0.4123 0.4923 0.0000 0.0000 0.0000 1.0000 1.0000\n",
              "churn         4000.0000 0.2652 0.4415 0.0000 0.0000 0.0000 1.0000 1.0000"
            ],
            "text/html": [
              "\n",
              "  <div id=\"df-01757e81-a9bf-4cf1-a90a-2c5097168e54\">\n",
              "    <div class=\"colab-df-container\">\n",
              "      <div>\n",
              "<style scoped>\n",
              "    .dataframe tbody tr th:only-of-type {\n",
              "        vertical-align: middle;\n",
              "    }\n",
              "\n",
              "    .dataframe tbody tr th {\n",
              "        vertical-align: top;\n",
              "    }\n",
              "\n",
              "    .dataframe thead th {\n",
              "        text-align: right;\n",
              "    }\n",
              "</style>\n",
              "<table border=\"1\" class=\"dataframe\">\n",
              "  <thead>\n",
              "    <tr style=\"text-align: right;\">\n",
              "      <th></th>\n",
              "      <th>count</th>\n",
              "      <th>mean</th>\n",
              "      <th>std</th>\n",
              "      <th>min</th>\n",
              "      <th>25%</th>\n",
              "      <th>50%</th>\n",
              "      <th>75%</th>\n",
              "      <th>max</th>\n",
              "    </tr>\n",
              "  </thead>\n",
              "  <tbody>\n",
              "    <tr>\n",
              "      <th>gender</th>\n",
              "      <td>4000.0000</td>\n",
              "      <td>0.5102</td>\n",
              "      <td>0.5000</td>\n",
              "      <td>0.0000</td>\n",
              "      <td>0.0000</td>\n",
              "      <td>1.0000</td>\n",
              "      <td>1.0000</td>\n",
              "      <td>1.0000</td>\n",
              "    </tr>\n",
              "    <tr>\n",
              "      <th>near_location</th>\n",
              "      <td>4000.0000</td>\n",
              "      <td>0.8452</td>\n",
              "      <td>0.3617</td>\n",
              "      <td>0.0000</td>\n",
              "      <td>1.0000</td>\n",
              "      <td>1.0000</td>\n",
              "      <td>1.0000</td>\n",
              "      <td>1.0000</td>\n",
              "    </tr>\n",
              "    <tr>\n",
              "      <th>partner</th>\n",
              "      <td>4000.0000</td>\n",
              "      <td>0.4868</td>\n",
              "      <td>0.4999</td>\n",
              "      <td>0.0000</td>\n",
              "      <td>0.0000</td>\n",
              "      <td>0.0000</td>\n",
              "      <td>1.0000</td>\n",
              "      <td>1.0000</td>\n",
              "    </tr>\n",
              "    <tr>\n",
              "      <th>promo_friends</th>\n",
              "      <td>4000.0000</td>\n",
              "      <td>0.3085</td>\n",
              "      <td>0.4619</td>\n",
              "      <td>0.0000</td>\n",
              "      <td>0.0000</td>\n",
              "      <td>0.0000</td>\n",
              "      <td>1.0000</td>\n",
              "      <td>1.0000</td>\n",
              "    </tr>\n",
              "    <tr>\n",
              "      <th>phone</th>\n",
              "      <td>4000.0000</td>\n",
              "      <td>0.9035</td>\n",
              "      <td>0.2953</td>\n",
              "      <td>0.0000</td>\n",
              "      <td>1.0000</td>\n",
              "      <td>1.0000</td>\n",
              "      <td>1.0000</td>\n",
              "      <td>1.0000</td>\n",
              "    </tr>\n",
              "    <tr>\n",
              "      <th>group_visits</th>\n",
              "      <td>4000.0000</td>\n",
              "      <td>0.4123</td>\n",
              "      <td>0.4923</td>\n",
              "      <td>0.0000</td>\n",
              "      <td>0.0000</td>\n",
              "      <td>0.0000</td>\n",
              "      <td>1.0000</td>\n",
              "      <td>1.0000</td>\n",
              "    </tr>\n",
              "    <tr>\n",
              "      <th>churn</th>\n",
              "      <td>4000.0000</td>\n",
              "      <td>0.2652</td>\n",
              "      <td>0.4415</td>\n",
              "      <td>0.0000</td>\n",
              "      <td>0.0000</td>\n",
              "      <td>0.0000</td>\n",
              "      <td>1.0000</td>\n",
              "      <td>1.0000</td>\n",
              "    </tr>\n",
              "  </tbody>\n",
              "</table>\n",
              "</div>\n",
              "      <button class=\"colab-df-convert\" onclick=\"convertToInteractive('df-01757e81-a9bf-4cf1-a90a-2c5097168e54')\"\n",
              "              title=\"Convert this dataframe to an interactive table.\"\n",
              "              style=\"display:none;\">\n",
              "        \n",
              "  <svg xmlns=\"http://www.w3.org/2000/svg\" height=\"24px\"viewBox=\"0 0 24 24\"\n",
              "       width=\"24px\">\n",
              "    <path d=\"M0 0h24v24H0V0z\" fill=\"none\"/>\n",
              "    <path d=\"M18.56 5.44l.94 2.06.94-2.06 2.06-.94-2.06-.94-.94-2.06-.94 2.06-2.06.94zm-11 1L8.5 8.5l.94-2.06 2.06-.94-2.06-.94L8.5 2.5l-.94 2.06-2.06.94zm10 10l.94 2.06.94-2.06 2.06-.94-2.06-.94-.94-2.06-.94 2.06-2.06.94z\"/><path d=\"M17.41 7.96l-1.37-1.37c-.4-.4-.92-.59-1.43-.59-.52 0-1.04.2-1.43.59L10.3 9.45l-7.72 7.72c-.78.78-.78 2.05 0 2.83L4 21.41c.39.39.9.59 1.41.59.51 0 1.02-.2 1.41-.59l7.78-7.78 2.81-2.81c.8-.78.8-2.07 0-2.86zM5.41 20L4 18.59l7.72-7.72 1.47 1.35L5.41 20z\"/>\n",
              "  </svg>\n",
              "      </button>\n",
              "      \n",
              "  <style>\n",
              "    .colab-df-container {\n",
              "      display:flex;\n",
              "      flex-wrap:wrap;\n",
              "      gap: 12px;\n",
              "    }\n",
              "\n",
              "    .colab-df-convert {\n",
              "      background-color: #E8F0FE;\n",
              "      border: none;\n",
              "      border-radius: 50%;\n",
              "      cursor: pointer;\n",
              "      display: none;\n",
              "      fill: #1967D2;\n",
              "      height: 32px;\n",
              "      padding: 0 0 0 0;\n",
              "      width: 32px;\n",
              "    }\n",
              "\n",
              "    .colab-df-convert:hover {\n",
              "      background-color: #E2EBFA;\n",
              "      box-shadow: 0px 1px 2px rgba(60, 64, 67, 0.3), 0px 1px 3px 1px rgba(60, 64, 67, 0.15);\n",
              "      fill: #174EA6;\n",
              "    }\n",
              "\n",
              "    [theme=dark] .colab-df-convert {\n",
              "      background-color: #3B4455;\n",
              "      fill: #D2E3FC;\n",
              "    }\n",
              "\n",
              "    [theme=dark] .colab-df-convert:hover {\n",
              "      background-color: #434B5C;\n",
              "      box-shadow: 0px 1px 3px 1px rgba(0, 0, 0, 0.15);\n",
              "      filter: drop-shadow(0px 1px 2px rgba(0, 0, 0, 0.3));\n",
              "      fill: #FFFFFF;\n",
              "    }\n",
              "  </style>\n",
              "\n",
              "      <script>\n",
              "        const buttonEl =\n",
              "          document.querySelector('#df-01757e81-a9bf-4cf1-a90a-2c5097168e54 button.colab-df-convert');\n",
              "        buttonEl.style.display =\n",
              "          google.colab.kernel.accessAllowed ? 'block' : 'none';\n",
              "\n",
              "        async function convertToInteractive(key) {\n",
              "          const element = document.querySelector('#df-01757e81-a9bf-4cf1-a90a-2c5097168e54');\n",
              "          const dataTable =\n",
              "            await google.colab.kernel.invokeFunction('convertToInteractive',\n",
              "                                                     [key], {});\n",
              "          if (!dataTable) return;\n",
              "\n",
              "          const docLinkHtml = 'Like what you see? Visit the ' +\n",
              "            '<a target=\"_blank\" href=https://colab.research.google.com/notebooks/data_table.ipynb>data table notebook</a>'\n",
              "            + ' to learn more about interactive tables.';\n",
              "          element.innerHTML = '';\n",
              "          dataTable['output_type'] = 'display_data';\n",
              "          await google.colab.output.renderOutput(dataTable, element);\n",
              "          const docLink = document.createElement('div');\n",
              "          docLink.innerHTML = docLinkHtml;\n",
              "          element.appendChild(docLink);\n",
              "        }\n",
              "      </script>\n",
              "    </div>\n",
              "  </div>\n",
              "  "
            ]
          },
          "metadata": {},
          "execution_count": 11
        }
      ],
      "source": [
        "df_bool.describe().T"
      ]
    },
    {
      "cell_type": "markdown",
      "metadata": {
        "id": "iwmpPZAf6ael"
      },
      "source": [
        "- в наш фитнес ходят почти поровну мужчин и женщин, в основном те кто живет рядом 84%\n",
        "- чуть меньше половины 48% ходят используя партнерские программы, 30% пришли по акции \"приведи друга\"\n",
        "- 10% не оставили своего номера, 41% ходит на групповые занятия\n",
        "- около 26.5% ушли от нас"
      ]
    },
    {
      "cell_type": "markdown",
      "metadata": {
        "id": "VQ9v4yip9zcQ"
      },
      "source": [
        "### 3.2.2 Описане других значений таблицы"
      ]
    },
    {
      "cell_type": "code",
      "execution_count": null,
      "metadata": {
        "id": "fdk0Q7rFBsnA"
      },
      "outputs": [],
      "source": [
        "df_other = df[['contract_period', 'age','avg_additional_charges_total', \n",
        "    'month_to_end_contract', 'lifetime',\n",
        "    'avg_class_frequency_total', 'avg_class_frequency_current_month', 'churn']]"
      ]
    },
    {
      "cell_type": "code",
      "execution_count": null,
      "metadata": {
        "colab": {
          "base_uri": "https://localhost:8080/",
          "height": 300
        },
        "id": "-16kaIC26Lec",
        "outputId": "94d3d384-297b-424b-dccf-7174a6c7f5a8"
      },
      "outputs": [
        {
          "output_type": "execute_result",
          "data": {
            "text/plain": [
              "                                      count     mean     std     min     25%  \\\n",
              "contract_period                   4000.0000   4.6813  4.5497  1.0000  1.0000   \n",
              "age                               4000.0000  29.1842  3.2584 18.0000 27.0000   \n",
              "avg_additional_charges_total      4000.0000 146.9437 96.3556  0.1482 68.8688   \n",
              "month_to_end_contract             4000.0000   4.3228  4.1913  1.0000  1.0000   \n",
              "lifetime                          4000.0000   3.7247  3.7493  0.0000  1.0000   \n",
              "avg_class_frequency_total         4000.0000   1.8790  0.9722  0.0000  1.1809   \n",
              "avg_class_frequency_current_month 4000.0000   1.7671  1.0529  0.0000  0.9630   \n",
              "churn                             4000.0000   0.2652  0.4415  0.0000  0.0000   \n",
              "\n",
              "                                       50%      75%      max  \n",
              "contract_period                     1.0000   6.0000  12.0000  \n",
              "age                                29.0000  31.0000  41.0000  \n",
              "avg_additional_charges_total      136.2202 210.9496 552.5907  \n",
              "month_to_end_contract               1.0000   6.0000  12.0000  \n",
              "lifetime                            3.0000   5.0000  31.0000  \n",
              "avg_class_frequency_total           1.8328   2.5361   6.0237  \n",
              "avg_class_frequency_current_month   1.7196   2.5103   6.1468  \n",
              "churn                               0.0000   1.0000   1.0000  "
            ],
            "text/html": [
              "\n",
              "  <div id=\"df-6c9667e9-0f9d-4cfa-b0bc-6122047c6cf7\">\n",
              "    <div class=\"colab-df-container\">\n",
              "      <div>\n",
              "<style scoped>\n",
              "    .dataframe tbody tr th:only-of-type {\n",
              "        vertical-align: middle;\n",
              "    }\n",
              "\n",
              "    .dataframe tbody tr th {\n",
              "        vertical-align: top;\n",
              "    }\n",
              "\n",
              "    .dataframe thead th {\n",
              "        text-align: right;\n",
              "    }\n",
              "</style>\n",
              "<table border=\"1\" class=\"dataframe\">\n",
              "  <thead>\n",
              "    <tr style=\"text-align: right;\">\n",
              "      <th></th>\n",
              "      <th>count</th>\n",
              "      <th>mean</th>\n",
              "      <th>std</th>\n",
              "      <th>min</th>\n",
              "      <th>25%</th>\n",
              "      <th>50%</th>\n",
              "      <th>75%</th>\n",
              "      <th>max</th>\n",
              "    </tr>\n",
              "  </thead>\n",
              "  <tbody>\n",
              "    <tr>\n",
              "      <th>contract_period</th>\n",
              "      <td>4000.0000</td>\n",
              "      <td>4.6813</td>\n",
              "      <td>4.5497</td>\n",
              "      <td>1.0000</td>\n",
              "      <td>1.0000</td>\n",
              "      <td>1.0000</td>\n",
              "      <td>6.0000</td>\n",
              "      <td>12.0000</td>\n",
              "    </tr>\n",
              "    <tr>\n",
              "      <th>age</th>\n",
              "      <td>4000.0000</td>\n",
              "      <td>29.1842</td>\n",
              "      <td>3.2584</td>\n",
              "      <td>18.0000</td>\n",
              "      <td>27.0000</td>\n",
              "      <td>29.0000</td>\n",
              "      <td>31.0000</td>\n",
              "      <td>41.0000</td>\n",
              "    </tr>\n",
              "    <tr>\n",
              "      <th>avg_additional_charges_total</th>\n",
              "      <td>4000.0000</td>\n",
              "      <td>146.9437</td>\n",
              "      <td>96.3556</td>\n",
              "      <td>0.1482</td>\n",
              "      <td>68.8688</td>\n",
              "      <td>136.2202</td>\n",
              "      <td>210.9496</td>\n",
              "      <td>552.5907</td>\n",
              "    </tr>\n",
              "    <tr>\n",
              "      <th>month_to_end_contract</th>\n",
              "      <td>4000.0000</td>\n",
              "      <td>4.3228</td>\n",
              "      <td>4.1913</td>\n",
              "      <td>1.0000</td>\n",
              "      <td>1.0000</td>\n",
              "      <td>1.0000</td>\n",
              "      <td>6.0000</td>\n",
              "      <td>12.0000</td>\n",
              "    </tr>\n",
              "    <tr>\n",
              "      <th>lifetime</th>\n",
              "      <td>4000.0000</td>\n",
              "      <td>3.7247</td>\n",
              "      <td>3.7493</td>\n",
              "      <td>0.0000</td>\n",
              "      <td>1.0000</td>\n",
              "      <td>3.0000</td>\n",
              "      <td>5.0000</td>\n",
              "      <td>31.0000</td>\n",
              "    </tr>\n",
              "    <tr>\n",
              "      <th>avg_class_frequency_total</th>\n",
              "      <td>4000.0000</td>\n",
              "      <td>1.8790</td>\n",
              "      <td>0.9722</td>\n",
              "      <td>0.0000</td>\n",
              "      <td>1.1809</td>\n",
              "      <td>1.8328</td>\n",
              "      <td>2.5361</td>\n",
              "      <td>6.0237</td>\n",
              "    </tr>\n",
              "    <tr>\n",
              "      <th>avg_class_frequency_current_month</th>\n",
              "      <td>4000.0000</td>\n",
              "      <td>1.7671</td>\n",
              "      <td>1.0529</td>\n",
              "      <td>0.0000</td>\n",
              "      <td>0.9630</td>\n",
              "      <td>1.7196</td>\n",
              "      <td>2.5103</td>\n",
              "      <td>6.1468</td>\n",
              "    </tr>\n",
              "    <tr>\n",
              "      <th>churn</th>\n",
              "      <td>4000.0000</td>\n",
              "      <td>0.2652</td>\n",
              "      <td>0.4415</td>\n",
              "      <td>0.0000</td>\n",
              "      <td>0.0000</td>\n",
              "      <td>0.0000</td>\n",
              "      <td>1.0000</td>\n",
              "      <td>1.0000</td>\n",
              "    </tr>\n",
              "  </tbody>\n",
              "</table>\n",
              "</div>\n",
              "      <button class=\"colab-df-convert\" onclick=\"convertToInteractive('df-6c9667e9-0f9d-4cfa-b0bc-6122047c6cf7')\"\n",
              "              title=\"Convert this dataframe to an interactive table.\"\n",
              "              style=\"display:none;\">\n",
              "        \n",
              "  <svg xmlns=\"http://www.w3.org/2000/svg\" height=\"24px\"viewBox=\"0 0 24 24\"\n",
              "       width=\"24px\">\n",
              "    <path d=\"M0 0h24v24H0V0z\" fill=\"none\"/>\n",
              "    <path d=\"M18.56 5.44l.94 2.06.94-2.06 2.06-.94-2.06-.94-.94-2.06-.94 2.06-2.06.94zm-11 1L8.5 8.5l.94-2.06 2.06-.94-2.06-.94L8.5 2.5l-.94 2.06-2.06.94zm10 10l.94 2.06.94-2.06 2.06-.94-2.06-.94-.94-2.06-.94 2.06-2.06.94z\"/><path d=\"M17.41 7.96l-1.37-1.37c-.4-.4-.92-.59-1.43-.59-.52 0-1.04.2-1.43.59L10.3 9.45l-7.72 7.72c-.78.78-.78 2.05 0 2.83L4 21.41c.39.39.9.59 1.41.59.51 0 1.02-.2 1.41-.59l7.78-7.78 2.81-2.81c.8-.78.8-2.07 0-2.86zM5.41 20L4 18.59l7.72-7.72 1.47 1.35L5.41 20z\"/>\n",
              "  </svg>\n",
              "      </button>\n",
              "      \n",
              "  <style>\n",
              "    .colab-df-container {\n",
              "      display:flex;\n",
              "      flex-wrap:wrap;\n",
              "      gap: 12px;\n",
              "    }\n",
              "\n",
              "    .colab-df-convert {\n",
              "      background-color: #E8F0FE;\n",
              "      border: none;\n",
              "      border-radius: 50%;\n",
              "      cursor: pointer;\n",
              "      display: none;\n",
              "      fill: #1967D2;\n",
              "      height: 32px;\n",
              "      padding: 0 0 0 0;\n",
              "      width: 32px;\n",
              "    }\n",
              "\n",
              "    .colab-df-convert:hover {\n",
              "      background-color: #E2EBFA;\n",
              "      box-shadow: 0px 1px 2px rgba(60, 64, 67, 0.3), 0px 1px 3px 1px rgba(60, 64, 67, 0.15);\n",
              "      fill: #174EA6;\n",
              "    }\n",
              "\n",
              "    [theme=dark] .colab-df-convert {\n",
              "      background-color: #3B4455;\n",
              "      fill: #D2E3FC;\n",
              "    }\n",
              "\n",
              "    [theme=dark] .colab-df-convert:hover {\n",
              "      background-color: #434B5C;\n",
              "      box-shadow: 0px 1px 3px 1px rgba(0, 0, 0, 0.15);\n",
              "      filter: drop-shadow(0px 1px 2px rgba(0, 0, 0, 0.3));\n",
              "      fill: #FFFFFF;\n",
              "    }\n",
              "  </style>\n",
              "\n",
              "      <script>\n",
              "        const buttonEl =\n",
              "          document.querySelector('#df-6c9667e9-0f9d-4cfa-b0bc-6122047c6cf7 button.colab-df-convert');\n",
              "        buttonEl.style.display =\n",
              "          google.colab.kernel.accessAllowed ? 'block' : 'none';\n",
              "\n",
              "        async function convertToInteractive(key) {\n",
              "          const element = document.querySelector('#df-6c9667e9-0f9d-4cfa-b0bc-6122047c6cf7');\n",
              "          const dataTable =\n",
              "            await google.colab.kernel.invokeFunction('convertToInteractive',\n",
              "                                                     [key], {});\n",
              "          if (!dataTable) return;\n",
              "\n",
              "          const docLinkHtml = 'Like what you see? Visit the ' +\n",
              "            '<a target=\"_blank\" href=https://colab.research.google.com/notebooks/data_table.ipynb>data table notebook</a>'\n",
              "            + ' to learn more about interactive tables.';\n",
              "          element.innerHTML = '';\n",
              "          dataTable['output_type'] = 'display_data';\n",
              "          await google.colab.output.renderOutput(dataTable, element);\n",
              "          const docLink = document.createElement('div');\n",
              "          docLink.innerHTML = docLinkHtml;\n",
              "          element.appendChild(docLink);\n",
              "        }\n",
              "      </script>\n",
              "    </div>\n",
              "  </div>\n",
              "  "
            ]
          },
          "metadata": {},
          "execution_count": 13
        }
      ],
      "source": [
        "df_other.describe().T"
      ]
    },
    {
      "cell_type": "markdown",
      "metadata": {
        "id": "EpC12i_w-kIj"
      },
      "source": [
        "- в среднем абонемент покупают на 5 месяцев, причем мы имеем большое std в 5 месяцев\n",
        "- к нам ходят клиенты средний возраст 29 лет, самый молодой 18 лет, тот что постарше 41 годик. Почти каждый найдет себе ровестника std всего 3 года.\n",
        "- каждый в среднем приносит по 147(дол.) помимо стоимости абонемента, std 96(дол.)\n",
        "- 4 месяца занятий в запасе, отлично! правда есть и те у кого он закончился std 4\n",
        "- наш средне статистический спортсмен тренeруется 4 месяца, очень мало, за 4 месяца даже подтягиваться не научишься. std 4\n",
        "- а ходит он 2 раза в неделю (по хорошему надо раза 3), при std в 1\n",
        "- в показателе хождения в неделю по пред месяцу, все почти так же."
      ]
    },
    {
      "cell_type": "markdown",
      "metadata": {
        "id": "SXuN-oZmDXof"
      },
      "source": [
        "## 3.3 Средние значения признаков по **Churn**"
      ]
    },
    {
      "cell_type": "markdown",
      "metadata": {
        "id": "v9zdhfujOK9c"
      },
      "source": [
        "- Создадим сводную таблицу с группировкой по факту оттока где 0 остался, 1 ушел. \n",
        "- Посчитаем разницу между группами 0 и 1(diff), чтобы выявить где есть изменения."
      ]
    },
    {
      "cell_type": "code",
      "execution_count": null,
      "metadata": {
        "colab": {
          "base_uri": "https://localhost:8080/",
          "height": 457
        },
        "id": "lxsU8IszEJkZ",
        "outputId": "a837d5cb-b195-454b-d0c9-cf18ce4f9dda"
      },
      "outputs": [
        {
          "output_type": "execute_result",
          "data": {
            "text/plain": [
              "churn                                 stay    leave    diff\n",
              "gender                              0.5100   0.5108 -0.0008\n",
              "phone                               0.9037   0.9029  0.0008\n",
              "near_location                       0.8731   0.7681  0.1049\n",
              "promo_friends                       0.3535   0.1838  0.1697\n",
              "partner                             0.5342   0.3553  0.1789\n",
              "group_visits                        0.4641   0.2686  0.1955\n",
              "avg_class_frequency_total           2.0249   1.4750  0.5499\n",
              "avg_class_frequency_current_month   2.0279   1.0445  0.9833\n",
              "age                                29.9765  26.9896  2.9869\n",
              "month_to_end_contract               5.2831   1.6626  3.6205\n",
              "lifetime                            4.7118   0.9906  3.7212\n",
              "contract_period                     5.7472   1.7286  4.0186\n",
              "avg_additional_charges_total      158.4457 115.0829 43.3628"
            ],
            "text/html": [
              "\n",
              "  <div id=\"df-7688efeb-f0fc-4ce3-9a45-c51948a868cc\">\n",
              "    <div class=\"colab-df-container\">\n",
              "      <div>\n",
              "<style scoped>\n",
              "    .dataframe tbody tr th:only-of-type {\n",
              "        vertical-align: middle;\n",
              "    }\n",
              "\n",
              "    .dataframe tbody tr th {\n",
              "        vertical-align: top;\n",
              "    }\n",
              "\n",
              "    .dataframe thead th {\n",
              "        text-align: right;\n",
              "    }\n",
              "</style>\n",
              "<table border=\"1\" class=\"dataframe\">\n",
              "  <thead>\n",
              "    <tr style=\"text-align: right;\">\n",
              "      <th>churn</th>\n",
              "      <th>stay</th>\n",
              "      <th>leave</th>\n",
              "      <th>diff</th>\n",
              "    </tr>\n",
              "  </thead>\n",
              "  <tbody>\n",
              "    <tr>\n",
              "      <th>gender</th>\n",
              "      <td>0.5100</td>\n",
              "      <td>0.5108</td>\n",
              "      <td>-0.0008</td>\n",
              "    </tr>\n",
              "    <tr>\n",
              "      <th>phone</th>\n",
              "      <td>0.9037</td>\n",
              "      <td>0.9029</td>\n",
              "      <td>0.0008</td>\n",
              "    </tr>\n",
              "    <tr>\n",
              "      <th>near_location</th>\n",
              "      <td>0.8731</td>\n",
              "      <td>0.7681</td>\n",
              "      <td>0.1049</td>\n",
              "    </tr>\n",
              "    <tr>\n",
              "      <th>promo_friends</th>\n",
              "      <td>0.3535</td>\n",
              "      <td>0.1838</td>\n",
              "      <td>0.1697</td>\n",
              "    </tr>\n",
              "    <tr>\n",
              "      <th>partner</th>\n",
              "      <td>0.5342</td>\n",
              "      <td>0.3553</td>\n",
              "      <td>0.1789</td>\n",
              "    </tr>\n",
              "    <tr>\n",
              "      <th>group_visits</th>\n",
              "      <td>0.4641</td>\n",
              "      <td>0.2686</td>\n",
              "      <td>0.1955</td>\n",
              "    </tr>\n",
              "    <tr>\n",
              "      <th>avg_class_frequency_total</th>\n",
              "      <td>2.0249</td>\n",
              "      <td>1.4750</td>\n",
              "      <td>0.5499</td>\n",
              "    </tr>\n",
              "    <tr>\n",
              "      <th>avg_class_frequency_current_month</th>\n",
              "      <td>2.0279</td>\n",
              "      <td>1.0445</td>\n",
              "      <td>0.9833</td>\n",
              "    </tr>\n",
              "    <tr>\n",
              "      <th>age</th>\n",
              "      <td>29.9765</td>\n",
              "      <td>26.9896</td>\n",
              "      <td>2.9869</td>\n",
              "    </tr>\n",
              "    <tr>\n",
              "      <th>month_to_end_contract</th>\n",
              "      <td>5.2831</td>\n",
              "      <td>1.6626</td>\n",
              "      <td>3.6205</td>\n",
              "    </tr>\n",
              "    <tr>\n",
              "      <th>lifetime</th>\n",
              "      <td>4.7118</td>\n",
              "      <td>0.9906</td>\n",
              "      <td>3.7212</td>\n",
              "    </tr>\n",
              "    <tr>\n",
              "      <th>contract_period</th>\n",
              "      <td>5.7472</td>\n",
              "      <td>1.7286</td>\n",
              "      <td>4.0186</td>\n",
              "    </tr>\n",
              "    <tr>\n",
              "      <th>avg_additional_charges_total</th>\n",
              "      <td>158.4457</td>\n",
              "      <td>115.0829</td>\n",
              "      <td>43.3628</td>\n",
              "    </tr>\n",
              "  </tbody>\n",
              "</table>\n",
              "</div>\n",
              "      <button class=\"colab-df-convert\" onclick=\"convertToInteractive('df-7688efeb-f0fc-4ce3-9a45-c51948a868cc')\"\n",
              "              title=\"Convert this dataframe to an interactive table.\"\n",
              "              style=\"display:none;\">\n",
              "        \n",
              "  <svg xmlns=\"http://www.w3.org/2000/svg\" height=\"24px\"viewBox=\"0 0 24 24\"\n",
              "       width=\"24px\">\n",
              "    <path d=\"M0 0h24v24H0V0z\" fill=\"none\"/>\n",
              "    <path d=\"M18.56 5.44l.94 2.06.94-2.06 2.06-.94-2.06-.94-.94-2.06-.94 2.06-2.06.94zm-11 1L8.5 8.5l.94-2.06 2.06-.94-2.06-.94L8.5 2.5l-.94 2.06-2.06.94zm10 10l.94 2.06.94-2.06 2.06-.94-2.06-.94-.94-2.06-.94 2.06-2.06.94z\"/><path d=\"M17.41 7.96l-1.37-1.37c-.4-.4-.92-.59-1.43-.59-.52 0-1.04.2-1.43.59L10.3 9.45l-7.72 7.72c-.78.78-.78 2.05 0 2.83L4 21.41c.39.39.9.59 1.41.59.51 0 1.02-.2 1.41-.59l7.78-7.78 2.81-2.81c.8-.78.8-2.07 0-2.86zM5.41 20L4 18.59l7.72-7.72 1.47 1.35L5.41 20z\"/>\n",
              "  </svg>\n",
              "      </button>\n",
              "      \n",
              "  <style>\n",
              "    .colab-df-container {\n",
              "      display:flex;\n",
              "      flex-wrap:wrap;\n",
              "      gap: 12px;\n",
              "    }\n",
              "\n",
              "    .colab-df-convert {\n",
              "      background-color: #E8F0FE;\n",
              "      border: none;\n",
              "      border-radius: 50%;\n",
              "      cursor: pointer;\n",
              "      display: none;\n",
              "      fill: #1967D2;\n",
              "      height: 32px;\n",
              "      padding: 0 0 0 0;\n",
              "      width: 32px;\n",
              "    }\n",
              "\n",
              "    .colab-df-convert:hover {\n",
              "      background-color: #E2EBFA;\n",
              "      box-shadow: 0px 1px 2px rgba(60, 64, 67, 0.3), 0px 1px 3px 1px rgba(60, 64, 67, 0.15);\n",
              "      fill: #174EA6;\n",
              "    }\n",
              "\n",
              "    [theme=dark] .colab-df-convert {\n",
              "      background-color: #3B4455;\n",
              "      fill: #D2E3FC;\n",
              "    }\n",
              "\n",
              "    [theme=dark] .colab-df-convert:hover {\n",
              "      background-color: #434B5C;\n",
              "      box-shadow: 0px 1px 3px 1px rgba(0, 0, 0, 0.15);\n",
              "      filter: drop-shadow(0px 1px 2px rgba(0, 0, 0, 0.3));\n",
              "      fill: #FFFFFF;\n",
              "    }\n",
              "  </style>\n",
              "\n",
              "      <script>\n",
              "        const buttonEl =\n",
              "          document.querySelector('#df-7688efeb-f0fc-4ce3-9a45-c51948a868cc button.colab-df-convert');\n",
              "        buttonEl.style.display =\n",
              "          google.colab.kernel.accessAllowed ? 'block' : 'none';\n",
              "\n",
              "        async function convertToInteractive(key) {\n",
              "          const element = document.querySelector('#df-7688efeb-f0fc-4ce3-9a45-c51948a868cc');\n",
              "          const dataTable =\n",
              "            await google.colab.kernel.invokeFunction('convertToInteractive',\n",
              "                                                     [key], {});\n",
              "          if (!dataTable) return;\n",
              "\n",
              "          const docLinkHtml = 'Like what you see? Visit the ' +\n",
              "            '<a target=\"_blank\" href=https://colab.research.google.com/notebooks/data_table.ipynb>data table notebook</a>'\n",
              "            + ' to learn more about interactive tables.';\n",
              "          element.innerHTML = '';\n",
              "          dataTable['output_type'] = 'display_data';\n",
              "          await google.colab.output.renderOutput(dataTable, element);\n",
              "          const docLink = document.createElement('div');\n",
              "          docLink.innerHTML = docLinkHtml;\n",
              "          element.appendChild(docLink);\n",
              "        }\n",
              "      </script>\n",
              "    </div>\n",
              "  </div>\n",
              "  "
            ]
          },
          "metadata": {},
          "execution_count": 14
        }
      ],
      "source": [
        "t = df.groupby([\"churn\"]).mean().T.rename(columns={0: 'stay', 1: 'leave'}).sort_values(by='stay')\n",
        "t['diff'] = t['stay'] - t['leave']\n",
        "t.sort_values(by='diff')"
      ]
    },
    {
      "cell_type": "markdown",
      "metadata": {
        "id": "qaWHGrbxNm4M"
      },
      "source": [
        "- те кто живет дальше от фитнеса, уходят чаще.\n",
        "- те кто приходит от друзей чаще остаются, как и те кто одит от партнеров.\n",
        "- групповые занятия позитивно влияют на то что человек останется\n",
        "- те кто ушел, реже ходили в зал\n",
        "- молодые уходят чаще, но не факт\n",
        "- чем меньше осталось абонемента, тем чаще уходят.\n",
        "- чаще уходят те кто недавно пришел \n",
        "- те кто остался чаще пользуются доп услугами фитнеса"
      ]
    },
    {
      "cell_type": "markdown",
      "metadata": {
        "id": "gC7Cebr0QmcJ"
      },
      "source": [
        "## 3.4 Визуализация признаков по **Churn**"
      ]
    },
    {
      "cell_type": "code",
      "execution_count": null,
      "metadata": {
        "colab": {
          "base_uri": "https://localhost:8080/",
          "height": 677
        },
        "id": "HcTbNhtJRaMI",
        "outputId": "b4477a42-75cf-4c16-af0f-590d37633feb"
      },
      "outputs": [
        {
          "output_type": "display_data",
          "data": {
            "text/plain": [
              "<Figure size 1152x792 with 6 Axes>"
            ],
            "image/png": "[encoded data removed]"
          },
          "metadata": {
            "needs_background": "light"
          }
        }
      ],
      "source": [
        "cat_columns = df_bool.drop(columns=['churn'])\n",
        "\n",
        "\n",
        "plt.figure(figsize=(16,11))\n",
        "for i, column in enumerate(sorted(cat_columns)):\n",
        "    plt.subplot(2,3,i+1)\n",
        "    plt.title(column)\n",
        "    sns.histplot(df, x=column, hue='churn', discrete=True, alpha=0.7)\n",
        "    plt.legend(['Ушедшие', 'Оставшиеся'])\n",
        "plt.show()\n"
      ]
    },
    {
      "cell_type": "code",
      "execution_count": null,
      "metadata": {
        "colab": {
          "base_uri": "https://localhost:8080/",
          "height": 1000
        },
        "id": "bGCWDLtZDFjM",
        "outputId": "271f56d6-487e-413b-eea2-001441db54cb"
      },
      "outputs": [
        {
          "output_type": "display_data",
          "data": {
            "text/plain": [
              "<Figure size 1152x1224 with 7 Axes>"
            ],
            "image/png": "[encoded data removed]"
          },
          "metadata": {
            "needs_background": "light"
          }
        }
      ],
      "source": [
        "num_columns = df_other.drop(columns=['churn'])\n",
        "\n",
        "\n",
        "plt.figure(figsize=(16,17))\n",
        "for i, column in enumerate(sorted(num_columns)):\n",
        "    plt.subplot(3,3,i+1)\n",
        "    plt.title(column)\n",
        "    sns.histplot(df, x=column, hue='churn', discrete=True, alpha=0.7)\n",
        "    plt.legend(['Ушедшие', 'Оставшиеся'])\n",
        "plt.show()"
      ]
    },
    {
      "cell_type": "markdown",
      "metadata": {
        "id": "fBriF5r58uJe"
      },
      "source": [
        "## 3.5 Pearson Correlation"
      ]
    },
    {
      "cell_type": "markdown",
      "metadata": {
        "id": "IZ3yTnUVRXdo"
      },
      "source": [
        "- Разделим таблицу наглядности, в каждой таблице оставим целевую переменную churn"
      ]
    },
    {
      "cell_type": "code",
      "execution_count": null,
      "metadata": {
        "colab": {
          "base_uri": "https://localhost:8080/",
          "height": 391
        },
        "id": "OnVZ--pIBCvP",
        "outputId": "974b69bb-4010-4383-f888-33187a58f80d"
      },
      "outputs": [
        {
          "output_type": "display_data",
          "data": {
            "text/plain": [
              "<Figure size 1152x432 with 2 Axes>"
            ],
            "image/png": "[encoded data removed]"
          },
          "metadata": {
            "needs_background": "light"
          }
        }
      ],
      "source": [
        "plt.figure(figsize=(16, 6))\n",
        "heatmap = sns.heatmap(df_bool.corr(), vmin=-1, vmax=1, annot=True, cmap='BrBG')\n",
        "heatmap.set_title('Correlation Heatmap')\n",
        "plt.show()"
      ]
    },
    {
      "cell_type": "markdown",
      "metadata": {
        "id": "rit9szcN9U_a"
      },
      "source": [
        "- связь между партнерами и акцией приведи друга\n",
        "- связи с целевой перменной не обнаружено."
      ]
    },
    {
      "cell_type": "code",
      "execution_count": null,
      "metadata": {
        "colab": {
          "base_uri": "https://localhost:8080/",
          "height": 562
        },
        "id": "0upDlW19RQgE",
        "outputId": "8a88bf7a-7c5b-47dc-a193-38257bb346c8"
      },
      "outputs": [
        {
          "output_type": "display_data",
          "data": {
            "text/plain": [
              "<Figure size 1152x432 with 2 Axes>"
            ],
            "image/png": "[encoded data removed]"
          },
          "metadata": {
            "needs_background": "light"
          }
        }
      ],
      "source": [
        "plt.figure(figsize=(16, 6))\n",
        "heatmap = sns.heatmap(df_other.corr(), vmin=-1, vmax=1, annot=True, cmap='BrBG')\n",
        "heatmap.set_title('Correlation Heatmap')\n",
        "plt.show()"
      ]
    },
    {
      "cell_type": "markdown",
      "metadata": {
        "id": "_AzWKqV7RwLe"
      },
      "source": [
        "- наблюдется сабая отрицательная свзять между churn и всеми другим метриками\n",
        "- сильная связь между посещениями в неделю и всеми посещениями, удалим колонку avg_class_frequency_current_month для лучшего построения модели\n",
        "- связь между концом абонемента и текущим абонементом, удалим колонку для лучшего построения модели month_to_end_contract"
      ]
    },
    {
      "cell_type": "code",
      "execution_count": null,
      "metadata": {
        "colab": {
          "base_uri": "https://localhost:8080/",
          "height": 270
        },
        "id": "fgHUe-tjDUqS",
        "outputId": "abb90fe9-5fa2-41e4-86c3-36fad058311a"
      },
      "outputs": [
        {
          "output_type": "execute_result",
          "data": {
            "text/plain": [
              "   gender  near_location  partner  promo_friends  phone  contract_period  \\\n",
              "0       1              1        1              1      0                6   \n",
              "1       0              1        0              0      1               12   \n",
              "2       0              1        1              0      1                1   \n",
              "3       0              1        1              1      1               12   \n",
              "4       1              1        1              1      1                1   \n",
              "\n",
              "   group_visits  age  avg_additional_charges_total  lifetime  \\\n",
              "0             1   29                       14.2275         3   \n",
              "1             1   31                      113.2029         7   \n",
              "2             0   28                      129.4485         2   \n",
              "3             1   33                       62.6699         2   \n",
              "4             0   26                      198.3623         3   \n",
              "\n",
              "   avg_class_frequency_total  churn  \n",
              "0                     0.0204      0  \n",
              "1                     1.9229      0  \n",
              "2                     1.8591      0  \n",
              "3                     3.2056      0  \n",
              "4                     1.1139      0  "
            ],
            "text/html": [
              "\n",
              "  <div id=\"df-ac6a9cef-4013-425c-8bc6-f53f2374311c\">\n",
              "    <div class=\"colab-df-container\">\n",
              "      <div>\n",
              "<style scoped>\n",
              "    .dataframe tbody tr th:only-of-type {\n",
              "        vertical-align: middle;\n",
              "    }\n",
              "\n",
              "    .dataframe tbody tr th {\n",
              "        vertical-align: top;\n",
              "    }\n",
              "\n",
              "    .dataframe thead th {\n",
              "        text-align: right;\n",
              "    }\n",
              "</style>\n",
              "<table border=\"1\" class=\"dataframe\">\n",
              "  <thead>\n",
              "    <tr style=\"text-align: right;\">\n",
              "      <th></th>\n",
              "      <th>gender</th>\n",
              "      <th>near_location</th>\n",
              "      <th>partner</th>\n",
              "      <th>promo_friends</th>\n",
              "      <th>phone</th>\n",
              "      <th>contract_period</th>\n",
              "      <th>group_visits</th>\n",
              "      <th>age</th>\n",
              "      <th>avg_additional_charges_total</th>\n",
              "      <th>lifetime</th>\n",
              "      <th>avg_class_frequency_total</th>\n",
              "      <th>churn</th>\n",
              "    </tr>\n",
              "  </thead>\n",
              "  <tbody>\n",
              "    <tr>\n",
              "      <th>0</th>\n",
              "      <td>1</td>\n",
              "      <td>1</td>\n",
              "      <td>1</td>\n",
              "      <td>1</td>\n",
              "      <td>0</td>\n",
              "      <td>6</td>\n",
              "      <td>1</td>\n",
              "      <td>29</td>\n",
              "      <td>14.2275</td>\n",
              "      <td>3</td>\n",
              "      <td>0.0204</td>\n",
              "      <td>0</td>\n",
              "    </tr>\n",
              "    <tr>\n",
              "      <th>1</th>\n",
              "      <td>0</td>\n",
              "      <td>1</td>\n",
              "      <td>0</td>\n",
              "      <td>0</td>\n",
              "      <td>1</td>\n",
              "      <td>12</td>\n",
              "      <td>1</td>\n",
              "      <td>31</td>\n",
              "      <td>113.2029</td>\n",
              "      <td>7</td>\n",
              "      <td>1.9229</td>\n",
              "      <td>0</td>\n",
              "    </tr>\n",
              "    <tr>\n",
              "      <th>2</th>\n",
              "      <td>0</td>\n",
              "      <td>1</td>\n",
              "      <td>1</td>\n",
              "      <td>0</td>\n",
              "      <td>1</td>\n",
              "      <td>1</td>\n",
              "      <td>0</td>\n",
              "      <td>28</td>\n",
              "      <td>129.4485</td>\n",
              "      <td>2</td>\n",
              "      <td>1.8591</td>\n",
              "      <td>0</td>\n",
              "    </tr>\n",
              "    <tr>\n",
              "      <th>3</th>\n",
              "      <td>0</td>\n",
              "      <td>1</td>\n",
              "      <td>1</td>\n",
              "      <td>1</td>\n",
              "      <td>1</td>\n",
              "      <td>12</td>\n",
              "      <td>1</td>\n",
              "      <td>33</td>\n",
              "      <td>62.6699</td>\n",
              "      <td>2</td>\n",
              "      <td>3.2056</td>\n",
              "      <td>0</td>\n",
              "    </tr>\n",
              "    <tr>\n",
              "      <th>4</th>\n",
              "      <td>1</td>\n",
              "      <td>1</td>\n",
              "      <td>1</td>\n",
              "      <td>1</td>\n",
              "      <td>1</td>\n",
              "      <td>1</td>\n",
              "      <td>0</td>\n",
              "      <td>26</td>\n",
              "      <td>198.3623</td>\n",
              "      <td>3</td>\n",
              "      <td>1.1139</td>\n",
              "      <td>0</td>\n",
              "    </tr>\n",
              "  </tbody>\n",
              "</table>\n",
              "</div>\n",
              "      <button class=\"colab-df-convert\" onclick=\"convertToInteractive('df-ac6a9cef-4013-425c-8bc6-f53f2374311c')\"\n",
              "              title=\"Convert this dataframe to an interactive table.\"\n",
              "              style=\"display:none;\">\n",
              "        \n",
              "  <svg xmlns=\"http://www.w3.org/2000/svg\" height=\"24px\"viewBox=\"0 0 24 24\"\n",
              "       width=\"24px\">\n",
              "    <path d=\"M0 0h24v24H0V0z\" fill=\"none\"/>\n",
              "    <path d=\"M18.56 5.44l.94 2.06.94-2.06 2.06-.94-2.06-.94-.94-2.06-.94 2.06-2.06.94zm-11 1L8.5 8.5l.94-2.06 2.06-.94-2.06-.94L8.5 2.5l-.94 2.06-2.06.94zm10 10l.94 2.06.94-2.06 2.06-.94-2.06-.94-.94-2.06-.94 2.06-2.06.94z\"/><path d=\"M17.41 7.96l-1.37-1.37c-.4-.4-.92-.59-1.43-.59-.52 0-1.04.2-1.43.59L10.3 9.45l-7.72 7.72c-.78.78-.78 2.05 0 2.83L4 21.41c.39.39.9.59 1.41.59.51 0 1.02-.2 1.41-.59l7.78-7.78 2.81-2.81c.8-.78.8-2.07 0-2.86zM5.41 20L4 18.59l7.72-7.72 1.47 1.35L5.41 20z\"/>\n",
              "  </svg>\n",
              "      </button>\n",
              "      \n",
              "  <style>\n",
              "    .colab-df-container {\n",
              "      display:flex;\n",
              "      flex-wrap:wrap;\n",
              "      gap: 12px;\n",
              "    }\n",
              "\n",
              "    .colab-df-convert {\n",
              "      background-color: #E8F0FE;\n",
              "      border: none;\n",
              "      border-radius: 50%;\n",
              "      cursor: pointer;\n",
              "      display: none;\n",
              "      fill: #1967D2;\n",
              "      height: 32px;\n",
              "      padding: 0 0 0 0;\n",
              "      width: 32px;\n",
              "    }\n",
              "\n",
              "    .colab-df-convert:hover {\n",
              "      background-color: #E2EBFA;\n",
              "      box-shadow: 0px 1px 2px rgba(60, 64, 67, 0.3), 0px 1px 3px 1px rgba(60, 64, 67, 0.15);\n",
              "      fill: #174EA6;\n",
              "    }\n",
              "\n",
              "    [theme=dark] .colab-df-convert {\n",
              "      background-color: #3B4455;\n",
              "      fill: #D2E3FC;\n",
              "    }\n",
              "\n",
              "    [theme=dark] .colab-df-convert:hover {\n",
              "      background-color: #434B5C;\n",
              "      box-shadow: 0px 1px 3px 1px rgba(0, 0, 0, 0.15);\n",
              "      filter: drop-shadow(0px 1px 2px rgba(0, 0, 0, 0.3));\n",
              "      fill: #FFFFFF;\n",
              "    }\n",
              "  </style>\n",
              "\n",
              "      <script>\n",
              "        const buttonEl =\n",
              "          document.querySelector('#df-ac6a9cef-4013-425c-8bc6-f53f2374311c button.colab-df-convert');\n",
              "        buttonEl.style.display =\n",
              "          google.colab.kernel.accessAllowed ? 'block' : 'none';\n",
              "\n",
              "        async function convertToInteractive(key) {\n",
              "          const element = document.querySelector('#df-ac6a9cef-4013-425c-8bc6-f53f2374311c');\n",
              "          const dataTable =\n",
              "            await google.colab.kernel.invokeFunction('convertToInteractive',\n",
              "                                                     [key], {});\n",
              "          if (!dataTable) return;\n",
              "\n",
              "          const docLinkHtml = 'Like what you see? Visit the ' +\n",
              "            '<a target=\"_blank\" href=https://colab.research.google.com/notebooks/data_table.ipynb>data table notebook</a>'\n",
              "            + ' to learn more about interactive tables.';\n",
              "          element.innerHTML = '';\n",
              "          dataTable['output_type'] = 'display_data';\n",
              "          await google.colab.output.renderOutput(dataTable, element);\n",
              "          const docLink = document.createElement('div');\n",
              "          docLink.innerHTML = docLinkHtml;\n",
              "          element.appendChild(docLink);\n",
              "        }\n",
              "      </script>\n",
              "    </div>\n",
              "  </div>\n",
              "  "
            ]
          },
          "metadata": {},
          "execution_count": 19
        }
      ],
      "source": [
        "df = df.drop(columns=['avg_class_frequency_current_month', 'month_to_end_contract'])\n",
        "df.head()"
      ]
    },
    {
      "cell_type": "markdown",
      "metadata": {
        "id": "TcKx4tCTD8ZS"
      },
      "source": [
        "# 💻 4. Построение модели прогнозирования оттока клиентов"
      ]
    },
    {
      "cell_type": "markdown",
      "metadata": {
        "id": "BHXpfPSPJ-Si"
      },
      "source": [
        "## 4.1 Деление и обучение"
      ]
    },
    {
      "cell_type": "code",
      "execution_count": null,
      "metadata": {
        "id": "QMHR6FJjFrOj"
      },
      "outputs": [],
      "source": [
        "#разделим наши данные на признаки (матрица X) и целевую переменную (y)\n",
        "X = df.drop(columns=['churn'], axis=1)\n",
        "y = df['churn']"
      ]
    },
    {
      "cell_type": "code",
      "execution_count": null,
      "metadata": {
        "id": "Jjr5DjMoBevY"
      },
      "outputs": [],
      "source": [
        "#разделяем модель на обучающую и валидационную выборки\n",
        "X_train, X_test, y_train, y_test = train_test_split(X, y, test_size=0.2, random_state=42, stratify = y)"
      ]
    },
    {
      "cell_type": "markdown",
      "metadata": {
        "id": "4vADmT86KdX7"
      },
      "source": [
        "## 4.2 LogisticRegression и RandomForest"
      ]
    },
    {
      "cell_type": "code",
      "execution_count": null,
      "metadata": {
        "id": "GVTODtVaM7KI"
      },
      "outputs": [],
      "source": [
        "# вывод метрик классификации\n",
        "\n",
        "def print_all_metrics(y_true, y_pred, y_proba, title='Метрики классификации'):\n",
        "    print(title)\n",
        "    print('\\tAccuracy: {:.2f}'.format(accuracy_score(y_true, y_pred)))\n",
        "    print('\\tPrecision: {:.2f}'.format(precision_score(y_true, y_pred)))\n",
        "    print('\\tRecall: {:.2f}'.format(recall_score(y_true, y_pred)))"
      ]
    },
    {
      "cell_type": "code",
      "execution_count": null,
      "metadata": {
        "colab": {
          "base_uri": "https://localhost:8080/"
        },
        "id": "R-1D589IMkPT",
        "outputId": "656ffff8-3c40-4874-bbc3-b23d9252aeba"
      },
      "outputs": [
        {
          "output_type": "stream",
          "name": "stdout",
          "text": [
            "Метрики для модели логистической регрессии:\n",
            "\tAccuracy: 0.90\n",
            "\tPrecision: 0.84\n",
            "\tRecall: 0.79\n",
            "Метрики для модели случайного леса:\n",
            "\tAccuracy: 0.90\n",
            "\tPrecision: 0.84\n",
            "\tRecall: 0.76\n"
          ]
        }
      ],
      "source": [
        "# обучим StandartScaler на обучающей выборке\n",
        "scaler = StandardScaler()\n",
        "scaler.fit(X_train)\n",
        "\n",
        "# преобразуем\n",
        "X_train_st = scaler.transform(X_train)\n",
        "X_test_st = scaler.transform(X_test)\n",
        "\n",
        "# зададим алгоритм для модели логистической регрессии\n",
        "lr_model = LogisticRegression(random_state=42)\n",
        "# обучим модель\n",
        "lr_model.fit(X_train_st, y_train)\n",
        "# воспользуемся уже обученной моделью, чтобы сделать прогнозы\n",
        "lr_predictions = lr_model.predict(X_test_st)\n",
        "lr_probabilities = lr_model.predict_proba(X_test_st)[:, 1]\n",
        "# выведем все метрики\n",
        "print_all_metrics(\n",
        "    y_test,\n",
        "    lr_predictions,\n",
        "    lr_probabilities,\n",
        "    title='Метрики для модели логистической регрессии:',\n",
        ")\n",
        "\n",
        "# зададим алгоритм для новой модели на основе алгоритма случайного леса\n",
        "rf_model = RandomForestClassifier(n_estimators=100, random_state=42)\n",
        "# обучим модель случайного леса\n",
        "rf_model.fit(X_train_st, y_train)\n",
        "# воспользуемся уже обученной моделью, чтобы сделать прогнозы\n",
        "rf_predictions = rf_model.predict(X_test_st)\n",
        "rf_probabilities = rf_model.predict_proba(X_test_st)[:, 1]\n",
        "\n",
        "# выведем все метрики\n",
        "print_all_metrics(\n",
        "    y_test,\n",
        "    rf_predictions,\n",
        "    rf_probabilities,\n",
        "    title='Метрики для модели случайного леса:',\n",
        ")"
      ]
    },
    {
      "cell_type": "markdown",
      "metadata": {
        "id": "l-L0Kxh0KC4b"
      },
      "source": [
        "- модель логической регрессии показала себя лучше"
      ]
    },
    {
      "cell_type": "markdown",
      "metadata": {
        "id": "LlBPgKePR8Mo"
      },
      "source": [
        "# 👩‍👩‍👧‍👧 5. Кластеризация"
      ]
    },
    {
      "cell_type": "markdown",
      "metadata": {
        "id": "_WvNr9I8bU-N"
      },
      "source": [
        "## 5.1 Стандартизируем данные"
      ]
    },
    {
      "cell_type": "code",
      "execution_count": null,
      "metadata": {
        "id": "1iMTgLmsJoY8"
      },
      "outputs": [],
      "source": [
        "# создаём объект класса scaler\n",
        "scaler = StandardScaler()"
      ]
    },
    {
      "cell_type": "code",
      "execution_count": null,
      "metadata": {
        "id": "mwe_oBIQbqv_"
      },
      "outputs": [],
      "source": [
        "# обучаем нормализатор и преобразуем набор данных \n",
        "x_sc = scaler.fit_transform(df.drop(columns=['churn'])) "
      ]
    },
    {
      "cell_type": "markdown",
      "metadata": {
        "id": "5nVPXcFSbsVc"
      },
      "source": [
        "## 5.2 Дендограмма"
      ]
    },
    {
      "cell_type": "code",
      "execution_count": null,
      "metadata": {
        "id": "dAp323msTReC"
      },
      "outputs": [],
      "source": [
        "linked = linkage(x_sc, method = 'ward')"
      ]
    },
    {
      "cell_type": "code",
      "execution_count": null,
      "metadata": {
        "colab": {
          "base_uri": "https://localhost:8080/",
          "height": 610
        },
        "id": "FNV3AUcKTWLi",
        "outputId": "6f2e1ce0-a408-49b7-89cf-515250e4e2bb"
      },
      "outputs": [
        {
          "output_type": "display_data",
          "data": {
            "text/plain": [
              "<Figure size 1080x720 with 1 Axes>"
            ],
            "image/png": "[encoded data removed]"
          },
          "metadata": {
            "needs_background": "light"
          }
        }
      ],
      "source": [
        "plt.figure(figsize=(15, 10))  \n",
        "dendrogram(linked, orientation='top')\n",
        "plt.title('Hierarchial clustering for GYM')\n",
        "plt.show() "
      ]
    },
    {
      "cell_type": "markdown",
      "metadata": {
        "id": "IHcykhcydOX-"
      },
      "source": [
        "- исходя из дендограммы можно все разделить на 5 кластеров"
      ]
    },
    {
      "cell_type": "markdown",
      "metadata": {
        "id": "IytYnYpsb8B6"
      },
      "source": [
        "## 5.3 Применяем алгоритм K-Means"
      ]
    },
    {
      "cell_type": "code",
      "execution_count": null,
      "metadata": {
        "id": "phIcrABocDuw"
      },
      "outputs": [],
      "source": [
        "# задаём модель k_means с числом кластеров 5 и фиксируем значение random_state\n",
        "km = KMeans(n_clusters=5, random_state=42)"
      ]
    },
    {
      "cell_type": "code",
      "execution_count": null,
      "metadata": {
        "id": "_X_qUqLHUdRV"
      },
      "outputs": [],
      "source": [
        "# прогнозируем кластеры для наблюдений (алгоритм присваивает им номера от 0 до 4)\n",
        "labels = km.fit_predict(x_sc)"
      ]
    },
    {
      "cell_type": "markdown",
      "metadata": {
        "id": "B2WYhwdpcLIo"
      },
      "source": [
        "## 5.4 Cредние значения признаков для кластеров"
      ]
    },
    {
      "cell_type": "markdown",
      "metadata": {
        "id": "8e2kDgllXHZZ"
      },
      "source": [
        "- Рассмотрим кластеры с самым маленьким оттоком и самым большим\n",
        "- Не берем во внимание категории, где значения у всех кластеров одинаковое."
      ]
    },
    {
      "cell_type": "code",
      "execution_count": null,
      "metadata": {
        "id": "CRtRi6I3Uvbi"
      },
      "outputs": [],
      "source": [
        "df['cluster_churn'] = labels"
      ]
    },
    {
      "cell_type": "code",
      "execution_count": null,
      "metadata": {
        "colab": {
          "base_uri": "https://localhost:8080/",
          "height": 457
        },
        "id": "4ogzqzifWO-x",
        "outputId": "6a852d50-8837-4a1f-deb8-85d6c4216d6e"
      },
      "outputs": [
        {
          "output_type": "execute_result",
          "data": {
            "text/plain": [
              "                                    0        1        2        3        4\n",
              "churn                          0.3826   0.1131   0.2209   0.2668   0.3993\n",
              "gender                         0.5040   0.4961   0.5415   0.5233   0.4991\n",
              "group_visits                   0.0000   0.4987   1.0000   0.4275   0.2353\n",
              "promo_friends                  0.0620   0.8186   0.0881   0.3057   0.0766\n",
              "partner                        0.2347   0.9606   0.1660   0.4715   0.4884\n",
              "near_location                  1.0000   0.9956   1.0000   0.8627   0.0000\n",
              "cluster_churn                  0.0000   1.0000   2.0000   3.0000   4.0000\n",
              "phone                          1.0000   1.0000   1.0000   0.0000   1.0000\n",
              "avg_class_frequency_total      1.7985   1.9744   1.9462   1.8542   1.7704\n",
              "lifetime                       3.3118   4.3620   3.7612   3.9404   3.0606\n",
              "contract_period                2.7954   8.0070   3.6884   4.7772   3.0321\n",
              "age                           28.7617  29.6065  29.4534  29.2979  28.7219\n",
              "avg_additional_charges_total 143.3662 154.9444 148.5295 144.2082 137.5400"
            ],
            "text/html": [
              "\n",
              "  <div id=\"df-2dab6ca6-81a7-4461-bfb4-f1ca0bf8e4bf\">\n",
              "    <div class=\"colab-df-container\">\n",
              "      <div>\n",
              "<style scoped>\n",
              "    .dataframe tbody tr th:only-of-type {\n",
              "        vertical-align: middle;\n",
              "    }\n",
              "\n",
              "    .dataframe tbody tr th {\n",
              "        vertical-align: top;\n",
              "    }\n",
              "\n",
              "    .dataframe thead th {\n",
              "        text-align: right;\n",
              "    }\n",
              "</style>\n",
              "<table border=\"1\" class=\"dataframe\">\n",
              "  <thead>\n",
              "    <tr style=\"text-align: right;\">\n",
              "      <th></th>\n",
              "      <th>0</th>\n",
              "      <th>1</th>\n",
              "      <th>2</th>\n",
              "      <th>3</th>\n",
              "      <th>4</th>\n",
              "    </tr>\n",
              "  </thead>\n",
              "  <tbody>\n",
              "    <tr>\n",
              "      <th>churn</th>\n",
              "      <td>0.3826</td>\n",
              "      <td>0.1131</td>\n",
              "      <td>0.2209</td>\n",
              "      <td>0.2668</td>\n",
              "      <td>0.3993</td>\n",
              "    </tr>\n",
              "    <tr>\n",
              "      <th>gender</th>\n",
              "      <td>0.5040</td>\n",
              "      <td>0.4961</td>\n",
              "      <td>0.5415</td>\n",
              "      <td>0.5233</td>\n",
              "      <td>0.4991</td>\n",
              "    </tr>\n",
              "    <tr>\n",
              "      <th>group_visits</th>\n",
              "      <td>0.0000</td>\n",
              "      <td>0.4987</td>\n",
              "      <td>1.0000</td>\n",
              "      <td>0.4275</td>\n",
              "      <td>0.2353</td>\n",
              "    </tr>\n",
              "    <tr>\n",
              "      <th>promo_friends</th>\n",
              "      <td>0.0620</td>\n",
              "      <td>0.8186</td>\n",
              "      <td>0.0881</td>\n",
              "      <td>0.3057</td>\n",
              "      <td>0.0766</td>\n",
              "    </tr>\n",
              "    <tr>\n",
              "      <th>partner</th>\n",
              "      <td>0.2347</td>\n",
              "      <td>0.9606</td>\n",
              "      <td>0.1660</td>\n",
              "      <td>0.4715</td>\n",
              "      <td>0.4884</td>\n",
              "    </tr>\n",
              "    <tr>\n",
              "      <th>near_location</th>\n",
              "      <td>1.0000</td>\n",
              "      <td>0.9956</td>\n",
              "      <td>1.0000</td>\n",
              "      <td>0.8627</td>\n",
              "      <td>0.0000</td>\n",
              "    </tr>\n",
              "    <tr>\n",
              "      <th>cluster_churn</th>\n",
              "      <td>0.0000</td>\n",
              "      <td>1.0000</td>\n",
              "      <td>2.0000</td>\n",
              "      <td>3.0000</td>\n",
              "      <td>4.0000</td>\n",
              "    </tr>\n",
              "    <tr>\n",
              "      <th>phone</th>\n",
              "      <td>1.0000</td>\n",
              "      <td>1.0000</td>\n",
              "      <td>1.0000</td>\n",
              "      <td>0.0000</td>\n",
              "      <td>1.0000</td>\n",
              "    </tr>\n",
              "    <tr>\n",
              "      <th>avg_class_frequency_total</th>\n",
              "      <td>1.7985</td>\n",
              "      <td>1.9744</td>\n",
              "      <td>1.9462</td>\n",
              "      <td>1.8542</td>\n",
              "      <td>1.7704</td>\n",
              "    </tr>\n",
              "    <tr>\n",
              "      <th>lifetime</th>\n",
              "      <td>3.3118</td>\n",
              "      <td>4.3620</td>\n",
              "      <td>3.7612</td>\n",
              "      <td>3.9404</td>\n",
              "      <td>3.0606</td>\n",
              "    </tr>\n",
              "    <tr>\n",
              "      <th>contract_period</th>\n",
              "      <td>2.7954</td>\n",
              "      <td>8.0070</td>\n",
              "      <td>3.6884</td>\n",
              "      <td>4.7772</td>\n",
              "      <td>3.0321</td>\n",
              "    </tr>\n",
              "    <tr>\n",
              "      <th>age</th>\n",
              "      <td>28.7617</td>\n",
              "      <td>29.6065</td>\n",
              "      <td>29.4534</td>\n",
              "      <td>29.2979</td>\n",
              "      <td>28.7219</td>\n",
              "    </tr>\n",
              "    <tr>\n",
              "      <th>avg_additional_charges_total</th>\n",
              "      <td>143.3662</td>\n",
              "      <td>154.9444</td>\n",
              "      <td>148.5295</td>\n",
              "      <td>144.2082</td>\n",
              "      <td>137.5400</td>\n",
              "    </tr>\n",
              "  </tbody>\n",
              "</table>\n",
              "</div>\n",
              "      <button class=\"colab-df-convert\" onclick=\"convertToInteractive('df-2dab6ca6-81a7-4461-bfb4-f1ca0bf8e4bf')\"\n",
              "              title=\"Convert this dataframe to an interactive table.\"\n",
              "              style=\"display:none;\">\n",
              "        \n",
              "  <svg xmlns=\"http://www.w3.org/2000/svg\" height=\"24px\"viewBox=\"0 0 24 24\"\n",
              "       width=\"24px\">\n",
              "    <path d=\"M0 0h24v24H0V0z\" fill=\"none\"/>\n",
              "    <path d=\"M18.56 5.44l.94 2.06.94-2.06 2.06-.94-2.06-.94-.94-2.06-.94 2.06-2.06.94zm-11 1L8.5 8.5l.94-2.06 2.06-.94-2.06-.94L8.5 2.5l-.94 2.06-2.06.94zm10 10l.94 2.06.94-2.06 2.06-.94-2.06-.94-.94-2.06-.94 2.06-2.06.94z\"/><path d=\"M17.41 7.96l-1.37-1.37c-.4-.4-.92-.59-1.43-.59-.52 0-1.04.2-1.43.59L10.3 9.45l-7.72 7.72c-.78.78-.78 2.05 0 2.83L4 21.41c.39.39.9.59 1.41.59.51 0 1.02-.2 1.41-.59l7.78-7.78 2.81-2.81c.8-.78.8-2.07 0-2.86zM5.41 20L4 18.59l7.72-7.72 1.47 1.35L5.41 20z\"/>\n",
              "  </svg>\n",
              "      </button>\n",
              "      \n",
              "  <style>\n",
              "    .colab-df-container {\n",
              "      display:flex;\n",
              "      flex-wrap:wrap;\n",
              "      gap: 12px;\n",
              "    }\n",
              "\n",
              "    .colab-df-convert {\n",
              "      background-color: #E8F0FE;\n",
              "      border: none;\n",
              "      border-radius: 50%;\n",
              "      cursor: pointer;\n",
              "      display: none;\n",
              "      fill: #1967D2;\n",
              "      height: 32px;\n",
              "      padding: 0 0 0 0;\n",
              "      width: 32px;\n",
              "    }\n",
              "\n",
              "    .colab-df-convert:hover {\n",
              "      background-color: #E2EBFA;\n",
              "      box-shadow: 0px 1px 2px rgba(60, 64, 67, 0.3), 0px 1px 3px 1px rgba(60, 64, 67, 0.15);\n",
              "      fill: #174EA6;\n",
              "    }\n",
              "\n",
              "    [theme=dark] .colab-df-convert {\n",
              "      background-color: #3B4455;\n",
              "      fill: #D2E3FC;\n",
              "    }\n",
              "\n",
              "    [theme=dark] .colab-df-convert:hover {\n",
              "      background-color: #434B5C;\n",
              "      box-shadow: 0px 1px 3px 1px rgba(0, 0, 0, 0.15);\n",
              "      filter: drop-shadow(0px 1px 2px rgba(0, 0, 0, 0.3));\n",
              "      fill: #FFFFFF;\n",
              "    }\n",
              "  </style>\n",
              "\n",
              "      <script>\n",
              "        const buttonEl =\n",
              "          document.querySelector('#df-2dab6ca6-81a7-4461-bfb4-f1ca0bf8e4bf button.colab-df-convert');\n",
              "        buttonEl.style.display =\n",
              "          google.colab.kernel.accessAllowed ? 'block' : 'none';\n",
              "\n",
              "        async function convertToInteractive(key) {\n",
              "          const element = document.querySelector('#df-2dab6ca6-81a7-4461-bfb4-f1ca0bf8e4bf');\n",
              "          const dataTable =\n",
              "            await google.colab.kernel.invokeFunction('convertToInteractive',\n",
              "                                                     [key], {});\n",
              "          if (!dataTable) return;\n",
              "\n",
              "          const docLinkHtml = 'Like what you see? Visit the ' +\n",
              "            '<a target=\"_blank\" href=https://colab.research.google.com/notebooks/data_table.ipynb>data table notebook</a>'\n",
              "            + ' to learn more about interactive tables.';\n",
              "          element.innerHTML = '';\n",
              "          dataTable['output_type'] = 'display_data';\n",
              "          await google.colab.output.renderOutput(dataTable, element);\n",
              "          const docLink = document.createElement('div');\n",
              "          docLink.innerHTML = docLinkHtml;\n",
              "          element.appendChild(docLink);\n",
              "        }\n",
              "      </script>\n",
              "    </div>\n",
              "  </div>\n",
              "  "
            ]
          },
          "metadata": {},
          "execution_count": 31
        }
      ],
      "source": [
        "df.groupby('cluster_churn').agg('mean').reset_index().T.sort_values(by=[1])"
      ]
    },
    {
      "cell_type": "markdown",
      "metadata": {
        "id": "BMM16dDxXSaI"
      },
      "source": [
        "> Меньше всего оттока в 1 кластере, больше всех в 0 и 4. Для уменьшения оттока клиентов, необходимо обязательно проводить **групповые занятия**, а так же стараться вовлекать клиентов в этот процесс. Особое внимание нужно уделить акции **\"приведи друга\"**, эта акция работает, причем она сильно влияет на то что клиент остается с нами. Клиентов стоит искать среди фирм партнеров, от них приходят скорее все те кто останется с нами надолго. Расстояние от фитнес-зала оказывает влияние, но не является решающим фактором. Можно сделать утверждение что те кто живет рядом уходят от нас реже, но и те кто живет далеко не означает что они уйдут от нас. "
      ]
    },
    {
      "cell_type": "markdown",
      "metadata": {
        "id": "CtkKZTRxcqbj"
      },
      "source": [
        "## 5.5 Распределения признаков по кластерам"
      ]
    },
    {
      "cell_type": "code",
      "source": [
        "# категории\n",
        "cat_columns = ['gender', 'near_location', 'partner', 'promo_friends',\n",
        "       'group_visits']\n",
        "\n",
        "plt.figure(figsize=(14,15))\n",
        "for i, column in enumerate(sorted(cat_columns)):\n",
        "  plt.subplot(3,2,i+1)\n",
        "  df.groupby('cluster_churn')[column].mean().plot(kind='bar')\n",
        "  plt.title(column)\n",
        "plt.show()"
      ],
      "metadata": {
        "colab": {
          "base_uri": "https://localhost:8080/",
          "height": 891
        },
        "id": "iey3Wvljn9xg",
        "outputId": "17249c34-9bb5-4c98-d5b5-a1575d6fbcba"
      },
      "execution_count": null,
      "outputs": [
        {
          "output_type": "display_data",
          "data": {
            "text/plain": [
              "<Figure size 1008x1080 with 5 Axes>"
            ],
            "image/png": "[encoded data removed]"
          },
          "metadata": {
            "needs_background": "light"
          }
        }
      ]
    },
    {
      "cell_type": "code",
      "source": [
        "# числовые\n",
        "\n",
        "num_columns = ['contract_period',  'age',\n",
        "              'avg_additional_charges_total', 'lifetime', \n",
        "              'avg_class_frequency_total',]\n",
        "\n",
        "plt.figure(figsize=(14,17))\n",
        "for i, column in enumerate(sorted(num_columns)):\n",
        "  plt.subplot(3,2,i+1)\n",
        "  sns.boxplot(x=\"cluster_churn\", y=column, data=df)\n",
        "  #df.groupby('cluster_churn')[column].mean().plot(kind='bar')\n",
        "  plt.title(column)\n",
        "plt.show()\n"
      ],
      "metadata": {
        "colab": {
          "base_uri": "https://localhost:8080/",
          "height": 1000
        },
        "id": "k_fRGEpmonKt",
        "outputId": "32b91ac2-66be-443a-fa42-2cd4ec05f340"
      },
      "execution_count": null,
      "outputs": [
        {
          "output_type": "display_data",
          "data": {
            "text/plain": [
              "<Figure size 1008x1224 with 5 Axes>"
            ],
            "image/png": "[encoded data removed]"
          },
          "metadata": {
            "needs_background": "light"
          }
        }
      ]
    },
    {
      "cell_type": "markdown",
      "metadata": {
        "id": "PUcFZPSwdMSn"
      },
      "source": [
        "## 5.6 Доля оттока по кластерам"
      ]
    },
    {
      "cell_type": "code",
      "execution_count": null,
      "metadata": {
        "id": "ggtUMFlivQ5v"
      },
      "outputs": [],
      "source": [
        "# Функции графиков\n",
        "\n",
        "def multivariate_plot(df=df, x=None, y=None, hue=None, xlabel=None, ylable=None,\n",
        "                      heading=None, rotation=None, bar_label=True, \n",
        "                      legend=False, rotate_label=False):\n",
        "    fig, ax = plt.subplots(1, 1, figsize=(20, 7))\n",
        "    df = round((df.groupby(x)[y].mean().sort_values().reset_index()),2)\n",
        "\n",
        "    sns.barplot(data=df, x=x, y=y, hue=hue, ci=None)\n",
        "\n",
        "    plt.ylabel(ylabel=ylable, size=12)\n",
        "    plt.xlabel(xlabel=xlabel, size=12)\n",
        "    plt.title(label=f'{heading} {xlabel}', size=16)\n",
        "    plt.xticks(rotation=rotation)\n",
        "    if legend:\n",
        "        plt.legend()\n",
        "    if bar_label and rotate_label:\n",
        "        ax.bar_label(ax.containers[0], label_type='edge', size=10, padding=3, \n",
        "                    color=\"#7f7f7f\", rotation=\"vertical\")\n",
        "    elif bar_label and not rotate_label:\n",
        "        ax.bar_label(ax.containers[0], label_type='edge', size=12, padding=1, \n",
        "                    color=\"#7f7f7f\")\n",
        "    sns.despine(bottom=True, left=True)\n",
        "    plt.show()"
      ]
    },
    {
      "cell_type": "code",
      "execution_count": null,
      "metadata": {
        "colab": {
          "base_uri": "https://localhost:8080/",
          "height": 439
        },
        "id": "LlQQyrNwq_Co",
        "outputId": "43eba81c-f69b-46c8-e439-2c3d687c293c"
      },
      "outputs": [
        {
          "output_type": "display_data",
          "data": {
            "text/plain": [
              "<Figure size 1440x504 with 1 Axes>"
            ],
            "image/png": "[encoded data removed]"
          },
          "metadata": {
            "needs_background": "light"
          }
        }
      ],
      "source": [
        "multivariate_plot(\n",
        "    df=df, x=\"cluster_churn\", y=\"churn\", \n",
        "    xlabel=\"Cluster\", ylable=\"Churn Mean (%)\", \n",
        "    heading=\"Mean Churn By\", bar_label=True\n",
        "    )"
      ]
    },
    {
      "cell_type": "markdown",
      "metadata": {
        "id": "ipSG9aFyzGRS"
      },
      "source": [
        "- самый большой отток в 0 b 4 кластерах\n",
        "- меньше всего оотока в 1 кластере"
      ]
    },
    {
      "cell_type": "markdown",
      "metadata": {
        "id": "Wernjgp4MKWC"
      },
      "source": [
        "# 📝 6. Выводы и рекомендации"
      ]
    },
    {
      "cell_type": "markdown",
      "metadata": {
        "id": "HxYVk4PRMMKs"
      },
      "source": [
        "## 6.1 Портрет клиента\n",
        " \n",
        "- В наш фитнес ходят почти поровну мужчин и женщин, в основном те кто живет рядом 84%. Средний возраст 29 лет, самый молодой 18 лет, тот что постарше 41 годик. Абонемент покупают на 5 месяцев (причем мы имеем большое std в 5 месяцев). Наш среднестатистический клиент тренируется 4 месяца и ходит 2 раза в неделю.\n",
        " \n",
        "- На доп услугах мы зарабатываем с каждого 147(дол.), при этом std высокий 96(дол.), получается, что кто то вообще не пользуется доп. услугами. Чуть меньше половины 48% ходят используя партнерские программы, 30% использовали акцию \"приведи друга\". 41% ходит на групповые занятия.\n",
        " \n",
        "> **Около 26.5% уходят на совсем.**\n"
      ]
    },
    {
      "cell_type": "markdown",
      "metadata": {
        "id": "6dGKHp-EdHoP"
      },
      "source": [
        "## 6.2 Рекомендации\n",
        " \n",
        "-  Меньше всего оттока в 1 кластере, больше всех в 0 и 4. Для уменьшения оттока клиентов, необходимо обязательно проводить **групповые занятия**, а так же стараться вовлекать клиентов в этот процесс. Особое внимание нужно уделить акции **\"приведи друга\"**, эта акция работает, причем она сильно влияет на то что клиент остается с нами. Клиентов стоит искать среди фирм партнеров, от них приходят скорее все те кто останется с нами надолго. Расстояние от фитнес-зала оказывает влияние, но не является решающим фактором. Можно сделать утверждение что те кто живет рядом уходят от нас реже, но и те кто живет далеко не означает что они уйдут от нас. \n",
        " \n",
        "**Коротко что делать:**\n",
        "- групповые занятия\n",
        "- искать клиентов через фирмы партнеры\n",
        "- акция приведи друга обязательна\n",
        "- ориентироваться на тех кто живет рядом, если позволяет бюджет искать везде\n",
        "- дополнительные услуги должны быть на очень высоком уровне\n",
        "\n"
      ]
    },
    {
      "cell_type": "markdown",
      "metadata": {
        "id": "JdSBLL5vbteU"
      },
      "source": [
        "# 💬 Заключение"
      ]
    },
    {
      "cell_type": "markdown",
      "metadata": {
        "id": "lboSZSHTd1dS"
      },
      "source": [
        "- Получены данные фитнес-центров «Культурист-датасаентист», файл состоял из 4000 строк, 14 колонк числового содержания. Ключевым показателем являлся отток клиента **churn**, выражен в виде бинарного показателя. Пропусков а также аномальных показателей не выявлено. Явные дубликаты отсутствуют. На основе первичного анализа составлен портрет клиента.\n",
        " \n",
        "- Стояла задача выяснить какие факторы влияют на отток клиента, а также дать рекомендации по возможно стратегии уменьшения оттока. Для этой цели было решено построить модель прогнозирования оттока клиентов. Были выбраны **LogisticRegression** и **RandomForest**. Модель LogisticRegression показала себя лучше по нескольким пунктам. \n",
        "\n",
        "---\n",
        "\n",
        "\n",
        " \n",
        "> Метрики для модели логистической регрессии:\n",
        " \n",
        "- Accuracy: 0.90\n",
        "- Precision: 0.84\n",
        "- Recall: 0.79\n",
        " \n",
        "> Метрики для модели случайного леса:\n",
        "\n",
        "- Accuracy: 0.90\n",
        "- Precision: 0.84\n",
        "- Recall: 0.76\n",
        "\n",
        "\n",
        "---\n",
        "\n",
        "\n",
        "- Далее проведена кластеризация, на основе дендрограммы было решено сделать 5 кластеров. Нормализовав значения каждого кластера, проведен анализ по его среднему значению. Где выявлено, что у **кластера 1** наименьший процент оттока. При этом выявлен кластер 0 и кластер 4 где процент оттока наибольший.\n"
      ]
    }
  ],
  "metadata": {
    "ExecuteTimeLog": [
      {
        "duration": 601,
        "start_time": "2022-09-03T22:10:25.778Z"
      },
      {
        "duration": 1891,
        "start_time": "2022-09-03T22:10:28.590Z"
      },
      {
        "duration": 592,
        "start_time": "2022-09-03T22:10:30.483Z"
      },
      {
        "duration": 78,
        "start_time": "2022-09-03T22:10:31.593Z"
      },
      {
        "duration": 16,
        "start_time": "2022-09-03T22:10:32.503Z"
      },
      {
        "duration": 12,
        "start_time": "2022-09-03T22:10:33.816Z"
      },
      {
        "duration": 4,
        "start_time": "2022-09-03T22:10:39.081Z"
      },
      {
        "duration": 9,
        "start_time": "2022-09-03T22:10:40.714Z"
      },
      {
        "duration": 9,
        "start_time": "2022-09-03T22:10:41.817Z"
      },
      {
        "duration": 113,
        "start_time": "2022-09-03T22:18:28.425Z"
      },
      {
        "duration": 117,
        "start_time": "2022-09-03T22:18:38.363Z"
      },
      {
        "duration": 112,
        "start_time": "2022-09-03T22:18:40.659Z"
      },
      {
        "duration": 250,
        "start_time": "2022-09-03T22:18:50.656Z"
      },
      {
        "duration": 351,
        "start_time": "2022-09-03T22:20:11.532Z"
      },
      {
        "duration": 377,
        "start_time": "2022-09-03T22:20:15.871Z"
      },
      {
        "duration": 407,
        "start_time": "2022-09-03T22:20:22.628Z"
      },
      {
        "duration": 926,
        "start_time": "2022-09-03T22:20:59.724Z"
      },
      {
        "duration": 11500,
        "start_time": "2022-09-04T20:10:19.380Z"
      },
      {
        "duration": 1941,
        "start_time": "2022-09-04T20:10:30.883Z"
      },
      {
        "duration": 602,
        "start_time": "2022-09-04T20:10:32.826Z"
      },
      {
        "duration": 131,
        "start_time": "2022-09-04T20:10:33.431Z"
      },
      {
        "duration": 20,
        "start_time": "2022-09-04T20:10:33.564Z"
      },
      {
        "duration": 13,
        "start_time": "2022-09-04T20:10:33.586Z"
      },
      {
        "duration": 3,
        "start_time": "2022-09-04T20:10:33.601Z"
      },
      {
        "duration": 14,
        "start_time": "2022-09-04T20:10:33.606Z"
      },
      {
        "duration": 14,
        "start_time": "2022-09-04T20:10:33.622Z"
      },
      {
        "duration": 4,
        "start_time": "2022-09-04T20:10:33.640Z"
      },
      {
        "duration": 53,
        "start_time": "2022-09-04T20:10:33.646Z"
      },
      {
        "duration": 4,
        "start_time": "2022-09-04T20:10:33.701Z"
      },
      {
        "duration": 38,
        "start_time": "2022-09-04T20:10:33.706Z"
      },
      {
        "duration": 17,
        "start_time": "2022-09-04T20:10:33.745Z"
      },
      {
        "duration": 1121,
        "start_time": "2022-09-04T20:10:33.763Z"
      },
      {
        "duration": 3426,
        "start_time": "2022-09-04T20:10:34.885Z"
      },
      {
        "duration": 1179,
        "start_time": "2022-09-04T20:10:38.313Z"
      },
      {
        "duration": 734,
        "start_time": "2022-09-04T20:10:39.494Z"
      },
      {
        "duration": 137,
        "start_time": "2022-09-04T20:10:40.230Z"
      },
      {
        "duration": 30,
        "start_time": "2022-09-04T20:11:52.598Z"
      },
      {
        "duration": 19,
        "start_time": "2022-09-04T20:12:17.273Z"
      },
      {
        "duration": 19,
        "start_time": "2022-09-04T20:12:50.407Z"
      },
      {
        "duration": 26,
        "start_time": "2022-09-04T20:13:06.015Z"
      },
      {
        "duration": 19,
        "start_time": "2022-09-04T20:13:45.318Z"
      },
      {
        "duration": 20,
        "start_time": "2022-09-04T20:13:55.655Z"
      },
      {
        "duration": 2928,
        "start_time": "2022-09-04T20:23:24.146Z"
      },
      {
        "duration": 2023,
        "start_time": "2022-09-04T20:23:27.076Z"
      },
      {
        "duration": 607,
        "start_time": "2022-09-04T20:23:29.101Z"
      },
      {
        "duration": 41,
        "start_time": "2022-09-04T20:23:29.711Z"
      },
      {
        "duration": 20,
        "start_time": "2022-09-04T20:23:29.753Z"
      },
      {
        "duration": 13,
        "start_time": "2022-09-04T20:23:29.774Z"
      },
      {
        "duration": 4,
        "start_time": "2022-09-04T20:23:29.789Z"
      },
      {
        "duration": 14,
        "start_time": "2022-09-04T20:23:29.794Z"
      },
      {
        "duration": 10,
        "start_time": "2022-09-04T20:23:29.810Z"
      },
      {
        "duration": 4,
        "start_time": "2022-09-04T20:23:29.822Z"
      },
      {
        "duration": 28,
        "start_time": "2022-09-04T20:23:29.828Z"
      },
      {
        "duration": 4,
        "start_time": "2022-09-04T20:23:29.858Z"
      },
      {
        "duration": 53,
        "start_time": "2022-09-04T20:23:29.863Z"
      },
      {
        "duration": 16,
        "start_time": "2022-09-04T20:23:29.918Z"
      },
      {
        "duration": 1202,
        "start_time": "2022-09-04T20:23:29.935Z"
      },
      {
        "duration": 3680,
        "start_time": "2022-09-04T20:23:31.139Z"
      },
      {
        "duration": 1156,
        "start_time": "2022-09-04T20:23:34.821Z"
      },
      {
        "duration": 721,
        "start_time": "2022-09-04T20:23:35.979Z"
      },
      {
        "duration": 649,
        "start_time": "2022-09-04T20:23:36.702Z"
      },
      {
        "duration": 15,
        "start_time": "2022-09-04T20:23:37.353Z"
      },
      {
        "duration": 21,
        "start_time": "2022-09-04T20:23:37.370Z"
      },
      {
        "duration": 9,
        "start_time": "2022-09-04T20:23:37.393Z"
      },
      {
        "duration": 15,
        "start_time": "2022-09-04T20:23:37.404Z"
      },
      {
        "duration": 631,
        "start_time": "2022-09-04T20:23:37.421Z"
      },
      {
        "duration": 3,
        "start_time": "2022-09-04T20:23:38.053Z"
      },
      {
        "duration": 13,
        "start_time": "2022-09-04T20:23:38.057Z"
      },
      {
        "duration": 642,
        "start_time": "2022-09-04T20:23:38.071Z"
      },
      {
        "duration": 3,
        "start_time": "2022-09-04T20:23:38.716Z"
      },
      {
        "duration": 5,
        "start_time": "2022-09-04T20:23:38.721Z"
      },
      {
        "duration": 1268,
        "start_time": "2022-09-04T20:23:38.727Z"
      },
      {
        "duration": 3,
        "start_time": "2022-09-04T20:23:39.997Z"
      },
      {
        "duration": 18,
        "start_time": "2022-09-04T20:23:40.002Z"
      },
      {
        "duration": 1991,
        "start_time": "2022-09-04T20:23:40.022Z"
      },
      {
        "duration": 9,
        "start_time": "2022-09-04T20:23:42.015Z"
      },
      {
        "duration": 315,
        "start_time": "2022-09-04T20:23:42.026Z"
      },
      {
        "duration": 129,
        "start_time": "2022-09-04T20:24:54.987Z"
      },
      {
        "duration": 18,
        "start_time": "2022-09-04T20:25:00.921Z"
      },
      {
        "duration": 7,
        "start_time": "2022-09-04T20:25:20.110Z"
      },
      {
        "duration": 259,
        "start_time": "2022-09-04T20:25:22.890Z"
      },
      {
        "duration": 204,
        "start_time": "2022-09-04T20:25:29.819Z"
      },
      {
        "duration": 323,
        "start_time": "2022-09-04T20:25:51.381Z"
      },
      {
        "duration": 280,
        "start_time": "2022-09-04T20:27:47.068Z"
      },
      {
        "duration": 472,
        "start_time": "2022-09-04T20:28:06.084Z"
      },
      {
        "duration": 471,
        "start_time": "2022-09-04T20:28:12.480Z"
      },
      {
        "duration": 535,
        "start_time": "2022-09-04T20:28:46.791Z"
      },
      {
        "duration": 441,
        "start_time": "2022-09-04T20:28:52.622Z"
      },
      {
        "duration": 783,
        "start_time": "2022-09-04T20:29:35.974Z"
      },
      {
        "duration": 458,
        "start_time": "2022-09-04T20:29:38.793Z"
      },
      {
        "duration": 230,
        "start_time": "2022-09-04T20:29:43.587Z"
      },
      {
        "duration": 236,
        "start_time": "2022-09-04T20:29:45.363Z"
      },
      {
        "duration": 261,
        "start_time": "2022-09-04T20:29:48.171Z"
      },
      {
        "duration": 296,
        "start_time": "2022-09-04T20:29:56.737Z"
      },
      {
        "duration": 261,
        "start_time": "2022-09-04T20:31:38.506Z"
      },
      {
        "duration": 298,
        "start_time": "2022-09-04T20:32:00.465Z"
      },
      {
        "duration": 267,
        "start_time": "2022-09-04T20:32:06.388Z"
      },
      {
        "duration": 241,
        "start_time": "2022-09-04T20:32:24.498Z"
      },
      {
        "duration": 6,
        "start_time": "2022-09-04T20:32:42.803Z"
      },
      {
        "duration": 182,
        "start_time": "2022-09-04T20:32:53.115Z"
      },
      {
        "duration": 12,
        "start_time": "2022-09-04T20:32:57.285Z"
      },
      {
        "duration": 11,
        "start_time": "2022-09-04T20:33:00.026Z"
      },
      {
        "duration": 195,
        "start_time": "2022-09-04T20:33:35.514Z"
      },
      {
        "duration": 227,
        "start_time": "2022-09-04T20:33:40.180Z"
      },
      {
        "duration": 23,
        "start_time": "2022-09-04T20:33:51.663Z"
      },
      {
        "duration": 26,
        "start_time": "2022-09-04T20:34:39.247Z"
      },
      {
        "duration": 13,
        "start_time": "2022-09-04T20:34:48.142Z"
      },
      {
        "duration": 13,
        "start_time": "2022-09-04T20:34:56.515Z"
      },
      {
        "duration": 13,
        "start_time": "2022-09-04T20:34:59.825Z"
      },
      {
        "duration": 7,
        "start_time": "2022-09-04T20:35:02.645Z"
      },
      {
        "duration": 248,
        "start_time": "2022-09-04T20:35:30.175Z"
      },
      {
        "duration": 211,
        "start_time": "2022-09-04T20:35:39.826Z"
      },
      {
        "duration": 236,
        "start_time": "2022-09-04T20:35:43.471Z"
      },
      {
        "duration": 424,
        "start_time": "2022-09-04T20:35:47.124Z"
      },
      {
        "duration": 475,
        "start_time": "2022-09-04T20:35:53.268Z"
      }
    ],
    "colab": {
      "collapsed_sections": [],
      "provenance": [],
      "toc_visible": true
    },
    "kernelspec": {
      "display_name": "Python 3 (ipykernel)",
      "language": "python",
      "name": "python3"
    },
    "language_info": {
      "codemirror_mode": {
        "name": "ipython",
        "version": 3
      },
      "file_extension": ".py",
      "mimetype": "text/x-python",
      "name": "python",
      "nbconvert_exporter": "python",
      "pygments_lexer": "ipython3",
      "version": "3.9.5"
    },
    "toc": {
      "base_numbering": 1,
      "nav_menu": {},
      "number_sections": true,
      "sideBar": true,
      "skip_h1_title": true,
      "title_cell": "Table of Contents",
      "title_sidebar": "Contents",
      "toc_cell": false,
      "toc_position": {},
      "toc_section_display": true,
      "toc_window_display": false
    }
  },
  "nbformat": 4,
  "nbformat_minor": 0
}
