{
  "nbformat": 4,
  "nbformat_minor": 0,
  "metadata": {
    "colab": {
      "provenance": [],
      "toc_visible": true
    },
    "kernelspec": {
      "name": "python3",
      "display_name": "Python 3"
    },
    "language_info": {
      "name": "python"
    }
  },
  "cells": [
    {
      "cell_type": "markdown",
      "source": [
        "# Здравствуйте! \n",
        "\n",
        "- Тестовое задание для **А101** на должность **Аналитик**\n",
        
      ],
      "metadata": {
        "id": "C7GNOfp4OjDB"
      }
    },
    {
      "cell_type": "code",
      "source": [
        "import pandas as pd\n",
        "import numpy as np"
      ],
      "metadata": {
        "id": "8IPTq8yXBjUD"
      },
      "execution_count": null,
      "outputs": []
    },
    {
      "cell_type": "markdown",
      "source": [
        "# 1 таблица «РС»"
      ],
      "metadata": {
        "id": "cJ8DNf9MD0x-"
      }
    },
    {
      "cell_type": "code",
      "source": [
        "pc = pd.DataFrame({'id': [1,2,3,4],\n",
        "                  'cpu': [1600, 2400, 3200, 2400], \n",
        "                   'memory': [2000, 3000, 3000, 2000], \n",
        "                   \"hdd\": [500, 800, 1200, 500]})"
      ],
      "metadata": {
        "id": "jPYOg2soBubZ"
      },
      "execution_count": null,
      "outputs": []
    },
    {
      "cell_type": "code",
      "source": [
        "pc"
      ],
      "metadata": {
        "colab": {
          "base_uri": "https://localhost:8080/",
          "height": 175
        },
        "id": "8c5EEcgH_H2k",
        "outputId": "2d51ba62-c2f7-4b43-e9fd-04dd7e650efe"
      },
      "execution_count": null,
      "outputs": [
        {
          "output_type": "execute_result",
          "data": {
            "text/plain": [
              "   id   cpu  memory   hdd\n",
              "0   1  1600    2000   500\n",
              "1   2  2400    3000   800\n",
              "2   3  3200    3000  1200\n",
              "3   4  2400    2000   500"
            ],
            "text/html": [
              "\n",
              "  <div id=\"df-e827f592-2d09-432f-9244-da856835868f\">\n",
              "    <div class=\"colab-df-container\">\n",
              "      <div>\n",
              "<style scoped>\n",
              "    .dataframe tbody tr th:only-of-type {\n",
              "        vertical-align: middle;\n",
              "    }\n",
              "\n",
              "    .dataframe tbody tr th {\n",
              "        vertical-align: top;\n",
              "    }\n",
              "\n",
              "    .dataframe thead th {\n",
              "        text-align: right;\n",
              "    }\n",
              "</style>\n",
              "<table border=\"1\" class=\"dataframe\">\n",
              "  <thead>\n",
              "    <tr style=\"text-align: right;\">\n",
              "      <th></th>\n",
              "      <th>id</th>\n",
              "      <th>cpu</th>\n",
              "      <th>memory</th>\n",
              "      <th>hdd</th>\n",
              "    </tr>\n",
              "  </thead>\n",
              "  <tbody>\n",
              "    <tr>\n",
              "      <th>0</th>\n",
              "      <td>1</td>\n",
              "      <td>1600</td>\n",
              "      <td>2000</td>\n",
              "      <td>500</td>\n",
              "    </tr>\n",
              "    <tr>\n",
              "      <th>1</th>\n",
              "      <td>2</td>\n",
              "      <td>2400</td>\n",
              "      <td>3000</td>\n",
              "      <td>800</td>\n",
              "    </tr>\n",
              "    <tr>\n",
              "      <th>2</th>\n",
              "      <td>3</td>\n",
              "      <td>3200</td>\n",
              "      <td>3000</td>\n",
              "      <td>1200</td>\n",
              "    </tr>\n",
              "    <tr>\n",
              "      <th>3</th>\n",
              "      <td>4</td>\n",
              "      <td>2400</td>\n",
              "      <td>2000</td>\n",
              "      <td>500</td>\n",
              "    </tr>\n",
              "  </tbody>\n",
              "</table>\n",
              "</div>\n",
              "      <button class=\"colab-df-convert\" onclick=\"convertToInteractive('df-e827f592-2d09-432f-9244-da856835868f')\"\n",
              "              title=\"Convert this dataframe to an interactive table.\"\n",
              "              style=\"display:none;\">\n",
              "        \n",
              "  <svg xmlns=\"http://www.w3.org/2000/svg\" height=\"24px\"viewBox=\"0 0 24 24\"\n",
              "       width=\"24px\">\n",
              "    <path d=\"M0 0h24v24H0V0z\" fill=\"none\"/>\n",
              "    <path d=\"M18.56 5.44l.94 2.06.94-2.06 2.06-.94-2.06-.94-.94-2.06-.94 2.06-2.06.94zm-11 1L8.5 8.5l.94-2.06 2.06-.94-2.06-.94L8.5 2.5l-.94 2.06-2.06.94zm10 10l.94 2.06.94-2.06 2.06-.94-2.06-.94-.94-2.06-.94 2.06-2.06.94z\"/><path d=\"M17.41 7.96l-1.37-1.37c-.4-.4-.92-.59-1.43-.59-.52 0-1.04.2-1.43.59L10.3 9.45l-7.72 7.72c-.78.78-.78 2.05 0 2.83L4 21.41c.39.39.9.59 1.41.59.51 0 1.02-.2 1.41-.59l7.78-7.78 2.81-2.81c.8-.78.8-2.07 0-2.86zM5.41 20L4 18.59l7.72-7.72 1.47 1.35L5.41 20z\"/>\n",
              "  </svg>\n",
              "      </button>\n",
              "      \n",
              "  <style>\n",
              "    .colab-df-container {\n",
              "      display:flex;\n",
              "      flex-wrap:wrap;\n",
              "      gap: 12px;\n",
              "    }\n",
              "\n",
              "    .colab-df-convert {\n",
              "      background-color: #E8F0FE;\n",
              "      border: none;\n",
              "      border-radius: 50%;\n",
              "      cursor: pointer;\n",
              "      display: none;\n",
              "      fill: #1967D2;\n",
              "      height: 32px;\n",
              "      padding: 0 0 0 0;\n",
              "      width: 32px;\n",
              "    }\n",
              "\n",
              "    .colab-df-convert:hover {\n",
              "      background-color: #E2EBFA;\n",
              "      box-shadow: 0px 1px 2px rgba(60, 64, 67, 0.3), 0px 1px 3px 1px rgba(60, 64, 67, 0.15);\n",
              "      fill: #174EA6;\n",
              "    }\n",
              "\n",
              "    [theme=dark] .colab-df-convert {\n",
              "      background-color: #3B4455;\n",
              "      fill: #D2E3FC;\n",
              "    }\n",
              "\n",
              "    [theme=dark] .colab-df-convert:hover {\n",
              "      background-color: #434B5C;\n",
              "      box-shadow: 0px 1px 3px 1px rgba(0, 0, 0, 0.15);\n",
              "      filter: drop-shadow(0px 1px 2px rgba(0, 0, 0, 0.3));\n",
              "      fill: #FFFFFF;\n",
              "    }\n",
              "  </style>\n",
              "\n",
              "      <script>\n",
              "        const buttonEl =\n",
              "          document.querySelector('#df-e827f592-2d09-432f-9244-da856835868f button.colab-df-convert');\n",
              "        buttonEl.style.display =\n",
              "          google.colab.kernel.accessAllowed ? 'block' : 'none';\n",
              "\n",
              "        async function convertToInteractive(key) {\n",
              "          const element = document.querySelector('#df-e827f592-2d09-432f-9244-da856835868f');\n",
              "          const dataTable =\n",
              "            await google.colab.kernel.invokeFunction('convertToInteractive',\n",
              "                                                     [key], {});\n",
              "          if (!dataTable) return;\n",
              "\n",
              "          const docLinkHtml = 'Like what you see? Visit the ' +\n",
              "            '<a target=\"_blank\" href=https://colab.research.google.com/notebooks/data_table.ipynb>data table notebook</a>'\n",
              "            + ' to learn more about interactive tables.';\n",
              "          element.innerHTML = '';\n",
              "          dataTable['output_type'] = 'display_data';\n",
              "          await google.colab.output.renderOutput(dataTable, element);\n",
              "          const docLink = document.createElement('div');\n",
              "          docLink.innerHTML = docLinkHtml;\n",
              "          element.appendChild(docLink);\n",
              "        }\n",
              "      </script>\n",
              "    </div>\n",
              "  </div>\n",
              "  "
            ]
          },
          "metadata": {},
          "execution_count": 11
        }
      ]
    },
    {
      "cell_type": "code",
      "execution_count": null,
      "metadata": {
        "id": "kg2ocIf__B89"
      },
      "outputs": [],
      "source": [
        "# 1) Тактовые частоты CPU тех компьютеров, у которых объем памяти 3000 Мб. Вывод: id, cpu, memory\n",
        "\"\"\"\n",
        "SELECT id, \n",
        "  cpu, \n",
        "  memory\n",
        "FROM PC\n",
        "WHERE memory = 3000\n",
        "\"\"\""
      ]
    },
    {
      "cell_type": "code",
      "source": [
        "# 2) Минимальный объём жесткого диска, установленного в компьютере на складе. Вывод: hdd\n",
        "\"\"\"\n",
        "SELECT MIN(hdd) AS hdd\n",
        "FROM PC\n",
        "\"\"\""
      ],
      "metadata": {
        "id": "K8eREYGB_4j5"
      },
      "execution_count": null,
      "outputs": []
    },
    {
      "cell_type": "code",
      "source": [
        "# 3) Количество компьютеров с минимальным объемом жесткого диска, доступного на складе. Вывод: count, hdd\n",
        "\"\"\"\n",
        "SELECT COUNT(*) AS count,\n",
        "  hdd\n",
        "FROM PC\n",
        "GROUP BY 2\n",
        "HAVING hdd = (SELECT MIN(hdd) FROM PC)\n",
        "\"\"\""
      ],
      "metadata": {
        "id": "ddIwoFN1_UZX"
      },
      "execution_count": null,
      "outputs": []
    },
    {
      "cell_type": "markdown",
      "source": [
        "# 2 Запрос IF\n",
        "\n",
        "Написать SQL запрос, где необходимо вычислить количество сотрудников emp_id в зависимости от пола sex, чьи даты рождения dateB находятся между 12/12/1986 и 29/02/1998. Поле с полом может содержать значения: М, Ж, 0 и NULL. Если пол содержит 0 или NULL, необходимо заменить их на Н/Д. \n"
      ],
      "metadata": {
        "id": "446e7BZO_VAl"
      }
    },
    {
      "cell_type": "code",
      "source": [
        "\"\"\"\n",
        "SELECT IIF(sex = 0 OR sex IS NULL, \"Н/Д\", sex) AS sex,\n",
        "  COUNT(emp_id) AS cnt  \n",
        "FROM table\n",
        "WHERE DATE(dateB) BETWEEN \"12/12/1986\" AND \"29/02/1998\"\n",
        "GROUP BY 1\n",
        "\"\"\""
      ],
      "metadata": {
        "id": "HFt4P3atDspe"
      },
      "execution_count": null,
      "outputs": []
    },
    {
      "cell_type": "markdown",
      "source": [
        "# 3 Найти Романа\n",
        "\n",
        "Найти все записи о сотрудниках в поле fio, содержащие слово “Роман”, независимо от того, был ли он, как РОМАН, Роман, или роман и найти уникальное кол-во филиалов department с которыми эти сотрудники работали. Нужны только те сотрудники, которые работали более чем с 5 филиалами. Данные располагаются в одной таблице employee."
      ],
      "metadata": {
        "id": "x1lwl7rIFI0X"
      }
    },
    {
      "cell_type": "code",
      "source": [
        "\"\"\"\n",
        "SELECT fio,\n",
        "  COUNT(DISTINCT department) AS unic_cnt\n",
        "FROM employee\n",
        "WHERE fio GLOB \"*оман*\" OR fio GLOB \"*РОМАН*\"\n",
        "GROUP BY 1\n",
        "HAVING COUNT(DISTINCT department) > 5\n",
        "\"\"\""
      ],
      "metadata": {
        "id": "volYaQMlFO7y"
      },
      "execution_count": null,
      "outputs": []
    },
    {
      "cell_type": "markdown",
      "source": [
        "# 4 Power BI"
      ],
      "metadata": {
        "id": "5m-OeWvuI3eQ"
      }
    },
    {
      "cell_type": "markdown",
      "source": [
        "Ссылка на дашборд: https://drive.google.com/file/d/1W-EzDyynKBt0AmDq18pNQ5jAVUJVciTW/view?usp=sharing\n",
        "\n",
        "Обратите внимание там 2 вкладки."
      ],
      "metadata": {
        "id": "ldm8lAd2I7DH"
      }
    }
  ]
}
