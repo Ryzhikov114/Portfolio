{
  "nbformat": 4,
  "nbformat_minor": 0,
  "metadata": {
    "colab": {
      "provenance": [],
      "toc_visible": true
    },
    "kernelspec": {
      "name": "python3",
      "display_name": "Python 3"
    },
    "language_info": {
      "name": "python"
    }
  },
  "cells": [
    {
      "cell_type": "markdown",
      "source": [
        "# 🙋‍♂️ Вступление\n",
        "\n",
        "- Здравствуйте, добрый день!!! Предтестовое задание компании **WhoIsBlogger (WIB)**.\n",
        "\n",
        "- Требуется создать таблицы, и на их основе сделать SQL запросы. Предпостительный язык PostgreSQL, но можно и другой на усмотрение. Желательно приложить код создания таблиц.\n",
        "\n",
        "- В работе использованы библиотеки рandas, numpy, sqlite3. Созданы таблицы с помощью SQL запросов. Сделана функция для отображения SQL запросов. При выполнения задания использованы оконные функции, табличные выражения, вложенные запросы."
      ],
      "metadata": {
        "id": "WEQbAmzdWctb"
      }
    },
    {
      "cell_type": "markdown",
      "source": [
        "# 📚 1. Импорт"
      ],
      "metadata": {
        "id": "LO3gBBk2U4Gk"
      }
    },
    {
      "cell_type": "code",
      "execution_count": null,
      "metadata": {
        "id": "Gac9PDRVLE7n"
      },
      "outputs": [],
      "source": [
        "!pip install SQLAlchemy\n",
        "!add-apt-repository -y ppa:sergey-dryabzhinsky/packages\n",
        "!apt update\n",
        "!apt install sqlite3"
      ]
    },
    {
      "cell_type": "code",
      "source": [
        "!gdown 1BSHIKQ7rFw5BpTq5nw1UZfjPK_7Mpnbi -O /usr/lib/python3.7/lib-dynload/\n",
        "# MENU: Runtime > Restart runtime\n",
        "# Нужно перезапустить среду, после установки\n",
        "import sqlite3\n",
        "sqlite3.sqlite_version"
      ],
      "metadata": {
        "colab": {
          "base_uri": "https://localhost:8080/",
          "height": 105
        },
        "id": "0Yctz0lELIHh",
        "outputId": "1adf8852-46f0-4446-f602-d5c210ada6fa"
      },
      "execution_count": null,
      "outputs": [
        {
          "output_type": "stream",
          "name": "stdout",
          "text": [
            "Downloading...\n",
            "From: https://drive.google.com/uc?id=1BSHIKQ7rFw5BpTq5nw1UZfjPK_7Mpnbi\n",
            "To: /usr/lib/python3.7/lib-dynload/_sqlite3.cpython-37m-x86_64-linux-gnu.so\n",
            "\r  0% 0.00/6.50M [00:00<?, ?B/s]\r100% 6.50M/6.50M [00:00<00:00, 204MB/s]\n"
          ]
        },
        {
          "output_type": "execute_result",
          "data": {
            "text/plain": [
              "'3.38.0'"
            ],
            "application/vnd.google.colaboratory.intrinsic+json": {
              "type": "string"
            }
          },
          "metadata": {},
          "execution_count": 2
        }
      ]
    },
    {
      "cell_type": "code",
      "source": [
        "import pandas as pd\n",
        "import numpy as np"
      ],
      "metadata": {
        "id": "v0FFNsuMLymL"
      },
      "execution_count": null,
      "outputs": []
    },
    {
      "cell_type": "code",
      "source": [
        "con = sqlite3.connect('test.db')"
      ],
      "metadata": {
        "id": "WIvrX_JZLVD3"
      },
      "execution_count": null,
      "outputs": []
    },
    {
      "cell_type": "code",
      "source": [
        "def select(sql):\n",
        "  return pd.read_sql(sql,con)"
      ],
      "metadata": {
        "id": "_94RbckuLLMu"
      },
      "execution_count": null,
      "outputs": []
    },
    {
      "cell_type": "markdown",
      "source": [
        "# 🧮 2. Создание таблиц"
      ],
      "metadata": {
        "id": "nwKZP4ZNU8dy"
      }
    },
    {
      "cell_type": "code",
      "source": [
        "# CREATING THE TABLE users\n",
        "\n",
        "con.execute('''\n",
        "CREATE TABLE IF NOT EXISTS users(\n",
        "    user_id INTEGER PRIMARY KEY AUTOINCREMENT,\n",
        "    age int DEFAULT NULL);\n",
        "    ''')\n",
        "\n",
        "con.commit()\n",
        "\n",
        "print(\"Table created successfully\");\n"
      ],
      "metadata": {
        "colab": {
          "base_uri": "https://localhost:8080/"
        },
        "id": "na-7eyAuMHve",
        "outputId": "42f737f4-5735-4038-c921-1e2535e5c989"
      },
      "execution_count": null,
      "outputs": [
        {
          "output_type": "stream",
          "name": "stdout",
          "text": [
            "Table created successfully\n"
          ]
        }
      ]
    },
    {
      "cell_type": "code",
      "source": [
        "# CREATING THE TABLE items\n",
        "\n",
        "con.execute('''\n",
        "CREATE TABLE IF NOT EXISTS `items` (\n",
        "  `item_id` INTEGER PRIMARY KEY AUTOINCREMENT,\n",
        "  `price` decimal(8,2) DEFAULT NULL\n",
        ");''')\n",
        "\n",
        "con.commit()\n",
        "\n",
        "print(\"Table created successfully\");"
      ],
      "metadata": {
        "colab": {
          "base_uri": "https://localhost:8080/"
        },
        "id": "QV4Wr3pvPZW_",
        "outputId": "743c8c1a-73f3-4fae-db73-22ee78ee11d8"
      },
      "execution_count": null,
      "outputs": [
        {
          "output_type": "stream",
          "name": "stdout",
          "text": [
            "Table created successfully\n"
          ]
        }
      ]
    },
    {
      "cell_type": "code",
      "source": [
        "# CREATING THE TABLE purchases\n",
        "\n",
        "con.execute('''\n",
        "CREATE TABLE IF NOT EXISTS `purchases` (\n",
        "  `purchase_id` INTEGER PRIMARY KEY AUTOINCREMENT,\n",
        "  `user_id` int DEFAULT NULL,\n",
        "  `item_id` int DEFAULT NULL,\n",
        "  `date` date DEFAULT NULL,\n",
        "  CONSTRAINT `purchases_ibfk_2` FOREIGN KEY (`item_id`) REFERENCES `items` (`item_id`) ON DELETE CASCADE,\n",
        "  CONSTRAINT `purchases_ibfk_1` FOREIGN KEY (`user_id`) REFERENCES `users` (`user_id`) ON DELETE CASCADE\n",
        "  );''')\n",
        "\n",
        "con.commit()\n",
        "\n",
        "print(\"Table created successfully\");"
      ],
      "metadata": {
        "colab": {
          "base_uri": "https://localhost:8080/"
        },
        "id": "UiM-PEiUNqXJ",
        "outputId": "a81d3737-463e-4e66-c8c1-2f7274aa2282"
      },
      "execution_count": null,
      "outputs": [
        {
          "output_type": "stream",
          "name": "stdout",
          "text": [
            "Table created successfully\n"
          ]
        }
      ]
    },
    {
      "cell_type": "markdown",
      "source": [
        "# 📝 3. Наполнение таблиц"
      ],
      "metadata": {
        "id": "HtL9F5TCU_T4"
      }
    },
    {
      "cell_type": "code",
      "source": [
        "# INSERTING VALUES items\n",
        "\n",
        "con.execute(\"INSERT or REPLACE INTO items (item_id, price) VALUES(1, 500.99);\")\n",
        "con.execute(\"INSERT or REPLACE INTO items (item_id, price) VALUES(2, 1000.99);\")\n",
        "con.execute(\"INSERT or REPLACE INTO items (item_id, price) VALUES(3, 5000.99);\")\n",
        "con.execute(\"INSERT or REPLACE INTO items (item_id, price) VALUES(4, 150.99);\")\n",
        "con.execute(\"INSERT or REPLACE INTO items (item_id, price) VALUES(5, 650.99);\")\n",
        "con.execute(\"INSERT or REPLACE INTO items (item_id, price) VALUES(6, 800.99);\")\n",
        "\n",
        "con.commit()\n",
        "\n",
        "print(\"Table insert successfully\");"
      ],
      "metadata": {
        "colab": {
          "base_uri": "https://localhost:8080/"
        },
        "id": "B_KkE-t2NpFh",
        "outputId": "f29d5f93-6c12-473e-b1ef-20d8ecf2b24e"
      },
      "execution_count": null,
      "outputs": [
        {
          "output_type": "stream",
          "name": "stdout",
          "text": [
            "Table insert successfully\n"
          ]
        }
      ]
    },
    {
      "cell_type": "code",
      "source": [
        "# INSERTING VALUES users\n",
        "\n",
        "con.execute(\"INSERT or REPLACE INTO users (user_id,age) VALUES(1,20);\")\n",
        "con.execute(\"INSERT or REPLACE INTO users (user_id,age) VALUES(2,25);\")\n",
        "con.execute(\"INSERT or REPLACE INTO users (user_id,age) VALUES(3,40);\")\n",
        "con.execute(\"INSERT or REPLACE INTO users (user_id,age) VALUES(4,65);\")\n",
        "con.execute(\"INSERT or REPLACE INTO users (user_id,age) VALUES(5,48);\")\n",
        "con.execute(\"INSERT or REPLACE INTO users (user_id,age) VALUES(6,25);\")\n",
        "con.execute(\"INSERT or REPLACE INTO users (user_id,age) VALUES(7,33);\")\n",
        "con.execute(\"INSERT or REPLACE INTO users (user_id,age) VALUES(8,65);\")\n",
        "con.execute(\"INSERT or REPLACE INTO users (user_id,age) VALUES(9,19);\")\n",
        "con.execute(\"INSERT or REPLACE INTO users (user_id,age) VALUES(10,25);\")\n",
        "con.execute(\"INSERT or REPLACE INTO users (user_id,age) VALUES(11,70);\")\n",
        "con.execute(\"INSERT or REPLACE INTO users (user_id,age) VALUES(12,65);\")\n",
        "\n",
        "con.commit()\n",
        "\n",
        "print(\"Table insert successfully\");"
      ],
      "metadata": {
        "colab": {
          "base_uri": "https://localhost:8080/"
        },
        "id": "q92kXK3wPrh4",
        "outputId": "1290e112-8af3-4b44-a928-b6364771516d"
      },
      "execution_count": null,
      "outputs": [
        {
          "output_type": "stream",
          "name": "stdout",
          "text": [
            "Table insert successfully\n"
          ]
        }
      ]
    },
    {
      "cell_type": "code",
      "source": [
        "# INSERTING VALUES purchases\n",
        "\n",
        "con.execute(\"INSERT or REPLACE INTO purchases (purchase_id,user_id,item_id,date) VALUES(1,8,2,'2020-01-23');\")\n",
        "con.execute(\"INSERT or REPLACE INTO purchases (purchase_id,user_id,item_id,date) VALUES(2,3,1,'2020-02-23');\")\n",
        "con.execute(\"INSERT or REPLACE INTO purchases (purchase_id,user_id,item_id,date) VALUES(3,4,2,'2020-03-26');\")\n",
        "con.execute(\"INSERT or REPLACE INTO purchases (purchase_id,user_id,item_id,date) VALUES(4,1,1,'2020-04-15');\")\n",
        "con.execute(\"INSERT or REPLACE INTO purchases (purchase_id,user_id,item_id,date) VALUES(5,3,5,'2020-05-15');\")\n",
        "con.execute(\"INSERT or REPLACE INTO purchases (purchase_id,user_id,item_id,date) VALUES(6,4,6,'2020-06-21');\")\n",
        "con.execute(\"INSERT or REPLACE INTO purchases (purchase_id,user_id,item_id,date) VALUES(7,3,1,'2020-07-17');\")\n",
        "con.execute(\"INSERT or REPLACE INTO purchases (purchase_id,user_id,item_id,date) VALUES(8,9,2,'2020-08-23');\")\n",
        "con.execute(\"INSERT or REPLACE INTO purchases (purchase_id,user_id,item_id,date) VALUES(9,3,1,'2020-09-23');\")\n",
        "con.execute(\"INSERT or REPLACE INTO purchases (purchase_id,user_id,item_id,date) VALUES(10,4,6,'2020-10-26');\")\n",
        "con.execute(\"INSERT or REPLACE INTO purchases (purchase_id,user_id,item_id,date) VALUES(11,1,1,'2020-11-15');\")\n",
        "con.execute(\"INSERT or REPLACE INTO purchases (purchase_id,user_id,item_id,date) VALUES(12,11,3,'2020-12-15');\")\n",
        "con.execute(\"INSERT or REPLACE INTO purchases (purchase_id,user_id,item_id,date) VALUES(13,4,2,'2021-04-21');\")\n",
        "con.execute(\"INSERT or REPLACE INTO purchases (purchase_id,user_id,item_id,date) VALUES(14,12,4,'2021-05-17');\")\n",
        "\n",
        "con.commit()\n",
        "\n",
        "print(\"Table insert successfully\");"
      ],
      "metadata": {
        "colab": {
          "base_uri": "https://localhost:8080/"
        },
        "id": "javXTEGsPrkg",
        "outputId": "d51d2a76-8774-415d-9c15-8fb3c2d4e69a"
      },
      "execution_count": null,
      "outputs": [
        {
          "output_type": "stream",
          "name": "stdout",
          "text": [
            "Table insert successfully\n"
          ]
        }
      ]
    },
    {
      "cell_type": "markdown",
      "source": [
        "# Задание А\n",
        "\n",
        "Какую сумму в среднем в месяц тратит:\n",
        "- пользователи в возрастном диапазоне от 18 до 25 лет включительно?\n",
        "- пользователи в возрастном диапазоне от 26 до 35 лет включительно?"
      ],
      "metadata": {
        "id": "dHNcWtLvSqMb"
      }
    },
    {
      "cell_type": "code",
      "source": [
        "sql = \"\"\"\n",
        "SELECT strftime('%m', date) as Month,\n",
        "  AVG(price)\n",
        "FROM purchases\n",
        "LEFT JOIN users \n",
        "  on purchases.user_id = users.user_id\n",
        "LEFT JOIN items \n",
        "  on purchases.item_id = items.item_id\n",
        "WHERE age BETWEEN 18 AND 25\n",
        "GROUP BY 1;\n",
        "\"\"\""
      ],
      "metadata": {
        "id": "ouEpcYMEProB"
      },
      "execution_count": null,
      "outputs": []
    },
    {
      "cell_type": "code",
      "source": [
        "select(sql)"
      ],
      "metadata": {
        "colab": {
          "base_uri": "https://localhost:8080/",
          "height": 143
        },
        "id": "IMMNtpYCSIBz",
        "outputId": "89427192-3ed2-49ea-8c13-2f9009bea0d3"
      },
      "execution_count": null,
      "outputs": [
        {
          "output_type": "execute_result",
          "data": {
            "text/plain": [
              "  Month  AVG(price)\n",
              "0    04      500.99\n",
              "1    08     1000.99\n",
              "2    11      500.99"
            ],
            "text/html": [
              "\n",
              "  <div id=\"df-05afb225-766f-4e0d-a7ad-80793bb8a26f\">\n",
              "    <div class=\"colab-df-container\">\n",
              "      <div>\n",
              "<style scoped>\n",
              "    .dataframe tbody tr th:only-of-type {\n",
              "        vertical-align: middle;\n",
              "    }\n",
              "\n",
              "    .dataframe tbody tr th {\n",
              "        vertical-align: top;\n",
              "    }\n",
              "\n",
              "    .dataframe thead th {\n",
              "        text-align: right;\n",
              "    }\n",
              "</style>\n",
              "<table border=\"1\" class=\"dataframe\">\n",
              "  <thead>\n",
              "    <tr style=\"text-align: right;\">\n",
              "      <th></th>\n",
              "      <th>Month</th>\n",
              "      <th>AVG(price)</th>\n",
              "    </tr>\n",
              "  </thead>\n",
              "  <tbody>\n",
              "    <tr>\n",
              "      <th>0</th>\n",
              "      <td>04</td>\n",
              "      <td>500.99</td>\n",
              "    </tr>\n",
              "    <tr>\n",
              "      <th>1</th>\n",
              "      <td>08</td>\n",
              "      <td>1000.99</td>\n",
              "    </tr>\n",
              "    <tr>\n",
              "      <th>2</th>\n",
              "      <td>11</td>\n",
              "      <td>500.99</td>\n",
              "    </tr>\n",
              "  </tbody>\n",
              "</table>\n",
              "</div>\n",
              "      <button class=\"colab-df-convert\" onclick=\"convertToInteractive('df-05afb225-766f-4e0d-a7ad-80793bb8a26f')\"\n",
              "              title=\"Convert this dataframe to an interactive table.\"\n",
              "              style=\"display:none;\">\n",
              "        \n",
              "  <svg xmlns=\"http://www.w3.org/2000/svg\" height=\"24px\"viewBox=\"0 0 24 24\"\n",
              "       width=\"24px\">\n",
              "    <path d=\"M0 0h24v24H0V0z\" fill=\"none\"/>\n",
              "    <path d=\"M18.56 5.44l.94 2.06.94-2.06 2.06-.94-2.06-.94-.94-2.06-.94 2.06-2.06.94zm-11 1L8.5 8.5l.94-2.06 2.06-.94-2.06-.94L8.5 2.5l-.94 2.06-2.06.94zm10 10l.94 2.06.94-2.06 2.06-.94-2.06-.94-.94-2.06-.94 2.06-2.06.94z\"/><path d=\"M17.41 7.96l-1.37-1.37c-.4-.4-.92-.59-1.43-.59-.52 0-1.04.2-1.43.59L10.3 9.45l-7.72 7.72c-.78.78-.78 2.05 0 2.83L4 21.41c.39.39.9.59 1.41.59.51 0 1.02-.2 1.41-.59l7.78-7.78 2.81-2.81c.8-.78.8-2.07 0-2.86zM5.41 20L4 18.59l7.72-7.72 1.47 1.35L5.41 20z\"/>\n",
              "  </svg>\n",
              "      </button>\n",
              "      \n",
              "  <style>\n",
              "    .colab-df-container {\n",
              "      display:flex;\n",
              "      flex-wrap:wrap;\n",
              "      gap: 12px;\n",
              "    }\n",
              "\n",
              "    .colab-df-convert {\n",
              "      background-color: #E8F0FE;\n",
              "      border: none;\n",
              "      border-radius: 50%;\n",
              "      cursor: pointer;\n",
              "      display: none;\n",
              "      fill: #1967D2;\n",
              "      height: 32px;\n",
              "      padding: 0 0 0 0;\n",
              "      width: 32px;\n",
              "    }\n",
              "\n",
              "    .colab-df-convert:hover {\n",
              "      background-color: #E2EBFA;\n",
              "      box-shadow: 0px 1px 2px rgba(60, 64, 67, 0.3), 0px 1px 3px 1px rgba(60, 64, 67, 0.15);\n",
              "      fill: #174EA6;\n",
              "    }\n",
              "\n",
              "    [theme=dark] .colab-df-convert {\n",
              "      background-color: #3B4455;\n",
              "      fill: #D2E3FC;\n",
              "    }\n",
              "\n",
              "    [theme=dark] .colab-df-convert:hover {\n",
              "      background-color: #434B5C;\n",
              "      box-shadow: 0px 1px 3px 1px rgba(0, 0, 0, 0.15);\n",
              "      filter: drop-shadow(0px 1px 2px rgba(0, 0, 0, 0.3));\n",
              "      fill: #FFFFFF;\n",
              "    }\n",
              "  </style>\n",
              "\n",
              "      <script>\n",
              "        const buttonEl =\n",
              "          document.querySelector('#df-05afb225-766f-4e0d-a7ad-80793bb8a26f button.colab-df-convert');\n",
              "        buttonEl.style.display =\n",
              "          google.colab.kernel.accessAllowed ? 'block' : 'none';\n",
              "\n",
              "        async function convertToInteractive(key) {\n",
              "          const element = document.querySelector('#df-05afb225-766f-4e0d-a7ad-80793bb8a26f');\n",
              "          const dataTable =\n",
              "            await google.colab.kernel.invokeFunction('convertToInteractive',\n",
              "                                                     [key], {});\n",
              "          if (!dataTable) return;\n",
              "\n",
              "          const docLinkHtml = 'Like what you see? Visit the ' +\n",
              "            '<a target=\"_blank\" href=https://colab.research.google.com/notebooks/data_table.ipynb>data table notebook</a>'\n",
              "            + ' to learn more about interactive tables.';\n",
              "          element.innerHTML = '';\n",
              "          dataTable['output_type'] = 'display_data';\n",
              "          await google.colab.output.renderOutput(dataTable, element);\n",
              "          const docLink = document.createElement('div');\n",
              "          docLink.innerHTML = docLinkHtml;\n",
              "          element.appendChild(docLink);\n",
              "        }\n",
              "      </script>\n",
              "    </div>\n",
              "  </div>\n",
              "  "
            ]
          },
          "metadata": {},
          "execution_count": 13
        }
      ]
    },
    {
      "cell_type": "markdown",
      "source": [
        "- В среднем выучка по месяцам в возрастном диапазоне от 18 до 25 лет."
      ],
      "metadata": {
        "id": "Fs3F9YgnTz3S"
      }
    },
    {
      "cell_type": "code",
      "source": [
        "sql = '''SELECT strftime('%m', date) as Month,\n",
        "  AVG(price)\n",
        "FROM purchases\n",
        "LEFT JOIN users \n",
        "  on purchases.user_id = users.user_id\n",
        "LEFT JOIN items \n",
        "  on purchases.item_id = items.item_id\n",
        "WHERE age BETWEEN 26 AND 35\n",
        "GROUP BY 1'''"
      ],
      "metadata": {
        "id": "1kyYYZKsS8Np"
      },
      "execution_count": null,
      "outputs": []
    },
    {
      "cell_type": "code",
      "source": [
        "select(sql)"
      ],
      "metadata": {
        "colab": {
          "base_uri": "https://localhost:8080/",
          "height": 49
        },
        "id": "IjIXaQOvTC6Y",
        "outputId": "8d223920-af26-4505-ae0c-3567aac8884f"
      },
      "execution_count": null,
      "outputs": [
        {
          "output_type": "execute_result",
          "data": {
            "text/plain": [
              "Empty DataFrame\n",
              "Columns: [Month, AVG(price)]\n",
              "Index: []"
            ],
            "text/html": [
              "\n",
              "  <div id=\"df-8a452b25-6805-4eb5-926e-51bdeae35cc3\">\n",
              "    <div class=\"colab-df-container\">\n",
              "      <div>\n",
              "<style scoped>\n",
              "    .dataframe tbody tr th:only-of-type {\n",
              "        vertical-align: middle;\n",
              "    }\n",
              "\n",
              "    .dataframe tbody tr th {\n",
              "        vertical-align: top;\n",
              "    }\n",
              "\n",
              "    .dataframe thead th {\n",
              "        text-align: right;\n",
              "    }\n",
              "</style>\n",
              "<table border=\"1\" class=\"dataframe\">\n",
              "  <thead>\n",
              "    <tr style=\"text-align: right;\">\n",
              "      <th></th>\n",
              "      <th>Month</th>\n",
              "      <th>AVG(price)</th>\n",
              "    </tr>\n",
              "  </thead>\n",
              "  <tbody>\n",
              "  </tbody>\n",
              "</table>\n",
              "</div>\n",
              "      <button class=\"colab-df-convert\" onclick=\"convertToInteractive('df-8a452b25-6805-4eb5-926e-51bdeae35cc3')\"\n",
              "              title=\"Convert this dataframe to an interactive table.\"\n",
              "              style=\"display:none;\">\n",
              "        \n",
              "  <svg xmlns=\"http://www.w3.org/2000/svg\" height=\"24px\"viewBox=\"0 0 24 24\"\n",
              "       width=\"24px\">\n",
              "    <path d=\"M0 0h24v24H0V0z\" fill=\"none\"/>\n",
              "    <path d=\"M18.56 5.44l.94 2.06.94-2.06 2.06-.94-2.06-.94-.94-2.06-.94 2.06-2.06.94zm-11 1L8.5 8.5l.94-2.06 2.06-.94-2.06-.94L8.5 2.5l-.94 2.06-2.06.94zm10 10l.94 2.06.94-2.06 2.06-.94-2.06-.94-.94-2.06-.94 2.06-2.06.94z\"/><path d=\"M17.41 7.96l-1.37-1.37c-.4-.4-.92-.59-1.43-.59-.52 0-1.04.2-1.43.59L10.3 9.45l-7.72 7.72c-.78.78-.78 2.05 0 2.83L4 21.41c.39.39.9.59 1.41.59.51 0 1.02-.2 1.41-.59l7.78-7.78 2.81-2.81c.8-.78.8-2.07 0-2.86zM5.41 20L4 18.59l7.72-7.72 1.47 1.35L5.41 20z\"/>\n",
              "  </svg>\n",
              "      </button>\n",
              "      \n",
              "  <style>\n",
              "    .colab-df-container {\n",
              "      display:flex;\n",
              "      flex-wrap:wrap;\n",
              "      gap: 12px;\n",
              "    }\n",
              "\n",
              "    .colab-df-convert {\n",
              "      background-color: #E8F0FE;\n",
              "      border: none;\n",
              "      border-radius: 50%;\n",
              "      cursor: pointer;\n",
              "      display: none;\n",
              "      fill: #1967D2;\n",
              "      height: 32px;\n",
              "      padding: 0 0 0 0;\n",
              "      width: 32px;\n",
              "    }\n",
              "\n",
              "    .colab-df-convert:hover {\n",
              "      background-color: #E2EBFA;\n",
              "      box-shadow: 0px 1px 2px rgba(60, 64, 67, 0.3), 0px 1px 3px 1px rgba(60, 64, 67, 0.15);\n",
              "      fill: #174EA6;\n",
              "    }\n",
              "\n",
              "    [theme=dark] .colab-df-convert {\n",
              "      background-color: #3B4455;\n",
              "      fill: #D2E3FC;\n",
              "    }\n",
              "\n",
              "    [theme=dark] .colab-df-convert:hover {\n",
              "      background-color: #434B5C;\n",
              "      box-shadow: 0px 1px 3px 1px rgba(0, 0, 0, 0.15);\n",
              "      filter: drop-shadow(0px 1px 2px rgba(0, 0, 0, 0.3));\n",
              "      fill: #FFFFFF;\n",
              "    }\n",
              "  </style>\n",
              "\n",
              "      <script>\n",
              "        const buttonEl =\n",
              "          document.querySelector('#df-8a452b25-6805-4eb5-926e-51bdeae35cc3 button.colab-df-convert');\n",
              "        buttonEl.style.display =\n",
              "          google.colab.kernel.accessAllowed ? 'block' : 'none';\n",
              "\n",
              "        async function convertToInteractive(key) {\n",
              "          const element = document.querySelector('#df-8a452b25-6805-4eb5-926e-51bdeae35cc3');\n",
              "          const dataTable =\n",
              "            await google.colab.kernel.invokeFunction('convertToInteractive',\n",
              "                                                     [key], {});\n",
              "          if (!dataTable) return;\n",
              "\n",
              "          const docLinkHtml = 'Like what you see? Visit the ' +\n",
              "            '<a target=\"_blank\" href=https://colab.research.google.com/notebooks/data_table.ipynb>data table notebook</a>'\n",
              "            + ' to learn more about interactive tables.';\n",
              "          element.innerHTML = '';\n",
              "          dataTable['output_type'] = 'display_data';\n",
              "          await google.colab.output.renderOutput(dataTable, element);\n",
              "          const docLink = document.createElement('div');\n",
              "          docLink.innerHTML = docLinkHtml;\n",
              "          element.appendChild(docLink);\n",
              "        }\n",
              "      </script>\n",
              "    </div>\n",
              "  </div>\n",
              "  "
            ]
          },
          "metadata": {},
          "execution_count": 15
        }
      ]
    },
    {
      "cell_type": "markdown",
      "source": [
        "- У нас нет пользователей в диапазоне 26 - 35 лет"
      ],
      "metadata": {
        "id": "R9oO5cULTFdy"
      }
    },
    {
      "cell_type": "markdown",
      "source": [
        "# Задание Б\n",
        "\n",
        "В каком месяце года выручка от пользователей в возрастном диапазоне 35+ самая большая?"
      ],
      "metadata": {
        "id": "H70eH4CFTOkJ"
      }
    },
    {
      "cell_type": "code",
      "source": [
        "sql = '''\n",
        "WITH get_month_sum\n",
        "AS (\n",
        "  SELECT strftime('%m', date) as Month,\n",
        "      SUM(price) AS sum_price\n",
        "  FROM purchases\n",
        "  LEFT JOIN users \n",
        "      on purchases.user_id = users.user_id\n",
        "  LEFT JOIN items \n",
        "      on purchases.item_id = items.item_id\n",
        "  WHERE age >= 35\n",
        "  GROUP BY 1\n",
        "),\n",
        "get_max\n",
        "AS (\n",
        "  SELECT Month,\n",
        "      MAX(sum_price)\n",
        "  FROM get_month_sum\n",
        ")\n",
        "SELECT Month\n",
        "FROM get_max\n",
        "'''"
      ],
      "metadata": {
        "id": "YvOYYcjgTDxb"
      },
      "execution_count": null,
      "outputs": []
    },
    {
      "cell_type": "code",
      "source": [
        "select(sql)"
      ],
      "metadata": {
        "colab": {
          "base_uri": "https://localhost:8080/",
          "height": 81
        },
        "id": "rZi-vNeyTgiu",
        "outputId": "1c5e2143-4897-45df-87b2-f53934a88096"
      },
      "execution_count": null,
      "outputs": [
        {
          "output_type": "execute_result",
          "data": {
            "text/plain": [
              "  Month\n",
              "0    12"
            ],
            "text/html": [
              "\n",
              "  <div id=\"df-2301fe5b-2c05-4793-95c2-d9151a3f330d\">\n",
              "    <div class=\"colab-df-container\">\n",
              "      <div>\n",
              "<style scoped>\n",
              "    .dataframe tbody tr th:only-of-type {\n",
              "        vertical-align: middle;\n",
              "    }\n",
              "\n",
              "    .dataframe tbody tr th {\n",
              "        vertical-align: top;\n",
              "    }\n",
              "\n",
              "    .dataframe thead th {\n",
              "        text-align: right;\n",
              "    }\n",
              "</style>\n",
              "<table border=\"1\" class=\"dataframe\">\n",
              "  <thead>\n",
              "    <tr style=\"text-align: right;\">\n",
              "      <th></th>\n",
              "      <th>Month</th>\n",
              "    </tr>\n",
              "  </thead>\n",
              "  <tbody>\n",
              "    <tr>\n",
              "      <th>0</th>\n",
              "      <td>12</td>\n",
              "    </tr>\n",
              "  </tbody>\n",
              "</table>\n",
              "</div>\n",
              "      <button class=\"colab-df-convert\" onclick=\"convertToInteractive('df-2301fe5b-2c05-4793-95c2-d9151a3f330d')\"\n",
              "              title=\"Convert this dataframe to an interactive table.\"\n",
              "              style=\"display:none;\">\n",
              "        \n",
              "  <svg xmlns=\"http://www.w3.org/2000/svg\" height=\"24px\"viewBox=\"0 0 24 24\"\n",
              "       width=\"24px\">\n",
              "    <path d=\"M0 0h24v24H0V0z\" fill=\"none\"/>\n",
              "    <path d=\"M18.56 5.44l.94 2.06.94-2.06 2.06-.94-2.06-.94-.94-2.06-.94 2.06-2.06.94zm-11 1L8.5 8.5l.94-2.06 2.06-.94-2.06-.94L8.5 2.5l-.94 2.06-2.06.94zm10 10l.94 2.06.94-2.06 2.06-.94-2.06-.94-.94-2.06-.94 2.06-2.06.94z\"/><path d=\"M17.41 7.96l-1.37-1.37c-.4-.4-.92-.59-1.43-.59-.52 0-1.04.2-1.43.59L10.3 9.45l-7.72 7.72c-.78.78-.78 2.05 0 2.83L4 21.41c.39.39.9.59 1.41.59.51 0 1.02-.2 1.41-.59l7.78-7.78 2.81-2.81c.8-.78.8-2.07 0-2.86zM5.41 20L4 18.59l7.72-7.72 1.47 1.35L5.41 20z\"/>\n",
              "  </svg>\n",
              "      </button>\n",
              "      \n",
              "  <style>\n",
              "    .colab-df-container {\n",
              "      display:flex;\n",
              "      flex-wrap:wrap;\n",
              "      gap: 12px;\n",
              "    }\n",
              "\n",
              "    .colab-df-convert {\n",
              "      background-color: #E8F0FE;\n",
              "      border: none;\n",
              "      border-radius: 50%;\n",
              "      cursor: pointer;\n",
              "      display: none;\n",
              "      fill: #1967D2;\n",
              "      height: 32px;\n",
              "      padding: 0 0 0 0;\n",
              "      width: 32px;\n",
              "    }\n",
              "\n",
              "    .colab-df-convert:hover {\n",
              "      background-color: #E2EBFA;\n",
              "      box-shadow: 0px 1px 2px rgba(60, 64, 67, 0.3), 0px 1px 3px 1px rgba(60, 64, 67, 0.15);\n",
              "      fill: #174EA6;\n",
              "    }\n",
              "\n",
              "    [theme=dark] .colab-df-convert {\n",
              "      background-color: #3B4455;\n",
              "      fill: #D2E3FC;\n",
              "    }\n",
              "\n",
              "    [theme=dark] .colab-df-convert:hover {\n",
              "      background-color: #434B5C;\n",
              "      box-shadow: 0px 1px 3px 1px rgba(0, 0, 0, 0.15);\n",
              "      filter: drop-shadow(0px 1px 2px rgba(0, 0, 0, 0.3));\n",
              "      fill: #FFFFFF;\n",
              "    }\n",
              "  </style>\n",
              "\n",
              "      <script>\n",
              "        const buttonEl =\n",
              "          document.querySelector('#df-2301fe5b-2c05-4793-95c2-d9151a3f330d button.colab-df-convert');\n",
              "        buttonEl.style.display =\n",
              "          google.colab.kernel.accessAllowed ? 'block' : 'none';\n",
              "\n",
              "        async function convertToInteractive(key) {\n",
              "          const element = document.querySelector('#df-2301fe5b-2c05-4793-95c2-d9151a3f330d');\n",
              "          const dataTable =\n",
              "            await google.colab.kernel.invokeFunction('convertToInteractive',\n",
              "                                                     [key], {});\n",
              "          if (!dataTable) return;\n",
              "\n",
              "          const docLinkHtml = 'Like what you see? Visit the ' +\n",
              "            '<a target=\"_blank\" href=https://colab.research.google.com/notebooks/data_table.ipynb>data table notebook</a>'\n",
              "            + ' to learn more about interactive tables.';\n",
              "          element.innerHTML = '';\n",
              "          dataTable['output_type'] = 'display_data';\n",
              "          await google.colab.output.renderOutput(dataTable, element);\n",
              "          const docLink = document.createElement('div');\n",
              "          docLink.innerHTML = docLinkHtml;\n",
              "          element.appendChild(docLink);\n",
              "        }\n",
              "      </script>\n",
              "    </div>\n",
              "  </div>\n",
              "  "
            ]
          },
          "metadata": {},
          "execution_count": 17
        }
      ]
    },
    {
      "cell_type": "markdown",
      "source": [
        "- В декабре вырука самая большая от пользователей в возрастном диапазоне 35+ "
      ],
      "metadata": {
        "id": "HYedjjGVTkLQ"
      }
    },
    {
      "cell_type": "markdown",
      "source": [
        "# Задание В\n",
        "\n",
        "Какой товар обеспечивает дает наибольший вклад в выручку за последний год?"
      ],
      "metadata": {
        "id": "g6_UC8CwT9Nh"
      }
    },
    {
      "cell_type": "code",
      "source": [
        "sql = '''\n",
        "WITH get_sum_year_item\n",
        "AS(\n",
        "  SELECT strftime('%Y', date) as Year,\n",
        "      items.item_id AS item,\n",
        "      SUM(price) AS sum_price\n",
        "  FROM purchases\n",
        "  LEFT JOIN items \n",
        "      on purchases.item_id = items.item_id\n",
        "  GROUP BY 1,2\n",
        "),\n",
        "get_last_year\n",
        "AS(\n",
        "  SELECT MAX(year) AS last_year\n",
        "  FROM get_sum_year_item\n",
        "),\n",
        "get_item\n",
        "AS(\n",
        "  SELECT item, MAX(sum_price)\n",
        "  FROM get_sum_year_item\n",
        "  WHERE year = (SELECT last_year FROM get_last_year)\n",
        ")\n",
        "SELECT item FROM get_item\n",
        "'''"
      ],
      "metadata": {
        "id": "iQdz0jjOThoj"
      },
      "execution_count": null,
      "outputs": []
    },
    {
      "cell_type": "code",
      "source": [
        "select(sql)"
      ],
      "metadata": {
        "colab": {
          "base_uri": "https://localhost:8080/",
          "height": 81
        },
        "id": "ie4Y3lw2ULxa",
        "outputId": "2e7211c5-4078-49d7-b7ae-66fb02ce54be"
      },
      "execution_count": null,
      "outputs": [
        {
          "output_type": "execute_result",
          "data": {
            "text/plain": [
              "   item\n",
              "0     2"
            ],
            "text/html": [
              "\n",
              "  <div id=\"df-fca08f26-3a71-4751-9cef-d87b5e6464b8\">\n",
              "    <div class=\"colab-df-container\">\n",
              "      <div>\n",
              "<style scoped>\n",
              "    .dataframe tbody tr th:only-of-type {\n",
              "        vertical-align: middle;\n",
              "    }\n",
              "\n",
              "    .dataframe tbody tr th {\n",
              "        vertical-align: top;\n",
              "    }\n",
              "\n",
              "    .dataframe thead th {\n",
              "        text-align: right;\n",
              "    }\n",
              "</style>\n",
              "<table border=\"1\" class=\"dataframe\">\n",
              "  <thead>\n",
              "    <tr style=\"text-align: right;\">\n",
              "      <th></th>\n",
              "      <th>item</th>\n",
              "    </tr>\n",
              "  </thead>\n",
              "  <tbody>\n",
              "    <tr>\n",
              "      <th>0</th>\n",
              "      <td>2</td>\n",
              "    </tr>\n",
              "  </tbody>\n",
              "</table>\n",
              "</div>\n",
              "      <button class=\"colab-df-convert\" onclick=\"convertToInteractive('df-fca08f26-3a71-4751-9cef-d87b5e6464b8')\"\n",
              "              title=\"Convert this dataframe to an interactive table.\"\n",
              "              style=\"display:none;\">\n",
              "        \n",
              "  <svg xmlns=\"http://www.w3.org/2000/svg\" height=\"24px\"viewBox=\"0 0 24 24\"\n",
              "       width=\"24px\">\n",
              "    <path d=\"M0 0h24v24H0V0z\" fill=\"none\"/>\n",
              "    <path d=\"M18.56 5.44l.94 2.06.94-2.06 2.06-.94-2.06-.94-.94-2.06-.94 2.06-2.06.94zm-11 1L8.5 8.5l.94-2.06 2.06-.94-2.06-.94L8.5 2.5l-.94 2.06-2.06.94zm10 10l.94 2.06.94-2.06 2.06-.94-2.06-.94-.94-2.06-.94 2.06-2.06.94z\"/><path d=\"M17.41 7.96l-1.37-1.37c-.4-.4-.92-.59-1.43-.59-.52 0-1.04.2-1.43.59L10.3 9.45l-7.72 7.72c-.78.78-.78 2.05 0 2.83L4 21.41c.39.39.9.59 1.41.59.51 0 1.02-.2 1.41-.59l7.78-7.78 2.81-2.81c.8-.78.8-2.07 0-2.86zM5.41 20L4 18.59l7.72-7.72 1.47 1.35L5.41 20z\"/>\n",
              "  </svg>\n",
              "      </button>\n",
              "      \n",
              "  <style>\n",
              "    .colab-df-container {\n",
              "      display:flex;\n",
              "      flex-wrap:wrap;\n",
              "      gap: 12px;\n",
              "    }\n",
              "\n",
              "    .colab-df-convert {\n",
              "      background-color: #E8F0FE;\n",
              "      border: none;\n",
              "      border-radius: 50%;\n",
              "      cursor: pointer;\n",
              "      display: none;\n",
              "      fill: #1967D2;\n",
              "      height: 32px;\n",
              "      padding: 0 0 0 0;\n",
              "      width: 32px;\n",
              "    }\n",
              "\n",
              "    .colab-df-convert:hover {\n",
              "      background-color: #E2EBFA;\n",
              "      box-shadow: 0px 1px 2px rgba(60, 64, 67, 0.3), 0px 1px 3px 1px rgba(60, 64, 67, 0.15);\n",
              "      fill: #174EA6;\n",
              "    }\n",
              "\n",
              "    [theme=dark] .colab-df-convert {\n",
              "      background-color: #3B4455;\n",
              "      fill: #D2E3FC;\n",
              "    }\n",
              "\n",
              "    [theme=dark] .colab-df-convert:hover {\n",
              "      background-color: #434B5C;\n",
              "      box-shadow: 0px 1px 3px 1px rgba(0, 0, 0, 0.15);\n",
              "      filter: drop-shadow(0px 1px 2px rgba(0, 0, 0, 0.3));\n",
              "      fill: #FFFFFF;\n",
              "    }\n",
              "  </style>\n",
              "\n",
              "      <script>\n",
              "        const buttonEl =\n",
              "          document.querySelector('#df-fca08f26-3a71-4751-9cef-d87b5e6464b8 button.colab-df-convert');\n",
              "        buttonEl.style.display =\n",
              "          google.colab.kernel.accessAllowed ? 'block' : 'none';\n",
              "\n",
              "        async function convertToInteractive(key) {\n",
              "          const element = document.querySelector('#df-fca08f26-3a71-4751-9cef-d87b5e6464b8');\n",
              "          const dataTable =\n",
              "            await google.colab.kernel.invokeFunction('convertToInteractive',\n",
              "                                                     [key], {});\n",
              "          if (!dataTable) return;\n",
              "\n",
              "          const docLinkHtml = 'Like what you see? Visit the ' +\n",
              "            '<a target=\"_blank\" href=https://colab.research.google.com/notebooks/data_table.ipynb>data table notebook</a>'\n",
              "            + ' to learn more about interactive tables.';\n",
              "          element.innerHTML = '';\n",
              "          dataTable['output_type'] = 'display_data';\n",
              "          await google.colab.output.renderOutput(dataTable, element);\n",
              "          const docLink = document.createElement('div');\n",
              "          docLink.innerHTML = docLinkHtml;\n",
              "          element.appendChild(docLink);\n",
              "        }\n",
              "      </script>\n",
              "    </div>\n",
              "  </div>\n",
              "  "
            ]
          },
          "metadata": {},
          "execution_count": 19
        }
      ]
    },
    {
      "cell_type": "markdown",
      "source": [
        "- Наибольший вклад в выручку за последний год товар с item_id = 2"
      ],
      "metadata": {
        "id": "2OoXdhdUUN_5"
      }
    },
    {
      "cell_type": "markdown",
      "source": [
        "# Задание Г\n",
        "\n",
        "Топ-3 товаров по выручке и их доля в общей выручке за любой год."
      ],
      "metadata": {
        "id": "qSiPg9MZUcDA"
      }
    },
    {
      "cell_type": "code",
      "source": [
        "sql = '''\n",
        "WITH get_sum_item\n",
        "AS(\n",
        "  SELECT items.item_id AS item,\n",
        "      SUM(price) AS sum_price\n",
        "  FROM purchases\n",
        "  LEFT JOIN items \n",
        "      on purchases.item_id = items.item_id\n",
        "  GROUP BY 1\n",
        "),\n",
        "get_rank_item\n",
        "AS(\n",
        "  SELECT item,\n",
        "      sum_price,\n",
        "      RANK() OVER win AS rank_price\n",
        "  FROM get_sum_item\n",
        "  WINDOW win\n",
        "  AS(\n",
        "    ORDER BY sum_price DESC\n",
        "    )\n",
        "),\n",
        "get_total\n",
        "AS(\n",
        "  SELECT SUM(sum_price) AS total\n",
        "  FROM get_sum_item\n",
        ")\n",
        "SELECT item,\n",
        "\tROUND(sum_price / (SELECT total FROM get_total) * 100,2) AS pct_of_total\n",
        "FROM get_rank_item\n",
        "WHERE rank_price <= 3\n",
        "ORDER BY sum_price DESC\n",
        "'''"
      ],
      "metadata": {
        "id": "3q80CZOmUMvG"
      },
      "execution_count": null,
      "outputs": []
    },
    {
      "cell_type": "code",
      "source": [
        "select(sql)"
      ],
      "metadata": {
        "colab": {
          "base_uri": "https://localhost:8080/",
          "height": 143
        },
        "id": "fz3-kbsaUqSw",
        "outputId": "40c52ab6-e6f6-47a4-d17d-57b4c775e607"
      },
      "execution_count": null,
      "outputs": [
        {
          "output_type": "execute_result",
          "data": {
            "text/plain": [
              "   item  pct_of_total\n",
              "0     3         35.94\n",
              "1     2         28.78\n",
              "2     1         18.00"
            ],
            "text/html": [
              "\n",
              "  <div id=\"df-2a4a89b5-1413-4327-9f8f-f0e8535cb250\">\n",
              "    <div class=\"colab-df-container\">\n",
              "      <div>\n",
              "<style scoped>\n",
              "    .dataframe tbody tr th:only-of-type {\n",
              "        vertical-align: middle;\n",
              "    }\n",
              "\n",
              "    .dataframe tbody tr th {\n",
              "        vertical-align: top;\n",
              "    }\n",
              "\n",
              "    .dataframe thead th {\n",
              "        text-align: right;\n",
              "    }\n",
              "</style>\n",
              "<table border=\"1\" class=\"dataframe\">\n",
              "  <thead>\n",
              "    <tr style=\"text-align: right;\">\n",
              "      <th></th>\n",
              "      <th>item</th>\n",
              "      <th>pct_of_total</th>\n",
              "    </tr>\n",
              "  </thead>\n",
              "  <tbody>\n",
              "    <tr>\n",
              "      <th>0</th>\n",
              "      <td>3</td>\n",
              "      <td>35.94</td>\n",
              "    </tr>\n",
              "    <tr>\n",
              "      <th>1</th>\n",
              "      <td>2</td>\n",
              "      <td>28.78</td>\n",
              "    </tr>\n",
              "    <tr>\n",
              "      <th>2</th>\n",
              "      <td>1</td>\n",
              "      <td>18.00</td>\n",
              "    </tr>\n",
              "  </tbody>\n",
              "</table>\n",
              "</div>\n",
              "      <button class=\"colab-df-convert\" onclick=\"convertToInteractive('df-2a4a89b5-1413-4327-9f8f-f0e8535cb250')\"\n",
              "              title=\"Convert this dataframe to an interactive table.\"\n",
              "              style=\"display:none;\">\n",
              "        \n",
              "  <svg xmlns=\"http://www.w3.org/2000/svg\" height=\"24px\"viewBox=\"0 0 24 24\"\n",
              "       width=\"24px\">\n",
              "    <path d=\"M0 0h24v24H0V0z\" fill=\"none\"/>\n",
              "    <path d=\"M18.56 5.44l.94 2.06.94-2.06 2.06-.94-2.06-.94-.94-2.06-.94 2.06-2.06.94zm-11 1L8.5 8.5l.94-2.06 2.06-.94-2.06-.94L8.5 2.5l-.94 2.06-2.06.94zm10 10l.94 2.06.94-2.06 2.06-.94-2.06-.94-.94-2.06-.94 2.06-2.06.94z\"/><path d=\"M17.41 7.96l-1.37-1.37c-.4-.4-.92-.59-1.43-.59-.52 0-1.04.2-1.43.59L10.3 9.45l-7.72 7.72c-.78.78-.78 2.05 0 2.83L4 21.41c.39.39.9.59 1.41.59.51 0 1.02-.2 1.41-.59l7.78-7.78 2.81-2.81c.8-.78.8-2.07 0-2.86zM5.41 20L4 18.59l7.72-7.72 1.47 1.35L5.41 20z\"/>\n",
              "  </svg>\n",
              "      </button>\n",
              "      \n",
              "  <style>\n",
              "    .colab-df-container {\n",
              "      display:flex;\n",
              "      flex-wrap:wrap;\n",
              "      gap: 12px;\n",
              "    }\n",
              "\n",
              "    .colab-df-convert {\n",
              "      background-color: #E8F0FE;\n",
              "      border: none;\n",
              "      border-radius: 50%;\n",
              "      cursor: pointer;\n",
              "      display: none;\n",
              "      fill: #1967D2;\n",
              "      height: 32px;\n",
              "      padding: 0 0 0 0;\n",
              "      width: 32px;\n",
              "    }\n",
              "\n",
              "    .colab-df-convert:hover {\n",
              "      background-color: #E2EBFA;\n",
              "      box-shadow: 0px 1px 2px rgba(60, 64, 67, 0.3), 0px 1px 3px 1px rgba(60, 64, 67, 0.15);\n",
              "      fill: #174EA6;\n",
              "    }\n",
              "\n",
              "    [theme=dark] .colab-df-convert {\n",
              "      background-color: #3B4455;\n",
              "      fill: #D2E3FC;\n",
              "    }\n",
              "\n",
              "    [theme=dark] .colab-df-convert:hover {\n",
              "      background-color: #434B5C;\n",
              "      box-shadow: 0px 1px 3px 1px rgba(0, 0, 0, 0.15);\n",
              "      filter: drop-shadow(0px 1px 2px rgba(0, 0, 0, 0.3));\n",
              "      fill: #FFFFFF;\n",
              "    }\n",
              "  </style>\n",
              "\n",
              "      <script>\n",
              "        const buttonEl =\n",
              "          document.querySelector('#df-2a4a89b5-1413-4327-9f8f-f0e8535cb250 button.colab-df-convert');\n",
              "        buttonEl.style.display =\n",
              "          google.colab.kernel.accessAllowed ? 'block' : 'none';\n",
              "\n",
              "        async function convertToInteractive(key) {\n",
              "          const element = document.querySelector('#df-2a4a89b5-1413-4327-9f8f-f0e8535cb250');\n",
              "          const dataTable =\n",
              "            await google.colab.kernel.invokeFunction('convertToInteractive',\n",
              "                                                     [key], {});\n",
              "          if (!dataTable) return;\n",
              "\n",
              "          const docLinkHtml = 'Like what you see? Visit the ' +\n",
              "            '<a target=\"_blank\" href=https://colab.research.google.com/notebooks/data_table.ipynb>data table notebook</a>'\n",
              "            + ' to learn more about interactive tables.';\n",
              "          element.innerHTML = '';\n",
              "          dataTable['output_type'] = 'display_data';\n",
              "          await google.colab.output.renderOutput(dataTable, element);\n",
              "          const docLink = document.createElement('div');\n",
              "          docLink.innerHTML = docLinkHtml;\n",
              "          element.appendChild(docLink);\n",
              "        }\n",
              "      </script>\n",
              "    </div>\n",
              "  </div>\n",
              "  "
            ]
          },
          "metadata": {},
          "execution_count": 21
        }
      ]
    },
    {
      "cell_type": "markdown",
      "source": [
        "- Топ 3 товара с наибольшей выручкой и процентом от общей выручки"
      ],
      "metadata": {
        "id": "Z8tQ1LuJUuyZ"
      }
    }
  ]
}
