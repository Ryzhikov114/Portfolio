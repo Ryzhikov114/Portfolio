{
  "nbformat": 4,
  "nbformat_minor": 0,
  "metadata": {
    "colab": {
      "provenance": [],
      "toc_visible": true
    },
    "kernelspec": {
      "name": "python3",
      "display_name": "Python 3"
    },
    "language_info": {
      "name": "python"
    }
  },
  "cells": [
    {
      "cell_type": "markdown",
      "source": [
        "# Здравствуйте! \n",
        "\n",
        "Выполненное тестовое для \"ООО Афанекс Консалтинг\"\n",
        "\n",
        "https://hh.ru/resume/dced1190ff0b0ade1b0039ed1f4d756c793547\n",
        "\n",
        "Тестовое выполнено на языке SQLite3 ver > 3.30\n",
        "\n",
        "Так же владею PostgreSQL, MYSQL, MSSQL(знакомлюсь)\n"
      ],
      "metadata": {
        "id": "jxqeOV69RgBm"
      }
    },
    {
      "cell_type": "markdown",
      "source": [
        "# 1.\n",
        "Напишите SQL запрос, который выведет номера заказов с суммой не менее 500 рублей по\n",
        "тем клиентам, которые совершили более одного заказа.\n",
        "\n",
        "Таблица orders (заказы)\n",
        "- order_id Уникальный идентификатор заказа\n",
        "- user_id идентификатор клиента\n",
        "- date дата и время создания заказа\n",
        "- paid_amount сумма заказа"
      ],
      "metadata": {
        "id": "EoDTV_B5CCCI"
      }
    },
    {
      "cell_type": "code",
      "source": [
        "\"\"\"\n",
        "WITH user_id_qnt AS\n",
        "(\n",
        "  SELECT user_id,\n",
        "    COUNT(order_id)\n",
        "  FROM orders\n",
        "  GROUP BY 1\n",
        "  HAVING COUNT(order_id) > 1\n",
        ")\n",
        "SELECT order_id\n",
        "FROM orders\n",
        "JOIN user_id_qnt\n",
        "  ON orders.user_id = user_id_qnt.user_id\n",
        "WHERE paid_amount > 500\n",
        "\"\"\""
      ],
      "metadata": {
        "id": "xBbNVuggB5dI"
      },
      "execution_count": null,
      "outputs": []
    },
    {
      "cell_type": "markdown",
      "source": [
        "# 2.\n",
        "Напишите SQL запрос, который будет выводить идентификатор товара и общую сумму\n",
        "продаж данного товара за ноябрь 2022 года по тем товарам, сумма продаж которых\n",
        "составила более 10 000 рублей.\n",
        "\n",
        "Table order_line (состав заказа)\n",
        "- order_id идентификатор заказа\n",
        "- date дата и время создания заказа\n",
        "-product_id идентификатор товара\n",
        "- price цена товара\n",
        "- quantity количество единиц проданных\n",
        "товаров"
      ],
      "metadata": {
        "id": "E68nrrQGD9Fm"
      }
    },
    {
      "cell_type": "code",
      "source": [
        "\"\"\"\n",
        "WITH price_sum AS\n",
        "(\n",
        "  SELECT product_id,\n",
        "    SUM(price * quantity) AS sum_product\n",
        "  FROM order_line\n",
        "  GROUP BY 1\n",
        "  HAVING SUM(price * quantity) > 10000\n",
        ")\n",
        "SELECT product_id,\n",
        "  SUM(price * quantity) AS sum_pr\n",
        "FROM order_line\n",
        "JOIN price_sum\n",
        "  ON order_line.product_id = price_sum.price_sum\n",
        "WHERE datetime(date, \"MONTH\") = 11\n",
        "GROUP BY 1\n",
        "\"\"\""
      ],
      "metadata": {
        "id": "MjY4WInxEC1k"
      },
      "execution_count": null,
      "outputs": []
    },
    {
      "cell_type": "markdown",
      "source": [
        "# 3.\n",
        "Напишите SQL запрос, который выведет список наименований товаров и полных адресов\n",
        "складов данных товаров.\n",
        "В результирующий набор НЕ должны попадать склады без товаров и товары тех складов,\n",
        "которых нет в справочнике складов.\n",
        "\n",
        "Таблица warehouses (справочник складов) \n",
        "- warehouse_id идентификатор склада\n",
        "- city Город склада\n",
        "- street_name Название улицы склада\n",
        "- House_number Номер дома склада\n",
        "\n",
        "Таблица product (справочник товаров)\n",
        "- product_id идентификатор товара\n",
        "- name наименование товара\n",
        "- warehouse_id идентификатор склада\n",
        "- weight вес товара\n",
        "- shelf_life срок годности товара в днях\n"
      ],
      "metadata": {
        "id": "kKSaXaPYLw28"
      }
    },
    {
      "cell_type": "code",
      "source": [
        "\"\"\"\n",
        "SELECT name,\n",
        "  CONCAT(city, \", \", street_name, \", \", House_number) AS adress\n",
        "FROM warehouses\n",
        "JOIN product\n",
        "  ON warehouses.warehouse_id = product.warehouse_id\n",
        "\"\"\""
      ],
      "metadata": {
        "id": "iaOMlqCaLzXE"
      },
      "execution_count": null,
      "outputs": []
    },
    {
      "cell_type": "markdown",
      "source": [
        "# 4.\n",
        "Напишите SQL запрос, который выведет дату смены, имя сотрудника и количество\n",
        "отработанных часов за смену 1 декабря 2022 года.\n",
        "Если сотрудник не выходил на смену в указанный день, для данного сотрудника необходимо\n",
        "отобразить количество отработанных часов «0» .\n",
        "Если идентификатор сотрудника из смены отсутствует в справочнике сотрудников, то вместо\n",
        "имени выводить «Неизвестный сотрудник»\n",
        "\n",
        "Таблица Employee (справочник сотрудников) \n",
        "- employee_id идентификатор\n",
        "сотрудника\n",
        "- name Имя сотрудника\n",
        "\n",
        "Таблица shift (смены сотрудников)\n",
        "- employee_id идентификатор сотрудника\n",
        "- Fiscal_date Дата смены\n",
        "- Start_time Дата и время начала смены\n",
        "- End_time Дата и время окончания смены\n",
        "сотрудника"
      ],
      "metadata": {
        "id": "czfnqkIQNrEs"
      }
    },
    {
      "cell_type": "code",
      "source": [
        "\"\"\"\n",
        "SELECT Fiscal_date, \n",
        "  IFNULL(name, \"Неизвестный сотрудник\") AS name,\n",
        "  IIF(\n",
        "    ROUND(JULIANDAY(End_time) - JULIANDAY(Start_time)) * 24 > 0, ROUND(JULIANDAY(End_time) - JULIANDAY(Start_time)) * 24, 0\n",
        "    ) AS work_time\n",
        "FROM shift\n",
        "LEFT JOIN Employee\n",
        "  ON shift.employee_id = Employee.employee_id\n",
        "WHERE datetime(Fiscal_date) = \"01.12.2022\"\n",
        "\"\"\""
      ],
      "metadata": {
        "id": "PkS8W19COBvU"
      },
      "execution_count": null,
      "outputs": []
    }
  ]
}
