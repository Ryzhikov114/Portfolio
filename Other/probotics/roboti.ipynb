{
 "cells": [
  {
   "cell_type": "markdown",
   "metadata": {
    "id": "ggdbR2V6-oIq"
   },
   "source": [
    "#  Проект \"Рынок заведений общественного питания Москвы\""
   ]
  },
  {
   "cell_type": "markdown",
   "metadata": {
    "id": "bz-nBqhQ-x2I"
   },
   "source": [
    "# Бриф:\n",
    "\n",
    "Вы решили открыть небольшое кафе в Москве. Оно оригинальное — гостей должны обслуживать роботы. Проект многообещающий, но дорогой. Вместе с партнёрами вы решились обратиться к инвесторам. Их интересует текущее положение дел на рынке — сможете ли вы снискать популярность на долгое время, когда все зеваки насмотрятся на роботов-официантов?"
   ]
  },
  {
   "cell_type": "markdown",
   "metadata": {
    "id": "07lV9vdQ_CKZ"
   },
   "source": [
    "# Задачи:\n",
    "\n",
    "- Исследуйте соотношение видов объектов общественного питания по количеству.\n",
    "- Исследуйте соотношение сетевых и несетевых заведений по количеству.\n",
    "- Для какого вида объекта общественного питания характерно сетевое распространение?\n",
    "- Что характерно для сетевых заведений: много заведений с небольшим числом посадочных мест в каждом или мало заведений с большим количеством посадочных мест?\n",
    "- Для каждого вида объекта общественного питания опишите среднее количество посадочных мест. Какой вид предоставляет в среднем самое большое количество посадочных мест? \n",
    "- Топ-10 улиц по количеству объектов общественного питания. В каких районах Москвы находятся эти улицы?\n",
    "- Число улиц с одним объектом общественного питания.В каких районах Москвы находятся эти улицы?\n",
    "- Выводы и рекомендации."
   ]
  },
  {
   "cell_type": "markdown",
   "metadata": {
    "id": "vHEwqddI_xb0"
   },
   "source": [
    "## Импорт файлов"
   ]
  },
  {
   "cell_type": "code",
   "execution_count": 2,
   "metadata": {
    "id": "aIJWxM4BdO35"
   },
   "outputs": [],
   "source": [
    "import pandas as pd\n",
    "import numpy as np\n",
    "import matplotlib.pyplot as plt\n",
    "import seaborn as sns\n",
    "from plotly.offline import download_plotlyjs, init_notebook_mode, plot, iplot\n",
    "import plotly.graph_objs as go"
   ]
  },
  {
   "cell_type": "code",
   "execution_count": 3,
   "metadata": {
    "id": "ByLnu5nhdRvT"
   },
   "outputs": [],
   "source": [
    "try:\n",
    "    df = pd.read_csv('/content/project_8_grafiki.csv')\n",
    "except:\n",
    "    df = pd.read_csv('/datasets/rest_data.csv')"
   ]
  },
  {
   "cell_type": "markdown",
   "metadata": {
    "id": "YMxaHqgndv1k"
   },
   "source": [
    "## Анализ данных"
   ]
  },
  {
   "cell_type": "code",
   "execution_count": 4,
   "metadata": {
    "colab": {
     "base_uri": "https://localhost:8080/",
     "height": 206
    },
    "id": "EdPjs9fPdVsy",
    "outputId": "0c8aa68d-553f-4c0c-83b9-3b04a3089b38"
   },
   "outputs": [
    {
     "data": {
      "text/html": [
       "<div>\n",
       "<style scoped>\n",
       "    .dataframe tbody tr th:only-of-type {\n",
       "        vertical-align: middle;\n",
       "    }\n",
       "\n",
       "    .dataframe tbody tr th {\n",
       "        vertical-align: top;\n",
       "    }\n",
       "\n",
       "    .dataframe thead th {\n",
       "        text-align: right;\n",
       "    }\n",
       "</style>\n",
       "<table border=\"1\" class=\"dataframe\">\n",
       "  <thead>\n",
       "    <tr style=\"text-align: right;\">\n",
       "      <th></th>\n",
       "      <th>id</th>\n",
       "      <th>object_name</th>\n",
       "      <th>chain</th>\n",
       "      <th>object_type</th>\n",
       "      <th>address</th>\n",
       "      <th>number</th>\n",
       "    </tr>\n",
       "  </thead>\n",
       "  <tbody>\n",
       "    <tr>\n",
       "      <th>0</th>\n",
       "      <td>151635</td>\n",
       "      <td>СМЕТАНА</td>\n",
       "      <td>нет</td>\n",
       "      <td>кафе</td>\n",
       "      <td>город Москва, улица Егора Абакумова, дом 9</td>\n",
       "      <td>48</td>\n",
       "    </tr>\n",
       "    <tr>\n",
       "      <th>1</th>\n",
       "      <td>77874</td>\n",
       "      <td>Родник</td>\n",
       "      <td>нет</td>\n",
       "      <td>кафе</td>\n",
       "      <td>город Москва, улица Талалихина, дом 2/1, корпус 1</td>\n",
       "      <td>35</td>\n",
       "    </tr>\n",
       "    <tr>\n",
       "      <th>2</th>\n",
       "      <td>24309</td>\n",
       "      <td>Кафе «Академия»</td>\n",
       "      <td>нет</td>\n",
       "      <td>кафе</td>\n",
       "      <td>город Москва, Абельмановская улица, дом 6</td>\n",
       "      <td>95</td>\n",
       "    </tr>\n",
       "    <tr>\n",
       "      <th>3</th>\n",
       "      <td>21894</td>\n",
       "      <td>ПИЦЦЕТОРИЯ</td>\n",
       "      <td>да</td>\n",
       "      <td>кафе</td>\n",
       "      <td>город Москва, Абрамцевская улица, дом 1</td>\n",
       "      <td>40</td>\n",
       "    </tr>\n",
       "    <tr>\n",
       "      <th>4</th>\n",
       "      <td>119365</td>\n",
       "      <td>Кафе «Вишневая метель»</td>\n",
       "      <td>нет</td>\n",
       "      <td>кафе</td>\n",
       "      <td>город Москва, Абрамцевская улица, дом 9, корпус 1</td>\n",
       "      <td>50</td>\n",
       "    </tr>\n",
       "  </tbody>\n",
       "</table>\n",
       "</div>"
      ],
      "text/plain": [
       "       id             object_name chain object_type  \\\n",
       "0  151635                 СМЕТАНА   нет        кафе   \n",
       "1   77874                  Родник   нет        кафе   \n",
       "2   24309         Кафе «Академия»   нет        кафе   \n",
       "3   21894              ПИЦЦЕТОРИЯ    да        кафе   \n",
       "4  119365  Кафе «Вишневая метель»   нет        кафе   \n",
       "\n",
       "                                             address  number  \n",
       "0         город Москва, улица Егора Абакумова, дом 9      48  \n",
       "1  город Москва, улица Талалихина, дом 2/1, корпус 1      35  \n",
       "2          город Москва, Абельмановская улица, дом 6      95  \n",
       "3            город Москва, Абрамцевская улица, дом 1      40  \n",
       "4  город Москва, Абрамцевская улица, дом 9, корпус 1      50  "
      ]
     },
     "execution_count": 4,
     "metadata": {},
     "output_type": "execute_result"
    }
   ],
   "source": [
    "df.head()"
   ]
  },
  {
   "cell_type": "code",
   "execution_count": 5,
   "metadata": {
    "colab": {
     "base_uri": "https://localhost:8080/"
    },
    "id": "Xef6yzWodV4k",
    "outputId": "eee9b48f-acbd-41f3-a8f2-75ec840b4501",
    "scrolled": true
   },
   "outputs": [
    {
     "name": "stdout",
     "output_type": "stream",
     "text": [
      "<class 'pandas.core.frame.DataFrame'>\n",
      "RangeIndex: 15366 entries, 0 to 15365\n",
      "Data columns (total 6 columns):\n",
      " #   Column       Non-Null Count  Dtype \n",
      "---  ------       --------------  ----- \n",
      " 0   id           15366 non-null  int64 \n",
      " 1   object_name  15366 non-null  object\n",
      " 2   chain        15366 non-null  object\n",
      " 3   object_type  15366 non-null  object\n",
      " 4   address      15366 non-null  object\n",
      " 5   number       15366 non-null  int64 \n",
      "dtypes: int64(2), object(4)\n",
      "memory usage: 720.4+ KB\n"
     ]
    }
   ],
   "source": [
    "df.info()"
   ]
  },
  {
   "cell_type": "code",
   "execution_count": 6,
   "metadata": {
    "colab": {
     "base_uri": "https://localhost:8080/"
    },
    "id": "nxmhyz0xdewl",
    "outputId": "87509b5d-464d-4fb0-99e3-fd5cce4ead10"
   },
   "outputs": [
    {
     "data": {
      "text/plain": [
       "0"
      ]
     },
     "execution_count": 6,
     "metadata": {},
     "output_type": "execute_result"
    }
   ],
   "source": [
    "df.duplicated().sum()"
   ]
  },
  {
   "cell_type": "code",
   "execution_count": 7,
   "metadata": {
    "id": "-nSo_gc-Dj3p"
   },
   "outputs": [],
   "source": [
    "df['object_type'] = df['object_type'].replace(\n",
    "    'предприятие быстрого обслуживания', 'фаст-фуд')"
   ]
  },
  {
   "cell_type": "code",
   "execution_count": 8,
   "metadata": {
    "id": "F2p1CubjFIVF"
   },
   "outputs": [],
   "source": [
    "df['object_type'] = df['object_type'].replace(\n",
    "    'магазин (отдел кулинарии)', 'кулинария')"
   ]
  },
  {
   "cell_type": "code",
   "execution_count": 9,
   "metadata": {
    "id": "X8w9mfAM3upD"
   },
   "outputs": [],
   "source": [
    "df['object_name'] = df['object_name'].str.lower()"
   ]
  },
  {
   "cell_type": "code",
   "execution_count": 10,
   "metadata": {
    "id": "IZyBRrgE_ybz"
   },
   "outputs": [],
   "source": [
    "df['address'] = df['address'].str.lower()"
   ]
  },
  {
   "cell_type": "code",
   "execution_count": 11,
   "metadata": {
    "id": "EaHcBSKGnnQB"
   },
   "outputs": [],
   "source": [
    "plt.rcParams[\"figure.figsize\"] = (14, 6)\n",
    "font = {'family': 'serif',\n",
    "        'color':  'black',\n",
    "        'weight': 'normal',\n",
    "        'size': 16,\n",
    "        }"
   ]
  },
  {
   "cell_type": "code",
   "execution_count": 12,
   "metadata": {
    "id": "Xb82gDT0F4At"
   },
   "outputs": [],
   "source": [
    "pd.set_option('display.float_format', '{:.2f}'.format)"
   ]
  },
  {
   "cell_type": "code",
   "execution_count": 13,
   "metadata": {},
   "outputs": [
    {
     "data": {
      "text/plain": [
       "93"
      ]
     },
     "execution_count": 13,
     "metadata": {},
     "output_type": "execute_result"
    }
   ],
   "source": [
    "df.duplicated(subset=('object_name', 'address', 'number')).sum()"
   ]
  },
  {
   "cell_type": "code",
   "execution_count": 14,
   "metadata": {},
   "outputs": [],
   "source": [
    "df = df.drop_duplicates(\n",
    "    subset=('object_name', 'address', 'number')).reset_index(drop=True)"
   ]
  },
  {
   "cell_type": "markdown",
   "metadata": {
    "id": "VKPWrgT_dtWO"
   },
   "source": [
    "## Cоотношение видов объектов общественного питания по количеству."
   ]
  },
  {
   "cell_type": "code",
   "execution_count": 15,
   "metadata": {
    "id": "QPD9OAT1FbeX"
   },
   "outputs": [],
   "source": [
    "object_type = df.groupby('object_type')['id'].agg(\n",
    "    ['count']).sort_values(by='count', ascending=False)"
   ]
  },
  {
   "cell_type": "code",
   "execution_count": 16,
   "metadata": {
    "id": "Z55sjqYNfUcj"
   },
   "outputs": [],
   "source": [
    "object_type['pct'] = object_type['count'] / object_type['count'].sum() * 100"
   ]
  },
  {
   "cell_type": "code",
   "execution_count": 17,
   "metadata": {
    "colab": {
     "base_uri": "https://localhost:8080/",
     "height": 363
    },
    "id": "1FLtrlYJSvrZ",
    "outputId": "f91dfc1b-bbea-4477-9114-e2944b23d3a9"
   },
   "outputs": [
    {
     "data": {
      "text/html": [
       "<div>\n",
       "<style scoped>\n",
       "    .dataframe tbody tr th:only-of-type {\n",
       "        vertical-align: middle;\n",
       "    }\n",
       "\n",
       "    .dataframe tbody tr th {\n",
       "        vertical-align: top;\n",
       "    }\n",
       "\n",
       "    .dataframe thead th {\n",
       "        text-align: right;\n",
       "    }\n",
       "</style>\n",
       "<table border=\"1\" class=\"dataframe\">\n",
       "  <thead>\n",
       "    <tr style=\"text-align: right;\">\n",
       "      <th></th>\n",
       "      <th>count</th>\n",
       "      <th>pct</th>\n",
       "    </tr>\n",
       "    <tr>\n",
       "      <th>object_type</th>\n",
       "      <th></th>\n",
       "      <th></th>\n",
       "    </tr>\n",
       "  </thead>\n",
       "  <tbody>\n",
       "    <tr>\n",
       "      <th>кафе</th>\n",
       "      <td>6068</td>\n",
       "      <td>39.73</td>\n",
       "    </tr>\n",
       "    <tr>\n",
       "      <th>столовая</th>\n",
       "      <td>2584</td>\n",
       "      <td>16.92</td>\n",
       "    </tr>\n",
       "    <tr>\n",
       "      <th>ресторан</th>\n",
       "      <td>2281</td>\n",
       "      <td>14.93</td>\n",
       "    </tr>\n",
       "    <tr>\n",
       "      <th>фаст-фуд</th>\n",
       "      <td>1897</td>\n",
       "      <td>12.42</td>\n",
       "    </tr>\n",
       "    <tr>\n",
       "      <th>бар</th>\n",
       "      <td>854</td>\n",
       "      <td>5.59</td>\n",
       "    </tr>\n",
       "    <tr>\n",
       "      <th>буфет</th>\n",
       "      <td>575</td>\n",
       "      <td>3.76</td>\n",
       "    </tr>\n",
       "    <tr>\n",
       "      <th>кафетерий</th>\n",
       "      <td>395</td>\n",
       "      <td>2.59</td>\n",
       "    </tr>\n",
       "    <tr>\n",
       "      <th>закусочная</th>\n",
       "      <td>346</td>\n",
       "      <td>2.27</td>\n",
       "    </tr>\n",
       "    <tr>\n",
       "      <th>кулинария</th>\n",
       "      <td>273</td>\n",
       "      <td>1.79</td>\n",
       "    </tr>\n",
       "  </tbody>\n",
       "</table>\n",
       "</div>"
      ],
      "text/plain": [
       "             count   pct\n",
       "object_type             \n",
       "кафе          6068 39.73\n",
       "столовая      2584 16.92\n",
       "ресторан      2281 14.93\n",
       "фаст-фуд      1897 12.42\n",
       "бар            854  5.59\n",
       "буфет          575  3.76\n",
       "кафетерий      395  2.59\n",
       "закусочная     346  2.27\n",
       "кулинария      273  1.79"
      ]
     },
     "execution_count": 17,
     "metadata": {},
     "output_type": "execute_result"
    }
   ],
   "source": [
    "object_type"
   ]
  },
  {
   "cell_type": "code",
   "execution_count": 18,
   "metadata": {
    "colab": {
     "base_uri": "https://localhost:8080/",
     "height": 414
    },
    "id": "nRBZ5JBgGYHh",
    "outputId": "7eb3c54b-4539-4214-f3f9-96e594b2c7be"
   },
   "outputs": [
    {
     "data": {
      "image/png": "[encoded data removed]",
      "text/plain": [
       "<Figure size 1008x432 with 1 Axes>"
      ]
     },
     "metadata": {
      "needs_background": "light"
     },
     "output_type": "display_data"
    }
   ],
   "source": [
    "ax = sns.barplot(x='pct', y=object_type.index, data=object_type)\n",
    "ax.set_title('Объекты общественного питания в Москве', fontdict=font)\n",
    "ax.set_xlabel('количество объектов (%)', fontdict=font)\n",
    "ax.set_ylabel('тип объекта', fontdict=font)\n",
    "plt.show()"
   ]
  },
  {
   "cell_type": "markdown",
   "metadata": {
    "id": "wsL7DLMv__b_"
   },
   "source": [
    "### Больше всего заведений типа - \"КАФЕ\" 40% от общего числа"
   ]
  },
  {
   "cell_type": "markdown",
   "metadata": {
    "id": "bMs7lU-luaTc"
   },
   "source": [
    "## Соотношение сетевых и несетевых заведений по количеству."
   ]
  },
  {
   "cell_type": "code",
   "execution_count": 19,
   "metadata": {
    "id": "0M95pR3HhJ2i"
   },
   "outputs": [],
   "source": [
    "chain = df.groupby('chain')['id'].agg(\n",
    "    ['count']).sort_values(by='count', ascending=False)"
   ]
  },
  {
   "cell_type": "code",
   "execution_count": 20,
   "metadata": {
    "id": "ESxLunUUS7WQ"
   },
   "outputs": [],
   "source": [
    "chain['pct'] = chain['count'] / chain['count'].sum() * 100"
   ]
  },
  {
   "cell_type": "code",
   "execution_count": 21,
   "metadata": {
    "colab": {
     "base_uri": "https://localhost:8080/",
     "height": 143
    },
    "id": "DimEBFGtHHj3",
    "outputId": "ed4be5b2-6d8f-48e1-cdee-33be0081a4f5"
   },
   "outputs": [
    {
     "data": {
      "text/html": [
       "<div>\n",
       "<style scoped>\n",
       "    .dataframe tbody tr th:only-of-type {\n",
       "        vertical-align: middle;\n",
       "    }\n",
       "\n",
       "    .dataframe tbody tr th {\n",
       "        vertical-align: top;\n",
       "    }\n",
       "\n",
       "    .dataframe thead th {\n",
       "        text-align: right;\n",
       "    }\n",
       "</style>\n",
       "<table border=\"1\" class=\"dataframe\">\n",
       "  <thead>\n",
       "    <tr style=\"text-align: right;\">\n",
       "      <th></th>\n",
       "      <th>count</th>\n",
       "      <th>pct</th>\n",
       "    </tr>\n",
       "    <tr>\n",
       "      <th>chain</th>\n",
       "      <th></th>\n",
       "      <th></th>\n",
       "    </tr>\n",
       "  </thead>\n",
       "  <tbody>\n",
       "    <tr>\n",
       "      <th>нет</th>\n",
       "      <td>12310</td>\n",
       "      <td>80.60</td>\n",
       "    </tr>\n",
       "    <tr>\n",
       "      <th>да</th>\n",
       "      <td>2963</td>\n",
       "      <td>19.40</td>\n",
       "    </tr>\n",
       "  </tbody>\n",
       "</table>\n",
       "</div>"
      ],
      "text/plain": [
       "       count   pct\n",
       "chain             \n",
       "нет    12310 80.60\n",
       "да      2963 19.40"
      ]
     },
     "execution_count": 21,
     "metadata": {},
     "output_type": "execute_result"
    }
   ],
   "source": [
    "chain"
   ]
  },
  {
   "cell_type": "code",
   "execution_count": 22,
   "metadata": {
    "colab": {
     "base_uri": "https://localhost:8080/",
     "height": 414
    },
    "id": "CDybNwbiebl5",
    "outputId": "ccc980b6-a71b-48dd-f23f-54e73cb33de6"
   },
   "outputs": [
    {
     "data": {
      "image/png": "[encoded data removed]",
      "text/plain": [
       "<Figure size 1008x432 with 1 Axes>"
      ]
     },
     "metadata": {
      "needs_background": "light"
     },
     "output_type": "display_data"
    }
   ],
   "source": [
    "chain['pct'].plot.bar()\n",
    "\n",
    "plt.title('Соотношение сетевых и несетевых заведений по количеству', fontdict=font)\n",
    "# plt.legend()\n",
    "plt.xticks(rotation=0)\n",
    "plt.xlabel('вид объекта', fontdict=font)\n",
    "plt.ylabel('количество объектов (%)', fontdict=font)\n",
    "plt.ylim(0)\n",
    "plt.grid(True)\n",
    "plt.show()"
   ]
  },
  {
   "cell_type": "markdown",
   "metadata": {
    "id": "CraB7nAyAshw"
   },
   "source": [
    "### Большиство заведений в Москве - \"НЕ СЕТЕВЫЕ\", а именно 80%"
   ]
  },
  {
   "cell_type": "markdown",
   "metadata": {
    "id": "rvGpErEcHVF4"
   },
   "source": [
    "## Для какого вида объекта общественного питания характерно сетевое распространение?"
   ]
  },
  {
   "cell_type": "code",
   "execution_count": 23,
   "metadata": {},
   "outputs": [],
   "source": [
    "t = df.query('chain == \"да\"').groupby(\n",
    "    'object_type')['id'].count().reset_index()"
   ]
  },
  {
   "cell_type": "code",
   "execution_count": 24,
   "metadata": {},
   "outputs": [],
   "source": [
    "tt = df.groupby('object_type')['id'].count().reset_index()"
   ]
  },
  {
   "cell_type": "code",
   "execution_count": 25,
   "metadata": {},
   "outputs": [
    {
     "data": {
      "text/html": [
       "<div>\n",
       "<style scoped>\n",
       "    .dataframe tbody tr th:only-of-type {\n",
       "        vertical-align: middle;\n",
       "    }\n",
       "\n",
       "    .dataframe tbody tr th {\n",
       "        vertical-align: top;\n",
       "    }\n",
       "\n",
       "    .dataframe thead th {\n",
       "        text-align: right;\n",
       "    }\n",
       "</style>\n",
       "<table border=\"1\" class=\"dataframe\">\n",
       "  <thead>\n",
       "    <tr style=\"text-align: right;\">\n",
       "      <th></th>\n",
       "      <th>object_type</th>\n",
       "      <th>id_x</th>\n",
       "      <th>id_y</th>\n",
       "    </tr>\n",
       "  </thead>\n",
       "  <tbody>\n",
       "    <tr>\n",
       "      <th>0</th>\n",
       "      <td>бар</td>\n",
       "      <td>37</td>\n",
       "      <td>854</td>\n",
       "    </tr>\n",
       "    <tr>\n",
       "      <th>1</th>\n",
       "      <td>буфет</td>\n",
       "      <td>10</td>\n",
       "      <td>575</td>\n",
       "    </tr>\n",
       "    <tr>\n",
       "      <th>2</th>\n",
       "      <td>закусочная</td>\n",
       "      <td>56</td>\n",
       "      <td>346</td>\n",
       "    </tr>\n",
       "    <tr>\n",
       "      <th>3</th>\n",
       "      <td>кафе</td>\n",
       "      <td>1396</td>\n",
       "      <td>6068</td>\n",
       "    </tr>\n",
       "    <tr>\n",
       "      <th>4</th>\n",
       "      <td>кафетерий</td>\n",
       "      <td>52</td>\n",
       "      <td>395</td>\n",
       "    </tr>\n",
       "    <tr>\n",
       "      <th>5</th>\n",
       "      <td>кулинария</td>\n",
       "      <td>78</td>\n",
       "      <td>273</td>\n",
       "    </tr>\n",
       "    <tr>\n",
       "      <th>6</th>\n",
       "      <td>ресторан</td>\n",
       "      <td>543</td>\n",
       "      <td>2281</td>\n",
       "    </tr>\n",
       "    <tr>\n",
       "      <th>7</th>\n",
       "      <td>столовая</td>\n",
       "      <td>3</td>\n",
       "      <td>2584</td>\n",
       "    </tr>\n",
       "    <tr>\n",
       "      <th>8</th>\n",
       "      <td>фаст-фуд</td>\n",
       "      <td>788</td>\n",
       "      <td>1897</td>\n",
       "    </tr>\n",
       "  </tbody>\n",
       "</table>\n",
       "</div>"
      ],
      "text/plain": [
       "  object_type  id_x  id_y\n",
       "0         бар    37   854\n",
       "1       буфет    10   575\n",
       "2  закусочная    56   346\n",
       "3        кафе  1396  6068\n",
       "4   кафетерий    52   395\n",
       "5   кулинария    78   273\n",
       "6    ресторан   543  2281\n",
       "7    столовая     3  2584\n",
       "8    фаст-фуд   788  1897"
      ]
     },
     "execution_count": 25,
     "metadata": {},
     "output_type": "execute_result"
    }
   ],
   "source": [
    "object_type_chain = t.merge(tt, how='left', on='object_type')\n",
    "object_type_chain"
   ]
  },
  {
   "cell_type": "code",
   "execution_count": 26,
   "metadata": {},
   "outputs": [],
   "source": [
    "object_type_chain['pct'] = object_type_chain['id_x'] / \\\n",
    "    object_type_chain['id_y'] * 100"
   ]
  },
  {
   "cell_type": "code",
   "execution_count": 27,
   "metadata": {},
   "outputs": [
    {
     "data": {
      "text/html": [
       "<div>\n",
       "<style scoped>\n",
       "    .dataframe tbody tr th:only-of-type {\n",
       "        vertical-align: middle;\n",
       "    }\n",
       "\n",
       "    .dataframe tbody tr th {\n",
       "        vertical-align: top;\n",
       "    }\n",
       "\n",
       "    .dataframe thead th {\n",
       "        text-align: right;\n",
       "    }\n",
       "</style>\n",
       "<table border=\"1\" class=\"dataframe\">\n",
       "  <thead>\n",
       "    <tr style=\"text-align: right;\">\n",
       "      <th></th>\n",
       "      <th>object_type</th>\n",
       "      <th>id_x</th>\n",
       "      <th>id_y</th>\n",
       "      <th>pct</th>\n",
       "    </tr>\n",
       "  </thead>\n",
       "  <tbody>\n",
       "    <tr>\n",
       "      <th>0</th>\n",
       "      <td>бар</td>\n",
       "      <td>37</td>\n",
       "      <td>854</td>\n",
       "      <td>4.33</td>\n",
       "    </tr>\n",
       "    <tr>\n",
       "      <th>1</th>\n",
       "      <td>буфет</td>\n",
       "      <td>10</td>\n",
       "      <td>575</td>\n",
       "      <td>1.74</td>\n",
       "    </tr>\n",
       "    <tr>\n",
       "      <th>2</th>\n",
       "      <td>закусочная</td>\n",
       "      <td>56</td>\n",
       "      <td>346</td>\n",
       "      <td>16.18</td>\n",
       "    </tr>\n",
       "    <tr>\n",
       "      <th>3</th>\n",
       "      <td>кафе</td>\n",
       "      <td>1396</td>\n",
       "      <td>6068</td>\n",
       "      <td>23.01</td>\n",
       "    </tr>\n",
       "    <tr>\n",
       "      <th>4</th>\n",
       "      <td>кафетерий</td>\n",
       "      <td>52</td>\n",
       "      <td>395</td>\n",
       "      <td>13.16</td>\n",
       "    </tr>\n",
       "    <tr>\n",
       "      <th>5</th>\n",
       "      <td>кулинария</td>\n",
       "      <td>78</td>\n",
       "      <td>273</td>\n",
       "      <td>28.57</td>\n",
       "    </tr>\n",
       "    <tr>\n",
       "      <th>6</th>\n",
       "      <td>ресторан</td>\n",
       "      <td>543</td>\n",
       "      <td>2281</td>\n",
       "      <td>23.81</td>\n",
       "    </tr>\n",
       "    <tr>\n",
       "      <th>7</th>\n",
       "      <td>столовая</td>\n",
       "      <td>3</td>\n",
       "      <td>2584</td>\n",
       "      <td>0.12</td>\n",
       "    </tr>\n",
       "    <tr>\n",
       "      <th>8</th>\n",
       "      <td>фаст-фуд</td>\n",
       "      <td>788</td>\n",
       "      <td>1897</td>\n",
       "      <td>41.54</td>\n",
       "    </tr>\n",
       "  </tbody>\n",
       "</table>\n",
       "</div>"
      ],
      "text/plain": [
       "  object_type  id_x  id_y   pct\n",
       "0         бар    37   854  4.33\n",
       "1       буфет    10   575  1.74\n",
       "2  закусочная    56   346 16.18\n",
       "3        кафе  1396  6068 23.01\n",
       "4   кафетерий    52   395 13.16\n",
       "5   кулинария    78   273 28.57\n",
       "6    ресторан   543  2281 23.81\n",
       "7    столовая     3  2584  0.12\n",
       "8    фаст-фуд   788  1897 41.54"
      ]
     },
     "execution_count": 27,
     "metadata": {},
     "output_type": "execute_result"
    }
   ],
   "source": [
    "object_type_chain"
   ]
  },
  {
   "cell_type": "code",
   "execution_count": 28,
   "metadata": {
    "colab": {
     "base_uri": "https://localhost:8080/",
     "height": 415
    },
    "id": "yVDtfTZ7IuWG",
    "outputId": "12c0004d-825b-4cec-f6dd-b0c231d53d0e"
   },
   "outputs": [
    {
     "data": {
      "image/png": "[encoded data removed]",
      "text/plain": [
       "<Figure size 1008x432 with 1 Axes>"
      ]
     },
     "metadata": {
      "needs_background": "light"
     },
     "output_type": "display_data"
    }
   ],
   "source": [
    "sns.barplot(\n",
    "    x=\"object_type\",\n",
    "    y=\"pct\",\n",
    "    # hue=\"chain\",\n",
    "    ci=None,\n",
    "    capsize=0.1,\n",
    "    data=object_type_chain\n",
    ")\n",
    "\n",
    "plt.title('Сетевое распостронение вида общественного питания', fontdict=font)\n",
    "# plt.legend()\n",
    "plt.xticks(rotation=0)\n",
    "plt.xlabel('вид объекта', fontdict=font)\n",
    "plt.ylabel('количество объектов (%)', fontdict=font)\n",
    "plt.ylim(0)\n",
    "plt.grid(True)\n",
    "plt.show()"
   ]
  },
  {
   "cell_type": "markdown",
   "metadata": {
    "id": "_5I_KUrfA7gQ"
   },
   "source": [
    "### Сетевое распостранение характерно для \"ФАСТ-ФУДА\""
   ]
  },
  {
   "cell_type": "markdown",
   "metadata": {
    "id": "A6iK5Fv6KGOO"
   },
   "source": [
    "## Что характерно для сетевых заведений: много заведений с небольшим числом посадочных мест в каждом или мало заведений с большим количеством посадочных мест?"
   ]
  },
  {
   "cell_type": "code",
   "execution_count": 29,
   "metadata": {
    "colab": {
     "base_uri": "https://localhost:8080/",
     "height": 363
    },
    "id": "iE05XGpRHP_7",
    "outputId": "8879443d-d93a-4bae-ae89-d3f2be27c7ed"
   },
   "outputs": [
    {
     "data": {
      "text/html": [
       "<div>\n",
       "<style scoped>\n",
       "    .dataframe tbody tr th:only-of-type {\n",
       "        vertical-align: middle;\n",
       "    }\n",
       "\n",
       "    .dataframe tbody tr th {\n",
       "        vertical-align: top;\n",
       "    }\n",
       "\n",
       "    .dataframe thead th {\n",
       "        text-align: right;\n",
       "    }\n",
       "</style>\n",
       "<table border=\"1\" class=\"dataframe\">\n",
       "  <thead>\n",
       "    <tr style=\"text-align: right;\">\n",
       "      <th></th>\n",
       "      <th>count</th>\n",
       "      <th>sum</th>\n",
       "      <th>mean</th>\n",
       "      <th>median</th>\n",
       "      <th>min</th>\n",
       "      <th>max</th>\n",
       "    </tr>\n",
       "    <tr>\n",
       "      <th>object_type</th>\n",
       "      <th></th>\n",
       "      <th></th>\n",
       "      <th></th>\n",
       "      <th></th>\n",
       "      <th></th>\n",
       "      <th></th>\n",
       "    </tr>\n",
       "  </thead>\n",
       "  <tbody>\n",
       "    <tr>\n",
       "      <th>бар</th>\n",
       "      <td>37</td>\n",
       "      <td>1962</td>\n",
       "      <td>53.03</td>\n",
       "      <td>45.00</td>\n",
       "      <td>0</td>\n",
       "      <td>150</td>\n",
       "    </tr>\n",
       "    <tr>\n",
       "      <th>буфет</th>\n",
       "      <td>10</td>\n",
       "      <td>140</td>\n",
       "      <td>14.00</td>\n",
       "      <td>0.00</td>\n",
       "      <td>0</td>\n",
       "      <td>70</td>\n",
       "    </tr>\n",
       "    <tr>\n",
       "      <th>закусочная</th>\n",
       "      <td>56</td>\n",
       "      <td>805</td>\n",
       "      <td>14.38</td>\n",
       "      <td>8.00</td>\n",
       "      <td>0</td>\n",
       "      <td>91</td>\n",
       "    </tr>\n",
       "    <tr>\n",
       "      <th>кафе</th>\n",
       "      <td>1396</td>\n",
       "      <td>66208</td>\n",
       "      <td>47.43</td>\n",
       "      <td>40.00</td>\n",
       "      <td>0</td>\n",
       "      <td>456</td>\n",
       "    </tr>\n",
       "    <tr>\n",
       "      <th>кафетерий</th>\n",
       "      <td>52</td>\n",
       "      <td>638</td>\n",
       "      <td>12.27</td>\n",
       "      <td>8.00</td>\n",
       "      <td>0</td>\n",
       "      <td>85</td>\n",
       "    </tr>\n",
       "    <tr>\n",
       "      <th>кулинария</th>\n",
       "      <td>78</td>\n",
       "      <td>677</td>\n",
       "      <td>8.68</td>\n",
       "      <td>3.50</td>\n",
       "      <td>0</td>\n",
       "      <td>48</td>\n",
       "    </tr>\n",
       "    <tr>\n",
       "      <th>ресторан</th>\n",
       "      <td>543</td>\n",
       "      <td>54497</td>\n",
       "      <td>100.36</td>\n",
       "      <td>89.00</td>\n",
       "      <td>0</td>\n",
       "      <td>500</td>\n",
       "    </tr>\n",
       "    <tr>\n",
       "      <th>столовая</th>\n",
       "      <td>3</td>\n",
       "      <td>337</td>\n",
       "      <td>112.33</td>\n",
       "      <td>120.00</td>\n",
       "      <td>55</td>\n",
       "      <td>162</td>\n",
       "    </tr>\n",
       "    <tr>\n",
       "      <th>фаст-фуд</th>\n",
       "      <td>788</td>\n",
       "      <td>31772</td>\n",
       "      <td>40.32</td>\n",
       "      <td>25.00</td>\n",
       "      <td>0</td>\n",
       "      <td>580</td>\n",
       "    </tr>\n",
       "  </tbody>\n",
       "</table>\n",
       "</div>"
      ],
      "text/plain": [
       "             count    sum   mean  median  min  max\n",
       "object_type                                       \n",
       "бар             37   1962  53.03   45.00    0  150\n",
       "буфет           10    140  14.00    0.00    0   70\n",
       "закусочная      56    805  14.38    8.00    0   91\n",
       "кафе          1396  66208  47.43   40.00    0  456\n",
       "кафетерий       52    638  12.27    8.00    0   85\n",
       "кулинария       78    677   8.68    3.50    0   48\n",
       "ресторан       543  54497 100.36   89.00    0  500\n",
       "столовая         3    337 112.33  120.00   55  162\n",
       "фаст-фуд       788  31772  40.32   25.00    0  580"
      ]
     },
     "execution_count": 29,
     "metadata": {},
     "output_type": "execute_result"
    }
   ],
   "source": [
    "# фильтр по сетевой/не_сетевой\n",
    "df.query('chain == \"да\"').groupby('object_type')['number'].agg(\n",
    "    ['count', 'sum', 'mean', 'median', 'min', 'max'])"
   ]
  },
  {
   "cell_type": "code",
   "execution_count": 30,
   "metadata": {
    "colab": {
     "base_uri": "https://localhost:8080/"
    },
    "id": "13lL-yBNz_7X",
    "outputId": "326b4886-b568-483c-d625-55d65b7621a8"
   },
   "outputs": [
    {
     "data": {
      "text/plain": [
       "array([  0.  ,   0.  , 158.9 , 275.38])"
      ]
     },
     "execution_count": 30,
     "metadata": {},
     "output_type": "execute_result"
    }
   ],
   "source": [
    "# уберем 1%\n",
    "np.percentile(df.query('chain == \"да\"')['number'], [0, 1, 95, 99])"
   ]
  },
  {
   "cell_type": "code",
   "execution_count": 31,
   "metadata": {
    "colab": {
     "base_uri": "https://localhost:8080/",
     "height": 414
    },
    "id": "t6iic4lwQ9El",
    "outputId": "78b5f79c-9e2e-4579-fb2f-591216838bd4"
   },
   "outputs": [
    {
     "data": {
      "image/png": "[encoded data removed]",
      "text/plain": [
       "<Figure size 1008x432 with 1 Axes>"
      ]
     },
     "metadata": {
      "needs_background": "light"
     },
     "output_type": "display_data"
    }
   ],
   "source": [
    "df.query('chain == \"да\" & number < 275')['number'].hist(bins=50)\n",
    "\n",
    "plt.title('Количество мест среди сетевых заведений', fontdict=font)\n",
    "# plt.legend()\n",
    "plt.xticks(rotation=0)\n",
    "plt.xlabel('количество мест (шт.)', fontdict=font)\n",
    "plt.ylabel('количество объектов (шт.)', fontdict=font)\n",
    "plt.ylim(0)\n",
    "plt.grid(True)\n",
    "plt.show()"
   ]
  },
  {
   "cell_type": "code",
   "execution_count": 32,
   "metadata": {
    "id": "fmLEr2Z4-ctE"
   },
   "outputs": [],
   "source": [
    "x_values = pd.Series(\n",
    "    range(0, len(df.query('chain == \"да\" & number < 275')['number'])))"
   ]
  },
  {
   "cell_type": "code",
   "execution_count": 33,
   "metadata": {
    "id": "qnDarVc9_HQt"
   },
   "outputs": [],
   "source": [
    "y_values = df.query('chain == \"да\" & number < 275')['number']"
   ]
  },
  {
   "cell_type": "code",
   "execution_count": 34,
   "metadata": {
    "colab": {
     "base_uri": "https://localhost:8080/",
     "height": 414
    },
    "id": "nkplAtd4-WRY",
    "outputId": "9fb25db1-bec0-48b4-eeae-712ecebfaf60"
   },
   "outputs": [
    {
     "data": {
      "image/png": "[encoded data removed]",
      "text/plain": [
       "<Figure size 1008x432 with 1 Axes>"
      ]
     },
     "metadata": {
      "needs_background": "light"
     },
     "output_type": "display_data"
    }
   ],
   "source": [
    "plt.scatter(x_values, y_values)\n",
    "\n",
    "plt.title('Количество мест среди сетевых заведений', fontdict=font)\n",
    "plt.xlabel('заведения', fontdict=font)\n",
    "plt.ylabel('количество посадочных мест (шт.)', fontdict=font)\n",
    "plt.show()"
   ]
  },
  {
   "cell_type": "code",
   "execution_count": 35,
   "metadata": {},
   "outputs": [],
   "source": [
    "t = (df.query('chain == \"да\"')\n",
    "     .groupby('object_name')['number']\n",
    "     .agg(['count', 'mean'])\n",
    "     .reset_index()\n",
    "     )"
   ]
  },
  {
   "cell_type": "code",
   "execution_count": 36,
   "metadata": {},
   "outputs": [],
   "source": [
    "t['count_sort'] = pd.cut(t['count'], 2, labels=[\n",
    "                         'мало зав./', 'много зав./']).astype(str)"
   ]
  },
  {
   "cell_type": "code",
   "execution_count": 37,
   "metadata": {},
   "outputs": [],
   "source": [
    "t['number_sort'] = pd.qcut(t['mean'], 2, labels=[\n",
    "                           'мало мест', 'много мест']).astype(str)"
   ]
  },
  {
   "cell_type": "code",
   "execution_count": 38,
   "metadata": {},
   "outputs": [
    {
     "data": {
      "text/html": [
       "<div>\n",
       "<style scoped>\n",
       "    .dataframe tbody tr th:only-of-type {\n",
       "        vertical-align: middle;\n",
       "    }\n",
       "\n",
       "    .dataframe tbody tr th {\n",
       "        vertical-align: top;\n",
       "    }\n",
       "\n",
       "    .dataframe thead th {\n",
       "        text-align: right;\n",
       "    }\n",
       "</style>\n",
       "<table border=\"1\" class=\"dataframe\">\n",
       "  <thead>\n",
       "    <tr style=\"text-align: right;\">\n",
       "      <th></th>\n",
       "      <th>object_name</th>\n",
       "      <th>count</th>\n",
       "      <th>mean</th>\n",
       "      <th>count_sort</th>\n",
       "      <th>number_sort</th>\n",
       "    </tr>\n",
       "  </thead>\n",
       "  <tbody>\n",
       "    <tr>\n",
       "      <th>0</th>\n",
       "      <td>beverly hills diner</td>\n",
       "      <td>1</td>\n",
       "      <td>88.00</td>\n",
       "      <td>мало зав./</td>\n",
       "      <td>много мест</td>\n",
       "    </tr>\n",
       "    <tr>\n",
       "      <th>1</th>\n",
       "      <td>bierloga</td>\n",
       "      <td>1</td>\n",
       "      <td>75.00</td>\n",
       "      <td>мало зав./</td>\n",
       "      <td>много мест</td>\n",
       "    </tr>\n",
       "    <tr>\n",
       "      <th>2</th>\n",
       "      <td>black &amp; white</td>\n",
       "      <td>1</td>\n",
       "      <td>40.00</td>\n",
       "      <td>мало зав./</td>\n",
       "      <td>мало мест</td>\n",
       "    </tr>\n",
       "    <tr>\n",
       "      <th>3</th>\n",
       "      <td>bocconcino</td>\n",
       "      <td>3</td>\n",
       "      <td>66.67</td>\n",
       "      <td>мало зав./</td>\n",
       "      <td>много мест</td>\n",
       "    </tr>\n",
       "    <tr>\n",
       "      <th>4</th>\n",
       "      <td>boobo</td>\n",
       "      <td>1</td>\n",
       "      <td>46.00</td>\n",
       "      <td>мало зав./</td>\n",
       "      <td>много мест</td>\n",
       "    </tr>\n",
       "    <tr>\n",
       "      <th>...</th>\n",
       "      <td>...</td>\n",
       "      <td>...</td>\n",
       "      <td>...</td>\n",
       "      <td>...</td>\n",
       "      <td>...</td>\n",
       "    </tr>\n",
       "    <tr>\n",
       "      <th>572</th>\n",
       "      <td>ямми микс</td>\n",
       "      <td>1</td>\n",
       "      <td>2.00</td>\n",
       "      <td>мало зав./</td>\n",
       "      <td>мало мест</td>\n",
       "    </tr>\n",
       "    <tr>\n",
       "      <th>573</th>\n",
       "      <td>ян примус</td>\n",
       "      <td>1</td>\n",
       "      <td>300.00</td>\n",
       "      <td>мало зав./</td>\n",
       "      <td>много мест</td>\n",
       "    </tr>\n",
       "    <tr>\n",
       "      <th>574</th>\n",
       "      <td>японский ресторан «ваби-саби»</td>\n",
       "      <td>1</td>\n",
       "      <td>155.00</td>\n",
       "      <td>мало зав./</td>\n",
       "      <td>много мест</td>\n",
       "    </tr>\n",
       "    <tr>\n",
       "      <th>575</th>\n",
       "      <td>япоша</td>\n",
       "      <td>2</td>\n",
       "      <td>105.00</td>\n",
       "      <td>мало зав./</td>\n",
       "      <td>много мест</td>\n",
       "    </tr>\n",
       "    <tr>\n",
       "      <th>576</th>\n",
       "      <td>ёрш</td>\n",
       "      <td>4</td>\n",
       "      <td>112.25</td>\n",
       "      <td>мало зав./</td>\n",
       "      <td>много мест</td>\n",
       "    </tr>\n",
       "  </tbody>\n",
       "</table>\n",
       "<p>577 rows × 5 columns</p>\n",
       "</div>"
      ],
      "text/plain": [
       "                       object_name  count   mean  count_sort number_sort\n",
       "0              beverly hills diner      1  88.00  мало зав./  много мест\n",
       "1                         bierloga      1  75.00  мало зав./  много мест\n",
       "2                    black & white      1  40.00  мало зав./   мало мест\n",
       "3                       bocconcino      3  66.67  мало зав./  много мест\n",
       "4                            boobo      1  46.00  мало зав./  много мест\n",
       "..                             ...    ...    ...         ...         ...\n",
       "572                      ямми микс      1   2.00  мало зав./   мало мест\n",
       "573                      ян примус      1 300.00  мало зав./  много мест\n",
       "574  японский ресторан «ваби-саби»      1 155.00  мало зав./  много мест\n",
       "575                          япоша      2 105.00  мало зав./  много мест\n",
       "576                            ёрш      4 112.25  мало зав./  много мест\n",
       "\n",
       "[577 rows x 5 columns]"
      ]
     },
     "execution_count": 38,
     "metadata": {},
     "output_type": "execute_result"
    }
   ],
   "source": [
    "t"
   ]
  },
  {
   "cell_type": "code",
   "execution_count": 39,
   "metadata": {},
   "outputs": [],
   "source": [
    "t['category'] = t['count_sort'] + t['number_sort']"
   ]
  },
  {
   "cell_type": "code",
   "execution_count": 40,
   "metadata": {},
   "outputs": [],
   "source": [
    "t = t[['object_name', 'count', 'mean', 'category']]"
   ]
  },
  {
   "cell_type": "code",
   "execution_count": 41,
   "metadata": {},
   "outputs": [
    {
     "data": {
      "text/html": [
       "<div>\n",
       "<style scoped>\n",
       "    .dataframe tbody tr th:only-of-type {\n",
       "        vertical-align: middle;\n",
       "    }\n",
       "\n",
       "    .dataframe tbody tr th {\n",
       "        vertical-align: top;\n",
       "    }\n",
       "\n",
       "    .dataframe thead th {\n",
       "        text-align: right;\n",
       "    }\n",
       "</style>\n",
       "<table border=\"1\" class=\"dataframe\">\n",
       "  <thead>\n",
       "    <tr style=\"text-align: right;\">\n",
       "      <th></th>\n",
       "      <th>object_name</th>\n",
       "      <th>count</th>\n",
       "      <th>mean</th>\n",
       "      <th>category</th>\n",
       "    </tr>\n",
       "  </thead>\n",
       "  <tbody>\n",
       "    <tr>\n",
       "      <th>0</th>\n",
       "      <td>beverly hills diner</td>\n",
       "      <td>1</td>\n",
       "      <td>88.00</td>\n",
       "      <td>мало зав./много мест</td>\n",
       "    </tr>\n",
       "    <tr>\n",
       "      <th>1</th>\n",
       "      <td>bierloga</td>\n",
       "      <td>1</td>\n",
       "      <td>75.00</td>\n",
       "      <td>мало зав./много мест</td>\n",
       "    </tr>\n",
       "    <tr>\n",
       "      <th>2</th>\n",
       "      <td>black &amp; white</td>\n",
       "      <td>1</td>\n",
       "      <td>40.00</td>\n",
       "      <td>мало зав./мало мест</td>\n",
       "    </tr>\n",
       "    <tr>\n",
       "      <th>3</th>\n",
       "      <td>bocconcino</td>\n",
       "      <td>3</td>\n",
       "      <td>66.67</td>\n",
       "      <td>мало зав./много мест</td>\n",
       "    </tr>\n",
       "    <tr>\n",
       "      <th>4</th>\n",
       "      <td>boobo</td>\n",
       "      <td>1</td>\n",
       "      <td>46.00</td>\n",
       "      <td>мало зав./много мест</td>\n",
       "    </tr>\n",
       "    <tr>\n",
       "      <th>...</th>\n",
       "      <td>...</td>\n",
       "      <td>...</td>\n",
       "      <td>...</td>\n",
       "      <td>...</td>\n",
       "    </tr>\n",
       "    <tr>\n",
       "      <th>572</th>\n",
       "      <td>ямми микс</td>\n",
       "      <td>1</td>\n",
       "      <td>2.00</td>\n",
       "      <td>мало зав./мало мест</td>\n",
       "    </tr>\n",
       "    <tr>\n",
       "      <th>573</th>\n",
       "      <td>ян примус</td>\n",
       "      <td>1</td>\n",
       "      <td>300.00</td>\n",
       "      <td>мало зав./много мест</td>\n",
       "    </tr>\n",
       "    <tr>\n",
       "      <th>574</th>\n",
       "      <td>японский ресторан «ваби-саби»</td>\n",
       "      <td>1</td>\n",
       "      <td>155.00</td>\n",
       "      <td>мало зав./много мест</td>\n",
       "    </tr>\n",
       "    <tr>\n",
       "      <th>575</th>\n",
       "      <td>япоша</td>\n",
       "      <td>2</td>\n",
       "      <td>105.00</td>\n",
       "      <td>мало зав./много мест</td>\n",
       "    </tr>\n",
       "    <tr>\n",
       "      <th>576</th>\n",
       "      <td>ёрш</td>\n",
       "      <td>4</td>\n",
       "      <td>112.25</td>\n",
       "      <td>мало зав./много мест</td>\n",
       "    </tr>\n",
       "  </tbody>\n",
       "</table>\n",
       "<p>577 rows × 4 columns</p>\n",
       "</div>"
      ],
      "text/plain": [
       "                       object_name  count   mean              category\n",
       "0              beverly hills diner      1  88.00  мало зав./много мест\n",
       "1                         bierloga      1  75.00  мало зав./много мест\n",
       "2                    black & white      1  40.00   мало зав./мало мест\n",
       "3                       bocconcino      3  66.67  мало зав./много мест\n",
       "4                            boobo      1  46.00  мало зав./много мест\n",
       "..                             ...    ...    ...                   ...\n",
       "572                      ямми микс      1   2.00   мало зав./мало мест\n",
       "573                      ян примус      1 300.00  мало зав./много мест\n",
       "574  японский ресторан «ваби-саби»      1 155.00  мало зав./много мест\n",
       "575                          япоша      2 105.00  мало зав./много мест\n",
       "576                            ёрш      4 112.25  мало зав./много мест\n",
       "\n",
       "[577 rows x 4 columns]"
      ]
     },
     "execution_count": 41,
     "metadata": {},
     "output_type": "execute_result"
    }
   ],
   "source": [
    "t"
   ]
  },
  {
   "cell_type": "code",
   "execution_count": 42,
   "metadata": {},
   "outputs": [],
   "source": [
    "cat = t.query(\n",
    "    'category == \"много зав./мало мест\" or category == \"мало зав./много мест\"')"
   ]
  },
  {
   "cell_type": "code",
   "execution_count": 43,
   "metadata": {},
   "outputs": [],
   "source": [
    "x_values = pd.Series(range(0, len(t.query(\n",
    "    'category == \"много зав./мало мест\" or category == \"мало зав./много мест\"')['category'])))"
   ]
  },
  {
   "cell_type": "code",
   "execution_count": 44,
   "metadata": {},
   "outputs": [],
   "source": [
    "y_values = t.query(\n",
    "    'category == \"много зав./мало мест\" or category == \"мало зав./много мест\"')['category']"
   ]
  },
  {
   "cell_type": "code",
   "execution_count": 45,
   "metadata": {},
   "outputs": [
    {
     "data": {
      "image/png": "[encoded data removed]",
      "text/plain": [
       "<Figure size 1008x432 with 1 Axes>"
      ]
     },
     "metadata": {
      "needs_background": "light"
     },
     "output_type": "display_data"
    }
   ],
   "source": [
    "plt.scatter(x_values, y_values)\n",
    "\n",
    "plt.title('Количество мест среди сетевых заведений', fontdict=font)\n",
    "plt.xlabel('заведения', fontdict=font)\n",
    "plt.ylabel('количество посадочных мест (шт.)', fontdict=font)\n",
    "plt.show()"
   ]
  },
  {
   "cell_type": "markdown",
   "metadata": {
    "id": "ijJ_1dp9GKxN"
   },
   "source": [
    "### Для сетевых заведений характерно, мало заведений и много мест."
   ]
  },
  {
   "cell_type": "markdown",
   "metadata": {
    "id": "ep7cBJGJTd1o"
   },
   "source": [
    "## Какой вид предоставляет в среднем самое большое количество посадочных мест?"
   ]
  },
  {
   "cell_type": "code",
   "execution_count": 46,
   "metadata": {
    "colab": {
     "base_uri": "https://localhost:8080/"
    },
    "id": "53TiVq4jJZE-",
    "outputId": "bfa02fe2-d110-421e-d621-7bc69493fec0"
   },
   "outputs": [
    {
     "data": {
      "text/plain": [
       "array([  0. ,   0. , 215.4, 300. ])"
      ]
     },
     "execution_count": 46,
     "metadata": {},
     "output_type": "execute_result"
    }
   ],
   "source": [
    "np.percentile(df['number'], [1, 5, 95, 99])"
   ]
  },
  {
   "cell_type": "code",
   "execution_count": 47,
   "metadata": {
    "colab": {
     "base_uri": "https://localhost:8080/",
     "height": 414
    },
    "id": "jbwMXiARJOfB",
    "outputId": "3ba9233e-4025-46fd-e31b-5db0e2040ea2"
   },
   "outputs": [
    {
     "data": {
      "image/png": "[encoded data removed]",
      "text/plain": [
       "<Figure size 1008x432 with 1 Axes>"
      ]
     },
     "metadata": {
      "needs_background": "light"
     },
     "output_type": "display_data"
    }
   ],
   "source": [
    "ax = sns.boxplot(x='number', y='object_type', data=df.query('number < 300'))\n",
    "\n",
    "plt.title('Количество мест', fontdict=font)\n",
    "plt.xlabel('количество посадочных мест (шт.)', fontdict=font)\n",
    "plt.ylabel('тип объекта', fontdict=font)\n",
    "plt.show()"
   ]
  },
  {
   "cell_type": "code",
   "execution_count": 48,
   "metadata": {
    "id": "9nEn3SP4TdPE"
   },
   "outputs": [],
   "source": [
    "object_type_numbers_mean = df.groupby('object_type')['number'].agg(\n",
    "    ['count', 'mean', 'median']).sort_values('mean', ascending=False)"
   ]
  },
  {
   "cell_type": "code",
   "execution_count": 49,
   "metadata": {
    "colab": {
     "base_uri": "https://localhost:8080/",
     "height": 363
    },
    "id": "cAkX3qV_V4gU",
    "outputId": "73e5c46d-1829-4e71-a290-b0120fbe1889"
   },
   "outputs": [
    {
     "data": {
      "text/html": [
       "<div>\n",
       "<style scoped>\n",
       "    .dataframe tbody tr th:only-of-type {\n",
       "        vertical-align: middle;\n",
       "    }\n",
       "\n",
       "    .dataframe tbody tr th {\n",
       "        vertical-align: top;\n",
       "    }\n",
       "\n",
       "    .dataframe thead th {\n",
       "        text-align: right;\n",
       "    }\n",
       "</style>\n",
       "<table border=\"1\" class=\"dataframe\">\n",
       "  <thead>\n",
       "    <tr style=\"text-align: right;\">\n",
       "      <th></th>\n",
       "      <th>count</th>\n",
       "      <th>mean</th>\n",
       "      <th>median</th>\n",
       "    </tr>\n",
       "    <tr>\n",
       "      <th>object_type</th>\n",
       "      <th></th>\n",
       "      <th></th>\n",
       "      <th></th>\n",
       "    </tr>\n",
       "  </thead>\n",
       "  <tbody>\n",
       "    <tr>\n",
       "      <th>столовая</th>\n",
       "      <td>2584</td>\n",
       "      <td>130.34</td>\n",
       "      <td>103</td>\n",
       "    </tr>\n",
       "    <tr>\n",
       "      <th>ресторан</th>\n",
       "      <td>2281</td>\n",
       "      <td>96.93</td>\n",
       "      <td>80</td>\n",
       "    </tr>\n",
       "    <tr>\n",
       "      <th>буфет</th>\n",
       "      <td>575</td>\n",
       "      <td>51.51</td>\n",
       "      <td>32</td>\n",
       "    </tr>\n",
       "    <tr>\n",
       "      <th>бар</th>\n",
       "      <td>854</td>\n",
       "      <td>43.58</td>\n",
       "      <td>35</td>\n",
       "    </tr>\n",
       "    <tr>\n",
       "      <th>кафе</th>\n",
       "      <td>6068</td>\n",
       "      <td>39.79</td>\n",
       "      <td>30</td>\n",
       "    </tr>\n",
       "    <tr>\n",
       "      <th>фаст-фуд</th>\n",
       "      <td>1897</td>\n",
       "      <td>20.81</td>\n",
       "      <td>6</td>\n",
       "    </tr>\n",
       "    <tr>\n",
       "      <th>кафетерий</th>\n",
       "      <td>395</td>\n",
       "      <td>9.18</td>\n",
       "      <td>6</td>\n",
       "    </tr>\n",
       "    <tr>\n",
       "      <th>закусочная</th>\n",
       "      <td>346</td>\n",
       "      <td>7.67</td>\n",
       "      <td>0</td>\n",
       "    </tr>\n",
       "    <tr>\n",
       "      <th>кулинария</th>\n",
       "      <td>273</td>\n",
       "      <td>5.59</td>\n",
       "      <td>0</td>\n",
       "    </tr>\n",
       "  </tbody>\n",
       "</table>\n",
       "</div>"
      ],
      "text/plain": [
       "             count   mean  median\n",
       "object_type                      \n",
       "столовая      2584 130.34     103\n",
       "ресторан      2281  96.93      80\n",
       "буфет          575  51.51      32\n",
       "бар            854  43.58      35\n",
       "кафе          6068  39.79      30\n",
       "фаст-фуд      1897  20.81       6\n",
       "кафетерий      395   9.18       6\n",
       "закусочная     346   7.67       0\n",
       "кулинария      273   5.59       0"
      ]
     },
     "execution_count": 49,
     "metadata": {},
     "output_type": "execute_result"
    }
   ],
   "source": [
    "object_type_numbers_mean"
   ]
  },
  {
   "cell_type": "code",
   "execution_count": 50,
   "metadata": {
    "colab": {
     "base_uri": "https://localhost:8080/",
     "height": 414
    },
    "id": "Z2WaTN8DTtui",
    "outputId": "6a22b3c3-010c-4a74-e1c8-54eca2352353"
   },
   "outputs": [
    {
     "data": {
      "image/png": "[encoded data removed]",
      "text/plain": [
       "<Figure size 1008x432 with 1 Axes>"
      ]
     },
     "metadata": {
      "needs_background": "light"
     },
     "output_type": "display_data"
    }
   ],
   "source": [
    "object_type_numbers_mean['mean'].plot.bar()\n",
    "\n",
    "plt.title('Cреднее количество посадочных мест', fontdict=font)\n",
    "plt.legend()\n",
    "plt.xticks(rotation=0)\n",
    "plt.xlabel('вид объекта', fontdict=font)\n",
    "plt.ylabel('среднее количество мест (шт.)', fontdict=font)\n",
    "plt.ylim(0)\n",
    "plt.grid(True)\n",
    "plt.show()"
   ]
  },
  {
   "cell_type": "markdown",
   "metadata": {
    "id": "_SnuXjVz1Tlb"
   },
   "source": [
    "### Столовая имеет самое большое количество мест среди заведений."
   ]
  },
  {
   "cell_type": "markdown",
   "metadata": {
    "id": "QreW4ZSkWVQz"
   },
   "source": [
    "## Выделите в отдельный столбец информацию об улице из столбца address"
   ]
  },
  {
   "cell_type": "code",
   "execution_count": 51,
   "metadata": {
    "id": "BJgU9Q8UH0up"
   },
   "outputs": [],
   "source": [
    "# забираем часть строки с названием улицы\n",
    "address = df['address'].to_list()\n",
    "streets = []\n",
    "\n",
    "for street in address:\n",
    "    start = street.find(', ')\n",
    "    end = street.find('дом ')\n",
    "    streets.append(street[start+1:end-2])"
   ]
  },
  {
   "cell_type": "code",
   "execution_count": 52,
   "metadata": {
    "id": "bmprOZbw1f0Z"
   },
   "outputs": [],
   "source": [
    "df['street'] = streets"
   ]
  },
  {
   "cell_type": "code",
   "execution_count": 53,
   "metadata": {
    "colab": {
     "base_uri": "https://localhost:8080/",
     "height": 206
    },
    "id": "lNJP6B-eBN-a",
    "outputId": "a0b2dc45-3fec-4fb1-d454-9a9690663e15"
   },
   "outputs": [
    {
     "data": {
      "text/html": [
       "<div>\n",
       "<style scoped>\n",
       "    .dataframe tbody tr th:only-of-type {\n",
       "        vertical-align: middle;\n",
       "    }\n",
       "\n",
       "    .dataframe tbody tr th {\n",
       "        vertical-align: top;\n",
       "    }\n",
       "\n",
       "    .dataframe thead th {\n",
       "        text-align: right;\n",
       "    }\n",
       "</style>\n",
       "<table border=\"1\" class=\"dataframe\">\n",
       "  <thead>\n",
       "    <tr style=\"text-align: right;\">\n",
       "      <th></th>\n",
       "      <th>id</th>\n",
       "      <th>object_name</th>\n",
       "      <th>chain</th>\n",
       "      <th>object_type</th>\n",
       "      <th>address</th>\n",
       "      <th>number</th>\n",
       "      <th>street</th>\n",
       "    </tr>\n",
       "  </thead>\n",
       "  <tbody>\n",
       "    <tr>\n",
       "      <th>0</th>\n",
       "      <td>151635</td>\n",
       "      <td>сметана</td>\n",
       "      <td>нет</td>\n",
       "      <td>кафе</td>\n",
       "      <td>город москва, улица егора абакумова, дом 9</td>\n",
       "      <td>48</td>\n",
       "      <td>улица егора абакумова</td>\n",
       "    </tr>\n",
       "    <tr>\n",
       "      <th>1</th>\n",
       "      <td>77874</td>\n",
       "      <td>родник</td>\n",
       "      <td>нет</td>\n",
       "      <td>кафе</td>\n",
       "      <td>город москва, улица талалихина, дом 2/1, корпус 1</td>\n",
       "      <td>35</td>\n",
       "      <td>улица талалихина</td>\n",
       "    </tr>\n",
       "    <tr>\n",
       "      <th>2</th>\n",
       "      <td>24309</td>\n",
       "      <td>кафе «академия»</td>\n",
       "      <td>нет</td>\n",
       "      <td>кафе</td>\n",
       "      <td>город москва, абельмановская улица, дом 6</td>\n",
       "      <td>95</td>\n",
       "      <td>абельмановская улица</td>\n",
       "    </tr>\n",
       "    <tr>\n",
       "      <th>3</th>\n",
       "      <td>21894</td>\n",
       "      <td>пиццетория</td>\n",
       "      <td>да</td>\n",
       "      <td>кафе</td>\n",
       "      <td>город москва, абрамцевская улица, дом 1</td>\n",
       "      <td>40</td>\n",
       "      <td>абрамцевская улица</td>\n",
       "    </tr>\n",
       "    <tr>\n",
       "      <th>4</th>\n",
       "      <td>119365</td>\n",
       "      <td>кафе «вишневая метель»</td>\n",
       "      <td>нет</td>\n",
       "      <td>кафе</td>\n",
       "      <td>город москва, абрамцевская улица, дом 9, корпус 1</td>\n",
       "      <td>50</td>\n",
       "      <td>абрамцевская улица</td>\n",
       "    </tr>\n",
       "  </tbody>\n",
       "</table>\n",
       "</div>"
      ],
      "text/plain": [
       "       id             object_name chain object_type  \\\n",
       "0  151635                 сметана   нет        кафе   \n",
       "1   77874                  родник   нет        кафе   \n",
       "2   24309         кафе «академия»   нет        кафе   \n",
       "3   21894              пиццетория    да        кафе   \n",
       "4  119365  кафе «вишневая метель»   нет        кафе   \n",
       "\n",
       "                                             address  number  \\\n",
       "0         город москва, улица егора абакумова, дом 9      48   \n",
       "1  город москва, улица талалихина, дом 2/1, корпус 1      35   \n",
       "2          город москва, абельмановская улица, дом 6      95   \n",
       "3            город москва, абрамцевская улица, дом 1      40   \n",
       "4  город москва, абрамцевская улица, дом 9, корпус 1      50   \n",
       "\n",
       "                   street  \n",
       "0   улица егора абакумова  \n",
       "1        улица талалихина  \n",
       "2    абельмановская улица  \n",
       "3      абрамцевская улица  \n",
       "4      абрамцевская улица  "
      ]
     },
     "execution_count": 53,
     "metadata": {},
     "output_type": "execute_result"
    }
   ],
   "source": [
    "df.head()"
   ]
  },
  {
   "cell_type": "markdown",
   "metadata": {
    "id": "c9JMGohJjTjp"
   },
   "source": [
    "## График топ-10 улиц по количеству объектов общественного питания. В каких районах Москвы находятся эти улицы?"
   ]
  },
  {
   "cell_type": "code",
   "execution_count": 54,
   "metadata": {
    "id": "C8ca6caqjWxy"
   },
   "outputs": [],
   "source": [
    "top_10_street = df.groupby(['street'])['id'].agg(\n",
    "    ['count']).sort_values('count', ascending=False).head(10)"
   ]
  },
  {
   "cell_type": "code",
   "execution_count": 55,
   "metadata": {
    "colab": {
     "base_uri": "https://localhost:8080/",
     "height": 394
    },
    "id": "jWsc3Cu6-PMk",
    "outputId": "a34b81fd-0000-46f9-99e2-7b33e0d83c5c"
   },
   "outputs": [
    {
     "data": {
      "text/html": [
       "<div>\n",
       "<style scoped>\n",
       "    .dataframe tbody tr th:only-of-type {\n",
       "        vertical-align: middle;\n",
       "    }\n",
       "\n",
       "    .dataframe tbody tr th {\n",
       "        vertical-align: top;\n",
       "    }\n",
       "\n",
       "    .dataframe thead th {\n",
       "        text-align: right;\n",
       "    }\n",
       "</style>\n",
       "<table border=\"1\" class=\"dataframe\">\n",
       "  <thead>\n",
       "    <tr style=\"text-align: right;\">\n",
       "      <th></th>\n",
       "      <th>count</th>\n",
       "    </tr>\n",
       "    <tr>\n",
       "      <th>street</th>\n",
       "      <th></th>\n",
       "    </tr>\n",
       "  </thead>\n",
       "  <tbody>\n",
       "    <tr>\n",
       "      <th>проспект мира</th>\n",
       "      <td>203</td>\n",
       "    </tr>\n",
       "    <tr>\n",
       "      <th>профсоюзная улица</th>\n",
       "      <td>181</td>\n",
       "    </tr>\n",
       "    <tr>\n",
       "      <th>ленинградский проспект</th>\n",
       "      <td>169</td>\n",
       "    </tr>\n",
       "    <tr>\n",
       "      <th>пресненская набережная</th>\n",
       "      <td>167</td>\n",
       "    </tr>\n",
       "    <tr>\n",
       "      <th>варшавское шоссе</th>\n",
       "      <td>155</td>\n",
       "    </tr>\n",
       "    <tr>\n",
       "      <th>ленинский проспект</th>\n",
       "      <td>147</td>\n",
       "    </tr>\n",
       "    <tr>\n",
       "      <th>проспект вернадского</th>\n",
       "      <td>127</td>\n",
       "    </tr>\n",
       "    <tr>\n",
       "      <th>кутузовский проспект</th>\n",
       "      <td>114</td>\n",
       "    </tr>\n",
       "    <tr>\n",
       "      <th>каширское шоссе</th>\n",
       "      <td>103</td>\n",
       "    </tr>\n",
       "    <tr>\n",
       "      <th>ходынский бульвар</th>\n",
       "      <td>102</td>\n",
       "    </tr>\n",
       "  </tbody>\n",
       "</table>\n",
       "</div>"
      ],
      "text/plain": [
       "                         count\n",
       "street                        \n",
       " проспект мира             203\n",
       " профсоюзная улица         181\n",
       " ленинградский проспект    169\n",
       " пресненская набережная    167\n",
       " варшавское шоссе          155\n",
       " ленинский проспект        147\n",
       " проспект вернадского      127\n",
       " кутузовский проспект      114\n",
       " каширское шоссе           103\n",
       " ходынский бульвар         102"
      ]
     },
     "execution_count": 55,
     "metadata": {},
     "output_type": "execute_result"
    }
   ],
   "source": [
    "top_10_street"
   ]
  },
  {
   "cell_type": "code",
   "execution_count": 56,
   "metadata": {
    "colab": {
     "base_uri": "https://localhost:8080/",
     "height": 414
    },
    "id": "TfqVAkTTIsS4",
    "outputId": "e5c4c64f-cdd9-4b7e-8770-2b15094b06d0",
    "scrolled": false
   },
   "outputs": [
    {
     "data": {
      "image/png": "[encoded data removed]",
      "text/plain": [
       "<Figure size 1008x432 with 1 Axes>"
      ]
     },
     "metadata": {
      "needs_background": "light"
     },
     "output_type": "display_data"
    }
   ],
   "source": [
    "ax = sns.barplot(x='count', y=top_10_street.index, data=top_10_street)\n",
    "ax.set_title('Топ 10 количества заведений по названию улицы', fontdict=font)\n",
    "ax.set_xlabel('количество объектов (шт.)', fontdict=font)\n",
    "ax.set_ylabel('название улицы', fontdict=font)\n",
    "plt.show()"
   ]
  },
  {
   "cell_type": "markdown",
   "metadata": {
    "id": "hcWwhizJGWVz"
   },
   "source": [
    "## Загрузка внешних данных по районам"
   ]
  },
  {
   "cell_type": "markdown",
   "metadata": {
    "id": "6qICWwQxEzdV"
   },
   "source": [
    "ссылка где скачать доп файл, но он грузит через раз pd.read_csv()\n",
    "\n",
    "https://frs.noosphere.ru/xmlui/bitstream/handle/20.500.11925/714058/mosgaz-streets.csv?sequence=1&isAllowed=y"
   ]
  },
  {
   "cell_type": "markdown",
   "metadata": {
    "id": "lqD7WgBoMdNG"
   },
   "source": [
    "ссылка с гугл  \n",
    "\n",
    "https://drive.google.com/file/d/1tcWhobTTHXSc7i-AUev9eJD3XMPbEuoi/view?usp=sharing"
   ]
  },
  {
   "cell_type": "code",
   "execution_count": 57,
   "metadata": {
    "colab": {
     "base_uri": "https://localhost:8080/"
    },
    "id": "ByatUYikPThL",
    "outputId": "1f1aeeab-14df-40b0-d9ff-0dfa6d799a7e"
   },
   "outputs": [
    {
     "name": "stdout",
     "output_type": "stream",
     "text": [
      "/bin/bash: gdown: command not found\r\n"
     ]
    }
   ],
   "source": [
    "!gdown 1tcWhobTTHXSc7i-AUev9eJD3XMPbEuoi"
   ]
  },
  {
   "cell_type": "code",
   "execution_count": 58,
   "metadata": {
    "id": "j5ttDYB_Paf3"
   },
   "outputs": [],
   "source": [
    "# я не знаю что делать, то грузит то бесконечная загрузка идет через noosphere...\n",
    "try:\n",
    "    street = pd.read_csv('/content/mosgaz_streets.csv')\n",
    "except:\n",
    "    street = pd.read_csv(\n",
    "        'https://frs.noosphere.ru/xmlui/bitstream/handle/20.500.11925/714058/mosgaz-streets.csv?sequence=1&isAllowed=y')"
   ]
  },
  {
   "cell_type": "code",
   "execution_count": 59,
   "metadata": {
    "colab": {
     "base_uri": "https://localhost:8080/",
     "height": 206
    },
    "id": "0grjA0VsFIZF",
    "outputId": "fe2066e3-cb63-4e91-9b15-223005f01847"
   },
   "outputs": [
    {
     "data": {
      "text/html": [
       "<div>\n",
       "<style scoped>\n",
       "    .dataframe tbody tr th:only-of-type {\n",
       "        vertical-align: middle;\n",
       "    }\n",
       "\n",
       "    .dataframe tbody tr th {\n",
       "        vertical-align: top;\n",
       "    }\n",
       "\n",
       "    .dataframe thead th {\n",
       "        text-align: right;\n",
       "    }\n",
       "</style>\n",
       "<table border=\"1\" class=\"dataframe\">\n",
       "  <thead>\n",
       "    <tr style=\"text-align: right;\">\n",
       "      <th></th>\n",
       "      <th>streetname</th>\n",
       "      <th>areaid</th>\n",
       "      <th>okrug</th>\n",
       "      <th>area</th>\n",
       "    </tr>\n",
       "  </thead>\n",
       "  <tbody>\n",
       "    <tr>\n",
       "      <th>0</th>\n",
       "      <td>Выставочный переулок</td>\n",
       "      <td>17</td>\n",
       "      <td>ЦАО</td>\n",
       "      <td>Пресненский район</td>\n",
       "    </tr>\n",
       "    <tr>\n",
       "      <th>1</th>\n",
       "      <td>улица Гашека</td>\n",
       "      <td>17</td>\n",
       "      <td>ЦАО</td>\n",
       "      <td>Пресненский район</td>\n",
       "    </tr>\n",
       "    <tr>\n",
       "      <th>2</th>\n",
       "      <td>Большая Никитская улица</td>\n",
       "      <td>17</td>\n",
       "      <td>ЦАО</td>\n",
       "      <td>Пресненский район</td>\n",
       "    </tr>\n",
       "    <tr>\n",
       "      <th>3</th>\n",
       "      <td>Глубокий переулок</td>\n",
       "      <td>17</td>\n",
       "      <td>ЦАО</td>\n",
       "      <td>Пресненский район</td>\n",
       "    </tr>\n",
       "    <tr>\n",
       "      <th>4</th>\n",
       "      <td>Большой Гнездниковский переулок</td>\n",
       "      <td>17</td>\n",
       "      <td>ЦАО</td>\n",
       "      <td>Пресненский район</td>\n",
       "    </tr>\n",
       "  </tbody>\n",
       "</table>\n",
       "</div>"
      ],
      "text/plain": [
       "                        streetname  areaid okrug               area\n",
       "0             Выставочный переулок      17   ЦАО  Пресненский район\n",
       "1                     улица Гашека      17   ЦАО  Пресненский район\n",
       "2          Большая Никитская улица      17   ЦАО  Пресненский район\n",
       "3                Глубокий переулок      17   ЦАО  Пресненский район\n",
       "4  Большой Гнездниковский переулок      17   ЦАО  Пресненский район"
      ]
     },
     "execution_count": 59,
     "metadata": {},
     "output_type": "execute_result"
    }
   ],
   "source": [
    "street.head()"
   ]
  },
  {
   "cell_type": "code",
   "execution_count": 60,
   "metadata": {
    "id": "qvrow-b_jFkm"
   },
   "outputs": [],
   "source": [
    "street = street[['streetname', 'area']]"
   ]
  },
  {
   "cell_type": "code",
   "execution_count": 61,
   "metadata": {
    "id": "o8ZJYOasjabw"
   },
   "outputs": [],
   "source": [
    "street.columns = ['street', 'area']"
   ]
  },
  {
   "cell_type": "code",
   "execution_count": 62,
   "metadata": {
    "colab": {
     "base_uri": "https://localhost:8080/"
    },
    "id": "ZGZJIHM0jPHp",
    "outputId": "b58dcea9-7707-41fa-c0d4-2681cc97bfeb"
   },
   "outputs": [],
   "source": [
    "street['street'] = street['street'].str.lower().str.strip()"
   ]
  },
  {
   "cell_type": "code",
   "execution_count": 63,
   "metadata": {
    "id": "_lApVxEIjlR4"
   },
   "outputs": [],
   "source": [
    "top_10_street = top_10_street.reset_index()"
   ]
  },
  {
   "cell_type": "code",
   "execution_count": 64,
   "metadata": {
    "id": "af3pzn-Rju-0"
   },
   "outputs": [],
   "source": [
    "top_10_street['street'] = top_10_street['street'].str.lower().str.strip()"
   ]
  },
  {
   "cell_type": "code",
   "execution_count": 65,
   "metadata": {},
   "outputs": [
    {
     "data": {
      "text/html": [
       "<div>\n",
       "<style scoped>\n",
       "    .dataframe tbody tr th:only-of-type {\n",
       "        vertical-align: middle;\n",
       "    }\n",
       "\n",
       "    .dataframe tbody tr th {\n",
       "        vertical-align: top;\n",
       "    }\n",
       "\n",
       "    .dataframe thead th {\n",
       "        text-align: right;\n",
       "    }\n",
       "</style>\n",
       "<table border=\"1\" class=\"dataframe\">\n",
       "  <thead>\n",
       "    <tr style=\"text-align: right;\">\n",
       "      <th></th>\n",
       "      <th></th>\n",
       "      <th>count</th>\n",
       "    </tr>\n",
       "    <tr>\n",
       "      <th>street</th>\n",
       "      <th>area</th>\n",
       "      <th></th>\n",
       "    </tr>\n",
       "  </thead>\n",
       "  <tbody>\n",
       "    <tr>\n",
       "      <th rowspan=\"8\" valign=\"top\">варшавское шоссе</th>\n",
       "      <th>Донской район</th>\n",
       "      <td>1</td>\n",
       "    </tr>\n",
       "    <tr>\n",
       "      <th>Нагорный район</th>\n",
       "      <td>1</td>\n",
       "    </tr>\n",
       "    <tr>\n",
       "      <th>Район Нагатино-Садовники</th>\n",
       "      <td>1</td>\n",
       "    </tr>\n",
       "    <tr>\n",
       "      <th>Район Северное Бутово</th>\n",
       "      <td>1</td>\n",
       "    </tr>\n",
       "    <tr>\n",
       "      <th>Район Чертаново Северное</th>\n",
       "      <td>1</td>\n",
       "    </tr>\n",
       "    <tr>\n",
       "      <th>Район Чертаново Центральное</th>\n",
       "      <td>1</td>\n",
       "    </tr>\n",
       "    <tr>\n",
       "      <th>Район Чертаново Южное</th>\n",
       "      <td>1</td>\n",
       "    </tr>\n",
       "    <tr>\n",
       "      <th>Район Южное Бутово</th>\n",
       "      <td>1</td>\n",
       "    </tr>\n",
       "    <tr>\n",
       "      <th rowspan=\"4\" valign=\"top\">каширское шоссе</th>\n",
       "      <th>Район Москворечье-Сабурово</th>\n",
       "      <td>1</td>\n",
       "    </tr>\n",
       "    <tr>\n",
       "      <th>Район Нагатино-Садовники</th>\n",
       "      <td>1</td>\n",
       "    </tr>\n",
       "    <tr>\n",
       "      <th>Район Орехово-Борисово Северное</th>\n",
       "      <td>1</td>\n",
       "    </tr>\n",
       "    <tr>\n",
       "      <th>Район Орехово-Борисово Южное</th>\n",
       "      <td>1</td>\n",
       "    </tr>\n",
       "    <tr>\n",
       "      <th rowspan=\"2\" valign=\"top\">кутузовский проспект</th>\n",
       "      <th>Район Дорогомилово</th>\n",
       "      <td>1</td>\n",
       "    </tr>\n",
       "    <tr>\n",
       "      <th>Район Фили-Давыдково</th>\n",
       "      <td>1</td>\n",
       "    </tr>\n",
       "    <tr>\n",
       "      <th rowspan=\"4\" valign=\"top\">ленинградский проспект</th>\n",
       "      <th>Район Аэропорт</th>\n",
       "      <td>1</td>\n",
       "    </tr>\n",
       "    <tr>\n",
       "      <th>Район Беговой</th>\n",
       "      <td>1</td>\n",
       "    </tr>\n",
       "    <tr>\n",
       "      <th>Район Сокол</th>\n",
       "      <td>1</td>\n",
       "    </tr>\n",
       "    <tr>\n",
       "      <th>Хорошевский район</th>\n",
       "      <td>1</td>\n",
       "    </tr>\n",
       "    <tr>\n",
       "      <th rowspan=\"8\" valign=\"top\">ленинский проспект</th>\n",
       "      <th>Донской район</th>\n",
       "      <td>1</td>\n",
       "    </tr>\n",
       "    <tr>\n",
       "      <th>Ломоносовский район</th>\n",
       "      <td>1</td>\n",
       "    </tr>\n",
       "    <tr>\n",
       "      <th>Обручевский район</th>\n",
       "      <td>1</td>\n",
       "    </tr>\n",
       "    <tr>\n",
       "      <th>Район Гагаринский</th>\n",
       "      <td>1</td>\n",
       "    </tr>\n",
       "    <tr>\n",
       "      <th>Район Проспект Вернадского</th>\n",
       "      <td>1</td>\n",
       "    </tr>\n",
       "    <tr>\n",
       "      <th>Район Теплый Стан</th>\n",
       "      <td>1</td>\n",
       "    </tr>\n",
       "    <tr>\n",
       "      <th>Район Тропарево-Никулино</th>\n",
       "      <td>1</td>\n",
       "    </tr>\n",
       "    <tr>\n",
       "      <th>Район Якиманка</th>\n",
       "      <td>1</td>\n",
       "    </tr>\n",
       "    <tr>\n",
       "      <th>пресненская набережная</th>\n",
       "      <th>Пресненский район</th>\n",
       "      <td>1</td>\n",
       "    </tr>\n",
       "    <tr>\n",
       "      <th rowspan=\"5\" valign=\"top\">проспект вернадского</th>\n",
       "      <th>Ломоносовский район</th>\n",
       "      <td>1</td>\n",
       "    </tr>\n",
       "    <tr>\n",
       "      <th>Район Гагаринский</th>\n",
       "      <td>1</td>\n",
       "    </tr>\n",
       "    <tr>\n",
       "      <th>Район Проспект Вернадского</th>\n",
       "      <td>1</td>\n",
       "    </tr>\n",
       "    <tr>\n",
       "      <th>Район Раменки</th>\n",
       "      <td>1</td>\n",
       "    </tr>\n",
       "    <tr>\n",
       "      <th>Район Тропарево-Никулино</th>\n",
       "      <td>1</td>\n",
       "    </tr>\n",
       "    <tr>\n",
       "      <th rowspan=\"7\" valign=\"top\">проспект мира</th>\n",
       "      <th>Алексеевский район</th>\n",
       "      <td>1</td>\n",
       "    </tr>\n",
       "    <tr>\n",
       "      <th>Мещанский район</th>\n",
       "      <td>1</td>\n",
       "    </tr>\n",
       "    <tr>\n",
       "      <th>Останкинский район</th>\n",
       "      <td>1</td>\n",
       "    </tr>\n",
       "    <tr>\n",
       "      <th>Район Марьина роща</th>\n",
       "      <td>1</td>\n",
       "    </tr>\n",
       "    <tr>\n",
       "      <th>Район Ростокино</th>\n",
       "      <td>1</td>\n",
       "    </tr>\n",
       "    <tr>\n",
       "      <th>Район Свиблово</th>\n",
       "      <td>1</td>\n",
       "    </tr>\n",
       "    <tr>\n",
       "      <th>Ярославский Район</th>\n",
       "      <td>1</td>\n",
       "    </tr>\n",
       "    <tr>\n",
       "      <th rowspan=\"6\" valign=\"top\">профсоюзная улица</th>\n",
       "      <th>Академический район</th>\n",
       "      <td>1</td>\n",
       "    </tr>\n",
       "    <tr>\n",
       "      <th>Обручевский район</th>\n",
       "      <td>1</td>\n",
       "    </tr>\n",
       "    <tr>\n",
       "      <th>Район Коньково</th>\n",
       "      <td>1</td>\n",
       "    </tr>\n",
       "    <tr>\n",
       "      <th>Район Теплый Стан</th>\n",
       "      <td>1</td>\n",
       "    </tr>\n",
       "    <tr>\n",
       "      <th>Район Черемушки</th>\n",
       "      <td>1</td>\n",
       "    </tr>\n",
       "    <tr>\n",
       "      <th>Район Ясенево</th>\n",
       "      <td>1</td>\n",
       "    </tr>\n",
       "    <tr>\n",
       "      <th>ходынский бульвар</th>\n",
       "      <th>Хорошевский район</th>\n",
       "      <td>1</td>\n",
       "    </tr>\n",
       "  </tbody>\n",
       "</table>\n",
       "</div>"
      ],
      "text/plain": [
       "                                                        count\n",
       "street                 area                                  \n",
       "варшавское шоссе       Донской район                        1\n",
       "                       Нагорный район                       1\n",
       "                       Район Нагатино-Садовники             1\n",
       "                       Район Северное Бутово                1\n",
       "                       Район Чертаново Северное             1\n",
       "                       Район Чертаново Центральное          1\n",
       "                       Район Чертаново Южное                1\n",
       "                       Район Южное Бутово                   1\n",
       "каширское шоссе        Район Москворечье-Сабурово           1\n",
       "                       Район Нагатино-Садовники             1\n",
       "                       Район Орехово-Борисово Северное      1\n",
       "                       Район Орехово-Борисово Южное         1\n",
       "кутузовский проспект   Район Дорогомилово                   1\n",
       "                       Район Фили-Давыдково                 1\n",
       "ленинградский проспект Район Аэропорт                       1\n",
       "                       Район Беговой                        1\n",
       "                       Район Сокол                          1\n",
       "                       Хорошевский район                    1\n",
       "ленинский проспект     Донской район                        1\n",
       "                       Ломоносовский район                  1\n",
       "                       Обручевский район                    1\n",
       "                       Район Гагаринский                    1\n",
       "                       Район Проспект Вернадского           1\n",
       "                       Район Теплый Стан                    1\n",
       "                       Район Тропарево-Никулино             1\n",
       "                       Район Якиманка                       1\n",
       "пресненская набережная Пресненский район                    1\n",
       "проспект вернадского   Ломоносовский район                  1\n",
       "                       Район Гагаринский                    1\n",
       "                       Район Проспект Вернадского           1\n",
       "                       Район Раменки                        1\n",
       "                       Район Тропарево-Никулино             1\n",
       "проспект мира          Алексеевский район                   1\n",
       "                       Мещанский район                      1\n",
       "                       Останкинский район                   1\n",
       "                       Район Марьина роща                   1\n",
       "                       Район Ростокино                      1\n",
       "                       Район Свиблово                       1\n",
       "                       Ярославский Район                    1\n",
       "профсоюзная улица      Академический район                  1\n",
       "                       Обручевский район                    1\n",
       "                       Район Коньково                       1\n",
       "                       Район Теплый Стан                    1\n",
       "                       Район Черемушки                      1\n",
       "                       Район Ясенево                        1\n",
       "ходынский бульвар      Хорошевский район                    1"
      ]
     },
     "execution_count": 65,
     "metadata": {},
     "output_type": "execute_result"
    }
   ],
   "source": [
    "top_10_street.merge(street, how='left', on='street').groupby(\n",
    "    ['street', 'area'])['street'].agg(['count'])"
   ]
  },
  {
   "cell_type": "markdown",
   "metadata": {
    "id": "Fwlep4eClkGW"
   },
   "source": [
    "## Число улиц с одним объектом общественного питания. В каких районах Москвы находятся эти улицы?"
   ]
  },
  {
   "cell_type": "code",
   "execution_count": 66,
   "metadata": {
    "id": "mHu9to-wlkyB"
   },
   "outputs": [],
   "source": [
    "one_object_type_count = df.groupby('street')['id'].agg(\n",
    "    ['count']).reset_index().query('count == 1')"
   ]
  },
  {
   "cell_type": "code",
   "execution_count": 67,
   "metadata": {
    "id": "R7G8kfTn3Ww7"
   },
   "outputs": [],
   "source": [
    "one_object_type_count['street'] = one_object_type_count['street'].str.strip()"
   ]
  },
  {
   "cell_type": "code",
   "execution_count": 68,
   "metadata": {
    "id": "Pr4WH95N9g24"
   },
   "outputs": [],
   "source": [
    "one_object_type_count = (one_object_type_count\n",
    "                         .merge(street, how='left', on='street')\n",
    "                         .dropna()\n",
    "                         .drop_duplicates(subset='street', keep='last')\n",
    "                         .reset_index(drop=True)\n",
    "                         )"
   ]
  },
  {
   "cell_type": "code",
   "execution_count": 69,
   "metadata": {
    "colab": {
     "base_uri": "https://localhost:8080/"
    },
    "id": "zPWEzEjd9c9G",
    "outputId": "3a74e68b-2e6c-44f7-e2f7-77c858e366ce",
    "scrolled": false
   },
   "outputs": [
    {
     "data": {
      "text/plain": [
       "array(['Район Аэропорт', 'Красносельский район', 'Район Свиблово',\n",
       "       'Рязанский район', 'Район Якиманка', 'Район Хамовники',\n",
       "       'Район Соколиная Гора', 'Даниловский район', 'Мещанский район',\n",
       "       'Таганский район', 'Район Лефортово', 'Район Печатники',\n",
       "       'Район Сокольники', 'Район Замоскворечье', 'Хорошевский район',\n",
       "       'Район Арбат', 'Район Марьина роща', 'Алексеевский район',\n",
       "       'Район Текстильщики', 'Район Ростокино', 'Район Раменки',\n",
       "       'Район Хорошево-Мневники', 'Район Покровское-Стрешнево',\n",
       "       'Район Богородское', 'Нижегородский район', 'Тверской район',\n",
       "       'Лосиноостровский район', 'Район Преображенское',\n",
       "       'Район Ново-Переделкино', 'Район Восточное Измайлово',\n",
       "       'Район Беговой', 'Донской район', 'Район Гольяново',\n",
       "       'Войковский Район', 'Савеловский район', 'Район Измайлово',\n",
       "       'Район Перово', 'Район Филевский Парк', 'Район Чертаново Южное',\n",
       "       'Южнопортовый Район', 'Головинский район', 'Район Южное Бутово',\n",
       "       'Останкинский район', 'Район Сокол', 'Район Северный',\n",
       "       'Район Кунцево', 'Район Люблино', 'Басманный район',\n",
       "       'Тимирязевский Район', 'Район Внуково', 'Бескудниковский Район',\n",
       "       'Район Зюзино', 'Пресненский район', 'Район Солнцево',\n",
       "       'Дмитровский район', 'Район Метрогородок', 'Район Митино',\n",
       "       'Район Нагатино-Садовники', 'Можайский Район', 'Район Кузьминки',\n",
       "       'Район Черемушки', 'Район Коптево', 'Район Выхино-Жулебино',\n",
       "       'Район Куркино', 'Район Косино-Ухтомский', 'Район Лианозово',\n",
       "       'Ярославский Район', 'Район Бирюлево Восточное',\n",
       "       'Район Гагаринский', 'Район Котловка', 'Район Южное Тушино',\n",
       "       'Район Строгино', 'Район Отрадное', 'Бабушкинский район',\n",
       "       'Район Дорогомилово', 'Район Марьино', 'Район Восточный',\n",
       "       'Молжаниновский район', 'Бутырский район',\n",
       "       'Район Очаково-Матвеевское', 'Район Ивановское',\n",
       "       'Район Западное Дегунино', 'Район Северное Медведково',\n",
       "       'Нагорный район', 'Район Новогиреево', 'Алтуфьевский район',\n",
       "       'Район Северное Бутово', 'Район Чертаново Северное',\n",
       "       'Район Ясенево', 'Район Коньково', 'Район Марфино',\n",
       "       'Обручевский район', 'Район Щукино', 'Район Фили-Давыдково',\n",
       "       'Район Москворечье-Сабурово', 'Район Царицыно',\n",
       "       'Район Северное Измайлово'], dtype=object)"
      ]
     },
     "execution_count": 69,
     "metadata": {},
     "output_type": "execute_result"
    }
   ],
   "source": [
    "one_object_type_count['area'].unique()"
   ]
  },
  {
   "cell_type": "code",
   "execution_count": 70,
   "metadata": {},
   "outputs": [
    {
     "data": {
      "text/html": [
       "<div>\n",
       "<style scoped>\n",
       "    .dataframe tbody tr th:only-of-type {\n",
       "        vertical-align: middle;\n",
       "    }\n",
       "\n",
       "    .dataframe tbody tr th {\n",
       "        vertical-align: top;\n",
       "    }\n",
       "\n",
       "    .dataframe thead th {\n",
       "        text-align: right;\n",
       "    }\n",
       "</style>\n",
       "<table border=\"1\" class=\"dataframe\">\n",
       "  <thead>\n",
       "    <tr style=\"text-align: right;\">\n",
       "      <th></th>\n",
       "      <th>count</th>\n",
       "    </tr>\n",
       "    <tr>\n",
       "      <th>area</th>\n",
       "      <th></th>\n",
       "    </tr>\n",
       "  </thead>\n",
       "  <tbody>\n",
       "    <tr>\n",
       "      <th>Район Хамовники</th>\n",
       "      <td>26</td>\n",
       "    </tr>\n",
       "    <tr>\n",
       "      <th>Таганский район</th>\n",
       "      <td>25</td>\n",
       "    </tr>\n",
       "    <tr>\n",
       "      <th>Басманный район</th>\n",
       "      <td>24</td>\n",
       "    </tr>\n",
       "    <tr>\n",
       "      <th>Тверской район</th>\n",
       "      <td>19</td>\n",
       "    </tr>\n",
       "    <tr>\n",
       "      <th>Мещанский район</th>\n",
       "      <td>16</td>\n",
       "    </tr>\n",
       "  </tbody>\n",
       "</table>\n",
       "</div>"
      ],
      "text/plain": [
       "                 count\n",
       "area                  \n",
       "Район Хамовники     26\n",
       "Таганский район     25\n",
       "Басманный район     24\n",
       "Тверской район      19\n",
       "Мещанский район     16"
      ]
     },
     "execution_count": 70,
     "metadata": {},
     "output_type": "execute_result"
    }
   ],
   "source": [
    "one_object_type_count.groupby('area')['area'].agg(\n",
    "    ['count']).sort_values('count', ascending=False).head()"
   ]
  },
  {
   "cell_type": "markdown",
   "metadata": {
    "id": "MsrGeC1XnFno"
   },
   "source": [
    "## Общий вывод и рекомендации."
   ]
  },
  {
   "cell_type": "markdown",
   "metadata": {
    "id": "WjC5Kj8T3M-R"
   },
   "source": [
    "В Москве подавляющее большинство заведений имеет тип \"кафе\", а именно 40% - что совпадает с нашим типом. \"Кафе\" имеют большую популярнсть среди москвичей, и тот факт что присуствует сильная конкуренция нас не пугает, так как наше предложения с облсуживанием роботами не имеет аналогов в Москве. Мы будем заметно выделяться среди всех \"кафе\", это приведет нас к быстрой популярности.\n",
    "\n",
    "Только 20% заведений в Москве сетевые, причем самый популярный тип - \"фаст-фуд\". Для сетевых заведений характерно, мало заведений и много мест. Это свидетльствует о том что у нас есть перспективы развить наше кафе с роботами, в сеть франшиз. \n",
    "\n",
    "У нас есть топ 10 улиц, где много заведений питания, почти все улицы в центре, где очень высокая аренда. Именно на одной из улиц центра Москвы, стоит открываться. Наше кафе высоко-технологичное и стоит дорого, к тому же первое кафе подобного типа должно быть флагманским, а значит самым лучшим. Затраты на аренду окупятся сполна, большим количеством посетителей которые шли к конкурентам рядом, а придут к нам."
   ]
  },
  {
   "cell_type": "markdown",
   "metadata": {
    "id": "4tnuqObo__sb"
   },
   "source": [
    "## Ссылка на презентацию."
   ]
  },
  {
   "cell_type": "markdown",
   "metadata": {
    "id": "c2KR3bleKDbw"
   },
   "source": [
    "https://drive.google.com/file/d/14ukQ1fjfDOYlKepFg-4UGGXzNXnh5ueh/view?usp=sharing"
   ]
  }
 ],
 "metadata": {
  "ExecuteTimeLog": [
   {
    "duration": 388,
    "start_time": "2022-07-28T11:58:04.190Z"
   },
   {
    "duration": 1160,
    "start_time": "2022-07-28T11:58:04.580Z"
   },
   {
    "duration": 110,
    "start_time": "2022-07-28T11:58:05.741Z"
   },
   {
    "duration": 12,
    "start_time": "2022-07-28T11:58:05.853Z"
   },
   {
    "duration": 13,
    "start_time": "2022-07-28T11:58:05.866Z"
   },
   {
    "duration": 17,
    "start_time": "2022-07-28T11:58:05.880Z"
   },
   {
    "duration": 5,
    "start_time": "2022-07-28T11:58:05.899Z"
   },
   {
    "duration": 11,
    "start_time": "2022-07-28T11:58:05.905Z"
   },
   {
    "duration": 18,
    "start_time": "2022-07-28T11:58:05.918Z"
   },
   {
    "duration": 16,
    "start_time": "2022-07-28T11:58:05.939Z"
   },
   {
    "duration": 5,
    "start_time": "2022-07-28T11:58:05.957Z"
   },
   {
    "duration": 4,
    "start_time": "2022-07-28T11:58:05.963Z"
   },
   {
    "duration": 9,
    "start_time": "2022-07-28T11:58:05.969Z"
   },
   {
    "duration": 5,
    "start_time": "2022-07-28T11:58:05.979Z"
   },
   {
    "duration": 22,
    "start_time": "2022-07-28T11:58:05.986Z"
   },
   {
    "duration": 205,
    "start_time": "2022-07-28T11:58:06.010Z"
   },
   {
    "duration": 6,
    "start_time": "2022-07-28T11:58:06.216Z"
   },
   {
    "duration": 5,
    "start_time": "2022-07-28T11:58:06.224Z"
   },
   {
    "duration": 13,
    "start_time": "2022-07-28T11:58:06.230Z"
   },
   {
    "duration": 168,
    "start_time": "2022-07-28T11:58:06.244Z"
   },
   {
    "duration": 9,
    "start_time": "2022-07-28T11:58:06.413Z"
   },
   {
    "duration": 8,
    "start_time": "2022-07-28T11:58:06.424Z"
   },
   {
    "duration": 220,
    "start_time": "2022-07-28T11:58:06.433Z"
   },
   {
    "duration": 15,
    "start_time": "2022-07-28T11:58:06.654Z"
   },
   {
    "duration": 7,
    "start_time": "2022-07-28T11:58:06.671Z"
   },
   {
    "duration": 230,
    "start_time": "2022-07-28T11:58:06.679Z"
   },
   {
    "duration": 6,
    "start_time": "2022-07-28T11:58:06.911Z"
   },
   {
    "duration": 6,
    "start_time": "2022-07-28T11:58:06.920Z"
   },
   {
    "duration": 202,
    "start_time": "2022-07-28T11:58:06.927Z"
   },
   {
    "duration": 6,
    "start_time": "2022-07-28T11:58:07.130Z"
   },
   {
    "duration": 271,
    "start_time": "2022-07-28T11:58:07.138Z"
   },
   {
    "duration": 9,
    "start_time": "2022-07-28T11:58:07.412Z"
   },
   {
    "duration": 15,
    "start_time": "2022-07-28T11:58:07.423Z"
   },
   {
    "duration": 376,
    "start_time": "2022-07-28T11:58:07.440Z"
   },
   {
    "duration": 12,
    "start_time": "2022-07-28T11:58:07.818Z"
   },
   {
    "duration": 6,
    "start_time": "2022-07-28T11:58:07.832Z"
   },
   {
    "duration": 13,
    "start_time": "2022-07-28T11:58:07.840Z"
   },
   {
    "duration": 13,
    "start_time": "2022-07-28T11:58:07.856Z"
   },
   {
    "duration": 6,
    "start_time": "2022-07-28T11:58:07.870Z"
   },
   {
    "duration": 213,
    "start_time": "2022-07-28T11:58:07.902Z"
   },
   {
    "duration": 378,
    "start_time": "2022-07-28T11:58:08.117Z"
   },
   {
    "duration": 263,
    "start_time": "2022-07-28T11:58:08.497Z"
   },
   {
    "duration": 9,
    "start_time": "2022-07-28T11:58:08.762Z"
   },
   {
    "duration": 8,
    "start_time": "2022-07-28T11:58:08.772Z"
   },
   {
    "duration": 10,
    "start_time": "2022-07-28T11:58:08.781Z"
   },
   {
    "duration": 13,
    "start_time": "2022-07-28T11:58:08.792Z"
   },
   {
    "duration": 11,
    "start_time": "2022-07-28T11:58:08.806Z"
   },
   {
    "duration": 7,
    "start_time": "2022-07-28T11:58:08.820Z"
   },
   {
    "duration": 10,
    "start_time": "2022-07-28T11:58:08.829Z"
   },
   {
    "duration": 10,
    "start_time": "2022-07-28T11:58:08.841Z"
   },
   {
    "duration": 32,
    "start_time": "2022-07-28T11:58:08.852Z"
   },
   {
    "duration": 4,
    "start_time": "2022-07-28T11:58:08.886Z"
   },
   {
    "duration": 15,
    "start_time": "2022-07-28T11:58:08.892Z"
   },
   {
    "duration": 5,
    "start_time": "2022-07-28T11:58:08.909Z"
   },
   {
    "duration": 414,
    "start_time": "2022-07-28T13:06:29.805Z"
   },
   {
    "duration": 1284,
    "start_time": "2022-07-28T13:06:30.222Z"
   },
   {
    "duration": 135,
    "start_time": "2022-07-28T13:06:31.507Z"
   },
   {
    "duration": 12,
    "start_time": "2022-07-28T13:06:31.644Z"
   },
   {
    "duration": 13,
    "start_time": "2022-07-28T13:06:31.657Z"
   },
   {
    "duration": 17,
    "start_time": "2022-07-28T13:06:31.672Z"
   },
   {
    "duration": 3,
    "start_time": "2022-07-28T13:06:31.691Z"
   },
   {
    "duration": 6,
    "start_time": "2022-07-28T13:06:31.696Z"
   },
   {
    "duration": 37,
    "start_time": "2022-07-28T13:06:31.703Z"
   },
   {
    "duration": 23,
    "start_time": "2022-07-28T13:06:31.743Z"
   },
   {
    "duration": 5,
    "start_time": "2022-07-28T13:06:31.767Z"
   },
   {
    "duration": 6,
    "start_time": "2022-07-28T13:06:31.773Z"
   },
   {
    "duration": 8,
    "start_time": "2022-07-28T13:06:31.780Z"
   },
   {
    "duration": 4,
    "start_time": "2022-07-28T13:06:31.790Z"
   },
   {
    "duration": 9,
    "start_time": "2022-07-28T13:06:31.796Z"
   },
   {
    "duration": 197,
    "start_time": "2022-07-28T13:06:31.806Z"
   },
   {
    "duration": 6,
    "start_time": "2022-07-28T13:06:32.005Z"
   },
   {
    "duration": 5,
    "start_time": "2022-07-28T13:06:32.012Z"
   },
   {
    "duration": 17,
    "start_time": "2022-07-28T13:06:32.019Z"
   },
   {
    "duration": 161,
    "start_time": "2022-07-28T13:06:32.037Z"
   },
   {
    "duration": 9,
    "start_time": "2022-07-28T13:06:32.200Z"
   },
   {
    "duration": 8,
    "start_time": "2022-07-28T13:06:32.210Z"
   },
   {
    "duration": 259,
    "start_time": "2022-07-28T13:06:32.219Z"
   },
   {
    "duration": 16,
    "start_time": "2022-07-28T13:06:32.480Z"
   },
   {
    "duration": 8,
    "start_time": "2022-07-28T13:06:32.498Z"
   },
   {
    "duration": 245,
    "start_time": "2022-07-28T13:06:32.507Z"
   },
   {
    "duration": 6,
    "start_time": "2022-07-28T13:06:32.754Z"
   },
   {
    "duration": 7,
    "start_time": "2022-07-28T13:06:32.763Z"
   },
   {
    "duration": 218,
    "start_time": "2022-07-28T13:06:32.771Z"
   },
   {
    "duration": 5,
    "start_time": "2022-07-28T13:06:32.991Z"
   },
   {
    "duration": 317,
    "start_time": "2022-07-28T13:06:32.998Z"
   },
   {
    "duration": 23,
    "start_time": "2022-07-28T13:06:33.317Z"
   },
   {
    "duration": 8,
    "start_time": "2022-07-28T13:06:33.342Z"
   },
   {
    "duration": 208,
    "start_time": "2022-07-28T13:06:33.351Z"
   },
   {
    "duration": 12,
    "start_time": "2022-07-28T13:06:33.560Z"
   },
   {
    "duration": 7,
    "start_time": "2022-07-28T13:06:33.574Z"
   },
   {
    "duration": 21,
    "start_time": "2022-07-28T13:06:33.582Z"
   },
   {
    "duration": 12,
    "start_time": "2022-07-28T13:06:33.605Z"
   },
   {
    "duration": 26,
    "start_time": "2022-07-28T13:06:33.618Z"
   },
   {
    "duration": 214,
    "start_time": "2022-07-28T13:06:33.646Z"
   },
   {
    "duration": 384,
    "start_time": "2022-07-28T13:06:33.862Z"
   },
   {
    "duration": 257,
    "start_time": "2022-07-28T13:06:34.248Z"
   },
   {
    "duration": 9,
    "start_time": "2022-07-28T13:06:34.506Z"
   },
   {
    "duration": 5,
    "start_time": "2022-07-28T13:06:34.516Z"
   },
   {
    "duration": 6,
    "start_time": "2022-07-28T13:06:34.522Z"
   },
   {
    "duration": 27,
    "start_time": "2022-07-28T13:06:34.529Z"
   },
   {
    "duration": 5,
    "start_time": "2022-07-28T13:06:34.558Z"
   },
   {
    "duration": 5,
    "start_time": "2022-07-28T13:06:34.565Z"
   },
   {
    "duration": 9,
    "start_time": "2022-07-28T13:06:34.572Z"
   },
   {
    "duration": 6,
    "start_time": "2022-07-28T13:06:34.582Z"
   },
   {
    "duration": 11,
    "start_time": "2022-07-28T13:06:34.590Z"
   },
   {
    "duration": 4,
    "start_time": "2022-07-28T13:06:34.603Z"
   },
   {
    "duration": 26,
    "start_time": "2022-07-28T13:06:34.608Z"
   },
   {
    "duration": 9,
    "start_time": "2022-07-28T13:06:34.636Z"
   },
   {
    "duration": 17,
    "start_time": "2022-07-28T13:07:39.052Z"
   },
   {
    "duration": 24,
    "start_time": "2022-07-28T13:08:12.998Z"
   },
   {
    "duration": 26,
    "start_time": "2022-07-28T13:08:40.750Z"
   },
   {
    "duration": 25,
    "start_time": "2022-07-28T13:09:01.970Z"
   },
   {
    "duration": 33,
    "start_time": "2022-07-28T13:09:06.947Z"
   },
   {
    "duration": 20,
    "start_time": "2022-07-28T13:09:19.423Z"
   },
   {
    "duration": 380,
    "start_time": "2022-07-28T13:10:06.462Z"
   },
   {
    "duration": 1228,
    "start_time": "2022-07-28T13:10:06.847Z"
   },
   {
    "duration": 72,
    "start_time": "2022-07-28T13:10:08.077Z"
   },
   {
    "duration": 12,
    "start_time": "2022-07-28T13:10:08.151Z"
   },
   {
    "duration": 12,
    "start_time": "2022-07-28T13:10:08.165Z"
   },
   {
    "duration": 18,
    "start_time": "2022-07-28T13:10:08.178Z"
   },
   {
    "duration": 5,
    "start_time": "2022-07-28T13:10:08.197Z"
   },
   {
    "duration": 52,
    "start_time": "2022-07-28T13:10:08.203Z"
   },
   {
    "duration": 16,
    "start_time": "2022-07-28T13:10:08.256Z"
   },
   {
    "duration": 15,
    "start_time": "2022-07-28T13:10:08.275Z"
   },
   {
    "duration": 4,
    "start_time": "2022-07-28T13:10:08.292Z"
   },
   {
    "duration": 6,
    "start_time": "2022-07-28T13:10:08.297Z"
   },
   {
    "duration": 37,
    "start_time": "2022-07-28T13:10:08.305Z"
   },
   {
    "duration": 25,
    "start_time": "2022-07-28T13:10:08.345Z"
   },
   {
    "duration": 12,
    "start_time": "2022-07-28T13:10:21.501Z"
   },
   {
    "duration": 9,
    "start_time": "2022-07-28T13:10:21.820Z"
   },
   {
    "duration": 7,
    "start_time": "2022-07-28T13:10:22.005Z"
   },
   {
    "duration": 246,
    "start_time": "2022-07-28T13:10:22.422Z"
   },
   {
    "duration": 8,
    "start_time": "2022-07-28T13:10:24.370Z"
   },
   {
    "duration": 4,
    "start_time": "2022-07-28T13:10:24.691Z"
   },
   {
    "duration": 8,
    "start_time": "2022-07-28T13:10:25.143Z"
   },
   {
    "duration": 174,
    "start_time": "2022-07-28T13:10:25.579Z"
   },
   {
    "duration": 17,
    "start_time": "2022-07-28T13:10:27.543Z"
   },
   {
    "duration": 10,
    "start_time": "2022-07-28T13:10:28.005Z"
   },
   {
    "duration": 10,
    "start_time": "2022-07-28T13:10:43.705Z"
   },
   {
    "duration": 10,
    "start_time": "2022-07-28T13:10:43.882Z"
   },
   {
    "duration": 9,
    "start_time": "2022-07-28T13:10:56.256Z"
   },
   {
    "duration": 8,
    "start_time": "2022-07-28T13:10:56.420Z"
   },
   {
    "duration": 11,
    "start_time": "2022-07-28T14:26:49.307Z"
   },
   {
    "duration": 3,
    "start_time": "2022-07-28T14:26:49.472Z"
   },
   {
    "duration": 12,
    "start_time": "2022-07-28T14:26:49.952Z"
   },
   {
    "duration": 8,
    "start_time": "2022-07-28T14:28:04.046Z"
   },
   {
    "duration": 100,
    "start_time": "2022-07-28T14:30:28.750Z"
   },
   {
    "duration": 21,
    "start_time": "2022-07-28T14:30:41.726Z"
   },
   {
    "duration": 8,
    "start_time": "2022-07-28T14:31:11.086Z"
   },
   {
    "duration": 3,
    "start_time": "2022-07-28T14:31:11.255Z"
   },
   {
    "duration": 7,
    "start_time": "2022-07-28T14:31:11.402Z"
   },
   {
    "duration": 7,
    "start_time": "2022-07-28T14:31:21.111Z"
   },
   {
    "duration": 3,
    "start_time": "2022-07-28T14:31:21.296Z"
   },
   {
    "duration": 11,
    "start_time": "2022-07-28T14:31:21.568Z"
   },
   {
    "duration": 7,
    "start_time": "2022-07-28T14:31:26.374Z"
   },
   {
    "duration": 15,
    "start_time": "2022-07-28T14:34:39.064Z"
   },
   {
    "duration": 11,
    "start_time": "2022-07-28T14:36:52.751Z"
   },
   {
    "duration": 11,
    "start_time": "2022-07-28T14:37:02.117Z"
   },
   {
    "duration": 9,
    "start_time": "2022-07-28T14:37:15.563Z"
   },
   {
    "duration": 5,
    "start_time": "2022-07-28T14:37:22.758Z"
   },
   {
    "duration": 8,
    "start_time": "2022-07-28T14:37:29.946Z"
   },
   {
    "duration": 5,
    "start_time": "2022-07-28T14:37:30.295Z"
   },
   {
    "duration": 9,
    "start_time": "2022-07-28T14:38:05.459Z"
   },
   {
    "duration": 11,
    "start_time": "2022-07-28T14:38:29.904Z"
   },
   {
    "duration": 1245,
    "start_time": "2022-07-28T14:39:07.546Z"
   },
   {
    "duration": 0,
    "start_time": "2022-07-28T14:39:08.793Z"
   },
   {
    "duration": 4,
    "start_time": "2022-07-28T14:39:20.180Z"
   },
   {
    "duration": 8,
    "start_time": "2022-07-28T14:39:20.679Z"
   },
   {
    "duration": 4,
    "start_time": "2022-07-28T14:39:58.010Z"
   },
   {
    "duration": 7,
    "start_time": "2022-07-28T14:39:58.705Z"
   },
   {
    "duration": 243,
    "start_time": "2022-07-28T14:40:21.193Z"
   },
   {
    "duration": 206,
    "start_time": "2022-07-28T14:41:03.405Z"
   },
   {
    "duration": 20,
    "start_time": "2022-07-28T14:43:00.346Z"
   },
   {
    "duration": 14,
    "start_time": "2022-07-28T14:43:23.150Z"
   },
   {
    "duration": 68,
    "start_time": "2022-07-28T18:39:00.165Z"
   },
   {
    "duration": 452,
    "start_time": "2022-07-28T18:39:08.523Z"
   },
   {
    "duration": 1758,
    "start_time": "2022-07-28T18:39:08.978Z"
   },
   {
    "duration": 128,
    "start_time": "2022-07-28T18:39:10.738Z"
   },
   {
    "duration": 15,
    "start_time": "2022-07-28T18:39:10.868Z"
   },
   {
    "duration": 17,
    "start_time": "2022-07-28T18:39:10.886Z"
   },
   {
    "duration": 29,
    "start_time": "2022-07-28T18:39:10.905Z"
   },
   {
    "duration": 5,
    "start_time": "2022-07-28T18:39:10.936Z"
   },
   {
    "duration": 8,
    "start_time": "2022-07-28T18:39:10.943Z"
   },
   {
    "duration": 19,
    "start_time": "2022-07-28T18:39:10.952Z"
   },
   {
    "duration": 39,
    "start_time": "2022-07-28T18:39:10.972Z"
   },
   {
    "duration": 6,
    "start_time": "2022-07-28T18:39:11.013Z"
   },
   {
    "duration": 9,
    "start_time": "2022-07-28T18:39:11.021Z"
   },
   {
    "duration": 21,
    "start_time": "2022-07-28T18:39:11.032Z"
   },
   {
    "duration": 14,
    "start_time": "2022-07-28T18:39:11.057Z"
   },
   {
    "duration": 31,
    "start_time": "2022-07-28T18:39:11.073Z"
   },
   {
    "duration": 8,
    "start_time": "2022-07-28T18:39:11.106Z"
   },
   {
    "duration": 14,
    "start_time": "2022-07-28T18:39:11.116Z"
   },
   {
    "duration": 267,
    "start_time": "2022-07-28T18:39:11.132Z"
   },
   {
    "duration": 12,
    "start_time": "2022-07-28T18:39:11.404Z"
   },
   {
    "duration": 6,
    "start_time": "2022-07-28T18:39:11.419Z"
   },
   {
    "duration": 14,
    "start_time": "2022-07-28T18:39:11.427Z"
   },
   {
    "duration": 222,
    "start_time": "2022-07-28T18:39:11.443Z"
   },
   {
    "duration": 9,
    "start_time": "2022-07-28T18:39:11.667Z"
   },
   {
    "duration": 12,
    "start_time": "2022-07-28T18:39:11.678Z"
   },
   {
    "duration": 27,
    "start_time": "2022-07-28T18:39:11.692Z"
   },
   {
    "duration": 15,
    "start_time": "2022-07-28T18:39:11.722Z"
   },
   {
    "duration": 12,
    "start_time": "2022-07-28T18:39:11.739Z"
   },
   {
    "duration": 261,
    "start_time": "2022-07-28T18:39:11.753Z"
   },
   {
    "duration": 21,
    "start_time": "2022-07-28T18:39:12.018Z"
   },
   {
    "duration": 9,
    "start_time": "2022-07-28T18:39:12.040Z"
   },
   {
    "duration": 293,
    "start_time": "2022-07-28T18:39:12.051Z"
   },
   {
    "duration": 9,
    "start_time": "2022-07-28T18:39:12.362Z"
   },
   {
    "duration": 11,
    "start_time": "2022-07-28T18:39:12.373Z"
   },
   {
    "duration": 272,
    "start_time": "2022-07-28T18:39:12.386Z"
   },
   {
    "duration": 198,
    "start_time": "2022-07-28T18:40:41.536Z"
   },
   {
    "duration": 16,
    "start_time": "2022-07-28T18:40:45.638Z"
   },
   {
    "duration": 1261,
    "start_time": "2022-07-28T18:42:26.618Z"
   },
   {
    "duration": 28,
    "start_time": "2022-07-28T18:42:35.274Z"
   },
   {
    "duration": 17,
    "start_time": "2022-07-28T18:43:21.845Z"
   },
   {
    "duration": 24,
    "start_time": "2022-07-28T18:43:40.432Z"
   },
   {
    "duration": 25,
    "start_time": "2022-07-28T18:43:48.055Z"
   },
   {
    "duration": 18,
    "start_time": "2022-07-28T18:44:59.110Z"
   },
   {
    "duration": 13,
    "start_time": "2022-07-28T18:47:44.428Z"
   },
   {
    "duration": 11,
    "start_time": "2022-07-28T18:47:53.833Z"
   },
   {
    "duration": 19,
    "start_time": "2022-07-28T18:49:05.975Z"
   },
   {
    "duration": 13,
    "start_time": "2022-07-28T18:49:12.766Z"
   },
   {
    "duration": 12,
    "start_time": "2022-07-28T18:49:39.377Z"
   },
   {
    "duration": 11,
    "start_time": "2022-07-28T18:53:27.383Z"
   },
   {
    "duration": 16,
    "start_time": "2022-07-28T18:53:47.946Z"
   },
   {
    "duration": 1285,
    "start_time": "2022-07-28T18:54:30.757Z"
   },
   {
    "duration": 17,
    "start_time": "2022-07-28T18:54:41.469Z"
   },
   {
    "duration": 20,
    "start_time": "2022-07-28T18:54:48.244Z"
   },
   {
    "duration": 20,
    "start_time": "2022-07-28T18:54:55.213Z"
   },
   {
    "duration": 13,
    "start_time": "2022-07-28T18:56:42.324Z"
   },
   {
    "duration": 9,
    "start_time": "2022-07-28T18:56:52.359Z"
   },
   {
    "duration": 12,
    "start_time": "2022-07-28T18:57:01.641Z"
   },
   {
    "duration": 6,
    "start_time": "2022-07-28T18:57:42.516Z"
   },
   {
    "duration": 1264,
    "start_time": "2022-07-28T18:58:06.754Z"
   },
   {
    "duration": 12,
    "start_time": "2022-07-28T18:58:20.367Z"
   },
   {
    "duration": 11,
    "start_time": "2022-07-28T18:58:40.324Z"
   },
   {
    "duration": 10,
    "start_time": "2022-07-28T18:58:51.567Z"
   },
   {
    "duration": 8,
    "start_time": "2022-07-28T18:59:18.759Z"
   },
   {
    "duration": 20,
    "start_time": "2022-07-28T18:59:26.239Z"
   },
   {
    "duration": 6,
    "start_time": "2022-07-28T18:59:45.637Z"
   },
   {
    "duration": 6,
    "start_time": "2022-07-28T18:59:46.143Z"
   },
   {
    "duration": 23,
    "start_time": "2022-07-28T18:59:46.405Z"
   },
   {
    "duration": 25,
    "start_time": "2022-07-28T19:00:36.690Z"
   },
   {
    "duration": 13,
    "start_time": "2022-07-28T19:00:55.726Z"
   },
   {
    "duration": 13,
    "start_time": "2022-07-28T19:01:18.207Z"
   },
   {
    "duration": 8,
    "start_time": "2022-07-28T19:05:56.358Z"
   },
   {
    "duration": 7,
    "start_time": "2022-07-28T19:07:21.750Z"
   },
   {
    "duration": 8,
    "start_time": "2022-07-28T19:07:22.090Z"
   },
   {
    "duration": 12,
    "start_time": "2022-07-28T19:07:22.418Z"
   },
   {
    "duration": 19,
    "start_time": "2022-07-28T19:07:37.069Z"
   },
   {
    "duration": 10,
    "start_time": "2022-07-28T19:10:02.245Z"
   },
   {
    "duration": 7,
    "start_time": "2022-07-28T19:10:04.123Z"
   },
   {
    "duration": 21,
    "start_time": "2022-07-28T19:10:04.287Z"
   },
   {
    "duration": 15,
    "start_time": "2022-07-28T19:10:08.677Z"
   },
   {
    "duration": 8,
    "start_time": "2022-07-28T19:10:08.850Z"
   },
   {
    "duration": 21,
    "start_time": "2022-07-28T19:10:09.911Z"
   },
   {
    "duration": 11,
    "start_time": "2022-07-28T19:10:16.757Z"
   },
   {
    "duration": 8,
    "start_time": "2022-07-28T19:10:16.925Z"
   },
   {
    "duration": 24,
    "start_time": "2022-07-28T19:10:17.065Z"
   },
   {
    "duration": 9,
    "start_time": "2022-07-28T19:10:25.035Z"
   },
   {
    "duration": 7,
    "start_time": "2022-07-28T19:10:25.232Z"
   },
   {
    "duration": 22,
    "start_time": "2022-07-28T19:10:25.349Z"
   },
   {
    "duration": 9,
    "start_time": "2022-07-28T19:10:29.767Z"
   },
   {
    "duration": 8,
    "start_time": "2022-07-28T19:10:37.239Z"
   },
   {
    "duration": 5,
    "start_time": "2022-07-28T19:10:56.179Z"
   },
   {
    "duration": 16,
    "start_time": "2022-07-28T19:11:06.343Z"
   },
   {
    "duration": 5,
    "start_time": "2022-07-28T19:11:17.458Z"
   },
   {
    "duration": 17,
    "start_time": "2022-07-28T19:11:48.017Z"
   },
   {
    "duration": 10,
    "start_time": "2022-07-28T19:12:00.300Z"
   },
   {
    "duration": 24,
    "start_time": "2022-07-28T19:12:05.723Z"
   },
   {
    "duration": 73,
    "start_time": "2022-07-28T19:15:43.832Z"
   },
   {
    "duration": 71,
    "start_time": "2022-07-28T19:15:48.874Z"
   },
   {
    "duration": 14,
    "start_time": "2022-07-28T19:15:57.599Z"
   },
   {
    "duration": 4,
    "start_time": "2022-07-28T19:16:03.893Z"
   },
   {
    "duration": 3,
    "start_time": "2022-07-28T19:16:18.747Z"
   },
   {
    "duration": 207,
    "start_time": "2022-07-28T19:16:19.404Z"
   },
   {
    "duration": 337,
    "start_time": "2022-07-28T19:19:50.020Z"
   },
   {
    "duration": 179,
    "start_time": "2022-07-28T19:19:59.055Z"
   },
   {
    "duration": 11,
    "start_time": "2022-07-28T19:22:41.035Z"
   },
   {
    "duration": 466,
    "start_time": "2022-07-28T19:22:48.274Z"
   },
   {
    "duration": 5,
    "start_time": "2022-07-28T19:22:48.743Z"
   },
   {
    "duration": 84,
    "start_time": "2022-07-28T19:22:48.750Z"
   },
   {
    "duration": 15,
    "start_time": "2022-07-28T19:22:48.838Z"
   },
   {
    "duration": 29,
    "start_time": "2022-07-28T19:22:48.855Z"
   },
   {
    "duration": 28,
    "start_time": "2022-07-28T19:22:48.887Z"
   },
   {
    "duration": 5,
    "start_time": "2022-07-28T19:22:48.917Z"
   },
   {
    "duration": 9,
    "start_time": "2022-07-28T19:22:48.924Z"
   },
   {
    "duration": 17,
    "start_time": "2022-07-28T19:22:48.935Z"
   },
   {
    "duration": 24,
    "start_time": "2022-07-28T19:22:48.955Z"
   },
   {
    "duration": 8,
    "start_time": "2022-07-28T19:22:48.981Z"
   },
   {
    "duration": 4,
    "start_time": "2022-07-28T19:22:49.003Z"
   },
   {
    "duration": 21,
    "start_time": "2022-07-28T19:22:49.009Z"
   },
   {
    "duration": 18,
    "start_time": "2022-07-28T19:22:49.032Z"
   },
   {
    "duration": 7,
    "start_time": "2022-07-28T19:22:49.052Z"
   },
   {
    "duration": 5,
    "start_time": "2022-07-28T19:22:49.061Z"
   },
   {
    "duration": 9,
    "start_time": "2022-07-28T19:22:49.103Z"
   },
   {
    "duration": 259,
    "start_time": "2022-07-28T19:22:49.114Z"
   },
   {
    "duration": 8,
    "start_time": "2022-07-28T19:22:49.375Z"
   },
   {
    "duration": 20,
    "start_time": "2022-07-28T19:22:49.385Z"
   },
   {
    "duration": 9,
    "start_time": "2022-07-28T19:22:49.407Z"
   },
   {
    "duration": 188,
    "start_time": "2022-07-28T19:22:49.418Z"
   },
   {
    "duration": 9,
    "start_time": "2022-07-28T19:22:49.609Z"
   },
   {
    "duration": 9,
    "start_time": "2022-07-28T19:22:49.620Z"
   },
   {
    "duration": 14,
    "start_time": "2022-07-28T19:22:49.631Z"
   },
   {
    "duration": 13,
    "start_time": "2022-07-28T19:22:49.646Z"
   },
   {
    "duration": 13,
    "start_time": "2022-07-28T19:22:49.661Z"
   },
   {
    "duration": 244,
    "start_time": "2022-07-28T19:22:49.703Z"
   },
   {
    "duration": 18,
    "start_time": "2022-07-28T19:22:49.949Z"
   },
   {
    "duration": 12,
    "start_time": "2022-07-28T19:22:49.969Z"
   },
   {
    "duration": 318,
    "start_time": "2022-07-28T19:22:49.984Z"
   },
   {
    "duration": 8,
    "start_time": "2022-07-28T19:22:50.304Z"
   },
   {
    "duration": 13,
    "start_time": "2022-07-28T19:22:50.314Z"
   },
   {
    "duration": 216,
    "start_time": "2022-07-28T19:22:50.330Z"
   },
   {
    "duration": 12,
    "start_time": "2022-07-28T19:22:50.548Z"
   },
   {
    "duration": 8,
    "start_time": "2022-07-28T19:22:50.562Z"
   },
   {
    "duration": 34,
    "start_time": "2022-07-28T19:22:50.572Z"
   },
   {
    "duration": 18,
    "start_time": "2022-07-28T19:22:50.608Z"
   },
   {
    "duration": 10,
    "start_time": "2022-07-28T19:22:50.628Z"
   },
   {
    "duration": 8,
    "start_time": "2022-07-28T19:22:50.640Z"
   },
   {
    "duration": 15,
    "start_time": "2022-07-28T19:22:50.650Z"
   },
   {
    "duration": 5,
    "start_time": "2022-07-28T19:22:50.667Z"
   },
   {
    "duration": 7,
    "start_time": "2022-07-28T19:22:50.675Z"
   },
   {
    "duration": 197,
    "start_time": "2022-07-28T19:22:50.703Z"
   },
   {
    "duration": 7,
    "start_time": "2022-07-28T19:22:50.904Z"
   },
   {
    "duration": 342,
    "start_time": "2022-07-28T19:22:50.912Z"
   },
   {
    "duration": 10,
    "start_time": "2022-07-28T19:22:51.257Z"
   },
   {
    "duration": 10,
    "start_time": "2022-07-28T19:22:51.269Z"
   },
   {
    "duration": 373,
    "start_time": "2022-07-28T19:22:51.281Z"
   },
   {
    "duration": 14,
    "start_time": "2022-07-28T19:22:51.656Z"
   },
   {
    "duration": 12,
    "start_time": "2022-07-28T19:22:51.672Z"
   },
   {
    "duration": 32,
    "start_time": "2022-07-28T19:22:51.686Z"
   },
   {
    "duration": 17,
    "start_time": "2022-07-28T19:22:51.721Z"
   },
   {
    "duration": 22,
    "start_time": "2022-07-28T19:22:51.740Z"
   },
   {
    "duration": 271,
    "start_time": "2022-07-28T19:22:51.764Z"
   },
   {
    "duration": 439,
    "start_time": "2022-07-28T19:22:52.037Z"
   },
   {
    "duration": 249,
    "start_time": "2022-07-28T19:22:52.480Z"
   },
   {
    "duration": 11,
    "start_time": "2022-07-28T19:22:52.731Z"
   },
   {
    "duration": 11,
    "start_time": "2022-07-28T19:22:52.744Z"
   },
   {
    "duration": 9,
    "start_time": "2022-07-28T19:22:52.757Z"
   },
   {
    "duration": 11,
    "start_time": "2022-07-28T19:22:52.768Z"
   },
   {
    "duration": 9,
    "start_time": "2022-07-28T19:22:52.781Z"
   },
   {
    "duration": 12,
    "start_time": "2022-07-28T19:22:52.792Z"
   },
   {
    "duration": 11,
    "start_time": "2022-07-28T19:22:52.806Z"
   },
   {
    "duration": 13,
    "start_time": "2022-07-28T19:22:52.819Z"
   },
   {
    "duration": 18,
    "start_time": "2022-07-28T19:23:07.944Z"
   },
   {
    "duration": 11,
    "start_time": "2022-07-28T19:23:14.966Z"
   },
   {
    "duration": 12,
    "start_time": "2022-07-28T19:23:21.000Z"
   },
   {
    "duration": 12,
    "start_time": "2022-07-28T19:28:20.702Z"
   },
   {
    "duration": 9,
    "start_time": "2022-07-28T19:29:23.192Z"
   },
   {
    "duration": 13,
    "start_time": "2022-07-28T19:29:27.386Z"
   },
   {
    "duration": 5,
    "start_time": "2022-07-28T19:29:27.556Z"
   },
   {
    "duration": 18,
    "start_time": "2022-07-28T19:29:27.694Z"
   },
   {
    "duration": 12,
    "start_time": "2022-07-28T19:29:28.159Z"
   },
   {
    "duration": 12,
    "start_time": "2022-07-28T19:30:13.962Z"
   },
   {
    "duration": 15,
    "start_time": "2022-07-28T19:30:18.495Z"
   },
   {
    "duration": 13,
    "start_time": "2022-07-28T19:31:02.835Z"
   },
   {
    "duration": 16,
    "start_time": "2022-07-28T19:31:06.535Z"
   },
   {
    "duration": 9,
    "start_time": "2022-07-28T19:31:10.692Z"
   },
   {
    "duration": 9,
    "start_time": "2022-07-28T19:31:26.478Z"
   },
   {
    "duration": 5,
    "start_time": "2022-07-28T19:31:26.665Z"
   },
   {
    "duration": 2,
    "start_time": "2022-07-28T19:37:43.000Z"
   },
   {
    "duration": 42,
    "start_time": "2022-07-28T19:37:51.855Z"
   },
   {
    "duration": 60,
    "start_time": "2022-07-28T19:38:22.214Z"
   },
   {
    "duration": 18,
    "start_time": "2022-07-28T19:38:23.630Z"
   },
   {
    "duration": 40,
    "start_time": "2022-07-28T19:38:37.980Z"
   },
   {
    "duration": 5,
    "start_time": "2022-07-28T19:38:49.489Z"
   },
   {
    "duration": 10,
    "start_time": "2022-07-28T19:38:53.150Z"
   },
   {
    "duration": 8,
    "start_time": "2022-07-28T19:39:01.680Z"
   },
   {
    "duration": 176,
    "start_time": "2022-07-28T19:39:02.463Z"
   },
   {
    "duration": 17,
    "start_time": "2022-07-28T19:39:13.801Z"
   },
   {
    "duration": 12,
    "start_time": "2022-07-28T19:39:19.001Z"
   },
   {
    "duration": 10,
    "start_time": "2022-07-28T19:39:28.679Z"
   },
   {
    "duration": 16,
    "start_time": "2022-07-28T19:39:56.238Z"
   },
   {
    "duration": 17,
    "start_time": "2022-07-28T19:40:15.662Z"
   },
   {
    "duration": 6,
    "start_time": "2022-07-28T19:40:27.065Z"
   },
   {
    "duration": 27,
    "start_time": "2022-07-28T19:40:28.940Z"
   },
   {
    "duration": 11,
    "start_time": "2022-07-28T19:41:02.184Z"
   },
   {
    "duration": 8,
    "start_time": "2022-07-28T19:41:06.272Z"
   },
   {
    "duration": 10,
    "start_time": "2022-07-28T19:41:12.955Z"
   },
   {
    "duration": 166,
    "start_time": "2022-07-28T19:41:14.638Z"
   },
   {
    "duration": 6,
    "start_time": "2022-07-28T19:41:29.494Z"
   },
   {
    "duration": 161,
    "start_time": "2022-07-28T19:41:30.638Z"
   },
   {
    "duration": 481,
    "start_time": "2022-07-28T20:08:18.285Z"
   },
   {
    "duration": 1160,
    "start_time": "2022-07-28T20:08:18.769Z"
   },
   {
    "duration": 71,
    "start_time": "2022-07-28T20:08:19.931Z"
   },
   {
    "duration": 18,
    "start_time": "2022-07-28T20:08:20.004Z"
   },
   {
    "duration": 16,
    "start_time": "2022-07-28T20:08:20.024Z"
   },
   {
    "duration": 20,
    "start_time": "2022-07-28T20:08:20.042Z"
   },
   {
    "duration": 5,
    "start_time": "2022-07-28T20:08:20.064Z"
   },
   {
    "duration": 39,
    "start_time": "2022-07-28T20:08:20.070Z"
   },
   {
    "duration": 20,
    "start_time": "2022-07-28T20:08:20.110Z"
   },
   {
    "duration": 31,
    "start_time": "2022-07-28T20:08:20.134Z"
   },
   {
    "duration": 4,
    "start_time": "2022-07-28T20:08:20.168Z"
   },
   {
    "duration": 7,
    "start_time": "2022-07-28T20:08:20.174Z"
   },
   {
    "duration": 32,
    "start_time": "2022-07-28T20:08:20.182Z"
   },
   {
    "duration": 17,
    "start_time": "2022-07-28T20:08:20.216Z"
   },
   {
    "duration": 7,
    "start_time": "2022-07-28T20:08:20.235Z"
   },
   {
    "duration": 11,
    "start_time": "2022-07-28T20:08:20.244Z"
   },
   {
    "duration": 8,
    "start_time": "2022-07-28T20:08:20.256Z"
   },
   {
    "duration": 250,
    "start_time": "2022-07-28T20:08:20.266Z"
   },
   {
    "duration": 7,
    "start_time": "2022-07-28T20:08:20.518Z"
   },
   {
    "duration": 4,
    "start_time": "2022-07-28T20:08:20.527Z"
   },
   {
    "duration": 10,
    "start_time": "2022-07-28T20:08:20.533Z"
   },
   {
    "duration": 199,
    "start_time": "2022-07-28T20:08:20.545Z"
   },
   {
    "duration": 10,
    "start_time": "2022-07-28T20:08:20.746Z"
   },
   {
    "duration": 34,
    "start_time": "2022-07-28T20:08:20.757Z"
   },
   {
    "duration": 15,
    "start_time": "2022-07-28T20:08:20.793Z"
   },
   {
    "duration": 9,
    "start_time": "2022-07-28T20:08:20.809Z"
   },
   {
    "duration": 15,
    "start_time": "2022-07-28T20:08:20.820Z"
   },
   {
    "duration": 227,
    "start_time": "2022-07-28T20:08:20.839Z"
   },
   {
    "duration": 18,
    "start_time": "2022-07-28T20:08:21.067Z"
   },
   {
    "duration": 22,
    "start_time": "2022-07-28T20:08:21.086Z"
   },
   {
    "duration": 260,
    "start_time": "2022-07-28T20:08:21.109Z"
   },
   {
    "duration": 7,
    "start_time": "2022-07-28T20:08:21.371Z"
   },
   {
    "duration": 10,
    "start_time": "2022-07-28T20:08:21.380Z"
   },
   {
    "duration": 226,
    "start_time": "2022-07-28T20:08:21.392Z"
   },
   {
    "duration": 11,
    "start_time": "2022-07-28T20:08:21.620Z"
   },
   {
    "duration": 6,
    "start_time": "2022-07-28T20:08:21.633Z"
   },
   {
    "duration": 9,
    "start_time": "2022-07-28T20:08:21.641Z"
   },
   {
    "duration": 14,
    "start_time": "2022-07-28T20:08:21.652Z"
   },
   {
    "duration": 6,
    "start_time": "2022-07-28T20:08:21.668Z"
   },
   {
    "duration": 7,
    "start_time": "2022-07-28T20:08:21.676Z"
   },
   {
    "duration": 30,
    "start_time": "2022-07-28T20:08:21.685Z"
   },
   {
    "duration": 8,
    "start_time": "2022-07-28T20:08:21.717Z"
   },
   {
    "duration": 8,
    "start_time": "2022-07-28T20:08:21.727Z"
   },
   {
    "duration": 9,
    "start_time": "2022-07-28T20:08:21.737Z"
   },
   {
    "duration": 175,
    "start_time": "2022-07-28T20:08:21.748Z"
   },
   {
    "duration": 5,
    "start_time": "2022-07-28T20:08:21.925Z"
   },
   {
    "duration": 389,
    "start_time": "2022-07-28T20:08:21.932Z"
   },
   {
    "duration": 9,
    "start_time": "2022-07-28T20:08:22.322Z"
   },
   {
    "duration": 22,
    "start_time": "2022-07-28T20:08:22.333Z"
   },
   {
    "duration": 251,
    "start_time": "2022-07-28T20:08:22.357Z"
   },
   {
    "duration": 14,
    "start_time": "2022-07-28T20:08:22.609Z"
   },
   {
    "duration": 16,
    "start_time": "2022-07-28T20:08:22.625Z"
   },
   {
    "duration": 37,
    "start_time": "2022-07-28T20:08:22.643Z"
   },
   {
    "duration": 23,
    "start_time": "2022-07-28T20:08:22.682Z"
   },
   {
    "duration": 20,
    "start_time": "2022-07-28T20:08:22.707Z"
   },
   {
    "duration": 262,
    "start_time": "2022-07-28T20:08:22.729Z"
   },
   {
    "duration": 440,
    "start_time": "2022-07-28T20:08:22.993Z"
   },
   {
    "duration": 281,
    "start_time": "2022-07-28T20:08:23.435Z"
   },
   {
    "duration": 10,
    "start_time": "2022-07-28T20:08:23.718Z"
   },
   {
    "duration": 6,
    "start_time": "2022-07-28T20:08:23.730Z"
   },
   {
    "duration": 6,
    "start_time": "2022-07-28T20:08:23.737Z"
   },
   {
    "duration": 10,
    "start_time": "2022-07-28T20:08:23.745Z"
   },
   {
    "duration": 5,
    "start_time": "2022-07-28T20:08:23.757Z"
   },
   {
    "duration": 40,
    "start_time": "2022-07-28T20:08:23.764Z"
   },
   {
    "duration": 9,
    "start_time": "2022-07-28T20:08:23.806Z"
   },
   {
    "duration": 11,
    "start_time": "2022-07-28T20:08:23.817Z"
   },
   {
    "duration": 15,
    "start_time": "2022-07-28T20:08:23.830Z"
   },
   {
    "duration": 5,
    "start_time": "2022-07-28T20:08:23.847Z"
   },
   {
    "duration": 15,
    "start_time": "2022-07-28T20:08:23.854Z"
   },
   {
    "duration": 36,
    "start_time": "2022-07-28T20:08:23.871Z"
   },
   {
    "duration": 13,
    "start_time": "2022-07-28T20:08:23.910Z"
   },
   {
    "duration": 589,
    "start_time": "2022-07-28T23:28:28.074Z"
   },
   {
    "duration": 1070,
    "start_time": "2022-07-28T23:28:28.665Z"
   },
   {
    "duration": 65,
    "start_time": "2022-07-28T23:28:29.737Z"
   },
   {
    "duration": 13,
    "start_time": "2022-07-28T23:28:29.804Z"
   },
   {
    "duration": 12,
    "start_time": "2022-07-28T23:28:29.819Z"
   },
   {
    "duration": 20,
    "start_time": "2022-07-28T23:28:29.833Z"
   },
   {
    "duration": 4,
    "start_time": "2022-07-28T23:28:29.855Z"
   },
   {
    "duration": 11,
    "start_time": "2022-07-28T23:28:29.860Z"
   },
   {
    "duration": 13,
    "start_time": "2022-07-28T23:28:29.873Z"
   },
   {
    "duration": 14,
    "start_time": "2022-07-28T23:28:29.888Z"
   },
   {
    "duration": 5,
    "start_time": "2022-07-28T23:28:29.904Z"
   },
   {
    "duration": 4,
    "start_time": "2022-07-28T23:28:29.910Z"
   },
   {
    "duration": 33,
    "start_time": "2022-07-28T23:28:29.916Z"
   },
   {
    "duration": 13,
    "start_time": "2022-07-28T23:28:29.951Z"
   },
   {
    "duration": 6,
    "start_time": "2022-07-28T23:28:29.966Z"
   },
   {
    "duration": 5,
    "start_time": "2022-07-28T23:28:29.973Z"
   },
   {
    "duration": 8,
    "start_time": "2022-07-28T23:28:29.979Z"
   },
   {
    "duration": 226,
    "start_time": "2022-07-28T23:28:29.989Z"
   },
   {
    "duration": 6,
    "start_time": "2022-07-28T23:28:30.217Z"
   },
   {
    "duration": 14,
    "start_time": "2022-07-28T23:28:30.225Z"
   },
   {
    "duration": 15,
    "start_time": "2022-07-28T23:28:30.241Z"
   },
   {
    "duration": 166,
    "start_time": "2022-07-28T23:28:30.258Z"
   },
   {
    "duration": 17,
    "start_time": "2022-07-28T23:28:30.426Z"
   },
   {
    "duration": 7,
    "start_time": "2022-07-28T23:28:30.444Z"
   },
   {
    "duration": 18,
    "start_time": "2022-07-28T23:28:30.452Z"
   },
   {
    "duration": 18,
    "start_time": "2022-07-28T23:28:30.472Z"
   },
   {
    "duration": 26,
    "start_time": "2022-07-28T23:28:30.491Z"
   },
   {
    "duration": 189,
    "start_time": "2022-07-28T23:28:30.521Z"
   },
   {
    "duration": 16,
    "start_time": "2022-07-28T23:28:30.711Z"
   },
   {
    "duration": 7,
    "start_time": "2022-07-28T23:28:30.736Z"
   },
   {
    "duration": 219,
    "start_time": "2022-07-28T23:28:30.744Z"
   },
   {
    "duration": 7,
    "start_time": "2022-07-28T23:28:30.965Z"
   },
   {
    "duration": 36,
    "start_time": "2022-07-28T23:28:30.974Z"
   },
   {
    "duration": 177,
    "start_time": "2022-07-28T23:28:31.012Z"
   },
   {
    "duration": 9,
    "start_time": "2022-07-28T23:28:31.191Z"
   },
   {
    "duration": 26,
    "start_time": "2022-07-28T23:28:31.201Z"
   },
   {
    "duration": 14,
    "start_time": "2022-07-28T23:28:31.228Z"
   },
   {
    "duration": 37,
    "start_time": "2022-07-28T23:28:31.244Z"
   },
   {
    "duration": 8,
    "start_time": "2022-07-28T23:28:31.283Z"
   },
   {
    "duration": 10,
    "start_time": "2022-07-28T23:28:31.292Z"
   },
   {
    "duration": 16,
    "start_time": "2022-07-28T23:28:31.304Z"
   },
   {
    "duration": 14,
    "start_time": "2022-07-28T23:28:31.321Z"
   },
   {
    "duration": 42,
    "start_time": "2022-07-28T23:28:31.336Z"
   },
   {
    "duration": 49,
    "start_time": "2022-07-28T23:28:31.380Z"
   },
   {
    "duration": 180,
    "start_time": "2022-07-28T23:28:31.431Z"
   },
   {
    "duration": 6,
    "start_time": "2022-07-28T23:28:31.613Z"
   },
   {
    "duration": 323,
    "start_time": "2022-07-28T23:28:31.620Z"
   },
   {
    "duration": 8,
    "start_time": "2022-07-28T23:28:31.944Z"
   },
   {
    "duration": 7,
    "start_time": "2022-07-28T23:28:31.953Z"
   },
   {
    "duration": 200,
    "start_time": "2022-07-28T23:28:31.961Z"
   },
   {
    "duration": 11,
    "start_time": "2022-07-28T23:28:32.163Z"
   },
   {
    "duration": 9,
    "start_time": "2022-07-28T23:28:32.175Z"
   },
   {
    "duration": 11,
    "start_time": "2022-07-28T23:28:32.185Z"
   },
   {
    "duration": 13,
    "start_time": "2022-07-28T23:28:32.197Z"
   },
   {
    "duration": 6,
    "start_time": "2022-07-28T23:28:32.211Z"
   },
   {
    "duration": 226,
    "start_time": "2022-07-28T23:28:32.218Z"
   },
   {
    "duration": 577,
    "start_time": "2022-07-28T23:28:32.445Z"
   },
   {
    "duration": 189,
    "start_time": "2022-07-28T23:28:33.025Z"
   },
   {
    "duration": 8,
    "start_time": "2022-07-28T23:28:33.216Z"
   },
   {
    "duration": 6,
    "start_time": "2022-07-28T23:28:33.225Z"
   },
   {
    "duration": 4,
    "start_time": "2022-07-28T23:28:33.233Z"
   },
   {
    "duration": 10,
    "start_time": "2022-07-28T23:28:33.238Z"
   },
   {
    "duration": 3,
    "start_time": "2022-07-28T23:28:33.249Z"
   },
   {
    "duration": 6,
    "start_time": "2022-07-28T23:28:33.253Z"
   },
   {
    "duration": 7,
    "start_time": "2022-07-28T23:28:33.260Z"
   },
   {
    "duration": 8,
    "start_time": "2022-07-28T23:28:33.269Z"
   },
   {
    "duration": 12,
    "start_time": "2022-07-28T23:28:33.279Z"
   },
   {
    "duration": 4,
    "start_time": "2022-07-28T23:28:33.292Z"
   },
   {
    "duration": 11,
    "start_time": "2022-07-28T23:28:33.297Z"
   },
   {
    "duration": 34,
    "start_time": "2022-07-28T23:28:33.310Z"
   },
   {
    "duration": 9,
    "start_time": "2022-07-28T23:28:33.345Z"
   },
   {
    "duration": 602,
    "start_time": "2022-07-29T05:46:10.156Z"
   },
   {
    "duration": 1268,
    "start_time": "2022-07-29T05:46:10.760Z"
   },
   {
    "duration": 259,
    "start_time": "2022-07-29T05:46:12.030Z"
   },
   {
    "duration": 17,
    "start_time": "2022-07-29T05:46:12.291Z"
   },
   {
    "duration": 21,
    "start_time": "2022-07-29T05:46:12.310Z"
   },
   {
    "duration": 21,
    "start_time": "2022-07-29T05:46:12.334Z"
   },
   {
    "duration": 13,
    "start_time": "2022-07-29T05:46:12.361Z"
   },
   {
    "duration": 15,
    "start_time": "2022-07-29T05:46:12.376Z"
   },
   {
    "duration": 17,
    "start_time": "2022-07-29T05:46:12.393Z"
   },
   {
    "duration": 25,
    "start_time": "2022-07-29T05:46:12.411Z"
   },
   {
    "duration": 4,
    "start_time": "2022-07-29T05:46:12.437Z"
   },
   {
    "duration": 14,
    "start_time": "2022-07-29T05:46:12.443Z"
   },
   {
    "duration": 33,
    "start_time": "2022-07-29T05:46:12.459Z"
   },
   {
    "duration": 20,
    "start_time": "2022-07-29T05:46:12.496Z"
   },
   {
    "duration": 16,
    "start_time": "2022-07-29T05:46:12.518Z"
   },
   {
    "duration": 14,
    "start_time": "2022-07-29T05:46:12.536Z"
   },
   {
    "duration": 12,
    "start_time": "2022-07-29T05:46:12.552Z"
   },
   {
    "duration": 261,
    "start_time": "2022-07-29T05:46:12.566Z"
   },
   {
    "duration": 9,
    "start_time": "2022-07-29T05:46:12.829Z"
   },
   {
    "duration": 17,
    "start_time": "2022-07-29T05:46:12.839Z"
   },
   {
    "duration": 16,
    "start_time": "2022-07-29T05:46:12.858Z"
   },
   {
    "duration": 167,
    "start_time": "2022-07-29T05:46:12.876Z"
   },
   {
    "duration": 9,
    "start_time": "2022-07-29T05:46:13.044Z"
   },
   {
    "duration": 15,
    "start_time": "2022-07-29T05:46:13.054Z"
   },
   {
    "duration": 12,
    "start_time": "2022-07-29T05:46:13.070Z"
   },
   {
    "duration": 7,
    "start_time": "2022-07-29T05:46:13.083Z"
   },
   {
    "duration": 11,
    "start_time": "2022-07-29T05:46:13.091Z"
   },
   {
    "duration": 197,
    "start_time": "2022-07-29T05:46:13.104Z"
   },
   {
    "duration": 23,
    "start_time": "2022-07-29T05:46:13.302Z"
   },
   {
    "duration": 7,
    "start_time": "2022-07-29T05:46:13.326Z"
   },
   {
    "duration": 227,
    "start_time": "2022-07-29T05:46:13.334Z"
   },
   {
    "duration": 8,
    "start_time": "2022-07-29T05:46:13.563Z"
   },
   {
    "duration": 16,
    "start_time": "2022-07-29T05:46:13.572Z"
   },
   {
    "duration": 227,
    "start_time": "2022-07-29T05:46:13.590Z"
   },
   {
    "duration": 12,
    "start_time": "2022-07-29T05:46:13.819Z"
   },
   {
    "duration": 8,
    "start_time": "2022-07-29T05:46:13.833Z"
   },
   {
    "duration": 10,
    "start_time": "2022-07-29T05:46:13.842Z"
   },
   {
    "duration": 17,
    "start_time": "2022-07-29T05:46:13.854Z"
   },
   {
    "duration": 6,
    "start_time": "2022-07-29T05:46:13.873Z"
   },
   {
    "duration": 7,
    "start_time": "2022-07-29T05:46:13.881Z"
   },
   {
    "duration": 11,
    "start_time": "2022-07-29T05:46:13.892Z"
   },
   {
    "duration": 6,
    "start_time": "2022-07-29T05:46:13.924Z"
   },
   {
    "duration": 13,
    "start_time": "2022-07-29T05:46:13.932Z"
   },
   {
    "duration": 8,
    "start_time": "2022-07-29T05:46:13.947Z"
   },
   {
    "duration": 150,
    "start_time": "2022-07-29T05:46:13.957Z"
   },
   {
    "duration": 5,
    "start_time": "2022-07-29T05:46:14.109Z"
   },
   {
    "duration": 338,
    "start_time": "2022-07-29T05:46:14.124Z"
   },
   {
    "duration": 8,
    "start_time": "2022-07-29T05:46:14.464Z"
   },
   {
    "duration": 8,
    "start_time": "2022-07-29T05:46:14.474Z"
   },
   {
    "duration": 259,
    "start_time": "2022-07-29T05:46:14.484Z"
   },
   {
    "duration": 13,
    "start_time": "2022-07-29T05:46:14.745Z"
   },
   {
    "duration": 11,
    "start_time": "2022-07-29T05:46:14.760Z"
   },
   {
    "duration": 12,
    "start_time": "2022-07-29T05:46:14.773Z"
   },
   {
    "duration": 15,
    "start_time": "2022-07-29T05:46:14.786Z"
   },
   {
    "duration": 6,
    "start_time": "2022-07-29T05:46:14.802Z"
   },
   {
    "duration": 244,
    "start_time": "2022-07-29T05:46:14.825Z"
   },
   {
    "duration": 578,
    "start_time": "2022-07-29T05:46:20.131Z"
   },
   {
    "duration": 207,
    "start_time": "2022-07-29T05:46:22.322Z"
   },
   {
    "duration": 9,
    "start_time": "2022-07-29T05:46:24.973Z"
   },
   {
    "duration": 9,
    "start_time": "2022-07-29T05:53:06.635Z"
   },
   {
    "duration": 113,
    "start_time": "2022-07-29T05:53:16.588Z"
   },
   {
    "duration": 587,
    "start_time": "2022-07-29T05:54:11.085Z"
   },
   {
    "duration": 186,
    "start_time": "2022-07-29T05:54:11.674Z"
   },
   {
    "duration": 9,
    "start_time": "2022-07-29T05:54:11.865Z"
   },
   {
    "duration": 5,
    "start_time": "2022-07-29T05:54:12.360Z"
   },
   {
    "duration": 2,
    "start_time": "2022-07-29T05:54:12.997Z"
   },
   {
    "duration": 8,
    "start_time": "2022-07-29T05:54:13.479Z"
   },
   {
    "duration": 3,
    "start_time": "2022-07-29T05:54:14.008Z"
   },
   {
    "duration": 3,
    "start_time": "2022-07-29T05:54:14.385Z"
   },
   {
    "duration": 16,
    "start_time": "2022-07-29T05:54:15.301Z"
   },
   {
    "duration": 14,
    "start_time": "2022-07-29T05:54:58.982Z"
   },
   {
    "duration": 15,
    "start_time": "2022-07-29T05:55:15.164Z"
   },
   {
    "duration": 11,
    "start_time": "2022-07-29T05:55:21.267Z"
   },
   {
    "duration": 25,
    "start_time": "2022-07-29T05:55:36.864Z"
   },
   {
    "duration": 17,
    "start_time": "2022-07-29T05:55:56.626Z"
   },
   {
    "duration": 17,
    "start_time": "2022-07-29T05:56:25.171Z"
   },
   {
    "duration": 18,
    "start_time": "2022-07-29T05:56:43.666Z"
   },
   {
    "duration": 17,
    "start_time": "2022-07-29T05:56:52.666Z"
   },
   {
    "duration": 16,
    "start_time": "2022-07-29T05:56:57.438Z"
   },
   {
    "duration": 17,
    "start_time": "2022-07-29T05:57:07.323Z"
   },
   {
    "duration": 18,
    "start_time": "2022-07-29T05:57:25.579Z"
   },
   {
    "duration": 16,
    "start_time": "2022-07-29T05:58:15.121Z"
   },
   {
    "duration": 6,
    "start_time": "2022-07-29T05:59:22.737Z"
   },
   {
    "duration": 16,
    "start_time": "2022-07-29T05:59:45.596Z"
   },
   {
    "duration": 16,
    "start_time": "2022-07-29T05:59:55.158Z"
   },
   {
    "duration": 641,
    "start_time": "2022-07-29T13:38:26.349Z"
   },
   {
    "duration": 1054,
    "start_time": "2022-07-29T13:38:26.992Z"
   },
   {
    "duration": 65,
    "start_time": "2022-07-29T13:38:28.047Z"
   },
   {
    "duration": 12,
    "start_time": "2022-07-29T13:38:28.114Z"
   },
   {
    "duration": 13,
    "start_time": "2022-07-29T13:38:28.127Z"
   },
   {
    "duration": 25,
    "start_time": "2022-07-29T13:38:28.141Z"
   },
   {
    "duration": 5,
    "start_time": "2022-07-29T13:38:28.172Z"
   },
   {
    "duration": 10,
    "start_time": "2022-07-29T13:38:28.178Z"
   },
   {
    "duration": 29,
    "start_time": "2022-07-29T13:38:28.189Z"
   },
   {
    "duration": 15,
    "start_time": "2022-07-29T13:38:28.220Z"
   },
   {
    "duration": 3,
    "start_time": "2022-07-29T13:38:28.236Z"
   },
   {
    "duration": 5,
    "start_time": "2022-07-29T13:38:28.240Z"
   },
   {
    "duration": 30,
    "start_time": "2022-07-29T13:38:28.246Z"
   },
   {
    "duration": 12,
    "start_time": "2022-07-29T13:38:28.278Z"
   },
   {
    "duration": 7,
    "start_time": "2022-07-29T13:38:28.292Z"
   },
   {
    "duration": 5,
    "start_time": "2022-07-29T13:38:28.301Z"
   },
   {
    "duration": 9,
    "start_time": "2022-07-29T13:38:28.308Z"
   },
   {
    "duration": 220,
    "start_time": "2022-07-29T13:38:28.318Z"
   },
   {
    "duration": 6,
    "start_time": "2022-07-29T13:38:28.540Z"
   },
   {
    "duration": 21,
    "start_time": "2022-07-29T13:38:28.547Z"
   },
   {
    "duration": 16,
    "start_time": "2022-07-29T13:38:28.569Z"
   },
   {
    "duration": 154,
    "start_time": "2022-07-29T13:38:28.587Z"
   },
   {
    "duration": 9,
    "start_time": "2022-07-29T13:38:28.743Z"
   },
   {
    "duration": 10,
    "start_time": "2022-07-29T13:38:28.767Z"
   },
   {
    "duration": 11,
    "start_time": "2022-07-29T13:38:28.779Z"
   },
   {
    "duration": 5,
    "start_time": "2022-07-29T13:38:28.791Z"
   },
   {
    "duration": 10,
    "start_time": "2022-07-29T13:38:28.798Z"
   },
   {
    "duration": 202,
    "start_time": "2022-07-29T13:38:28.812Z"
   },
   {
    "duration": 16,
    "start_time": "2022-07-29T13:38:29.015Z"
   },
   {
    "duration": 7,
    "start_time": "2022-07-29T13:38:29.032Z"
   },
   {
    "duration": 234,
    "start_time": "2022-07-29T13:38:29.040Z"
   },
   {
    "duration": 7,
    "start_time": "2022-07-29T13:38:29.276Z"
   },
   {
    "duration": 14,
    "start_time": "2022-07-29T13:38:29.284Z"
   },
   {
    "duration": 181,
    "start_time": "2022-07-29T13:38:29.299Z"
   },
   {
    "duration": 10,
    "start_time": "2022-07-29T13:38:29.482Z"
   },
   {
    "duration": 5,
    "start_time": "2022-07-29T13:38:29.494Z"
   },
   {
    "duration": 7,
    "start_time": "2022-07-29T13:38:29.500Z"
   },
   {
    "duration": 12,
    "start_time": "2022-07-29T13:38:29.508Z"
   },
   {
    "duration": 5,
    "start_time": "2022-07-29T13:38:29.521Z"
   },
   {
    "duration": 6,
    "start_time": "2022-07-29T13:38:29.527Z"
   },
   {
    "duration": 35,
    "start_time": "2022-07-29T13:38:29.535Z"
   },
   {
    "duration": 6,
    "start_time": "2022-07-29T13:38:29.572Z"
   },
   {
    "duration": 5,
    "start_time": "2022-07-29T13:38:29.580Z"
   },
   {
    "duration": 11,
    "start_time": "2022-07-29T13:38:29.586Z"
   },
   {
    "duration": 148,
    "start_time": "2022-07-29T13:38:29.599Z"
   },
   {
    "duration": 23,
    "start_time": "2022-07-29T13:38:29.748Z"
   },
   {
    "duration": 321,
    "start_time": "2022-07-29T13:38:29.773Z"
   },
   {
    "duration": 8,
    "start_time": "2022-07-29T13:38:30.096Z"
   },
   {
    "duration": 25,
    "start_time": "2022-07-29T13:38:30.105Z"
   },
   {
    "duration": 215,
    "start_time": "2022-07-29T13:38:30.131Z"
   },
   {
    "duration": 26,
    "start_time": "2022-07-29T13:38:30.348Z"
   },
   {
    "duration": 18,
    "start_time": "2022-07-29T13:38:30.376Z"
   },
   {
    "duration": 31,
    "start_time": "2022-07-29T13:38:30.395Z"
   },
   {
    "duration": 43,
    "start_time": "2022-07-29T13:38:30.428Z"
   },
   {
    "duration": 38,
    "start_time": "2022-07-29T13:38:30.473Z"
   },
   {
    "duration": 276,
    "start_time": "2022-07-29T13:38:30.512Z"
   },
   {
    "duration": 608,
    "start_time": "2022-07-29T13:38:30.790Z"
   },
   {
    "duration": 202,
    "start_time": "2022-07-29T13:38:31.400Z"
   },
   {
    "duration": 9,
    "start_time": "2022-07-29T13:38:31.604Z"
   },
   {
    "duration": 7,
    "start_time": "2022-07-29T13:38:31.615Z"
   },
   {
    "duration": 9,
    "start_time": "2022-07-29T13:38:31.624Z"
   },
   {
    "duration": 27,
    "start_time": "2022-07-29T13:38:31.634Z"
   },
   {
    "duration": 21,
    "start_time": "2022-07-29T13:38:31.663Z"
   },
   {
    "duration": 22,
    "start_time": "2022-07-29T13:38:31.685Z"
   },
   {
    "duration": 29,
    "start_time": "2022-07-29T13:38:31.709Z"
   },
   {
    "duration": 10,
    "start_time": "2022-07-29T13:38:31.740Z"
   },
   {
    "duration": 7,
    "start_time": "2022-07-29T13:38:31.752Z"
   },
   {
    "duration": 25,
    "start_time": "2022-07-29T13:38:31.762Z"
   },
   {
    "duration": 6,
    "start_time": "2022-07-29T13:38:31.788Z"
   },
   {
    "duration": 12,
    "start_time": "2022-07-29T13:38:31.796Z"
   },
   {
    "duration": 7,
    "start_time": "2022-07-29T13:39:19.385Z"
   },
   {
    "duration": 96,
    "start_time": "2022-07-29T13:41:32.510Z"
   },
   {
    "duration": 14,
    "start_time": "2022-07-29T13:41:34.435Z"
   },
   {
    "duration": 19,
    "start_time": "2022-07-29T13:41:51.656Z"
   },
   {
    "duration": 17,
    "start_time": "2022-07-29T13:41:55.102Z"
   },
   {
    "duration": 18,
    "start_time": "2022-07-29T13:42:06.173Z"
   },
   {
    "duration": 7,
    "start_time": "2022-07-29T13:42:47.274Z"
   },
   {
    "duration": 13,
    "start_time": "2022-07-29T13:43:50.111Z"
   },
   {
    "duration": 11,
    "start_time": "2022-07-29T13:43:52.527Z"
   }
  ],
  "colab": {
   "collapsed_sections": [],
   "name": "project_8_grafiki.ipynb",
   "provenance": []
  },
  "kernelspec": {
   "display_name": "Python 3 (ipykernel)",
   "language": "python",
   "name": "python3"
  },
  "language_info": {
   "codemirror_mode": {
    "name": "ipython",
    "version": 3
   },
   "file_extension": ".py",
   "mimetype": "text/x-python",
   "name": "python",
   "nbconvert_exporter": "python",
   "pygments_lexer": "ipython3",
   "version": "3.9.7"
  },
  "toc": {
   "base_numbering": 1,
   "nav_menu": {},
   "number_sections": true,
   "sideBar": true,
   "skip_h1_title": true,
   "title_cell": "Table of Contents",
   "title_sidebar": "Contents",
   "toc_cell": false,
   "toc_position": {},
   "toc_section_display": true,
   "toc_window_display": true
  }
 },
 "nbformat": 4,
 "nbformat_minor": 1
}
