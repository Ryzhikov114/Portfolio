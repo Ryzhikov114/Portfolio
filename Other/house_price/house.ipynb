{
 "cells": [
  {
   "cell_type": "markdown",
   "id": "45f475da",
   "metadata": {},
   "source": [
    "# Исследование объявлений о продаже квартир"
   ]
  },
  {
   "cell_type": "markdown",
   "id": "70ff5926",
   "metadata": {},
   "source": [
    "Цели исследования:\n",
    "\n",
    "- Выяснить сколько обычно занимает продажа недвижимости? \n",
    "- Когда можно считать, что продажи прошли очень быстро, а когда необычно долго?\n",
    "- Какие факторы больше всего влияют на стоимость квартиры?\n",
    "- Выделить сегмент квартир в центре, отличаются ли они от общих выводов по всей базе?"
   ]
  },
  {
   "cell_type": "markdown",
   "id": "ffd83836",
   "metadata": {},
   "source": [
    "## Изучение данных из файла"
   ]
  },
  {
   "cell_type": "code",
   "execution_count": 1,
   "id": "31a59cf1",
   "metadata": {
    "ExecuteTime": {
     "end_time": "2022-08-27T10:46:18.376268Z",
     "start_time": "2022-08-27T10:46:16.639901Z"
    }
   },
   "outputs": [],
   "source": [
    "# импортируем библиотеки\n",
    "import pandas as pd\n",
    "import numpy as np\n",
    "import seaborn as sns\n",
    "import matplotlib.pyplot as plt\n",
    "import math"
   ]
  },
  {
   "cell_type": "code",
   "execution_count": 2,
   "id": "c9cbe01e",
   "metadata": {
    "ExecuteTime": {
     "end_time": "2022-08-27T10:46:18.518181Z",
     "start_time": "2022-08-27T10:46:18.378214Z"
    }
   },
   "outputs": [],
   "source": [
    "df = pd.read_csv('/anaconda_files/ya/p3_nedvizhimost/real_estate_data.csv',\n",
    "                 sep='\\t', parse_dates=['first_day_exposition'])"
   ]
  },
  {
   "cell_type": "code",
   "execution_count": 3,
   "id": "4aa709d4",
   "metadata": {
    "ExecuteTime": {
     "end_time": "2022-08-27T10:46:20.217557Z",
     "start_time": "2022-08-27T10:46:20.163588Z"
    }
   },
   "outputs": [
    {
     "data": {
      "text/html": [
       "<div>\n",
       "<style scoped>\n",
       "    .dataframe tbody tr th:only-of-type {\n",
       "        vertical-align: middle;\n",
       "    }\n",
       "\n",
       "    .dataframe tbody tr th {\n",
       "        vertical-align: top;\n",
       "    }\n",
       "\n",
       "    .dataframe thead th {\n",
       "        text-align: right;\n",
       "    }\n",
       "</style>\n",
       "<table border=\"1\" class=\"dataframe\">\n",
       "  <thead>\n",
       "    <tr style=\"text-align: right;\">\n",
       "      <th></th>\n",
       "      <th>total_images</th>\n",
       "      <th>last_price</th>\n",
       "      <th>total_area</th>\n",
       "      <th>first_day_exposition</th>\n",
       "      <th>rooms</th>\n",
       "      <th>ceiling_height</th>\n",
       "      <th>floors_total</th>\n",
       "      <th>living_area</th>\n",
       "      <th>floor</th>\n",
       "      <th>is_apartment</th>\n",
       "      <th>...</th>\n",
       "      <th>kitchen_area</th>\n",
       "      <th>balcony</th>\n",
       "      <th>locality_name</th>\n",
       "      <th>airports_nearest</th>\n",
       "      <th>cityCenters_nearest</th>\n",
       "      <th>parks_around3000</th>\n",
       "      <th>parks_nearest</th>\n",
       "      <th>ponds_around3000</th>\n",
       "      <th>ponds_nearest</th>\n",
       "      <th>days_exposition</th>\n",
       "    </tr>\n",
       "  </thead>\n",
       "  <tbody>\n",
       "    <tr>\n",
       "      <th>0</th>\n",
       "      <td>20</td>\n",
       "      <td>13000000.0</td>\n",
       "      <td>108.0</td>\n",
       "      <td>2019-03-07</td>\n",
       "      <td>3</td>\n",
       "      <td>2.70</td>\n",
       "      <td>16.0</td>\n",
       "      <td>51.0</td>\n",
       "      <td>8</td>\n",
       "      <td>NaN</td>\n",
       "      <td>...</td>\n",
       "      <td>25.0</td>\n",
       "      <td>NaN</td>\n",
       "      <td>Санкт-Петербург</td>\n",
       "      <td>18863.0</td>\n",
       "      <td>16028.0</td>\n",
       "      <td>1.0</td>\n",
       "      <td>482.0</td>\n",
       "      <td>2.0</td>\n",
       "      <td>755.0</td>\n",
       "      <td>NaN</td>\n",
       "    </tr>\n",
       "    <tr>\n",
       "      <th>1</th>\n",
       "      <td>7</td>\n",
       "      <td>3350000.0</td>\n",
       "      <td>40.4</td>\n",
       "      <td>2018-12-04</td>\n",
       "      <td>1</td>\n",
       "      <td>NaN</td>\n",
       "      <td>11.0</td>\n",
       "      <td>18.6</td>\n",
       "      <td>1</td>\n",
       "      <td>NaN</td>\n",
       "      <td>...</td>\n",
       "      <td>11.0</td>\n",
       "      <td>2.0</td>\n",
       "      <td>посёлок Шушары</td>\n",
       "      <td>12817.0</td>\n",
       "      <td>18603.0</td>\n",
       "      <td>0.0</td>\n",
       "      <td>NaN</td>\n",
       "      <td>0.0</td>\n",
       "      <td>NaN</td>\n",
       "      <td>81.0</td>\n",
       "    </tr>\n",
       "    <tr>\n",
       "      <th>2</th>\n",
       "      <td>10</td>\n",
       "      <td>5196000.0</td>\n",
       "      <td>56.0</td>\n",
       "      <td>2015-08-20</td>\n",
       "      <td>2</td>\n",
       "      <td>NaN</td>\n",
       "      <td>5.0</td>\n",
       "      <td>34.3</td>\n",
       "      <td>4</td>\n",
       "      <td>NaN</td>\n",
       "      <td>...</td>\n",
       "      <td>8.3</td>\n",
       "      <td>0.0</td>\n",
       "      <td>Санкт-Петербург</td>\n",
       "      <td>21741.0</td>\n",
       "      <td>13933.0</td>\n",
       "      <td>1.0</td>\n",
       "      <td>90.0</td>\n",
       "      <td>2.0</td>\n",
       "      <td>574.0</td>\n",
       "      <td>558.0</td>\n",
       "    </tr>\n",
       "    <tr>\n",
       "      <th>3</th>\n",
       "      <td>0</td>\n",
       "      <td>64900000.0</td>\n",
       "      <td>159.0</td>\n",
       "      <td>2015-07-24</td>\n",
       "      <td>3</td>\n",
       "      <td>NaN</td>\n",
       "      <td>14.0</td>\n",
       "      <td>NaN</td>\n",
       "      <td>9</td>\n",
       "      <td>NaN</td>\n",
       "      <td>...</td>\n",
       "      <td>NaN</td>\n",
       "      <td>0.0</td>\n",
       "      <td>Санкт-Петербург</td>\n",
       "      <td>28098.0</td>\n",
       "      <td>6800.0</td>\n",
       "      <td>2.0</td>\n",
       "      <td>84.0</td>\n",
       "      <td>3.0</td>\n",
       "      <td>234.0</td>\n",
       "      <td>424.0</td>\n",
       "    </tr>\n",
       "    <tr>\n",
       "      <th>4</th>\n",
       "      <td>2</td>\n",
       "      <td>10000000.0</td>\n",
       "      <td>100.0</td>\n",
       "      <td>2018-06-19</td>\n",
       "      <td>2</td>\n",
       "      <td>3.03</td>\n",
       "      <td>14.0</td>\n",
       "      <td>32.0</td>\n",
       "      <td>13</td>\n",
       "      <td>NaN</td>\n",
       "      <td>...</td>\n",
       "      <td>41.0</td>\n",
       "      <td>NaN</td>\n",
       "      <td>Санкт-Петербург</td>\n",
       "      <td>31856.0</td>\n",
       "      <td>8098.0</td>\n",
       "      <td>2.0</td>\n",
       "      <td>112.0</td>\n",
       "      <td>1.0</td>\n",
       "      <td>48.0</td>\n",
       "      <td>121.0</td>\n",
       "    </tr>\n",
       "  </tbody>\n",
       "</table>\n",
       "<p>5 rows × 22 columns</p>\n",
       "</div>"
      ],
      "text/plain": [
       "   total_images  last_price  total_area first_day_exposition  rooms  \\\n",
       "0            20  13000000.0       108.0           2019-03-07      3   \n",
       "1             7   3350000.0        40.4           2018-12-04      1   \n",
       "2            10   5196000.0        56.0           2015-08-20      2   \n",
       "3             0  64900000.0       159.0           2015-07-24      3   \n",
       "4             2  10000000.0       100.0           2018-06-19      2   \n",
       "\n",
       "   ceiling_height  floors_total  living_area  floor is_apartment  ...  \\\n",
       "0            2.70          16.0         51.0      8          NaN  ...   \n",
       "1             NaN          11.0         18.6      1          NaN  ...   \n",
       "2             NaN           5.0         34.3      4          NaN  ...   \n",
       "3             NaN          14.0          NaN      9          NaN  ...   \n",
       "4            3.03          14.0         32.0     13          NaN  ...   \n",
       "\n",
       "   kitchen_area  balcony    locality_name  airports_nearest  \\\n",
       "0          25.0      NaN  Санкт-Петербург           18863.0   \n",
       "1          11.0      2.0   посёлок Шушары           12817.0   \n",
       "2           8.3      0.0  Санкт-Петербург           21741.0   \n",
       "3           NaN      0.0  Санкт-Петербург           28098.0   \n",
       "4          41.0      NaN  Санкт-Петербург           31856.0   \n",
       "\n",
       "  cityCenters_nearest  parks_around3000  parks_nearest  ponds_around3000  \\\n",
       "0             16028.0               1.0          482.0               2.0   \n",
       "1             18603.0               0.0            NaN               0.0   \n",
       "2             13933.0               1.0           90.0               2.0   \n",
       "3              6800.0               2.0           84.0               3.0   \n",
       "4              8098.0               2.0          112.0               1.0   \n",
       "\n",
       "   ponds_nearest  days_exposition  \n",
       "0          755.0              NaN  \n",
       "1            NaN             81.0  \n",
       "2          574.0            558.0  \n",
       "3          234.0            424.0  \n",
       "4           48.0            121.0  \n",
       "\n",
       "[5 rows x 22 columns]"
      ]
     },
     "metadata": {},
     "output_type": "display_data"
    }
   ],
   "source": [
    "# первое знакомство с таблицей\n",
    "display(df.head())"
   ]
  },
  {
   "cell_type": "code",
   "execution_count": 4,
   "id": "549841ad",
   "metadata": {
    "scrolled": false
   },
   "outputs": [
    {
     "name": "stdout",
     "output_type": "stream",
     "text": [
      "<class 'pandas.core.frame.DataFrame'>\n",
      "RangeIndex: 23699 entries, 0 to 23698\n",
      "Data columns (total 22 columns):\n",
      " #   Column                Non-Null Count  Dtype         \n",
      "---  ------                --------------  -----         \n",
      " 0   total_images          23699 non-null  int64         \n",
      " 1   last_price            23699 non-null  float64       \n",
      " 2   total_area            23699 non-null  float64       \n",
      " 3   first_day_exposition  23699 non-null  datetime64[ns]\n",
      " 4   rooms                 23699 non-null  int64         \n",
      " 5   ceiling_height        14504 non-null  float64       \n",
      " 6   floors_total          23613 non-null  float64       \n",
      " 7   living_area           21796 non-null  float64       \n",
      " 8   floor                 23699 non-null  int64         \n",
      " 9   is_apartment          2775 non-null   object        \n",
      " 10  studio                23699 non-null  bool          \n",
      " 11  open_plan             23699 non-null  bool          \n",
      " 12  kitchen_area          21421 non-null  float64       \n",
      " 13  balcony               12180 non-null  float64       \n",
      " 14  locality_name         23650 non-null  object        \n",
      " 15  airports_nearest      18157 non-null  float64       \n",
      " 16  cityCenters_nearest   18180 non-null  float64       \n",
      " 17  parks_around3000      18181 non-null  float64       \n",
      " 18  parks_nearest         8079 non-null   float64       \n",
      " 19  ponds_around3000      18181 non-null  float64       \n",
      " 20  ponds_nearest         9110 non-null   float64       \n",
      " 21  days_exposition       20518 non-null  float64       \n",
      "dtypes: bool(2), datetime64[ns](1), float64(14), int64(3), object(2)\n",
      "memory usage: 3.7+ MB\n"
     ]
    }
   ],
   "source": [
    "# смотрим на пропуски и тип данных\n",
    "df.info()"
   ]
  },
  {
   "cell_type": "code",
   "execution_count": 5,
   "id": "55db0809",
   "metadata": {},
   "outputs": [],
   "source": [
    "# функция из воркшопа,\n",
    "# ищет уникальные значения, выводит название и колличество уникальных значений\n",
    "\n",
    "def describe_cols(df):\n",
    "\n",
    "    values = pd.DataFrame()\n",
    "\n",
    "    for col in df.columns:\n",
    "        values[col] = [df[col].unique(), df[col].nunique()]\n",
    "\n",
    "    return values.transpose().sort_values(by=1, ascending=True).rename(\n",
    "        {0: 'Значения', 1: 'Кол-во уникальных значений'}, axis=1)"
   ]
  },
  {
   "cell_type": "code",
   "execution_count": 6,
   "id": "0e166a81",
   "metadata": {},
   "outputs": [
    {
     "data": {
      "text/html": [
       "<div>\n",
       "<style scoped>\n",
       "    .dataframe tbody tr th:only-of-type {\n",
       "        vertical-align: middle;\n",
       "    }\n",
       "\n",
       "    .dataframe tbody tr th {\n",
       "        vertical-align: top;\n",
       "    }\n",
       "\n",
       "    .dataframe thead th {\n",
       "        text-align: right;\n",
       "    }\n",
       "</style>\n",
       "<table border=\"1\" class=\"dataframe\">\n",
       "  <thead>\n",
       "    <tr style=\"text-align: right;\">\n",
       "      <th></th>\n",
       "      <th>Значения</th>\n",
       "      <th>Кол-во уникальных значений</th>\n",
       "    </tr>\n",
       "  </thead>\n",
       "  <tbody>\n",
       "    <tr>\n",
       "      <th>studio</th>\n",
       "      <td>[False, True]</td>\n",
       "      <td>2</td>\n",
       "    </tr>\n",
       "    <tr>\n",
       "      <th>open_plan</th>\n",
       "      <td>[False, True]</td>\n",
       "      <td>2</td>\n",
       "    </tr>\n",
       "    <tr>\n",
       "      <th>is_apartment</th>\n",
       "      <td>[nan, False, True]</td>\n",
       "      <td>2</td>\n",
       "    </tr>\n",
       "    <tr>\n",
       "      <th>ponds_around3000</th>\n",
       "      <td>[2.0, 0.0, 3.0, 1.0, nan]</td>\n",
       "      <td>4</td>\n",
       "    </tr>\n",
       "    <tr>\n",
       "      <th>parks_around3000</th>\n",
       "      <td>[1.0, 0.0, 2.0, nan, 3.0]</td>\n",
       "      <td>4</td>\n",
       "    </tr>\n",
       "    <tr>\n",
       "      <th>balcony</th>\n",
       "      <td>[nan, 2.0, 0.0, 1.0, 5.0, 4.0, 3.0]</td>\n",
       "      <td>6</td>\n",
       "    </tr>\n",
       "    <tr>\n",
       "      <th>rooms</th>\n",
       "      <td>[3, 1, 2, 4, 5, 6, 0, 7, 11, 8, 14, 10, 15, 9,...</td>\n",
       "      <td>17</td>\n",
       "    </tr>\n",
       "    <tr>\n",
       "      <th>floor</th>\n",
       "      <td>[8, 1, 4, 9, 13, 5, 6, 22, 26, 7, 3, 2, 11, 15...</td>\n",
       "      <td>33</td>\n",
       "    </tr>\n",
       "    <tr>\n",
       "      <th>floors_total</th>\n",
       "      <td>[16.0, 11.0, 5.0, 14.0, 12.0, 26.0, 24.0, 27.0...</td>\n",
       "      <td>36</td>\n",
       "    </tr>\n",
       "    <tr>\n",
       "      <th>total_images</th>\n",
       "      <td>[20, 7, 10, 0, 2, 6, 5, 18, 9, 1, 16, 11, 8, 1...</td>\n",
       "      <td>38</td>\n",
       "    </tr>\n",
       "    <tr>\n",
       "      <th>ceiling_height</th>\n",
       "      <td>[2.7, nan, 3.03, 2.5, 2.67, 2.56, 3.05, 2.75, ...</td>\n",
       "      <td>183</td>\n",
       "    </tr>\n",
       "    <tr>\n",
       "      <th>locality_name</th>\n",
       "      <td>[Санкт-Петербург, посёлок Шушары, городской по...</td>\n",
       "      <td>364</td>\n",
       "    </tr>\n",
       "    <tr>\n",
       "      <th>kitchen_area</th>\n",
       "      <td>[25.0, 11.0, 8.3, nan, 41.0, 9.1, 14.4, 18.9, ...</td>\n",
       "      <td>971</td>\n",
       "    </tr>\n",
       "    <tr>\n",
       "      <th>parks_nearest</th>\n",
       "      <td>[482.0, nan, 90.0, 84.0, 112.0, 310.0, 294.0, ...</td>\n",
       "      <td>995</td>\n",
       "    </tr>\n",
       "    <tr>\n",
       "      <th>ponds_nearest</th>\n",
       "      <td>[755.0, nan, 574.0, 234.0, 48.0, 553.0, 298.0,...</td>\n",
       "      <td>1096</td>\n",
       "    </tr>\n",
       "    <tr>\n",
       "      <th>days_exposition</th>\n",
       "      <td>[nan, 81.0, 558.0, 424.0, 121.0, 55.0, 155.0, ...</td>\n",
       "      <td>1141</td>\n",
       "    </tr>\n",
       "    <tr>\n",
       "      <th>first_day_exposition</th>\n",
       "      <td>[2019-03-07T00:00:00.000000000, 2018-12-04T00:...</td>\n",
       "      <td>1491</td>\n",
       "    </tr>\n",
       "    <tr>\n",
       "      <th>living_area</th>\n",
       "      <td>[51.0, 18.6, 34.3, nan, 32.0, 14.4, 10.6, 15.4...</td>\n",
       "      <td>1782</td>\n",
       "    </tr>\n",
       "    <tr>\n",
       "      <th>total_area</th>\n",
       "      <td>[108.0, 40.4, 56.0, 159.0, 100.0, 30.4, 37.3, ...</td>\n",
       "      <td>2182</td>\n",
       "    </tr>\n",
       "    <tr>\n",
       "      <th>last_price</th>\n",
       "      <td>[13000000.0, 3350000.0, 5196000.0, 64900000.0,...</td>\n",
       "      <td>2978</td>\n",
       "    </tr>\n",
       "    <tr>\n",
       "      <th>cityCenters_nearest</th>\n",
       "      <td>[16028.0, 18603.0, 13933.0, 6800.0, 8098.0, na...</td>\n",
       "      <td>7642</td>\n",
       "    </tr>\n",
       "    <tr>\n",
       "      <th>airports_nearest</th>\n",
       "      <td>[18863.0, 12817.0, 21741.0, 28098.0, 31856.0, ...</td>\n",
       "      <td>8275</td>\n",
       "    </tr>\n",
       "  </tbody>\n",
       "</table>\n",
       "</div>"
      ],
      "text/plain": [
       "                                                               Значения  \\\n",
       "studio                                                    [False, True]   \n",
       "open_plan                                                 [False, True]   \n",
       "is_apartment                                         [nan, False, True]   \n",
       "ponds_around3000                              [2.0, 0.0, 3.0, 1.0, nan]   \n",
       "parks_around3000                              [1.0, 0.0, 2.0, nan, 3.0]   \n",
       "balcony                             [nan, 2.0, 0.0, 1.0, 5.0, 4.0, 3.0]   \n",
       "rooms                 [3, 1, 2, 4, 5, 6, 0, 7, 11, 8, 14, 10, 15, 9,...   \n",
       "floor                 [8, 1, 4, 9, 13, 5, 6, 22, 26, 7, 3, 2, 11, 15...   \n",
       "floors_total          [16.0, 11.0, 5.0, 14.0, 12.0, 26.0, 24.0, 27.0...   \n",
       "total_images          [20, 7, 10, 0, 2, 6, 5, 18, 9, 1, 16, 11, 8, 1...   \n",
       "ceiling_height        [2.7, nan, 3.03, 2.5, 2.67, 2.56, 3.05, 2.75, ...   \n",
       "locality_name         [Санкт-Петербург, посёлок Шушары, городской по...   \n",
       "kitchen_area          [25.0, 11.0, 8.3, nan, 41.0, 9.1, 14.4, 18.9, ...   \n",
       "parks_nearest         [482.0, nan, 90.0, 84.0, 112.0, 310.0, 294.0, ...   \n",
       "ponds_nearest         [755.0, nan, 574.0, 234.0, 48.0, 553.0, 298.0,...   \n",
       "days_exposition       [nan, 81.0, 558.0, 424.0, 121.0, 55.0, 155.0, ...   \n",
       "first_day_exposition  [2019-03-07T00:00:00.000000000, 2018-12-04T00:...   \n",
       "living_area           [51.0, 18.6, 34.3, nan, 32.0, 14.4, 10.6, 15.4...   \n",
       "total_area            [108.0, 40.4, 56.0, 159.0, 100.0, 30.4, 37.3, ...   \n",
       "last_price            [13000000.0, 3350000.0, 5196000.0, 64900000.0,...   \n",
       "cityCenters_nearest   [16028.0, 18603.0, 13933.0, 6800.0, 8098.0, na...   \n",
       "airports_nearest      [18863.0, 12817.0, 21741.0, 28098.0, 31856.0, ...   \n",
       "\n",
       "                     Кол-во уникальных значений  \n",
       "studio                                        2  \n",
       "open_plan                                     2  \n",
       "is_apartment                                  2  \n",
       "ponds_around3000                              4  \n",
       "parks_around3000                              4  \n",
       "balcony                                       6  \n",
       "rooms                                        17  \n",
       "floor                                        33  \n",
       "floors_total                                 36  \n",
       "total_images                                 38  \n",
       "ceiling_height                              183  \n",
       "locality_name                               364  \n",
       "kitchen_area                                971  \n",
       "parks_nearest                               995  \n",
       "ponds_nearest                              1096  \n",
       "days_exposition                            1141  \n",
       "first_day_exposition                       1491  \n",
       "living_area                                1782  \n",
       "total_area                                 2182  \n",
       "last_price                                 2978  \n",
       "cityCenters_nearest                        7642  \n",
       "airports_nearest                           8275  "
      ]
     },
     "execution_count": 6,
     "metadata": {},
     "output_type": "execute_result"
    }
   ],
   "source": [
    "# применим функцию на дата фрейме\n",
    "describe_cols(df)"
   ]
  },
  {
   "cell_type": "markdown",
   "id": "8b6ed218",
   "metadata": {},
   "source": [
    "##### Вывод:\n",
    "- нужно изменить некоторые названия колонок\n",
    "- ceiling_height много пустых значений \n",
    "- floors_total поменять на int \n",
    "- is_apartment много пустых значений на первый взгляд имеет не верный формат, по заданию пропуски заменим на 0 предполагая что балкона нет \n",
    "- locality_name подробнее изучить столбец\n",
    "- total_images колонка для анализа нам не поможет, возможно надо удалить"
   ]
  },
  {
   "cell_type": "markdown",
   "id": "6c3870d9",
   "metadata": {},
   "source": [
    "## Предобработка данных"
   ]
  },
  {
   "cell_type": "markdown",
   "id": "40b78f7b",
   "metadata": {},
   "source": [
    "### Испраление названия колонок"
   ]
  },
  {
   "cell_type": "code",
   "execution_count": 7,
   "id": "ed1806e2",
   "metadata": {},
   "outputs": [],
   "source": [
    "# исправляем названия колонок\n",
    "df.rename(columns={'parks_around3000': 'parks_around_3000',\n",
    "                   'ponds_around3000': 'ponds_around_3000',\n",
    "                   'cityCenters_nearest': 'city_centers_nearest'},  inplace=True)"
   ]
  },
  {
   "cell_type": "markdown",
   "id": "f0ec8ecf",
   "metadata": {},
   "source": [
    "### Заполнение пропусков"
   ]
  },
  {
   "cell_type": "code",
   "execution_count": 8,
   "id": "96e85244",
   "metadata": {},
   "outputs": [],
   "source": [
    "# функция из воркшопа,\n",
    "# проверяет неявные и явные пустые значения\n",
    "\n",
    "def nan_values(df, list_nans=['', ' ', '\"\"', '\" \"', \"''\", \"' '\", None, np.nan, pd.NA]):\n",
    "    \"\"\"\n",
    "    функция проверят на явные и не явные пропуски, создает отдельный датафрейм\n",
    "    \"\"\"\n",
    "    list_count = []\n",
    "    list_share = []\n",
    "\n",
    "    for col in df.columns:\n",
    "        list_count.append(sum(df[col].isin(list_nans)))\n",
    "        list_share.append(\n",
    "            round(sum(df[col].isin(list_nans)) * 100 / df.shape[0], 2))\n",
    "\n",
    "    missing_value_df = pd.DataFrame({'column_name': df.columns,\n",
    "                                    'num_missing': list_count,\n",
    "                                     'percent_missing': list_share})\n",
    "    return missing_value_df"
   ]
  },
  {
   "cell_type": "code",
   "execution_count": 9,
   "id": "a396bbdc",
   "metadata": {},
   "outputs": [
    {
     "data": {
      "text/html": [
       "<div>\n",
       "<style scoped>\n",
       "    .dataframe tbody tr th:only-of-type {\n",
       "        vertical-align: middle;\n",
       "    }\n",
       "\n",
       "    .dataframe tbody tr th {\n",
       "        vertical-align: top;\n",
       "    }\n",
       "\n",
       "    .dataframe thead th {\n",
       "        text-align: right;\n",
       "    }\n",
       "</style>\n",
       "<table border=\"1\" class=\"dataframe\">\n",
       "  <thead>\n",
       "    <tr style=\"text-align: right;\">\n",
       "      <th></th>\n",
       "      <th>column_name</th>\n",
       "      <th>num_missing</th>\n",
       "      <th>percent_missing</th>\n",
       "    </tr>\n",
       "  </thead>\n",
       "  <tbody>\n",
       "    <tr>\n",
       "      <th>0</th>\n",
       "      <td>total_images</td>\n",
       "      <td>0</td>\n",
       "      <td>0.00</td>\n",
       "    </tr>\n",
       "    <tr>\n",
       "      <th>1</th>\n",
       "      <td>last_price</td>\n",
       "      <td>0</td>\n",
       "      <td>0.00</td>\n",
       "    </tr>\n",
       "    <tr>\n",
       "      <th>2</th>\n",
       "      <td>total_area</td>\n",
       "      <td>0</td>\n",
       "      <td>0.00</td>\n",
       "    </tr>\n",
       "    <tr>\n",
       "      <th>3</th>\n",
       "      <td>first_day_exposition</td>\n",
       "      <td>0</td>\n",
       "      <td>0.00</td>\n",
       "    </tr>\n",
       "    <tr>\n",
       "      <th>4</th>\n",
       "      <td>rooms</td>\n",
       "      <td>0</td>\n",
       "      <td>0.00</td>\n",
       "    </tr>\n",
       "    <tr>\n",
       "      <th>5</th>\n",
       "      <td>ceiling_height</td>\n",
       "      <td>9195</td>\n",
       "      <td>38.80</td>\n",
       "    </tr>\n",
       "    <tr>\n",
       "      <th>6</th>\n",
       "      <td>floors_total</td>\n",
       "      <td>86</td>\n",
       "      <td>0.36</td>\n",
       "    </tr>\n",
       "    <tr>\n",
       "      <th>7</th>\n",
       "      <td>living_area</td>\n",
       "      <td>1903</td>\n",
       "      <td>8.03</td>\n",
       "    </tr>\n",
       "    <tr>\n",
       "      <th>8</th>\n",
       "      <td>floor</td>\n",
       "      <td>0</td>\n",
       "      <td>0.00</td>\n",
       "    </tr>\n",
       "    <tr>\n",
       "      <th>9</th>\n",
       "      <td>is_apartment</td>\n",
       "      <td>20924</td>\n",
       "      <td>88.29</td>\n",
       "    </tr>\n",
       "    <tr>\n",
       "      <th>10</th>\n",
       "      <td>studio</td>\n",
       "      <td>0</td>\n",
       "      <td>0.00</td>\n",
       "    </tr>\n",
       "    <tr>\n",
       "      <th>11</th>\n",
       "      <td>open_plan</td>\n",
       "      <td>0</td>\n",
       "      <td>0.00</td>\n",
       "    </tr>\n",
       "    <tr>\n",
       "      <th>12</th>\n",
       "      <td>kitchen_area</td>\n",
       "      <td>2278</td>\n",
       "      <td>9.61</td>\n",
       "    </tr>\n",
       "    <tr>\n",
       "      <th>13</th>\n",
       "      <td>balcony</td>\n",
       "      <td>11519</td>\n",
       "      <td>48.61</td>\n",
       "    </tr>\n",
       "    <tr>\n",
       "      <th>14</th>\n",
       "      <td>locality_name</td>\n",
       "      <td>49</td>\n",
       "      <td>0.21</td>\n",
       "    </tr>\n",
       "    <tr>\n",
       "      <th>15</th>\n",
       "      <td>airports_nearest</td>\n",
       "      <td>5542</td>\n",
       "      <td>23.38</td>\n",
       "    </tr>\n",
       "    <tr>\n",
       "      <th>16</th>\n",
       "      <td>city_centers_nearest</td>\n",
       "      <td>5519</td>\n",
       "      <td>23.29</td>\n",
       "    </tr>\n",
       "    <tr>\n",
       "      <th>17</th>\n",
       "      <td>parks_around_3000</td>\n",
       "      <td>5518</td>\n",
       "      <td>23.28</td>\n",
       "    </tr>\n",
       "    <tr>\n",
       "      <th>18</th>\n",
       "      <td>parks_nearest</td>\n",
       "      <td>15620</td>\n",
       "      <td>65.91</td>\n",
       "    </tr>\n",
       "    <tr>\n",
       "      <th>19</th>\n",
       "      <td>ponds_around_3000</td>\n",
       "      <td>5518</td>\n",
       "      <td>23.28</td>\n",
       "    </tr>\n",
       "    <tr>\n",
       "      <th>20</th>\n",
       "      <td>ponds_nearest</td>\n",
       "      <td>14589</td>\n",
       "      <td>61.56</td>\n",
       "    </tr>\n",
       "    <tr>\n",
       "      <th>21</th>\n",
       "      <td>days_exposition</td>\n",
       "      <td>3181</td>\n",
       "      <td>13.42</td>\n",
       "    </tr>\n",
       "  </tbody>\n",
       "</table>\n",
       "</div>"
      ],
      "text/plain": [
       "             column_name  num_missing  percent_missing\n",
       "0           total_images            0             0.00\n",
       "1             last_price            0             0.00\n",
       "2             total_area            0             0.00\n",
       "3   first_day_exposition            0             0.00\n",
       "4                  rooms            0             0.00\n",
       "5         ceiling_height         9195            38.80\n",
       "6           floors_total           86             0.36\n",
       "7            living_area         1903             8.03\n",
       "8                  floor            0             0.00\n",
       "9           is_apartment        20924            88.29\n",
       "10                studio            0             0.00\n",
       "11             open_plan            0             0.00\n",
       "12          kitchen_area         2278             9.61\n",
       "13               balcony        11519            48.61\n",
       "14         locality_name           49             0.21\n",
       "15      airports_nearest         5542            23.38\n",
       "16  city_centers_nearest         5519            23.29\n",
       "17     parks_around_3000         5518            23.28\n",
       "18         parks_nearest        15620            65.91\n",
       "19     ponds_around_3000         5518            23.28\n",
       "20         ponds_nearest        14589            61.56\n",
       "21       days_exposition         3181            13.42"
      ]
     },
     "execution_count": 9,
     "metadata": {},
     "output_type": "execute_result"
    }
   ],
   "source": [
    "# применим функцию\n",
    "nan_values(df)"
   ]
  },
  {
   "cell_type": "markdown",
   "id": "85be282c",
   "metadata": {},
   "source": [
    "##### Вывод:\n",
    "    ceiling_height          38% (высота потолков) - можно заменить медианой\n",
    "    floors_total            0.3% (всего этажей в доме) - заменим на 1, предполагая что это частные дома, и 0 этажей быть не может.\n",
    "    living_area              8% (жилая площадь в кв м) - не могу заполнить ничем. \n",
    "    is_apartment            88% (апартаменты) - скорее всего False, так же как с балконами, если не указано значит не аппартаменты\n",
    "    kitchen_area             9% (площадь кухни) - возможно квартиры студии без кухни, скорее всего 0\n",
    "    balcony                 48% (балкон) - не указан балкона нет, заменить на 0\n",
    "    locality_name           0.2% (название населенного пункта) - полностью удалить, не значительные потери данных\n",
    "    \n",
    "******\n",
    "\n",
    "Эти колонки заполняла программа автоматически, пустые параметры трогать не буду. \n",
    "\n",
    "    airports_nearest        23% (расстояние до аэропорта) \n",
    "    city_centers_nearest    23% (расстояние до центар города)\n",
    "    parks_around_3000       23% (число парков в радиусе 3км)\n",
    "    parks_nearest           65% (расстояние до ближайшего парка)\n",
    "    ponds_around_3000       23% (число водоемов в радиусе 3 км)\n",
    "    ponds_nearest           61% (расстояние до ближайшего водоема)\n",
    "    \n",
    "    days_exposition         13% (сколько дней было размещено объявление от публикации до снятия) скорее всего еще продается"
   ]
  },
  {
   "cell_type": "code",
   "execution_count": 10,
   "id": "833e533a",
   "metadata": {},
   "outputs": [],
   "source": [
    "# заменяем пропуски высоты потолка на медиану\n",
    "df['ceiling_height'] = df['ceiling_height'].fillna(\n",
    "    df['ceiling_height'].median())"
   ]
  },
  {
   "cell_type": "code",
   "execution_count": 11,
   "id": "e2f400da",
   "metadata": {},
   "outputs": [],
   "source": [
    "# заменяем пропуски этажа на 1\n",
    "df['floors_total'] = df['floors_total'].fillna(1)"
   ]
  },
  {
   "cell_type": "code",
   "execution_count": 12,
   "id": "2e609bd6",
   "metadata": {},
   "outputs": [],
   "source": [
    "# заменим аппартаменты там где пусто False\n",
    "df['is_apartment'] = df['is_apartment'].fillna(False)"
   ]
  },
  {
   "cell_type": "code",
   "execution_count": 13,
   "id": "fa9e8792",
   "metadata": {},
   "outputs": [],
   "source": [
    "# меняем там где студия на 0 а там где не студия на медиану\n",
    "df['kitchen_area'] = (\n",
    "    df['kitchen_area']\n",
    "    .where(df['studio'] == False, df['kitchen_area'].fillna(0))\n",
    "    .fillna(df['kitchen_area'].median())\n",
    ")"
   ]
  },
  {
   "cell_type": "code",
   "execution_count": 14,
   "id": "4367050d",
   "metadata": {},
   "outputs": [],
   "source": [
    "# меням пропуски на 0 балконов\n",
    "df['balcony'] = df['balcony'].fillna(0)"
   ]
  },
  {
   "cell_type": "code",
   "execution_count": 15,
   "id": "b4c3e149",
   "metadata": {},
   "outputs": [],
   "source": [
    "# удаляем строки там где пропущенно назване города\n",
    "df = df.dropna(subset=['locality_name']).reset_index(drop=True)"
   ]
  },
  {
   "cell_type": "markdown",
   "id": "d2d85ed2",
   "metadata": {},
   "source": [
    "### Исправление тип данных"
   ]
  },
  {
   "cell_type": "code",
   "execution_count": 16,
   "id": "680c9e99",
   "metadata": {},
   "outputs": [],
   "source": [
    "# приведем колонки к типу Int64 чтобы можно было работать с пропусками как с числами\n",
    "df['last_price'] = df['last_price'].astype('Int64')\n",
    "df['rooms'] = df['rooms'].astype('Int64')\n",
    "df['floors_total'] = df['floors_total'].astype('Int64')\n",
    "df['balcony'] = df['balcony'].astype('Int64')\n",
    "df['airports_nearest'] = df['airports_nearest'].astype('Int64')\n",
    "df['city_centers_nearest'] = df['city_centers_nearest'].astype('Int64')\n",
    "df['parks_around_3000'] = df['parks_around_3000'].astype('Int64')\n",
    "df['parks_nearest'] = df['parks_nearest'].astype('Int64')\n",
    "df['ponds_around_3000'] = df['ponds_around_3000'].astype('Int64')\n",
    "df['ponds_nearest'] = df['ponds_nearest'].astype('Int64')"
   ]
  },
  {
   "cell_type": "code",
   "execution_count": 17,
   "id": "4e9282f1",
   "metadata": {},
   "outputs": [],
   "source": [
    "# округляем чтобы поменять тип на Int64 (через Try Except в ином случае вызывает ошибку)\n",
    "try:\n",
    "    df['days_exposition'] = df['days_exposition'].round()\n",
    "except:\n",
    "    pass"
   ]
  },
  {
   "cell_type": "code",
   "execution_count": 18,
   "id": "b32806e2",
   "metadata": {},
   "outputs": [],
   "source": [
    "# меняем на Int64\n",
    "df['days_exposition'] = df['days_exposition'].astype('Int64')"
   ]
  },
  {
   "cell_type": "code",
   "execution_count": 19,
   "id": "9453b029",
   "metadata": {},
   "outputs": [],
   "source": [
    "# меняем тип данных\n",
    "df['total_area'] = df['total_area'].astype('float32')\n",
    "df['ceiling_height'] = df['ceiling_height'].astype('float32')\n",
    "df['living_area'] = df['living_area'].astype('float32')\n",
    "df['kitchen_area'] = df['kitchen_area'].astype('float32')"
   ]
  },
  {
   "cell_type": "markdown",
   "id": "c5c9ced1",
   "metadata": {},
   "source": [
    "##### Вывод:\n",
    "нужно было преобразовать именно в Int64 чтобы можно было работать с пустыми значениями как с числами."
   ]
  },
  {
   "cell_type": "markdown",
   "id": "fae336d6",
   "metadata": {},
   "source": [
    "### Поиск и исправление аномалий"
   ]
  },
  {
   "cell_type": "code",
   "execution_count": 20,
   "id": "de5e1be4",
   "metadata": {},
   "outputs": [
    {
     "data": {
      "text/plain": [
       "0"
      ]
     },
     "execution_count": 20,
     "metadata": {},
     "output_type": "execute_result"
    }
   ],
   "source": [
    "# поиск явных дубликатов\n",
    "df.duplicated().sum()"
   ]
  },
  {
   "cell_type": "code",
   "execution_count": 21,
   "id": "e43b5f7a",
   "metadata": {},
   "outputs": [
    {
     "data": {
      "text/html": [
       "<div>\n",
       "<style scoped>\n",
       "    .dataframe tbody tr th:only-of-type {\n",
       "        vertical-align: middle;\n",
       "    }\n",
       "\n",
       "    .dataframe tbody tr th {\n",
       "        vertical-align: top;\n",
       "    }\n",
       "\n",
       "    .dataframe thead th {\n",
       "        text-align: right;\n",
       "    }\n",
       "</style>\n",
       "<table border=\"1\" class=\"dataframe\">\n",
       "  <thead>\n",
       "    <tr style=\"text-align: right;\">\n",
       "      <th></th>\n",
       "      <th>count</th>\n",
       "      <th>mean</th>\n",
       "      <th>std</th>\n",
       "      <th>min</th>\n",
       "      <th>25%</th>\n",
       "      <th>50%</th>\n",
       "      <th>75%</th>\n",
       "      <th>max</th>\n",
       "    </tr>\n",
       "  </thead>\n",
       "  <tbody>\n",
       "    <tr>\n",
       "      <th>total_images</th>\n",
       "      <td>23650.0</td>\n",
       "      <td>10.0</td>\n",
       "      <td>6.0</td>\n",
       "      <td>0.0</td>\n",
       "      <td>6.0</td>\n",
       "      <td>9.0</td>\n",
       "      <td>14.0</td>\n",
       "      <td>50.0</td>\n",
       "    </tr>\n",
       "    <tr>\n",
       "      <th>last_price</th>\n",
       "      <td>23650.0</td>\n",
       "      <td>6541127.0</td>\n",
       "      <td>10896399.0</td>\n",
       "      <td>12190.0</td>\n",
       "      <td>3400000.0</td>\n",
       "      <td>4650000.0</td>\n",
       "      <td>6799000.0</td>\n",
       "      <td>763000000.0</td>\n",
       "    </tr>\n",
       "    <tr>\n",
       "      <th>total_area</th>\n",
       "      <td>23650.0</td>\n",
       "      <td>60.0</td>\n",
       "      <td>36.0</td>\n",
       "      <td>12.0</td>\n",
       "      <td>40.0</td>\n",
       "      <td>52.0</td>\n",
       "      <td>70.0</td>\n",
       "      <td>900.0</td>\n",
       "    </tr>\n",
       "    <tr>\n",
       "      <th>rooms</th>\n",
       "      <td>23650.0</td>\n",
       "      <td>2.0</td>\n",
       "      <td>1.0</td>\n",
       "      <td>0.0</td>\n",
       "      <td>1.0</td>\n",
       "      <td>2.0</td>\n",
       "      <td>3.0</td>\n",
       "      <td>19.0</td>\n",
       "    </tr>\n",
       "    <tr>\n",
       "      <th>ceiling_height</th>\n",
       "      <td>23650.0</td>\n",
       "      <td>3.0</td>\n",
       "      <td>1.0</td>\n",
       "      <td>1.0</td>\n",
       "      <td>3.0</td>\n",
       "      <td>3.0</td>\n",
       "      <td>3.0</td>\n",
       "      <td>100.0</td>\n",
       "    </tr>\n",
       "    <tr>\n",
       "      <th>floors_total</th>\n",
       "      <td>23650.0</td>\n",
       "      <td>11.0</td>\n",
       "      <td>7.0</td>\n",
       "      <td>1.0</td>\n",
       "      <td>5.0</td>\n",
       "      <td>9.0</td>\n",
       "      <td>16.0</td>\n",
       "      <td>60.0</td>\n",
       "    </tr>\n",
       "    <tr>\n",
       "      <th>living_area</th>\n",
       "      <td>21752.0</td>\n",
       "      <td>34.0</td>\n",
       "      <td>22.0</td>\n",
       "      <td>2.0</td>\n",
       "      <td>19.0</td>\n",
       "      <td>30.0</td>\n",
       "      <td>42.0</td>\n",
       "      <td>410.0</td>\n",
       "    </tr>\n",
       "    <tr>\n",
       "      <th>floor</th>\n",
       "      <td>23650.0</td>\n",
       "      <td>6.0</td>\n",
       "      <td>5.0</td>\n",
       "      <td>1.0</td>\n",
       "      <td>2.0</td>\n",
       "      <td>4.0</td>\n",
       "      <td>8.0</td>\n",
       "      <td>33.0</td>\n",
       "    </tr>\n",
       "    <tr>\n",
       "      <th>kitchen_area</th>\n",
       "      <td>23650.0</td>\n",
       "      <td>10.0</td>\n",
       "      <td>6.0</td>\n",
       "      <td>0.0</td>\n",
       "      <td>7.0</td>\n",
       "      <td>9.0</td>\n",
       "      <td>11.0</td>\n",
       "      <td>112.0</td>\n",
       "    </tr>\n",
       "    <tr>\n",
       "      <th>balcony</th>\n",
       "      <td>23650.0</td>\n",
       "      <td>1.0</td>\n",
       "      <td>1.0</td>\n",
       "      <td>0.0</td>\n",
       "      <td>0.0</td>\n",
       "      <td>0.0</td>\n",
       "      <td>1.0</td>\n",
       "      <td>5.0</td>\n",
       "    </tr>\n",
       "    <tr>\n",
       "      <th>airports_nearest</th>\n",
       "      <td>18116.0</td>\n",
       "      <td>28803.0</td>\n",
       "      <td>12637.0</td>\n",
       "      <td>0.0</td>\n",
       "      <td>18576.0</td>\n",
       "      <td>26756.0</td>\n",
       "      <td>37294.0</td>\n",
       "      <td>84869.0</td>\n",
       "    </tr>\n",
       "    <tr>\n",
       "      <th>city_centers_nearest</th>\n",
       "      <td>18139.0</td>\n",
       "      <td>14198.0</td>\n",
       "      <td>8607.0</td>\n",
       "      <td>181.0</td>\n",
       "      <td>9241.0</td>\n",
       "      <td>13105.0</td>\n",
       "      <td>16293.0</td>\n",
       "      <td>65968.0</td>\n",
       "    </tr>\n",
       "    <tr>\n",
       "      <th>parks_around_3000</th>\n",
       "      <td>18140.0</td>\n",
       "      <td>1.0</td>\n",
       "      <td>1.0</td>\n",
       "      <td>0.0</td>\n",
       "      <td>0.0</td>\n",
       "      <td>0.0</td>\n",
       "      <td>1.0</td>\n",
       "      <td>3.0</td>\n",
       "    </tr>\n",
       "    <tr>\n",
       "      <th>parks_nearest</th>\n",
       "      <td>8064.0</td>\n",
       "      <td>491.0</td>\n",
       "      <td>343.0</td>\n",
       "      <td>1.0</td>\n",
       "      <td>288.0</td>\n",
       "      <td>454.0</td>\n",
       "      <td>612.0</td>\n",
       "      <td>3190.0</td>\n",
       "    </tr>\n",
       "    <tr>\n",
       "      <th>ponds_around_3000</th>\n",
       "      <td>18140.0</td>\n",
       "      <td>1.0</td>\n",
       "      <td>1.0</td>\n",
       "      <td>0.0</td>\n",
       "      <td>0.0</td>\n",
       "      <td>1.0</td>\n",
       "      <td>1.0</td>\n",
       "      <td>3.0</td>\n",
       "    </tr>\n",
       "    <tr>\n",
       "      <th>ponds_nearest</th>\n",
       "      <td>9085.0</td>\n",
       "      <td>518.0</td>\n",
       "      <td>278.0</td>\n",
       "      <td>13.0</td>\n",
       "      <td>293.0</td>\n",
       "      <td>502.0</td>\n",
       "      <td>730.0</td>\n",
       "      <td>1344.0</td>\n",
       "    </tr>\n",
       "    <tr>\n",
       "      <th>days_exposition</th>\n",
       "      <td>20470.0</td>\n",
       "      <td>181.0</td>\n",
       "      <td>220.0</td>\n",
       "      <td>1.0</td>\n",
       "      <td>45.0</td>\n",
       "      <td>95.0</td>\n",
       "      <td>231.0</td>\n",
       "      <td>1580.0</td>\n",
       "    </tr>\n",
       "  </tbody>\n",
       "</table>\n",
       "</div>"
      ],
      "text/plain": [
       "                        count       mean         std      min        25%  \\\n",
       "total_images          23650.0       10.0         6.0      0.0        6.0   \n",
       "last_price            23650.0  6541127.0  10896399.0  12190.0  3400000.0   \n",
       "total_area            23650.0       60.0        36.0     12.0       40.0   \n",
       "rooms                 23650.0        2.0         1.0      0.0        1.0   \n",
       "ceiling_height        23650.0        3.0         1.0      1.0        3.0   \n",
       "floors_total          23650.0       11.0         7.0      1.0        5.0   \n",
       "living_area           21752.0       34.0        22.0      2.0       19.0   \n",
       "floor                 23650.0        6.0         5.0      1.0        2.0   \n",
       "kitchen_area          23650.0       10.0         6.0      0.0        7.0   \n",
       "balcony               23650.0        1.0         1.0      0.0        0.0   \n",
       "airports_nearest      18116.0    28803.0     12637.0      0.0    18576.0   \n",
       "city_centers_nearest  18139.0    14198.0      8607.0    181.0     9241.0   \n",
       "parks_around_3000     18140.0        1.0         1.0      0.0        0.0   \n",
       "parks_nearest          8064.0      491.0       343.0      1.0      288.0   \n",
       "ponds_around_3000     18140.0        1.0         1.0      0.0        0.0   \n",
       "ponds_nearest          9085.0      518.0       278.0     13.0      293.0   \n",
       "days_exposition       20470.0      181.0       220.0      1.0       45.0   \n",
       "\n",
       "                            50%        75%          max  \n",
       "total_images                9.0       14.0         50.0  \n",
       "last_price            4650000.0  6799000.0  763000000.0  \n",
       "total_area                 52.0       70.0        900.0  \n",
       "rooms                       2.0        3.0         19.0  \n",
       "ceiling_height              3.0        3.0        100.0  \n",
       "floors_total                9.0       16.0         60.0  \n",
       "living_area                30.0       42.0        410.0  \n",
       "floor                       4.0        8.0         33.0  \n",
       "kitchen_area                9.0       11.0        112.0  \n",
       "balcony                     0.0        1.0          5.0  \n",
       "airports_nearest        26756.0    37294.0      84869.0  \n",
       "city_centers_nearest    13105.0    16293.0      65968.0  \n",
       "parks_around_3000           0.0        1.0          3.0  \n",
       "parks_nearest             454.0      612.0       3190.0  \n",
       "ponds_around_3000           1.0        1.0          3.0  \n",
       "ponds_nearest             502.0      730.0       1344.0  \n",
       "days_exposition            95.0      231.0       1580.0  "
      ]
     },
     "execution_count": 21,
     "metadata": {},
     "output_type": "execute_result"
    }
   ],
   "source": [
    "# применим дискрайб и трансформацию с округлением\n",
    "round(df.describe().T)"
   ]
  },
  {
   "cell_type": "markdown",
   "id": "11fb5bef",
   "metadata": {},
   "source": [
    "##### Вывод:\n",
    "- last_price минимальная стоимость 12 900 \n",
    "- rooms 0 комнат это странно 19 комнат тоже странно но может быть, комнат 0 быть не может надо заменить на 1\n",
    "- ceiling_height высота потолков мин 1 и max 100 аномальные значения\n",
    "- living_area комната 2 кв метра возможно это какие то подсобные помещения... \n",
    "- balcony смотрим у кого 4 и более балконов"
   ]
  },
  {
   "cell_type": "code",
   "execution_count": 22,
   "id": "3cbb7877",
   "metadata": {},
   "outputs": [
    {
     "data": {
      "text/html": [
       "<div>\n",
       "<style scoped>\n",
       "    .dataframe tbody tr th:only-of-type {\n",
       "        vertical-align: middle;\n",
       "    }\n",
       "\n",
       "    .dataframe tbody tr th {\n",
       "        vertical-align: top;\n",
       "    }\n",
       "\n",
       "    .dataframe thead th {\n",
       "        text-align: right;\n",
       "    }\n",
       "</style>\n",
       "<table border=\"1\" class=\"dataframe\">\n",
       "  <thead>\n",
       "    <tr style=\"text-align: right;\">\n",
       "      <th></th>\n",
       "      <th>total_images</th>\n",
       "      <th>last_price</th>\n",
       "      <th>total_area</th>\n",
       "      <th>first_day_exposition</th>\n",
       "      <th>rooms</th>\n",
       "      <th>ceiling_height</th>\n",
       "      <th>floors_total</th>\n",
       "      <th>living_area</th>\n",
       "      <th>floor</th>\n",
       "      <th>is_apartment</th>\n",
       "      <th>...</th>\n",
       "      <th>kitchen_area</th>\n",
       "      <th>balcony</th>\n",
       "      <th>locality_name</th>\n",
       "      <th>airports_nearest</th>\n",
       "      <th>city_centers_nearest</th>\n",
       "      <th>parks_around_3000</th>\n",
       "      <th>parks_nearest</th>\n",
       "      <th>ponds_around_3000</th>\n",
       "      <th>ponds_nearest</th>\n",
       "      <th>days_exposition</th>\n",
       "    </tr>\n",
       "  </thead>\n",
       "  <tbody>\n",
       "    <tr>\n",
       "      <th>8778</th>\n",
       "      <td>7</td>\n",
       "      <td>12190</td>\n",
       "      <td>109.0</td>\n",
       "      <td>2019-03-20</td>\n",
       "      <td>2</td>\n",
       "      <td>2.75</td>\n",
       "      <td>25</td>\n",
       "      <td>32.0</td>\n",
       "      <td>25</td>\n",
       "      <td>False</td>\n",
       "      <td>...</td>\n",
       "      <td>40.5</td>\n",
       "      <td>0</td>\n",
       "      <td>Санкт-Петербург</td>\n",
       "      <td>36421</td>\n",
       "      <td>9176</td>\n",
       "      <td>1</td>\n",
       "      <td>805</td>\n",
       "      <td>0</td>\n",
       "      <td>&lt;NA&gt;</td>\n",
       "      <td>8</td>\n",
       "    </tr>\n",
       "  </tbody>\n",
       "</table>\n",
       "<p>1 rows × 22 columns</p>\n",
       "</div>"
      ],
      "text/plain": [
       "      total_images  last_price  total_area first_day_exposition  rooms  \\\n",
       "8778             7       12190       109.0           2019-03-20      2   \n",
       "\n",
       "      ceiling_height  floors_total  living_area  floor  is_apartment  ...  \\\n",
       "8778            2.75            25         32.0     25         False  ...   \n",
       "\n",
       "      kitchen_area  balcony    locality_name  airports_nearest  \\\n",
       "8778          40.5        0  Санкт-Петербург             36421   \n",
       "\n",
       "     city_centers_nearest  parks_around_3000  parks_nearest  \\\n",
       "8778                 9176                  1            805   \n",
       "\n",
       "      ponds_around_3000  ponds_nearest  days_exposition  \n",
       "8778                  0           <NA>                8  \n",
       "\n",
       "[1 rows x 22 columns]"
      ]
     },
     "execution_count": 22,
     "metadata": {},
     "output_type": "execute_result"
    }
   ],
   "source": [
    "# проверим что за недвижимость за 12 900\n",
    "df.query('last_price < 100000')\n",
    "\n",
    "# 109 кв метра за очень низкую цену, скорее всего эти данные не верны."
   ]
  },
  {
   "cell_type": "code",
   "execution_count": 23,
   "id": "7cb0b388",
   "metadata": {},
   "outputs": [],
   "source": [
    "# удалим выброс\n",
    "df = df.drop(df[df['last_price'] < 100000].index)"
   ]
  },
  {
   "cell_type": "code",
   "execution_count": 24,
   "id": "cc5cf7c2",
   "metadata": {},
   "outputs": [
    {
     "data": {
      "text/plain": [
       "197"
      ]
     },
     "execution_count": 24,
     "metadata": {},
     "output_type": "execute_result"
    }
   ],
   "source": [
    "# посмотрим сколько объектов имеет 0 комнат\n",
    "df.query('rooms == 0').shape[0]"
   ]
  },
  {
   "cell_type": "code",
   "execution_count": 25,
   "id": "454c6758",
   "metadata": {},
   "outputs": [],
   "source": [
    "# заменим 0 комнат на 1 комнату\n",
    "df.loc[df['rooms'] == 0, 'rooms'] = 1"
   ]
  },
  {
   "cell_type": "code",
   "execution_count": 26,
   "id": "2d1ec6ad",
   "metadata": {},
   "outputs": [
    {
     "data": {
      "text/plain": [
       "96"
      ]
     },
     "execution_count": 26,
     "metadata": {},
     "output_type": "execute_result"
    }
   ],
   "source": [
    "# посмотрим на низкие и высокие потолки\n",
    "df.query(\n",
    "    'ceiling_height >= 0 and ceiling_height < 2.4 or ceiling_height > 4').shape[0]\n",
    "# при анализе обнаружил 96 аномальных значений в диапазоне заменим их на медиану"
   ]
  },
  {
   "cell_type": "code",
   "execution_count": 27,
   "id": "d621a285",
   "metadata": {},
   "outputs": [],
   "source": [
    "# заменим аномальные значения в столбце высота потолков\n",
    "df.loc[df['ceiling_height'] <= 2.4,\n",
    "       'ceiling_height'] = df['ceiling_height'].median()\n",
    "df.loc[df['ceiling_height'] > 4, 'ceiling_height'] = df['ceiling_height'].median()"
   ]
  },
  {
   "cell_type": "code",
   "execution_count": 28,
   "id": "5fa5c1ba",
   "metadata": {},
   "outputs": [
    {
     "data": {
      "text/plain": [
       "4"
      ]
     },
     "execution_count": 28,
     "metadata": {},
     "output_type": "execute_result"
    }
   ],
   "source": [
    "# посомтрим что за объекты где жилая площадь меньше 3х кв метров\n",
    "df.query('living_area <= 3').shape[0]\n",
    "# не могу сделать однозначных выводов, возможно это какие то исключения\n",
    "# возможно связанно с законодательством. с этими данными делать ничего не буду"
   ]
  },
  {
   "cell_type": "code",
   "execution_count": 29,
   "id": "5350cedf",
   "metadata": {
    "scrolled": false
   },
   "outputs": [
    {
     "data": {
      "text/plain": [
       "304"
      ]
     },
     "execution_count": 29,
     "metadata": {},
     "output_type": "execute_result"
    }
   ],
   "source": [
    "# посмотирм объекты с 5 и более балконами\n",
    "df.query('balcony >= 5').shape[0]\n",
    "# субъективно балконов много, но возможно это какие то необычные дома..."
   ]
  },
  {
   "cell_type": "markdown",
   "id": "68c74a5f",
   "metadata": {},
   "source": [
    "## Расчёты и добавление результатов в таблицу"
   ]
  },
  {
   "cell_type": "code",
   "execution_count": 30,
   "id": "47565f47",
   "metadata": {},
   "outputs": [],
   "source": [
    "# добавляем в таблицу цену за 1 кв метр и меняем на целое число\n",
    "df['price_area'] = df['last_price'] / df['total_area']\n",
    "df['price_area'] = df['price_area'].astype('Int64')"
   ]
  },
  {
   "cell_type": "code",
   "execution_count": 31,
   "id": "83044135",
   "metadata": {},
   "outputs": [],
   "source": [
    "# добавим столбец день недели\n",
    "df['weekday'] = df['first_day_exposition'].dt.weekday"
   ]
  },
  {
   "cell_type": "code",
   "execution_count": 32,
   "id": "6d6dde94",
   "metadata": {},
   "outputs": [],
   "source": [
    "# добавим столбец месяц\n",
    "df['month'] = df['first_day_exposition'].dt.month"
   ]
  },
  {
   "cell_type": "code",
   "execution_count": 33,
   "id": "34c7bd5b",
   "metadata": {},
   "outputs": [],
   "source": [
    "# добавим столбец год\n",
    "df['year'] = df['first_day_exposition'].astype('datetime64[Y]')"
   ]
  },
  {
   "cell_type": "code",
   "execution_count": 34,
   "id": "380f8248",
   "metadata": {},
   "outputs": [],
   "source": [
    "# сделамем столбец по этажам\n",
    "df['floor_group'] = df['floor']\n",
    "df['floor_group'] = df['floor_group'].where(df['floor'] != 1, 'первый')\n",
    "df['floor_group'] = df['floor_group'].where(\n",
    "    df['floor'] != df['floors_total'], 'последний')\n",
    "df['floor_group'] = df['floor_group'].where(\n",
    "    (df['floor_group'] == 'первый') | (df['floor_group'] == 'последний'), 'другие')"
   ]
  },
  {
   "cell_type": "code",
   "execution_count": 35,
   "id": "bdb0a271",
   "metadata": {},
   "outputs": [],
   "source": [
    "# столбец отношение жилой к общей площади\n",
    "df['living_total_percent'] = df['living_area'] / df['total_area'] * 100"
   ]
  },
  {
   "cell_type": "code",
   "execution_count": 36,
   "id": "bae9b384",
   "metadata": {},
   "outputs": [],
   "source": [
    "# столбец отношение кухни к общей площади\n",
    "df['kitchen_total_percent'] = df['kitchen_area'] / df['total_area'] * 100"
   ]
  },
  {
   "cell_type": "markdown",
   "id": "ab24cadc",
   "metadata": {},
   "source": [
    "## Исследовательский анализ данных"
   ]
  },
  {
   "cell_type": "markdown",
   "id": "415242d3",
   "metadata": {},
   "source": [
    "### Построение гистограмм для: площадь, цена, число комнат, высота потолков."
   ]
  },
  {
   "cell_type": "code",
   "execution_count": 37,
   "id": "712ad33e",
   "metadata": {},
   "outputs": [
    {
     "data": {
      "image/png": "[encoded data removed]",
      "text/plain": [
       "<Figure size 432x288 with 1 Axes>"
      ]
     },
     "metadata": {
      "needs_background": "light"
     },
     "output_type": "display_data"
    }
   ],
   "source": [
    "# гистограмма общей площади\n",
    "sns.histplot(data=df, x='total_area')\n",
    "plt.show()"
   ]
  },
  {
   "cell_type": "markdown",
   "id": "bda64c67",
   "metadata": {},
   "source": [
    "##### Вывод:\n",
    "отфильтровать в значениях от 30 до 200"
   ]
  },
  {
   "cell_type": "code",
   "execution_count": 38,
   "id": "6fd65593",
   "metadata": {},
   "outputs": [
    {
     "data": {
      "image/png": "[encoded data removed]",
      "text/plain": [
       "<Figure size 432x288 with 1 Axes>"
      ]
     },
     "metadata": {
      "needs_background": "light"
     },
     "output_type": "display_data"
    }
   ],
   "source": [
    "# гистограмма стоимости объектов недвижимости\n",
    "sns.histplot(data=df, x='last_price')\n",
    "plt.show()"
   ]
  },
  {
   "cell_type": "markdown",
   "id": "c52dfc41",
   "metadata": {},
   "source": [
    "##### Вывод: \n",
    "убрать большой хвост"
   ]
  },
  {
   "cell_type": "code",
   "execution_count": 39,
   "id": "1eba61db",
   "metadata": {},
   "outputs": [
    {
     "data": {
      "image/png": "[encoded data removed]",
      "text/plain": [
       "<Figure size 432x288 with 1 Axes>"
      ]
     },
     "metadata": {
      "needs_background": "light"
     },
     "output_type": "display_data"
    }
   ],
   "source": [
    "# гистограмма колличества комнат\n",
    "sns.histplot(data=df, x='rooms')\n",
    "plt.show()"
   ]
  },
  {
   "cell_type": "markdown",
   "id": "865cee78",
   "metadata": {},
   "source": [
    "##### Вывод: \n",
    "оставить квартиры где 5 и менее комнат."
   ]
  },
  {
   "cell_type": "code",
   "execution_count": 40,
   "id": "49c18d7b",
   "metadata": {},
   "outputs": [
    {
     "data": {
      "image/png": "[encoded data removed]",
      "text/plain": [
       "<Figure size 432x288 with 1 Axes>"
      ]
     },
     "metadata": {
      "needs_background": "light"
     },
     "output_type": "display_data"
    }
   ],
   "source": [
    "# гистограмма высоты потолков\n",
    "sns.histplot(data=df, x='ceiling_height')\n",
    "plt.show()"
   ]
  },
  {
   "cell_type": "markdown",
   "id": "2f0c64ab",
   "metadata": {},
   "source": [
    "##### Вывод:\n",
    "оставить только потолки от 2.5 до 3.2 метра"
   ]
  },
  {
   "cell_type": "markdown",
   "id": "7f1106f8",
   "metadata": {},
   "source": [
    "### Время продажи объектов недвижимости"
   ]
  },
  {
   "cell_type": "code",
   "execution_count": 41,
   "id": "a1160148",
   "metadata": {},
   "outputs": [
    {
     "data": {
      "image/png": "[encoded data removed]",
      "text/plain": [
       "<Figure size 432x288 with 1 Axes>"
      ]
     },
     "metadata": {
      "needs_background": "light"
     },
     "output_type": "display_data"
    }
   ],
   "source": [
    "# гистограмма дней продажи\n",
    "sns.histplot(data=df, x='days_exposition')\n",
    "plt.show()"
   ]
  },
  {
   "cell_type": "markdown",
   "id": "c0099dbb",
   "metadata": {},
   "source": [
    "##### Вывод: \n",
    "ограничим график до года"
   ]
  },
  {
   "cell_type": "code",
   "execution_count": 42,
   "id": "33511367",
   "metadata": {
    "scrolled": false
   },
   "outputs": [
    {
     "data": {
      "image/png": "[encoded data removed]",
      "text/plain": [
       "<Figure size 432x288 with 1 Axes>"
      ]
     },
     "metadata": {
      "needs_background": "light"
     },
     "output_type": "display_data"
    }
   ],
   "source": [
    "# гистограмма дней продажи отфильтрованная по дням продажи не более 365 дней\n",
    "sns.histplot(data=df.query('days_exposition <= 365'), x='days_exposition')\n",
    "plt.show()"
   ]
  },
  {
   "cell_type": "code",
   "execution_count": 43,
   "id": "fb37c383",
   "metadata": {},
   "outputs": [
    {
     "name": "stdout",
     "output_type": "stream",
     "text": [
      "Медиана 74\n",
      "Среднее 105\n"
     ]
    }
   ],
   "source": [
    "filtered_exposition = df[df['days_exposition'] <= 365]['days_exposition']\n",
    "print('Медиана', round(filtered_exposition.median()))\n",
    "print('Среднее', round(filtered_exposition.mean()))"
   ]
  },
  {
   "cell_type": "markdown",
   "id": "8104c508",
   "metadata": {},
   "source": [
    "##### Вывод: \n",
    "- В первые 50 дней очень много продаж, есть всплески на 70й день и 90й день\n",
    "- Быстрой продажей можно считать все что продается в первые 30 дней, а все что больше 95 дней можно считать долгой."
   ]
  },
  {
   "cell_type": "markdown",
   "id": "b8e15990",
   "metadata": {},
   "source": [
    "### Фильтрация редких и выбивающихся значений из графиков"
   ]
  },
  {
   "cell_type": "code",
   "execution_count": 44,
   "id": "8dbcad4e",
   "metadata": {},
   "outputs": [
    {
     "data": {
      "image/png": "[encoded data removed]",
      "text/plain": [
       "<Figure size 432x288 with 1 Axes>"
      ]
     },
     "metadata": {
      "needs_background": "light"
     },
     "output_type": "display_data"
    }
   ],
   "source": [
    "# гистограмма общей площади\n",
    "sns.histplot(data=df.query(\n",
    "    'total_area > 30 and total_area < 200'), x='total_area')\n",
    "plt.show()"
   ]
  },
  {
   "cell_type": "markdown",
   "id": "48668ca2",
   "metadata": {},
   "source": [
    "##### Вывод: \n",
    "после фильтрации значений, самые распостраненные объекты недвижимости имеют общую площать от 45 до 55 кв метров"
   ]
  },
  {
   "cell_type": "code",
   "execution_count": 45,
   "id": "7e441a64",
   "metadata": {},
   "outputs": [
    {
     "data": {
      "image/png": "[encoded data removed]",
      "text/plain": [
       "<Figure size 432x288 with 1 Axes>"
      ]
     },
     "metadata": {
      "needs_background": "light"
     },
     "output_type": "display_data"
    }
   ],
   "source": [
    "# гистограмма стоимости объектов недвижимости\n",
    "sns.histplot(data=df.query('last_price < 9000000'), x='last_price')\n",
    "plt.show()"
   ]
  },
  {
   "cell_type": "markdown",
   "id": "a89c236d",
   "metadata": {},
   "source": [
    "##### Вывод: \n",
    "ограничив значение 9 млн, самые распостраненные объекты стоимостью от 3 до 5 млн."
   ]
  },
  {
   "cell_type": "code",
   "execution_count": 46,
   "id": "d045668b",
   "metadata": {},
   "outputs": [
    {
     "data": {
      "image/png": "[encoded data removed]",
      "text/plain": [
       "<Figure size 432x288 with 1 Axes>"
      ]
     },
     "metadata": {
      "needs_background": "light"
     },
     "output_type": "display_data"
    }
   ],
   "source": [
    "# гистограмма колличества комнат\n",
    "sns.histplot(data=df.query('rooms <= 5'), x='rooms', bins=5)\n",
    "plt.show()"
   ]
  },
  {
   "cell_type": "markdown",
   "id": "a886c9f4",
   "metadata": {},
   "source": [
    "##### Вывод:\n",
    "- 1 комнатные квартиры самые распотраненные\n",
    "- на втором месте 2х комнатные\n",
    "- на третьем 3х комнатные\n",
    "- вместе они занимаю большу часть рынка. "
   ]
  },
  {
   "cell_type": "code",
   "execution_count": 47,
   "id": "39cc0431",
   "metadata": {},
   "outputs": [
    {
     "data": {
      "image/png": "[encoded data removed]",
      "text/plain": [
       "<Figure size 432x288 with 1 Axes>"
      ]
     },
     "metadata": {
      "needs_background": "light"
     },
     "output_type": "display_data"
    }
   ],
   "source": [
    "# гистограмма высоты потолков\n",
    "sns.histplot(data=df.query(\n",
    "    'ceiling_height >= 2.5 and ceiling_height <= 3.2'), x='ceiling_height', bins=10)\n",
    "plt.show()"
   ]
  },
  {
   "cell_type": "markdown",
   "id": "c11eec1f",
   "metadata": {},
   "source": [
    "##### Вывод: \n",
    "можно сказать, что нормой является потолок высотой 2.5 - 2.7 метра"
   ]
  },
  {
   "cell_type": "markdown",
   "id": "deb1c5de",
   "metadata": {},
   "source": [
    "### Факторы влияющие на стоимость квартир"
   ]
  },
  {
   "cell_type": "code",
   "execution_count": 48,
   "id": "d36b63f4",
   "metadata": {},
   "outputs": [],
   "source": [
    "# создадим столбец с группировкой по стоимости\n",
    "df['price_group'] = pd.cut(df['last_price'], [\n",
    "                           0, 2000000, 4000000, 6000000, 8000000, 10000000, 15000000, np.inf])"
   ]
  },
  {
   "cell_type": "code",
   "execution_count": 49,
   "id": "66b3569c",
   "metadata": {},
   "outputs": [
    {
     "data": {
      "text/html": [
       "<div>\n",
       "<style scoped>\n",
       "    .dataframe tbody tr th:only-of-type {\n",
       "        vertical-align: middle;\n",
       "    }\n",
       "\n",
       "    .dataframe tbody tr th {\n",
       "        vertical-align: top;\n",
       "    }\n",
       "\n",
       "    .dataframe thead th {\n",
       "        text-align: right;\n",
       "    }\n",
       "</style>\n",
       "<table border=\"1\" class=\"dataframe\">\n",
       "  <thead>\n",
       "    <tr style=\"text-align: right;\">\n",
       "      <th></th>\n",
       "      <th>count</th>\n",
       "      <th>mean</th>\n",
       "      <th>median</th>\n",
       "    </tr>\n",
       "    <tr>\n",
       "      <th>price_group</th>\n",
       "      <th></th>\n",
       "      <th></th>\n",
       "      <th></th>\n",
       "    </tr>\n",
       "  </thead>\n",
       "  <tbody>\n",
       "    <tr>\n",
       "      <th>(0.0, 2000000.0]</th>\n",
       "      <td>1449</td>\n",
       "      <td>41.798897</td>\n",
       "      <td>41.000000</td>\n",
       "    </tr>\n",
       "    <tr>\n",
       "      <th>(2000000.0, 4000000.0]</th>\n",
       "      <td>7632</td>\n",
       "      <td>41.589184</td>\n",
       "      <td>39.000000</td>\n",
       "    </tr>\n",
       "    <tr>\n",
       "      <th>(4000000.0, 6000000.0]</th>\n",
       "      <td>7259</td>\n",
       "      <td>53.063263</td>\n",
       "      <td>51.299999</td>\n",
       "    </tr>\n",
       "    <tr>\n",
       "      <th>(6000000.0, 8000000.0]</th>\n",
       "      <td>3126</td>\n",
       "      <td>66.963989</td>\n",
       "      <td>66.000000</td>\n",
       "    </tr>\n",
       "    <tr>\n",
       "      <th>(8000000.0, 10000000.0]</th>\n",
       "      <td>1470</td>\n",
       "      <td>80.311531</td>\n",
       "      <td>79.000000</td>\n",
       "    </tr>\n",
       "    <tr>\n",
       "      <th>(10000000.0, 15000000.0]</th>\n",
       "      <td>1513</td>\n",
       "      <td>98.160873</td>\n",
       "      <td>94.900002</td>\n",
       "    </tr>\n",
       "    <tr>\n",
       "      <th>(15000000.0, inf]</th>\n",
       "      <td>1200</td>\n",
       "      <td>156.339355</td>\n",
       "      <td>135.850006</td>\n",
       "    </tr>\n",
       "  </tbody>\n",
       "</table>\n",
       "</div>"
      ],
      "text/plain": [
       "                          count        mean      median\n",
       "price_group                                            \n",
       "(0.0, 2000000.0]           1449   41.798897   41.000000\n",
       "(2000000.0, 4000000.0]     7632   41.589184   39.000000\n",
       "(4000000.0, 6000000.0]     7259   53.063263   51.299999\n",
       "(6000000.0, 8000000.0]     3126   66.963989   66.000000\n",
       "(8000000.0, 10000000.0]    1470   80.311531   79.000000\n",
       "(10000000.0, 15000000.0]   1513   98.160873   94.900002\n",
       "(15000000.0, inf]          1200  156.339355  135.850006"
      ]
     },
     "execution_count": 49,
     "metadata": {},
     "output_type": "execute_result"
    }
   ],
   "source": [
    "# зависимость цены от площади\n",
    "df.groupby('price_group')['total_area'].agg(['count', 'mean', 'median'])"
   ]
  },
  {
   "cell_type": "code",
   "execution_count": 50,
   "id": "aff14b90",
   "metadata": {},
   "outputs": [
    {
     "data": {
      "text/plain": [
       "<AxesSubplot:xlabel='price_group'>"
      ]
     },
     "execution_count": 50,
     "metadata": {},
     "output_type": "execute_result"
    },
    {
     "data": {
      "image/png": "[encoded data removed]",
      "text/plain": [
       "<Figure size 720x360 with 1 Axes>"
      ]
     },
     "metadata": {
      "needs_background": "light"
     },
     "output_type": "display_data"
    }
   ],
   "source": [
    "# зависимость цены от площади\n",
    "df.groupby('price_group')['total_area'].mean().plot(rot=45, figsize=(10, 5))"
   ]
  },
  {
   "cell_type": "markdown",
   "id": "3a123c8f",
   "metadata": {},
   "source": [
    "##### Вывод: \n",
    "- 3х комнатная квартира выйдет дешевле чем 2х или 1 комнатная, если считать по цене за квадратный метр\n",
    "- одна из самых дорогих квартир это 1 комнатная, она дороже 19 комнатной квартиры."
   ]
  },
  {
   "cell_type": "code",
   "execution_count": 51,
   "id": "d7650597",
   "metadata": {},
   "outputs": [
    {
     "data": {
      "text/html": [
       "<div>\n",
       "<style scoped>\n",
       "    .dataframe tbody tr th:only-of-type {\n",
       "        vertical-align: middle;\n",
       "    }\n",
       "\n",
       "    .dataframe tbody tr th {\n",
       "        vertical-align: top;\n",
       "    }\n",
       "\n",
       "    .dataframe thead th {\n",
       "        text-align: right;\n",
       "    }\n",
       "</style>\n",
       "<table border=\"1\" class=\"dataframe\">\n",
       "  <thead>\n",
       "    <tr style=\"text-align: right;\">\n",
       "      <th></th>\n",
       "      <th>count</th>\n",
       "      <th>median</th>\n",
       "    </tr>\n",
       "    <tr>\n",
       "      <th>rooms</th>\n",
       "      <th></th>\n",
       "      <th></th>\n",
       "    </tr>\n",
       "  </thead>\n",
       "  <tbody>\n",
       "    <tr>\n",
       "      <th>1</th>\n",
       "      <td>8233</td>\n",
       "      <td>3585000.0</td>\n",
       "    </tr>\n",
       "    <tr>\n",
       "      <th>2</th>\n",
       "      <td>7923</td>\n",
       "      <td>4770338.0</td>\n",
       "    </tr>\n",
       "    <tr>\n",
       "      <th>3</th>\n",
       "      <td>5797</td>\n",
       "      <td>6200000.0</td>\n",
       "    </tr>\n",
       "    <tr>\n",
       "      <th>4</th>\n",
       "      <td>1175</td>\n",
       "      <td>9000000.0</td>\n",
       "    </tr>\n",
       "    <tr>\n",
       "      <th>5</th>\n",
       "      <td>326</td>\n",
       "      <td>14000000.0</td>\n",
       "    </tr>\n",
       "    <tr>\n",
       "      <th>6</th>\n",
       "      <td>105</td>\n",
       "      <td>19000000.0</td>\n",
       "    </tr>\n",
       "    <tr>\n",
       "      <th>7</th>\n",
       "      <td>59</td>\n",
       "      <td>24900000.0</td>\n",
       "    </tr>\n",
       "    <tr>\n",
       "      <th>8</th>\n",
       "      <td>12</td>\n",
       "      <td>23095000.0</td>\n",
       "    </tr>\n",
       "    <tr>\n",
       "      <th>9</th>\n",
       "      <td>8</td>\n",
       "      <td>23750000.0</td>\n",
       "    </tr>\n",
       "    <tr>\n",
       "      <th>10</th>\n",
       "      <td>3</td>\n",
       "      <td>23000000.0</td>\n",
       "    </tr>\n",
       "  </tbody>\n",
       "</table>\n",
       "</div>"
      ],
      "text/plain": [
       "       count      median\n",
       "rooms                   \n",
       "1       8233   3585000.0\n",
       "2       7923   4770338.0\n",
       "3       5797   6200000.0\n",
       "4       1175   9000000.0\n",
       "5        326  14000000.0\n",
       "6        105  19000000.0\n",
       "7         59  24900000.0\n",
       "8         12  23095000.0\n",
       "9          8  23750000.0\n",
       "10         3  23000000.0"
      ]
     },
     "execution_count": 51,
     "metadata": {},
     "output_type": "execute_result"
    }
   ],
   "source": [
    "df.groupby('rooms')['last_price'].agg(['count', 'median']).head(10)"
   ]
  },
  {
   "cell_type": "code",
   "execution_count": 52,
   "id": "a3efad83",
   "metadata": {},
   "outputs": [
    {
     "data": {
      "text/plain": [
       "<AxesSubplot:xlabel='rooms'>"
      ]
     },
     "execution_count": 52,
     "metadata": {},
     "output_type": "execute_result"
    },
    {
     "data": {
      "image/png": "[encoded data removed]",
      "text/plain": [
       "<Figure size 720x360 with 1 Axes>"
      ]
     },
     "metadata": {
      "needs_background": "light"
     },
     "output_type": "display_data"
    }
   ],
   "source": [
    "# зависимсоить цены от числа комнат\n",
    "df.groupby('rooms')['last_price'].median().plot(figsize=(10, 5))"
   ]
  },
  {
   "cell_type": "markdown",
   "id": "86553089",
   "metadata": {},
   "source": [
    "##### Вывод:\n",
    "- самая доступная для покупки это 1 комнатная\n",
    "- чем больше комнат тем больше цена."
   ]
  },
  {
   "cell_type": "code",
   "execution_count": 83,
   "id": "55bc706d",
   "metadata": {},
   "outputs": [
    {
     "data": {
      "text/html": [
       "<div>\n",
       "<style scoped>\n",
       "    .dataframe tbody tr th:only-of-type {\n",
       "        vertical-align: middle;\n",
       "    }\n",
       "\n",
       "    .dataframe tbody tr th {\n",
       "        vertical-align: top;\n",
       "    }\n",
       "\n",
       "    .dataframe thead th {\n",
       "        text-align: right;\n",
       "    }\n",
       "</style>\n",
       "<table border=\"1\" class=\"dataframe\">\n",
       "  <thead>\n",
       "    <tr style=\"text-align: right;\">\n",
       "      <th></th>\n",
       "      <th>count</th>\n",
       "      <th>median</th>\n",
       "    </tr>\n",
       "    <tr>\n",
       "      <th>spb_centr_km</th>\n",
       "      <th></th>\n",
       "      <th></th>\n",
       "    </tr>\n",
       "  </thead>\n",
       "  <tbody>\n",
       "    <tr>\n",
       "      <th>0</th>\n",
       "      <td>86</td>\n",
       "      <td>11750000.0</td>\n",
       "    </tr>\n",
       "    <tr>\n",
       "      <th>1</th>\n",
       "      <td>240</td>\n",
       "      <td>10835000.0</td>\n",
       "    </tr>\n",
       "    <tr>\n",
       "      <th>2</th>\n",
       "      <td>307</td>\n",
       "      <td>9500000.0</td>\n",
       "    </tr>\n",
       "    <tr>\n",
       "      <th>3</th>\n",
       "      <td>526</td>\n",
       "      <td>8500000.0</td>\n",
       "    </tr>\n",
       "    <tr>\n",
       "      <th>4</th>\n",
       "      <td>907</td>\n",
       "      <td>9900000.0</td>\n",
       "    </tr>\n",
       "    <tr>\n",
       "      <th>5</th>\n",
       "      <td>769</td>\n",
       "      <td>8920262.0</td>\n",
       "    </tr>\n",
       "    <tr>\n",
       "      <th>6</th>\n",
       "      <td>470</td>\n",
       "      <td>8005000.0</td>\n",
       "    </tr>\n",
       "    <tr>\n",
       "      <th>7</th>\n",
       "      <td>407</td>\n",
       "      <td>7500000.0</td>\n",
       "    </tr>\n",
       "    <tr>\n",
       "      <th>8</th>\n",
       "      <td>670</td>\n",
       "      <td>6500000.0</td>\n",
       "    </tr>\n",
       "    <tr>\n",
       "      <th>9</th>\n",
       "      <td>689</td>\n",
       "      <td>5000000.0</td>\n",
       "    </tr>\n",
       "  </tbody>\n",
       "</table>\n",
       "</div>"
      ],
      "text/plain": [
       "              count      median\n",
       "spb_centr_km                   \n",
       "0                86  11750000.0\n",
       "1               240  10835000.0\n",
       "2               307   9500000.0\n",
       "3               526   8500000.0\n",
       "4               907   9900000.0\n",
       "5               769   8920262.0\n",
       "6               470   8005000.0\n",
       "7               407   7500000.0\n",
       "8               670   6500000.0\n",
       "9               689   5000000.0"
      ]
     },
     "execution_count": 83,
     "metadata": {},
     "output_type": "execute_result"
    }
   ],
   "source": [
    "# зависимость цены от центра\n",
    "df.groupby('spb_centr_km')['last_price'].agg(['count', 'median']).head(10)"
   ]
  },
  {
   "cell_type": "code",
   "execution_count": 84,
   "id": "ed020e67",
   "metadata": {},
   "outputs": [
    {
     "data": {
      "text/plain": [
       "<AxesSubplot:xlabel='spb_centr_km'>"
      ]
     },
     "execution_count": 84,
     "metadata": {},
     "output_type": "execute_result"
    },
    {
     "data": {
      "image/png": "[encoded data removed]",
      "text/plain": [
       "<Figure size 720x360 with 1 Axes>"
      ]
     },
     "metadata": {
      "needs_background": "light"
     },
     "output_type": "display_data"
    }
   ],
   "source": [
    "# зависимость цены от центра\n",
    "df.groupby('spb_centr_km')['last_price'].median().plot(figsize=(10, 5))"
   ]
  },
  {
   "cell_type": "markdown",
   "id": "5e045129",
   "metadata": {},
   "source": [
    "##### Вывод: \n",
    "чем ближе к центру города тем выше цена."
   ]
  },
  {
   "cell_type": "code",
   "execution_count": null,
   "id": "6368829b",
   "metadata": {},
   "outputs": [],
   "source": [
    "# зависимость цены от этажа\n",
    "df.groupby('floor_group')['last_price'].agg(['count', 'median'])"
   ]
  },
  {
   "cell_type": "code",
   "execution_count": null,
   "id": "4c6c5609",
   "metadata": {},
   "outputs": [],
   "source": [
    "# зависимость цены от этажа\n",
    "df.groupby('floor_group')['last_price'].median().plot(figsize=(10, 5))"
   ]
  },
  {
   "cell_type": "markdown",
   "id": "063b6381",
   "metadata": {},
   "source": [
    "##### Вывод: \n",
    "- первый этаж, самый дешевый\n",
    "- последний дешевле остальных, но дороже первого. "
   ]
  },
  {
   "cell_type": "code",
   "execution_count": null,
   "id": "44138181",
   "metadata": {},
   "outputs": [],
   "source": [
    "# зависимость цены от года\n",
    "df.groupby('year')['last_price'].agg(['count', 'median'])"
   ]
  },
  {
   "cell_type": "code",
   "execution_count": null,
   "id": "e8a5cf87",
   "metadata": {},
   "outputs": [],
   "source": [
    "# зависимость цены от года\n",
    "df.groupby('year')['last_price'].median().plot(figsize=(10, 5))"
   ]
  },
  {
   "cell_type": "markdown",
   "id": "ca54dabf",
   "metadata": {},
   "source": [
    "##### Вывод: \n",
    "- 2014 год лучше не брать для оценки, так как мало объектов\n",
    "- с 2016 - 2018 недвижимость подешевела в сравнении с 2015\n",
    "- в 2019 вновь подоражала и вернулась к отметке 2015 года"
   ]
  },
  {
   "cell_type": "code",
   "execution_count": null,
   "id": "136b2751",
   "metadata": {},
   "outputs": [],
   "source": [
    "# зависимость цены от месяца\n",
    "df.groupby('month')['last_price'].agg(['count', 'median'])"
   ]
  },
  {
   "cell_type": "code",
   "execution_count": 55,
   "id": "44599bb8",
   "metadata": {},
   "outputs": [
    {
     "data": {
      "text/plain": [
       "<AxesSubplot:xlabel='month'>"
      ]
     },
     "execution_count": 55,
     "metadata": {},
     "output_type": "execute_result"
    },
    {
     "data": {
      "image/png": "[encoded data removed]",
      "text/plain": [
       "<Figure size 720x360 with 1 Axes>"
      ]
     },
     "metadata": {
      "needs_background": "light"
     },
     "output_type": "display_data"
    }
   ],
   "source": [
    "# зависимость цены от месяца\n",
    "df.groupby('month')['last_price'].median().plot(figsize=(10, 5))"
   ]
  },
  {
   "cell_type": "markdown",
   "id": "a2d70a3a",
   "metadata": {},
   "source": [
    "#####  Вывод: \n",
    "- больше всего продаж в феврале и марте\n",
    "- меньше всего в мае и январе\n",
    "- дороже всего можно продать в апреле\n",
    "- в июне продавать не стоит"
   ]
  },
  {
   "cell_type": "code",
   "execution_count": 57,
   "id": "2f6cb79f",
   "metadata": {},
   "outputs": [
    {
     "data": {
      "text/html": [
       "<div>\n",
       "<style scoped>\n",
       "    .dataframe tbody tr th:only-of-type {\n",
       "        vertical-align: middle;\n",
       "    }\n",
       "\n",
       "    .dataframe tbody tr th {\n",
       "        vertical-align: top;\n",
       "    }\n",
       "\n",
       "    .dataframe thead th {\n",
       "        text-align: right;\n",
       "    }\n",
       "</style>\n",
       "<table border=\"1\" class=\"dataframe\">\n",
       "  <thead>\n",
       "    <tr style=\"text-align: right;\">\n",
       "      <th></th>\n",
       "      <th>count</th>\n",
       "      <th>median</th>\n",
       "    </tr>\n",
       "    <tr>\n",
       "      <th>weekday</th>\n",
       "      <th></th>\n",
       "      <th></th>\n",
       "    </tr>\n",
       "  </thead>\n",
       "  <tbody>\n",
       "    <tr>\n",
       "      <th>0</th>\n",
       "      <td>3606</td>\n",
       "      <td>4650000.0</td>\n",
       "    </tr>\n",
       "    <tr>\n",
       "      <th>1</th>\n",
       "      <td>4175</td>\n",
       "      <td>4720000.0</td>\n",
       "    </tr>\n",
       "    <tr>\n",
       "      <th>2</th>\n",
       "      <td>3965</td>\n",
       "      <td>4700000.0</td>\n",
       "    </tr>\n",
       "    <tr>\n",
       "      <th>3</th>\n",
       "      <td>4286</td>\n",
       "      <td>4650000.0</td>\n",
       "    </tr>\n",
       "    <tr>\n",
       "      <th>4</th>\n",
       "      <td>3992</td>\n",
       "      <td>4577500.0</td>\n",
       "    </tr>\n",
       "    <tr>\n",
       "      <th>5</th>\n",
       "      <td>1933</td>\n",
       "      <td>4575000.0</td>\n",
       "    </tr>\n",
       "    <tr>\n",
       "      <th>6</th>\n",
       "      <td>1692</td>\n",
       "      <td>4550000.0</td>\n",
       "    </tr>\n",
       "  </tbody>\n",
       "</table>\n",
       "</div>"
      ],
      "text/plain": [
       "         count     median\n",
       "weekday                  \n",
       "0         3606  4650000.0\n",
       "1         4175  4720000.0\n",
       "2         3965  4700000.0\n",
       "3         4286  4650000.0\n",
       "4         3992  4577500.0\n",
       "5         1933  4575000.0\n",
       "6         1692  4550000.0"
      ]
     },
     "execution_count": 57,
     "metadata": {},
     "output_type": "execute_result"
    }
   ],
   "source": [
    "# зависимость цены от дня недели\n",
    "df.groupby('weekday')['last_price'].agg(['count', 'median'])"
   ]
  },
  {
   "cell_type": "code",
   "execution_count": 58,
   "id": "8cc3c4fb",
   "metadata": {},
   "outputs": [
    {
     "data": {
      "text/plain": [
       "<AxesSubplot:xlabel='weekday'>"
      ]
     },
     "execution_count": 58,
     "metadata": {},
     "output_type": "execute_result"
    },
    {
     "data": {
      "image/png": "[encoded data removed]",
      "text/plain": [
       "<Figure size 720x360 with 1 Axes>"
      ]
     },
     "metadata": {
      "needs_background": "light"
     },
     "output_type": "display_data"
    }
   ],
   "source": [
    "df.groupby('weekday')['last_price'].median().plot(figsize=(10, 5))"
   ]
  },
  {
   "cell_type": "markdown",
   "id": "06a0f227",
   "metadata": {},
   "source": [
    "##### Вывод: \n",
    "- лучше всего продаются в четверг\n",
    "- дороже всего во вторник\n",
    "- продавать в воскресенье плохая идея"
   ]
  },
  {
   "cell_type": "code",
   "execution_count": 59,
   "id": "cfa1f013",
   "metadata": {},
   "outputs": [
    {
     "data": {
      "text/html": [
       "<div>\n",
       "<style scoped>\n",
       "    .dataframe tbody tr th:only-of-type {\n",
       "        vertical-align: middle;\n",
       "    }\n",
       "\n",
       "    .dataframe tbody tr th {\n",
       "        vertical-align: top;\n",
       "    }\n",
       "\n",
       "    .dataframe thead th {\n",
       "        text-align: right;\n",
       "    }\n",
       "</style>\n",
       "<table border=\"1\" class=\"dataframe\">\n",
       "  <thead>\n",
       "    <tr style=\"text-align: right;\">\n",
       "      <th></th>\n",
       "      <th>last_price</th>\n",
       "      <th>total_area</th>\n",
       "      <th>rooms</th>\n",
       "      <th>city_centers_nearest</th>\n",
       "    </tr>\n",
       "  </thead>\n",
       "  <tbody>\n",
       "    <tr>\n",
       "      <th>last_price</th>\n",
       "      <td>1.000000</td>\n",
       "      <td>0.653808</td>\n",
       "      <td>0.365292</td>\n",
       "      <td>-0.206911</td>\n",
       "    </tr>\n",
       "    <tr>\n",
       "      <th>total_area</th>\n",
       "      <td>0.653808</td>\n",
       "      <td>1.000000</td>\n",
       "      <td>0.760678</td>\n",
       "      <td>-0.231877</td>\n",
       "    </tr>\n",
       "    <tr>\n",
       "      <th>rooms</th>\n",
       "      <td>0.365292</td>\n",
       "      <td>0.760678</td>\n",
       "      <td>1.000000</td>\n",
       "      <td>-0.186458</td>\n",
       "    </tr>\n",
       "    <tr>\n",
       "      <th>city_centers_nearest</th>\n",
       "      <td>-0.206911</td>\n",
       "      <td>-0.231877</td>\n",
       "      <td>-0.186458</td>\n",
       "      <td>1.000000</td>\n",
       "    </tr>\n",
       "  </tbody>\n",
       "</table>\n",
       "</div>"
      ],
      "text/plain": [
       "                      last_price  total_area     rooms  city_centers_nearest\n",
       "last_price              1.000000    0.653808  0.365292             -0.206911\n",
       "total_area              0.653808    1.000000  0.760678             -0.231877\n",
       "rooms                   0.365292    0.760678  1.000000             -0.186458\n",
       "city_centers_nearest   -0.206911   -0.231877 -0.186458              1.000000"
      ]
     },
     "execution_count": 59,
     "metadata": {},
     "output_type": "execute_result"
    }
   ],
   "source": [
    "# помотрим на кореляцию Пирсона\n",
    "df[['last_price', 'total_area', 'rooms', 'city_centers_nearest']].corr()"
   ]
  },
  {
   "cell_type": "markdown",
   "id": "cb9625e2",
   "metadata": {},
   "source": [
    "##### Вывод:\n",
    "1. цена и общ площать, корреляция умеренная говорит о том что стоимость квартиры зависит от общей площади\n",
    "2. цена и колличество комнат, корреляция слабая, говорит о том что цена не сильно меняется от колличетва комнат\n",
    "3. цена и удаление от центра, корреляция слабая отрицательная, говорит о том что при увеличении цены расстояние от центра уменьшается\n",
    "\n",
    "4. общ площадь и число команат, сильная кореляция, значит что при росте площади увеличивается число комнат\n",
    "5. общ площадь и расстояние от центра, кор слабая, значит что при увеличении площади расстояние от центра уменьшается\n",
    "\n",
    "6. комнаты и расстояние от центра, кор отрицательная очень слабая, при увеличении количетсва комнат, расстояние от центра уменьшается"
   ]
  },
  {
   "cell_type": "code",
   "execution_count": 60,
   "id": "c0ed4f00",
   "metadata": {},
   "outputs": [
    {
     "data": {
      "image/png": "[encoded data removed]",
      "text/plain": [
       "<Figure size 720x720 with 20 Axes>"
      ]
     },
     "metadata": {
      "needs_background": "light"
     },
     "output_type": "display_data"
    }
   ],
   "source": [
    "sns.pairplot(df[['last_price', 'total_area', 'rooms', 'city_centers_nearest']])\n",
    "plt.show()"
   ]
  },
  {
   "cell_type": "markdown",
   "id": "11357a39",
   "metadata": {},
   "source": [
    "### Населенные пункты с наибольшим числом объявлений"
   ]
  },
  {
   "cell_type": "code",
   "execution_count": 61,
   "id": "20fd7d7a",
   "metadata": {},
   "outputs": [],
   "source": [
    "# изменим регистр всех названий городов\n",
    "df['locality_name'] = df['locality_name'].str.lower()"
   ]
  },
  {
   "cell_type": "code",
   "execution_count": 62,
   "id": "c382f50c",
   "metadata": {},
   "outputs": [
    {
     "data": {
      "text/html": [
       "<div>\n",
       "<style scoped>\n",
       "    .dataframe tbody tr th:only-of-type {\n",
       "        vertical-align: middle;\n",
       "    }\n",
       "\n",
       "    .dataframe tbody tr th {\n",
       "        vertical-align: top;\n",
       "    }\n",
       "\n",
       "    .dataframe thead th {\n",
       "        text-align: right;\n",
       "    }\n",
       "</style>\n",
       "<table border=\"1\" class=\"dataframe\">\n",
       "  <thead>\n",
       "    <tr style=\"text-align: right;\">\n",
       "      <th></th>\n",
       "      <th>count</th>\n",
       "      <th>median</th>\n",
       "    </tr>\n",
       "    <tr>\n",
       "      <th>locality_name</th>\n",
       "      <th></th>\n",
       "      <th></th>\n",
       "    </tr>\n",
       "  </thead>\n",
       "  <tbody>\n",
       "    <tr>\n",
       "      <th>санкт-петербург</th>\n",
       "      <td>15720</td>\n",
       "      <td>104765.5</td>\n",
       "    </tr>\n",
       "    <tr>\n",
       "      <th>посёлок мурино</th>\n",
       "      <td>522</td>\n",
       "      <td>85878.0</td>\n",
       "    </tr>\n",
       "    <tr>\n",
       "      <th>посёлок шушары</th>\n",
       "      <td>440</td>\n",
       "      <td>76876.0</td>\n",
       "    </tr>\n",
       "    <tr>\n",
       "      <th>всеволожск</th>\n",
       "      <td>398</td>\n",
       "      <td>65789.0</td>\n",
       "    </tr>\n",
       "    <tr>\n",
       "      <th>пушкин</th>\n",
       "      <td>369</td>\n",
       "      <td>100000.0</td>\n",
       "    </tr>\n",
       "    <tr>\n",
       "      <th>колпино</th>\n",
       "      <td>338</td>\n",
       "      <td>74723.5</td>\n",
       "    </tr>\n",
       "    <tr>\n",
       "      <th>посёлок парголово</th>\n",
       "      <td>327</td>\n",
       "      <td>91642.0</td>\n",
       "    </tr>\n",
       "    <tr>\n",
       "      <th>гатчина</th>\n",
       "      <td>307</td>\n",
       "      <td>67796.0</td>\n",
       "    </tr>\n",
       "    <tr>\n",
       "      <th>деревня кудрово</th>\n",
       "      <td>299</td>\n",
       "      <td>91860.0</td>\n",
       "    </tr>\n",
       "    <tr>\n",
       "      <th>выборг</th>\n",
       "      <td>237</td>\n",
       "      <td>58158.0</td>\n",
       "    </tr>\n",
       "  </tbody>\n",
       "</table>\n",
       "</div>"
      ],
      "text/plain": [
       "                   count    median\n",
       "locality_name                     \n",
       "санкт-петербург    15720  104765.5\n",
       "посёлок мурино       522   85878.0\n",
       "посёлок шушары       440   76876.0\n",
       "всеволожск           398   65789.0\n",
       "пушкин               369  100000.0\n",
       "колпино              338   74723.5\n",
       "посёлок парголово    327   91642.0\n",
       "гатчина              307   67796.0\n",
       "деревня кудрово      299   91860.0\n",
       "выборг               237   58158.0"
      ]
     },
     "metadata": {},
     "output_type": "display_data"
    }
   ],
   "source": [
    "# 10 населённых пунктов с населённые пункты с самой высокой стоимостью жилья.\n",
    "top_ten = (df.groupby('locality_name')['price_area']\n",
    "           .agg(['count', 'median'])\n",
    "           .sort_values(by='count', ascending=False)\n",
    "           .head(10)\n",
    "           )\n",
    "\n",
    "display(top_ten)"
   ]
  },
  {
   "cell_type": "code",
   "execution_count": 63,
   "id": "5d18d68a",
   "metadata": {},
   "outputs": [
    {
     "data": {
      "text/plain": [
       "<AxesSubplot:ylabel='median'>"
      ]
     },
     "execution_count": 63,
     "metadata": {},
     "output_type": "execute_result"
    },
    {
     "data": {
      "image/png": "[encoded data removed]",
      "text/plain": [
       "<Figure size 432x288 with 1 Axes>"
      ]
     },
     "metadata": {},
     "output_type": "display_data"
    }
   ],
   "source": [
    "# 10 населённых пунктов с населённые пункты с самой высокой стоимостью жилья.\n",
    "top_ten.reset_index().groupby('locality_name')['median'].sum().plot(kind='pie')"
   ]
  },
  {
   "cell_type": "markdown",
   "id": "30339d8b",
   "metadata": {},
   "source": [
    "##### Вывод:\n",
    "- у Санкт-Петербурга в 30 раз больше объявлений\n",
    "- самая низкая цена кв метра в городе Выборг\n",
    "- самая высокая стоимость в Санкт-Петербурге "
   ]
  },
  {
   "cell_type": "markdown",
   "id": "1ca1612d",
   "metadata": {},
   "source": [
    "### График изменения стоимости при удаленности от центра"
   ]
  },
  {
   "cell_type": "code",
   "execution_count": 64,
   "id": "59a1d275",
   "metadata": {},
   "outputs": [],
   "source": [
    "# колонка с расстоянием от центра в км\n",
    "df['spb_centr_km'] = df['city_centers_nearest']\n",
    "df['spb_centr_km'] = df['spb_centr_km'].where(\n",
    "    df['locality_name'] == 'санкт-петербург', pd.NA)\n",
    "df['spb_centr_km'] = (df['spb_centr_km'] / 1000).astype('Int64')"
   ]
  },
  {
   "cell_type": "code",
   "execution_count": 65,
   "id": "03798a37",
   "metadata": {},
   "outputs": [
    {
     "data": {
      "text/html": [
       "<div>\n",
       "<style scoped>\n",
       "    .dataframe tbody tr th:only-of-type {\n",
       "        vertical-align: middle;\n",
       "    }\n",
       "\n",
       "    .dataframe tbody tr th {\n",
       "        vertical-align: top;\n",
       "    }\n",
       "\n",
       "    .dataframe thead th {\n",
       "        text-align: right;\n",
       "    }\n",
       "</style>\n",
       "<table border=\"1\" class=\"dataframe\">\n",
       "  <thead>\n",
       "    <tr style=\"text-align: right;\">\n",
       "      <th></th>\n",
       "      <th>Количество</th>\n",
       "      <th>Средняя цена в млн.</th>\n",
       "    </tr>\n",
       "    <tr>\n",
       "      <th>spb_centr_km</th>\n",
       "      <th></th>\n",
       "      <th></th>\n",
       "    </tr>\n",
       "  </thead>\n",
       "  <tbody>\n",
       "    <tr>\n",
       "      <th>0</th>\n",
       "      <td>86</td>\n",
       "      <td>23.442315</td>\n",
       "    </tr>\n",
       "    <tr>\n",
       "      <th>1</th>\n",
       "      <td>240</td>\n",
       "      <td>18.850852</td>\n",
       "    </tr>\n",
       "    <tr>\n",
       "      <th>2</th>\n",
       "      <td>307</td>\n",
       "      <td>16.163314</td>\n",
       "    </tr>\n",
       "    <tr>\n",
       "      <th>3</th>\n",
       "      <td>526</td>\n",
       "      <td>13.436831</td>\n",
       "    </tr>\n",
       "    <tr>\n",
       "      <th>4</th>\n",
       "      <td>907</td>\n",
       "      <td>13.632025</td>\n",
       "    </tr>\n",
       "    <tr>\n",
       "      <th>5</th>\n",
       "      <td>769</td>\n",
       "      <td>15.306121</td>\n",
       "    </tr>\n",
       "    <tr>\n",
       "      <th>6</th>\n",
       "      <td>470</td>\n",
       "      <td>14.389106</td>\n",
       "    </tr>\n",
       "    <tr>\n",
       "      <th>7</th>\n",
       "      <td>407</td>\n",
       "      <td>12.797674</td>\n",
       "    </tr>\n",
       "    <tr>\n",
       "      <th>8</th>\n",
       "      <td>670</td>\n",
       "      <td>8.445272</td>\n",
       "    </tr>\n",
       "    <tr>\n",
       "      <th>9</th>\n",
       "      <td>689</td>\n",
       "      <td>6.435364</td>\n",
       "    </tr>\n",
       "  </tbody>\n",
       "</table>\n",
       "</div>"
      ],
      "text/plain": [
       "              Количество  Средняя цена в млн.\n",
       "spb_centr_km                                 \n",
       "0                     86            23.442315\n",
       "1                    240            18.850852\n",
       "2                    307            16.163314\n",
       "3                    526            13.436831\n",
       "4                    907            13.632025\n",
       "5                    769            15.306121\n",
       "6                    470            14.389106\n",
       "7                    407            12.797674\n",
       "8                    670             8.445272\n",
       "9                    689             6.435364"
      ]
     },
     "metadata": {},
     "output_type": "display_data"
    }
   ],
   "source": [
    "# средняя цена для каждого киллометра\n",
    "pivot_mean_km = df.pivot_table(\n",
    "    index='spb_centr_km', values='last_price', aggfunc=['count', 'mean'])\n",
    "pivot_mean_km.columns = ['Количество', 'Средняя цена в млн.']\n",
    "pivot_mean_km['Средняя цена в млн.'] = (\n",
    "    pivot_mean_km['Средняя цена в млн.'] / 1000000)\n",
    "display(pivot_mean_km.head(10))"
   ]
  },
  {
   "cell_type": "code",
   "execution_count": 66,
   "id": "c8bb1a31",
   "metadata": {},
   "outputs": [
    {
     "data": {
      "image/png": "[encoded data removed]",
      "text/plain": [
       "<Figure size 720x360 with 1 Axes>"
      ]
     },
     "metadata": {
      "needs_background": "light"
     },
     "output_type": "display_data"
    }
   ],
   "source": [
    "# график изменения цены в зависимсоти от расстояния до центра\n",
    "pivot_mean_km.plot(y='Средняя цена в млн.', figsize=(10, 5), grid=True, ylim=0)\n",
    "plt.show()"
   ]
  },
  {
   "cell_type": "markdown",
   "id": "c51ec309",
   "metadata": {},
   "source": [
    "#### Вывод:\n",
    "- исходя из графика, центральной зоной считается все в пределах от 0 до 7 км, где стоимость в предлеах 23 - 13 млн. \n",
    "- в радиусе 1км самые дорогие квартиры\n",
    "- на 3м киллометре стоимость квартиры почти в 2 раза ниже чем на 0\n",
    "- на 6 и 5 км, квартиры дороже чем на 3 и 4 км\n",
    "- в радиусе 1 км меньше всего хотят продать квартиру, больше всего хотят продать на 4 км"
   ]
  },
  {
   "cell_type": "markdown",
   "id": "7e8c2149",
   "metadata": {},
   "source": [
    "###  Анализ центра СПБ и сравнение по всему району"
   ]
  },
  {
   "cell_type": "code",
   "execution_count": 81,
   "id": "5725eacf",
   "metadata": {},
   "outputs": [],
   "source": [
    "# сделаем таблицу центр\n",
    "df_center = df.query('spb_centr_km <= 7').reset_index(drop=True)"
   ]
  },
  {
   "cell_type": "code",
   "execution_count": 82,
   "id": "2bd94f4a",
   "metadata": {},
   "outputs": [
    {
     "data": {
      "text/html": [
       "<div>\n",
       "<style scoped>\n",
       "    .dataframe tbody tr th:only-of-type {\n",
       "        vertical-align: middle;\n",
       "    }\n",
       "\n",
       "    .dataframe tbody tr th {\n",
       "        vertical-align: top;\n",
       "    }\n",
       "\n",
       "    .dataframe thead th {\n",
       "        text-align: right;\n",
       "    }\n",
       "</style>\n",
       "<table border=\"1\" class=\"dataframe\">\n",
       "  <thead>\n",
       "    <tr style=\"text-align: right;\">\n",
       "      <th></th>\n",
       "      <th>Year</th>\n",
       "      <th>QTY</th>\n",
       "      <th>$</th>\n",
       "      <th>QTY centr</th>\n",
       "      <th>$ center</th>\n",
       "    </tr>\n",
       "  </thead>\n",
       "  <tbody>\n",
       "    <tr>\n",
       "      <th>0</th>\n",
       "      <td>2014-01-01</td>\n",
       "      <td>136</td>\n",
       "      <td>7.64</td>\n",
       "      <td>27</td>\n",
       "      <td>19.8</td>\n",
       "    </tr>\n",
       "    <tr>\n",
       "      <th>1</th>\n",
       "      <td>2015-01-01</td>\n",
       "      <td>1173</td>\n",
       "      <td>5.35</td>\n",
       "      <td>328</td>\n",
       "      <td>9.995</td>\n",
       "    </tr>\n",
       "    <tr>\n",
       "      <th>2</th>\n",
       "      <td>2016-01-01</td>\n",
       "      <td>2765</td>\n",
       "      <td>4.55</td>\n",
       "      <td>522</td>\n",
       "      <td>9.4</td>\n",
       "    </tr>\n",
       "    <tr>\n",
       "      <th>3</th>\n",
       "      <td>2017-01-01</td>\n",
       "      <td>8185</td>\n",
       "      <td>4.5</td>\n",
       "      <td>1331</td>\n",
       "      <td>8.99</td>\n",
       "    </tr>\n",
       "    <tr>\n",
       "      <th>4</th>\n",
       "      <td>2018-01-01</td>\n",
       "      <td>8512</td>\n",
       "      <td>4.55</td>\n",
       "      <td>1103</td>\n",
       "      <td>8.75</td>\n",
       "    </tr>\n",
       "    <tr>\n",
       "      <th>5</th>\n",
       "      <td>2019-01-01</td>\n",
       "      <td>2878</td>\n",
       "      <td>5.05</td>\n",
       "      <td>401</td>\n",
       "      <td>9.476</td>\n",
       "    </tr>\n",
       "  </tbody>\n",
       "</table>\n",
       "</div>"
      ],
      "text/plain": [
       "        Year   QTY     $  QTY centr  $ center\n",
       "0 2014-01-01   136  7.64         27      19.8\n",
       "1 2015-01-01  1173  5.35        328     9.995\n",
       "2 2016-01-01  2765  4.55        522       9.4\n",
       "3 2017-01-01  8185   4.5       1331      8.99\n",
       "4 2018-01-01  8512  4.55       1103      8.75\n",
       "5 2019-01-01  2878  5.05        401     9.476"
      ]
     },
     "execution_count": 82,
     "metadata": {},
     "output_type": "execute_result"
    }
   ],
   "source": [
    "# сравнительная таблица цены центра города и всего района по годам\n",
    "pivot_spb_year = df_center.pivot_table(index=['year'], values=[\n",
    "                                       'last_price'], aggfunc=['count', 'median']).reset_index()\n",
    "pivot_spb_year.columns = ['Year', 'QTY centr', '$ center']\n",
    "pivot_spb_year['$ center'] = pivot_spb_year['$ center'] / 1000000\n",
    "\n",
    "pivot_year = df.pivot_table(index=['year'], values=['last_price'], aggfunc=[\n",
    "                            'count', 'median']).reset_index()\n",
    "pivot_year.columns = ['Year', 'QTY', '$']\n",
    "pivot_year['$'] = pivot_year['$'] / 1000000\n",
    "\n",
    "pvt_merge = pivot_year.merge(pivot_spb_year, how='left', on='Year')\n",
    "pvt_merge"
   ]
  },
  {
   "cell_type": "code",
   "execution_count": 69,
   "id": "898835dc",
   "metadata": {},
   "outputs": [
    {
     "data": {
      "text/plain": [
       "<AxesSubplot:>"
      ]
     },
     "execution_count": 69,
     "metadata": {},
     "output_type": "execute_result"
    },
    {
     "data": {
      "image/png": "[encoded data removed]",
      "text/plain": [
       "<Figure size 720x360 with 1 Axes>"
      ]
     },
     "metadata": {
      "needs_background": "light"
     },
     "output_type": "display_data"
    }
   ],
   "source": [
    "# отношение цены к расстоянию от центра по годам\n",
    "pvt_merge.plot(y=['$', '$ center'], figsize=(10, 5), ylim=0)"
   ]
  },
  {
   "cell_type": "markdown",
   "id": "73ed18d2",
   "metadata": {},
   "source": [
    "##### Вывод \n",
    "- в центре города средняя стоимость квартир в 2 раза выше чем средняя стоимость квартир по всему району\n",
    "- в 2014 слишком мало данных, но даже по ним можно сделать осторожный вывод о том что в 2015 цены на недвижимость сильно снизились\n",
    "- стоимость квартир падала с 2015 до 2017, и росла с 2018 по 2019\n",
    "- больше всего недвижимости продавалось в 2017 и 2018 годах как в центре так и по всему району."
   ]
  },
  {
   "cell_type": "code",
   "execution_count": 70,
   "id": "f6101856",
   "metadata": {},
   "outputs": [
    {
     "data": {
      "text/html": [
       "<div>\n",
       "<style scoped>\n",
       "    .dataframe tbody tr th:only-of-type {\n",
       "        vertical-align: middle;\n",
       "    }\n",
       "\n",
       "    .dataframe tbody tr th {\n",
       "        vertical-align: top;\n",
       "    }\n",
       "\n",
       "    .dataframe thead th {\n",
       "        text-align: right;\n",
       "    }\n",
       "</style>\n",
       "<table border=\"1\" class=\"dataframe\">\n",
       "  <thead>\n",
       "    <tr style=\"text-align: right;\">\n",
       "      <th></th>\n",
       "      <th>Year</th>\n",
       "      <th>Ceiling</th>\n",
       "      <th>Rooms</th>\n",
       "      <th>Area</th>\n",
       "      <th>Ceiling center</th>\n",
       "      <th>Rooms center</th>\n",
       "      <th>Area center</th>\n",
       "    </tr>\n",
       "  </thead>\n",
       "  <tbody>\n",
       "    <tr>\n",
       "      <th>0</th>\n",
       "      <td>2014-01-01</td>\n",
       "      <td>2.65</td>\n",
       "      <td>3.0</td>\n",
       "      <td>76.18</td>\n",
       "      <td>2.65</td>\n",
       "      <td>3.0</td>\n",
       "      <td>115.699997</td>\n",
       "    </tr>\n",
       "    <tr>\n",
       "      <th>1</th>\n",
       "      <td>2015-01-01</td>\n",
       "      <td>2.65</td>\n",
       "      <td>2.0</td>\n",
       "      <td>60.00</td>\n",
       "      <td>2.70</td>\n",
       "      <td>3.0</td>\n",
       "      <td>87.000000</td>\n",
       "    </tr>\n",
       "    <tr>\n",
       "      <th>2</th>\n",
       "      <td>2016-01-01</td>\n",
       "      <td>2.65</td>\n",
       "      <td>2.0</td>\n",
       "      <td>53.02</td>\n",
       "      <td>2.65</td>\n",
       "      <td>3.0</td>\n",
       "      <td>82.000000</td>\n",
       "    </tr>\n",
       "    <tr>\n",
       "      <th>3</th>\n",
       "      <td>2017-01-01</td>\n",
       "      <td>2.65</td>\n",
       "      <td>2.0</td>\n",
       "      <td>52.00</td>\n",
       "      <td>2.70</td>\n",
       "      <td>3.0</td>\n",
       "      <td>77.800003</td>\n",
       "    </tr>\n",
       "    <tr>\n",
       "      <th>4</th>\n",
       "      <td>2018-01-01</td>\n",
       "      <td>2.65</td>\n",
       "      <td>2.0</td>\n",
       "      <td>50.50</td>\n",
       "      <td>2.84</td>\n",
       "      <td>3.0</td>\n",
       "      <td>74.000000</td>\n",
       "    </tr>\n",
       "    <tr>\n",
       "      <th>5</th>\n",
       "      <td>2019-01-01</td>\n",
       "      <td>2.65</td>\n",
       "      <td>2.0</td>\n",
       "      <td>52.00</td>\n",
       "      <td>3.00</td>\n",
       "      <td>3.0</td>\n",
       "      <td>73.900002</td>\n",
       "    </tr>\n",
       "  </tbody>\n",
       "</table>\n",
       "</div>"
      ],
      "text/plain": [
       "        Year  Ceiling  Rooms   Area  Ceiling center  Rooms center  Area center\n",
       "0 2014-01-01     2.65    3.0  76.18            2.65           3.0   115.699997\n",
       "1 2015-01-01     2.65    2.0  60.00            2.70           3.0    87.000000\n",
       "2 2016-01-01     2.65    2.0  53.02            2.65           3.0    82.000000\n",
       "3 2017-01-01     2.65    2.0  52.00            2.70           3.0    77.800003\n",
       "4 2018-01-01     2.65    2.0  50.50            2.84           3.0    74.000000\n",
       "5 2019-01-01     2.65    2.0  52.00            3.00           3.0    73.900002"
      ]
     },
     "execution_count": 70,
     "metadata": {},
     "output_type": "execute_result"
    }
   ],
   "source": [
    "# сравнительная таблица центра города и всего района по\n",
    "# высоте потолков, комнат, площади\n",
    "pivot_spb_values = df_center.pivot_table(\n",
    "    index=['year'],\n",
    "    values=['total_area', 'rooms', 'ceiling_height'],\n",
    "    aggfunc=['median']).reset_index()\n",
    "pivot_spb_values.columns = [\n",
    "    'Year', 'Ceiling center', 'Rooms center', 'Area center']\n",
    "\n",
    "pivot_values = df.pivot_table(\n",
    "    index=['year'],\n",
    "    values=['total_area', 'rooms', 'ceiling_height'],\n",
    "    aggfunc=['median']).reset_index()\n",
    "pivot_values.columns = ['Year', 'Ceiling', 'Rooms', 'Area']\n",
    "\n",
    "pvt_values = pivot_values.merge(pivot_spb_values, how='left', on='Year')\n",
    "pvt_values"
   ]
  },
  {
   "cell_type": "code",
   "execution_count": 71,
   "id": "90aac05b",
   "metadata": {},
   "outputs": [
    {
     "data": {
      "text/plain": [
       "<AxesSubplot:>"
      ]
     },
     "execution_count": 71,
     "metadata": {},
     "output_type": "execute_result"
    },
    {
     "data": {
      "image/png": "[encoded data removed]",
      "text/plain": [
       "<Figure size 720x360 with 1 Axes>"
      ]
     },
     "metadata": {
      "needs_background": "light"
     },
     "output_type": "display_data"
    }
   ],
   "source": [
    "# высота потолков\n",
    "pvt_values.plot(y=['Ceiling', 'Ceiling center'], figsize=(10, 5), ylim=0)"
   ]
  },
  {
   "cell_type": "code",
   "execution_count": 72,
   "id": "887c445f",
   "metadata": {},
   "outputs": [
    {
     "data": {
      "text/plain": [
       "<AxesSubplot:>"
      ]
     },
     "execution_count": 72,
     "metadata": {},
     "output_type": "execute_result"
    },
    {
     "data": {
      "image/png": "[encoded data removed]",
      "text/plain": [
       "<Figure size 720x360 with 1 Axes>"
      ]
     },
     "metadata": {
      "needs_background": "light"
     },
     "output_type": "display_data"
    }
   ],
   "source": [
    "# общая площадь\n",
    "pvt_values.plot(y=['Area', 'Area center'], figsize=(10, 5), ylim=0)"
   ]
  },
  {
   "cell_type": "markdown",
   "id": "049a2c04",
   "metadata": {},
   "source": [
    "##### Вывод\n",
    "- высота потолков в центре в среднем выше на 0.5 метра\n",
    "- недвижимость в центре как правило на одну комнату больше, а площать квартир начиная с 2016 почти в 2 раза больше"
   ]
  },
  {
   "cell_type": "code",
   "execution_count": 73,
   "id": "860de10e",
   "metadata": {},
   "outputs": [
    {
     "data": {
      "text/html": [
       "<div>\n",
       "<style scoped>\n",
       "    .dataframe tbody tr th:only-of-type {\n",
       "        vertical-align: middle;\n",
       "    }\n",
       "\n",
       "    .dataframe tbody tr th {\n",
       "        vertical-align: top;\n",
       "    }\n",
       "\n",
       "    .dataframe thead th {\n",
       "        text-align: right;\n",
       "    }\n",
       "</style>\n",
       "<table border=\"1\" class=\"dataframe\">\n",
       "  <thead>\n",
       "    <tr style=\"text-align: right;\">\n",
       "      <th></th>\n",
       "      <th>QTY</th>\n",
       "      <th>$</th>\n",
       "      <th>QTY center</th>\n",
       "      <th>$ center</th>\n",
       "    </tr>\n",
       "    <tr>\n",
       "      <th>rooms</th>\n",
       "      <th></th>\n",
       "      <th></th>\n",
       "      <th></th>\n",
       "      <th></th>\n",
       "    </tr>\n",
       "  </thead>\n",
       "  <tbody>\n",
       "    <tr>\n",
       "      <th>1</th>\n",
       "      <td>8233</td>\n",
       "      <td>3585000.0</td>\n",
       "      <td>578</td>\n",
       "      <td>5900000.0</td>\n",
       "    </tr>\n",
       "    <tr>\n",
       "      <th>2</th>\n",
       "      <td>7923</td>\n",
       "      <td>4770338.0</td>\n",
       "      <td>1101</td>\n",
       "      <td>7650000.0</td>\n",
       "    </tr>\n",
       "    <tr>\n",
       "      <th>3</th>\n",
       "      <td>5797</td>\n",
       "      <td>6200000.0</td>\n",
       "      <td>1150</td>\n",
       "      <td>9990000.0</td>\n",
       "    </tr>\n",
       "    <tr>\n",
       "      <th>4</th>\n",
       "      <td>1175</td>\n",
       "      <td>9000000.0</td>\n",
       "      <td>503</td>\n",
       "      <td>12300000.0</td>\n",
       "    </tr>\n",
       "    <tr>\n",
       "      <th>5</th>\n",
       "      <td>326</td>\n",
       "      <td>14000000.0</td>\n",
       "      <td>218</td>\n",
       "      <td>14945000.0</td>\n",
       "    </tr>\n",
       "    <tr>\n",
       "      <th>6</th>\n",
       "      <td>105</td>\n",
       "      <td>19000000.0</td>\n",
       "      <td>84</td>\n",
       "      <td>19500000.0</td>\n",
       "    </tr>\n",
       "    <tr>\n",
       "      <th>7</th>\n",
       "      <td>59</td>\n",
       "      <td>24900000.0</td>\n",
       "      <td>54</td>\n",
       "      <td>24900000.0</td>\n",
       "    </tr>\n",
       "    <tr>\n",
       "      <th>8</th>\n",
       "      <td>12</td>\n",
       "      <td>23095000.0</td>\n",
       "      <td>11</td>\n",
       "      <td>22190000.0</td>\n",
       "    </tr>\n",
       "    <tr>\n",
       "      <th>9</th>\n",
       "      <td>8</td>\n",
       "      <td>23750000.0</td>\n",
       "      <td>3</td>\n",
       "      <td>29000000.0</td>\n",
       "    </tr>\n",
       "    <tr>\n",
       "      <th>10</th>\n",
       "      <td>3</td>\n",
       "      <td>23000000.0</td>\n",
       "      <td>2</td>\n",
       "      <td>27750000.0</td>\n",
       "    </tr>\n",
       "    <tr>\n",
       "      <th>11</th>\n",
       "      <td>2</td>\n",
       "      <td>25250000.0</td>\n",
       "      <td>2</td>\n",
       "      <td>25250000.0</td>\n",
       "    </tr>\n",
       "    <tr>\n",
       "      <th>12</th>\n",
       "      <td>1</td>\n",
       "      <td>420000000.0</td>\n",
       "      <td>1</td>\n",
       "      <td>420000000.0</td>\n",
       "    </tr>\n",
       "    <tr>\n",
       "      <th>14</th>\n",
       "      <td>2</td>\n",
       "      <td>26829500.0</td>\n",
       "      <td>2</td>\n",
       "      <td>26829500.0</td>\n",
       "    </tr>\n",
       "    <tr>\n",
       "      <th>15</th>\n",
       "      <td>1</td>\n",
       "      <td>65000000.0</td>\n",
       "      <td>1</td>\n",
       "      <td>65000000.0</td>\n",
       "    </tr>\n",
       "    <tr>\n",
       "      <th>16</th>\n",
       "      <td>1</td>\n",
       "      <td>28500000.0</td>\n",
       "      <td>1</td>\n",
       "      <td>28500000.0</td>\n",
       "    </tr>\n",
       "    <tr>\n",
       "      <th>19</th>\n",
       "      <td>1</td>\n",
       "      <td>32250000.0</td>\n",
       "      <td>1</td>\n",
       "      <td>32250000.0</td>\n",
       "    </tr>\n",
       "  </tbody>\n",
       "</table>\n",
       "</div>"
      ],
      "text/plain": [
       "        QTY            $  QTY center     $ center\n",
       "rooms                                            \n",
       "1      8233    3585000.0         578    5900000.0\n",
       "2      7923    4770338.0        1101    7650000.0\n",
       "3      5797    6200000.0        1150    9990000.0\n",
       "4      1175    9000000.0         503   12300000.0\n",
       "5       326   14000000.0         218   14945000.0\n",
       "6       105   19000000.0          84   19500000.0\n",
       "7        59   24900000.0          54   24900000.0\n",
       "8        12   23095000.0          11   22190000.0\n",
       "9         8   23750000.0           3   29000000.0\n",
       "10        3   23000000.0           2   27750000.0\n",
       "11        2   25250000.0           2   25250000.0\n",
       "12        1  420000000.0           1  420000000.0\n",
       "14        2   26829500.0           2   26829500.0\n",
       "15        1   65000000.0           1   65000000.0\n",
       "16        1   28500000.0           1   28500000.0\n",
       "19        1   32250000.0           1   32250000.0"
      ]
     },
     "execution_count": 73,
     "metadata": {},
     "output_type": "execute_result"
    }
   ],
   "source": [
    "# сравнительная таблица цены центра города и всего района по количеству комнат\n",
    "pivot_spb_room = df_center.pivot_table(\n",
    "    index='rooms', values='last_price', aggfunc=['count', 'median'])\n",
    "pivot_spb_room.columns = ['QTY center', '$ center']\n",
    "pivot_room = df.pivot_table(\n",
    "    index='rooms', values='last_price', aggfunc=['count', 'median'])\n",
    "pivot_room.columns = ['QTY', '$']\n",
    "p = pivot_room.merge(pivot_spb_room, how='left', on='rooms')\n",
    "p"
   ]
  },
  {
   "cell_type": "code",
   "execution_count": 74,
   "id": "83b2efe7",
   "metadata": {},
   "outputs": [
    {
     "data": {
      "text/plain": [
       "<AxesSubplot:xlabel='rooms'>"
      ]
     },
     "execution_count": 74,
     "metadata": {},
     "output_type": "execute_result"
    },
    {
     "data": {
      "image/png": "[encoded data removed]",
      "text/plain": [
       "<Figure size 720x360 with 1 Axes>"
      ]
     },
     "metadata": {
      "needs_background": "light"
     },
     "output_type": "display_data"
    }
   ],
   "source": [
    "p.plot(y=['$', '$ center'], figsize=(10, 5))"
   ]
  },
  {
   "cell_type": "markdown",
   "id": "b27e545b",
   "metadata": {},
   "source": [
    "##### Вывод\n",
    "- в центральном районе в лидерах 3х и 2х комнатные квартиры\n",
    "- а по всему району лидируют 1 комнатные и 2 комнатные"
   ]
  },
  {
   "cell_type": "code",
   "execution_count": 75,
   "id": "3cc62eaa",
   "metadata": {},
   "outputs": [
    {
     "data": {
      "text/html": [
       "<div>\n",
       "<style scoped>\n",
       "    .dataframe tbody tr th:only-of-type {\n",
       "        vertical-align: middle;\n",
       "    }\n",
       "\n",
       "    .dataframe tbody tr th {\n",
       "        vertical-align: top;\n",
       "    }\n",
       "\n",
       "    .dataframe thead th {\n",
       "        text-align: right;\n",
       "    }\n",
       "</style>\n",
       "<table border=\"1\" class=\"dataframe\">\n",
       "  <thead>\n",
       "    <tr style=\"text-align: right;\">\n",
       "      <th></th>\n",
       "      <th>QTY</th>\n",
       "      <th>$</th>\n",
       "      <th>QTY center</th>\n",
       "      <th>$ center</th>\n",
       "    </tr>\n",
       "    <tr>\n",
       "      <th>floor_group</th>\n",
       "      <th></th>\n",
       "      <th></th>\n",
       "      <th></th>\n",
       "      <th></th>\n",
       "    </tr>\n",
       "  </thead>\n",
       "  <tbody>\n",
       "    <tr>\n",
       "      <th>другие</th>\n",
       "      <td>17408</td>\n",
       "      <td>4850000.0</td>\n",
       "      <td>2653</td>\n",
       "      <td>9500000.0</td>\n",
       "    </tr>\n",
       "    <tr>\n",
       "      <th>первый</th>\n",
       "      <td>2884</td>\n",
       "      <td>3900000.0</td>\n",
       "      <td>407</td>\n",
       "      <td>6550000.0</td>\n",
       "    </tr>\n",
       "    <tr>\n",
       "      <th>последний</th>\n",
       "      <td>3357</td>\n",
       "      <td>4300000.0</td>\n",
       "      <td>652</td>\n",
       "      <td>9175000.0</td>\n",
       "    </tr>\n",
       "  </tbody>\n",
       "</table>\n",
       "</div>"
      ],
      "text/plain": [
       "               QTY          $  QTY center   $ center\n",
       "floor_group                                         \n",
       "другие       17408  4850000.0        2653  9500000.0\n",
       "первый        2884  3900000.0         407  6550000.0\n",
       "последний     3357  4300000.0         652  9175000.0"
      ]
     },
     "execution_count": 75,
     "metadata": {},
     "output_type": "execute_result"
    }
   ],
   "source": [
    "# сравнительная таблица цены центра города и всего района по этажности\n",
    "pivot_spb_floor = df_center.pivot_table(\n",
    "    index='floor_group', values='last_price', aggfunc=['count', 'median'])\n",
    "pivot_spb_floor.columns = ['QTY center', '$ center']\n",
    "pivot_floor = df.pivot_table(\n",
    "    index='floor_group', values='last_price', aggfunc=['count', 'median'])\n",
    "pivot_floor.columns = ['QTY', '$']\n",
    "pvt_floor = pivot_floor.merge(pivot_spb_floor, how='left', on='floor_group')\n",
    "pvt_floor"
   ]
  },
  {
   "cell_type": "code",
   "execution_count": 76,
   "id": "66c65b15",
   "metadata": {},
   "outputs": [
    {
     "data": {
      "text/plain": [
       "<AxesSubplot:xlabel='floor_group'>"
      ]
     },
     "execution_count": 76,
     "metadata": {},
     "output_type": "execute_result"
    },
    {
     "data": {
      "image/png": "[encoded data removed]",
      "text/plain": [
       "<Figure size 720x360 with 1 Axes>"
      ]
     },
     "metadata": {
      "needs_background": "light"
     },
     "output_type": "display_data"
    }
   ],
   "source": [
    "# стоимость этажа центра города и всего района\n",
    "pvt_floor.plot(y=['$', '$ center'], figsize=(10, 5))"
   ]
  },
  {
   "cell_type": "markdown",
   "id": "25f9123e",
   "metadata": {},
   "source": [
    "##### Вывод\n",
    "- и в центре и по всему району самые доступные квартиры на первом этаже\n",
    "- если в центральной части последний этаж ценится почти так же, как и все другие этажи, кроме первого, то по всему району последний этаж не так популярен в сравнении с другими, кроме первого"
   ]
  },
  {
   "cell_type": "code",
   "execution_count": 77,
   "id": "bbba080e",
   "metadata": {},
   "outputs": [
    {
     "data": {
      "text/html": [
       "<div>\n",
       "<style scoped>\n",
       "    .dataframe tbody tr th:only-of-type {\n",
       "        vertical-align: middle;\n",
       "    }\n",
       "\n",
       "    .dataframe tbody tr th {\n",
       "        vertical-align: top;\n",
       "    }\n",
       "\n",
       "    .dataframe thead th {\n",
       "        text-align: right;\n",
       "    }\n",
       "</style>\n",
       "<table border=\"1\" class=\"dataframe\">\n",
       "  <thead>\n",
       "    <tr style=\"text-align: right;\">\n",
       "      <th></th>\n",
       "      <th>QTY center</th>\n",
       "      <th>$ center</th>\n",
       "    </tr>\n",
       "    <tr>\n",
       "      <th>spb_centr_km</th>\n",
       "      <th></th>\n",
       "      <th></th>\n",
       "    </tr>\n",
       "  </thead>\n",
       "  <tbody>\n",
       "    <tr>\n",
       "      <th>0</th>\n",
       "      <td>86</td>\n",
       "      <td>11750000.0</td>\n",
       "    </tr>\n",
       "    <tr>\n",
       "      <th>1</th>\n",
       "      <td>240</td>\n",
       "      <td>10835000.0</td>\n",
       "    </tr>\n",
       "    <tr>\n",
       "      <th>2</th>\n",
       "      <td>307</td>\n",
       "      <td>9500000.0</td>\n",
       "    </tr>\n",
       "    <tr>\n",
       "      <th>3</th>\n",
       "      <td>526</td>\n",
       "      <td>8500000.0</td>\n",
       "    </tr>\n",
       "    <tr>\n",
       "      <th>4</th>\n",
       "      <td>907</td>\n",
       "      <td>9900000.0</td>\n",
       "    </tr>\n",
       "    <tr>\n",
       "      <th>5</th>\n",
       "      <td>769</td>\n",
       "      <td>8920262.0</td>\n",
       "    </tr>\n",
       "    <tr>\n",
       "      <th>6</th>\n",
       "      <td>470</td>\n",
       "      <td>8005000.0</td>\n",
       "    </tr>\n",
       "    <tr>\n",
       "      <th>7</th>\n",
       "      <td>407</td>\n",
       "      <td>7500000.0</td>\n",
       "    </tr>\n",
       "  </tbody>\n",
       "</table>\n",
       "</div>"
      ],
      "text/plain": [
       "              QTY center    $ center\n",
       "spb_centr_km                        \n",
       "0                     86  11750000.0\n",
       "1                    240  10835000.0\n",
       "2                    307   9500000.0\n",
       "3                    526   8500000.0\n",
       "4                    907   9900000.0\n",
       "5                    769   8920262.0\n",
       "6                    470   8005000.0\n",
       "7                    407   7500000.0"
      ]
     },
     "execution_count": 77,
     "metadata": {},
     "output_type": "execute_result"
    }
   ],
   "source": [
    "# таблица зависимости цены к удаленности от центра\n",
    "pivot_spb_km = df_center.pivot_table(\n",
    "    index='spb_centr_km', values='last_price', aggfunc=['count', 'median'])\n",
    "pivot_spb_km.columns = ['QTY center', '$ center']\n",
    "pivot_spb_km"
   ]
  },
  {
   "cell_type": "code",
   "execution_count": 78,
   "id": "ff6c22da",
   "metadata": {},
   "outputs": [
    {
     "data": {
      "text/plain": [
       "<AxesSubplot:xlabel='spb_centr_km'>"
      ]
     },
     "execution_count": 78,
     "metadata": {},
     "output_type": "execute_result"
    },
    {
     "data": {
      "image/png": "[encoded data removed]",
      "text/plain": [
       "<Figure size 720x360 with 1 Axes>"
      ]
     },
     "metadata": {
      "needs_background": "light"
     },
     "output_type": "display_data"
    }
   ],
   "source": [
    "pivot_spb_km.plot(y='$ center', figsize=(10, 5))"
   ]
  },
  {
   "cell_type": "markdown",
   "id": "8cbd2278",
   "metadata": {},
   "source": [
    "##### Вывод\n",
    "- чем дальше от центра тем дешевле недвижимость\n",
    "- скачек стоимости на 4м км"
   ]
  },
  {
   "cell_type": "code",
   "execution_count": 79,
   "id": "57cf4da4",
   "metadata": {},
   "outputs": [
    {
     "data": {
      "text/html": [
       "<div>\n",
       "<style scoped>\n",
       "    .dataframe tbody tr th:only-of-type {\n",
       "        vertical-align: middle;\n",
       "    }\n",
       "\n",
       "    .dataframe tbody tr th {\n",
       "        vertical-align: top;\n",
       "    }\n",
       "\n",
       "    .dataframe thead th {\n",
       "        text-align: right;\n",
       "    }\n",
       "</style>\n",
       "<table border=\"1\" class=\"dataframe\">\n",
       "  <thead>\n",
       "    <tr style=\"text-align: right;\">\n",
       "      <th></th>\n",
       "      <th>last_price</th>\n",
       "      <th>total_area</th>\n",
       "      <th>rooms</th>\n",
       "      <th>city_centers_nearest</th>\n",
       "    </tr>\n",
       "  </thead>\n",
       "  <tbody>\n",
       "    <tr>\n",
       "      <th>last_price</th>\n",
       "      <td>1.000000</td>\n",
       "      <td>0.636407</td>\n",
       "      <td>0.334306</td>\n",
       "      <td>-0.048304</td>\n",
       "    </tr>\n",
       "    <tr>\n",
       "      <th>total_area</th>\n",
       "      <td>0.636407</td>\n",
       "      <td>1.000000</td>\n",
       "      <td>0.739093</td>\n",
       "      <td>-0.105105</td>\n",
       "    </tr>\n",
       "    <tr>\n",
       "      <th>rooms</th>\n",
       "      <td>0.334306</td>\n",
       "      <td>0.739093</td>\n",
       "      <td>1.000000</td>\n",
       "      <td>-0.176559</td>\n",
       "    </tr>\n",
       "    <tr>\n",
       "      <th>city_centers_nearest</th>\n",
       "      <td>-0.048304</td>\n",
       "      <td>-0.105105</td>\n",
       "      <td>-0.176559</td>\n",
       "      <td>1.000000</td>\n",
       "    </tr>\n",
       "  </tbody>\n",
       "</table>\n",
       "</div>"
      ],
      "text/plain": [
       "                      last_price  total_area     rooms  city_centers_nearest\n",
       "last_price              1.000000    0.636407  0.334306             -0.048304\n",
       "total_area              0.636407    1.000000  0.739093             -0.105105\n",
       "rooms                   0.334306    0.739093  1.000000             -0.176559\n",
       "city_centers_nearest   -0.048304   -0.105105 -0.176559              1.000000"
      ]
     },
     "execution_count": 79,
     "metadata": {},
     "output_type": "execute_result"
    }
   ],
   "source": [
    "# помотрим на кореляцию Пирсона\n",
    "df_center[['last_price', 'total_area', 'rooms', 'city_centers_nearest']].corr()"
   ]
  },
  {
   "cell_type": "code",
   "execution_count": 80,
   "id": "c9e3bc83",
   "metadata": {},
   "outputs": [
    {
     "data": {
      "image/png": "[encoded data removed]",
      "text/plain": [
       "<Figure size 720x720 with 20 Axes>"
      ]
     },
     "metadata": {
      "needs_background": "light"
     },
     "output_type": "display_data"
    }
   ],
   "source": [
    "sns.pairplot(\n",
    "    df_center[['last_price', 'total_area', 'rooms', 'city_centers_nearest']])\n",
    "plt.show()"
   ]
  },
  {
   "cell_type": "markdown",
   "id": "54598e5f",
   "metadata": {},
   "source": [
    "## Общий вывод"
   ]
  },
  {
   "cell_type": "markdown",
   "id": "8eafe0e6",
   "metadata": {},
   "source": [
    "С какими данными мы работали и что сделали? \n",
    "\n",
    "- Дана база данных стоимости квартир в СПБ и ближайших районов с 2015 по 2019 года. В датасете имелись пропущенные значения, данные по высоте потолков земенены медианой, данные что были меньше 1% - удалены как статистически не значимые. Проведена работа с аномалиями, потолки высотой 1 метр, заменены на медиану, стомиость квартиры за 12 000р удалена. Добавлены недостающие данные в таблицу, этажность продаваемой квартиры разделена на категории (первый, последний, другие). Добавлен условный центр города с недвижимостью в радиусе 7км. Выяснили за сколько дней продается квартира, что считать быстрой продажей а что медленной. Выделены населенные пункты с наибольшим количеством объявлений. Проанализированы факторы влияющие на цену недвижимости, отдельно проанализирован центр в радиусе 7км. "
   ]
  },
  {
   "cell_type": "markdown",
   "id": "866aa8c7",
   "metadata": {},
   "source": [
    "    Выяснить сколько обычно занимает продажа недвижимости?\n",
    "- В среднем продажа недвижимости по всему району занимает 74 дня, прием основная часть продаж происходит в первые  50 дней.\n",
    "******\n",
    "    Когда можно считать, что продажи прошли очень быстро, а когда необычно долго?\n",
    "- Быстрой продажей можно считать все что было продано в первые 50 дней. Долгой продажей можно считать объекты которые продаются более 95 дней.\n",
    "******\n",
    "    Какие факторы больше всего влияют на стоимость квартиры?\n",
    "- Больше всего на стоимость квартиры влияет удаленность от центра города. Самый дешевый вариант на первом этаже. Самая дорогая квартира если считать по квадратному метру - 1 комнатная квартира, но она же и остается самой доступной из всех, из за меньшего метража. Дороже всего квартиру можно продать в апрельский вторник, а в воскресение июня продавать квартиру не стоит. Самые дорогие квартиры в городе Санк-Петербург, в городе Выборг много не дорогих варинатов. \n",
    "******\n",
    "    Выделить сегмент квартир в центре, отличаются ли они от общих выводов по всей базе?\n",
    "- В центре города средняя стоимость квартир в 2 раза выше, чем средняя стоимость квартир по всему району. Высота потолков в центре в среднем выше на 0.5 метра. Недвижимость в центре, как правило на одну комнату больше, а площать квартир начиная с 2016 почти в 2 раза больше. В центральном районе в лидерах 3х и 2х комнатные квартиры"
   ]
  }
 ],
 "metadata": {
  "ExecuteTimeLog": [
   {
    "duration": 1412,
    "start_time": "2022-05-06T12:01:24.957Z"
   },
   {
    "duration": 97,
    "start_time": "2022-05-06T12:01:26.371Z"
   },
   {
    "duration": 31,
    "start_time": "2022-05-06T12:01:26.469Z"
   },
   {
    "duration": 24,
    "start_time": "2022-05-06T12:01:26.512Z"
   },
   {
    "duration": 5,
    "start_time": "2022-05-06T12:01:26.539Z"
   },
   {
    "duration": 78,
    "start_time": "2022-05-06T12:01:26.545Z"
   },
   {
    "duration": 4,
    "start_time": "2022-05-06T12:01:26.626Z"
   },
   {
    "duration": 6,
    "start_time": "2022-05-06T12:01:26.632Z"
   },
   {
    "duration": 429,
    "start_time": "2022-05-06T12:01:26.639Z"
   },
   {
    "duration": 5,
    "start_time": "2022-05-06T12:01:27.071Z"
   },
   {
    "duration": 4,
    "start_time": "2022-05-06T12:01:27.077Z"
   },
   {
    "duration": 6,
    "start_time": "2022-05-06T12:01:27.082Z"
   },
   {
    "duration": 27,
    "start_time": "2022-05-06T12:01:27.090Z"
   },
   {
    "duration": 4,
    "start_time": "2022-05-06T12:01:27.122Z"
   },
   {
    "duration": 17,
    "start_time": "2022-05-06T12:01:27.127Z"
   },
   {
    "duration": 17,
    "start_time": "2022-05-06T12:01:27.146Z"
   },
   {
    "duration": 3,
    "start_time": "2022-05-06T12:01:27.165Z"
   },
   {
    "duration": 5,
    "start_time": "2022-05-06T12:01:27.170Z"
   },
   {
    "duration": 42,
    "start_time": "2022-05-06T12:01:27.176Z"
   },
   {
    "duration": 33,
    "start_time": "2022-05-06T12:01:27.219Z"
   },
   {
    "duration": 193,
    "start_time": "2022-05-06T12:01:27.254Z"
   },
   {
    "duration": 26,
    "start_time": "2022-05-06T12:01:27.449Z"
   },
   {
    "duration": 11,
    "start_time": "2022-05-06T12:01:27.476Z"
   },
   {
    "duration": 33,
    "start_time": "2022-05-06T12:01:27.488Z"
   },
   {
    "duration": 6,
    "start_time": "2022-05-06T12:01:27.522Z"
   },
   {
    "duration": 24,
    "start_time": "2022-05-06T12:01:27.529Z"
   },
   {
    "duration": 7,
    "start_time": "2022-05-06T12:01:27.555Z"
   },
   {
    "duration": 8,
    "start_time": "2022-05-06T12:01:27.567Z"
   },
   {
    "duration": 39,
    "start_time": "2022-05-06T12:01:27.576Z"
   },
   {
    "duration": 14,
    "start_time": "2022-05-06T12:01:27.617Z"
   },
   {
    "duration": 6,
    "start_time": "2022-05-06T12:01:27.637Z"
   },
   {
    "duration": 6,
    "start_time": "2022-05-06T12:01:27.645Z"
   },
   {
    "duration": 5,
    "start_time": "2022-05-06T12:01:27.652Z"
   },
   {
    "duration": 12,
    "start_time": "2022-05-06T12:01:27.659Z"
   },
   {
    "duration": 4,
    "start_time": "2022-05-06T12:01:27.673Z"
   },
   {
    "duration": 36,
    "start_time": "2022-05-06T12:01:27.678Z"
   },
   {
    "duration": 792,
    "start_time": "2022-05-06T12:01:27.726Z"
   },
   {
    "duration": 4819,
    "start_time": "2022-05-06T12:01:28.520Z"
   },
   {
    "duration": 375,
    "start_time": "2022-05-06T12:01:33.341Z"
   },
   {
    "duration": 446,
    "start_time": "2022-05-06T12:01:33.718Z"
   },
   {
    "duration": 361,
    "start_time": "2022-05-06T12:01:34.166Z"
   },
   {
    "duration": 565,
    "start_time": "2022-05-06T12:01:34.529Z"
   },
   {
    "duration": 25,
    "start_time": "2022-05-06T12:01:35.096Z"
   },
   {
    "duration": 267,
    "start_time": "2022-05-06T12:01:35.127Z"
   },
   {
    "duration": 234,
    "start_time": "2022-05-06T12:01:35.395Z"
   },
   {
    "duration": 184,
    "start_time": "2022-05-06T12:01:35.631Z"
   },
   {
    "duration": 165,
    "start_time": "2022-05-06T12:01:35.820Z"
   },
   {
    "duration": 6,
    "start_time": "2022-05-06T12:01:35.987Z"
   },
   {
    "duration": 30,
    "start_time": "2022-05-06T12:01:35.994Z"
   },
   {
    "duration": 178,
    "start_time": "2022-05-06T12:01:36.026Z"
   },
   {
    "duration": 13,
    "start_time": "2022-05-06T12:01:36.207Z"
   },
   {
    "duration": 152,
    "start_time": "2022-05-06T12:01:36.221Z"
   },
   {
    "duration": 135,
    "start_time": "2022-05-06T12:01:36.375Z"
   },
   {
    "duration": 0,
    "start_time": "2022-05-06T12:01:36.512Z"
   },
   {
    "duration": 0,
    "start_time": "2022-05-06T12:01:36.514Z"
   },
   {
    "duration": 0,
    "start_time": "2022-05-06T12:01:36.515Z"
   },
   {
    "duration": 0,
    "start_time": "2022-05-06T12:01:36.518Z"
   },
   {
    "duration": 0,
    "start_time": "2022-05-06T12:01:36.519Z"
   },
   {
    "duration": 0,
    "start_time": "2022-05-06T12:01:36.520Z"
   },
   {
    "duration": 0,
    "start_time": "2022-05-06T12:01:36.521Z"
   },
   {
    "duration": 0,
    "start_time": "2022-05-06T12:01:36.524Z"
   },
   {
    "duration": 0,
    "start_time": "2022-05-06T12:01:36.526Z"
   },
   {
    "duration": 0,
    "start_time": "2022-05-06T12:01:36.527Z"
   },
   {
    "duration": 0,
    "start_time": "2022-05-06T12:01:36.528Z"
   },
   {
    "duration": 0,
    "start_time": "2022-05-06T12:01:36.529Z"
   },
   {
    "duration": 0,
    "start_time": "2022-05-06T12:01:36.530Z"
   },
   {
    "duration": 0,
    "start_time": "2022-05-06T12:01:36.533Z"
   },
   {
    "duration": 0,
    "start_time": "2022-05-06T12:01:36.535Z"
   },
   {
    "duration": 0,
    "start_time": "2022-05-06T12:01:36.536Z"
   },
   {
    "duration": 0,
    "start_time": "2022-05-06T12:01:36.536Z"
   },
   {
    "duration": 0,
    "start_time": "2022-05-06T12:01:36.539Z"
   },
   {
    "duration": 0,
    "start_time": "2022-05-06T12:01:36.540Z"
   },
   {
    "duration": 0,
    "start_time": "2022-05-06T12:01:36.541Z"
   },
   {
    "duration": 0,
    "start_time": "2022-05-06T12:01:36.545Z"
   },
   {
    "duration": 0,
    "start_time": "2022-05-06T12:01:36.546Z"
   },
   {
    "duration": 0,
    "start_time": "2022-05-06T12:01:36.548Z"
   },
   {
    "duration": 0,
    "start_time": "2022-05-06T12:01:36.550Z"
   },
   {
    "duration": 0,
    "start_time": "2022-05-06T12:01:36.552Z"
   },
   {
    "duration": 0,
    "start_time": "2022-05-06T12:01:36.553Z"
   },
   {
    "duration": 0,
    "start_time": "2022-05-06T12:01:36.555Z"
   },
   {
    "duration": 0,
    "start_time": "2022-05-06T12:01:36.556Z"
   },
   {
    "duration": 0,
    "start_time": "2022-05-06T12:01:36.558Z"
   },
   {
    "duration": 0,
    "start_time": "2022-05-06T12:01:36.608Z"
   },
   {
    "duration": 0,
    "start_time": "2022-05-06T12:01:36.613Z"
   },
   {
    "duration": 12,
    "start_time": "2022-05-06T12:02:24.939Z"
   },
   {
    "duration": 162,
    "start_time": "2022-05-06T12:04:26.723Z"
   },
   {
    "duration": 9755,
    "start_time": "2022-05-06T12:04:33.075Z"
   },
   {
    "duration": 11,
    "start_time": "2022-05-06T12:06:17.784Z"
   },
   {
    "duration": 168,
    "start_time": "2022-05-06T12:06:18.502Z"
   },
   {
    "duration": 14,
    "start_time": "2022-05-06T12:06:20.037Z"
   },
   {
    "duration": 10327,
    "start_time": "2022-05-06T12:06:20.772Z"
   },
   {
    "duration": 27,
    "start_time": "2022-05-06T12:06:31.101Z"
   },
   {
    "duration": 18,
    "start_time": "2022-05-06T12:06:31.129Z"
   },
   {
    "duration": 165,
    "start_time": "2022-05-06T12:06:31.149Z"
   },
   {
    "duration": 15,
    "start_time": "2022-05-06T12:06:31.316Z"
   },
   {
    "duration": 23,
    "start_time": "2022-05-06T12:06:31.333Z"
   },
   {
    "duration": 174,
    "start_time": "2022-05-06T12:06:31.358Z"
   },
   {
    "duration": 13,
    "start_time": "2022-05-06T12:06:31.534Z"
   },
   {
    "duration": 66,
    "start_time": "2022-05-06T12:06:31.549Z"
   },
   {
    "duration": 177,
    "start_time": "2022-05-06T12:06:31.619Z"
   },
   {
    "duration": 49,
    "start_time": "2022-05-06T12:06:31.797Z"
   },
   {
    "duration": 183,
    "start_time": "2022-05-06T12:06:31.848Z"
   },
   {
    "duration": 164,
    "start_time": "2022-05-06T12:06:32.033Z"
   },
   {
    "duration": 40,
    "start_time": "2022-05-06T12:06:32.209Z"
   },
   {
    "duration": 188,
    "start_time": "2022-05-06T12:06:32.251Z"
   },
   {
    "duration": 36,
    "start_time": "2022-05-06T12:06:32.441Z"
   },
   {
    "duration": 617,
    "start_time": "2022-05-06T12:06:32.479Z"
   },
   {
    "duration": 22,
    "start_time": "2022-05-06T12:06:33.098Z"
   },
   {
    "duration": 172,
    "start_time": "2022-05-06T12:06:33.121Z"
   },
   {
    "duration": 24,
    "start_time": "2022-05-06T12:06:33.294Z"
   },
   {
    "duration": 4181,
    "start_time": "2022-05-06T12:06:33.320Z"
   },
   {
    "duration": 9,
    "start_time": "2022-05-06T12:07:21.056Z"
   },
   {
    "duration": 46,
    "start_time": "2022-05-06T12:07:23.584Z"
   },
   {
    "duration": 19,
    "start_time": "2022-05-06T12:07:58.222Z"
   },
   {
    "duration": 163,
    "start_time": "2022-05-06T12:08:05.005Z"
   }
  ],
  "kernelspec": {
   "display_name": "Python 3 (ipykernel)",
   "language": "python",
   "name": "python3"
  },
  "language_info": {
   "codemirror_mode": {
    "name": "ipython",
    "version": 3
   },
   "file_extension": ".py",
   "mimetype": "text/x-python",
   "name": "python",
   "nbconvert_exporter": "python",
   "pygments_lexer": "ipython3",
   "version": "3.9.7"
  },
  "toc": {
   "base_numbering": 1,
   "nav_menu": {
    "height": "237px",
    "width": "362px"
   },
   "number_sections": true,
   "sideBar": true,
   "skip_h1_title": true,
   "title_cell": "Table of Contents",
   "title_sidebar": "Contents",
   "toc_cell": true,
   "toc_position": {
    "height": "calc(100% - 180px)",
    "left": "10px",
    "top": "150px",
    "width": "272px"
   },
   "toc_section_display": true,
   "toc_window_display": true
  }
 },
 "nbformat": 4,
 "nbformat_minor": 5
}
