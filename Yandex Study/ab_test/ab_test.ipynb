{
 "cells": [
  {
   "cell_type": "markdown",
   "metadata": {
    "id": "7RLEa6xQ1h38"
   },
   "source": [
    "# Описание проекта\n",
    "\n",
    " > **Бриф**\n",
    "\n",
    "Вы — аналитик крупного интернет-магазина. Вместе с отделом маркетинга вы подготовили список гипотез для увеличения выручки.\n",
    "\n",
    "> **Задачи:**\n",
    "\n",
    "*Часть 1*:\n",
    "\n",
    "Приоритизировать гипотезы методом ICE и RICE \n",
    "\n",
    "*Часть 2*:\n",
    "\n",
    "Запустить A/B-тест и проанализировать результаты.\n"
   ]
  },
  {
   "cell_type": "code",
   "execution_count": 3,
   "metadata": {
    "id": "FE7lpsM8NvK9"
   },
   "outputs": [],
   "source": [
    "# импорт библиотек\n",
    "import pandas as pd\n",
    "import numpy as np\n",
    "import matplotlib.pyplot as plt\n",
    "import scipy.stats as stats"
   ]
  },
  {
   "cell_type": "code",
   "execution_count": 4,
   "metadata": {
    "id": "hPIeIeKFN0_K"
   },
   "outputs": [],
   "source": [
    "# открываем файлы\n",
    "try:\n",
    "    h = pd.read_csv('/content/hypothesis.csv')\n",
    "    o = pd.read_csv('/content/orders.csv')\n",
    "    v = pd.read_csv('/content/visitors.csv')\n",
    "except:\n",
    "    h = pd.read_csv('/datasets/hypothesis.csv')\n",
    "    o = pd.read_csv('/datasets/orders.csv')\n",
    "    v = pd.read_csv('/datasets/visitors.csv')"
   ]
  },
  {
   "cell_type": "code",
   "execution_count": 5,
   "metadata": {
    "id": "dRpi8FCsOyX4"
   },
   "outputs": [],
   "source": [
    "# ширину колонки для просмотра текста\n",
    "pd.set_option('display.max_colwidth', None)"
   ]
  },
  {
   "cell_type": "markdown",
   "metadata": {
    "id": "uiz2PK9coVTI"
   },
   "source": [
    "# Часть 1"
   ]
  },
  {
   "cell_type": "markdown",
   "metadata": {
    "id": "eG2IgrUR2Ye_"
   },
   "source": [
    "# Приоритезация гипотез"
   ]
  },
  {
   "cell_type": "code",
   "execution_count": 6,
   "metadata": {
    "colab": {
     "base_uri": "https://localhost:8080/",
     "height": 332
    },
    "id": "rMCw9KIjOChv",
    "outputId": "84ce4c38-890a-4b8d-daac-682e1af076ae"
   },
   "outputs": [
    {
     "data": {
      "text/html": [
       "<div>\n",
       "<style scoped>\n",
       "    .dataframe tbody tr th:only-of-type {\n",
       "        vertical-align: middle;\n",
       "    }\n",
       "\n",
       "    .dataframe tbody tr th {\n",
       "        vertical-align: top;\n",
       "    }\n",
       "\n",
       "    .dataframe thead th {\n",
       "        text-align: right;\n",
       "    }\n",
       "</style>\n",
       "<table border=\"1\" class=\"dataframe\">\n",
       "  <thead>\n",
       "    <tr style=\"text-align: right;\">\n",
       "      <th></th>\n",
       "      <th>Hypothesis</th>\n",
       "      <th>Reach</th>\n",
       "      <th>Impact</th>\n",
       "      <th>Confidence</th>\n",
       "      <th>Efforts</th>\n",
       "    </tr>\n",
       "  </thead>\n",
       "  <tbody>\n",
       "    <tr>\n",
       "      <th>0</th>\n",
       "      <td>Добавить два новых канала привлечения трафика, что позволит привлекать на 30% больше пользователей</td>\n",
       "      <td>3</td>\n",
       "      <td>10</td>\n",
       "      <td>8</td>\n",
       "      <td>6</td>\n",
       "    </tr>\n",
       "    <tr>\n",
       "      <th>1</th>\n",
       "      <td>Запустить собственную службу доставки, что сократит срок доставки заказов</td>\n",
       "      <td>2</td>\n",
       "      <td>5</td>\n",
       "      <td>4</td>\n",
       "      <td>10</td>\n",
       "    </tr>\n",
       "    <tr>\n",
       "      <th>2</th>\n",
       "      <td>Добавить блоки рекомендаций товаров на сайт интернет магазина, чтобы повысить конверсию и средний чек заказа</td>\n",
       "      <td>8</td>\n",
       "      <td>3</td>\n",
       "      <td>7</td>\n",
       "      <td>3</td>\n",
       "    </tr>\n",
       "    <tr>\n",
       "      <th>3</th>\n",
       "      <td>Изменить структура категорий, что увеличит конверсию, т.к. пользователи быстрее найдут нужный товар</td>\n",
       "      <td>8</td>\n",
       "      <td>3</td>\n",
       "      <td>3</td>\n",
       "      <td>8</td>\n",
       "    </tr>\n",
       "    <tr>\n",
       "      <th>4</th>\n",
       "      <td>Изменить цвет фона главной страницы, чтобы увеличить вовлеченность пользователей</td>\n",
       "      <td>3</td>\n",
       "      <td>1</td>\n",
       "      <td>1</td>\n",
       "      <td>1</td>\n",
       "    </tr>\n",
       "    <tr>\n",
       "      <th>5</th>\n",
       "      <td>Добавить страницу отзывов клиентов о магазине, что позволит увеличить количество заказов</td>\n",
       "      <td>3</td>\n",
       "      <td>2</td>\n",
       "      <td>2</td>\n",
       "      <td>3</td>\n",
       "    </tr>\n",
       "    <tr>\n",
       "      <th>6</th>\n",
       "      <td>Показать на главной странице баннеры с актуальными акциями и распродажами, чтобы увеличить конверсию</td>\n",
       "      <td>5</td>\n",
       "      <td>3</td>\n",
       "      <td>8</td>\n",
       "      <td>3</td>\n",
       "    </tr>\n",
       "    <tr>\n",
       "      <th>7</th>\n",
       "      <td>Добавить форму подписки на все основные страницы, чтобы собрать базу клиентов для email-рассылок</td>\n",
       "      <td>10</td>\n",
       "      <td>7</td>\n",
       "      <td>8</td>\n",
       "      <td>5</td>\n",
       "    </tr>\n",
       "    <tr>\n",
       "      <th>8</th>\n",
       "      <td>Запустить акцию, дающую скидку на товар в день рождения</td>\n",
       "      <td>1</td>\n",
       "      <td>9</td>\n",
       "      <td>9</td>\n",
       "      <td>5</td>\n",
       "    </tr>\n",
       "  </tbody>\n",
       "</table>\n",
       "</div>"
      ],
      "text/plain": [
       "                                                                                                     Hypothesis  \\\n",
       "0            Добавить два новых канала привлечения трафика, что позволит привлекать на 30% больше пользователей   \n",
       "1                                     Запустить собственную службу доставки, что сократит срок доставки заказов   \n",
       "2  Добавить блоки рекомендаций товаров на сайт интернет магазина, чтобы повысить конверсию и средний чек заказа   \n",
       "3           Изменить структура категорий, что увеличит конверсию, т.к. пользователи быстрее найдут нужный товар   \n",
       "4                              Изменить цвет фона главной страницы, чтобы увеличить вовлеченность пользователей   \n",
       "5                      Добавить страницу отзывов клиентов о магазине, что позволит увеличить количество заказов   \n",
       "6          Показать на главной странице баннеры с актуальными акциями и распродажами, чтобы увеличить конверсию   \n",
       "7              Добавить форму подписки на все основные страницы, чтобы собрать базу клиентов для email-рассылок   \n",
       "8                                                       Запустить акцию, дающую скидку на товар в день рождения   \n",
       "\n",
       "   Reach  Impact  Confidence  Efforts  \n",
       "0      3      10           8        6  \n",
       "1      2       5           4       10  \n",
       "2      8       3           7        3  \n",
       "3      8       3           3        8  \n",
       "4      3       1           1        1  \n",
       "5      3       2           2        3  \n",
       "6      5       3           8        3  \n",
       "7     10       7           8        5  \n",
       "8      1       9           9        5  "
      ]
     },
     "execution_count": 6,
     "metadata": {},
     "output_type": "execute_result"
    }
   ],
   "source": [
    "h"
   ]
  },
  {
   "cell_type": "code",
   "execution_count": 7,
   "metadata": {
    "id": "etIyEILvRPgv"
   },
   "outputs": [],
   "source": [
    "h.columns = h.columns.str.lower()"
   ]
  },
  {
   "cell_type": "markdown",
   "metadata": {
    "id": "ORpT6Z4FSV-r"
   },
   "source": [
    "## ICE"
   ]
  },
  {
   "cell_type": "code",
   "execution_count": 8,
   "metadata": {
    "id": "0M0RlnCIRCHv"
   },
   "outputs": [],
   "source": [
    "# считаем ice\n",
    "h['ice'] = h['impact'] * h['confidence'] / h['efforts']"
   ]
  },
  {
   "cell_type": "code",
   "execution_count": 9,
   "metadata": {
    "colab": {
     "base_uri": "https://localhost:8080/",
     "height": 376
    },
    "id": "4W_8vs8RR8SK",
    "outputId": "ffdb95df-1a7f-46a9-cddd-7282f80314c8"
   },
   "outputs": [
    {
     "data": {
      "text/html": [
       "<div>\n",
       "<style scoped>\n",
       "    .dataframe tbody tr th:only-of-type {\n",
       "        vertical-align: middle;\n",
       "    }\n",
       "\n",
       "    .dataframe tbody tr th {\n",
       "        vertical-align: top;\n",
       "    }\n",
       "\n",
       "    .dataframe thead th {\n",
       "        text-align: right;\n",
       "    }\n",
       "</style>\n",
       "<table border=\"1\" class=\"dataframe\">\n",
       "  <thead>\n",
       "    <tr style=\"text-align: right;\">\n",
       "      <th></th>\n",
       "      <th>hypothesis</th>\n",
       "      <th>reach</th>\n",
       "      <th>impact</th>\n",
       "      <th>confidence</th>\n",
       "      <th>efforts</th>\n",
       "      <th>ice</th>\n",
       "    </tr>\n",
       "  </thead>\n",
       "  <tbody>\n",
       "    <tr>\n",
       "      <th>8</th>\n",
       "      <td>Запустить акцию, дающую скидку на товар в день рождения</td>\n",
       "      <td>1</td>\n",
       "      <td>9</td>\n",
       "      <td>9</td>\n",
       "      <td>5</td>\n",
       "      <td>16.200000</td>\n",
       "    </tr>\n",
       "    <tr>\n",
       "      <th>0</th>\n",
       "      <td>Добавить два новых канала привлечения трафика, что позволит привлекать на 30% больше пользователей</td>\n",
       "      <td>3</td>\n",
       "      <td>10</td>\n",
       "      <td>8</td>\n",
       "      <td>6</td>\n",
       "      <td>13.333333</td>\n",
       "    </tr>\n",
       "    <tr>\n",
       "      <th>7</th>\n",
       "      <td>Добавить форму подписки на все основные страницы, чтобы собрать базу клиентов для email-рассылок</td>\n",
       "      <td>10</td>\n",
       "      <td>7</td>\n",
       "      <td>8</td>\n",
       "      <td>5</td>\n",
       "      <td>11.200000</td>\n",
       "    </tr>\n",
       "    <tr>\n",
       "      <th>6</th>\n",
       "      <td>Показать на главной странице баннеры с актуальными акциями и распродажами, чтобы увеличить конверсию</td>\n",
       "      <td>5</td>\n",
       "      <td>3</td>\n",
       "      <td>8</td>\n",
       "      <td>3</td>\n",
       "      <td>8.000000</td>\n",
       "    </tr>\n",
       "    <tr>\n",
       "      <th>2</th>\n",
       "      <td>Добавить блоки рекомендаций товаров на сайт интернет магазина, чтобы повысить конверсию и средний чек заказа</td>\n",
       "      <td>8</td>\n",
       "      <td>3</td>\n",
       "      <td>7</td>\n",
       "      <td>3</td>\n",
       "      <td>7.000000</td>\n",
       "    </tr>\n",
       "    <tr>\n",
       "      <th>1</th>\n",
       "      <td>Запустить собственную службу доставки, что сократит срок доставки заказов</td>\n",
       "      <td>2</td>\n",
       "      <td>5</td>\n",
       "      <td>4</td>\n",
       "      <td>10</td>\n",
       "      <td>2.000000</td>\n",
       "    </tr>\n",
       "    <tr>\n",
       "      <th>5</th>\n",
       "      <td>Добавить страницу отзывов клиентов о магазине, что позволит увеличить количество заказов</td>\n",
       "      <td>3</td>\n",
       "      <td>2</td>\n",
       "      <td>2</td>\n",
       "      <td>3</td>\n",
       "      <td>1.333333</td>\n",
       "    </tr>\n",
       "    <tr>\n",
       "      <th>3</th>\n",
       "      <td>Изменить структура категорий, что увеличит конверсию, т.к. пользователи быстрее найдут нужный товар</td>\n",
       "      <td>8</td>\n",
       "      <td>3</td>\n",
       "      <td>3</td>\n",
       "      <td>8</td>\n",
       "      <td>1.125000</td>\n",
       "    </tr>\n",
       "    <tr>\n",
       "      <th>4</th>\n",
       "      <td>Изменить цвет фона главной страницы, чтобы увеличить вовлеченность пользователей</td>\n",
       "      <td>3</td>\n",
       "      <td>1</td>\n",
       "      <td>1</td>\n",
       "      <td>1</td>\n",
       "      <td>1.000000</td>\n",
       "    </tr>\n",
       "  </tbody>\n",
       "</table>\n",
       "</div>"
      ],
      "text/plain": [
       "                                                                                                     hypothesis  \\\n",
       "8                                                       Запустить акцию, дающую скидку на товар в день рождения   \n",
       "0            Добавить два новых канала привлечения трафика, что позволит привлекать на 30% больше пользователей   \n",
       "7              Добавить форму подписки на все основные страницы, чтобы собрать базу клиентов для email-рассылок   \n",
       "6          Показать на главной странице баннеры с актуальными акциями и распродажами, чтобы увеличить конверсию   \n",
       "2  Добавить блоки рекомендаций товаров на сайт интернет магазина, чтобы повысить конверсию и средний чек заказа   \n",
       "1                                     Запустить собственную службу доставки, что сократит срок доставки заказов   \n",
       "5                      Добавить страницу отзывов клиентов о магазине, что позволит увеличить количество заказов   \n",
       "3           Изменить структура категорий, что увеличит конверсию, т.к. пользователи быстрее найдут нужный товар   \n",
       "4                              Изменить цвет фона главной страницы, чтобы увеличить вовлеченность пользователей   \n",
       "\n",
       "   reach  impact  confidence  efforts        ice  \n",
       "8      1       9           9        5  16.200000  \n",
       "0      3      10           8        6  13.333333  \n",
       "7     10       7           8        5  11.200000  \n",
       "6      5       3           8        3   8.000000  \n",
       "2      8       3           7        3   7.000000  \n",
       "1      2       5           4       10   2.000000  \n",
       "5      3       2           2        3   1.333333  \n",
       "3      8       3           3        8   1.125000  \n",
       "4      3       1           1        1   1.000000  "
      ]
     },
     "execution_count": 9,
     "metadata": {},
     "output_type": "execute_result"
    }
   ],
   "source": [
    "h.sort_values('ice', ascending=False)"
   ]
  },
  {
   "cell_type": "markdown",
   "metadata": {
    "id": "0qZffWUdSZFJ"
   },
   "source": [
    "## RICE"
   ]
  },
  {
   "cell_type": "code",
   "execution_count": 10,
   "metadata": {
    "id": "D2qsv4OUR8U_"
   },
   "outputs": [],
   "source": [
    "# считаем rice\n",
    "h['rice'] = h['impact'] * h['confidence'] * h['reach'] / h['efforts']"
   ]
  },
  {
   "cell_type": "code",
   "execution_count": 11,
   "metadata": {
    "colab": {
     "base_uri": "https://localhost:8080/",
     "height": 393
    },
    "id": "v0FHOpSmR8XP",
    "outputId": "97bed788-6e1a-4470-cb74-f65e6113fc61"
   },
   "outputs": [
    {
     "data": {
      "text/html": [
       "<div>\n",
       "<style scoped>\n",
       "    .dataframe tbody tr th:only-of-type {\n",
       "        vertical-align: middle;\n",
       "    }\n",
       "\n",
       "    .dataframe tbody tr th {\n",
       "        vertical-align: top;\n",
       "    }\n",
       "\n",
       "    .dataframe thead th {\n",
       "        text-align: right;\n",
       "    }\n",
       "</style>\n",
       "<table border=\"1\" class=\"dataframe\">\n",
       "  <thead>\n",
       "    <tr style=\"text-align: right;\">\n",
       "      <th></th>\n",
       "      <th>hypothesis</th>\n",
       "      <th>reach</th>\n",
       "      <th>impact</th>\n",
       "      <th>confidence</th>\n",
       "      <th>efforts</th>\n",
       "      <th>ice</th>\n",
       "      <th>rice</th>\n",
       "    </tr>\n",
       "  </thead>\n",
       "  <tbody>\n",
       "    <tr>\n",
       "      <th>7</th>\n",
       "      <td>Добавить форму подписки на все основные страницы, чтобы собрать базу клиентов для email-рассылок</td>\n",
       "      <td>10</td>\n",
       "      <td>7</td>\n",
       "      <td>8</td>\n",
       "      <td>5</td>\n",
       "      <td>11.200000</td>\n",
       "      <td>112.0</td>\n",
       "    </tr>\n",
       "    <tr>\n",
       "      <th>2</th>\n",
       "      <td>Добавить блоки рекомендаций товаров на сайт интернет магазина, чтобы повысить конверсию и средний чек заказа</td>\n",
       "      <td>8</td>\n",
       "      <td>3</td>\n",
       "      <td>7</td>\n",
       "      <td>3</td>\n",
       "      <td>7.000000</td>\n",
       "      <td>56.0</td>\n",
       "    </tr>\n",
       "    <tr>\n",
       "      <th>0</th>\n",
       "      <td>Добавить два новых канала привлечения трафика, что позволит привлекать на 30% больше пользователей</td>\n",
       "      <td>3</td>\n",
       "      <td>10</td>\n",
       "      <td>8</td>\n",
       "      <td>6</td>\n",
       "      <td>13.333333</td>\n",
       "      <td>40.0</td>\n",
       "    </tr>\n",
       "    <tr>\n",
       "      <th>6</th>\n",
       "      <td>Показать на главной странице баннеры с актуальными акциями и распродажами, чтобы увеличить конверсию</td>\n",
       "      <td>5</td>\n",
       "      <td>3</td>\n",
       "      <td>8</td>\n",
       "      <td>3</td>\n",
       "      <td>8.000000</td>\n",
       "      <td>40.0</td>\n",
       "    </tr>\n",
       "    <tr>\n",
       "      <th>8</th>\n",
       "      <td>Запустить акцию, дающую скидку на товар в день рождения</td>\n",
       "      <td>1</td>\n",
       "      <td>9</td>\n",
       "      <td>9</td>\n",
       "      <td>5</td>\n",
       "      <td>16.200000</td>\n",
       "      <td>16.2</td>\n",
       "    </tr>\n",
       "    <tr>\n",
       "      <th>3</th>\n",
       "      <td>Изменить структура категорий, что увеличит конверсию, т.к. пользователи быстрее найдут нужный товар</td>\n",
       "      <td>8</td>\n",
       "      <td>3</td>\n",
       "      <td>3</td>\n",
       "      <td>8</td>\n",
       "      <td>1.125000</td>\n",
       "      <td>9.0</td>\n",
       "    </tr>\n",
       "    <tr>\n",
       "      <th>1</th>\n",
       "      <td>Запустить собственную службу доставки, что сократит срок доставки заказов</td>\n",
       "      <td>2</td>\n",
       "      <td>5</td>\n",
       "      <td>4</td>\n",
       "      <td>10</td>\n",
       "      <td>2.000000</td>\n",
       "      <td>4.0</td>\n",
       "    </tr>\n",
       "    <tr>\n",
       "      <th>5</th>\n",
       "      <td>Добавить страницу отзывов клиентов о магазине, что позволит увеличить количество заказов</td>\n",
       "      <td>3</td>\n",
       "      <td>2</td>\n",
       "      <td>2</td>\n",
       "      <td>3</td>\n",
       "      <td>1.333333</td>\n",
       "      <td>4.0</td>\n",
       "    </tr>\n",
       "    <tr>\n",
       "      <th>4</th>\n",
       "      <td>Изменить цвет фона главной страницы, чтобы увеличить вовлеченность пользователей</td>\n",
       "      <td>3</td>\n",
       "      <td>1</td>\n",
       "      <td>1</td>\n",
       "      <td>1</td>\n",
       "      <td>1.000000</td>\n",
       "      <td>3.0</td>\n",
       "    </tr>\n",
       "  </tbody>\n",
       "</table>\n",
       "</div>"
      ],
      "text/plain": [
       "                                                                                                     hypothesis  \\\n",
       "7              Добавить форму подписки на все основные страницы, чтобы собрать базу клиентов для email-рассылок   \n",
       "2  Добавить блоки рекомендаций товаров на сайт интернет магазина, чтобы повысить конверсию и средний чек заказа   \n",
       "0            Добавить два новых канала привлечения трафика, что позволит привлекать на 30% больше пользователей   \n",
       "6          Показать на главной странице баннеры с актуальными акциями и распродажами, чтобы увеличить конверсию   \n",
       "8                                                       Запустить акцию, дающую скидку на товар в день рождения   \n",
       "3           Изменить структура категорий, что увеличит конверсию, т.к. пользователи быстрее найдут нужный товар   \n",
       "1                                     Запустить собственную службу доставки, что сократит срок доставки заказов   \n",
       "5                      Добавить страницу отзывов клиентов о магазине, что позволит увеличить количество заказов   \n",
       "4                              Изменить цвет фона главной страницы, чтобы увеличить вовлеченность пользователей   \n",
       "\n",
       "   reach  impact  confidence  efforts        ice   rice  \n",
       "7     10       7           8        5  11.200000  112.0  \n",
       "2      8       3           7        3   7.000000   56.0  \n",
       "0      3      10           8        6  13.333333   40.0  \n",
       "6      5       3           8        3   8.000000   40.0  \n",
       "8      1       9           9        5  16.200000   16.2  \n",
       "3      8       3           3        8   1.125000    9.0  \n",
       "1      2       5           4       10   2.000000    4.0  \n",
       "5      3       2           2        3   1.333333    4.0  \n",
       "4      3       1           1        1   1.000000    3.0  "
      ]
     },
     "execution_count": 11,
     "metadata": {},
     "output_type": "execute_result"
    }
   ],
   "source": [
    "h.sort_values('rice', ascending=False)"
   ]
  },
  {
   "cell_type": "markdown",
   "metadata": {
    "id": "fTcp8ljVpC7-"
   },
   "source": [
    "### Вывод:\n",
    "\n",
    "При оценке по ICE гипотезы: 8, 0, 7 - заняли топ 3\n",
    "\n",
    "Когда мы оцениваем RICE лидируют гипотезы: 7, 2, 0\n",
    "\n",
    "Смена лидеров произошла из за, того что мы добавляем в RICE метрику reach(охват), число 10 нам говорит о том, что при проверке гипотезы 7 (*Добавить форму подписки на все основные страницы, чтобы собрать базу клиентов для email-рассылок*), мы охватим 100% наших клиентов. Именно этот факт сделал 7 гипотезу лидером, рейтинга по версии RICE"
   ]
  },
  {
   "cell_type": "markdown",
   "metadata": {
    "id": "hUBZdxuqTFJE"
   },
   "source": [
    "# Часть 2\n",
    "Предобработка данных"
   ]
  },
  {
   "cell_type": "code",
   "execution_count": 12,
   "metadata": {
    "colab": {
     "base_uri": "https://localhost:8080/",
     "height": 206
    },
    "id": "bv9n7XEeO5Zf",
    "outputId": "d436e935-fe25-4690-fb53-6b10d9fb92aa"
   },
   "outputs": [
    {
     "data": {
      "text/html": [
       "<div>\n",
       "<style scoped>\n",
       "    .dataframe tbody tr th:only-of-type {\n",
       "        vertical-align: middle;\n",
       "    }\n",
       "\n",
       "    .dataframe tbody tr th {\n",
       "        vertical-align: top;\n",
       "    }\n",
       "\n",
       "    .dataframe thead th {\n",
       "        text-align: right;\n",
       "    }\n",
       "</style>\n",
       "<table border=\"1\" class=\"dataframe\">\n",
       "  <thead>\n",
       "    <tr style=\"text-align: right;\">\n",
       "      <th></th>\n",
       "      <th>transactionId</th>\n",
       "      <th>visitorId</th>\n",
       "      <th>date</th>\n",
       "      <th>revenue</th>\n",
       "      <th>group</th>\n",
       "    </tr>\n",
       "  </thead>\n",
       "  <tbody>\n",
       "    <tr>\n",
       "      <th>0</th>\n",
       "      <td>3667963787</td>\n",
       "      <td>3312258926</td>\n",
       "      <td>2019-08-15</td>\n",
       "      <td>1650</td>\n",
       "      <td>B</td>\n",
       "    </tr>\n",
       "    <tr>\n",
       "      <th>1</th>\n",
       "      <td>2804400009</td>\n",
       "      <td>3642806036</td>\n",
       "      <td>2019-08-15</td>\n",
       "      <td>730</td>\n",
       "      <td>B</td>\n",
       "    </tr>\n",
       "    <tr>\n",
       "      <th>2</th>\n",
       "      <td>2961555356</td>\n",
       "      <td>4069496402</td>\n",
       "      <td>2019-08-15</td>\n",
       "      <td>400</td>\n",
       "      <td>A</td>\n",
       "    </tr>\n",
       "    <tr>\n",
       "      <th>3</th>\n",
       "      <td>3797467345</td>\n",
       "      <td>1196621759</td>\n",
       "      <td>2019-08-15</td>\n",
       "      <td>9759</td>\n",
       "      <td>B</td>\n",
       "    </tr>\n",
       "    <tr>\n",
       "      <th>4</th>\n",
       "      <td>2282983706</td>\n",
       "      <td>2322279887</td>\n",
       "      <td>2019-08-15</td>\n",
       "      <td>2308</td>\n",
       "      <td>B</td>\n",
       "    </tr>\n",
       "  </tbody>\n",
       "</table>\n",
       "</div>"
      ],
      "text/plain": [
       "   transactionId   visitorId        date  revenue group\n",
       "0     3667963787  3312258926  2019-08-15     1650     B\n",
       "1     2804400009  3642806036  2019-08-15      730     B\n",
       "2     2961555356  4069496402  2019-08-15      400     A\n",
       "3     3797467345  1196621759  2019-08-15     9759     B\n",
       "4     2282983706  2322279887  2019-08-15     2308     B"
      ]
     },
     "execution_count": 12,
     "metadata": {},
     "output_type": "execute_result"
    }
   ],
   "source": [
    "o.head()"
   ]
  },
  {
   "cell_type": "code",
   "execution_count": 13,
   "metadata": {
    "id": "C5fFmgmGTNIX"
   },
   "outputs": [],
   "source": [
    "# в нижний регистр\n",
    "o.columns = o.columns.str.lower()"
   ]
  },
  {
   "cell_type": "code",
   "execution_count": 14,
   "metadata": {
    "id": "oxptRZsGTU5W"
   },
   "outputs": [],
   "source": [
    "# переименовываем колонки\n",
    "o.columns = ['transaction_id', 'visitor_id', 'date', 'revenue', 'group']"
   ]
  },
  {
   "cell_type": "code",
   "execution_count": 15,
   "metadata": {
    "colab": {
     "base_uri": "https://localhost:8080/"
    },
    "id": "RzQ99Gy_TVvC",
    "outputId": "e7774d5d-da02-4def-c42d-4b2e5d6e9eab"
   },
   "outputs": [
    {
     "name": "stdout",
     "output_type": "stream",
     "text": [
      "<class 'pandas.core.frame.DataFrame'>\n",
      "RangeIndex: 1197 entries, 0 to 1196\n",
      "Data columns (total 5 columns):\n",
      " #   Column          Non-Null Count  Dtype \n",
      "---  ------          --------------  ----- \n",
      " 0   transaction_id  1197 non-null   int64 \n",
      " 1   visitor_id      1197 non-null   int64 \n",
      " 2   date            1197 non-null   object\n",
      " 3   revenue         1197 non-null   int64 \n",
      " 4   group           1197 non-null   object\n",
      "dtypes: int64(3), object(2)\n",
      "memory usage: 46.9+ KB\n"
     ]
    }
   ],
   "source": [
    "o.info()"
   ]
  },
  {
   "cell_type": "code",
   "execution_count": 16,
   "metadata": {
    "id": "8rmxvg3mTWFu"
   },
   "outputs": [],
   "source": [
    "# дату в формат дата\n",
    "o['date'] = pd.to_datetime(o['date'], format='%Y-%m-%d')"
   ]
  },
  {
   "cell_type": "code",
   "execution_count": 17,
   "metadata": {
    "colab": {
     "base_uri": "https://localhost:8080/"
    },
    "id": "PXh-9NBqTWIO",
    "outputId": "cb28e05b-0707-45f1-b1d8-083cd2c15292"
   },
   "outputs": [
    {
     "data": {
      "text/plain": [
       "0"
      ]
     },
     "execution_count": 17,
     "metadata": {},
     "output_type": "execute_result"
    }
   ],
   "source": [
    "# проверка на дубликаты\n",
    "o.duplicated().sum()"
   ]
  },
  {
   "cell_type": "code",
   "execution_count": 18,
   "metadata": {
    "colab": {
     "base_uri": "https://localhost:8080/",
     "height": 206
    },
    "id": "WgR4pbC3O7-H",
    "outputId": "53a8df07-aca2-4f9b-8ba9-a06fd882ff7d"
   },
   "outputs": [
    {
     "data": {
      "text/html": [
       "<div>\n",
       "<style scoped>\n",
       "    .dataframe tbody tr th:only-of-type {\n",
       "        vertical-align: middle;\n",
       "    }\n",
       "\n",
       "    .dataframe tbody tr th {\n",
       "        vertical-align: top;\n",
       "    }\n",
       "\n",
       "    .dataframe thead th {\n",
       "        text-align: right;\n",
       "    }\n",
       "</style>\n",
       "<table border=\"1\" class=\"dataframe\">\n",
       "  <thead>\n",
       "    <tr style=\"text-align: right;\">\n",
       "      <th></th>\n",
       "      <th>date</th>\n",
       "      <th>group</th>\n",
       "      <th>visitors</th>\n",
       "    </tr>\n",
       "  </thead>\n",
       "  <tbody>\n",
       "    <tr>\n",
       "      <th>0</th>\n",
       "      <td>2019-08-01</td>\n",
       "      <td>A</td>\n",
       "      <td>719</td>\n",
       "    </tr>\n",
       "    <tr>\n",
       "      <th>1</th>\n",
       "      <td>2019-08-02</td>\n",
       "      <td>A</td>\n",
       "      <td>619</td>\n",
       "    </tr>\n",
       "    <tr>\n",
       "      <th>2</th>\n",
       "      <td>2019-08-03</td>\n",
       "      <td>A</td>\n",
       "      <td>507</td>\n",
       "    </tr>\n",
       "    <tr>\n",
       "      <th>3</th>\n",
       "      <td>2019-08-04</td>\n",
       "      <td>A</td>\n",
       "      <td>717</td>\n",
       "    </tr>\n",
       "    <tr>\n",
       "      <th>4</th>\n",
       "      <td>2019-08-05</td>\n",
       "      <td>A</td>\n",
       "      <td>756</td>\n",
       "    </tr>\n",
       "  </tbody>\n",
       "</table>\n",
       "</div>"
      ],
      "text/plain": [
       "         date group  visitors\n",
       "0  2019-08-01     A       719\n",
       "1  2019-08-02     A       619\n",
       "2  2019-08-03     A       507\n",
       "3  2019-08-04     A       717\n",
       "4  2019-08-05     A       756"
      ]
     },
     "execution_count": 18,
     "metadata": {},
     "output_type": "execute_result"
    }
   ],
   "source": [
    "v.head()"
   ]
  },
  {
   "cell_type": "code",
   "execution_count": 19,
   "metadata": {
    "colab": {
     "base_uri": "https://localhost:8080/"
    },
    "id": "OcnYkW-pULPQ",
    "outputId": "f478a56b-be9f-414a-9ea9-33eff81a7a40"
   },
   "outputs": [
    {
     "name": "stdout",
     "output_type": "stream",
     "text": [
      "<class 'pandas.core.frame.DataFrame'>\n",
      "RangeIndex: 62 entries, 0 to 61\n",
      "Data columns (total 3 columns):\n",
      " #   Column    Non-Null Count  Dtype \n",
      "---  ------    --------------  ----- \n",
      " 0   date      62 non-null     object\n",
      " 1   group     62 non-null     object\n",
      " 2   visitors  62 non-null     int64 \n",
      "dtypes: int64(1), object(2)\n",
      "memory usage: 1.6+ KB\n"
     ]
    }
   ],
   "source": [
    "v.info()"
   ]
  },
  {
   "cell_type": "code",
   "execution_count": 20,
   "metadata": {
    "id": "zkpEZydPULSF"
   },
   "outputs": [],
   "source": [
    "# дату в формат даты\n",
    "v['date'] = pd.to_datetime(v['date'], format='%Y-%m-%d')"
   ]
  },
  {
   "cell_type": "code",
   "execution_count": 21,
   "metadata": {
    "colab": {
     "base_uri": "https://localhost:8080/"
    },
    "id": "ZrysWJJFULU1",
    "outputId": "165340dd-a960-48c4-8315-35fecc9a2662"
   },
   "outputs": [
    {
     "data": {
      "text/plain": [
       "0"
      ]
     },
     "execution_count": 21,
     "metadata": {},
     "output_type": "execute_result"
    }
   ],
   "source": [
    "# проверка ну дубликаты\n",
    "v.duplicated().sum()"
   ]
  },
  {
   "cell_type": "code",
   "execution_count": 22,
   "metadata": {
    "id": "G_bktxx6R8aD"
   },
   "outputs": [],
   "source": [
    "# создаем таблицу по всем датам и группам\n",
    "dates_groups = o[['date', 'group']].drop_duplicates()"
   ]
  },
  {
   "cell_type": "code",
   "execution_count": 23,
   "metadata": {
    "id": "DekOP4q-O97D"
   },
   "outputs": [],
   "source": [
    "# таблица накопленноый суммы и кол заказов\n",
    "orders_aggregated = (dates_groups.apply(lambda x: o[np.logical_and(o['date'] <= x['date'], o['group'] == x['group'])]\n",
    "                                        .agg({'date': 'max',\n",
    "                                              'group': 'max',\n",
    "                                              'transaction_id': 'nunique',\n",
    "                                              'visitor_id': 'nunique',\n",
    "                                              'revenue': 'sum'}), axis=1)\n",
    "                     .sort_values(by=['date', 'group']))"
   ]
  },
  {
   "cell_type": "code",
   "execution_count": 24,
   "metadata": {
    "colab": {
     "base_uri": "https://localhost:8080/",
     "height": 424
    },
    "id": "0i2k36OibTHV",
    "outputId": "57be9dc9-810a-47d1-d755-c9859dce1397"
   },
   "outputs": [
    {
     "data": {
      "text/html": [
       "<div>\n",
       "<style scoped>\n",
       "    .dataframe tbody tr th:only-of-type {\n",
       "        vertical-align: middle;\n",
       "    }\n",
       "\n",
       "    .dataframe tbody tr th {\n",
       "        vertical-align: top;\n",
       "    }\n",
       "\n",
       "    .dataframe thead th {\n",
       "        text-align: right;\n",
       "    }\n",
       "</style>\n",
       "<table border=\"1\" class=\"dataframe\">\n",
       "  <thead>\n",
       "    <tr style=\"text-align: right;\">\n",
       "      <th></th>\n",
       "      <th>date</th>\n",
       "      <th>group</th>\n",
       "      <th>transaction_id</th>\n",
       "      <th>visitor_id</th>\n",
       "      <th>revenue</th>\n",
       "    </tr>\n",
       "  </thead>\n",
       "  <tbody>\n",
       "    <tr>\n",
       "      <th>55</th>\n",
       "      <td>2019-08-01</td>\n",
       "      <td>A</td>\n",
       "      <td>24</td>\n",
       "      <td>20</td>\n",
       "      <td>148579</td>\n",
       "    </tr>\n",
       "    <tr>\n",
       "      <th>66</th>\n",
       "      <td>2019-08-01</td>\n",
       "      <td>B</td>\n",
       "      <td>21</td>\n",
       "      <td>20</td>\n",
       "      <td>101217</td>\n",
       "    </tr>\n",
       "    <tr>\n",
       "      <th>175</th>\n",
       "      <td>2019-08-02</td>\n",
       "      <td>A</td>\n",
       "      <td>44</td>\n",
       "      <td>38</td>\n",
       "      <td>242401</td>\n",
       "    </tr>\n",
       "    <tr>\n",
       "      <th>173</th>\n",
       "      <td>2019-08-02</td>\n",
       "      <td>B</td>\n",
       "      <td>45</td>\n",
       "      <td>43</td>\n",
       "      <td>266748</td>\n",
       "    </tr>\n",
       "    <tr>\n",
       "      <th>291</th>\n",
       "      <td>2019-08-03</td>\n",
       "      <td>A</td>\n",
       "      <td>68</td>\n",
       "      <td>62</td>\n",
       "      <td>354874</td>\n",
       "    </tr>\n",
       "    <tr>\n",
       "      <th>...</th>\n",
       "      <td>...</td>\n",
       "      <td>...</td>\n",
       "      <td>...</td>\n",
       "      <td>...</td>\n",
       "      <td>...</td>\n",
       "    </tr>\n",
       "    <tr>\n",
       "      <th>496</th>\n",
       "      <td>2019-08-29</td>\n",
       "      <td>B</td>\n",
       "      <td>596</td>\n",
       "      <td>544</td>\n",
       "      <td>5559398</td>\n",
       "    </tr>\n",
       "    <tr>\n",
       "      <th>730</th>\n",
       "      <td>2019-08-30</td>\n",
       "      <td>A</td>\n",
       "      <td>545</td>\n",
       "      <td>493</td>\n",
       "      <td>4022970</td>\n",
       "    </tr>\n",
       "    <tr>\n",
       "      <th>690</th>\n",
       "      <td>2019-08-30</td>\n",
       "      <td>B</td>\n",
       "      <td>620</td>\n",
       "      <td>567</td>\n",
       "      <td>5774631</td>\n",
       "    </tr>\n",
       "    <tr>\n",
       "      <th>958</th>\n",
       "      <td>2019-08-31</td>\n",
       "      <td>A</td>\n",
       "      <td>557</td>\n",
       "      <td>503</td>\n",
       "      <td>4084803</td>\n",
       "    </tr>\n",
       "    <tr>\n",
       "      <th>930</th>\n",
       "      <td>2019-08-31</td>\n",
       "      <td>B</td>\n",
       "      <td>640</td>\n",
       "      <td>586</td>\n",
       "      <td>5907760</td>\n",
       "    </tr>\n",
       "  </tbody>\n",
       "</table>\n",
       "<p>62 rows × 5 columns</p>\n",
       "</div>"
      ],
      "text/plain": [
       "          date group  transaction_id  visitor_id  revenue\n",
       "55  2019-08-01     A              24          20   148579\n",
       "66  2019-08-01     B              21          20   101217\n",
       "175 2019-08-02     A              44          38   242401\n",
       "173 2019-08-02     B              45          43   266748\n",
       "291 2019-08-03     A              68          62   354874\n",
       "..         ...   ...             ...         ...      ...\n",
       "496 2019-08-29     B             596         544  5559398\n",
       "730 2019-08-30     A             545         493  4022970\n",
       "690 2019-08-30     B             620         567  5774631\n",
       "958 2019-08-31     A             557         503  4084803\n",
       "930 2019-08-31     B             640         586  5907760\n",
       "\n",
       "[62 rows x 5 columns]"
      ]
     },
     "execution_count": 24,
     "metadata": {},
     "output_type": "execute_result"
    }
   ],
   "source": [
    "orders_aggregated"
   ]
  },
  {
   "cell_type": "code",
   "execution_count": 25,
   "metadata": {
    "id": "ktQc-ayHcMrl"
   },
   "outputs": [],
   "source": [
    "# таблица накопленной суммы визитов\n",
    "visitors_aggregated = (dates_groups.apply(lambda x: v[np.logical_and(v['date'] <= x['date'], v['group'] == x['group'])]\n",
    "                                          .agg({'date': 'max',\n",
    "                                                'group': 'max',\n",
    "                                                'visitors': 'sum'}), axis=1)\n",
    "                       .sort_values(by=['date', 'group']))"
   ]
  },
  {
   "cell_type": "code",
   "execution_count": 26,
   "metadata": {
    "colab": {
     "base_uri": "https://localhost:8080/",
     "height": 424
    },
    "id": "aUsRewqjlM6T",
    "outputId": "ff20d5b7-e38f-46dd-c3bc-81e1e00ab608"
   },
   "outputs": [
    {
     "data": {
      "text/html": [
       "<div>\n",
       "<style scoped>\n",
       "    .dataframe tbody tr th:only-of-type {\n",
       "        vertical-align: middle;\n",
       "    }\n",
       "\n",
       "    .dataframe tbody tr th {\n",
       "        vertical-align: top;\n",
       "    }\n",
       "\n",
       "    .dataframe thead th {\n",
       "        text-align: right;\n",
       "    }\n",
       "</style>\n",
       "<table border=\"1\" class=\"dataframe\">\n",
       "  <thead>\n",
       "    <tr style=\"text-align: right;\">\n",
       "      <th></th>\n",
       "      <th>date</th>\n",
       "      <th>group</th>\n",
       "      <th>visitors</th>\n",
       "    </tr>\n",
       "  </thead>\n",
       "  <tbody>\n",
       "    <tr>\n",
       "      <th>55</th>\n",
       "      <td>2019-08-01</td>\n",
       "      <td>A</td>\n",
       "      <td>719</td>\n",
       "    </tr>\n",
       "    <tr>\n",
       "      <th>66</th>\n",
       "      <td>2019-08-01</td>\n",
       "      <td>B</td>\n",
       "      <td>713</td>\n",
       "    </tr>\n",
       "    <tr>\n",
       "      <th>175</th>\n",
       "      <td>2019-08-02</td>\n",
       "      <td>A</td>\n",
       "      <td>1338</td>\n",
       "    </tr>\n",
       "    <tr>\n",
       "      <th>173</th>\n",
       "      <td>2019-08-02</td>\n",
       "      <td>B</td>\n",
       "      <td>1294</td>\n",
       "    </tr>\n",
       "    <tr>\n",
       "      <th>291</th>\n",
       "      <td>2019-08-03</td>\n",
       "      <td>A</td>\n",
       "      <td>1845</td>\n",
       "    </tr>\n",
       "    <tr>\n",
       "      <th>...</th>\n",
       "      <td>...</td>\n",
       "      <td>...</td>\n",
       "      <td>...</td>\n",
       "    </tr>\n",
       "    <tr>\n",
       "      <th>496</th>\n",
       "      <td>2019-08-29</td>\n",
       "      <td>B</td>\n",
       "      <td>17708</td>\n",
       "    </tr>\n",
       "    <tr>\n",
       "      <th>730</th>\n",
       "      <td>2019-08-30</td>\n",
       "      <td>A</td>\n",
       "      <td>18037</td>\n",
       "    </tr>\n",
       "    <tr>\n",
       "      <th>690</th>\n",
       "      <td>2019-08-30</td>\n",
       "      <td>B</td>\n",
       "      <td>18198</td>\n",
       "    </tr>\n",
       "    <tr>\n",
       "      <th>958</th>\n",
       "      <td>2019-08-31</td>\n",
       "      <td>A</td>\n",
       "      <td>18736</td>\n",
       "    </tr>\n",
       "    <tr>\n",
       "      <th>930</th>\n",
       "      <td>2019-08-31</td>\n",
       "      <td>B</td>\n",
       "      <td>18916</td>\n",
       "    </tr>\n",
       "  </tbody>\n",
       "</table>\n",
       "<p>62 rows × 3 columns</p>\n",
       "</div>"
      ],
      "text/plain": [
       "          date group  visitors\n",
       "55  2019-08-01     A       719\n",
       "66  2019-08-01     B       713\n",
       "175 2019-08-02     A      1338\n",
       "173 2019-08-02     B      1294\n",
       "291 2019-08-03     A      1845\n",
       "..         ...   ...       ...\n",
       "496 2019-08-29     B     17708\n",
       "730 2019-08-30     A     18037\n",
       "690 2019-08-30     B     18198\n",
       "958 2019-08-31     A     18736\n",
       "930 2019-08-31     B     18916\n",
       "\n",
       "[62 rows x 3 columns]"
      ]
     },
     "execution_count": 26,
     "metadata": {},
     "output_type": "execute_result"
    }
   ],
   "source": [
    "visitors_aggregated"
   ]
  },
  {
   "cell_type": "code",
   "execution_count": 27,
   "metadata": {
    "id": "hu2LUEXOlNxU"
   },
   "outputs": [],
   "source": [
    "# общая таблица накопленной суммы\n",
    "cum_df = orders_aggregated.merge(visitors_aggregated, on=[\n",
    "                                 'date', 'group'], how='left')"
   ]
  },
  {
   "cell_type": "code",
   "execution_count": 28,
   "metadata": {
    "id": "6Dzd9qfUlvZh"
   },
   "outputs": [],
   "source": [
    "cum_df.columns = ['date', 'group', 'transaction_nunique',\n",
    "                  'visitors_nunique', 'revenue_cum', 'visitors_cum']"
   ]
  },
  {
   "cell_type": "code",
   "execution_count": 29,
   "metadata": {
    "colab": {
     "base_uri": "https://localhost:8080/",
     "height": 424
    },
    "id": "AvxdRWOxlv10",
    "outputId": "91e2b57b-623c-4909-9f3f-5375d18fa42a"
   },
   "outputs": [
    {
     "data": {
      "text/html": [
       "<div>\n",
       "<style scoped>\n",
       "    .dataframe tbody tr th:only-of-type {\n",
       "        vertical-align: middle;\n",
       "    }\n",
       "\n",
       "    .dataframe tbody tr th {\n",
       "        vertical-align: top;\n",
       "    }\n",
       "\n",
       "    .dataframe thead th {\n",
       "        text-align: right;\n",
       "    }\n",
       "</style>\n",
       "<table border=\"1\" class=\"dataframe\">\n",
       "  <thead>\n",
       "    <tr style=\"text-align: right;\">\n",
       "      <th></th>\n",
       "      <th>date</th>\n",
       "      <th>group</th>\n",
       "      <th>transaction_nunique</th>\n",
       "      <th>visitors_nunique</th>\n",
       "      <th>revenue_cum</th>\n",
       "      <th>visitors_cum</th>\n",
       "    </tr>\n",
       "  </thead>\n",
       "  <tbody>\n",
       "    <tr>\n",
       "      <th>0</th>\n",
       "      <td>2019-08-01</td>\n",
       "      <td>A</td>\n",
       "      <td>24</td>\n",
       "      <td>20</td>\n",
       "      <td>148579</td>\n",
       "      <td>719</td>\n",
       "    </tr>\n",
       "    <tr>\n",
       "      <th>1</th>\n",
       "      <td>2019-08-01</td>\n",
       "      <td>B</td>\n",
       "      <td>21</td>\n",
       "      <td>20</td>\n",
       "      <td>101217</td>\n",
       "      <td>713</td>\n",
       "    </tr>\n",
       "    <tr>\n",
       "      <th>2</th>\n",
       "      <td>2019-08-02</td>\n",
       "      <td>A</td>\n",
       "      <td>44</td>\n",
       "      <td>38</td>\n",
       "      <td>242401</td>\n",
       "      <td>1338</td>\n",
       "    </tr>\n",
       "    <tr>\n",
       "      <th>3</th>\n",
       "      <td>2019-08-02</td>\n",
       "      <td>B</td>\n",
       "      <td>45</td>\n",
       "      <td>43</td>\n",
       "      <td>266748</td>\n",
       "      <td>1294</td>\n",
       "    </tr>\n",
       "    <tr>\n",
       "      <th>4</th>\n",
       "      <td>2019-08-03</td>\n",
       "      <td>A</td>\n",
       "      <td>68</td>\n",
       "      <td>62</td>\n",
       "      <td>354874</td>\n",
       "      <td>1845</td>\n",
       "    </tr>\n",
       "    <tr>\n",
       "      <th>...</th>\n",
       "      <td>...</td>\n",
       "      <td>...</td>\n",
       "      <td>...</td>\n",
       "      <td>...</td>\n",
       "      <td>...</td>\n",
       "      <td>...</td>\n",
       "    </tr>\n",
       "    <tr>\n",
       "      <th>57</th>\n",
       "      <td>2019-08-29</td>\n",
       "      <td>B</td>\n",
       "      <td>596</td>\n",
       "      <td>544</td>\n",
       "      <td>5559398</td>\n",
       "      <td>17708</td>\n",
       "    </tr>\n",
       "    <tr>\n",
       "      <th>58</th>\n",
       "      <td>2019-08-30</td>\n",
       "      <td>A</td>\n",
       "      <td>545</td>\n",
       "      <td>493</td>\n",
       "      <td>4022970</td>\n",
       "      <td>18037</td>\n",
       "    </tr>\n",
       "    <tr>\n",
       "      <th>59</th>\n",
       "      <td>2019-08-30</td>\n",
       "      <td>B</td>\n",
       "      <td>620</td>\n",
       "      <td>567</td>\n",
       "      <td>5774631</td>\n",
       "      <td>18198</td>\n",
       "    </tr>\n",
       "    <tr>\n",
       "      <th>60</th>\n",
       "      <td>2019-08-31</td>\n",
       "      <td>A</td>\n",
       "      <td>557</td>\n",
       "      <td>503</td>\n",
       "      <td>4084803</td>\n",
       "      <td>18736</td>\n",
       "    </tr>\n",
       "    <tr>\n",
       "      <th>61</th>\n",
       "      <td>2019-08-31</td>\n",
       "      <td>B</td>\n",
       "      <td>640</td>\n",
       "      <td>586</td>\n",
       "      <td>5907760</td>\n",
       "      <td>18916</td>\n",
       "    </tr>\n",
       "  </tbody>\n",
       "</table>\n",
       "<p>62 rows × 6 columns</p>\n",
       "</div>"
      ],
      "text/plain": [
       "         date group  transaction_nunique  visitors_nunique  revenue_cum  \\\n",
       "0  2019-08-01     A                   24                20       148579   \n",
       "1  2019-08-01     B                   21                20       101217   \n",
       "2  2019-08-02     A                   44                38       242401   \n",
       "3  2019-08-02     B                   45                43       266748   \n",
       "4  2019-08-03     A                   68                62       354874   \n",
       "..        ...   ...                  ...               ...          ...   \n",
       "57 2019-08-29     B                  596               544      5559398   \n",
       "58 2019-08-30     A                  545               493      4022970   \n",
       "59 2019-08-30     B                  620               567      5774631   \n",
       "60 2019-08-31     A                  557               503      4084803   \n",
       "61 2019-08-31     B                  640               586      5907760   \n",
       "\n",
       "    visitors_cum  \n",
       "0            719  \n",
       "1            713  \n",
       "2           1338  \n",
       "3           1294  \n",
       "4           1845  \n",
       "..           ...  \n",
       "57         17708  \n",
       "58         18037  \n",
       "59         18198  \n",
       "60         18736  \n",
       "61         18916  \n",
       "\n",
       "[62 rows x 6 columns]"
      ]
     },
     "execution_count": 29,
     "metadata": {},
     "output_type": "execute_result"
    }
   ],
   "source": [
    "cum_df"
   ]
  },
  {
   "cell_type": "markdown",
   "metadata": {
    "id": "Rv2uTSdwTB4s"
   },
   "source": [
    "## График кумулятивной выручки по группам."
   ]
  },
  {
   "cell_type": "code",
   "execution_count": 30,
   "metadata": {
    "id": "xN-o6LrNncJN"
   },
   "outputs": [],
   "source": [
    "cum_revenue_a = cum_df[cum_df['group'] == 'A'][[\n",
    "    'date', 'transaction_nunique', 'revenue_cum']]"
   ]
  },
  {
   "cell_type": "code",
   "execution_count": 31,
   "metadata": {
    "id": "HQzoqFFbo3aO"
   },
   "outputs": [],
   "source": [
    "cum_revenue_b = cum_df[cum_df['group'] == 'B'][[\n",
    "    'date', 'transaction_nunique', 'revenue_cum']]"
   ]
  },
  {
   "cell_type": "code",
   "execution_count": 32,
   "metadata": {},
   "outputs": [],
   "source": [
    "plt.rcParams[\"figure.figsize\"] = (10, 6)\n",
    "font = {'family': 'serif',\n",
    "        'color':  'darkred',\n",
    "        'weight': 'normal',\n",
    "        'size': 16,\n",
    "        }"
   ]
  },
  {
   "cell_type": "code",
   "execution_count": 33,
   "metadata": {
    "colab": {
     "base_uri": "https://localhost:8080/",
     "height": 319
    },
    "id": "e-mwzaH9o3wj",
    "outputId": "a21d2bdd-5ed7-4e28-b1a4-0421c6a5fdcb"
   },
   "outputs": [
    {
     "data": {
      "image/png": "[encoded data removed]",
      "text/plain": [
       "<Figure size 720x432 with 1 Axes>"
      ]
     },
     "metadata": {
      "needs_background": "light"
     },
     "output_type": "display_data"
    }
   ],
   "source": [
    "# график накопленной суммы по группам\n",
    "plt.plot(cum_revenue_a['date'], cum_revenue_a['revenue_cum'], label='A')\n",
    "plt.plot(cum_revenue_b['date'], cum_revenue_b['revenue_cum'], label='B')\n",
    "plt.title('График кумулятивной выручки по группам', fontdict=font)\n",
    "plt.legend()\n",
    "plt.xticks(rotation=25)\n",
    "plt.xlabel('дата (дни)', fontdict=font)\n",
    "plt.ylabel('сумма ($)', fontdict=font)\n",
    "plt.ylim(0)\n",
    "plt.show()"
   ]
  },
  {
   "cell_type": "markdown",
   "metadata": {
    "id": "q2rCRpmn3mek"
   },
   "source": [
    "### Вывод:\n",
    "В начале группа А и В практически равны по выручке, начиная с 2019-08-17 дня, мы видим резкий всплеск по выручке в группе В. Далее графики растут синхронно. Всплеск возьожно связан, с не тепично большими заказами в эту дату. "
   ]
  },
  {
   "cell_type": "markdown",
   "metadata": {
    "id": "qAOWJWV3qAvA"
   },
   "source": [
    "## График кумулятивного среднего чека по группам."
   ]
  },
  {
   "cell_type": "code",
   "execution_count": 34,
   "metadata": {
    "colab": {
     "base_uri": "https://localhost:8080/",
     "height": 319
    },
    "id": "qDKWpwV2pg3F",
    "outputId": "ccd8ff82-db2b-4491-f57f-d27a435da7be"
   },
   "outputs": [
    {
     "data": {
      "image/png": "[encoded data removed]",
      "text/plain": [
       "<Figure size 720x432 with 1 Axes>"
      ]
     },
     "metadata": {
      "needs_background": "light"
     },
     "output_type": "display_data"
    }
   ],
   "source": [
    "plt.plot(cum_revenue_a['date'],\n",
    "         cum_revenue_a['revenue_cum'] / cum_revenue_a['transaction_nunique'],\n",
    "         label='A')\n",
    "plt.plot(cum_revenue_b['date'],\n",
    "         cum_revenue_b['revenue_cum'] / cum_revenue_b['transaction_nunique'],\n",
    "         label='B')\n",
    "plt.legend()\n",
    "plt.title('График кумулятивного среднего чека по группам', fontdict=font)\n",
    "plt.xticks(rotation=45)\n",
    "plt.xlabel('дата (дни)', fontdict=font)\n",
    "plt.ylabel('ср. чек ($)', fontdict=font)\n",
    "plt.ylim(0)\n",
    "plt.show()"
   ]
  },
  {
   "cell_type": "markdown",
   "metadata": {
    "id": "kTjq9gXc4Nbo"
   },
   "source": [
    "### Вывод:\n",
    "Из графика видно что группа А почти всегда ниже по среднему чеку, видим пик 2019-08-13, далее группа А показывает медленный рост. Отмечу, 2019-08-01 средний чек начинается сразу с 6000, далее идет уменьшение чека до 4500. У группы В в ту дату тоже снижение среднего чека. \n",
    "\n",
    "Группа В и ее средний чек сильно выше группы А, 2019-08-17 мы видим сильный рост среднего чека, возможно вызванный боьлшой покупкой. На графике накопленной суммы, в эту дату так же виден всплеск.   "
   ]
  },
  {
   "cell_type": "markdown",
   "metadata": {
    "id": "zIozs2DYqah4"
   },
   "source": [
    "## График относительного изменения кумулятивного среднего чека группы B к группе A. "
   ]
  },
  {
   "cell_type": "code",
   "execution_count": 35,
   "metadata": {
    "id": "W5ZNy_2JqRn5"
   },
   "outputs": [],
   "source": [
    "merged_cum_revenue = cum_revenue_a.merge(\n",
    "    cum_revenue_b, on='date', how='left', suffixes=['_a', '_b'])"
   ]
  },
  {
   "cell_type": "code",
   "execution_count": 36,
   "metadata": {
    "colab": {
     "base_uri": "https://localhost:8080/",
     "height": 319
    },
    "id": "pQ-sLPzcx_ii",
    "outputId": "f9afa266-2886-47b9-e8ad-8d1bb7179a11"
   },
   "outputs": [
    {
     "data": {
      "image/png": "[encoded data removed]",
      "text/plain": [
       "<Figure size 720x432 with 1 Axes>"
      ]
     },
     "metadata": {
      "needs_background": "light"
     },
     "output_type": "display_data"
    }
   ],
   "source": [
    "# cтроим отношение средних чеков\n",
    "plt.plot(merged_cum_revenue['date'],\n",
    "         (merged_cum_revenue['revenue_cum_b'] /\n",
    "          merged_cum_revenue['transaction_nunique_b']) /\n",
    "         (merged_cum_revenue['revenue_cum_a'] /\n",
    "          merged_cum_revenue['transaction_nunique_a'])-1)\n",
    "\n",
    "# добавляем ось X\n",
    "plt.axhline(y=0, color='black', linestyle='--')\n",
    "plt.xticks(rotation=45)\n",
    "plt.title(\n",
    "    'График отсносит. изменения кумулятивного ср чека гр. B к гр. A', fontdict=font)\n",
    "plt.xlabel('дата (дни)', fontdict=font)\n",
    "plt.ylabel('ср. чек ($)', fontdict=font)\n",
    "plt.show()"
   ]
  },
  {
   "cell_type": "markdown",
   "metadata": {
    "id": "eAw3XVBb5knr"
   },
   "source": [
    "### Вывод:\n",
    "На графике видно, что группа А и В различаются. Группа В больше. График резко скачет возможно связано с аномальными значениями."
   ]
  },
  {
   "cell_type": "markdown",
   "metadata": {
    "id": "FhnZzBL4yom4"
   },
   "source": [
    "## График кумулятивной конверсии по группам."
   ]
  },
  {
   "cell_type": "code",
   "execution_count": 37,
   "metadata": {
    "id": "aLvZadiGx_7G"
   },
   "outputs": [],
   "source": [
    "# считаем кумулятивную конверсию\n",
    "cum_df['conversion'] = cum_df['transaction_nunique']/cum_df['visitors_cum']"
   ]
  },
  {
   "cell_type": "code",
   "execution_count": 38,
   "metadata": {
    "id": "MSTyizaLy9F4"
   },
   "outputs": [],
   "source": [
    "cum_df_a = cum_df[cum_df['group'] == 'A']"
   ]
  },
  {
   "cell_type": "code",
   "execution_count": 39,
   "metadata": {
    "id": "l6EGgk0uzOFA"
   },
   "outputs": [],
   "source": [
    "cum_df_b = cum_df[cum_df['group'] == 'B']"
   ]
  },
  {
   "cell_type": "code",
   "execution_count": 40,
   "metadata": {
    "colab": {
     "base_uri": "https://localhost:8080/"
    },
    "id": "l-Gr7d6k0Dc5",
    "outputId": "5836bf38-b87f-4e55-abc6-434d7fff433a"
   },
   "outputs": [
    {
     "name": "stdout",
     "output_type": "stream",
     "text": [
      "2019-08-01\n",
      "2019-08-31\n"
     ]
    }
   ],
   "source": [
    "# мин и мах даты наблюдения\n",
    "min_dt = cum_df['date'].min().date()\n",
    "max_dt = cum_df['date'].max().date()\n",
    "\n",
    "print(min_dt)\n",
    "print(max_dt)"
   ]
  },
  {
   "cell_type": "code",
   "execution_count": 41,
   "metadata": {
    "colab": {
     "base_uri": "https://localhost:8080/",
     "height": 319
    },
    "id": "_3lKgz_nzPik",
    "outputId": "5d41bb22-9780-4cd2-efda-3e97d166e29e"
   },
   "outputs": [
    {
     "data": {
      "image/png": "[encoded data removed]",
      "text/plain": [
       "<Figure size 720x432 with 1 Axes>"
      ]
     },
     "metadata": {
      "needs_background": "light"
     },
     "output_type": "display_data"
    }
   ],
   "source": [
    "plt.plot(cum_df_a['date'], cum_df_a['conversion'], label='A')\n",
    "plt.plot(cum_df_b['date'], cum_df_b['conversion'], label='B')\n",
    "plt.legend()\n",
    "plt.title('График кумулятивной конверсии по группам', fontdict=font)\n",
    "plt.xticks(rotation=45)\n",
    "plt.axis([min_dt, max_dt, 0, 0.05])\n",
    "plt.xlabel('дата (дни)', fontdict=font)\n",
    "plt.ylabel('кумулятивная конверсия (%)', fontdict=font)\n",
    "plt.show()"
   ]
  },
  {
   "cell_type": "markdown",
   "metadata": {
    "id": "X3w8R0yQe42_"
   },
   "source": [
    "### Вывод:\n",
    "Группы В и группа А различаются, у грпуппы В конверсия выше. "
   ]
  },
  {
   "cell_type": "markdown",
   "metadata": {
    "id": "3LsmRhlIzh1r"
   },
   "source": [
    "## График относительного изменения кумулятивной конверсии группы B к группе A."
   ]
  },
  {
   "cell_type": "code",
   "execution_count": 42,
   "metadata": {
    "id": "vWoiLlI33Do-"
   },
   "outputs": [],
   "source": [
    "# общая таблица двух групп по накопленной конверсии\n",
    "merged_cum_conversions = cum_df_a[['date', 'conversion']].merge(\n",
    "    cum_df_b[['date', 'conversion']], on='date', how='left', suffixes=['_a', '_b'])"
   ]
  },
  {
   "cell_type": "code",
   "execution_count": 43,
   "metadata": {
    "colab": {
     "base_uri": "https://localhost:8080/",
     "height": 319
    },
    "id": "0ME8Jzt_zVTe",
    "outputId": "154e7d11-245f-48d2-e7f8-9fa112eede63"
   },
   "outputs": [
    {
     "data": {
      "image/png": "[encoded data removed]",
      "text/plain": [
       "<Figure size 720x432 with 1 Axes>"
      ]
     },
     "metadata": {
      "needs_background": "light"
     },
     "output_type": "display_data"
    }
   ],
   "source": [
    "plt.plot(merged_cum_conversions['date'],\n",
    "         merged_cum_conversions['conversion_b'] /\n",
    "         merged_cum_conversions['conversion_a']-1)\n",
    "plt.title(\n",
    "    'Относительный прирост конверсии группы B относительно группы A', fontdict=font)\n",
    "plt.axhline(y=0, color='black', linestyle='--')\n",
    "plt.axhline(y=0.15, color='grey', linestyle='--')\n",
    "plt.axis([min_dt, max_dt, -0.40, 0.40])\n",
    "plt.xticks(rotation=45)\n",
    "plt.xlabel('дата (дни)', fontdict=font)\n",
    "plt.ylabel('кумулятивная конверсия (%)', fontdict=font)\n",
    "plt.show()"
   ]
  },
  {
   "cell_type": "markdown",
   "metadata": {
    "id": "u_DFpQHNfdFt"
   },
   "source": [
    "### Вывод:\n",
    "Прирост коневерсии группы В относительно А, в среднем около 15%, начиная с 3го дня наблюдений."
   ]
  },
  {
   "cell_type": "markdown",
   "metadata": {
    "id": "M4qVbLew3zTR"
   },
   "source": [
    "## Точечный график количества заказов по пользователям."
   ]
  },
  {
   "cell_type": "code",
   "execution_count": 44,
   "metadata": {
    "id": "WWUYw8CL11BO"
   },
   "outputs": [],
   "source": [
    "# таблица заказов на каждого пользователя\n",
    "orders_user = o.groupby('visitor_id')[\n",
    "    'transaction_id'].agg('nunique').reset_index()"
   ]
  },
  {
   "cell_type": "code",
   "execution_count": 45,
   "metadata": {
    "colab": {
     "base_uri": "https://localhost:8080/",
     "height": 281
    },
    "id": "T40d5vLc3y1q",
    "outputId": "7d58ca78-8a75-4836-aff1-8842aae7c7a1"
   },
   "outputs": [
    {
     "data": {
      "image/png": "[encoded data removed]",
      "text/plain": [
       "<Figure size 720x432 with 1 Axes>"
      ]
     },
     "metadata": {
      "needs_background": "light"
     },
     "output_type": "display_data"
    }
   ],
   "source": [
    "x_values = pd.Series(range(0, len(orders_user)))\n",
    "plt.scatter(x_values, orders_user['transaction_id'])\n",
    "plt.title('Точечный график количества заказов по пользователям', fontdict=font)\n",
    "plt.xlabel('покупатели', fontdict=font)\n",
    "plt.ylabel('кол заказов (шт)', fontdict=font)\n",
    "plt.show()"
   ]
  },
  {
   "cell_type": "markdown",
   "metadata": {
    "id": "rlbKvN_VhRCd"
   },
   "source": [
    "### Вывод:\n",
    "В основном у пользоватлей 1 или 2 заказа. Построим процентили посмотрим выбросы."
   ]
  },
  {
   "cell_type": "markdown",
   "metadata": {
    "id": "QcnIqCjr4TaZ"
   },
   "source": [
    "## 95-й и 99-й перцентили количества заказов на пользователя. Определить границу аномальных пользователей."
   ]
  },
  {
   "cell_type": "code",
   "execution_count": 46,
   "metadata": {
    "colab": {
     "base_uri": "https://localhost:8080/"
    },
    "id": "B89sSxyr3YH-",
    "outputId": "aa6fc8d1-c507-4c91-9bca-b61a058146d5"
   },
   "outputs": [
    {
     "data": {
      "text/plain": [
       "array([2., 4.])"
      ]
     },
     "execution_count": 46,
     "metadata": {},
     "output_type": "execute_result"
    }
   ],
   "source": [
    "np.percentile(orders_user['transaction_id'], [95, 99])"
   ]
  },
  {
   "cell_type": "markdown",
   "metadata": {
    "id": "ZgN5IJ8F45Ev"
   },
   "source": [
    "Граница аномальных пользователей по колчеству заказов <4"
   ]
  },
  {
   "cell_type": "markdown",
   "metadata": {
    "id": "QBADLbXp5Io9"
   },
   "source": [
    "## Точечный график стоимостей заказов."
   ]
  },
  {
   "cell_type": "code",
   "execution_count": 47,
   "metadata": {},
   "outputs": [
    {
     "data": {
      "image/png": "[encoded data removed]",
      "text/plain": [
       "<Figure size 720x432 with 1 Axes>"
      ]
     },
     "metadata": {
      "needs_background": "light"
     },
     "output_type": "display_data"
    }
   ],
   "source": [
    "x_values = pd.Series(range(0, len(o['revenue'])))\n",
    "plt.scatter(x_values, o['revenue'])\n",
    "plt.title('Точечный график стоимостей заказов', fontdict=font)\n",
    "plt.xlabel('покупки', fontdict=font)\n",
    "plt.ylabel('стоимость заказа ($)', fontdict=font)\n",
    "plt.show()"
   ]
  },
  {
   "cell_type": "code",
   "execution_count": 48,
   "metadata": {
    "colab": {
     "base_uri": "https://localhost:8080/",
     "height": 281
    },
    "id": "I6WSsAMF4jch",
    "outputId": "2c211505-b00f-4462-c4f3-0eb1917b6c4e"
   },
   "outputs": [
    {
     "data": {
      "image/png": "[encoded data removed]",
      "text/plain": [
       "<Figure size 720x432 with 1 Axes>"
      ]
     },
     "metadata": {
      "needs_background": "light"
     },
     "output_type": "display_data"
    }
   ],
   "source": [
    "x_values = pd.Series(range(0, len(o.query('revenue < 28000')['revenue'])))\n",
    "plt.scatter(x_values, o.query('revenue < 28000')['revenue'])\n",
    "plt.title('Точечный график стоимостей заказов', fontdict=font)\n",
    "plt.xlabel('покупки', fontdict=font)\n",
    "plt.ylabel('стоимость заказа ($)', fontdict=font)\n",
    "plt.show()"
   ]
  },
  {
   "cell_type": "markdown",
   "metadata": {
    "id": "0OGNm9A5h_mV"
   },
   "source": [
    "### Вывод:\n",
    "Больше всего заказов до 5000, чем дороже покупка тем меньше клиентов. "
   ]
  },
  {
   "cell_type": "markdown",
   "metadata": {
    "id": "K5pehWlz5oyP"
   },
   "source": [
    "## 95-й и 99-й перцентили стоимости заказов. Определить границу для аномальных заказов."
   ]
  },
  {
   "cell_type": "code",
   "execution_count": 49,
   "metadata": {
    "colab": {
     "base_uri": "https://localhost:8080/"
    },
    "id": "N6Mn-V_V5p-H",
    "outputId": "66f39f2a-c7df-4b0d-c104-6315de855678"
   },
   "outputs": [
    {
     "data": {
      "text/plain": [
       "array([28000. , 58233.2])"
      ]
     },
     "execution_count": 49,
     "metadata": {},
     "output_type": "execute_result"
    }
   ],
   "source": [
    "np.percentile(o['revenue'], [95, 99])"
   ]
  },
  {
   "cell_type": "markdown",
   "metadata": {
    "id": "FbDIqPSy5wlh"
   },
   "source": [
    "Граница анoмальных заказов по выручке <28000"
   ]
  },
  {
   "cell_type": "markdown",
   "metadata": {
    "id": "JoBPRiEmiazZ"
   },
   "source": [
    "## Общая таблица по накопленным суммам выручки, заказов, разделенная на группы А и В"
   ]
  },
  {
   "cell_type": "code",
   "execution_count": 50,
   "metadata": {
    "id": "nZ7Lc0sh9xuh"
   },
   "outputs": [],
   "source": [
    "visitors_a_daily = v[v['group'] == 'A'][['date', 'visitors']]\n",
    "visitors_a_daily.columns = ['date', 'visitors_date_a']"
   ]
  },
  {
   "cell_type": "code",
   "execution_count": 51,
   "metadata": {
    "id": "4GIgJEOz-TFr"
   },
   "outputs": [],
   "source": [
    "visitors_b_daily = v[v['group'] == 'B'][['date', 'visitors']]\n",
    "visitors_b_daily.columns = ['date', 'visitors_date_b']"
   ]
  },
  {
   "cell_type": "code",
   "execution_count": 52,
   "metadata": {
    "id": "DxIQsLcj-THw"
   },
   "outputs": [],
   "source": [
    "visitors_a_cum = visitors_a_daily.apply(\n",
    "    lambda x: visitors_a_daily[visitors_a_daily['date'] <= x['date']]\n",
    "    .agg({'date': 'max',\n",
    "          'visitors_date_a': 'sum'}),\n",
    "    axis=1)\n",
    "visitors_a_cum.columns = ['date', 'visitors_cum_a']"
   ]
  },
  {
   "cell_type": "code",
   "execution_count": 53,
   "metadata": {
    "id": "GQ3ytuH9_pMt"
   },
   "outputs": [],
   "source": [
    "visitors_b_cum = visitors_b_daily.apply(\n",
    "    lambda x: visitors_b_daily[visitors_b_daily['date'] <= x['date']]\n",
    "    .agg({'date': 'max',\n",
    "          'visitors_date_b': 'sum'}),\n",
    "    axis=1)\n",
    "visitors_b_cum.columns = ['date', 'visitors_cum_b']"
   ]
  },
  {
   "cell_type": "code",
   "execution_count": 54,
   "metadata": {
    "id": "rqJos3Yu_pO_"
   },
   "outputs": [],
   "source": [
    "orders_a_daily = (\n",
    "    o[o['group'] == 'A'][['date', 'transaction_id', 'visitor_id', 'revenue']]\n",
    "    .groupby('date', as_index=False)\n",
    "    .agg({'transaction_id': pd.Series.nunique, 'revenue': 'sum'})\n",
    ")\n",
    "orders_a_daily.columns = ['date', 'orders_date_a', 'revenue_date_a']"
   ]
  },
  {
   "cell_type": "code",
   "execution_count": 55,
   "metadata": {
    "id": "6NaIGCo39xxH"
   },
   "outputs": [],
   "source": [
    "orders_b_daily = (\n",
    "    o[o['group'] == 'B'][['date', 'transaction_id', 'visitor_id', 'revenue']]\n",
    "    .groupby('date', as_index=False)\n",
    "    .agg({'transaction_id': pd.Series.nunique, 'revenue': 'sum'})\n",
    ")\n",
    "orders_b_daily.columns = ['date', 'orders_date_b', 'revenue_date_b']"
   ]
  },
  {
   "cell_type": "code",
   "execution_count": 56,
   "metadata": {
    "id": "XYFqGASd9x0G"
   },
   "outputs": [],
   "source": [
    "orders_a_cum = orders_a_daily.apply(\n",
    "    lambda x: orders_a_daily[orders_a_daily['date'] <= x['date']].agg(\n",
    "        {'date': 'max', 'orders_date_a': 'sum', 'revenue_date_a': 'sum'}\n",
    "    ),\n",
    "    axis=1,\n",
    ").sort_values(by=['date'])\n",
    "\n",
    "orders_a_cum.columns = [\n",
    "    'date', 'orders_cummulative_a', 'revenue_cummulative_a']"
   ]
  },
  {
   "cell_type": "code",
   "execution_count": 57,
   "metadata": {
    "id": "ja3T69OoBmXf"
   },
   "outputs": [],
   "source": [
    "orders_b_cum = orders_b_daily.apply(\n",
    "    lambda x: orders_b_daily[orders_b_daily['date'] <= x['date']].agg(\n",
    "        {'date': 'max', 'orders_date_b': 'sum', 'revenue_date_b': 'sum'}\n",
    "    ),\n",
    "    axis=1,\n",
    ").sort_values(by=['date'])\n",
    "\n",
    "orders_b_cum.columns = [\n",
    "    'date', 'orders_cummulative_b', 'revenue_cummulative_b']"
   ]
  },
  {
   "cell_type": "code",
   "execution_count": 58,
   "metadata": {
    "id": "YH43quLiBjF5"
   },
   "outputs": [],
   "source": [
    "df = (\n",
    "    orders_a_daily.merge(\n",
    "        orders_b_daily, left_on='date', right_on='date', how='left'\n",
    "    )\n",
    "    .merge(orders_a_cum, left_on='date', right_on='date', how='left')\n",
    "    .merge(orders_b_cum, left_on='date', right_on='date', how='left')\n",
    "    .merge(visitors_a_daily, left_on='date', right_on='date', how='left')\n",
    "    .merge(visitors_b_daily, left_on='date', right_on='date', how='left')\n",
    "    .merge(visitors_a_cum, left_on='date', right_on='date', how='left')\n",
    "    .merge(visitors_b_cum, left_on='date', right_on='date', how='left')\n",
    ")"
   ]
  },
  {
   "cell_type": "code",
   "execution_count": 59,
   "metadata": {
    "colab": {
     "base_uri": "https://localhost:8080/",
     "height": 357
    },
    "id": "xCJumZIQ5Dq6",
    "outputId": "856d4f22-6ab1-4517-887f-237916e9753b"
   },
   "outputs": [
    {
     "data": {
      "text/html": [
       "<div>\n",
       "<style scoped>\n",
       "    .dataframe tbody tr th:only-of-type {\n",
       "        vertical-align: middle;\n",
       "    }\n",
       "\n",
       "    .dataframe tbody tr th {\n",
       "        vertical-align: top;\n",
       "    }\n",
       "\n",
       "    .dataframe thead th {\n",
       "        text-align: right;\n",
       "    }\n",
       "</style>\n",
       "<table border=\"1\" class=\"dataframe\">\n",
       "  <thead>\n",
       "    <tr style=\"text-align: right;\">\n",
       "      <th></th>\n",
       "      <th>date</th>\n",
       "      <th>orders_date_a</th>\n",
       "      <th>revenue_date_a</th>\n",
       "      <th>orders_date_b</th>\n",
       "      <th>revenue_date_b</th>\n",
       "      <th>orders_cummulative_a</th>\n",
       "      <th>revenue_cummulative_a</th>\n",
       "      <th>orders_cummulative_b</th>\n",
       "      <th>revenue_cummulative_b</th>\n",
       "      <th>visitors_date_a</th>\n",
       "      <th>visitors_date_b</th>\n",
       "      <th>visitors_cum_a</th>\n",
       "      <th>visitors_cum_b</th>\n",
       "    </tr>\n",
       "  </thead>\n",
       "  <tbody>\n",
       "    <tr>\n",
       "      <th>0</th>\n",
       "      <td>2019-08-01</td>\n",
       "      <td>24</td>\n",
       "      <td>148579</td>\n",
       "      <td>21</td>\n",
       "      <td>101217</td>\n",
       "      <td>24</td>\n",
       "      <td>148579</td>\n",
       "      <td>21</td>\n",
       "      <td>101217</td>\n",
       "      <td>719</td>\n",
       "      <td>713</td>\n",
       "      <td>719</td>\n",
       "      <td>713</td>\n",
       "    </tr>\n",
       "    <tr>\n",
       "      <th>1</th>\n",
       "      <td>2019-08-02</td>\n",
       "      <td>20</td>\n",
       "      <td>93822</td>\n",
       "      <td>24</td>\n",
       "      <td>165531</td>\n",
       "      <td>44</td>\n",
       "      <td>242401</td>\n",
       "      <td>45</td>\n",
       "      <td>266748</td>\n",
       "      <td>619</td>\n",
       "      <td>581</td>\n",
       "      <td>1338</td>\n",
       "      <td>1294</td>\n",
       "    </tr>\n",
       "    <tr>\n",
       "      <th>2</th>\n",
       "      <td>2019-08-03</td>\n",
       "      <td>24</td>\n",
       "      <td>112473</td>\n",
       "      <td>16</td>\n",
       "      <td>114248</td>\n",
       "      <td>68</td>\n",
       "      <td>354874</td>\n",
       "      <td>61</td>\n",
       "      <td>380996</td>\n",
       "      <td>507</td>\n",
       "      <td>509</td>\n",
       "      <td>1845</td>\n",
       "      <td>1803</td>\n",
       "    </tr>\n",
       "    <tr>\n",
       "      <th>3</th>\n",
       "      <td>2019-08-04</td>\n",
       "      <td>16</td>\n",
       "      <td>70825</td>\n",
       "      <td>17</td>\n",
       "      <td>108571</td>\n",
       "      <td>84</td>\n",
       "      <td>425699</td>\n",
       "      <td>78</td>\n",
       "      <td>489567</td>\n",
       "      <td>717</td>\n",
       "      <td>770</td>\n",
       "      <td>2562</td>\n",
       "      <td>2573</td>\n",
       "    </tr>\n",
       "    <tr>\n",
       "      <th>4</th>\n",
       "      <td>2019-08-05</td>\n",
       "      <td>25</td>\n",
       "      <td>124218</td>\n",
       "      <td>23</td>\n",
       "      <td>92428</td>\n",
       "      <td>109</td>\n",
       "      <td>549917</td>\n",
       "      <td>101</td>\n",
       "      <td>581995</td>\n",
       "      <td>756</td>\n",
       "      <td>707</td>\n",
       "      <td>3318</td>\n",
       "      <td>3280</td>\n",
       "    </tr>\n",
       "  </tbody>\n",
       "</table>\n",
       "</div>"
      ],
      "text/plain": [
       "        date  orders_date_a  revenue_date_a  orders_date_b  revenue_date_b  \\\n",
       "0 2019-08-01             24          148579             21          101217   \n",
       "1 2019-08-02             20           93822             24          165531   \n",
       "2 2019-08-03             24          112473             16          114248   \n",
       "3 2019-08-04             16           70825             17          108571   \n",
       "4 2019-08-05             25          124218             23           92428   \n",
       "\n",
       "   orders_cummulative_a  revenue_cummulative_a  orders_cummulative_b  \\\n",
       "0                    24                 148579                    21   \n",
       "1                    44                 242401                    45   \n",
       "2                    68                 354874                    61   \n",
       "3                    84                 425699                    78   \n",
       "4                   109                 549917                   101   \n",
       "\n",
       "   revenue_cummulative_b  visitors_date_a  visitors_date_b  visitors_cum_a  \\\n",
       "0                 101217              719              713             719   \n",
       "1                 266748              619              581            1338   \n",
       "2                 380996              507              509            1845   \n",
       "3                 489567              717              770            2562   \n",
       "4                 581995              756              707            3318   \n",
       "\n",
       "   visitors_cum_b  \n",
       "0             713  \n",
       "1            1294  \n",
       "2            1803  \n",
       "3            2573  \n",
       "4            3280  "
      ]
     },
     "execution_count": 59,
     "metadata": {},
     "output_type": "execute_result"
    }
   ],
   "source": [
    "df.head()"
   ]
  },
  {
   "cell_type": "markdown",
   "metadata": {
    "id": "_IR4DGqhxF-E"
   },
   "source": [
    "# A/B Test"
   ]
  },
  {
   "cell_type": "markdown",
   "metadata": {
    "id": "AYSs_vmp56nS"
   },
   "source": [
    "## Cтатистическая значимость различий в конверсии между группами по «сырым» данным"
   ]
  },
  {
   "cell_type": "markdown",
   "metadata": {
    "id": "BLBlMxzw6PY5"
   },
   "source": [
    "Н0: различий в конверсии, между группами, нет. \n",
    "\n",
    "H1: различия в конверсии, между группами, есть.\n",
    "\n",
    "Alpha == 0.01\n"
   ]
  },
  {
   "cell_type": "code",
   "execution_count": 60,
   "metadata": {
    "id": "PUqT88hMNDLa"
   },
   "outputs": [],
   "source": [
    "# таблица кол заказов группы А\n",
    "orders_by_users_a = (\n",
    "    o[o['group'] == 'A']\n",
    "    .groupby('visitor_id', as_index=False)\n",
    "    .agg({'transaction_id': 'nunique'}))"
   ]
  },
  {
   "cell_type": "code",
   "execution_count": 61,
   "metadata": {
    "id": "WL6PtOmFnWFV"
   },
   "outputs": [],
   "source": [
    "orders_by_users_a.columns = ['user_id', 'orders']"
   ]
  },
  {
   "cell_type": "code",
   "execution_count": 62,
   "metadata": {
    "id": "Sl3GWZXnOjD0"
   },
   "outputs": [],
   "source": [
    "# таблица кол заказов группы В\n",
    "orders_by_users_b = (\n",
    "    o[o['group'] == 'B']\n",
    "    .groupby('visitor_id', as_index=False)\n",
    "    .agg({'transaction_id': 'nunique'}))"
   ]
  },
  {
   "cell_type": "code",
   "execution_count": 63,
   "metadata": {
    "id": "p1JZzVyxnSOC"
   },
   "outputs": [],
   "source": [
    "orders_by_users_b.columns = ['user_id', 'orders']"
   ]
  },
  {
   "cell_type": "code",
   "execution_count": 64,
   "metadata": {
    "id": "aSHNfgliPKWh"
   },
   "outputs": [],
   "source": [
    "sample_a = pd.concat(\n",
    "    [orders_by_users_a['orders'],\n",
    "     pd.Series(0,\n",
    "               index=np.arange(df['visitors_date_a'].sum() -\n",
    "                               len(orders_by_users_a['orders'])),\n",
    "               name='orders')],\n",
    "    axis=0)"
   ]
  },
  {
   "cell_type": "code",
   "execution_count": 65,
   "metadata": {
    "id": "cY2w6GufPKd_"
   },
   "outputs": [],
   "source": [
    "sample_b = pd.concat(\n",
    "    [orders_by_users_b['orders'],\n",
    "     pd.Series(0,\n",
    "               index=np.arange(df['visitors_date_b'].sum() -\n",
    "                               len(orders_by_users_b['orders'])),\n",
    "               name='orders')],\n",
    "    axis=0)"
   ]
  },
  {
   "cell_type": "code",
   "execution_count": 66,
   "metadata": {
    "colab": {
     "base_uri": "https://localhost:8080/"
    },
    "id": "6mBNk1Wp9aKd",
    "outputId": "4c02ee75-2537-4c81-9d02-40491730806b"
   },
   "outputs": [
    {
     "name": "stdout",
     "output_type": "stream",
     "text": [
      "p-value: 0.017\n",
      "разница в конверсии кол заказов 0.138\n"
     ]
    }
   ],
   "source": [
    "print('p-value:', \"{0:.3f}\".format(\n",
    "    stats.mannwhitneyu(sample_a, sample_b,\n",
    "                       alternative='two-sided')[1]))\n",
    "\n",
    "print('разница в конверсии кол заказов', \"{0:.3f}\".format(\n",
    "    sample_b.mean() / sample_a.mean() - 1))"
   ]
  },
  {
   "cell_type": "markdown",
   "metadata": {
    "id": "Lo73r_r0qql5"
   },
   "source": [
    "### Вывод:\n",
    "p-value == 0.017 > alpha == 0.01 \n",
    "\n",
    "Н0 отвергнуть не получилось, значимой разницы в конверсии между группами не наблюдается\n",
    "\n",
    "Разница в конверсии между группами 0.138, у группы В конверсия больше"
   ]
  },
  {
   "cell_type": "markdown",
   "metadata": {
    "id": "khJra9pGSjk-"
   },
   "source": [
    "## Статистическая значимость различий в среднем чеке заказа между группами по «сырым» данным."
   ]
  },
  {
   "cell_type": "markdown",
   "metadata": {
    "id": "y1rGLd8hU_EL"
   },
   "source": [
    "Н0: различий в среднем чеке, между группами, нет.\n",
    "\n",
    "H1: различия в среднем чеке, между группами, есть.\n",
    "\n",
    "Alpha == 0.01\n"
   ]
  },
  {
   "cell_type": "code",
   "execution_count": 67,
   "metadata": {
    "colab": {
     "base_uri": "https://localhost:8080/"
    },
    "id": "4E2eCz90QAY7",
    "outputId": "738ea620-3d53-4450-a121-e48722e7ab0d"
   },
   "outputs": [
    {
     "name": "stdout",
     "output_type": "stream",
     "text": [
      "p-value: 0.729\n",
      "разница конверсии среднего чека 0.259\n"
     ]
    }
   ],
   "source": [
    "print('p-value:', '{0:.3f}'.format(\n",
    "    stats.mannwhitneyu(\n",
    "        o[o['group'] == 'A']['revenue'],\n",
    "        o[o['group'] == 'B']['revenue'],\n",
    "        alternative='two-sided')[1]))\n",
    "\n",
    "print('разница конверсии среднего чека', '{0:.3f}'.format(\n",
    "    o[o['group'] == 'B']['revenue'].mean() /\n",
    "    o[o['group'] == 'A']['revenue'].mean()-1))"
   ]
  },
  {
   "cell_type": "markdown",
   "metadata": {
    "id": "A_l-27p2s9GU"
   },
   "source": [
    "### Вывод:\n",
    "p-value == 0.729 > alpha == 0.01 \n",
    "\n",
    "Н0 отвергнуть не получилось, значимой разницы в среднем чеке между группами не наблюдается\n",
    "\n",
    "Разница в конверсии среднего чека между группами 0.259, у группы В средний чек выше"
   ]
  },
  {
   "cell_type": "markdown",
   "metadata": {
    "id": "94UfOBggVSez"
   },
   "source": [
    "## Статистическая значимость различий в конверсии между группами по «очищенным» данным."
   ]
  },
  {
   "cell_type": "markdown",
   "metadata": {
    "id": "sX0FMA_nXx_8"
   },
   "source": [
    "Н0: различий в конверсии, между группами без выбросов, нет.\n",
    "\n",
    "H1: различия в конверсии, между группами без выбросов, есть.\n",
    "\n",
    "Alpha == 0.01"
   ]
  },
  {
   "cell_type": "code",
   "execution_count": 68,
   "metadata": {
    "colab": {
     "base_uri": "https://localhost:8080/"
    },
    "id": "ZjZkf9otQAbL",
    "outputId": "eec09fda-496d-45ab-c6dd-789f901a297b"
   },
   "outputs": [
    {
     "name": "stdout",
     "output_type": "stream",
     "text": [
      "1099    148427295\n",
      "18      199603092\n",
      "928     204675465\n",
      "23      237748145\n",
      "684     358944393\n",
      "dtype: int64\n",
      "63\n"
     ]
    }
   ],
   "source": [
    "users_with_many_orders = pd.concat(\n",
    "    [\n",
    "        orders_by_users_a[orders_by_users_a['orders'] >= 4]['user_id'],\n",
    "        orders_by_users_b[orders_by_users_b['orders'] >= 4]['user_id'],\n",
    "    ],\n",
    "    axis=0,\n",
    ")\n",
    "users_with_expensive_orders = o[o['revenue'] >= 28000]['visitor_id']\n",
    "\n",
    "abnormal_users = (\n",
    "    pd.concat([users_with_many_orders, users_with_expensive_orders], axis=0)\n",
    "    .drop_duplicates()\n",
    "    .sort_values()\n",
    ")\n",
    "print(abnormal_users.head())\n",
    "print(abnormal_users.shape[0])"
   ]
  },
  {
   "cell_type": "code",
   "execution_count": 69,
   "metadata": {
    "id": "YwnD7GAsQAgf"
   },
   "outputs": [],
   "source": [
    "sample_a_filtered = pd.concat([orders_by_users_a[np.logical_not(orders_by_users_a['user_id'].isin(abnormal_users))]['orders'],\n",
    "                               pd.Series(0,\n",
    "                                         index=np.arange(df['visitors_date_a'].sum(\n",
    "                                         ) - len(orders_by_users_a['orders'])),\n",
    "                                         name='orders')], axis=0)\n",
    "\n",
    "sample_b_filtered = pd.concat([orders_by_users_b[np.logical_not(orders_by_users_b['user_id'].isin(abnormal_users))]['orders'],\n",
    "                               pd.Series(0,\n",
    "                                         index=np.arange(df['visitors_date_b'].sum(\n",
    "                                         ) - len(orders_by_users_b['orders'])),\n",
    "                                         name='orders')], axis=0)"
   ]
  },
  {
   "cell_type": "code",
   "execution_count": 70,
   "metadata": {
    "colab": {
     "base_uri": "https://localhost:8080/"
    },
    "id": "wk6jHnERQAjK",
    "outputId": "5f94bf6e-d025-4e30-f98a-4e276d1c8d08"
   },
   "outputs": [
    {
     "name": "stdout",
     "output_type": "stream",
     "text": [
      "p-value: 0.018\n",
      "разница в конверсии 0.148\n"
     ]
    }
   ],
   "source": [
    "print('p-value:', \"{0:.3f}\".format(stats.mannwhitneyu(sample_a_filtered, sample_b_filtered,\n",
    "                                                      alternative='two-sided')[1]))\n",
    "\n",
    "print('разница в конверсии', \"{0:.3f}\".format(\n",
    "    sample_b_filtered.mean() / sample_a_filtered.mean() - 1))"
   ]
  },
  {
   "cell_type": "markdown",
   "metadata": {
    "id": "uqxNx6QaujlP"
   },
   "source": [
    "### Вывод:\n",
    "p-value == 0.018 > alpha == 0.01 \n",
    "\n",
    "Н0 отвергнуть не получилось, значимой разницы в конверсии между группами не наблюдается\n",
    "\n",
    "Разница в конверсии между группами 0.148, у группы В конверсия больше. \n",
    "\n",
    "После удаления выбросов, ситуация не сильно поменялась."
   ]
  },
  {
   "cell_type": "markdown",
   "metadata": {
    "id": "mlbMgdZEYR6T"
   },
   "source": [
    "## Статистическая значимость различий в среднем чеке заказа между группами по «очищенным» данным."
   ]
  },
  {
   "cell_type": "markdown",
   "metadata": {
    "id": "13b06Ys9YZWy"
   },
   "source": [
    "Н0: различий в среднем чеке, между группами без выбросов, нет.\n",
    "\n",
    "H1: различия в среднем чеке, между группами без выбросов, есть.\n",
    "\n",
    "Alpha == 0.01"
   ]
  },
  {
   "cell_type": "code",
   "execution_count": 71,
   "metadata": {
    "colab": {
     "base_uri": "https://localhost:8080/"
    },
    "id": "pfjknZQ_YPlN",
    "outputId": "6ae94ddf-c1ce-4936-df76-df3986130acb"
   },
   "outputs": [
    {
     "name": "stdout",
     "output_type": "stream",
     "text": [
      "p-value: 0.977\n",
      "разница в конверсии по среднему чеку -0.017\n"
     ]
    }
   ],
   "source": [
    "print('p-value:', '{0:.3f}'.format(stats.mannwhitneyu(\n",
    "    o[np.logical_and(o['group'] == 'A',\n",
    "                     np.logical_not(o['visitor_id'].isin(abnormal_users)))]['revenue'],\n",
    "    o[np.logical_and(o['group'] == 'B',\n",
    "                     np.logical_not(o['visitor_id'].isin(abnormal_users)))]['revenue'],\n",
    "    alternative='two-sided')[1]))\n",
    "\n",
    "print('разница в конверсии по среднему чеку', \"{0:.3f}\".format(\n",
    "    o[np.logical_and(o['group'] == 'B',\n",
    "                     np.logical_not(o['visitor_id'].isin(abnormal_users)))]['revenue'].mean() /\n",
    "    o[np.logical_and(o['group'] == 'A',\n",
    "                     np.logical_not(o['visitor_id'].isin(abnormal_users)))]['revenue'].mean() - 1))"
   ]
  },
  {
   "cell_type": "markdown",
   "metadata": {
    "id": "h_z_h1hSveUz"
   },
   "source": [
    "### Вывод:\n",
    "p-value == 0.977 > alpha == 0.01 \n",
    "\n",
    "Н0 отвергнуть не получилось, значимой разницы в среднем чеке между группами не наблюдается\n",
    "\n",
    "Разница в конверсии среднего чека между группами -0.017, у группы А средний чек выше. Ситуация с разницой конверсии среднего чека сильно поменялась. После удаления аномальных значений, средний чек групп А и В фактически сравнялся."
   ]
  },
  {
   "cell_type": "markdown",
   "metadata": {
    "id": "dGTvwaMJnL3B"
   },
   "source": [
    "## Общий вывод\n",
    "\n",
    "*   Во время тестирования по сырым данным, статистически важных различий между конверсией групп А и В обнаружено не было. Статистически важных различий в конверсии среднего чека групп А и В, по сырым данным, обнаружено не было. \n",
    "*   По очищенным данным, так же статистически важных различий в конверсии между группами А и В обнаружено не было. Статистически важных различий, по очищенным данным, между конверсией среднего чека групп А и В, обнаружено не было\n",
    "\n",
    "\n",
    "> На основании полученных данных принято решение: **остановить тест, различий между группами не наблюдается**."
   ]
  }
 ],
 "metadata": {
  "ExecuteTimeLog": [
   {
    "duration": 1125,
    "start_time": "2022-07-10T17:01:32.946Z"
   },
   {
    "duration": 1133,
    "start_time": "2022-07-10T17:01:34.073Z"
   },
   {
    "duration": 244,
    "start_time": "2022-07-10T17:01:35.208Z"
   },
   {
    "duration": 3,
    "start_time": "2022-07-10T17:01:35.454Z"
   },
   {
    "duration": 21,
    "start_time": "2022-07-10T17:01:35.459Z"
   },
   {
    "duration": 4,
    "start_time": "2022-07-10T17:01:35.481Z"
   },
   {
    "duration": 8,
    "start_time": "2022-07-10T17:01:35.486Z"
   },
   {
    "duration": 10,
    "start_time": "2022-07-10T17:01:35.496Z"
   },
   {
    "duration": 4,
    "start_time": "2022-07-10T17:01:35.508Z"
   },
   {
    "duration": 13,
    "start_time": "2022-07-10T17:01:35.513Z"
   },
   {
    "duration": 28,
    "start_time": "2022-07-10T17:01:35.528Z"
   },
   {
    "duration": 4,
    "start_time": "2022-07-10T17:01:35.558Z"
   },
   {
    "duration": 6,
    "start_time": "2022-07-10T17:01:35.564Z"
   },
   {
    "duration": 13,
    "start_time": "2022-07-10T17:01:35.574Z"
   },
   {
    "duration": 11,
    "start_time": "2022-07-10T17:01:35.589Z"
   },
   {
    "duration": 10,
    "start_time": "2022-07-10T17:01:35.603Z"
   },
   {
    "duration": 8,
    "start_time": "2022-07-10T17:01:35.615Z"
   },
   {
    "duration": 11,
    "start_time": "2022-07-10T17:01:35.653Z"
   },
   {
    "duration": 16,
    "start_time": "2022-07-10T17:01:35.666Z"
   },
   {
    "duration": 9,
    "start_time": "2022-07-10T17:01:35.684Z"
   },
   {
    "duration": 11,
    "start_time": "2022-07-10T17:01:35.695Z"
   },
   {
    "duration": 173,
    "start_time": "2022-07-10T17:01:35.708Z"
   },
   {
    "duration": 10,
    "start_time": "2022-07-10T17:01:35.883Z"
   },
   {
    "duration": 130,
    "start_time": "2022-07-10T17:01:35.894Z"
   },
   {
    "duration": 11,
    "start_time": "2022-07-10T17:01:36.026Z"
   },
   {
    "duration": 6,
    "start_time": "2022-07-10T17:01:36.053Z"
   },
   {
    "duration": 8,
    "start_time": "2022-07-10T17:01:36.061Z"
   },
   {
    "duration": 13,
    "start_time": "2022-07-10T17:01:36.071Z"
   },
   {
    "duration": 4,
    "start_time": "2022-07-10T17:01:36.085Z"
   },
   {
    "duration": 6,
    "start_time": "2022-07-10T17:01:36.090Z"
   },
   {
    "duration": 251,
    "start_time": "2022-07-10T17:01:36.097Z"
   },
   {
    "duration": 165,
    "start_time": "2022-07-10T17:01:36.349Z"
   },
   {
    "duration": 5,
    "start_time": "2022-07-10T17:01:36.516Z"
   },
   {
    "duration": 336,
    "start_time": "2022-07-10T17:01:36.522Z"
   },
   {
    "duration": 3,
    "start_time": "2022-07-10T17:01:36.860Z"
   },
   {
    "duration": 7,
    "start_time": "2022-07-10T17:01:36.865Z"
   },
   {
    "duration": 12,
    "start_time": "2022-07-10T17:01:36.873Z"
   },
   {
    "duration": 7,
    "start_time": "2022-07-10T17:01:36.886Z"
   },
   {
    "duration": 179,
    "start_time": "2022-07-10T17:01:36.895Z"
   },
   {
    "duration": 7,
    "start_time": "2022-07-10T17:01:37.075Z"
   },
   {
    "duration": 269,
    "start_time": "2022-07-10T17:01:37.085Z"
   },
   {
    "duration": 5,
    "start_time": "2022-07-10T17:01:37.355Z"
   },
   {
    "duration": 124,
    "start_time": "2022-07-10T17:01:37.362Z"
   },
   {
    "duration": 5,
    "start_time": "2022-07-10T17:01:37.487Z"
   },
   {
    "duration": 144,
    "start_time": "2022-07-10T17:01:37.493Z"
   },
   {
    "duration": 4,
    "start_time": "2022-07-10T17:01:37.639Z"
   },
   {
    "duration": 5,
    "start_time": "2022-07-10T17:01:37.652Z"
   },
   {
    "duration": 6,
    "start_time": "2022-07-10T17:01:37.659Z"
   },
   {
    "duration": 45,
    "start_time": "2022-07-10T17:01:37.667Z"
   },
   {
    "duration": 54,
    "start_time": "2022-07-10T17:01:37.714Z"
   },
   {
    "duration": 13,
    "start_time": "2022-07-10T17:01:37.770Z"
   },
   {
    "duration": 12,
    "start_time": "2022-07-10T17:01:37.784Z"
   },
   {
    "duration": 64,
    "start_time": "2022-07-10T17:01:37.797Z"
   },
   {
    "duration": 44,
    "start_time": "2022-07-10T17:01:37.862Z"
   },
   {
    "duration": 19,
    "start_time": "2022-07-10T17:01:37.908Z"
   },
   {
    "duration": 25,
    "start_time": "2022-07-10T17:01:37.928Z"
   },
   {
    "duration": 8,
    "start_time": "2022-07-10T17:01:37.954Z"
   },
   {
    "duration": 4,
    "start_time": "2022-07-10T17:01:37.963Z"
   },
   {
    "duration": 8,
    "start_time": "2022-07-10T17:01:37.968Z"
   },
   {
    "duration": 3,
    "start_time": "2022-07-10T17:01:37.978Z"
   },
   {
    "duration": 6,
    "start_time": "2022-07-10T17:01:37.983Z"
   },
   {
    "duration": 4,
    "start_time": "2022-07-10T17:01:37.990Z"
   },
   {
    "duration": 22,
    "start_time": "2022-07-10T17:01:37.996Z"
   },
   {
    "duration": 34,
    "start_time": "2022-07-10T17:01:38.019Z"
   },
   {
    "duration": 8,
    "start_time": "2022-07-10T17:01:38.054Z"
   },
   {
    "duration": 8,
    "start_time": "2022-07-10T17:01:38.063Z"
   },
   {
    "duration": 19,
    "start_time": "2022-07-10T17:01:38.072Z"
   },
   {
    "duration": 12,
    "start_time": "2022-07-10T17:01:38.092Z"
   },
   {
    "duration": 10,
    "start_time": "2022-07-10T17:40:59.793Z"
   },
   {
    "duration": 11,
    "start_time": "2022-07-10T17:41:05.551Z"
   },
   {
    "duration": 8,
    "start_time": "2022-07-10T23:44:37.911Z"
   },
   {
    "duration": 235,
    "start_time": "2022-07-10T23:45:42.081Z"
   },
   {
    "duration": 5,
    "start_time": "2022-07-11T00:00:41.304Z"
   },
   {
    "duration": 1086,
    "start_time": "2022-07-11T04:11:03.038Z"
   },
   {
    "duration": 1139,
    "start_time": "2022-07-11T04:11:04.126Z"
   },
   {
    "duration": 103,
    "start_time": "2022-07-11T04:11:05.267Z"
   },
   {
    "duration": 2,
    "start_time": "2022-07-11T04:11:05.371Z"
   },
   {
    "duration": 12,
    "start_time": "2022-07-11T04:11:05.375Z"
   },
   {
    "duration": 2,
    "start_time": "2022-07-11T04:11:05.388Z"
   },
   {
    "duration": 6,
    "start_time": "2022-07-11T04:11:05.392Z"
   },
   {
    "duration": 13,
    "start_time": "2022-07-11T04:11:05.399Z"
   },
   {
    "duration": 16,
    "start_time": "2022-07-11T04:11:05.413Z"
   },
   {
    "duration": 11,
    "start_time": "2022-07-11T04:11:05.430Z"
   },
   {
    "duration": 8,
    "start_time": "2022-07-11T04:11:05.443Z"
   },
   {
    "duration": 4,
    "start_time": "2022-07-11T04:11:05.452Z"
   },
   {
    "duration": 6,
    "start_time": "2022-07-11T04:11:05.458Z"
   },
   {
    "duration": 9,
    "start_time": "2022-07-11T04:11:05.467Z"
   },
   {
    "duration": 7,
    "start_time": "2022-07-11T04:11:05.477Z"
   },
   {
    "duration": 6,
    "start_time": "2022-07-11T04:11:05.485Z"
   },
   {
    "duration": 6,
    "start_time": "2022-07-11T04:11:05.493Z"
   },
   {
    "duration": 9,
    "start_time": "2022-07-11T04:11:05.500Z"
   },
   {
    "duration": 31,
    "start_time": "2022-07-11T04:11:05.511Z"
   },
   {
    "duration": 14,
    "start_time": "2022-07-11T04:11:05.544Z"
   },
   {
    "duration": 15,
    "start_time": "2022-07-11T04:11:05.559Z"
   },
   {
    "duration": 151,
    "start_time": "2022-07-11T04:11:05.575Z"
   },
   {
    "duration": 16,
    "start_time": "2022-07-11T04:11:05.728Z"
   },
   {
    "duration": 112,
    "start_time": "2022-07-11T04:11:05.745Z"
   },
   {
    "duration": 9,
    "start_time": "2022-07-11T04:11:05.858Z"
   },
   {
    "duration": 6,
    "start_time": "2022-07-11T04:11:05.869Z"
   },
   {
    "duration": 11,
    "start_time": "2022-07-11T04:11:05.876Z"
   },
   {
    "duration": 12,
    "start_time": "2022-07-11T04:11:05.889Z"
   },
   {
    "duration": 4,
    "start_time": "2022-07-11T04:11:05.902Z"
   },
   {
    "duration": 6,
    "start_time": "2022-07-11T04:11:05.907Z"
   },
   {
    "duration": 246,
    "start_time": "2022-07-11T04:11:05.915Z"
   },
   {
    "duration": 160,
    "start_time": "2022-07-11T04:11:06.162Z"
   },
   {
    "duration": 5,
    "start_time": "2022-07-11T04:11:06.324Z"
   },
   {
    "duration": 321,
    "start_time": "2022-07-11T04:11:06.330Z"
   },
   {
    "duration": 3,
    "start_time": "2022-07-11T04:11:06.653Z"
   },
   {
    "duration": 7,
    "start_time": "2022-07-11T04:11:06.657Z"
   },
   {
    "duration": 10,
    "start_time": "2022-07-11T04:11:06.665Z"
   },
   {
    "duration": 12,
    "start_time": "2022-07-11T04:11:06.676Z"
   },
   {
    "duration": 156,
    "start_time": "2022-07-11T04:11:06.689Z"
   },
   {
    "duration": 8,
    "start_time": "2022-07-11T04:11:06.846Z"
   },
   {
    "duration": 255,
    "start_time": "2022-07-11T04:11:06.858Z"
   },
   {
    "duration": 5,
    "start_time": "2022-07-11T04:11:07.114Z"
   },
   {
    "duration": 115,
    "start_time": "2022-07-11T04:11:07.120Z"
   },
   {
    "duration": 5,
    "start_time": "2022-07-11T04:11:07.241Z"
   },
   {
    "duration": 123,
    "start_time": "2022-07-11T04:11:07.247Z"
   },
   {
    "duration": 4,
    "start_time": "2022-07-11T04:11:07.371Z"
   },
   {
    "duration": 6,
    "start_time": "2022-07-11T04:11:07.377Z"
   },
   {
    "duration": 6,
    "start_time": "2022-07-11T04:11:07.385Z"
   },
   {
    "duration": 56,
    "start_time": "2022-07-11T04:11:07.392Z"
   },
   {
    "duration": 44,
    "start_time": "2022-07-11T04:11:07.449Z"
   },
   {
    "duration": 13,
    "start_time": "2022-07-11T04:11:07.495Z"
   },
   {
    "duration": 11,
    "start_time": "2022-07-11T04:11:07.510Z"
   },
   {
    "duration": 54,
    "start_time": "2022-07-11T04:11:07.523Z"
   },
   {
    "duration": 44,
    "start_time": "2022-07-11T04:11:07.579Z"
   },
   {
    "duration": 33,
    "start_time": "2022-07-11T04:11:07.624Z"
   },
   {
    "duration": 8,
    "start_time": "2022-07-11T04:11:07.658Z"
   },
   {
    "duration": 7,
    "start_time": "2022-07-11T04:11:07.668Z"
   },
   {
    "duration": 3,
    "start_time": "2022-07-11T04:11:07.677Z"
   },
   {
    "duration": 8,
    "start_time": "2022-07-11T04:11:07.682Z"
   },
   {
    "duration": 8,
    "start_time": "2022-07-11T04:11:07.691Z"
   },
   {
    "duration": 5,
    "start_time": "2022-07-11T04:11:07.701Z"
   },
   {
    "duration": 4,
    "start_time": "2022-07-11T04:11:07.708Z"
   },
   {
    "duration": 41,
    "start_time": "2022-07-11T04:11:07.714Z"
   },
   {
    "duration": 9,
    "start_time": "2022-07-11T04:11:07.757Z"
   },
   {
    "duration": 8,
    "start_time": "2022-07-11T04:11:07.767Z"
   },
   {
    "duration": 10,
    "start_time": "2022-07-11T04:11:07.776Z"
   },
   {
    "duration": 22,
    "start_time": "2022-07-11T04:11:07.787Z"
   },
   {
    "duration": 34,
    "start_time": "2022-07-11T04:11:07.810Z"
   },
   {
    "duration": 259,
    "start_time": "2022-07-11T04:15:20.463Z"
   },
   {
    "duration": 333,
    "start_time": "2022-07-11T04:16:16.789Z"
   },
   {
    "duration": 5,
    "start_time": "2022-07-11T04:18:23.991Z"
   },
   {
    "duration": 81,
    "start_time": "2022-07-11T04:18:30.347Z"
   },
   {
    "duration": 4,
    "start_time": "2022-07-11T04:18:36.635Z"
   },
   {
    "duration": 4,
    "start_time": "2022-07-11T04:19:01.613Z"
   },
   {
    "duration": 13,
    "start_time": "2022-07-11T04:21:07.453Z"
   },
   {
    "duration": 129,
    "start_time": "2022-07-11T04:21:40.737Z"
   },
   {
    "duration": 8,
    "start_time": "2022-07-11T04:22:00.737Z"
   },
   {
    "duration": 4,
    "start_time": "2022-07-11T04:23:01.750Z"
   },
   {
    "duration": 114,
    "start_time": "2022-07-11T04:23:07.942Z"
   },
   {
    "duration": 6,
    "start_time": "2022-07-11T04:48:51.595Z"
   },
   {
    "duration": 195,
    "start_time": "2022-07-11T04:48:54.080Z"
   },
   {
    "duration": 244,
    "start_time": "2022-07-11T04:49:04.427Z"
   },
   {
    "duration": 8,
    "start_time": "2022-07-11T04:51:26.187Z"
   },
   {
    "duration": 172,
    "start_time": "2022-07-11T04:51:26.494Z"
   },
   {
    "duration": 8,
    "start_time": "2022-07-11T04:51:49.877Z"
   },
   {
    "duration": 6,
    "start_time": "2022-07-11T04:52:40.840Z"
   },
   {
    "duration": 46,
    "start_time": "2022-07-11T04:52:45.130Z"
   },
   {
    "duration": 257,
    "start_time": "2022-07-11T04:53:00.448Z"
   },
   {
    "duration": 58,
    "start_time": "2022-07-11T04:53:22.651Z"
   },
   {
    "duration": 192,
    "start_time": "2022-07-11T04:53:29.495Z"
   },
   {
    "duration": 2,
    "start_time": "2022-07-11T04:54:06.222Z"
   },
   {
    "duration": 175,
    "start_time": "2022-07-11T04:54:07.739Z"
   },
   {
    "duration": 190,
    "start_time": "2022-07-11T04:54:14.256Z"
   },
   {
    "duration": 185,
    "start_time": "2022-07-11T05:05:43.425Z"
   },
   {
    "duration": 176,
    "start_time": "2022-07-11T05:05:57.484Z"
   },
   {
    "duration": 3,
    "start_time": "2022-07-11T05:06:52.699Z"
   },
   {
    "duration": 252,
    "start_time": "2022-07-11T05:06:53.032Z"
   },
   {
    "duration": 185,
    "start_time": "2022-07-11T05:07:26.793Z"
   },
   {
    "duration": 184,
    "start_time": "2022-07-11T05:08:11.282Z"
   },
   {
    "duration": 172,
    "start_time": "2022-07-11T05:08:31.894Z"
   },
   {
    "duration": 186,
    "start_time": "2022-07-11T05:08:41.570Z"
   },
   {
    "duration": 175,
    "start_time": "2022-07-11T05:08:47.735Z"
   },
   {
    "duration": 188,
    "start_time": "2022-07-11T05:17:10.950Z"
   },
   {
    "duration": 113,
    "start_time": "2022-07-11T05:17:39.583Z"
   },
   {
    "duration": 120,
    "start_time": "2022-07-11T05:18:03.372Z"
   },
   {
    "duration": 112,
    "start_time": "2022-07-11T05:18:13.487Z"
   },
   {
    "duration": 1213,
    "start_time": "2022-07-11T10:59:13.030Z"
   },
   {
    "duration": 1231,
    "start_time": "2022-07-11T10:59:14.245Z"
   },
   {
    "duration": 235,
    "start_time": "2022-07-11T10:59:15.478Z"
   },
   {
    "duration": 2,
    "start_time": "2022-07-11T10:59:15.716Z"
   },
   {
    "duration": 15,
    "start_time": "2022-07-11T10:59:15.720Z"
   },
   {
    "duration": 3,
    "start_time": "2022-07-11T10:59:15.737Z"
   },
   {
    "duration": 12,
    "start_time": "2022-07-11T10:59:15.741Z"
   },
   {
    "duration": 10,
    "start_time": "2022-07-11T10:59:15.755Z"
   },
   {
    "duration": 7,
    "start_time": "2022-07-11T10:59:15.767Z"
   },
   {
    "duration": 13,
    "start_time": "2022-07-11T10:59:15.777Z"
   },
   {
    "duration": 18,
    "start_time": "2022-07-11T10:59:15.791Z"
   },
   {
    "duration": 6,
    "start_time": "2022-07-11T10:59:15.810Z"
   },
   {
    "duration": 6,
    "start_time": "2022-07-11T10:59:15.817Z"
   },
   {
    "duration": 15,
    "start_time": "2022-07-11T10:59:15.825Z"
   },
   {
    "duration": 6,
    "start_time": "2022-07-11T10:59:15.842Z"
   },
   {
    "duration": 9,
    "start_time": "2022-07-11T10:59:15.850Z"
   },
   {
    "duration": 7,
    "start_time": "2022-07-11T10:59:15.860Z"
   },
   {
    "duration": 37,
    "start_time": "2022-07-11T10:59:15.868Z"
   },
   {
    "duration": 6,
    "start_time": "2022-07-11T10:59:15.907Z"
   },
   {
    "duration": 9,
    "start_time": "2022-07-11T10:59:15.914Z"
   },
   {
    "duration": 6,
    "start_time": "2022-07-11T10:59:15.925Z"
   },
   {
    "duration": 178,
    "start_time": "2022-07-11T10:59:15.933Z"
   },
   {
    "duration": 11,
    "start_time": "2022-07-11T10:59:16.113Z"
   },
   {
    "duration": 139,
    "start_time": "2022-07-11T10:59:16.125Z"
   },
   {
    "duration": 10,
    "start_time": "2022-07-11T10:59:16.266Z"
   },
   {
    "duration": 7,
    "start_time": "2022-07-11T10:59:16.278Z"
   },
   {
    "duration": 18,
    "start_time": "2022-07-11T10:59:16.286Z"
   },
   {
    "duration": 13,
    "start_time": "2022-07-11T10:59:16.308Z"
   },
   {
    "duration": 6,
    "start_time": "2022-07-11T10:59:16.323Z"
   },
   {
    "duration": 8,
    "start_time": "2022-07-11T10:59:16.330Z"
   },
   {
    "duration": 5,
    "start_time": "2022-07-11T10:59:16.340Z"
   },
   {
    "duration": 74,
    "start_time": "2022-07-11T10:59:16.346Z"
   },
   {
    "duration": 0,
    "start_time": "2022-07-11T10:59:16.422Z"
   },
   {
    "duration": 0,
    "start_time": "2022-07-11T10:59:16.423Z"
   },
   {
    "duration": 0,
    "start_time": "2022-07-11T10:59:16.425Z"
   },
   {
    "duration": 0,
    "start_time": "2022-07-11T10:59:16.426Z"
   },
   {
    "duration": 0,
    "start_time": "2022-07-11T10:59:16.427Z"
   },
   {
    "duration": 0,
    "start_time": "2022-07-11T10:59:16.428Z"
   },
   {
    "duration": 0,
    "start_time": "2022-07-11T10:59:16.429Z"
   },
   {
    "duration": 0,
    "start_time": "2022-07-11T10:59:16.432Z"
   },
   {
    "duration": 0,
    "start_time": "2022-07-11T10:59:16.433Z"
   },
   {
    "duration": 0,
    "start_time": "2022-07-11T10:59:16.434Z"
   },
   {
    "duration": 0,
    "start_time": "2022-07-11T10:59:16.436Z"
   },
   {
    "duration": 0,
    "start_time": "2022-07-11T10:59:16.437Z"
   },
   {
    "duration": 0,
    "start_time": "2022-07-11T10:59:16.438Z"
   },
   {
    "duration": 0,
    "start_time": "2022-07-11T10:59:16.440Z"
   },
   {
    "duration": 0,
    "start_time": "2022-07-11T10:59:16.441Z"
   },
   {
    "duration": 0,
    "start_time": "2022-07-11T10:59:16.442Z"
   },
   {
    "duration": 0,
    "start_time": "2022-07-11T10:59:16.443Z"
   },
   {
    "duration": 0,
    "start_time": "2022-07-11T10:59:16.444Z"
   },
   {
    "duration": 0,
    "start_time": "2022-07-11T10:59:16.445Z"
   },
   {
    "duration": 0,
    "start_time": "2022-07-11T10:59:16.446Z"
   },
   {
    "duration": 0,
    "start_time": "2022-07-11T10:59:16.448Z"
   },
   {
    "duration": 0,
    "start_time": "2022-07-11T10:59:16.449Z"
   },
   {
    "duration": 0,
    "start_time": "2022-07-11T10:59:16.450Z"
   },
   {
    "duration": 0,
    "start_time": "2022-07-11T10:59:16.451Z"
   },
   {
    "duration": 0,
    "start_time": "2022-07-11T10:59:16.453Z"
   },
   {
    "duration": 0,
    "start_time": "2022-07-11T10:59:16.454Z"
   },
   {
    "duration": 0,
    "start_time": "2022-07-11T10:59:16.455Z"
   },
   {
    "duration": 0,
    "start_time": "2022-07-11T10:59:16.456Z"
   },
   {
    "duration": 0,
    "start_time": "2022-07-11T10:59:16.457Z"
   },
   {
    "duration": 0,
    "start_time": "2022-07-11T10:59:16.458Z"
   },
   {
    "duration": 0,
    "start_time": "2022-07-11T10:59:16.459Z"
   },
   {
    "duration": 0,
    "start_time": "2022-07-11T10:59:16.504Z"
   },
   {
    "duration": 0,
    "start_time": "2022-07-11T10:59:16.505Z"
   },
   {
    "duration": 0,
    "start_time": "2022-07-11T10:59:16.507Z"
   },
   {
    "duration": 0,
    "start_time": "2022-07-11T10:59:16.508Z"
   },
   {
    "duration": 0,
    "start_time": "2022-07-11T10:59:16.509Z"
   },
   {
    "duration": 0,
    "start_time": "2022-07-11T10:59:16.510Z"
   },
   {
    "duration": 301,
    "start_time": "2022-07-11T11:01:03.593Z"
   },
   {
    "duration": 298,
    "start_time": "2022-07-11T11:08:38.464Z"
   },
   {
    "duration": 31,
    "start_time": "2022-07-11T11:08:54.853Z"
   },
   {
    "duration": 222,
    "start_time": "2022-07-11T11:08:56.992Z"
   },
   {
    "duration": 3,
    "start_time": "2022-07-11T11:11:02.418Z"
   },
   {
    "duration": 130,
    "start_time": "2022-07-11T11:11:34.220Z"
   },
   {
    "duration": 130,
    "start_time": "2022-07-11T11:12:01.790Z"
   },
   {
    "duration": 136,
    "start_time": "2022-07-11T11:12:05.995Z"
   },
   {
    "duration": 216,
    "start_time": "2022-07-11T11:12:10.938Z"
   },
   {
    "duration": 5,
    "start_time": "2022-07-11T11:13:16.348Z"
   },
   {
    "duration": 89,
    "start_time": "2022-07-11T11:13:29.576Z"
   },
   {
    "duration": 201,
    "start_time": "2022-07-11T11:13:33.402Z"
   },
   {
    "duration": 236,
    "start_time": "2022-07-11T11:16:06.615Z"
   },
   {
    "duration": 181,
    "start_time": "2022-07-11T11:18:32.225Z"
   },
   {
    "duration": 211,
    "start_time": "2022-07-11T11:18:44.313Z"
   },
   {
    "duration": 215,
    "start_time": "2022-07-11T11:18:57.134Z"
   },
   {
    "duration": 200,
    "start_time": "2022-07-11T11:26:21.307Z"
   },
   {
    "duration": 217,
    "start_time": "2022-07-11T11:26:28.272Z"
   },
   {
    "duration": 15,
    "start_time": "2022-07-11T11:26:28.491Z"
   },
   {
    "duration": 350,
    "start_time": "2022-07-11T11:26:28.508Z"
   },
   {
    "duration": 4,
    "start_time": "2022-07-11T11:26:28.860Z"
   },
   {
    "duration": 8,
    "start_time": "2022-07-11T11:26:28.865Z"
   },
   {
    "duration": 11,
    "start_time": "2022-07-11T11:26:28.875Z"
   },
   {
    "duration": 16,
    "start_time": "2022-07-11T11:26:28.888Z"
   },
   {
    "duration": 200,
    "start_time": "2022-07-11T11:26:28.906Z"
   },
   {
    "duration": 8,
    "start_time": "2022-07-11T11:26:29.108Z"
   },
   {
    "duration": 296,
    "start_time": "2022-07-11T11:26:29.119Z"
   },
   {
    "duration": 6,
    "start_time": "2022-07-11T11:26:29.417Z"
   },
   {
    "duration": 156,
    "start_time": "2022-07-11T11:26:29.425Z"
   },
   {
    "duration": 5,
    "start_time": "2022-07-11T11:26:29.584Z"
   },
   {
    "duration": 254,
    "start_time": "2022-07-11T11:26:29.591Z"
   },
   {
    "duration": 5,
    "start_time": "2022-07-11T11:26:29.847Z"
   },
   {
    "duration": 7,
    "start_time": "2022-07-11T11:26:29.853Z"
   },
   {
    "duration": 9,
    "start_time": "2022-07-11T11:26:29.862Z"
   },
   {
    "duration": 62,
    "start_time": "2022-07-11T11:26:29.873Z"
   },
   {
    "duration": 47,
    "start_time": "2022-07-11T11:26:29.938Z"
   },
   {
    "duration": 30,
    "start_time": "2022-07-11T11:26:29.986Z"
   },
   {
    "duration": 47,
    "start_time": "2022-07-11T11:26:30.018Z"
   },
   {
    "duration": 54,
    "start_time": "2022-07-11T11:26:30.067Z"
   },
   {
    "duration": 69,
    "start_time": "2022-07-11T11:26:30.123Z"
   },
   {
    "duration": 37,
    "start_time": "2022-07-11T11:26:30.194Z"
   },
   {
    "duration": 17,
    "start_time": "2022-07-11T11:26:30.233Z"
   },
   {
    "duration": 21,
    "start_time": "2022-07-11T11:26:30.251Z"
   },
   {
    "duration": 25,
    "start_time": "2022-07-11T11:26:30.274Z"
   },
   {
    "duration": 19,
    "start_time": "2022-07-11T11:26:30.302Z"
   },
   {
    "duration": 22,
    "start_time": "2022-07-11T11:26:30.322Z"
   },
   {
    "duration": 16,
    "start_time": "2022-07-11T11:26:30.345Z"
   },
   {
    "duration": 14,
    "start_time": "2022-07-11T11:26:30.363Z"
   },
   {
    "duration": 41,
    "start_time": "2022-07-11T11:26:30.378Z"
   },
   {
    "duration": 10,
    "start_time": "2022-07-11T11:26:30.421Z"
   },
   {
    "duration": 15,
    "start_time": "2022-07-11T11:26:30.433Z"
   },
   {
    "duration": 20,
    "start_time": "2022-07-11T11:26:30.449Z"
   },
   {
    "duration": 35,
    "start_time": "2022-07-11T11:26:30.471Z"
   },
   {
    "duration": 13,
    "start_time": "2022-07-11T11:26:30.508Z"
   },
   {
    "duration": 198,
    "start_time": "2022-07-11T11:28:12.250Z"
   },
   {
    "duration": 209,
    "start_time": "2022-07-11T11:28:21.457Z"
   },
   {
    "duration": 168,
    "start_time": "2022-07-11T11:38:03.112Z"
   },
   {
    "duration": 193,
    "start_time": "2022-07-11T11:38:20.495Z"
   },
   {
    "duration": 207,
    "start_time": "2022-07-11T11:38:26.635Z"
   },
   {
    "duration": 220,
    "start_time": "2022-07-11T11:40:40.093Z"
   },
   {
    "duration": 183,
    "start_time": "2022-07-11T11:40:44.640Z"
   },
   {
    "duration": 199,
    "start_time": "2022-07-11T11:40:58.889Z"
   },
   {
    "duration": 80,
    "start_time": "2022-07-11T11:43:43.865Z"
   },
   {
    "duration": 168,
    "start_time": "2022-07-11T11:44:17.062Z"
   },
   {
    "duration": 174,
    "start_time": "2022-07-11T11:44:29.439Z"
   },
   {
    "duration": 270,
    "start_time": "2022-07-11T11:44:45.649Z"
   },
   {
    "duration": 407,
    "start_time": "2022-07-11T11:45:06.647Z"
   },
   {
    "duration": 201,
    "start_time": "2022-07-11T11:46:49.440Z"
   },
   {
    "duration": 198,
    "start_time": "2022-07-11T11:47:03.009Z"
   },
   {
    "duration": 187,
    "start_time": "2022-07-11T11:47:13.975Z"
   },
   {
    "duration": 188,
    "start_time": "2022-07-11T11:47:24.344Z"
   },
   {
    "duration": 192,
    "start_time": "2022-07-11T11:47:40.250Z"
   },
   {
    "duration": 203,
    "start_time": "2022-07-11T11:47:45.388Z"
   },
   {
    "duration": 195,
    "start_time": "2022-07-11T11:47:48.853Z"
   },
   {
    "duration": 224,
    "start_time": "2022-07-11T11:48:03.526Z"
   },
   {
    "duration": 189,
    "start_time": "2022-07-11T11:48:08.444Z"
   },
   {
    "duration": 191,
    "start_time": "2022-07-11T11:48:18.059Z"
   },
   {
    "duration": 274,
    "start_time": "2022-07-11T11:48:21.803Z"
   },
   {
    "duration": 200,
    "start_time": "2022-07-11T11:48:26.801Z"
   },
   {
    "duration": 207,
    "start_time": "2022-07-11T11:48:33.542Z"
   },
   {
    "duration": 188,
    "start_time": "2022-07-11T11:48:38.437Z"
   },
   {
    "duration": 189,
    "start_time": "2022-07-11T11:48:48.501Z"
   },
   {
    "duration": 262,
    "start_time": "2022-07-11T11:49:27.249Z"
   },
   {
    "duration": 146,
    "start_time": "2022-07-11T11:53:13.354Z"
   },
   {
    "duration": 138,
    "start_time": "2022-07-11T11:58:21.666Z"
   },
   {
    "duration": 151,
    "start_time": "2022-07-11T11:59:18.367Z"
   },
   {
    "duration": 174,
    "start_time": "2022-07-11T11:59:30.450Z"
   },
   {
    "duration": 134,
    "start_time": "2022-07-11T12:14:04.085Z"
   },
   {
    "duration": 13,
    "start_time": "2022-07-11T12:14:25.225Z"
   },
   {
    "duration": 4,
    "start_time": "2022-07-11T12:14:42.002Z"
   },
   {
    "duration": 5,
    "start_time": "2022-07-11T12:14:49.828Z"
   },
   {
    "duration": 150,
    "start_time": "2022-07-11T12:14:58.411Z"
   },
   {
    "duration": 266,
    "start_time": "2022-07-11T12:15:09.243Z"
   },
   {
    "duration": 5,
    "start_time": "2022-07-11T12:15:45.748Z"
   },
   {
    "duration": 4,
    "start_time": "2022-07-11T12:16:18.937Z"
   },
   {
    "duration": 5,
    "start_time": "2022-07-11T12:16:26.070Z"
   },
   {
    "duration": 6,
    "start_time": "2022-07-11T12:18:54.427Z"
   },
   {
    "duration": 4,
    "start_time": "2022-07-11T12:19:15.821Z"
   },
   {
    "duration": 5,
    "start_time": "2022-07-11T12:19:37.425Z"
   },
   {
    "duration": 5,
    "start_time": "2022-07-11T12:22:18.901Z"
   },
   {
    "duration": 5,
    "start_time": "2022-07-11T12:22:30.637Z"
   },
   {
    "duration": 5,
    "start_time": "2022-07-11T12:22:34.335Z"
   },
   {
    "duration": 721,
    "start_time": "2022-07-11T12:22:38.289Z"
   },
   {
    "duration": 796,
    "start_time": "2022-07-11T12:22:43.493Z"
   },
   {
    "duration": 752,
    "start_time": "2022-07-11T12:23:56.736Z"
   },
   {
    "duration": 577,
    "start_time": "2022-07-11T12:24:39.379Z"
   },
   {
    "duration": 4,
    "start_time": "2022-07-11T12:24:51.810Z"
   },
   {
    "duration": 5,
    "start_time": "2022-07-11T12:25:00.454Z"
   },
   {
    "duration": 5,
    "start_time": "2022-07-11T12:25:07.552Z"
   },
   {
    "duration": 4,
    "start_time": "2022-07-11T12:25:22.185Z"
   },
   {
    "duration": 8,
    "start_time": "2022-07-11T12:25:28.530Z"
   },
   {
    "duration": 3,
    "start_time": "2022-07-11T12:25:40.320Z"
   },
   {
    "duration": 8,
    "start_time": "2022-07-11T12:25:45.790Z"
   },
   {
    "duration": 4,
    "start_time": "2022-07-11T12:25:59.876Z"
   },
   {
    "duration": 134,
    "start_time": "2022-07-11T12:26:00.434Z"
   },
   {
    "duration": 134,
    "start_time": "2022-07-11T12:26:09.862Z"
   },
   {
    "duration": 164,
    "start_time": "2022-07-11T12:29:04.430Z"
   },
   {
    "duration": 5,
    "start_time": "2022-07-11T12:29:08.517Z"
   },
   {
    "duration": 3,
    "start_time": "2022-07-11T12:29:20.944Z"
   },
   {
    "duration": 139,
    "start_time": "2022-07-11T12:29:22.374Z"
   },
   {
    "duration": 5,
    "start_time": "2022-07-11T12:29:23.283Z"
   },
   {
    "duration": 4,
    "start_time": "2022-07-11T12:30:19.905Z"
   },
   {
    "duration": 5,
    "start_time": "2022-07-11T12:30:22.735Z"
   },
   {
    "duration": 147,
    "start_time": "2022-07-11T12:30:33.702Z"
   },
   {
    "duration": 4,
    "start_time": "2022-07-11T12:31:02.639Z"
   },
   {
    "duration": 137,
    "start_time": "2022-07-11T12:31:03.780Z"
   },
   {
    "duration": 6,
    "start_time": "2022-07-11T12:31:06.580Z"
   },
   {
    "duration": 131,
    "start_time": "2022-07-11T12:38:29.221Z"
   },
   {
    "duration": 7,
    "start_time": "2022-07-11T12:39:15.106Z"
   },
   {
    "duration": 150,
    "start_time": "2022-07-11T12:39:20.764Z"
   },
   {
    "duration": 156,
    "start_time": "2022-07-11T12:39:27.006Z"
   },
   {
    "duration": 75,
    "start_time": "2022-07-11T12:41:25.720Z"
   },
   {
    "duration": 5,
    "start_time": "2022-07-11T12:46:21.292Z"
   },
   {
    "duration": 148,
    "start_time": "2022-07-11T12:49:32.555Z"
   },
   {
    "duration": 6,
    "start_time": "2022-07-11T12:56:27.520Z"
   },
   {
    "duration": 4,
    "start_time": "2022-07-11T12:56:36.560Z"
   },
   {
    "duration": 7,
    "start_time": "2022-07-11T12:58:08.258Z"
   },
   {
    "duration": 5,
    "start_time": "2022-07-11T12:58:31.840Z"
   },
   {
    "duration": 203,
    "start_time": "2022-07-11T12:58:43.738Z"
   },
   {
    "duration": 4,
    "start_time": "2022-07-11T12:59:02.836Z"
   },
   {
    "duration": 6,
    "start_time": "2022-07-11T12:59:13.408Z"
   },
   {
    "duration": 4,
    "start_time": "2022-07-11T13:00:46.884Z"
   },
   {
    "duration": 351,
    "start_time": "2022-07-11T13:25:17.251Z"
   },
   {
    "duration": 16,
    "start_time": "2022-07-11T13:25:42.830Z"
   },
   {
    "duration": 9,
    "start_time": "2022-07-11T13:26:12.097Z"
   },
   {
    "duration": 15,
    "start_time": "2022-07-11T13:26:16.074Z"
   },
   {
    "duration": 12,
    "start_time": "2022-07-11T13:33:21.079Z"
   },
   {
    "duration": 6,
    "start_time": "2022-07-11T13:34:36.320Z"
   },
   {
    "duration": 9,
    "start_time": "2022-07-11T13:34:44.441Z"
   },
   {
    "duration": 4,
    "start_time": "2022-07-11T13:34:59.455Z"
   },
   {
    "duration": 7025,
    "start_time": "2022-07-11T13:35:17.250Z"
   },
   {
    "duration": 4,
    "start_time": "2022-07-11T13:35:24.278Z"
   },
   {
    "duration": 3,
    "start_time": "2022-07-11T13:39:54.271Z"
   },
   {
    "duration": 39,
    "start_time": "2022-07-11T13:39:57.287Z"
   },
   {
    "duration": 3,
    "start_time": "2022-07-11T13:40:21.170Z"
   },
   {
    "duration": 16073,
    "start_time": "2022-07-11T13:40:35.187Z"
   },
   {
    "duration": 4,
    "start_time": "2022-07-11T13:40:51.262Z"
   },
   {
    "duration": 4,
    "start_time": "2022-07-11T13:40:58.081Z"
   },
   {
    "duration": 13688,
    "start_time": "2022-07-11T13:41:28.681Z"
   },
   {
    "duration": 4,
    "start_time": "2022-07-11T13:41:43.703Z"
   },
   {
    "duration": 4,
    "start_time": "2022-07-11T13:41:44.321Z"
   },
   {
    "duration": 5,
    "start_time": "2022-07-11T13:41:54.001Z"
   },
   {
    "duration": 6,
    "start_time": "2022-07-11T13:42:03.279Z"
   },
   {
    "duration": 6,
    "start_time": "2022-07-11T13:42:14.495Z"
   },
   {
    "duration": 4,
    "start_time": "2022-07-11T13:42:27.878Z"
   },
   {
    "duration": 6,
    "start_time": "2022-07-11T13:45:42.908Z"
   },
   {
    "duration": 172,
    "start_time": "2022-07-11T13:57:37.595Z"
   },
   {
    "duration": 143,
    "start_time": "2022-07-11T13:57:45.646Z"
   },
   {
    "duration": 6,
    "start_time": "2022-07-11T14:04:35.718Z"
   },
   {
    "duration": 25,
    "start_time": "2022-07-11T14:06:59.853Z"
   },
   {
    "duration": 15,
    "start_time": "2022-07-11T14:07:18.903Z"
   },
   {
    "duration": 180,
    "start_time": "2022-07-11T14:08:45.568Z"
   },
   {
    "duration": 193,
    "start_time": "2022-07-11T14:08:50.879Z"
   },
   {
    "duration": 5,
    "start_time": "2022-07-11T14:15:51.489Z"
   },
   {
    "duration": 10,
    "start_time": "2022-07-11T14:15:59.302Z"
   },
   {
    "duration": 6,
    "start_time": "2022-07-11T14:16:11.190Z"
   },
   {
    "duration": 5,
    "start_time": "2022-07-11T14:16:21.430Z"
   },
   {
    "duration": 23,
    "start_time": "2022-07-11T14:16:43.421Z"
   },
   {
    "duration": 28,
    "start_time": "2022-07-11T14:17:12.273Z"
   },
   {
    "duration": 36,
    "start_time": "2022-07-11T14:17:19.267Z"
   },
   {
    "duration": 1273,
    "start_time": "2022-07-11T15:46:27.362Z"
   },
   {
    "duration": 1339,
    "start_time": "2022-07-11T15:46:28.637Z"
   },
   {
    "duration": 277,
    "start_time": "2022-07-11T15:46:29.978Z"
   },
   {
    "duration": 3,
    "start_time": "2022-07-11T15:46:30.257Z"
   },
   {
    "duration": 25,
    "start_time": "2022-07-11T15:46:30.262Z"
   },
   {
    "duration": 17,
    "start_time": "2022-07-11T15:46:30.289Z"
   },
   {
    "duration": 25,
    "start_time": "2022-07-11T15:46:30.308Z"
   },
   {
    "duration": 16,
    "start_time": "2022-07-11T15:46:30.335Z"
   },
   {
    "duration": 12,
    "start_time": "2022-07-11T15:46:30.352Z"
   },
   {
    "duration": 27,
    "start_time": "2022-07-11T15:46:30.367Z"
   },
   {
    "duration": 46,
    "start_time": "2022-07-11T15:46:30.396Z"
   },
   {
    "duration": 37,
    "start_time": "2022-07-11T15:46:30.445Z"
   },
   {
    "duration": 28,
    "start_time": "2022-07-11T15:46:30.484Z"
   },
   {
    "duration": 20,
    "start_time": "2022-07-11T15:46:30.514Z"
   },
   {
    "duration": 12,
    "start_time": "2022-07-11T15:46:30.536Z"
   },
   {
    "duration": 24,
    "start_time": "2022-07-11T15:46:30.550Z"
   },
   {
    "duration": 18,
    "start_time": "2022-07-11T15:46:30.576Z"
   },
   {
    "duration": 16,
    "start_time": "2022-07-11T15:46:30.595Z"
   },
   {
    "duration": 13,
    "start_time": "2022-07-11T15:46:30.613Z"
   },
   {
    "duration": 13,
    "start_time": "2022-07-11T15:46:30.628Z"
   },
   {
    "duration": 8,
    "start_time": "2022-07-11T15:46:30.643Z"
   },
   {
    "duration": 187,
    "start_time": "2022-07-11T15:46:30.653Z"
   },
   {
    "duration": 13,
    "start_time": "2022-07-11T15:46:30.841Z"
   },
   {
    "duration": 144,
    "start_time": "2022-07-11T15:46:30.856Z"
   },
   {
    "duration": 18,
    "start_time": "2022-07-11T15:46:31.002Z"
   },
   {
    "duration": 11,
    "start_time": "2022-07-11T15:46:31.022Z"
   },
   {
    "duration": 6,
    "start_time": "2022-07-11T15:46:31.035Z"
   },
   {
    "duration": 14,
    "start_time": "2022-07-11T15:46:31.045Z"
   },
   {
    "duration": 7,
    "start_time": "2022-07-11T15:46:31.061Z"
   },
   {
    "duration": 9,
    "start_time": "2022-07-11T15:46:31.070Z"
   },
   {
    "duration": 19,
    "start_time": "2022-07-11T15:46:31.080Z"
   },
   {
    "duration": 346,
    "start_time": "2022-07-11T15:46:31.101Z"
   },
   {
    "duration": 249,
    "start_time": "2022-07-11T15:46:31.449Z"
   },
   {
    "duration": 6,
    "start_time": "2022-07-11T15:46:31.700Z"
   },
   {
    "duration": 374,
    "start_time": "2022-07-11T15:46:31.708Z"
   },
   {
    "duration": 5,
    "start_time": "2022-07-11T15:46:32.084Z"
   },
   {
    "duration": 10,
    "start_time": "2022-07-11T15:46:32.091Z"
   },
   {
    "duration": 5,
    "start_time": "2022-07-11T15:46:32.103Z"
   },
   {
    "duration": 7,
    "start_time": "2022-07-11T15:46:32.110Z"
   },
   {
    "duration": 242,
    "start_time": "2022-07-11T15:46:32.119Z"
   },
   {
    "duration": 8,
    "start_time": "2022-07-11T15:46:32.363Z"
   },
   {
    "duration": 368,
    "start_time": "2022-07-11T15:46:32.373Z"
   },
   {
    "duration": 5,
    "start_time": "2022-07-11T15:46:32.744Z"
   },
   {
    "duration": 165,
    "start_time": "2022-07-11T15:46:32.751Z"
   },
   {
    "duration": 6,
    "start_time": "2022-07-11T15:46:32.918Z"
   },
   {
    "duration": 191,
    "start_time": "2022-07-11T15:46:32.925Z"
   },
   {
    "duration": 5,
    "start_time": "2022-07-11T15:46:33.117Z"
   },
   {
    "duration": 7,
    "start_time": "2022-07-11T15:46:33.124Z"
   },
   {
    "duration": 7,
    "start_time": "2022-07-11T15:46:33.132Z"
   },
   {
    "duration": 69,
    "start_time": "2022-07-11T15:46:33.140Z"
   },
   {
    "duration": 50,
    "start_time": "2022-07-11T15:46:33.211Z"
   },
   {
    "duration": 17,
    "start_time": "2022-07-11T15:46:33.263Z"
   },
   {
    "duration": 28,
    "start_time": "2022-07-11T15:46:33.282Z"
   },
   {
    "duration": 54,
    "start_time": "2022-07-11T15:46:33.312Z"
   },
   {
    "duration": 70,
    "start_time": "2022-07-11T15:46:33.368Z"
   },
   {
    "duration": 23,
    "start_time": "2022-07-11T15:46:33.440Z"
   },
   {
    "duration": 12,
    "start_time": "2022-07-11T15:46:33.465Z"
   },
   {
    "duration": 17,
    "start_time": "2022-07-11T15:46:33.498Z"
   },
   {
    "duration": 5,
    "start_time": "2022-07-11T15:46:33.517Z"
   },
   {
    "duration": 14,
    "start_time": "2022-07-11T15:46:33.524Z"
   },
   {
    "duration": 8,
    "start_time": "2022-07-11T15:46:33.540Z"
   },
   {
    "duration": 8,
    "start_time": "2022-07-11T15:46:33.550Z"
   },
   {
    "duration": 8,
    "start_time": "2022-07-11T15:46:33.560Z"
   },
   {
    "duration": 38,
    "start_time": "2022-07-11T15:46:33.570Z"
   },
   {
    "duration": 12,
    "start_time": "2022-07-11T15:46:33.617Z"
   },
   {
    "duration": 11,
    "start_time": "2022-07-11T15:46:33.630Z"
   },
   {
    "duration": 7,
    "start_time": "2022-07-11T15:46:33.644Z"
   },
   {
    "duration": 48,
    "start_time": "2022-07-11T15:46:33.653Z"
   },
   {
    "duration": 13,
    "start_time": "2022-07-11T15:46:33.703Z"
   },
   {
    "duration": 266,
    "start_time": "2022-07-11T15:46:33.718Z"
   },
   {
    "duration": 119,
    "start_time": "2022-07-11T15:46:33.997Z"
   },
   {
    "duration": 0,
    "start_time": "2022-07-11T15:46:34.118Z"
   },
   {
    "duration": 0,
    "start_time": "2022-07-11T15:46:34.120Z"
   },
   {
    "duration": 0,
    "start_time": "2022-07-11T15:46:34.121Z"
   },
   {
    "duration": 0,
    "start_time": "2022-07-11T15:46:34.122Z"
   },
   {
    "duration": 0,
    "start_time": "2022-07-11T15:46:34.123Z"
   },
   {
    "duration": 0,
    "start_time": "2022-07-11T15:46:34.125Z"
   },
   {
    "duration": 7,
    "start_time": "2022-07-11T15:47:06.196Z"
   },
   {
    "duration": 8,
    "start_time": "2022-07-11T15:47:07.694Z"
   },
   {
    "duration": 4,
    "start_time": "2022-07-11T15:47:07.838Z"
   },
   {
    "duration": 153,
    "start_time": "2022-07-11T15:47:07.987Z"
   },
   {
    "duration": 4,
    "start_time": "2022-07-11T15:47:08.142Z"
   },
   {
    "duration": 6,
    "start_time": "2022-07-11T15:47:09.699Z"
   },
   {
    "duration": 163,
    "start_time": "2022-07-11T15:47:09.841Z"
   },
   {
    "duration": 263,
    "start_time": "2022-07-11T15:48:31.537Z"
   },
   {
    "duration": 16,
    "start_time": "2022-07-11T15:48:40.194Z"
   },
   {
    "duration": 5,
    "start_time": "2022-07-11T15:49:11.634Z"
   },
   {
    "duration": 17,
    "start_time": "2022-07-11T15:49:19.231Z"
   },
   {
    "duration": 9,
    "start_time": "2022-07-11T15:51:10.788Z"
   },
   {
    "duration": 13,
    "start_time": "2022-07-11T15:52:25.552Z"
   },
   {
    "duration": 23,
    "start_time": "2022-07-11T15:53:10.181Z"
   },
   {
    "duration": 16,
    "start_time": "2022-07-11T15:53:20.380Z"
   },
   {
    "duration": 14,
    "start_time": "2022-07-11T15:54:51.333Z"
   },
   {
    "duration": 13,
    "start_time": "2022-07-11T15:55:04.510Z"
   },
   {
    "duration": 12,
    "start_time": "2022-07-11T15:55:12.232Z"
   },
   {
    "duration": 1807,
    "start_time": "2022-07-12T05:38:09.922Z"
   },
   {
    "duration": 1257,
    "start_time": "2022-07-12T05:38:11.732Z"
   },
   {
    "duration": 125,
    "start_time": "2022-07-12T05:38:12.991Z"
   },
   {
    "duration": 2,
    "start_time": "2022-07-12T05:38:13.118Z"
   },
   {
    "duration": 18,
    "start_time": "2022-07-12T05:38:13.122Z"
   },
   {
    "duration": 5,
    "start_time": "2022-07-12T05:38:13.141Z"
   },
   {
    "duration": 10,
    "start_time": "2022-07-12T05:38:13.147Z"
   },
   {
    "duration": 39,
    "start_time": "2022-07-12T05:38:13.159Z"
   },
   {
    "duration": 7,
    "start_time": "2022-07-12T05:38:13.200Z"
   },
   {
    "duration": 15,
    "start_time": "2022-07-12T05:38:13.209Z"
   },
   {
    "duration": 10,
    "start_time": "2022-07-12T05:38:13.226Z"
   },
   {
    "duration": 6,
    "start_time": "2022-07-12T05:38:13.237Z"
   },
   {
    "duration": 5,
    "start_time": "2022-07-12T05:38:13.245Z"
   },
   {
    "duration": 17,
    "start_time": "2022-07-12T05:38:13.251Z"
   },
   {
    "duration": 13,
    "start_time": "2022-07-12T05:38:13.275Z"
   },
   {
    "duration": 14,
    "start_time": "2022-07-12T05:38:13.289Z"
   },
   {
    "duration": 23,
    "start_time": "2022-07-12T05:38:13.305Z"
   },
   {
    "duration": 14,
    "start_time": "2022-07-12T05:38:13.329Z"
   },
   {
    "duration": 8,
    "start_time": "2022-07-12T05:38:13.344Z"
   },
   {
    "duration": 21,
    "start_time": "2022-07-12T05:38:13.353Z"
   },
   {
    "duration": 8,
    "start_time": "2022-07-12T05:38:13.376Z"
   },
   {
    "duration": 165,
    "start_time": "2022-07-12T05:38:13.386Z"
   },
   {
    "duration": 23,
    "start_time": "2022-07-12T05:38:13.553Z"
   },
   {
    "duration": 130,
    "start_time": "2022-07-12T05:38:13.578Z"
   },
   {
    "duration": 10,
    "start_time": "2022-07-12T05:38:13.710Z"
   },
   {
    "duration": 7,
    "start_time": "2022-07-12T05:38:13.722Z"
   },
   {
    "duration": 7,
    "start_time": "2022-07-12T05:38:13.730Z"
   },
   {
    "duration": 45,
    "start_time": "2022-07-12T05:38:13.740Z"
   },
   {
    "duration": 7,
    "start_time": "2022-07-12T05:38:13.787Z"
   },
   {
    "duration": 11,
    "start_time": "2022-07-12T05:38:13.796Z"
   },
   {
    "duration": 6,
    "start_time": "2022-07-12T05:38:13.808Z"
   },
   {
    "duration": 338,
    "start_time": "2022-07-12T05:38:13.815Z"
   },
   {
    "duration": 206,
    "start_time": "2022-07-12T05:38:14.154Z"
   },
   {
    "duration": 9,
    "start_time": "2022-07-12T05:38:14.366Z"
   },
   {
    "duration": 345,
    "start_time": "2022-07-12T05:38:14.377Z"
   },
   {
    "duration": 3,
    "start_time": "2022-07-12T05:38:14.724Z"
   },
   {
    "duration": 8,
    "start_time": "2022-07-12T05:38:14.729Z"
   },
   {
    "duration": 6,
    "start_time": "2022-07-12T05:38:14.738Z"
   },
   {
    "duration": 22,
    "start_time": "2022-07-12T05:38:14.761Z"
   },
   {
    "duration": 221,
    "start_time": "2022-07-12T05:38:14.784Z"
   },
   {
    "duration": 8,
    "start_time": "2022-07-12T05:38:15.007Z"
   },
   {
    "duration": 341,
    "start_time": "2022-07-12T05:38:15.016Z"
   },
   {
    "duration": 8,
    "start_time": "2022-07-12T05:38:15.359Z"
   },
   {
    "duration": 158,
    "start_time": "2022-07-12T05:38:15.373Z"
   },
   {
    "duration": 5,
    "start_time": "2022-07-12T05:38:15.533Z"
   },
   {
    "duration": 197,
    "start_time": "2022-07-12T05:38:15.540Z"
   },
   {
    "duration": 6,
    "start_time": "2022-07-12T05:38:15.738Z"
   },
   {
    "duration": 28,
    "start_time": "2022-07-12T05:38:15.746Z"
   },
   {
    "duration": 7,
    "start_time": "2022-07-12T05:38:15.776Z"
   },
   {
    "duration": 50,
    "start_time": "2022-07-12T05:38:15.784Z"
   },
   {
    "duration": 54,
    "start_time": "2022-07-12T05:38:15.836Z"
   },
   {
    "duration": 17,
    "start_time": "2022-07-12T05:38:15.892Z"
   },
   {
    "duration": 14,
    "start_time": "2022-07-12T05:38:15.911Z"
   },
   {
    "duration": 72,
    "start_time": "2022-07-12T05:38:15.926Z"
   },
   {
    "duration": 75,
    "start_time": "2022-07-12T05:38:16.000Z"
   },
   {
    "duration": 31,
    "start_time": "2022-07-12T05:38:16.090Z"
   },
   {
    "duration": 12,
    "start_time": "2022-07-12T05:38:16.122Z"
   },
   {
    "duration": 9,
    "start_time": "2022-07-12T05:38:16.136Z"
   },
   {
    "duration": 6,
    "start_time": "2022-07-12T05:38:16.147Z"
   },
   {
    "duration": 10,
    "start_time": "2022-07-12T05:38:16.155Z"
   },
   {
    "duration": 25,
    "start_time": "2022-07-12T05:38:16.167Z"
   },
   {
    "duration": 9,
    "start_time": "2022-07-12T05:38:16.194Z"
   },
   {
    "duration": 19,
    "start_time": "2022-07-12T05:38:16.205Z"
   },
   {
    "duration": 57,
    "start_time": "2022-07-12T05:38:16.226Z"
   },
   {
    "duration": 15,
    "start_time": "2022-07-12T05:38:16.287Z"
   },
   {
    "duration": 17,
    "start_time": "2022-07-12T05:38:16.305Z"
   },
   {
    "duration": 13,
    "start_time": "2022-07-12T05:38:16.324Z"
   },
   {
    "duration": 44,
    "start_time": "2022-07-12T05:38:16.340Z"
   },
   {
    "duration": 18,
    "start_time": "2022-07-12T05:38:16.386Z"
   },
   {
    "duration": 263,
    "start_time": "2022-07-12T05:38:16.406Z"
   },
   {
    "duration": 33,
    "start_time": "2022-07-12T05:38:16.675Z"
   },
   {
    "duration": 8,
    "start_time": "2022-07-12T05:38:16.711Z"
   },
   {
    "duration": 7,
    "start_time": "2022-07-12T05:38:16.720Z"
   },
   {
    "duration": 59,
    "start_time": "2022-07-12T05:38:16.729Z"
   },
   {
    "duration": 12,
    "start_time": "2022-07-12T05:38:16.790Z"
   },
   {
    "duration": 145,
    "start_time": "2022-07-12T05:38:16.804Z"
   },
   {
    "duration": 3,
    "start_time": "2022-07-12T05:38:16.951Z"
   },
   {
    "duration": 7,
    "start_time": "2022-07-12T05:38:16.960Z"
   },
   {
    "duration": 171,
    "start_time": "2022-07-12T05:38:16.968Z"
   },
   {
    "duration": 18,
    "start_time": "2022-07-12T05:39:26.357Z"
   },
   {
    "duration": 1198,
    "start_time": "2022-07-12T08:43:44.239Z"
   },
   {
    "duration": 1206,
    "start_time": "2022-07-12T08:43:45.440Z"
   },
   {
    "duration": 104,
    "start_time": "2022-07-12T08:43:46.648Z"
   },
   {
    "duration": 3,
    "start_time": "2022-07-12T08:43:46.754Z"
   },
   {
    "duration": 14,
    "start_time": "2022-07-12T08:43:46.758Z"
   },
   {
    "duration": 3,
    "start_time": "2022-07-12T08:43:46.773Z"
   },
   {
    "duration": 10,
    "start_time": "2022-07-12T08:43:46.778Z"
   },
   {
    "duration": 10,
    "start_time": "2022-07-12T08:43:46.790Z"
   },
   {
    "duration": 7,
    "start_time": "2022-07-12T08:43:46.801Z"
   },
   {
    "duration": 17,
    "start_time": "2022-07-12T08:43:46.811Z"
   },
   {
    "duration": 14,
    "start_time": "2022-07-12T08:43:46.829Z"
   },
   {
    "duration": 2,
    "start_time": "2022-07-12T08:43:46.844Z"
   },
   {
    "duration": 4,
    "start_time": "2022-07-12T08:43:46.848Z"
   },
   {
    "duration": 11,
    "start_time": "2022-07-12T08:43:46.853Z"
   },
   {
    "duration": 5,
    "start_time": "2022-07-12T08:43:46.866Z"
   },
   {
    "duration": 8,
    "start_time": "2022-07-12T08:43:46.873Z"
   },
   {
    "duration": 6,
    "start_time": "2022-07-12T08:43:46.882Z"
   },
   {
    "duration": 10,
    "start_time": "2022-07-12T08:43:46.890Z"
   },
   {
    "duration": 11,
    "start_time": "2022-07-12T08:43:46.901Z"
   },
   {
    "duration": 73,
    "start_time": "2022-07-12T08:43:46.913Z"
   },
   {
    "duration": 9,
    "start_time": "2022-07-12T08:43:46.987Z"
   },
   {
    "duration": 157,
    "start_time": "2022-07-12T08:43:46.998Z"
   },
   {
    "duration": 12,
    "start_time": "2022-07-12T08:43:47.157Z"
   },
   {
    "duration": 129,
    "start_time": "2022-07-12T08:43:47.170Z"
   },
   {
    "duration": 10,
    "start_time": "2022-07-12T08:43:47.300Z"
   },
   {
    "duration": 11,
    "start_time": "2022-07-12T08:43:47.312Z"
   },
   {
    "duration": 17,
    "start_time": "2022-07-12T08:43:47.325Z"
   },
   {
    "duration": 14,
    "start_time": "2022-07-12T08:43:47.347Z"
   },
   {
    "duration": 7,
    "start_time": "2022-07-12T08:43:47.362Z"
   },
   {
    "duration": 13,
    "start_time": "2022-07-12T08:43:47.370Z"
   },
   {
    "duration": 12,
    "start_time": "2022-07-12T08:43:47.385Z"
   },
   {
    "duration": 301,
    "start_time": "2022-07-12T08:43:47.400Z"
   },
   {
    "duration": 224,
    "start_time": "2022-07-12T08:43:47.702Z"
   },
   {
    "duration": 5,
    "start_time": "2022-07-12T08:43:47.928Z"
   },
   {
    "duration": 381,
    "start_time": "2022-07-12T08:43:47.935Z"
   },
   {
    "duration": 4,
    "start_time": "2022-07-12T08:43:48.318Z"
   },
   {
    "duration": 10,
    "start_time": "2022-07-12T08:43:48.323Z"
   },
   {
    "duration": 14,
    "start_time": "2022-07-12T08:43:48.334Z"
   },
   {
    "duration": 8,
    "start_time": "2022-07-12T08:43:48.349Z"
   },
   {
    "duration": 201,
    "start_time": "2022-07-12T08:43:48.358Z"
   },
   {
    "duration": 7,
    "start_time": "2022-07-12T08:43:48.561Z"
   },
   {
    "duration": 288,
    "start_time": "2022-07-12T08:43:48.569Z"
   },
   {
    "duration": 5,
    "start_time": "2022-07-12T08:43:48.858Z"
   },
   {
    "duration": 140,
    "start_time": "2022-07-12T08:43:48.864Z"
   },
   {
    "duration": 5,
    "start_time": "2022-07-12T08:43:49.005Z"
   },
   {
    "duration": 151,
    "start_time": "2022-07-12T08:43:49.011Z"
   },
   {
    "duration": 5,
    "start_time": "2022-07-12T08:43:49.164Z"
   },
   {
    "duration": 15,
    "start_time": "2022-07-12T08:43:49.170Z"
   },
   {
    "duration": 11,
    "start_time": "2022-07-12T08:43:49.187Z"
   },
   {
    "duration": 44,
    "start_time": "2022-07-12T08:43:49.199Z"
   },
   {
    "duration": 42,
    "start_time": "2022-07-12T08:43:49.244Z"
   },
   {
    "duration": 14,
    "start_time": "2022-07-12T08:43:49.288Z"
   },
   {
    "duration": 12,
    "start_time": "2022-07-12T08:43:49.303Z"
   },
   {
    "duration": 60,
    "start_time": "2022-07-12T08:43:49.316Z"
   },
   {
    "duration": 53,
    "start_time": "2022-07-12T08:43:49.377Z"
   },
   {
    "duration": 30,
    "start_time": "2022-07-12T08:43:49.432Z"
   },
   {
    "duration": 11,
    "start_time": "2022-07-12T08:43:49.464Z"
   },
   {
    "duration": 8,
    "start_time": "2022-07-12T08:43:49.477Z"
   },
   {
    "duration": 3,
    "start_time": "2022-07-12T08:43:49.487Z"
   },
   {
    "duration": 7,
    "start_time": "2022-07-12T08:43:49.492Z"
   },
   {
    "duration": 5,
    "start_time": "2022-07-12T08:43:49.500Z"
   },
   {
    "duration": 5,
    "start_time": "2022-07-12T08:43:49.506Z"
   },
   {
    "duration": 5,
    "start_time": "2022-07-12T08:43:49.512Z"
   },
   {
    "duration": 42,
    "start_time": "2022-07-12T08:43:49.518Z"
   },
   {
    "duration": 8,
    "start_time": "2022-07-12T08:43:49.562Z"
   },
   {
    "duration": 8,
    "start_time": "2022-07-12T08:43:49.571Z"
   },
   {
    "duration": 10,
    "start_time": "2022-07-12T08:43:49.580Z"
   },
   {
    "duration": 20,
    "start_time": "2022-07-12T08:43:49.591Z"
   },
   {
    "duration": 38,
    "start_time": "2022-07-12T08:43:49.612Z"
   },
   {
    "duration": 214,
    "start_time": "2022-07-12T08:43:49.651Z"
   },
   {
    "duration": 12,
    "start_time": "2022-07-12T08:43:49.867Z"
   },
   {
    "duration": 6,
    "start_time": "2022-07-12T08:43:49.881Z"
   },
   {
    "duration": 6,
    "start_time": "2022-07-12T08:43:49.888Z"
   },
   {
    "duration": 97,
    "start_time": "2022-07-12T08:43:49.895Z"
   },
   {
    "duration": 11,
    "start_time": "2022-07-12T08:43:49.994Z"
   },
   {
    "duration": 117,
    "start_time": "2022-07-12T08:43:50.006Z"
   },
   {
    "duration": 4,
    "start_time": "2022-07-12T08:43:50.125Z"
   },
   {
    "duration": 16,
    "start_time": "2022-07-12T08:43:50.130Z"
   },
   {
    "duration": 142,
    "start_time": "2022-07-12T08:43:50.147Z"
   },
   {
    "duration": 159,
    "start_time": "2022-07-12T11:17:18.235Z"
   },
   {
    "duration": 1121,
    "start_time": "2022-07-12T11:42:39.431Z"
   },
   {
    "duration": 1040,
    "start_time": "2022-07-12T11:42:40.554Z"
   },
   {
    "duration": 39,
    "start_time": "2022-07-12T11:42:41.595Z"
   },
   {
    "duration": 3,
    "start_time": "2022-07-12T11:42:41.636Z"
   },
   {
    "duration": 13,
    "start_time": "2022-07-12T11:42:41.640Z"
   },
   {
    "duration": 4,
    "start_time": "2022-07-12T11:42:41.654Z"
   },
   {
    "duration": 8,
    "start_time": "2022-07-12T11:42:41.659Z"
   },
   {
    "duration": 15,
    "start_time": "2022-07-12T11:42:41.668Z"
   },
   {
    "duration": 5,
    "start_time": "2022-07-12T11:42:41.685Z"
   },
   {
    "duration": 13,
    "start_time": "2022-07-12T11:42:41.692Z"
   },
   {
    "duration": 10,
    "start_time": "2022-07-12T11:42:41.706Z"
   },
   {
    "duration": 25,
    "start_time": "2022-07-12T11:42:41.717Z"
   },
   {
    "duration": 4,
    "start_time": "2022-07-12T11:42:41.744Z"
   },
   {
    "duration": 12,
    "start_time": "2022-07-12T11:42:41.750Z"
   },
   {
    "duration": 10,
    "start_time": "2022-07-12T11:42:41.763Z"
   },
   {
    "duration": 8,
    "start_time": "2022-07-12T11:42:41.774Z"
   },
   {
    "duration": 6,
    "start_time": "2022-07-12T11:42:41.783Z"
   },
   {
    "duration": 10,
    "start_time": "2022-07-12T11:42:41.791Z"
   },
   {
    "duration": 4,
    "start_time": "2022-07-12T11:42:41.802Z"
   },
   {
    "duration": 7,
    "start_time": "2022-07-12T11:42:41.808Z"
   },
   {
    "duration": 27,
    "start_time": "2022-07-12T11:42:41.816Z"
   },
   {
    "duration": 156,
    "start_time": "2022-07-12T11:42:41.845Z"
   },
   {
    "duration": 9,
    "start_time": "2022-07-12T11:42:42.003Z"
   },
   {
    "duration": 117,
    "start_time": "2022-07-12T11:42:42.013Z"
   },
   {
    "duration": 14,
    "start_time": "2022-07-12T11:42:42.132Z"
   },
   {
    "duration": 7,
    "start_time": "2022-07-12T11:42:42.147Z"
   },
   {
    "duration": 5,
    "start_time": "2022-07-12T11:42:42.156Z"
   },
   {
    "duration": 11,
    "start_time": "2022-07-12T11:42:42.164Z"
   },
   {
    "duration": 3,
    "start_time": "2022-07-12T11:42:42.177Z"
   },
   {
    "duration": 12,
    "start_time": "2022-07-12T11:42:42.187Z"
   },
   {
    "duration": 5,
    "start_time": "2022-07-12T11:42:42.200Z"
   },
   {
    "duration": 266,
    "start_time": "2022-07-12T11:42:42.206Z"
   },
   {
    "duration": 199,
    "start_time": "2022-07-12T11:42:42.474Z"
   },
   {
    "duration": 5,
    "start_time": "2022-07-12T11:42:42.675Z"
   },
   {
    "duration": 279,
    "start_time": "2022-07-12T11:42:42.682Z"
   },
   {
    "duration": 3,
    "start_time": "2022-07-12T11:42:42.963Z"
   },
   {
    "duration": 10,
    "start_time": "2022-07-12T11:42:42.968Z"
   },
   {
    "duration": 12,
    "start_time": "2022-07-12T11:42:42.980Z"
   },
   {
    "duration": 18,
    "start_time": "2022-07-12T11:42:42.993Z"
   },
   {
    "duration": 181,
    "start_time": "2022-07-12T11:42:43.012Z"
   },
   {
    "duration": 7,
    "start_time": "2022-07-12T11:42:43.195Z"
   },
   {
    "duration": 301,
    "start_time": "2022-07-12T11:42:43.203Z"
   },
   {
    "duration": 5,
    "start_time": "2022-07-12T11:42:43.505Z"
   },
   {
    "duration": 139,
    "start_time": "2022-07-12T11:42:43.511Z"
   },
   {
    "duration": 5,
    "start_time": "2022-07-12T11:42:43.652Z"
   },
   {
    "duration": 160,
    "start_time": "2022-07-12T11:42:43.659Z"
   },
   {
    "duration": 6,
    "start_time": "2022-07-12T11:42:43.821Z"
   },
   {
    "duration": 14,
    "start_time": "2022-07-12T11:42:43.828Z"
   },
   {
    "duration": 12,
    "start_time": "2022-07-12T11:42:43.843Z"
   },
   {
    "duration": 43,
    "start_time": "2022-07-12T11:42:43.856Z"
   },
   {
    "duration": 45,
    "start_time": "2022-07-12T11:42:43.900Z"
   },
   {
    "duration": 13,
    "start_time": "2022-07-12T11:42:43.946Z"
   },
   {
    "duration": 11,
    "start_time": "2022-07-12T11:42:43.961Z"
   },
   {
    "duration": 48,
    "start_time": "2022-07-12T11:42:43.973Z"
   },
   {
    "duration": 59,
    "start_time": "2022-07-12T11:42:44.023Z"
   },
   {
    "duration": 20,
    "start_time": "2022-07-12T11:42:44.083Z"
   },
   {
    "duration": 9,
    "start_time": "2022-07-12T11:42:44.104Z"
   },
   {
    "duration": 95,
    "start_time": "2022-07-12T11:42:44.114Z"
   },
   {
    "duration": 0,
    "start_time": "2022-07-12T11:42:44.210Z"
   },
   {
    "duration": 0,
    "start_time": "2022-07-12T11:42:44.212Z"
   },
   {
    "duration": 0,
    "start_time": "2022-07-12T11:42:44.213Z"
   },
   {
    "duration": 0,
    "start_time": "2022-07-12T11:42:44.214Z"
   },
   {
    "duration": 0,
    "start_time": "2022-07-12T11:42:44.215Z"
   },
   {
    "duration": 0,
    "start_time": "2022-07-12T11:42:44.216Z"
   },
   {
    "duration": 0,
    "start_time": "2022-07-12T11:42:44.217Z"
   },
   {
    "duration": 0,
    "start_time": "2022-07-12T11:42:44.218Z"
   },
   {
    "duration": 0,
    "start_time": "2022-07-12T11:42:44.219Z"
   },
   {
    "duration": 0,
    "start_time": "2022-07-12T11:42:44.220Z"
   },
   {
    "duration": 0,
    "start_time": "2022-07-12T11:42:44.221Z"
   },
   {
    "duration": 0,
    "start_time": "2022-07-12T11:42:44.222Z"
   },
   {
    "duration": 0,
    "start_time": "2022-07-12T11:42:44.223Z"
   },
   {
    "duration": 0,
    "start_time": "2022-07-12T11:42:44.242Z"
   },
   {
    "duration": 0,
    "start_time": "2022-07-12T11:42:44.243Z"
   },
   {
    "duration": 0,
    "start_time": "2022-07-12T11:42:44.245Z"
   },
   {
    "duration": 0,
    "start_time": "2022-07-12T11:42:44.246Z"
   },
   {
    "duration": 1135,
    "start_time": "2022-07-12T11:45:45.395Z"
   },
   {
    "duration": 1048,
    "start_time": "2022-07-12T11:45:46.532Z"
   },
   {
    "duration": 40,
    "start_time": "2022-07-12T11:45:47.582Z"
   },
   {
    "duration": 2,
    "start_time": "2022-07-12T11:45:47.624Z"
   },
   {
    "duration": 26,
    "start_time": "2022-07-12T11:45:47.628Z"
   },
   {
    "duration": 14,
    "start_time": "2022-07-12T11:45:47.655Z"
   },
   {
    "duration": 12,
    "start_time": "2022-07-12T11:45:47.670Z"
   },
   {
    "duration": 37,
    "start_time": "2022-07-12T11:45:47.684Z"
   },
   {
    "duration": 9,
    "start_time": "2022-07-12T11:45:47.723Z"
   },
   {
    "duration": 26,
    "start_time": "2022-07-12T11:45:47.734Z"
   },
   {
    "duration": 33,
    "start_time": "2022-07-12T11:45:47.762Z"
   },
   {
    "duration": 15,
    "start_time": "2022-07-12T11:45:47.797Z"
   },
   {
    "duration": 19,
    "start_time": "2022-07-12T11:45:47.813Z"
   },
   {
    "duration": 19,
    "start_time": "2022-07-12T11:45:47.836Z"
   },
   {
    "duration": 12,
    "start_time": "2022-07-12T11:45:47.856Z"
   },
   {
    "duration": 27,
    "start_time": "2022-07-12T11:45:47.869Z"
   },
   {
    "duration": 32,
    "start_time": "2022-07-12T11:45:47.897Z"
   },
   {
    "duration": 26,
    "start_time": "2022-07-12T11:45:47.930Z"
   },
   {
    "duration": 20,
    "start_time": "2022-07-12T11:45:47.957Z"
   },
   {
    "duration": 12,
    "start_time": "2022-07-12T11:45:47.978Z"
   },
   {
    "duration": 30,
    "start_time": "2022-07-12T11:45:47.991Z"
   },
   {
    "duration": 162,
    "start_time": "2022-07-12T11:45:48.023Z"
   },
   {
    "duration": 9,
    "start_time": "2022-07-12T11:45:48.187Z"
   },
   {
    "duration": 147,
    "start_time": "2022-07-12T11:45:48.198Z"
   },
   {
    "duration": 10,
    "start_time": "2022-07-12T11:45:48.346Z"
   },
   {
    "duration": 34,
    "start_time": "2022-07-12T11:45:48.357Z"
   },
   {
    "duration": 37,
    "start_time": "2022-07-12T11:45:48.392Z"
   },
   {
    "duration": 35,
    "start_time": "2022-07-12T11:45:48.430Z"
   },
   {
    "duration": 26,
    "start_time": "2022-07-12T11:45:48.466Z"
   },
   {
    "duration": 21,
    "start_time": "2022-07-12T11:45:48.494Z"
   },
   {
    "duration": 21,
    "start_time": "2022-07-12T11:45:48.517Z"
   },
   {
    "duration": 293,
    "start_time": "2022-07-12T11:45:48.540Z"
   },
   {
    "duration": 198,
    "start_time": "2022-07-12T11:45:48.834Z"
   },
   {
    "duration": 11,
    "start_time": "2022-07-12T11:45:49.033Z"
   },
   {
    "duration": 311,
    "start_time": "2022-07-12T11:45:49.045Z"
   },
   {
    "duration": 5,
    "start_time": "2022-07-12T11:45:49.357Z"
   },
   {
    "duration": 12,
    "start_time": "2022-07-12T11:45:49.363Z"
   },
   {
    "duration": 7,
    "start_time": "2022-07-12T11:45:49.376Z"
   },
   {
    "duration": 9,
    "start_time": "2022-07-12T11:45:49.384Z"
   },
   {
    "duration": 214,
    "start_time": "2022-07-12T11:45:49.394Z"
   },
   {
    "duration": 7,
    "start_time": "2022-07-12T11:45:49.612Z"
   },
   {
    "duration": 338,
    "start_time": "2022-07-12T11:45:49.620Z"
   },
   {
    "duration": 6,
    "start_time": "2022-07-12T11:45:49.960Z"
   },
   {
    "duration": 153,
    "start_time": "2022-07-12T11:45:49.968Z"
   },
   {
    "duration": 5,
    "start_time": "2022-07-12T11:45:50.122Z"
   },
   {
    "duration": 166,
    "start_time": "2022-07-12T11:45:50.128Z"
   },
   {
    "duration": 5,
    "start_time": "2022-07-12T11:45:50.295Z"
   },
   {
    "duration": 8,
    "start_time": "2022-07-12T11:45:50.302Z"
   },
   {
    "duration": 6,
    "start_time": "2022-07-12T11:45:50.311Z"
   },
   {
    "duration": 56,
    "start_time": "2022-07-12T11:45:50.319Z"
   },
   {
    "duration": 45,
    "start_time": "2022-07-12T11:45:50.377Z"
   },
   {
    "duration": 18,
    "start_time": "2022-07-12T11:45:50.424Z"
   },
   {
    "duration": 14,
    "start_time": "2022-07-12T11:45:50.444Z"
   },
   {
    "duration": 46,
    "start_time": "2022-07-12T11:45:50.460Z"
   },
   {
    "duration": 60,
    "start_time": "2022-07-12T11:45:50.507Z"
   },
   {
    "duration": 18,
    "start_time": "2022-07-12T11:45:50.569Z"
   },
   {
    "duration": 11,
    "start_time": "2022-07-12T11:45:50.588Z"
   },
   {
    "duration": 9,
    "start_time": "2022-07-12T11:45:50.601Z"
   },
   {
    "duration": 4,
    "start_time": "2022-07-12T11:45:50.611Z"
   },
   {
    "duration": 28,
    "start_time": "2022-07-12T11:45:50.616Z"
   },
   {
    "duration": 3,
    "start_time": "2022-07-12T11:45:50.646Z"
   },
   {
    "duration": 17,
    "start_time": "2022-07-12T11:45:50.651Z"
   },
   {
    "duration": 13,
    "start_time": "2022-07-12T11:45:50.669Z"
   },
   {
    "duration": 27,
    "start_time": "2022-07-12T11:45:50.683Z"
   },
   {
    "duration": 10,
    "start_time": "2022-07-12T11:45:50.711Z"
   },
   {
    "duration": 8,
    "start_time": "2022-07-12T11:45:50.722Z"
   },
   {
    "duration": 7,
    "start_time": "2022-07-12T11:45:50.742Z"
   },
   {
    "duration": 20,
    "start_time": "2022-07-12T11:45:50.750Z"
   },
   {
    "duration": 13,
    "start_time": "2022-07-12T11:45:50.772Z"
   },
   {
    "duration": 252,
    "start_time": "2022-07-12T11:45:50.786Z"
   },
   {
    "duration": 6,
    "start_time": "2022-07-12T11:45:51.041Z"
   },
   {
    "duration": 6,
    "start_time": "2022-07-12T11:45:51.049Z"
   },
   {
    "duration": 144,
    "start_time": "2022-07-12T11:45:51.056Z"
   },
   {
    "duration": 4,
    "start_time": "2022-07-12T11:45:51.202Z"
   },
   {
    "duration": 152,
    "start_time": "2022-07-12T11:45:51.207Z"
   },
   {
    "duration": 54,
    "start_time": "2022-07-12T11:48:22.273Z"
   },
   {
    "duration": 1170,
    "start_time": "2022-07-12T11:50:29.478Z"
   },
   {
    "duration": 1122,
    "start_time": "2022-07-12T11:50:30.650Z"
   },
   {
    "duration": 41,
    "start_time": "2022-07-12T11:50:31.774Z"
   },
   {
    "duration": 3,
    "start_time": "2022-07-12T11:50:31.817Z"
   },
   {
    "duration": 16,
    "start_time": "2022-07-12T11:50:31.821Z"
   },
   {
    "duration": 8,
    "start_time": "2022-07-12T11:50:31.839Z"
   },
   {
    "duration": 10,
    "start_time": "2022-07-12T11:50:31.849Z"
   },
   {
    "duration": 28,
    "start_time": "2022-07-12T11:50:31.861Z"
   },
   {
    "duration": 10,
    "start_time": "2022-07-12T11:50:31.890Z"
   },
   {
    "duration": 18,
    "start_time": "2022-07-12T11:50:31.903Z"
   },
   {
    "duration": 12,
    "start_time": "2022-07-12T11:50:31.922Z"
   },
   {
    "duration": 18,
    "start_time": "2022-07-12T11:50:31.936Z"
   },
   {
    "duration": 9,
    "start_time": "2022-07-12T11:50:31.956Z"
   },
   {
    "duration": 14,
    "start_time": "2022-07-12T11:50:31.966Z"
   },
   {
    "duration": 6,
    "start_time": "2022-07-12T11:50:31.982Z"
   },
   {
    "duration": 12,
    "start_time": "2022-07-12T11:50:31.990Z"
   },
   {
    "duration": 10,
    "start_time": "2022-07-12T11:50:32.004Z"
   },
   {
    "duration": 22,
    "start_time": "2022-07-12T11:50:32.015Z"
   },
   {
    "duration": 18,
    "start_time": "2022-07-12T11:50:32.039Z"
   },
   {
    "duration": 9,
    "start_time": "2022-07-12T11:50:32.059Z"
   },
   {
    "duration": 16,
    "start_time": "2022-07-12T11:50:32.070Z"
   },
   {
    "duration": 170,
    "start_time": "2022-07-12T11:50:32.087Z"
   },
   {
    "duration": 11,
    "start_time": "2022-07-12T11:50:32.259Z"
   },
   {
    "duration": 139,
    "start_time": "2022-07-12T11:50:32.271Z"
   },
   {
    "duration": 25,
    "start_time": "2022-07-12T11:50:32.412Z"
   },
   {
    "duration": 10,
    "start_time": "2022-07-12T11:50:32.439Z"
   },
   {
    "duration": 13,
    "start_time": "2022-07-12T11:50:32.451Z"
   },
   {
    "duration": 22,
    "start_time": "2022-07-12T11:50:32.468Z"
   },
   {
    "duration": 10,
    "start_time": "2022-07-12T11:50:32.492Z"
   },
   {
    "duration": 10,
    "start_time": "2022-07-12T11:50:32.504Z"
   },
   {
    "duration": 10,
    "start_time": "2022-07-12T11:50:32.516Z"
   },
   {
    "duration": 286,
    "start_time": "2022-07-12T11:50:32.527Z"
   },
   {
    "duration": 200,
    "start_time": "2022-07-12T11:50:32.815Z"
   },
   {
    "duration": 6,
    "start_time": "2022-07-12T11:50:33.017Z"
   },
   {
    "duration": 319,
    "start_time": "2022-07-12T11:50:33.025Z"
   },
   {
    "duration": 4,
    "start_time": "2022-07-12T11:50:33.345Z"
   },
   {
    "duration": 16,
    "start_time": "2022-07-12T11:50:33.350Z"
   },
   {
    "duration": 8,
    "start_time": "2022-07-12T11:50:33.367Z"
   },
   {
    "duration": 6,
    "start_time": "2022-07-12T11:50:33.377Z"
   },
   {
    "duration": 182,
    "start_time": "2022-07-12T11:50:33.384Z"
   },
   {
    "duration": 6,
    "start_time": "2022-07-12T11:50:33.568Z"
   },
   {
    "duration": 275,
    "start_time": "2022-07-12T11:50:33.576Z"
   },
   {
    "duration": 5,
    "start_time": "2022-07-12T11:50:33.853Z"
   },
   {
    "duration": 141,
    "start_time": "2022-07-12T11:50:33.859Z"
   },
   {
    "duration": 5,
    "start_time": "2022-07-12T11:50:34.001Z"
   },
   {
    "duration": 152,
    "start_time": "2022-07-12T11:50:34.007Z"
   },
   {
    "duration": 4,
    "start_time": "2022-07-12T11:50:34.161Z"
   },
   {
    "duration": 8,
    "start_time": "2022-07-12T11:50:34.167Z"
   },
   {
    "duration": 7,
    "start_time": "2022-07-12T11:50:34.177Z"
   },
   {
    "duration": 59,
    "start_time": "2022-07-12T11:50:34.186Z"
   },
   {
    "duration": 43,
    "start_time": "2022-07-12T11:50:34.246Z"
   },
   {
    "duration": 14,
    "start_time": "2022-07-12T11:50:34.290Z"
   },
   {
    "duration": 12,
    "start_time": "2022-07-12T11:50:34.306Z"
   },
   {
    "duration": 60,
    "start_time": "2022-07-12T11:50:34.320Z"
   },
   {
    "duration": 62,
    "start_time": "2022-07-12T11:50:34.382Z"
   },
   {
    "duration": 26,
    "start_time": "2022-07-12T11:50:34.447Z"
   },
   {
    "duration": 20,
    "start_time": "2022-07-12T11:50:34.475Z"
   },
   {
    "duration": 16,
    "start_time": "2022-07-12T11:50:34.497Z"
   },
   {
    "duration": 13,
    "start_time": "2022-07-12T11:50:34.514Z"
   },
   {
    "duration": 16,
    "start_time": "2022-07-12T11:50:34.530Z"
   },
   {
    "duration": 7,
    "start_time": "2022-07-12T11:50:34.548Z"
   },
   {
    "duration": 24,
    "start_time": "2022-07-12T11:50:34.557Z"
   },
   {
    "duration": 7,
    "start_time": "2022-07-12T11:50:34.583Z"
   },
   {
    "duration": 35,
    "start_time": "2022-07-12T11:50:34.592Z"
   },
   {
    "duration": 11,
    "start_time": "2022-07-12T11:50:34.629Z"
   },
   {
    "duration": 11,
    "start_time": "2022-07-12T11:50:34.642Z"
   },
   {
    "duration": 8,
    "start_time": "2022-07-12T11:50:34.655Z"
   },
   {
    "duration": 19,
    "start_time": "2022-07-12T11:50:34.664Z"
   },
   {
    "duration": 12,
    "start_time": "2022-07-12T11:50:34.684Z"
   },
   {
    "duration": 230,
    "start_time": "2022-07-12T11:50:34.697Z"
   },
   {
    "duration": 6,
    "start_time": "2022-07-12T11:50:34.928Z"
   },
   {
    "duration": 6,
    "start_time": "2022-07-12T11:50:34.942Z"
   },
   {
    "duration": 129,
    "start_time": "2022-07-12T11:50:34.950Z"
   },
   {
    "duration": 4,
    "start_time": "2022-07-12T11:50:35.081Z"
   },
   {
    "duration": 153,
    "start_time": "2022-07-12T11:50:35.086Z"
   },
   {
    "duration": 59,
    "start_time": "2022-07-13T09:14:51.399Z"
   },
   {
    "duration": 1217,
    "start_time": "2022-07-13T09:14:58.245Z"
   },
   {
    "duration": 1315,
    "start_time": "2022-07-13T09:14:59.464Z"
   },
   {
    "duration": 285,
    "start_time": "2022-07-13T09:15:00.781Z"
   },
   {
    "duration": 4,
    "start_time": "2022-07-13T09:15:01.068Z"
   },
   {
    "duration": 25,
    "start_time": "2022-07-13T09:15:01.074Z"
   },
   {
    "duration": 6,
    "start_time": "2022-07-13T09:15:01.101Z"
   },
   {
    "duration": 10,
    "start_time": "2022-07-13T09:15:01.109Z"
   },
   {
    "duration": 14,
    "start_time": "2022-07-13T09:15:01.121Z"
   },
   {
    "duration": 8,
    "start_time": "2022-07-13T09:15:01.136Z"
   },
   {
    "duration": 21,
    "start_time": "2022-07-13T09:15:01.145Z"
   },
   {
    "duration": 21,
    "start_time": "2022-07-13T09:15:01.168Z"
   },
   {
    "duration": 12,
    "start_time": "2022-07-13T09:15:01.190Z"
   },
   {
    "duration": 40,
    "start_time": "2022-07-13T09:15:01.204Z"
   },
   {
    "duration": 29,
    "start_time": "2022-07-13T09:15:01.249Z"
   },
   {
    "duration": 13,
    "start_time": "2022-07-13T09:15:01.280Z"
   },
   {
    "duration": 16,
    "start_time": "2022-07-13T09:15:01.294Z"
   },
   {
    "duration": 20,
    "start_time": "2022-07-13T09:15:01.312Z"
   },
   {
    "duration": 24,
    "start_time": "2022-07-13T09:15:01.334Z"
   },
   {
    "duration": 20,
    "start_time": "2022-07-13T09:15:01.360Z"
   },
   {
    "duration": 15,
    "start_time": "2022-07-13T09:15:01.382Z"
   },
   {
    "duration": 15,
    "start_time": "2022-07-13T09:15:01.398Z"
   },
   {
    "duration": 190,
    "start_time": "2022-07-13T09:15:01.415Z"
   },
   {
    "duration": 10,
    "start_time": "2022-07-13T09:15:01.608Z"
   },
   {
    "duration": 152,
    "start_time": "2022-07-13T09:15:01.620Z"
   },
   {
    "duration": 22,
    "start_time": "2022-07-13T09:15:01.774Z"
   },
   {
    "duration": 12,
    "start_time": "2022-07-13T09:15:01.797Z"
   },
   {
    "duration": 5,
    "start_time": "2022-07-13T09:15:01.810Z"
   },
   {
    "duration": 15,
    "start_time": "2022-07-13T09:15:01.817Z"
   },
   {
    "duration": 9,
    "start_time": "2022-07-13T09:15:01.834Z"
   },
   {
    "duration": 16,
    "start_time": "2022-07-13T09:15:01.844Z"
   },
   {
    "duration": 5,
    "start_time": "2022-07-13T09:15:01.862Z"
   },
   {
    "duration": 306,
    "start_time": "2022-07-13T09:15:01.868Z"
   },
   {
    "duration": 213,
    "start_time": "2022-07-13T09:15:02.176Z"
   },
   {
    "duration": 13,
    "start_time": "2022-07-13T09:15:02.391Z"
   },
   {
    "duration": 360,
    "start_time": "2022-07-13T09:15:02.405Z"
   },
   {
    "duration": 4,
    "start_time": "2022-07-13T09:15:02.767Z"
   },
   {
    "duration": 6,
    "start_time": "2022-07-13T09:15:02.773Z"
   },
   {
    "duration": 6,
    "start_time": "2022-07-13T09:15:02.781Z"
   },
   {
    "duration": 17,
    "start_time": "2022-07-13T09:15:02.788Z"
   },
   {
    "duration": 208,
    "start_time": "2022-07-13T09:15:02.806Z"
   },
   {
    "duration": 8,
    "start_time": "2022-07-13T09:15:03.018Z"
   },
   {
    "duration": 311,
    "start_time": "2022-07-13T09:15:03.028Z"
   },
   {
    "duration": 5,
    "start_time": "2022-07-13T09:15:03.341Z"
   },
   {
    "duration": 158,
    "start_time": "2022-07-13T09:15:03.347Z"
   },
   {
    "duration": 8,
    "start_time": "2022-07-13T09:15:03.507Z"
   },
   {
    "duration": 36,
    "start_time": "2022-07-13T09:15:03.517Z"
   },
   {
    "duration": 174,
    "start_time": "2022-07-13T09:15:03.555Z"
   },
   {
    "duration": 5,
    "start_time": "2022-07-13T09:15:03.731Z"
   },
   {
    "duration": 14,
    "start_time": "2022-07-13T09:15:03.738Z"
   },
   {
    "duration": 8,
    "start_time": "2022-07-13T09:15:03.754Z"
   },
   {
    "duration": 58,
    "start_time": "2022-07-13T09:15:03.764Z"
   },
   {
    "duration": 48,
    "start_time": "2022-07-13T09:15:03.823Z"
   },
   {
    "duration": 21,
    "start_time": "2022-07-13T09:15:03.872Z"
   },
   {
    "duration": 19,
    "start_time": "2022-07-13T09:15:03.894Z"
   },
   {
    "duration": 48,
    "start_time": "2022-07-13T09:15:03.915Z"
   },
   {
    "duration": 66,
    "start_time": "2022-07-13T09:15:03.965Z"
   },
   {
    "duration": 21,
    "start_time": "2022-07-13T09:15:04.033Z"
   },
   {
    "duration": 10,
    "start_time": "2022-07-13T09:15:04.055Z"
   },
   {
    "duration": 9,
    "start_time": "2022-07-13T09:15:04.067Z"
   },
   {
    "duration": 25,
    "start_time": "2022-07-13T09:15:04.078Z"
   },
   {
    "duration": 8,
    "start_time": "2022-07-13T09:15:04.105Z"
   },
   {
    "duration": 5,
    "start_time": "2022-07-13T09:15:04.114Z"
   },
   {
    "duration": 8,
    "start_time": "2022-07-13T09:15:04.121Z"
   },
   {
    "duration": 9,
    "start_time": "2022-07-13T09:15:04.131Z"
   },
   {
    "duration": 45,
    "start_time": "2022-07-13T09:15:04.142Z"
   },
   {
    "duration": 21,
    "start_time": "2022-07-13T09:15:04.189Z"
   },
   {
    "duration": 11,
    "start_time": "2022-07-13T09:15:04.212Z"
   },
   {
    "duration": 13,
    "start_time": "2022-07-13T09:15:04.224Z"
   },
   {
    "duration": 23,
    "start_time": "2022-07-13T09:15:04.238Z"
   },
   {
    "duration": 14,
    "start_time": "2022-07-13T09:15:04.262Z"
   },
   {
    "duration": 271,
    "start_time": "2022-07-13T09:15:04.277Z"
   },
   {
    "duration": 12,
    "start_time": "2022-07-13T09:15:04.550Z"
   },
   {
    "duration": 10,
    "start_time": "2022-07-13T09:15:04.563Z"
   },
   {
    "duration": 155,
    "start_time": "2022-07-13T09:15:04.575Z"
   },
   {
    "duration": 4,
    "start_time": "2022-07-13T09:15:04.732Z"
   },
   {
    "duration": 159,
    "start_time": "2022-07-13T09:15:04.739Z"
   },
   {
    "duration": 49,
    "start_time": "2022-07-13T16:03:10.307Z"
   },
   {
    "duration": 1709,
    "start_time": "2022-07-13T16:03:15.861Z"
   },
   {
    "duration": 1250,
    "start_time": "2022-07-13T16:03:17.572Z"
   },
   {
    "duration": 113,
    "start_time": "2022-07-13T16:03:18.824Z"
   },
   {
    "duration": 3,
    "start_time": "2022-07-13T16:03:18.939Z"
   },
   {
    "duration": 14,
    "start_time": "2022-07-13T16:03:18.943Z"
   },
   {
    "duration": 3,
    "start_time": "2022-07-13T16:03:18.959Z"
   },
   {
    "duration": 8,
    "start_time": "2022-07-13T16:03:18.963Z"
   },
   {
    "duration": 11,
    "start_time": "2022-07-13T16:03:18.972Z"
   },
   {
    "duration": 12,
    "start_time": "2022-07-13T16:03:18.985Z"
   },
   {
    "duration": 13,
    "start_time": "2022-07-13T16:03:19.000Z"
   },
   {
    "duration": 11,
    "start_time": "2022-07-13T16:03:19.014Z"
   },
   {
    "duration": 13,
    "start_time": "2022-07-13T16:03:19.026Z"
   },
   {
    "duration": 6,
    "start_time": "2022-07-13T16:03:19.040Z"
   },
   {
    "duration": 13,
    "start_time": "2022-07-13T16:03:19.047Z"
   },
   {
    "duration": 6,
    "start_time": "2022-07-13T16:03:19.063Z"
   },
   {
    "duration": 10,
    "start_time": "2022-07-13T16:03:19.070Z"
   },
   {
    "duration": 7,
    "start_time": "2022-07-13T16:03:19.082Z"
   },
   {
    "duration": 12,
    "start_time": "2022-07-13T16:03:19.091Z"
   },
   {
    "duration": 5,
    "start_time": "2022-07-13T16:03:19.104Z"
   },
   {
    "duration": 9,
    "start_time": "2022-07-13T16:03:19.110Z"
   },
   {
    "duration": 8,
    "start_time": "2022-07-13T16:03:19.120Z"
   },
   {
    "duration": 185,
    "start_time": "2022-07-13T16:03:19.130Z"
   },
   {
    "duration": 10,
    "start_time": "2022-07-13T16:03:19.317Z"
   },
   {
    "duration": 122,
    "start_time": "2022-07-13T16:03:19.328Z"
   },
   {
    "duration": 14,
    "start_time": "2022-07-13T16:03:19.451Z"
   },
   {
    "duration": 17,
    "start_time": "2022-07-13T16:03:19.467Z"
   },
   {
    "duration": 26,
    "start_time": "2022-07-13T16:03:19.486Z"
   },
   {
    "duration": 20,
    "start_time": "2022-07-13T16:03:19.516Z"
   },
   {
    "duration": 15,
    "start_time": "2022-07-13T16:03:19.538Z"
   },
   {
    "duration": 10,
    "start_time": "2022-07-13T16:03:19.556Z"
   },
   {
    "duration": 18,
    "start_time": "2022-07-13T16:03:19.568Z"
   },
   {
    "duration": 303,
    "start_time": "2022-07-13T16:03:19.588Z"
   },
   {
    "duration": 212,
    "start_time": "2022-07-13T16:03:19.892Z"
   },
   {
    "duration": 6,
    "start_time": "2022-07-13T16:03:20.105Z"
   },
   {
    "duration": 387,
    "start_time": "2022-07-13T16:03:20.113Z"
   },
   {
    "duration": 4,
    "start_time": "2022-07-13T16:03:20.502Z"
   },
   {
    "duration": 22,
    "start_time": "2022-07-13T16:03:20.507Z"
   },
   {
    "duration": 13,
    "start_time": "2022-07-13T16:03:20.531Z"
   },
   {
    "duration": 28,
    "start_time": "2022-07-13T16:03:20.545Z"
   },
   {
    "duration": 220,
    "start_time": "2022-07-13T16:03:20.575Z"
   },
   {
    "duration": 8,
    "start_time": "2022-07-13T16:03:20.797Z"
   },
   {
    "duration": 286,
    "start_time": "2022-07-13T16:03:20.807Z"
   },
   {
    "duration": 5,
    "start_time": "2022-07-13T16:03:21.095Z"
   },
   {
    "duration": 139,
    "start_time": "2022-07-13T16:03:21.102Z"
   },
   {
    "duration": 6,
    "start_time": "2022-07-13T16:03:21.243Z"
   },
   {
    "duration": 169,
    "start_time": "2022-07-13T16:03:21.251Z"
   },
   {
    "duration": 231,
    "start_time": "2022-07-13T16:03:21.422Z"
   },
   {
    "duration": 10,
    "start_time": "2022-07-13T16:03:21.656Z"
   },
   {
    "duration": 9,
    "start_time": "2022-07-13T16:03:21.668Z"
   },
   {
    "duration": 8,
    "start_time": "2022-07-13T16:03:21.678Z"
   },
   {
    "duration": 42,
    "start_time": "2022-07-13T16:03:21.687Z"
   },
   {
    "duration": 63,
    "start_time": "2022-07-13T16:03:21.731Z"
   },
   {
    "duration": 14,
    "start_time": "2022-07-13T16:03:21.795Z"
   },
   {
    "duration": 13,
    "start_time": "2022-07-13T16:03:21.810Z"
   },
   {
    "duration": 70,
    "start_time": "2022-07-13T16:03:21.825Z"
   },
   {
    "duration": 49,
    "start_time": "2022-07-13T16:03:21.896Z"
   },
   {
    "duration": 32,
    "start_time": "2022-07-13T16:03:21.947Z"
   },
   {
    "duration": 12,
    "start_time": "2022-07-13T16:03:21.981Z"
   },
   {
    "duration": 9,
    "start_time": "2022-07-13T16:03:21.994Z"
   },
   {
    "duration": 6,
    "start_time": "2022-07-13T16:03:22.004Z"
   },
   {
    "duration": 10,
    "start_time": "2022-07-13T16:03:22.011Z"
   },
   {
    "duration": 5,
    "start_time": "2022-07-13T16:03:22.023Z"
   },
   {
    "duration": 11,
    "start_time": "2022-07-13T16:03:22.029Z"
   },
   {
    "duration": 9,
    "start_time": "2022-07-13T16:03:22.041Z"
   },
   {
    "duration": 23,
    "start_time": "2022-07-13T16:03:22.063Z"
   },
   {
    "duration": 11,
    "start_time": "2022-07-13T16:03:22.087Z"
   },
   {
    "duration": 9,
    "start_time": "2022-07-13T16:03:22.099Z"
   },
   {
    "duration": 9,
    "start_time": "2022-07-13T16:03:22.109Z"
   },
   {
    "duration": 49,
    "start_time": "2022-07-13T16:03:22.119Z"
   },
   {
    "duration": 13,
    "start_time": "2022-07-13T16:03:22.169Z"
   },
   {
    "duration": 168,
    "start_time": "2022-07-13T16:03:22.184Z"
   },
   {
    "duration": 23,
    "start_time": "2022-07-13T16:03:22.354Z"
   },
   {
    "duration": 7,
    "start_time": "2022-07-13T16:03:22.379Z"
   },
   {
    "duration": 152,
    "start_time": "2022-07-13T16:03:22.388Z"
   },
   {
    "duration": 6,
    "start_time": "2022-07-13T16:03:22.542Z"
   },
   {
    "duration": 193,
    "start_time": "2022-07-13T16:03:22.550Z"
   }
  ],
  "colab": {
   "collapsed_sections": [],
   "name": "Project_7_ABTEST.ipynb",
   "provenance": [],
   "toc_visible": true
  },
  "kernelspec": {
   "display_name": "Python 3 (ipykernel)",
   "language": "python",
   "name": "python3"
  },
  "language_info": {
   "codemirror_mode": {
    "name": "ipython",
    "version": 3
   },
   "file_extension": ".py",
   "mimetype": "text/x-python",
   "name": "python",
   "nbconvert_exporter": "python",
   "pygments_lexer": "ipython3",
   "version": "3.9.7"
  },
  "toc": {
   "base_numbering": 1,
   "nav_menu": {},
   "number_sections": true,
   "sideBar": true,
   "skip_h1_title": true,
   "title_cell": "Table of Contents",
   "title_sidebar": "Contents",
   "toc_cell": false,
   "toc_position": {
    "height": "calc(100% - 180px)",
    "left": "10px",
    "top": "150px",
    "width": "286.237px"
   },
   "toc_section_display": true,
   "toc_window_display": false
  }
 },
 "nbformat": 4,
 "nbformat_minor": 1
}
