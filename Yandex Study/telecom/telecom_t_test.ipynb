{
  "nbformat": 4,
  "nbformat_minor": 0,
  "metadata": {
    "colab": {
      "provenance": [],
      "collapsed_sections": [],
      "toc_visible": true
    },
    "kernelspec": {
      "name": "python3",
      "display_name": "Python 3"
    },
    "language_info": {
      "name": "python"
    }
  },
  "cells": [
    {
      "cell_type": "markdown",
      "source": [
        "# 🙋‍♂️ Вступление\n",
        "\n",
        "Здравствуйте! \n",
        "\n",
        "> Перед нами данные от телеком компании. Даны 500 уникальных клиентов которые пользуются двумя тарифами. Нужно сравнить их поведение, чтобы выяснить какой тарифный план \"лучше\". Для этого проекта необходимо по условию, использовать критерий Стьюдента, а также объяснить почему именно он. Файлы представлены в 5 датасетах, нужно их соеденить в одну большую таблицу, но прежде надо агрегировать данные."
      ],
      "metadata": {
        "id": "UOU8U5n243ni"
      }
    },
    {
      "cell_type": "markdown",
      "source": [
        "## Бриф:\n",
        "\n",
        "**Описание тарифов:**\n",
        "\n",
        "Тариф **«Смарт»**\n",
        "- Ежемесячная плата: 550 рублей\n",
        "- Включено 500 минут разговора, 50 сообщений и 15 Гб интернет-трафика\n",
        "\n",
        "Стоимость услуг сверх тарифного пакета:\n",
        "- минута разговора: 3 рубля\n",
        "- сообщение: 3 рубля\n",
        "- 1 Гб интернет-трафика: 200 рублей\n",
        "\n",
        "Тариф **«Ультра»**\n",
        "\n",
        "- Ежемесячная плата: 1950 рублей\n",
        "- Включено 3000 минут разговора, 1000 сообщений и 30 Гб интернет-трафика\n",
        "\n",
        "Стоимость услуг сверх тарифного пакета:\n",
        "- минута разговора: 1 рубль\n",
        "- сообщение: 1 рубль\n",
        "- 1 Гб интернет-трафика: 150 рублей\n"
      ],
      "metadata": {
        "id": "sEaLLNxAqhf0"
      }
    },
    {
      "cell_type": "markdown",
      "source": [
        "**Примечание**:\n",
        "\n",
        "«Мегалайн» всегда округляет секунды до минут, а мегабайты — до гигабайт. Каждый звонок округляется отдельно: даже если он длился всего 1 секунду, будет засчитан как 1 минута.\n",
        "\n",
        "Для веб-трафика отдельные сессии не считаются. Вместо этого общая сумма за месяц округляется в бо́льшую сторону. Если абонент использует 1025 мегабайт в этом месяце, с него возьмут плату за 2 гигабайта. Примите, что неиспользованные за предыдущий месяц звонки, смс, интернет на следующий месяц не переносятся."
      ],
      "metadata": {
        "id": "2JqJ4m0Oq03C"
      }
    },
    {
      "cell_type": "markdown",
      "source": [
        "# 📚 1. Импорт"
      ],
      "metadata": {
        "id": "Resco_RRiVCQ"
      }
    },
    {
      "cell_type": "code",
      "source": [
        "!pip install -U matplotlib"
      ],
      "metadata": {
        "colab": {
          "base_uri": "https://localhost:8080/"
        },
        "id": "sgnUHndVcEN0",
        "outputId": "86beb9e6-e8ed-426e-b4fe-da082edcff41"
      },
      "execution_count": null,
      "outputs": [
        {
          "output_type": "stream",
          "name": "stdout",
          "text": [
            "Looking in indexes: https://pypi.org/simple, https://us-python.pkg.dev/colab-wheels/public/simple/\n",
            "Requirement already satisfied: matplotlib in /usr/local/lib/python3.7/dist-packages (3.5.3)\n",
            "Requirement already satisfied: pyparsing>=2.2.1 in /usr/local/lib/python3.7/dist-packages (from matplotlib) (3.0.9)\n",
            "Requirement already satisfied: numpy>=1.17 in /usr/local/lib/python3.7/dist-packages (from matplotlib) (1.21.6)\n",
            "Requirement already satisfied: cycler>=0.10 in /usr/local/lib/python3.7/dist-packages (from matplotlib) (0.11.0)\n",
            "Requirement already satisfied: python-dateutil>=2.7 in /usr/local/lib/python3.7/dist-packages (from matplotlib) (2.8.2)\n",
            "Requirement already satisfied: packaging>=20.0 in /usr/local/lib/python3.7/dist-packages (from matplotlib) (21.3)\n",
            "Requirement already satisfied: pillow>=6.2.0 in /usr/local/lib/python3.7/dist-packages (from matplotlib) (7.1.2)\n",
            "Requirement already satisfied: fonttools>=4.22.0 in /usr/local/lib/python3.7/dist-packages (from matplotlib) (4.37.1)\n",
            "Requirement already satisfied: kiwisolver>=1.0.1 in /usr/local/lib/python3.7/dist-packages (from matplotlib) (1.4.4)\n",
            "Requirement already satisfied: typing-extensions in /usr/local/lib/python3.7/dist-packages (from kiwisolver>=1.0.1->matplotlib) (4.1.1)\n",
            "Requirement already satisfied: six>=1.5 in /usr/local/lib/python3.7/dist-packages (from python-dateutil>=2.7->matplotlib) (1.15.0)\n"
          ]
        }
      ]
    },
    {
      "cell_type": "code",
      "execution_count": null,
      "metadata": {
        "id": "hcMTTTgJgBE6"
      },
      "outputs": [],
      "source": [
        "import pandas as pd\n",
        "import numpy as np\n",
        "import matplotlib.pyplot as plt\n",
        "import seaborn as sns\n",
        "import warnings\n",
        "import itertools\n",
        "from scipy import stats as st\n",
        "import pylab \n",
        "\n",
        "warnings.filterwarnings(\"ignore\")"
      ]
    },
    {
      "cell_type": "markdown",
      "source": [
        "# 📞 2. Загрузка файла"
      ],
      "metadata": {
        "id": "a8acVsRNia9o"
      }
    },
    {
      "cell_type": "code",
      "source": [
        "call = pd.read_csv('/content/calls.csv')\n",
        "internet = pd.read_csv('/content/internet.csv', index_col=0)\n",
        "message = pd.read_csv('/content/messages.csv')\n",
        "tariff = pd.read_csv('/content/tariffs.csv')\n",
        "user = pd.read_csv('/content/users.csv')"
      ],
      "metadata": {
        "id": "YwB9-5G-hnso"
      },
      "execution_count": null,
      "outputs": []
    },
    {
      "cell_type": "code",
      "source": [
        "call.head()"
      ],
      "metadata": {
        "colab": {
          "base_uri": "https://localhost:8080/",
          "height": 206
        },
        "id": "ldKM6DfliJwA",
        "outputId": "7ba9f14c-863d-4bb2-84a8-35ba93a85575"
      },
      "execution_count": null,
      "outputs": [
        {
          "output_type": "execute_result",
          "data": {
            "text/plain": [
              "       id   call_date  duration  user_id\n",
              "0  1000_0  2018-07-25      0.00     1000\n",
              "1  1000_1  2018-08-17      0.00     1000\n",
              "2  1000_2  2018-06-11      2.85     1000\n",
              "3  1000_3  2018-09-21     13.80     1000\n",
              "4  1000_4  2018-12-15      5.18     1000"
            ],
            "text/html": [
              "\n",
              "  <div id=\"df-6f0bc115-e7e7-40ea-9f5b-645533ad5e14\">\n",
              "    <div class=\"colab-df-container\">\n",
              "      <div>\n",
              "<style scoped>\n",
              "    .dataframe tbody tr th:only-of-type {\n",
              "        vertical-align: middle;\n",
              "    }\n",
              "\n",
              "    .dataframe tbody tr th {\n",
              "        vertical-align: top;\n",
              "    }\n",
              "\n",
              "    .dataframe thead th {\n",
              "        text-align: right;\n",
              "    }\n",
              "</style>\n",
              "<table border=\"1\" class=\"dataframe\">\n",
              "  <thead>\n",
              "    <tr style=\"text-align: right;\">\n",
              "      <th></th>\n",
              "      <th>id</th>\n",
              "      <th>call_date</th>\n",
              "      <th>duration</th>\n",
              "      <th>user_id</th>\n",
              "    </tr>\n",
              "  </thead>\n",
              "  <tbody>\n",
              "    <tr>\n",
              "      <th>0</th>\n",
              "      <td>1000_0</td>\n",
              "      <td>2018-07-25</td>\n",
              "      <td>0.00</td>\n",
              "      <td>1000</td>\n",
              "    </tr>\n",
              "    <tr>\n",
              "      <th>1</th>\n",
              "      <td>1000_1</td>\n",
              "      <td>2018-08-17</td>\n",
              "      <td>0.00</td>\n",
              "      <td>1000</td>\n",
              "    </tr>\n",
              "    <tr>\n",
              "      <th>2</th>\n",
              "      <td>1000_2</td>\n",
              "      <td>2018-06-11</td>\n",
              "      <td>2.85</td>\n",
              "      <td>1000</td>\n",
              "    </tr>\n",
              "    <tr>\n",
              "      <th>3</th>\n",
              "      <td>1000_3</td>\n",
              "      <td>2018-09-21</td>\n",
              "      <td>13.80</td>\n",
              "      <td>1000</td>\n",
              "    </tr>\n",
              "    <tr>\n",
              "      <th>4</th>\n",
              "      <td>1000_4</td>\n",
              "      <td>2018-12-15</td>\n",
              "      <td>5.18</td>\n",
              "      <td>1000</td>\n",
              "    </tr>\n",
              "  </tbody>\n",
              "</table>\n",
              "</div>\n",
              "      <button class=\"colab-df-convert\" onclick=\"convertToInteractive('df-6f0bc115-e7e7-40ea-9f5b-645533ad5e14')\"\n",
              "              title=\"Convert this dataframe to an interactive table.\"\n",
              "              style=\"display:none;\">\n",
              "        \n",
              "  <svg xmlns=\"http://www.w3.org/2000/svg\" height=\"24px\"viewBox=\"0 0 24 24\"\n",
              "       width=\"24px\">\n",
              "    <path d=\"M0 0h24v24H0V0z\" fill=\"none\"/>\n",
              "    <path d=\"M18.56 5.44l.94 2.06.94-2.06 2.06-.94-2.06-.94-.94-2.06-.94 2.06-2.06.94zm-11 1L8.5 8.5l.94-2.06 2.06-.94-2.06-.94L8.5 2.5l-.94 2.06-2.06.94zm10 10l.94 2.06.94-2.06 2.06-.94-2.06-.94-.94-2.06-.94 2.06-2.06.94z\"/><path d=\"M17.41 7.96l-1.37-1.37c-.4-.4-.92-.59-1.43-.59-.52 0-1.04.2-1.43.59L10.3 9.45l-7.72 7.72c-.78.78-.78 2.05 0 2.83L4 21.41c.39.39.9.59 1.41.59.51 0 1.02-.2 1.41-.59l7.78-7.78 2.81-2.81c.8-.78.8-2.07 0-2.86zM5.41 20L4 18.59l7.72-7.72 1.47 1.35L5.41 20z\"/>\n",
              "  </svg>\n",
              "      </button>\n",
              "      \n",
              "  <style>\n",
              "    .colab-df-container {\n",
              "      display:flex;\n",
              "      flex-wrap:wrap;\n",
              "      gap: 12px;\n",
              "    }\n",
              "\n",
              "    .colab-df-convert {\n",
              "      background-color: #E8F0FE;\n",
              "      border: none;\n",
              "      border-radius: 50%;\n",
              "      cursor: pointer;\n",
              "      display: none;\n",
              "      fill: #1967D2;\n",
              "      height: 32px;\n",
              "      padding: 0 0 0 0;\n",
              "      width: 32px;\n",
              "    }\n",
              "\n",
              "    .colab-df-convert:hover {\n",
              "      background-color: #E2EBFA;\n",
              "      box-shadow: 0px 1px 2px rgba(60, 64, 67, 0.3), 0px 1px 3px 1px rgba(60, 64, 67, 0.15);\n",
              "      fill: #174EA6;\n",
              "    }\n",
              "\n",
              "    [theme=dark] .colab-df-convert {\n",
              "      background-color: #3B4455;\n",
              "      fill: #D2E3FC;\n",
              "    }\n",
              "\n",
              "    [theme=dark] .colab-df-convert:hover {\n",
              "      background-color: #434B5C;\n",
              "      box-shadow: 0px 1px 3px 1px rgba(0, 0, 0, 0.15);\n",
              "      filter: drop-shadow(0px 1px 2px rgba(0, 0, 0, 0.3));\n",
              "      fill: #FFFFFF;\n",
              "    }\n",
              "  </style>\n",
              "\n",
              "      <script>\n",
              "        const buttonEl =\n",
              "          document.querySelector('#df-6f0bc115-e7e7-40ea-9f5b-645533ad5e14 button.colab-df-convert');\n",
              "        buttonEl.style.display =\n",
              "          google.colab.kernel.accessAllowed ? 'block' : 'none';\n",
              "\n",
              "        async function convertToInteractive(key) {\n",
              "          const element = document.querySelector('#df-6f0bc115-e7e7-40ea-9f5b-645533ad5e14');\n",
              "          const dataTable =\n",
              "            await google.colab.kernel.invokeFunction('convertToInteractive',\n",
              "                                                     [key], {});\n",
              "          if (!dataTable) return;\n",
              "\n",
              "          const docLinkHtml = 'Like what you see? Visit the ' +\n",
              "            '<a target=\"_blank\" href=https://colab.research.google.com/notebooks/data_table.ipynb>data table notebook</a>'\n",
              "            + ' to learn more about interactive tables.';\n",
              "          element.innerHTML = '';\n",
              "          dataTable['output_type'] = 'display_data';\n",
              "          await google.colab.output.renderOutput(dataTable, element);\n",
              "          const docLink = document.createElement('div');\n",
              "          docLink.innerHTML = docLinkHtml;\n",
              "          element.appendChild(docLink);\n",
              "        }\n",
              "      </script>\n",
              "    </div>\n",
              "  </div>\n",
              "  "
            ]
          },
          "metadata": {},
          "execution_count": 5
        }
      ]
    },
    {
      "cell_type": "code",
      "source": [
        "call.info()"
      ],
      "metadata": {
        "colab": {
          "base_uri": "https://localhost:8080/"
        },
        "id": "hPiPWQOBiiU9",
        "outputId": "6ec5ef57-3fff-4b2d-fa32-510b30f773fb"
      },
      "execution_count": null,
      "outputs": [
        {
          "output_type": "stream",
          "name": "stdout",
          "text": [
            "<class 'pandas.core.frame.DataFrame'>\n",
            "RangeIndex: 202607 entries, 0 to 202606\n",
            "Data columns (total 4 columns):\n",
            " #   Column     Non-Null Count   Dtype  \n",
            "---  ------     --------------   -----  \n",
            " 0   id         202607 non-null  object \n",
            " 1   call_date  202607 non-null  object \n",
            " 2   duration   202607 non-null  float64\n",
            " 3   user_id    202607 non-null  int64  \n",
            "dtypes: float64(1), int64(1), object(2)\n",
            "memory usage: 6.2+ MB\n"
          ]
        }
      ]
    },
    {
      "cell_type": "code",
      "source": [
        "internet.head()"
      ],
      "metadata": {
        "colab": {
          "base_uri": "https://localhost:8080/",
          "height": 206
        },
        "id": "BJRF-H3Tijm1",
        "outputId": "fc8cb44a-1a59-4b69-cd82-4b961fdfee54"
      },
      "execution_count": null,
      "outputs": [
        {
          "output_type": "execute_result",
          "data": {
            "text/plain": [
              "       id  mb_used session_date  user_id\n",
              "0  1000_0   112.95   2018-11-25     1000\n",
              "1  1000_1  1052.81   2018-09-07     1000\n",
              "2  1000_2  1197.26   2018-06-25     1000\n",
              "3  1000_3   550.27   2018-08-22     1000\n",
              "4  1000_4   302.56   2018-09-24     1000"
            ],
            "text/html": [
              "\n",
              "  <div id=\"df-89795d3f-7432-45c6-bc3e-ee319b21f535\">\n",
              "    <div class=\"colab-df-container\">\n",
              "      <div>\n",
              "<style scoped>\n",
              "    .dataframe tbody tr th:only-of-type {\n",
              "        vertical-align: middle;\n",
              "    }\n",
              "\n",
              "    .dataframe tbody tr th {\n",
              "        vertical-align: top;\n",
              "    }\n",
              "\n",
              "    .dataframe thead th {\n",
              "        text-align: right;\n",
              "    }\n",
              "</style>\n",
              "<table border=\"1\" class=\"dataframe\">\n",
              "  <thead>\n",
              "    <tr style=\"text-align: right;\">\n",
              "      <th></th>\n",
              "      <th>id</th>\n",
              "      <th>mb_used</th>\n",
              "      <th>session_date</th>\n",
              "      <th>user_id</th>\n",
              "    </tr>\n",
              "  </thead>\n",
              "  <tbody>\n",
              "    <tr>\n",
              "      <th>0</th>\n",
              "      <td>1000_0</td>\n",
              "      <td>112.95</td>\n",
              "      <td>2018-11-25</td>\n",
              "      <td>1000</td>\n",
              "    </tr>\n",
              "    <tr>\n",
              "      <th>1</th>\n",
              "      <td>1000_1</td>\n",
              "      <td>1052.81</td>\n",
              "      <td>2018-09-07</td>\n",
              "      <td>1000</td>\n",
              "    </tr>\n",
              "    <tr>\n",
              "      <th>2</th>\n",
              "      <td>1000_2</td>\n",
              "      <td>1197.26</td>\n",
              "      <td>2018-06-25</td>\n",
              "      <td>1000</td>\n",
              "    </tr>\n",
              "    <tr>\n",
              "      <th>3</th>\n",
              "      <td>1000_3</td>\n",
              "      <td>550.27</td>\n",
              "      <td>2018-08-22</td>\n",
              "      <td>1000</td>\n",
              "    </tr>\n",
              "    <tr>\n",
              "      <th>4</th>\n",
              "      <td>1000_4</td>\n",
              "      <td>302.56</td>\n",
              "      <td>2018-09-24</td>\n",
              "      <td>1000</td>\n",
              "    </tr>\n",
              "  </tbody>\n",
              "</table>\n",
              "</div>\n",
              "      <button class=\"colab-df-convert\" onclick=\"convertToInteractive('df-89795d3f-7432-45c6-bc3e-ee319b21f535')\"\n",
              "              title=\"Convert this dataframe to an interactive table.\"\n",
              "              style=\"display:none;\">\n",
              "        \n",
              "  <svg xmlns=\"http://www.w3.org/2000/svg\" height=\"24px\"viewBox=\"0 0 24 24\"\n",
              "       width=\"24px\">\n",
              "    <path d=\"M0 0h24v24H0V0z\" fill=\"none\"/>\n",
              "    <path d=\"M18.56 5.44l.94 2.06.94-2.06 2.06-.94-2.06-.94-.94-2.06-.94 2.06-2.06.94zm-11 1L8.5 8.5l.94-2.06 2.06-.94-2.06-.94L8.5 2.5l-.94 2.06-2.06.94zm10 10l.94 2.06.94-2.06 2.06-.94-2.06-.94-.94-2.06-.94 2.06-2.06.94z\"/><path d=\"M17.41 7.96l-1.37-1.37c-.4-.4-.92-.59-1.43-.59-.52 0-1.04.2-1.43.59L10.3 9.45l-7.72 7.72c-.78.78-.78 2.05 0 2.83L4 21.41c.39.39.9.59 1.41.59.51 0 1.02-.2 1.41-.59l7.78-7.78 2.81-2.81c.8-.78.8-2.07 0-2.86zM5.41 20L4 18.59l7.72-7.72 1.47 1.35L5.41 20z\"/>\n",
              "  </svg>\n",
              "      </button>\n",
              "      \n",
              "  <style>\n",
              "    .colab-df-container {\n",
              "      display:flex;\n",
              "      flex-wrap:wrap;\n",
              "      gap: 12px;\n",
              "    }\n",
              "\n",
              "    .colab-df-convert {\n",
              "      background-color: #E8F0FE;\n",
              "      border: none;\n",
              "      border-radius: 50%;\n",
              "      cursor: pointer;\n",
              "      display: none;\n",
              "      fill: #1967D2;\n",
              "      height: 32px;\n",
              "      padding: 0 0 0 0;\n",
              "      width: 32px;\n",
              "    }\n",
              "\n",
              "    .colab-df-convert:hover {\n",
              "      background-color: #E2EBFA;\n",
              "      box-shadow: 0px 1px 2px rgba(60, 64, 67, 0.3), 0px 1px 3px 1px rgba(60, 64, 67, 0.15);\n",
              "      fill: #174EA6;\n",
              "    }\n",
              "\n",
              "    [theme=dark] .colab-df-convert {\n",
              "      background-color: #3B4455;\n",
              "      fill: #D2E3FC;\n",
              "    }\n",
              "\n",
              "    [theme=dark] .colab-df-convert:hover {\n",
              "      background-color: #434B5C;\n",
              "      box-shadow: 0px 1px 3px 1px rgba(0, 0, 0, 0.15);\n",
              "      filter: drop-shadow(0px 1px 2px rgba(0, 0, 0, 0.3));\n",
              "      fill: #FFFFFF;\n",
              "    }\n",
              "  </style>\n",
              "\n",
              "      <script>\n",
              "        const buttonEl =\n",
              "          document.querySelector('#df-89795d3f-7432-45c6-bc3e-ee319b21f535 button.colab-df-convert');\n",
              "        buttonEl.style.display =\n",
              "          google.colab.kernel.accessAllowed ? 'block' : 'none';\n",
              "\n",
              "        async function convertToInteractive(key) {\n",
              "          const element = document.querySelector('#df-89795d3f-7432-45c6-bc3e-ee319b21f535');\n",
              "          const dataTable =\n",
              "            await google.colab.kernel.invokeFunction('convertToInteractive',\n",
              "                                                     [key], {});\n",
              "          if (!dataTable) return;\n",
              "\n",
              "          const docLinkHtml = 'Like what you see? Visit the ' +\n",
              "            '<a target=\"_blank\" href=https://colab.research.google.com/notebooks/data_table.ipynb>data table notebook</a>'\n",
              "            + ' to learn more about interactive tables.';\n",
              "          element.innerHTML = '';\n",
              "          dataTable['output_type'] = 'display_data';\n",
              "          await google.colab.output.renderOutput(dataTable, element);\n",
              "          const docLink = document.createElement('div');\n",
              "          docLink.innerHTML = docLinkHtml;\n",
              "          element.appendChild(docLink);\n",
              "        }\n",
              "      </script>\n",
              "    </div>\n",
              "  </div>\n",
              "  "
            ]
          },
          "metadata": {},
          "execution_count": 7
        }
      ]
    },
    {
      "cell_type": "code",
      "source": [
        "internet.info()"
      ],
      "metadata": {
        "colab": {
          "base_uri": "https://localhost:8080/"
        },
        "id": "mjiK61EsivlB",
        "outputId": "105052a3-b01b-4e09-f478-e7e7ef830a9b"
      },
      "execution_count": null,
      "outputs": [
        {
          "output_type": "stream",
          "name": "stdout",
          "text": [
            "<class 'pandas.core.frame.DataFrame'>\n",
            "Int64Index: 149396 entries, 0 to 149395\n",
            "Data columns (total 4 columns):\n",
            " #   Column        Non-Null Count   Dtype  \n",
            "---  ------        --------------   -----  \n",
            " 0   id            149396 non-null  object \n",
            " 1   mb_used       149396 non-null  float64\n",
            " 2   session_date  149396 non-null  object \n",
            " 3   user_id       149396 non-null  int64  \n",
            "dtypes: float64(1), int64(1), object(2)\n",
            "memory usage: 5.7+ MB\n"
          ]
        }
      ]
    },
    {
      "cell_type": "code",
      "source": [
        "message.head()"
      ],
      "metadata": {
        "colab": {
          "base_uri": "https://localhost:8080/",
          "height": 206
        },
        "id": "UOx5nYGoiwzt",
        "outputId": "a8ee79bc-009a-495d-e8b9-ebb54073adc4"
      },
      "execution_count": null,
      "outputs": [
        {
          "output_type": "execute_result",
          "data": {
            "text/plain": [
              "       id message_date  user_id\n",
              "0  1000_0   2018-06-27     1000\n",
              "1  1000_1   2018-10-08     1000\n",
              "2  1000_2   2018-08-04     1000\n",
              "3  1000_3   2018-06-16     1000\n",
              "4  1000_4   2018-12-05     1000"
            ],
            "text/html": [
              "\n",
              "  <div id=\"df-3a83fc34-4af5-4020-abd2-0edb442f3e3f\">\n",
              "    <div class=\"colab-df-container\">\n",
              "      <div>\n",
              "<style scoped>\n",
              "    .dataframe tbody tr th:only-of-type {\n",
              "        vertical-align: middle;\n",
              "    }\n",
              "\n",
              "    .dataframe tbody tr th {\n",
              "        vertical-align: top;\n",
              "    }\n",
              "\n",
              "    .dataframe thead th {\n",
              "        text-align: right;\n",
              "    }\n",
              "</style>\n",
              "<table border=\"1\" class=\"dataframe\">\n",
              "  <thead>\n",
              "    <tr style=\"text-align: right;\">\n",
              "      <th></th>\n",
              "      <th>id</th>\n",
              "      <th>message_date</th>\n",
              "      <th>user_id</th>\n",
              "    </tr>\n",
              "  </thead>\n",
              "  <tbody>\n",
              "    <tr>\n",
              "      <th>0</th>\n",
              "      <td>1000_0</td>\n",
              "      <td>2018-06-27</td>\n",
              "      <td>1000</td>\n",
              "    </tr>\n",
              "    <tr>\n",
              "      <th>1</th>\n",
              "      <td>1000_1</td>\n",
              "      <td>2018-10-08</td>\n",
              "      <td>1000</td>\n",
              "    </tr>\n",
              "    <tr>\n",
              "      <th>2</th>\n",
              "      <td>1000_2</td>\n",
              "      <td>2018-08-04</td>\n",
              "      <td>1000</td>\n",
              "    </tr>\n",
              "    <tr>\n",
              "      <th>3</th>\n",
              "      <td>1000_3</td>\n",
              "      <td>2018-06-16</td>\n",
              "      <td>1000</td>\n",
              "    </tr>\n",
              "    <tr>\n",
              "      <th>4</th>\n",
              "      <td>1000_4</td>\n",
              "      <td>2018-12-05</td>\n",
              "      <td>1000</td>\n",
              "    </tr>\n",
              "  </tbody>\n",
              "</table>\n",
              "</div>\n",
              "      <button class=\"colab-df-convert\" onclick=\"convertToInteractive('df-3a83fc34-4af5-4020-abd2-0edb442f3e3f')\"\n",
              "              title=\"Convert this dataframe to an interactive table.\"\n",
              "              style=\"display:none;\">\n",
              "        \n",
              "  <svg xmlns=\"http://www.w3.org/2000/svg\" height=\"24px\"viewBox=\"0 0 24 24\"\n",
              "       width=\"24px\">\n",
              "    <path d=\"M0 0h24v24H0V0z\" fill=\"none\"/>\n",
              "    <path d=\"M18.56 5.44l.94 2.06.94-2.06 2.06-.94-2.06-.94-.94-2.06-.94 2.06-2.06.94zm-11 1L8.5 8.5l.94-2.06 2.06-.94-2.06-.94L8.5 2.5l-.94 2.06-2.06.94zm10 10l.94 2.06.94-2.06 2.06-.94-2.06-.94-.94-2.06-.94 2.06-2.06.94z\"/><path d=\"M17.41 7.96l-1.37-1.37c-.4-.4-.92-.59-1.43-.59-.52 0-1.04.2-1.43.59L10.3 9.45l-7.72 7.72c-.78.78-.78 2.05 0 2.83L4 21.41c.39.39.9.59 1.41.59.51 0 1.02-.2 1.41-.59l7.78-7.78 2.81-2.81c.8-.78.8-2.07 0-2.86zM5.41 20L4 18.59l7.72-7.72 1.47 1.35L5.41 20z\"/>\n",
              "  </svg>\n",
              "      </button>\n",
              "      \n",
              "  <style>\n",
              "    .colab-df-container {\n",
              "      display:flex;\n",
              "      flex-wrap:wrap;\n",
              "      gap: 12px;\n",
              "    }\n",
              "\n",
              "    .colab-df-convert {\n",
              "      background-color: #E8F0FE;\n",
              "      border: none;\n",
              "      border-radius: 50%;\n",
              "      cursor: pointer;\n",
              "      display: none;\n",
              "      fill: #1967D2;\n",
              "      height: 32px;\n",
              "      padding: 0 0 0 0;\n",
              "      width: 32px;\n",
              "    }\n",
              "\n",
              "    .colab-df-convert:hover {\n",
              "      background-color: #E2EBFA;\n",
              "      box-shadow: 0px 1px 2px rgba(60, 64, 67, 0.3), 0px 1px 3px 1px rgba(60, 64, 67, 0.15);\n",
              "      fill: #174EA6;\n",
              "    }\n",
              "\n",
              "    [theme=dark] .colab-df-convert {\n",
              "      background-color: #3B4455;\n",
              "      fill: #D2E3FC;\n",
              "    }\n",
              "\n",
              "    [theme=dark] .colab-df-convert:hover {\n",
              "      background-color: #434B5C;\n",
              "      box-shadow: 0px 1px 3px 1px rgba(0, 0, 0, 0.15);\n",
              "      filter: drop-shadow(0px 1px 2px rgba(0, 0, 0, 0.3));\n",
              "      fill: #FFFFFF;\n",
              "    }\n",
              "  </style>\n",
              "\n",
              "      <script>\n",
              "        const buttonEl =\n",
              "          document.querySelector('#df-3a83fc34-4af5-4020-abd2-0edb442f3e3f button.colab-df-convert');\n",
              "        buttonEl.style.display =\n",
              "          google.colab.kernel.accessAllowed ? 'block' : 'none';\n",
              "\n",
              "        async function convertToInteractive(key) {\n",
              "          const element = document.querySelector('#df-3a83fc34-4af5-4020-abd2-0edb442f3e3f');\n",
              "          const dataTable =\n",
              "            await google.colab.kernel.invokeFunction('convertToInteractive',\n",
              "                                                     [key], {});\n",
              "          if (!dataTable) return;\n",
              "\n",
              "          const docLinkHtml = 'Like what you see? Visit the ' +\n",
              "            '<a target=\"_blank\" href=https://colab.research.google.com/notebooks/data_table.ipynb>data table notebook</a>'\n",
              "            + ' to learn more about interactive tables.';\n",
              "          element.innerHTML = '';\n",
              "          dataTable['output_type'] = 'display_data';\n",
              "          await google.colab.output.renderOutput(dataTable, element);\n",
              "          const docLink = document.createElement('div');\n",
              "          docLink.innerHTML = docLinkHtml;\n",
              "          element.appendChild(docLink);\n",
              "        }\n",
              "      </script>\n",
              "    </div>\n",
              "  </div>\n",
              "  "
            ]
          },
          "metadata": {},
          "execution_count": 9
        }
      ]
    },
    {
      "cell_type": "code",
      "source": [
        "message.info()"
      ],
      "metadata": {
        "colab": {
          "base_uri": "https://localhost:8080/"
        },
        "id": "MxbTW05YjB0t",
        "outputId": "d745e40e-3021-4b6e-a3d5-a3982f1dd9fd"
      },
      "execution_count": null,
      "outputs": [
        {
          "output_type": "stream",
          "name": "stdout",
          "text": [
            "<class 'pandas.core.frame.DataFrame'>\n",
            "RangeIndex: 123036 entries, 0 to 123035\n",
            "Data columns (total 3 columns):\n",
            " #   Column        Non-Null Count   Dtype \n",
            "---  ------        --------------   ----- \n",
            " 0   id            123036 non-null  object\n",
            " 1   message_date  123036 non-null  object\n",
            " 2   user_id       123036 non-null  int64 \n",
            "dtypes: int64(1), object(2)\n",
            "memory usage: 2.8+ MB\n"
          ]
        }
      ]
    },
    {
      "cell_type": "code",
      "source": [
        "tariff.head()"
      ],
      "metadata": {
        "colab": {
          "base_uri": "https://localhost:8080/",
          "height": 112
        },
        "id": "UHe1K262jGJJ",
        "outputId": "a30cd4cd-da02-4873-f57d-72433c63b166"
      },
      "execution_count": null,
      "outputs": [
        {
          "output_type": "execute_result",
          "data": {
            "text/plain": [
              "   messages_included  mb_per_month_included  minutes_included  \\\n",
              "0                 50                  15360               500   \n",
              "1               1000                  30720              3000   \n",
              "\n",
              "   rub_monthly_fee  rub_per_gb  rub_per_message  rub_per_minute tariff_name  \n",
              "0              550         200                3               3       smart  \n",
              "1             1950         150                1               1       ultra  "
            ],
            "text/html": [
              "\n",
              "  <div id=\"df-b9a3d7a6-3fea-4848-8156-d40a96b66063\">\n",
              "    <div class=\"colab-df-container\">\n",
              "      <div>\n",
              "<style scoped>\n",
              "    .dataframe tbody tr th:only-of-type {\n",
              "        vertical-align: middle;\n",
              "    }\n",
              "\n",
              "    .dataframe tbody tr th {\n",
              "        vertical-align: top;\n",
              "    }\n",
              "\n",
              "    .dataframe thead th {\n",
              "        text-align: right;\n",
              "    }\n",
              "</style>\n",
              "<table border=\"1\" class=\"dataframe\">\n",
              "  <thead>\n",
              "    <tr style=\"text-align: right;\">\n",
              "      <th></th>\n",
              "      <th>messages_included</th>\n",
              "      <th>mb_per_month_included</th>\n",
              "      <th>minutes_included</th>\n",
              "      <th>rub_monthly_fee</th>\n",
              "      <th>rub_per_gb</th>\n",
              "      <th>rub_per_message</th>\n",
              "      <th>rub_per_minute</th>\n",
              "      <th>tariff_name</th>\n",
              "    </tr>\n",
              "  </thead>\n",
              "  <tbody>\n",
              "    <tr>\n",
              "      <th>0</th>\n",
              "      <td>50</td>\n",
              "      <td>15360</td>\n",
              "      <td>500</td>\n",
              "      <td>550</td>\n",
              "      <td>200</td>\n",
              "      <td>3</td>\n",
              "      <td>3</td>\n",
              "      <td>smart</td>\n",
              "    </tr>\n",
              "    <tr>\n",
              "      <th>1</th>\n",
              "      <td>1000</td>\n",
              "      <td>30720</td>\n",
              "      <td>3000</td>\n",
              "      <td>1950</td>\n",
              "      <td>150</td>\n",
              "      <td>1</td>\n",
              "      <td>1</td>\n",
              "      <td>ultra</td>\n",
              "    </tr>\n",
              "  </tbody>\n",
              "</table>\n",
              "</div>\n",
              "      <button class=\"colab-df-convert\" onclick=\"convertToInteractive('df-b9a3d7a6-3fea-4848-8156-d40a96b66063')\"\n",
              "              title=\"Convert this dataframe to an interactive table.\"\n",
              "              style=\"display:none;\">\n",
              "        \n",
              "  <svg xmlns=\"http://www.w3.org/2000/svg\" height=\"24px\"viewBox=\"0 0 24 24\"\n",
              "       width=\"24px\">\n",
              "    <path d=\"M0 0h24v24H0V0z\" fill=\"none\"/>\n",
              "    <path d=\"M18.56 5.44l.94 2.06.94-2.06 2.06-.94-2.06-.94-.94-2.06-.94 2.06-2.06.94zm-11 1L8.5 8.5l.94-2.06 2.06-.94-2.06-.94L8.5 2.5l-.94 2.06-2.06.94zm10 10l.94 2.06.94-2.06 2.06-.94-2.06-.94-.94-2.06-.94 2.06-2.06.94z\"/><path d=\"M17.41 7.96l-1.37-1.37c-.4-.4-.92-.59-1.43-.59-.52 0-1.04.2-1.43.59L10.3 9.45l-7.72 7.72c-.78.78-.78 2.05 0 2.83L4 21.41c.39.39.9.59 1.41.59.51 0 1.02-.2 1.41-.59l7.78-7.78 2.81-2.81c.8-.78.8-2.07 0-2.86zM5.41 20L4 18.59l7.72-7.72 1.47 1.35L5.41 20z\"/>\n",
              "  </svg>\n",
              "      </button>\n",
              "      \n",
              "  <style>\n",
              "    .colab-df-container {\n",
              "      display:flex;\n",
              "      flex-wrap:wrap;\n",
              "      gap: 12px;\n",
              "    }\n",
              "\n",
              "    .colab-df-convert {\n",
              "      background-color: #E8F0FE;\n",
              "      border: none;\n",
              "      border-radius: 50%;\n",
              "      cursor: pointer;\n",
              "      display: none;\n",
              "      fill: #1967D2;\n",
              "      height: 32px;\n",
              "      padding: 0 0 0 0;\n",
              "      width: 32px;\n",
              "    }\n",
              "\n",
              "    .colab-df-convert:hover {\n",
              "      background-color: #E2EBFA;\n",
              "      box-shadow: 0px 1px 2px rgba(60, 64, 67, 0.3), 0px 1px 3px 1px rgba(60, 64, 67, 0.15);\n",
              "      fill: #174EA6;\n",
              "    }\n",
              "\n",
              "    [theme=dark] .colab-df-convert {\n",
              "      background-color: #3B4455;\n",
              "      fill: #D2E3FC;\n",
              "    }\n",
              "\n",
              "    [theme=dark] .colab-df-convert:hover {\n",
              "      background-color: #434B5C;\n",
              "      box-shadow: 0px 1px 3px 1px rgba(0, 0, 0, 0.15);\n",
              "      filter: drop-shadow(0px 1px 2px rgba(0, 0, 0, 0.3));\n",
              "      fill: #FFFFFF;\n",
              "    }\n",
              "  </style>\n",
              "\n",
              "      <script>\n",
              "        const buttonEl =\n",
              "          document.querySelector('#df-b9a3d7a6-3fea-4848-8156-d40a96b66063 button.colab-df-convert');\n",
              "        buttonEl.style.display =\n",
              "          google.colab.kernel.accessAllowed ? 'block' : 'none';\n",
              "\n",
              "        async function convertToInteractive(key) {\n",
              "          const element = document.querySelector('#df-b9a3d7a6-3fea-4848-8156-d40a96b66063');\n",
              "          const dataTable =\n",
              "            await google.colab.kernel.invokeFunction('convertToInteractive',\n",
              "                                                     [key], {});\n",
              "          if (!dataTable) return;\n",
              "\n",
              "          const docLinkHtml = 'Like what you see? Visit the ' +\n",
              "            '<a target=\"_blank\" href=https://colab.research.google.com/notebooks/data_table.ipynb>data table notebook</a>'\n",
              "            + ' to learn more about interactive tables.';\n",
              "          element.innerHTML = '';\n",
              "          dataTable['output_type'] = 'display_data';\n",
              "          await google.colab.output.renderOutput(dataTable, element);\n",
              "          const docLink = document.createElement('div');\n",
              "          docLink.innerHTML = docLinkHtml;\n",
              "          element.appendChild(docLink);\n",
              "        }\n",
              "      </script>\n",
              "    </div>\n",
              "  </div>\n",
              "  "
            ]
          },
          "metadata": {},
          "execution_count": 11
        }
      ]
    },
    {
      "cell_type": "code",
      "source": [
        "tariff.info()"
      ],
      "metadata": {
        "colab": {
          "base_uri": "https://localhost:8080/"
        },
        "id": "iO9oeuPTjMz1",
        "outputId": "49022ed3-0456-4748-8f65-545600f9fb5c"
      },
      "execution_count": null,
      "outputs": [
        {
          "output_type": "stream",
          "name": "stdout",
          "text": [
            "<class 'pandas.core.frame.DataFrame'>\n",
            "RangeIndex: 2 entries, 0 to 1\n",
            "Data columns (total 8 columns):\n",
            " #   Column                 Non-Null Count  Dtype \n",
            "---  ------                 --------------  ----- \n",
            " 0   messages_included      2 non-null      int64 \n",
            " 1   mb_per_month_included  2 non-null      int64 \n",
            " 2   minutes_included       2 non-null      int64 \n",
            " 3   rub_monthly_fee        2 non-null      int64 \n",
            " 4   rub_per_gb             2 non-null      int64 \n",
            " 5   rub_per_message        2 non-null      int64 \n",
            " 6   rub_per_minute         2 non-null      int64 \n",
            " 7   tariff_name            2 non-null      object\n",
            "dtypes: int64(7), object(1)\n",
            "memory usage: 256.0+ bytes\n"
          ]
        }
      ]
    },
    {
      "cell_type": "code",
      "source": [
        "user.head()"
      ],
      "metadata": {
        "colab": {
          "base_uri": "https://localhost:8080/",
          "height": 206
        },
        "id": "6RdwFLOejPBG",
        "outputId": "3bd892e0-380f-40d3-f035-0c17969ddb92"
      },
      "execution_count": null,
      "outputs": [
        {
          "output_type": "execute_result",
          "data": {
            "text/plain": [
              "   user_id  age churn_date         city first_name  last_name    reg_date  \\\n",
              "0     1000   52        NaN    Краснодар     Рафаил  Верещагин  2018-05-25   \n",
              "1     1001   41        NaN       Москва       Иван       Ежов  2018-11-01   \n",
              "2     1002   59        NaN  Стерлитамак    Евгений  Абрамович  2018-06-17   \n",
              "3     1003   23        NaN       Москва      Белла   Белякова  2018-08-17   \n",
              "4     1004   68        NaN  Новокузнецк    Татьяна   Авдеенко  2018-05-14   \n",
              "\n",
              "  tariff  \n",
              "0  ultra  \n",
              "1  smart  \n",
              "2  smart  \n",
              "3  ultra  \n",
              "4  ultra  "
            ],
            "text/html": [
              "\n",
              "  <div id=\"df-3ed24bd5-6d8f-4ac4-bf14-89602242cecb\">\n",
              "    <div class=\"colab-df-container\">\n",
              "      <div>\n",
              "<style scoped>\n",
              "    .dataframe tbody tr th:only-of-type {\n",
              "        vertical-align: middle;\n",
              "    }\n",
              "\n",
              "    .dataframe tbody tr th {\n",
              "        vertical-align: top;\n",
              "    }\n",
              "\n",
              "    .dataframe thead th {\n",
              "        text-align: right;\n",
              "    }\n",
              "</style>\n",
              "<table border=\"1\" class=\"dataframe\">\n",
              "  <thead>\n",
              "    <tr style=\"text-align: right;\">\n",
              "      <th></th>\n",
              "      <th>user_id</th>\n",
              "      <th>age</th>\n",
              "      <th>churn_date</th>\n",
              "      <th>city</th>\n",
              "      <th>first_name</th>\n",
              "      <th>last_name</th>\n",
              "      <th>reg_date</th>\n",
              "      <th>tariff</th>\n",
              "    </tr>\n",
              "  </thead>\n",
              "  <tbody>\n",
              "    <tr>\n",
              "      <th>0</th>\n",
              "      <td>1000</td>\n",
              "      <td>52</td>\n",
              "      <td>NaN</td>\n",
              "      <td>Краснодар</td>\n",
              "      <td>Рафаил</td>\n",
              "      <td>Верещагин</td>\n",
              "      <td>2018-05-25</td>\n",
              "      <td>ultra</td>\n",
              "    </tr>\n",
              "    <tr>\n",
              "      <th>1</th>\n",
              "      <td>1001</td>\n",
              "      <td>41</td>\n",
              "      <td>NaN</td>\n",
              "      <td>Москва</td>\n",
              "      <td>Иван</td>\n",
              "      <td>Ежов</td>\n",
              "      <td>2018-11-01</td>\n",
              "      <td>smart</td>\n",
              "    </tr>\n",
              "    <tr>\n",
              "      <th>2</th>\n",
              "      <td>1002</td>\n",
              "      <td>59</td>\n",
              "      <td>NaN</td>\n",
              "      <td>Стерлитамак</td>\n",
              "      <td>Евгений</td>\n",
              "      <td>Абрамович</td>\n",
              "      <td>2018-06-17</td>\n",
              "      <td>smart</td>\n",
              "    </tr>\n",
              "    <tr>\n",
              "      <th>3</th>\n",
              "      <td>1003</td>\n",
              "      <td>23</td>\n",
              "      <td>NaN</td>\n",
              "      <td>Москва</td>\n",
              "      <td>Белла</td>\n",
              "      <td>Белякова</td>\n",
              "      <td>2018-08-17</td>\n",
              "      <td>ultra</td>\n",
              "    </tr>\n",
              "    <tr>\n",
              "      <th>4</th>\n",
              "      <td>1004</td>\n",
              "      <td>68</td>\n",
              "      <td>NaN</td>\n",
              "      <td>Новокузнецк</td>\n",
              "      <td>Татьяна</td>\n",
              "      <td>Авдеенко</td>\n",
              "      <td>2018-05-14</td>\n",
              "      <td>ultra</td>\n",
              "    </tr>\n",
              "  </tbody>\n",
              "</table>\n",
              "</div>\n",
              "      <button class=\"colab-df-convert\" onclick=\"convertToInteractive('df-3ed24bd5-6d8f-4ac4-bf14-89602242cecb')\"\n",
              "              title=\"Convert this dataframe to an interactive table.\"\n",
              "              style=\"display:none;\">\n",
              "        \n",
              "  <svg xmlns=\"http://www.w3.org/2000/svg\" height=\"24px\"viewBox=\"0 0 24 24\"\n",
              "       width=\"24px\">\n",
              "    <path d=\"M0 0h24v24H0V0z\" fill=\"none\"/>\n",
              "    <path d=\"M18.56 5.44l.94 2.06.94-2.06 2.06-.94-2.06-.94-.94-2.06-.94 2.06-2.06.94zm-11 1L8.5 8.5l.94-2.06 2.06-.94-2.06-.94L8.5 2.5l-.94 2.06-2.06.94zm10 10l.94 2.06.94-2.06 2.06-.94-2.06-.94-.94-2.06-.94 2.06-2.06.94z\"/><path d=\"M17.41 7.96l-1.37-1.37c-.4-.4-.92-.59-1.43-.59-.52 0-1.04.2-1.43.59L10.3 9.45l-7.72 7.72c-.78.78-.78 2.05 0 2.83L4 21.41c.39.39.9.59 1.41.59.51 0 1.02-.2 1.41-.59l7.78-7.78 2.81-2.81c.8-.78.8-2.07 0-2.86zM5.41 20L4 18.59l7.72-7.72 1.47 1.35L5.41 20z\"/>\n",
              "  </svg>\n",
              "      </button>\n",
              "      \n",
              "  <style>\n",
              "    .colab-df-container {\n",
              "      display:flex;\n",
              "      flex-wrap:wrap;\n",
              "      gap: 12px;\n",
              "    }\n",
              "\n",
              "    .colab-df-convert {\n",
              "      background-color: #E8F0FE;\n",
              "      border: none;\n",
              "      border-radius: 50%;\n",
              "      cursor: pointer;\n",
              "      display: none;\n",
              "      fill: #1967D2;\n",
              "      height: 32px;\n",
              "      padding: 0 0 0 0;\n",
              "      width: 32px;\n",
              "    }\n",
              "\n",
              "    .colab-df-convert:hover {\n",
              "      background-color: #E2EBFA;\n",
              "      box-shadow: 0px 1px 2px rgba(60, 64, 67, 0.3), 0px 1px 3px 1px rgba(60, 64, 67, 0.15);\n",
              "      fill: #174EA6;\n",
              "    }\n",
              "\n",
              "    [theme=dark] .colab-df-convert {\n",
              "      background-color: #3B4455;\n",
              "      fill: #D2E3FC;\n",
              "    }\n",
              "\n",
              "    [theme=dark] .colab-df-convert:hover {\n",
              "      background-color: #434B5C;\n",
              "      box-shadow: 0px 1px 3px 1px rgba(0, 0, 0, 0.15);\n",
              "      filter: drop-shadow(0px 1px 2px rgba(0, 0, 0, 0.3));\n",
              "      fill: #FFFFFF;\n",
              "    }\n",
              "  </style>\n",
              "\n",
              "      <script>\n",
              "        const buttonEl =\n",
              "          document.querySelector('#df-3ed24bd5-6d8f-4ac4-bf14-89602242cecb button.colab-df-convert');\n",
              "        buttonEl.style.display =\n",
              "          google.colab.kernel.accessAllowed ? 'block' : 'none';\n",
              "\n",
              "        async function convertToInteractive(key) {\n",
              "          const element = document.querySelector('#df-3ed24bd5-6d8f-4ac4-bf14-89602242cecb');\n",
              "          const dataTable =\n",
              "            await google.colab.kernel.invokeFunction('convertToInteractive',\n",
              "                                                     [key], {});\n",
              "          if (!dataTable) return;\n",
              "\n",
              "          const docLinkHtml = 'Like what you see? Visit the ' +\n",
              "            '<a target=\"_blank\" href=https://colab.research.google.com/notebooks/data_table.ipynb>data table notebook</a>'\n",
              "            + ' to learn more about interactive tables.';\n",
              "          element.innerHTML = '';\n",
              "          dataTable['output_type'] = 'display_data';\n",
              "          await google.colab.output.renderOutput(dataTable, element);\n",
              "          const docLink = document.createElement('div');\n",
              "          docLink.innerHTML = docLinkHtml;\n",
              "          element.appendChild(docLink);\n",
              "        }\n",
              "      </script>\n",
              "    </div>\n",
              "  </div>\n",
              "  "
            ]
          },
          "metadata": {},
          "execution_count": 13
        }
      ]
    },
    {
      "cell_type": "code",
      "source": [
        "user.info()"
      ],
      "metadata": {
        "colab": {
          "base_uri": "https://localhost:8080/"
        },
        "id": "9PhEsOlvjTg9",
        "outputId": "f8d83fe7-8494-4ce5-fb43-18fdb7e182b1"
      },
      "execution_count": null,
      "outputs": [
        {
          "output_type": "stream",
          "name": "stdout",
          "text": [
            "<class 'pandas.core.frame.DataFrame'>\n",
            "RangeIndex: 500 entries, 0 to 499\n",
            "Data columns (total 8 columns):\n",
            " #   Column      Non-Null Count  Dtype \n",
            "---  ------      --------------  ----- \n",
            " 0   user_id     500 non-null    int64 \n",
            " 1   age         500 non-null    int64 \n",
            " 2   churn_date  38 non-null     object\n",
            " 3   city        500 non-null    object\n",
            " 4   first_name  500 non-null    object\n",
            " 5   last_name   500 non-null    object\n",
            " 6   reg_date    500 non-null    object\n",
            " 7   tariff      500 non-null    object\n",
            "dtypes: int64(2), object(6)\n",
            "memory usage: 31.4+ KB\n"
          ]
        }
      ]
    },
    {
      "cell_type": "markdown",
      "source": [
        "# 💡 3. Описание данных и предобработка"
      ],
      "metadata": {
        "id": "zsLYeID6jhPI"
      }
    },
    {
      "cell_type": "markdown",
      "source": [
        "Таблица **user** (информация о пользователях):\n",
        "\n",
        "- **user_id** — уникальный идентификатор пользователя\n",
        "- **first_name** — имя пользователя\n",
        "- **last_name** — фамилия пользователя\n",
        "- **age** — возраст пользователя (годы)\n",
        "- **reg_date** — дата подключения тарифа (день, месяц, год)\n",
        "- **churn_date** — дата прекращения пользования тарифом (если значение пропущено, то тариф ещё действовал на момент выгрузки данных)\n",
        "- **city** — город проживания пользователя\n",
        "- **tariff** — название тарифного плана"
      ],
      "metadata": {
        "id": "T5bDG7g_kZFc"
      }
    },
    {
      "cell_type": "markdown",
      "source": [
        "Таблица **call** (информация о звонках):\n",
        "\n",
        "- **id** — уникальный номер звонка\n",
        "- **call_date** — дата звонка\n",
        "- **duration** — длительность звонка в минутах\n",
        "- **user_id** — идентификатор пользователя, сделавшего звонок\n",
        "\n"
      ],
      "metadata": {
        "id": "ajjbPQyVkkWL"
      }
    },
    {
      "cell_type": "markdown",
      "source": [
        "Таблица **message** (информация о сообщениях):\n",
        "\n",
        "- **id** — уникальный номер сообщения\n",
        "- **message_date** — дата сообщения\n",
        "- **user_id** — идентификатор пользователя, отправившего сообщение\n",
        "\n"
      ],
      "metadata": {
        "id": "Ib6AJbRwkkYh"
      }
    },
    {
      "cell_type": "markdown",
      "source": [
        "Таблица **internet** (информация об интернет-сессиях):\n",
        "\n",
        "- **id** — уникальный номер сессии\n",
        "- **mb_used** — объём потраченного за сессию интернет-трафика (в мегабайтах)\n",
        "- **session_date** — дата интернет-сессии\n",
        "- **user_id** — идентификатор пользователя\n",
        "\n",
        "\n"
      ],
      "metadata": {
        "id": "GSEoPvA8kkbJ"
      }
    },
    {
      "cell_type": "markdown",
      "source": [
        "Таблица **tariff** (информация о тарифах):\n",
        "\n",
        "- **tariff_name** — название тарифа\n",
        "- **rub_monthly_fee** — ежемесячная абонентская плата в рублях\n",
        "- **minutes_included** — количество минут разговора в месяц, включённых в абонентскую плату\n",
        "- **messages_included** — количество сообщений в месяц, включённых в абонентскую плату\n",
        "- **mb_per_month_included** — объём интернет-трафика, включённого в абонентскую плату (в мегабайтах)\n",
        "- **rub_per_minute** — стоимость минуты разговора сверх тарифного пакета (например, если в тарифе 100 минут разговора в месяц, то со 101 минуты будет взиматься плата)\n",
        "- **rub_per_message** — стоимость отправки сообщения сверх тарифного пакета\n",
        "- **rub_per_gb** — стоимость дополнительного гигабайта интернет-трафика сверх тарифного пакета (1 гигабайт = 1024 мегабайта)"
      ],
      "metadata": {
        "id": "k9pXlddYkkdU"
      }
    },
    {
      "cell_type": "code",
      "source": [
        "print(call['call_date'].min())\n",
        "print(call['call_date'].max())"
      ],
      "metadata": {
        "colab": {
          "base_uri": "https://localhost:8080/"
        },
        "id": "rGojKwH-5tVA",
        "outputId": "88dd87ea-9b64-470c-f663-47d1bcacc0f4"
      },
      "execution_count": null,
      "outputs": [
        {
          "output_type": "stream",
          "name": "stdout",
          "text": [
            "2018-01-01\n",
            "2018-12-31\n"
          ]
        }
      ]
    },
    {
      "cell_type": "markdown",
      "source": [
        "- данные представленый в периоде за 1 год\n",
        "- формат даты представлен как object заменим на формат даты\n",
        "- необходимо округлить минуты звонков до целых минут в большую сторону\n",
        "- сделаем агрегацию данных по каждому пользователю"
      ],
      "metadata": {
        "id": "rM3eIKAUnmg_"
      }
    },
    {
      "cell_type": "markdown",
      "source": [
        "## 3.1 Замена типа данных"
      ],
      "metadata": {
        "id": "CCgGMrwJsRYp"
      }
    },
    {
      "cell_type": "code",
      "source": [
        "call['call_date'] = pd.to_datetime(call['call_date'], format='%Y-%m-%d')\n",
        "internet['session_date'] = pd.to_datetime(internet['session_date'], format='%Y-%m-%d')\n",
        "message['message_date'] = pd.to_datetime(message['message_date'], format='%Y-%m-%d')\n",
        "user['reg_date'] = pd.to_datetime(user['reg_date'], format='%Y-%m-%d')\n",
        "user['churn_date'] = pd.to_datetime(user['churn_date'], format='%Y-%m-%d')"
      ],
      "metadata": {
        "id": "lHfpCEZXo5d_"
      },
      "execution_count": null,
      "outputs": []
    },
    {
      "cell_type": "markdown",
      "source": [
        "## 3.2 Округление минут"
      ],
      "metadata": {
        "id": "xEFNVmdWsYRp"
      }
    },
    {
      "cell_type": "code",
      "source": [
        "call['duration'] = np.ceil(call['duration']).astype(int)"
      ],
      "metadata": {
        "id": "BcpRkMsUpRbX"
      },
      "execution_count": null,
      "outputs": []
    },
    {
      "cell_type": "markdown",
      "source": [
        "## 3.3 Агрегирование данных"
      ],
      "metadata": {
        "id": "1N4Hlup-scuV"
      }
    },
    {
      "cell_type": "code",
      "source": [
        "call['month'] = call['call_date'].astype('datetime64[M]')\n",
        "call_agr = call.groupby(['user_id', 'month'])['duration'].sum().reset_index()\n",
        "call_agr.head()"
      ],
      "metadata": {
        "colab": {
          "base_uri": "https://localhost:8080/",
          "height": 206
        },
        "id": "aQLLZooLtagC",
        "outputId": "ab6217a4-a199-4793-f4ad-0e9bcfdf7931"
      },
      "execution_count": null,
      "outputs": [
        {
          "output_type": "execute_result",
          "data": {
            "text/plain": [
              "   user_id      month  duration\n",
              "0     1000 2018-05-01       159\n",
              "1     1000 2018-06-01       172\n",
              "2     1000 2018-07-01       340\n",
              "3     1000 2018-08-01       408\n",
              "4     1000 2018-09-01       466"
            ],
            "text/html": [
              "\n",
              "  <div id=\"df-58f5bee3-5ead-4eab-b788-187ac597edd9\">\n",
              "    <div class=\"colab-df-container\">\n",
              "      <div>\n",
              "<style scoped>\n",
              "    .dataframe tbody tr th:only-of-type {\n",
              "        vertical-align: middle;\n",
              "    }\n",
              "\n",
              "    .dataframe tbody tr th {\n",
              "        vertical-align: top;\n",
              "    }\n",
              "\n",
              "    .dataframe thead th {\n",
              "        text-align: right;\n",
              "    }\n",
              "</style>\n",
              "<table border=\"1\" class=\"dataframe\">\n",
              "  <thead>\n",
              "    <tr style=\"text-align: right;\">\n",
              "      <th></th>\n",
              "      <th>user_id</th>\n",
              "      <th>month</th>\n",
              "      <th>duration</th>\n",
              "    </tr>\n",
              "  </thead>\n",
              "  <tbody>\n",
              "    <tr>\n",
              "      <th>0</th>\n",
              "      <td>1000</td>\n",
              "      <td>2018-05-01</td>\n",
              "      <td>159</td>\n",
              "    </tr>\n",
              "    <tr>\n",
              "      <th>1</th>\n",
              "      <td>1000</td>\n",
              "      <td>2018-06-01</td>\n",
              "      <td>172</td>\n",
              "    </tr>\n",
              "    <tr>\n",
              "      <th>2</th>\n",
              "      <td>1000</td>\n",
              "      <td>2018-07-01</td>\n",
              "      <td>340</td>\n",
              "    </tr>\n",
              "    <tr>\n",
              "      <th>3</th>\n",
              "      <td>1000</td>\n",
              "      <td>2018-08-01</td>\n",
              "      <td>408</td>\n",
              "    </tr>\n",
              "    <tr>\n",
              "      <th>4</th>\n",
              "      <td>1000</td>\n",
              "      <td>2018-09-01</td>\n",
              "      <td>466</td>\n",
              "    </tr>\n",
              "  </tbody>\n",
              "</table>\n",
              "</div>\n",
              "      <button class=\"colab-df-convert\" onclick=\"convertToInteractive('df-58f5bee3-5ead-4eab-b788-187ac597edd9')\"\n",
              "              title=\"Convert this dataframe to an interactive table.\"\n",
              "              style=\"display:none;\">\n",
              "        \n",
              "  <svg xmlns=\"http://www.w3.org/2000/svg\" height=\"24px\"viewBox=\"0 0 24 24\"\n",
              "       width=\"24px\">\n",
              "    <path d=\"M0 0h24v24H0V0z\" fill=\"none\"/>\n",
              "    <path d=\"M18.56 5.44l.94 2.06.94-2.06 2.06-.94-2.06-.94-.94-2.06-.94 2.06-2.06.94zm-11 1L8.5 8.5l.94-2.06 2.06-.94-2.06-.94L8.5 2.5l-.94 2.06-2.06.94zm10 10l.94 2.06.94-2.06 2.06-.94-2.06-.94-.94-2.06-.94 2.06-2.06.94z\"/><path d=\"M17.41 7.96l-1.37-1.37c-.4-.4-.92-.59-1.43-.59-.52 0-1.04.2-1.43.59L10.3 9.45l-7.72 7.72c-.78.78-.78 2.05 0 2.83L4 21.41c.39.39.9.59 1.41.59.51 0 1.02-.2 1.41-.59l7.78-7.78 2.81-2.81c.8-.78.8-2.07 0-2.86zM5.41 20L4 18.59l7.72-7.72 1.47 1.35L5.41 20z\"/>\n",
              "  </svg>\n",
              "      </button>\n",
              "      \n",
              "  <style>\n",
              "    .colab-df-container {\n",
              "      display:flex;\n",
              "      flex-wrap:wrap;\n",
              "      gap: 12px;\n",
              "    }\n",
              "\n",
              "    .colab-df-convert {\n",
              "      background-color: #E8F0FE;\n",
              "      border: none;\n",
              "      border-radius: 50%;\n",
              "      cursor: pointer;\n",
              "      display: none;\n",
              "      fill: #1967D2;\n",
              "      height: 32px;\n",
              "      padding: 0 0 0 0;\n",
              "      width: 32px;\n",
              "    }\n",
              "\n",
              "    .colab-df-convert:hover {\n",
              "      background-color: #E2EBFA;\n",
              "      box-shadow: 0px 1px 2px rgba(60, 64, 67, 0.3), 0px 1px 3px 1px rgba(60, 64, 67, 0.15);\n",
              "      fill: #174EA6;\n",
              "    }\n",
              "\n",
              "    [theme=dark] .colab-df-convert {\n",
              "      background-color: #3B4455;\n",
              "      fill: #D2E3FC;\n",
              "    }\n",
              "\n",
              "    [theme=dark] .colab-df-convert:hover {\n",
              "      background-color: #434B5C;\n",
              "      box-shadow: 0px 1px 3px 1px rgba(0, 0, 0, 0.15);\n",
              "      filter: drop-shadow(0px 1px 2px rgba(0, 0, 0, 0.3));\n",
              "      fill: #FFFFFF;\n",
              "    }\n",
              "  </style>\n",
              "\n",
              "      <script>\n",
              "        const buttonEl =\n",
              "          document.querySelector('#df-58f5bee3-5ead-4eab-b788-187ac597edd9 button.colab-df-convert');\n",
              "        buttonEl.style.display =\n",
              "          google.colab.kernel.accessAllowed ? 'block' : 'none';\n",
              "\n",
              "        async function convertToInteractive(key) {\n",
              "          const element = document.querySelector('#df-58f5bee3-5ead-4eab-b788-187ac597edd9');\n",
              "          const dataTable =\n",
              "            await google.colab.kernel.invokeFunction('convertToInteractive',\n",
              "                                                     [key], {});\n",
              "          if (!dataTable) return;\n",
              "\n",
              "          const docLinkHtml = 'Like what you see? Visit the ' +\n",
              "            '<a target=\"_blank\" href=https://colab.research.google.com/notebooks/data_table.ipynb>data table notebook</a>'\n",
              "            + ' to learn more about interactive tables.';\n",
              "          element.innerHTML = '';\n",
              "          dataTable['output_type'] = 'display_data';\n",
              "          await google.colab.output.renderOutput(dataTable, element);\n",
              "          const docLink = document.createElement('div');\n",
              "          docLink.innerHTML = docLinkHtml;\n",
              "          element.appendChild(docLink);\n",
              "        }\n",
              "      </script>\n",
              "    </div>\n",
              "  </div>\n",
              "  "
            ]
          },
          "metadata": {},
          "execution_count": 18
        }
      ]
    },
    {
      "cell_type": "code",
      "source": [
        "internet['month'] = internet['session_date'].astype('datetime64[M]')\n",
        "internet_agr = internet.groupby(['user_id', 'month'])['mb_used'].sum().reset_index()\n",
        "internet_agr.head()"
      ],
      "metadata": {
        "colab": {
          "base_uri": "https://localhost:8080/",
          "height": 206
        },
        "id": "vbZY_h9nwFW8",
        "outputId": "b28f97d9-8388-43dc-ac4f-dde6509be165"
      },
      "execution_count": null,
      "outputs": [
        {
          "output_type": "execute_result",
          "data": {
            "text/plain": [
              "   user_id      month   mb_used\n",
              "0     1000 2018-05-01   2253.49\n",
              "1     1000 2018-06-01  23233.77\n",
              "2     1000 2018-07-01  14003.64\n",
              "3     1000 2018-08-01  14055.93\n",
              "4     1000 2018-09-01  14568.91"
            ],
            "text/html": [
              "\n",
              "  <div id=\"df-6f103d6e-ea35-4efb-8726-01b6a4d994bb\">\n",
              "    <div class=\"colab-df-container\">\n",
              "      <div>\n",
              "<style scoped>\n",
              "    .dataframe tbody tr th:only-of-type {\n",
              "        vertical-align: middle;\n",
              "    }\n",
              "\n",
              "    .dataframe tbody tr th {\n",
              "        vertical-align: top;\n",
              "    }\n",
              "\n",
              "    .dataframe thead th {\n",
              "        text-align: right;\n",
              "    }\n",
              "</style>\n",
              "<table border=\"1\" class=\"dataframe\">\n",
              "  <thead>\n",
              "    <tr style=\"text-align: right;\">\n",
              "      <th></th>\n",
              "      <th>user_id</th>\n",
              "      <th>month</th>\n",
              "      <th>mb_used</th>\n",
              "    </tr>\n",
              "  </thead>\n",
              "  <tbody>\n",
              "    <tr>\n",
              "      <th>0</th>\n",
              "      <td>1000</td>\n",
              "      <td>2018-05-01</td>\n",
              "      <td>2253.49</td>\n",
              "    </tr>\n",
              "    <tr>\n",
              "      <th>1</th>\n",
              "      <td>1000</td>\n",
              "      <td>2018-06-01</td>\n",
              "      <td>23233.77</td>\n",
              "    </tr>\n",
              "    <tr>\n",
              "      <th>2</th>\n",
              "      <td>1000</td>\n",
              "      <td>2018-07-01</td>\n",
              "      <td>14003.64</td>\n",
              "    </tr>\n",
              "    <tr>\n",
              "      <th>3</th>\n",
              "      <td>1000</td>\n",
              "      <td>2018-08-01</td>\n",
              "      <td>14055.93</td>\n",
              "    </tr>\n",
              "    <tr>\n",
              "      <th>4</th>\n",
              "      <td>1000</td>\n",
              "      <td>2018-09-01</td>\n",
              "      <td>14568.91</td>\n",
              "    </tr>\n",
              "  </tbody>\n",
              "</table>\n",
              "</div>\n",
              "      <button class=\"colab-df-convert\" onclick=\"convertToInteractive('df-6f103d6e-ea35-4efb-8726-01b6a4d994bb')\"\n",
              "              title=\"Convert this dataframe to an interactive table.\"\n",
              "              style=\"display:none;\">\n",
              "        \n",
              "  <svg xmlns=\"http://www.w3.org/2000/svg\" height=\"24px\"viewBox=\"0 0 24 24\"\n",
              "       width=\"24px\">\n",
              "    <path d=\"M0 0h24v24H0V0z\" fill=\"none\"/>\n",
              "    <path d=\"M18.56 5.44l.94 2.06.94-2.06 2.06-.94-2.06-.94-.94-2.06-.94 2.06-2.06.94zm-11 1L8.5 8.5l.94-2.06 2.06-.94-2.06-.94L8.5 2.5l-.94 2.06-2.06.94zm10 10l.94 2.06.94-2.06 2.06-.94-2.06-.94-.94-2.06-.94 2.06-2.06.94z\"/><path d=\"M17.41 7.96l-1.37-1.37c-.4-.4-.92-.59-1.43-.59-.52 0-1.04.2-1.43.59L10.3 9.45l-7.72 7.72c-.78.78-.78 2.05 0 2.83L4 21.41c.39.39.9.59 1.41.59.51 0 1.02-.2 1.41-.59l7.78-7.78 2.81-2.81c.8-.78.8-2.07 0-2.86zM5.41 20L4 18.59l7.72-7.72 1.47 1.35L5.41 20z\"/>\n",
              "  </svg>\n",
              "      </button>\n",
              "      \n",
              "  <style>\n",
              "    .colab-df-container {\n",
              "      display:flex;\n",
              "      flex-wrap:wrap;\n",
              "      gap: 12px;\n",
              "    }\n",
              "\n",
              "    .colab-df-convert {\n",
              "      background-color: #E8F0FE;\n",
              "      border: none;\n",
              "      border-radius: 50%;\n",
              "      cursor: pointer;\n",
              "      display: none;\n",
              "      fill: #1967D2;\n",
              "      height: 32px;\n",
              "      padding: 0 0 0 0;\n",
              "      width: 32px;\n",
              "    }\n",
              "\n",
              "    .colab-df-convert:hover {\n",
              "      background-color: #E2EBFA;\n",
              "      box-shadow: 0px 1px 2px rgba(60, 64, 67, 0.3), 0px 1px 3px 1px rgba(60, 64, 67, 0.15);\n",
              "      fill: #174EA6;\n",
              "    }\n",
              "\n",
              "    [theme=dark] .colab-df-convert {\n",
              "      background-color: #3B4455;\n",
              "      fill: #D2E3FC;\n",
              "    }\n",
              "\n",
              "    [theme=dark] .colab-df-convert:hover {\n",
              "      background-color: #434B5C;\n",
              "      box-shadow: 0px 1px 3px 1px rgba(0, 0, 0, 0.15);\n",
              "      filter: drop-shadow(0px 1px 2px rgba(0, 0, 0, 0.3));\n",
              "      fill: #FFFFFF;\n",
              "    }\n",
              "  </style>\n",
              "\n",
              "      <script>\n",
              "        const buttonEl =\n",
              "          document.querySelector('#df-6f103d6e-ea35-4efb-8726-01b6a4d994bb button.colab-df-convert');\n",
              "        buttonEl.style.display =\n",
              "          google.colab.kernel.accessAllowed ? 'block' : 'none';\n",
              "\n",
              "        async function convertToInteractive(key) {\n",
              "          const element = document.querySelector('#df-6f103d6e-ea35-4efb-8726-01b6a4d994bb');\n",
              "          const dataTable =\n",
              "            await google.colab.kernel.invokeFunction('convertToInteractive',\n",
              "                                                     [key], {});\n",
              "          if (!dataTable) return;\n",
              "\n",
              "          const docLinkHtml = 'Like what you see? Visit the ' +\n",
              "            '<a target=\"_blank\" href=https://colab.research.google.com/notebooks/data_table.ipynb>data table notebook</a>'\n",
              "            + ' to learn more about interactive tables.';\n",
              "          element.innerHTML = '';\n",
              "          dataTable['output_type'] = 'display_data';\n",
              "          await google.colab.output.renderOutput(dataTable, element);\n",
              "          const docLink = document.createElement('div');\n",
              "          docLink.innerHTML = docLinkHtml;\n",
              "          element.appendChild(docLink);\n",
              "        }\n",
              "      </script>\n",
              "    </div>\n",
              "  </div>\n",
              "  "
            ]
          },
          "metadata": {},
          "execution_count": 19
        }
      ]
    },
    {
      "cell_type": "code",
      "source": [
        "message['month'] = message['message_date'].astype('datetime64[M]')\n",
        "message_agr = message.groupby(['user_id', 'month'])['id'].count().reset_index()\n",
        "message_agr.rename(columns={'id': 'sms_count'}, inplace=True)\n",
        "message_agr.head()"
      ],
      "metadata": {
        "colab": {
          "base_uri": "https://localhost:8080/",
          "height": 206
        },
        "id": "pDt086N1wjxo",
        "outputId": "5c43f3c9-5f5c-4211-d714-d940a4de2ed5"
      },
      "execution_count": null,
      "outputs": [
        {
          "output_type": "execute_result",
          "data": {
            "text/plain": [
              "   user_id      month  sms_count\n",
              "0     1000 2018-05-01         22\n",
              "1     1000 2018-06-01         60\n",
              "2     1000 2018-07-01         75\n",
              "3     1000 2018-08-01         81\n",
              "4     1000 2018-09-01         57"
            ],
            "text/html": [
              "\n",
              "  <div id=\"df-a905f4eb-76b4-433e-ae5f-81631cfd14c4\">\n",
              "    <div class=\"colab-df-container\">\n",
              "      <div>\n",
              "<style scoped>\n",
              "    .dataframe tbody tr th:only-of-type {\n",
              "        vertical-align: middle;\n",
              "    }\n",
              "\n",
              "    .dataframe tbody tr th {\n",
              "        vertical-align: top;\n",
              "    }\n",
              "\n",
              "    .dataframe thead th {\n",
              "        text-align: right;\n",
              "    }\n",
              "</style>\n",
              "<table border=\"1\" class=\"dataframe\">\n",
              "  <thead>\n",
              "    <tr style=\"text-align: right;\">\n",
              "      <th></th>\n",
              "      <th>user_id</th>\n",
              "      <th>month</th>\n",
              "      <th>sms_count</th>\n",
              "    </tr>\n",
              "  </thead>\n",
              "  <tbody>\n",
              "    <tr>\n",
              "      <th>0</th>\n",
              "      <td>1000</td>\n",
              "      <td>2018-05-01</td>\n",
              "      <td>22</td>\n",
              "    </tr>\n",
              "    <tr>\n",
              "      <th>1</th>\n",
              "      <td>1000</td>\n",
              "      <td>2018-06-01</td>\n",
              "      <td>60</td>\n",
              "    </tr>\n",
              "    <tr>\n",
              "      <th>2</th>\n",
              "      <td>1000</td>\n",
              "      <td>2018-07-01</td>\n",
              "      <td>75</td>\n",
              "    </tr>\n",
              "    <tr>\n",
              "      <th>3</th>\n",
              "      <td>1000</td>\n",
              "      <td>2018-08-01</td>\n",
              "      <td>81</td>\n",
              "    </tr>\n",
              "    <tr>\n",
              "      <th>4</th>\n",
              "      <td>1000</td>\n",
              "      <td>2018-09-01</td>\n",
              "      <td>57</td>\n",
              "    </tr>\n",
              "  </tbody>\n",
              "</table>\n",
              "</div>\n",
              "      <button class=\"colab-df-convert\" onclick=\"convertToInteractive('df-a905f4eb-76b4-433e-ae5f-81631cfd14c4')\"\n",
              "              title=\"Convert this dataframe to an interactive table.\"\n",
              "              style=\"display:none;\">\n",
              "        \n",
              "  <svg xmlns=\"http://www.w3.org/2000/svg\" height=\"24px\"viewBox=\"0 0 24 24\"\n",
              "       width=\"24px\">\n",
              "    <path d=\"M0 0h24v24H0V0z\" fill=\"none\"/>\n",
              "    <path d=\"M18.56 5.44l.94 2.06.94-2.06 2.06-.94-2.06-.94-.94-2.06-.94 2.06-2.06.94zm-11 1L8.5 8.5l.94-2.06 2.06-.94-2.06-.94L8.5 2.5l-.94 2.06-2.06.94zm10 10l.94 2.06.94-2.06 2.06-.94-2.06-.94-.94-2.06-.94 2.06-2.06.94z\"/><path d=\"M17.41 7.96l-1.37-1.37c-.4-.4-.92-.59-1.43-.59-.52 0-1.04.2-1.43.59L10.3 9.45l-7.72 7.72c-.78.78-.78 2.05 0 2.83L4 21.41c.39.39.9.59 1.41.59.51 0 1.02-.2 1.41-.59l7.78-7.78 2.81-2.81c.8-.78.8-2.07 0-2.86zM5.41 20L4 18.59l7.72-7.72 1.47 1.35L5.41 20z\"/>\n",
              "  </svg>\n",
              "      </button>\n",
              "      \n",
              "  <style>\n",
              "    .colab-df-container {\n",
              "      display:flex;\n",
              "      flex-wrap:wrap;\n",
              "      gap: 12px;\n",
              "    }\n",
              "\n",
              "    .colab-df-convert {\n",
              "      background-color: #E8F0FE;\n",
              "      border: none;\n",
              "      border-radius: 50%;\n",
              "      cursor: pointer;\n",
              "      display: none;\n",
              "      fill: #1967D2;\n",
              "      height: 32px;\n",
              "      padding: 0 0 0 0;\n",
              "      width: 32px;\n",
              "    }\n",
              "\n",
              "    .colab-df-convert:hover {\n",
              "      background-color: #E2EBFA;\n",
              "      box-shadow: 0px 1px 2px rgba(60, 64, 67, 0.3), 0px 1px 3px 1px rgba(60, 64, 67, 0.15);\n",
              "      fill: #174EA6;\n",
              "    }\n",
              "\n",
              "    [theme=dark] .colab-df-convert {\n",
              "      background-color: #3B4455;\n",
              "      fill: #D2E3FC;\n",
              "    }\n",
              "\n",
              "    [theme=dark] .colab-df-convert:hover {\n",
              "      background-color: #434B5C;\n",
              "      box-shadow: 0px 1px 3px 1px rgba(0, 0, 0, 0.15);\n",
              "      filter: drop-shadow(0px 1px 2px rgba(0, 0, 0, 0.3));\n",
              "      fill: #FFFFFF;\n",
              "    }\n",
              "  </style>\n",
              "\n",
              "      <script>\n",
              "        const buttonEl =\n",
              "          document.querySelector('#df-a905f4eb-76b4-433e-ae5f-81631cfd14c4 button.colab-df-convert');\n",
              "        buttonEl.style.display =\n",
              "          google.colab.kernel.accessAllowed ? 'block' : 'none';\n",
              "\n",
              "        async function convertToInteractive(key) {\n",
              "          const element = document.querySelector('#df-a905f4eb-76b4-433e-ae5f-81631cfd14c4');\n",
              "          const dataTable =\n",
              "            await google.colab.kernel.invokeFunction('convertToInteractive',\n",
              "                                                     [key], {});\n",
              "          if (!dataTable) return;\n",
              "\n",
              "          const docLinkHtml = 'Like what you see? Visit the ' +\n",
              "            '<a target=\"_blank\" href=https://colab.research.google.com/notebooks/data_table.ipynb>data table notebook</a>'\n",
              "            + ' to learn more about interactive tables.';\n",
              "          element.innerHTML = '';\n",
              "          dataTable['output_type'] = 'display_data';\n",
              "          await google.colab.output.renderOutput(dataTable, element);\n",
              "          const docLink = document.createElement('div');\n",
              "          docLink.innerHTML = docLinkHtml;\n",
              "          element.appendChild(docLink);\n",
              "        }\n",
              "      </script>\n",
              "    </div>\n",
              "  </div>\n",
              "  "
            ]
          },
          "metadata": {},
          "execution_count": 20
        }
      ]
    },
    {
      "cell_type": "markdown",
      "source": [
        "## 3.4 Джоин таблиц в одну"
      ],
      "metadata": {
        "id": "vCZmDOF7yJNh"
      }
    },
    {
      "cell_type": "code",
      "source": [
        "df = (\n",
        "    call_agr\n",
        "            .merge(internet_agr, on=['user_id', 'month'], how='outer')\n",
        "            .merge(message_agr, on=['user_id', 'month'], how='outer')\n",
        "            .merge(user, on=['user_id'], how='outer')\n",
        ")"
      ],
      "metadata": {
        "id": "uL1KukFYwi2X"
      },
      "execution_count": null,
      "outputs": []
    },
    {
      "cell_type": "code",
      "source": [
        "df.head()"
      ],
      "metadata": {
        "colab": {
          "base_uri": "https://localhost:8080/",
          "height": 206
        },
        "id": "X23Osp1k0IwE",
        "outputId": "d30700d7-6c35-4679-81a5-8c13cb234cbb"
      },
      "execution_count": null,
      "outputs": [
        {
          "output_type": "execute_result",
          "data": {
            "text/plain": [
              "   user_id      month  duration   mb_used  sms_count  age churn_date  \\\n",
              "0     1000 2018-05-01     159.0   2253.49       22.0   52        NaT   \n",
              "1     1000 2018-06-01     172.0  23233.77       60.0   52        NaT   \n",
              "2     1000 2018-07-01     340.0  14003.64       75.0   52        NaT   \n",
              "3     1000 2018-08-01     408.0  14055.93       81.0   52        NaT   \n",
              "4     1000 2018-09-01     466.0  14568.91       57.0   52        NaT   \n",
              "\n",
              "        city first_name  last_name   reg_date tariff  \n",
              "0  Краснодар     Рафаил  Верещагин 2018-05-25  ultra  \n",
              "1  Краснодар     Рафаил  Верещагин 2018-05-25  ultra  \n",
              "2  Краснодар     Рафаил  Верещагин 2018-05-25  ultra  \n",
              "3  Краснодар     Рафаил  Верещагин 2018-05-25  ultra  \n",
              "4  Краснодар     Рафаил  Верещагин 2018-05-25  ultra  "
            ],
            "text/html": [
              "\n",
              "  <div id=\"df-9ef1b803-2605-48f9-9c0b-77b2473b4e16\">\n",
              "    <div class=\"colab-df-container\">\n",
              "      <div>\n",
              "<style scoped>\n",
              "    .dataframe tbody tr th:only-of-type {\n",
              "        vertical-align: middle;\n",
              "    }\n",
              "\n",
              "    .dataframe tbody tr th {\n",
              "        vertical-align: top;\n",
              "    }\n",
              "\n",
              "    .dataframe thead th {\n",
              "        text-align: right;\n",
              "    }\n",
              "</style>\n",
              "<table border=\"1\" class=\"dataframe\">\n",
              "  <thead>\n",
              "    <tr style=\"text-align: right;\">\n",
              "      <th></th>\n",
              "      <th>user_id</th>\n",
              "      <th>month</th>\n",
              "      <th>duration</th>\n",
              "      <th>mb_used</th>\n",
              "      <th>sms_count</th>\n",
              "      <th>age</th>\n",
              "      <th>churn_date</th>\n",
              "      <th>city</th>\n",
              "      <th>first_name</th>\n",
              "      <th>last_name</th>\n",
              "      <th>reg_date</th>\n",
              "      <th>tariff</th>\n",
              "    </tr>\n",
              "  </thead>\n",
              "  <tbody>\n",
              "    <tr>\n",
              "      <th>0</th>\n",
              "      <td>1000</td>\n",
              "      <td>2018-05-01</td>\n",
              "      <td>159.0</td>\n",
              "      <td>2253.49</td>\n",
              "      <td>22.0</td>\n",
              "      <td>52</td>\n",
              "      <td>NaT</td>\n",
              "      <td>Краснодар</td>\n",
              "      <td>Рафаил</td>\n",
              "      <td>Верещагин</td>\n",
              "      <td>2018-05-25</td>\n",
              "      <td>ultra</td>\n",
              "    </tr>\n",
              "    <tr>\n",
              "      <th>1</th>\n",
              "      <td>1000</td>\n",
              "      <td>2018-06-01</td>\n",
              "      <td>172.0</td>\n",
              "      <td>23233.77</td>\n",
              "      <td>60.0</td>\n",
              "      <td>52</td>\n",
              "      <td>NaT</td>\n",
              "      <td>Краснодар</td>\n",
              "      <td>Рафаил</td>\n",
              "      <td>Верещагин</td>\n",
              "      <td>2018-05-25</td>\n",
              "      <td>ultra</td>\n",
              "    </tr>\n",
              "    <tr>\n",
              "      <th>2</th>\n",
              "      <td>1000</td>\n",
              "      <td>2018-07-01</td>\n",
              "      <td>340.0</td>\n",
              "      <td>14003.64</td>\n",
              "      <td>75.0</td>\n",
              "      <td>52</td>\n",
              "      <td>NaT</td>\n",
              "      <td>Краснодар</td>\n",
              "      <td>Рафаил</td>\n",
              "      <td>Верещагин</td>\n",
              "      <td>2018-05-25</td>\n",
              "      <td>ultra</td>\n",
              "    </tr>\n",
              "    <tr>\n",
              "      <th>3</th>\n",
              "      <td>1000</td>\n",
              "      <td>2018-08-01</td>\n",
              "      <td>408.0</td>\n",
              "      <td>14055.93</td>\n",
              "      <td>81.0</td>\n",
              "      <td>52</td>\n",
              "      <td>NaT</td>\n",
              "      <td>Краснодар</td>\n",
              "      <td>Рафаил</td>\n",
              "      <td>Верещагин</td>\n",
              "      <td>2018-05-25</td>\n",
              "      <td>ultra</td>\n",
              "    </tr>\n",
              "    <tr>\n",
              "      <th>4</th>\n",
              "      <td>1000</td>\n",
              "      <td>2018-09-01</td>\n",
              "      <td>466.0</td>\n",
              "      <td>14568.91</td>\n",
              "      <td>57.0</td>\n",
              "      <td>52</td>\n",
              "      <td>NaT</td>\n",
              "      <td>Краснодар</td>\n",
              "      <td>Рафаил</td>\n",
              "      <td>Верещагин</td>\n",
              "      <td>2018-05-25</td>\n",
              "      <td>ultra</td>\n",
              "    </tr>\n",
              "  </tbody>\n",
              "</table>\n",
              "</div>\n",
              "      <button class=\"colab-df-convert\" onclick=\"convertToInteractive('df-9ef1b803-2605-48f9-9c0b-77b2473b4e16')\"\n",
              "              title=\"Convert this dataframe to an interactive table.\"\n",
              "              style=\"display:none;\">\n",
              "        \n",
              "  <svg xmlns=\"http://www.w3.org/2000/svg\" height=\"24px\"viewBox=\"0 0 24 24\"\n",
              "       width=\"24px\">\n",
              "    <path d=\"M0 0h24v24H0V0z\" fill=\"none\"/>\n",
              "    <path d=\"M18.56 5.44l.94 2.06.94-2.06 2.06-.94-2.06-.94-.94-2.06-.94 2.06-2.06.94zm-11 1L8.5 8.5l.94-2.06 2.06-.94-2.06-.94L8.5 2.5l-.94 2.06-2.06.94zm10 10l.94 2.06.94-2.06 2.06-.94-2.06-.94-.94-2.06-.94 2.06-2.06.94z\"/><path d=\"M17.41 7.96l-1.37-1.37c-.4-.4-.92-.59-1.43-.59-.52 0-1.04.2-1.43.59L10.3 9.45l-7.72 7.72c-.78.78-.78 2.05 0 2.83L4 21.41c.39.39.9.59 1.41.59.51 0 1.02-.2 1.41-.59l7.78-7.78 2.81-2.81c.8-.78.8-2.07 0-2.86zM5.41 20L4 18.59l7.72-7.72 1.47 1.35L5.41 20z\"/>\n",
              "  </svg>\n",
              "      </button>\n",
              "      \n",
              "  <style>\n",
              "    .colab-df-container {\n",
              "      display:flex;\n",
              "      flex-wrap:wrap;\n",
              "      gap: 12px;\n",
              "    }\n",
              "\n",
              "    .colab-df-convert {\n",
              "      background-color: #E8F0FE;\n",
              "      border: none;\n",
              "      border-radius: 50%;\n",
              "      cursor: pointer;\n",
              "      display: none;\n",
              "      fill: #1967D2;\n",
              "      height: 32px;\n",
              "      padding: 0 0 0 0;\n",
              "      width: 32px;\n",
              "    }\n",
              "\n",
              "    .colab-df-convert:hover {\n",
              "      background-color: #E2EBFA;\n",
              "      box-shadow: 0px 1px 2px rgba(60, 64, 67, 0.3), 0px 1px 3px 1px rgba(60, 64, 67, 0.15);\n",
              "      fill: #174EA6;\n",
              "    }\n",
              "\n",
              "    [theme=dark] .colab-df-convert {\n",
              "      background-color: #3B4455;\n",
              "      fill: #D2E3FC;\n",
              "    }\n",
              "\n",
              "    [theme=dark] .colab-df-convert:hover {\n",
              "      background-color: #434B5C;\n",
              "      box-shadow: 0px 1px 3px 1px rgba(0, 0, 0, 0.15);\n",
              "      filter: drop-shadow(0px 1px 2px rgba(0, 0, 0, 0.3));\n",
              "      fill: #FFFFFF;\n",
              "    }\n",
              "  </style>\n",
              "\n",
              "      <script>\n",
              "        const buttonEl =\n",
              "          document.querySelector('#df-9ef1b803-2605-48f9-9c0b-77b2473b4e16 button.colab-df-convert');\n",
              "        buttonEl.style.display =\n",
              "          google.colab.kernel.accessAllowed ? 'block' : 'none';\n",
              "\n",
              "        async function convertToInteractive(key) {\n",
              "          const element = document.querySelector('#df-9ef1b803-2605-48f9-9c0b-77b2473b4e16');\n",
              "          const dataTable =\n",
              "            await google.colab.kernel.invokeFunction('convertToInteractive',\n",
              "                                                     [key], {});\n",
              "          if (!dataTable) return;\n",
              "\n",
              "          const docLinkHtml = 'Like what you see? Visit the ' +\n",
              "            '<a target=\"_blank\" href=https://colab.research.google.com/notebooks/data_table.ipynb>data table notebook</a>'\n",
              "            + ' to learn more about interactive tables.';\n",
              "          element.innerHTML = '';\n",
              "          dataTable['output_type'] = 'display_data';\n",
              "          await google.colab.output.renderOutput(dataTable, element);\n",
              "          const docLink = document.createElement('div');\n",
              "          docLink.innerHTML = docLinkHtml;\n",
              "          element.appendChild(docLink);\n",
              "        }\n",
              "      </script>\n",
              "    </div>\n",
              "  </div>\n",
              "  "
            ]
          },
          "metadata": {},
          "execution_count": 22
        }
      ]
    },
    {
      "cell_type": "code",
      "source": [
        "df.info()"
      ],
      "metadata": {
        "colab": {
          "base_uri": "https://localhost:8080/"
        },
        "id": "704DDVREydX8",
        "outputId": "54ce617a-7fcb-4922-dc4f-b540adb3ad0c"
      },
      "execution_count": null,
      "outputs": [
        {
          "output_type": "stream",
          "name": "stdout",
          "text": [
            "<class 'pandas.core.frame.DataFrame'>\n",
            "Int64Index: 3216 entries, 0 to 3215\n",
            "Data columns (total 12 columns):\n",
            " #   Column      Non-Null Count  Dtype         \n",
            "---  ------      --------------  -----         \n",
            " 0   user_id     3216 non-null   int64         \n",
            " 1   month       3214 non-null   datetime64[ns]\n",
            " 2   duration    3174 non-null   float64       \n",
            " 3   mb_used     3203 non-null   float64       \n",
            " 4   sms_count   2717 non-null   float64       \n",
            " 5   age         3216 non-null   int64         \n",
            " 6   churn_date  189 non-null    datetime64[ns]\n",
            " 7   city        3216 non-null   object        \n",
            " 8   first_name  3216 non-null   object        \n",
            " 9   last_name   3216 non-null   object        \n",
            " 10  reg_date    3216 non-null   datetime64[ns]\n",
            " 11  tariff      3216 non-null   object        \n",
            "dtypes: datetime64[ns](3), float64(3), int64(2), object(4)\n",
            "memory usage: 326.6+ KB\n"
          ]
        }
      ]
    },
    {
      "cell_type": "markdown",
      "source": [
        "## 3.5 Заполнение пропусков, изменение типа"
      ],
      "metadata": {
        "id": "ItI_9YEgzaAs"
      }
    },
    {
      "cell_type": "code",
      "source": [
        "df = df.fillna(0)"
      ],
      "metadata": {
        "id": "oNdC6YjMzJzq"
      },
      "execution_count": null,
      "outputs": []
    },
    {
      "cell_type": "markdown",
      "source": [
        "- Обнаружено что 2 пользователя заргестрированы в декабре, затем они сменили тарифы, удалим этих польщователй из таблицы."
      ],
      "metadata": {
        "id": "KetiGZTo_L46"
      }
    },
    {
      "cell_type": "code",
      "source": [
        "df = df.query('month != 0').reset_index(drop=True)"
      ],
      "metadata": {
        "id": "mUQMYsr5_Bjw"
      },
      "execution_count": null,
      "outputs": []
    },
    {
      "cell_type": "code",
      "source": [
        "df['month'] = df['month'].astype('datetime64[M]')\n",
        "df['duration'] = df['duration'].astype(int)\n",
        "df['mb_used'] = np.ceil(df['mb_used']).astype(int)\n",
        "df['sms_count'] = df['sms_count'].astype(int)"
      ],
      "metadata": {
        "id": "L7vJX3V9ywfT"
      },
      "execution_count": null,
      "outputs": []
    },
    {
      "cell_type": "code",
      "source": [
        "df.head()"
      ],
      "metadata": {
        "colab": {
          "base_uri": "https://localhost:8080/",
          "height": 206
        },
        "id": "Gs2c7ukpzGPX",
        "outputId": "bc5ec2cf-4ca2-4a35-b8db-59a6290549d9"
      },
      "execution_count": null,
      "outputs": [
        {
          "output_type": "execute_result",
          "data": {
            "text/plain": [
              "   user_id      month  duration  mb_used  sms_count  age churn_date  \\\n",
              "0     1000 2018-05-01       159     2254         22   52          0   \n",
              "1     1000 2018-06-01       172    23234         60   52          0   \n",
              "2     1000 2018-07-01       340    14004         75   52          0   \n",
              "3     1000 2018-08-01       408    14056         81   52          0   \n",
              "4     1000 2018-09-01       466    14569         57   52          0   \n",
              "\n",
              "        city first_name  last_name   reg_date tariff  \n",
              "0  Краснодар     Рафаил  Верещагин 2018-05-25  ultra  \n",
              "1  Краснодар     Рафаил  Верещагин 2018-05-25  ultra  \n",
              "2  Краснодар     Рафаил  Верещагин 2018-05-25  ultra  \n",
              "3  Краснодар     Рафаил  Верещагин 2018-05-25  ultra  \n",
              "4  Краснодар     Рафаил  Верещагин 2018-05-25  ultra  "
            ],
            "text/html": [
              "\n",
              "  <div id=\"df-1e5f4180-8e9b-4ded-b103-ed4b99962aa0\">\n",
              "    <div class=\"colab-df-container\">\n",
              "      <div>\n",
              "<style scoped>\n",
              "    .dataframe tbody tr th:only-of-type {\n",
              "        vertical-align: middle;\n",
              "    }\n",
              "\n",
              "    .dataframe tbody tr th {\n",
              "        vertical-align: top;\n",
              "    }\n",
              "\n",
              "    .dataframe thead th {\n",
              "        text-align: right;\n",
              "    }\n",
              "</style>\n",
              "<table border=\"1\" class=\"dataframe\">\n",
              "  <thead>\n",
              "    <tr style=\"text-align: right;\">\n",
              "      <th></th>\n",
              "      <th>user_id</th>\n",
              "      <th>month</th>\n",
              "      <th>duration</th>\n",
              "      <th>mb_used</th>\n",
              "      <th>sms_count</th>\n",
              "      <th>age</th>\n",
              "      <th>churn_date</th>\n",
              "      <th>city</th>\n",
              "      <th>first_name</th>\n",
              "      <th>last_name</th>\n",
              "      <th>reg_date</th>\n",
              "      <th>tariff</th>\n",
              "    </tr>\n",
              "  </thead>\n",
              "  <tbody>\n",
              "    <tr>\n",
              "      <th>0</th>\n",
              "      <td>1000</td>\n",
              "      <td>2018-05-01</td>\n",
              "      <td>159</td>\n",
              "      <td>2254</td>\n",
              "      <td>22</td>\n",
              "      <td>52</td>\n",
              "      <td>0</td>\n",
              "      <td>Краснодар</td>\n",
              "      <td>Рафаил</td>\n",
              "      <td>Верещагин</td>\n",
              "      <td>2018-05-25</td>\n",
              "      <td>ultra</td>\n",
              "    </tr>\n",
              "    <tr>\n",
              "      <th>1</th>\n",
              "      <td>1000</td>\n",
              "      <td>2018-06-01</td>\n",
              "      <td>172</td>\n",
              "      <td>23234</td>\n",
              "      <td>60</td>\n",
              "      <td>52</td>\n",
              "      <td>0</td>\n",
              "      <td>Краснодар</td>\n",
              "      <td>Рафаил</td>\n",
              "      <td>Верещагин</td>\n",
              "      <td>2018-05-25</td>\n",
              "      <td>ultra</td>\n",
              "    </tr>\n",
              "    <tr>\n",
              "      <th>2</th>\n",
              "      <td>1000</td>\n",
              "      <td>2018-07-01</td>\n",
              "      <td>340</td>\n",
              "      <td>14004</td>\n",
              "      <td>75</td>\n",
              "      <td>52</td>\n",
              "      <td>0</td>\n",
              "      <td>Краснодар</td>\n",
              "      <td>Рафаил</td>\n",
              "      <td>Верещагин</td>\n",
              "      <td>2018-05-25</td>\n",
              "      <td>ultra</td>\n",
              "    </tr>\n",
              "    <tr>\n",
              "      <th>3</th>\n",
              "      <td>1000</td>\n",
              "      <td>2018-08-01</td>\n",
              "      <td>408</td>\n",
              "      <td>14056</td>\n",
              "      <td>81</td>\n",
              "      <td>52</td>\n",
              "      <td>0</td>\n",
              "      <td>Краснодар</td>\n",
              "      <td>Рафаил</td>\n",
              "      <td>Верещагин</td>\n",
              "      <td>2018-05-25</td>\n",
              "      <td>ultra</td>\n",
              "    </tr>\n",
              "    <tr>\n",
              "      <th>4</th>\n",
              "      <td>1000</td>\n",
              "      <td>2018-09-01</td>\n",
              "      <td>466</td>\n",
              "      <td>14569</td>\n",
              "      <td>57</td>\n",
              "      <td>52</td>\n",
              "      <td>0</td>\n",
              "      <td>Краснодар</td>\n",
              "      <td>Рафаил</td>\n",
              "      <td>Верещагин</td>\n",
              "      <td>2018-05-25</td>\n",
              "      <td>ultra</td>\n",
              "    </tr>\n",
              "  </tbody>\n",
              "</table>\n",
              "</div>\n",
              "      <button class=\"colab-df-convert\" onclick=\"convertToInteractive('df-1e5f4180-8e9b-4ded-b103-ed4b99962aa0')\"\n",
              "              title=\"Convert this dataframe to an interactive table.\"\n",
              "              style=\"display:none;\">\n",
              "        \n",
              "  <svg xmlns=\"http://www.w3.org/2000/svg\" height=\"24px\"viewBox=\"0 0 24 24\"\n",
              "       width=\"24px\">\n",
              "    <path d=\"M0 0h24v24H0V0z\" fill=\"none\"/>\n",
              "    <path d=\"M18.56 5.44l.94 2.06.94-2.06 2.06-.94-2.06-.94-.94-2.06-.94 2.06-2.06.94zm-11 1L8.5 8.5l.94-2.06 2.06-.94-2.06-.94L8.5 2.5l-.94 2.06-2.06.94zm10 10l.94 2.06.94-2.06 2.06-.94-2.06-.94-.94-2.06-.94 2.06-2.06.94z\"/><path d=\"M17.41 7.96l-1.37-1.37c-.4-.4-.92-.59-1.43-.59-.52 0-1.04.2-1.43.59L10.3 9.45l-7.72 7.72c-.78.78-.78 2.05 0 2.83L4 21.41c.39.39.9.59 1.41.59.51 0 1.02-.2 1.41-.59l7.78-7.78 2.81-2.81c.8-.78.8-2.07 0-2.86zM5.41 20L4 18.59l7.72-7.72 1.47 1.35L5.41 20z\"/>\n",
              "  </svg>\n",
              "      </button>\n",
              "      \n",
              "  <style>\n",
              "    .colab-df-container {\n",
              "      display:flex;\n",
              "      flex-wrap:wrap;\n",
              "      gap: 12px;\n",
              "    }\n",
              "\n",
              "    .colab-df-convert {\n",
              "      background-color: #E8F0FE;\n",
              "      border: none;\n",
              "      border-radius: 50%;\n",
              "      cursor: pointer;\n",
              "      display: none;\n",
              "      fill: #1967D2;\n",
              "      height: 32px;\n",
              "      padding: 0 0 0 0;\n",
              "      width: 32px;\n",
              "    }\n",
              "\n",
              "    .colab-df-convert:hover {\n",
              "      background-color: #E2EBFA;\n",
              "      box-shadow: 0px 1px 2px rgba(60, 64, 67, 0.3), 0px 1px 3px 1px rgba(60, 64, 67, 0.15);\n",
              "      fill: #174EA6;\n",
              "    }\n",
              "\n",
              "    [theme=dark] .colab-df-convert {\n",
              "      background-color: #3B4455;\n",
              "      fill: #D2E3FC;\n",
              "    }\n",
              "\n",
              "    [theme=dark] .colab-df-convert:hover {\n",
              "      background-color: #434B5C;\n",
              "      box-shadow: 0px 1px 3px 1px rgba(0, 0, 0, 0.15);\n",
              "      filter: drop-shadow(0px 1px 2px rgba(0, 0, 0, 0.3));\n",
              "      fill: #FFFFFF;\n",
              "    }\n",
              "  </style>\n",
              "\n",
              "      <script>\n",
              "        const buttonEl =\n",
              "          document.querySelector('#df-1e5f4180-8e9b-4ded-b103-ed4b99962aa0 button.colab-df-convert');\n",
              "        buttonEl.style.display =\n",
              "          google.colab.kernel.accessAllowed ? 'block' : 'none';\n",
              "\n",
              "        async function convertToInteractive(key) {\n",
              "          const element = document.querySelector('#df-1e5f4180-8e9b-4ded-b103-ed4b99962aa0');\n",
              "          const dataTable =\n",
              "            await google.colab.kernel.invokeFunction('convertToInteractive',\n",
              "                                                     [key], {});\n",
              "          if (!dataTable) return;\n",
              "\n",
              "          const docLinkHtml = 'Like what you see? Visit the ' +\n",
              "            '<a target=\"_blank\" href=https://colab.research.google.com/notebooks/data_table.ipynb>data table notebook</a>'\n",
              "            + ' to learn more about interactive tables.';\n",
              "          element.innerHTML = '';\n",
              "          dataTable['output_type'] = 'display_data';\n",
              "          await google.colab.output.renderOutput(dataTable, element);\n",
              "          const docLink = document.createElement('div');\n",
              "          docLink.innerHTML = docLinkHtml;\n",
              "          element.appendChild(docLink);\n",
              "        }\n",
              "      </script>\n",
              "    </div>\n",
              "  </div>\n",
              "  "
            ]
          },
          "metadata": {},
          "execution_count": 27
        }
      ]
    },
    {
      "cell_type": "code",
      "source": [
        "df.info()"
      ],
      "metadata": {
        "colab": {
          "base_uri": "https://localhost:8080/"
        },
        "id": "WSW2GLVC-Q9u",
        "outputId": "bb273574-00f1-48e3-bcd5-10937ac09969"
      },
      "execution_count": null,
      "outputs": [
        {
          "output_type": "stream",
          "name": "stdout",
          "text": [
            "<class 'pandas.core.frame.DataFrame'>\n",
            "RangeIndex: 3214 entries, 0 to 3213\n",
            "Data columns (total 12 columns):\n",
            " #   Column      Non-Null Count  Dtype         \n",
            "---  ------      --------------  -----         \n",
            " 0   user_id     3214 non-null   int64         \n",
            " 1   month       3214 non-null   datetime64[ns]\n",
            " 2   duration    3214 non-null   int64         \n",
            " 3   mb_used     3214 non-null   int64         \n",
            " 4   sms_count   3214 non-null   int64         \n",
            " 5   age         3214 non-null   int64         \n",
            " 6   churn_date  3214 non-null   object        \n",
            " 7   city        3214 non-null   object        \n",
            " 8   first_name  3214 non-null   object        \n",
            " 9   last_name   3214 non-null   object        \n",
            " 10  reg_date    3214 non-null   datetime64[ns]\n",
            " 11  tariff      3214 non-null   object        \n",
            "dtypes: datetime64[ns](2), int64(5), object(5)\n",
            "memory usage: 301.4+ KB\n"
          ]
        }
      ]
    },
    {
      "cell_type": "markdown",
      "source": [
        "## 3.6 Выручка на основе **Tariff** "
      ],
      "metadata": {
        "id": "gsyh6gzKzfrk"
      }
    },
    {
      "cell_type": "code",
      "source": [
        "costs = df[['user_id', 'month', 'tariff']].copy()"
      ],
      "metadata": {
        "id": "I1G240hfItm6"
      },
      "execution_count": null,
      "outputs": []
    },
    {
      "cell_type": "code",
      "source": [
        "costs['minutes_included'] = (costs['tariff']\n",
        "                             .apply(lambda x: tariff['minutes_included'][0] \n",
        "                                    if x == 'smart' \n",
        "                                    else tariff['minutes_included'][1]))\n",
        "costs['messages_included'] = (costs['tariff']\n",
        "                             .apply(lambda x: tariff['messages_included'][0] \n",
        "                                    if x == 'smart' \n",
        "                                    else tariff['messages_included'][1]))\n",
        "costs['mb_per_month_included'] = (costs['tariff']\n",
        "                             .apply(lambda x: tariff['mb_per_month_included'][0] \n",
        "                                    if x == 'smart' \n",
        "                                    else tariff['mb_per_month_included'][1]))\n",
        "costs['rub_per_minute'] = (costs['tariff']\n",
        "                             .apply(lambda x: tariff['rub_per_minute'][0] \n",
        "                                    if x == 'smart' \n",
        "                                    else tariff['rub_per_minute'][1]))\n",
        "costs['rub_per_gb'] = (costs['tariff']\n",
        "                             .apply(lambda x: tariff['rub_per_gb'][0] \n",
        "                                    if x == 'smart' \n",
        "                                    else tariff['rub_per_gb'][1]))\n",
        "costs['rub_per_message'] = (costs['tariff']\n",
        "                             .apply(lambda x: tariff['rub_per_message'][0] \n",
        "                                    if x == 'smart' \n",
        "                                    else tariff['rub_per_message'][1]))\n",
        "costs['rub_monthly_fee'] = (costs['tariff']\n",
        "                             .apply(lambda x: tariff['rub_monthly_fee'][0] \n",
        "                                    if x == 'smart' \n",
        "                                    else tariff['rub_monthly_fee'][1]))"
      ],
      "metadata": {
        "id": "3wBKXuSZKGUM"
      },
      "execution_count": null,
      "outputs": []
    },
    {
      "cell_type": "code",
      "source": [
        "costs['minutes_overrun']  = df['duration'] - costs['minutes_included']\n",
        "costs['messages_overrun'] = df['sms_count'] - costs['messages_included']\n",
        "costs['mb_used_overrun']  = np.ceil((df['mb_used'] - costs['mb_per_month_included']) / 1024)"
      ],
      "metadata": {
        "id": "PMhkX8jXFKxX"
      },
      "execution_count": null,
      "outputs": []
    },
    {
      "cell_type": "code",
      "source": [
        "def get_revenue(df):\n",
        "    revenue_by_min = 0\n",
        "    revenue_by_messages = 0\n",
        "    revenue_mb = 0\n",
        "\n",
        "    if df['minutes_overrun'] > 0:\n",
        "        revenue_by_min = df['minutes_overrun'] * df['rub_per_minute']\n",
        "    if df['messages_overrun'] > 0:\n",
        "        revenue_by_messages = df['messages_overrun'] * df['rub_per_message']\n",
        "    if df['mb_used_overrun'] > 0:\n",
        "        revenue_mb = df['mb_used_overrun'] * df['rub_per_gb']\n",
        "    return revenue_by_min + revenue_by_messages + revenue_mb + df['rub_monthly_fee'] "
      ],
      "metadata": {
        "id": "vv3JxptrFBve"
      },
      "execution_count": null,
      "outputs": []
    },
    {
      "cell_type": "code",
      "source": [
        "costs['revenue'] = costs.apply(get_revenue, axis=1)"
      ],
      "metadata": {
        "id": "rUJ9wsH_MDY_"
      },
      "execution_count": null,
      "outputs": []
    },
    {
      "cell_type": "code",
      "source": [
        "costs['revenue'] = costs['revenue'].astype(int)"
      ],
      "metadata": {
        "id": "aelxF7sL1neP"
      },
      "execution_count": null,
      "outputs": []
    },
    {
      "cell_type": "code",
      "source": [
        "costs.head()"
      ],
      "metadata": {
        "colab": {
          "base_uri": "https://localhost:8080/",
          "height": 357
        },
        "id": "QM1J_BjiHjj5",
        "outputId": "fdcca6e8-3e90-47bd-d6a1-548ef1f52ea2"
      },
      "execution_count": null,
      "outputs": [
        {
          "output_type": "execute_result",
          "data": {
            "text/plain": [
              "   user_id      month tariff  minutes_included  messages_included  \\\n",
              "0     1000 2018-05-01  ultra              3000               1000   \n",
              "1     1000 2018-06-01  ultra              3000               1000   \n",
              "2     1000 2018-07-01  ultra              3000               1000   \n",
              "3     1000 2018-08-01  ultra              3000               1000   \n",
              "4     1000 2018-09-01  ultra              3000               1000   \n",
              "\n",
              "   mb_per_month_included  rub_per_minute  rub_per_gb  rub_per_message  \\\n",
              "0                  30720               1         150                1   \n",
              "1                  30720               1         150                1   \n",
              "2                  30720               1         150                1   \n",
              "3                  30720               1         150                1   \n",
              "4                  30720               1         150                1   \n",
              "\n",
              "   rub_monthly_fee  minutes_overrun  messages_overrun  mb_used_overrun  \\\n",
              "0             1950            -2841              -978            -27.0   \n",
              "1             1950            -2828              -940             -7.0   \n",
              "2             1950            -2660              -925            -16.0   \n",
              "3             1950            -2592              -919            -16.0   \n",
              "4             1950            -2534              -943            -15.0   \n",
              "\n",
              "   revenue  \n",
              "0     1950  \n",
              "1     1950  \n",
              "2     1950  \n",
              "3     1950  \n",
              "4     1950  "
            ],
            "text/html": [
              "\n",
              "  <div id=\"df-221fa897-325f-44d0-bc30-1d2f46c8258e\">\n",
              "    <div class=\"colab-df-container\">\n",
              "      <div>\n",
              "<style scoped>\n",
              "    .dataframe tbody tr th:only-of-type {\n",
              "        vertical-align: middle;\n",
              "    }\n",
              "\n",
              "    .dataframe tbody tr th {\n",
              "        vertical-align: top;\n",
              "    }\n",
              "\n",
              "    .dataframe thead th {\n",
              "        text-align: right;\n",
              "    }\n",
              "</style>\n",
              "<table border=\"1\" class=\"dataframe\">\n",
              "  <thead>\n",
              "    <tr style=\"text-align: right;\">\n",
              "      <th></th>\n",
              "      <th>user_id</th>\n",
              "      <th>month</th>\n",
              "      <th>tariff</th>\n",
              "      <th>minutes_included</th>\n",
              "      <th>messages_included</th>\n",
              "      <th>mb_per_month_included</th>\n",
              "      <th>rub_per_minute</th>\n",
              "      <th>rub_per_gb</th>\n",
              "      <th>rub_per_message</th>\n",
              "      <th>rub_monthly_fee</th>\n",
              "      <th>minutes_overrun</th>\n",
              "      <th>messages_overrun</th>\n",
              "      <th>mb_used_overrun</th>\n",
              "      <th>revenue</th>\n",
              "    </tr>\n",
              "  </thead>\n",
              "  <tbody>\n",
              "    <tr>\n",
              "      <th>0</th>\n",
              "      <td>1000</td>\n",
              "      <td>2018-05-01</td>\n",
              "      <td>ultra</td>\n",
              "      <td>3000</td>\n",
              "      <td>1000</td>\n",
              "      <td>30720</td>\n",
              "      <td>1</td>\n",
              "      <td>150</td>\n",
              "      <td>1</td>\n",
              "      <td>1950</td>\n",
              "      <td>-2841</td>\n",
              "      <td>-978</td>\n",
              "      <td>-27.0</td>\n",
              "      <td>1950</td>\n",
              "    </tr>\n",
              "    <tr>\n",
              "      <th>1</th>\n",
              "      <td>1000</td>\n",
              "      <td>2018-06-01</td>\n",
              "      <td>ultra</td>\n",
              "      <td>3000</td>\n",
              "      <td>1000</td>\n",
              "      <td>30720</td>\n",
              "      <td>1</td>\n",
              "      <td>150</td>\n",
              "      <td>1</td>\n",
              "      <td>1950</td>\n",
              "      <td>-2828</td>\n",
              "      <td>-940</td>\n",
              "      <td>-7.0</td>\n",
              "      <td>1950</td>\n",
              "    </tr>\n",
              "    <tr>\n",
              "      <th>2</th>\n",
              "      <td>1000</td>\n",
              "      <td>2018-07-01</td>\n",
              "      <td>ultra</td>\n",
              "      <td>3000</td>\n",
              "      <td>1000</td>\n",
              "      <td>30720</td>\n",
              "      <td>1</td>\n",
              "      <td>150</td>\n",
              "      <td>1</td>\n",
              "      <td>1950</td>\n",
              "      <td>-2660</td>\n",
              "      <td>-925</td>\n",
              "      <td>-16.0</td>\n",
              "      <td>1950</td>\n",
              "    </tr>\n",
              "    <tr>\n",
              "      <th>3</th>\n",
              "      <td>1000</td>\n",
              "      <td>2018-08-01</td>\n",
              "      <td>ultra</td>\n",
              "      <td>3000</td>\n",
              "      <td>1000</td>\n",
              "      <td>30720</td>\n",
              "      <td>1</td>\n",
              "      <td>150</td>\n",
              "      <td>1</td>\n",
              "      <td>1950</td>\n",
              "      <td>-2592</td>\n",
              "      <td>-919</td>\n",
              "      <td>-16.0</td>\n",
              "      <td>1950</td>\n",
              "    </tr>\n",
              "    <tr>\n",
              "      <th>4</th>\n",
              "      <td>1000</td>\n",
              "      <td>2018-09-01</td>\n",
              "      <td>ultra</td>\n",
              "      <td>3000</td>\n",
              "      <td>1000</td>\n",
              "      <td>30720</td>\n",
              "      <td>1</td>\n",
              "      <td>150</td>\n",
              "      <td>1</td>\n",
              "      <td>1950</td>\n",
              "      <td>-2534</td>\n",
              "      <td>-943</td>\n",
              "      <td>-15.0</td>\n",
              "      <td>1950</td>\n",
              "    </tr>\n",
              "  </tbody>\n",
              "</table>\n",
              "</div>\n",
              "      <button class=\"colab-df-convert\" onclick=\"convertToInteractive('df-221fa897-325f-44d0-bc30-1d2f46c8258e')\"\n",
              "              title=\"Convert this dataframe to an interactive table.\"\n",
              "              style=\"display:none;\">\n",
              "        \n",
              "  <svg xmlns=\"http://www.w3.org/2000/svg\" height=\"24px\"viewBox=\"0 0 24 24\"\n",
              "       width=\"24px\">\n",
              "    <path d=\"M0 0h24v24H0V0z\" fill=\"none\"/>\n",
              "    <path d=\"M18.56 5.44l.94 2.06.94-2.06 2.06-.94-2.06-.94-.94-2.06-.94 2.06-2.06.94zm-11 1L8.5 8.5l.94-2.06 2.06-.94-2.06-.94L8.5 2.5l-.94 2.06-2.06.94zm10 10l.94 2.06.94-2.06 2.06-.94-2.06-.94-.94-2.06-.94 2.06-2.06.94z\"/><path d=\"M17.41 7.96l-1.37-1.37c-.4-.4-.92-.59-1.43-.59-.52 0-1.04.2-1.43.59L10.3 9.45l-7.72 7.72c-.78.78-.78 2.05 0 2.83L4 21.41c.39.39.9.59 1.41.59.51 0 1.02-.2 1.41-.59l7.78-7.78 2.81-2.81c.8-.78.8-2.07 0-2.86zM5.41 20L4 18.59l7.72-7.72 1.47 1.35L5.41 20z\"/>\n",
              "  </svg>\n",
              "      </button>\n",
              "      \n",
              "  <style>\n",
              "    .colab-df-container {\n",
              "      display:flex;\n",
              "      flex-wrap:wrap;\n",
              "      gap: 12px;\n",
              "    }\n",
              "\n",
              "    .colab-df-convert {\n",
              "      background-color: #E8F0FE;\n",
              "      border: none;\n",
              "      border-radius: 50%;\n",
              "      cursor: pointer;\n",
              "      display: none;\n",
              "      fill: #1967D2;\n",
              "      height: 32px;\n",
              "      padding: 0 0 0 0;\n",
              "      width: 32px;\n",
              "    }\n",
              "\n",
              "    .colab-df-convert:hover {\n",
              "      background-color: #E2EBFA;\n",
              "      box-shadow: 0px 1px 2px rgba(60, 64, 67, 0.3), 0px 1px 3px 1px rgba(60, 64, 67, 0.15);\n",
              "      fill: #174EA6;\n",
              "    }\n",
              "\n",
              "    [theme=dark] .colab-df-convert {\n",
              "      background-color: #3B4455;\n",
              "      fill: #D2E3FC;\n",
              "    }\n",
              "\n",
              "    [theme=dark] .colab-df-convert:hover {\n",
              "      background-color: #434B5C;\n",
              "      box-shadow: 0px 1px 3px 1px rgba(0, 0, 0, 0.15);\n",
              "      filter: drop-shadow(0px 1px 2px rgba(0, 0, 0, 0.3));\n",
              "      fill: #FFFFFF;\n",
              "    }\n",
              "  </style>\n",
              "\n",
              "      <script>\n",
              "        const buttonEl =\n",
              "          document.querySelector('#df-221fa897-325f-44d0-bc30-1d2f46c8258e button.colab-df-convert');\n",
              "        buttonEl.style.display =\n",
              "          google.colab.kernel.accessAllowed ? 'block' : 'none';\n",
              "\n",
              "        async function convertToInteractive(key) {\n",
              "          const element = document.querySelector('#df-221fa897-325f-44d0-bc30-1d2f46c8258e');\n",
              "          const dataTable =\n",
              "            await google.colab.kernel.invokeFunction('convertToInteractive',\n",
              "                                                     [key], {});\n",
              "          if (!dataTable) return;\n",
              "\n",
              "          const docLinkHtml = 'Like what you see? Visit the ' +\n",
              "            '<a target=\"_blank\" href=https://colab.research.google.com/notebooks/data_table.ipynb>data table notebook</a>'\n",
              "            + ' to learn more about interactive tables.';\n",
              "          element.innerHTML = '';\n",
              "          dataTable['output_type'] = 'display_data';\n",
              "          await google.colab.output.renderOutput(dataTable, element);\n",
              "          const docLink = document.createElement('div');\n",
              "          docLink.innerHTML = docLinkHtml;\n",
              "          element.appendChild(docLink);\n",
              "        }\n",
              "      </script>\n",
              "    </div>\n",
              "  </div>\n",
              "  "
            ]
          },
          "metadata": {},
          "execution_count": 35
        }
      ]
    },
    {
      "cell_type": "markdown",
      "source": [
        "## 3.7 Джоин выручки к основной таблице"
      ],
      "metadata": {
        "id": "2wk9OUbV08Wx"
      }
    },
    {
      "cell_type": "code",
      "source": [
        "df = df.merge(costs[['user_id', 'month', 'revenue']], on=['user_id', 'month'], how='outer')"
      ],
      "metadata": {
        "id": "Fu4M5uZC1Bf7"
      },
      "execution_count": null,
      "outputs": []
    },
    {
      "cell_type": "code",
      "source": [
        "df.sample(5)"
      ],
      "metadata": {
        "colab": {
          "base_uri": "https://localhost:8080/",
          "height": 206
        },
        "id": "zoEMBVNj1Big",
        "outputId": "1c1ad3ce-1869-44cb-b151-b1b001685938"
      },
      "execution_count": null,
      "outputs": [
        {
          "output_type": "execute_result",
          "data": {
            "text/plain": [
              "      user_id      month  duration  mb_used  sms_count  age churn_date  \\\n",
              "2842     1448 2018-12-01       471    19646         40   42          0   \n",
              "1359     1216 2018-12-01      1435    20067         64   74          0   \n",
              "1531     1245 2018-11-01       496     9765         85   32          0   \n",
              "446      1070 2018-10-01       252    12500         16   20          0   \n",
              "1327     1210 2018-07-01        72     2043          0   33          0   \n",
              "\n",
              "             city  first_name    last_name   reg_date tariff  revenue  \n",
              "2842     Кострома   Ростислав      Дроздов 2018-09-16  smart     1550  \n",
              "1359    Волгоград      Рустам      Малинин 2018-11-23  smart     4397  \n",
              "1531       Москва   Маргарита   Коновалова 2018-09-10  ultra     1950  \n",
              "446         Химки       Эльза   Селиванова 2018-08-07  smart      550  \n",
              "1327  Севастополь  Евфросинья  Серебрякова 2018-07-29  smart      550  "
            ],
            "text/html": [
              "\n",
              "  <div id=\"df-ef93b00e-6848-47eb-8781-2db736dbccd3\">\n",
              "    <div class=\"colab-df-container\">\n",
              "      <div>\n",
              "<style scoped>\n",
              "    .dataframe tbody tr th:only-of-type {\n",
              "        vertical-align: middle;\n",
              "    }\n",
              "\n",
              "    .dataframe tbody tr th {\n",
              "        vertical-align: top;\n",
              "    }\n",
              "\n",
              "    .dataframe thead th {\n",
              "        text-align: right;\n",
              "    }\n",
              "</style>\n",
              "<table border=\"1\" class=\"dataframe\">\n",
              "  <thead>\n",
              "    <tr style=\"text-align: right;\">\n",
              "      <th></th>\n",
              "      <th>user_id</th>\n",
              "      <th>month</th>\n",
              "      <th>duration</th>\n",
              "      <th>mb_used</th>\n",
              "      <th>sms_count</th>\n",
              "      <th>age</th>\n",
              "      <th>churn_date</th>\n",
              "      <th>city</th>\n",
              "      <th>first_name</th>\n",
              "      <th>last_name</th>\n",
              "      <th>reg_date</th>\n",
              "      <th>tariff</th>\n",
              "      <th>revenue</th>\n",
              "    </tr>\n",
              "  </thead>\n",
              "  <tbody>\n",
              "    <tr>\n",
              "      <th>2842</th>\n",
              "      <td>1448</td>\n",
              "      <td>2018-12-01</td>\n",
              "      <td>471</td>\n",
              "      <td>19646</td>\n",
              "      <td>40</td>\n",
              "      <td>42</td>\n",
              "      <td>0</td>\n",
              "      <td>Кострома</td>\n",
              "      <td>Ростислав</td>\n",
              "      <td>Дроздов</td>\n",
              "      <td>2018-09-16</td>\n",
              "      <td>smart</td>\n",
              "      <td>1550</td>\n",
              "    </tr>\n",
              "    <tr>\n",
              "      <th>1359</th>\n",
              "      <td>1216</td>\n",
              "      <td>2018-12-01</td>\n",
              "      <td>1435</td>\n",
              "      <td>20067</td>\n",
              "      <td>64</td>\n",
              "      <td>74</td>\n",
              "      <td>0</td>\n",
              "      <td>Волгоград</td>\n",
              "      <td>Рустам</td>\n",
              "      <td>Малинин</td>\n",
              "      <td>2018-11-23</td>\n",
              "      <td>smart</td>\n",
              "      <td>4397</td>\n",
              "    </tr>\n",
              "    <tr>\n",
              "      <th>1531</th>\n",
              "      <td>1245</td>\n",
              "      <td>2018-11-01</td>\n",
              "      <td>496</td>\n",
              "      <td>9765</td>\n",
              "      <td>85</td>\n",
              "      <td>32</td>\n",
              "      <td>0</td>\n",
              "      <td>Москва</td>\n",
              "      <td>Маргарита</td>\n",
              "      <td>Коновалова</td>\n",
              "      <td>2018-09-10</td>\n",
              "      <td>ultra</td>\n",
              "      <td>1950</td>\n",
              "    </tr>\n",
              "    <tr>\n",
              "      <th>446</th>\n",
              "      <td>1070</td>\n",
              "      <td>2018-10-01</td>\n",
              "      <td>252</td>\n",
              "      <td>12500</td>\n",
              "      <td>16</td>\n",
              "      <td>20</td>\n",
              "      <td>0</td>\n",
              "      <td>Химки</td>\n",
              "      <td>Эльза</td>\n",
              "      <td>Селиванова</td>\n",
              "      <td>2018-08-07</td>\n",
              "      <td>smart</td>\n",
              "      <td>550</td>\n",
              "    </tr>\n",
              "    <tr>\n",
              "      <th>1327</th>\n",
              "      <td>1210</td>\n",
              "      <td>2018-07-01</td>\n",
              "      <td>72</td>\n",
              "      <td>2043</td>\n",
              "      <td>0</td>\n",
              "      <td>33</td>\n",
              "      <td>0</td>\n",
              "      <td>Севастополь</td>\n",
              "      <td>Евфросинья</td>\n",
              "      <td>Серебрякова</td>\n",
              "      <td>2018-07-29</td>\n",
              "      <td>smart</td>\n",
              "      <td>550</td>\n",
              "    </tr>\n",
              "  </tbody>\n",
              "</table>\n",
              "</div>\n",
              "      <button class=\"colab-df-convert\" onclick=\"convertToInteractive('df-ef93b00e-6848-47eb-8781-2db736dbccd3')\"\n",
              "              title=\"Convert this dataframe to an interactive table.\"\n",
              "              style=\"display:none;\">\n",
              "        \n",
              "  <svg xmlns=\"http://www.w3.org/2000/svg\" height=\"24px\"viewBox=\"0 0 24 24\"\n",
              "       width=\"24px\">\n",
              "    <path d=\"M0 0h24v24H0V0z\" fill=\"none\"/>\n",
              "    <path d=\"M18.56 5.44l.94 2.06.94-2.06 2.06-.94-2.06-.94-.94-2.06-.94 2.06-2.06.94zm-11 1L8.5 8.5l.94-2.06 2.06-.94-2.06-.94L8.5 2.5l-.94 2.06-2.06.94zm10 10l.94 2.06.94-2.06 2.06-.94-2.06-.94-.94-2.06-.94 2.06-2.06.94z\"/><path d=\"M17.41 7.96l-1.37-1.37c-.4-.4-.92-.59-1.43-.59-.52 0-1.04.2-1.43.59L10.3 9.45l-7.72 7.72c-.78.78-.78 2.05 0 2.83L4 21.41c.39.39.9.59 1.41.59.51 0 1.02-.2 1.41-.59l7.78-7.78 2.81-2.81c.8-.78.8-2.07 0-2.86zM5.41 20L4 18.59l7.72-7.72 1.47 1.35L5.41 20z\"/>\n",
              "  </svg>\n",
              "      </button>\n",
              "      \n",
              "  <style>\n",
              "    .colab-df-container {\n",
              "      display:flex;\n",
              "      flex-wrap:wrap;\n",
              "      gap: 12px;\n",
              "    }\n",
              "\n",
              "    .colab-df-convert {\n",
              "      background-color: #E8F0FE;\n",
              "      border: none;\n",
              "      border-radius: 50%;\n",
              "      cursor: pointer;\n",
              "      display: none;\n",
              "      fill: #1967D2;\n",
              "      height: 32px;\n",
              "      padding: 0 0 0 0;\n",
              "      width: 32px;\n",
              "    }\n",
              "\n",
              "    .colab-df-convert:hover {\n",
              "      background-color: #E2EBFA;\n",
              "      box-shadow: 0px 1px 2px rgba(60, 64, 67, 0.3), 0px 1px 3px 1px rgba(60, 64, 67, 0.15);\n",
              "      fill: #174EA6;\n",
              "    }\n",
              "\n",
              "    [theme=dark] .colab-df-convert {\n",
              "      background-color: #3B4455;\n",
              "      fill: #D2E3FC;\n",
              "    }\n",
              "\n",
              "    [theme=dark] .colab-df-convert:hover {\n",
              "      background-color: #434B5C;\n",
              "      box-shadow: 0px 1px 3px 1px rgba(0, 0, 0, 0.15);\n",
              "      filter: drop-shadow(0px 1px 2px rgba(0, 0, 0, 0.3));\n",
              "      fill: #FFFFFF;\n",
              "    }\n",
              "  </style>\n",
              "\n",
              "      <script>\n",
              "        const buttonEl =\n",
              "          document.querySelector('#df-ef93b00e-6848-47eb-8781-2db736dbccd3 button.colab-df-convert');\n",
              "        buttonEl.style.display =\n",
              "          google.colab.kernel.accessAllowed ? 'block' : 'none';\n",
              "\n",
              "        async function convertToInteractive(key) {\n",
              "          const element = document.querySelector('#df-ef93b00e-6848-47eb-8781-2db736dbccd3');\n",
              "          const dataTable =\n",
              "            await google.colab.kernel.invokeFunction('convertToInteractive',\n",
              "                                                     [key], {});\n",
              "          if (!dataTable) return;\n",
              "\n",
              "          const docLinkHtml = 'Like what you see? Visit the ' +\n",
              "            '<a target=\"_blank\" href=https://colab.research.google.com/notebooks/data_table.ipynb>data table notebook</a>'\n",
              "            + ' to learn more about interactive tables.';\n",
              "          element.innerHTML = '';\n",
              "          dataTable['output_type'] = 'display_data';\n",
              "          await google.colab.output.renderOutput(dataTable, element);\n",
              "          const docLink = document.createElement('div');\n",
              "          docLink.innerHTML = docLinkHtml;\n",
              "          element.appendChild(docLink);\n",
              "        }\n",
              "      </script>\n",
              "    </div>\n",
              "  </div>\n",
              "  "
            ]
          },
          "metadata": {},
          "execution_count": 37
        }
      ]
    },
    {
      "cell_type": "markdown",
      "source": [
        "# 🔎 4. Анализ даных"
      ],
      "metadata": {
        "id": "uuvOw5fl18d_"
      }
    },
    {
      "cell_type": "code",
      "source": [
        "# Функции графиков\n",
        "\n",
        "def hist_def(data=None, x=None, hue=None, xlabel=None, text=None):\n",
        "    plt.figure(figsize = (15, 7))\n",
        "    sns.histplot(data=df, x=x, hue=hue, alpha=0.5, kde=True)\n",
        "\n",
        "    plt.title(label=f'{xlabel} за 2018', size=16)\n",
        "    plt.xlabel(xlabel=xlabel)\n",
        "    plt.ylabel(ylabel='Количество пользователей, ед')\n",
        "    plt.show()\n",
        "\n",
        "    print()\n",
        "    print('='*40)\n",
        "    print(f'Среднее {text} Smart:', \n",
        "          np.round(data.query('tariff == \"smart\"')[x].mean(), decimals=2))\n",
        "    print(f'Среднее {text} Ultra:', \n",
        "          np.round(data.query('tariff == \"ultra\"')[x].mean(), decimals=2))\n",
        "    print()\n",
        "    print(f'Сумма {text} Smart:', \n",
        "          np.round(data.query('tariff == \"smart\"')[x].sum()))\n",
        "    print(f'Сумма {text} Ultra:', \n",
        "          np.round(data.query('tariff == \"ultra\"')[x].sum()))\n",
        "    print()\n",
        "    print(f'Дисперсия {text} Smart:', \n",
        "          np.var(data.query('tariff == \"smart\"')[x]).round(2))\n",
        "    print(f'Дисперсия {text} Ultra:', \n",
        "          np.var(data.query('tariff == \"ultra\"')[x]).round(2))\n",
        "    print()\n",
        "    print(f'Стандартное отклонение {text} Smart', \n",
        "          np.std(data.query('tariff == \"smart\"')[x]).round(2))\n",
        "    print(f'Стандартное отклонение {text} Ultra', \n",
        "          np.std(data.query('tariff == \"ultra\"')[x]).round(2))\n",
        "\n",
        "def univariate_multi_plot(df=None, x=None, xlabel=None, explode=None, rotation=None):\n",
        "    fig, ax = plt.subplots(1, 2, figsize=(15, 7))\n",
        "    sns.countplot(data=df, x=x, ax=ax[0], order=df[x].value_counts(ascending=True).index)\n",
        "    df[x].value_counts(ascending=True).plot(kind=\"pie\", autopct=\"%1.1f%%\", ax=ax[1], explode=explode)\n",
        "    sns.despine(bottom=True, left=True)\n",
        "    ax[0].set_xlabel(xlabel=xlabel, size=12)\n",
        "    ax[0].set_xticklabels(ax[0].get_xticklabels(), rotation=rotation, horizontalalignment='center')\n",
        "    ax[0].set_ylabel(ylabel=\"\")\n",
        "    ax[1].set_ylabel(ylabel=\"\")\n",
        "    ax[0].bar_label(ax[0].containers[0], label_type='edge', size=12, padding=1, fontname=\"DejaVu Sans\", \n",
        "                    color=\"#7f7f7f\")\n",
        "    fig.text(0.5, 1, f'{xlabel}', size=16, ha=\"center\", va=\"center\")\n",
        "    plt.show()\n",
        "    \n",
        "    print()\n",
        "    print('='*40)\n",
        "    print(f'Соотношение тарифа Smart:', \n",
        "          np.round(df.query('tariff == \"smart\"')[x].count() / len(df) * 100, decimals=2),\n",
        "          '%', (df.query('tariff == \"smart\"')[x].count()), 'шт.')\n",
        "    print(f'Соотношение тарифа Ultra:', \n",
        "          np.round(df.query('tariff == \"ultra\"')[x].count() / len(df) * 100, decimals=2),\n",
        "          '%', (df.query('tariff == \"ultra\"')[x].count()), 'шт.')\n",
        "\n",
        "def multivariate_plot(df=df, x=None, agr=None, hue=None, bar_label=False, xlabel=None, ylable=None, rotation=None,  \n",
        "                      legend=False, rotate_label=False, client_cnt=0):\n",
        "    fig, ax = plt.subplots(1, 1, figsize=(15, 7))\n",
        "    df = (df.groupby(x)\n",
        "          .agg(['count', agr])[\"revenue\"]\n",
        "          .sort_values(by=agr)\n",
        "          .reset_index()\n",
        "          .query('count > @client_cnt')\n",
        "    )\n",
        "    sns.barplot(data=df, x=x, y=agr, hue=hue, ci=None, alpha=0.5)\n",
        "    plt.ylabel(ylabel=f\"{ylable} выручки (руб)\", size=12)\n",
        "    plt.xlabel(xlabel=xlabel, size=12)\n",
        "    plt.title(label=f'{ylable} выручки, где клиентов от {client_cnt} человек', size=16)\n",
        "    plt.xticks(rotation=rotation)\n",
        "    if legend:\n",
        "        plt.legend()\n",
        "    if bar_label and rotate_label:\n",
        "        ax.bar_label(ax.containers[0], label_type='edge', size=10, padding=3, fontname=\"Helvetica, Ariel\", \n",
        "                    color=\"#7f7f7f\", rotation=\"vertical\")\n",
        "    elif bar_label and not rotate_label:\n",
        "        ax.bar_label(ax.containers[0], label_type='edge', size=12, padding=1, fontname=\"Helvetica, Ariel\", \n",
        "                    color=\"#7f7f7f\")\n",
        "    sns.despine(bottom=True, left=True)\n",
        "    plt.show()\n",
        "\n",
        "    display(df.sort_values(by=agr, ascending=False))"
      ],
      "metadata": {
        "id": "HMeVED9BZJhb"
      },
      "execution_count": null,
      "outputs": []
    },
    {
      "cell_type": "markdown",
      "source": [
        "## 4.1 Соотношение пользователей"
      ],
      "metadata": {
        "id": "AxoZiG3MB8CF"
      }
    },
    {
      "cell_type": "code",
      "source": [
        "univariate_multi_plot(df=df, x=\"tariff\", xlabel=\"Использование тарифа за год раз\")"
      ],
      "metadata": {
        "colab": {
          "base_uri": "https://localhost:8080/",
          "height": 582
        },
        "id": "qAgGo61sZLJz",
        "outputId": "ddb26b9b-03b4-417c-f8d4-c98aa2185231"
      },
      "execution_count": null,
      "outputs": [
        {
          "output_type": "display_data",
          "data": {
            "text/plain": [
              "<Figure size 1080x504 with 2 Axes>"
            ],
            "image/png": "[encoded data removed]"
          },
          "metadata": {
            "needs_background": "light"
          }
        },
        {
          "output_type": "stream",
          "name": "stdout",
          "text": [
            "\n",
            "========================================\n",
            "Соотношение тарифа Smart: 69.35 % 2229 шт.\n",
            "Соотношение тарифа Ultra: 30.65 % 985 шт.\n"
          ]
        }
      ]
    },
    {
      "cell_type": "markdown",
      "source": [
        "## 4.2 Минуты"
      ],
      "metadata": {
        "id": "BKNDtmRiVymt"
      }
    },
    {
      "cell_type": "code",
      "source": [
        "hist_def(data=df, x='duration', \n",
        "         hue='tariff', xlabel='Длительность звонков, мин', \n",
        "         text='по количеству минут для тарифа')"
      ],
      "metadata": {
        "colab": {
          "base_uri": "https://localhost:8080/",
          "height": 686
        },
        "id": "YqugnX_5R7KE",
        "outputId": "2a3c4453-4887-430f-c527-b122f1c8c765"
      },
      "execution_count": null,
      "outputs": [
        {
          "output_type": "display_data",
          "data": {
            "text/plain": [
              "<Figure size 1080x504 with 1 Axes>"
            ],
            "image/png": "[encoded data removed]"
          },
          "metadata": {
            "needs_background": "light"
          }
        },
        {
          "output_type": "stream",
          "name": "stdout",
          "text": [
            "\n",
            "========================================\n",
            "Среднее по количеству минут для тарифа Smart: 417.93\n",
            "Среднее по количеству минут для тарифа Ultra: 526.62\n",
            "\n",
            "Сумма по количеству минут для тарифа Smart: 931577\n",
            "Сумма по количеству минут для тарифа Ultra: 518724\n",
            "\n",
            "Дисперсия по количеству минут для тарифа Smart: 36203.07\n",
            "Дисперсия по количеству минут для тарифа Ultra: 100771.22\n",
            "\n",
            "Стандартное отклонение по количеству минут для тарифа Smart 190.27\n",
            "Стандартное отклонение по количеству минут для тарифа Ultra 317.44\n"
          ]
        }
      ]
    },
    {
      "cell_type": "markdown",
      "source": [
        "## 4.3 Сообщения"
      ],
      "metadata": {
        "id": "FaYp_eoLV3qc"
      }
    },
    {
      "cell_type": "code",
      "source": [
        "hist_def(data=df, x='sms_count', \n",
        "         hue='tariff', xlabel='Количество сообщений, шт', \n",
        "         text='по количеству сообщений для тарифа')"
      ],
      "metadata": {
        "colab": {
          "base_uri": "https://localhost:8080/",
          "height": 687
        },
        "id": "3k6iQ6JizQDK",
        "outputId": "04502aca-166a-475e-ccbb-1b9bcc31e21f"
      },
      "execution_count": null,
      "outputs": [
        {
          "output_type": "display_data",
          "data": {
            "text/plain": [
              "<Figure size 1080x504 with 1 Axes>"
            ],
            "image/png": "[encoded data removed]"
          },
          "metadata": {
            "needs_background": "light"
          }
        },
        {
          "output_type": "stream",
          "name": "stdout",
          "text": [
            "\n",
            "========================================\n",
            "Среднее по количеству сообщений для тарифа Smart: 33.38\n",
            "Среднее по количеству сообщений для тарифа Ultra: 49.36\n",
            "\n",
            "Сумма по количеству сообщений для тарифа Smart: 74413\n",
            "Сумма по количеству сообщений для тарифа Ultra: 48623\n",
            "\n",
            "Дисперсия по количеству сообщений для тарифа Smart: 796.46\n",
            "Дисперсия по количеству сообщений для тарифа Ultra: 2282.95\n",
            "\n",
            "Стандартное отклонение по количеству сообщений для тарифа Smart 28.22\n",
            "Стандартное отклонение по количеству сообщений для тарифа Ultra 47.78\n"
          ]
        }
      ]
    },
    {
      "cell_type": "markdown",
      "source": [
        "## 4.4 Интернет трафик"
      ],
      "metadata": {
        "id": "0l6ydPX0WcQ_"
      }
    },
    {
      "cell_type": "code",
      "source": [
        "hist_def(data=df, x='mb_used', \n",
        "         hue='tariff', xlabel='Количество потраченного трафика, гб', \n",
        "         text='по количеству гигабайт потраченного трафика для тарифа')"
      ],
      "metadata": {
        "colab": {
          "base_uri": "https://localhost:8080/",
          "height": 688
        },
        "id": "ZA0x81G1V-ue",
        "outputId": "39fe9609-b70b-4cba-ae2d-3d9fddfa25fe"
      },
      "execution_count": null,
      "outputs": [
        {
          "output_type": "display_data",
          "data": {
            "text/plain": [
              "<Figure size 1080x504 with 1 Axes>"
            ],
            "image/png": "[encoded data removed]"
          },
          "metadata": {
            "needs_background": "light"
          }
        },
        {
          "output_type": "stream",
          "name": "stdout",
          "text": [
            "\n",
            "========================================\n",
            "Среднее по количеству гигабайт потраченного трафика для тарифа Smart: 16208.87\n",
            "Среднее по количеству гигабайт потраченного трафика для тарифа Ultra: 19469.3\n",
            "\n",
            "Сумма по количеству гигабайт потраченного трафика для тарифа Smart: 36129576\n",
            "Сумма по количеству гигабайт потраченного трафика для тарифа Ultra: 19177263\n",
            "\n",
            "Дисперсия по количеству гигабайт потраченного трафика для тарифа Smart: 34447098.49\n",
            "Дисперсия по количеству гигабайт потраченного трафика для тарифа Ultra: 101648108.89\n",
            "\n",
            "Стандартное отклонение по количеству гигабайт потраченного трафика для тарифа Smart 5869.17\n",
            "Стандартное отклонение по количеству гигабайт потраченного трафика для тарифа Ultra 10082.07\n"
          ]
        }
      ]
    },
    {
      "cell_type": "markdown",
      "source": [
        "## 4.5 Выручка"
      ],
      "metadata": {
        "id": "EHkxX-pEi5Y8"
      }
    },
    {
      "cell_type": "markdown",
      "source": [
        "### 4.5.1 Общая сумма выручки"
      ],
      "metadata": {
        "id": "k5UUJD8YBPEu"
      }
    },
    {
      "cell_type": "code",
      "source": [
        "multivariate_plot(x=\"city\", xlabel=\"Название города\", ylable='Сумма', agr='sum', rotation=90, client_cnt=50)"
      ],
      "metadata": {
        "colab": {
          "base_uri": "https://localhost:8080/",
          "height": 1000
        },
        "id": "B8kf1_hk2ZCD",
        "outputId": "7e874033-31b7-4832-f0f2-992975384f17"
      },
      "execution_count": null,
      "outputs": [
        {
          "output_type": "display_data",
          "data": {
            "text/plain": [
              "<Figure size 1080x504 with 1 Axes>"
            ],
            "image/png": "[encoded data removed]"
          },
          "metadata": {
            "needs_background": "light"
          }
        },
        {
          "output_type": "display_data",
          "data": {
            "text/plain": [
              "                city  count     sum\n",
              "75            Москва    611  945042\n",
              "74   Санкт-Петербург    270  436982\n",
              "73       Новосибирск     98  174542\n",
              "72               Уфа     95  145762\n",
              "71         Краснодар     86  132790\n",
              "70             Пермь     68  108096\n",
              "69         Ульяновск     83  106486\n",
              "68   Нижний Новгород     54  103971\n",
              "67              Омск     72  103317\n",
              "66  Набережные Челны     64  100762\n",
              "65             Пенза     55   98134\n",
              "64            Казань     77   94093\n",
              "63            Самара     67   93935\n",
              "62           Вологда     56   91370\n",
              "60         Челябинск     52   89343\n",
              "58         Волгоград     59   81921"
            ],
            "text/html": [
              "\n",
              "  <div id=\"df-fc274fed-a6a6-4fcd-abec-2a92dc372fcc\">\n",
              "    <div class=\"colab-df-container\">\n",
              "      <div>\n",
              "<style scoped>\n",
              "    .dataframe tbody tr th:only-of-type {\n",
              "        vertical-align: middle;\n",
              "    }\n",
              "\n",
              "    .dataframe tbody tr th {\n",
              "        vertical-align: top;\n",
              "    }\n",
              "\n",
              "    .dataframe thead th {\n",
              "        text-align: right;\n",
              "    }\n",
              "</style>\n",
              "<table border=\"1\" class=\"dataframe\">\n",
              "  <thead>\n",
              "    <tr style=\"text-align: right;\">\n",
              "      <th></th>\n",
              "      <th>city</th>\n",
              "      <th>count</th>\n",
              "      <th>sum</th>\n",
              "    </tr>\n",
              "  </thead>\n",
              "  <tbody>\n",
              "    <tr>\n",
              "      <th>75</th>\n",
              "      <td>Москва</td>\n",
              "      <td>611</td>\n",
              "      <td>945042</td>\n",
              "    </tr>\n",
              "    <tr>\n",
              "      <th>74</th>\n",
              "      <td>Санкт-Петербург</td>\n",
              "      <td>270</td>\n",
              "      <td>436982</td>\n",
              "    </tr>\n",
              "    <tr>\n",
              "      <th>73</th>\n",
              "      <td>Новосибирск</td>\n",
              "      <td>98</td>\n",
              "      <td>174542</td>\n",
              "    </tr>\n",
              "    <tr>\n",
              "      <th>72</th>\n",
              "      <td>Уфа</td>\n",
              "      <td>95</td>\n",
              "      <td>145762</td>\n",
              "    </tr>\n",
              "    <tr>\n",
              "      <th>71</th>\n",
              "      <td>Краснодар</td>\n",
              "      <td>86</td>\n",
              "      <td>132790</td>\n",
              "    </tr>\n",
              "    <tr>\n",
              "      <th>70</th>\n",
              "      <td>Пермь</td>\n",
              "      <td>68</td>\n",
              "      <td>108096</td>\n",
              "    </tr>\n",
              "    <tr>\n",
              "      <th>69</th>\n",
              "      <td>Ульяновск</td>\n",
              "      <td>83</td>\n",
              "      <td>106486</td>\n",
              "    </tr>\n",
              "    <tr>\n",
              "      <th>68</th>\n",
              "      <td>Нижний Новгород</td>\n",
              "      <td>54</td>\n",
              "      <td>103971</td>\n",
              "    </tr>\n",
              "    <tr>\n",
              "      <th>67</th>\n",
              "      <td>Омск</td>\n",
              "      <td>72</td>\n",
              "      <td>103317</td>\n",
              "    </tr>\n",
              "    <tr>\n",
              "      <th>66</th>\n",
              "      <td>Набережные Челны</td>\n",
              "      <td>64</td>\n",
              "      <td>100762</td>\n",
              "    </tr>\n",
              "    <tr>\n",
              "      <th>65</th>\n",
              "      <td>Пенза</td>\n",
              "      <td>55</td>\n",
              "      <td>98134</td>\n",
              "    </tr>\n",
              "    <tr>\n",
              "      <th>64</th>\n",
              "      <td>Казань</td>\n",
              "      <td>77</td>\n",
              "      <td>94093</td>\n",
              "    </tr>\n",
              "    <tr>\n",
              "      <th>63</th>\n",
              "      <td>Самара</td>\n",
              "      <td>67</td>\n",
              "      <td>93935</td>\n",
              "    </tr>\n",
              "    <tr>\n",
              "      <th>62</th>\n",
              "      <td>Вологда</td>\n",
              "      <td>56</td>\n",
              "      <td>91370</td>\n",
              "    </tr>\n",
              "    <tr>\n",
              "      <th>60</th>\n",
              "      <td>Челябинск</td>\n",
              "      <td>52</td>\n",
              "      <td>89343</td>\n",
              "    </tr>\n",
              "    <tr>\n",
              "      <th>58</th>\n",
              "      <td>Волгоград</td>\n",
              "      <td>59</td>\n",
              "      <td>81921</td>\n",
              "    </tr>\n",
              "  </tbody>\n",
              "</table>\n",
              "</div>\n",
              "      <button class=\"colab-df-convert\" onclick=\"convertToInteractive('df-fc274fed-a6a6-4fcd-abec-2a92dc372fcc')\"\n",
              "              title=\"Convert this dataframe to an interactive table.\"\n",
              "              style=\"display:none;\">\n",
              "        \n",
              "  <svg xmlns=\"http://www.w3.org/2000/svg\" height=\"24px\"viewBox=\"0 0 24 24\"\n",
              "       width=\"24px\">\n",
              "    <path d=\"M0 0h24v24H0V0z\" fill=\"none\"/>\n",
              "    <path d=\"M18.56 5.44l.94 2.06.94-2.06 2.06-.94-2.06-.94-.94-2.06-.94 2.06-2.06.94zm-11 1L8.5 8.5l.94-2.06 2.06-.94-2.06-.94L8.5 2.5l-.94 2.06-2.06.94zm10 10l.94 2.06.94-2.06 2.06-.94-2.06-.94-.94-2.06-.94 2.06-2.06.94z\"/><path d=\"M17.41 7.96l-1.37-1.37c-.4-.4-.92-.59-1.43-.59-.52 0-1.04.2-1.43.59L10.3 9.45l-7.72 7.72c-.78.78-.78 2.05 0 2.83L4 21.41c.39.39.9.59 1.41.59.51 0 1.02-.2 1.41-.59l7.78-7.78 2.81-2.81c.8-.78.8-2.07 0-2.86zM5.41 20L4 18.59l7.72-7.72 1.47 1.35L5.41 20z\"/>\n",
              "  </svg>\n",
              "      </button>\n",
              "      \n",
              "  <style>\n",
              "    .colab-df-container {\n",
              "      display:flex;\n",
              "      flex-wrap:wrap;\n",
              "      gap: 12px;\n",
              "    }\n",
              "\n",
              "    .colab-df-convert {\n",
              "      background-color: #E8F0FE;\n",
              "      border: none;\n",
              "      border-radius: 50%;\n",
              "      cursor: pointer;\n",
              "      display: none;\n",
              "      fill: #1967D2;\n",
              "      height: 32px;\n",
              "      padding: 0 0 0 0;\n",
              "      width: 32px;\n",
              "    }\n",
              "\n",
              "    .colab-df-convert:hover {\n",
              "      background-color: #E2EBFA;\n",
              "      box-shadow: 0px 1px 2px rgba(60, 64, 67, 0.3), 0px 1px 3px 1px rgba(60, 64, 67, 0.15);\n",
              "      fill: #174EA6;\n",
              "    }\n",
              "\n",
              "    [theme=dark] .colab-df-convert {\n",
              "      background-color: #3B4455;\n",
              "      fill: #D2E3FC;\n",
              "    }\n",
              "\n",
              "    [theme=dark] .colab-df-convert:hover {\n",
              "      background-color: #434B5C;\n",
              "      box-shadow: 0px 1px 3px 1px rgba(0, 0, 0, 0.15);\n",
              "      filter: drop-shadow(0px 1px 2px rgba(0, 0, 0, 0.3));\n",
              "      fill: #FFFFFF;\n",
              "    }\n",
              "  </style>\n",
              "\n",
              "      <script>\n",
              "        const buttonEl =\n",
              "          document.querySelector('#df-fc274fed-a6a6-4fcd-abec-2a92dc372fcc button.colab-df-convert');\n",
              "        buttonEl.style.display =\n",
              "          google.colab.kernel.accessAllowed ? 'block' : 'none';\n",
              "\n",
              "        async function convertToInteractive(key) {\n",
              "          const element = document.querySelector('#df-fc274fed-a6a6-4fcd-abec-2a92dc372fcc');\n",
              "          const dataTable =\n",
              "            await google.colab.kernel.invokeFunction('convertToInteractive',\n",
              "                                                     [key], {});\n",
              "          if (!dataTable) return;\n",
              "\n",
              "          const docLinkHtml = 'Like what you see? Visit the ' +\n",
              "            '<a target=\"_blank\" href=https://colab.research.google.com/notebooks/data_table.ipynb>data table notebook</a>'\n",
              "            + ' to learn more about interactive tables.';\n",
              "          element.innerHTML = '';\n",
              "          dataTable['output_type'] = 'display_data';\n",
              "          await google.colab.output.renderOutput(dataTable, element);\n",
              "          const docLink = document.createElement('div');\n",
              "          docLink.innerHTML = docLinkHtml;\n",
              "          element.appendChild(docLink);\n",
              "        }\n",
              "      </script>\n",
              "    </div>\n",
              "  </div>\n",
              "  "
            ]
          },
          "metadata": {}
        }
      ]
    },
    {
      "cell_type": "markdown",
      "source": [
        "### 4.5.2 Средняя выручка"
      ],
      "metadata": {
        "id": "tHHK2cDFBWL1"
      }
    },
    {
      "cell_type": "code",
      "source": [
        "multivariate_plot(x=\"city\", xlabel=\"Название города\", ylable='Среднее', agr='mean', rotation=90, client_cnt=50)"
      ],
      "metadata": {
        "colab": {
          "base_uri": "https://localhost:8080/",
          "height": 1000
        },
        "id": "3UnohN8Q_fKM",
        "outputId": "87322b73-4c6a-42f0-d507-e6b761434c74"
      },
      "execution_count": null,
      "outputs": [
        {
          "output_type": "display_data",
          "data": {
            "text/plain": [
              "<Figure size 1080x504 with 1 Axes>"
            ],
            "image/png": "[encoded data removed]"
          },
          "metadata": {
            "needs_background": "light"
          }
        },
        {
          "output_type": "display_data",
          "data": {
            "text/plain": [
              "                city  count         mean\n",
              "65   Нижний Новгород     54  1925.388889\n",
              "58             Пенза     55  1784.254545\n",
              "57       Новосибирск     98  1781.040816\n",
              "55         Челябинск     52  1718.134615\n",
              "52           Вологда     56  1631.607143\n",
              "48   Санкт-Петербург    270  1618.451852\n",
              "46             Пермь     68  1589.647059\n",
              "44  Набережные Челны     64  1574.406250\n",
              "40            Москва    611  1546.713584\n",
              "39         Краснодар     86  1544.069767\n",
              "38               Уфа     95  1534.336842\n",
              "27              Омск     72  1434.958333\n",
              "25            Самара     67  1402.014925\n",
              "23         Волгоград     59  1388.491525\n",
              "18         Ульяновск     83  1282.963855\n",
              "15            Казань     77  1221.987013"
            ],
            "text/html": [
              "\n",
              "  <div id=\"df-295f3a38-135e-4cd9-be45-7630593e9593\">\n",
              "    <div class=\"colab-df-container\">\n",
              "      <div>\n",
              "<style scoped>\n",
              "    .dataframe tbody tr th:only-of-type {\n",
              "        vertical-align: middle;\n",
              "    }\n",
              "\n",
              "    .dataframe tbody tr th {\n",
              "        vertical-align: top;\n",
              "    }\n",
              "\n",
              "    .dataframe thead th {\n",
              "        text-align: right;\n",
              "    }\n",
              "</style>\n",
              "<table border=\"1\" class=\"dataframe\">\n",
              "  <thead>\n",
              "    <tr style=\"text-align: right;\">\n",
              "      <th></th>\n",
              "      <th>city</th>\n",
              "      <th>count</th>\n",
              "      <th>mean</th>\n",
              "    </tr>\n",
              "  </thead>\n",
              "  <tbody>\n",
              "    <tr>\n",
              "      <th>65</th>\n",
              "      <td>Нижний Новгород</td>\n",
              "      <td>54</td>\n",
              "      <td>1925.388889</td>\n",
              "    </tr>\n",
              "    <tr>\n",
              "      <th>58</th>\n",
              "      <td>Пенза</td>\n",
              "      <td>55</td>\n",
              "      <td>1784.254545</td>\n",
              "    </tr>\n",
              "    <tr>\n",
              "      <th>57</th>\n",
              "      <td>Новосибирск</td>\n",
              "      <td>98</td>\n",
              "      <td>1781.040816</td>\n",
              "    </tr>\n",
              "    <tr>\n",
              "      <th>55</th>\n",
              "      <td>Челябинск</td>\n",
              "      <td>52</td>\n",
              "      <td>1718.134615</td>\n",
              "    </tr>\n",
              "    <tr>\n",
              "      <th>52</th>\n",
              "      <td>Вологда</td>\n",
              "      <td>56</td>\n",
              "      <td>1631.607143</td>\n",
              "    </tr>\n",
              "    <tr>\n",
              "      <th>48</th>\n",
              "      <td>Санкт-Петербург</td>\n",
              "      <td>270</td>\n",
              "      <td>1618.451852</td>\n",
              "    </tr>\n",
              "    <tr>\n",
              "      <th>46</th>\n",
              "      <td>Пермь</td>\n",
              "      <td>68</td>\n",
              "      <td>1589.647059</td>\n",
              "    </tr>\n",
              "    <tr>\n",
              "      <th>44</th>\n",
              "      <td>Набережные Челны</td>\n",
              "      <td>64</td>\n",
              "      <td>1574.406250</td>\n",
              "    </tr>\n",
              "    <tr>\n",
              "      <th>40</th>\n",
              "      <td>Москва</td>\n",
              "      <td>611</td>\n",
              "      <td>1546.713584</td>\n",
              "    </tr>\n",
              "    <tr>\n",
              "      <th>39</th>\n",
              "      <td>Краснодар</td>\n",
              "      <td>86</td>\n",
              "      <td>1544.069767</td>\n",
              "    </tr>\n",
              "    <tr>\n",
              "      <th>38</th>\n",
              "      <td>Уфа</td>\n",
              "      <td>95</td>\n",
              "      <td>1534.336842</td>\n",
              "    </tr>\n",
              "    <tr>\n",
              "      <th>27</th>\n",
              "      <td>Омск</td>\n",
              "      <td>72</td>\n",
              "      <td>1434.958333</td>\n",
              "    </tr>\n",
              "    <tr>\n",
              "      <th>25</th>\n",
              "      <td>Самара</td>\n",
              "      <td>67</td>\n",
              "      <td>1402.014925</td>\n",
              "    </tr>\n",
              "    <tr>\n",
              "      <th>23</th>\n",
              "      <td>Волгоград</td>\n",
              "      <td>59</td>\n",
              "      <td>1388.491525</td>\n",
              "    </tr>\n",
              "    <tr>\n",
              "      <th>18</th>\n",
              "      <td>Ульяновск</td>\n",
              "      <td>83</td>\n",
              "      <td>1282.963855</td>\n",
              "    </tr>\n",
              "    <tr>\n",
              "      <th>15</th>\n",
              "      <td>Казань</td>\n",
              "      <td>77</td>\n",
              "      <td>1221.987013</td>\n",
              "    </tr>\n",
              "  </tbody>\n",
              "</table>\n",
              "</div>\n",
              "      <button class=\"colab-df-convert\" onclick=\"convertToInteractive('df-295f3a38-135e-4cd9-be45-7630593e9593')\"\n",
              "              title=\"Convert this dataframe to an interactive table.\"\n",
              "              style=\"display:none;\">\n",
              "        \n",
              "  <svg xmlns=\"http://www.w3.org/2000/svg\" height=\"24px\"viewBox=\"0 0 24 24\"\n",
              "       width=\"24px\">\n",
              "    <path d=\"M0 0h24v24H0V0z\" fill=\"none\"/>\n",
              "    <path d=\"M18.56 5.44l.94 2.06.94-2.06 2.06-.94-2.06-.94-.94-2.06-.94 2.06-2.06.94zm-11 1L8.5 8.5l.94-2.06 2.06-.94-2.06-.94L8.5 2.5l-.94 2.06-2.06.94zm10 10l.94 2.06.94-2.06 2.06-.94-2.06-.94-.94-2.06-.94 2.06-2.06.94z\"/><path d=\"M17.41 7.96l-1.37-1.37c-.4-.4-.92-.59-1.43-.59-.52 0-1.04.2-1.43.59L10.3 9.45l-7.72 7.72c-.78.78-.78 2.05 0 2.83L4 21.41c.39.39.9.59 1.41.59.51 0 1.02-.2 1.41-.59l7.78-7.78 2.81-2.81c.8-.78.8-2.07 0-2.86zM5.41 20L4 18.59l7.72-7.72 1.47 1.35L5.41 20z\"/>\n",
              "  </svg>\n",
              "      </button>\n",
              "      \n",
              "  <style>\n",
              "    .colab-df-container {\n",
              "      display:flex;\n",
              "      flex-wrap:wrap;\n",
              "      gap: 12px;\n",
              "    }\n",
              "\n",
              "    .colab-df-convert {\n",
              "      background-color: #E8F0FE;\n",
              "      border: none;\n",
              "      border-radius: 50%;\n",
              "      cursor: pointer;\n",
              "      display: none;\n",
              "      fill: #1967D2;\n",
              "      height: 32px;\n",
              "      padding: 0 0 0 0;\n",
              "      width: 32px;\n",
              "    }\n",
              "\n",
              "    .colab-df-convert:hover {\n",
              "      background-color: #E2EBFA;\n",
              "      box-shadow: 0px 1px 2px rgba(60, 64, 67, 0.3), 0px 1px 3px 1px rgba(60, 64, 67, 0.15);\n",
              "      fill: #174EA6;\n",
              "    }\n",
              "\n",
              "    [theme=dark] .colab-df-convert {\n",
              "      background-color: #3B4455;\n",
              "      fill: #D2E3FC;\n",
              "    }\n",
              "\n",
              "    [theme=dark] .colab-df-convert:hover {\n",
              "      background-color: #434B5C;\n",
              "      box-shadow: 0px 1px 3px 1px rgba(0, 0, 0, 0.15);\n",
              "      filter: drop-shadow(0px 1px 2px rgba(0, 0, 0, 0.3));\n",
              "      fill: #FFFFFF;\n",
              "    }\n",
              "  </style>\n",
              "\n",
              "      <script>\n",
              "        const buttonEl =\n",
              "          document.querySelector('#df-295f3a38-135e-4cd9-be45-7630593e9593 button.colab-df-convert');\n",
              "        buttonEl.style.display =\n",
              "          google.colab.kernel.accessAllowed ? 'block' : 'none';\n",
              "\n",
              "        async function convertToInteractive(key) {\n",
              "          const element = document.querySelector('#df-295f3a38-135e-4cd9-be45-7630593e9593');\n",
              "          const dataTable =\n",
              "            await google.colab.kernel.invokeFunction('convertToInteractive',\n",
              "                                                     [key], {});\n",
              "          if (!dataTable) return;\n",
              "\n",
              "          const docLinkHtml = 'Like what you see? Visit the ' +\n",
              "            '<a target=\"_blank\" href=https://colab.research.google.com/notebooks/data_table.ipynb>data table notebook</a>'\n",
              "            + ' to learn more about interactive tables.';\n",
              "          element.innerHTML = '';\n",
              "          dataTable['output_type'] = 'display_data';\n",
              "          await google.colab.output.renderOutput(dataTable, element);\n",
              "          const docLink = document.createElement('div');\n",
              "          docLink.innerHTML = docLinkHtml;\n",
              "          element.appendChild(docLink);\n",
              "        }\n",
              "      </script>\n",
              "    </div>\n",
              "  </div>\n",
              "  "
            ]
          },
          "metadata": {}
        }
      ]
    },
    {
      "cell_type": "markdown",
      "source": [
        "### 4.5.3 Выручка по месяцам"
      ],
      "metadata": {
        "id": "XC5wSHzaBaOG"
      }
    },
    {
      "cell_type": "code",
      "source": [
        "plt.figure(figsize = (15, 9))\n",
        "sns.lineplot(data=df, x=\"month\", y=\"revenue\", hue=\"tariff\", style=\"tariff\",\n",
        "    markers=True, dashes=False)\n",
        "plt.title('Выручка по меясцам двух тарифов')\n",
        "plt.xlabel(xlabel='Месяц')\n",
        "plt.ylabel(ylabel='Выручка по месяцам (руб.)')\n",
        "plt.grid()\n",
        "plt.ylim(0)\n",
        "plt.show()"
      ],
      "metadata": {
        "colab": {
          "base_uri": "https://localhost:8080/",
          "height": 567
        },
        "id": "ghV7rgb-dA-7",
        "outputId": "cc015c66-d595-4dcd-c5ab-4ecc820ddb60"
      },
      "execution_count": null,
      "outputs": [
        {
          "output_type": "display_data",
          "data": {
            "text/plain": [
              "<Figure size 1080x648 with 1 Axes>"
            ],
            "image/png": "[encoded data removed]"
          },
          "metadata": {
            "needs_background": "light"
          }
        }
      ]
    },
    {
      "cell_type": "markdown",
      "source": [
        "- Тариф **ultra** показывает стабильно небольшой рост средней выручки по месяцам\n",
        "- **smart** напротив, демонстрирует стремительный рост в течении года от 750р в январе до 1500 в декабре.\n"
      ],
      "metadata": {
        "id": "2qYR4rSUGcsE"
      }
    },
    {
      "cell_type": "markdown",
      "source": [
        "### 4.5.4 Выручка по тарифам"
      ],
      "metadata": {
        "id": "nkQAZDHzBfkv"
      }
    },
    {
      "cell_type": "code",
      "source": [
        "hist_def(data=df, x='revenue', \n",
        "         hue='tariff', xlabel='Выручка оп тарифам, руб', \n",
        "         text='по выручке для тарифа')"
      ],
      "metadata": {
        "colab": {
          "base_uri": "https://localhost:8080/",
          "height": 688
        },
        "id": "F6XPWQXIYs02",
        "outputId": "b91373ae-00eb-4731-bca5-256f5251f7b6"
      },
      "execution_count": null,
      "outputs": [
        {
          "output_type": "display_data",
          "data": {
            "text/plain": [
              "<Figure size 1080x504 with 1 Axes>"
            ],
            "image/png": "[encoded data removed]"
          },
          "metadata": {
            "needs_background": "light"
          }
        },
        {
          "output_type": "stream",
          "name": "stdout",
          "text": [
            "\n",
            "========================================\n",
            "Среднее по выручке для тарифа Smart: 1289.97\n",
            "Среднее по выручке для тарифа Ultra: 2070.15\n",
            "\n",
            "Сумма по выручке для тарифа Smart: 2875351\n",
            "Сумма по выручке для тарифа Ultra: 2039100\n",
            "\n",
            "Дисперсия по выручке для тарифа Smart: 669485.22\n",
            "Дисперсия по выручке для тарифа Ultra: 141373.07\n",
            "\n",
            "Стандартное отклонение по выручке для тарифа Smart 818.22\n",
            "Стандартное отклонение по выручке для тарифа Ultra 376.0\n"
          ]
        }
      ]
    },
    {
      "cell_type": "markdown",
      "source": [
        "# 👩🏼‍🔬 5. Проверка гипотез c помощью t-test"
      ],
      "metadata": {
        "id": "ylPZwiveNxvL"
      }
    },
    {
      "cell_type": "markdown",
      "source": [
        "- Ссылка на статью про **необязательное** нормальное распредление для t-критерий (критерий Стьюдента):\n",
        "\n",
        "[я ссылка](https://koch-kir.medium.com/%D0%B8%D1%81%D1%82%D0%BE%D1%80%D0%B8%D1%8F-%D0%BE%D0%B4%D0%BD%D0%BE%D0%B3%D0%BE-%D0%BE%D0%B1%D0%BC%D0%B0%D0%BD%D0%B0-%D0%B8%D0%BB%D0%B8-%D1%82%D1%80%D0%B5%D0%B1%D0%BE%D0%B2%D0%B0%D0%BD%D0%B8%D1%8F-%D0%BA-%D1%80%D0%B0%D1%81%D0%BF%D1%80%D0%B5%D0%B4%D0%B5%D0%BB%D0%B5%D0%BD%D0%B8%D1%8E-%D0%B2-%D1%81%D1%82%D0%B0%D1%82%D0%B8%D1%81%D1%82%D0%B8%D1%87%D0%B5%D1%81%D0%BA%D0%B8%D1%85-%D1%82%D0%B5%D1%81%D1%82%D0%B0%D1%85-55139a5558d)\n",
        "\n"
      ],
      "metadata": {
        "id": "LqbZwREHVct3"
      }
    },
    {
      "cell_type": "markdown",
      "source": [
        "## 5.1 Средняя выручка пользователей тарифов «Ультра» и «Смарт» различаются"
      ],
      "metadata": {
        "id": "e_RmQHVtOXmV"
      }
    },
    {
      "cell_type": "markdown",
      "source": [
        "### 5.1.1 Распределние на qqplot"
      ],
      "metadata": {
        "id": "di-VL8d7Z0gf"
      }
    },
    {
      "cell_type": "markdown",
      "source": [
        "- посмотрим на рапределение средних выручек пользователей на qq плоте"
      ],
      "metadata": {
        "id": "Rn557hL6Y8tA"
      }
    },
    {
      "cell_type": "code",
      "source": [
        "st.probplot(df.query('tariff == \"smart\"').groupby('user_id')['revenue'].mean(), dist=\"norm\", plot=pylab)\n",
        "pylab.show()"
      ],
      "metadata": {
        "colab": {
          "base_uri": "https://localhost:8080/",
          "height": 295
        },
        "id": "zvAS1mqkYrBI",
        "outputId": "c56dd0e3-6763-48fc-bce8-62c3625d4153"
      },
      "execution_count": null,
      "outputs": [
        {
          "output_type": "display_data",
          "data": {
            "text/plain": [
              "<Figure size 432x288 with 1 Axes>"
            ],
            "image/png": "[encoded data removed]"
          },
          "metadata": {
            "needs_background": "light"
          }
        }
      ]
    },
    {
      "cell_type": "code",
      "source": [
        "df.query('tariff == \"smart\"')['revenue'].count()"
      ],
      "metadata": {
        "colab": {
          "base_uri": "https://localhost:8080/"
        },
        "id": "YTlU6TMHarIH",
        "outputId": "32272098-28ef-4b75-f1c5-59260e194609"
      },
      "execution_count": null,
      "outputs": [
        {
          "output_type": "execute_result",
          "data": {
            "text/plain": [
              "2229"
            ]
          },
          "metadata": {},
          "execution_count": 147
        }
      ]
    },
    {
      "cell_type": "code",
      "source": [
        "st.probplot(df.query('tariff != \"smart\"').groupby('user_id')['revenue'].mean(), dist=\"norm\", plot=pylab)\n",
        "pylab.show()"
      ],
      "metadata": {
        "colab": {
          "base_uri": "https://localhost:8080/",
          "height": 295
        },
        "id": "Z3QZ7MR7Y3MC",
        "outputId": "4350c8b1-8fdd-4eef-ba0a-a397a3165038"
      },
      "execution_count": null,
      "outputs": [
        {
          "output_type": "display_data",
          "data": {
            "text/plain": [
              "<Figure size 432x288 with 1 Axes>"
            ],
            "image/png": "[encoded data removed]"
          },
          "metadata": {
            "needs_background": "light"
          }
        }
      ]
    },
    {
      "cell_type": "code",
      "source": [
        "df.query('tariff != \"smart\"')['revenue'].count()"
      ],
      "metadata": {
        "colab": {
          "base_uri": "https://localhost:8080/"
        },
        "id": "TaVYH7tfaiE6",
        "outputId": "0b571f6f-1817-4e35-ee41-cafbaa61ece3"
      },
      "execution_count": null,
      "outputs": [
        {
          "output_type": "execute_result",
          "data": {
            "text/plain": [
              "985"
            ]
          },
          "metadata": {},
          "execution_count": 146
        }
      ]
    },
    {
      "cell_type": "markdown",
      "source": [
        "- распредление не нормально, но для критерия Стюдента при большой выборке (более 30 значений) это не обязательно."
      ],
      "metadata": {
        "id": "M7SYp6m9aOwD"
      }
    },
    {
      "cell_type": "markdown",
      "source": [
        "### 5.1.2 Формулируем гипотезы\n",
        "\n",
        "**H0:** средняя выручка пользователей тарифов «Ультра» и «Смарт» **равны**\n",
        "\n",
        "\n",
        "**H1:** средняя выручка пользователей тарифов «Ультра» и «Смарт» **различаются** "
      ],
      "metadata": {
        "id": "GnHymVw5Od6V"
      }
    },
    {
      "cell_type": "markdown",
      "source": [
        "### 5.1.3 Проводим т-тест"
      ],
      "metadata": {
        "id": "VD-Kz_HdZp8o"
      }
    },
    {
      "cell_type": "code",
      "source": [
        "# t-test - Гипотеза о равенстве средних двух генеральных совокупностей\n",
        "alpha = 0.01\n",
        "\n",
        "results = st.ttest_ind(\n",
        "    df.query('tariff == \"smart\"')['revenue'],\n",
        "    df.query('tariff == \"ultra\"')['revenue'],\n",
        "     equal_var=False)\n",
        "\n",
        "print('p-значение:', np.round(results.pvalue, decimals=5))\n",
        "\n",
        "if results.pvalue < alpha:\n",
        "    print(\"Отвергаем нулевую гипотезу\")\n",
        "else:\n",
        "    print(\"Не получилось отвергнуть нулевую гипотезу\") "
      ],
      "metadata": {
        "colab": {
          "base_uri": "https://localhost:8080/"
        },
        "id": "eFu_MnIFYs3a",
        "outputId": "cd48190c-8afc-4281-db69-ac83a36e9d4b"
      },
      "execution_count": null,
      "outputs": [
        {
          "output_type": "stream",
          "name": "stdout",
          "text": [
            "p-значение: 0.0\n",
            "Отвергаем нулевую гипотезу\n"
          ]
        }
      ]
    },
    {
      "cell_type": "markdown",
      "source": [
        "### Вывод:\n",
        "- Нулевая гипотеза о равенстве средних выручек двух тарифов, **не подтвердилась.**"
      ],
      "metadata": {
        "id": "7EUC5A5IPX1n"
      }
    },
    {
      "cell_type": "markdown",
      "source": [
        "## 5.2 Средняя выручка пользователей из Москвы отличается от выручки пользователей из других регионов"
      ],
      "metadata": {
        "id": "ouWlCwkYPwXz"
      }
    },
    {
      "cell_type": "markdown",
      "source": [
        "### 5.2.1 Распределние на qqplot"
      ],
      "metadata": {
        "id": "X1bCRp96Z-2U"
      }
    },
    {
      "cell_type": "code",
      "source": [
        "st.probplot(df.query('city == \"Москва\"').groupby('user_id')['revenue'].mean(), dist=\"norm\", plot=pylab)\n",
        "pylab.show()"
      ],
      "metadata": {
        "colab": {
          "base_uri": "https://localhost:8080/",
          "height": 295
        },
        "id": "rIKIFv79aB3A",
        "outputId": "727b1e73-38ca-415e-98b6-00cca4e6e48a"
      },
      "execution_count": null,
      "outputs": [
        {
          "output_type": "display_data",
          "data": {
            "text/plain": [
              "<Figure size 432x288 with 1 Axes>"
            ],
            "image/png": "[encoded data removed]"
          },
          "metadata": {
            "needs_background": "light"
          }
        }
      ]
    },
    {
      "cell_type": "code",
      "source": [
        "df.query('city == \"Москва\"')['revenue'].count()"
      ],
      "metadata": {
        "colab": {
          "base_uri": "https://localhost:8080/"
        },
        "id": "dwOn2t7La0z0",
        "outputId": "7eb3d3ee-93c5-4c87-ceb2-73a44beeb727"
      },
      "execution_count": null,
      "outputs": [
        {
          "output_type": "execute_result",
          "data": {
            "text/plain": [
              "611"
            ]
          },
          "metadata": {},
          "execution_count": 149
        }
      ]
    },
    {
      "cell_type": "code",
      "source": [
        "st.probplot(df.query('city != \"Москва\"').groupby('user_id')['revenue'].mean(), dist=\"norm\", plot=pylab)\n",
        "pylab.show()"
      ],
      "metadata": {
        "colab": {
          "base_uri": "https://localhost:8080/",
          "height": 295
        },
        "id": "XBki293QaB5r",
        "outputId": "5f8447d8-bee4-464a-ef3b-e478c48b6192"
      },
      "execution_count": null,
      "outputs": [
        {
          "output_type": "display_data",
          "data": {
            "text/plain": [
              "<Figure size 432x288 with 1 Axes>"
            ],
            "image/png": "[encoded data removed]"
          },
          "metadata": {
            "needs_background": "light"
          }
        }
      ]
    },
    {
      "cell_type": "code",
      "source": [
        "df.query('city != \"Москва\"')['revenue'].count()"
      ],
      "metadata": {
        "colab": {
          "base_uri": "https://localhost:8080/"
        },
        "id": "JsCUjhkQa9zi",
        "outputId": "775953b8-ef0a-459d-f627-ab8cd75eeabc"
      },
      "execution_count": null,
      "outputs": [
        {
          "output_type": "execute_result",
          "data": {
            "text/plain": [
              "2603"
            ]
          },
          "metadata": {},
          "execution_count": 150
        }
      ]
    },
    {
      "cell_type": "markdown",
      "source": [
        "- распредление не нормально, но для критерия Стюдента при большой выборке (более 30 значений) это не обязательно."
      ],
      "metadata": {
        "id": "JO6rCWl8bClS"
      }
    },
    {
      "cell_type": "markdown",
      "source": [
        "### 5.2.2 Формулируем гипотезы\n",
        "\n",
        "**Н0:** средняя выручка пользователей из Москвы **равна** выручке пользователей из других регионов\n",
        "\n",
        "**Н1:** средняя выручка пользователей из Москвы **отличается** от выручки пользователей из других регионов"
      ],
      "metadata": {
        "id": "reUl8KvKP6ea"
      }
    },
    {
      "cell_type": "markdown",
      "source": [
        "### 5.2.3 Проводим т-тест"
      ],
      "metadata": {
        "id": "gHP3uq3pbITR"
      }
    },
    {
      "cell_type": "code",
      "source": [
        "# t-test - Гипотеза о равенстве средних двух генеральных совокупностей\n",
        "alpha = 0.01\n",
        "\n",
        "results = st.ttest_ind(\n",
        "    df.query('city == \"Москва\"')['revenue'],\n",
        "    df.query('city != \"Москва\"')['revenue'],\n",
        "     equal_var=False)\n",
        "\n",
        "print('p-значение:', np.round(results.pvalue, decimals=5))\n",
        "\n",
        "if results.pvalue < alpha:\n",
        "    print(\"Отвергаем нулевую гипотезу\")\n",
        "else:\n",
        "    print(\"Не получилось отвергнуть нулевую гипотезу\") "
      ],
      "metadata": {
        "colab": {
          "base_uri": "https://localhost:8080/"
        },
        "id": "GxKkX79RV-yf",
        "outputId": "a17dfbb0-358e-4af3-d6d8-15f8e5861620"
      },
      "execution_count": null,
      "outputs": [
        {
          "output_type": "stream",
          "name": "stdout",
          "text": [
            "p-значение: 0.52574\n",
            "Не получилось отвергнуть нулевую гипотезу\n"
          ]
        }
      ]
    },
    {
      "cell_type": "markdown",
      "source": [
        "### Вывод:\n",
        "- Нулевая гипотеза о равенстве средних выручек между пользователями из Москвы и из других регионов, **подтвердилась**."
      ],
      "metadata": {
        "id": "RLYRiOtMbMOF"
      }
    },
    {
      "cell_type": "code",
      "source": [
        "# t-test - Гипотеза о равенстве средних двух генеральных совокупностей\n",
        "alpha = 0.01\n",
        "\n",
        "results = st.ttest_ind(\n",
        "    df.query('city != \"Санкт-Петербург\"')['revenue'],\n",
        "    df.query('city == \"Санкт-Петербург\"')['revenue'],\n",
        "     equal_var=False)\n",
        "\n",
        "print('p-значение:', np.round(results.pvalue, decimals=5))\n",
        "\n",
        "if results.pvalue < alpha:\n",
        "    print(\"Отвергаем нулевую гипотезу\")\n",
        "else:\n",
        "    print(\"Не получилось отвергнуть нулевую гипотезу\") "
      ],
      "metadata": {
        "colab": {
          "base_uri": "https://localhost:8080/"
        },
        "id": "k6rI63dWiBny",
        "outputId": "945a5743-b768-4bc5-eb28-16f4fb716290"
      },
      "execution_count": null,
      "outputs": [
        {
          "output_type": "stream",
          "name": "stdout",
          "text": [
            "p-значение: 0.08202\n",
            "Не получилось отвергнуть нулевую гипотезу\n"
          ]
        }
      ]
    },
    {
      "cell_type": "markdown",
      "source": [
        "# 📝 6. Выводы"
      ],
      "metadata": {
        "id": "RrCIwIlRb9vO"
      }
    },
    {
      "cell_type": "markdown",
      "source": [
        " \n",
        "**портрет пользователя тарифа SMART:**\n",
        "    \n",
        "- количество уникальных пользователей тарифа 350 человек        \n",
        "- тратится в среднем 418 минут (от лимита 84%),\n",
        "- СМС в среднем на пользователя 34 сообщения (от лимита 67%),\n",
        "- расход в среднем 17 гб (от лимита 107%),\n",
        "- всего денег заработано 2,875,351 руб,\n",
        "- средний чек 1,290 руб\n",
        " \n",
        " \n",
        "**портрет пользователя тарифа ULTRA:**\n",
        "        \n",
        "- количество уникальных пользователей тарифа 148 человек    \n",
        "- тратится в среднем 527 минут (от лимита 18%),\n",
        "- СМС в среднем на пользователя 50 сообщения (от лимита 5%),\n",
        "- расход в среднем 20 гб (от лимита 64%),\n",
        "- всего денег заработано 2,039,100 руб,\n",
        "- средний чек 2,070 руб\n",
        " \n",
        "Тариф SMART более популярный - скорее всего связано с ценой тарифа - 550 руб (ULTRA стоит почти в 4 раза дороже - 1,950 руб).\n",
        " \n",
        "Пользователи практически одинаково говорят по телефону 418 минут и 527 минут в тарифе ULTRA. Интернета в тарифе SMART уже не хватает, идет превышение на 2 гб в месяц. В тарифе ULTRA интернета расходуют 64% от лимита.\n",
        " \n",
        "Средний чек тарифа смарт 1,290 руб, средний чек тарифа ULTRA 2,070 руб, 70%(тариф SMART) пользователей приносят 59% общей выручки, 30%(тариф ULTRA) приносят 41% от общей выручки.\n",
        " \n",
        "> Гипотеза о равенстве средних выручек тарифов, **не подтвердилась.** Средние выручки статистически значимо отличаются.\n",
        " \n",
        "> Гипотеза о равенстве средних выручек между пользователями из Москвы и из других регионов, **подтвердилась**.\n",
        " \n",
        "**В заключении:**\n",
        " \n",
        "- Пользователи тарифа SMART используют лимиты тарифа на 86%, если смотреть по лимиту интернета, то превышают его и переплачивают. Еще можно с уверенностью говорить что в следующем году дополнительно будут платить за минуты. Можно сказать тариф для экономных и рациональных людей.\n",
        " \n",
        "- Пользователи ULTRA используют тариф на 30% от заданых лимитов. С психологической точки зрения им не нужно постоянно следить и проверять остаток лимита, поэтому тариф более комфортный."
      ],
      "metadata": {
        "id": "qtzDEiP_bMQ1"
      }
    },
    {
      "cell_type": "markdown",
      "source": [
        "**Топ 5 городов по сумме выручки (руб)**\n",
        "1. Москва 945,042\n",
        "2. Санкт-Петербург 436,982\n",
        "3. Новосибирск 174,542\n",
        "4. Уфа 145,762\n",
        "5. Краснодар 132,790\n",
        "\n",
        "**Топ 5 городов по среднему чеку (руб)**\n",
        "1. Нижний Новгород 1,925\n",
        "2. Пенза 1,784\n",
        "3. Новосибирск 1,781\n",
        "4. Челябинск 1,718\n",
        "5. Вологда 1,631\n",
        "\n"
      ],
      "metadata": {
        "id": "UXWz-VxkbMTG"
      }
    }
  ]
}
