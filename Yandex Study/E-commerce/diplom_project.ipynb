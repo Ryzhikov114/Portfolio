{
  "nbformat": 4,
  "nbformat_minor": 0,
  "metadata": {
    "colab": {
      "provenance": [],
      "toc_visible": true,
      "authorship_tag": "ABX9TyMPKPJJyu58HFsCDcMA7eEn",
      "include_colab_link": true
    },
    "kernelspec": {
      "name": "python3",
      "display_name": "Python 3"
    },
    "language_info": {
      "name": "python"
    }
  },
  "cells": [
    {
      "cell_type": "markdown",
      "metadata": {
        "id": "view-in-github",
        "colab_type": "text"
      },
      "source": [
        "<a href=\"https://colab.research.google.com/github/ryzhikov114/portfolio/blob/main/diplom_project.ipynb\" target=\"_parent\"><img src=\"https://colab.research.google.com/assets/colab-badge.svg\" alt=\"Open In Colab\"/></a>"
      ]
    },
    {
      "cell_type": "markdown",
      "source": [
        "# 🙋‍♂️ Вступление\n",
        "\n",
        "- Здравствуйте, добрый день!!! Дипломная работа ЯндексПрактики, на тему e-commerce магазина хозяйственных товаров. \n",
        "\n",
        "- В работе использованы библиотеки рandas, numpy, matplotlib, seaborn, sklearn. Анализ проведен на основе RFM, ABC, XYZ, DAU, MAU, WAU, ARPPU, кластеризация. Использован стат критерий Стьюдента."
      ],
      "metadata": {
        "id": "dTPsDtCDkASR"
      }
    },
    {
      "cell_type": "markdown",
      "source": [
        "**Бриф.**\n",
        "\n",
        "Перед нами данные хозяйственного магазина e-commerce. \n",
        "\n",
        "**Задача:**\n",
        "\n",
        "- Провести анализ данных, выявить дубликаты\n",
        "- Агрегировать данные по товарам/покупателям\n",
        "- Сегментировать покупателей на основе истории их покупок\n",
        "- Сформулировать и проверить статистические гипотезы\n",
        "- Выводы/рекомендации"
      ],
      "metadata": {
        "id": "WdV5wu0dxkwJ"
      }
    },
    {
      "cell_type": "markdown",
      "source": [
        "# 📚 1. Импорт"
      ],
      "metadata": {
        "id": "GIKoOO4IkFoy"
      }
    },
    {
      "cell_type": "code",
      "source": [
        "!pip install -U matplotlib"
      ],
      "metadata": {
        "colab": {
          "base_uri": "https://localhost:8080/"
        },
        "id": "BQSDgmvFDjB3",
        "outputId": "ff79da0f-3364-435d-aed0-59494c38c5dc"
      },
      "execution_count": null,
      "outputs": [
        {
          "output_type": "stream",
          "name": "stdout",
          "text": [
            "Looking in indexes: https://pypi.org/simple, https://us-python.pkg.dev/colab-wheels/public/simple/\n",
            "Requirement already satisfied: matplotlib in /usr/local/lib/python3.7/dist-packages (3.5.3)\n",
            "Requirement already satisfied: pyparsing>=2.2.1 in /usr/local/lib/python3.7/dist-packages (from matplotlib) (3.0.9)\n",
            "Requirement already satisfied: kiwisolver>=1.0.1 in /usr/local/lib/python3.7/dist-packages (from matplotlib) (1.4.4)\n",
            "Requirement already satisfied: numpy>=1.17 in /usr/local/lib/python3.7/dist-packages (from matplotlib) (1.21.6)\n",
            "Requirement already satisfied: fonttools>=4.22.0 in /usr/local/lib/python3.7/dist-packages (from matplotlib) (4.37.3)\n",
            "Requirement already satisfied: pillow>=6.2.0 in /usr/local/lib/python3.7/dist-packages (from matplotlib) (7.1.2)\n",
            "Requirement already satisfied: packaging>=20.0 in /usr/local/lib/python3.7/dist-packages (from matplotlib) (21.3)\n",
            "Requirement already satisfied: python-dateutil>=2.7 in /usr/local/lib/python3.7/dist-packages (from matplotlib) (2.8.2)\n",
            "Requirement already satisfied: cycler>=0.10 in /usr/local/lib/python3.7/dist-packages (from matplotlib) (0.11.0)\n",
            "Requirement already satisfied: typing-extensions in /usr/local/lib/python3.7/dist-packages (from kiwisolver>=1.0.1->matplotlib) (4.1.1)\n",
            "Requirement already satisfied: six>=1.5 in /usr/local/lib/python3.7/dist-packages (from python-dateutil>=2.7->matplotlib) (1.15.0)\n"
          ]
        }
      ]
    },
    {
      "cell_type": "code",
      "source": [
        "import pandas as pd\n",
        "import numpy as np\n",
        "import matplotlib.pyplot as plt\n",
        "import seaborn as sns\n",
        "import warnings\n",
        "import itertools\n",
        "import re\n",
        "from scipy import stats as st\n",
        "import pylab \n",
        "from collections import defaultdict\n",
        "\n",
        "from sklearn.ensemble import RandomForestRegressor\n",
        "from sklearn.metrics import mean_absolute_error, mean_squared_error, r2_score\n",
        "from sklearn.model_selection import train_test_split\n",
        "from sklearn.linear_model import LogisticRegression\n",
        "from sklearn.tree import DecisionTreeClassifier\n",
        "from sklearn.ensemble import RandomForestClassifier\n",
        "from sklearn.metrics import accuracy_score, precision_score, recall_score\n",
        "from sklearn.metrics import roc_auc_score\n",
        "from scipy.cluster.hierarchy import dendrogram, linkage \n",
        "from sklearn.preprocessing import StandardScaler\n",
        "from sklearn.cluster import KMeans\n",
        "from sklearn.metrics import silhouette_score\n",
        "\n",
        "warnings.filterwarnings(\"ignore\")\n",
        "pd.set_option('display.float_format', lambda x: '%.5f' % x)"
      ],
      "metadata": {
        "id": "wCgN4lbrtlzD"
      },
      "execution_count": null,
      "outputs": []
    },
    {
      "cell_type": "markdown",
      "source": [
        "# 🛒 2. Загрузка файла"
      ],
      "metadata": {
        "id": "ZWw0xGUmkRyg"
      }
    },
    {
      "cell_type": "markdown",
      "source": [
        "https://drive.google.com/file/d/1ZrI6pGPTdGPgwEVHGpg92MgZ7MrNqDc9/view?usp=sharing"
      ],
      "metadata": {
        "id": "7R0-fkrdthlR"
      }
    },
    {
      "cell_type": "code",
      "source": [
        "!gdown 1ZrI6pGPTdGPgwEVHGpg92MgZ7MrNqDc9"
      ],
      "metadata": {
        "colab": {
          "base_uri": "https://localhost:8080/"
        },
        "id": "fA6W1nAwth3w",
        "outputId": "a9a7c00c-7f00-4ab6-a20a-10d32cd746cd"
      },
      "execution_count": null,
      "outputs": [
        {
          "output_type": "stream",
          "name": "stdout",
          "text": [
            "Downloading...\n",
            "From: https://drive.google.com/uc?id=1ZrI6pGPTdGPgwEVHGpg92MgZ7MrNqDc9\n",
            "To: /content/ecommerce_dataset.csv\n",
            "\r  0% 0.00/1.04M [00:00<?, ?B/s]\r100% 1.04M/1.04M [00:00<00:00, 133MB/s]\n"
          ]
        }
      ]
    },
    {
      "cell_type": "code",
      "source": [
        "try:\n",
        "  df = pd.read_csv('/datasets/ecommerce_dataset.csv')\n",
        "except:\n",
        "  df = pd.read_csv('/content/ecommerce_dataset.csv')"
      ],
      "metadata": {
        "id": "QW1Pyn8xtpis"
      },
      "execution_count": null,
      "outputs": []
    },
    {
      "cell_type": "code",
      "source": [
        "df.head()"
      ],
      "metadata": {
        "colab": {
          "base_uri": "https://localhost:8080/",
          "height": 206
        },
        "id": "RSTrDVetk0gn",
        "outputId": "581c7c48-618c-4218-c6be-0213da47ad99"
      },
      "execution_count": null,
      "outputs": [
        {
          "output_type": "execute_result",
          "data": {
            "text/plain": [
              "         date                           customer_id  order_id  \\\n",
              "0  2018100100  ee47d746-6d2f-4d3c-9622-c31412542920     68477   \n",
              "1  2018100100  ee47d746-6d2f-4d3c-9622-c31412542920     68477   \n",
              "2  2018100100  ee47d746-6d2f-4d3c-9622-c31412542920     68477   \n",
              "3  2018100100  ee47d746-6d2f-4d3c-9622-c31412542920     68477   \n",
              "4  2018100100  ee47d746-6d2f-4d3c-9622-c31412542920     68477   \n",
              "\n",
              "                                             product  quantity     price  \n",
              "0    Комнатное растение в горшке Алое Вера, d12, h30         1 142.00000  \n",
              "1  Комнатное растение в горшке Кофе Арабика, d12,...         1 194.00000  \n",
              "2                        Радермахера d-12 см h-20 см         1 112.00000  \n",
              "3                   Хризолидокарпус Лутесценс d-9 см         1 179.00000  \n",
              "4                     Циперус Зумула d-12 см h-25 см         1 112.00000  "
            ],
            "text/html": [
              "\n",
              "  <div id=\"df-7221098d-88ad-4963-be60-a6ee87ab0990\">\n",
              "    <div class=\"colab-df-container\">\n",
              "      <div>\n",
              "<style scoped>\n",
              "    .dataframe tbody tr th:only-of-type {\n",
              "        vertical-align: middle;\n",
              "    }\n",
              "\n",
              "    .dataframe tbody tr th {\n",
              "        vertical-align: top;\n",
              "    }\n",
              "\n",
              "    .dataframe thead th {\n",
              "        text-align: right;\n",
              "    }\n",
              "</style>\n",
              "<table border=\"1\" class=\"dataframe\">\n",
              "  <thead>\n",
              "    <tr style=\"text-align: right;\">\n",
              "      <th></th>\n",
              "      <th>date</th>\n",
              "      <th>customer_id</th>\n",
              "      <th>order_id</th>\n",
              "      <th>product</th>\n",
              "      <th>quantity</th>\n",
              "      <th>price</th>\n",
              "    </tr>\n",
              "  </thead>\n",
              "  <tbody>\n",
              "    <tr>\n",
              "      <th>0</th>\n",
              "      <td>2018100100</td>\n",
              "      <td>ee47d746-6d2f-4d3c-9622-c31412542920</td>\n",
              "      <td>68477</td>\n",
              "      <td>Комнатное растение в горшке Алое Вера, d12, h30</td>\n",
              "      <td>1</td>\n",
              "      <td>142.00000</td>\n",
              "    </tr>\n",
              "    <tr>\n",
              "      <th>1</th>\n",
              "      <td>2018100100</td>\n",
              "      <td>ee47d746-6d2f-4d3c-9622-c31412542920</td>\n",
              "      <td>68477</td>\n",
              "      <td>Комнатное растение в горшке Кофе Арабика, d12,...</td>\n",
              "      <td>1</td>\n",
              "      <td>194.00000</td>\n",
              "    </tr>\n",
              "    <tr>\n",
              "      <th>2</th>\n",
              "      <td>2018100100</td>\n",
              "      <td>ee47d746-6d2f-4d3c-9622-c31412542920</td>\n",
              "      <td>68477</td>\n",
              "      <td>Радермахера d-12 см h-20 см</td>\n",
              "      <td>1</td>\n",
              "      <td>112.00000</td>\n",
              "    </tr>\n",
              "    <tr>\n",
              "      <th>3</th>\n",
              "      <td>2018100100</td>\n",
              "      <td>ee47d746-6d2f-4d3c-9622-c31412542920</td>\n",
              "      <td>68477</td>\n",
              "      <td>Хризолидокарпус Лутесценс d-9 см</td>\n",
              "      <td>1</td>\n",
              "      <td>179.00000</td>\n",
              "    </tr>\n",
              "    <tr>\n",
              "      <th>4</th>\n",
              "      <td>2018100100</td>\n",
              "      <td>ee47d746-6d2f-4d3c-9622-c31412542920</td>\n",
              "      <td>68477</td>\n",
              "      <td>Циперус Зумула d-12 см h-25 см</td>\n",
              "      <td>1</td>\n",
              "      <td>112.00000</td>\n",
              "    </tr>\n",
              "  </tbody>\n",
              "</table>\n",
              "</div>\n",
              "      <button class=\"colab-df-convert\" onclick=\"convertToInteractive('df-7221098d-88ad-4963-be60-a6ee87ab0990')\"\n",
              "              title=\"Convert this dataframe to an interactive table.\"\n",
              "              style=\"display:none;\">\n",
              "        \n",
              "  <svg xmlns=\"http://www.w3.org/2000/svg\" height=\"24px\"viewBox=\"0 0 24 24\"\n",
              "       width=\"24px\">\n",
              "    <path d=\"M0 0h24v24H0V0z\" fill=\"none\"/>\n",
              "    <path d=\"M18.56 5.44l.94 2.06.94-2.06 2.06-.94-2.06-.94-.94-2.06-.94 2.06-2.06.94zm-11 1L8.5 8.5l.94-2.06 2.06-.94-2.06-.94L8.5 2.5l-.94 2.06-2.06.94zm10 10l.94 2.06.94-2.06 2.06-.94-2.06-.94-.94-2.06-.94 2.06-2.06.94z\"/><path d=\"M17.41 7.96l-1.37-1.37c-.4-.4-.92-.59-1.43-.59-.52 0-1.04.2-1.43.59L10.3 9.45l-7.72 7.72c-.78.78-.78 2.05 0 2.83L4 21.41c.39.39.9.59 1.41.59.51 0 1.02-.2 1.41-.59l7.78-7.78 2.81-2.81c.8-.78.8-2.07 0-2.86zM5.41 20L4 18.59l7.72-7.72 1.47 1.35L5.41 20z\"/>\n",
              "  </svg>\n",
              "      </button>\n",
              "      \n",
              "  <style>\n",
              "    .colab-df-container {\n",
              "      display:flex;\n",
              "      flex-wrap:wrap;\n",
              "      gap: 12px;\n",
              "    }\n",
              "\n",
              "    .colab-df-convert {\n",
              "      background-color: #E8F0FE;\n",
              "      border: none;\n",
              "      border-radius: 50%;\n",
              "      cursor: pointer;\n",
              "      display: none;\n",
              "      fill: #1967D2;\n",
              "      height: 32px;\n",
              "      padding: 0 0 0 0;\n",
              "      width: 32px;\n",
              "    }\n",
              "\n",
              "    .colab-df-convert:hover {\n",
              "      background-color: #E2EBFA;\n",
              "      box-shadow: 0px 1px 2px rgba(60, 64, 67, 0.3), 0px 1px 3px 1px rgba(60, 64, 67, 0.15);\n",
              "      fill: #174EA6;\n",
              "    }\n",
              "\n",
              "    [theme=dark] .colab-df-convert {\n",
              "      background-color: #3B4455;\n",
              "      fill: #D2E3FC;\n",
              "    }\n",
              "\n",
              "    [theme=dark] .colab-df-convert:hover {\n",
              "      background-color: #434B5C;\n",
              "      box-shadow: 0px 1px 3px 1px rgba(0, 0, 0, 0.15);\n",
              "      filter: drop-shadow(0px 1px 2px rgba(0, 0, 0, 0.3));\n",
              "      fill: #FFFFFF;\n",
              "    }\n",
              "  </style>\n",
              "\n",
              "      <script>\n",
              "        const buttonEl =\n",
              "          document.querySelector('#df-7221098d-88ad-4963-be60-a6ee87ab0990 button.colab-df-convert');\n",
              "        buttonEl.style.display =\n",
              "          google.colab.kernel.accessAllowed ? 'block' : 'none';\n",
              "\n",
              "        async function convertToInteractive(key) {\n",
              "          const element = document.querySelector('#df-7221098d-88ad-4963-be60-a6ee87ab0990');\n",
              "          const dataTable =\n",
              "            await google.colab.kernel.invokeFunction('convertToInteractive',\n",
              "                                                     [key], {});\n",
              "          if (!dataTable) return;\n",
              "\n",
              "          const docLinkHtml = 'Like what you see? Visit the ' +\n",
              "            '<a target=\"_blank\" href=https://colab.research.google.com/notebooks/data_table.ipynb>data table notebook</a>'\n",
              "            + ' to learn more about interactive tables.';\n",
              "          element.innerHTML = '';\n",
              "          dataTable['output_type'] = 'display_data';\n",
              "          await google.colab.output.renderOutput(dataTable, element);\n",
              "          const docLink = document.createElement('div');\n",
              "          docLink.innerHTML = docLinkHtml;\n",
              "          element.appendChild(docLink);\n",
              "        }\n",
              "      </script>\n",
              "    </div>\n",
              "  </div>\n",
              "  "
            ]
          },
          "metadata": {},
          "execution_count": 5
        }
      ]
    },
    {
      "cell_type": "code",
      "source": [
        "df.info()"
      ],
      "metadata": {
        "colab": {
          "base_uri": "https://localhost:8080/"
        },
        "id": "du5hv8-Ek3Jl",
        "outputId": "45289929-f6b5-442f-bece-9705ce3bf560"
      },
      "execution_count": null,
      "outputs": [
        {
          "output_type": "stream",
          "name": "stdout",
          "text": [
            "<class 'pandas.core.frame.DataFrame'>\n",
            "RangeIndex: 6737 entries, 0 to 6736\n",
            "Data columns (total 6 columns):\n",
            " #   Column       Non-Null Count  Dtype  \n",
            "---  ------       --------------  -----  \n",
            " 0   date         6737 non-null   int64  \n",
            " 1   customer_id  6737 non-null   object \n",
            " 2   order_id     6737 non-null   int64  \n",
            " 3   product      6737 non-null   object \n",
            " 4   quantity     6737 non-null   int64  \n",
            " 5   price        6737 non-null   float64\n",
            "dtypes: float64(1), int64(3), object(2)\n",
            "memory usage: 315.9+ KB\n"
          ]
        }
      ]
    },
    {
      "cell_type": "markdown",
      "source": [
        "- 5 стобцов\n",
        "- 6737 строк\n",
        "- пропуски отсуствуют"
      ],
      "metadata": {
        "id": "5eyY3hQEk5g_"
      }
    },
    {
      "cell_type": "markdown",
      "source": [
        "# 💡 3. Описание данных и предобработка"
      ],
      "metadata": {
        "id": "xltvj3m4li3V"
      }
    },
    {
      "cell_type": "markdown",
      "source": [
        "- **date** — дата заказа;\n",
        "- **customer_id** — идентификатор покупателя;\n",
        "- **order_id** — идентификатор заказа;\n",
        "- **product** — наименование товара;\n",
        "- **quantity** — количество товара в заказе;\n",
        "- **price** — цена товара."
      ],
      "metadata": {
        "id": "7dEm8XJxxuK7"
      }
    },
    {
      "cell_type": "markdown",
      "source": [
        "- В таблице встречаются строчные и заглавные названия, приведем все значнеия в нижний регистр."
      ],
      "metadata": {
        "id": "5dbNlhBJaoiq"
      }
    },
    {
      "cell_type": "code",
      "source": [
        "df = df.apply(lambda x: x.str.lower() if x.dtype=='object' else x)"
      ],
      "metadata": {
        "id": "JWRJZ-Y7amdJ"
      },
      "execution_count": null,
      "outputs": []
    },
    {
      "cell_type": "markdown",
      "source": [
        "- добавим колонку с выручкой"
      ],
      "metadata": {
        "id": "8si9X3w2LiXu"
      }
    },
    {
      "cell_type": "code",
      "source": [
        "df['revenue'] = df['price'] * df['quantity']"
      ],
      "metadata": {
        "id": "6jq5IO13qxSL"
      },
      "execution_count": null,
      "outputs": []
    },
    {
      "cell_type": "markdown",
      "source": [
        "## 3.1 Исправление типа"
      ],
      "metadata": {
        "id": "0vIF6z86mThr"
      }
    },
    {
      "cell_type": "code",
      "source": [
        "df['date'] = pd.to_datetime(df['date'], format='%Y%m%d%H')"
      ],
      "metadata": {
        "id": "SogqUHx6mXZT"
      },
      "execution_count": null,
      "outputs": []
    },
    {
      "cell_type": "code",
      "source": [
        "df['dayweek'] = df['date'].dt.day_name()"
      ],
      "metadata": {
        "id": "gsZYwsAcBax_"
      },
      "execution_count": null,
      "outputs": []
    },
    {
      "cell_type": "code",
      "source": [
        "dayweek = ['Monday', 'Tuesday', 'Wednesday', 'Thursday', \n",
        "           'Friday', 'Saturday', 'Sunday']\n",
        "df['dayweek']= pd.Categorical(df['dayweek'], categories=dayweek, ordered=True)"
      ],
      "metadata": {
        "id": "s7slUOIpBe72"
      },
      "execution_count": null,
      "outputs": []
    },
    {
      "cell_type": "code",
      "source": [
        "df['month'] = df['date'].dt.month_name()\n",
        "\n",
        "#категории для сотировки месяцев\n",
        "months = ['January', 'February', 'March', 'April', 'May', 'June', 'July', 'August',\n",
        "          'September', 'October', 'November', 'December']\n",
        "df['month'] = pd.Categorical(df['month'], categories=months, ordered=True)"
      ],
      "metadata": {
        "id": "k4oGzGMBKNTt"
      },
      "execution_count": null,
      "outputs": []
    },
    {
      "cell_type": "code",
      "source": [
        "print(df['date'].min())\n",
        "print(df['date'].max())"
      ],
      "metadata": {
        "colab": {
          "base_uri": "https://localhost:8080/"
        },
        "id": "O-0cADo_mrpa",
        "outputId": "e704ace9-6248-4023-b081-3299f127ee35"
      },
      "execution_count": null,
      "outputs": [
        {
          "output_type": "stream",
          "name": "stdout",
          "text": [
            "2018-10-01 00:00:00\n",
            "2019-10-31 16:00:00\n"
          ]
        }
      ]
    },
    {
      "cell_type": "code",
      "source": [
        "df.head()"
      ],
      "metadata": {
        "colab": {
          "base_uri": "https://localhost:8080/",
          "height": 337
        },
        "id": "Mot1lEsAmnpU",
        "outputId": "eedbb521-be7f-42f0-d21b-302dbd9993f1"
      },
      "execution_count": null,
      "outputs": [
        {
          "output_type": "execute_result",
          "data": {
            "text/plain": [
              "        date                           customer_id  order_id  \\\n",
              "0 2018-10-01  ee47d746-6d2f-4d3c-9622-c31412542920     68477   \n",
              "1 2018-10-01  ee47d746-6d2f-4d3c-9622-c31412542920     68477   \n",
              "2 2018-10-01  ee47d746-6d2f-4d3c-9622-c31412542920     68477   \n",
              "3 2018-10-01  ee47d746-6d2f-4d3c-9622-c31412542920     68477   \n",
              "4 2018-10-01  ee47d746-6d2f-4d3c-9622-c31412542920     68477   \n",
              "\n",
              "                                             product  quantity     price  \\\n",
              "0    комнатное растение в горшке алое вера, d12, h30         1 142.00000   \n",
              "1  комнатное растение в горшке кофе арабика, d12,...         1 194.00000   \n",
              "2                        радермахера d-12 см h-20 см         1 112.00000   \n",
              "3                   хризолидокарпус лутесценс d-9 см         1 179.00000   \n",
              "4                     циперус зумула d-12 см h-25 см         1 112.00000   \n",
              "\n",
              "    revenue dayweek    month  \n",
              "0 142.00000  Monday  October  \n",
              "1 194.00000  Monday  October  \n",
              "2 112.00000  Monday  October  \n",
              "3 179.00000  Monday  October  \n",
              "4 112.00000  Monday  October  "
            ],
            "text/html": [
              "\n",
              "  <div id=\"df-fe0a6a32-e2dd-437b-8a20-18adc23d3e3b\">\n",
              "    <div class=\"colab-df-container\">\n",
              "      <div>\n",
              "<style scoped>\n",
              "    .dataframe tbody tr th:only-of-type {\n",
              "        vertical-align: middle;\n",
              "    }\n",
              "\n",
              "    .dataframe tbody tr th {\n",
              "        vertical-align: top;\n",
              "    }\n",
              "\n",
              "    .dataframe thead th {\n",
              "        text-align: right;\n",
              "    }\n",
              "</style>\n",
              "<table border=\"1\" class=\"dataframe\">\n",
              "  <thead>\n",
              "    <tr style=\"text-align: right;\">\n",
              "      <th></th>\n",
              "      <th>date</th>\n",
              "      <th>customer_id</th>\n",
              "      <th>order_id</th>\n",
              "      <th>product</th>\n",
              "      <th>quantity</th>\n",
              "      <th>price</th>\n",
              "      <th>revenue</th>\n",
              "      <th>dayweek</th>\n",
              "      <th>month</th>\n",
              "    </tr>\n",
              "  </thead>\n",
              "  <tbody>\n",
              "    <tr>\n",
              "      <th>0</th>\n",
              "      <td>2018-10-01</td>\n",
              "      <td>ee47d746-6d2f-4d3c-9622-c31412542920</td>\n",
              "      <td>68477</td>\n",
              "      <td>комнатное растение в горшке алое вера, d12, h30</td>\n",
              "      <td>1</td>\n",
              "      <td>142.00000</td>\n",
              "      <td>142.00000</td>\n",
              "      <td>Monday</td>\n",
              "      <td>October</td>\n",
              "    </tr>\n",
              "    <tr>\n",
              "      <th>1</th>\n",
              "      <td>2018-10-01</td>\n",
              "      <td>ee47d746-6d2f-4d3c-9622-c31412542920</td>\n",
              "      <td>68477</td>\n",
              "      <td>комнатное растение в горшке кофе арабика, d12,...</td>\n",
              "      <td>1</td>\n",
              "      <td>194.00000</td>\n",
              "      <td>194.00000</td>\n",
              "      <td>Monday</td>\n",
              "      <td>October</td>\n",
              "    </tr>\n",
              "    <tr>\n",
              "      <th>2</th>\n",
              "      <td>2018-10-01</td>\n",
              "      <td>ee47d746-6d2f-4d3c-9622-c31412542920</td>\n",
              "      <td>68477</td>\n",
              "      <td>радермахера d-12 см h-20 см</td>\n",
              "      <td>1</td>\n",
              "      <td>112.00000</td>\n",
              "      <td>112.00000</td>\n",
              "      <td>Monday</td>\n",
              "      <td>October</td>\n",
              "    </tr>\n",
              "    <tr>\n",
              "      <th>3</th>\n",
              "      <td>2018-10-01</td>\n",
              "      <td>ee47d746-6d2f-4d3c-9622-c31412542920</td>\n",
              "      <td>68477</td>\n",
              "      <td>хризолидокарпус лутесценс d-9 см</td>\n",
              "      <td>1</td>\n",
              "      <td>179.00000</td>\n",
              "      <td>179.00000</td>\n",
              "      <td>Monday</td>\n",
              "      <td>October</td>\n",
              "    </tr>\n",
              "    <tr>\n",
              "      <th>4</th>\n",
              "      <td>2018-10-01</td>\n",
              "      <td>ee47d746-6d2f-4d3c-9622-c31412542920</td>\n",
              "      <td>68477</td>\n",
              "      <td>циперус зумула d-12 см h-25 см</td>\n",
              "      <td>1</td>\n",
              "      <td>112.00000</td>\n",
              "      <td>112.00000</td>\n",
              "      <td>Monday</td>\n",
              "      <td>October</td>\n",
              "    </tr>\n",
              "  </tbody>\n",
              "</table>\n",
              "</div>\n",
              "      <button class=\"colab-df-convert\" onclick=\"convertToInteractive('df-fe0a6a32-e2dd-437b-8a20-18adc23d3e3b')\"\n",
              "              title=\"Convert this dataframe to an interactive table.\"\n",
              "              style=\"display:none;\">\n",
              "        \n",
              "  <svg xmlns=\"http://www.w3.org/2000/svg\" height=\"24px\"viewBox=\"0 0 24 24\"\n",
              "       width=\"24px\">\n",
              "    <path d=\"M0 0h24v24H0V0z\" fill=\"none\"/>\n",
              "    <path d=\"M18.56 5.44l.94 2.06.94-2.06 2.06-.94-2.06-.94-.94-2.06-.94 2.06-2.06.94zm-11 1L8.5 8.5l.94-2.06 2.06-.94-2.06-.94L8.5 2.5l-.94 2.06-2.06.94zm10 10l.94 2.06.94-2.06 2.06-.94-2.06-.94-.94-2.06-.94 2.06-2.06.94z\"/><path d=\"M17.41 7.96l-1.37-1.37c-.4-.4-.92-.59-1.43-.59-.52 0-1.04.2-1.43.59L10.3 9.45l-7.72 7.72c-.78.78-.78 2.05 0 2.83L4 21.41c.39.39.9.59 1.41.59.51 0 1.02-.2 1.41-.59l7.78-7.78 2.81-2.81c.8-.78.8-2.07 0-2.86zM5.41 20L4 18.59l7.72-7.72 1.47 1.35L5.41 20z\"/>\n",
              "  </svg>\n",
              "      </button>\n",
              "      \n",
              "  <style>\n",
              "    .colab-df-container {\n",
              "      display:flex;\n",
              "      flex-wrap:wrap;\n",
              "      gap: 12px;\n",
              "    }\n",
              "\n",
              "    .colab-df-convert {\n",
              "      background-color: #E8F0FE;\n",
              "      border: none;\n",
              "      border-radius: 50%;\n",
              "      cursor: pointer;\n",
              "      display: none;\n",
              "      fill: #1967D2;\n",
              "      height: 32px;\n",
              "      padding: 0 0 0 0;\n",
              "      width: 32px;\n",
              "    }\n",
              "\n",
              "    .colab-df-convert:hover {\n",
              "      background-color: #E2EBFA;\n",
              "      box-shadow: 0px 1px 2px rgba(60, 64, 67, 0.3), 0px 1px 3px 1px rgba(60, 64, 67, 0.15);\n",
              "      fill: #174EA6;\n",
              "    }\n",
              "\n",
              "    [theme=dark] .colab-df-convert {\n",
              "      background-color: #3B4455;\n",
              "      fill: #D2E3FC;\n",
              "    }\n",
              "\n",
              "    [theme=dark] .colab-df-convert:hover {\n",
              "      background-color: #434B5C;\n",
              "      box-shadow: 0px 1px 3px 1px rgba(0, 0, 0, 0.15);\n",
              "      filter: drop-shadow(0px 1px 2px rgba(0, 0, 0, 0.3));\n",
              "      fill: #FFFFFF;\n",
              "    }\n",
              "  </style>\n",
              "\n",
              "      <script>\n",
              "        const buttonEl =\n",
              "          document.querySelector('#df-fe0a6a32-e2dd-437b-8a20-18adc23d3e3b button.colab-df-convert');\n",
              "        buttonEl.style.display =\n",
              "          google.colab.kernel.accessAllowed ? 'block' : 'none';\n",
              "\n",
              "        async function convertToInteractive(key) {\n",
              "          const element = document.querySelector('#df-fe0a6a32-e2dd-437b-8a20-18adc23d3e3b');\n",
              "          const dataTable =\n",
              "            await google.colab.kernel.invokeFunction('convertToInteractive',\n",
              "                                                     [key], {});\n",
              "          if (!dataTable) return;\n",
              "\n",
              "          const docLinkHtml = 'Like what you see? Visit the ' +\n",
              "            '<a target=\"_blank\" href=https://colab.research.google.com/notebooks/data_table.ipynb>data table notebook</a>'\n",
              "            + ' to learn more about interactive tables.';\n",
              "          element.innerHTML = '';\n",
              "          dataTable['output_type'] = 'display_data';\n",
              "          await google.colab.output.renderOutput(dataTable, element);\n",
              "          const docLink = document.createElement('div');\n",
              "          docLink.innerHTML = docLinkHtml;\n",
              "          element.appendChild(docLink);\n",
              "        }\n",
              "      </script>\n",
              "    </div>\n",
              "  </div>\n",
              "  "
            ]
          },
          "metadata": {},
          "execution_count": 14
        }
      ]
    },
    {
      "cell_type": "markdown",
      "source": [
        "- период данных 1 год и 31 день, с 2018 октября по 2019 октября, введем переменную которая выделит только год"
      ],
      "metadata": {
        "id": "HG5E33Sym-vB"
      }
    },
    {
      "cell_type": "code",
      "source": [
        "data_border = \"2018-10-31\""
      ],
      "metadata": {
        "id": "cl3ZWqrWfq-r"
      },
      "execution_count": null,
      "outputs": []
    },
    {
      "cell_type": "markdown",
      "source": [
        "## 3.2 Поиск дубликатов"
      ],
      "metadata": {
        "id": "AqgXbMM50OEb"
      }
    },
    {
      "cell_type": "code",
      "source": [
        "df.duplicated().sum()"
      ],
      "metadata": {
        "colab": {
          "base_uri": "https://localhost:8080/"
        },
        "id": "zp7sHgssxZIq",
        "outputId": "34704f4a-7f3a-4fe5-a63a-cb388a51454c"
      },
      "execution_count": null,
      "outputs": [
        {
          "output_type": "execute_result",
          "data": {
            "text/plain": [
              "0"
            ]
          },
          "metadata": {},
          "execution_count": 16
        }
      ]
    },
    {
      "cell_type": "markdown",
      "source": [
        "- явных дубликатов нет"
      ],
      "metadata": {
        "id": "YYSPcZ8R0d36"
      }
    },
    {
      "cell_type": "code",
      "source": [
        "df.duplicated(subset=['customer_id', 'order_id', 'product', 'quantity', 'price']).sum()"
      ],
      "metadata": {
        "colab": {
          "base_uri": "https://localhost:8080/"
        },
        "id": "-uGFN2k0xZK7",
        "outputId": "22dfe0db-b221-4e50-b014-6f3ca04c1a1f"
      },
      "execution_count": null,
      "outputs": [
        {
          "output_type": "execute_result",
          "data": {
            "text/plain": [
              "1864"
            ]
          },
          "metadata": {},
          "execution_count": 17
        }
      ]
    },
    {
      "cell_type": "code",
      "source": [
        "df[df.duplicated(subset=['customer_id', 'order_id', 'product', 'quantity'])].head()"
      ],
      "metadata": {
        "colab": {
          "base_uri": "https://localhost:8080/",
          "height": 337
        },
        "id": "0l-CdN_515ZN",
        "outputId": "c8872079-3a33-4c1d-a38c-2a9359ba4580"
      },
      "execution_count": null,
      "outputs": [
        {
          "output_type": "execute_result",
          "data": {
            "text/plain": [
              "                  date                           customer_id  order_id  \\\n",
              "58 2018-10-02 18:00:00  b731df05-98fa-4610-8496-716ec530a02c     68474   \n",
              "59 2018-10-02 19:00:00  b731df05-98fa-4610-8496-716ec530a02c     68474   \n",
              "60 2018-10-02 20:00:00  b731df05-98fa-4610-8496-716ec530a02c     68474   \n",
              "63 2018-10-03 04:00:00  b731df05-98fa-4610-8496-716ec530a02c     68474   \n",
              "94 2018-10-04 13:00:00  32de7df8-8d4f-4c84-a7b9-c41d00dd83ba     68522   \n",
              "\n",
              "                                              product  quantity      price  \\\n",
              "58  доска гладильная eurogold professional 130х48 ...         1 3299.00000   \n",
              "59  доска гладильная eurogold professional 130х48 ...         1 3299.00000   \n",
              "60  доска гладильная eurogold professional 130х48 ...         1 3299.00000   \n",
              "63  доска гладильная eurogold professional 130х48 ...         1 3299.00000   \n",
              "94                     эвкалипт гунни d-17 см h-60 см         1 1409.00000   \n",
              "\n",
              "      revenue    dayweek    month  \n",
              "58 3299.00000    Tuesday  October  \n",
              "59 3299.00000    Tuesday  October  \n",
              "60 3299.00000    Tuesday  October  \n",
              "63 3299.00000  Wednesday  October  \n",
              "94 1409.00000   Thursday  October  "
            ],
            "text/html": [
              "\n",
              "  <div id=\"df-8057d90f-9c40-48f1-b1d2-addebf9f5b58\">\n",
              "    <div class=\"colab-df-container\">\n",
              "      <div>\n",
              "<style scoped>\n",
              "    .dataframe tbody tr th:only-of-type {\n",
              "        vertical-align: middle;\n",
              "    }\n",
              "\n",
              "    .dataframe tbody tr th {\n",
              "        vertical-align: top;\n",
              "    }\n",
              "\n",
              "    .dataframe thead th {\n",
              "        text-align: right;\n",
              "    }\n",
              "</style>\n",
              "<table border=\"1\" class=\"dataframe\">\n",
              "  <thead>\n",
              "    <tr style=\"text-align: right;\">\n",
              "      <th></th>\n",
              "      <th>date</th>\n",
              "      <th>customer_id</th>\n",
              "      <th>order_id</th>\n",
              "      <th>product</th>\n",
              "      <th>quantity</th>\n",
              "      <th>price</th>\n",
              "      <th>revenue</th>\n",
              "      <th>dayweek</th>\n",
              "      <th>month</th>\n",
              "    </tr>\n",
              "  </thead>\n",
              "  <tbody>\n",
              "    <tr>\n",
              "      <th>58</th>\n",
              "      <td>2018-10-02 18:00:00</td>\n",
              "      <td>b731df05-98fa-4610-8496-716ec530a02c</td>\n",
              "      <td>68474</td>\n",
              "      <td>доска гладильная eurogold professional 130х48 ...</td>\n",
              "      <td>1</td>\n",
              "      <td>3299.00000</td>\n",
              "      <td>3299.00000</td>\n",
              "      <td>Tuesday</td>\n",
              "      <td>October</td>\n",
              "    </tr>\n",
              "    <tr>\n",
              "      <th>59</th>\n",
              "      <td>2018-10-02 19:00:00</td>\n",
              "      <td>b731df05-98fa-4610-8496-716ec530a02c</td>\n",
              "      <td>68474</td>\n",
              "      <td>доска гладильная eurogold professional 130х48 ...</td>\n",
              "      <td>1</td>\n",
              "      <td>3299.00000</td>\n",
              "      <td>3299.00000</td>\n",
              "      <td>Tuesday</td>\n",
              "      <td>October</td>\n",
              "    </tr>\n",
              "    <tr>\n",
              "      <th>60</th>\n",
              "      <td>2018-10-02 20:00:00</td>\n",
              "      <td>b731df05-98fa-4610-8496-716ec530a02c</td>\n",
              "      <td>68474</td>\n",
              "      <td>доска гладильная eurogold professional 130х48 ...</td>\n",
              "      <td>1</td>\n",
              "      <td>3299.00000</td>\n",
              "      <td>3299.00000</td>\n",
              "      <td>Tuesday</td>\n",
              "      <td>October</td>\n",
              "    </tr>\n",
              "    <tr>\n",
              "      <th>63</th>\n",
              "      <td>2018-10-03 04:00:00</td>\n",
              "      <td>b731df05-98fa-4610-8496-716ec530a02c</td>\n",
              "      <td>68474</td>\n",
              "      <td>доска гладильная eurogold professional 130х48 ...</td>\n",
              "      <td>1</td>\n",
              "      <td>3299.00000</td>\n",
              "      <td>3299.00000</td>\n",
              "      <td>Wednesday</td>\n",
              "      <td>October</td>\n",
              "    </tr>\n",
              "    <tr>\n",
              "      <th>94</th>\n",
              "      <td>2018-10-04 13:00:00</td>\n",
              "      <td>32de7df8-8d4f-4c84-a7b9-c41d00dd83ba</td>\n",
              "      <td>68522</td>\n",
              "      <td>эвкалипт гунни d-17 см h-60 см</td>\n",
              "      <td>1</td>\n",
              "      <td>1409.00000</td>\n",
              "      <td>1409.00000</td>\n",
              "      <td>Thursday</td>\n",
              "      <td>October</td>\n",
              "    </tr>\n",
              "  </tbody>\n",
              "</table>\n",
              "</div>\n",
              "      <button class=\"colab-df-convert\" onclick=\"convertToInteractive('df-8057d90f-9c40-48f1-b1d2-addebf9f5b58')\"\n",
              "              title=\"Convert this dataframe to an interactive table.\"\n",
              "              style=\"display:none;\">\n",
              "        \n",
              "  <svg xmlns=\"http://www.w3.org/2000/svg\" height=\"24px\"viewBox=\"0 0 24 24\"\n",
              "       width=\"24px\">\n",
              "    <path d=\"M0 0h24v24H0V0z\" fill=\"none\"/>\n",
              "    <path d=\"M18.56 5.44l.94 2.06.94-2.06 2.06-.94-2.06-.94-.94-2.06-.94 2.06-2.06.94zm-11 1L8.5 8.5l.94-2.06 2.06-.94-2.06-.94L8.5 2.5l-.94 2.06-2.06.94zm10 10l.94 2.06.94-2.06 2.06-.94-2.06-.94-.94-2.06-.94 2.06-2.06.94z\"/><path d=\"M17.41 7.96l-1.37-1.37c-.4-.4-.92-.59-1.43-.59-.52 0-1.04.2-1.43.59L10.3 9.45l-7.72 7.72c-.78.78-.78 2.05 0 2.83L4 21.41c.39.39.9.59 1.41.59.51 0 1.02-.2 1.41-.59l7.78-7.78 2.81-2.81c.8-.78.8-2.07 0-2.86zM5.41 20L4 18.59l7.72-7.72 1.47 1.35L5.41 20z\"/>\n",
              "  </svg>\n",
              "      </button>\n",
              "      \n",
              "  <style>\n",
              "    .colab-df-container {\n",
              "      display:flex;\n",
              "      flex-wrap:wrap;\n",
              "      gap: 12px;\n",
              "    }\n",
              "\n",
              "    .colab-df-convert {\n",
              "      background-color: #E8F0FE;\n",
              "      border: none;\n",
              "      border-radius: 50%;\n",
              "      cursor: pointer;\n",
              "      display: none;\n",
              "      fill: #1967D2;\n",
              "      height: 32px;\n",
              "      padding: 0 0 0 0;\n",
              "      width: 32px;\n",
              "    }\n",
              "\n",
              "    .colab-df-convert:hover {\n",
              "      background-color: #E2EBFA;\n",
              "      box-shadow: 0px 1px 2px rgba(60, 64, 67, 0.3), 0px 1px 3px 1px rgba(60, 64, 67, 0.15);\n",
              "      fill: #174EA6;\n",
              "    }\n",
              "\n",
              "    [theme=dark] .colab-df-convert {\n",
              "      background-color: #3B4455;\n",
              "      fill: #D2E3FC;\n",
              "    }\n",
              "\n",
              "    [theme=dark] .colab-df-convert:hover {\n",
              "      background-color: #434B5C;\n",
              "      box-shadow: 0px 1px 3px 1px rgba(0, 0, 0, 0.15);\n",
              "      filter: drop-shadow(0px 1px 2px rgba(0, 0, 0, 0.3));\n",
              "      fill: #FFFFFF;\n",
              "    }\n",
              "  </style>\n",
              "\n",
              "      <script>\n",
              "        const buttonEl =\n",
              "          document.querySelector('#df-8057d90f-9c40-48f1-b1d2-addebf9f5b58 button.colab-df-convert');\n",
              "        buttonEl.style.display =\n",
              "          google.colab.kernel.accessAllowed ? 'block' : 'none';\n",
              "\n",
              "        async function convertToInteractive(key) {\n",
              "          const element = document.querySelector('#df-8057d90f-9c40-48f1-b1d2-addebf9f5b58');\n",
              "          const dataTable =\n",
              "            await google.colab.kernel.invokeFunction('convertToInteractive',\n",
              "                                                     [key], {});\n",
              "          if (!dataTable) return;\n",
              "\n",
              "          const docLinkHtml = 'Like what you see? Visit the ' +\n",
              "            '<a target=\"_blank\" href=https://colab.research.google.com/notebooks/data_table.ipynb>data table notebook</a>'\n",
              "            + ' to learn more about interactive tables.';\n",
              "          element.innerHTML = '';\n",
              "          dataTable['output_type'] = 'display_data';\n",
              "          await google.colab.output.renderOutput(dataTable, element);\n",
              "          const docLink = document.createElement('div');\n",
              "          docLink.innerHTML = docLinkHtml;\n",
              "          element.appendChild(docLink);\n",
              "        }\n",
              "      </script>\n",
              "    </div>\n",
              "  </div>\n",
              "  "
            ]
          },
          "metadata": {},
          "execution_count": 18
        }
      ]
    },
    {
      "cell_type": "markdown",
      "source": [
        "- при проверке на дубликаты без колонки date, видим что один и тот же покупатель у него одинаковый номер заказа, стоимость, количество и выручка так же совпадают. Разное только время. Считаю что если бы клиент пришел и купил еще раз один и тот же товар, в таком же количестве, то именно номер заказа должен быть другой. Следовательно это дубликаты - удаляем."
      ],
      "metadata": {
        "id": "baj47RO2KIR4"
      }
    },
    {
      "cell_type": "code",
      "source": [
        "df = df.drop_duplicates(subset=['customer_id', 'order_id', 'product', 'quantity', 'price'])"
      ],
      "metadata": {
        "id": "zd4C3ZWLK5Fy"
      },
      "execution_count": null,
      "outputs": []
    },
    {
      "cell_type": "markdown",
      "source": [
        "- Поиск дубликатов среди '**customer_id**' и '**order_id**', выявил 29 дубликатов. Выяснилось что это ошибка, так как один заказ содержал одинковые поля, кроме поля customer_id. Получается что заказ один, а клиентов много, самый яркий пример где 4 разных клиента я вывел ниже. Принято решение удалить "
      ],
      "metadata": {
        "id": "57Uu9tmjVrQB"
      }
    },
    {
      "cell_type": "code",
      "source": [
        "df.groupby('order_id')['customer_id'].nunique().reset_index().query('customer_id > 1').head()"
      ],
      "metadata": {
        "colab": {
          "base_uri": "https://localhost:8080/",
          "height": 206
        },
        "id": "qncnEBWWLpL0",
        "outputId": "b7358f8e-6a13-4a29-b70c-65c81be48e69"
      },
      "execution_count": null,
      "outputs": [
        {
          "output_type": "execute_result",
          "data": {
            "text/plain": [
              "     order_id  customer_id\n",
              "248     14872            2\n",
              "516     68785            2\n",
              "797     69283            2\n",
              "817     69310            2\n",
              "832     69345            2"
            ],
            "text/html": [
              "\n",
              "  <div id=\"df-b361383d-93a8-49f3-88e9-924b0a127f25\">\n",
              "    <div class=\"colab-df-container\">\n",
              "      <div>\n",
              "<style scoped>\n",
              "    .dataframe tbody tr th:only-of-type {\n",
              "        vertical-align: middle;\n",
              "    }\n",
              "\n",
              "    .dataframe tbody tr th {\n",
              "        vertical-align: top;\n",
              "    }\n",
              "\n",
              "    .dataframe thead th {\n",
              "        text-align: right;\n",
              "    }\n",
              "</style>\n",
              "<table border=\"1\" class=\"dataframe\">\n",
              "  <thead>\n",
              "    <tr style=\"text-align: right;\">\n",
              "      <th></th>\n",
              "      <th>order_id</th>\n",
              "      <th>customer_id</th>\n",
              "    </tr>\n",
              "  </thead>\n",
              "  <tbody>\n",
              "    <tr>\n",
              "      <th>248</th>\n",
              "      <td>14872</td>\n",
              "      <td>2</td>\n",
              "    </tr>\n",
              "    <tr>\n",
              "      <th>516</th>\n",
              "      <td>68785</td>\n",
              "      <td>2</td>\n",
              "    </tr>\n",
              "    <tr>\n",
              "      <th>797</th>\n",
              "      <td>69283</td>\n",
              "      <td>2</td>\n",
              "    </tr>\n",
              "    <tr>\n",
              "      <th>817</th>\n",
              "      <td>69310</td>\n",
              "      <td>2</td>\n",
              "    </tr>\n",
              "    <tr>\n",
              "      <th>832</th>\n",
              "      <td>69345</td>\n",
              "      <td>2</td>\n",
              "    </tr>\n",
              "  </tbody>\n",
              "</table>\n",
              "</div>\n",
              "      <button class=\"colab-df-convert\" onclick=\"convertToInteractive('df-b361383d-93a8-49f3-88e9-924b0a127f25')\"\n",
              "              title=\"Convert this dataframe to an interactive table.\"\n",
              "              style=\"display:none;\">\n",
              "        \n",
              "  <svg xmlns=\"http://www.w3.org/2000/svg\" height=\"24px\"viewBox=\"0 0 24 24\"\n",
              "       width=\"24px\">\n",
              "    <path d=\"M0 0h24v24H0V0z\" fill=\"none\"/>\n",
              "    <path d=\"M18.56 5.44l.94 2.06.94-2.06 2.06-.94-2.06-.94-.94-2.06-.94 2.06-2.06.94zm-11 1L8.5 8.5l.94-2.06 2.06-.94-2.06-.94L8.5 2.5l-.94 2.06-2.06.94zm10 10l.94 2.06.94-2.06 2.06-.94-2.06-.94-.94-2.06-.94 2.06-2.06.94z\"/><path d=\"M17.41 7.96l-1.37-1.37c-.4-.4-.92-.59-1.43-.59-.52 0-1.04.2-1.43.59L10.3 9.45l-7.72 7.72c-.78.78-.78 2.05 0 2.83L4 21.41c.39.39.9.59 1.41.59.51 0 1.02-.2 1.41-.59l7.78-7.78 2.81-2.81c.8-.78.8-2.07 0-2.86zM5.41 20L4 18.59l7.72-7.72 1.47 1.35L5.41 20z\"/>\n",
              "  </svg>\n",
              "      </button>\n",
              "      \n",
              "  <style>\n",
              "    .colab-df-container {\n",
              "      display:flex;\n",
              "      flex-wrap:wrap;\n",
              "      gap: 12px;\n",
              "    }\n",
              "\n",
              "    .colab-df-convert {\n",
              "      background-color: #E8F0FE;\n",
              "      border: none;\n",
              "      border-radius: 50%;\n",
              "      cursor: pointer;\n",
              "      display: none;\n",
              "      fill: #1967D2;\n",
              "      height: 32px;\n",
              "      padding: 0 0 0 0;\n",
              "      width: 32px;\n",
              "    }\n",
              "\n",
              "    .colab-df-convert:hover {\n",
              "      background-color: #E2EBFA;\n",
              "      box-shadow: 0px 1px 2px rgba(60, 64, 67, 0.3), 0px 1px 3px 1px rgba(60, 64, 67, 0.15);\n",
              "      fill: #174EA6;\n",
              "    }\n",
              "\n",
              "    [theme=dark] .colab-df-convert {\n",
              "      background-color: #3B4455;\n",
              "      fill: #D2E3FC;\n",
              "    }\n",
              "\n",
              "    [theme=dark] .colab-df-convert:hover {\n",
              "      background-color: #434B5C;\n",
              "      box-shadow: 0px 1px 3px 1px rgba(0, 0, 0, 0.15);\n",
              "      filter: drop-shadow(0px 1px 2px rgba(0, 0, 0, 0.3));\n",
              "      fill: #FFFFFF;\n",
              "    }\n",
              "  </style>\n",
              "\n",
              "      <script>\n",
              "        const buttonEl =\n",
              "          document.querySelector('#df-b361383d-93a8-49f3-88e9-924b0a127f25 button.colab-df-convert');\n",
              "        buttonEl.style.display =\n",
              "          google.colab.kernel.accessAllowed ? 'block' : 'none';\n",
              "\n",
              "        async function convertToInteractive(key) {\n",
              "          const element = document.querySelector('#df-b361383d-93a8-49f3-88e9-924b0a127f25');\n",
              "          const dataTable =\n",
              "            await google.colab.kernel.invokeFunction('convertToInteractive',\n",
              "                                                     [key], {});\n",
              "          if (!dataTable) return;\n",
              "\n",
              "          const docLinkHtml = 'Like what you see? Visit the ' +\n",
              "            '<a target=\"_blank\" href=https://colab.research.google.com/notebooks/data_table.ipynb>data table notebook</a>'\n",
              "            + ' to learn more about interactive tables.';\n",
              "          element.innerHTML = '';\n",
              "          dataTable['output_type'] = 'display_data';\n",
              "          await google.colab.output.renderOutput(dataTable, element);\n",
              "          const docLink = document.createElement('div');\n",
              "          docLink.innerHTML = docLinkHtml;\n",
              "          element.appendChild(docLink);\n",
              "        }\n",
              "      </script>\n",
              "    </div>\n",
              "  </div>\n",
              "  "
            ]
          },
          "metadata": {},
          "execution_count": 20
        }
      ]
    },
    {
      "cell_type": "code",
      "source": [
        "# заказ один а клиентов 4, в разное время\n",
        "df.query('order_id == 72845')"
      ],
      "metadata": {
        "colab": {
          "base_uri": "https://localhost:8080/",
          "height": 288
        },
        "id": "mq5TddVnWdyT",
        "outputId": "518dd378-cff5-424f-ca1a-cee6ccd1d6b3"
      },
      "execution_count": null,
      "outputs": [
        {
          "output_type": "execute_result",
          "data": {
            "text/plain": [
              "                    date                           customer_id  order_id  \\\n",
              "6504 2019-10-03 14:00:00  d8465f63-35db-4809-aff3-a8f7ebfc257f     72845   \n",
              "6505 2019-10-03 15:00:00  0309d37c-ab5f-4793-ba72-5484c019b840     72845   \n",
              "6508 2019-10-04 08:00:00  25a8cd52-3efa-48ee-a6bd-d413d7e2b42f     72845   \n",
              "6538 2019-10-07 20:00:00  2ac05362-3ca7-4d19-899c-7ba266902611     72845   \n",
              "\n",
              "                                   product  quantity    price    revenue  \\\n",
              "6504  муляж яблоко зеленый 9 см полиуретан        40 59.00000 2360.00000   \n",
              "6505  муляж яблоко зеленый 9 см полиуретан        40 59.00000 2360.00000   \n",
              "6508  муляж яблоко зеленый 9 см полиуретан        40 59.00000 2360.00000   \n",
              "6538  муляж яблоко зеленый 9 см полиуретан        40 59.00000 2360.00000   \n",
              "\n",
              "       dayweek    month  \n",
              "6504  Thursday  October  \n",
              "6505  Thursday  October  \n",
              "6508    Friday  October  \n",
              "6538    Monday  October  "
            ],
            "text/html": [
              "\n",
              "  <div id=\"df-5c4ee2a1-a3f9-4595-a03a-2bd0e66aa7cb\">\n",
              "    <div class=\"colab-df-container\">\n",
              "      <div>\n",
              "<style scoped>\n",
              "    .dataframe tbody tr th:only-of-type {\n",
              "        vertical-align: middle;\n",
              "    }\n",
              "\n",
              "    .dataframe tbody tr th {\n",
              "        vertical-align: top;\n",
              "    }\n",
              "\n",
              "    .dataframe thead th {\n",
              "        text-align: right;\n",
              "    }\n",
              "</style>\n",
              "<table border=\"1\" class=\"dataframe\">\n",
              "  <thead>\n",
              "    <tr style=\"text-align: right;\">\n",
              "      <th></th>\n",
              "      <th>date</th>\n",
              "      <th>customer_id</th>\n",
              "      <th>order_id</th>\n",
              "      <th>product</th>\n",
              "      <th>quantity</th>\n",
              "      <th>price</th>\n",
              "      <th>revenue</th>\n",
              "      <th>dayweek</th>\n",
              "      <th>month</th>\n",
              "    </tr>\n",
              "  </thead>\n",
              "  <tbody>\n",
              "    <tr>\n",
              "      <th>6504</th>\n",
              "      <td>2019-10-03 14:00:00</td>\n",
              "      <td>d8465f63-35db-4809-aff3-a8f7ebfc257f</td>\n",
              "      <td>72845</td>\n",
              "      <td>муляж яблоко зеленый 9 см полиуретан</td>\n",
              "      <td>40</td>\n",
              "      <td>59.00000</td>\n",
              "      <td>2360.00000</td>\n",
              "      <td>Thursday</td>\n",
              "      <td>October</td>\n",
              "    </tr>\n",
              "    <tr>\n",
              "      <th>6505</th>\n",
              "      <td>2019-10-03 15:00:00</td>\n",
              "      <td>0309d37c-ab5f-4793-ba72-5484c019b840</td>\n",
              "      <td>72845</td>\n",
              "      <td>муляж яблоко зеленый 9 см полиуретан</td>\n",
              "      <td>40</td>\n",
              "      <td>59.00000</td>\n",
              "      <td>2360.00000</td>\n",
              "      <td>Thursday</td>\n",
              "      <td>October</td>\n",
              "    </tr>\n",
              "    <tr>\n",
              "      <th>6508</th>\n",
              "      <td>2019-10-04 08:00:00</td>\n",
              "      <td>25a8cd52-3efa-48ee-a6bd-d413d7e2b42f</td>\n",
              "      <td>72845</td>\n",
              "      <td>муляж яблоко зеленый 9 см полиуретан</td>\n",
              "      <td>40</td>\n",
              "      <td>59.00000</td>\n",
              "      <td>2360.00000</td>\n",
              "      <td>Friday</td>\n",
              "      <td>October</td>\n",
              "    </tr>\n",
              "    <tr>\n",
              "      <th>6538</th>\n",
              "      <td>2019-10-07 20:00:00</td>\n",
              "      <td>2ac05362-3ca7-4d19-899c-7ba266902611</td>\n",
              "      <td>72845</td>\n",
              "      <td>муляж яблоко зеленый 9 см полиуретан</td>\n",
              "      <td>40</td>\n",
              "      <td>59.00000</td>\n",
              "      <td>2360.00000</td>\n",
              "      <td>Monday</td>\n",
              "      <td>October</td>\n",
              "    </tr>\n",
              "  </tbody>\n",
              "</table>\n",
              "</div>\n",
              "      <button class=\"colab-df-convert\" onclick=\"convertToInteractive('df-5c4ee2a1-a3f9-4595-a03a-2bd0e66aa7cb')\"\n",
              "              title=\"Convert this dataframe to an interactive table.\"\n",
              "              style=\"display:none;\">\n",
              "        \n",
              "  <svg xmlns=\"http://www.w3.org/2000/svg\" height=\"24px\"viewBox=\"0 0 24 24\"\n",
              "       width=\"24px\">\n",
              "    <path d=\"M0 0h24v24H0V0z\" fill=\"none\"/>\n",
              "    <path d=\"M18.56 5.44l.94 2.06.94-2.06 2.06-.94-2.06-.94-.94-2.06-.94 2.06-2.06.94zm-11 1L8.5 8.5l.94-2.06 2.06-.94-2.06-.94L8.5 2.5l-.94 2.06-2.06.94zm10 10l.94 2.06.94-2.06 2.06-.94-2.06-.94-.94-2.06-.94 2.06-2.06.94z\"/><path d=\"M17.41 7.96l-1.37-1.37c-.4-.4-.92-.59-1.43-.59-.52 0-1.04.2-1.43.59L10.3 9.45l-7.72 7.72c-.78.78-.78 2.05 0 2.83L4 21.41c.39.39.9.59 1.41.59.51 0 1.02-.2 1.41-.59l7.78-7.78 2.81-2.81c.8-.78.8-2.07 0-2.86zM5.41 20L4 18.59l7.72-7.72 1.47 1.35L5.41 20z\"/>\n",
              "  </svg>\n",
              "      </button>\n",
              "      \n",
              "  <style>\n",
              "    .colab-df-container {\n",
              "      display:flex;\n",
              "      flex-wrap:wrap;\n",
              "      gap: 12px;\n",
              "    }\n",
              "\n",
              "    .colab-df-convert {\n",
              "      background-color: #E8F0FE;\n",
              "      border: none;\n",
              "      border-radius: 50%;\n",
              "      cursor: pointer;\n",
              "      display: none;\n",
              "      fill: #1967D2;\n",
              "      height: 32px;\n",
              "      padding: 0 0 0 0;\n",
              "      width: 32px;\n",
              "    }\n",
              "\n",
              "    .colab-df-convert:hover {\n",
              "      background-color: #E2EBFA;\n",
              "      box-shadow: 0px 1px 2px rgba(60, 64, 67, 0.3), 0px 1px 3px 1px rgba(60, 64, 67, 0.15);\n",
              "      fill: #174EA6;\n",
              "    }\n",
              "\n",
              "    [theme=dark] .colab-df-convert {\n",
              "      background-color: #3B4455;\n",
              "      fill: #D2E3FC;\n",
              "    }\n",
              "\n",
              "    [theme=dark] .colab-df-convert:hover {\n",
              "      background-color: #434B5C;\n",
              "      box-shadow: 0px 1px 3px 1px rgba(0, 0, 0, 0.15);\n",
              "      filter: drop-shadow(0px 1px 2px rgba(0, 0, 0, 0.3));\n",
              "      fill: #FFFFFF;\n",
              "    }\n",
              "  </style>\n",
              "\n",
              "      <script>\n",
              "        const buttonEl =\n",
              "          document.querySelector('#df-5c4ee2a1-a3f9-4595-a03a-2bd0e66aa7cb button.colab-df-convert');\n",
              "        buttonEl.style.display =\n",
              "          google.colab.kernel.accessAllowed ? 'block' : 'none';\n",
              "\n",
              "        async function convertToInteractive(key) {\n",
              "          const element = document.querySelector('#df-5c4ee2a1-a3f9-4595-a03a-2bd0e66aa7cb');\n",
              "          const dataTable =\n",
              "            await google.colab.kernel.invokeFunction('convertToInteractive',\n",
              "                                                     [key], {});\n",
              "          if (!dataTable) return;\n",
              "\n",
              "          const docLinkHtml = 'Like what you see? Visit the ' +\n",
              "            '<a target=\"_blank\" href=https://colab.research.google.com/notebooks/data_table.ipynb>data table notebook</a>'\n",
              "            + ' to learn more about interactive tables.';\n",
              "          element.innerHTML = '';\n",
              "          dataTable['output_type'] = 'display_data';\n",
              "          await google.colab.output.renderOutput(dataTable, element);\n",
              "          const docLink = document.createElement('div');\n",
              "          docLink.innerHTML = docLinkHtml;\n",
              "          element.appendChild(docLink);\n",
              "        }\n",
              "      </script>\n",
              "    </div>\n",
              "  </div>\n",
              "  "
            ]
          },
          "metadata": {},
          "execution_count": 21
        }
      ]
    },
    {
      "cell_type": "code",
      "source": [
        "# список номеров заказов где были дубли\n",
        "duplicate_order = list(df.groupby('order_id')['customer_id'].nunique().reset_index().query('customer_id > 1')['order_id'])\n",
        "len(duplicate_order)"
      ],
      "metadata": {
        "colab": {
          "base_uri": "https://localhost:8080/"
        },
        "id": "RwUAp9mIM8U9",
        "outputId": "91fe715e-10af-45bf-ff61-d00787b2f311"
      },
      "execution_count": null,
      "outputs": [
        {
          "output_type": "execute_result",
          "data": {
            "text/plain": [
              "29"
            ]
          },
          "metadata": {},
          "execution_count": 22
        }
      ]
    },
    {
      "cell_type": "code",
      "source": [
        "# доп таблица очищеная от дубликатов\n",
        "t = df.query('order_id == @duplicate_order').drop_duplicates(subset=['order_id', 'product'])\n",
        "len(t)"
      ],
      "metadata": {
        "colab": {
          "base_uri": "https://localhost:8080/"
        },
        "id": "OqKRcIRmNQGF",
        "outputId": "fb923e56-f08b-4ed3-89ae-95d933ff6037"
      },
      "execution_count": null,
      "outputs": [
        {
          "output_type": "execute_result",
          "data": {
            "text/plain": [
              "32"
            ]
          },
          "metadata": {},
          "execution_count": 23
        }
      ]
    },
    {
      "cell_type": "code",
      "source": [
        "# удаляем все заказы из спасика дубликатов\n",
        "df = df.query('order_id != @duplicate_order')\n",
        "print(df.shape)\n",
        "# возвращаем очищенную таблицу в главную\n",
        "df = pd.concat([t, df])\n",
        "print(df.shape)"
      ],
      "metadata": {
        "colab": {
          "base_uri": "https://localhost:8080/"
        },
        "id": "2RkktBvnSFkj",
        "outputId": "860aec3b-3f88-4a1d-b4c0-6f329510b292"
      },
      "execution_count": null,
      "outputs": [
        {
          "output_type": "stream",
          "name": "stdout",
          "text": [
            "(4807, 9)\n",
            "(4839, 9)\n"
          ]
        }
      ]
    },
    {
      "cell_type": "markdown",
      "source": [
        "- Преверив значения остался один заказ, но цена и название продукта разные. Будем считать что это разные заказы."
      ],
      "metadata": {
        "id": "m5kZyh4YZgDV"
      }
    },
    {
      "cell_type": "code",
      "source": [
        "df.groupby('order_id')['customer_id'].nunique().reset_index().query('customer_id > 1')"
      ],
      "metadata": {
        "colab": {
          "base_uri": "https://localhost:8080/",
          "height": 81
        },
        "id": "TCWkU06kTHPZ",
        "outputId": "fd60c454-a023-4a60-8581-b85b526545f7"
      },
      "execution_count": null,
      "outputs": [
        {
          "output_type": "execute_result",
          "data": {
            "text/plain": [
              "     order_id  customer_id\n",
              "902     69485            2"
            ],
            "text/html": [
              "\n",
              "  <div id=\"df-2745cc77-2b6e-42aa-a5aa-657b9df8c784\">\n",
              "    <div class=\"colab-df-container\">\n",
              "      <div>\n",
              "<style scoped>\n",
              "    .dataframe tbody tr th:only-of-type {\n",
              "        vertical-align: middle;\n",
              "    }\n",
              "\n",
              "    .dataframe tbody tr th {\n",
              "        vertical-align: top;\n",
              "    }\n",
              "\n",
              "    .dataframe thead th {\n",
              "        text-align: right;\n",
              "    }\n",
              "</style>\n",
              "<table border=\"1\" class=\"dataframe\">\n",
              "  <thead>\n",
              "    <tr style=\"text-align: right;\">\n",
              "      <th></th>\n",
              "      <th>order_id</th>\n",
              "      <th>customer_id</th>\n",
              "    </tr>\n",
              "  </thead>\n",
              "  <tbody>\n",
              "    <tr>\n",
              "      <th>902</th>\n",
              "      <td>69485</td>\n",
              "      <td>2</td>\n",
              "    </tr>\n",
              "  </tbody>\n",
              "</table>\n",
              "</div>\n",
              "      <button class=\"colab-df-convert\" onclick=\"convertToInteractive('df-2745cc77-2b6e-42aa-a5aa-657b9df8c784')\"\n",
              "              title=\"Convert this dataframe to an interactive table.\"\n",
              "              style=\"display:none;\">\n",
              "        \n",
              "  <svg xmlns=\"http://www.w3.org/2000/svg\" height=\"24px\"viewBox=\"0 0 24 24\"\n",
              "       width=\"24px\">\n",
              "    <path d=\"M0 0h24v24H0V0z\" fill=\"none\"/>\n",
              "    <path d=\"M18.56 5.44l.94 2.06.94-2.06 2.06-.94-2.06-.94-.94-2.06-.94 2.06-2.06.94zm-11 1L8.5 8.5l.94-2.06 2.06-.94-2.06-.94L8.5 2.5l-.94 2.06-2.06.94zm10 10l.94 2.06.94-2.06 2.06-.94-2.06-.94-.94-2.06-.94 2.06-2.06.94z\"/><path d=\"M17.41 7.96l-1.37-1.37c-.4-.4-.92-.59-1.43-.59-.52 0-1.04.2-1.43.59L10.3 9.45l-7.72 7.72c-.78.78-.78 2.05 0 2.83L4 21.41c.39.39.9.59 1.41.59.51 0 1.02-.2 1.41-.59l7.78-7.78 2.81-2.81c.8-.78.8-2.07 0-2.86zM5.41 20L4 18.59l7.72-7.72 1.47 1.35L5.41 20z\"/>\n",
              "  </svg>\n",
              "      </button>\n",
              "      \n",
              "  <style>\n",
              "    .colab-df-container {\n",
              "      display:flex;\n",
              "      flex-wrap:wrap;\n",
              "      gap: 12px;\n",
              "    }\n",
              "\n",
              "    .colab-df-convert {\n",
              "      background-color: #E8F0FE;\n",
              "      border: none;\n",
              "      border-radius: 50%;\n",
              "      cursor: pointer;\n",
              "      display: none;\n",
              "      fill: #1967D2;\n",
              "      height: 32px;\n",
              "      padding: 0 0 0 0;\n",
              "      width: 32px;\n",
              "    }\n",
              "\n",
              "    .colab-df-convert:hover {\n",
              "      background-color: #E2EBFA;\n",
              "      box-shadow: 0px 1px 2px rgba(60, 64, 67, 0.3), 0px 1px 3px 1px rgba(60, 64, 67, 0.15);\n",
              "      fill: #174EA6;\n",
              "    }\n",
              "\n",
              "    [theme=dark] .colab-df-convert {\n",
              "      background-color: #3B4455;\n",
              "      fill: #D2E3FC;\n",
              "    }\n",
              "\n",
              "    [theme=dark] .colab-df-convert:hover {\n",
              "      background-color: #434B5C;\n",
              "      box-shadow: 0px 1px 3px 1px rgba(0, 0, 0, 0.15);\n",
              "      filter: drop-shadow(0px 1px 2px rgba(0, 0, 0, 0.3));\n",
              "      fill: #FFFFFF;\n",
              "    }\n",
              "  </style>\n",
              "\n",
              "      <script>\n",
              "        const buttonEl =\n",
              "          document.querySelector('#df-2745cc77-2b6e-42aa-a5aa-657b9df8c784 button.colab-df-convert');\n",
              "        buttonEl.style.display =\n",
              "          google.colab.kernel.accessAllowed ? 'block' : 'none';\n",
              "\n",
              "        async function convertToInteractive(key) {\n",
              "          const element = document.querySelector('#df-2745cc77-2b6e-42aa-a5aa-657b9df8c784');\n",
              "          const dataTable =\n",
              "            await google.colab.kernel.invokeFunction('convertToInteractive',\n",
              "                                                     [key], {});\n",
              "          if (!dataTable) return;\n",
              "\n",
              "          const docLinkHtml = 'Like what you see? Visit the ' +\n",
              "            '<a target=\"_blank\" href=https://colab.research.google.com/notebooks/data_table.ipynb>data table notebook</a>'\n",
              "            + ' to learn more about interactive tables.';\n",
              "          element.innerHTML = '';\n",
              "          dataTable['output_type'] = 'display_data';\n",
              "          await google.colab.output.renderOutput(dataTable, element);\n",
              "          const docLink = document.createElement('div');\n",
              "          docLink.innerHTML = docLinkHtml;\n",
              "          element.appendChild(docLink);\n",
              "        }\n",
              "      </script>\n",
              "    </div>\n",
              "  </div>\n",
              "  "
            ]
          },
          "metadata": {},
          "execution_count": 25
        }
      ]
    },
    {
      "cell_type": "code",
      "source": [
        "df.query('order_id == 69485')"
      ],
      "metadata": {
        "colab": {
          "base_uri": "https://localhost:8080/",
          "height": 191
        },
        "id": "VT7g_VwYY26K",
        "outputId": "67ed55b1-087d-4c5a-ce34-45212b0567a2"
      },
      "execution_count": null,
      "outputs": [
        {
          "output_type": "execute_result",
          "data": {
            "text/plain": [
              "                    date                           customer_id  order_id  \\\n",
              "1282 2018-12-20 16:00:00  5be0f4b4-947f-4672-b147-73ef5936ecd4     69485   \n",
              "1292 2018-12-21 11:00:00  266beb08-ec9b-43b4-89bb-ac60fa23ffee     69485   \n",
              "\n",
              "                                                product  quantity      price  \\\n",
              "1282  набор столовых приборов 24 предмета saint germ...         1 1087.00000   \n",
              "1292  набор столовых приборов 24 предмета farandole ...         1 1274.00000   \n",
              "\n",
              "        revenue   dayweek     month  \n",
              "1282 1087.00000  Thursday  December  \n",
              "1292 1274.00000    Friday  December  "
            ],
            "text/html": [
              "\n",
              "  <div id=\"df-96642efc-3760-4b75-8b7e-33eab1232199\">\n",
              "    <div class=\"colab-df-container\">\n",
              "      <div>\n",
              "<style scoped>\n",
              "    .dataframe tbody tr th:only-of-type {\n",
              "        vertical-align: middle;\n",
              "    }\n",
              "\n",
              "    .dataframe tbody tr th {\n",
              "        vertical-align: top;\n",
              "    }\n",
              "\n",
              "    .dataframe thead th {\n",
              "        text-align: right;\n",
              "    }\n",
              "</style>\n",
              "<table border=\"1\" class=\"dataframe\">\n",
              "  <thead>\n",
              "    <tr style=\"text-align: right;\">\n",
              "      <th></th>\n",
              "      <th>date</th>\n",
              "      <th>customer_id</th>\n",
              "      <th>order_id</th>\n",
              "      <th>product</th>\n",
              "      <th>quantity</th>\n",
              "      <th>price</th>\n",
              "      <th>revenue</th>\n",
              "      <th>dayweek</th>\n",
              "      <th>month</th>\n",
              "    </tr>\n",
              "  </thead>\n",
              "  <tbody>\n",
              "    <tr>\n",
              "      <th>1282</th>\n",
              "      <td>2018-12-20 16:00:00</td>\n",
              "      <td>5be0f4b4-947f-4672-b147-73ef5936ecd4</td>\n",
              "      <td>69485</td>\n",
              "      <td>набор столовых приборов 24 предмета saint germ...</td>\n",
              "      <td>1</td>\n",
              "      <td>1087.00000</td>\n",
              "      <td>1087.00000</td>\n",
              "      <td>Thursday</td>\n",
              "      <td>December</td>\n",
              "    </tr>\n",
              "    <tr>\n",
              "      <th>1292</th>\n",
              "      <td>2018-12-21 11:00:00</td>\n",
              "      <td>266beb08-ec9b-43b4-89bb-ac60fa23ffee</td>\n",
              "      <td>69485</td>\n",
              "      <td>набор столовых приборов 24 предмета farandole ...</td>\n",
              "      <td>1</td>\n",
              "      <td>1274.00000</td>\n",
              "      <td>1274.00000</td>\n",
              "      <td>Friday</td>\n",
              "      <td>December</td>\n",
              "    </tr>\n",
              "  </tbody>\n",
              "</table>\n",
              "</div>\n",
              "      <button class=\"colab-df-convert\" onclick=\"convertToInteractive('df-96642efc-3760-4b75-8b7e-33eab1232199')\"\n",
              "              title=\"Convert this dataframe to an interactive table.\"\n",
              "              style=\"display:none;\">\n",
              "        \n",
              "  <svg xmlns=\"http://www.w3.org/2000/svg\" height=\"24px\"viewBox=\"0 0 24 24\"\n",
              "       width=\"24px\">\n",
              "    <path d=\"M0 0h24v24H0V0z\" fill=\"none\"/>\n",
              "    <path d=\"M18.56 5.44l.94 2.06.94-2.06 2.06-.94-2.06-.94-.94-2.06-.94 2.06-2.06.94zm-11 1L8.5 8.5l.94-2.06 2.06-.94-2.06-.94L8.5 2.5l-.94 2.06-2.06.94zm10 10l.94 2.06.94-2.06 2.06-.94-2.06-.94-.94-2.06-.94 2.06-2.06.94z\"/><path d=\"M17.41 7.96l-1.37-1.37c-.4-.4-.92-.59-1.43-.59-.52 0-1.04.2-1.43.59L10.3 9.45l-7.72 7.72c-.78.78-.78 2.05 0 2.83L4 21.41c.39.39.9.59 1.41.59.51 0 1.02-.2 1.41-.59l7.78-7.78 2.81-2.81c.8-.78.8-2.07 0-2.86zM5.41 20L4 18.59l7.72-7.72 1.47 1.35L5.41 20z\"/>\n",
              "  </svg>\n",
              "      </button>\n",
              "      \n",
              "  <style>\n",
              "    .colab-df-container {\n",
              "      display:flex;\n",
              "      flex-wrap:wrap;\n",
              "      gap: 12px;\n",
              "    }\n",
              "\n",
              "    .colab-df-convert {\n",
              "      background-color: #E8F0FE;\n",
              "      border: none;\n",
              "      border-radius: 50%;\n",
              "      cursor: pointer;\n",
              "      display: none;\n",
              "      fill: #1967D2;\n",
              "      height: 32px;\n",
              "      padding: 0 0 0 0;\n",
              "      width: 32px;\n",
              "    }\n",
              "\n",
              "    .colab-df-convert:hover {\n",
              "      background-color: #E2EBFA;\n",
              "      box-shadow: 0px 1px 2px rgba(60, 64, 67, 0.3), 0px 1px 3px 1px rgba(60, 64, 67, 0.15);\n",
              "      fill: #174EA6;\n",
              "    }\n",
              "\n",
              "    [theme=dark] .colab-df-convert {\n",
              "      background-color: #3B4455;\n",
              "      fill: #D2E3FC;\n",
              "    }\n",
              "\n",
              "    [theme=dark] .colab-df-convert:hover {\n",
              "      background-color: #434B5C;\n",
              "      box-shadow: 0px 1px 3px 1px rgba(0, 0, 0, 0.15);\n",
              "      filter: drop-shadow(0px 1px 2px rgba(0, 0, 0, 0.3));\n",
              "      fill: #FFFFFF;\n",
              "    }\n",
              "  </style>\n",
              "\n",
              "      <script>\n",
              "        const buttonEl =\n",
              "          document.querySelector('#df-96642efc-3760-4b75-8b7e-33eab1232199 button.colab-df-convert');\n",
              "        buttonEl.style.display =\n",
              "          google.colab.kernel.accessAllowed ? 'block' : 'none';\n",
              "\n",
              "        async function convertToInteractive(key) {\n",
              "          const element = document.querySelector('#df-96642efc-3760-4b75-8b7e-33eab1232199');\n",
              "          const dataTable =\n",
              "            await google.colab.kernel.invokeFunction('convertToInteractive',\n",
              "                                                     [key], {});\n",
              "          if (!dataTable) return;\n",
              "\n",
              "          const docLinkHtml = 'Like what you see? Visit the ' +\n",
              "            '<a target=\"_blank\" href=https://colab.research.google.com/notebooks/data_table.ipynb>data table notebook</a>'\n",
              "            + ' to learn more about interactive tables.';\n",
              "          element.innerHTML = '';\n",
              "          dataTable['output_type'] = 'display_data';\n",
              "          await google.colab.output.renderOutput(dataTable, element);\n",
              "          const docLink = document.createElement('div');\n",
              "          docLink.innerHTML = docLinkHtml;\n",
              "          element.appendChild(docLink);\n",
              "        }\n",
              "      </script>\n",
              "    </div>\n",
              "  </div>\n",
              "  "
            ]
          },
          "metadata": {},
          "execution_count": 26
        }
      ]
    },
    {
      "cell_type": "markdown",
      "source": [
        "## 3.3 Поиск аномалий"
      ],
      "metadata": {
        "id": "iU-PuAqhnQ39"
      }
    },
    {
      "cell_type": "code",
      "source": [
        "df.describe()"
      ],
      "metadata": {
        "colab": {
          "base_uri": "https://localhost:8080/",
          "height": 300
        },
        "id": "WVWt0HQOnZnD",
        "outputId": "b58a688c-4d15-4511-b9cf-9e765ee6a329"
      },
      "execution_count": null,
      "outputs": [
        {
          "output_type": "execute_result",
          "data": {
            "text/plain": [
              "         order_id   quantity       price      revenue\n",
              "count  4839.00000 4839.00000  4839.00000   4839.00000\n",
              "mean  48105.89585    2.81608   515.00248    850.69477\n",
              "std   27363.40752   17.63910   945.53744   9841.41510\n",
              "min   12624.00000    1.00000     9.00000      9.00000\n",
              "25%   14772.50000    1.00000    90.00000    120.00000\n",
              "50%   68854.00000    1.00000   150.00000    194.00000\n",
              "75%   70810.50000    1.00000   488.00000    734.00000\n",
              "max   73164.00000 1000.00000 14917.00000 675000.00000"
            ],
            "text/html": [
              "\n",
              "  <div id=\"df-e5abef88-063a-40a8-8449-786bc82abd35\">\n",
              "    <div class=\"colab-df-container\">\n",
              "      <div>\n",
              "<style scoped>\n",
              "    .dataframe tbody tr th:only-of-type {\n",
              "        vertical-align: middle;\n",
              "    }\n",
              "\n",
              "    .dataframe tbody tr th {\n",
              "        vertical-align: top;\n",
              "    }\n",
              "\n",
              "    .dataframe thead th {\n",
              "        text-align: right;\n",
              "    }\n",
              "</style>\n",
              "<table border=\"1\" class=\"dataframe\">\n",
              "  <thead>\n",
              "    <tr style=\"text-align: right;\">\n",
              "      <th></th>\n",
              "      <th>order_id</th>\n",
              "      <th>quantity</th>\n",
              "      <th>price</th>\n",
              "      <th>revenue</th>\n",
              "    </tr>\n",
              "  </thead>\n",
              "  <tbody>\n",
              "    <tr>\n",
              "      <th>count</th>\n",
              "      <td>4839.00000</td>\n",
              "      <td>4839.00000</td>\n",
              "      <td>4839.00000</td>\n",
              "      <td>4839.00000</td>\n",
              "    </tr>\n",
              "    <tr>\n",
              "      <th>mean</th>\n",
              "      <td>48105.89585</td>\n",
              "      <td>2.81608</td>\n",
              "      <td>515.00248</td>\n",
              "      <td>850.69477</td>\n",
              "    </tr>\n",
              "    <tr>\n",
              "      <th>std</th>\n",
              "      <td>27363.40752</td>\n",
              "      <td>17.63910</td>\n",
              "      <td>945.53744</td>\n",
              "      <td>9841.41510</td>\n",
              "    </tr>\n",
              "    <tr>\n",
              "      <th>min</th>\n",
              "      <td>12624.00000</td>\n",
              "      <td>1.00000</td>\n",
              "      <td>9.00000</td>\n",
              "      <td>9.00000</td>\n",
              "    </tr>\n",
              "    <tr>\n",
              "      <th>25%</th>\n",
              "      <td>14772.50000</td>\n",
              "      <td>1.00000</td>\n",
              "      <td>90.00000</td>\n",
              "      <td>120.00000</td>\n",
              "    </tr>\n",
              "    <tr>\n",
              "      <th>50%</th>\n",
              "      <td>68854.00000</td>\n",
              "      <td>1.00000</td>\n",
              "      <td>150.00000</td>\n",
              "      <td>194.00000</td>\n",
              "    </tr>\n",
              "    <tr>\n",
              "      <th>75%</th>\n",
              "      <td>70810.50000</td>\n",
              "      <td>1.00000</td>\n",
              "      <td>488.00000</td>\n",
              "      <td>734.00000</td>\n",
              "    </tr>\n",
              "    <tr>\n",
              "      <th>max</th>\n",
              "      <td>73164.00000</td>\n",
              "      <td>1000.00000</td>\n",
              "      <td>14917.00000</td>\n",
              "      <td>675000.00000</td>\n",
              "    </tr>\n",
              "  </tbody>\n",
              "</table>\n",
              "</div>\n",
              "      <button class=\"colab-df-convert\" onclick=\"convertToInteractive('df-e5abef88-063a-40a8-8449-786bc82abd35')\"\n",
              "              title=\"Convert this dataframe to an interactive table.\"\n",
              "              style=\"display:none;\">\n",
              "        \n",
              "  <svg xmlns=\"http://www.w3.org/2000/svg\" height=\"24px\"viewBox=\"0 0 24 24\"\n",
              "       width=\"24px\">\n",
              "    <path d=\"M0 0h24v24H0V0z\" fill=\"none\"/>\n",
              "    <path d=\"M18.56 5.44l.94 2.06.94-2.06 2.06-.94-2.06-.94-.94-2.06-.94 2.06-2.06.94zm-11 1L8.5 8.5l.94-2.06 2.06-.94-2.06-.94L8.5 2.5l-.94 2.06-2.06.94zm10 10l.94 2.06.94-2.06 2.06-.94-2.06-.94-.94-2.06-.94 2.06-2.06.94z\"/><path d=\"M17.41 7.96l-1.37-1.37c-.4-.4-.92-.59-1.43-.59-.52 0-1.04.2-1.43.59L10.3 9.45l-7.72 7.72c-.78.78-.78 2.05 0 2.83L4 21.41c.39.39.9.59 1.41.59.51 0 1.02-.2 1.41-.59l7.78-7.78 2.81-2.81c.8-.78.8-2.07 0-2.86zM5.41 20L4 18.59l7.72-7.72 1.47 1.35L5.41 20z\"/>\n",
              "  </svg>\n",
              "      </button>\n",
              "      \n",
              "  <style>\n",
              "    .colab-df-container {\n",
              "      display:flex;\n",
              "      flex-wrap:wrap;\n",
              "      gap: 12px;\n",
              "    }\n",
              "\n",
              "    .colab-df-convert {\n",
              "      background-color: #E8F0FE;\n",
              "      border: none;\n",
              "      border-radius: 50%;\n",
              "      cursor: pointer;\n",
              "      display: none;\n",
              "      fill: #1967D2;\n",
              "      height: 32px;\n",
              "      padding: 0 0 0 0;\n",
              "      width: 32px;\n",
              "    }\n",
              "\n",
              "    .colab-df-convert:hover {\n",
              "      background-color: #E2EBFA;\n",
              "      box-shadow: 0px 1px 2px rgba(60, 64, 67, 0.3), 0px 1px 3px 1px rgba(60, 64, 67, 0.15);\n",
              "      fill: #174EA6;\n",
              "    }\n",
              "\n",
              "    [theme=dark] .colab-df-convert {\n",
              "      background-color: #3B4455;\n",
              "      fill: #D2E3FC;\n",
              "    }\n",
              "\n",
              "    [theme=dark] .colab-df-convert:hover {\n",
              "      background-color: #434B5C;\n",
              "      box-shadow: 0px 1px 3px 1px rgba(0, 0, 0, 0.15);\n",
              "      filter: drop-shadow(0px 1px 2px rgba(0, 0, 0, 0.3));\n",
              "      fill: #FFFFFF;\n",
              "    }\n",
              "  </style>\n",
              "\n",
              "      <script>\n",
              "        const buttonEl =\n",
              "          document.querySelector('#df-e5abef88-063a-40a8-8449-786bc82abd35 button.colab-df-convert');\n",
              "        buttonEl.style.display =\n",
              "          google.colab.kernel.accessAllowed ? 'block' : 'none';\n",
              "\n",
              "        async function convertToInteractive(key) {\n",
              "          const element = document.querySelector('#df-e5abef88-063a-40a8-8449-786bc82abd35');\n",
              "          const dataTable =\n",
              "            await google.colab.kernel.invokeFunction('convertToInteractive',\n",
              "                                                     [key], {});\n",
              "          if (!dataTable) return;\n",
              "\n",
              "          const docLinkHtml = 'Like what you see? Visit the ' +\n",
              "            '<a target=\"_blank\" href=https://colab.research.google.com/notebooks/data_table.ipynb>data table notebook</a>'\n",
              "            + ' to learn more about interactive tables.';\n",
              "          element.innerHTML = '';\n",
              "          dataTable['output_type'] = 'display_data';\n",
              "          await google.colab.output.renderOutput(dataTable, element);\n",
              "          const docLink = document.createElement('div');\n",
              "          docLink.innerHTML = docLinkHtml;\n",
              "          element.appendChild(docLink);\n",
              "        }\n",
              "      </script>\n",
              "    </div>\n",
              "  </div>\n",
              "  "
            ]
          },
          "metadata": {},
          "execution_count": 27
        }
      ]
    },
    {
      "cell_type": "code",
      "source": [
        "cat_columns = df[['quantity', 'price', 'revenue']]\n",
        "\n",
        "\n",
        "plt.figure(figsize=(16,5))\n",
        "for i, column in enumerate(sorted(cat_columns)):\n",
        "    plt.subplot(1,3,i+1)\n",
        "    plt.title(column)\n",
        "    sns.histplot(df, x=column, discrete=False, alpha=0.7, bins=10)\n",
        "    plt.legend([column])\n",
        "    plt.xticks(rotation=45,\n",
        "      horizontalalignment='right',\n",
        "      fontweight='light',\n",
        "      fontsize='medium',)\n",
        "plt.show()"
      ],
      "metadata": {
        "colab": {
          "base_uri": "https://localhost:8080/",
          "height": 373
        },
        "id": "12nf-Q0AzFZg",
        "outputId": "89d5476d-00f0-49ce-c760-7f69dd0e8867"
      },
      "execution_count": null,
      "outputs": [
        {
          "output_type": "display_data",
          "data": {
            "text/plain": [
              "<Figure size 1152x360 with 3 Axes>"
            ],
            "image/png": "[encoded data removed]"
          },
          "metadata": {
            "needs_background": "light"
          }
        }
      ]
    },
    {
      "cell_type": "markdown",
      "source": [
        "- нужно посмотреть на quantity купленного товара в одном заказе, видим что максимальное значение довольно высокое, учитывая что 75% покупателей покупают 1 товар\n",
        "- колонка price выглядит нормально, большинство товаров стоят до 2500 руб а самый дорогой 15000\n",
        "- макимальное значение revenue так же выглядит как выброс, учитывая что 75% клиентов покупают на 600 руб"
      ],
      "metadata": {
        "id": "UM0gpbmnsQeH"
      }
    },
    {
      "cell_type": "code",
      "source": [
        "t = (df.groupby('customer_id')\n",
        "    .agg({\n",
        "        'order_id': 'nunique',\n",
        "        'quantity': 'sum',\n",
        "        'revenue': 'sum',\n",
        "        })\n",
        "    .rename(columns={\n",
        "        'order_id': 'unique_order_id',\n",
        "        'quantity': 'quantity_product',\n",
        "        'revenue': 'total_revenue'\n",
        "        })\n",
        "    .reset_index()\n",
        "    )\n",
        "t.head()"
      ],
      "metadata": {
        "colab": {
          "base_uri": "https://localhost:8080/",
          "height": 206
        },
        "id": "J30Ozj--pz0Q",
        "outputId": "dd1795ca-2642-48f3-ee71-258c014cb8d0"
      },
      "execution_count": null,
      "outputs": [
        {
          "output_type": "execute_result",
          "data": {
            "text/plain": [
              "                            customer_id  unique_order_id  quantity_product  \\\n",
              "0  000d6849-084e-4d9f-ac03-37174eaf60c4                1                 4   \n",
              "1  001cee7f-0b29-4716-b202-0042213ab038                1                 1   \n",
              "2  00299f34-5385-4d13-9aea-c80b81658e1b                1                 2   \n",
              "3  002d4d3a-4a59-406b-86ec-c3314357e498                1                 1   \n",
              "4  003bbd39-0000-41ff-b7f9-2ddaec152037                1                 2   \n",
              "\n",
              "   total_revenue  \n",
              "0      555.00000  \n",
              "1      442.00000  \n",
              "2      914.00000  \n",
              "3     1649.00000  \n",
              "4     2324.00000  "
            ],
            "text/html": [
              "\n",
              "  <div id=\"df-0947caac-52e4-494b-9bd5-a4565ffdbe54\">\n",
              "    <div class=\"colab-df-container\">\n",
              "      <div>\n",
              "<style scoped>\n",
              "    .dataframe tbody tr th:only-of-type {\n",
              "        vertical-align: middle;\n",
              "    }\n",
              "\n",
              "    .dataframe tbody tr th {\n",
              "        vertical-align: top;\n",
              "    }\n",
              "\n",
              "    .dataframe thead th {\n",
              "        text-align: right;\n",
              "    }\n",
              "</style>\n",
              "<table border=\"1\" class=\"dataframe\">\n",
              "  <thead>\n",
              "    <tr style=\"text-align: right;\">\n",
              "      <th></th>\n",
              "      <th>customer_id</th>\n",
              "      <th>unique_order_id</th>\n",
              "      <th>quantity_product</th>\n",
              "      <th>total_revenue</th>\n",
              "    </tr>\n",
              "  </thead>\n",
              "  <tbody>\n",
              "    <tr>\n",
              "      <th>0</th>\n",
              "      <td>000d6849-084e-4d9f-ac03-37174eaf60c4</td>\n",
              "      <td>1</td>\n",
              "      <td>4</td>\n",
              "      <td>555.00000</td>\n",
              "    </tr>\n",
              "    <tr>\n",
              "      <th>1</th>\n",
              "      <td>001cee7f-0b29-4716-b202-0042213ab038</td>\n",
              "      <td>1</td>\n",
              "      <td>1</td>\n",
              "      <td>442.00000</td>\n",
              "    </tr>\n",
              "    <tr>\n",
              "      <th>2</th>\n",
              "      <td>00299f34-5385-4d13-9aea-c80b81658e1b</td>\n",
              "      <td>1</td>\n",
              "      <td>2</td>\n",
              "      <td>914.00000</td>\n",
              "    </tr>\n",
              "    <tr>\n",
              "      <th>3</th>\n",
              "      <td>002d4d3a-4a59-406b-86ec-c3314357e498</td>\n",
              "      <td>1</td>\n",
              "      <td>1</td>\n",
              "      <td>1649.00000</td>\n",
              "    </tr>\n",
              "    <tr>\n",
              "      <th>4</th>\n",
              "      <td>003bbd39-0000-41ff-b7f9-2ddaec152037</td>\n",
              "      <td>1</td>\n",
              "      <td>2</td>\n",
              "      <td>2324.00000</td>\n",
              "    </tr>\n",
              "  </tbody>\n",
              "</table>\n",
              "</div>\n",
              "      <button class=\"colab-df-convert\" onclick=\"convertToInteractive('df-0947caac-52e4-494b-9bd5-a4565ffdbe54')\"\n",
              "              title=\"Convert this dataframe to an interactive table.\"\n",
              "              style=\"display:none;\">\n",
              "        \n",
              "  <svg xmlns=\"http://www.w3.org/2000/svg\" height=\"24px\"viewBox=\"0 0 24 24\"\n",
              "       width=\"24px\">\n",
              "    <path d=\"M0 0h24v24H0V0z\" fill=\"none\"/>\n",
              "    <path d=\"M18.56 5.44l.94 2.06.94-2.06 2.06-.94-2.06-.94-.94-2.06-.94 2.06-2.06.94zm-11 1L8.5 8.5l.94-2.06 2.06-.94-2.06-.94L8.5 2.5l-.94 2.06-2.06.94zm10 10l.94 2.06.94-2.06 2.06-.94-2.06-.94-.94-2.06-.94 2.06-2.06.94z\"/><path d=\"M17.41 7.96l-1.37-1.37c-.4-.4-.92-.59-1.43-.59-.52 0-1.04.2-1.43.59L10.3 9.45l-7.72 7.72c-.78.78-.78 2.05 0 2.83L4 21.41c.39.39.9.59 1.41.59.51 0 1.02-.2 1.41-.59l7.78-7.78 2.81-2.81c.8-.78.8-2.07 0-2.86zM5.41 20L4 18.59l7.72-7.72 1.47 1.35L5.41 20z\"/>\n",
              "  </svg>\n",
              "      </button>\n",
              "      \n",
              "  <style>\n",
              "    .colab-df-container {\n",
              "      display:flex;\n",
              "      flex-wrap:wrap;\n",
              "      gap: 12px;\n",
              "    }\n",
              "\n",
              "    .colab-df-convert {\n",
              "      background-color: #E8F0FE;\n",
              "      border: none;\n",
              "      border-radius: 50%;\n",
              "      cursor: pointer;\n",
              "      display: none;\n",
              "      fill: #1967D2;\n",
              "      height: 32px;\n",
              "      padding: 0 0 0 0;\n",
              "      width: 32px;\n",
              "    }\n",
              "\n",
              "    .colab-df-convert:hover {\n",
              "      background-color: #E2EBFA;\n",
              "      box-shadow: 0px 1px 2px rgba(60, 64, 67, 0.3), 0px 1px 3px 1px rgba(60, 64, 67, 0.15);\n",
              "      fill: #174EA6;\n",
              "    }\n",
              "\n",
              "    [theme=dark] .colab-df-convert {\n",
              "      background-color: #3B4455;\n",
              "      fill: #D2E3FC;\n",
              "    }\n",
              "\n",
              "    [theme=dark] .colab-df-convert:hover {\n",
              "      background-color: #434B5C;\n",
              "      box-shadow: 0px 1px 3px 1px rgba(0, 0, 0, 0.15);\n",
              "      filter: drop-shadow(0px 1px 2px rgba(0, 0, 0, 0.3));\n",
              "      fill: #FFFFFF;\n",
              "    }\n",
              "  </style>\n",
              "\n",
              "      <script>\n",
              "        const buttonEl =\n",
              "          document.querySelector('#df-0947caac-52e4-494b-9bd5-a4565ffdbe54 button.colab-df-convert');\n",
              "        buttonEl.style.display =\n",
              "          google.colab.kernel.accessAllowed ? 'block' : 'none';\n",
              "\n",
              "        async function convertToInteractive(key) {\n",
              "          const element = document.querySelector('#df-0947caac-52e4-494b-9bd5-a4565ffdbe54');\n",
              "          const dataTable =\n",
              "            await google.colab.kernel.invokeFunction('convertToInteractive',\n",
              "                                                     [key], {});\n",
              "          if (!dataTable) return;\n",
              "\n",
              "          const docLinkHtml = 'Like what you see? Visit the ' +\n",
              "            '<a target=\"_blank\" href=https://colab.research.google.com/notebooks/data_table.ipynb>data table notebook</a>'\n",
              "            + ' to learn more about interactive tables.';\n",
              "          element.innerHTML = '';\n",
              "          dataTable['output_type'] = 'display_data';\n",
              "          await google.colab.output.renderOutput(dataTable, element);\n",
              "          const docLink = document.createElement('div');\n",
              "          docLink.innerHTML = docLinkHtml;\n",
              "          element.appendChild(docLink);\n",
              "        }\n",
              "      </script>\n",
              "    </div>\n",
              "  </div>\n",
              "  "
            ]
          },
          "metadata": {},
          "execution_count": 29
        }
      ]
    },
    {
      "cell_type": "code",
      "source": [
        "print('количество заказов')\n",
        "print(np.percentile(t['unique_order_id'], [100,99,2,1]))\n",
        "print('========'*5)\n",
        "\n",
        "print('количество товара в чеке')\n",
        "print(np.percentile(t['quantity_product'], [100,99,98,97]))\n",
        "print('========'*5)\n",
        "\n",
        "print('общая выручка на клиента')\n",
        "print(np.percentile(t['total_revenue'], [100,99,98,97]))\n",
        "print('========'*5)"
      ],
      "metadata": {
        "colab": {
          "base_uri": "https://localhost:8080/"
        },
        "id": "ezFtW_A9qnDn",
        "outputId": "37ff9f47-c5b9-41a8-c721-09d0fd43f116"
      },
      "execution_count": null,
      "outputs": [
        {
          "output_type": "stream",
          "name": "stdout",
          "text": [
            "количество заказов\n",
            "[126.   3.   1.   1.]\n",
            "========================================\n",
            "количество товара в чеке\n",
            "[1000.    60.    34.6   30. ]\n",
            "========================================\n",
            "общая выручка на клиента\n",
            "[675000.    8799.6   6731.    5463. ]\n",
            "========================================\n"
          ]
        }
      ]
    },
    {
      "cell_type": "markdown",
      "source": [
        "- выделим оптовых клиентов которые смазывают общую картину, разделим таблицы \n",
        "\n",
        "> ### 🤔 Что такое опт: \n",
        "- количество order_id на клиента маленькое\n",
        "- quantity в заказе высокое\n",
        "- revenue высокое"
      ],
      "metadata": {
        "id": "zBIheVf1s9m9"
      }
    },
    {
      "cell_type": "code",
      "source": [
        "order = np.percentile(t['unique_order_id'], [1])\n",
        "quantity = np.percentile(t['quantity_product'], [99])\n",
        "revenue = np.percentile(t['total_revenue'], [99])"
      ],
      "metadata": {
        "id": "V9nqr5IjscWM"
      },
      "execution_count": null,
      "outputs": []
    },
    {
      "cell_type": "code",
      "source": [
        "t.query('unique_order_id == @order and quantity_product >= @quantity and total_revenue >= @revenue')"
      ],
      "metadata": {
        "colab": {
          "base_uri": "https://localhost:8080/",
          "height": 175
        },
        "id": "jXB3TZgxsU2i",
        "outputId": "1f326a7f-5aaa-4349-e3d2-683bd5165ddb"
      },
      "execution_count": null,
      "outputs": [
        {
          "output_type": "execute_result",
          "data": {
            "text/plain": [
              "                               customer_id  unique_order_id  quantity_product  \\\n",
              "196   146cd9bf-a95c-4afb-915b-5f6684b17444                1               334   \n",
              "461   312e9a3e-5fca-43ff-a6a1-892d2b2d5ba6                1              1000   \n",
              "862   5d189e88-d4d6-4eac-ab43-fa65a3c4d106                1               300   \n",
              "1345  8fba3604-ef57-4b9f-b2fe-3402fa8825c8                1               101   \n",
              "\n",
              "      total_revenue  \n",
              "196     49432.00000  \n",
              "461    675000.00000  \n",
              "862     15300.00000  \n",
              "1345    33680.00000  "
            ],
            "text/html": [
              "\n",
              "  <div id=\"df-d3d2869b-93a8-4338-83ce-23a31b49ffde\">\n",
              "    <div class=\"colab-df-container\">\n",
              "      <div>\n",
              "<style scoped>\n",
              "    .dataframe tbody tr th:only-of-type {\n",
              "        vertical-align: middle;\n",
              "    }\n",
              "\n",
              "    .dataframe tbody tr th {\n",
              "        vertical-align: top;\n",
              "    }\n",
              "\n",
              "    .dataframe thead th {\n",
              "        text-align: right;\n",
              "    }\n",
              "</style>\n",
              "<table border=\"1\" class=\"dataframe\">\n",
              "  <thead>\n",
              "    <tr style=\"text-align: right;\">\n",
              "      <th></th>\n",
              "      <th>customer_id</th>\n",
              "      <th>unique_order_id</th>\n",
              "      <th>quantity_product</th>\n",
              "      <th>total_revenue</th>\n",
              "    </tr>\n",
              "  </thead>\n",
              "  <tbody>\n",
              "    <tr>\n",
              "      <th>196</th>\n",
              "      <td>146cd9bf-a95c-4afb-915b-5f6684b17444</td>\n",
              "      <td>1</td>\n",
              "      <td>334</td>\n",
              "      <td>49432.00000</td>\n",
              "    </tr>\n",
              "    <tr>\n",
              "      <th>461</th>\n",
              "      <td>312e9a3e-5fca-43ff-a6a1-892d2b2d5ba6</td>\n",
              "      <td>1</td>\n",
              "      <td>1000</td>\n",
              "      <td>675000.00000</td>\n",
              "    </tr>\n",
              "    <tr>\n",
              "      <th>862</th>\n",
              "      <td>5d189e88-d4d6-4eac-ab43-fa65a3c4d106</td>\n",
              "      <td>1</td>\n",
              "      <td>300</td>\n",
              "      <td>15300.00000</td>\n",
              "    </tr>\n",
              "    <tr>\n",
              "      <th>1345</th>\n",
              "      <td>8fba3604-ef57-4b9f-b2fe-3402fa8825c8</td>\n",
              "      <td>1</td>\n",
              "      <td>101</td>\n",
              "      <td>33680.00000</td>\n",
              "    </tr>\n",
              "  </tbody>\n",
              "</table>\n",
              "</div>\n",
              "      <button class=\"colab-df-convert\" onclick=\"convertToInteractive('df-d3d2869b-93a8-4338-83ce-23a31b49ffde')\"\n",
              "              title=\"Convert this dataframe to an interactive table.\"\n",
              "              style=\"display:none;\">\n",
              "        \n",
              "  <svg xmlns=\"http://www.w3.org/2000/svg\" height=\"24px\"viewBox=\"0 0 24 24\"\n",
              "       width=\"24px\">\n",
              "    <path d=\"M0 0h24v24H0V0z\" fill=\"none\"/>\n",
              "    <path d=\"M18.56 5.44l.94 2.06.94-2.06 2.06-.94-2.06-.94-.94-2.06-.94 2.06-2.06.94zm-11 1L8.5 8.5l.94-2.06 2.06-.94-2.06-.94L8.5 2.5l-.94 2.06-2.06.94zm10 10l.94 2.06.94-2.06 2.06-.94-2.06-.94-.94-2.06-.94 2.06-2.06.94z\"/><path d=\"M17.41 7.96l-1.37-1.37c-.4-.4-.92-.59-1.43-.59-.52 0-1.04.2-1.43.59L10.3 9.45l-7.72 7.72c-.78.78-.78 2.05 0 2.83L4 21.41c.39.39.9.59 1.41.59.51 0 1.02-.2 1.41-.59l7.78-7.78 2.81-2.81c.8-.78.8-2.07 0-2.86zM5.41 20L4 18.59l7.72-7.72 1.47 1.35L5.41 20z\"/>\n",
              "  </svg>\n",
              "      </button>\n",
              "      \n",
              "  <style>\n",
              "    .colab-df-container {\n",
              "      display:flex;\n",
              "      flex-wrap:wrap;\n",
              "      gap: 12px;\n",
              "    }\n",
              "\n",
              "    .colab-df-convert {\n",
              "      background-color: #E8F0FE;\n",
              "      border: none;\n",
              "      border-radius: 50%;\n",
              "      cursor: pointer;\n",
              "      display: none;\n",
              "      fill: #1967D2;\n",
              "      height: 32px;\n",
              "      padding: 0 0 0 0;\n",
              "      width: 32px;\n",
              "    }\n",
              "\n",
              "    .colab-df-convert:hover {\n",
              "      background-color: #E2EBFA;\n",
              "      box-shadow: 0px 1px 2px rgba(60, 64, 67, 0.3), 0px 1px 3px 1px rgba(60, 64, 67, 0.15);\n",
              "      fill: #174EA6;\n",
              "    }\n",
              "\n",
              "    [theme=dark] .colab-df-convert {\n",
              "      background-color: #3B4455;\n",
              "      fill: #D2E3FC;\n",
              "    }\n",
              "\n",
              "    [theme=dark] .colab-df-convert:hover {\n",
              "      background-color: #434B5C;\n",
              "      box-shadow: 0px 1px 3px 1px rgba(0, 0, 0, 0.15);\n",
              "      filter: drop-shadow(0px 1px 2px rgba(0, 0, 0, 0.3));\n",
              "      fill: #FFFFFF;\n",
              "    }\n",
              "  </style>\n",
              "\n",
              "      <script>\n",
              "        const buttonEl =\n",
              "          document.querySelector('#df-d3d2869b-93a8-4338-83ce-23a31b49ffde button.colab-df-convert');\n",
              "        buttonEl.style.display =\n",
              "          google.colab.kernel.accessAllowed ? 'block' : 'none';\n",
              "\n",
              "        async function convertToInteractive(key) {\n",
              "          const element = document.querySelector('#df-d3d2869b-93a8-4338-83ce-23a31b49ffde');\n",
              "          const dataTable =\n",
              "            await google.colab.kernel.invokeFunction('convertToInteractive',\n",
              "                                                     [key], {});\n",
              "          if (!dataTable) return;\n",
              "\n",
              "          const docLinkHtml = 'Like what you see? Visit the ' +\n",
              "            '<a target=\"_blank\" href=https://colab.research.google.com/notebooks/data_table.ipynb>data table notebook</a>'\n",
              "            + ' to learn more about interactive tables.';\n",
              "          element.innerHTML = '';\n",
              "          dataTable['output_type'] = 'display_data';\n",
              "          await google.colab.output.renderOutput(dataTable, element);\n",
              "          const docLink = document.createElement('div');\n",
              "          docLink.innerHTML = docLinkHtml;\n",
              "          element.appendChild(docLink);\n",
              "        }\n",
              "      </script>\n",
              "    </div>\n",
              "  </div>\n",
              "  "
            ]
          },
          "metadata": {},
          "execution_count": 32
        }
      ]
    },
    {
      "cell_type": "code",
      "source": [
        "list_opt = t.query('unique_order_id >= @order and quantity_product >= @quantity and total_revenue >= @revenue')['customer_id'].tolist()"
      ],
      "metadata": {
        "id": "TRP_u8PntY4w"
      },
      "execution_count": null,
      "outputs": []
    },
    {
      "cell_type": "markdown",
      "source": [
        "### 3.3.1 Оптовая таблица"
      ],
      "metadata": {
        "id": "ncl6l6r87g9A"
      }
    },
    {
      "cell_type": "code",
      "source": [
        "opt_df = df.query('customer_id == @list_opt')\n",
        "opt_df.head()"
      ],
      "metadata": {
        "colab": {
          "base_uri": "https://localhost:8080/",
          "height": 337
        },
        "id": "xGAzCwaN6cMf",
        "outputId": "7d5abf82-d5f4-4690-af9b-86187144f6ff"
      },
      "execution_count": null,
      "outputs": [
        {
          "output_type": "execute_result",
          "data": {
            "text/plain": [
              "                  date                           customer_id  order_id  \\\n",
              "9  2018-10-01 09:00:00  c971fb21-d54c-4134-938f-16b62ee86d3b     68480   \n",
              "12 2018-10-01 13:00:00  4d93d3f6-8b24-403b-a74b-f5173e40d7db     68485   \n",
              "20 2018-10-02 08:00:00  c971fb21-d54c-4134-938f-16b62ee86d3b     68490   \n",
              "21 2018-10-02 10:00:00  4d93d3f6-8b24-403b-a74b-f5173e40d7db     68491   \n",
              "42 2018-10-02 11:00:00  4d93d3f6-8b24-403b-a74b-f5173e40d7db     68493   \n",
              "\n",
              "                                              product  quantity      price  \\\n",
              "9   чехол для гладильной доски colombo persia beig...         1  674.00000   \n",
              "12  чехол eurogold clean basic хлопок для досок 12...         1  187.00000   \n",
              "20  чехол для гладильной доски festival 137x60 см ...         1 1162.00000   \n",
              "21         сумка-тележка 2-х колесная gimi argo синяя         1 1049.00000   \n",
              "42  щетка-сметка 3-х рядная деревянная 450 мм (пло...        15   49.00000   \n",
              "\n",
              "      revenue  dayweek    month  \n",
              "9   674.00000   Monday  October  \n",
              "12  187.00000   Monday  October  \n",
              "20 1162.00000  Tuesday  October  \n",
              "21 1049.00000  Tuesday  October  \n",
              "42  735.00000  Tuesday  October  "
            ],
            "text/html": [
              "\n",
              "  <div id=\"df-5f1e2d46-963a-43e1-a588-25fedba9c6c5\">\n",
              "    <div class=\"colab-df-container\">\n",
              "      <div>\n",
              "<style scoped>\n",
              "    .dataframe tbody tr th:only-of-type {\n",
              "        vertical-align: middle;\n",
              "    }\n",
              "\n",
              "    .dataframe tbody tr th {\n",
              "        vertical-align: top;\n",
              "    }\n",
              "\n",
              "    .dataframe thead th {\n",
              "        text-align: right;\n",
              "    }\n",
              "</style>\n",
              "<table border=\"1\" class=\"dataframe\">\n",
              "  <thead>\n",
              "    <tr style=\"text-align: right;\">\n",
              "      <th></th>\n",
              "      <th>date</th>\n",
              "      <th>customer_id</th>\n",
              "      <th>order_id</th>\n",
              "      <th>product</th>\n",
              "      <th>quantity</th>\n",
              "      <th>price</th>\n",
              "      <th>revenue</th>\n",
              "      <th>dayweek</th>\n",
              "      <th>month</th>\n",
              "    </tr>\n",
              "  </thead>\n",
              "  <tbody>\n",
              "    <tr>\n",
              "      <th>9</th>\n",
              "      <td>2018-10-01 09:00:00</td>\n",
              "      <td>c971fb21-d54c-4134-938f-16b62ee86d3b</td>\n",
              "      <td>68480</td>\n",
              "      <td>чехол для гладильной доски colombo persia beig...</td>\n",
              "      <td>1</td>\n",
              "      <td>674.00000</td>\n",
              "      <td>674.00000</td>\n",
              "      <td>Monday</td>\n",
              "      <td>October</td>\n",
              "    </tr>\n",
              "    <tr>\n",
              "      <th>12</th>\n",
              "      <td>2018-10-01 13:00:00</td>\n",
              "      <td>4d93d3f6-8b24-403b-a74b-f5173e40d7db</td>\n",
              "      <td>68485</td>\n",
              "      <td>чехол eurogold clean basic хлопок для досок 12...</td>\n",
              "      <td>1</td>\n",
              "      <td>187.00000</td>\n",
              "      <td>187.00000</td>\n",
              "      <td>Monday</td>\n",
              "      <td>October</td>\n",
              "    </tr>\n",
              "    <tr>\n",
              "      <th>20</th>\n",
              "      <td>2018-10-02 08:00:00</td>\n",
              "      <td>c971fb21-d54c-4134-938f-16b62ee86d3b</td>\n",
              "      <td>68490</td>\n",
              "      <td>чехол для гладильной доски festival 137x60 см ...</td>\n",
              "      <td>1</td>\n",
              "      <td>1162.00000</td>\n",
              "      <td>1162.00000</td>\n",
              "      <td>Tuesday</td>\n",
              "      <td>October</td>\n",
              "    </tr>\n",
              "    <tr>\n",
              "      <th>21</th>\n",
              "      <td>2018-10-02 10:00:00</td>\n",
              "      <td>4d93d3f6-8b24-403b-a74b-f5173e40d7db</td>\n",
              "      <td>68491</td>\n",
              "      <td>сумка-тележка 2-х колесная gimi argo синяя</td>\n",
              "      <td>1</td>\n",
              "      <td>1049.00000</td>\n",
              "      <td>1049.00000</td>\n",
              "      <td>Tuesday</td>\n",
              "      <td>October</td>\n",
              "    </tr>\n",
              "    <tr>\n",
              "      <th>42</th>\n",
              "      <td>2018-10-02 11:00:00</td>\n",
              "      <td>4d93d3f6-8b24-403b-a74b-f5173e40d7db</td>\n",
              "      <td>68493</td>\n",
              "      <td>щетка-сметка 3-х рядная деревянная 450 мм (пло...</td>\n",
              "      <td>15</td>\n",
              "      <td>49.00000</td>\n",
              "      <td>735.00000</td>\n",
              "      <td>Tuesday</td>\n",
              "      <td>October</td>\n",
              "    </tr>\n",
              "  </tbody>\n",
              "</table>\n",
              "</div>\n",
              "      <button class=\"colab-df-convert\" onclick=\"convertToInteractive('df-5f1e2d46-963a-43e1-a588-25fedba9c6c5')\"\n",
              "              title=\"Convert this dataframe to an interactive table.\"\n",
              "              style=\"display:none;\">\n",
              "        \n",
              "  <svg xmlns=\"http://www.w3.org/2000/svg\" height=\"24px\"viewBox=\"0 0 24 24\"\n",
              "       width=\"24px\">\n",
              "    <path d=\"M0 0h24v24H0V0z\" fill=\"none\"/>\n",
              "    <path d=\"M18.56 5.44l.94 2.06.94-2.06 2.06-.94-2.06-.94-.94-2.06-.94 2.06-2.06.94zm-11 1L8.5 8.5l.94-2.06 2.06-.94-2.06-.94L8.5 2.5l-.94 2.06-2.06.94zm10 10l.94 2.06.94-2.06 2.06-.94-2.06-.94-.94-2.06-.94 2.06-2.06.94z\"/><path d=\"M17.41 7.96l-1.37-1.37c-.4-.4-.92-.59-1.43-.59-.52 0-1.04.2-1.43.59L10.3 9.45l-7.72 7.72c-.78.78-.78 2.05 0 2.83L4 21.41c.39.39.9.59 1.41.59.51 0 1.02-.2 1.41-.59l7.78-7.78 2.81-2.81c.8-.78.8-2.07 0-2.86zM5.41 20L4 18.59l7.72-7.72 1.47 1.35L5.41 20z\"/>\n",
              "  </svg>\n",
              "      </button>\n",
              "      \n",
              "  <style>\n",
              "    .colab-df-container {\n",
              "      display:flex;\n",
              "      flex-wrap:wrap;\n",
              "      gap: 12px;\n",
              "    }\n",
              "\n",
              "    .colab-df-convert {\n",
              "      background-color: #E8F0FE;\n",
              "      border: none;\n",
              "      border-radius: 50%;\n",
              "      cursor: pointer;\n",
              "      display: none;\n",
              "      fill: #1967D2;\n",
              "      height: 32px;\n",
              "      padding: 0 0 0 0;\n",
              "      width: 32px;\n",
              "    }\n",
              "\n",
              "    .colab-df-convert:hover {\n",
              "      background-color: #E2EBFA;\n",
              "      box-shadow: 0px 1px 2px rgba(60, 64, 67, 0.3), 0px 1px 3px 1px rgba(60, 64, 67, 0.15);\n",
              "      fill: #174EA6;\n",
              "    }\n",
              "\n",
              "    [theme=dark] .colab-df-convert {\n",
              "      background-color: #3B4455;\n",
              "      fill: #D2E3FC;\n",
              "    }\n",
              "\n",
              "    [theme=dark] .colab-df-convert:hover {\n",
              "      background-color: #434B5C;\n",
              "      box-shadow: 0px 1px 3px 1px rgba(0, 0, 0, 0.15);\n",
              "      filter: drop-shadow(0px 1px 2px rgba(0, 0, 0, 0.3));\n",
              "      fill: #FFFFFF;\n",
              "    }\n",
              "  </style>\n",
              "\n",
              "      <script>\n",
              "        const buttonEl =\n",
              "          document.querySelector('#df-5f1e2d46-963a-43e1-a588-25fedba9c6c5 button.colab-df-convert');\n",
              "        buttonEl.style.display =\n",
              "          google.colab.kernel.accessAllowed ? 'block' : 'none';\n",
              "\n",
              "        async function convertToInteractive(key) {\n",
              "          const element = document.querySelector('#df-5f1e2d46-963a-43e1-a588-25fedba9c6c5');\n",
              "          const dataTable =\n",
              "            await google.colab.kernel.invokeFunction('convertToInteractive',\n",
              "                                                     [key], {});\n",
              "          if (!dataTable) return;\n",
              "\n",
              "          const docLinkHtml = 'Like what you see? Visit the ' +\n",
              "            '<a target=\"_blank\" href=https://colab.research.google.com/notebooks/data_table.ipynb>data table notebook</a>'\n",
              "            + ' to learn more about interactive tables.';\n",
              "          element.innerHTML = '';\n",
              "          dataTable['output_type'] = 'display_data';\n",
              "          await google.colab.output.renderOutput(dataTable, element);\n",
              "          const docLink = document.createElement('div');\n",
              "          docLink.innerHTML = docLinkHtml;\n",
              "          element.appendChild(docLink);\n",
              "        }\n",
              "      </script>\n",
              "    </div>\n",
              "  </div>\n",
              "  "
            ]
          },
          "metadata": {},
          "execution_count": 34
        }
      ]
    },
    {
      "cell_type": "code",
      "source": [
        "opt_df.groupby('customer_id')['revenue'].agg(['count', 'sum'])"
      ],
      "metadata": {
        "colab": {
          "base_uri": "https://localhost:8080/",
          "height": 300
        },
        "id": "0c2_fH1nLUuE",
        "outputId": "a333360f-85a8-4428-d7ef-0f8f8a94d1ac"
      },
      "execution_count": null,
      "outputs": [
        {
          "output_type": "execute_result",
          "data": {
            "text/plain": [
              "                                      count          sum\n",
              "customer_id                                             \n",
              "146cd9bf-a95c-4afb-915b-5f6684b17444      1  49432.00000\n",
              "312e9a3e-5fca-43ff-a6a1-892d2b2d5ba6      1 675000.00000\n",
              "498f12a4-6a62-4725-8516-cf5dc9ab8a3a      4  41900.00000\n",
              "4d93d3f6-8b24-403b-a74b-f5173e40d7db     45  57278.00000\n",
              "5d189e88-d4d6-4eac-ab43-fa65a3c4d106      1  15300.00000\n",
              "8fba3604-ef57-4b9f-b2fe-3402fa8825c8      6  33680.00000\n",
              "c971fb21-d54c-4134-938f-16b62ee86d3b    143 159508.00000"
            ],
            "text/html": [
              "\n",
              "  <div id=\"df-a7bcdd71-0d61-4487-b83e-a0eee5c83eb0\">\n",
              "    <div class=\"colab-df-container\">\n",
              "      <div>\n",
              "<style scoped>\n",
              "    .dataframe tbody tr th:only-of-type {\n",
              "        vertical-align: middle;\n",
              "    }\n",
              "\n",
              "    .dataframe tbody tr th {\n",
              "        vertical-align: top;\n",
              "    }\n",
              "\n",
              "    .dataframe thead th {\n",
              "        text-align: right;\n",
              "    }\n",
              "</style>\n",
              "<table border=\"1\" class=\"dataframe\">\n",
              "  <thead>\n",
              "    <tr style=\"text-align: right;\">\n",
              "      <th></th>\n",
              "      <th>count</th>\n",
              "      <th>sum</th>\n",
              "    </tr>\n",
              "    <tr>\n",
              "      <th>customer_id</th>\n",
              "      <th></th>\n",
              "      <th></th>\n",
              "    </tr>\n",
              "  </thead>\n",
              "  <tbody>\n",
              "    <tr>\n",
              "      <th>146cd9bf-a95c-4afb-915b-5f6684b17444</th>\n",
              "      <td>1</td>\n",
              "      <td>49432.00000</td>\n",
              "    </tr>\n",
              "    <tr>\n",
              "      <th>312e9a3e-5fca-43ff-a6a1-892d2b2d5ba6</th>\n",
              "      <td>1</td>\n",
              "      <td>675000.00000</td>\n",
              "    </tr>\n",
              "    <tr>\n",
              "      <th>498f12a4-6a62-4725-8516-cf5dc9ab8a3a</th>\n",
              "      <td>4</td>\n",
              "      <td>41900.00000</td>\n",
              "    </tr>\n",
              "    <tr>\n",
              "      <th>4d93d3f6-8b24-403b-a74b-f5173e40d7db</th>\n",
              "      <td>45</td>\n",
              "      <td>57278.00000</td>\n",
              "    </tr>\n",
              "    <tr>\n",
              "      <th>5d189e88-d4d6-4eac-ab43-fa65a3c4d106</th>\n",
              "      <td>1</td>\n",
              "      <td>15300.00000</td>\n",
              "    </tr>\n",
              "    <tr>\n",
              "      <th>8fba3604-ef57-4b9f-b2fe-3402fa8825c8</th>\n",
              "      <td>6</td>\n",
              "      <td>33680.00000</td>\n",
              "    </tr>\n",
              "    <tr>\n",
              "      <th>c971fb21-d54c-4134-938f-16b62ee86d3b</th>\n",
              "      <td>143</td>\n",
              "      <td>159508.00000</td>\n",
              "    </tr>\n",
              "  </tbody>\n",
              "</table>\n",
              "</div>\n",
              "      <button class=\"colab-df-convert\" onclick=\"convertToInteractive('df-a7bcdd71-0d61-4487-b83e-a0eee5c83eb0')\"\n",
              "              title=\"Convert this dataframe to an interactive table.\"\n",
              "              style=\"display:none;\">\n",
              "        \n",
              "  <svg xmlns=\"http://www.w3.org/2000/svg\" height=\"24px\"viewBox=\"0 0 24 24\"\n",
              "       width=\"24px\">\n",
              "    <path d=\"M0 0h24v24H0V0z\" fill=\"none\"/>\n",
              "    <path d=\"M18.56 5.44l.94 2.06.94-2.06 2.06-.94-2.06-.94-.94-2.06-.94 2.06-2.06.94zm-11 1L8.5 8.5l.94-2.06 2.06-.94-2.06-.94L8.5 2.5l-.94 2.06-2.06.94zm10 10l.94 2.06.94-2.06 2.06-.94-2.06-.94-.94-2.06-.94 2.06-2.06.94z\"/><path d=\"M17.41 7.96l-1.37-1.37c-.4-.4-.92-.59-1.43-.59-.52 0-1.04.2-1.43.59L10.3 9.45l-7.72 7.72c-.78.78-.78 2.05 0 2.83L4 21.41c.39.39.9.59 1.41.59.51 0 1.02-.2 1.41-.59l7.78-7.78 2.81-2.81c.8-.78.8-2.07 0-2.86zM5.41 20L4 18.59l7.72-7.72 1.47 1.35L5.41 20z\"/>\n",
              "  </svg>\n",
              "      </button>\n",
              "      \n",
              "  <style>\n",
              "    .colab-df-container {\n",
              "      display:flex;\n",
              "      flex-wrap:wrap;\n",
              "      gap: 12px;\n",
              "    }\n",
              "\n",
              "    .colab-df-convert {\n",
              "      background-color: #E8F0FE;\n",
              "      border: none;\n",
              "      border-radius: 50%;\n",
              "      cursor: pointer;\n",
              "      display: none;\n",
              "      fill: #1967D2;\n",
              "      height: 32px;\n",
              "      padding: 0 0 0 0;\n",
              "      width: 32px;\n",
              "    }\n",
              "\n",
              "    .colab-df-convert:hover {\n",
              "      background-color: #E2EBFA;\n",
              "      box-shadow: 0px 1px 2px rgba(60, 64, 67, 0.3), 0px 1px 3px 1px rgba(60, 64, 67, 0.15);\n",
              "      fill: #174EA6;\n",
              "    }\n",
              "\n",
              "    [theme=dark] .colab-df-convert {\n",
              "      background-color: #3B4455;\n",
              "      fill: #D2E3FC;\n",
              "    }\n",
              "\n",
              "    [theme=dark] .colab-df-convert:hover {\n",
              "      background-color: #434B5C;\n",
              "      box-shadow: 0px 1px 3px 1px rgba(0, 0, 0, 0.15);\n",
              "      filter: drop-shadow(0px 1px 2px rgba(0, 0, 0, 0.3));\n",
              "      fill: #FFFFFF;\n",
              "    }\n",
              "  </style>\n",
              "\n",
              "      <script>\n",
              "        const buttonEl =\n",
              "          document.querySelector('#df-a7bcdd71-0d61-4487-b83e-a0eee5c83eb0 button.colab-df-convert');\n",
              "        buttonEl.style.display =\n",
              "          google.colab.kernel.accessAllowed ? 'block' : 'none';\n",
              "\n",
              "        async function convertToInteractive(key) {\n",
              "          const element = document.querySelector('#df-a7bcdd71-0d61-4487-b83e-a0eee5c83eb0');\n",
              "          const dataTable =\n",
              "            await google.colab.kernel.invokeFunction('convertToInteractive',\n",
              "                                                     [key], {});\n",
              "          if (!dataTable) return;\n",
              "\n",
              "          const docLinkHtml = 'Like what you see? Visit the ' +\n",
              "            '<a target=\"_blank\" href=https://colab.research.google.com/notebooks/data_table.ipynb>data table notebook</a>'\n",
              "            + ' to learn more about interactive tables.';\n",
              "          element.innerHTML = '';\n",
              "          dataTable['output_type'] = 'display_data';\n",
              "          await google.colab.output.renderOutput(dataTable, element);\n",
              "          const docLink = document.createElement('div');\n",
              "          docLink.innerHTML = docLinkHtml;\n",
              "          element.appendChild(docLink);\n",
              "        }\n",
              "      </script>\n",
              "    </div>\n",
              "  </div>\n",
              "  "
            ]
          },
          "metadata": {},
          "execution_count": 35
        }
      ]
    },
    {
      "cell_type": "code",
      "source": [
        "df = df.query('customer_id != @list_opt')\n",
        "df.head()"
      ],
      "metadata": {
        "colab": {
          "base_uri": "https://localhost:8080/",
          "height": 337
        },
        "id": "cZkyXqcztz4Y",
        "outputId": "3bdecc9b-0d11-4c97-b141-fc5d68454d9c"
      },
      "execution_count": null,
      "outputs": [
        {
          "output_type": "execute_result",
          "data": {
            "text/plain": [
              "                    date                           customer_id  order_id  \\\n",
              "512  2018-10-28 22:00:00  0b5ce2c7-acef-4a9a-b821-61a44ed05557     68785   \n",
              "1154 2018-12-10 12:00:00  2f955596-4b13-432e-93f3-6433395aafe6     69283   \n",
              "1177 2018-12-11 21:00:00  954172a5-634c-4a50-941d-9db6d15a7377     69310   \n",
              "1196 2018-12-13 19:00:00  70d60304-4b3c-4f34-9430-1872ec6e6309     69345   \n",
              "1237 2018-12-17 14:00:00  4ea06f66-0876-4dec-8d14-ea994ffe435f     69410   \n",
              "\n",
              "                                                product  quantity     price  \\\n",
              "512        сиденье в ванну раздвижное, белый, св5, ника         1 374.00000   \n",
              "1154  сушилка для белья на батарею ника сб6-65 двухъ...         1 164.00000   \n",
              "1177               муляж груша желтый 9,5 см полиуретан         7  59.00000   \n",
              "1196  сушилка для белья attribute прима 18 м синяя a...         1 974.00000   \n",
              "1237                                  муляж желудь 2 шт         3  22.00000   \n",
              "\n",
              "       revenue   dayweek     month  \n",
              "512  374.00000    Sunday   October  \n",
              "1154 164.00000    Monday  December  \n",
              "1177 413.00000   Tuesday  December  \n",
              "1196 974.00000  Thursday  December  \n",
              "1237  66.00000    Monday  December  "
            ],
            "text/html": [
              "\n",
              "  <div id=\"df-1c657c4d-ab92-4a0a-bd61-d671111fc5ca\">\n",
              "    <div class=\"colab-df-container\">\n",
              "      <div>\n",
              "<style scoped>\n",
              "    .dataframe tbody tr th:only-of-type {\n",
              "        vertical-align: middle;\n",
              "    }\n",
              "\n",
              "    .dataframe tbody tr th {\n",
              "        vertical-align: top;\n",
              "    }\n",
              "\n",
              "    .dataframe thead th {\n",
              "        text-align: right;\n",
              "    }\n",
              "</style>\n",
              "<table border=\"1\" class=\"dataframe\">\n",
              "  <thead>\n",
              "    <tr style=\"text-align: right;\">\n",
              "      <th></th>\n",
              "      <th>date</th>\n",
              "      <th>customer_id</th>\n",
              "      <th>order_id</th>\n",
              "      <th>product</th>\n",
              "      <th>quantity</th>\n",
              "      <th>price</th>\n",
              "      <th>revenue</th>\n",
              "      <th>dayweek</th>\n",
              "      <th>month</th>\n",
              "    </tr>\n",
              "  </thead>\n",
              "  <tbody>\n",
              "    <tr>\n",
              "      <th>512</th>\n",
              "      <td>2018-10-28 22:00:00</td>\n",
              "      <td>0b5ce2c7-acef-4a9a-b821-61a44ed05557</td>\n",
              "      <td>68785</td>\n",
              "      <td>сиденье в ванну раздвижное, белый, св5, ника</td>\n",
              "      <td>1</td>\n",
              "      <td>374.00000</td>\n",
              "      <td>374.00000</td>\n",
              "      <td>Sunday</td>\n",
              "      <td>October</td>\n",
              "    </tr>\n",
              "    <tr>\n",
              "      <th>1154</th>\n",
              "      <td>2018-12-10 12:00:00</td>\n",
              "      <td>2f955596-4b13-432e-93f3-6433395aafe6</td>\n",
              "      <td>69283</td>\n",
              "      <td>сушилка для белья на батарею ника сб6-65 двухъ...</td>\n",
              "      <td>1</td>\n",
              "      <td>164.00000</td>\n",
              "      <td>164.00000</td>\n",
              "      <td>Monday</td>\n",
              "      <td>December</td>\n",
              "    </tr>\n",
              "    <tr>\n",
              "      <th>1177</th>\n",
              "      <td>2018-12-11 21:00:00</td>\n",
              "      <td>954172a5-634c-4a50-941d-9db6d15a7377</td>\n",
              "      <td>69310</td>\n",
              "      <td>муляж груша желтый 9,5 см полиуретан</td>\n",
              "      <td>7</td>\n",
              "      <td>59.00000</td>\n",
              "      <td>413.00000</td>\n",
              "      <td>Tuesday</td>\n",
              "      <td>December</td>\n",
              "    </tr>\n",
              "    <tr>\n",
              "      <th>1196</th>\n",
              "      <td>2018-12-13 19:00:00</td>\n",
              "      <td>70d60304-4b3c-4f34-9430-1872ec6e6309</td>\n",
              "      <td>69345</td>\n",
              "      <td>сушилка для белья attribute прима 18 м синяя a...</td>\n",
              "      <td>1</td>\n",
              "      <td>974.00000</td>\n",
              "      <td>974.00000</td>\n",
              "      <td>Thursday</td>\n",
              "      <td>December</td>\n",
              "    </tr>\n",
              "    <tr>\n",
              "      <th>1237</th>\n",
              "      <td>2018-12-17 14:00:00</td>\n",
              "      <td>4ea06f66-0876-4dec-8d14-ea994ffe435f</td>\n",
              "      <td>69410</td>\n",
              "      <td>муляж желудь 2 шт</td>\n",
              "      <td>3</td>\n",
              "      <td>22.00000</td>\n",
              "      <td>66.00000</td>\n",
              "      <td>Monday</td>\n",
              "      <td>December</td>\n",
              "    </tr>\n",
              "  </tbody>\n",
              "</table>\n",
              "</div>\n",
              "      <button class=\"colab-df-convert\" onclick=\"convertToInteractive('df-1c657c4d-ab92-4a0a-bd61-d671111fc5ca')\"\n",
              "              title=\"Convert this dataframe to an interactive table.\"\n",
              "              style=\"display:none;\">\n",
              "        \n",
              "  <svg xmlns=\"http://www.w3.org/2000/svg\" height=\"24px\"viewBox=\"0 0 24 24\"\n",
              "       width=\"24px\">\n",
              "    <path d=\"M0 0h24v24H0V0z\" fill=\"none\"/>\n",
              "    <path d=\"M18.56 5.44l.94 2.06.94-2.06 2.06-.94-2.06-.94-.94-2.06-.94 2.06-2.06.94zm-11 1L8.5 8.5l.94-2.06 2.06-.94-2.06-.94L8.5 2.5l-.94 2.06-2.06.94zm10 10l.94 2.06.94-2.06 2.06-.94-2.06-.94-.94-2.06-.94 2.06-2.06.94z\"/><path d=\"M17.41 7.96l-1.37-1.37c-.4-.4-.92-.59-1.43-.59-.52 0-1.04.2-1.43.59L10.3 9.45l-7.72 7.72c-.78.78-.78 2.05 0 2.83L4 21.41c.39.39.9.59 1.41.59.51 0 1.02-.2 1.41-.59l7.78-7.78 2.81-2.81c.8-.78.8-2.07 0-2.86zM5.41 20L4 18.59l7.72-7.72 1.47 1.35L5.41 20z\"/>\n",
              "  </svg>\n",
              "      </button>\n",
              "      \n",
              "  <style>\n",
              "    .colab-df-container {\n",
              "      display:flex;\n",
              "      flex-wrap:wrap;\n",
              "      gap: 12px;\n",
              "    }\n",
              "\n",
              "    .colab-df-convert {\n",
              "      background-color: #E8F0FE;\n",
              "      border: none;\n",
              "      border-radius: 50%;\n",
              "      cursor: pointer;\n",
              "      display: none;\n",
              "      fill: #1967D2;\n",
              "      height: 32px;\n",
              "      padding: 0 0 0 0;\n",
              "      width: 32px;\n",
              "    }\n",
              "\n",
              "    .colab-df-convert:hover {\n",
              "      background-color: #E2EBFA;\n",
              "      box-shadow: 0px 1px 2px rgba(60, 64, 67, 0.3), 0px 1px 3px 1px rgba(60, 64, 67, 0.15);\n",
              "      fill: #174EA6;\n",
              "    }\n",
              "\n",
              "    [theme=dark] .colab-df-convert {\n",
              "      background-color: #3B4455;\n",
              "      fill: #D2E3FC;\n",
              "    }\n",
              "\n",
              "    [theme=dark] .colab-df-convert:hover {\n",
              "      background-color: #434B5C;\n",
              "      box-shadow: 0px 1px 3px 1px rgba(0, 0, 0, 0.15);\n",
              "      filter: drop-shadow(0px 1px 2px rgba(0, 0, 0, 0.3));\n",
              "      fill: #FFFFFF;\n",
              "    }\n",
              "  </style>\n",
              "\n",
              "      <script>\n",
              "        const buttonEl =\n",
              "          document.querySelector('#df-1c657c4d-ab92-4a0a-bd61-d671111fc5ca button.colab-df-convert');\n",
              "        buttonEl.style.display =\n",
              "          google.colab.kernel.accessAllowed ? 'block' : 'none';\n",
              "\n",
              "        async function convertToInteractive(key) {\n",
              "          const element = document.querySelector('#df-1c657c4d-ab92-4a0a-bd61-d671111fc5ca');\n",
              "          const dataTable =\n",
              "            await google.colab.kernel.invokeFunction('convertToInteractive',\n",
              "                                                     [key], {});\n",
              "          if (!dataTable) return;\n",
              "\n",
              "          const docLinkHtml = 'Like what you see? Visit the ' +\n",
              "            '<a target=\"_blank\" href=https://colab.research.google.com/notebooks/data_table.ipynb>data table notebook</a>'\n",
              "            + ' to learn more about interactive tables.';\n",
              "          element.innerHTML = '';\n",
              "          dataTable['output_type'] = 'display_data';\n",
              "          await google.colab.output.renderOutput(dataTable, element);\n",
              "          const docLink = document.createElement('div');\n",
              "          docLink.innerHTML = docLinkHtml;\n",
              "          element.appendChild(docLink);\n",
              "        }\n",
              "      </script>\n",
              "    </div>\n",
              "  </div>\n",
              "  "
            ]
          },
          "metadata": {},
          "execution_count": 36
        }
      ]
    },
    {
      "cell_type": "code",
      "source": [
        "df.describe()"
      ],
      "metadata": {
        "colab": {
          "base_uri": "https://localhost:8080/",
          "height": 300
        },
        "id": "iVfvdKNA67FE",
        "outputId": "24851827-acaf-4fab-a836-6af486f999cc"
      },
      "execution_count": null,
      "outputs": [
        {
          "output_type": "execute_result",
          "data": {
            "text/plain": [
              "         order_id   quantity       price     revenue\n",
              "count  4638.00000 4638.00000  4638.00000  4638.00000\n",
              "mean  47186.76434    2.40707   500.90319   665.03105\n",
              "std   27583.43267    7.93120   937.98406  1446.22870\n",
              "min   12624.00000    1.00000     9.00000     9.00000\n",
              "25%   14765.00000    1.00000    90.00000   120.00000\n",
              "50%   68834.00000    1.00000   150.00000   188.00000\n",
              "75%   70890.25000    1.00000   472.00000   697.00000\n",
              "max   73164.00000  200.00000 14917.00000 47385.00000"
            ],
            "text/html": [
              "\n",
              "  <div id=\"df-428ae70b-eeda-4141-a672-8637788e7378\">\n",
              "    <div class=\"colab-df-container\">\n",
              "      <div>\n",
              "<style scoped>\n",
              "    .dataframe tbody tr th:only-of-type {\n",
              "        vertical-align: middle;\n",
              "    }\n",
              "\n",
              "    .dataframe tbody tr th {\n",
              "        vertical-align: top;\n",
              "    }\n",
              "\n",
              "    .dataframe thead th {\n",
              "        text-align: right;\n",
              "    }\n",
              "</style>\n",
              "<table border=\"1\" class=\"dataframe\">\n",
              "  <thead>\n",
              "    <tr style=\"text-align: right;\">\n",
              "      <th></th>\n",
              "      <th>order_id</th>\n",
              "      <th>quantity</th>\n",
              "      <th>price</th>\n",
              "      <th>revenue</th>\n",
              "    </tr>\n",
              "  </thead>\n",
              "  <tbody>\n",
              "    <tr>\n",
              "      <th>count</th>\n",
              "      <td>4638.00000</td>\n",
              "      <td>4638.00000</td>\n",
              "      <td>4638.00000</td>\n",
              "      <td>4638.00000</td>\n",
              "    </tr>\n",
              "    <tr>\n",
              "      <th>mean</th>\n",
              "      <td>47186.76434</td>\n",
              "      <td>2.40707</td>\n",
              "      <td>500.90319</td>\n",
              "      <td>665.03105</td>\n",
              "    </tr>\n",
              "    <tr>\n",
              "      <th>std</th>\n",
              "      <td>27583.43267</td>\n",
              "      <td>7.93120</td>\n",
              "      <td>937.98406</td>\n",
              "      <td>1446.22870</td>\n",
              "    </tr>\n",
              "    <tr>\n",
              "      <th>min</th>\n",
              "      <td>12624.00000</td>\n",
              "      <td>1.00000</td>\n",
              "      <td>9.00000</td>\n",
              "      <td>9.00000</td>\n",
              "    </tr>\n",
              "    <tr>\n",
              "      <th>25%</th>\n",
              "      <td>14765.00000</td>\n",
              "      <td>1.00000</td>\n",
              "      <td>90.00000</td>\n",
              "      <td>120.00000</td>\n",
              "    </tr>\n",
              "    <tr>\n",
              "      <th>50%</th>\n",
              "      <td>68834.00000</td>\n",
              "      <td>1.00000</td>\n",
              "      <td>150.00000</td>\n",
              "      <td>188.00000</td>\n",
              "    </tr>\n",
              "    <tr>\n",
              "      <th>75%</th>\n",
              "      <td>70890.25000</td>\n",
              "      <td>1.00000</td>\n",
              "      <td>472.00000</td>\n",
              "      <td>697.00000</td>\n",
              "    </tr>\n",
              "    <tr>\n",
              "      <th>max</th>\n",
              "      <td>73164.00000</td>\n",
              "      <td>200.00000</td>\n",
              "      <td>14917.00000</td>\n",
              "      <td>47385.00000</td>\n",
              "    </tr>\n",
              "  </tbody>\n",
              "</table>\n",
              "</div>\n",
              "      <button class=\"colab-df-convert\" onclick=\"convertToInteractive('df-428ae70b-eeda-4141-a672-8637788e7378')\"\n",
              "              title=\"Convert this dataframe to an interactive table.\"\n",
              "              style=\"display:none;\">\n",
              "        \n",
              "  <svg xmlns=\"http://www.w3.org/2000/svg\" height=\"24px\"viewBox=\"0 0 24 24\"\n",
              "       width=\"24px\">\n",
              "    <path d=\"M0 0h24v24H0V0z\" fill=\"none\"/>\n",
              "    <path d=\"M18.56 5.44l.94 2.06.94-2.06 2.06-.94-2.06-.94-.94-2.06-.94 2.06-2.06.94zm-11 1L8.5 8.5l.94-2.06 2.06-.94-2.06-.94L8.5 2.5l-.94 2.06-2.06.94zm10 10l.94 2.06.94-2.06 2.06-.94-2.06-.94-.94-2.06-.94 2.06-2.06.94z\"/><path d=\"M17.41 7.96l-1.37-1.37c-.4-.4-.92-.59-1.43-.59-.52 0-1.04.2-1.43.59L10.3 9.45l-7.72 7.72c-.78.78-.78 2.05 0 2.83L4 21.41c.39.39.9.59 1.41.59.51 0 1.02-.2 1.41-.59l7.78-7.78 2.81-2.81c.8-.78.8-2.07 0-2.86zM5.41 20L4 18.59l7.72-7.72 1.47 1.35L5.41 20z\"/>\n",
              "  </svg>\n",
              "      </button>\n",
              "      \n",
              "  <style>\n",
              "    .colab-df-container {\n",
              "      display:flex;\n",
              "      flex-wrap:wrap;\n",
              "      gap: 12px;\n",
              "    }\n",
              "\n",
              "    .colab-df-convert {\n",
              "      background-color: #E8F0FE;\n",
              "      border: none;\n",
              "      border-radius: 50%;\n",
              "      cursor: pointer;\n",
              "      display: none;\n",
              "      fill: #1967D2;\n",
              "      height: 32px;\n",
              "      padding: 0 0 0 0;\n",
              "      width: 32px;\n",
              "    }\n",
              "\n",
              "    .colab-df-convert:hover {\n",
              "      background-color: #E2EBFA;\n",
              "      box-shadow: 0px 1px 2px rgba(60, 64, 67, 0.3), 0px 1px 3px 1px rgba(60, 64, 67, 0.15);\n",
              "      fill: #174EA6;\n",
              "    }\n",
              "\n",
              "    [theme=dark] .colab-df-convert {\n",
              "      background-color: #3B4455;\n",
              "      fill: #D2E3FC;\n",
              "    }\n",
              "\n",
              "    [theme=dark] .colab-df-convert:hover {\n",
              "      background-color: #434B5C;\n",
              "      box-shadow: 0px 1px 3px 1px rgba(0, 0, 0, 0.15);\n",
              "      filter: drop-shadow(0px 1px 2px rgba(0, 0, 0, 0.3));\n",
              "      fill: #FFFFFF;\n",
              "    }\n",
              "  </style>\n",
              "\n",
              "      <script>\n",
              "        const buttonEl =\n",
              "          document.querySelector('#df-428ae70b-eeda-4141-a672-8637788e7378 button.colab-df-convert');\n",
              "        buttonEl.style.display =\n",
              "          google.colab.kernel.accessAllowed ? 'block' : 'none';\n",
              "\n",
              "        async function convertToInteractive(key) {\n",
              "          const element = document.querySelector('#df-428ae70b-eeda-4141-a672-8637788e7378');\n",
              "          const dataTable =\n",
              "            await google.colab.kernel.invokeFunction('convertToInteractive',\n",
              "                                                     [key], {});\n",
              "          if (!dataTable) return;\n",
              "\n",
              "          const docLinkHtml = 'Like what you see? Visit the ' +\n",
              "            '<a target=\"_blank\" href=https://colab.research.google.com/notebooks/data_table.ipynb>data table notebook</a>'\n",
              "            + ' to learn more about interactive tables.';\n",
              "          element.innerHTML = '';\n",
              "          dataTable['output_type'] = 'display_data';\n",
              "          await google.colab.output.renderOutput(dataTable, element);\n",
              "          const docLink = document.createElement('div');\n",
              "          docLink.innerHTML = docLinkHtml;\n",
              "          element.appendChild(docLink);\n",
              "        }\n",
              "      </script>\n",
              "    </div>\n",
              "  </div>\n",
              "  "
            ]
          },
          "metadata": {},
          "execution_count": 37
        }
      ]
    },
    {
      "cell_type": "markdown",
      "source": [
        "- после разделения, основная таблица стала с более реальными значениями"
      ],
      "metadata": {
        "id": "p8WNIV9V72q0"
      }
    },
    {
      "cell_type": "markdown",
      "source": [
        "# 🧮 4. Агрегированние данных"
      ],
      "metadata": {
        "id": "brJqAERVNnxh"
      }
    },
    {
      "cell_type": "markdown",
      "source": [
        "## 4.1 Категории товаров"
      ],
      "metadata": {
        "id": "33nCI4nnRrhj"
      }
    },
    {
      "cell_type": "markdown",
      "source": [
        "- Чтобы сделать категории товаров, возьмем первое слово из колонки product, создадим цикл где нам будет выводится слово, мы будем вручную для него писать категорию."
      ],
      "metadata": {
        "id": "rpNhLQD_YCmz"
      }
    },
    {
      "cell_type": "code",
      "source": [
        "#category_dict = defaultdict(list)\n",
        "\n",
        "#category_list = list(dict.fromkeys(df['product'].sort_values().str.split().str.get(0)))\n",
        "\n",
        "#полуавтоматическй цикл опередления слов в категории\n",
        "#for i in range(len(category_list)):\n",
        "#    print(category_list[i])\n",
        "#    category = input()\n",
        "#    category_dict[category].append(category_list[i])\n",
        "#    print('======')"
      ],
      "metadata": {
        "id": "7a6nC_OrSKlm"
      },
      "execution_count": null,
      "outputs": []
    },
    {
      "cell_type": "code",
      "source": [
        "# словарь категорий\n",
        "category_dict = {'посуда': ['tepмокружка', 'бак', 'банка', 'бидон', 'блюдо', 'блюдце', 'бульонница', 'венчик', 'вилка', 'кастрюля', 'ковш', 'корыто', 'кружка', 'крышка', 'кувшин', 'кухонное', 'кухонные', 'ложка', 'лопатка', 'мерный', 'мини-сковорода', 'миска', 'нож', 'половник', 'противень', 'разделочная', 'рыбочистка', 'салатник', 'сахарница', 'скалка', 'сковорода', 'стакан', 'стеклянная', 'столовая', 'столовый', 'таз', 'тарелка', 'терка', 'термокружка', 'термос', 'термостакан', 'толкушка', 'фарфоровая', 'хлебница', 'чайная', 'чайник', 'чайный'], 'хозтовары': ['автоматическая', 'антижир', 'антинакипин', 'ароматизированное', 'бальзам', 'бельевые', 'бензин', 'ваза', 'ванна', 'вантуз', 'ведро', 'веник', 'веревка', 'весы', 'гипоаллергенный', 'гладильная', 'готовая', 'губка', 'дозатор', 'ерш', 'жидкое', 'запасная', 'защитная', 'защитный', 'иссоп', 'кипятильник', 'кисточка', 'ключница', 'кольца', 'комплект', 'концентрат', 'котовник', 'кофр', 'крепеж', 'масленка', 'молодило', 'мыло', 'мыло-скраб', 'мыльница', 'набор', 'насадка-моп', 'насадка-отжим', 'ножеточка', 'овощечистка', 'ополаскиватель', 'основание', 'отбеливатель', 'отделитель', 'отжим', 'паста', 'пена', 'перчатки', 'подарочный', 'подголовник', 'подставка', 'портулак', 'прищепки', 'пробка', 'пружина', 'пьезозажигалка', 'решетка', 'ролик', 'ручка', 'ручка-скоба', 'салфетница', 'сито', 'скребок', 'сменная', 'сменный', 'совок', 'средство', 'стиральный', 'стяжка', 'стяжки', 'тряпкодержатель', 'увлажняющая', 'универсальное', 'универсальный', 'фал', 'форма', 'холодная', 'чистящий', 'шнур', 'шпагат', 'шпингалет'], 'растения': ['агератум', 'адиантум', 'азалия', 'аквилегия', 'алиссум', 'алоэ', 'альбука', 'амариллис', 'анемона', 'антуриум', 'аптения', 'арбуз', 'аргирантерум', 'артемизия', 'аспарагус', 'астра', 'афеляндра', 'бадан', 'базилик', 'баклажан', 'бакопа', 'бальзамин', 'барвинок', 'бархатцы', 'бегония', 'буддлея', 'бузульник', 'валериана', 'вербейник', 'вербена', 'вероника', 'вигна', 'виола', 'газания', 'гайлардия', 'гардения', 'гвоздика', 'георгина', 'герань', 'гербера', 'гиацинт', 'гимнокалициум', 'гиностемма', 'гипсофила', 'глоксиния', 'годеция', 'горох', 'гортензия', 'девичий', 'декабрист', 'дендробиум', 'джункус', 'диффенбахия', 'драцена', 'душица', 'дыня', 'ель', 'завертка', 'замиокулькас', 'зверобой', 'земляника', 'змееголовник', 'зубная', 'импатиенс', 'кабачок', 'каланхое', 'калатея', 'календула', 'калибрахоа', 'калла', 'каллуна', 'калоцефалус', 'кампанула', 'капсикум', 'капуста', 'кипарисовик', 'клен', 'клубника', 'кодонанта', 'колеус', 'колокольчик', 'комнатное', 'кореопсис', 'кориандр', 'космея', 'кофе', 'крассула', 'крокусы', 'лаванда', 'лаватера', 'лавр', 'лантана', 'лапчатка', 'левкой', 'лен', 'лилейник', 'литопс', 'лобелия', 'лук', 'львиный', 'любисток', 'маттиола', 'мединилла', 'мелисса', 'мимоза', 'мирт', 'многолетнее', 'монарда', 'морковь', 'муррайя', 'мускари', 'мята', 'наматрасник', 'настурция', 'незабудка', 'нефролепис', 'нивянник', 'нолина', 'овсянница', 'огурец', 'однолетнее', 'осина', 'папоротник', 'патиссон', 'пахира', 'пеларгония', 'пеперомия', 'петрушка', 'петуния', 'пиретрум', 'платикодон', 'подсолнечник', 'примула', 'пряные', 'пуансетия', 'пуансеттия', 'радермахера', 'ранункулус', 'рассада', 'роза', 'розмарин', 'рудбекия', 'салат', 'сальвия', 'сантолина', 'седум', 'сельдерей', 'синнингия', 'скиммия', 'сметка', 'смолевка', 'соланум', 'солидаго', 'спатифиллум', 'суккулент', 'сциндапсус', 'табак', 'тагетис', 'тимьян', 'томат', 'томата', 'тыква', 'тюльпан', 'укроп', 'фаленопсис', 'фатсия', 'фиалка', 'физостегия', 'фикус', 'фиттония', 'флокс', 'фуксия', 'хамедорея', 'хлорофитум', 'хоста', 'хризантема', 'хризолидокарпус', 'цветок', 'цветущее', 'целозия', 'цикламен', 'цинерания', 'цинерария', 'циния', 'цинния', 'циперус', 'цитрофортунелла', 'чабер', 'шалфей', 'шеффлера', 'эвкалипт', 'энотера', 'эпипремнум', 'эхеверия', 'эхинацея', 'эхинокактус', 'эшшольция', 'юкка', 'ясколка'], 'инструмент/техника': ['вакуумный', 'измельчитель', 'измерительный', 'камнеломка', 'картофелемялка', 'кондиционер', 'котел', 'рассекатель', 'лестница', 'лестница-стремянка', 'линейка', 'мантоварка', 'мантоварка-пароварка', 'миксер', 'многофункциональный', 'овощеварка', 'окномойка', 'орехоколка', 'пресс', 'пылесос', 'сверло', 'сверло-фреза', 'соковарка', 'соковыжималка', 'сотейник', 'стремянка', 'стремянка-табурет', 'стремянки', 'термометр', 'тортница', 'утюг', 'фен', 'швабра', 'шило', 'шприц', 'штанга', 'штангенциркуль', 'щетка', 'щетка-сметка', 'щетка-утюжок', 'электроштопор'], 'хранение': ['вешалка', 'вешалка-перекладина', 'вешалка-плечики', 'вешалка-стойка', 'вешалка-сушилка', 'вешалки', 'вкладыши', 'держатель', 'емкость', 'жестяная', 'контейнер', 'корзина', 'корзинка', 'короб', 'коробка', 'крючок', 'лоток', 'мешок', 'мусорный', 'петля', 'петля-стрела', 'плечики', 'полка', 'полки', 'стеллаж', 'сумка', 'сумка-тележка', 'сушилка', 'тележка', 'уголок', 'урна', 'урна-пепельница', 'фиксатор-шар', 'чехол', 'этажерка', 'ящик'], 'текстиль': ['двуспальное', 'ковер', 'коврик', 'махровое', 'махровый', 'наволочка', 'наматрацник', 'наматрицник-чехол', 'нетканые', 'одеяло', 'плед', 'подкладка', 'пододеяльник', 'подрукавник', 'подушка', 'покрывало', 'покрытие', 'полотенце', 'простынь', 'простыня', 'рукав', 'салфетка', 'сервировочная', 'скатерть', 'ткань', 'тряпка', 'халат', 'штора'], 'сад/декор': ['декоративная', 'доска', 'искусственная', 'искусственный', 'карниз', 'комод', 'модульная', 'муляж', 'насадка', 'настенная', 'настольная', 'новогоднее', 'обувница-', 'подвесное', 'просеиватель', 'светильник', 'сетка', 'сиденье', 'складная', 'складной', 'фоторамка'], }"
      ],
      "metadata": {
        "id": "u0uc3GwaGsep"
      },
      "execution_count": null,
      "outputs": []
    },
    {
      "cell_type": "code",
      "source": [
        "# опредление категории по словарю\n",
        "def category_func(name):\n",
        "  for key, value in category_dict.items():\n",
        "    for word in value: #ищем слова в значении словаря\n",
        "      if name.find(word) > -1: #если слово найдено(True), возвращает ключ словаря\n",
        "        return key\n",
        "  return 'no_category'"
      ],
      "metadata": {
        "id": "65WRX6usfpp6"
      },
      "execution_count": null,
      "outputs": []
    },
    {
      "cell_type": "code",
      "source": [
        "df['product_category'] = df['product'].str.replace('ё','е').apply(category_func)"
      ],
      "metadata": {
        "id": "bV2a7YJjDRy0"
      },
      "execution_count": null,
      "outputs": []
    },
    {
      "cell_type": "code",
      "source": [
        "df.groupby('product_category')['revenue'].agg(['count', 'sum']).reset_index().sort_values(by='sum')"
      ],
      "metadata": {
        "colab": {
          "base_uri": "https://localhost:8080/",
          "height": 269
        },
        "id": "wyCyLuMkiVV4",
        "outputId": "bb4c7565-420a-4aa5-a41b-1c2a121ecf46"
      },
      "execution_count": null,
      "outputs": [
        {
          "output_type": "execute_result",
          "data": {
            "text/plain": [
              "     product_category  count          sum\n",
              "3           сад/декор    155  83707.00000\n",
              "0  инструмент/техника    119 170446.00000\n",
              "1              посуда    407 228513.00000\n",
              "4            текстиль    219 269208.00000\n",
              "5           хозтовары    381 455093.00000\n",
              "6            хранение    510 911231.00000\n",
              "2            растения   2847 966216.00000"
            ],
            "text/html": [
              "\n",
              "  <div id=\"df-86ee182c-0bb5-4473-9ec0-c2d11d108c0c\">\n",
              "    <div class=\"colab-df-container\">\n",
              "      <div>\n",
              "<style scoped>\n",
              "    .dataframe tbody tr th:only-of-type {\n",
              "        vertical-align: middle;\n",
              "    }\n",
              "\n",
              "    .dataframe tbody tr th {\n",
              "        vertical-align: top;\n",
              "    }\n",
              "\n",
              "    .dataframe thead th {\n",
              "        text-align: right;\n",
              "    }\n",
              "</style>\n",
              "<table border=\"1\" class=\"dataframe\">\n",
              "  <thead>\n",
              "    <tr style=\"text-align: right;\">\n",
              "      <th></th>\n",
              "      <th>product_category</th>\n",
              "      <th>count</th>\n",
              "      <th>sum</th>\n",
              "    </tr>\n",
              "  </thead>\n",
              "  <tbody>\n",
              "    <tr>\n",
              "      <th>3</th>\n",
              "      <td>сад/декор</td>\n",
              "      <td>155</td>\n",
              "      <td>83707.00000</td>\n",
              "    </tr>\n",
              "    <tr>\n",
              "      <th>0</th>\n",
              "      <td>инструмент/техника</td>\n",
              "      <td>119</td>\n",
              "      <td>170446.00000</td>\n",
              "    </tr>\n",
              "    <tr>\n",
              "      <th>1</th>\n",
              "      <td>посуда</td>\n",
              "      <td>407</td>\n",
              "      <td>228513.00000</td>\n",
              "    </tr>\n",
              "    <tr>\n",
              "      <th>4</th>\n",
              "      <td>текстиль</td>\n",
              "      <td>219</td>\n",
              "      <td>269208.00000</td>\n",
              "    </tr>\n",
              "    <tr>\n",
              "      <th>5</th>\n",
              "      <td>хозтовары</td>\n",
              "      <td>381</td>\n",
              "      <td>455093.00000</td>\n",
              "    </tr>\n",
              "    <tr>\n",
              "      <th>6</th>\n",
              "      <td>хранение</td>\n",
              "      <td>510</td>\n",
              "      <td>911231.00000</td>\n",
              "    </tr>\n",
              "    <tr>\n",
              "      <th>2</th>\n",
              "      <td>растения</td>\n",
              "      <td>2847</td>\n",
              "      <td>966216.00000</td>\n",
              "    </tr>\n",
              "  </tbody>\n",
              "</table>\n",
              "</div>\n",
              "      <button class=\"colab-df-convert\" onclick=\"convertToInteractive('df-86ee182c-0bb5-4473-9ec0-c2d11d108c0c')\"\n",
              "              title=\"Convert this dataframe to an interactive table.\"\n",
              "              style=\"display:none;\">\n",
              "        \n",
              "  <svg xmlns=\"http://www.w3.org/2000/svg\" height=\"24px\"viewBox=\"0 0 24 24\"\n",
              "       width=\"24px\">\n",
              "    <path d=\"M0 0h24v24H0V0z\" fill=\"none\"/>\n",
              "    <path d=\"M18.56 5.44l.94 2.06.94-2.06 2.06-.94-2.06-.94-.94-2.06-.94 2.06-2.06.94zm-11 1L8.5 8.5l.94-2.06 2.06-.94-2.06-.94L8.5 2.5l-.94 2.06-2.06.94zm10 10l.94 2.06.94-2.06 2.06-.94-2.06-.94-.94-2.06-.94 2.06-2.06.94z\"/><path d=\"M17.41 7.96l-1.37-1.37c-.4-.4-.92-.59-1.43-.59-.52 0-1.04.2-1.43.59L10.3 9.45l-7.72 7.72c-.78.78-.78 2.05 0 2.83L4 21.41c.39.39.9.59 1.41.59.51 0 1.02-.2 1.41-.59l7.78-7.78 2.81-2.81c.8-.78.8-2.07 0-2.86zM5.41 20L4 18.59l7.72-7.72 1.47 1.35L5.41 20z\"/>\n",
              "  </svg>\n",
              "      </button>\n",
              "      \n",
              "  <style>\n",
              "    .colab-df-container {\n",
              "      display:flex;\n",
              "      flex-wrap:wrap;\n",
              "      gap: 12px;\n",
              "    }\n",
              "\n",
              "    .colab-df-convert {\n",
              "      background-color: #E8F0FE;\n",
              "      border: none;\n",
              "      border-radius: 50%;\n",
              "      cursor: pointer;\n",
              "      display: none;\n",
              "      fill: #1967D2;\n",
              "      height: 32px;\n",
              "      padding: 0 0 0 0;\n",
              "      width: 32px;\n",
              "    }\n",
              "\n",
              "    .colab-df-convert:hover {\n",
              "      background-color: #E2EBFA;\n",
              "      box-shadow: 0px 1px 2px rgba(60, 64, 67, 0.3), 0px 1px 3px 1px rgba(60, 64, 67, 0.15);\n",
              "      fill: #174EA6;\n",
              "    }\n",
              "\n",
              "    [theme=dark] .colab-df-convert {\n",
              "      background-color: #3B4455;\n",
              "      fill: #D2E3FC;\n",
              "    }\n",
              "\n",
              "    [theme=dark] .colab-df-convert:hover {\n",
              "      background-color: #434B5C;\n",
              "      box-shadow: 0px 1px 3px 1px rgba(0, 0, 0, 0.15);\n",
              "      filter: drop-shadow(0px 1px 2px rgba(0, 0, 0, 0.3));\n",
              "      fill: #FFFFFF;\n",
              "    }\n",
              "  </style>\n",
              "\n",
              "      <script>\n",
              "        const buttonEl =\n",
              "          document.querySelector('#df-86ee182c-0bb5-4473-9ec0-c2d11d108c0c button.colab-df-convert');\n",
              "        buttonEl.style.display =\n",
              "          google.colab.kernel.accessAllowed ? 'block' : 'none';\n",
              "\n",
              "        async function convertToInteractive(key) {\n",
              "          const element = document.querySelector('#df-86ee182c-0bb5-4473-9ec0-c2d11d108c0c');\n",
              "          const dataTable =\n",
              "            await google.colab.kernel.invokeFunction('convertToInteractive',\n",
              "                                                     [key], {});\n",
              "          if (!dataTable) return;\n",
              "\n",
              "          const docLinkHtml = 'Like what you see? Visit the ' +\n",
              "            '<a target=\"_blank\" href=https://colab.research.google.com/notebooks/data_table.ipynb>data table notebook</a>'\n",
              "            + ' to learn more about interactive tables.';\n",
              "          element.innerHTML = '';\n",
              "          dataTable['output_type'] = 'display_data';\n",
              "          await google.colab.output.renderOutput(dataTable, element);\n",
              "          const docLink = document.createElement('div');\n",
              "          docLink.innerHTML = docLinkHtml;\n",
              "          element.appendChild(docLink);\n",
              "        }\n",
              "      </script>\n",
              "    </div>\n",
              "  </div>\n",
              "  "
            ]
          },
          "metadata": {},
          "execution_count": 42
        }
      ]
    },
    {
      "cell_type": "markdown",
      "source": [
        "> Мы получили 7 категорий, которые сильно отличаются друг от друга по количеству позиций товара, а также выручкой. Стоит объеденить категории чтобы осталось 4, так как это учебный проект. В жизни я бы поделил их на еще большее количество категорий, для более детального изучения.\n",
        "- растения\n",
        "- хранение\n",
        "- хозтовары (добавим инструмент/техника)\n",
        "- интерьер (посуда + текстиль + сад/декор)"
      ],
      "metadata": {
        "id": "CduQ5T_xZyKT"
      }
    },
    {
      "cell_type": "code",
      "source": [
        "df['product_category'] = (df['product_category']\n",
        "                          .apply(lambda x: 'хозтовары' if x == 'инструмент/техника' else x))\n",
        "df['product_category'] = (df['product_category']\n",
        "                          .apply(lambda x: 'интерьер' if x == 'посуда' \n",
        "                                 or x == 'текстиль' \n",
        "                                 or x == 'сад/декор' else x))"
      ],
      "metadata": {
        "id": "rl0K1UmI_tc8"
      },
      "execution_count": null,
      "outputs": []
    },
    {
      "cell_type": "code",
      "source": [
        "df.groupby('product_category')['revenue'].agg(['nunique', 'sum']).reset_index().sort_values(by='sum')"
      ],
      "metadata": {
        "colab": {
          "base_uri": "https://localhost:8080/",
          "height": 175
        },
        "id": "_LFNQsercfPt",
        "outputId": "ade4da11-6361-424e-d5a6-59b8c5df7694"
      },
      "execution_count": null,
      "outputs": [
        {
          "output_type": "execute_result",
          "data": {
            "text/plain": [
              "  product_category  nunique          sum\n",
              "0         интерьер      293 581428.00000\n",
              "2        хозтовары      214 625539.00000\n",
              "3         хранение      193 911231.00000\n",
              "1         растения      346 966216.00000"
            ],
            "text/html": [
              "\n",
              "  <div id=\"df-dfa7ecdf-a6b0-496a-b9c2-f7193b408163\">\n",
              "    <div class=\"colab-df-container\">\n",
              "      <div>\n",
              "<style scoped>\n",
              "    .dataframe tbody tr th:only-of-type {\n",
              "        vertical-align: middle;\n",
              "    }\n",
              "\n",
              "    .dataframe tbody tr th {\n",
              "        vertical-align: top;\n",
              "    }\n",
              "\n",
              "    .dataframe thead th {\n",
              "        text-align: right;\n",
              "    }\n",
              "</style>\n",
              "<table border=\"1\" class=\"dataframe\">\n",
              "  <thead>\n",
              "    <tr style=\"text-align: right;\">\n",
              "      <th></th>\n",
              "      <th>product_category</th>\n",
              "      <th>nunique</th>\n",
              "      <th>sum</th>\n",
              "    </tr>\n",
              "  </thead>\n",
              "  <tbody>\n",
              "    <tr>\n",
              "      <th>0</th>\n",
              "      <td>интерьер</td>\n",
              "      <td>293</td>\n",
              "      <td>581428.00000</td>\n",
              "    </tr>\n",
              "    <tr>\n",
              "      <th>2</th>\n",
              "      <td>хозтовары</td>\n",
              "      <td>214</td>\n",
              "      <td>625539.00000</td>\n",
              "    </tr>\n",
              "    <tr>\n",
              "      <th>3</th>\n",
              "      <td>хранение</td>\n",
              "      <td>193</td>\n",
              "      <td>911231.00000</td>\n",
              "    </tr>\n",
              "    <tr>\n",
              "      <th>1</th>\n",
              "      <td>растения</td>\n",
              "      <td>346</td>\n",
              "      <td>966216.00000</td>\n",
              "    </tr>\n",
              "  </tbody>\n",
              "</table>\n",
              "</div>\n",
              "      <button class=\"colab-df-convert\" onclick=\"convertToInteractive('df-dfa7ecdf-a6b0-496a-b9c2-f7193b408163')\"\n",
              "              title=\"Convert this dataframe to an interactive table.\"\n",
              "              style=\"display:none;\">\n",
              "        \n",
              "  <svg xmlns=\"http://www.w3.org/2000/svg\" height=\"24px\"viewBox=\"0 0 24 24\"\n",
              "       width=\"24px\">\n",
              "    <path d=\"M0 0h24v24H0V0z\" fill=\"none\"/>\n",
              "    <path d=\"M18.56 5.44l.94 2.06.94-2.06 2.06-.94-2.06-.94-.94-2.06-.94 2.06-2.06.94zm-11 1L8.5 8.5l.94-2.06 2.06-.94-2.06-.94L8.5 2.5l-.94 2.06-2.06.94zm10 10l.94 2.06.94-2.06 2.06-.94-2.06-.94-.94-2.06-.94 2.06-2.06.94z\"/><path d=\"M17.41 7.96l-1.37-1.37c-.4-.4-.92-.59-1.43-.59-.52 0-1.04.2-1.43.59L10.3 9.45l-7.72 7.72c-.78.78-.78 2.05 0 2.83L4 21.41c.39.39.9.59 1.41.59.51 0 1.02-.2 1.41-.59l7.78-7.78 2.81-2.81c.8-.78.8-2.07 0-2.86zM5.41 20L4 18.59l7.72-7.72 1.47 1.35L5.41 20z\"/>\n",
              "  </svg>\n",
              "      </button>\n",
              "      \n",
              "  <style>\n",
              "    .colab-df-container {\n",
              "      display:flex;\n",
              "      flex-wrap:wrap;\n",
              "      gap: 12px;\n",
              "    }\n",
              "\n",
              "    .colab-df-convert {\n",
              "      background-color: #E8F0FE;\n",
              "      border: none;\n",
              "      border-radius: 50%;\n",
              "      cursor: pointer;\n",
              "      display: none;\n",
              "      fill: #1967D2;\n",
              "      height: 32px;\n",
              "      padding: 0 0 0 0;\n",
              "      width: 32px;\n",
              "    }\n",
              "\n",
              "    .colab-df-convert:hover {\n",
              "      background-color: #E2EBFA;\n",
              "      box-shadow: 0px 1px 2px rgba(60, 64, 67, 0.3), 0px 1px 3px 1px rgba(60, 64, 67, 0.15);\n",
              "      fill: #174EA6;\n",
              "    }\n",
              "\n",
              "    [theme=dark] .colab-df-convert {\n",
              "      background-color: #3B4455;\n",
              "      fill: #D2E3FC;\n",
              "    }\n",
              "\n",
              "    [theme=dark] .colab-df-convert:hover {\n",
              "      background-color: #434B5C;\n",
              "      box-shadow: 0px 1px 3px 1px rgba(0, 0, 0, 0.15);\n",
              "      filter: drop-shadow(0px 1px 2px rgba(0, 0, 0, 0.3));\n",
              "      fill: #FFFFFF;\n",
              "    }\n",
              "  </style>\n",
              "\n",
              "      <script>\n",
              "        const buttonEl =\n",
              "          document.querySelector('#df-dfa7ecdf-a6b0-496a-b9c2-f7193b408163 button.colab-df-convert');\n",
              "        buttonEl.style.display =\n",
              "          google.colab.kernel.accessAllowed ? 'block' : 'none';\n",
              "\n",
              "        async function convertToInteractive(key) {\n",
              "          const element = document.querySelector('#df-dfa7ecdf-a6b0-496a-b9c2-f7193b408163');\n",
              "          const dataTable =\n",
              "            await google.colab.kernel.invokeFunction('convertToInteractive',\n",
              "                                                     [key], {});\n",
              "          if (!dataTable) return;\n",
              "\n",
              "          const docLinkHtml = 'Like what you see? Visit the ' +\n",
              "            '<a target=\"_blank\" href=https://colab.research.google.com/notebooks/data_table.ipynb>data table notebook</a>'\n",
              "            + ' to learn more about interactive tables.';\n",
              "          element.innerHTML = '';\n",
              "          dataTable['output_type'] = 'display_data';\n",
              "          await google.colab.output.renderOutput(dataTable, element);\n",
              "          const docLink = document.createElement('div');\n",
              "          docLink.innerHTML = docLinkHtml;\n",
              "          element.appendChild(docLink);\n",
              "        }\n",
              "      </script>\n",
              "    </div>\n",
              "  </div>\n",
              "  "
            ]
          },
          "metadata": {},
          "execution_count": 44
        }
      ]
    },
    {
      "cell_type": "markdown",
      "source": [
        "## 4.2 Профили клиентов"
      ],
      "metadata": {
        "id": "dkyJl0rIOBdJ"
      }
    },
    {
      "cell_type": "markdown",
      "source": [
        "- создание профиля юзера по id, дате первого заказа, выручке, сколько дней прошло с последней покупки, количество заказов\n",
        "\n"
      ],
      "metadata": {
        "id": "VvLpKlYsOJPq"
      }
    },
    {
      "cell_type": "code",
      "source": [
        "# последний день покупки\n",
        "df = df.merge(df.groupby('customer_id')['date'].last().reset_index()\n",
        "        .rename(columns={'date': 'last_purchase'}), \n",
        "        how='left', on='customer_id')"
      ],
      "metadata": {
        "id": "aLJsfFJwreNI"
      },
      "execution_count": null,
      "outputs": []
    },
    {
      "cell_type": "code",
      "source": [
        "# функция для создания пользовательских профилей\n",
        "\n",
        "def get_profiles(df, date_start, date_constant):\n",
        "\n",
        "  profiles = (\n",
        "    df.query('date >= @date_start')\n",
        "    .sort_values(by=['customer_id', 'date'])\n",
        "    .groupby('customer_id')\n",
        "    .agg({\n",
        "        'date': 'first',\n",
        "        'last_purchase': 'last',\n",
        "        'revenue': 'sum',\n",
        "        'order_id': 'nunique'\n",
        "        })\n",
        "    .rename(columns={\n",
        "        'date': 'first_purchase',\n",
        "        'revenue': 'monetary',\n",
        "        'order_id': 'frequency'\n",
        "        })\n",
        "    .reset_index()\n",
        "  )\n",
        "\n",
        "# добавляем последний день покупки\n",
        "  profiles['recency'] = (date_constant - pd.to_datetime(profiles['last_purchase'])).dt.days\n",
        "  profiles['first_purchase'] = profiles['first_purchase'].dt.date\n",
        "  profiles['last_purchase'] = profiles['last_purchase'].dt.date\n",
        "\n",
        "  return profiles"
      ],
      "metadata": {
        "id": "_ccWiAzpK5KY"
      },
      "execution_count": null,
      "outputs": []
    },
    {
      "cell_type": "code",
      "source": [
        "df['date'].max()"
      ],
      "metadata": {
        "colab": {
          "base_uri": "https://localhost:8080/"
        },
        "id": "_QxVmWF2dhvV",
        "outputId": "5d7d1b79-908a-4ef9-cd6a-9aa6845b400a"
      },
      "execution_count": null,
      "outputs": [
        {
          "output_type": "execute_result",
          "data": {
            "text/plain": [
              "Timestamp('2019-10-31 14:00:00')"
            ]
          },
          "metadata": {},
          "execution_count": 47
        }
      ]
    },
    {
      "cell_type": "code",
      "source": [
        "profiles = get_profiles(df, pd.to_datetime('2019-04-01'), df['date'].max())"
      ],
      "metadata": {
        "id": "rRvF3Geyi-Wd"
      },
      "execution_count": null,
      "outputs": []
    },
    {
      "cell_type": "code",
      "source": [
        "profiles.head()"
      ],
      "metadata": {
        "colab": {
          "base_uri": "https://localhost:8080/",
          "height": 206
        },
        "id": "8RKcl1vE9LKD",
        "outputId": "b2ec53c4-50ab-4607-c972-69624a067683"
      },
      "execution_count": null,
      "outputs": [
        {
          "output_type": "execute_result",
          "data": {
            "text/plain": [
              "                            customer_id first_purchase last_purchase  \\\n",
              "0  000d6849-084e-4d9f-ac03-37174eaf60c4     2019-10-16    2019-10-16   \n",
              "1  00299f34-5385-4d13-9aea-c80b81658e1b     2019-10-14    2019-10-14   \n",
              "2  003bbd39-0000-41ff-b7f9-2ddaec152037     2019-09-29    2019-09-29   \n",
              "3  00e59a12-06d5-47fc-9a33-bfc53aca1e9f     2019-07-13    2019-07-13   \n",
              "4  0114e87e-78e2-49bf-9c8c-bbddd7191a3f     2019-10-15    2019-10-15   \n",
              "\n",
              "    monetary  frequency  recency  \n",
              "0  555.00000          1       15  \n",
              "1  914.00000          1       16  \n",
              "2 2324.00000          1       31  \n",
              "3 1798.00000          1      109  \n",
              "4  974.00000          1       15  "
            ],
            "text/html": [
              "\n",
              "  <div id=\"df-789fedb2-daaa-49e4-ad62-2d0c0cbfe52d\">\n",
              "    <div class=\"colab-df-container\">\n",
              "      <div>\n",
              "<style scoped>\n",
              "    .dataframe tbody tr th:only-of-type {\n",
              "        vertical-align: middle;\n",
              "    }\n",
              "\n",
              "    .dataframe tbody tr th {\n",
              "        vertical-align: top;\n",
              "    }\n",
              "\n",
              "    .dataframe thead th {\n",
              "        text-align: right;\n",
              "    }\n",
              "</style>\n",
              "<table border=\"1\" class=\"dataframe\">\n",
              "  <thead>\n",
              "    <tr style=\"text-align: right;\">\n",
              "      <th></th>\n",
              "      <th>customer_id</th>\n",
              "      <th>first_purchase</th>\n",
              "      <th>last_purchase</th>\n",
              "      <th>monetary</th>\n",
              "      <th>frequency</th>\n",
              "      <th>recency</th>\n",
              "    </tr>\n",
              "  </thead>\n",
              "  <tbody>\n",
              "    <tr>\n",
              "      <th>0</th>\n",
              "      <td>000d6849-084e-4d9f-ac03-37174eaf60c4</td>\n",
              "      <td>2019-10-16</td>\n",
              "      <td>2019-10-16</td>\n",
              "      <td>555.00000</td>\n",
              "      <td>1</td>\n",
              "      <td>15</td>\n",
              "    </tr>\n",
              "    <tr>\n",
              "      <th>1</th>\n",
              "      <td>00299f34-5385-4d13-9aea-c80b81658e1b</td>\n",
              "      <td>2019-10-14</td>\n",
              "      <td>2019-10-14</td>\n",
              "      <td>914.00000</td>\n",
              "      <td>1</td>\n",
              "      <td>16</td>\n",
              "    </tr>\n",
              "    <tr>\n",
              "      <th>2</th>\n",
              "      <td>003bbd39-0000-41ff-b7f9-2ddaec152037</td>\n",
              "      <td>2019-09-29</td>\n",
              "      <td>2019-09-29</td>\n",
              "      <td>2324.00000</td>\n",
              "      <td>1</td>\n",
              "      <td>31</td>\n",
              "    </tr>\n",
              "    <tr>\n",
              "      <th>3</th>\n",
              "      <td>00e59a12-06d5-47fc-9a33-bfc53aca1e9f</td>\n",
              "      <td>2019-07-13</td>\n",
              "      <td>2019-07-13</td>\n",
              "      <td>1798.00000</td>\n",
              "      <td>1</td>\n",
              "      <td>109</td>\n",
              "    </tr>\n",
              "    <tr>\n",
              "      <th>4</th>\n",
              "      <td>0114e87e-78e2-49bf-9c8c-bbddd7191a3f</td>\n",
              "      <td>2019-10-15</td>\n",
              "      <td>2019-10-15</td>\n",
              "      <td>974.00000</td>\n",
              "      <td>1</td>\n",
              "      <td>15</td>\n",
              "    </tr>\n",
              "  </tbody>\n",
              "</table>\n",
              "</div>\n",
              "      <button class=\"colab-df-convert\" onclick=\"convertToInteractive('df-789fedb2-daaa-49e4-ad62-2d0c0cbfe52d')\"\n",
              "              title=\"Convert this dataframe to an interactive table.\"\n",
              "              style=\"display:none;\">\n",
              "        \n",
              "  <svg xmlns=\"http://www.w3.org/2000/svg\" height=\"24px\"viewBox=\"0 0 24 24\"\n",
              "       width=\"24px\">\n",
              "    <path d=\"M0 0h24v24H0V0z\" fill=\"none\"/>\n",
              "    <path d=\"M18.56 5.44l.94 2.06.94-2.06 2.06-.94-2.06-.94-.94-2.06-.94 2.06-2.06.94zm-11 1L8.5 8.5l.94-2.06 2.06-.94-2.06-.94L8.5 2.5l-.94 2.06-2.06.94zm10 10l.94 2.06.94-2.06 2.06-.94-2.06-.94-.94-2.06-.94 2.06-2.06.94z\"/><path d=\"M17.41 7.96l-1.37-1.37c-.4-.4-.92-.59-1.43-.59-.52 0-1.04.2-1.43.59L10.3 9.45l-7.72 7.72c-.78.78-.78 2.05 0 2.83L4 21.41c.39.39.9.59 1.41.59.51 0 1.02-.2 1.41-.59l7.78-7.78 2.81-2.81c.8-.78.8-2.07 0-2.86zM5.41 20L4 18.59l7.72-7.72 1.47 1.35L5.41 20z\"/>\n",
              "  </svg>\n",
              "      </button>\n",
              "      \n",
              "  <style>\n",
              "    .colab-df-container {\n",
              "      display:flex;\n",
              "      flex-wrap:wrap;\n",
              "      gap: 12px;\n",
              "    }\n",
              "\n",
              "    .colab-df-convert {\n",
              "      background-color: #E8F0FE;\n",
              "      border: none;\n",
              "      border-radius: 50%;\n",
              "      cursor: pointer;\n",
              "      display: none;\n",
              "      fill: #1967D2;\n",
              "      height: 32px;\n",
              "      padding: 0 0 0 0;\n",
              "      width: 32px;\n",
              "    }\n",
              "\n",
              "    .colab-df-convert:hover {\n",
              "      background-color: #E2EBFA;\n",
              "      box-shadow: 0px 1px 2px rgba(60, 64, 67, 0.3), 0px 1px 3px 1px rgba(60, 64, 67, 0.15);\n",
              "      fill: #174EA6;\n",
              "    }\n",
              "\n",
              "    [theme=dark] .colab-df-convert {\n",
              "      background-color: #3B4455;\n",
              "      fill: #D2E3FC;\n",
              "    }\n",
              "\n",
              "    [theme=dark] .colab-df-convert:hover {\n",
              "      background-color: #434B5C;\n",
              "      box-shadow: 0px 1px 3px 1px rgba(0, 0, 0, 0.15);\n",
              "      filter: drop-shadow(0px 1px 2px rgba(0, 0, 0, 0.3));\n",
              "      fill: #FFFFFF;\n",
              "    }\n",
              "  </style>\n",
              "\n",
              "      <script>\n",
              "        const buttonEl =\n",
              "          document.querySelector('#df-789fedb2-daaa-49e4-ad62-2d0c0cbfe52d button.colab-df-convert');\n",
              "        buttonEl.style.display =\n",
              "          google.colab.kernel.accessAllowed ? 'block' : 'none';\n",
              "\n",
              "        async function convertToInteractive(key) {\n",
              "          const element = document.querySelector('#df-789fedb2-daaa-49e4-ad62-2d0c0cbfe52d');\n",
              "          const dataTable =\n",
              "            await google.colab.kernel.invokeFunction('convertToInteractive',\n",
              "                                                     [key], {});\n",
              "          if (!dataTable) return;\n",
              "\n",
              "          const docLinkHtml = 'Like what you see? Visit the ' +\n",
              "            '<a target=\"_blank\" href=https://colab.research.google.com/notebooks/data_table.ipynb>data table notebook</a>'\n",
              "            + ' to learn more about interactive tables.';\n",
              "          element.innerHTML = '';\n",
              "          dataTable['output_type'] = 'display_data';\n",
              "          await google.colab.output.renderOutput(dataTable, element);\n",
              "          const docLink = document.createElement('div');\n",
              "          docLink.innerHTML = docLinkHtml;\n",
              "          element.appendChild(docLink);\n",
              "        }\n",
              "      </script>\n",
              "    </div>\n",
              "  </div>\n",
              "  "
            ]
          },
          "metadata": {},
          "execution_count": 49
        }
      ]
    },
    {
      "cell_type": "markdown",
      "source": [
        "# 🔎 5. Анализ данных"
      ],
      "metadata": {
        "id": "Pwn8_zNH_y96"
      }
    },
    {
      "cell_type": "code",
      "source": [
        "# Функции графиков\n",
        "\n",
        "def univariate_multi_plot(df=df, x=None, xlabel=None, rotation=None):\n",
        "    fig, ax = plt.subplots(1, 2, figsize=(16, 7))\n",
        "    sns.countplot(data=df, x=x, ax=ax[0], order=df[x].value_counts(ascending=True).index, alpha=0.7)\n",
        "    df[x].value_counts(ascending=True).plot(kind=\"pie\", autopct=\"%1.1f%%\", ax=ax[1], wedgeprops={'alpha':0.7})\n",
        "    sns.despine(bottom=True, left=True)\n",
        "    ax[0].set_xlabel(xlabel=xlabel, size=12)\n",
        "    ax[0].set_xticklabels(ax[0].get_xticklabels(), rotation=rotation, horizontalalignment='center')\n",
        "    ax[0].set_ylabel(ylabel=\"\")\n",
        "    ax[1].set_ylabel(ylabel=\"\")\n",
        "    fig.text(0.5, 1, f'Количество клиентов ({xlabel})', size=16, ha=\"center\", va=\"center\")\n",
        "    plt.show()"
      ],
      "metadata": {
        "id": "P_ZP7RsPCNur"
      },
      "execution_count": null,
      "outputs": []
    },
    {
      "cell_type": "markdown",
      "source": [
        "## 5.1 Количество покупок по дням/месяцам"
      ],
      "metadata": {
        "id": "RLi3TEqF86ZY"
      }
    },
    {
      "cell_type": "code",
      "source": [
        "univariate_multi_plot(df=df.query('date > @data_border'), x=\"month\", xlabel=\"месяц\", rotation=90)"
      ],
      "metadata": {
        "colab": {
          "base_uri": "https://localhost:8080/",
          "height": 558
        },
        "id": "gLSCJZFpB-_H",
        "outputId": "a8475b62-700d-4cea-95b2-9e64349cfe03"
      },
      "execution_count": null,
      "outputs": [
        {
          "output_type": "display_data",
          "data": {
            "text/plain": [
              "<Figure size 1152x504 with 2 Axes>"
            ],
            "image/png": "[encoded data removed]"
          },
          "metadata": {
            "needs_background": "light"
          }
        }
      ]
    },
    {
      "cell_type": "markdown",
      "source": [
        "- Больше всего клиентов в апреле и мае, возможно это связано с сезоном, так как в нашем магазине широкий ассортимент растений.\n",
        "- Январь самый маленький поток клиентов"
      ],
      "metadata": {
        "id": "iv6uYK_QUzVK"
      }
    },
    {
      "cell_type": "code",
      "source": [
        "univariate_multi_plot(df=df, x=\"dayweek\", xlabel=\"день недели\", rotation=90)"
      ],
      "metadata": {
        "colab": {
          "base_uri": "https://localhost:8080/",
          "height": 561
        },
        "id": "lYpE-BSHs7Nb",
        "outputId": "a42306b4-7c3d-423e-ec26-bc99905a1c9a"
      },
      "execution_count": null,
      "outputs": [
        {
          "output_type": "display_data",
          "data": {
            "text/plain": [
              "<Figure size 1152x504 with 2 Axes>"
            ],
            "image/png": "[encoded data removed]"
          },
          "metadata": {
            "needs_background": "light"
          }
        }
      ]
    },
    {
      "cell_type": "markdown",
      "source": [
        "- В наш магазин ходят в рабочие дни особенно в понедельник, в выходные и пятницу ходят меньше."
      ],
      "metadata": {
        "id": "UWbIwnuuEtNt"
      }
    },
    {
      "cell_type": "markdown",
      "source": [
        "## 5.2 DAW WAU MAU"
      ],
      "metadata": {
        "id": "ElbsgLL_yMkI"
      }
    },
    {
      "cell_type": "code",
      "source": [
        "q = pd.DataFrame()\n",
        "q['customer_id'] = df['customer_id']\n",
        "q['session_year'] = df['date'].dt.year\n",
        "q['session_month'] = df['date'].dt.month\n",
        "q['session_week'] = df['date'].dt.isocalendar().week\n",
        "q['session_date'] = df['date'].dt.date"
      ],
      "metadata": {
        "id": "oRZzMJEd6LKX"
      },
      "execution_count": null,
      "outputs": []
    },
    {
      "cell_type": "code",
      "source": [
        "q.head()"
      ],
      "metadata": {
        "colab": {
          "base_uri": "https://localhost:8080/",
          "height": 206
        },
        "id": "EDT_9-Kd6xLM",
        "outputId": "e27a0a71-6c1e-4b33-94c5-1513c7acb3bf"
      },
      "execution_count": null,
      "outputs": [
        {
          "output_type": "execute_result",
          "data": {
            "text/plain": [
              "                            customer_id  session_year  session_month  \\\n",
              "0  0b5ce2c7-acef-4a9a-b821-61a44ed05557          2018             10   \n",
              "1  2f955596-4b13-432e-93f3-6433395aafe6          2018             12   \n",
              "2  954172a5-634c-4a50-941d-9db6d15a7377          2018             12   \n",
              "3  70d60304-4b3c-4f34-9430-1872ec6e6309          2018             12   \n",
              "4  4ea06f66-0876-4dec-8d14-ea994ffe435f          2018             12   \n",
              "\n",
              "   session_week session_date  \n",
              "0            43   2018-10-28  \n",
              "1            50   2018-12-10  \n",
              "2            50   2018-12-11  \n",
              "3            50   2018-12-13  \n",
              "4            51   2018-12-17  "
            ],
            "text/html": [
              "\n",
              "  <div id=\"df-7954a5d2-5757-44f4-866c-bf71cee1fce4\">\n",
              "    <div class=\"colab-df-container\">\n",
              "      <div>\n",
              "<style scoped>\n",
              "    .dataframe tbody tr th:only-of-type {\n",
              "        vertical-align: middle;\n",
              "    }\n",
              "\n",
              "    .dataframe tbody tr th {\n",
              "        vertical-align: top;\n",
              "    }\n",
              "\n",
              "    .dataframe thead th {\n",
              "        text-align: right;\n",
              "    }\n",
              "</style>\n",
              "<table border=\"1\" class=\"dataframe\">\n",
              "  <thead>\n",
              "    <tr style=\"text-align: right;\">\n",
              "      <th></th>\n",
              "      <th>customer_id</th>\n",
              "      <th>session_year</th>\n",
              "      <th>session_month</th>\n",
              "      <th>session_week</th>\n",
              "      <th>session_date</th>\n",
              "    </tr>\n",
              "  </thead>\n",
              "  <tbody>\n",
              "    <tr>\n",
              "      <th>0</th>\n",
              "      <td>0b5ce2c7-acef-4a9a-b821-61a44ed05557</td>\n",
              "      <td>2018</td>\n",
              "      <td>10</td>\n",
              "      <td>43</td>\n",
              "      <td>2018-10-28</td>\n",
              "    </tr>\n",
              "    <tr>\n",
              "      <th>1</th>\n",
              "      <td>2f955596-4b13-432e-93f3-6433395aafe6</td>\n",
              "      <td>2018</td>\n",
              "      <td>12</td>\n",
              "      <td>50</td>\n",
              "      <td>2018-12-10</td>\n",
              "    </tr>\n",
              "    <tr>\n",
              "      <th>2</th>\n",
              "      <td>954172a5-634c-4a50-941d-9db6d15a7377</td>\n",
              "      <td>2018</td>\n",
              "      <td>12</td>\n",
              "      <td>50</td>\n",
              "      <td>2018-12-11</td>\n",
              "    </tr>\n",
              "    <tr>\n",
              "      <th>3</th>\n",
              "      <td>70d60304-4b3c-4f34-9430-1872ec6e6309</td>\n",
              "      <td>2018</td>\n",
              "      <td>12</td>\n",
              "      <td>50</td>\n",
              "      <td>2018-12-13</td>\n",
              "    </tr>\n",
              "    <tr>\n",
              "      <th>4</th>\n",
              "      <td>4ea06f66-0876-4dec-8d14-ea994ffe435f</td>\n",
              "      <td>2018</td>\n",
              "      <td>12</td>\n",
              "      <td>51</td>\n",
              "      <td>2018-12-17</td>\n",
              "    </tr>\n",
              "  </tbody>\n",
              "</table>\n",
              "</div>\n",
              "      <button class=\"colab-df-convert\" onclick=\"convertToInteractive('df-7954a5d2-5757-44f4-866c-bf71cee1fce4')\"\n",
              "              title=\"Convert this dataframe to an interactive table.\"\n",
              "              style=\"display:none;\">\n",
              "        \n",
              "  <svg xmlns=\"http://www.w3.org/2000/svg\" height=\"24px\"viewBox=\"0 0 24 24\"\n",
              "       width=\"24px\">\n",
              "    <path d=\"M0 0h24v24H0V0z\" fill=\"none\"/>\n",
              "    <path d=\"M18.56 5.44l.94 2.06.94-2.06 2.06-.94-2.06-.94-.94-2.06-.94 2.06-2.06.94zm-11 1L8.5 8.5l.94-2.06 2.06-.94-2.06-.94L8.5 2.5l-.94 2.06-2.06.94zm10 10l.94 2.06.94-2.06 2.06-.94-2.06-.94-.94-2.06-.94 2.06-2.06.94z\"/><path d=\"M17.41 7.96l-1.37-1.37c-.4-.4-.92-.59-1.43-.59-.52 0-1.04.2-1.43.59L10.3 9.45l-7.72 7.72c-.78.78-.78 2.05 0 2.83L4 21.41c.39.39.9.59 1.41.59.51 0 1.02-.2 1.41-.59l7.78-7.78 2.81-2.81c.8-.78.8-2.07 0-2.86zM5.41 20L4 18.59l7.72-7.72 1.47 1.35L5.41 20z\"/>\n",
              "  </svg>\n",
              "      </button>\n",
              "      \n",
              "  <style>\n",
              "    .colab-df-container {\n",
              "      display:flex;\n",
              "      flex-wrap:wrap;\n",
              "      gap: 12px;\n",
              "    }\n",
              "\n",
              "    .colab-df-convert {\n",
              "      background-color: #E8F0FE;\n",
              "      border: none;\n",
              "      border-radius: 50%;\n",
              "      cursor: pointer;\n",
              "      display: none;\n",
              "      fill: #1967D2;\n",
              "      height: 32px;\n",
              "      padding: 0 0 0 0;\n",
              "      width: 32px;\n",
              "    }\n",
              "\n",
              "    .colab-df-convert:hover {\n",
              "      background-color: #E2EBFA;\n",
              "      box-shadow: 0px 1px 2px rgba(60, 64, 67, 0.3), 0px 1px 3px 1px rgba(60, 64, 67, 0.15);\n",
              "      fill: #174EA6;\n",
              "    }\n",
              "\n",
              "    [theme=dark] .colab-df-convert {\n",
              "      background-color: #3B4455;\n",
              "      fill: #D2E3FC;\n",
              "    }\n",
              "\n",
              "    [theme=dark] .colab-df-convert:hover {\n",
              "      background-color: #434B5C;\n",
              "      box-shadow: 0px 1px 3px 1px rgba(0, 0, 0, 0.15);\n",
              "      filter: drop-shadow(0px 1px 2px rgba(0, 0, 0, 0.3));\n",
              "      fill: #FFFFFF;\n",
              "    }\n",
              "  </style>\n",
              "\n",
              "      <script>\n",
              "        const buttonEl =\n",
              "          document.querySelector('#df-7954a5d2-5757-44f4-866c-bf71cee1fce4 button.colab-df-convert');\n",
              "        buttonEl.style.display =\n",
              "          google.colab.kernel.accessAllowed ? 'block' : 'none';\n",
              "\n",
              "        async function convertToInteractive(key) {\n",
              "          const element = document.querySelector('#df-7954a5d2-5757-44f4-866c-bf71cee1fce4');\n",
              "          const dataTable =\n",
              "            await google.colab.kernel.invokeFunction('convertToInteractive',\n",
              "                                                     [key], {});\n",
              "          if (!dataTable) return;\n",
              "\n",
              "          const docLinkHtml = 'Like what you see? Visit the ' +\n",
              "            '<a target=\"_blank\" href=https://colab.research.google.com/notebooks/data_table.ipynb>data table notebook</a>'\n",
              "            + ' to learn more about interactive tables.';\n",
              "          element.innerHTML = '';\n",
              "          dataTable['output_type'] = 'display_data';\n",
              "          await google.colab.output.renderOutput(dataTable, element);\n",
              "          const docLink = document.createElement('div');\n",
              "          docLink.innerHTML = docLinkHtml;\n",
              "          element.appendChild(docLink);\n",
              "        }\n",
              "      </script>\n",
              "    </div>\n",
              "  </div>\n",
              "  "
            ]
          },
          "metadata": {},
          "execution_count": 54
        }
      ]
    },
    {
      "cell_type": "code",
      "source": [
        "dau_total = (\n",
        "    q.groupby('session_date')\n",
        "    .agg({'customer_id': 'nunique'})\n",
        "    .mean()\n",
        ")\n",
        "wau_total = (\n",
        "    q.groupby(['session_year', 'session_week'])\n",
        "    .agg({'customer_id': 'nunique'})\n",
        "    .mean()\n",
        ")\n",
        "mau_total = (\n",
        "    q.groupby(['session_year', 'session_month'])\n",
        "    .agg({'customer_id': 'nunique'})\n",
        "    .mean()\n",
        ")\n",
        "\n",
        "print('Активных ежедневных пользователей', int(dau_total), '\"DAU\"')\n",
        "print('='*20)\n",
        "print('Активных недельных пользователей', int(wau_total), '\"WAU\"')\n",
        "print('='*20)\n",
        "print('Активных месячных пользователей', int(mau_total), '\"MAU\"') \n",
        "print('='*20)"
      ],
      "metadata": {
        "colab": {
          "base_uri": "https://localhost:8080/"
        },
        "id": "MKUixGmf7KDA",
        "outputId": "d67184fc-da4f-455e-fd35-0e4ca9b860c8"
      },
      "execution_count": null,
      "outputs": [
        {
          "output_type": "stream",
          "name": "stdout",
          "text": [
            "Активных ежедневных пользователей 6 \"DAU\"\n",
            "====================\n",
            "Активных недельных пользователей 43 \"WAU\"\n",
            "====================\n",
            "Активных месячных пользователей 189 \"MAU\"\n",
            "====================\n"
          ]
        }
      ]
    },
    {
      "cell_type": "markdown",
      "source": [
        "## 5.3 ARPPU"
      ],
      "metadata": {
        "id": "kOV92iye17ZE"
      }
    },
    {
      "cell_type": "code",
      "source": [
        "print(df['date'].min())\n",
        "print(df['date'].max())"
      ],
      "metadata": {
        "colab": {
          "base_uri": "https://localhost:8080/"
        },
        "id": "qyxYTkP12XwP",
        "outputId": "d7478604-c502-49ef-c9fa-8f0d22d64bb6"
      },
      "execution_count": null,
      "outputs": [
        {
          "output_type": "stream",
          "name": "stdout",
          "text": [
            "2018-10-01 00:00:00\n",
            "2019-10-31 14:00:00\n"
          ]
        }
      ]
    },
    {
      "cell_type": "code",
      "source": [
        "year_arpu = (\n",
        "    (df.query('date > @data_border').groupby('month')['revenue'].sum() / \n",
        "     df.query('date > @data_border').groupby('month')['customer_id'].count())\n",
        "    .reset_index()\n",
        "    .rename(columns={0:'arppu'})\n",
        "    )"
      ],
      "metadata": {
        "id": "PlILVUZXyQ-w"
      },
      "execution_count": null,
      "outputs": []
    },
    {
      "cell_type": "code",
      "source": [
        "plt.figure(figsize = (16, 5))\n",
        "sns.lineplot(data=year_arpu, x='month', y=\"arppu\")\n",
        "plt.title('ARPPU по месяцам с \"2018-10-31\" по \"2018-10-31\"')\n",
        "plt.xlabel(xlabel='Месяц')\n",
        "plt.ylabel(ylabel='ARPPU (руб.)')\n",
        "plt.grid()\n",
        "plt.ylim(0)\n",
        "plt.show()"
      ],
      "metadata": {
        "colab": {
          "base_uri": "https://localhost:8080/",
          "height": 350
        },
        "id": "zNkGneoNYmMn",
        "outputId": "eeea9089-66a5-436e-a03d-c35e6495b5e0"
      },
      "execution_count": null,
      "outputs": [
        {
          "output_type": "display_data",
          "data": {
            "text/plain": [
              "<Figure size 1152x360 with 1 Axes>"
            ],
            "image/png": "[encoded data removed]"
          },
          "metadata": {
            "needs_background": "light"
          }
        }
      ]
    },
    {
      "cell_type": "code",
      "source": [
        "year_arpu.set_index('month').T"
      ],
      "metadata": {
        "colab": {
          "base_uri": "https://localhost:8080/",
          "height": 81
        },
        "id": "FJmf_2_CyRBc",
        "outputId": "76f1beb2-2060-4cb6-e5c0-d89d9640b434"
      },
      "execution_count": null,
      "outputs": [
        {
          "output_type": "execute_result",
          "data": {
            "text/plain": [
              "month    January  February     March     April       May      June      July  \\\n",
              "arppu 1247.89888 785.69369 605.02217 410.27083 307.80985 602.48495 752.10863   \n",
              "\n",
              "month    August  September   October  November   December  \n",
              "arppu 860.61000  819.74429 972.55204 770.99231 1146.02583  "
            ],
            "text/html": [
              "\n",
              "  <div id=\"df-270e8996-81b3-40b4-9521-b71f66d38c3f\">\n",
              "    <div class=\"colab-df-container\">\n",
              "      <div>\n",
              "<style scoped>\n",
              "    .dataframe tbody tr th:only-of-type {\n",
              "        vertical-align: middle;\n",
              "    }\n",
              "\n",
              "    .dataframe tbody tr th {\n",
              "        vertical-align: top;\n",
              "    }\n",
              "\n",
              "    .dataframe thead th {\n",
              "        text-align: right;\n",
              "    }\n",
              "</style>\n",
              "<table border=\"1\" class=\"dataframe\">\n",
              "  <thead>\n",
              "    <tr style=\"text-align: right;\">\n",
              "      <th>month</th>\n",
              "      <th>January</th>\n",
              "      <th>February</th>\n",
              "      <th>March</th>\n",
              "      <th>April</th>\n",
              "      <th>May</th>\n",
              "      <th>June</th>\n",
              "      <th>July</th>\n",
              "      <th>August</th>\n",
              "      <th>September</th>\n",
              "      <th>October</th>\n",
              "      <th>November</th>\n",
              "      <th>December</th>\n",
              "    </tr>\n",
              "  </thead>\n",
              "  <tbody>\n",
              "    <tr>\n",
              "      <th>arppu</th>\n",
              "      <td>1247.89888</td>\n",
              "      <td>785.69369</td>\n",
              "      <td>605.02217</td>\n",
              "      <td>410.27083</td>\n",
              "      <td>307.80985</td>\n",
              "      <td>602.48495</td>\n",
              "      <td>752.10863</td>\n",
              "      <td>860.61000</td>\n",
              "      <td>819.74429</td>\n",
              "      <td>972.55204</td>\n",
              "      <td>770.99231</td>\n",
              "      <td>1146.02583</td>\n",
              "    </tr>\n",
              "  </tbody>\n",
              "</table>\n",
              "</div>\n",
              "      <button class=\"colab-df-convert\" onclick=\"convertToInteractive('df-270e8996-81b3-40b4-9521-b71f66d38c3f')\"\n",
              "              title=\"Convert this dataframe to an interactive table.\"\n",
              "              style=\"display:none;\">\n",
              "        \n",
              "  <svg xmlns=\"http://www.w3.org/2000/svg\" height=\"24px\"viewBox=\"0 0 24 24\"\n",
              "       width=\"24px\">\n",
              "    <path d=\"M0 0h24v24H0V0z\" fill=\"none\"/>\n",
              "    <path d=\"M18.56 5.44l.94 2.06.94-2.06 2.06-.94-2.06-.94-.94-2.06-.94 2.06-2.06.94zm-11 1L8.5 8.5l.94-2.06 2.06-.94-2.06-.94L8.5 2.5l-.94 2.06-2.06.94zm10 10l.94 2.06.94-2.06 2.06-.94-2.06-.94-.94-2.06-.94 2.06-2.06.94z\"/><path d=\"M17.41 7.96l-1.37-1.37c-.4-.4-.92-.59-1.43-.59-.52 0-1.04.2-1.43.59L10.3 9.45l-7.72 7.72c-.78.78-.78 2.05 0 2.83L4 21.41c.39.39.9.59 1.41.59.51 0 1.02-.2 1.41-.59l7.78-7.78 2.81-2.81c.8-.78.8-2.07 0-2.86zM5.41 20L4 18.59l7.72-7.72 1.47 1.35L5.41 20z\"/>\n",
              "  </svg>\n",
              "      </button>\n",
              "      \n",
              "  <style>\n",
              "    .colab-df-container {\n",
              "      display:flex;\n",
              "      flex-wrap:wrap;\n",
              "      gap: 12px;\n",
              "    }\n",
              "\n",
              "    .colab-df-convert {\n",
              "      background-color: #E8F0FE;\n",
              "      border: none;\n",
              "      border-radius: 50%;\n",
              "      cursor: pointer;\n",
              "      display: none;\n",
              "      fill: #1967D2;\n",
              "      height: 32px;\n",
              "      padding: 0 0 0 0;\n",
              "      width: 32px;\n",
              "    }\n",
              "\n",
              "    .colab-df-convert:hover {\n",
              "      background-color: #E2EBFA;\n",
              "      box-shadow: 0px 1px 2px rgba(60, 64, 67, 0.3), 0px 1px 3px 1px rgba(60, 64, 67, 0.15);\n",
              "      fill: #174EA6;\n",
              "    }\n",
              "\n",
              "    [theme=dark] .colab-df-convert {\n",
              "      background-color: #3B4455;\n",
              "      fill: #D2E3FC;\n",
              "    }\n",
              "\n",
              "    [theme=dark] .colab-df-convert:hover {\n",
              "      background-color: #434B5C;\n",
              "      box-shadow: 0px 1px 3px 1px rgba(0, 0, 0, 0.15);\n",
              "      filter: drop-shadow(0px 1px 2px rgba(0, 0, 0, 0.3));\n",
              "      fill: #FFFFFF;\n",
              "    }\n",
              "  </style>\n",
              "\n",
              "      <script>\n",
              "        const buttonEl =\n",
              "          document.querySelector('#df-270e8996-81b3-40b4-9521-b71f66d38c3f button.colab-df-convert');\n",
              "        buttonEl.style.display =\n",
              "          google.colab.kernel.accessAllowed ? 'block' : 'none';\n",
              "\n",
              "        async function convertToInteractive(key) {\n",
              "          const element = document.querySelector('#df-270e8996-81b3-40b4-9521-b71f66d38c3f');\n",
              "          const dataTable =\n",
              "            await google.colab.kernel.invokeFunction('convertToInteractive',\n",
              "                                                     [key], {});\n",
              "          if (!dataTable) return;\n",
              "\n",
              "          const docLinkHtml = 'Like what you see? Visit the ' +\n",
              "            '<a target=\"_blank\" href=https://colab.research.google.com/notebooks/data_table.ipynb>data table notebook</a>'\n",
              "            + ' to learn more about interactive tables.';\n",
              "          element.innerHTML = '';\n",
              "          dataTable['output_type'] = 'display_data';\n",
              "          await google.colab.output.renderOutput(dataTable, element);\n",
              "          const docLink = document.createElement('div');\n",
              "          docLink.innerHTML = docLinkHtml;\n",
              "          element.appendChild(docLink);\n",
              "        }\n",
              "      </script>\n",
              "    </div>\n",
              "  </div>\n",
              "  "
            ]
          },
          "metadata": {},
          "execution_count": 59
        }
      ]
    },
    {
      "cell_type": "markdown",
      "source": [
        "- высокие средние чеки в январе и декабре, именно те месяцы когда у нас мало клиентов, и низкие средние чеки в апреле и мае, тогда когда у нас много клиентов. Выглидит логично, зимой рассаду не покупают."
      ],
      "metadata": {
        "id": "cPHzGf12AgIS"
      }
    },
    {
      "cell_type": "markdown",
      "source": [
        "## 5.4 RFM"
      ],
      "metadata": {
        "id": "KwwZTmW69ydT"
      }
    },
    {
      "cell_type": "markdown",
      "source": [
        "https://towardsdatascience.com/recency-frequency-monetary-model-with-python-and-how-sephora-uses-it-to-optimize-their-google-d6a0707c5f17"
      ],
      "metadata": {
        "id": "lUQyYXfKu-S0"
      }
    },
    {
      "cell_type": "markdown",
      "source": [
        "> recency frequency monetary  \n",
        "- r (как давно что-то покупал? Чем более недавно, тем лучше) 1-4  \n",
        "- f (как часто покупал ранее? Чем чаще, тем лучше) 1-4  \n",
        "- m (как много денег потратил на нас? Чем больше, тем лучше) 1-4  "
      ],
      "metadata": {
        "id": "lEUKL4Ko936t"
      }
    },
    {
      "cell_type": "code",
      "source": [
        "profiles['r'] = 5 - (pd.qcut(profiles['recency'],q=4,labels=False) + 1)"
      ],
      "metadata": {
        "id": "PWnIwHM8CAYs"
      },
      "execution_count": null,
      "outputs": []
    },
    {
      "cell_type": "markdown",
      "source": [
        "- Клиентов с 1 заказом слишком много, мы не можем разбить их на равные группы. Сделаем везде где 1 заказ = 1, 2 заказа = 2, 3 заказа = 3, >4 заказов = 4"
      ],
      "metadata": {
        "id": "UiD6AFxom5-y"
      }
    },
    {
      "cell_type": "code",
      "source": [
        "def frequency (x):\n",
        "  if x == 1:\n",
        "    return 1\n",
        "  if x == 2:\n",
        "    return 2\n",
        "  if x == 3:\n",
        "    return 3\n",
        "  return 4"
      ],
      "metadata": {
        "id": "P-5S5Ulgr1Bg"
      },
      "execution_count": null,
      "outputs": []
    },
    {
      "cell_type": "code",
      "source": [
        "profiles['f'] = profiles['frequency'].apply(frequency)"
      ],
      "metadata": {
        "id": "pV6ZKJU5syDR"
      },
      "execution_count": null,
      "outputs": []
    },
    {
      "cell_type": "code",
      "source": [
        "profiles['m'] = pd.qcut(profiles['monetary'],q=4,labels=False) + 1"
      ],
      "metadata": {
        "id": "FIONJs6em5Yn"
      },
      "execution_count": null,
      "outputs": []
    },
    {
      "cell_type": "code",
      "source": [
        "profiles['rfm_score'] = profiles['r'] + profiles['f'] + profiles['m']"
      ],
      "metadata": {
        "id": "imiIRxgDphAR"
      },
      "execution_count": null,
      "outputs": []
    },
    {
      "cell_type": "code",
      "source": [
        "def rfm_level(df):\n",
        "    if df['rfm_score'] >= 9:\n",
        "        return 'Can\\'t Loose Them'\n",
        "    elif ((df['rfm_score'] >= 8) and (df['rfm_score'] < 9)):\n",
        "        return 'Champions'\n",
        "    elif ((df['rfm_score'] >= 7) and (df['rfm_score'] < 8)):\n",
        "        return 'Loyal'\n",
        "    elif ((df['rfm_score'] >= 6) and (df['rfm_score'] < 7)):\n",
        "        return 'Potential'\n",
        "    elif ((df['rfm_score'] >= 5) and (df['rfm_score'] < 6)):\n",
        "        return 'Promising'\n",
        "    elif ((df['rfm_score'] >= 4) and (df['rfm_score'] < 5)):\n",
        "        return 'Needs Attention'\n",
        "    else:\n",
        "        return 'Require Activation'"
      ],
      "metadata": {
        "id": "jB2ttA-htHN5"
      },
      "execution_count": null,
      "outputs": []
    },
    {
      "cell_type": "code",
      "source": [
        "profiles['segment'] = profiles.apply(rfm_level,axis=1)"
      ],
      "metadata": {
        "id": "FnwgSJ8GtUWW"
      },
      "execution_count": null,
      "outputs": []
    },
    {
      "cell_type": "code",
      "source": [
        "profiles.sort_values(by='rfm_score', ascending=False).head()"
      ],
      "metadata": {
        "id": "5yggvQctCAlp",
        "colab": {
          "base_uri": "https://localhost:8080/",
          "height": 250
        },
        "outputId": "053473c4-0f62-4d6c-8e78-575e773263f6"
      },
      "execution_count": null,
      "outputs": [
        {
          "output_type": "execute_result",
          "data": {
            "text/plain": [
              "                               customer_id first_purchase last_purchase  \\\n",
              "573   73d1cd35-5e5f-4629-8cf2-3fda829d4e58     2019-10-02    2019-10-31   \n",
              "63    0d1b15b6-9cf3-4642-8bc3-74c7dee7b40e     2019-08-21    2019-10-08   \n",
              "1099  e8204583-4d55-4724-ad3f-049c7db43bdd     2019-07-23    2019-09-06   \n",
              "913   bea7a833-2074-42db-bc49-4457abd3c930     2019-05-14    2019-06-17   \n",
              "990   d02429ab-22e0-4ff2-9465-3082befde444     2019-08-24    2019-08-25   \n",
              "\n",
              "        monetary  frequency  recency  r  f  m  rfm_score           segment  \n",
              "573  21361.00000         17        0  4  4  4         12  Can't Loose Them  \n",
              "63    1538.00000          3       23  4  3  4         11  Can't Loose Them  \n",
              "1099  3102.00000          3       54  4  3  4         11  Can't Loose Them  \n",
              "913   4409.00000          4      135  2  4  4         10  Can't Loose Them  \n",
              "990   3261.00000          3       67  3  3  4         10  Can't Loose Them  "
            ],
            "text/html": [
              "\n",
              "  <div id=\"df-c1235437-d008-4bf5-988f-85b86a02bd5d\">\n",
              "    <div class=\"colab-df-container\">\n",
              "      <div>\n",
              "<style scoped>\n",
              "    .dataframe tbody tr th:only-of-type {\n",
              "        vertical-align: middle;\n",
              "    }\n",
              "\n",
              "    .dataframe tbody tr th {\n",
              "        vertical-align: top;\n",
              "    }\n",
              "\n",
              "    .dataframe thead th {\n",
              "        text-align: right;\n",
              "    }\n",
              "</style>\n",
              "<table border=\"1\" class=\"dataframe\">\n",
              "  <thead>\n",
              "    <tr style=\"text-align: right;\">\n",
              "      <th></th>\n",
              "      <th>customer_id</th>\n",
              "      <th>first_purchase</th>\n",
              "      <th>last_purchase</th>\n",
              "      <th>monetary</th>\n",
              "      <th>frequency</th>\n",
              "      <th>recency</th>\n",
              "      <th>r</th>\n",
              "      <th>f</th>\n",
              "      <th>m</th>\n",
              "      <th>rfm_score</th>\n",
              "      <th>segment</th>\n",
              "    </tr>\n",
              "  </thead>\n",
              "  <tbody>\n",
              "    <tr>\n",
              "      <th>573</th>\n",
              "      <td>73d1cd35-5e5f-4629-8cf2-3fda829d4e58</td>\n",
              "      <td>2019-10-02</td>\n",
              "      <td>2019-10-31</td>\n",
              "      <td>21361.00000</td>\n",
              "      <td>17</td>\n",
              "      <td>0</td>\n",
              "      <td>4</td>\n",
              "      <td>4</td>\n",
              "      <td>4</td>\n",
              "      <td>12</td>\n",
              "      <td>Can't Loose Them</td>\n",
              "    </tr>\n",
              "    <tr>\n",
              "      <th>63</th>\n",
              "      <td>0d1b15b6-9cf3-4642-8bc3-74c7dee7b40e</td>\n",
              "      <td>2019-08-21</td>\n",
              "      <td>2019-10-08</td>\n",
              "      <td>1538.00000</td>\n",
              "      <td>3</td>\n",
              "      <td>23</td>\n",
              "      <td>4</td>\n",
              "      <td>3</td>\n",
              "      <td>4</td>\n",
              "      <td>11</td>\n",
              "      <td>Can't Loose Them</td>\n",
              "    </tr>\n",
              "    <tr>\n",
              "      <th>1099</th>\n",
              "      <td>e8204583-4d55-4724-ad3f-049c7db43bdd</td>\n",
              "      <td>2019-07-23</td>\n",
              "      <td>2019-09-06</td>\n",
              "      <td>3102.00000</td>\n",
              "      <td>3</td>\n",
              "      <td>54</td>\n",
              "      <td>4</td>\n",
              "      <td>3</td>\n",
              "      <td>4</td>\n",
              "      <td>11</td>\n",
              "      <td>Can't Loose Them</td>\n",
              "    </tr>\n",
              "    <tr>\n",
              "      <th>913</th>\n",
              "      <td>bea7a833-2074-42db-bc49-4457abd3c930</td>\n",
              "      <td>2019-05-14</td>\n",
              "      <td>2019-06-17</td>\n",
              "      <td>4409.00000</td>\n",
              "      <td>4</td>\n",
              "      <td>135</td>\n",
              "      <td>2</td>\n",
              "      <td>4</td>\n",
              "      <td>4</td>\n",
              "      <td>10</td>\n",
              "      <td>Can't Loose Them</td>\n",
              "    </tr>\n",
              "    <tr>\n",
              "      <th>990</th>\n",
              "      <td>d02429ab-22e0-4ff2-9465-3082befde444</td>\n",
              "      <td>2019-08-24</td>\n",
              "      <td>2019-08-25</td>\n",
              "      <td>3261.00000</td>\n",
              "      <td>3</td>\n",
              "      <td>67</td>\n",
              "      <td>3</td>\n",
              "      <td>3</td>\n",
              "      <td>4</td>\n",
              "      <td>10</td>\n",
              "      <td>Can't Loose Them</td>\n",
              "    </tr>\n",
              "  </tbody>\n",
              "</table>\n",
              "</div>\n",
              "      <button class=\"colab-df-convert\" onclick=\"convertToInteractive('df-c1235437-d008-4bf5-988f-85b86a02bd5d')\"\n",
              "              title=\"Convert this dataframe to an interactive table.\"\n",
              "              style=\"display:none;\">\n",
              "        \n",
              "  <svg xmlns=\"http://www.w3.org/2000/svg\" height=\"24px\"viewBox=\"0 0 24 24\"\n",
              "       width=\"24px\">\n",
              "    <path d=\"M0 0h24v24H0V0z\" fill=\"none\"/>\n",
              "    <path d=\"M18.56 5.44l.94 2.06.94-2.06 2.06-.94-2.06-.94-.94-2.06-.94 2.06-2.06.94zm-11 1L8.5 8.5l.94-2.06 2.06-.94-2.06-.94L8.5 2.5l-.94 2.06-2.06.94zm10 10l.94 2.06.94-2.06 2.06-.94-2.06-.94-.94-2.06-.94 2.06-2.06.94z\"/><path d=\"M17.41 7.96l-1.37-1.37c-.4-.4-.92-.59-1.43-.59-.52 0-1.04.2-1.43.59L10.3 9.45l-7.72 7.72c-.78.78-.78 2.05 0 2.83L4 21.41c.39.39.9.59 1.41.59.51 0 1.02-.2 1.41-.59l7.78-7.78 2.81-2.81c.8-.78.8-2.07 0-2.86zM5.41 20L4 18.59l7.72-7.72 1.47 1.35L5.41 20z\"/>\n",
              "  </svg>\n",
              "      </button>\n",
              "      \n",
              "  <style>\n",
              "    .colab-df-container {\n",
              "      display:flex;\n",
              "      flex-wrap:wrap;\n",
              "      gap: 12px;\n",
              "    }\n",
              "\n",
              "    .colab-df-convert {\n",
              "      background-color: #E8F0FE;\n",
              "      border: none;\n",
              "      border-radius: 50%;\n",
              "      cursor: pointer;\n",
              "      display: none;\n",
              "      fill: #1967D2;\n",
              "      height: 32px;\n",
              "      padding: 0 0 0 0;\n",
              "      width: 32px;\n",
              "    }\n",
              "\n",
              "    .colab-df-convert:hover {\n",
              "      background-color: #E2EBFA;\n",
              "      box-shadow: 0px 1px 2px rgba(60, 64, 67, 0.3), 0px 1px 3px 1px rgba(60, 64, 67, 0.15);\n",
              "      fill: #174EA6;\n",
              "    }\n",
              "\n",
              "    [theme=dark] .colab-df-convert {\n",
              "      background-color: #3B4455;\n",
              "      fill: #D2E3FC;\n",
              "    }\n",
              "\n",
              "    [theme=dark] .colab-df-convert:hover {\n",
              "      background-color: #434B5C;\n",
              "      box-shadow: 0px 1px 3px 1px rgba(0, 0, 0, 0.15);\n",
              "      filter: drop-shadow(0px 1px 2px rgba(0, 0, 0, 0.3));\n",
              "      fill: #FFFFFF;\n",
              "    }\n",
              "  </style>\n",
              "\n",
              "      <script>\n",
              "        const buttonEl =\n",
              "          document.querySelector('#df-c1235437-d008-4bf5-988f-85b86a02bd5d button.colab-df-convert');\n",
              "        buttonEl.style.display =\n",
              "          google.colab.kernel.accessAllowed ? 'block' : 'none';\n",
              "\n",
              "        async function convertToInteractive(key) {\n",
              "          const element = document.querySelector('#df-c1235437-d008-4bf5-988f-85b86a02bd5d');\n",
              "          const dataTable =\n",
              "            await google.colab.kernel.invokeFunction('convertToInteractive',\n",
              "                                                     [key], {});\n",
              "          if (!dataTable) return;\n",
              "\n",
              "          const docLinkHtml = 'Like what you see? Visit the ' +\n",
              "            '<a target=\"_blank\" href=https://colab.research.google.com/notebooks/data_table.ipynb>data table notebook</a>'\n",
              "            + ' to learn more about interactive tables.';\n",
              "          element.innerHTML = '';\n",
              "          dataTable['output_type'] = 'display_data';\n",
              "          await google.colab.output.renderOutput(dataTable, element);\n",
              "          const docLink = document.createElement('div');\n",
              "          docLink.innerHTML = docLinkHtml;\n",
              "          element.appendChild(docLink);\n",
              "        }\n",
              "      </script>\n",
              "    </div>\n",
              "  </div>\n",
              "  "
            ]
          },
          "metadata": {},
          "execution_count": 67
        }
      ]
    },
    {
      "cell_type": "markdown",
      "source": [
        "- Получился немного некорректный rfm анализ из за того что в наш магазин приходят и не возвращаются... Это повод задуматься, прежде чем что то делать с клиентами и пытаться их вернуть, нужно посмотреть внутри магазина там явно что то не так. Например в апреле и мае все хорошо потому что сезон посадки, нужно придумывать что делать в остальные месяцы."
      ],
      "metadata": {
        "id": "sa_PYnXQp5_P"
      }
    },
    {
      "cell_type": "code",
      "source": [
        "df = df.merge(profiles[['customer_id', 'rfm_score', 'segment']], how='left', on='customer_id')"
      ],
      "metadata": {
        "id": "t9OkeI21_q0F"
      },
      "execution_count": null,
      "outputs": []
    },
    {
      "cell_type": "code",
      "source": [
        "df['rfm_score'] = df['rfm_score'].fillna(0)\n",
        "df['segment'] = df['segment'].fillna('no_rfm')"
      ],
      "metadata": {
        "id": "bmVDtSqT_q2W"
      },
      "execution_count": null,
      "outputs": []
    },
    {
      "cell_type": "code",
      "source": [
        "df.head(1)"
      ],
      "metadata": {
        "id": "Kqs7aDy4_q4Z",
        "colab": {
          "base_uri": "https://localhost:8080/",
          "height": 214
        },
        "outputId": "131617a8-e3ab-4cfc-bf24-48e5d8aa076c"
      },
      "execution_count": null,
      "outputs": [
        {
          "output_type": "execute_result",
          "data": {
            "text/plain": [
              "                 date                           customer_id  order_id  \\\n",
              "0 2018-10-28 22:00:00  0b5ce2c7-acef-4a9a-b821-61a44ed05557     68785   \n",
              "\n",
              "                                        product  quantity     price   revenue  \\\n",
              "0  сиденье в ванну раздвижное, белый, св5, ника         1 374.00000 374.00000   \n",
              "\n",
              "  dayweek    month product_category       last_purchase  rfm_score segment  \n",
              "0  Sunday  October         интерьер 2018-10-28 22:00:00    0.00000  no_rfm  "
            ],
            "text/html": [
              "\n",
              "  <div id=\"df-20458014-00ae-4eca-85fb-fcfd42554a69\">\n",
              "    <div class=\"colab-df-container\">\n",
              "      <div>\n",
              "<style scoped>\n",
              "    .dataframe tbody tr th:only-of-type {\n",
              "        vertical-align: middle;\n",
              "    }\n",
              "\n",
              "    .dataframe tbody tr th {\n",
              "        vertical-align: top;\n",
              "    }\n",
              "\n",
              "    .dataframe thead th {\n",
              "        text-align: right;\n",
              "    }\n",
              "</style>\n",
              "<table border=\"1\" class=\"dataframe\">\n",
              "  <thead>\n",
              "    <tr style=\"text-align: right;\">\n",
              "      <th></th>\n",
              "      <th>date</th>\n",
              "      <th>customer_id</th>\n",
              "      <th>order_id</th>\n",
              "      <th>product</th>\n",
              "      <th>quantity</th>\n",
              "      <th>price</th>\n",
              "      <th>revenue</th>\n",
              "      <th>dayweek</th>\n",
              "      <th>month</th>\n",
              "      <th>product_category</th>\n",
              "      <th>last_purchase</th>\n",
              "      <th>rfm_score</th>\n",
              "      <th>segment</th>\n",
              "    </tr>\n",
              "  </thead>\n",
              "  <tbody>\n",
              "    <tr>\n",
              "      <th>0</th>\n",
              "      <td>2018-10-28 22:00:00</td>\n",
              "      <td>0b5ce2c7-acef-4a9a-b821-61a44ed05557</td>\n",
              "      <td>68785</td>\n",
              "      <td>сиденье в ванну раздвижное, белый, св5, ника</td>\n",
              "      <td>1</td>\n",
              "      <td>374.00000</td>\n",
              "      <td>374.00000</td>\n",
              "      <td>Sunday</td>\n",
              "      <td>October</td>\n",
              "      <td>интерьер</td>\n",
              "      <td>2018-10-28 22:00:00</td>\n",
              "      <td>0.00000</td>\n",
              "      <td>no_rfm</td>\n",
              "    </tr>\n",
              "  </tbody>\n",
              "</table>\n",
              "</div>\n",
              "      <button class=\"colab-df-convert\" onclick=\"convertToInteractive('df-20458014-00ae-4eca-85fb-fcfd42554a69')\"\n",
              "              title=\"Convert this dataframe to an interactive table.\"\n",
              "              style=\"display:none;\">\n",
              "        \n",
              "  <svg xmlns=\"http://www.w3.org/2000/svg\" height=\"24px\"viewBox=\"0 0 24 24\"\n",
              "       width=\"24px\">\n",
              "    <path d=\"M0 0h24v24H0V0z\" fill=\"none\"/>\n",
              "    <path d=\"M18.56 5.44l.94 2.06.94-2.06 2.06-.94-2.06-.94-.94-2.06-.94 2.06-2.06.94zm-11 1L8.5 8.5l.94-2.06 2.06-.94-2.06-.94L8.5 2.5l-.94 2.06-2.06.94zm10 10l.94 2.06.94-2.06 2.06-.94-2.06-.94-.94-2.06-.94 2.06-2.06.94z\"/><path d=\"M17.41 7.96l-1.37-1.37c-.4-.4-.92-.59-1.43-.59-.52 0-1.04.2-1.43.59L10.3 9.45l-7.72 7.72c-.78.78-.78 2.05 0 2.83L4 21.41c.39.39.9.59 1.41.59.51 0 1.02-.2 1.41-.59l7.78-7.78 2.81-2.81c.8-.78.8-2.07 0-2.86zM5.41 20L4 18.59l7.72-7.72 1.47 1.35L5.41 20z\"/>\n",
              "  </svg>\n",
              "      </button>\n",
              "      \n",
              "  <style>\n",
              "    .colab-df-container {\n",
              "      display:flex;\n",
              "      flex-wrap:wrap;\n",
              "      gap: 12px;\n",
              "    }\n",
              "\n",
              "    .colab-df-convert {\n",
              "      background-color: #E8F0FE;\n",
              "      border: none;\n",
              "      border-radius: 50%;\n",
              "      cursor: pointer;\n",
              "      display: none;\n",
              "      fill: #1967D2;\n",
              "      height: 32px;\n",
              "      padding: 0 0 0 0;\n",
              "      width: 32px;\n",
              "    }\n",
              "\n",
              "    .colab-df-convert:hover {\n",
              "      background-color: #E2EBFA;\n",
              "      box-shadow: 0px 1px 2px rgba(60, 64, 67, 0.3), 0px 1px 3px 1px rgba(60, 64, 67, 0.15);\n",
              "      fill: #174EA6;\n",
              "    }\n",
              "\n",
              "    [theme=dark] .colab-df-convert {\n",
              "      background-color: #3B4455;\n",
              "      fill: #D2E3FC;\n",
              "    }\n",
              "\n",
              "    [theme=dark] .colab-df-convert:hover {\n",
              "      background-color: #434B5C;\n",
              "      box-shadow: 0px 1px 3px 1px rgba(0, 0, 0, 0.15);\n",
              "      filter: drop-shadow(0px 1px 2px rgba(0, 0, 0, 0.3));\n",
              "      fill: #FFFFFF;\n",
              "    }\n",
              "  </style>\n",
              "\n",
              "      <script>\n",
              "        const buttonEl =\n",
              "          document.querySelector('#df-20458014-00ae-4eca-85fb-fcfd42554a69 button.colab-df-convert');\n",
              "        buttonEl.style.display =\n",
              "          google.colab.kernel.accessAllowed ? 'block' : 'none';\n",
              "\n",
              "        async function convertToInteractive(key) {\n",
              "          const element = document.querySelector('#df-20458014-00ae-4eca-85fb-fcfd42554a69');\n",
              "          const dataTable =\n",
              "            await google.colab.kernel.invokeFunction('convertToInteractive',\n",
              "                                                     [key], {});\n",
              "          if (!dataTable) return;\n",
              "\n",
              "          const docLinkHtml = 'Like what you see? Visit the ' +\n",
              "            '<a target=\"_blank\" href=https://colab.research.google.com/notebooks/data_table.ipynb>data table notebook</a>'\n",
              "            + ' to learn more about interactive tables.';\n",
              "          element.innerHTML = '';\n",
              "          dataTable['output_type'] = 'display_data';\n",
              "          await google.colab.output.renderOutput(dataTable, element);\n",
              "          const docLink = document.createElement('div');\n",
              "          docLink.innerHTML = docLinkHtml;\n",
              "          element.appendChild(docLink);\n",
              "        }\n",
              "      </script>\n",
              "    </div>\n",
              "  </div>\n",
              "  "
            ]
          },
          "metadata": {},
          "execution_count": 70
        }
      ]
    },
    {
      "cell_type": "code",
      "source": [
        "rfm_level_agg = df.query('segment != \"no_rfm\"').groupby('segment').agg({\n",
        "    'customer_id': 'nunique',\n",
        "    'order_id': 'nunique',\n",
        "    'revenue': 'mean'\n",
        "}).reset_index()\n",
        "rfm_level_agg"
      ],
      "metadata": {
        "colab": {
          "base_uri": "https://localhost:8080/",
          "height": 269
        },
        "id": "4_aOwCK8cU_o",
        "outputId": "dd7a42c0-4507-4a86-8abb-ce38c6219651"
      },
      "execution_count": null,
      "outputs": [
        {
          "output_type": "execute_result",
          "data": {
            "text/plain": [
              "              segment  customer_id  order_id    revenue\n",
              "0    Can't Loose Them           94       158 1264.60317\n",
              "1           Champions          156       179 1036.78095\n",
              "2               Loyal          228       255  602.03436\n",
              "3     Needs Attention          128       130  230.93529\n",
              "4           Potential          309       321  416.80890\n",
              "5           Promising          234       244  233.67754\n",
              "6  Require Activation           76        79  129.58537"
            ],
            "text/html": [
              "\n",
              "  <div id=\"df-5a022af3-253f-43f5-8a9c-d01588c7ccb5\">\n",
              "    <div class=\"colab-df-container\">\n",
              "      <div>\n",
              "<style scoped>\n",
              "    .dataframe tbody tr th:only-of-type {\n",
              "        vertical-align: middle;\n",
              "    }\n",
              "\n",
              "    .dataframe tbody tr th {\n",
              "        vertical-align: top;\n",
              "    }\n",
              "\n",
              "    .dataframe thead th {\n",
              "        text-align: right;\n",
              "    }\n",
              "</style>\n",
              "<table border=\"1\" class=\"dataframe\">\n",
              "  <thead>\n",
              "    <tr style=\"text-align: right;\">\n",
              "      <th></th>\n",
              "      <th>segment</th>\n",
              "      <th>customer_id</th>\n",
              "      <th>order_id</th>\n",
              "      <th>revenue</th>\n",
              "    </tr>\n",
              "  </thead>\n",
              "  <tbody>\n",
              "    <tr>\n",
              "      <th>0</th>\n",
              "      <td>Can't Loose Them</td>\n",
              "      <td>94</td>\n",
              "      <td>158</td>\n",
              "      <td>1264.60317</td>\n",
              "    </tr>\n",
              "    <tr>\n",
              "      <th>1</th>\n",
              "      <td>Champions</td>\n",
              "      <td>156</td>\n",
              "      <td>179</td>\n",
              "      <td>1036.78095</td>\n",
              "    </tr>\n",
              "    <tr>\n",
              "      <th>2</th>\n",
              "      <td>Loyal</td>\n",
              "      <td>228</td>\n",
              "      <td>255</td>\n",
              "      <td>602.03436</td>\n",
              "    </tr>\n",
              "    <tr>\n",
              "      <th>3</th>\n",
              "      <td>Needs Attention</td>\n",
              "      <td>128</td>\n",
              "      <td>130</td>\n",
              "      <td>230.93529</td>\n",
              "    </tr>\n",
              "    <tr>\n",
              "      <th>4</th>\n",
              "      <td>Potential</td>\n",
              "      <td>309</td>\n",
              "      <td>321</td>\n",
              "      <td>416.80890</td>\n",
              "    </tr>\n",
              "    <tr>\n",
              "      <th>5</th>\n",
              "      <td>Promising</td>\n",
              "      <td>234</td>\n",
              "      <td>244</td>\n",
              "      <td>233.67754</td>\n",
              "    </tr>\n",
              "    <tr>\n",
              "      <th>6</th>\n",
              "      <td>Require Activation</td>\n",
              "      <td>76</td>\n",
              "      <td>79</td>\n",
              "      <td>129.58537</td>\n",
              "    </tr>\n",
              "  </tbody>\n",
              "</table>\n",
              "</div>\n",
              "      <button class=\"colab-df-convert\" onclick=\"convertToInteractive('df-5a022af3-253f-43f5-8a9c-d01588c7ccb5')\"\n",
              "              title=\"Convert this dataframe to an interactive table.\"\n",
              "              style=\"display:none;\">\n",
              "        \n",
              "  <svg xmlns=\"http://www.w3.org/2000/svg\" height=\"24px\"viewBox=\"0 0 24 24\"\n",
              "       width=\"24px\">\n",
              "    <path d=\"M0 0h24v24H0V0z\" fill=\"none\"/>\n",
              "    <path d=\"M18.56 5.44l.94 2.06.94-2.06 2.06-.94-2.06-.94-.94-2.06-.94 2.06-2.06.94zm-11 1L8.5 8.5l.94-2.06 2.06-.94-2.06-.94L8.5 2.5l-.94 2.06-2.06.94zm10 10l.94 2.06.94-2.06 2.06-.94-2.06-.94-.94-2.06-.94 2.06-2.06.94z\"/><path d=\"M17.41 7.96l-1.37-1.37c-.4-.4-.92-.59-1.43-.59-.52 0-1.04.2-1.43.59L10.3 9.45l-7.72 7.72c-.78.78-.78 2.05 0 2.83L4 21.41c.39.39.9.59 1.41.59.51 0 1.02-.2 1.41-.59l7.78-7.78 2.81-2.81c.8-.78.8-2.07 0-2.86zM5.41 20L4 18.59l7.72-7.72 1.47 1.35L5.41 20z\"/>\n",
              "  </svg>\n",
              "      </button>\n",
              "      \n",
              "  <style>\n",
              "    .colab-df-container {\n",
              "      display:flex;\n",
              "      flex-wrap:wrap;\n",
              "      gap: 12px;\n",
              "    }\n",
              "\n",
              "    .colab-df-convert {\n",
              "      background-color: #E8F0FE;\n",
              "      border: none;\n",
              "      border-radius: 50%;\n",
              "      cursor: pointer;\n",
              "      display: none;\n",
              "      fill: #1967D2;\n",
              "      height: 32px;\n",
              "      padding: 0 0 0 0;\n",
              "      width: 32px;\n",
              "    }\n",
              "\n",
              "    .colab-df-convert:hover {\n",
              "      background-color: #E2EBFA;\n",
              "      box-shadow: 0px 1px 2px rgba(60, 64, 67, 0.3), 0px 1px 3px 1px rgba(60, 64, 67, 0.15);\n",
              "      fill: #174EA6;\n",
              "    }\n",
              "\n",
              "    [theme=dark] .colab-df-convert {\n",
              "      background-color: #3B4455;\n",
              "      fill: #D2E3FC;\n",
              "    }\n",
              "\n",
              "    [theme=dark] .colab-df-convert:hover {\n",
              "      background-color: #434B5C;\n",
              "      box-shadow: 0px 1px 3px 1px rgba(0, 0, 0, 0.15);\n",
              "      filter: drop-shadow(0px 1px 2px rgba(0, 0, 0, 0.3));\n",
              "      fill: #FFFFFF;\n",
              "    }\n",
              "  </style>\n",
              "\n",
              "      <script>\n",
              "        const buttonEl =\n",
              "          document.querySelector('#df-5a022af3-253f-43f5-8a9c-d01588c7ccb5 button.colab-df-convert');\n",
              "        buttonEl.style.display =\n",
              "          google.colab.kernel.accessAllowed ? 'block' : 'none';\n",
              "\n",
              "        async function convertToInteractive(key) {\n",
              "          const element = document.querySelector('#df-5a022af3-253f-43f5-8a9c-d01588c7ccb5');\n",
              "          const dataTable =\n",
              "            await google.colab.kernel.invokeFunction('convertToInteractive',\n",
              "                                                     [key], {});\n",
              "          if (!dataTable) return;\n",
              "\n",
              "          const docLinkHtml = 'Like what you see? Visit the ' +\n",
              "            '<a target=\"_blank\" href=https://colab.research.google.com/notebooks/data_table.ipynb>data table notebook</a>'\n",
              "            + ' to learn more about interactive tables.';\n",
              "          element.innerHTML = '';\n",
              "          dataTable['output_type'] = 'display_data';\n",
              "          await google.colab.output.renderOutput(dataTable, element);\n",
              "          const docLink = document.createElement('div');\n",
              "          docLink.innerHTML = docLinkHtml;\n",
              "          element.appendChild(docLink);\n",
              "        }\n",
              "      </script>\n",
              "    </div>\n",
              "  </div>\n",
              "  "
            ]
          },
          "metadata": {},
          "execution_count": 71
        }
      ]
    },
    {
      "cell_type": "code",
      "source": [
        "univariate_multi_plot(df=df.query('segment != \"no_rfm\"'), x=\"segment\", xlabel=\"RMF\", rotation=45)"
      ],
      "metadata": {
        "colab": {
          "base_uri": "https://localhost:8080/",
          "height": 575
        },
        "id": "CNWmuG7JXMY6",
        "outputId": "0530b85a-0167-4cfe-a2f5-7c1e6b734c9f"
      },
      "execution_count": null,
      "outputs": [
        {
          "output_type": "display_data",
          "data": {
            "text/plain": [
              "<Figure size 1152x504 with 2 Axes>"
            ],
            "image/png": "[encoded data removed]"
          },
          "metadata": {
            "needs_background": "light"
          }
        }
      ]
    },
    {
      "cell_type": "markdown",
      "source": [
        "- мы выделили клиентов и теперь можем с ними работать более персонально"
      ],
      "metadata": {
        "id": "QrwUgkm4b9Wb"
      }
    },
    {
      "cell_type": "markdown",
      "source": [
        "## 5.5 Сезонность"
      ],
      "metadata": {
        "id": "wxaGyCB7_Bok"
      }
    },
    {
      "cell_type": "code",
      "source": [
        "plt.figure(figsize = (16, 5))\n",
        "sns.barplot(data=df.query('date > @data_border'), x='month', y=\"revenue\", hue=\"product_category\", alpha=0.7, estimator=sum)\n",
        "plt.title('Общая выручка по категориям с \"2018-10-31\" по \"2018-10-31\"')\n",
        "plt.xlabel(xlabel='Месяц')\n",
        "plt.ylabel(ylabel='сумма(руб.)')\n",
        "plt.show()"
      ],
      "metadata": {
        "colab": {
          "base_uri": "https://localhost:8080/",
          "height": 350
        },
        "id": "AMGppsEmfEAq",
        "outputId": "7ef485cc-998a-4ecf-98f0-2c834e1d19ce"
      },
      "execution_count": null,
      "outputs": [
        {
          "output_type": "display_data",
          "data": {
            "text/plain": [
              "<Figure size 1152x360 with 1 Axes>"
            ],
            "image/png": "[encoded data removed]"
          },
          "metadata": {
            "needs_background": "light"
          }
        }
      ]
    },
    {
      "cell_type": "code",
      "source": [
        "plt.figure(figsize = (16, 5))\n",
        "sns.barplot(data=df.query('date > @data_border'), x='month', y=\"revenue\", alpha=0.7, estimator=sum)\n",
        "plt.title('Общая выручка по месяцам с \"2018-10-31\" по \"2018-10-31\"')\n",
        "plt.xlabel(xlabel='Месяц')\n",
        "plt.ylabel(ylabel='сумма(руб.)')\n",
        "plt.show()"
      ],
      "metadata": {
        "colab": {
          "base_uri": "https://localhost:8080/",
          "height": 350
        },
        "id": "i0Mp8kuoh7cM",
        "outputId": "8ba1a01d-999d-4dbd-a67c-9345a7de809e"
      },
      "execution_count": null,
      "outputs": [
        {
          "output_type": "display_data",
          "data": {
            "text/plain": [
              "<Figure size 1152x360 with 1 Axes>"
            ],
            "image/png": "[encoded data removed]"
          },
          "metadata": {
            "needs_background": "light"
          }
        }
      ]
    },
    {
      "cell_type": "code",
      "source": [
        "df.groupby('product_category')['revenue'].agg(['count', 'sum','mean']).reset_index().sort_values(by='sum', ascending=False)"
      ],
      "metadata": {
        "colab": {
          "base_uri": "https://localhost:8080/",
          "height": 175
        },
        "id": "vrQv5EaJhhUL",
        "outputId": "003f8a41-098f-4e8e-a1bd-38f5cbfe39b8"
      },
      "execution_count": null,
      "outputs": [
        {
          "output_type": "execute_result",
          "data": {
            "text/plain": [
              "  product_category  count          sum       mean\n",
              "1         растения   2847 966216.00000  339.38040\n",
              "3         хранение    510 911231.00000 1786.72745\n",
              "2        хозтовары    500 625539.00000 1251.07800\n",
              "0         интерьер    781 581428.00000  744.46607"
            ],
            "text/html": [
              "\n",
              "  <div id=\"df-c4b1f565-b827-4f03-9cdd-3bb7ee251373\">\n",
              "    <div class=\"colab-df-container\">\n",
              "      <div>\n",
              "<style scoped>\n",
              "    .dataframe tbody tr th:only-of-type {\n",
              "        vertical-align: middle;\n",
              "    }\n",
              "\n",
              "    .dataframe tbody tr th {\n",
              "        vertical-align: top;\n",
              "    }\n",
              "\n",
              "    .dataframe thead th {\n",
              "        text-align: right;\n",
              "    }\n",
              "</style>\n",
              "<table border=\"1\" class=\"dataframe\">\n",
              "  <thead>\n",
              "    <tr style=\"text-align: right;\">\n",
              "      <th></th>\n",
              "      <th>product_category</th>\n",
              "      <th>count</th>\n",
              "      <th>sum</th>\n",
              "      <th>mean</th>\n",
              "    </tr>\n",
              "  </thead>\n",
              "  <tbody>\n",
              "    <tr>\n",
              "      <th>1</th>\n",
              "      <td>растения</td>\n",
              "      <td>2847</td>\n",
              "      <td>966216.00000</td>\n",
              "      <td>339.38040</td>\n",
              "    </tr>\n",
              "    <tr>\n",
              "      <th>3</th>\n",
              "      <td>хранение</td>\n",
              "      <td>510</td>\n",
              "      <td>911231.00000</td>\n",
              "      <td>1786.72745</td>\n",
              "    </tr>\n",
              "    <tr>\n",
              "      <th>2</th>\n",
              "      <td>хозтовары</td>\n",
              "      <td>500</td>\n",
              "      <td>625539.00000</td>\n",
              "      <td>1251.07800</td>\n",
              "    </tr>\n",
              "    <tr>\n",
              "      <th>0</th>\n",
              "      <td>интерьер</td>\n",
              "      <td>781</td>\n",
              "      <td>581428.00000</td>\n",
              "      <td>744.46607</td>\n",
              "    </tr>\n",
              "  </tbody>\n",
              "</table>\n",
              "</div>\n",
              "      <button class=\"colab-df-convert\" onclick=\"convertToInteractive('df-c4b1f565-b827-4f03-9cdd-3bb7ee251373')\"\n",
              "              title=\"Convert this dataframe to an interactive table.\"\n",
              "              style=\"display:none;\">\n",
              "        \n",
              "  <svg xmlns=\"http://www.w3.org/2000/svg\" height=\"24px\"viewBox=\"0 0 24 24\"\n",
              "       width=\"24px\">\n",
              "    <path d=\"M0 0h24v24H0V0z\" fill=\"none\"/>\n",
              "    <path d=\"M18.56 5.44l.94 2.06.94-2.06 2.06-.94-2.06-.94-.94-2.06-.94 2.06-2.06.94zm-11 1L8.5 8.5l.94-2.06 2.06-.94-2.06-.94L8.5 2.5l-.94 2.06-2.06.94zm10 10l.94 2.06.94-2.06 2.06-.94-2.06-.94-.94-2.06-.94 2.06-2.06.94z\"/><path d=\"M17.41 7.96l-1.37-1.37c-.4-.4-.92-.59-1.43-.59-.52 0-1.04.2-1.43.59L10.3 9.45l-7.72 7.72c-.78.78-.78 2.05 0 2.83L4 21.41c.39.39.9.59 1.41.59.51 0 1.02-.2 1.41-.59l7.78-7.78 2.81-2.81c.8-.78.8-2.07 0-2.86zM5.41 20L4 18.59l7.72-7.72 1.47 1.35L5.41 20z\"/>\n",
              "  </svg>\n",
              "      </button>\n",
              "      \n",
              "  <style>\n",
              "    .colab-df-container {\n",
              "      display:flex;\n",
              "      flex-wrap:wrap;\n",
              "      gap: 12px;\n",
              "    }\n",
              "\n",
              "    .colab-df-convert {\n",
              "      background-color: #E8F0FE;\n",
              "      border: none;\n",
              "      border-radius: 50%;\n",
              "      cursor: pointer;\n",
              "      display: none;\n",
              "      fill: #1967D2;\n",
              "      height: 32px;\n",
              "      padding: 0 0 0 0;\n",
              "      width: 32px;\n",
              "    }\n",
              "\n",
              "    .colab-df-convert:hover {\n",
              "      background-color: #E2EBFA;\n",
              "      box-shadow: 0px 1px 2px rgba(60, 64, 67, 0.3), 0px 1px 3px 1px rgba(60, 64, 67, 0.15);\n",
              "      fill: #174EA6;\n",
              "    }\n",
              "\n",
              "    [theme=dark] .colab-df-convert {\n",
              "      background-color: #3B4455;\n",
              "      fill: #D2E3FC;\n",
              "    }\n",
              "\n",
              "    [theme=dark] .colab-df-convert:hover {\n",
              "      background-color: #434B5C;\n",
              "      box-shadow: 0px 1px 3px 1px rgba(0, 0, 0, 0.15);\n",
              "      filter: drop-shadow(0px 1px 2px rgba(0, 0, 0, 0.3));\n",
              "      fill: #FFFFFF;\n",
              "    }\n",
              "  </style>\n",
              "\n",
              "      <script>\n",
              "        const buttonEl =\n",
              "          document.querySelector('#df-c4b1f565-b827-4f03-9cdd-3bb7ee251373 button.colab-df-convert');\n",
              "        buttonEl.style.display =\n",
              "          google.colab.kernel.accessAllowed ? 'block' : 'none';\n",
              "\n",
              "        async function convertToInteractive(key) {\n",
              "          const element = document.querySelector('#df-c4b1f565-b827-4f03-9cdd-3bb7ee251373');\n",
              "          const dataTable =\n",
              "            await google.colab.kernel.invokeFunction('convertToInteractive',\n",
              "                                                     [key], {});\n",
              "          if (!dataTable) return;\n",
              "\n",
              "          const docLinkHtml = 'Like what you see? Visit the ' +\n",
              "            '<a target=\"_blank\" href=https://colab.research.google.com/notebooks/data_table.ipynb>data table notebook</a>'\n",
              "            + ' to learn more about interactive tables.';\n",
              "          element.innerHTML = '';\n",
              "          dataTable['output_type'] = 'display_data';\n",
              "          await google.colab.output.renderOutput(dataTable, element);\n",
              "          const docLink = document.createElement('div');\n",
              "          docLink.innerHTML = docLinkHtml;\n",
              "          element.appendChild(docLink);\n",
              "        }\n",
              "      </script>\n",
              "    </div>\n",
              "  </div>\n",
              "  "
            ]
          },
          "metadata": {},
          "execution_count": 75
        }
      ]
    },
    {
      "cell_type": "markdown",
      "source": [
        "- Категория растения преобладает в весенний период, но и в январе люди покупают растения. Лидер по выручке, имеет самый низкий средний чек. Имеет ярко выраженную сезонность.\n",
        "- Хранение, вырчка за год почти такая же как у категории рестения, самый высокий чек. Имеет ярко выраженную сезонность.\n",
        "- Хозтовары и интерьер почти равны по выручке, однако срений чек заметно отличается. Не имеет яркой сезонности.\n"
      ],
      "metadata": {
        "id": "wz7KlKMKgmKn"
      }
    },
    {
      "cell_type": "markdown",
      "source": [
        "## 5.6 ABC"
      ],
      "metadata": {
        "id": "PqsxNmHk2jmB"
      }
    },
    {
      "cell_type": "markdown",
      "source": [
        "- abc-xyz анализ, сделан по категориям, тоесть в каждой категории незваисимо от других категорий свое ранжирование товара.\n",
        "- \"A\">\"B\">\"C\" где \"А\" товар который попадает в 80% от общей выручки категории, \"В\" в диапазоне 15% от общей выручки и \"С\" в 5% всей выручки категории. Вторая буква означает количество проданного товара от общего числа проданного товара в категории. "
      ],
      "metadata": {
        "id": "xheXxOJnk61w"
      }
    },
    {
      "cell_type": "code",
      "source": [
        "# сортировка по процентам (<80, 80-95, 95>)\n",
        "def aabbcc(row):\n",
        "  if row <= 0.8:\n",
        "    return 'A'\n",
        "  if row <= 0.95:\n",
        "    return 'B'\n",
        "  return 'C'\n",
        "\n",
        "# сортировка по процентам (<15, 16-25, 25>)\n",
        "def xyz(row):\n",
        "  if row <= 0.15:\n",
        "    return 'X'\n",
        "  if row <= 0.25:\n",
        "    return 'Y'\n",
        "  return 'Z'\n",
        "\n",
        "def get_abc(df, category):\n",
        "\n",
        "  abc = (\n",
        "    df.query('product_category == @category')\n",
        "    .groupby('product')['revenue']\n",
        "    .agg(['count', 'sum', 'mean', 'std'])\n",
        "    .reset_index()\n",
        "   )\n",
        "\n",
        "  abc['revenue_pct'] = abc['sum'] / abc['sum'].sum()\n",
        "  abc = abc.sort_values(by='revenue_pct', ascending=False)\n",
        "  abc['cumsum'] = abc['revenue_pct'].cumsum()\n",
        "  abc['abc_cumsum'] = abc['cumsum'].apply(aabbcc)\n",
        "\n",
        "  abc_count = abc[['product', 'count']].sort_values(by='count', ascending=False)\n",
        "  abc_count['count_pct'] = abc_count['count'] / abc_count['count'].sum()\n",
        "  abc_count['cumcount'] = abc_count['count_pct'].cumsum()\n",
        "  abc['abc_cumcount'] = abc_count['cumcount'].apply(aabbcc)\n",
        "\n",
        "  abc['pct'] = abc['std'] / abc['mean']\n",
        "  abc = abc.fillna(100)\n",
        "  abc['xyz'] = abc['pct'].apply(xyz)\n",
        "  \n",
        "  abc['abc'] = abc['abc_cumsum'] + abc['abc_cumcount']\n",
        "  \n",
        "  return abc"
      ],
      "metadata": {
        "id": "TezusrET7cWd"
      },
      "execution_count": null,
      "outputs": []
    },
    {
      "cell_type": "code",
      "source": [
        "abc_xyz = pd.concat([get_abc(df, 'интерьер'), get_abc(df, 'растения'), get_abc(df, 'хозтовары'), get_abc(df, 'хранение')])\n",
        "abc_xyz.head()"
      ],
      "metadata": {
        "colab": {
          "base_uri": "https://localhost:8080/",
          "height": 320
        },
        "id": "zbrALEc5eXt9",
        "outputId": "28f7455c-83b4-4f7c-8d47-13a85a90d1f7"
      },
      "execution_count": null,
      "outputs": [
        {
          "output_type": "execute_result",
          "data": {
            "text/plain": [
              "                                               product  count         sum  \\\n",
              "217                          муляж яблоко 9 см красное      5 17402.00000   \n",
              "93   коврик придверный attribute nature кокосовый 6...      4 16888.00000   \n",
              "309  скатерть 180 см wellness wtd180-лион*01 100% п...      1  8832.00000   \n",
              "322  скатерть рим 88% полиэфир 12% хлопок прямоугол...      1  7496.00000   \n",
              "83   коврик для ванной прямоугольный, 4.5см. shaggy...      2  6297.00000   \n",
              "\n",
              "          mean        std  revenue_pct  cumsum abc_cumsum abc_cumcount  \\\n",
              "217 3480.40000 4553.05077      0.02993 0.02993          A            A   \n",
              "93  4222.00000 3046.97927      0.02905 0.05898          A            A   \n",
              "309 8832.00000  100.00000      0.01519 0.07417          A            A   \n",
              "322 7496.00000  100.00000      0.01289 0.08706          A            B   \n",
              "83  3148.50000 1484.21713      0.01083 0.09789          A            A   \n",
              "\n",
              "          pct xyz abc  \n",
              "217   1.30820   Z  AA  \n",
              "93    0.72169   Z  AA  \n",
              "309 100.00000   Z  AA  \n",
              "322 100.00000   Z  AB  \n",
              "83    0.47140   Z  AA  "
            ],
            "text/html": [
              "\n",
              "  <div id=\"df-83b808b9-c54a-4b12-a1cb-ff7944ec4813\">\n",
              "    <div class=\"colab-df-container\">\n",
              "      <div>\n",
              "<style scoped>\n",
              "    .dataframe tbody tr th:only-of-type {\n",
              "        vertical-align: middle;\n",
              "    }\n",
              "\n",
              "    .dataframe tbody tr th {\n",
              "        vertical-align: top;\n",
              "    }\n",
              "\n",
              "    .dataframe thead th {\n",
              "        text-align: right;\n",
              "    }\n",
              "</style>\n",
              "<table border=\"1\" class=\"dataframe\">\n",
              "  <thead>\n",
              "    <tr style=\"text-align: right;\">\n",
              "      <th></th>\n",
              "      <th>product</th>\n",
              "      <th>count</th>\n",
              "      <th>sum</th>\n",
              "      <th>mean</th>\n",
              "      <th>std</th>\n",
              "      <th>revenue_pct</th>\n",
              "      <th>cumsum</th>\n",
              "      <th>abc_cumsum</th>\n",
              "      <th>abc_cumcount</th>\n",
              "      <th>pct</th>\n",
              "      <th>xyz</th>\n",
              "      <th>abc</th>\n",
              "    </tr>\n",
              "  </thead>\n",
              "  <tbody>\n",
              "    <tr>\n",
              "      <th>217</th>\n",
              "      <td>муляж яблоко 9 см красное</td>\n",
              "      <td>5</td>\n",
              "      <td>17402.00000</td>\n",
              "      <td>3480.40000</td>\n",
              "      <td>4553.05077</td>\n",
              "      <td>0.02993</td>\n",
              "      <td>0.02993</td>\n",
              "      <td>A</td>\n",
              "      <td>A</td>\n",
              "      <td>1.30820</td>\n",
              "      <td>Z</td>\n",
              "      <td>AA</td>\n",
              "    </tr>\n",
              "    <tr>\n",
              "      <th>93</th>\n",
              "      <td>коврик придверный attribute nature кокосовый 6...</td>\n",
              "      <td>4</td>\n",
              "      <td>16888.00000</td>\n",
              "      <td>4222.00000</td>\n",
              "      <td>3046.97927</td>\n",
              "      <td>0.02905</td>\n",
              "      <td>0.05898</td>\n",
              "      <td>A</td>\n",
              "      <td>A</td>\n",
              "      <td>0.72169</td>\n",
              "      <td>Z</td>\n",
              "      <td>AA</td>\n",
              "    </tr>\n",
              "    <tr>\n",
              "      <th>309</th>\n",
              "      <td>скатерть 180 см wellness wtd180-лион*01 100% п...</td>\n",
              "      <td>1</td>\n",
              "      <td>8832.00000</td>\n",
              "      <td>8832.00000</td>\n",
              "      <td>100.00000</td>\n",
              "      <td>0.01519</td>\n",
              "      <td>0.07417</td>\n",
              "      <td>A</td>\n",
              "      <td>A</td>\n",
              "      <td>100.00000</td>\n",
              "      <td>Z</td>\n",
              "      <td>AA</td>\n",
              "    </tr>\n",
              "    <tr>\n",
              "      <th>322</th>\n",
              "      <td>скатерть рим 88% полиэфир 12% хлопок прямоугол...</td>\n",
              "      <td>1</td>\n",
              "      <td>7496.00000</td>\n",
              "      <td>7496.00000</td>\n",
              "      <td>100.00000</td>\n",
              "      <td>0.01289</td>\n",
              "      <td>0.08706</td>\n",
              "      <td>A</td>\n",
              "      <td>B</td>\n",
              "      <td>100.00000</td>\n",
              "      <td>Z</td>\n",
              "      <td>AB</td>\n",
              "    </tr>\n",
              "    <tr>\n",
              "      <th>83</th>\n",
              "      <td>коврик для ванной прямоугольный, 4.5см. shaggy...</td>\n",
              "      <td>2</td>\n",
              "      <td>6297.00000</td>\n",
              "      <td>3148.50000</td>\n",
              "      <td>1484.21713</td>\n",
              "      <td>0.01083</td>\n",
              "      <td>0.09789</td>\n",
              "      <td>A</td>\n",
              "      <td>A</td>\n",
              "      <td>0.47140</td>\n",
              "      <td>Z</td>\n",
              "      <td>AA</td>\n",
              "    </tr>\n",
              "  </tbody>\n",
              "</table>\n",
              "</div>\n",
              "      <button class=\"colab-df-convert\" onclick=\"convertToInteractive('df-83b808b9-c54a-4b12-a1cb-ff7944ec4813')\"\n",
              "              title=\"Convert this dataframe to an interactive table.\"\n",
              "              style=\"display:none;\">\n",
              "        \n",
              "  <svg xmlns=\"http://www.w3.org/2000/svg\" height=\"24px\"viewBox=\"0 0 24 24\"\n",
              "       width=\"24px\">\n",
              "    <path d=\"M0 0h24v24H0V0z\" fill=\"none\"/>\n",
              "    <path d=\"M18.56 5.44l.94 2.06.94-2.06 2.06-.94-2.06-.94-.94-2.06-.94 2.06-2.06.94zm-11 1L8.5 8.5l.94-2.06 2.06-.94-2.06-.94L8.5 2.5l-.94 2.06-2.06.94zm10 10l.94 2.06.94-2.06 2.06-.94-2.06-.94-.94-2.06-.94 2.06-2.06.94z\"/><path d=\"M17.41 7.96l-1.37-1.37c-.4-.4-.92-.59-1.43-.59-.52 0-1.04.2-1.43.59L10.3 9.45l-7.72 7.72c-.78.78-.78 2.05 0 2.83L4 21.41c.39.39.9.59 1.41.59.51 0 1.02-.2 1.41-.59l7.78-7.78 2.81-2.81c.8-.78.8-2.07 0-2.86zM5.41 20L4 18.59l7.72-7.72 1.47 1.35L5.41 20z\"/>\n",
              "  </svg>\n",
              "      </button>\n",
              "      \n",
              "  <style>\n",
              "    .colab-df-container {\n",
              "      display:flex;\n",
              "      flex-wrap:wrap;\n",
              "      gap: 12px;\n",
              "    }\n",
              "\n",
              "    .colab-df-convert {\n",
              "      background-color: #E8F0FE;\n",
              "      border: none;\n",
              "      border-radius: 50%;\n",
              "      cursor: pointer;\n",
              "      display: none;\n",
              "      fill: #1967D2;\n",
              "      height: 32px;\n",
              "      padding: 0 0 0 0;\n",
              "      width: 32px;\n",
              "    }\n",
              "\n",
              "    .colab-df-convert:hover {\n",
              "      background-color: #E2EBFA;\n",
              "      box-shadow: 0px 1px 2px rgba(60, 64, 67, 0.3), 0px 1px 3px 1px rgba(60, 64, 67, 0.15);\n",
              "      fill: #174EA6;\n",
              "    }\n",
              "\n",
              "    [theme=dark] .colab-df-convert {\n",
              "      background-color: #3B4455;\n",
              "      fill: #D2E3FC;\n",
              "    }\n",
              "\n",
              "    [theme=dark] .colab-df-convert:hover {\n",
              "      background-color: #434B5C;\n",
              "      box-shadow: 0px 1px 3px 1px rgba(0, 0, 0, 0.15);\n",
              "      filter: drop-shadow(0px 1px 2px rgba(0, 0, 0, 0.3));\n",
              "      fill: #FFFFFF;\n",
              "    }\n",
              "  </style>\n",
              "\n",
              "      <script>\n",
              "        const buttonEl =\n",
              "          document.querySelector('#df-83b808b9-c54a-4b12-a1cb-ff7944ec4813 button.colab-df-convert');\n",
              "        buttonEl.style.display =\n",
              "          google.colab.kernel.accessAllowed ? 'block' : 'none';\n",
              "\n",
              "        async function convertToInteractive(key) {\n",
              "          const element = document.querySelector('#df-83b808b9-c54a-4b12-a1cb-ff7944ec4813');\n",
              "          const dataTable =\n",
              "            await google.colab.kernel.invokeFunction('convertToInteractive',\n",
              "                                                     [key], {});\n",
              "          if (!dataTable) return;\n",
              "\n",
              "          const docLinkHtml = 'Like what you see? Visit the ' +\n",
              "            '<a target=\"_blank\" href=https://colab.research.google.com/notebooks/data_table.ipynb>data table notebook</a>'\n",
              "            + ' to learn more about interactive tables.';\n",
              "          element.innerHTML = '';\n",
              "          dataTable['output_type'] = 'display_data';\n",
              "          await google.colab.output.renderOutput(dataTable, element);\n",
              "          const docLink = document.createElement('div');\n",
              "          docLink.innerHTML = docLinkHtml;\n",
              "          element.appendChild(docLink);\n",
              "        }\n",
              "      </script>\n",
              "    </div>\n",
              "  </div>\n",
              "  "
            ]
          },
          "metadata": {},
          "execution_count": 77
        }
      ]
    },
    {
      "cell_type": "code",
      "source": [
        "df = df.merge(abc_xyz[['product', 'abc', 'xyz']], how='left', on='product')"
      ],
      "metadata": {
        "id": "wqO5L8IMCDZM"
      },
      "execution_count": null,
      "outputs": []
    },
    {
      "cell_type": "code",
      "source": [
        "df.head(1)"
      ],
      "metadata": {
        "colab": {
          "base_uri": "https://localhost:8080/",
          "height": 214
        },
        "id": "f3GcVmt4wvhY",
        "outputId": "3cdb3e52-e694-4c12-8df1-c94d9c5fe28a"
      },
      "execution_count": null,
      "outputs": [
        {
          "output_type": "execute_result",
          "data": {
            "text/plain": [
              "                 date                           customer_id  order_id  \\\n",
              "0 2018-10-28 22:00:00  0b5ce2c7-acef-4a9a-b821-61a44ed05557     68785   \n",
              "\n",
              "                                        product  quantity     price   revenue  \\\n",
              "0  сиденье в ванну раздвижное, белый, св5, ника         1 374.00000 374.00000   \n",
              "\n",
              "  dayweek    month product_category       last_purchase  rfm_score segment  \\\n",
              "0  Sunday  October         интерьер 2018-10-28 22:00:00    0.00000  no_rfm   \n",
              "\n",
              "  abc xyz  \n",
              "0  AA   Y  "
            ],
            "text/html": [
              "\n",
              "  <div id=\"df-7f7b6087-7c74-4ec4-9e4e-119b5610a6f5\">\n",
              "    <div class=\"colab-df-container\">\n",
              "      <div>\n",
              "<style scoped>\n",
              "    .dataframe tbody tr th:only-of-type {\n",
              "        vertical-align: middle;\n",
              "    }\n",
              "\n",
              "    .dataframe tbody tr th {\n",
              "        vertical-align: top;\n",
              "    }\n",
              "\n",
              "    .dataframe thead th {\n",
              "        text-align: right;\n",
              "    }\n",
              "</style>\n",
              "<table border=\"1\" class=\"dataframe\">\n",
              "  <thead>\n",
              "    <tr style=\"text-align: right;\">\n",
              "      <th></th>\n",
              "      <th>date</th>\n",
              "      <th>customer_id</th>\n",
              "      <th>order_id</th>\n",
              "      <th>product</th>\n",
              "      <th>quantity</th>\n",
              "      <th>price</th>\n",
              "      <th>revenue</th>\n",
              "      <th>dayweek</th>\n",
              "      <th>month</th>\n",
              "      <th>product_category</th>\n",
              "      <th>last_purchase</th>\n",
              "      <th>rfm_score</th>\n",
              "      <th>segment</th>\n",
              "      <th>abc</th>\n",
              "      <th>xyz</th>\n",
              "    </tr>\n",
              "  </thead>\n",
              "  <tbody>\n",
              "    <tr>\n",
              "      <th>0</th>\n",
              "      <td>2018-10-28 22:00:00</td>\n",
              "      <td>0b5ce2c7-acef-4a9a-b821-61a44ed05557</td>\n",
              "      <td>68785</td>\n",
              "      <td>сиденье в ванну раздвижное, белый, св5, ника</td>\n",
              "      <td>1</td>\n",
              "      <td>374.00000</td>\n",
              "      <td>374.00000</td>\n",
              "      <td>Sunday</td>\n",
              "      <td>October</td>\n",
              "      <td>интерьер</td>\n",
              "      <td>2018-10-28 22:00:00</td>\n",
              "      <td>0.00000</td>\n",
              "      <td>no_rfm</td>\n",
              "      <td>AA</td>\n",
              "      <td>Y</td>\n",
              "    </tr>\n",
              "  </tbody>\n",
              "</table>\n",
              "</div>\n",
              "      <button class=\"colab-df-convert\" onclick=\"convertToInteractive('df-7f7b6087-7c74-4ec4-9e4e-119b5610a6f5')\"\n",
              "              title=\"Convert this dataframe to an interactive table.\"\n",
              "              style=\"display:none;\">\n",
              "        \n",
              "  <svg xmlns=\"http://www.w3.org/2000/svg\" height=\"24px\"viewBox=\"0 0 24 24\"\n",
              "       width=\"24px\">\n",
              "    <path d=\"M0 0h24v24H0V0z\" fill=\"none\"/>\n",
              "    <path d=\"M18.56 5.44l.94 2.06.94-2.06 2.06-.94-2.06-.94-.94-2.06-.94 2.06-2.06.94zm-11 1L8.5 8.5l.94-2.06 2.06-.94-2.06-.94L8.5 2.5l-.94 2.06-2.06.94zm10 10l.94 2.06.94-2.06 2.06-.94-2.06-.94-.94-2.06-.94 2.06-2.06.94z\"/><path d=\"M17.41 7.96l-1.37-1.37c-.4-.4-.92-.59-1.43-.59-.52 0-1.04.2-1.43.59L10.3 9.45l-7.72 7.72c-.78.78-.78 2.05 0 2.83L4 21.41c.39.39.9.59 1.41.59.51 0 1.02-.2 1.41-.59l7.78-7.78 2.81-2.81c.8-.78.8-2.07 0-2.86zM5.41 20L4 18.59l7.72-7.72 1.47 1.35L5.41 20z\"/>\n",
              "  </svg>\n",
              "      </button>\n",
              "      \n",
              "  <style>\n",
              "    .colab-df-container {\n",
              "      display:flex;\n",
              "      flex-wrap:wrap;\n",
              "      gap: 12px;\n",
              "    }\n",
              "\n",
              "    .colab-df-convert {\n",
              "      background-color: #E8F0FE;\n",
              "      border: none;\n",
              "      border-radius: 50%;\n",
              "      cursor: pointer;\n",
              "      display: none;\n",
              "      fill: #1967D2;\n",
              "      height: 32px;\n",
              "      padding: 0 0 0 0;\n",
              "      width: 32px;\n",
              "    }\n",
              "\n",
              "    .colab-df-convert:hover {\n",
              "      background-color: #E2EBFA;\n",
              "      box-shadow: 0px 1px 2px rgba(60, 64, 67, 0.3), 0px 1px 3px 1px rgba(60, 64, 67, 0.15);\n",
              "      fill: #174EA6;\n",
              "    }\n",
              "\n",
              "    [theme=dark] .colab-df-convert {\n",
              "      background-color: #3B4455;\n",
              "      fill: #D2E3FC;\n",
              "    }\n",
              "\n",
              "    [theme=dark] .colab-df-convert:hover {\n",
              "      background-color: #434B5C;\n",
              "      box-shadow: 0px 1px 3px 1px rgba(0, 0, 0, 0.15);\n",
              "      filter: drop-shadow(0px 1px 2px rgba(0, 0, 0, 0.3));\n",
              "      fill: #FFFFFF;\n",
              "    }\n",
              "  </style>\n",
              "\n",
              "      <script>\n",
              "        const buttonEl =\n",
              "          document.querySelector('#df-7f7b6087-7c74-4ec4-9e4e-119b5610a6f5 button.colab-df-convert');\n",
              "        buttonEl.style.display =\n",
              "          google.colab.kernel.accessAllowed ? 'block' : 'none';\n",
              "\n",
              "        async function convertToInteractive(key) {\n",
              "          const element = document.querySelector('#df-7f7b6087-7c74-4ec4-9e4e-119b5610a6f5');\n",
              "          const dataTable =\n",
              "            await google.colab.kernel.invokeFunction('convertToInteractive',\n",
              "                                                     [key], {});\n",
              "          if (!dataTable) return;\n",
              "\n",
              "          const docLinkHtml = 'Like what you see? Visit the ' +\n",
              "            '<a target=\"_blank\" href=https://colab.research.google.com/notebooks/data_table.ipynb>data table notebook</a>'\n",
              "            + ' to learn more about interactive tables.';\n",
              "          element.innerHTML = '';\n",
              "          dataTable['output_type'] = 'display_data';\n",
              "          await google.colab.output.renderOutput(dataTable, element);\n",
              "          const docLink = document.createElement('div');\n",
              "          docLink.innerHTML = docLinkHtml;\n",
              "          element.appendChild(docLink);\n",
              "        }\n",
              "      </script>\n",
              "    </div>\n",
              "  </div>\n",
              "  "
            ]
          },
          "metadata": {},
          "execution_count": 79
        }
      ]
    },
    {
      "cell_type": "code",
      "source": [
        "plt.figure(figsize = (16, 5))\n",
        "sns.barplot(data=df.query('date > @data_border').sort_values(by='abc'), x='abc', y=\"revenue\", hue=\"product_category\", alpha=0.7, estimator=sum)\n",
        "plt.title('Общая выручка по ABC анализу с \"2018-10-31\" по \"2018-10-31\"')\n",
        "plt.xlabel(xlabel='категории')\n",
        "plt.ylabel(ylabel='сумма(руб.)')\n",
        "plt.show()"
      ],
      "metadata": {
        "colab": {
          "base_uri": "https://localhost:8080/",
          "height": 350
        },
        "id": "2fmgu89uow81",
        "outputId": "8554321e-9dc9-4f2e-d482-a638387c8f14"
      },
      "execution_count": null,
      "outputs": [
        {
          "output_type": "display_data",
          "data": {
            "text/plain": [
              "<Figure size 1152x360 with 1 Axes>"
            ],
            "image/png": "[encoded data removed]"
          },
          "metadata": {
            "needs_background": "light"
          }
        }
      ]
    },
    {
      "cell_type": "code",
      "source": [
        "plt.figure(figsize = (16, 5))\n",
        "sns.histplot(df.sort_values(by='abc'), x='abc', hue=\"product_category\", multiple=\"dodge\",  discrete=False, alpha=0.7)\n",
        "plt.title('Количество товара по ABC анализу с \"2018-10-31\" по \"2018-10-31\"')\n",
        "plt.xlabel(xlabel='категории')\n",
        "plt.ylabel(ylabel='количетсво(шт.)')\n",
        "plt.show()"
      ],
      "metadata": {
        "colab": {
          "base_uri": "https://localhost:8080/",
          "height": 350
        },
        "id": "ZkV8xTz0qPb9",
        "outputId": "b8ffb2a3-793a-46a4-ad94-fe19f74cee68"
      },
      "execution_count": null,
      "outputs": [
        {
          "output_type": "display_data",
          "data": {
            "text/plain": [
              "<Figure size 1152x360 with 1 Axes>"
            ],
            "image/png": "[encoded data removed]"
          },
          "metadata": {
            "needs_background": "light"
          }
        }
      ]
    },
    {
      "cell_type": "code",
      "source": [
        "df.groupby('abc')['revenue'].agg(['count', 'sum','mean'])"
      ],
      "metadata": {
        "colab": {
          "base_uri": "https://localhost:8080/",
          "height": 363
        },
        "id": "kWceGmtQkqD2",
        "outputId": "d7890d4e-9ef5-43fd-9b30-2a401281e99f"
      },
      "execution_count": null,
      "outputs": [
        {
          "output_type": "execute_result",
          "data": {
            "text/plain": [
              "     count           sum       mean\n",
              "abc                                \n",
              "AA    2127 1743569.00000  819.73155\n",
              "AB     242  664791.00000 2747.07025\n",
              "AC      21   57268.00000 2727.04762\n",
              "BA     880  188324.00000  214.00455\n",
              "BB     195  172544.00000  884.84103\n",
              "BC     161  102091.00000  634.10559\n",
              "CA     701  115420.00000  164.65050\n",
              "CB     258   28167.00000  109.17442\n",
              "CC      53   12240.00000  230.94340"
            ],
            "text/html": [
              "\n",
              "  <div id=\"df-c5dd0484-800c-4c47-bdc9-8b02b5d9c68c\">\n",
              "    <div class=\"colab-df-container\">\n",
              "      <div>\n",
              "<style scoped>\n",
              "    .dataframe tbody tr th:only-of-type {\n",
              "        vertical-align: middle;\n",
              "    }\n",
              "\n",
              "    .dataframe tbody tr th {\n",
              "        vertical-align: top;\n",
              "    }\n",
              "\n",
              "    .dataframe thead th {\n",
              "        text-align: right;\n",
              "    }\n",
              "</style>\n",
              "<table border=\"1\" class=\"dataframe\">\n",
              "  <thead>\n",
              "    <tr style=\"text-align: right;\">\n",
              "      <th></th>\n",
              "      <th>count</th>\n",
              "      <th>sum</th>\n",
              "      <th>mean</th>\n",
              "    </tr>\n",
              "    <tr>\n",
              "      <th>abc</th>\n",
              "      <th></th>\n",
              "      <th></th>\n",
              "      <th></th>\n",
              "    </tr>\n",
              "  </thead>\n",
              "  <tbody>\n",
              "    <tr>\n",
              "      <th>AA</th>\n",
              "      <td>2127</td>\n",
              "      <td>1743569.00000</td>\n",
              "      <td>819.73155</td>\n",
              "    </tr>\n",
              "    <tr>\n",
              "      <th>AB</th>\n",
              "      <td>242</td>\n",
              "      <td>664791.00000</td>\n",
              "      <td>2747.07025</td>\n",
              "    </tr>\n",
              "    <tr>\n",
              "      <th>AC</th>\n",
              "      <td>21</td>\n",
              "      <td>57268.00000</td>\n",
              "      <td>2727.04762</td>\n",
              "    </tr>\n",
              "    <tr>\n",
              "      <th>BA</th>\n",
              "      <td>880</td>\n",
              "      <td>188324.00000</td>\n",
              "      <td>214.00455</td>\n",
              "    </tr>\n",
              "    <tr>\n",
              "      <th>BB</th>\n",
              "      <td>195</td>\n",
              "      <td>172544.00000</td>\n",
              "      <td>884.84103</td>\n",
              "    </tr>\n",
              "    <tr>\n",
              "      <th>BC</th>\n",
              "      <td>161</td>\n",
              "      <td>102091.00000</td>\n",
              "      <td>634.10559</td>\n",
              "    </tr>\n",
              "    <tr>\n",
              "      <th>CA</th>\n",
              "      <td>701</td>\n",
              "      <td>115420.00000</td>\n",
              "      <td>164.65050</td>\n",
              "    </tr>\n",
              "    <tr>\n",
              "      <th>CB</th>\n",
              "      <td>258</td>\n",
              "      <td>28167.00000</td>\n",
              "      <td>109.17442</td>\n",
              "    </tr>\n",
              "    <tr>\n",
              "      <th>CC</th>\n",
              "      <td>53</td>\n",
              "      <td>12240.00000</td>\n",
              "      <td>230.94340</td>\n",
              "    </tr>\n",
              "  </tbody>\n",
              "</table>\n",
              "</div>\n",
              "      <button class=\"colab-df-convert\" onclick=\"convertToInteractive('df-c5dd0484-800c-4c47-bdc9-8b02b5d9c68c')\"\n",
              "              title=\"Convert this dataframe to an interactive table.\"\n",
              "              style=\"display:none;\">\n",
              "        \n",
              "  <svg xmlns=\"http://www.w3.org/2000/svg\" height=\"24px\"viewBox=\"0 0 24 24\"\n",
              "       width=\"24px\">\n",
              "    <path d=\"M0 0h24v24H0V0z\" fill=\"none\"/>\n",
              "    <path d=\"M18.56 5.44l.94 2.06.94-2.06 2.06-.94-2.06-.94-.94-2.06-.94 2.06-2.06.94zm-11 1L8.5 8.5l.94-2.06 2.06-.94-2.06-.94L8.5 2.5l-.94 2.06-2.06.94zm10 10l.94 2.06.94-2.06 2.06-.94-2.06-.94-.94-2.06-.94 2.06-2.06.94z\"/><path d=\"M17.41 7.96l-1.37-1.37c-.4-.4-.92-.59-1.43-.59-.52 0-1.04.2-1.43.59L10.3 9.45l-7.72 7.72c-.78.78-.78 2.05 0 2.83L4 21.41c.39.39.9.59 1.41.59.51 0 1.02-.2 1.41-.59l7.78-7.78 2.81-2.81c.8-.78.8-2.07 0-2.86zM5.41 20L4 18.59l7.72-7.72 1.47 1.35L5.41 20z\"/>\n",
              "  </svg>\n",
              "      </button>\n",
              "      \n",
              "  <style>\n",
              "    .colab-df-container {\n",
              "      display:flex;\n",
              "      flex-wrap:wrap;\n",
              "      gap: 12px;\n",
              "    }\n",
              "\n",
              "    .colab-df-convert {\n",
              "      background-color: #E8F0FE;\n",
              "      border: none;\n",
              "      border-radius: 50%;\n",
              "      cursor: pointer;\n",
              "      display: none;\n",
              "      fill: #1967D2;\n",
              "      height: 32px;\n",
              "      padding: 0 0 0 0;\n",
              "      width: 32px;\n",
              "    }\n",
              "\n",
              "    .colab-df-convert:hover {\n",
              "      background-color: #E2EBFA;\n",
              "      box-shadow: 0px 1px 2px rgba(60, 64, 67, 0.3), 0px 1px 3px 1px rgba(60, 64, 67, 0.15);\n",
              "      fill: #174EA6;\n",
              "    }\n",
              "\n",
              "    [theme=dark] .colab-df-convert {\n",
              "      background-color: #3B4455;\n",
              "      fill: #D2E3FC;\n",
              "    }\n",
              "\n",
              "    [theme=dark] .colab-df-convert:hover {\n",
              "      background-color: #434B5C;\n",
              "      box-shadow: 0px 1px 3px 1px rgba(0, 0, 0, 0.15);\n",
              "      filter: drop-shadow(0px 1px 2px rgba(0, 0, 0, 0.3));\n",
              "      fill: #FFFFFF;\n",
              "    }\n",
              "  </style>\n",
              "\n",
              "      <script>\n",
              "        const buttonEl =\n",
              "          document.querySelector('#df-c5dd0484-800c-4c47-bdc9-8b02b5d9c68c button.colab-df-convert');\n",
              "        buttonEl.style.display =\n",
              "          google.colab.kernel.accessAllowed ? 'block' : 'none';\n",
              "\n",
              "        async function convertToInteractive(key) {\n",
              "          const element = document.querySelector('#df-c5dd0484-800c-4c47-bdc9-8b02b5d9c68c');\n",
              "          const dataTable =\n",
              "            await google.colab.kernel.invokeFunction('convertToInteractive',\n",
              "                                                     [key], {});\n",
              "          if (!dataTable) return;\n",
              "\n",
              "          const docLinkHtml = 'Like what you see? Visit the ' +\n",
              "            '<a target=\"_blank\" href=https://colab.research.google.com/notebooks/data_table.ipynb>data table notebook</a>'\n",
              "            + ' to learn more about interactive tables.';\n",
              "          element.innerHTML = '';\n",
              "          dataTable['output_type'] = 'display_data';\n",
              "          await google.colab.output.renderOutput(dataTable, element);\n",
              "          const docLink = document.createElement('div');\n",
              "          docLink.innerHTML = docLinkHtml;\n",
              "          element.appendChild(docLink);\n",
              "        }\n",
              "      </script>\n",
              "    </div>\n",
              "  </div>\n",
              "  "
            ]
          },
          "metadata": {},
          "execution_count": 82
        }
      ]
    },
    {
      "cell_type": "markdown",
      "source": [
        "- мы имеем слишком широкий ассортимент в группе АА, которая приности нам основну прибль. Следует стараться уменьшать ассортимент, при этом не уменьшая выручку. \n",
        "- группа АА имеет нибольшую выручку, при этом категория хранение и растения лидеры. Необходимо посмотреть на другие товары категорий и возможно отказаться от них и не тратить деньги на их закупку."
      ],
      "metadata": {
        "id": "eG5vhh9-oOae"
      }
    },
    {
      "cell_type": "markdown",
      "source": [
        "## 5.7 XYZ"
      ],
      "metadata": {
        "id": "WcRSFeafwTX4"
      }
    },
    {
      "cell_type": "markdown",
      "source": [
        "- Стабильность спроса на товар \"X\"<\"Y\"<\"Z\" чем меньше значение, тем более стабильный спрос. \"Х\"<15% стабильный спрос, \"Y\"<25% нормальный спрос, 25%>\"Z\" низкий спрос."
      ],
      "metadata": {
        "id": "mzTSA2LD3-2b"
      }
    },
    {
      "cell_type": "code",
      "source": [
        "plt.figure(figsize = (16, 5))\n",
        "sns.barplot(data=df.query('date > @data_border').sort_values(by='xyz'), x='xyz', y=\"revenue\", hue=\"product_category\", alpha=0.7, estimator=sum)\n",
        "plt.title('Общая выручка по XYZ анализу с \"2018-10-31\" по \"2018-10-31\"')\n",
        "plt.xlabel(xlabel='категории')\n",
        "plt.ylabel(ylabel='сумма(руб.)')\n",
        "plt.show()"
      ],
      "metadata": {
        "colab": {
          "base_uri": "https://localhost:8080/",
          "height": 350
        },
        "id": "JB1D3SHcvY2-",
        "outputId": "526a3df2-fc8a-4f91-d67d-e02c08134a1b"
      },
      "execution_count": null,
      "outputs": [
        {
          "output_type": "display_data",
          "data": {
            "text/plain": [
              "<Figure size 1152x360 with 1 Axes>"
            ],
            "image/png": "[encoded data removed]"
          },
          "metadata": {
            "needs_background": "light"
          }
        }
      ]
    },
    {
      "cell_type": "code",
      "source": [
        "plt.figure(figsize = (16, 5))\n",
        "sns.histplot(df.sort_values(by='xyz'), x='xyz', hue=\"product_category\", multiple=\"dodge\",  discrete=False, alpha=0.7)\n",
        "plt.title('Количество товара по XYZ анализу с \"2018-10-31\" по \"2018-10-31\"')\n",
        "plt.xlabel(xlabel='категории')\n",
        "plt.ylabel(ylabel='количетсво(шт.)')\n",
        "plt.show()"
      ],
      "metadata": {
        "colab": {
          "base_uri": "https://localhost:8080/",
          "height": 350
        },
        "id": "5kprJjopvmb9",
        "outputId": "e3e2607b-33b9-49a1-d289-cb88cf42f899"
      },
      "execution_count": null,
      "outputs": [
        {
          "output_type": "display_data",
          "data": {
            "text/plain": [
              "<Figure size 1152x360 with 1 Axes>"
            ],
            "image/png": "[encoded data removed]"
          },
          "metadata": {
            "needs_background": "light"
          }
        }
      ]
    },
    {
      "cell_type": "markdown",
      "source": [
        "- товары из категории Z следует закупать меньше или не закупать вовсе, при том категори Y необходимо расширить."
      ],
      "metadata": {
        "id": "ne3M8hilwfrm"
      }
    },
    {
      "cell_type": "markdown",
      "source": [
        "## 👩‍👩‍👧‍👧 5.8 Кластеризация"
      ],
      "metadata": {
        "id": "PVt3vkiTdPml"
      }
    },
    {
      "cell_type": "markdown",
      "source": [
        "- создадим отдельную таблицу с цифровыми значениями\n",
        "- введем доп переменную, будем считать что если клиент купил более 1 раза(так как абсолютное большинство клиентов покупает у нас 1 раз), то все хорошо и он \"постоянный\" == 1, если купил один раз будем считать что это отток == 0"
      ],
      "metadata": {
        "id": "1_X3Upa1xDIr"
      }
    },
    {
      "cell_type": "code",
      "source": [
        "ml = df[['customer_id', 'product', 'quantity', 'revenue']]"
      ],
      "metadata": {
        "id": "YTeFYTfkdO7B"
      },
      "execution_count": null,
      "outputs": []
    },
    {
      "cell_type": "code",
      "source": [
        "# соеденияем числовые значения abc_xyz\n",
        "ml = (ml.merge(abc_xyz[['product', 'revenue_pct', 'cumsum', 'pct']], \n",
        "               how='left', \n",
        "               on='product'))"
      ],
      "metadata": {
        "id": "DWvJe3HnsDLI"
      },
      "execution_count": null,
      "outputs": []
    },
    {
      "cell_type": "code",
      "source": [
        "t = df.groupby('customer_id')['order_id'].nunique().reset_index()"
      ],
      "metadata": {
        "id": "f16KnT6rfQfS"
      },
      "execution_count": null,
      "outputs": []
    },
    {
      "cell_type": "code",
      "source": [
        "t['return'] = t['order_id'].apply(lambda x: 0 if x == 1 else 1)"
      ],
      "metadata": {
        "id": "dPJuzJVmerMw"
      },
      "execution_count": null,
      "outputs": []
    },
    {
      "cell_type": "code",
      "source": [
        "t.head()"
      ],
      "metadata": {
        "colab": {
          "base_uri": "https://localhost:8080/",
          "height": 206
        },
        "id": "oSgwlbTYerPl",
        "outputId": "e90af715-08cd-4333-d1b0-08b23736c9d2"
      },
      "execution_count": null,
      "outputs": [
        {
          "output_type": "execute_result",
          "data": {
            "text/plain": [
              "                            customer_id  order_id  return\n",
              "0  000d6849-084e-4d9f-ac03-37174eaf60c4         1       0\n",
              "1  001cee7f-0b29-4716-b202-0042213ab038         1       0\n",
              "2  00299f34-5385-4d13-9aea-c80b81658e1b         1       0\n",
              "3  002d4d3a-4a59-406b-86ec-c3314357e498         1       0\n",
              "4  003bbd39-0000-41ff-b7f9-2ddaec152037         1       0"
            ],
            "text/html": [
              "\n",
              "  <div id=\"df-b64fb7b2-45e3-4850-a189-e538aeeba885\">\n",
              "    <div class=\"colab-df-container\">\n",
              "      <div>\n",
              "<style scoped>\n",
              "    .dataframe tbody tr th:only-of-type {\n",
              "        vertical-align: middle;\n",
              "    }\n",
              "\n",
              "    .dataframe tbody tr th {\n",
              "        vertical-align: top;\n",
              "    }\n",
              "\n",
              "    .dataframe thead th {\n",
              "        text-align: right;\n",
              "    }\n",
              "</style>\n",
              "<table border=\"1\" class=\"dataframe\">\n",
              "  <thead>\n",
              "    <tr style=\"text-align: right;\">\n",
              "      <th></th>\n",
              "      <th>customer_id</th>\n",
              "      <th>order_id</th>\n",
              "      <th>return</th>\n",
              "    </tr>\n",
              "  </thead>\n",
              "  <tbody>\n",
              "    <tr>\n",
              "      <th>0</th>\n",
              "      <td>000d6849-084e-4d9f-ac03-37174eaf60c4</td>\n",
              "      <td>1</td>\n",
              "      <td>0</td>\n",
              "    </tr>\n",
              "    <tr>\n",
              "      <th>1</th>\n",
              "      <td>001cee7f-0b29-4716-b202-0042213ab038</td>\n",
              "      <td>1</td>\n",
              "      <td>0</td>\n",
              "    </tr>\n",
              "    <tr>\n",
              "      <th>2</th>\n",
              "      <td>00299f34-5385-4d13-9aea-c80b81658e1b</td>\n",
              "      <td>1</td>\n",
              "      <td>0</td>\n",
              "    </tr>\n",
              "    <tr>\n",
              "      <th>3</th>\n",
              "      <td>002d4d3a-4a59-406b-86ec-c3314357e498</td>\n",
              "      <td>1</td>\n",
              "      <td>0</td>\n",
              "    </tr>\n",
              "    <tr>\n",
              "      <th>4</th>\n",
              "      <td>003bbd39-0000-41ff-b7f9-2ddaec152037</td>\n",
              "      <td>1</td>\n",
              "      <td>0</td>\n",
              "    </tr>\n",
              "  </tbody>\n",
              "</table>\n",
              "</div>\n",
              "      <button class=\"colab-df-convert\" onclick=\"convertToInteractive('df-b64fb7b2-45e3-4850-a189-e538aeeba885')\"\n",
              "              title=\"Convert this dataframe to an interactive table.\"\n",
              "              style=\"display:none;\">\n",
              "        \n",
              "  <svg xmlns=\"http://www.w3.org/2000/svg\" height=\"24px\"viewBox=\"0 0 24 24\"\n",
              "       width=\"24px\">\n",
              "    <path d=\"M0 0h24v24H0V0z\" fill=\"none\"/>\n",
              "    <path d=\"M18.56 5.44l.94 2.06.94-2.06 2.06-.94-2.06-.94-.94-2.06-.94 2.06-2.06.94zm-11 1L8.5 8.5l.94-2.06 2.06-.94-2.06-.94L8.5 2.5l-.94 2.06-2.06.94zm10 10l.94 2.06.94-2.06 2.06-.94-2.06-.94-.94-2.06-.94 2.06-2.06.94z\"/><path d=\"M17.41 7.96l-1.37-1.37c-.4-.4-.92-.59-1.43-.59-.52 0-1.04.2-1.43.59L10.3 9.45l-7.72 7.72c-.78.78-.78 2.05 0 2.83L4 21.41c.39.39.9.59 1.41.59.51 0 1.02-.2 1.41-.59l7.78-7.78 2.81-2.81c.8-.78.8-2.07 0-2.86zM5.41 20L4 18.59l7.72-7.72 1.47 1.35L5.41 20z\"/>\n",
              "  </svg>\n",
              "      </button>\n",
              "      \n",
              "  <style>\n",
              "    .colab-df-container {\n",
              "      display:flex;\n",
              "      flex-wrap:wrap;\n",
              "      gap: 12px;\n",
              "    }\n",
              "\n",
              "    .colab-df-convert {\n",
              "      background-color: #E8F0FE;\n",
              "      border: none;\n",
              "      border-radius: 50%;\n",
              "      cursor: pointer;\n",
              "      display: none;\n",
              "      fill: #1967D2;\n",
              "      height: 32px;\n",
              "      padding: 0 0 0 0;\n",
              "      width: 32px;\n",
              "    }\n",
              "\n",
              "    .colab-df-convert:hover {\n",
              "      background-color: #E2EBFA;\n",
              "      box-shadow: 0px 1px 2px rgba(60, 64, 67, 0.3), 0px 1px 3px 1px rgba(60, 64, 67, 0.15);\n",
              "      fill: #174EA6;\n",
              "    }\n",
              "\n",
              "    [theme=dark] .colab-df-convert {\n",
              "      background-color: #3B4455;\n",
              "      fill: #D2E3FC;\n",
              "    }\n",
              "\n",
              "    [theme=dark] .colab-df-convert:hover {\n",
              "      background-color: #434B5C;\n",
              "      box-shadow: 0px 1px 3px 1px rgba(0, 0, 0, 0.15);\n",
              "      filter: drop-shadow(0px 1px 2px rgba(0, 0, 0, 0.3));\n",
              "      fill: #FFFFFF;\n",
              "    }\n",
              "  </style>\n",
              "\n",
              "      <script>\n",
              "        const buttonEl =\n",
              "          document.querySelector('#df-b64fb7b2-45e3-4850-a189-e538aeeba885 button.colab-df-convert');\n",
              "        buttonEl.style.display =\n",
              "          google.colab.kernel.accessAllowed ? 'block' : 'none';\n",
              "\n",
              "        async function convertToInteractive(key) {\n",
              "          const element = document.querySelector('#df-b64fb7b2-45e3-4850-a189-e538aeeba885');\n",
              "          const dataTable =\n",
              "            await google.colab.kernel.invokeFunction('convertToInteractive',\n",
              "                                                     [key], {});\n",
              "          if (!dataTable) return;\n",
              "\n",
              "          const docLinkHtml = 'Like what you see? Visit the ' +\n",
              "            '<a target=\"_blank\" href=https://colab.research.google.com/notebooks/data_table.ipynb>data table notebook</a>'\n",
              "            + ' to learn more about interactive tables.';\n",
              "          element.innerHTML = '';\n",
              "          dataTable['output_type'] = 'display_data';\n",
              "          await google.colab.output.renderOutput(dataTable, element);\n",
              "          const docLink = document.createElement('div');\n",
              "          docLink.innerHTML = docLinkHtml;\n",
              "          element.appendChild(docLink);\n",
              "        }\n",
              "      </script>\n",
              "    </div>\n",
              "  </div>\n",
              "  "
            ]
          },
          "metadata": {},
          "execution_count": 89
        }
      ]
    },
    {
      "cell_type": "code",
      "source": [
        "# добавляем переменную return\n",
        "ml = ml.merge(t[['customer_id', 'return']], how='left', on='customer_id')"
      ],
      "metadata": {
        "id": "8C3skXUWerSb"
      },
      "execution_count": null,
      "outputs": []
    },
    {
      "cell_type": "code",
      "source": [
        "ml = ml.drop(columns=['product'])"
      ],
      "metadata": {
        "id": "K5AUEBDysDQO"
      },
      "execution_count": null,
      "outputs": []
    },
    {
      "cell_type": "code",
      "source": [
        "ml = ml.rename(columns={'quantity':'quantity_order',\n",
        "                   'revenue_pct':'abc_revenue',\n",
        "                   'cumsum':'abc_count',\n",
        "                   'pct':'xyz_pct'})"
      ],
      "metadata": {
        "id": "wHFCy-X3zsWh"
      },
      "execution_count": null,
      "outputs": []
    },
    {
      "cell_type": "code",
      "source": [
        "ml.head()"
      ],
      "metadata": {
        "colab": {
          "base_uri": "https://localhost:8080/",
          "height": 206
        },
        "id": "6PAMM1l5n1Gd",
        "outputId": "67115ae3-cab0-4111-91d4-f71f42b358eb"
      },
      "execution_count": null,
      "outputs": [
        {
          "output_type": "execute_result",
          "data": {
            "text/plain": [
              "                            customer_id  quantity_order   revenue  \\\n",
              "0  0b5ce2c7-acef-4a9a-b821-61a44ed05557               1 374.00000   \n",
              "1  2f955596-4b13-432e-93f3-6433395aafe6               1 164.00000   \n",
              "2  954172a5-634c-4a50-941d-9db6d15a7377               7 413.00000   \n",
              "3  70d60304-4b3c-4f34-9430-1872ec6e6309               1 974.00000   \n",
              "4  4ea06f66-0876-4dec-8d14-ea994ffe435f               3  66.00000   \n",
              "\n",
              "   abc_revenue  abc_count   xyz_pct  return  \n",
              "0      0.00362    0.52772   0.21024       0  \n",
              "1      0.00017    0.96716 100.00000       0  \n",
              "2      0.00091    0.91040   1.15470       1  \n",
              "3      0.00101    0.72595 100.00000       0  \n",
              "4      0.00083    0.92515   0.90339       0  "
            ],
            "text/html": [
              "\n",
              "  <div id=\"df-b5935527-4034-4cf1-ab15-6b38752ed63f\">\n",
              "    <div class=\"colab-df-container\">\n",
              "      <div>\n",
              "<style scoped>\n",
              "    .dataframe tbody tr th:only-of-type {\n",
              "        vertical-align: middle;\n",
              "    }\n",
              "\n",
              "    .dataframe tbody tr th {\n",
              "        vertical-align: top;\n",
              "    }\n",
              "\n",
              "    .dataframe thead th {\n",
              "        text-align: right;\n",
              "    }\n",
              "</style>\n",
              "<table border=\"1\" class=\"dataframe\">\n",
              "  <thead>\n",
              "    <tr style=\"text-align: right;\">\n",
              "      <th></th>\n",
              "      <th>customer_id</th>\n",
              "      <th>quantity_order</th>\n",
              "      <th>revenue</th>\n",
              "      <th>abc_revenue</th>\n",
              "      <th>abc_count</th>\n",
              "      <th>xyz_pct</th>\n",
              "      <th>return</th>\n",
              "    </tr>\n",
              "  </thead>\n",
              "  <tbody>\n",
              "    <tr>\n",
              "      <th>0</th>\n",
              "      <td>0b5ce2c7-acef-4a9a-b821-61a44ed05557</td>\n",
              "      <td>1</td>\n",
              "      <td>374.00000</td>\n",
              "      <td>0.00362</td>\n",
              "      <td>0.52772</td>\n",
              "      <td>0.21024</td>\n",
              "      <td>0</td>\n",
              "    </tr>\n",
              "    <tr>\n",
              "      <th>1</th>\n",
              "      <td>2f955596-4b13-432e-93f3-6433395aafe6</td>\n",
              "      <td>1</td>\n",
              "      <td>164.00000</td>\n",
              "      <td>0.00017</td>\n",
              "      <td>0.96716</td>\n",
              "      <td>100.00000</td>\n",
              "      <td>0</td>\n",
              "    </tr>\n",
              "    <tr>\n",
              "      <th>2</th>\n",
              "      <td>954172a5-634c-4a50-941d-9db6d15a7377</td>\n",
              "      <td>7</td>\n",
              "      <td>413.00000</td>\n",
              "      <td>0.00091</td>\n",
              "      <td>0.91040</td>\n",
              "      <td>1.15470</td>\n",
              "      <td>1</td>\n",
              "    </tr>\n",
              "    <tr>\n",
              "      <th>3</th>\n",
              "      <td>70d60304-4b3c-4f34-9430-1872ec6e6309</td>\n",
              "      <td>1</td>\n",
              "      <td>974.00000</td>\n",
              "      <td>0.00101</td>\n",
              "      <td>0.72595</td>\n",
              "      <td>100.00000</td>\n",
              "      <td>0</td>\n",
              "    </tr>\n",
              "    <tr>\n",
              "      <th>4</th>\n",
              "      <td>4ea06f66-0876-4dec-8d14-ea994ffe435f</td>\n",
              "      <td>3</td>\n",
              "      <td>66.00000</td>\n",
              "      <td>0.00083</td>\n",
              "      <td>0.92515</td>\n",
              "      <td>0.90339</td>\n",
              "      <td>0</td>\n",
              "    </tr>\n",
              "  </tbody>\n",
              "</table>\n",
              "</div>\n",
              "      <button class=\"colab-df-convert\" onclick=\"convertToInteractive('df-b5935527-4034-4cf1-ab15-6b38752ed63f')\"\n",
              "              title=\"Convert this dataframe to an interactive table.\"\n",
              "              style=\"display:none;\">\n",
              "        \n",
              "  <svg xmlns=\"http://www.w3.org/2000/svg\" height=\"24px\"viewBox=\"0 0 24 24\"\n",
              "       width=\"24px\">\n",
              "    <path d=\"M0 0h24v24H0V0z\" fill=\"none\"/>\n",
              "    <path d=\"M18.56 5.44l.94 2.06.94-2.06 2.06-.94-2.06-.94-.94-2.06-.94 2.06-2.06.94zm-11 1L8.5 8.5l.94-2.06 2.06-.94-2.06-.94L8.5 2.5l-.94 2.06-2.06.94zm10 10l.94 2.06.94-2.06 2.06-.94-2.06-.94-.94-2.06-.94 2.06-2.06.94z\"/><path d=\"M17.41 7.96l-1.37-1.37c-.4-.4-.92-.59-1.43-.59-.52 0-1.04.2-1.43.59L10.3 9.45l-7.72 7.72c-.78.78-.78 2.05 0 2.83L4 21.41c.39.39.9.59 1.41.59.51 0 1.02-.2 1.41-.59l7.78-7.78 2.81-2.81c.8-.78.8-2.07 0-2.86zM5.41 20L4 18.59l7.72-7.72 1.47 1.35L5.41 20z\"/>\n",
              "  </svg>\n",
              "      </button>\n",
              "      \n",
              "  <style>\n",
              "    .colab-df-container {\n",
              "      display:flex;\n",
              "      flex-wrap:wrap;\n",
              "      gap: 12px;\n",
              "    }\n",
              "\n",
              "    .colab-df-convert {\n",
              "      background-color: #E8F0FE;\n",
              "      border: none;\n",
              "      border-radius: 50%;\n",
              "      cursor: pointer;\n",
              "      display: none;\n",
              "      fill: #1967D2;\n",
              "      height: 32px;\n",
              "      padding: 0 0 0 0;\n",
              "      width: 32px;\n",
              "    }\n",
              "\n",
              "    .colab-df-convert:hover {\n",
              "      background-color: #E2EBFA;\n",
              "      box-shadow: 0px 1px 2px rgba(60, 64, 67, 0.3), 0px 1px 3px 1px rgba(60, 64, 67, 0.15);\n",
              "      fill: #174EA6;\n",
              "    }\n",
              "\n",
              "    [theme=dark] .colab-df-convert {\n",
              "      background-color: #3B4455;\n",
              "      fill: #D2E3FC;\n",
              "    }\n",
              "\n",
              "    [theme=dark] .colab-df-convert:hover {\n",
              "      background-color: #434B5C;\n",
              "      box-shadow: 0px 1px 3px 1px rgba(0, 0, 0, 0.15);\n",
              "      filter: drop-shadow(0px 1px 2px rgba(0, 0, 0, 0.3));\n",
              "      fill: #FFFFFF;\n",
              "    }\n",
              "  </style>\n",
              "\n",
              "      <script>\n",
              "        const buttonEl =\n",
              "          document.querySelector('#df-b5935527-4034-4cf1-ab15-6b38752ed63f button.colab-df-convert');\n",
              "        buttonEl.style.display =\n",
              "          google.colab.kernel.accessAllowed ? 'block' : 'none';\n",
              "\n",
              "        async function convertToInteractive(key) {\n",
              "          const element = document.querySelector('#df-b5935527-4034-4cf1-ab15-6b38752ed63f');\n",
              "          const dataTable =\n",
              "            await google.colab.kernel.invokeFunction('convertToInteractive',\n",
              "                                                     [key], {});\n",
              "          if (!dataTable) return;\n",
              "\n",
              "          const docLinkHtml = 'Like what you see? Visit the ' +\n",
              "            '<a target=\"_blank\" href=https://colab.research.google.com/notebooks/data_table.ipynb>data table notebook</a>'\n",
              "            + ' to learn more about interactive tables.';\n",
              "          element.innerHTML = '';\n",
              "          dataTable['output_type'] = 'display_data';\n",
              "          await google.colab.output.renderOutput(dataTable, element);\n",
              "          const docLink = document.createElement('div');\n",
              "          docLink.innerHTML = docLinkHtml;\n",
              "          element.appendChild(docLink);\n",
              "        }\n",
              "      </script>\n",
              "    </div>\n",
              "  </div>\n",
              "  "
            ]
          },
          "metadata": {},
          "execution_count": 93
        }
      ]
    },
    {
      "cell_type": "code",
      "source": [
        "ml.corr().style.background_gradient(cmap='coolwarm')"
      ],
      "metadata": {
        "colab": {
          "base_uri": "https://localhost:8080/",
          "height": 237
        },
        "id": "EkZ4rv7-x7Fe",
        "outputId": "26e53db3-f8de-409f-e2e4-b7e35f2f524d"
      },
      "execution_count": null,
      "outputs": [
        {
          "output_type": "execute_result",
          "data": {
            "text/plain": [
              "<pandas.io.formats.style.Styler at 0x7f9cd597dad0>"
            ],
            "text/html": [
              "<style type=\"text/css\">\n",
              "#T_3f342_row0_col0, #T_3f342_row1_col1, #T_3f342_row2_col2, #T_3f342_row3_col3, #T_3f342_row4_col4, #T_3f342_row5_col5 {\n",
              "  background-color: #b40426;\n",
              "  color: #f1f1f1;\n",
              "}\n",
              "#T_3f342_row0_col1 {\n",
              "  background-color: #cedaeb;\n",
              "  color: #000000;\n",
              "}\n",
              "#T_3f342_row0_col2 {\n",
              "  background-color: #d1dae9;\n",
              "  color: #000000;\n",
              "}\n",
              "#T_3f342_row0_col3 {\n",
              "  background-color: #b1cbfc;\n",
              "  color: #000000;\n",
              "}\n",
              "#T_3f342_row0_col4, #T_3f342_row5_col1 {\n",
              "  background-color: #82a6fb;\n",
              "  color: #f1f1f1;\n",
              "}\n",
              "#T_3f342_row0_col5 {\n",
              "  background-color: #506bda;\n",
              "  color: #f1f1f1;\n",
              "}\n",
              "#T_3f342_row1_col0 {\n",
              "  background-color: #a9c6fd;\n",
              "  color: #000000;\n",
              "}\n",
              "#T_3f342_row1_col2 {\n",
              "  background-color: #f5c4ac;\n",
              "  color: #000000;\n",
              "}\n",
              "#T_3f342_row1_col3 {\n",
              "  background-color: #80a3fa;\n",
              "  color: #f1f1f1;\n",
              "}\n",
              "#T_3f342_row1_col4 {\n",
              "  background-color: #98b9ff;\n",
              "  color: #000000;\n",
              "}\n",
              "#T_3f342_row1_col5 {\n",
              "  background-color: #4c66d6;\n",
              "  color: #f1f1f1;\n",
              "}\n",
              "#T_3f342_row2_col0 {\n",
              "  background-color: #6c8ff1;\n",
              "  color: #f1f1f1;\n",
              "}\n",
              "#T_3f342_row2_col1, #T_3f342_row3_col4 {\n",
              "  background-color: #e3d9d3;\n",
              "  color: #000000;\n",
              "}\n",
              "#T_3f342_row2_col3, #T_3f342_row2_col4, #T_3f342_row3_col0, #T_3f342_row3_col1, #T_3f342_row3_col2, #T_3f342_row4_col5 {\n",
              "  background-color: #3b4cc0;\n",
              "  color: #f1f1f1;\n",
              "}\n",
              "#T_3f342_row2_col5 {\n",
              "  background-color: #5a78e4;\n",
              "  color: #f1f1f1;\n",
              "}\n",
              "#T_3f342_row3_col5 {\n",
              "  background-color: #4961d2;\n",
              "  color: #f1f1f1;\n",
              "}\n",
              "#T_3f342_row4_col0 {\n",
              "  background-color: #6384eb;\n",
              "  color: #f1f1f1;\n",
              "}\n",
              "#T_3f342_row4_col1 {\n",
              "  background-color: #adc9fd;\n",
              "  color: #000000;\n",
              "}\n",
              "#T_3f342_row4_col2 {\n",
              "  background-color: #96b7ff;\n",
              "  color: #000000;\n",
              "}\n",
              "#T_3f342_row4_col3 {\n",
              "  background-color: #f7bca1;\n",
              "  color: #000000;\n",
              "}\n",
              "#T_3f342_row5_col0 {\n",
              "  background-color: #4f69d9;\n",
              "  color: #f1f1f1;\n",
              "}\n",
              "#T_3f342_row5_col2 {\n",
              "  background-color: #c5d6f2;\n",
              "  color: #000000;\n",
              "}\n",
              "#T_3f342_row5_col3 {\n",
              "  background-color: #bad0f8;\n",
              "  color: #000000;\n",
              "}\n",
              "#T_3f342_row5_col4 {\n",
              "  background-color: #5977e3;\n",
              "  color: #f1f1f1;\n",
              "}\n",
              "</style>\n",
              "<table id=\"T_3f342_\" class=\"dataframe\">\n",
              "  <thead>\n",
              "    <tr>\n",
              "      <th class=\"blank level0\" >&nbsp;</th>\n",
              "      <th class=\"col_heading level0 col0\" >quantity_order</th>\n",
              "      <th class=\"col_heading level0 col1\" >revenue</th>\n",
              "      <th class=\"col_heading level0 col2\" >abc_revenue</th>\n",
              "      <th class=\"col_heading level0 col3\" >abc_count</th>\n",
              "      <th class=\"col_heading level0 col4\" >xyz_pct</th>\n",
              "      <th class=\"col_heading level0 col5\" >return</th>\n",
              "    </tr>\n",
              "  </thead>\n",
              "  <tbody>\n",
              "    <tr>\n",
              "      <th id=\"T_3f342_level0_row0\" class=\"row_heading level0 row0\" >quantity_order</th>\n",
              "      <td id=\"T_3f342_row0_col0\" class=\"data row0 col0\" >1.000000</td>\n",
              "      <td id=\"T_3f342_row0_col1\" class=\"data row0 col1\" >0.266442</td>\n",
              "      <td id=\"T_3f342_row0_col2\" class=\"data row0 col2\" >0.081276</td>\n",
              "      <td id=\"T_3f342_row0_col3\" class=\"data row0 col3\" >-0.092692</td>\n",
              "      <td id=\"T_3f342_row0_col4\" class=\"data row0 col4\" >0.048983</td>\n",
              "      <td id=\"T_3f342_row0_col5\" class=\"data row0 col5\" >-0.018548</td>\n",
              "    </tr>\n",
              "    <tr>\n",
              "      <th id=\"T_3f342_level0_row1\" class=\"row_heading level0 row1\" >revenue</th>\n",
              "      <td id=\"T_3f342_row1_col0\" class=\"data row1 col0\" >0.266442</td>\n",
              "      <td id=\"T_3f342_row1_col1\" class=\"data row1 col1\" >1.000000</td>\n",
              "      <td id=\"T_3f342_row1_col2\" class=\"data row1 col2\" >0.370702</td>\n",
              "      <td id=\"T_3f342_row1_col3\" class=\"data row1 col3\" >-0.325896</td>\n",
              "      <td id=\"T_3f342_row1_col4\" class=\"data row1 col4\" >0.125405</td>\n",
              "      <td id=\"T_3f342_row1_col5\" class=\"data row1 col5\" >-0.031583</td>\n",
              "    </tr>\n",
              "    <tr>\n",
              "      <th id=\"T_3f342_level0_row2\" class=\"row_heading level0 row2\" >abc_revenue</th>\n",
              "      <td id=\"T_3f342_row2_col0\" class=\"data row2 col0\" >0.081276</td>\n",
              "      <td id=\"T_3f342_row2_col1\" class=\"data row2 col1\" >0.370702</td>\n",
              "      <td id=\"T_3f342_row2_col2\" class=\"data row2 col2\" >1.000000</td>\n",
              "      <td id=\"T_3f342_row2_col3\" class=\"data row2 col3\" >-0.687028</td>\n",
              "      <td id=\"T_3f342_row2_col4\" class=\"data row2 col4\" >-0.221707</td>\n",
              "      <td id=\"T_3f342_row2_col5\" class=\"data row2 col5\" >0.015809</td>\n",
              "    </tr>\n",
              "    <tr>\n",
              "      <th id=\"T_3f342_level0_row3\" class=\"row_heading level0 row3\" >abc_count</th>\n",
              "      <td id=\"T_3f342_row3_col0\" class=\"data row3 col0\" >-0.092692</td>\n",
              "      <td id=\"T_3f342_row3_col1\" class=\"data row3 col1\" >-0.325896</td>\n",
              "      <td id=\"T_3f342_row3_col2\" class=\"data row3 col2\" >-0.687028</td>\n",
              "      <td id=\"T_3f342_row3_col3\" class=\"data row3 col3\" >1.000000</td>\n",
              "      <td id=\"T_3f342_row3_col4\" class=\"data row3 col4\" >0.418121</td>\n",
              "      <td id=\"T_3f342_row3_col5\" class=\"data row3 col5\" >-0.047191</td>\n",
              "    </tr>\n",
              "    <tr>\n",
              "      <th id=\"T_3f342_level0_row4\" class=\"row_heading level0 row4\" >xyz_pct</th>\n",
              "      <td id=\"T_3f342_row4_col0\" class=\"data row4 col0\" >0.048983</td>\n",
              "      <td id=\"T_3f342_row4_col1\" class=\"data row4 col1\" >0.125405</td>\n",
              "      <td id=\"T_3f342_row4_col2\" class=\"data row4 col2\" >-0.221707</td>\n",
              "      <td id=\"T_3f342_row4_col3\" class=\"data row4 col3\" >0.418121</td>\n",
              "      <td id=\"T_3f342_row4_col4\" class=\"data row4 col4\" >1.000000</td>\n",
              "      <td id=\"T_3f342_row4_col5\" class=\"data row4 col5\" >-0.100202</td>\n",
              "    </tr>\n",
              "    <tr>\n",
              "      <th id=\"T_3f342_level0_row5\" class=\"row_heading level0 row5\" >return</th>\n",
              "      <td id=\"T_3f342_row5_col0\" class=\"data row5 col0\" >-0.018548</td>\n",
              "      <td id=\"T_3f342_row5_col1\" class=\"data row5 col1\" >-0.031583</td>\n",
              "      <td id=\"T_3f342_row5_col2\" class=\"data row5 col2\" >0.015809</td>\n",
              "      <td id=\"T_3f342_row5_col3\" class=\"data row5 col3\" >-0.047191</td>\n",
              "      <td id=\"T_3f342_row5_col4\" class=\"data row5 col4\" >-0.100202</td>\n",
              "      <td id=\"T_3f342_row5_col5\" class=\"data row5 col5\" >1.000000</td>\n",
              "    </tr>\n",
              "  </tbody>\n",
              "</table>\n"
            ]
          },
          "metadata": {},
          "execution_count": 94
        }
      ]
    },
    {
      "cell_type": "code",
      "source": [
        "# удаляем стоблцы где сильная кореляция\n",
        "ml = ml.drop(columns=['abc_count'])"
      ],
      "metadata": {
        "id": "diBqi0bQ0hxv"
      },
      "execution_count": null,
      "outputs": []
    },
    {
      "cell_type": "code",
      "source": [
        "ml = ml.drop(columns=['abc_revenue'])"
      ],
      "metadata": {
        "id": "vuiIW2qy00mL"
      },
      "execution_count": null,
      "outputs": []
    },
    {
      "cell_type": "code",
      "source": [
        "ml.corr().style.background_gradient(cmap='coolwarm')"
      ],
      "metadata": {
        "id": "PDVddQFl_q7J",
        "colab": {
          "base_uri": "https://localhost:8080/",
          "height": 175
        },
        "outputId": "c8d8f680-ed01-4b13-86f1-9ad364661629"
      },
      "execution_count": null,
      "outputs": [
        {
          "output_type": "execute_result",
          "data": {
            "text/plain": [
              "<pandas.io.formats.style.Styler at 0x7f9cd60537d0>"
            ],
            "text/html": [
              "<style type=\"text/css\">\n",
              "#T_5d3c7_row0_col0, #T_5d3c7_row1_col1, #T_5d3c7_row2_col2, #T_5d3c7_row3_col3 {\n",
              "  background-color: #b40426;\n",
              "  color: #f1f1f1;\n",
              "}\n",
              "#T_5d3c7_row0_col1 {\n",
              "  background-color: #9abbff;\n",
              "  color: #000000;\n",
              "}\n",
              "#T_5d3c7_row0_col2 {\n",
              "  background-color: #6485ec;\n",
              "  color: #f1f1f1;\n",
              "}\n",
              "#T_5d3c7_row0_col3 {\n",
              "  background-color: #506bda;\n",
              "  color: #f1f1f1;\n",
              "}\n",
              "#T_5d3c7_row1_col0 {\n",
              "  background-color: #97b8ff;\n",
              "  color: #000000;\n",
              "}\n",
              "#T_5d3c7_row1_col2 {\n",
              "  background-color: #7da0f9;\n",
              "  color: #f1f1f1;\n",
              "}\n",
              "#T_5d3c7_row1_col3 {\n",
              "  background-color: #4c66d6;\n",
              "  color: #f1f1f1;\n",
              "}\n",
              "#T_5d3c7_row2_col0 {\n",
              "  background-color: #4e68d8;\n",
              "  color: #f1f1f1;\n",
              "}\n",
              "#T_5d3c7_row2_col1 {\n",
              "  background-color: #6a8bef;\n",
              "  color: #f1f1f1;\n",
              "}\n",
              "#T_5d3c7_row2_col3, #T_5d3c7_row3_col0, #T_5d3c7_row3_col1, #T_5d3c7_row3_col2 {\n",
              "  background-color: #3b4cc0;\n",
              "  color: #f1f1f1;\n",
              "}\n",
              "</style>\n",
              "<table id=\"T_5d3c7_\" class=\"dataframe\">\n",
              "  <thead>\n",
              "    <tr>\n",
              "      <th class=\"blank level0\" >&nbsp;</th>\n",
              "      <th class=\"col_heading level0 col0\" >quantity_order</th>\n",
              "      <th class=\"col_heading level0 col1\" >revenue</th>\n",
              "      <th class=\"col_heading level0 col2\" >xyz_pct</th>\n",
              "      <th class=\"col_heading level0 col3\" >return</th>\n",
              "    </tr>\n",
              "  </thead>\n",
              "  <tbody>\n",
              "    <tr>\n",
              "      <th id=\"T_5d3c7_level0_row0\" class=\"row_heading level0 row0\" >quantity_order</th>\n",
              "      <td id=\"T_5d3c7_row0_col0\" class=\"data row0 col0\" >1.000000</td>\n",
              "      <td id=\"T_5d3c7_row0_col1\" class=\"data row0 col1\" >0.266442</td>\n",
              "      <td id=\"T_5d3c7_row0_col2\" class=\"data row0 col2\" >0.048983</td>\n",
              "      <td id=\"T_5d3c7_row0_col3\" class=\"data row0 col3\" >-0.018548</td>\n",
              "    </tr>\n",
              "    <tr>\n",
              "      <th id=\"T_5d3c7_level0_row1\" class=\"row_heading level0 row1\" >revenue</th>\n",
              "      <td id=\"T_5d3c7_row1_col0\" class=\"data row1 col0\" >0.266442</td>\n",
              "      <td id=\"T_5d3c7_row1_col1\" class=\"data row1 col1\" >1.000000</td>\n",
              "      <td id=\"T_5d3c7_row1_col2\" class=\"data row1 col2\" >0.125405</td>\n",
              "      <td id=\"T_5d3c7_row1_col3\" class=\"data row1 col3\" >-0.031583</td>\n",
              "    </tr>\n",
              "    <tr>\n",
              "      <th id=\"T_5d3c7_level0_row2\" class=\"row_heading level0 row2\" >xyz_pct</th>\n",
              "      <td id=\"T_5d3c7_row2_col0\" class=\"data row2 col0\" >0.048983</td>\n",
              "      <td id=\"T_5d3c7_row2_col1\" class=\"data row2 col1\" >0.125405</td>\n",
              "      <td id=\"T_5d3c7_row2_col2\" class=\"data row2 col2\" >1.000000</td>\n",
              "      <td id=\"T_5d3c7_row2_col3\" class=\"data row2 col3\" >-0.100202</td>\n",
              "    </tr>\n",
              "    <tr>\n",
              "      <th id=\"T_5d3c7_level0_row3\" class=\"row_heading level0 row3\" >return</th>\n",
              "      <td id=\"T_5d3c7_row3_col0\" class=\"data row3 col0\" >-0.018548</td>\n",
              "      <td id=\"T_5d3c7_row3_col1\" class=\"data row3 col1\" >-0.031583</td>\n",
              "      <td id=\"T_5d3c7_row3_col2\" class=\"data row3 col2\" >-0.100202</td>\n",
              "      <td id=\"T_5d3c7_row3_col3\" class=\"data row3 col3\" >1.000000</td>\n",
              "    </tr>\n",
              "  </tbody>\n",
              "</table>\n"
            ]
          },
          "metadata": {},
          "execution_count": 97
        }
      ]
    },
    {
      "cell_type": "markdown",
      "source": [
        "### 5.8.1 Стандартизируем данные"
      ],
      "metadata": {
        "id": "KB0SMJj8ibVP"
      }
    },
    {
      "cell_type": "code",
      "source": [
        "# создаём объект класса scaler\n",
        "scaler = StandardScaler()"
      ],
      "metadata": {
        "id": "_J_JZDI2f_es"
      },
      "execution_count": null,
      "outputs": []
    },
    {
      "cell_type": "code",
      "source": [
        "# обучаем нормализатор и преобразуем набор данных \n",
        "x_sc = scaler.fit_transform(ml.drop(columns=['customer_id'])) "
      ],
      "metadata": {
        "id": "3QGiT47QepWU"
      },
      "execution_count": null,
      "outputs": []
    },
    {
      "cell_type": "markdown",
      "source": [
        "### 5.8.2 Дендограмма"
      ],
      "metadata": {
        "id": "QnXWmhh9i5vI"
      }
    },
    {
      "cell_type": "code",
      "source": [
        "linked = linkage(x_sc, method = 'ward')"
      ],
      "metadata": {
        "id": "n70OQ5y0epY-"
      },
      "execution_count": null,
      "outputs": []
    },
    {
      "cell_type": "code",
      "source": [
        "plt.figure(figsize=(15, 10))  \n",
        "dendrogram(linked, orientation='top')\n",
        "plt.title('Hierarchial clustering for shop')\n",
        "plt.show() "
      ],
      "metadata": {
        "colab": {
          "base_uri": "https://localhost:8080/",
          "height": 610
        },
        "id": "rO4iWcDReP3Y",
        "outputId": "a64e4b6a-62e1-4696-9c46-884fd5b1a6ee"
      },
      "execution_count": null,
      "outputs": [
        {
          "output_type": "display_data",
          "data": {
            "text/plain": [
              "<Figure size 1080x720 with 1 Axes>"
            ],
            "image/png": "[encoded data removed]"
          },
          "metadata": {
            "needs_background": "light"
          }
        }
      ]
    },
    {
      "cell_type": "markdown",
      "source": [
        "### 5.8.3 Применяем алгоритм K-Means"
      ],
      "metadata": {
        "id": "IsWqur7ujBdF"
      }
    },
    {
      "cell_type": "code",
      "source": [
        "# задаём модель k_means с числом кластеров 4 и фиксируем значение random_state\n",
        "km = KMeans(n_clusters=4, random_state=42)"
      ],
      "metadata": {
        "id": "Sor1zZp1CwED"
      },
      "execution_count": null,
      "outputs": []
    },
    {
      "cell_type": "code",
      "source": [
        "# прогнозируем кластеры для наблюдений (алгоритм присваивает им номера от 0 до 3)\n",
        "labels = km.fit_predict(x_sc)"
      ],
      "metadata": {
        "id": "xByk2KbmCwGY"
      },
      "execution_count": null,
      "outputs": []
    },
    {
      "cell_type": "code",
      "source": [
        "# метрикa силуэта \n",
        "silhouette_score(x_sc, labels) "
      ],
      "metadata": {
        "colab": {
          "base_uri": "https://localhost:8080/"
        },
        "id": "53UuNOBllucd",
        "outputId": "a688f4d9-31a3-4f26-b257-e19088a6335a"
      },
      "execution_count": null,
      "outputs": [
        {
          "output_type": "execute_result",
          "data": {
            "text/plain": [
              "0.7052779215880555"
            ]
          },
          "metadata": {},
          "execution_count": 104
        }
      ]
    },
    {
      "cell_type": "markdown",
      "source": [
        "### 5.8.4 Cредние значения признаков для кластеров"
      ],
      "metadata": {
        "id": "KShdi00FjPgv"
      }
    },
    {
      "cell_type": "code",
      "source": [
        "ml['cluster'] = labels"
      ],
      "metadata": {
        "id": "NwECXCSHjRVg"
      },
      "execution_count": null,
      "outputs": []
    },
    {
      "cell_type": "code",
      "source": [
        "df = df.merge(ml[['customer_id', 'cluster']], how='left',on='customer_id')"
      ],
      "metadata": {
        "id": "05R6teAT1qVW"
      },
      "execution_count": null,
      "outputs": []
    },
    {
      "cell_type": "code",
      "source": [
        "df.head(1)"
      ],
      "metadata": {
        "colab": {
          "base_uri": "https://localhost:8080/",
          "height": 214
        },
        "id": "mE5IYSnC2fp7",
        "outputId": "13e43433-e324-4707-84a1-7f60c1df57d8"
      },
      "execution_count": null,
      "outputs": [
        {
          "output_type": "execute_result",
          "data": {
            "text/plain": [
              "                 date                           customer_id  order_id  \\\n",
              "0 2018-10-28 22:00:00  0b5ce2c7-acef-4a9a-b821-61a44ed05557     68785   \n",
              "\n",
              "                                        product  quantity     price   revenue  \\\n",
              "0  сиденье в ванну раздвижное, белый, св5, ника         1 374.00000 374.00000   \n",
              "\n",
              "  dayweek    month product_category       last_purchase  rfm_score segment  \\\n",
              "0  Sunday  October         интерьер 2018-10-28 22:00:00    0.00000  no_rfm   \n",
              "\n",
              "  abc xyz  cluster  \n",
              "0  AA   Y        1  "
            ],
            "text/html": [
              "\n",
              "  <div id=\"df-7e6a305b-4485-41d6-a66d-346e931b8ac6\">\n",
              "    <div class=\"colab-df-container\">\n",
              "      <div>\n",
              "<style scoped>\n",
              "    .dataframe tbody tr th:only-of-type {\n",
              "        vertical-align: middle;\n",
              "    }\n",
              "\n",
              "    .dataframe tbody tr th {\n",
              "        vertical-align: top;\n",
              "    }\n",
              "\n",
              "    .dataframe thead th {\n",
              "        text-align: right;\n",
              "    }\n",
              "</style>\n",
              "<table border=\"1\" class=\"dataframe\">\n",
              "  <thead>\n",
              "    <tr style=\"text-align: right;\">\n",
              "      <th></th>\n",
              "      <th>date</th>\n",
              "      <th>customer_id</th>\n",
              "      <th>order_id</th>\n",
              "      <th>product</th>\n",
              "      <th>quantity</th>\n",
              "      <th>price</th>\n",
              "      <th>revenue</th>\n",
              "      <th>dayweek</th>\n",
              "      <th>month</th>\n",
              "      <th>product_category</th>\n",
              "      <th>last_purchase</th>\n",
              "      <th>rfm_score</th>\n",
              "      <th>segment</th>\n",
              "      <th>abc</th>\n",
              "      <th>xyz</th>\n",
              "      <th>cluster</th>\n",
              "    </tr>\n",
              "  </thead>\n",
              "  <tbody>\n",
              "    <tr>\n",
              "      <th>0</th>\n",
              "      <td>2018-10-28 22:00:00</td>\n",
              "      <td>0b5ce2c7-acef-4a9a-b821-61a44ed05557</td>\n",
              "      <td>68785</td>\n",
              "      <td>сиденье в ванну раздвижное, белый, св5, ника</td>\n",
              "      <td>1</td>\n",
              "      <td>374.00000</td>\n",
              "      <td>374.00000</td>\n",
              "      <td>Sunday</td>\n",
              "      <td>October</td>\n",
              "      <td>интерьер</td>\n",
              "      <td>2018-10-28 22:00:00</td>\n",
              "      <td>0.00000</td>\n",
              "      <td>no_rfm</td>\n",
              "      <td>AA</td>\n",
              "      <td>Y</td>\n",
              "      <td>1</td>\n",
              "    </tr>\n",
              "  </tbody>\n",
              "</table>\n",
              "</div>\n",
              "      <button class=\"colab-df-convert\" onclick=\"convertToInteractive('df-7e6a305b-4485-41d6-a66d-346e931b8ac6')\"\n",
              "              title=\"Convert this dataframe to an interactive table.\"\n",
              "              style=\"display:none;\">\n",
              "        \n",
              "  <svg xmlns=\"http://www.w3.org/2000/svg\" height=\"24px\"viewBox=\"0 0 24 24\"\n",
              "       width=\"24px\">\n",
              "    <path d=\"M0 0h24v24H0V0z\" fill=\"none\"/>\n",
              "    <path d=\"M18.56 5.44l.94 2.06.94-2.06 2.06-.94-2.06-.94-.94-2.06-.94 2.06-2.06.94zm-11 1L8.5 8.5l.94-2.06 2.06-.94-2.06-.94L8.5 2.5l-.94 2.06-2.06.94zm10 10l.94 2.06.94-2.06 2.06-.94-2.06-.94-.94-2.06-.94 2.06-2.06.94z\"/><path d=\"M17.41 7.96l-1.37-1.37c-.4-.4-.92-.59-1.43-.59-.52 0-1.04.2-1.43.59L10.3 9.45l-7.72 7.72c-.78.78-.78 2.05 0 2.83L4 21.41c.39.39.9.59 1.41.59.51 0 1.02-.2 1.41-.59l7.78-7.78 2.81-2.81c.8-.78.8-2.07 0-2.86zM5.41 20L4 18.59l7.72-7.72 1.47 1.35L5.41 20z\"/>\n",
              "  </svg>\n",
              "      </button>\n",
              "      \n",
              "  <style>\n",
              "    .colab-df-container {\n",
              "      display:flex;\n",
              "      flex-wrap:wrap;\n",
              "      gap: 12px;\n",
              "    }\n",
              "\n",
              "    .colab-df-convert {\n",
              "      background-color: #E8F0FE;\n",
              "      border: none;\n",
              "      border-radius: 50%;\n",
              "      cursor: pointer;\n",
              "      display: none;\n",
              "      fill: #1967D2;\n",
              "      height: 32px;\n",
              "      padding: 0 0 0 0;\n",
              "      width: 32px;\n",
              "    }\n",
              "\n",
              "    .colab-df-convert:hover {\n",
              "      background-color: #E2EBFA;\n",
              "      box-shadow: 0px 1px 2px rgba(60, 64, 67, 0.3), 0px 1px 3px 1px rgba(60, 64, 67, 0.15);\n",
              "      fill: #174EA6;\n",
              "    }\n",
              "\n",
              "    [theme=dark] .colab-df-convert {\n",
              "      background-color: #3B4455;\n",
              "      fill: #D2E3FC;\n",
              "    }\n",
              "\n",
              "    [theme=dark] .colab-df-convert:hover {\n",
              "      background-color: #434B5C;\n",
              "      box-shadow: 0px 1px 3px 1px rgba(0, 0, 0, 0.15);\n",
              "      filter: drop-shadow(0px 1px 2px rgba(0, 0, 0, 0.3));\n",
              "      fill: #FFFFFF;\n",
              "    }\n",
              "  </style>\n",
              "\n",
              "      <script>\n",
              "        const buttonEl =\n",
              "          document.querySelector('#df-7e6a305b-4485-41d6-a66d-346e931b8ac6 button.colab-df-convert');\n",
              "        buttonEl.style.display =\n",
              "          google.colab.kernel.accessAllowed ? 'block' : 'none';\n",
              "\n",
              "        async function convertToInteractive(key) {\n",
              "          const element = document.querySelector('#df-7e6a305b-4485-41d6-a66d-346e931b8ac6');\n",
              "          const dataTable =\n",
              "            await google.colab.kernel.invokeFunction('convertToInteractive',\n",
              "                                                     [key], {});\n",
              "          if (!dataTable) return;\n",
              "\n",
              "          const docLinkHtml = 'Like what you see? Visit the ' +\n",
              "            '<a target=\"_blank\" href=https://colab.research.google.com/notebooks/data_table.ipynb>data table notebook</a>'\n",
              "            + ' to learn more about interactive tables.';\n",
              "          element.innerHTML = '';\n",
              "          dataTable['output_type'] = 'display_data';\n",
              "          await google.colab.output.renderOutput(dataTable, element);\n",
              "          const docLink = document.createElement('div');\n",
              "          docLink.innerHTML = docLinkHtml;\n",
              "          element.appendChild(docLink);\n",
              "        }\n",
              "      </script>\n",
              "    </div>\n",
              "  </div>\n",
              "  "
            ]
          },
          "metadata": {},
          "execution_count": 107
        }
      ]
    },
    {
      "cell_type": "code",
      "source": [
        "# числовые\n",
        "num_columns = ['revenue', 'price', 'quantity']\n",
        "\n",
        "plt.figure(figsize=(17,5))\n",
        "for i, column in enumerate(sorted(num_columns)):\n",
        "  plt.subplot(1,3,i+1)\n",
        "  sns.boxplot(x=\"cluster\", y=column, data=df)\n",
        "  plt.title(column)\n",
        "plt.show()"
      ],
      "metadata": {
        "colab": {
          "base_uri": "https://localhost:8080/",
          "height": 350
        },
        "id": "gO9i41sujjGO",
        "outputId": "60af2424-c165-4e94-ec2b-da9a2a7c9a07"
      },
      "execution_count": null,
      "outputs": [
        {
          "output_type": "display_data",
          "data": {
            "text/plain": [
              "<Figure size 1224x360 with 3 Axes>"
            ],
            "image/png": "[encoded data removed]"
          },
          "metadata": {
            "needs_background": "light"
          }
        }
      ]
    },
    {
      "cell_type": "code",
      "source": [
        "((ml.groupby('cluster').agg('mean').reset_index())\n",
        "          .merge(ml.groupby('cluster')['customer_id']\n",
        "                 .count()\n",
        "                 .reset_index(), how='left', on='cluster')\n",
        "          .T\n",
        " )"
      ],
      "metadata": {
        "colab": {
          "base_uri": "https://localhost:8080/",
          "height": 237
        },
        "id": "kvdLIuZYQ2Sj",
        "outputId": "8a6a42ca-b1ff-4514-daa9-b983721ff794"
      },
      "execution_count": null,
      "outputs": [
        {
          "output_type": "execute_result",
          "data": {
            "text/plain": [
              "                        0          1         2          3\n",
              "cluster           0.00000    1.00000   2.00000    3.00000\n",
              "quantity_order    2.19505    1.87616   2.02286   94.00000\n",
              "revenue         909.46137  519.72368 489.89857 8867.00000\n",
              "xyz_pct         100.00000    0.36137  21.43193   62.37716\n",
              "return            0.00000    0.00000   1.00000    0.04762\n",
              "customer_id    1333.00000 2584.00000 700.00000   21.00000"
            ],
            "text/html": [
              "\n",
              "  <div id=\"df-91eeac6a-6382-4c7a-b037-6d59e171e475\">\n",
              "    <div class=\"colab-df-container\">\n",
              "      <div>\n",
              "<style scoped>\n",
              "    .dataframe tbody tr th:only-of-type {\n",
              "        vertical-align: middle;\n",
              "    }\n",
              "\n",
              "    .dataframe tbody tr th {\n",
              "        vertical-align: top;\n",
              "    }\n",
              "\n",
              "    .dataframe thead th {\n",
              "        text-align: right;\n",
              "    }\n",
              "</style>\n",
              "<table border=\"1\" class=\"dataframe\">\n",
              "  <thead>\n",
              "    <tr style=\"text-align: right;\">\n",
              "      <th></th>\n",
              "      <th>0</th>\n",
              "      <th>1</th>\n",
              "      <th>2</th>\n",
              "      <th>3</th>\n",
              "    </tr>\n",
              "  </thead>\n",
              "  <tbody>\n",
              "    <tr>\n",
              "      <th>cluster</th>\n",
              "      <td>0.00000</td>\n",
              "      <td>1.00000</td>\n",
              "      <td>2.00000</td>\n",
              "      <td>3.00000</td>\n",
              "    </tr>\n",
              "    <tr>\n",
              "      <th>quantity_order</th>\n",
              "      <td>2.19505</td>\n",
              "      <td>1.87616</td>\n",
              "      <td>2.02286</td>\n",
              "      <td>94.00000</td>\n",
              "    </tr>\n",
              "    <tr>\n",
              "      <th>revenue</th>\n",
              "      <td>909.46137</td>\n",
              "      <td>519.72368</td>\n",
              "      <td>489.89857</td>\n",
              "      <td>8867.00000</td>\n",
              "    </tr>\n",
              "    <tr>\n",
              "      <th>xyz_pct</th>\n",
              "      <td>100.00000</td>\n",
              "      <td>0.36137</td>\n",
              "      <td>21.43193</td>\n",
              "      <td>62.37716</td>\n",
              "    </tr>\n",
              "    <tr>\n",
              "      <th>return</th>\n",
              "      <td>0.00000</td>\n",
              "      <td>0.00000</td>\n",
              "      <td>1.00000</td>\n",
              "      <td>0.04762</td>\n",
              "    </tr>\n",
              "    <tr>\n",
              "      <th>customer_id</th>\n",
              "      <td>1333.00000</td>\n",
              "      <td>2584.00000</td>\n",
              "      <td>700.00000</td>\n",
              "      <td>21.00000</td>\n",
              "    </tr>\n",
              "  </tbody>\n",
              "</table>\n",
              "</div>\n",
              "      <button class=\"colab-df-convert\" onclick=\"convertToInteractive('df-91eeac6a-6382-4c7a-b037-6d59e171e475')\"\n",
              "              title=\"Convert this dataframe to an interactive table.\"\n",
              "              style=\"display:none;\">\n",
              "        \n",
              "  <svg xmlns=\"http://www.w3.org/2000/svg\" height=\"24px\"viewBox=\"0 0 24 24\"\n",
              "       width=\"24px\">\n",
              "    <path d=\"M0 0h24v24H0V0z\" fill=\"none\"/>\n",
              "    <path d=\"M18.56 5.44l.94 2.06.94-2.06 2.06-.94-2.06-.94-.94-2.06-.94 2.06-2.06.94zm-11 1L8.5 8.5l.94-2.06 2.06-.94-2.06-.94L8.5 2.5l-.94 2.06-2.06.94zm10 10l.94 2.06.94-2.06 2.06-.94-2.06-.94-.94-2.06-.94 2.06-2.06.94z\"/><path d=\"M17.41 7.96l-1.37-1.37c-.4-.4-.92-.59-1.43-.59-.52 0-1.04.2-1.43.59L10.3 9.45l-7.72 7.72c-.78.78-.78 2.05 0 2.83L4 21.41c.39.39.9.59 1.41.59.51 0 1.02-.2 1.41-.59l7.78-7.78 2.81-2.81c.8-.78.8-2.07 0-2.86zM5.41 20L4 18.59l7.72-7.72 1.47 1.35L5.41 20z\"/>\n",
              "  </svg>\n",
              "      </button>\n",
              "      \n",
              "  <style>\n",
              "    .colab-df-container {\n",
              "      display:flex;\n",
              "      flex-wrap:wrap;\n",
              "      gap: 12px;\n",
              "    }\n",
              "\n",
              "    .colab-df-convert {\n",
              "      background-color: #E8F0FE;\n",
              "      border: none;\n",
              "      border-radius: 50%;\n",
              "      cursor: pointer;\n",
              "      display: none;\n",
              "      fill: #1967D2;\n",
              "      height: 32px;\n",
              "      padding: 0 0 0 0;\n",
              "      width: 32px;\n",
              "    }\n",
              "\n",
              "    .colab-df-convert:hover {\n",
              "      background-color: #E2EBFA;\n",
              "      box-shadow: 0px 1px 2px rgba(60, 64, 67, 0.3), 0px 1px 3px 1px rgba(60, 64, 67, 0.15);\n",
              "      fill: #174EA6;\n",
              "    }\n",
              "\n",
              "    [theme=dark] .colab-df-convert {\n",
              "      background-color: #3B4455;\n",
              "      fill: #D2E3FC;\n",
              "    }\n",
              "\n",
              "    [theme=dark] .colab-df-convert:hover {\n",
              "      background-color: #434B5C;\n",
              "      box-shadow: 0px 1px 3px 1px rgba(0, 0, 0, 0.15);\n",
              "      filter: drop-shadow(0px 1px 2px rgba(0, 0, 0, 0.3));\n",
              "      fill: #FFFFFF;\n",
              "    }\n",
              "  </style>\n",
              "\n",
              "      <script>\n",
              "        const buttonEl =\n",
              "          document.querySelector('#df-91eeac6a-6382-4c7a-b037-6d59e171e475 button.colab-df-convert');\n",
              "        buttonEl.style.display =\n",
              "          google.colab.kernel.accessAllowed ? 'block' : 'none';\n",
              "\n",
              "        async function convertToInteractive(key) {\n",
              "          const element = document.querySelector('#df-91eeac6a-6382-4c7a-b037-6d59e171e475');\n",
              "          const dataTable =\n",
              "            await google.colab.kernel.invokeFunction('convertToInteractive',\n",
              "                                                     [key], {});\n",
              "          if (!dataTable) return;\n",
              "\n",
              "          const docLinkHtml = 'Like what you see? Visit the ' +\n",
              "            '<a target=\"_blank\" href=https://colab.research.google.com/notebooks/data_table.ipynb>data table notebook</a>'\n",
              "            + ' to learn more about interactive tables.';\n",
              "          element.innerHTML = '';\n",
              "          dataTable['output_type'] = 'display_data';\n",
              "          await google.colab.output.renderOutput(dataTable, element);\n",
              "          const docLink = document.createElement('div');\n",
              "          docLink.innerHTML = docLinkHtml;\n",
              "          element.appendChild(docLink);\n",
              "        }\n",
              "      </script>\n",
              "    </div>\n",
              "  </div>\n",
              "  "
            ]
          },
          "metadata": {},
          "execution_count": 109
        }
      ]
    },
    {
      "cell_type": "markdown",
      "source": [
        "- 2 кластер имеет 100% вероятность повторной покупки, среднее количество товара 2, средний чек 489 руб, с товаром из категории XYZ со средним значением 21% (средний спрос на товар)\n",
        "- 3 кластер имеет 4% вероятность вернуться, средний чек 8800, наибольшее количество товара 94 в среднем, при этом XYZ 62% (плохой спрос на товар), но у него очень маленькое количество клиентов."
      ],
      "metadata": {
        "id": "YR75R5Dc2b3p"
      }
    },
    {
      "cell_type": "markdown",
      "source": [
        "# 👩🏼‍🔬 6. Проверка гипотез c помощью t-test"
      ],
      "metadata": {
        "id": "xDtE4eb06204"
      }
    },
    {
      "cell_type": "markdown",
      "source": [
        "## 6.1 Средняя выручка категории \"хранение\" и \"хозтовар\" различаются"
      ],
      "metadata": {
        "id": "xXmcojGb79sc"
      }
    },
    {
      "cell_type": "markdown",
      "source": [
        "### 6.1.1 Распределние на qqplot\n",
        "\n"
      ],
      "metadata": {
        "id": "vKP177nl8WT0"
      }
    },
    {
      "cell_type": "code",
      "source": [
        "st.probplot(df.query('product_category == \"хозтовары\"').groupby('customer_id')['revenue'].mean(), dist=\"norm\", plot=pylab)\n",
        "pylab.show()"
      ],
      "metadata": {
        "colab": {
          "base_uri": "https://localhost:8080/",
          "height": 295
        },
        "id": "hDj82aA18V0h",
        "outputId": "e0d0b61f-c948-4f5a-f173-de8afaa8f98f"
      },
      "execution_count": null,
      "outputs": [
        {
          "output_type": "display_data",
          "data": {
            "text/plain": [
              "<Figure size 432x288 with 1 Axes>"
            ],
            "image/png": "[encoded data removed]"
          },
          "metadata": {
            "needs_background": "light"
          }
        }
      ]
    },
    {
      "cell_type": "code",
      "source": [
        "df.query('product_category == \"хозтовары\"')['revenue'].count()"
      ],
      "metadata": {
        "colab": {
          "base_uri": "https://localhost:8080/"
        },
        "id": "_l6MznrS8q6S",
        "outputId": "1ba5dd57-8d23-41d1-f600-9716a06e09bc"
      },
      "execution_count": null,
      "outputs": [
        {
          "output_type": "execute_result",
          "data": {
            "text/plain": [
              "1252"
            ]
          },
          "metadata": {},
          "execution_count": 111
        }
      ]
    },
    {
      "cell_type": "code",
      "source": [
        "st.probplot(df.query('product_category == \"хранение\"').groupby('customer_id')['revenue'].mean(), dist=\"norm\", plot=pylab)\n",
        "pylab.show()"
      ],
      "metadata": {
        "colab": {
          "base_uri": "https://localhost:8080/",
          "height": 295
        },
        "id": "yvnR_g_GWULQ",
        "outputId": "9cba42ed-19a2-425f-9ff3-5c3b11506b7f"
      },
      "execution_count": null,
      "outputs": [
        {
          "output_type": "display_data",
          "data": {
            "text/plain": [
              "<Figure size 432x288 with 1 Axes>"
            ],
            "image/png": "[encoded data removed]"
          },
          "metadata": {
            "needs_background": "light"
          }
        }
      ]
    },
    {
      "cell_type": "code",
      "source": [
        "df.query('product_category == \"хранение\"')['revenue'].count()"
      ],
      "metadata": {
        "colab": {
          "base_uri": "https://localhost:8080/"
        },
        "id": "BBbwS9Iy87XO",
        "outputId": "b32e1862-f677-4b9e-b523-c370db5af945"
      },
      "execution_count": null,
      "outputs": [
        {
          "output_type": "execute_result",
          "data": {
            "text/plain": [
              "845"
            ]
          },
          "metadata": {},
          "execution_count": 113
        }
      ]
    },
    {
      "cell_type": "markdown",
      "source": [
        "- Распредление не нормально, но для критерия Стюдента при большой выборке (более 30 значений) это не обязательно.\n",
        "- Ссылка на статью про **необязательное** нормальное распредление для t-критерий (критерий Стьюдента):\n",
        "\n",
        "[я ссылка](https://koch-kir.medium.com/%D0%B8%D1%81%D1%82%D0%BE%D1%80%D0%B8%D1%8F-%D0%BE%D0%B4%D0%BD%D0%BE%D0%B3%D0%BE-%D0%BE%D0%B1%D0%BC%D0%B0%D0%BD%D0%B0-%D0%B8%D0%BB%D0%B8-%D1%82%D1%80%D0%B5%D0%B1%D0%BE%D0%B2%D0%B0%D0%BD%D0%B8%D1%8F-%D0%BA-%D1%80%D0%B0%D1%81%D0%BF%D1%80%D0%B5%D0%B4%D0%B5%D0%BB%D0%B5%D0%BD%D0%B8%D1%8E-%D0%B2-%D1%81%D1%82%D0%B0%D1%82%D0%B8%D1%81%D1%82%D0%B8%D1%87%D0%B5%D1%81%D0%BA%D0%B8%D1%85-%D1%82%D0%B5%D1%81%D1%82%D0%B0%D1%85-55139a5558d)"
      ],
      "metadata": {
        "id": "fQwEASyz9xDQ"
      }
    },
    {
      "cell_type": "markdown",
      "source": [
        "### 6.1.2 Формулируем гипотезы\n",
        "\n",
        "**H0:** средняя выручка клиентов категории \"хранение\" и \"хозтовар\" **равны**\n",
        "\n",
        "\n",
        "**H1:** средняя выручка клиентов категории \"хранение\" и \"хозтовар\"  **различаются** "
      ],
      "metadata": {
        "id": "2FD52dqI99O5"
      }
    },
    {
      "cell_type": "markdown",
      "source": [
        "### 6.1.3 Проводим т-тест"
      ],
      "metadata": {
        "id": "VD-Kz_HdZp8o"
      }
    },
    {
      "cell_type": "code",
      "source": [
        "# t-test - Гипотеза о равенстве средних двух генеральных совокупностей\n",
        "alpha = 0.01\n",
        "\n",
        "results = st.ttest_ind(\n",
        "    df.query('product_category == \"хозтовары\"')['revenue'],\n",
        "    df.query('product_category == \"хранение\"')['revenue'],\n",
        "     equal_var=False)\n",
        "\n",
        "print('p-значение:', np.round(results.pvalue, decimals=5))\n",
        "\n",
        "if results.pvalue < alpha:\n",
        "    print(\"Отвергаем нулевую гипотезу\")\n",
        "else:\n",
        "    print(\"Не получилось отвергнуть нулевую гипотезу\") "
      ],
      "metadata": {
        "colab": {
          "base_uri": "https://localhost:8080/"
        },
        "id": "eFu_MnIFYs3a",
        "outputId": "5727498b-c7f7-4570-bffb-f1d275fbd04c"
      },
      "execution_count": null,
      "outputs": [
        {
          "output_type": "stream",
          "name": "stdout",
          "text": [
            "p-значение: 0.0\n",
            "Отвергаем нулевую гипотезу\n"
          ]
        }
      ]
    },
    {
      "cell_type": "markdown",
      "source": [
        "- Нулевая гипотеза о равенстве средних выручек категорий, **не подтвердилась.**"
      ],
      "metadata": {
        "id": "GOANmo-a-X9Q"
      }
    },
    {
      "cell_type": "markdown",
      "source": [
        "## 6.2 Средняя выручка в мае отличается от апреля"
      ],
      "metadata": {
        "id": "_SJIJ9fP--JM"
      }
    },
    {
      "cell_type": "markdown",
      "source": [
        "### 6.2.1 Распределние на qqplot"
      ],
      "metadata": {
        "id": "_LMrnISuDrVl"
      }
    },
    {
      "cell_type": "code",
      "source": [
        "st.probplot(df.query('month == \"April\"').groupby('customer_id')['revenue'].mean(), dist=\"norm\", plot=pylab)\n",
        "pylab.show()"
      ],
      "metadata": {
        "colab": {
          "base_uri": "https://localhost:8080/",
          "height": 295
        },
        "id": "PyiDZTyn-J0i",
        "outputId": "62a1b8ba-4b17-48cb-fe49-b42a5936442c"
      },
      "execution_count": null,
      "outputs": [
        {
          "output_type": "display_data",
          "data": {
            "text/plain": [
              "<Figure size 432x288 with 1 Axes>"
            ],
            "image/png": "[encoded data removed]"
          },
          "metadata": {
            "needs_background": "light"
          }
        }
      ]
    },
    {
      "cell_type": "code",
      "source": [
        "df.query('month == \"April\"')['revenue'].count()"
      ],
      "metadata": {
        "colab": {
          "base_uri": "https://localhost:8080/"
        },
        "id": "_9q6N5aC98o-",
        "outputId": "df29f4a1-1a00-4c6f-b3aa-a1780f630da4"
      },
      "execution_count": null,
      "outputs": [
        {
          "output_type": "execute_result",
          "data": {
            "text/plain": [
              "9321"
            ]
          },
          "metadata": {},
          "execution_count": 116
        }
      ]
    },
    {
      "cell_type": "code",
      "source": [
        "st.probplot(df.query('month == \"May\"').groupby('customer_id')['revenue'].mean(), dist=\"norm\", plot=pylab)\n",
        "pylab.show()"
      ],
      "metadata": {
        "colab": {
          "base_uri": "https://localhost:8080/",
          "height": 295
        },
        "id": "1DOdZp4J_dZw",
        "outputId": "34c73d0c-e87e-410a-e0a0-8bb26f67701f"
      },
      "execution_count": null,
      "outputs": [
        {
          "output_type": "display_data",
          "data": {
            "text/plain": [
              "<Figure size 432x288 with 1 Axes>"
            ],
            "image/png": "[encoded data removed]"
          },
          "metadata": {
            "needs_background": "light"
          }
        }
      ]
    },
    {
      "cell_type": "code",
      "source": [
        "df.query('month == \"May\"')['revenue'].count()"
      ],
      "metadata": {
        "colab": {
          "base_uri": "https://localhost:8080/"
        },
        "id": "xIPqh2fA_dbr",
        "outputId": "d0ba9736-ea0b-4137-ba9a-c983cf196c31"
      },
      "execution_count": null,
      "outputs": [
        {
          "output_type": "execute_result",
          "data": {
            "text/plain": [
              "10812"
            ]
          },
          "metadata": {},
          "execution_count": 118
        }
      ]
    },
    {
      "cell_type": "markdown",
      "source": [
        "### 6.2.2 Формулируем гипотезы\n",
        "\n",
        "**H0:** средняя выручка покупателей в мае и апреле **равны**\n",
        "\n",
        "**H1:** средняя выручка покупателей в мае и апреле **различаются** "
      ],
      "metadata": {
        "id": "_vzcN98L98yI"
      }
    },
    {
      "cell_type": "markdown",
      "source": [
        "### 6.2.3 Проводим т-тест"
      ],
      "metadata": {
        "id": "Lb0acctlDuau"
      }
    },
    {
      "cell_type": "code",
      "source": [
        "# t-test - Гипотеза о равенстве средних двух генеральных совокупностей\n",
        "alpha = 0.01\n",
        "\n",
        "results = st.ttest_ind(\n",
        "    df.query('month == \"April\"')['revenue'],\n",
        "    df.query('month == \"May\"')['revenue'],\n",
        "     equal_var=False)\n",
        "\n",
        "print('p-значение:', np.round(results.pvalue, decimals=5))\n",
        "\n",
        "if results.pvalue < alpha:\n",
        "    print(\"Отвергаем нулевую гипотезу\")\n",
        "else:\n",
        "    print(\"Не получилось отвергнуть нулевую гипотезу\") "
      ],
      "metadata": {
        "colab": {
          "base_uri": "https://localhost:8080/"
        },
        "id": "L83-PnHu8-V2",
        "outputId": "47f989b9-6eeb-4da3-dad0-674c632c1235"
      },
      "execution_count": null,
      "outputs": [
        {
          "output_type": "stream",
          "name": "stdout",
          "text": [
            "p-значение: 0.15897\n",
            "Не получилось отвергнуть нулевую гипотезу\n"
          ]
        }
      ]
    },
    {
      "cell_type": "markdown",
      "source": [
        "- Нулевая гипотеза о равенстве средних выручек покупателей в мае и апреле, **подтвердилась.**"
      ],
      "metadata": {
        "id": "uxEz0PloApRJ"
      }
    },
    {
      "cell_type": "code",
      "source": [
        "df.describe().T"
      ],
      "metadata": {
        "colab": {
          "base_uri": "https://localhost:8080/",
          "height": 237
        },
        "id": "dGfus0DDFpbK",
        "outputId": "8c280c30-f8a5-472b-cd2c-ffaea11632f7"
      },
      "execution_count": null,
      "outputs": [
        {
          "output_type": "execute_result",
          "data": {
            "text/plain": [
              "                count        mean         std         min         25%  \\\n",
              "order_id  34828.00000 24919.04697 21411.17620 12624.00000 14688.00000   \n",
              "quantity  34828.00000     1.49945     3.34692     1.00000     1.00000   \n",
              "price     34828.00000   188.70550   456.02718     9.00000    59.00000   \n",
              "revenue   34828.00000   239.40367   687.03657     9.00000    78.00000   \n",
              "rfm_score 34828.00000     5.11333     3.12222     0.00000     4.00000   \n",
              "cluster   34828.00000     1.00620     0.68632     0.00000     1.00000   \n",
              "\n",
              "                  50%         75%         max  \n",
              "order_id  14764.00000 14892.00000 73164.00000  \n",
              "quantity      1.00000     1.00000   200.00000  \n",
              "price       116.00000   150.00000 14917.00000  \n",
              "revenue     120.00000   188.00000 47385.00000  \n",
              "rfm_score     6.00000     7.00000    12.00000  \n",
              "cluster       1.00000     1.00000     3.00000  "
            ],
            "text/html": [
              "\n",
              "  <div id=\"df-c7558b4a-83ea-42c2-8106-9d0c081b0a53\">\n",
              "    <div class=\"colab-df-container\">\n",
              "      <div>\n",
              "<style scoped>\n",
              "    .dataframe tbody tr th:only-of-type {\n",
              "        vertical-align: middle;\n",
              "    }\n",
              "\n",
              "    .dataframe tbody tr th {\n",
              "        vertical-align: top;\n",
              "    }\n",
              "\n",
              "    .dataframe thead th {\n",
              "        text-align: right;\n",
              "    }\n",
              "</style>\n",
              "<table border=\"1\" class=\"dataframe\">\n",
              "  <thead>\n",
              "    <tr style=\"text-align: right;\">\n",
              "      <th></th>\n",
              "      <th>count</th>\n",
              "      <th>mean</th>\n",
              "      <th>std</th>\n",
              "      <th>min</th>\n",
              "      <th>25%</th>\n",
              "      <th>50%</th>\n",
              "      <th>75%</th>\n",
              "      <th>max</th>\n",
              "    </tr>\n",
              "  </thead>\n",
              "  <tbody>\n",
              "    <tr>\n",
              "      <th>order_id</th>\n",
              "      <td>34828.00000</td>\n",
              "      <td>24919.04697</td>\n",
              "      <td>21411.17620</td>\n",
              "      <td>12624.00000</td>\n",
              "      <td>14688.00000</td>\n",
              "      <td>14764.00000</td>\n",
              "      <td>14892.00000</td>\n",
              "      <td>73164.00000</td>\n",
              "    </tr>\n",
              "    <tr>\n",
              "      <th>quantity</th>\n",
              "      <td>34828.00000</td>\n",
              "      <td>1.49945</td>\n",
              "      <td>3.34692</td>\n",
              "      <td>1.00000</td>\n",
              "      <td>1.00000</td>\n",
              "      <td>1.00000</td>\n",
              "      <td>1.00000</td>\n",
              "      <td>200.00000</td>\n",
              "    </tr>\n",
              "    <tr>\n",
              "      <th>price</th>\n",
              "      <td>34828.00000</td>\n",
              "      <td>188.70550</td>\n",
              "      <td>456.02718</td>\n",
              "      <td>9.00000</td>\n",
              "      <td>59.00000</td>\n",
              "      <td>116.00000</td>\n",
              "      <td>150.00000</td>\n",
              "      <td>14917.00000</td>\n",
              "    </tr>\n",
              "    <tr>\n",
              "      <th>revenue</th>\n",
              "      <td>34828.00000</td>\n",
              "      <td>239.40367</td>\n",
              "      <td>687.03657</td>\n",
              "      <td>9.00000</td>\n",
              "      <td>78.00000</td>\n",
              "      <td>120.00000</td>\n",
              "      <td>188.00000</td>\n",
              "      <td>47385.00000</td>\n",
              "    </tr>\n",
              "    <tr>\n",
              "      <th>rfm_score</th>\n",
              "      <td>34828.00000</td>\n",
              "      <td>5.11333</td>\n",
              "      <td>3.12222</td>\n",
              "      <td>0.00000</td>\n",
              "      <td>4.00000</td>\n",
              "      <td>6.00000</td>\n",
              "      <td>7.00000</td>\n",
              "      <td>12.00000</td>\n",
              "    </tr>\n",
              "    <tr>\n",
              "      <th>cluster</th>\n",
              "      <td>34828.00000</td>\n",
              "      <td>1.00620</td>\n",
              "      <td>0.68632</td>\n",
              "      <td>0.00000</td>\n",
              "      <td>1.00000</td>\n",
              "      <td>1.00000</td>\n",
              "      <td>1.00000</td>\n",
              "      <td>3.00000</td>\n",
              "    </tr>\n",
              "  </tbody>\n",
              "</table>\n",
              "</div>\n",
              "      <button class=\"colab-df-convert\" onclick=\"convertToInteractive('df-c7558b4a-83ea-42c2-8106-9d0c081b0a53')\"\n",
              "              title=\"Convert this dataframe to an interactive table.\"\n",
              "              style=\"display:none;\">\n",
              "        \n",
              "  <svg xmlns=\"http://www.w3.org/2000/svg\" height=\"24px\"viewBox=\"0 0 24 24\"\n",
              "       width=\"24px\">\n",
              "    <path d=\"M0 0h24v24H0V0z\" fill=\"none\"/>\n",
              "    <path d=\"M18.56 5.44l.94 2.06.94-2.06 2.06-.94-2.06-.94-.94-2.06-.94 2.06-2.06.94zm-11 1L8.5 8.5l.94-2.06 2.06-.94-2.06-.94L8.5 2.5l-.94 2.06-2.06.94zm10 10l.94 2.06.94-2.06 2.06-.94-2.06-.94-.94-2.06-.94 2.06-2.06.94z\"/><path d=\"M17.41 7.96l-1.37-1.37c-.4-.4-.92-.59-1.43-.59-.52 0-1.04.2-1.43.59L10.3 9.45l-7.72 7.72c-.78.78-.78 2.05 0 2.83L4 21.41c.39.39.9.59 1.41.59.51 0 1.02-.2 1.41-.59l7.78-7.78 2.81-2.81c.8-.78.8-2.07 0-2.86zM5.41 20L4 18.59l7.72-7.72 1.47 1.35L5.41 20z\"/>\n",
              "  </svg>\n",
              "      </button>\n",
              "      \n",
              "  <style>\n",
              "    .colab-df-container {\n",
              "      display:flex;\n",
              "      flex-wrap:wrap;\n",
              "      gap: 12px;\n",
              "    }\n",
              "\n",
              "    .colab-df-convert {\n",
              "      background-color: #E8F0FE;\n",
              "      border: none;\n",
              "      border-radius: 50%;\n",
              "      cursor: pointer;\n",
              "      display: none;\n",
              "      fill: #1967D2;\n",
              "      height: 32px;\n",
              "      padding: 0 0 0 0;\n",
              "      width: 32px;\n",
              "    }\n",
              "\n",
              "    .colab-df-convert:hover {\n",
              "      background-color: #E2EBFA;\n",
              "      box-shadow: 0px 1px 2px rgba(60, 64, 67, 0.3), 0px 1px 3px 1px rgba(60, 64, 67, 0.15);\n",
              "      fill: #174EA6;\n",
              "    }\n",
              "\n",
              "    [theme=dark] .colab-df-convert {\n",
              "      background-color: #3B4455;\n",
              "      fill: #D2E3FC;\n",
              "    }\n",
              "\n",
              "    [theme=dark] .colab-df-convert:hover {\n",
              "      background-color: #434B5C;\n",
              "      box-shadow: 0px 1px 3px 1px rgba(0, 0, 0, 0.15);\n",
              "      filter: drop-shadow(0px 1px 2px rgba(0, 0, 0, 0.3));\n",
              "      fill: #FFFFFF;\n",
              "    }\n",
              "  </style>\n",
              "\n",
              "      <script>\n",
              "        const buttonEl =\n",
              "          document.querySelector('#df-c7558b4a-83ea-42c2-8106-9d0c081b0a53 button.colab-df-convert');\n",
              "        buttonEl.style.display =\n",
              "          google.colab.kernel.accessAllowed ? 'block' : 'none';\n",
              "\n",
              "        async function convertToInteractive(key) {\n",
              "          const element = document.querySelector('#df-c7558b4a-83ea-42c2-8106-9d0c081b0a53');\n",
              "          const dataTable =\n",
              "            await google.colab.kernel.invokeFunction('convertToInteractive',\n",
              "                                                     [key], {});\n",
              "          if (!dataTable) return;\n",
              "\n",
              "          const docLinkHtml = 'Like what you see? Visit the ' +\n",
              "            '<a target=\"_blank\" href=https://colab.research.google.com/notebooks/data_table.ipynb>data table notebook</a>'\n",
              "            + ' to learn more about interactive tables.';\n",
              "          element.innerHTML = '';\n",
              "          dataTable['output_type'] = 'display_data';\n",
              "          await google.colab.output.renderOutput(dataTable, element);\n",
              "          const docLink = document.createElement('div');\n",
              "          docLink.innerHTML = docLinkHtml;\n",
              "          element.appendChild(docLink);\n",
              "        }\n",
              "      </script>\n",
              "    </div>\n",
              "  </div>\n",
              "  "
            ]
          },
          "metadata": {},
          "execution_count": 120
        }
      ]
    },
    {
      "cell_type": "markdown",
      "source": [
        "# 📝 7. Выводы"
      ],
      "metadata": {
        "id": "4Y3PukQaBBK-"
      }
    },
    {
      "cell_type": "markdown",
      "source": [
        "- Период исследования данных 1 год и 31 день, с 2018 октября по 2019 октября.В среднем в нашем магазине покупают 1.5 шт товара, при стоимости товара 188 руб, на общую сумму 239 руб. **75% покупателей тратят в нашем магазине не более 188 рублей**. В день к нам приходят 6 покупателей, в неделю 43, а в год 189 покупателей в среднем.\n",
        " \n",
        "- Больше всего покупателей приходят в апреле и мае, это связано с сезоном, так как в нашем магазине широкий ассортимент категории растения. В Январе самый маленький поток покупателей. В наш магазин ходят в рабочие дни, особенно в понедельник, в выходные и пятницу ходят меньше. Похоже что это связано с тем что наши клиенты это садоводы, и выходные они проводят на своих участках.\n",
        " \n",
        "- Попытка выделить оптовых покупателей из таблицы, привела к тому мы получили некоторый список клиентов (всего их 7), которые покупают на большие суммы. Все они вынесены в отдельную таблицу, с ними нужно проработать индивидуально и предложить особые условия.\n",
        " \n",
        "> Товар разделен на 4 категории: растения/интерьер/хозтовары/хранение\n",
        "- **Категория растения** преобладает в весенний период. Категория лидер по выручке, но имеет самый низкий средний чек. Имеет ярко выраженную сезонность.\n",
        "- **Хранение**, выручка за год почти такая же как у категории растения, самый высокий средний чек. Имеет ярко выраженную сезонность.\n",
        "- **Хозтовары и интерьер** почти равны по выручке, однако средний чек заметно отличается. Не имеет яркой сезонности.\n",
        " \n",
        "- **RFM анализ** выявил главное в исследовании:\n",
        " **в наш магазин приходят покупают один раз и не возвращаются**\n",
        "==== \n",
        "- Это повод задуматься, прежде чем что то делать с клиентами и пытаться их вернуть, нужно посмотреть внутри магазина там явно что то не так. Например в апреле и мае все хорошо потому что сезон посадки, нужно придумывать что делать в остальные месяцы.\n",
        " \n",
        "- **ABC анализ** выявил, что мы имеем слишком широкий ассортимент в группе АА(где категория хранение и растения лидеры), которая приносит нам основную прибыль. Следует уменьшить ассортимент.\n",
        " \n",
        "- **XYZ анализ** показал, товары из категории Z следует закупать меньше или не покупать вовсе, при том категори Y необходимо расширить.\n",
        " \n",
        "- Кластеризация выявила что 2 й кластер имеет 100% вероятность повторной покупки, среднее количество товара 2, средний чек 489 руб, с товаром из категории XYZ со средним значением 21% (средний спрос на товар), следует более детально изучать 2 й кластер.\n",
        " \n",
        "> Гипотеза о равенстве средних выручек категорий \"хранение\" и \"хозтовар\", **не подтвердилась.**\n",
        " \n",
        "> Гипотеза о равенстве средних выручек покупателей в мае и апреле, **подтвердилась.**\n"
      ],
      "metadata": {
        "id": "qlGGA8yPBkzd"
      }
    },
    {
      "cell_type": "markdown",
      "source": [
        "# 💬 Заключение"
      ],
      "metadata": {
        "id": "UpbGxdBQBMko"
      }
    },
    {
      "cell_type": "markdown",
      "source": [
        "## Что сделано:\n",
        "- Получены данные магазина по продаже хозяйственных товаров и рассады. Файл содержит 5 столбцов, 6737 строк, пропуски отсутствуют. К таблице была добавлена колонка с расчетов выручки revenue. Явных дубликатов не обнаружено, однако при проверке на дубликаты без колонки date, видим что один и тот же покупатель у него одинаковый номер заказа, стоимость, количество и выручка также совпадают. Разное только время. Такие повторы были удалены. \n",
        " \n",
        "- Поиск дубликатов среди '**customer_id**' и '**order_id**', выявил 29 дубликатов. Выяснилось что это ошибка, так как один заказ содержал одинаковые поля, кроме поля customer_id. Получается что заказ один, а клиентов много, самый яркий пример где 4 разных клиента я вывел ниже. Принято решение удалить.\n",
        " \n",
        "- В таблице были клиенты, 7 человек, которые сделали большое количество заказов, на внушительную сумму по отношению к другим пользователям. Их количество не превысило 1% от общего числа, была создана отдельная таблица **opt_df**.\n",
        " \n",
        "- Требовалось создать категории товара для дальнейшего анализа. Чтобы сделать категории товаров, взяли первое слово из колонки product, создали цикл где нам будет выводится слово, мы будем вручную для него определять категорию. Мы получили 7 категорий, которые сильно отличаются друг от друга по количеству позиций товара, а также выручкой. Принято решение объединить категории чтобы осталось 4, так как это учебный проект. В жизни я бы поделил их на еще большее количество категорий, для более детального изучения.\n",
        " \n",
        "- Для RFM анализа была сделана таблица profiles по id, дате первого заказа, выручке, сколько дней прошло с последней покупки, количество заказов.\n",
        " \n",
        "- ABC и XYZ анализ, сделан по категориям, то есть в каждой категории независимо от других категорий свое ранжирование товара. \"A\">\"B\">\"C\" где \"А\" товар который попадает в 80% от общей выручки категории, \"В\" в диапазоне 15% от общей выручки и \"С\" в 5% всей выручки категории. Вторая буква означает количество проданного товара от общего числа проданного товара в категории. Стабильность спроса на товар \"X\"<\"Y\"<\"Z\" чем меньше значение, тем более стабильный спрос. \"Х\"<15% стабильный спрос, \"Y\"<25% нормальный спрос, 25%>\"Z\" низкий спрос.\n",
        " \n",
        "- Для определения кластеров создана отдельная таблица ml с цифровыми значениями. Введена доп переменная, если клиент купил более 1 раза(так как абсолютное большинство клиентов покупает у нас 1 раз), то все хорошо и он \"постоянный\" == 1, если купил один раз будем считать что это отток == 0. На основании дендрограммы выделено 4 кластера. \n",
        " \n",
        "- Проверены две гипотезы, распределение в группах не нормально, доказано на qqplot. Для проведения теста выбран критерий Стьюдента.\n",
        "\n",
        "\n",
        "\n",
        "\n",
        "\n"
      ],
      "metadata": {
        "id": "PTxZXS4tBkvI"
      }
    },
    {
      "cell_type": "code",
      "source": [
        "df.to_csv('data_diplom.csv')"
      ],
      "metadata": {
        "id": "KglUSbCdM_WL"
      },
      "execution_count": null,
      "outputs": []
    },
    {
      "cell_type": "code",
      "source": [],
      "metadata": {
        "id": "NbQxBkXSN760"
      },
      "execution_count": null,
      "outputs": []
    }
  ]
}
